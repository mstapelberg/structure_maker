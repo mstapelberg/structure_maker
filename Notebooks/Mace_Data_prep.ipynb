{
 "cells": [
  {
   "cell_type": "code",
   "execution_count": 1,
   "metadata": {},
   "outputs": [],
   "source": [
    "# libraries\n",
    "from ase.io import read, write\n",
    "from pymatgen.io.ase import AseAtomsAdaptor\n",
    "from pymatgen.io.vasp import Poscar, Outcar\n",
    "import sys, os, json \n",
    "\n",
    "sys.path.append('../Modules')"
   ]
  },
  {
   "cell_type": "code",
   "execution_count": 3,
   "metadata": {},
   "outputs": [],
   "source": [
    "from VASPDataParser import VASPDataParser"
   ]
  },
  {
   "cell_type": "code",
   "execution_count": 4,
   "metadata": {},
   "outputs": [],
   "source": [
    "# get all the folders from CE_Vasp_Jobs_T3\n",
    "\n",
    "data_path = '../Archived_Vasp_Jobs/CE_Vasp_Jobs_T3'\n",
    "\n",
    "# get all the folders from CE_Vasp_Jobs_T3\n",
    "folders = [x[0] for x in os.walk(data_path)]\n"
   ]
  },
  {
   "cell_type": "code",
   "execution_count": null,
   "metadata": {},
   "outputs": [],
   "source": [
    "# need to handle the situation where i have ionic steps, create a structure, energy, force dictionary entry for each ionic step\n",
    "data = {}\n",
    "for folder in folders:\n",
    "    parser = VASPDataParser()\n",
    "    structures = parser.get_structures(os.path.join(folder, 'XDATCAR'))\n",
    "    energies = parser.get_energy_without_entropy(os.path.join(folder, 'OUTCAR'))\n",
    "    forces = parser.get_forces(os.path.join(folder, 'OUTCAR'))\n",
    "    if 'OUTCAR-original' in os.listdir(folder):\n",
    "        og_structures = parser.get_structures(os.path.join(folder, 'XDATCAR-original'))\n",
    "        og_energies = parser.get_energy_without_entropy(os.path.join(folder, 'OUTCAR-original'))\n",
    "        og_forces = parser.get_forces(os.path.join(folder, 'OUTCAR-original'))\n",
    "        structures = og_structures + structures\n",
    "        energies = og_energies + energies\n",
    "        forces = og_forces + forces\n",
    "    \n",
    "    # strip the number from the folder name \n",
    "    folder_name = folder.split('/')[-1]\n",
    "    data[str(folder_name)] = {'structures': structures, 'energies': energies, 'forces': forces}\n",
    "    \n",
    "    \n",
    "\n"
   ]
  },
  {
   "cell_type": "code",
   "execution_count": 6,
   "metadata": {},
   "outputs": [],
   "source": [
    "# for each folder in CE_Vasp_Jobs_T3, check if the \n",
    "test_path = '../Archived_Vasp_Jobs/CE_Vasp_Jobs_T3/job_180'\n",
    "\n",
    "# define VASPDataParser object\n",
    "data_parser = VASPDataParser()\n",
    "\n",
    "og_structures = data_parser.get_structures(os.path.join(test_path,'XDATCAR-original'))\n",
    "# read the original XDATCAR and OUTCAR file\n",
    "og_energies = data_parser.get_energy_without_entropy(os.path.join(test_path,'OUTCAR-original'))\n",
    "og_forces = data_parser.get_forces(os.path.join(test_path,'OUTCAR-original'))"
   ]
  },
  {
   "cell_type": "code",
   "execution_count": 11,
   "metadata": {},
   "outputs": [],
   "source": [
    "structures = data_parser.get_structures(os.path.join(test_path,'XDATCAR'))\n",
    "energies = data_parser.get_energy_without_entropy(os.path.join(test_path,'OUTCAR'))\n",
    "forces = data_parser.get_forces(os.path.join(test_path,'OUTCAR'))"
   ]
  },
  {
   "cell_type": "code",
   "execution_count": 12,
   "metadata": {},
   "outputs": [
    {
     "name": "stdout",
     "output_type": "stream",
     "text": [
      "12\n",
      "12\n",
      "12\n"
     ]
    }
   ],
   "source": [
    "print(len(structures))\n",
    "print(len(energies))\n",
    "print(len(forces))"
   ]
  },
  {
   "cell_type": "code",
   "execution_count": 3,
   "metadata": {},
   "outputs": [
    {
     "name": "stdout",
     "output_type": "stream",
     "text": [
      "[[-0.00183, 0.01887, 0.02349], [0.01887, 0.0121, -0.01515], [0.02349, -0.01515, -0.02325]]\n"
     ]
    }
   ],
   "source": [
    "import sys \n",
    "sys.path.append('../Modules')\n",
    "from VASPDataParser import VASPDataParser\n",
    "\n",
    "# define VASPDataParser object\n",
    "data_parser = VASPDataParser()\n",
    "\n",
    "# parse an outcar file \n",
    "outcar_path = '../Archived_Vasp_Jobs/VCrTiWZr_Summit/supercell_gen4_comp52_struct3_vac_site3_start/OUTCAR-4'\n",
    "\n",
    "# get the stress tensor \n",
    "stress_tensor = data_parser.get_stresses(outcar_path, si_unit=False)\n",
    "\n",
    "print(stress_tensor[-1])"
   ]
  },
  {
   "cell_type": "code",
   "execution_count": 10,
   "metadata": {},
   "outputs": [
    {
     "name": "stdout",
     "output_type": "stream",
     "text": [
      "Equivalent k-points grid: 6 x 6 x 6\n"
     ]
    }
   ],
   "source": [
    "import numpy as np\n",
    "\n",
    "def calculate_kpoints(lattice_vectors, kspacing):\n",
    "    \"\"\"\n",
    "    Calculate the equivalent N x N x N k-point grid for a given KSPACING.\n",
    "\n",
    "    Parameters:\n",
    "    lattice_vectors (np.array): 3x3 array of lattice vectors (rows) in Å.\n",
    "    kspacing (float): KSPACING value in Å^-1.\n",
    "\n",
    "    Returns:\n",
    "    np.array: The number of k-points in each direction (N1, N2, N3).\n",
    "    \"\"\"\n",
    "    # Calculate reciprocal lattice vectors\n",
    "    rec_lattice_vectors = 2 * np.pi * np.linalg.inv(lattice_vectors).T\n",
    "\n",
    "    # Calculate the magnitude of each reciprocal lattice vector\n",
    "    b_lengths = np.linalg.norm(rec_lattice_vectors, axis=1)\n",
    "\n",
    "    # Calculate the number of k-points in each direction\n",
    "    kpoints = np.floor(b_lengths / kspacing + 0.5).astype(int)\n",
    "\n",
    "    return kpoints\n",
    "\n",
    "# Example lattice vectors (in Å)\n",
    "lattice_vectors = np.array([\n",
    "    [5.0, 0.0, 0.0],\n",
    "    [0.0, 5.0, 0.0],\n",
    "    [0.0, 0.0, 5.0]\n",
    "])\n",
    "\n",
    "lattice_vectors = np.array([\n",
    "    [9.906341000, 0.000216000, -3.497101000],\n",
    "    [-4.950387000, 8.548172000, -3.489774000],\n",
    "    [-0.008758000, -0.006193000, 10.466536000]])\n",
    "\n",
    "# Example KSPACING value\n",
    "kspacing = 0.12\n",
    "\n",
    "# Calculate equivalent k-points\n",
    "kpoints = calculate_kpoints(lattice_vectors, kspacing)\n",
    "print(f\"Equivalent k-points grid: {kpoints[0]} x {kpoints[1]} x {kpoints[2]}\")"
   ]
  }
 ],
 "metadata": {
  "kernelspec": {
   "display_name": "smol",
   "language": "python",
   "name": "python3"
  },
  "language_info": {
   "codemirror_mode": {
    "name": "ipython",
    "version": 3
   },
   "file_extension": ".py",
   "mimetype": "text/x-python",
   "name": "python",
   "nbconvert_exporter": "python",
   "pygments_lexer": "ipython3",
   "version": "3.10.0"
  }
 },
 "nbformat": 4,
 "nbformat_minor": 2
}
