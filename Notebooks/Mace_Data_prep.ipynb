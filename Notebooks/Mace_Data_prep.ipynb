{
 "cells": [
  {
   "cell_type": "code",
   "execution_count": 3,
   "metadata": {},
   "outputs": [],
   "source": [
    "# libraries\n",
    "from ase.io import read, write\n",
    "from pymatgen.io.ase import AseAtomsAdaptor\n",
    "from pymatgen.io.vasp import Poscar, Outcar\n",
    "import sys, os, json \n",
    "\n",
    "sys.path.append('../Modules')"
   ]
  },
  {
   "cell_type": "code",
   "execution_count": 4,
   "metadata": {},
   "outputs": [],
   "source": [
    "from VASPDataParser import VASPDataParser"
   ]
  },
  {
   "cell_type": "code",
   "execution_count": 5,
   "metadata": {},
   "outputs": [],
   "source": [
    "# get all the folders from CE_Vasp_Jobs_T3\n",
    "\n",
    "data_path = '../Archived_Vasp_Jobs/CE_Vasp_Jobs_T3'\n",
    "\n",
    "# get all the folders from CE_Vasp_Jobs_T3\n",
    "folders = [x[0] for x in os.walk(data_path)]\n"
   ]
  },
  {
   "cell_type": "code",
   "execution_count": 7,
   "metadata": {},
   "outputs": [],
   "source": [
    "# for each folder in CE_Vasp_Jobs_T3, check if the \n",
    "test_path = '../Archived_Vasp_Jobs/CE_Vasp_Jobs_T3/job_180'\n",
    "\n",
    "# define VASPDataParser object\n",
    "data_parser = VASPDataParser()\n",
    "\n",
    "og_structures = data_parser.get_structures(os.path.join(test_path,'XDATCAR-original'))\n",
    "# read the original XDATCAR and OUTCAR file\n",
    "og_energies = data_parser.get_energy_without_entropy(os.path.join(test_path,'OUTCAR-original'))\n",
    "og_forces = data_parser.get_forces(os.path.join(test_path,'OUTCAR-original'))"
   ]
  },
  {
   "cell_type": "code",
   "execution_count": 11,
   "metadata": {},
   "outputs": [],
   "source": [
    "structures = data_parser.get_structures(os.path.join(test_path,'XDATCAR'))\n",
    "energies = data_parser.get_energy_without_entropy(os.path.join(test_path,'OUTCAR'))\n",
    "forces = data_parser.get_forces(os.path.join(test_path,'OUTCAR'))"
   ]
  },
  {
   "cell_type": "code",
   "execution_count": 12,
   "metadata": {},
   "outputs": [
    {
     "name": "stdout",
     "output_type": "stream",
     "text": [
      "12\n",
      "12\n",
      "12\n"
     ]
    }
   ],
   "source": [
    "print(len(structures))\n",
    "print(len(energies))\n",
    "print(len(forces))"
   ]
  }
 ],
 "metadata": {
  "kernelspec": {
   "display_name": "smol",
   "language": "python",
   "name": "python3"
  },
  "language_info": {
   "codemirror_mode": {
    "name": "ipython",
    "version": 3
   },
   "file_extension": ".py",
   "mimetype": "text/x-python",
   "name": "python",
   "nbconvert_exporter": "python",
   "pygments_lexer": "ipython3",
   "version": "3.10.0"
  }
 },
 "nbformat": 4,
 "nbformat_minor": 2
}
