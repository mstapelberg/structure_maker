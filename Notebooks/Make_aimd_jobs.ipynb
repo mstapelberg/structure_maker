{
 "cells": [
  {
   "cell_type": "code",
   "execution_count": 1,
   "metadata": {},
   "outputs": [],
   "source": [
    "import os\n",
    "import json\n",
    "import sys\n",
    "import numpy as np\n",
    "import random\n",
    "from smol.io import load_work\n",
    "from pymatgen.core.structure import Structure\n",
    "from pymatgen.entries.computed_entries import ComputedStructureEntry\n",
    "from pymatgen.io.vasp.inputs import Poscar\n",
    "from ase.db import connect\n",
    "from ase.io import write\n",
    "from ase.visualize import view\n",
    "\n",
    "sys.path.append('../Modules')\n",
    "from structure_generation import * \n",
    "from vasp_misc import *\n"
   ]
  },
  {
   "cell_type": "markdown",
   "metadata": {},
   "source": [
    "# First Create Jobs for Convergence Check"
   ]
  },
  {
   "cell_type": "markdown",
   "metadata": {},
   "source": [
    "## functions for job creation"
   ]
  },
  {
   "cell_type": "code",
   "execution_count": 2,
   "metadata": {},
   "outputs": [],
   "source": [
    "from pymatgen.core import Lattice, Structure\n",
    "# make a vanadium super cell change the comp list to get the stuff done right \n",
    "comp_list = [{'V' : 1}]\n",
    "a = 3.01\n",
    "#supercell = create_cca_primitive(comp_list, a, prim=True) * (4,4,4)\n",
    "lattice_vectors = [\n",
    "            [0.5 * a, 0.5 * a, 0.5 * -a],\n",
    "            [0.5 * a, 0.5 * -a, 0.5 * a],\n",
    "            [0.5 * -a, 0.5 * a, 0.5 * a]\n",
    "        ]\n",
    "\n",
    "        # Create the lattice\n",
    "lattice = Lattice(lattice_vectors)\n",
    "        # Initialize the structure with the same composition for each of the two sites\n",
    "structure = Structure(lattice, comp_list, [[0,0,0]]) * (4 , 4 , 4)"
   ]
  },
  {
   "cell_type": "code",
   "execution_count": 3,
   "metadata": {},
   "outputs": [],
   "source": [
    "# save the structure to the v_path \n",
    "v_path = '../Archived_Vasp_Jobs/AIMD/V' \n",
    "if not os.path.exists(v_path):\n",
    "    os.makedirs(v_path)\n",
    "\n",
    "# write the structure to the v_path\n",
    "poscar = Poscar(structure)\n",
    "poscar.write_file(os.path.join(v_path, 'POSCAR'))"
   ]
  },
  {
   "cell_type": "code",
   "execution_count": null,
   "metadata": {},
   "outputs": [],
   "source": [
    "v_path = '../Archived_Vasp_Jobs/AIMD/V'\n",
    "# check if path exist\n",
    "if not os.path.exists(v_path):\n",
    "    os.makedirs(v_path)\n",
    "v_kpoints_path = os.path.join(v_path, 'ENCUT')\n",
    "# create vasp job from the structure \n",
    "\n",
    "# create a list of incar parameters \n",
    "encut_test_incar = {}\n",
    "incar_params = {\n",
    "        'System': 'ENCUT test',\n",
    "        'ENCUT': 300,\n",
    "        'EDIFF': 1e-6,\n",
    "        'ISMEAR': 0,\n",
    "        'SIGMA': 0.05,\n",
    "        'IBRION': -1,\n",
    "        'NSW': 0,\n",
    "        'ISIF': 2,\n",
    "        'ICHARG': 2,\n",
    "        'LREAL': 'Auto',\n",
    "        'LWAVE': False,\n",
    "        'LCHARG': False,\n",
    "    }\n",
    "\n",
    "encuts = np.arange(200, 1000, 100)\n",
    "for encut in encuts:\n",
    "    incar_params['ENCUT'] = encut\n",
    "    job_path = os.path.join(v_path, \"_\"+str(encut))\n",
    "    make_vasp_job(structure, job_path=job_path, kpoints = (4, 4, 4), vol_relax=False, incar_params = encut_test_incar)"
   ]
  },
  {
   "cell_type": "code",
   "execution_count": null,
   "metadata": {},
   "outputs": [],
   "source": [
    "v_path = '../Archived_Vasp_Jobs/AIMD/V'\n",
    "# check if path exist\n",
    "if not os.path.exists(v_path):\n",
    "    os.makedirs(v_path)\n",
    "v_kpoints_path = os.path.join(v_path, 'KPOINTS')\n",
    "# create vasp job from the structure \n",
    "\n",
    "# create a list of incar parameters \n",
    "\n",
    "\n",
    "kpoints = [1,2,3,4,5,6]\n",
    "for kpoint in kpoints:\n",
    "    job_path = os.path.join(v_path, \"_\"+str(kpoint))\n",
    "    make_vasp_job(structure, job_path=job_path, kpoints = (kpoint, kpoint, kpoint), vol_relax=False, incar_params = kpoint_test_incar)"
   ]
  },
  {
   "cell_type": "markdown",
   "metadata": {},
   "source": [
    "## Encut, KPOINTS, lattice"
   ]
  },
  {
   "cell_type": "code",
   "execution_count": null,
   "metadata": {},
   "outputs": [],
   "source": [
    "# create "
   ]
  }
 ],
 "metadata": {
  "kernelspec": {
   "display_name": "smol",
   "language": "python",
   "name": "python3"
  },
  "language_info": {
   "codemirror_mode": {
    "name": "ipython",
    "version": 3
   },
   "file_extension": ".py",
   "mimetype": "text/x-python",
   "name": "python",
   "nbconvert_exporter": "python",
   "pygments_lexer": "ipython3",
   "version": "3.10.0"
  }
 },
 "nbformat": 4,
 "nbformat_minor": 2
}
