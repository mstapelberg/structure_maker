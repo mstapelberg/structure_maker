{
 "cells": [
  {
   "cell_type": "code",
   "execution_count": 2,
   "metadata": {},
   "outputs": [
    {
     "name": "stderr",
     "output_type": "stream",
     "text": [
      "/opt/homebrew/Caskroom/miniforge/base/envs/allegro/lib/python3.10/site-packages/nequip/__init__.py:20: UserWarning: !! PyTorch version 1.13.1 found. Upstream issues in PyTorch versions 1.13.* and 2.* have been seen to cause unusual performance degredations on some CUDA systems that become worse over time; see https://github.com/mir-group/nequip/discussions/311. The best tested PyTorch version to use with CUDA devices is 1.11; while using other versions if you observe this problem, an unexpected lack of this problem, or other strange behavior, please post in the linked GitHub issue.\n",
      "  warnings.warn(\n"
     ]
    }
   ],
   "source": [
    "from nequip.ase import NequIPCalculator\n",
    "from pymatgen.io.ase import AseAtomsAdaptor\n",
    "from ase.filters import UnitCellFilter \n",
    "from ase.constraints import FixAtoms\n",
    "from ase.io import Trajectory\n",
    "import pickle\n",
    "from ase.atoms import Atoms, units \n",
    "import numpy as np \n",
    "import json, os\n",
    "from ase.optimize import LBFGS \n",
    "from pymatgen.core import Structure \n",
    "\n",
    "class TrajectoryObserver:\n",
    "    \"\"\"Trajectory observer is a hook in the relaxation process that saves the\n",
    "    intermediate structures.\n",
    "    \"\"\"\n",
    "\n",
    "    # thanks to CHGNet and M3GNET teams\n",
    "\n",
    "    def __init__(self, atoms: Atoms) -> None:\n",
    "        \"\"\"Create a TrajectoryObserver from an Atoms object.\n",
    "\n",
    "        Args:\n",
    "            atoms (Atoms): the structure to observe.\n",
    "        \"\"\"\n",
    "        self.atoms = atoms\n",
    "        self.energies: list[float] = []\n",
    "        self.forces: list[np.ndarray] = []\n",
    "        #self.stresses: list[np.ndarray] = []\n",
    "        #self.magmoms: list[np.ndarray] = []\n",
    "        self.atom_positions: list[np.ndarray] = []\n",
    "        self.cells: list[np.ndarray] = []\n",
    "\n",
    "    def __call__(self) -> None:\n",
    "        \"\"\"The logic for saving the properties of an Atoms during the relaxation.\"\"\"\n",
    "        self.energies.append(self.compute_energy())\n",
    "        self.forces.append(self.atoms.get_forces())\n",
    "        #self.stresses.append(self.atoms.get_stress())\n",
    "        #self.magmoms.append(self.atoms.get_magnetic_moments())\n",
    "        self.atom_positions.append(self.atoms.get_positions())\n",
    "        self.cells.append(self.atoms.get_cell()[:])\n",
    "\n",
    "    def __len__(self) -> int:\n",
    "        \"\"\"The number of steps in the trajectory.\"\"\"\n",
    "        return len(self.energies)\n",
    "\n",
    "    def compute_energy(self) -> float:\n",
    "        \"\"\"Calculate the potential energy.\n",
    "\n",
    "        Returns:\n",
    "            energy (float): the potential energy.\n",
    "        \"\"\"\n",
    "        return self.atoms.get_potential_energy()\n",
    "\n",
    "    def save(self, filename: str) -> None:\n",
    "        \"\"\"Save the trajectory to file.\n",
    "\n",
    "        Args:\n",
    "            filename (str): filename to save the trajectory\n",
    "        \"\"\"\n",
    "        out_pkl = {\n",
    "            \"energy\": self.energies,\n",
    "            \"forces\": self.forces,\n",
    "            #\"stresses\": self.stresses,\n",
    "            #\"magmoms\": self.magmoms,\n",
    "            \"atom_positions\": self.atom_positions,\n",
    "            \"cell\": self.cells,\n",
    "            \"atomic_number\": self.atoms.get_atomic_numbers(),\n",
    "        }\n",
    "        with open(filename, \"wb\") as file:\n",
    "            pickle.dump(out_pkl, file)\n",
    "\n",
    "\n",
    "def allegro_relaxer(atoms, potential_path, species, device='cpu', fmax = 0.01, steps = 250, verbose=False, relax_cell=True, loginterval=1):\n",
    "    atoms.calc = NequIPCalculator.from_deployed_model(\n",
    "        model_path=potential_path,\n",
    "        species_to_type_name = species\n",
    "    )\n",
    "    \n",
    "    if relax_cell:\n",
    "        ucf = UnitCellFilter(atoms)\n",
    "        obs = TrajectoryObserver(ucf)\n",
    "        optimizer = LBFGS(ucf)\n",
    "        optimizer.attach(obs, interval=loginterval)\n",
    "        \n",
    "    else:\n",
    "        constraints = FixAtoms(mask=[False] * len(atoms))  # Allow all atoms to move\n",
    "        # Add constraints to atoms\n",
    "        atoms.set_constraint(constraints)\n",
    "\n",
    "        obs = TrajectoryObserver(atoms)\n",
    "        optimizer = LBFGS(atoms)\n",
    "        optimizer.attach(obs, interval=loginterval)\n",
    "    \n",
    "    optimizer.run(fmax=fmax, steps=steps)\n",
    "    struct = AseAtomsAdaptor.get_structure(atoms)\n",
    "    return {\"final_structure\" : struct, \"trajectory\" : obs}\n",
    "\n",
    "def numeric_stress(atoms, d=1e-6, voigt=True):\n",
    "    stress = np.zeros((3, 3), dtype=float)\n",
    "\n",
    "    cell = atoms.cell.copy()\n",
    "    V = atoms.get_volume()\n",
    "    for i in range(3):\n",
    "        x = np.eye(3)\n",
    "        x[i, i] += d\n",
    "        atoms.set_cell(np.dot(cell, x), scale_atoms=True)\n",
    "        eplus = atoms.get_potential_energy(force_consistent=True)\n",
    "\n",
    "        x[i, i] -= 2 * d\n",
    "        atoms.set_cell(np.dot(cell, x), scale_atoms=True)\n",
    "        eminus = atoms.get_potential_energy(force_consistent=True)\n",
    "\n",
    "        stress[i, i] = (eplus - eminus) / (2 * d * V)\n",
    "        x[i, i] += d\n",
    "\n",
    "        j = i - 2\n",
    "        x[i, j] = d\n",
    "        x[j, i] = d\n",
    "        atoms.set_cell(np.dot(cell, x), scale_atoms=True)\n",
    "        eplus = atoms.get_potential_energy(force_consistent=True)\n",
    "\n",
    "        x[i, j] = -d\n",
    "        x[j, i] = -d\n",
    "        atoms.set_cell(np.dot(cell, x), scale_atoms=True)\n",
    "        eminus = atoms.get_potential_energy(force_consistent=True)\n",
    "\n",
    "        stress[i, j] = (eplus - eminus) / (4 * d * V)\n",
    "        stress[j, i] = stress[i, j]\n",
    "    atoms.set_cell(cell, scale_atoms=True)\n",
    "\n",
    "    if voigt:\n",
    "        return stress.flat[[0, 4, 8, 5, 2, 1]]\n",
    "    else:\n",
    "        return stress\n",
    "\n",
    "def np_numeric_stress(atoms, d=1e-6, voigt=True):\n",
    "    stress = np.zeros((3, 3), dtype=float)\n",
    "    cell = atoms.cell.copy()\n",
    "    V = atoms.get_volume()\n",
    "\n",
    "    for i in range(3):\n",
    "        x = np.eye(3)\n",
    "        x[i, i] += d\n",
    "        atoms.set_cell(np.dot(cell, x), scale_atoms=True)\n",
    "        eplus = atoms.get_potential_energy(force_consistent=True)\n",
    "        \n",
    "        x[i, i] -= 2 * d\n",
    "        atoms.set_cell(np.dot(cell, x), scale_atoms=True)\n",
    "        eminus = atoms.get_potential_energy(force_consistent=True)\n",
    "        \n",
    "        stress[i, i] = (eplus - eminus) / (2 * d * V)\n",
    "        x[i, i] += d\n",
    "        \n",
    "        for j in range(i + 1, 3):\n",
    "            x[i, j] = d\n",
    "            x[j, i] = d\n",
    "            atoms.set_cell(np.dot(cell, x), scale_atoms=True)\n",
    "            eplus = atoms.get_potential_energy(force_consistent=True)\n",
    "            \n",
    "            x[i, j] = -d\n",
    "            x[j, i] = -d\n",
    "            atoms.set_cell(np.dot(cell, x), scale_atoms=True)\n",
    "            eminus = atoms.get_potential_energy(force_consistent=True)\n",
    "            \n",
    "            stress[i, j] = (eplus - eminus) / (4 * d * V)\n",
    "            stress[j, i] = stress[i, j]\n",
    "    \n",
    "    atoms.set_cell(cell, scale_atoms=True)\n",
    "\n",
    "    return stress"
   ]
  },
  {
   "cell_type": "code",
   "execution_count": 3,
   "metadata": {},
   "outputs": [],
   "source": [
    "# test the relaxing function\n",
    "#load all the structures\n",
    "# on pc\n",
    "data_path = '../Visualization/Job_Structures/Post_VASP/VCrTiWZr_Summit/gen_0_4/Vacancies/converted_vcrtiwzr_gen_0_4_vacancies_data.json'\n",
    "# on mac \n",
    "data_path = '../Visualization/Job_Structures/Post_VASP/VCrTiWZr_Summit/Vacancies/converted_vcrtiwzr_gen_0_4_vacancies_data.json'\n",
    "data = json.load(open(data_path, 'r'))"
   ]
  },
  {
   "cell_type": "code",
   "execution_count": 4,
   "metadata": {},
   "outputs": [],
   "source": [
    "species = {\n",
    "            \"Ti\": \"NequIPTypeNameForTitanium\",\n",
    "            \"V\": \"NequIPTypeNameForVanadium\",\n",
    "            \"Cr\" : \"NequIPTypeNameForChromium\",\n",
    "            \"Zr\" : \"NequIPTypeNameForZirconium\",\n",
    "            \"W\" : \"NequIPTypeNameForTungsten\",\n",
    "        }\n",
    "\n",
    "species = {\"Ti\" : \"Ti\", \"V\" : \"V\", \"Cr\" : \"Cr\", \"Zr\" : \"Zr\", \"W\" : \"W\"}"
   ]
  },
  {
   "cell_type": "code",
   "execution_count": 5,
   "metadata": {},
   "outputs": [],
   "source": [
    "# get a structure \n",
    "structure = Structure.from_dict(data['supercell_gen0_comp11_struct3_vac_site3_start']['structures'][-1])\n",
    "test_energy = data['supercell_gen0_comp11_struct3_vac_site3_start']['energies'][-1]\n",
    "test_forces = data['supercell_gen0_comp11_struct3_vac_site3_start']['forces'][-1] \n",
    "test_stress = np.array(data['supercell_gen0_comp11_struct3_vac_site3_start']['stresses'][-1])\n",
    "\n",
    "atoms = AseAtomsAdaptor.get_atoms(structure)"
   ]
  },
  {
   "cell_type": "code",
   "execution_count": 20,
   "metadata": {},
   "outputs": [],
   "source": [
    "from pymatgen.core import Structure, Lattice\n",
    "from pymatgen.io.vasp.inputs import Poscar \n",
    "\n",
    "# Lattice parameter\n",
    "a = 3.01\n",
    "\n",
    "# Rhombohedral lattice vectors for the primitive cell of a BCC lattice\n",
    "lattice_vectors = [\n",
    "    [0.5 * a, 0.5 * a, -0.5 * a],\n",
    "    [0.5 * a, -0.5 * a, 0.5 * a],\n",
    "    [-0.5 * a, 0.5 * a, 0.5 * a],\n",
    "]\n",
    "\n",
    "# Create the lattice\n",
    "lattice = Lattice(lattice_vectors)\n",
    "\n",
    "# Define the species and position for the single Vanadium atom in the primitive cell\n",
    "species = [\"V\"]\n",
    "position = [0, 0, 0]  # At the origin\n",
    "\n",
    "# Create the structure\n",
    "structure = Structure(lattice, species, [position])\n",
    "for i in range(3,8):\n",
    "    supercell = structure.copy()\n",
    "    supercell.make_supercell([i, i, i])\n",
    "    poscar = Poscar(supercell)\n",
    "    poscar.write_file(f\"new_POSCAR_{i*i*i}_atoms\")\n"
   ]
  },
  {
   "cell_type": "code",
   "execution_count": 6,
   "metadata": {},
   "outputs": [
    {
     "name": "stdout",
     "output_type": "stream",
     "text": [
      "[[-0.02959  0.02115 -0.00338]\n",
      " [ 0.02115 -0.00875  0.01259]\n",
      " [-0.00338  0.01259 -0.00939]]\n"
     ]
    }
   ],
   "source": [
    "print(test_stress)"
   ]
  },
  {
   "cell_type": "code",
   "execution_count": 10,
   "metadata": {},
   "outputs": [
    {
     "name": "stdout",
     "output_type": "stream",
     "text": [
      "[[ 0.01634    -0.01167931  0.00186648]\n",
      " [-0.01167931  0.00483187 -0.00695237]\n",
      " [ 0.00186648 -0.00695237  0.00518528]]\n",
      "[[0.016339995297547327, -0.011679313975773096, 0.0018664813824166937], [-0.011679313975773096, 0.004831867484066885, -0.006952367042788808], [0.0018664813824166937, -0.006952367042788808, 0.0051852840771872055]]\n"
     ]
    }
   ],
   "source": [
    "kb_to_ev_ang_3 = 6.242e-4\n",
    "test_virial = -1 * test_stress * kb_to_ev_ang_3 * structure.volume\n",
    "print(test_virial)\n",
    "print(test_virial.tolist())"
   ]
  },
  {
   "cell_type": "code",
   "execution_count": 13,
   "metadata": {},
   "outputs": [
    {
     "name": "stderr",
     "output_type": "stream",
     "text": [
      "/opt/homebrew/Caskroom/miniforge/base/envs/allegro/lib/python3.10/site-packages/nequip/utils/_global_options.py:62: UserWarning: Setting the GLOBAL value for jit fusion strategy to `[('DYNAMIC', 3)]` which is different than the previous value of `[('STATIC', 2), ('DYNAMIC', 10)]`\n",
      "  warnings.warn(\n",
      "/opt/homebrew/Caskroom/miniforge/base/envs/allegro/lib/python3.10/site-packages/nequip/utils/_global_options.py:108: UserWarning: Setting the GLOBAL value for torch.set_default_dtype to `torch.float64` which is different than the previous value of `torch.float32`\n",
      "  warnings.warn(\n"
     ]
    },
    {
     "name": "stdout",
     "output_type": "stream",
     "text": [
      "-583.4518974178338\n"
     ]
    }
   ],
   "source": [
    "pot_path = '../Potentials/vcrtiwzr_vac_deployed.pth'\n",
    "#relax_endpoint = allegro_relaxer(atoms, potential_path= pot_path , species = species , relax_cell= False)\n",
    "atoms.calc = NequIPCalculator.from_deployed_model(\n",
    "        model_path=pot_path,\n",
    "        species_to_type_name = species\n",
    "    )\n",
    "\n",
    "print(atoms.get_potential_energy())\n"
   ]
  },
  {
   "cell_type": "code",
   "execution_count": null,
   "metadata": {},
   "outputs": [],
   "source": [
    "nums = np.logspace(-7, 2, num=9)\n",
    "for num in nums:\n",
    "    stress = numeric_stress(atoms, d=num, voigt=False)\n",
    "    #print(stress)\n",
    "    #print(np.linalg.norm(stress - test_stress))\n",
    "    mag_dif = np.abs(stress - test_stress)\n",
    "    print(\"Step = \", num)\n",
    "    print(mag_dif)\n",
    "    #print(\"\\n\")\n",
    "    "
   ]
  },
  {
   "cell_type": "code",
   "execution_count": 72,
   "metadata": {},
   "outputs": [
    {
     "name": "stdout",
     "output_type": "stream",
     "text": [
      "Time for numeric_stress: 2.0849 seconds\n",
      "Time for np_numeric_stress: 1.9206 seconds\n",
      "Difference between stress tensors: [[0.         0.         0.00026443]\n",
      " [0.         0.         0.        ]\n",
      " [0.00026443 0.         0.        ]]\n"
     ]
    }
   ],
   "source": [
    "# benchmark stress and np stress\n",
    "import time\n",
    "import numpy as np\n",
    "\n",
    "# Assuming `atoms` is already defined and has a calculator set as shown previously\n",
    "# Define or import your functions `numeric_stress` and `np_numeric_stress` as needed\n",
    "\n",
    "# Benchmark numeric_stress\n",
    "start_time = time.time()\n",
    "stress_tensor_numeric = numeric_stress(atoms, voigt=False)\n",
    "time_numeric = time.time() - start_time\n",
    "\n",
    "# Benchmark np_numeric_stress\n",
    "start_time = time.time()\n",
    "stress_tensor_np = np_numeric_stress(atoms)\n",
    "time_np = time.time() - start_time\n",
    "\n",
    "# Calculate the difference between the stress tensors\n",
    "stress_difference = np.abs(stress_tensor_numeric - stress_tensor_np)\n",
    "\n",
    "# Print the results\n",
    "print(f\"Time for numeric_stress: {time_numeric:.4f} seconds\")\n",
    "print(f\"Time for np_numeric_stress: {time_np:.4f} seconds\")\n",
    "print(f\"Difference between stress tensors: {stress_difference}\")"
   ]
  },
  {
   "cell_type": "code",
   "execution_count": null,
   "metadata": {},
   "outputs": [],
   "source": [
    "#print(atoms.get_forces())\n",
    "\n",
    "# print the volume of the cell\n",
    "print(atoms.get_volume())\n",
    "\n",
    "from ase.constraints import FixAtoms\n",
    "from ase.filters import UnitCellFilter\n",
    "# Apply constraints to fix the cell\n",
    "constraints = FixAtoms(mask=[False] * len(atoms))  # Allow all atoms to move\n",
    "\n",
    "# Add constraints to atoms\n",
    "atoms.set_constraint(constraints)\n",
    "\n",
    "# Create a UnitCellFilter, but since the cell is fixed, it only affects atomic positions\n",
    "#ucf = UnitCellFilter(atoms, mask=[False, False, False])\n",
    "\n",
    "# Perform the relaxation\n",
    "opt = LBFGS(atoms)\n",
    "opt.run(fmax=0.01)  # Convergence criterion for forces in eV/Å\n",
    "\n",
    "# Output the relaxed structure\n",
    "print(atoms.get_volume())"
   ]
  },
  {
   "cell_type": "code",
   "execution_count": 59,
   "metadata": {},
   "outputs": [
    {
     "name": "stdout",
     "output_type": "stream",
     "text": [
      "       Step     Time          Energy          fmax\n",
      "LBFGS:    0 16:16:14     -583.451897        0.028008\n",
      "LBFGS:    1 16:16:15     -583.452094        0.024919\n",
      "LBFGS:    2 16:16:15     -583.453019        0.030159\n",
      "LBFGS:    3 16:16:15     -583.453073        0.026159\n",
      "LBFGS:    4 16:16:15     -583.453285        0.011257\n",
      "LBFGS:    5 16:16:15     -583.453311        0.015394\n",
      "LBFGS:    6 16:16:16     -583.453376        0.017373\n",
      "LBFGS:    7 16:16:16     -583.453410        0.011784\n",
      "LBFGS:    8 16:16:16     -583.453436        0.007593\n"
     ]
    }
   ],
   "source": [
    "relaxed = allegro_relaxer(atoms, potential_path= pot_path , species = species , relax_cell= False)"
   ]
  },
  {
   "cell_type": "code",
   "execution_count": 32,
   "metadata": {},
   "outputs": [
    {
     "name": "stdout",
     "output_type": "stream",
     "text": [
      "884.6738653484483\n",
      "[-0.00396188  0.00032333 -0.00020627  0.00108414 -0.00030494 -0.00027663]\n"
     ]
    }
   ],
   "source": [
    "#from ase.calculators.test import numeric_stress \n",
    "print(numeric_stress(atoms))"
   ]
  },
  {
   "cell_type": "code",
   "execution_count": 33,
   "metadata": {},
   "outputs": [
    {
     "name": "stdout",
     "output_type": "stream",
     "text": [
      "884.6738653484483\n",
      "[[-0.00396188 -0.00027663 -0.00030494]\n",
      " [-0.00027663  0.00032333  0.00108414]\n",
      " [-0.00030494  0.00108414 -0.00020627]]\n"
     ]
    }
   ],
   "source": [
    "comp_stress = numeric_stress(atoms, voigt=False)\n",
    "print(comp_stress)  "
   ]
  },
  {
   "cell_type": "code",
   "execution_count": 42,
   "metadata": {},
   "outputs": [
    {
     "name": "stdout",
     "output_type": "stream",
     "text": [
      "[[-0.002959  0.002115 -0.000338]\n",
      " [ 0.002115 -0.000875  0.001259]\n",
      " [-0.000338  0.001259 -0.000939]]\n",
      "[[-0.00396188 -0.00027663 -0.00030494]\n",
      " [-0.00027663  0.00032333  0.00108414]\n",
      " [-0.00030494  0.00108414 -0.00020627]]\n",
      "[[ 1.00287768e-03  2.39163236e-03 -3.30581433e-05]\n",
      " [ 2.39163236e-03 -1.19832942e-03  1.74863358e-04]\n",
      " [-3.30581433e-05  1.74863358e-04 -7.32731840e-04]]\n"
     ]
    }
   ],
   "source": [
    "#print(test_stress)\n",
    "#multiplied_list = [[element / 10 for element in sublist] for sublist in test_stress]\n",
    "difference = np.array(test_stress)/10 - np.array(comp_stress)\n",
    "print(np.array(test_stress)/10)\n",
    "print(np.array(comp_stress))\n",
    "print(difference)\n",
    "#for i in range(3): \n",
    "    #for j in range(3):\n",
    "        "
   ]
  },
  {
   "cell_type": "code",
   "execution_count": 37,
   "metadata": {},
   "outputs": [
    {
     "name": "stdout",
     "output_type": "stream",
     "text": [
      "[[-0.02959  0.02115 -0.00338]\n",
      " [ 0.02115 -0.00875  0.01259]\n",
      " [-0.00338  0.01259 -0.00939]]\n",
      "[[-0.2959  0.2115 -0.0338]\n",
      " [ 0.2115 -0.0875  0.1259]\n",
      " [-0.0338  0.1259 -0.0939]]\n"
     ]
    }
   ],
   "source": [
    "np_stress = np.array(test_stress)\n",
    "print(np_stress)\n",
    "print(np_stress*10)"
   ]
  },
  {
   "cell_type": "code",
   "execution_count": 25,
   "metadata": {},
   "outputs": [],
   "source": [
    "# need to create vasp job for the relaxed structure \n",
    "initial_structure = Structure.from_dict(data['supercell_gen0_comp11_struct3_vac_site3_start']['structures'][0])\n",
    "\n",
    "# make a POSCAR file for this \n",
    "from pymatgen.io.vasp.inputs import Poscar\n",
    "poscar = Poscar(initial_structure)\n",
    "poscar.write_file('test_stress_POSCAR')"
   ]
  },
  {
   "cell_type": "code",
   "execution_count": null,
   "metadata": {},
   "outputs": [],
   "source": [
    "vcrti_data = json.load(open('../Visualization/Job_Structures/Post_VASP/VCrTi/shuffled_vacancies_data.json'))\n"
   ]
  }
 ],
 "metadata": {
  "kernelspec": {
   "display_name": "allegro",
   "language": "python",
   "name": "python3"
  },
  "language_info": {
   "codemirror_mode": {
    "name": "ipython",
    "version": 3
   },
   "file_extension": ".py",
   "mimetype": "text/x-python",
   "name": "python",
   "nbconvert_exporter": "python",
   "pygments_lexer": "ipython3",
   "version": "3.10.14"
  }
 },
 "nbformat": 4,
 "nbformat_minor": 2
}
