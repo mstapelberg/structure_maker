{
 "cells": [
  {
   "cell_type": "code",
   "execution_count": 72,
   "metadata": {},
   "outputs": [],
   "source": [
    "import matplotlib.pyplot as plt\n",
    "import numpy as np\n",
    "\n",
    "#load pymatgen for reading the vasp files? \n",
    "import sys, os, json\n",
    "sys.path.append('../Modules/')\n",
    "from pymatgen.io.vasp import Outcar, Poscar\n",
    "from pymatgen.io.cif import CifWriter\n",
    "from pymatgen.core import Structure"
   ]
  },
  {
   "cell_type": "code",
   "execution_count": 62,
   "metadata": {},
   "outputs": [],
   "source": [
    "from VASPDataParser import VASPDataParser\n"
   ]
  },
  {
   "cell_type": "code",
   "execution_count": 65,
   "metadata": {},
   "outputs": [],
   "source": [
    "data_path = '../Archived_Vasp_Jobs/Finished_VCrTiWZr_PostMCMC'"
   ]
  },
  {
   "cell_type": "code",
   "execution_count": 66,
   "metadata": {},
   "outputs": [],
   "source": [
    "# go through each job_x folder and read the data\n",
    "# store the data in a dictionary\n",
    "# the key is the job number, the value is the data, we will need to eventually write the data into an xyz file \n",
    "\n",
    "# get the name of folders in the directory \n",
    "folders = os.listdir(data_path)\n",
    "folders = [f for f in folders if 'job' in f]"
   ]
  },
  {
   "cell_type": "code",
   "execution_count": 68,
   "metadata": {},
   "outputs": [
    {
     "name": "stdout",
     "output_type": "stream",
     "text": [
      "-581.16278527\n",
      "-578.94282909\n",
      "-581.22857644\n",
      "-588.61486221\n",
      "-571.52073957\n",
      "-578.6889915\n",
      "-583.79339547\n",
      "-584.16971374\n",
      "-578.88348398\n",
      "-581.9926566\n",
      "-578.00202417\n",
      "-582.02446826\n",
      "-575.83422332\n",
      "-594.08493181\n",
      "-593.758195\n",
      "-584.92031315\n",
      "-570.80808847\n",
      "-575.71211583\n",
      "-589.79777179\n",
      "-579.50771277\n",
      "-584.49619907\n",
      "-583.53743847\n",
      "-584.92789208\n",
      "-589.68641086\n",
      "-577.85875857\n",
      "-588.87932048\n"
     ]
    }
   ],
   "source": [
    "save_dir = '../Visualization/Job_Structures/Post_VASP/'\n",
    "# go through each folder and read the data \n",
    "for folder in folders:\n",
    "    # get the number from the folder name, i.e for job_19 the number is 19\n",
    "    job_number = int(folder.split('_')[1])\n",
    "    # check in the folder if POSCAR-original exists, if it does set the poscar path to the POSCAR-original file\n",
    "    # if it does not exist, set the poscar path to the POSCAR file\n",
    "    poscar_path = os.path.join(data_path, folder, 'POSCAR-original')\n",
    "    if not os.path.exists(poscar_path):\n",
    "        poscar_path = os.path.join(data_path, folder, 'POSCAR')\n",
    "    # read the data from the OUTCAR file\n",
    "    outcar_path = os.path.join(data_path, folder, 'OUTCAR')\n",
    "\n",
    "    # read the data from the OUTCAR file using pymatgen \n",
    "    poscar = Poscar.from_file(poscar_path)\n",
    "    outcar = Outcar(outcar_path)\n",
    "    print(outcar.final_energy_wo_entrp)\n",
    "\n",
    "    # save the initial and final structures as cif files \n",
    "    initial_cif = CifWriter(poscar.structure)\n",
    "    total_initial_path = os.path.join(save_dir,f'job_{job_number}_initial.cif')\n",
    "    initial_cif.write_file(total_initial_path)\n",
    "\n",
    "    contcar_path = os.path.join(data_path, folder, 'CONTCAR')\n",
    "    contcar = Poscar.from_file(contcar_path)\n",
    "    final_cif = CifWriter(contcar.structure)\n",
    "    total_final_path = os.path.join(save_dir,f'job_{job_number}_final.cif')\n",
    "    final_cif.write_file(total_final_path)\n",
    "\n"
   ]
  },
  {
   "cell_type": "code",
   "execution_count": 69,
   "metadata": {},
   "outputs": [
    {
     "name": "stdout",
     "output_type": "stream",
     "text": [
      "-581.16278527\n",
      "-578.94282909\n",
      "-581.22857644\n",
      "-588.61486221\n",
      "-571.52073957\n",
      "-578.6889915\n",
      "-583.79339547\n",
      "-584.16971374\n",
      "-578.88348398\n",
      "-581.9926566\n",
      "-578.00202417\n",
      "-582.02446826\n",
      "-575.83422332\n",
      "-594.08493181\n",
      "-593.758195\n",
      "-584.92031315\n",
      "-570.80808847\n",
      "-575.71211583\n",
      "-589.79777179\n",
      "-579.50771277\n",
      "-584.49619907\n",
      "-583.53743847\n",
      "-584.92789208\n",
      "-589.68641086\n",
      "-577.85875857\n",
      "-588.87932048\n"
     ]
    }
   ],
   "source": [
    "vasp_data = {}\n",
    "# go through each folder and read the data \n",
    "for folder in folders:\n",
    "    # get the number from the folder name, i.e for job_19 the number is 19\n",
    "    job_number = int(folder.split('_')[1])\n",
    "    # check in the folder if POSCAR-original exists, if it does set the poscar path to the POSCAR-original file\n",
    "    # if it does not exist, set the poscar path to the POSCAR file\n",
    "    poscar_path = os.path.join(data_path, folder, 'POSCAR-original')\n",
    "    if not os.path.exists(poscar_path):\n",
    "        poscar_path = os.path.join(data_path, folder, 'POSCAR')\n",
    "    # read the data from the OUTCAR file\n",
    "    outcar_path = os.path.join(data_path, folder, 'OUTCAR')\n",
    "\n",
    "    contcar_path = os.path.join(data_path, folder, 'CONTCAR')\n",
    "\n",
    "    # read the data from the OUTCAR file using pymatgen \n",
    "    poscar = Poscar.from_file(poscar_path)\n",
    "    num_atoms = len(poscar.structure.sites)\n",
    "    contcar = Poscar.from_file(contcar_path)\n",
    "\n",
    "    parser = VASPDataParser()\n",
    "\n",
    "    # read the data from the OUTCAR file using the parser \n",
    "    forces = parser.get_forces(outcar_path)[-1]\n",
    "    energy = parser.get_energy_without_entropy(outcar_path)[-1]\n",
    "    \n",
    "    print(energy*num_atoms)\n",
    "\n",
    "\n",
    "    vasp_data[str(job_number)] = {'energy': energy, 'forces': forces, 'initial_structure' : poscar.structure.as_dict(), 'final_structure' : contcar.structure.as_dict()}\n",
    "\n",
    "# save the vasp data \n",
    "with open(os.path.join(save_dir,'vasp_data.json'), 'w') as f:\n",
    "    json.dump(vasp_data, f)\n",
    "\n"
   ]
  },
  {
   "cell_type": "code",
   "execution_count": 70,
   "metadata": {},
   "outputs": [
    {
     "name": "stdout",
     "output_type": "stream",
     "text": [
      "Cr0_0384-Ti0_0341-Zr0_0184-W0_0949-V0_8142_samples.mson\n",
      "Cr0_034-Ti0_0943-Zr0_0359-W0_0648-V0_771_samples.mson\n",
      "Cr0_0172-Ti0_031-Zr0_014-W0_035-V0_9028_samples.mson\n",
      "Cr0_0991-Ti0_0676-Zr0_0323-W0_0716-V0_7294_samples.mson\n",
      "Cr0_0923-Ti0_0513-Zr0_0206-W0_0322-V0_8036_samples.mson\n",
      "Cr0_0889-Ti0_0383-Zr0_0362-W0_0456-V0_791_samples.mson\n",
      "Cr0_0124-Ti0_0279-Zr0_036-W0_059-V0_8647_samples.mson\n",
      "Cr0_048-Ti0_0127-Zr0_0187-W0_0555-V0_8651_samples.mson\n",
      "Cr0_0734-Ti0_0141-Zr0_0191-W0_036-V0_8574_samples.mson\n",
      "Cr0_0846-Ti0_0657-Zr0_0445-W0_062-V0_7432_samples.mson\n",
      "Cr0_0961-Ti0_0403-Zr0_0137-W0_0187-V0_8312_samples.mson\n",
      "Cr0_0859-Ti0_0798-Zr0_0192-W0_0129-V0_8022_samples.mson\n",
      "Cr0_0675-Ti0_0123-Zr0_021-W0_0301-V0_8691_samples.mson\n"
     ]
    }
   ],
   "source": [
    "#compare the energy of CE and VASP \n",
    "from smol.io import load_work\n",
    "\n",
    "# read the data from the CE\n",
    "\n",
    "ce_data_path = '../Visualization/Job_Structures/Pre_VASP'\n",
    "structures_file = '../Archived_Vasp_Jobs/VCrTiWZr_PostMCMC/structure_dict.json'\n",
    "\n",
    "# get all .mson files in the directory\n",
    "ce_files = os.listdir(ce_data_path)\n",
    "ce_files = [f for f in ce_files if '.mson' in f]\n",
    "\n",
    "ce_data = {}\n",
    "# read the data from the CE\n",
    "for file in ce_files:\n",
    "    print(file)\n",
    "    samples = load_work(os.path.join(ce_data_path, file))\n",
    "    energies = samples['SampleContainer'].get_energies()\n",
    "    #structures = samples['SampleContainer'].get_sampled_structures()\n",
    "    initial_structure = samples['SampleContainer'].get_sampled_structures(indices=[0])[0]\n",
    "    final_structure = samples['SampleContainer'].get_sampled_structures(indices=[-1])[0]\n",
    "    initial_energy = energies[0]\n",
    "    final_energy = energies[-1]\n",
    "    ce_data[file] = {'initial_energy': initial_energy, 'final_energy': final_energy, 'initial_structure': initial_structure, 'final_structure': final_structure}\n"
   ]
  },
  {
   "cell_type": "code",
   "execution_count": 73,
   "metadata": {},
   "outputs": [
    {
     "name": "stdout",
     "output_type": "stream",
     "text": [
      "Cr0_0991-Ti0_0676-Zr0_0323-W0_0716-V0_7294_final\n",
      "Cr0_0734-Ti0_0141-Zr0_0191-W0_036-V0_8574_initial\n",
      "Cr0_0384-Ti0_0341-Zr0_0184-W0_0949-V0_8142_initial\n",
      "Cr0_048-Ti0_0127-Zr0_0187-W0_0555-V0_8651_initial\n",
      "Cr0_0124-Ti0_0279-Zr0_036-W0_059-V0_8647_final\n",
      "Cr0_0991-Ti0_0676-Zr0_0323-W0_0716-V0_7294_initial\n",
      "Cr0_0734-Ti0_0141-Zr0_0191-W0_036-V0_8574_final\n",
      "Cr0_0384-Ti0_0341-Zr0_0184-W0_0949-V0_8142_final\n",
      "Cr0_0859-Ti0_0798-Zr0_0192-W0_0129-V0_8022_initial\n",
      "Cr0_0859-Ti0_0798-Zr0_0192-W0_0129-V0_8022_final\n",
      "Cr0_0124-Ti0_0279-Zr0_036-W0_059-V0_8647_initial\n",
      "Cr0_0923-Ti0_0513-Zr0_0206-W0_0322-V0_8036_initial\n",
      "Cr0_0889-Ti0_0383-Zr0_0362-W0_0456-V0_791_initial\n",
      "Cr0_0961-Ti0_0403-Zr0_0137-W0_0187-V0_8312_final\n",
      "Cr0_0923-Ti0_0513-Zr0_0206-W0_0322-V0_8036_final\n",
      "Cr0_034-Ti0_0943-Zr0_0359-W0_0648-V0_771_final\n",
      "Cr0_048-Ti0_0127-Zr0_0187-W0_0555-V0_8651_final\n",
      "Cr0_0846-Ti0_0657-Zr0_0445-W0_062-V0_7432_initial\n",
      "Cr0_034-Ti0_0943-Zr0_0359-W0_0648-V0_771_initial\n",
      "Cr0_0675-Ti0_0123-Zr0_021-W0_0301-V0_8691_initial\n",
      "Cr0_0846-Ti0_0657-Zr0_0445-W0_062-V0_7432_final\n",
      "Cr0_0172-Ti0_031-Zr0_014-W0_035-V0_9028_final\n",
      "Cr0_0675-Ti0_0123-Zr0_021-W0_0301-V0_8691_final\n",
      "Cr0_0172-Ti0_031-Zr0_014-W0_035-V0_9028_initial\n",
      "Cr0_0889-Ti0_0383-Zr0_0362-W0_0456-V0_791_final\n",
      "Cr0_0961-Ti0_0403-Zr0_0137-W0_0187-V0_8312_initial\n"
     ]
    }
   ],
   "source": [
    "energies = []\n",
    "structures_dict = json.load(open(structures_file, 'r'))\n",
    "for job_number, cif_file in structures_dict.items():\n",
    "    # get the base name of the cif file without the extension \n",
    "    base_name = os.path.splitext(cif_file)[0]\n",
    "    print(base_name)\n",
    "\n",
    "    # check if the base name contains initial or final \n",
    "    if 'initial' in base_name:\n",
    "        # remove the _initial from the base name\n",
    "        base_name = base_name.replace('_initial', '')\n",
    "        # get the energy from the CE data\n",
    "        energy = ce_data[base_name+'_samples.mson']['initial_energy']\n",
    "    elif 'final' in base_name:\n",
    "        # remove the _final from the base name \n",
    "        base_name = base_name.replace('_final', '')\n",
    "        # get the energy from the CE data\n",
    "        energy = ce_data[base_name+'_samples.mson']['final_energy']\n",
    "    else:\n",
    "        print('Error in the file name')\n",
    "        break\n",
    "\n",
    "    # get the vasp energy corresponding to the correct job number\n",
    "    vasp_energy = vasp_data[job_number]['energy']*len(Structure.from_dict(vasp_data[job_number]['initial_structure']).sites)\n",
    "\n",
    "    energies.append((energy, vasp_energy))"
   ]
  },
  {
   "cell_type": "code",
   "execution_count": 74,
   "metadata": {},
   "outputs": [
    {
     "name": "stdout",
     "output_type": "stream",
     "text": [
      "MAE (in meV/atom): 1.7590222353957274\n",
      "(-589.9984512521613, -589.79777179)\n",
      "(-581.907615474905, -581.9926566)\n",
      "(-593.6903184360876, -593.758195)\n",
      "(-588.7218076016867, -588.61486221)\n",
      "(-584.8079743726912, -584.92031315)\n",
      "(-589.6962693694097, -589.68641086)\n",
      "(-582.0238879797945, -582.02446826)\n",
      "(-593.8891080497806, -594.08493181)\n",
      "(-570.8854460491581, -570.80808847)\n",
      "(-571.5231321229769, -571.52073957)\n",
      "(-584.853923757379, -584.92789208)\n",
      "(-578.7361275702305, -578.6889915)\n",
      "(-583.8266962369322, -583.79339547)\n",
      "(-575.5463654104441, -575.71211583)\n",
      "(-579.0474405077521, -578.94282909)\n",
      "(-579.9155633268205, -579.50771277)\n",
      "(-588.8689965850299, -588.87932048)\n",
      "(-583.7137532708598, -583.53743847)\n",
      "(-579.4298665681811, -578.88348398)\n",
      "(-581.2422948007415, -581.16278527)\n",
      "(-584.38636383102, -584.16971374)\n",
      "(-577.9299145403281, -578.00202417)\n",
      "(-581.2424596854355, -581.22857644)\n",
      "(-577.8627200897655, -577.85875857)\n",
      "(-584.4468389963461, -584.49619907)\n",
      "(-575.7672172506468, -575.83422332)\n"
     ]
    }
   ],
   "source": [
    "# get the MAE \n",
    "mae = sum(abs(predicted - ground_truth) for predicted, ground_truth in energies) / len(energies)\n",
    "actual_mae = mae/num_atoms*1000 \n",
    "print('MAE (in meV/atom):', actual_mae)\n",
    "# print the energies \n",
    "for energy in energies:\n",
    "    print(energy)"
   ]
  },
  {
   "cell_type": "code",
   "execution_count": 75,
   "metadata": {},
   "outputs": [
    {
     "data": {
      "image/png": "[encoded data removed]",
      "text/plain": [
       "<Figure size 640x480 with 1 Axes>"
      ]
     },
     "metadata": {},
     "output_type": "display_data"
    }
   ],
   "source": [
    "predicted_energies, ground_truth_energies = zip(*energies)\n",
    "plt.scatter(predicted_energies, ground_truth_energies)\n",
    "plt.plot([min(predicted_energies), max(predicted_energies)], [min(predicted_energies), max(predicted_energies)], 'k--')\n",
    "plt.xlabel('Predicted Energy (eV)')\n",
    "plt.ylabel('Ground Truth Energy (eV)')\n",
    "plt.title(f'Predicted vs Ground Truth Energy with MAE = {round(actual_mae,3)} meV / atom')\n",
    "plt.show()"
   ]
  }
 ],
 "metadata": {
  "kernelspec": {
   "display_name": "chgnet",
   "language": "python",
   "name": "python3"
  },
  "language_info": {
   "codemirror_mode": {
    "name": "ipython",
    "version": 3
   },
   "file_extension": ".py",
   "mimetype": "text/x-python",
   "name": "python",
   "nbconvert_exporter": "python",
   "pygments_lexer": "ipython3",
   "version": "3.10.0"
  }
 },
 "nbformat": 4,
 "nbformat_minor": 2
}
