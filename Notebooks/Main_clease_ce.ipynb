{
 "cells": [
  {
   "cell_type": "code",
   "execution_count": 25,
   "metadata": {},
   "outputs": [],
   "source": [
    "from ase.db import connect\n",
    "from clease.tools import update_db\n",
    "from ase.io import read\n",
    "import clease\n",
    "from clease import Evaluate\n",
    "import clease.plot_post_process as pp\n",
    "import matplotlib.pyplot as plt\n",
    "from clease.settings import Concentration\n",
    "from clease.settings import CEBulk\n",
    "import numpy as np"
   ]
  },
  {
   "cell_type": "markdown",
   "metadata": {},
   "source": [
    "# Set the Concentration Limits"
   ]
  },
  {
   "cell_type": "code",
   "execution_count": 6,
   "metadata": {},
   "outputs": [],
   "source": [
    "basis_elements = [['V', 'Cr', 'Ti', 'W', 'Zr']]\n",
    "\n",
    "# Equality constraint: concentrations sum up to 1\n",
    "A_eq = [[1.0, 1.0, 1.0, 1.0, 1.0]]\n",
    "b_eq = [1.0]\n",
    "\n",
    "# Lower bound constraints\n",
    "# At least 0.8 of V, and at least 0.01 of each of the others\n",
    "A_lb = [[1, 0, 0, 0, 0],  # for V\n",
    "        [0, 1, 0, 0, 0],  # for Cr\n",
    "        [0, 0, 1, 0, 0],  # for Ti\n",
    "        [0, 0, 0, 1, 0],  # for W\n",
    "        [0, 0, 0, 0, 1]]  # for Zr\n",
    "b_lb = [0.8, 0.01, 0.01, 0.01, 0.01]\n",
    "\n",
    "# Upper bound constraints not directly supported in CLEASE setup,\n",
    "# you can enforce these when sampling/creating configurations."
   ]
  },
  {
   "cell_type": "code",
   "execution_count": 11,
   "metadata": {},
   "outputs": [],
   "source": [
    "v_min = 0.8\n",
    "v_max = 1.0\n",
    "cr_min = 0.01\n",
    "cr_max = 0.05\n",
    "ti_min = 0.01\n",
    "ti_max = 0.05\n",
    "w_min = 0.01\n",
    "w_max = 0.05\n",
    "zr_min = 0.01\n",
    "zr_max = 0.05\n",
    "conc_ranges = [(v_min,v_max), (cr_min,cr_max), (ti_min,ti_max), (w_min,w_max), (zr_min,zr_max)]"
   ]
  },
  {
   "cell_type": "code",
   "execution_count": 12,
   "metadata": {},
   "outputs": [],
   "source": [
    "#conc = Concentration(basis_elements=basis_elements, A_lb=A_lb, b_lb=b_lb, A_eq=A_eq, b_eq=b_eq)\n",
    "conc = Concentration(basis_elements=basis_elements)\n",
    "conc.set_conc_ranges(ranges=[conc_ranges])\n"
   ]
  },
  {
   "cell_type": "markdown",
   "metadata": {},
   "source": [
    "# Create settings for CE"
   ]
  },
  {
   "cell_type": "code",
   "execution_count": 36,
   "metadata": {},
   "outputs": [],
   "source": [
    "settings = CEBulk(crystalstructure='bcc',\n",
    "                  a=3.01,\n",
    "                  size=[4,4,4],\n",
    "                  supercell_factor = 64,\n",
    "                  concentration=conc,\n",
    "                  db_name = '/Users/myless/Packages/structure_maker/CLEASE_DBs/VCrTiWZr_new.db',\n",
    "                  max_cluster_dia=[6.0, 4.5, 4.5])"
   ]
  },
  {
   "cell_type": "code",
   "execution_count": 15,
   "metadata": {},
   "outputs": [],
   "source": [
    "vcrtiwzr_db = connect('/Users/myless/Packages/structure_maker/CLEASE_DBs/VCrTiWZr.db')"
   ]
  },
  {
   "cell_type": "code",
   "execution_count": 27,
   "metadata": {},
   "outputs": [],
   "source": [
    "new_vcrtiwzr_db = connect('/Users/myless/Packages/structure_maker/CLEASE_DBs/VCrTiWZr_new.db')\n",
    "for row in vcrtiwzr_db.select():\n",
    "    atoms = row.toatoms()\n",
    "    new_vcrtiwzr_db.write(atoms,converged=True)"
   ]
  },
  {
   "cell_type": "markdown",
   "metadata": {},
   "source": [
    "# Setup the CE Model"
   ]
  },
  {
   "cell_type": "code",
   "execution_count": 41,
   "metadata": {},
   "outputs": [
    {
     "ename": "ValueError",
     "evalue": "Requested template violates the constraints!",
     "output_type": "error",
     "traceback": [
      "\u001b[0;31m---------------------------------------------------------------------------\u001b[0m",
      "\u001b[0;31mValueError\u001b[0m                                Traceback (most recent call last)",
      "Cell \u001b[0;32mIn[41], line 9\u001b[0m\n\u001b[1;32m      7\u001b[0m corr_fun \u001b[38;5;241m=\u001b[39m CorrFunction(settings\u001b[38;5;241m=\u001b[39msettings)\n\u001b[1;32m      8\u001b[0m select_cond \u001b[38;5;241m=\u001b[39m [(\u001b[38;5;124m'\u001b[39m\u001b[38;5;124mconverged\u001b[39m\u001b[38;5;124m'\u001b[39m, \u001b[38;5;124m'\u001b[39m\u001b[38;5;124m=\u001b[39m\u001b[38;5;124m'\u001b[39m, \u001b[38;5;28;01mTrue\u001b[39;00m)]\n\u001b[0;32m----> 9\u001b[0m \u001b[43mcorr_fun\u001b[49m\u001b[38;5;241;43m.\u001b[39;49m\u001b[43mreconfigure_db_entries\u001b[49m\u001b[43m(\u001b[49m\u001b[43mselect_cond\u001b[49m\u001b[38;5;241;43m=\u001b[39;49m\u001b[43mselect_cond\u001b[49m\u001b[43m)\u001b[49m\n\u001b[1;32m     10\u001b[0m \u001b[38;5;28mprint\u001b[39m(\u001b[38;5;28mdir\u001b[39m(corr_fun))\n\u001b[1;32m     11\u001b[0m eva \u001b[38;5;241m=\u001b[39m Evaluate(settings\u001b[38;5;241m=\u001b[39msettings, scoring_scheme\u001b[38;5;241m=\u001b[39m\u001b[38;5;124m'\u001b[39m\u001b[38;5;124mk-fold\u001b[39m\u001b[38;5;124m'\u001b[39m,nsplits\u001b[38;5;241m=\u001b[39m\u001b[38;5;241m10\u001b[39m,select_cond\u001b[38;5;241m=\u001b[39mselect_cond)\n",
      "File \u001b[0;32m/opt/homebrew/Caskroom/miniforge/base/envs/smol/lib/python3.10/site-packages/clease/corr_func.py:136\u001b[0m, in \u001b[0;36mCorrFunction.reconfigure_db_entries\u001b[0;34m(self, select_cond, verbose)\u001b[0m\n\u001b[1;32m    133\u001b[0m \u001b[38;5;28;01mif\u001b[39;00m verbose:\n\u001b[1;32m    134\u001b[0m     \u001b[38;5;28mprint\u001b[39m(msg)\n\u001b[0;32m--> 136\u001b[0m \u001b[38;5;28;01mfor\u001b[39;00m row_id, count, total \u001b[38;5;129;01min\u001b[39;00m \u001b[38;5;28mself\u001b[39m\u001b[38;5;241m.\u001b[39miter_reconfigure_db_entries(select_cond\u001b[38;5;241m=\u001b[39mselect_cond):\n\u001b[1;32m    137\u001b[0m     msg \u001b[38;5;241m=\u001b[39m \u001b[38;5;124mf\u001b[39m\u001b[38;5;124m\"\u001b[39m\u001b[38;5;124mUpdated \u001b[39m\u001b[38;5;132;01m{\u001b[39;00mcount\u001b[38;5;132;01m}\u001b[39;00m\u001b[38;5;124m of \u001b[39m\u001b[38;5;132;01m{\u001b[39;00mtotal\u001b[38;5;132;01m}\u001b[39;00m\u001b[38;5;124m entries. Current ID: \u001b[39m\u001b[38;5;132;01m{\u001b[39;00mrow_id\u001b[38;5;132;01m}\u001b[39;00m\u001b[38;5;124m\"\u001b[39m\n\u001b[1;32m    138\u001b[0m     \u001b[38;5;28;01mif\u001b[39;00m verbose:\n",
      "File \u001b[0;32m/opt/homebrew/Caskroom/miniforge/base/envs/smol/lib/python3.10/site-packages/clease/corr_func.py:167\u001b[0m, in \u001b[0;36mCorrFunction.iter_reconfigure_db_entries\u001b[0;34m(self, select_cond)\u001b[0m\n\u001b[1;32m    165\u001b[0m \u001b[38;5;28;01mfor\u001b[39;00m count, row \u001b[38;5;129;01min\u001b[39;00m \u001b[38;5;28menumerate\u001b[39m(db\u001b[38;5;241m.\u001b[39mselect(select), start\u001b[38;5;241m=\u001b[39m\u001b[38;5;241m1\u001b[39m):\n\u001b[1;32m    166\u001b[0m     row_id \u001b[38;5;241m=\u001b[39m row\u001b[38;5;241m.\u001b[39mid\n\u001b[0;32m--> 167\u001b[0m     \u001b[38;5;28;43mself\u001b[39;49m\u001b[38;5;241;43m.\u001b[39;49m\u001b[43mreconfigure_single_db_entry\u001b[49m\u001b[43m(\u001b[49m\u001b[43mrow_id\u001b[49m\u001b[43m)\u001b[49m\n\u001b[1;32m    168\u001b[0m     \u001b[38;5;66;03m# Yield the current progress\u001b[39;00m\n\u001b[1;32m    169\u001b[0m     \u001b[38;5;28;01myield\u001b[39;00m row_id, count, total\n",
      "File \u001b[0;32m/opt/homebrew/Caskroom/miniforge/base/envs/smol/lib/python3.10/site-packages/clease/corr_func.py:99\u001b[0m, in \u001b[0;36mCorrFunction.reconfigure_single_db_entry\u001b[0;34m(self, row_id)\u001b[0m\n\u001b[1;32m     97\u001b[0m \u001b[38;5;28;01mwith\u001b[39;00m \u001b[38;5;28mself\u001b[39m\u001b[38;5;241m.\u001b[39mconnect() \u001b[38;5;28;01mas\u001b[39;00m db:\n\u001b[1;32m     98\u001b[0m     atoms \u001b[38;5;241m=\u001b[39m wrap_and_sort_by_position(db\u001b[38;5;241m.\u001b[39mget(\u001b[38;5;28mid\u001b[39m\u001b[38;5;241m=\u001b[39mrow_id)\u001b[38;5;241m.\u001b[39mtoatoms())\n\u001b[0;32m---> 99\u001b[0m     cf \u001b[38;5;241m=\u001b[39m \u001b[38;5;28;43mself\u001b[39;49m\u001b[38;5;241;43m.\u001b[39;49m\u001b[43mget_cf\u001b[49m\u001b[43m(\u001b[49m\u001b[43matoms\u001b[49m\u001b[43m)\u001b[49m\n\u001b[1;32m    100\u001b[0m     db_util\u001b[38;5;241m.\u001b[39mupdate_table(db, row_id, \u001b[38;5;28mself\u001b[39m\u001b[38;5;241m.\u001b[39mcf_table_name, cf)\n",
      "File \u001b[0;32m/opt/homebrew/Caskroom/miniforge/base/envs/smol/lib/python3.10/site-packages/clease/corr_func.py:59\u001b[0m, in \u001b[0;36mCorrFunction.get_cf\u001b[0;34m(self, atoms)\u001b[0m\n\u001b[1;32m     57\u001b[0m     \u001b[38;5;28;01mraise\u001b[39;00m \u001b[38;5;167;01mTypeError\u001b[39;00m(\u001b[38;5;124m\"\u001b[39m\u001b[38;5;124matoms must be an Atoms object\u001b[39m\u001b[38;5;124m\"\u001b[39m)\n\u001b[1;32m     58\u001b[0m cf_names \u001b[38;5;241m=\u001b[39m \u001b[38;5;28mself\u001b[39m\u001b[38;5;241m.\u001b[39msettings\u001b[38;5;241m.\u001b[39mall_cf_names\n\u001b[0;32m---> 59\u001b[0m \u001b[38;5;28;01mreturn\u001b[39;00m \u001b[38;5;28;43mself\u001b[39;49m\u001b[38;5;241;43m.\u001b[39;49m\u001b[43mget_cf_by_names\u001b[49m\u001b[43m(\u001b[49m\u001b[43matoms\u001b[49m\u001b[43m,\u001b[49m\u001b[43m \u001b[49m\u001b[43mcf_names\u001b[49m\u001b[43m)\u001b[49m\n",
      "File \u001b[0;32m/opt/homebrew/Caskroom/miniforge/base/envs/smol/lib/python3.10/site-packages/clease/corr_func.py:76\u001b[0m, in \u001b[0;36mCorrFunction.get_cf_by_names\u001b[0;34m(self, atoms, cf_names)\u001b[0m\n\u001b[1;32m     62\u001b[0m \u001b[38;5;124;03m\"\"\"\u001b[39;00m\n\u001b[1;32m     63\u001b[0m \u001b[38;5;124;03mCalculate correlation functions of the specified clusters and return\u001b[39;00m\n\u001b[1;32m     64\u001b[0m \u001b[38;5;124;03mthem in a dictionary format.\u001b[39;00m\n\u001b[0;32m   (...)\u001b[0m\n\u001b[1;32m     72\u001b[0m \u001b[38;5;124;03m        the structure provided in atoms\u001b[39;00m\n\u001b[1;32m     73\u001b[0m \u001b[38;5;124;03m\"\"\"\u001b[39;00m\n\u001b[1;32m     75\u001b[0m \u001b[38;5;28;01mif\u001b[39;00m \u001b[38;5;28misinstance\u001b[39m(atoms, Atoms):\n\u001b[0;32m---> 76\u001b[0m     \u001b[38;5;28;43mself\u001b[39;49m\u001b[38;5;241;43m.\u001b[39;49m\u001b[43mset_template\u001b[49m\u001b[43m(\u001b[49m\u001b[43matoms\u001b[49m\u001b[43m)\u001b[49m\n\u001b[1;32m     77\u001b[0m \u001b[38;5;28;01melse\u001b[39;00m:\n\u001b[1;32m     78\u001b[0m     \u001b[38;5;28;01mraise\u001b[39;00m \u001b[38;5;167;01mTypeError\u001b[39;00m(\u001b[38;5;124m\"\u001b[39m\u001b[38;5;124matoms must be Atoms object\u001b[39m\u001b[38;5;124m\"\u001b[39m)\n",
      "File \u001b[0;32m/opt/homebrew/Caskroom/miniforge/base/envs/smol/lib/python3.10/site-packages/clease/corr_func.py:226\u001b[0m, in \u001b[0;36mCorrFunction.set_template\u001b[0;34m(self, atoms)\u001b[0m\n\u001b[1;32m    217\u001b[0m \u001b[38;5;28;01mdef\u001b[39;00m \u001b[38;5;21mset_template\u001b[39m(\u001b[38;5;28mself\u001b[39m, atoms: Atoms) \u001b[38;5;241m-\u001b[39m\u001b[38;5;241m>\u001b[39m \u001b[38;5;28;01mNone\u001b[39;00m:\n\u001b[1;32m    218\u001b[0m     \u001b[38;5;124;03m\"\"\"Check the size of provided cell and set as the currently active\u001b[39;00m\n\u001b[1;32m    219\u001b[0m \u001b[38;5;124;03m    template in the settings object.\u001b[39;00m\n\u001b[1;32m    220\u001b[0m \n\u001b[0;32m   (...)\u001b[0m\n\u001b[1;32m    224\u001b[0m \u001b[38;5;124;03m            Unrelaxed structure\u001b[39;00m\n\u001b[1;32m    225\u001b[0m \u001b[38;5;124;03m    \"\"\"\u001b[39;00m\n\u001b[0;32m--> 226\u001b[0m     \u001b[38;5;28;43mself\u001b[39;49m\u001b[38;5;241;43m.\u001b[39;49m\u001b[43msettings\u001b[49m\u001b[38;5;241;43m.\u001b[39;49m\u001b[43mset_active_template\u001b[49m\u001b[43m(\u001b[49m\u001b[43matoms\u001b[49m\u001b[38;5;241;43m=\u001b[39;49m\u001b[43matoms\u001b[49m\u001b[43m)\u001b[49m\n",
      "File \u001b[0;32m/opt/homebrew/Caskroom/miniforge/base/envs/smol/lib/python3.10/site-packages/clease/settings/settings.py:475\u001b[0m, in \u001b[0;36mClusterExpansionSettings.set_active_template\u001b[0;34m(self, atoms)\u001b[0m\n\u001b[1;32m    473\u001b[0m \u001b[38;5;124;03m\"\"\"Set a new template atoms object.\"\"\"\u001b[39;00m\n\u001b[1;32m    474\u001b[0m \u001b[38;5;28;01mif\u001b[39;00m atoms \u001b[38;5;129;01mis\u001b[39;00m \u001b[38;5;129;01mnot\u001b[39;00m \u001b[38;5;28;01mNone\u001b[39;00m:\n\u001b[0;32m--> 475\u001b[0m     template \u001b[38;5;241m=\u001b[39m \u001b[38;5;28;43mself\u001b[39;49m\u001b[38;5;241;43m.\u001b[39;49m\u001b[43mtemplate_atoms\u001b[49m\u001b[38;5;241;43m.\u001b[39;49m\u001b[43mget_template_matching_atoms\u001b[49m\u001b[43m(\u001b[49m\u001b[43matoms\u001b[49m\u001b[38;5;241;43m=\u001b[39;49m\u001b[43matoms\u001b[49m\u001b[43m)\u001b[49m\n\u001b[1;32m    476\u001b[0m \u001b[38;5;28;01melse\u001b[39;00m:\n\u001b[1;32m    477\u001b[0m     template \u001b[38;5;241m=\u001b[39m \u001b[38;5;28mself\u001b[39m\u001b[38;5;241m.\u001b[39mtemplate_atoms\u001b[38;5;241m.\u001b[39mweighted_random_template()\n",
      "File \u001b[0;32m/opt/homebrew/Caskroom/miniforge/base/envs/smol/lib/python3.10/site-packages/clease/settings/template_atoms.py:216\u001b[0m, in \u001b[0;36mTemplateAtoms.get_template_matching_atoms\u001b[0;34m(self, atoms)\u001b[0m\n\u001b[1;32m    209\u001b[0m     \u001b[38;5;28;01mraise\u001b[39;00m \u001b[38;5;167;01mValueError\u001b[39;00m(\n\u001b[1;32m    210\u001b[0m         \u001b[38;5;124mf\u001b[39m\u001b[38;5;124m\"\u001b[39m\u001b[38;5;124mInconsistent cells! Passed atoms\u001b[39m\u001b[38;5;130;01m\\n\u001b[39;00m\u001b[38;5;124m\"\u001b[39m\n\u001b[1;32m    211\u001b[0m         \u001b[38;5;124mf\u001b[39m\u001b[38;5;124m\"\u001b[39m\u001b[38;5;132;01m{\u001b[39;00matoms\u001b[38;5;241m.\u001b[39mget_cell()\u001b[38;5;132;01m}\u001b[39;00m\u001b[38;5;130;01m\\n\u001b[39;00m\u001b[38;5;124mGenerated template\u001b[39m\u001b[38;5;130;01m\\n\u001b[39;00m\u001b[38;5;124m\"\u001b[39m\n\u001b[1;32m    212\u001b[0m         \u001b[38;5;124mf\u001b[39m\u001b[38;5;124m\"\u001b[39m\u001b[38;5;132;01m{\u001b[39;00mtemplate\u001b[38;5;241m.\u001b[39mget_cell()\u001b[38;5;132;01m}\u001b[39;00m\u001b[38;5;124m\"\u001b[39m\n\u001b[1;32m    213\u001b[0m     )\n\u001b[1;32m    215\u001b[0m \u001b[38;5;28;01mif\u001b[39;00m \u001b[38;5;129;01mnot\u001b[39;00m \u001b[38;5;28mself\u001b[39m\u001b[38;5;241m.\u001b[39mis_valid(atoms\u001b[38;5;241m=\u001b[39mtemplate):\n\u001b[0;32m--> 216\u001b[0m     \u001b[38;5;28;01mraise\u001b[39;00m \u001b[38;5;167;01mValueError\u001b[39;00m(\u001b[38;5;124m\"\u001b[39m\u001b[38;5;124mRequested template violates the constraints!\u001b[39m\u001b[38;5;124m\"\u001b[39m)\n\u001b[1;32m    217\u001b[0m \u001b[38;5;28;01mreturn\u001b[39;00m template\n",
      "\u001b[0;31mValueError\u001b[0m: Requested template violates the constraints!"
     ]
    }
   ],
   "source": [
    "from clease import Evaluate\n",
    "import clease.plot_post_process as pp \n",
    "import matplotlib.pyplot as plt\n",
    "from clease.tools import reconfigure\n",
    "from clease.corr_func import CorrFunction\n",
    "\n",
    "corr_fun = CorrFunction(settings=settings)\n",
    "select_cond = [('converged', '=', True)]\n",
    "eva = Evaluate(settings=settings, scoring_scheme='k-fold',nsplits=10,select_cond=select_cond)\n",
    "\n"
   ]
  }
 ],
 "metadata": {
  "kernelspec": {
   "display_name": "smol",
   "language": "python",
   "name": "python3"
  },
  "language_info": {
   "codemirror_mode": {
    "name": "ipython",
    "version": 3
   },
   "file_extension": ".py",
   "mimetype": "text/x-python",
   "name": "python",
   "nbconvert_exporter": "python",
   "pygments_lexer": "ipython3",
   "version": "3.10.0"
  }
 },
 "nbformat": 4,
 "nbformat_minor": 2
}
