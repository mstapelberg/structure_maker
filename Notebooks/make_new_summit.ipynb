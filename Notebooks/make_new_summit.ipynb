{
 "cells": [
  {
   "cell_type": "code",
   "execution_count": 9,
   "metadata": {},
   "outputs": [],
   "source": [
    "import os\n",
    "import json\n",
    "import sys\n",
    "import numpy as np\n",
    "import random\n",
    "from smol.io import load_work\n",
    "from pymatgen.core.structure import Structure\n",
    "from pymatgen.entries.computed_entries import ComputedStructureEntry\n",
    "from pymatgen.io.vasp.inputs import Poscar\n",
    "from ase.db import connect\n",
    "from ase.io import write\n",
    "from ase.visualize import view\n",
    "\n",
    "sys.path.append('../Modules')\n",
    "from structure_generation import * \n",
    "from vasp_misc import *\n"
   ]
  },
  {
   "cell_type": "markdown",
   "metadata": {},
   "source": [
    "# Composition Selection"
   ]
  },
  {
   "cell_type": "markdown",
   "metadata": {},
   "source": [
    "## functions"
   ]
  },
  {
   "cell_type": "code",
   "execution_count": null,
   "metadata": {},
   "outputs": [],
   "source": [
    "import json\n",
    "import pandas as pd\n",
    "import numpy as np\n",
    "import plotly.express as px\n",
    "import plotly.graph_objects as go\n",
    "\n",
    "def load_compositions(json_file):\n",
    "    \"\"\"Load compositions from a JSON file.\"\"\"\n",
    "    with open(json_file) as f:\n",
    "        compositions = json.load(f)\n",
    "    df = pd.DataFrame(compositions)\n",
    "    if 'Generation' not in df.columns:\n",
    "        df['Generation'] = 0\n",
    "    return df\n",
    "\n",
    "def filter_compositions(df):\n",
    "    \"\"\"Filter compositions to ensure they meet the initial constraints.\"\"\"\n",
    "    return df[(df['V'] >= 0.8) & \n",
    "              (df['Cr'] >= 0.001) & \n",
    "              (df['Ti'] >= 0.001) & \n",
    "              (df['W'] >= 0.001) & \n",
    "              (df['Zr'] >= 0.001)]\n",
    "\n",
    "def generate_random_composition():\n",
    "    \"\"\"Generate a valid random composition within the specified constraints.\"\"\"\n",
    "    min_v = 0.85\n",
    "    while True:\n",
    "        V = np.random.uniform(min_v, 1)\n",
    "        Cr = np.random.uniform(0.001, 0.2)\n",
    "        Ti = np.random.uniform(0.001, 0.2)\n",
    "        W = np.random.uniform(0.001, 0.2)\n",
    "        Zr = np.random.uniform(0.001, 0.2)\n",
    "        total = V + Cr + Ti + W + Zr\n",
    "        V /= total\n",
    "        Cr /= total\n",
    "        Ti /= total\n",
    "        W /= total\n",
    "        Zr /= total\n",
    "        if V >= min_v:\n",
    "            return [V, Cr, Ti, W, Zr]\n",
    "\n",
    "def generate_new_compositions(n, generation):\n",
    "    \"\"\"Generate new compositions and return as a DataFrame.\"\"\"\n",
    "    new_compositions = []\n",
    "    for _ in range(n):\n",
    "        new_compositions.append(generate_random_composition())\n",
    "    new_df = pd.DataFrame(new_compositions, columns=['V', 'Cr', 'Ti', 'W', 'Zr'])\n",
    "    new_df['Generation'] = generation\n",
    "    return new_df\n",
    "\n",
    "def combine_compositions(df_existing, df_new):\n",
    "    \"\"\"Combine existing and new compositions into one DataFrame.\"\"\"\n",
    "    return pd.concat([df_existing, df_new], ignore_index=True)\n",
    "\n",
    "def save_compositions_to_json(df, json_file):\n",
    "    \"\"\"Save compositions to a JSON file.\"\"\"\n",
    "    compositions_list = df.to_dict(orient='records')\n",
    "    with open(json_file, 'w') as f:\n",
    "        json.dump(compositions_list, f, indent=4)\n",
    "\n",
    "def plot_compositions(df):\n",
    "    \"\"\"Plot compositions using Plotly with manual color assignment for each generation.\"\"\"\n",
    "    unique_generations = df['Generation'].unique()\n",
    "    colors = px.colors.qualitative.Set1 + px.colors.qualitative.Set2 + px.colors.qualitative.Set3\n",
    "    \n",
    "    if len(unique_generations) > len(colors):\n",
    "        raise ValueError(\"Too many generations for the available color palette\")\n",
    "\n",
    "    color_map = {gen: colors[i] for i, gen in enumerate(sorted(unique_generations))}\n",
    "    df['color'] = df['Generation'].map(color_map)\n",
    "\n",
    "    fig = px.scatter_matrix(df,\n",
    "                            dimensions=['V', 'Cr', 'Ti', 'W', 'Zr'],\n",
    "                            color='color',\n",
    "                            title='V-Cr-Ti-W-Zr Alloy Compositions by Generation',\n",
    "                            labels={'V': 'Vanadium', 'Cr': 'Chromium', 'Ti': 'Titanium', 'W': 'Tungsten', 'Zr': 'Zirconium'},\n",
    "                            height=800)\n",
    "    \n",
    "    # Hide the automatic legend entries\n",
    "    for trace in fig.data:\n",
    "        trace.showlegend = False\n",
    "\n",
    "    # Updating the color legend manually\n",
    "    for gen, color in color_map.items():\n",
    "        fig.add_trace(go.Scatter(x=[None], y=[None], mode='markers',\n",
    "                                 marker=dict(size=10, color=color),\n",
    "                                 legendgroup=str(gen),\n",
    "                                 showlegend=True,\n",
    "                                 name=f'Generation {gen}'))\n",
    "    \n",
    "    fig.update_traces(marker=dict(size=10, opacity=0.8), selector=dict(mode='markers'))\n",
    "    fig.show()\n"
   ]
  },
  {
   "cell_type": "markdown",
   "metadata": {},
   "source": [
    "## generate compositions and view"
   ]
  },
  {
   "cell_type": "code",
   "execution_count": null,
   "metadata": {},
   "outputs": [
    {
     "data": {
      "application/vnd.plotly.v1+json": {
       "config": {
        "plotlyServerURL": "https://plot.ly"
       },
       "data": [
        {
         "dimensions": [
          {
           "axis": {
            "matches": true
           },
           "label": "Vanadium",
           "values": [
            0.8691,
            0.8651,
            0.8647,
            0.8542,
            0.8312,
            0.8574,
            0.9028,
            0.8363,
            0.8383,
            0.8022,
            0.8142,
            0.8036
           ]
          },
          {
           "axis": {
            "matches": true
           },
           "label": "Chromium",
           "values": [
            0.0675,
            0.048,
            0.0124,
            0.0298,
            0.0961,
            0.0734,
            0.0172,
            0.0672,
            0.0254,
            0.0859,
            0.0384,
            0.0923
           ]
          },
          {
           "axis": {
            "matches": true
           },
           "label": "Titanium",
           "values": [
            0.0123,
            0.0127,
            0.0279,
            0.063,
            0.0403,
            0.0141,
            0.031,
            0.0428,
            0.0756,
            0.0798,
            0.0341,
            0.0513
           ]
          },
          {
           "axis": {
            "matches": true
           },
           "label": "Tungsten",
           "values": [
            0.0301,
            0.0555,
            0.059,
            0.0106,
            0.0187,
            0.036,
            0.035,
            0.0289,
            0.0442,
            0.0129,
            0.0949,
            0.0322
           ]
          },
          {
           "axis": {
            "matches": true
           },
           "label": "Zirconium",
           "values": [
            0.021,
            0.0187,
            0.036,
            0.0424,
            0.0137,
            0.0191,
            0.014,
            0.0248,
            0.0165,
            0.0192,
            0.0184,
            0.0206
           ]
          }
         ],
         "hovertemplate": "color=rgb(228,26,28)<br>%{xaxis.title.text}=%{x}<br>%{yaxis.title.text}=%{y}<extra></extra>",
         "legendgroup": "rgb(228,26,28)",
         "marker": {
          "color": "#636efa",
          "symbol": "circle"
         },
         "name": "rgb(228,26,28)",
         "showlegend": false,
         "type": "splom"
        },
        {
         "dimensions": [
          {
           "axis": {
            "matches": true
           },
           "label": "Vanadium",
           "values": [
            0.8043851781571989,
            0.8067509527241298,
            0.8020170728758178,
            0.8187704085207206,
            0.8128329481911923,
            0.8110913650589356,
            0.8150769046171656,
            0.8207228986336522,
            0.8139521676435909,
            0.8381019084426459
           ]
          },
          {
           "axis": {
            "matches": true
           },
           "label": "Chromium",
           "values": [
            0.10048029141558604,
            0.05083581369295678,
            0.05070870360836058,
            0.06698201199067252,
            0.04643040157470129,
            0.07992405553372427,
            0.028364127511847945,
            0.028875101185230314,
            0.010575732664930188,
            0.016586916475201916
           ]
          },
          {
           "axis": {
            "matches": true
           },
           "label": "Titanium",
           "values": [
            0.02186391873195047,
            0.06229146086866191,
            0.07347325080117553,
            0.020128767205343335,
            0.06873944505374312,
            0.042128889230502016,
            0.014919051004927405,
            0.03412613940948054,
            0.014176680937378042,
            0.11631334644548046
           ]
          },
          {
           "axis": {
            "matches": true
           },
           "label": "Tungsten",
           "values": [
            0.055934605166148406,
            0.0547399433572929,
            0.007999866013981916,
            0.05875417348996964,
            0.04681300654713355,
            0.028508994883993388,
            0.09340245447705207,
            0.009061282879969369,
            0.035401892579123025,
            0.026399034651789083
           ]
          },
          {
           "axis": {
            "matches": true
           },
           "label": "Zirconium",
           "values": [
            0.017336006529116207,
            0.025381829356958457,
            0.0658011067006642,
            0.03536463879329412,
            0.02518419863322991,
            0.038346695292844526,
            0.0482374623890068,
            0.10721457789166769,
            0.1258935261749778,
            0.0025987939848826735
           ]
          }
         ],
         "hovertemplate": "color=rgb(55,126,184)<br>%{xaxis.title.text}=%{x}<br>%{yaxis.title.text}=%{y}<extra></extra>",
         "legendgroup": "rgb(55,126,184)",
         "marker": {
          "color": "#EF553B",
          "symbol": "circle"
         },
         "name": "rgb(55,126,184)",
         "showlegend": false,
         "type": "splom"
        },
        {
         "dimensions": [
          {
           "axis": {
            "matches": true
           },
           "label": "Vanadium",
           "values": [
            0.8012788193804129,
            0.8192128469792069,
            0.8022205803943254,
            0.8367400269019152,
            0.8675232841439843,
            0.8308421442029482,
            0.9166837361540805,
            0.8535938100042669,
            0.864579894855354,
            0.8130387718171836
           ]
          },
          {
           "axis": {
            "matches": true
           },
           "label": "Chromium",
           "values": [
            0.0840076247697501,
            0.06549520660455249,
            0.11645106622108252,
            0.059019526048898555,
            0.05851797878796666,
            0.06138578557127868,
            0.02641777975506065,
            0.0011400526366867256,
            0.054089731807504295,
            0.010060976116783275
           ]
          },
          {
           "axis": {
            "matches": true
           },
           "label": "Titanium",
           "values": [
            0.012529698804691106,
            0.10294957253906344,
            0.020661887663983768,
            0.01953760471367287,
            0.03929034698640464,
            0.02723269532943803,
            0.02106692390963494,
            0.01798926167188453,
            0.04323762328222303,
            0.01942919378623373
           ]
          },
          {
           "axis": {
            "matches": true
           },
           "label": "Tungsten",
           "values": [
            0.08949910394028511,
            0.011001169942248557,
            0.05921254626054685,
            0.02548499354060327,
            0.019277306108356474,
            0.0656895887542101,
            0.03244777556004541,
            0.1117230591185576,
            0.01251175839591739,
            0.15238830493028435
           ]
          },
          {
           "axis": {
            "matches": true
           },
           "label": "Zirconium",
           "values": [
            0.012684753104860832,
            0.001341203934928605,
            0.0014539194600613067,
            0.059217848794910086,
            0.015391083973287858,
            0.014849786142125114,
            0.0033837846211786323,
            0.015553816568604361,
            0.025580991659001063,
            0.005082753349515123
           ]
          }
         ],
         "hovertemplate": "color=rgb(77,175,74)<br>%{xaxis.title.text}=%{x}<br>%{yaxis.title.text}=%{y}<extra></extra>",
         "legendgroup": "rgb(77,175,74)",
         "marker": {
          "color": "#00cc96",
          "symbol": "circle"
         },
         "name": "rgb(77,175,74)",
         "showlegend": false,
         "type": "splom"
        },
        {
         "dimensions": [
          {
           "axis": {
            "matches": true
           },
           "label": "Vanadium",
           "values": [
            0.8977424184643913,
            0.9447040800858585,
            0.8889801366689619,
            0.8846741508715207,
            0.8599057176523043,
            0.8560541056068146,
            0.8669307248785335,
            0.8538993348593987,
            0.8536542341724023,
            0.8754505263820767
           ]
          },
          {
           "axis": {
            "matches": true
           },
           "label": "Chromium",
           "values": [
            0.01753592516998137,
            0.010751108131055977,
            0.04897815017804376,
            0.03146323010751297,
            0.00106470633947902,
            0.04362232065366414,
            0.0023061504149333337,
            0.026261353510019368,
            0.08314674588783247,
            0.0024421255209802818
           ]
          },
          {
           "axis": {
            "matches": true
           },
           "label": "Titanium",
           "values": [
            0.04217323120814773,
            0.0019540541750971,
            0.01657063980769426,
            0.022011936316887925,
            0.10581849957075172,
            0.011826824884911824,
            0.04845802552516483,
            0.025669908265118547,
            0.01503131571582048,
            0.02521722396831646
           ]
          },
          {
           "axis": {
            "matches": true
           },
           "label": "Tungsten",
           "values": [
            0.0010848777327399327,
            0.0017479312630005002,
            0.01732744864034135,
            0.054330040417573854,
            0.006208215823083322,
            0.010095000703006668,
            0.017103263600845048,
            0.05831085398792207,
            0.0075326931729275135,
            0.04389673770824977
           ]
          },
          {
           "axis": {
            "matches": true
           },
           "label": "Zirconium",
           "values": [
            0.041463547424739726,
            0.040842826344987954,
            0.028143624704958767,
            0.007520642286504522,
            0.027002860614381577,
            0.0784017481516027,
            0.06520183558052313,
            0.03585854937754153,
            0.0406350110510172,
            0.052993386420376876
           ]
          }
         ],
         "hovertemplate": "color=rgb(152,78,163)<br>%{xaxis.title.text}=%{x}<br>%{yaxis.title.text}=%{y}<extra></extra>",
         "legendgroup": "rgb(152,78,163)",
         "marker": {
          "color": "#ab63fa",
          "symbol": "circle"
         },
         "name": "rgb(152,78,163)",
         "showlegend": false,
         "type": "splom"
        },
        {
         "dimensions": [
          {
           "axis": {
            "matches": true
           },
           "label": "Vanadium",
           "values": [
            0.864545478618552,
            0.9108994115205774,
            0.8510898293540469,
            0.8979181938588968,
            0.862701262519548,
            0.8650538626696229,
            0.8524567610001267,
            0.8745777398250708,
            0.8621861014703992,
            0.8855641098506223
           ]
          },
          {
           "axis": {
            "matches": true
           },
           "label": "Chromium",
           "values": [
            0.06189716567359263,
            0.03951191842975195,
            0.04364173905542093,
            0.02914324224610698,
            0.07959598815653347,
            0.041551802997306944,
            0.033781964927449226,
            0.06544574911392279,
            0.011077697999383407,
            0.031098768981628028
           ]
          },
          {
           "axis": {
            "matches": true
           },
           "label": "Titanium",
           "values": [
            0.03746780234960141,
            0.004267434416417778,
            0.04025132701422287,
            0.00564882648878348,
            0.002722445397663415,
            0.06531166986131841,
            0.04995662886105845,
            0.021474726696950736,
            0.08705687645043096,
            0.03899452889253058
           ]
          },
          {
           "axis": {
            "matches": true
           },
           "label": "Tungsten",
           "values": [
            0.018943264782864216,
            0.039697170990211424,
            0.04630842925156172,
            0.04287125175386245,
            0.031121384251296416,
            0.02637791128648184,
            0.03765542080109683,
            0.034219246992388076,
            0.025723464704286828,
            0.006110288537108586
           ]
          },
          {
           "axis": {
            "matches": true
           },
           "label": "Zirconium",
           "values": [
            0.017146288575389766,
            0.005624064643041552,
            0.01870867532474764,
            0.02441848565235016,
            0.02385891967495838,
            0.0017047531852698733,
            0.026149224410268627,
            0.004282537371667683,
            0.013955859375499653,
            0.038232303738110714
           ]
          }
         ],
         "hovertemplate": "color=rgb(255,127,0)<br>%{xaxis.title.text}=%{x}<br>%{yaxis.title.text}=%{y}<extra></extra>",
         "legendgroup": "rgb(255,127,0)",
         "marker": {
          "color": "#FFA15A",
          "symbol": "circle"
         },
         "name": "rgb(255,127,0)",
         "showlegend": false,
         "type": "splom"
        },
        {
         "legendgroup": "0",
         "marker": {
          "color": "rgb(228,26,28)",
          "opacity": 0.8,
          "size": 10
         },
         "mode": "markers",
         "name": "Generation 0",
         "showlegend": true,
         "type": "scatter",
         "x": [
          null
         ],
         "y": [
          null
         ]
        },
        {
         "legendgroup": "1",
         "marker": {
          "color": "rgb(55,126,184)",
          "opacity": 0.8,
          "size": 10
         },
         "mode": "markers",
         "name": "Generation 1",
         "showlegend": true,
         "type": "scatter",
         "x": [
          null
         ],
         "y": [
          null
         ]
        },
        {
         "legendgroup": "2",
         "marker": {
          "color": "rgb(77,175,74)",
          "opacity": 0.8,
          "size": 10
         },
         "mode": "markers",
         "name": "Generation 2",
         "showlegend": true,
         "type": "scatter",
         "x": [
          null
         ],
         "y": [
          null
         ]
        },
        {
         "legendgroup": "3",
         "marker": {
          "color": "rgb(152,78,163)",
          "opacity": 0.8,
          "size": 10
         },
         "mode": "markers",
         "name": "Generation 3",
         "showlegend": true,
         "type": "scatter",
         "x": [
          null
         ],
         "y": [
          null
         ]
        },
        {
         "legendgroup": "4",
         "marker": {
          "color": "rgb(255,127,0)",
          "opacity": 0.8,
          "size": 10
         },
         "mode": "markers",
         "name": "Generation 4",
         "showlegend": true,
         "type": "scatter",
         "x": [
          null
         ],
         "y": [
          null
         ]
        }
       ],
       "layout": {
        "dragmode": "select",
        "height": 800,
        "legend": {
         "title": {
          "text": "color"
         },
         "tracegroupgap": 0
        },
        "template": {
         "data": {
          "bar": [
           {
            "error_x": {
             "color": "#2a3f5f"
            },
            "error_y": {
             "color": "#2a3f5f"
            },
            "marker": {
             "line": {
              "color": "#E5ECF6",
              "width": 0.5
             },
             "pattern": {
              "fillmode": "overlay",
              "size": 10,
              "solidity": 0.2
             }
            },
            "type": "bar"
           }
          ],
          "barpolar": [
           {
            "marker": {
             "line": {
              "color": "#E5ECF6",
              "width": 0.5
             },
             "pattern": {
              "fillmode": "overlay",
              "size": 10,
              "solidity": 0.2
             }
            },
            "type": "barpolar"
           }
          ],
          "carpet": [
           {
            "aaxis": {
             "endlinecolor": "#2a3f5f",
             "gridcolor": "white",
             "linecolor": "white",
             "minorgridcolor": "white",
             "startlinecolor": "#2a3f5f"
            },
            "baxis": {
             "endlinecolor": "#2a3f5f",
             "gridcolor": "white",
             "linecolor": "white",
             "minorgridcolor": "white",
             "startlinecolor": "#2a3f5f"
            },
            "type": "carpet"
           }
          ],
          "choropleth": [
           {
            "colorbar": {
             "outlinewidth": 0,
             "ticks": ""
            },
            "type": "choropleth"
           }
          ],
          "contour": [
           {
            "colorbar": {
             "outlinewidth": 0,
             "ticks": ""
            },
            "colorscale": [
             [
              0,
              "#0d0887"
             ],
             [
              0.1111111111111111,
              "#46039f"
             ],
             [
              0.2222222222222222,
              "#7201a8"
             ],
             [
              0.3333333333333333,
              "#9c179e"
             ],
             [
              0.4444444444444444,
              "#bd3786"
             ],
             [
              0.5555555555555556,
              "#d8576b"
             ],
             [
              0.6666666666666666,
              "#ed7953"
             ],
             [
              0.7777777777777778,
              "#fb9f3a"
             ],
             [
              0.8888888888888888,
              "#fdca26"
             ],
             [
              1,
              "#f0f921"
             ]
            ],
            "type": "contour"
           }
          ],
          "contourcarpet": [
           {
            "colorbar": {
             "outlinewidth": 0,
             "ticks": ""
            },
            "type": "contourcarpet"
           }
          ],
          "heatmap": [
           {
            "colorbar": {
             "outlinewidth": 0,
             "ticks": ""
            },
            "colorscale": [
             [
              0,
              "#0d0887"
             ],
             [
              0.1111111111111111,
              "#46039f"
             ],
             [
              0.2222222222222222,
              "#7201a8"
             ],
             [
              0.3333333333333333,
              "#9c179e"
             ],
             [
              0.4444444444444444,
              "#bd3786"
             ],
             [
              0.5555555555555556,
              "#d8576b"
             ],
             [
              0.6666666666666666,
              "#ed7953"
             ],
             [
              0.7777777777777778,
              "#fb9f3a"
             ],
             [
              0.8888888888888888,
              "#fdca26"
             ],
             [
              1,
              "#f0f921"
             ]
            ],
            "type": "heatmap"
           }
          ],
          "heatmapgl": [
           {
            "colorbar": {
             "outlinewidth": 0,
             "ticks": ""
            },
            "colorscale": [
             [
              0,
              "#0d0887"
             ],
             [
              0.1111111111111111,
              "#46039f"
             ],
             [
              0.2222222222222222,
              "#7201a8"
             ],
             [
              0.3333333333333333,
              "#9c179e"
             ],
             [
              0.4444444444444444,
              "#bd3786"
             ],
             [
              0.5555555555555556,
              "#d8576b"
             ],
             [
              0.6666666666666666,
              "#ed7953"
             ],
             [
              0.7777777777777778,
              "#fb9f3a"
             ],
             [
              0.8888888888888888,
              "#fdca26"
             ],
             [
              1,
              "#f0f921"
             ]
            ],
            "type": "heatmapgl"
           }
          ],
          "histogram": [
           {
            "marker": {
             "pattern": {
              "fillmode": "overlay",
              "size": 10,
              "solidity": 0.2
             }
            },
            "type": "histogram"
           }
          ],
          "histogram2d": [
           {
            "colorbar": {
             "outlinewidth": 0,
             "ticks": ""
            },
            "colorscale": [
             [
              0,
              "#0d0887"
             ],
             [
              0.1111111111111111,
              "#46039f"
             ],
             [
              0.2222222222222222,
              "#7201a8"
             ],
             [
              0.3333333333333333,
              "#9c179e"
             ],
             [
              0.4444444444444444,
              "#bd3786"
             ],
             [
              0.5555555555555556,
              "#d8576b"
             ],
             [
              0.6666666666666666,
              "#ed7953"
             ],
             [
              0.7777777777777778,
              "#fb9f3a"
             ],
             [
              0.8888888888888888,
              "#fdca26"
             ],
             [
              1,
              "#f0f921"
             ]
            ],
            "type": "histogram2d"
           }
          ],
          "histogram2dcontour": [
           {
            "colorbar": {
             "outlinewidth": 0,
             "ticks": ""
            },
            "colorscale": [
             [
              0,
              "#0d0887"
             ],
             [
              0.1111111111111111,
              "#46039f"
             ],
             [
              0.2222222222222222,
              "#7201a8"
             ],
             [
              0.3333333333333333,
              "#9c179e"
             ],
             [
              0.4444444444444444,
              "#bd3786"
             ],
             [
              0.5555555555555556,
              "#d8576b"
             ],
             [
              0.6666666666666666,
              "#ed7953"
             ],
             [
              0.7777777777777778,
              "#fb9f3a"
             ],
             [
              0.8888888888888888,
              "#fdca26"
             ],
             [
              1,
              "#f0f921"
             ]
            ],
            "type": "histogram2dcontour"
           }
          ],
          "mesh3d": [
           {
            "colorbar": {
             "outlinewidth": 0,
             "ticks": ""
            },
            "type": "mesh3d"
           }
          ],
          "parcoords": [
           {
            "line": {
             "colorbar": {
              "outlinewidth": 0,
              "ticks": ""
             }
            },
            "type": "parcoords"
           }
          ],
          "pie": [
           {
            "automargin": true,
            "type": "pie"
           }
          ],
          "scatter": [
           {
            "fillpattern": {
             "fillmode": "overlay",
             "size": 10,
             "solidity": 0.2
            },
            "type": "scatter"
           }
          ],
          "scatter3d": [
           {
            "line": {
             "colorbar": {
              "outlinewidth": 0,
              "ticks": ""
             }
            },
            "marker": {
             "colorbar": {
              "outlinewidth": 0,
              "ticks": ""
             }
            },
            "type": "scatter3d"
           }
          ],
          "scattercarpet": [
           {
            "marker": {
             "colorbar": {
              "outlinewidth": 0,
              "ticks": ""
             }
            },
            "type": "scattercarpet"
           }
          ],
          "scattergeo": [
           {
            "marker": {
             "colorbar": {
              "outlinewidth": 0,
              "ticks": ""
             }
            },
            "type": "scattergeo"
           }
          ],
          "scattergl": [
           {
            "marker": {
             "colorbar": {
              "outlinewidth": 0,
              "ticks": ""
             }
            },
            "type": "scattergl"
           }
          ],
          "scattermapbox": [
           {
            "marker": {
             "colorbar": {
              "outlinewidth": 0,
              "ticks": ""
             }
            },
            "type": "scattermapbox"
           }
          ],
          "scatterpolar": [
           {
            "marker": {
             "colorbar": {
              "outlinewidth": 0,
              "ticks": ""
             }
            },
            "type": "scatterpolar"
           }
          ],
          "scatterpolargl": [
           {
            "marker": {
             "colorbar": {
              "outlinewidth": 0,
              "ticks": ""
             }
            },
            "type": "scatterpolargl"
           }
          ],
          "scatterternary": [
           {
            "marker": {
             "colorbar": {
              "outlinewidth": 0,
              "ticks": ""
             }
            },
            "type": "scatterternary"
           }
          ],
          "surface": [
           {
            "colorbar": {
             "outlinewidth": 0,
             "ticks": ""
            },
            "colorscale": [
             [
              0,
              "#0d0887"
             ],
             [
              0.1111111111111111,
              "#46039f"
             ],
             [
              0.2222222222222222,
              "#7201a8"
             ],
             [
              0.3333333333333333,
              "#9c179e"
             ],
             [
              0.4444444444444444,
              "#bd3786"
             ],
             [
              0.5555555555555556,
              "#d8576b"
             ],
             [
              0.6666666666666666,
              "#ed7953"
             ],
             [
              0.7777777777777778,
              "#fb9f3a"
             ],
             [
              0.8888888888888888,
              "#fdca26"
             ],
             [
              1,
              "#f0f921"
             ]
            ],
            "type": "surface"
           }
          ],
          "table": [
           {
            "cells": {
             "fill": {
              "color": "#EBF0F8"
             },
             "line": {
              "color": "white"
             }
            },
            "header": {
             "fill": {
              "color": "#C8D4E3"
             },
             "line": {
              "color": "white"
             }
            },
            "type": "table"
           }
          ]
         },
         "layout": {
          "annotationdefaults": {
           "arrowcolor": "#2a3f5f",
           "arrowhead": 0,
           "arrowwidth": 1
          },
          "autotypenumbers": "strict",
          "coloraxis": {
           "colorbar": {
            "outlinewidth": 0,
            "ticks": ""
           }
          },
          "colorscale": {
           "diverging": [
            [
             0,
             "#8e0152"
            ],
            [
             0.1,
             "#c51b7d"
            ],
            [
             0.2,
             "#de77ae"
            ],
            [
             0.3,
             "#f1b6da"
            ],
            [
             0.4,
             "#fde0ef"
            ],
            [
             0.5,
             "#f7f7f7"
            ],
            [
             0.6,
             "#e6f5d0"
            ],
            [
             0.7,
             "#b8e186"
            ],
            [
             0.8,
             "#7fbc41"
            ],
            [
             0.9,
             "#4d9221"
            ],
            [
             1,
             "#276419"
            ]
           ],
           "sequential": [
            [
             0,
             "#0d0887"
            ],
            [
             0.1111111111111111,
             "#46039f"
            ],
            [
             0.2222222222222222,
             "#7201a8"
            ],
            [
             0.3333333333333333,
             "#9c179e"
            ],
            [
             0.4444444444444444,
             "#bd3786"
            ],
            [
             0.5555555555555556,
             "#d8576b"
            ],
            [
             0.6666666666666666,
             "#ed7953"
            ],
            [
             0.7777777777777778,
             "#fb9f3a"
            ],
            [
             0.8888888888888888,
             "#fdca26"
            ],
            [
             1,
             "#f0f921"
            ]
           ],
           "sequentialminus": [
            [
             0,
             "#0d0887"
            ],
            [
             0.1111111111111111,
             "#46039f"
            ],
            [
             0.2222222222222222,
             "#7201a8"
            ],
            [
             0.3333333333333333,
             "#9c179e"
            ],
            [
             0.4444444444444444,
             "#bd3786"
            ],
            [
             0.5555555555555556,
             "#d8576b"
            ],
            [
             0.6666666666666666,
             "#ed7953"
            ],
            [
             0.7777777777777778,
             "#fb9f3a"
            ],
            [
             0.8888888888888888,
             "#fdca26"
            ],
            [
             1,
             "#f0f921"
            ]
           ]
          },
          "colorway": [
           "#636efa",
           "#EF553B",
           "#00cc96",
           "#ab63fa",
           "#FFA15A",
           "#19d3f3",
           "#FF6692",
           "#B6E880",
           "#FF97FF",
           "#FECB52"
          ],
          "font": {
           "color": "#2a3f5f"
          },
          "geo": {
           "bgcolor": "white",
           "lakecolor": "white",
           "landcolor": "#E5ECF6",
           "showlakes": true,
           "showland": true,
           "subunitcolor": "white"
          },
          "hoverlabel": {
           "align": "left"
          },
          "hovermode": "closest",
          "mapbox": {
           "style": "light"
          },
          "paper_bgcolor": "white",
          "plot_bgcolor": "#E5ECF6",
          "polar": {
           "angularaxis": {
            "gridcolor": "white",
            "linecolor": "white",
            "ticks": ""
           },
           "bgcolor": "#E5ECF6",
           "radialaxis": {
            "gridcolor": "white",
            "linecolor": "white",
            "ticks": ""
           }
          },
          "scene": {
           "xaxis": {
            "backgroundcolor": "#E5ECF6",
            "gridcolor": "white",
            "gridwidth": 2,
            "linecolor": "white",
            "showbackground": true,
            "ticks": "",
            "zerolinecolor": "white"
           },
           "yaxis": {
            "backgroundcolor": "#E5ECF6",
            "gridcolor": "white",
            "gridwidth": 2,
            "linecolor": "white",
            "showbackground": true,
            "ticks": "",
            "zerolinecolor": "white"
           },
           "zaxis": {
            "backgroundcolor": "#E5ECF6",
            "gridcolor": "white",
            "gridwidth": 2,
            "linecolor": "white",
            "showbackground": true,
            "ticks": "",
            "zerolinecolor": "white"
           }
          },
          "shapedefaults": {
           "line": {
            "color": "#2a3f5f"
           }
          },
          "ternary": {
           "aaxis": {
            "gridcolor": "white",
            "linecolor": "white",
            "ticks": ""
           },
           "baxis": {
            "gridcolor": "white",
            "linecolor": "white",
            "ticks": ""
           },
           "bgcolor": "#E5ECF6",
           "caxis": {
            "gridcolor": "white",
            "linecolor": "white",
            "ticks": ""
           }
          },
          "title": {
           "x": 0.05
          },
          "xaxis": {
           "automargin": true,
           "gridcolor": "white",
           "linecolor": "white",
           "ticks": "",
           "title": {
            "standoff": 15
           },
           "zerolinecolor": "white",
           "zerolinewidth": 2
          },
          "yaxis": {
           "automargin": true,
           "gridcolor": "white",
           "linecolor": "white",
           "ticks": "",
           "title": {
            "standoff": 15
           },
           "zerolinecolor": "white",
           "zerolinewidth": 2
          }
         }
        },
        "title": {
         "text": "V-Cr-Ti-W-Zr Alloy Compositions by Generation"
        }
       }
      },
      "text/html": [
       "<div>                            <div id=\"9e7c59c3-a7d4-4bc3-afde-17bc1baf7d35\" class=\"plotly-graph-div\" style=\"height:800px; width:100%;\"></div>            <script type=\"text/javascript\">                require([\"plotly\"], function(Plotly) {                    window.PLOTLYENV=window.PLOTLYENV || {};                                    if (document.getElementById(\"9e7c59c3-a7d4-4bc3-afde-17bc1baf7d35\")) {                    Plotly.newPlot(                        \"9e7c59c3-a7d4-4bc3-afde-17bc1baf7d35\",                        [{\"dimensions\":[{\"axis\":{\"matches\":true},\"label\":\"Vanadium\",\"values\":[0.8691,0.8651,0.8647,0.8542,0.8312,0.8574,0.9028,0.8363,0.8383,0.8022,0.8142,0.8036]},{\"axis\":{\"matches\":true},\"label\":\"Chromium\",\"values\":[0.0675,0.048,0.0124,0.0298,0.0961,0.0734,0.0172,0.0672,0.0254,0.0859,0.0384,0.0923]},{\"axis\":{\"matches\":true},\"label\":\"Titanium\",\"values\":[0.0123,0.0127,0.0279,0.063,0.0403,0.0141,0.031,0.0428,0.0756,0.0798,0.0341,0.0513]},{\"axis\":{\"matches\":true},\"label\":\"Tungsten\",\"values\":[0.0301,0.0555,0.059,0.0106,0.0187,0.036,0.035,0.0289,0.0442,0.0129,0.0949,0.0322]},{\"axis\":{\"matches\":true},\"label\":\"Zirconium\",\"values\":[0.021,0.0187,0.036,0.0424,0.0137,0.0191,0.014,0.0248,0.0165,0.0192,0.0184,0.0206]}],\"hovertemplate\":\"color=rgb(228,26,28)\\u003cbr\\u003e%{xaxis.title.text}=%{x}\\u003cbr\\u003e%{yaxis.title.text}=%{y}\\u003cextra\\u003e\\u003c\\u002fextra\\u003e\",\"legendgroup\":\"rgb(228,26,28)\",\"marker\":{\"color\":\"#636efa\",\"symbol\":\"circle\"},\"name\":\"rgb(228,26,28)\",\"showlegend\":false,\"type\":\"splom\"},{\"dimensions\":[{\"axis\":{\"matches\":true},\"label\":\"Vanadium\",\"values\":[0.8043851781571989,0.8067509527241298,0.8020170728758178,0.8187704085207206,0.8128329481911923,0.8110913650589356,0.8150769046171656,0.8207228986336522,0.8139521676435909,0.8381019084426459]},{\"axis\":{\"matches\":true},\"label\":\"Chromium\",\"values\":[0.10048029141558604,0.05083581369295678,0.05070870360836058,0.06698201199067252,0.04643040157470129,0.07992405553372427,0.028364127511847945,0.028875101185230314,0.010575732664930188,0.016586916475201916]},{\"axis\":{\"matches\":true},\"label\":\"Titanium\",\"values\":[0.02186391873195047,0.06229146086866191,0.07347325080117553,0.020128767205343335,0.06873944505374312,0.042128889230502016,0.014919051004927405,0.03412613940948054,0.014176680937378042,0.11631334644548046]},{\"axis\":{\"matches\":true},\"label\":\"Tungsten\",\"values\":[0.055934605166148406,0.0547399433572929,0.007999866013981916,0.05875417348996964,0.04681300654713355,0.028508994883993388,0.09340245447705207,0.009061282879969369,0.035401892579123025,0.026399034651789083]},{\"axis\":{\"matches\":true},\"label\":\"Zirconium\",\"values\":[0.017336006529116207,0.025381829356958457,0.0658011067006642,0.03536463879329412,0.02518419863322991,0.038346695292844526,0.0482374623890068,0.10721457789166769,0.1258935261749778,0.0025987939848826735]}],\"hovertemplate\":\"color=rgb(55,126,184)\\u003cbr\\u003e%{xaxis.title.text}=%{x}\\u003cbr\\u003e%{yaxis.title.text}=%{y}\\u003cextra\\u003e\\u003c\\u002fextra\\u003e\",\"legendgroup\":\"rgb(55,126,184)\",\"marker\":{\"color\":\"#EF553B\",\"symbol\":\"circle\"},\"name\":\"rgb(55,126,184)\",\"showlegend\":false,\"type\":\"splom\"},{\"dimensions\":[{\"axis\":{\"matches\":true},\"label\":\"Vanadium\",\"values\":[0.8012788193804129,0.8192128469792069,0.8022205803943254,0.8367400269019152,0.8675232841439843,0.8308421442029482,0.9166837361540805,0.8535938100042669,0.864579894855354,0.8130387718171836]},{\"axis\":{\"matches\":true},\"label\":\"Chromium\",\"values\":[0.0840076247697501,0.06549520660455249,0.11645106622108252,0.059019526048898555,0.05851797878796666,0.06138578557127868,0.02641777975506065,0.0011400526366867256,0.054089731807504295,0.010060976116783275]},{\"axis\":{\"matches\":true},\"label\":\"Titanium\",\"values\":[0.012529698804691106,0.10294957253906344,0.020661887663983768,0.01953760471367287,0.03929034698640464,0.02723269532943803,0.02106692390963494,0.01798926167188453,0.04323762328222303,0.01942919378623373]},{\"axis\":{\"matches\":true},\"label\":\"Tungsten\",\"values\":[0.08949910394028511,0.011001169942248557,0.05921254626054685,0.02548499354060327,0.019277306108356474,0.0656895887542101,0.03244777556004541,0.1117230591185576,0.01251175839591739,0.15238830493028435]},{\"axis\":{\"matches\":true},\"label\":\"Zirconium\",\"values\":[0.012684753104860832,0.001341203934928605,0.0014539194600613067,0.059217848794910086,0.015391083973287858,0.014849786142125114,0.0033837846211786323,0.015553816568604361,0.025580991659001063,0.005082753349515123]}],\"hovertemplate\":\"color=rgb(77,175,74)\\u003cbr\\u003e%{xaxis.title.text}=%{x}\\u003cbr\\u003e%{yaxis.title.text}=%{y}\\u003cextra\\u003e\\u003c\\u002fextra\\u003e\",\"legendgroup\":\"rgb(77,175,74)\",\"marker\":{\"color\":\"#00cc96\",\"symbol\":\"circle\"},\"name\":\"rgb(77,175,74)\",\"showlegend\":false,\"type\":\"splom\"},{\"dimensions\":[{\"axis\":{\"matches\":true},\"label\":\"Vanadium\",\"values\":[0.8977424184643913,0.9447040800858585,0.8889801366689619,0.8846741508715207,0.8599057176523043,0.8560541056068146,0.8669307248785335,0.8538993348593987,0.8536542341724023,0.8754505263820767]},{\"axis\":{\"matches\":true},\"label\":\"Chromium\",\"values\":[0.01753592516998137,0.010751108131055977,0.04897815017804376,0.03146323010751297,0.00106470633947902,0.04362232065366414,0.0023061504149333337,0.026261353510019368,0.08314674588783247,0.0024421255209802818]},{\"axis\":{\"matches\":true},\"label\":\"Titanium\",\"values\":[0.04217323120814773,0.0019540541750971,0.01657063980769426,0.022011936316887925,0.10581849957075172,0.011826824884911824,0.04845802552516483,0.025669908265118547,0.01503131571582048,0.02521722396831646]},{\"axis\":{\"matches\":true},\"label\":\"Tungsten\",\"values\":[0.0010848777327399327,0.0017479312630005002,0.01732744864034135,0.054330040417573854,0.006208215823083322,0.010095000703006668,0.017103263600845048,0.05831085398792207,0.0075326931729275135,0.04389673770824977]},{\"axis\":{\"matches\":true},\"label\":\"Zirconium\",\"values\":[0.041463547424739726,0.040842826344987954,0.028143624704958767,0.007520642286504522,0.027002860614381577,0.0784017481516027,0.06520183558052313,0.03585854937754153,0.0406350110510172,0.052993386420376876]}],\"hovertemplate\":\"color=rgb(152,78,163)\\u003cbr\\u003e%{xaxis.title.text}=%{x}\\u003cbr\\u003e%{yaxis.title.text}=%{y}\\u003cextra\\u003e\\u003c\\u002fextra\\u003e\",\"legendgroup\":\"rgb(152,78,163)\",\"marker\":{\"color\":\"#ab63fa\",\"symbol\":\"circle\"},\"name\":\"rgb(152,78,163)\",\"showlegend\":false,\"type\":\"splom\"},{\"dimensions\":[{\"axis\":{\"matches\":true},\"label\":\"Vanadium\",\"values\":[0.864545478618552,0.9108994115205774,0.8510898293540469,0.8979181938588968,0.862701262519548,0.8650538626696229,0.8524567610001267,0.8745777398250708,0.8621861014703992,0.8855641098506223]},{\"axis\":{\"matches\":true},\"label\":\"Chromium\",\"values\":[0.06189716567359263,0.03951191842975195,0.04364173905542093,0.02914324224610698,0.07959598815653347,0.041551802997306944,0.033781964927449226,0.06544574911392279,0.011077697999383407,0.031098768981628028]},{\"axis\":{\"matches\":true},\"label\":\"Titanium\",\"values\":[0.03746780234960141,0.004267434416417778,0.04025132701422287,0.00564882648878348,0.002722445397663415,0.06531166986131841,0.04995662886105845,0.021474726696950736,0.08705687645043096,0.03899452889253058]},{\"axis\":{\"matches\":true},\"label\":\"Tungsten\",\"values\":[0.018943264782864216,0.039697170990211424,0.04630842925156172,0.04287125175386245,0.031121384251296416,0.02637791128648184,0.03765542080109683,0.034219246992388076,0.025723464704286828,0.006110288537108586]},{\"axis\":{\"matches\":true},\"label\":\"Zirconium\",\"values\":[0.017146288575389766,0.005624064643041552,0.01870867532474764,0.02441848565235016,0.02385891967495838,0.0017047531852698733,0.026149224410268627,0.004282537371667683,0.013955859375499653,0.038232303738110714]}],\"hovertemplate\":\"color=rgb(255,127,0)\\u003cbr\\u003e%{xaxis.title.text}=%{x}\\u003cbr\\u003e%{yaxis.title.text}=%{y}\\u003cextra\\u003e\\u003c\\u002fextra\\u003e\",\"legendgroup\":\"rgb(255,127,0)\",\"marker\":{\"color\":\"#FFA15A\",\"symbol\":\"circle\"},\"name\":\"rgb(255,127,0)\",\"showlegend\":false,\"type\":\"splom\"},{\"legendgroup\":\"0\",\"marker\":{\"color\":\"rgb(228,26,28)\",\"size\":10,\"opacity\":0.8},\"mode\":\"markers\",\"name\":\"Generation 0\",\"showlegend\":true,\"x\":[null],\"y\":[null],\"type\":\"scatter\"},{\"legendgroup\":\"1\",\"marker\":{\"color\":\"rgb(55,126,184)\",\"size\":10,\"opacity\":0.8},\"mode\":\"markers\",\"name\":\"Generation 1\",\"showlegend\":true,\"x\":[null],\"y\":[null],\"type\":\"scatter\"},{\"legendgroup\":\"2\",\"marker\":{\"color\":\"rgb(77,175,74)\",\"size\":10,\"opacity\":0.8},\"mode\":\"markers\",\"name\":\"Generation 2\",\"showlegend\":true,\"x\":[null],\"y\":[null],\"type\":\"scatter\"},{\"legendgroup\":\"3\",\"marker\":{\"color\":\"rgb(152,78,163)\",\"size\":10,\"opacity\":0.8},\"mode\":\"markers\",\"name\":\"Generation 3\",\"showlegend\":true,\"x\":[null],\"y\":[null],\"type\":\"scatter\"},{\"legendgroup\":\"4\",\"marker\":{\"color\":\"rgb(255,127,0)\",\"size\":10,\"opacity\":0.8},\"mode\":\"markers\",\"name\":\"Generation 4\",\"showlegend\":true,\"x\":[null],\"y\":[null],\"type\":\"scatter\"}],                        {\"template\":{\"data\":{\"histogram2dcontour\":[{\"type\":\"histogram2dcontour\",\"colorbar\":{\"outlinewidth\":0,\"ticks\":\"\"},\"colorscale\":[[0.0,\"#0d0887\"],[0.1111111111111111,\"#46039f\"],[0.2222222222222222,\"#7201a8\"],[0.3333333333333333,\"#9c179e\"],[0.4444444444444444,\"#bd3786\"],[0.5555555555555556,\"#d8576b\"],[0.6666666666666666,\"#ed7953\"],[0.7777777777777778,\"#fb9f3a\"],[0.8888888888888888,\"#fdca26\"],[1.0,\"#f0f921\"]]}],\"choropleth\":[{\"type\":\"choropleth\",\"colorbar\":{\"outlinewidth\":0,\"ticks\":\"\"}}],\"histogram2d\":[{\"type\":\"histogram2d\",\"colorbar\":{\"outlinewidth\":0,\"ticks\":\"\"},\"colorscale\":[[0.0,\"#0d0887\"],[0.1111111111111111,\"#46039f\"],[0.2222222222222222,\"#7201a8\"],[0.3333333333333333,\"#9c179e\"],[0.4444444444444444,\"#bd3786\"],[0.5555555555555556,\"#d8576b\"],[0.6666666666666666,\"#ed7953\"],[0.7777777777777778,\"#fb9f3a\"],[0.8888888888888888,\"#fdca26\"],[1.0,\"#f0f921\"]]}],\"heatmap\":[{\"type\":\"heatmap\",\"colorbar\":{\"outlinewidth\":0,\"ticks\":\"\"},\"colorscale\":[[0.0,\"#0d0887\"],[0.1111111111111111,\"#46039f\"],[0.2222222222222222,\"#7201a8\"],[0.3333333333333333,\"#9c179e\"],[0.4444444444444444,\"#bd3786\"],[0.5555555555555556,\"#d8576b\"],[0.6666666666666666,\"#ed7953\"],[0.7777777777777778,\"#fb9f3a\"],[0.8888888888888888,\"#fdca26\"],[1.0,\"#f0f921\"]]}],\"heatmapgl\":[{\"type\":\"heatmapgl\",\"colorbar\":{\"outlinewidth\":0,\"ticks\":\"\"},\"colorscale\":[[0.0,\"#0d0887\"],[0.1111111111111111,\"#46039f\"],[0.2222222222222222,\"#7201a8\"],[0.3333333333333333,\"#9c179e\"],[0.4444444444444444,\"#bd3786\"],[0.5555555555555556,\"#d8576b\"],[0.6666666666666666,\"#ed7953\"],[0.7777777777777778,\"#fb9f3a\"],[0.8888888888888888,\"#fdca26\"],[1.0,\"#f0f921\"]]}],\"contourcarpet\":[{\"type\":\"contourcarpet\",\"colorbar\":{\"outlinewidth\":0,\"ticks\":\"\"}}],\"contour\":[{\"type\":\"contour\",\"colorbar\":{\"outlinewidth\":0,\"ticks\":\"\"},\"colorscale\":[[0.0,\"#0d0887\"],[0.1111111111111111,\"#46039f\"],[0.2222222222222222,\"#7201a8\"],[0.3333333333333333,\"#9c179e\"],[0.4444444444444444,\"#bd3786\"],[0.5555555555555556,\"#d8576b\"],[0.6666666666666666,\"#ed7953\"],[0.7777777777777778,\"#fb9f3a\"],[0.8888888888888888,\"#fdca26\"],[1.0,\"#f0f921\"]]}],\"surface\":[{\"type\":\"surface\",\"colorbar\":{\"outlinewidth\":0,\"ticks\":\"\"},\"colorscale\":[[0.0,\"#0d0887\"],[0.1111111111111111,\"#46039f\"],[0.2222222222222222,\"#7201a8\"],[0.3333333333333333,\"#9c179e\"],[0.4444444444444444,\"#bd3786\"],[0.5555555555555556,\"#d8576b\"],[0.6666666666666666,\"#ed7953\"],[0.7777777777777778,\"#fb9f3a\"],[0.8888888888888888,\"#fdca26\"],[1.0,\"#f0f921\"]]}],\"mesh3d\":[{\"type\":\"mesh3d\",\"colorbar\":{\"outlinewidth\":0,\"ticks\":\"\"}}],\"scatter\":[{\"fillpattern\":{\"fillmode\":\"overlay\",\"size\":10,\"solidity\":0.2},\"type\":\"scatter\"}],\"parcoords\":[{\"type\":\"parcoords\",\"line\":{\"colorbar\":{\"outlinewidth\":0,\"ticks\":\"\"}}}],\"scatterpolargl\":[{\"type\":\"scatterpolargl\",\"marker\":{\"colorbar\":{\"outlinewidth\":0,\"ticks\":\"\"}}}],\"bar\":[{\"error_x\":{\"color\":\"#2a3f5f\"},\"error_y\":{\"color\":\"#2a3f5f\"},\"marker\":{\"line\":{\"color\":\"#E5ECF6\",\"width\":0.5},\"pattern\":{\"fillmode\":\"overlay\",\"size\":10,\"solidity\":0.2}},\"type\":\"bar\"}],\"scattergeo\":[{\"type\":\"scattergeo\",\"marker\":{\"colorbar\":{\"outlinewidth\":0,\"ticks\":\"\"}}}],\"scatterpolar\":[{\"type\":\"scatterpolar\",\"marker\":{\"colorbar\":{\"outlinewidth\":0,\"ticks\":\"\"}}}],\"histogram\":[{\"marker\":{\"pattern\":{\"fillmode\":\"overlay\",\"size\":10,\"solidity\":0.2}},\"type\":\"histogram\"}],\"scattergl\":[{\"type\":\"scattergl\",\"marker\":{\"colorbar\":{\"outlinewidth\":0,\"ticks\":\"\"}}}],\"scatter3d\":[{\"type\":\"scatter3d\",\"line\":{\"colorbar\":{\"outlinewidth\":0,\"ticks\":\"\"}},\"marker\":{\"colorbar\":{\"outlinewidth\":0,\"ticks\":\"\"}}}],\"scattermapbox\":[{\"type\":\"scattermapbox\",\"marker\":{\"colorbar\":{\"outlinewidth\":0,\"ticks\":\"\"}}}],\"scatterternary\":[{\"type\":\"scatterternary\",\"marker\":{\"colorbar\":{\"outlinewidth\":0,\"ticks\":\"\"}}}],\"scattercarpet\":[{\"type\":\"scattercarpet\",\"marker\":{\"colorbar\":{\"outlinewidth\":0,\"ticks\":\"\"}}}],\"carpet\":[{\"aaxis\":{\"endlinecolor\":\"#2a3f5f\",\"gridcolor\":\"white\",\"linecolor\":\"white\",\"minorgridcolor\":\"white\",\"startlinecolor\":\"#2a3f5f\"},\"baxis\":{\"endlinecolor\":\"#2a3f5f\",\"gridcolor\":\"white\",\"linecolor\":\"white\",\"minorgridcolor\":\"white\",\"startlinecolor\":\"#2a3f5f\"},\"type\":\"carpet\"}],\"table\":[{\"cells\":{\"fill\":{\"color\":\"#EBF0F8\"},\"line\":{\"color\":\"white\"}},\"header\":{\"fill\":{\"color\":\"#C8D4E3\"},\"line\":{\"color\":\"white\"}},\"type\":\"table\"}],\"barpolar\":[{\"marker\":{\"line\":{\"color\":\"#E5ECF6\",\"width\":0.5},\"pattern\":{\"fillmode\":\"overlay\",\"size\":10,\"solidity\":0.2}},\"type\":\"barpolar\"}],\"pie\":[{\"automargin\":true,\"type\":\"pie\"}]},\"layout\":{\"autotypenumbers\":\"strict\",\"colorway\":[\"#636efa\",\"#EF553B\",\"#00cc96\",\"#ab63fa\",\"#FFA15A\",\"#19d3f3\",\"#FF6692\",\"#B6E880\",\"#FF97FF\",\"#FECB52\"],\"font\":{\"color\":\"#2a3f5f\"},\"hovermode\":\"closest\",\"hoverlabel\":{\"align\":\"left\"},\"paper_bgcolor\":\"white\",\"plot_bgcolor\":\"#E5ECF6\",\"polar\":{\"bgcolor\":\"#E5ECF6\",\"angularaxis\":{\"gridcolor\":\"white\",\"linecolor\":\"white\",\"ticks\":\"\"},\"radialaxis\":{\"gridcolor\":\"white\",\"linecolor\":\"white\",\"ticks\":\"\"}},\"ternary\":{\"bgcolor\":\"#E5ECF6\",\"aaxis\":{\"gridcolor\":\"white\",\"linecolor\":\"white\",\"ticks\":\"\"},\"baxis\":{\"gridcolor\":\"white\",\"linecolor\":\"white\",\"ticks\":\"\"},\"caxis\":{\"gridcolor\":\"white\",\"linecolor\":\"white\",\"ticks\":\"\"}},\"coloraxis\":{\"colorbar\":{\"outlinewidth\":0,\"ticks\":\"\"}},\"colorscale\":{\"sequential\":[[0.0,\"#0d0887\"],[0.1111111111111111,\"#46039f\"],[0.2222222222222222,\"#7201a8\"],[0.3333333333333333,\"#9c179e\"],[0.4444444444444444,\"#bd3786\"],[0.5555555555555556,\"#d8576b\"],[0.6666666666666666,\"#ed7953\"],[0.7777777777777778,\"#fb9f3a\"],[0.8888888888888888,\"#fdca26\"],[1.0,\"#f0f921\"]],\"sequentialminus\":[[0.0,\"#0d0887\"],[0.1111111111111111,\"#46039f\"],[0.2222222222222222,\"#7201a8\"],[0.3333333333333333,\"#9c179e\"],[0.4444444444444444,\"#bd3786\"],[0.5555555555555556,\"#d8576b\"],[0.6666666666666666,\"#ed7953\"],[0.7777777777777778,\"#fb9f3a\"],[0.8888888888888888,\"#fdca26\"],[1.0,\"#f0f921\"]],\"diverging\":[[0,\"#8e0152\"],[0.1,\"#c51b7d\"],[0.2,\"#de77ae\"],[0.3,\"#f1b6da\"],[0.4,\"#fde0ef\"],[0.5,\"#f7f7f7\"],[0.6,\"#e6f5d0\"],[0.7,\"#b8e186\"],[0.8,\"#7fbc41\"],[0.9,\"#4d9221\"],[1,\"#276419\"]]},\"xaxis\":{\"gridcolor\":\"white\",\"linecolor\":\"white\",\"ticks\":\"\",\"title\":{\"standoff\":15},\"zerolinecolor\":\"white\",\"automargin\":true,\"zerolinewidth\":2},\"yaxis\":{\"gridcolor\":\"white\",\"linecolor\":\"white\",\"ticks\":\"\",\"title\":{\"standoff\":15},\"zerolinecolor\":\"white\",\"automargin\":true,\"zerolinewidth\":2},\"scene\":{\"xaxis\":{\"backgroundcolor\":\"#E5ECF6\",\"gridcolor\":\"white\",\"linecolor\":\"white\",\"showbackground\":true,\"ticks\":\"\",\"zerolinecolor\":\"white\",\"gridwidth\":2},\"yaxis\":{\"backgroundcolor\":\"#E5ECF6\",\"gridcolor\":\"white\",\"linecolor\":\"white\",\"showbackground\":true,\"ticks\":\"\",\"zerolinecolor\":\"white\",\"gridwidth\":2},\"zaxis\":{\"backgroundcolor\":\"#E5ECF6\",\"gridcolor\":\"white\",\"linecolor\":\"white\",\"showbackground\":true,\"ticks\":\"\",\"zerolinecolor\":\"white\",\"gridwidth\":2}},\"shapedefaults\":{\"line\":{\"color\":\"#2a3f5f\"}},\"annotationdefaults\":{\"arrowcolor\":\"#2a3f5f\",\"arrowhead\":0,\"arrowwidth\":1},\"geo\":{\"bgcolor\":\"white\",\"landcolor\":\"#E5ECF6\",\"subunitcolor\":\"white\",\"showland\":true,\"showlakes\":true,\"lakecolor\":\"white\"},\"title\":{\"x\":0.05},\"mapbox\":{\"style\":\"light\"}}},\"legend\":{\"title\":{\"text\":\"color\"},\"tracegroupgap\":0},\"title\":{\"text\":\"V-Cr-Ti-W-Zr Alloy Compositions by Generation\"},\"dragmode\":\"select\",\"height\":800},                        {\"responsive\": true}                    ).then(function(){\n",
       "                            \n",
       "var gd = document.getElementById('9e7c59c3-a7d4-4bc3-afde-17bc1baf7d35');\n",
       "var x = new MutationObserver(function (mutations, observer) {{\n",
       "        var display = window.getComputedStyle(gd).display;\n",
       "        if (!display || display === 'none') {{\n",
       "            console.log([gd, 'removed!']);\n",
       "            Plotly.purge(gd);\n",
       "            observer.disconnect();\n",
       "        }}\n",
       "}});\n",
       "\n",
       "// Listen for the removal of the full notebook cells\n",
       "var notebookContainer = gd.closest('#notebook-container');\n",
       "if (notebookContainer) {{\n",
       "    x.observe(notebookContainer, {childList: true});\n",
       "}}\n",
       "\n",
       "// Listen for the clearing of the current output cell\n",
       "var outputEl = gd.closest('.output');\n",
       "if (outputEl) {{\n",
       "    x.observe(outputEl, {childList: true});\n",
       "}}\n",
       "\n",
       "                        })                };                });            </script>        </div>"
      ]
     },
     "metadata": {},
     "output_type": "display_data"
    }
   ],
   "source": [
    "random.seed(42)\n",
    "pre = 3\n",
    "post = 4\n",
    "num_compositions = 10\n",
    "# Example usage\n",
    "if __name__ == \"__main__\":\n",
    "    # Load and filter existing compositions\n",
    "    df_existing = load_compositions(f'compositions_gen{pre}.json')\n",
    "    df_existing = filter_compositions(df_existing)\n",
    "    \n",
    "    # Generate new compositions for generation 1\n",
    "    df_new = generate_new_compositions(num_compositions, post)\n",
    "    \n",
    "    # Combine existing and new compositions\n",
    "    df_combined = combine_compositions(df_existing, df_new)\n",
    "    \n",
    "    # Save combined compositions to JSON\n",
    "    save_compositions_to_json(df_combined, f'compositions_gen{post}.json')\n",
    "    \n",
    "    # Plot combined compositions\n",
    "    plot_compositions(df_combined)\n"
   ]
  },
  {
   "cell_type": "code",
   "execution_count": 10,
   "metadata": {},
   "outputs": [],
   "source": [
    "gen_num = 3\n",
    "json_file = f'../Notebooks/compositions_gen{gen_num}.json'\n",
    "output_dir = f'../Visualization/Job_Structures/Pre_VASP/VCrTiWZr_Summit/Gen_{gen_num}/Perfect'\n",
    "\n",
    "# make the output directory\n",
    "if not os.path.exists(output_dir):\n",
    "    os.makedirs(output_dir)\n",
    "\n"
   ]
  },
  {
   "cell_type": "code",
   "execution_count": 11,
   "metadata": {},
   "outputs": [],
   "source": [
    "supercells = create_supercells_for_compositions(json_file, output_dir, num_structures=3, lattice_parameter=3.01 , supercell_type='prim')"
   ]
  },
  {
   "cell_type": "code",
   "execution_count": 5,
   "metadata": {},
   "outputs": [
    {
     "name": "stdout",
     "output_type": "stream",
     "text": [
      "96\n"
     ]
    }
   ],
   "source": [
    "print(len(supercells))"
   ]
  },
  {
   "cell_type": "code",
   "execution_count": 12,
   "metadata": {},
   "outputs": [
    {
     "name": "stderr",
     "output_type": "stream",
     "text": [
      "/home/myless/.mambaforge/envs/chgnet/lib/python3.10/site-packages/pymatgen/io/cif.py:1186: UserWarning: The default value of primitive was changed from True to False in https://github.com/materialsproject/pymatgen/pull/3419. CifParser now returns the cell in the CIF file as is. If you want the primitive cell, please set primitive=True explicitly.\n",
      "  warnings.warn(\n"
     ]
    }
   ],
   "source": [
    "# now if generation = 0, let's make vasp relaxation jobs for all of these structures\n",
    "# first we will get the list of all the .cif files in the structure output directory\n",
    "\n",
    "gen_num = 3\n",
    "cif_files = [f for f in os.listdir(output_dir) if f.endswith('.cif')]\n",
    "\n",
    "# next select only the structure names that contains gen0\n",
    "gen0_structures = [f for f in cif_files if f'gen{gen_num}' in f]\n",
    "\n",
    "# now define vasp_job folder\n",
    "vasp_job_dir = f'../Archived_Vasp_Jobs/VCrTiWZr_Summit/gen{gen_num}'\n",
    "# check if the vasp_job_dir exists, if not create it\n",
    "if not os.path.exists(vasp_job_dir):\n",
    "    os.makedirs(vasp_job_dir)\n",
    "kpoints = (6,6,6)\n",
    "# now we will create the vasp job files for all the gen0 structures\n",
    "for f in gen0_structures:\n",
    "    cif_file = os.path.join(output_dir, f)\n",
    "    struct = Structure.from_file(cif_file)\n",
    "\n",
    "    # define job path \n",
    "    vasp_job_path = os.path.join(vasp_job_dir, f.replace('.cif', ''))\n",
    "\n",
    "    # make the vasp_job_path directory\n",
    "    if not os.path.exists(vasp_job_path):\n",
    "        os.makedirs(vasp_job_path)\n",
    "\n",
    "    # make a vasp job from the structure\n",
    "    make_vasp_job(struct, vasp_job_path, kpoints_params=kpoints, vol_relax=True)\n",
    "\n"
   ]
  },
  {
   "cell_type": "markdown",
   "metadata": {},
   "source": [
    "# Generate Defects from pristine systems"
   ]
  },
  {
   "cell_type": "markdown",
   "metadata": {},
   "source": [
    "## defect functions"
   ]
  },
  {
   "cell_type": "code",
   "execution_count": 15,
   "metadata": {},
   "outputs": [],
   "source": [
    "import os\n",
    "import json\n",
    "import sys\n",
    "import numpy as np\n",
    "import random\n",
    "from smol.io import load_work\n",
    "from pymatgen.core.structure import Structure\n",
    "from pymatgen.entries.computed_entries import ComputedStructureEntry\n",
    "from pymatgen.io.vasp.inputs import Poscar\n",
    "from ase.db import connect\n",
    "from ase.io import write\n",
    "from ase.visualize import view\n",
    "\n",
    "sys.path.append('../Modules')\n",
    "from defect_maker import make_defects, return_x_neighbors\n",
    "\n",
    "# Function to load and sort the structure\n",
    "def load_and_sort_structure(entry):\n",
    "    return Structure.from_dict(entry['structure']).get_sorted_structure()\n",
    "\n",
    "# Function to find N target atoms without overlapping second nearest neighbors\n",
    "def find_target_atoms(structure, N):\n",
    "    all_indices = list(range(len(structure)))\n",
    "    random.shuffle(all_indices)\n",
    "    target_atoms = []\n",
    "    neighbor_sets = []\n",
    "\n",
    "    print(f\"All indices: {all_indices}\")\n",
    "\n",
    "    while all_indices and len(target_atoms) < N:\n",
    "        index = all_indices.pop()\n",
    "        neighbors, _ = return_x_neighbors(structure, target_atom_index=index, x_neighbor=2, alat=structure.lattice.a)\n",
    "        \n",
    "        print(f\"Index: {index}, Neighbors: {neighbors}\")\n",
    "\n",
    "        if not any(set(neighbors).intersection(neighbor_set) for neighbor_set in neighbor_sets):\n",
    "            target_atoms.append(index)\n",
    "            neighbor_sets.append(set(neighbors))\n",
    "            print(f\"Selected target atom index: {index}\")\n",
    "\n",
    "    return target_atoms if len(target_atoms) == N else None\n",
    "\n",
    "# Function to select a random neighbor\n",
    "def select_random_neighbor(structure, target_atom_index, x_neighbor):\n",
    "    neighbors, _ = return_x_neighbors(structure, target_atom_index, x_neighbor, structure.lattice.a)\n",
    "    if neighbors:\n",
    "        return random.choice(neighbors)\n",
    "    return None\n",
    "\n",
    "# Function to create and save structures with vacancies\n",
    "def create_and_save_structures(entries, N, job_path):\n",
    "    for k, entry in enumerate(entries):\n",
    "        print(f\"Processing entry {k+1}/{len(entries)}...\")\n",
    "        structure = load_and_sort_structure(entry)\n",
    "        target_atoms = find_target_atoms(structure, N)\n",
    "        if not target_atoms:\n",
    "            print(f\"No suitable target atoms found for entry {k+1}. Skipping...\")\n",
    "            continue\n",
    "        print(f\"Found target atoms for entry {k+1}: {target_atoms}\")\n",
    "\n",
    "        for n, target_atom_index in enumerate(target_atoms):\n",
    "            start_structure, _ = make_defects(structure, target_atom_index, target_atom_index)\n",
    "            if start_structure is None:\n",
    "                print(f\"Failed to create start structure for entry {k+1}, target atom {target_atom_index}.\")\n",
    "                continue\n",
    "\n",
    "            for x_neighbor in [1, 2, 3]:\n",
    "                vac_site = select_random_neighbor(structure, target_atom_index, x_neighbor)\n",
    "                if vac_site is not None:\n",
    "                    _, end_structure = make_defects(structure, target_atom_index, vac_site)\n",
    "                    if end_structure is None:\n",
    "                        print(f\"Failed to create end structure for entry {k+1}, target atom {target_atom_index}, vac_site {vac_site}.\")\n",
    "                        continue\n",
    "\n",
    "                    # Create directory and filenames\n",
    "                    directory = os.path.join(job_path, f\"structure_{k}_vac_site_{n}\")\n",
    "                    os.makedirs(directory, exist_ok=True)\n",
    "                    print(f\"Created directory: {directory}\")\n",
    "\n",
    "                    start_filename = os.path.join(directory, f\"structure_{k}_vac_site_{n}_start.vasp\")\n",
    "                    end_filename = os.path.join(directory, f\"structure_{k}_vac_site_{n}_end_site_{vac_site}.vasp\")\n",
    "\n",
    "                    # Write the structures to POSCAR files\n",
    "                    Poscar(start_structure).write_file(start_filename)\n",
    "                    print(f\"Written start structure to {start_filename}\")\n",
    "                    Poscar(end_structure).write_file(end_filename)\n",
    "                    print(f\"Written end structure to {end_filename}\")\n",
    "\n"
   ]
  },
  {
   "cell_type": "markdown",
   "metadata": {},
   "source": [
    "## use functions to make defects"
   ]
  },
  {
   "cell_type": "markdown",
   "metadata": {},
   "source": [
    "Here I need to save all the finished perfect jobs as pymatgen computed structure entries"
   ]
  },
  {
   "cell_type": "code",
   "execution_count": null,
   "metadata": {},
   "outputs": [],
   "source": [
    "# Directory containing the .mson files\n",
    "mcmc_path = '../Visualization/Job_Structures/Pre_VASP/VCrTi_fixed_64'\n",
    "output_filepath = '../Entries/post_mcmc_vcrti_entries.json'\n",
    "\n",
    "# Initialize an empty list to store the computed structure entries\n",
    "computed_entries = []\n",
    "\n",
    "# Iterate over each file in the directory\n",
    "for filename in os.listdir(mcmc_path):\n",
    "    if filename.endswith('.mson'):\n",
    "        filepath = os.path.join(mcmc_path, filename)\n",
    "        \n",
    "        # Load the sample data from the .mson file\n",
    "        samples = load_work(filepath)\n",
    "        \n",
    "        # Get the energies and structures\n",
    "        energies = samples['SampleContainer'].get_energies()\n",
    "        # Get the minimum energy and corresponding structure\n",
    "        min_energy_index = np.argmin(energies)\n",
    "        min_energy = energies[min_energy_index]\n",
    "\n",
    "        min_structure = samples['SampleContainer'].get_sampled_structures(indices=[min_energy_index])[0]\n",
    "        \n",
    "        # Create a ComputedStructureEntry for the minimum energy structure\n",
    "        min_entry = ComputedStructureEntry(structure=min_structure, energy=min_energy)\n",
    "        \n",
    "        # Append the entry to the list\n",
    "        computed_entries.append(min_entry)\n",
    "\n",
    "# Convert the list of entries to a JSON serializable format\n",
    "entries_dict = [entry.as_dict() for entry in computed_entries]\n",
    "\n",
    "# Save the list as a JSON file\n",
    "with open(output_filepath, 'w') as f:\n",
    "    json.dump(entries_dict, f, indent=4)\n",
    "\n",
    "print(f\"Saved computed entries to {output_filepath}\")\n",
    "\n",
    "# Load the computed entries from the JSON file\n",
    "refined_entries = json.load(open(output_filepath, 'r'))\n",
    "\n",
    "# Path to save the VASP job structures\n",
    "vasp_job_path = '../Archived_Vasp_Jobs/VCrTi_Vacancies_T3'\n",
    "\n",
    "# Create and save structures with vacancies\n",
    "create_and_save_structures(refined_entries, N=3, job_path=vasp_job_path)"
   ]
  },
  {
   "cell_type": "markdown",
   "metadata": {},
   "source": [
    "Now create vasp vacancy calculation start jobs (isif = 3) from these folders"
   ]
  },
  {
   "cell_type": "code",
   "execution_count": null,
   "metadata": {},
   "outputs": [
    {
     "name": "stdout",
     "output_type": "stream",
     "text": [
      "Created VASP job for structure_3_vac_site_2_start.vasp in ../Archived_Vasp_Jobs/VCrTi_Vacancies_T3_jobs/structure_3_vac_site_2_start\n",
      "Created VASP job for structure_3_vac_site_2_end_site_35.vasp in ../Archived_Vasp_Jobs/VCrTi_Vacancies_T3_jobs/structure_3_vac_site_2_end_site_35\n",
      "Created VASP job for structure_3_vac_site_2_end_site_14.vasp in ../Archived_Vasp_Jobs/VCrTi_Vacancies_T3_jobs/structure_3_vac_site_2_end_site_14\n",
      "Created VASP job for structure_3_vac_site_2_end_site_5.vasp in ../Archived_Vasp_Jobs/VCrTi_Vacancies_T3_jobs/structure_3_vac_site_2_end_site_5\n",
      "Created VASP job for structure_2_vac_site_0_end_site_3.vasp in ../Archived_Vasp_Jobs/VCrTi_Vacancies_T3_jobs/structure_2_vac_site_0_end_site_3\n",
      "Created VASP job for structure_2_vac_site_0_end_site_40.vasp in ../Archived_Vasp_Jobs/VCrTi_Vacancies_T3_jobs/structure_2_vac_site_0_end_site_40\n",
      "Created VASP job for structure_2_vac_site_0_end_site_43.vasp in ../Archived_Vasp_Jobs/VCrTi_Vacancies_T3_jobs/structure_2_vac_site_0_end_site_43\n",
      "Created VASP job for structure_2_vac_site_0_start.vasp in ../Archived_Vasp_Jobs/VCrTi_Vacancies_T3_jobs/structure_2_vac_site_0_start\n",
      "Created VASP job for structure_2_vac_site_1_start.vasp in ../Archived_Vasp_Jobs/VCrTi_Vacancies_T3_jobs/structure_2_vac_site_1_start\n",
      "Created VASP job for structure_2_vac_site_1_end_site_32.vasp in ../Archived_Vasp_Jobs/VCrTi_Vacancies_T3_jobs/structure_2_vac_site_1_end_site_32\n",
      "Created VASP job for structure_2_vac_site_1_end_site_12.vasp in ../Archived_Vasp_Jobs/VCrTi_Vacancies_T3_jobs/structure_2_vac_site_1_end_site_12\n",
      "Created VASP job for structure_2_vac_site_1_end_site_19.vasp in ../Archived_Vasp_Jobs/VCrTi_Vacancies_T3_jobs/structure_2_vac_site_1_end_site_19\n",
      "Created VASP job for structure_1_vac_site_2_start.vasp in ../Archived_Vasp_Jobs/VCrTi_Vacancies_T3_jobs/structure_1_vac_site_2_start\n",
      "Created VASP job for structure_1_vac_site_2_end_site_4.vasp in ../Archived_Vasp_Jobs/VCrTi_Vacancies_T3_jobs/structure_1_vac_site_2_end_site_4\n",
      "Created VASP job for structure_1_vac_site_2_end_site_45.vasp in ../Archived_Vasp_Jobs/VCrTi_Vacancies_T3_jobs/structure_1_vac_site_2_end_site_45\n",
      "Created VASP job for structure_1_vac_site_2_end_site_23.vasp in ../Archived_Vasp_Jobs/VCrTi_Vacancies_T3_jobs/structure_1_vac_site_2_end_site_23\n",
      "Created VASP job for structure_0_vac_site_0_end_site_53.vasp in ../Archived_Vasp_Jobs/VCrTi_Vacancies_T3_jobs/structure_0_vac_site_0_end_site_53\n",
      "Created VASP job for structure_0_vac_site_0_end_site_7.vasp in ../Archived_Vasp_Jobs/VCrTi_Vacancies_T3_jobs/structure_0_vac_site_0_end_site_7\n",
      "Created VASP job for structure_0_vac_site_0_end_site_57.vasp in ../Archived_Vasp_Jobs/VCrTi_Vacancies_T3_jobs/structure_0_vac_site_0_end_site_57\n",
      "Created VASP job for structure_0_vac_site_0_start.vasp in ../Archived_Vasp_Jobs/VCrTi_Vacancies_T3_jobs/structure_0_vac_site_0_start\n",
      "Created VASP job for structure_0_vac_site_1_end_site_49.vasp in ../Archived_Vasp_Jobs/VCrTi_Vacancies_T3_jobs/structure_0_vac_site_1_end_site_49\n",
      "Created VASP job for structure_0_vac_site_1_start.vasp in ../Archived_Vasp_Jobs/VCrTi_Vacancies_T3_jobs/structure_0_vac_site_1_start\n",
      "Created VASP job for structure_0_vac_site_1_end_site_39.vasp in ../Archived_Vasp_Jobs/VCrTi_Vacancies_T3_jobs/structure_0_vac_site_1_end_site_39\n",
      "Created VASP job for structure_0_vac_site_1_end_site_17.vasp in ../Archived_Vasp_Jobs/VCrTi_Vacancies_T3_jobs/structure_0_vac_site_1_end_site_17\n",
      "Created VASP job for structure_3_vac_site_0_end_site_61.vasp in ../Archived_Vasp_Jobs/VCrTi_Vacancies_T3_jobs/structure_3_vac_site_0_end_site_61\n",
      "Created VASP job for structure_3_vac_site_0_end_site_11.vasp in ../Archived_Vasp_Jobs/VCrTi_Vacancies_T3_jobs/structure_3_vac_site_0_end_site_11\n",
      "Created VASP job for structure_3_vac_site_0_end_site_26.vasp in ../Archived_Vasp_Jobs/VCrTi_Vacancies_T3_jobs/structure_3_vac_site_0_end_site_26\n",
      "Created VASP job for structure_3_vac_site_0_start.vasp in ../Archived_Vasp_Jobs/VCrTi_Vacancies_T3_jobs/structure_3_vac_site_0_start\n",
      "Created VASP job for structure_3_vac_site_1_end_site_39.vasp in ../Archived_Vasp_Jobs/VCrTi_Vacancies_T3_jobs/structure_3_vac_site_1_end_site_39\n",
      "Created VASP job for structure_3_vac_site_1_end_site_18.vasp in ../Archived_Vasp_Jobs/VCrTi_Vacancies_T3_jobs/structure_3_vac_site_1_end_site_18\n",
      "Created VASP job for structure_3_vac_site_1_start.vasp in ../Archived_Vasp_Jobs/VCrTi_Vacancies_T3_jobs/structure_3_vac_site_1_start\n",
      "Created VASP job for structure_3_vac_site_1_end_site_32.vasp in ../Archived_Vasp_Jobs/VCrTi_Vacancies_T3_jobs/structure_3_vac_site_1_end_site_32\n",
      "Created VASP job for structure_2_vac_site_2_end_site_48.vasp in ../Archived_Vasp_Jobs/VCrTi_Vacancies_T3_jobs/structure_2_vac_site_2_end_site_48\n",
      "Created VASP job for structure_2_vac_site_2_end_site_29.vasp in ../Archived_Vasp_Jobs/VCrTi_Vacancies_T3_jobs/structure_2_vac_site_2_end_site_29\n",
      "Created VASP job for structure_2_vac_site_2_end_site_12.vasp in ../Archived_Vasp_Jobs/VCrTi_Vacancies_T3_jobs/structure_2_vac_site_2_end_site_12\n",
      "Created VASP job for structure_2_vac_site_2_start.vasp in ../Archived_Vasp_Jobs/VCrTi_Vacancies_T3_jobs/structure_2_vac_site_2_start\n",
      "Created VASP job for structure_1_vac_site_0_start.vasp in ../Archived_Vasp_Jobs/VCrTi_Vacancies_T3_jobs/structure_1_vac_site_0_start\n",
      "Created VASP job for structure_1_vac_site_0_end_site_58.vasp in ../Archived_Vasp_Jobs/VCrTi_Vacancies_T3_jobs/structure_1_vac_site_0_end_site_58\n",
      "Created VASP job for structure_1_vac_site_0_end_site_37.vasp in ../Archived_Vasp_Jobs/VCrTi_Vacancies_T3_jobs/structure_1_vac_site_0_end_site_37\n",
      "Created VASP job for structure_1_vac_site_0_end_site_27.vasp in ../Archived_Vasp_Jobs/VCrTi_Vacancies_T3_jobs/structure_1_vac_site_0_end_site_27\n",
      "Created VASP job for structure_1_vac_site_1_end_site_58.vasp in ../Archived_Vasp_Jobs/VCrTi_Vacancies_T3_jobs/structure_1_vac_site_1_end_site_58\n",
      "Created VASP job for structure_1_vac_site_1_end_site_4.vasp in ../Archived_Vasp_Jobs/VCrTi_Vacancies_T3_jobs/structure_1_vac_site_1_end_site_4\n",
      "Created VASP job for structure_1_vac_site_1_end_site_46.vasp in ../Archived_Vasp_Jobs/VCrTi_Vacancies_T3_jobs/structure_1_vac_site_1_end_site_46\n",
      "Created VASP job for structure_1_vac_site_1_start.vasp in ../Archived_Vasp_Jobs/VCrTi_Vacancies_T3_jobs/structure_1_vac_site_1_start\n",
      "Created VASP job for structure_0_vac_site_2_end_site_8.vasp in ../Archived_Vasp_Jobs/VCrTi_Vacancies_T3_jobs/structure_0_vac_site_2_end_site_8\n",
      "Created VASP job for structure_0_vac_site_2_start.vasp in ../Archived_Vasp_Jobs/VCrTi_Vacancies_T3_jobs/structure_0_vac_site_2_start\n",
      "Created VASP job for structure_0_vac_site_2_end_site_63.vasp in ../Archived_Vasp_Jobs/VCrTi_Vacancies_T3_jobs/structure_0_vac_site_2_end_site_63\n",
      "Created VASP job for structure_0_vac_site_2_end_site_49.vasp in ../Archived_Vasp_Jobs/VCrTi_Vacancies_T3_jobs/structure_0_vac_site_2_end_site_49\n"
     ]
    }
   ],
   "source": [
    "\n",
    "def create_vasp_jobs_from_vasp_files(vasp_files_dir, vasp_job_path, kpoints_params, vol_relax=False, incar_params=None):\n",
    "    for subdir in os.listdir(vasp_files_dir):\n",
    "        subdir_path = os.path.join(vasp_files_dir, subdir)\n",
    "        if os.path.isdir(subdir_path):\n",
    "            for filename in os.listdir(subdir_path):\n",
    "                if filename.endswith('.vasp'):\n",
    "                    filepath = os.path.join(subdir_path, filename)\n",
    "                    job_name = os.path.splitext(filename)[0]\n",
    "                    job_folder = os.path.join(vasp_job_path, job_name)\n",
    "                    os.makedirs(job_folder, exist_ok=True)\n",
    "                    \n",
    "                    structure = Poscar.from_file(filepath).structure\n",
    "                    \n",
    "                    make_vasp_job(supercell=structure, job_path=job_folder, kpoints_params=kpoints_params, vol_relax=vol_relax, incar_params=incar_params)\n",
    "                    #make_slurm_file(job_path=job_folder, i=job_name,num_gpus=1,omp_threads=10) # comment out if you are on summit\n",
    "                    print(f\"Created VASP job for {filename} in {job_folder}\")\n",
    "\n",
    "# Directory containing the .vasp files in subdirectories\n",
    "vasp_files_dir = '../Archived_Vasp_Jobs/VCrTi_Vacancies_T3'\n",
    "vasp_job_path = '../Archived_Vasp_Jobs/VCrTi_Vacancies_T3_jobs'\n",
    "kpoints_params = (6, 6, 6)\n",
    "\n",
    "# Create VASP jobs from .vasp files in subdirectories\n",
    "create_vasp_jobs_from_vasp_files(vasp_files_dir, vasp_job_path, kpoints_params, vol_relax=True) # change vol_relax to True for start points "
   ]
  }
 ],
 "metadata": {
  "kernelspec": {
   "display_name": "smol",
   "language": "python",
   "name": "python3"
  },
  "language_info": {
   "codemirror_mode": {
    "name": "ipython",
    "version": 3
   },
   "file_extension": ".py",
   "mimetype": "text/x-python",
   "name": "python",
   "nbconvert_exporter": "python",
   "pygments_lexer": "ipython3",
   "version": "3.10.0"
  }
 },
 "nbformat": 4,
 "nbformat_minor": 2
}
