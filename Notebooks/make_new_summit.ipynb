{
 "cells": [
  {
   "cell_type": "code",
   "execution_count": 1,
   "metadata": {},
   "outputs": [],
   "source": [
    "import os\n",
    "import json\n",
    "import sys\n",
    "import numpy as np\n",
    "import random\n",
    "from smol.io import load_work\n",
    "from pymatgen.core.structure import Structure\n",
    "from pymatgen.entries.computed_entries import ComputedStructureEntry\n",
    "from pymatgen.io.vasp.inputs import Poscar\n",
    "from ase.db import connect\n",
    "from ase.io import write\n",
    "from ase.visualize import view\n",
    "\n",
    "sys.path.append('../Modules')\n",
    "from structure_generation import * \n",
    "from vasp_misc import *\n"
   ]
  },
  {
   "cell_type": "markdown",
   "metadata": {},
   "source": [
    "# Composition Selection"
   ]
  },
  {
   "cell_type": "markdown",
   "metadata": {},
   "source": [
    "## functions"
   ]
  },
  {
   "cell_type": "code",
   "execution_count": 2,
   "metadata": {},
   "outputs": [
    {
     "name": "stderr",
     "output_type": "stream",
     "text": [
      "/var/folders/p0/vc4k8wq14yx5wd2wvcxs3qhh0000gn/T/ipykernel_97864/3551627776.py:2: DeprecationWarning: \n",
      "Pyarrow will become a required dependency of pandas in the next major release of pandas (pandas 3.0),\n",
      "(to allow more performant data types, such as the Arrow string type, and better interoperability with other libraries)\n",
      "but was not found to be installed on your system.\n",
      "If this would cause problems for you,\n",
      "please provide us feedback at https://github.com/pandas-dev/pandas/issues/54466\n",
      "        \n",
      "  import pandas as pd\n"
     ]
    }
   ],
   "source": [
    "import json\n",
    "import pandas as pd\n",
    "import numpy as np\n",
    "import plotly.express as px\n",
    "import plotly.graph_objects as go\n",
    "\n",
    "def load_compositions(json_file):\n",
    "    \"\"\"Load compositions from a JSON file.\"\"\"\n",
    "    with open(json_file) as f:\n",
    "        compositions = json.load(f)\n",
    "    df = pd.DataFrame(compositions)\n",
    "    if 'Generation' not in df.columns:\n",
    "        df['Generation'] = 0\n",
    "    return df\n",
    "\n",
    "def filter_compositions(df):\n",
    "    \"\"\"Filter compositions to ensure they meet the initial constraints.\"\"\"\n",
    "    #return df[(df['V'] >= 0.8) & \n",
    "    return df[(df['V'] >= 0.20) &\n",
    "              (df['Cr'] >= 0.001) & \n",
    "              (df['Ti'] >= 0.001) & \n",
    "              (df['W'] >= 0.001) & \n",
    "              (df['Zr'] >= 0.001)]\n",
    "\n",
    "def generate_random_composition():\n",
    "    \"\"\"Generate a valid random composition within the specified constraints.\"\"\"\n",
    "    #min_v = 0.85\n",
    "    min_v = 0.2\n",
    "    #changed for hea version\n",
    "    while True:\n",
    "        V = np.random.uniform(min_v, 1)\n",
    "        #Cr = np.random.uniform(0.001, 0.2)\n",
    "        Cr = np.random.uniform(0.01, 0.2)\n",
    "        #Ti = np.random.uniform(0.001, 0.2)\n",
    "        Ti = np.random.uniform(0.01, 0.2)\n",
    "        #W = np.random.uniform(0.001, 0.2)\n",
    "        W = np.random.uniform(0.01, 0.2)\n",
    "        #Zr = np.random.uniform(0.001, 0.2)\n",
    "        Zr = np.random.uniform(0.01, 0.2)\n",
    "        total = V + Cr + Ti + W + Zr\n",
    "        V /= total\n",
    "        Cr /= total\n",
    "        Ti /= total\n",
    "        W /= total\n",
    "        Zr /= total\n",
    "        if V >= min_v:\n",
    "            return [V, Cr, Ti, W, Zr]\n",
    "\n",
    "def generate_new_compositions(n, generation):\n",
    "    \"\"\"Generate new compositions and return as a DataFrame.\"\"\"\n",
    "    new_compositions = []\n",
    "    for _ in range(n):\n",
    "        new_compositions.append(generate_random_composition())\n",
    "    new_df = pd.DataFrame(new_compositions, columns=['V', 'Cr', 'Ti', 'W', 'Zr'])\n",
    "    new_df['Generation'] = generation\n",
    "    return new_df\n",
    "\n",
    "def combine_compositions(df_existing, df_new):\n",
    "    \"\"\"Combine existing and new compositions into one DataFrame.\"\"\"\n",
    "    return pd.concat([df_existing, df_new], ignore_index=True)\n",
    "\n",
    "def save_compositions_to_json(df, json_file):\n",
    "    \"\"\"Save compositions to a JSON file.\"\"\"\n",
    "    compositions_list = df.to_dict(orient='records')\n",
    "    with open(json_file, 'w') as f:\n",
    "        json.dump(compositions_list, f, indent=4)\n",
    "\n",
    "def plot_compositions(df):\n",
    "    \"\"\"Plot compositions using Plotly with manual color assignment for each generation.\"\"\"\n",
    "    unique_generations = df['Generation'].unique()\n",
    "    colors = px.colors.qualitative.Set1 + px.colors.qualitative.Set2 + px.colors.qualitative.Set3\n",
    "    \n",
    "    if len(unique_generations) > len(colors):\n",
    "        raise ValueError(\"Too many generations for the available color palette\")\n",
    "\n",
    "    color_map = {gen: colors[i] for i, gen in enumerate(sorted(unique_generations))}\n",
    "    df['color'] = df['Generation'].map(color_map)\n",
    "\n",
    "    fig = px.scatter_matrix(df,\n",
    "                            dimensions=['V', 'Cr', 'Ti', 'W', 'Zr'],\n",
    "                            color='color',\n",
    "                            title='V-Cr-Ti-W-Zr Alloy Compositions by Generation',\n",
    "                            labels={'V': 'Vanadium', 'Cr': 'Chromium', 'Ti': 'Titanium', 'W': 'Tungsten', 'Zr': 'Zirconium'},\n",
    "                            height=800)\n",
    "    \n",
    "    # Hide the automatic legend entries\n",
    "    for trace in fig.data:\n",
    "        trace.showlegend = False\n",
    "\n",
    "    # Updating the color legend manually\n",
    "    for gen, color in color_map.items():\n",
    "        fig.add_trace(go.Scatter(x=[None], y=[None], mode='markers',\n",
    "                                 marker=dict(size=10, color=color),\n",
    "                                 legendgroup=str(gen),\n",
    "                                 showlegend=True,\n",
    "                                 name=f'Generation {gen}'))\n",
    "    \n",
    "    fig.update_traces(marker=dict(size=10, opacity=0.8), selector=dict(mode='markers'))\n",
    "    fig.show()\n"
   ]
  },
  {
   "cell_type": "markdown",
   "metadata": {},
   "source": [
    "## generate compositions and view"
   ]
  },
  {
   "cell_type": "code",
   "execution_count": 114,
   "metadata": {},
   "outputs": [
    {
     "name": "stderr",
     "output_type": "stream",
     "text": [
      "/opt/homebrew/Caskroom/miniforge/base/envs/smol/lib/python3.10/site-packages/plotly/express/_core.py:2065: FutureWarning:\n",
      "\n",
      "When grouping with a length-1 list-like, you will need to pass a length-1 tuple to get_group in a future version of pandas. Pass `(name,)` instead of `name` to silence this warning.\n",
      "\n"
     ]
    },
    {
     "data": {
      "application/vnd.plotly.v1+json": {
       "config": {
        "plotlyServerURL": "https://plot.ly"
       },
       "data": [
        {
         "dimensions": [
          {
           "axis": {
            "matches": true
           },
           "label": "Vanadium",
           "values": [
            0.8691,
            0.8651,
            0.8647,
            0.8542,
            0.8312,
            0.8574,
            0.9028,
            0.8363,
            0.8383,
            0.8022,
            0.8142,
            0.8036
           ]
          },
          {
           "axis": {
            "matches": true
           },
           "label": "Chromium",
           "values": [
            0.0675,
            0.048,
            0.0124,
            0.0298,
            0.0961,
            0.0734,
            0.0172,
            0.0672,
            0.0254,
            0.0859,
            0.0384,
            0.0923
           ]
          },
          {
           "axis": {
            "matches": true
           },
           "label": "Titanium",
           "values": [
            0.0123,
            0.0127,
            0.0279,
            0.063,
            0.0403,
            0.0141,
            0.031,
            0.0428,
            0.0756,
            0.0798,
            0.0341,
            0.0513
           ]
          },
          {
           "axis": {
            "matches": true
           },
           "label": "Tungsten",
           "values": [
            0.0301,
            0.0555,
            0.059,
            0.0106,
            0.0187,
            0.036,
            0.035,
            0.0289,
            0.0442,
            0.0129,
            0.0949,
            0.0322
           ]
          },
          {
           "axis": {
            "matches": true
           },
           "label": "Zirconium",
           "values": [
            0.021,
            0.0187,
            0.036,
            0.0424,
            0.0137,
            0.0191,
            0.014,
            0.0248,
            0.0165,
            0.0192,
            0.0184,
            0.0206
           ]
          }
         ],
         "hovertemplate": "color=rgb(228,26,28)<br>%{xaxis.title.text}=%{x}<br>%{yaxis.title.text}=%{y}<extra></extra>",
         "legendgroup": "rgb(228,26,28)",
         "marker": {
          "color": "#636efa",
          "symbol": "circle"
         },
         "name": "rgb(228,26,28)",
         "showlegend": false,
         "type": "splom"
        },
        {
         "dimensions": [
          {
           "axis": {
            "matches": true
           },
           "label": "Vanadium",
           "values": [
            0.8043851781571989,
            0.8067509527241298,
            0.8020170728758178,
            0.8187704085207206,
            0.8128329481911923,
            0.8110913650589356,
            0.8150769046171656,
            0.8207228986336522,
            0.8139521676435909,
            0.8381019084426459
           ]
          },
          {
           "axis": {
            "matches": true
           },
           "label": "Chromium",
           "values": [
            0.10048029141558604,
            0.05083581369295678,
            0.05070870360836058,
            0.06698201199067252,
            0.04643040157470129,
            0.07992405553372427,
            0.028364127511847945,
            0.028875101185230314,
            0.010575732664930188,
            0.016586916475201916
           ]
          },
          {
           "axis": {
            "matches": true
           },
           "label": "Titanium",
           "values": [
            0.02186391873195047,
            0.06229146086866191,
            0.07347325080117553,
            0.020128767205343335,
            0.06873944505374312,
            0.042128889230502016,
            0.014919051004927405,
            0.03412613940948054,
            0.014176680937378042,
            0.11631334644548046
           ]
          },
          {
           "axis": {
            "matches": true
           },
           "label": "Tungsten",
           "values": [
            0.055934605166148406,
            0.0547399433572929,
            0.007999866013981916,
            0.05875417348996964,
            0.04681300654713355,
            0.028508994883993388,
            0.09340245447705207,
            0.009061282879969369,
            0.035401892579123025,
            0.026399034651789083
           ]
          },
          {
           "axis": {
            "matches": true
           },
           "label": "Zirconium",
           "values": [
            0.017336006529116207,
            0.025381829356958457,
            0.0658011067006642,
            0.03536463879329412,
            0.02518419863322991,
            0.038346695292844526,
            0.0482374623890068,
            0.10721457789166769,
            0.1258935261749778,
            0.0025987939848826735
           ]
          }
         ],
         "hovertemplate": "color=rgb(55,126,184)<br>%{xaxis.title.text}=%{x}<br>%{yaxis.title.text}=%{y}<extra></extra>",
         "legendgroup": "rgb(55,126,184)",
         "marker": {
          "color": "#EF553B",
          "symbol": "circle"
         },
         "name": "rgb(55,126,184)",
         "showlegend": false,
         "type": "splom"
        },
        {
         "dimensions": [
          {
           "axis": {
            "matches": true
           },
           "label": "Vanadium",
           "values": [
            0.8012788193804129,
            0.8192128469792069,
            0.8022205803943254,
            0.8367400269019152,
            0.8675232841439843,
            0.8308421442029482,
            0.9166837361540805,
            0.8535938100042669,
            0.864579894855354,
            0.8130387718171836
           ]
          },
          {
           "axis": {
            "matches": true
           },
           "label": "Chromium",
           "values": [
            0.0840076247697501,
            0.06549520660455249,
            0.11645106622108252,
            0.059019526048898555,
            0.05851797878796666,
            0.06138578557127868,
            0.02641777975506065,
            0.0011400526366867256,
            0.054089731807504295,
            0.010060976116783275
           ]
          },
          {
           "axis": {
            "matches": true
           },
           "label": "Titanium",
           "values": [
            0.012529698804691106,
            0.10294957253906344,
            0.020661887663983768,
            0.01953760471367287,
            0.03929034698640464,
            0.02723269532943803,
            0.02106692390963494,
            0.01798926167188453,
            0.04323762328222303,
            0.01942919378623373
           ]
          },
          {
           "axis": {
            "matches": true
           },
           "label": "Tungsten",
           "values": [
            0.08949910394028511,
            0.011001169942248557,
            0.05921254626054685,
            0.02548499354060327,
            0.019277306108356474,
            0.0656895887542101,
            0.03244777556004541,
            0.1117230591185576,
            0.01251175839591739,
            0.15238830493028435
           ]
          },
          {
           "axis": {
            "matches": true
           },
           "label": "Zirconium",
           "values": [
            0.012684753104860832,
            0.001341203934928605,
            0.0014539194600613067,
            0.059217848794910086,
            0.015391083973287858,
            0.014849786142125114,
            0.0033837846211786323,
            0.015553816568604361,
            0.025580991659001063,
            0.005082753349515123
           ]
          }
         ],
         "hovertemplate": "color=rgb(77,175,74)<br>%{xaxis.title.text}=%{x}<br>%{yaxis.title.text}=%{y}<extra></extra>",
         "legendgroup": "rgb(77,175,74)",
         "marker": {
          "color": "#00cc96",
          "symbol": "circle"
         },
         "name": "rgb(77,175,74)",
         "showlegend": false,
         "type": "splom"
        },
        {
         "dimensions": [
          {
           "axis": {
            "matches": true
           },
           "label": "Vanadium",
           "values": [
            0.8977424184643913,
            0.9447040800858585,
            0.8889801366689619,
            0.8846741508715207,
            0.8599057176523043,
            0.8560541056068146,
            0.8669307248785335,
            0.8538993348593987,
            0.8536542341724023,
            0.8754505263820767
           ]
          },
          {
           "axis": {
            "matches": true
           },
           "label": "Chromium",
           "values": [
            0.01753592516998137,
            0.010751108131055977,
            0.04897815017804376,
            0.03146323010751297,
            0.00106470633947902,
            0.04362232065366414,
            0.0023061504149333337,
            0.026261353510019368,
            0.08314674588783247,
            0.0024421255209802818
           ]
          },
          {
           "axis": {
            "matches": true
           },
           "label": "Titanium",
           "values": [
            0.04217323120814773,
            0.0019540541750971,
            0.01657063980769426,
            0.022011936316887925,
            0.10581849957075172,
            0.011826824884911824,
            0.04845802552516483,
            0.025669908265118547,
            0.01503131571582048,
            0.02521722396831646
           ]
          },
          {
           "axis": {
            "matches": true
           },
           "label": "Tungsten",
           "values": [
            0.0010848777327399327,
            0.0017479312630005002,
            0.01732744864034135,
            0.054330040417573854,
            0.006208215823083322,
            0.010095000703006668,
            0.017103263600845048,
            0.05831085398792207,
            0.0075326931729275135,
            0.04389673770824977
           ]
          },
          {
           "axis": {
            "matches": true
           },
           "label": "Zirconium",
           "values": [
            0.041463547424739726,
            0.040842826344987954,
            0.028143624704958767,
            0.007520642286504522,
            0.027002860614381577,
            0.0784017481516027,
            0.06520183558052313,
            0.03585854937754153,
            0.0406350110510172,
            0.052993386420376876
           ]
          }
         ],
         "hovertemplate": "color=rgb(152,78,163)<br>%{xaxis.title.text}=%{x}<br>%{yaxis.title.text}=%{y}<extra></extra>",
         "legendgroup": "rgb(152,78,163)",
         "marker": {
          "color": "#ab63fa",
          "symbol": "circle"
         },
         "name": "rgb(152,78,163)",
         "showlegend": false,
         "type": "splom"
        },
        {
         "dimensions": [
          {
           "axis": {
            "matches": true
           },
           "label": "Vanadium",
           "values": [
            0.5881787197748509,
            0.398581138352079,
            0.6591999227461471,
            0.7557634115484507,
            0.7036054491881001,
            0.7488466847410876,
            0.6047009503349755,
            0.7387392612845515,
            0.8299790452681904,
            0.6932282169066176
           ]
          },
          {
           "axis": {
            "matches": true
           },
           "label": "Chromium",
           "values": [
            0.11331266956562172,
            0.07098440437710933,
            0.09753519373460903,
            0.014940846206631789,
            0.019716150182233574,
            0.04296363524128566,
            0.12582251741632708,
            0.03708689829452995,
            0.02535482421816095,
            0.08378075113666343
           ]
          },
          {
           "axis": {
            "matches": true
           },
           "label": "Titanium",
           "values": [
            0.14272398959283886,
            0.0725752902880622,
            0.017839154821648613,
            0.10881733064809249,
            0.1334066549563199,
            0.12290207755714942,
            0.12132848137265694,
            0.07389065610313664,
            0.07823477752848475,
            0.11516091442855837
           ]
          },
          {
           "axis": {
            "matches": true
           },
           "label": "Tungsten",
           "values": [
            0.06507636065071964,
            0.21805092198461454,
            0.11899747255520379,
            0.09279336284593785,
            0.07055134848647093,
            0.020001060060142007,
            0.12683037248309384,
            0.07117653009231202,
            0.025479922840387456,
            0.017486931788315094
           ]
          },
          {
           "axis": {
            "matches": true
           },
           "label": "Zirconium",
           "values": [
            0.09070826041596897,
            0.2398082449981348,
            0.10642825614239139,
            0.027685048750887307,
            0.0727203971868755,
            0.06528654240033538,
            0.021317678392946498,
            0.07910665422546997,
            0.040951430144776306,
            0.09034318573984546
           ]
          }
         ],
         "hovertemplate": "color=rgb(255,127,0)<br>%{xaxis.title.text}=%{x}<br>%{yaxis.title.text}=%{y}<extra></extra>",
         "legendgroup": "rgb(255,127,0)",
         "marker": {
          "color": "#FFA15A",
          "symbol": "circle"
         },
         "name": "rgb(255,127,0)",
         "showlegend": false,
         "type": "splom"
        },
        {
         "legendgroup": "0",
         "marker": {
          "color": "rgb(228,26,28)",
          "opacity": 0.8,
          "size": 10
         },
         "mode": "markers",
         "name": "Generation 0",
         "showlegend": true,
         "type": "scatter",
         "x": [
          null
         ],
         "y": [
          null
         ]
        },
        {
         "legendgroup": "1",
         "marker": {
          "color": "rgb(55,126,184)",
          "opacity": 0.8,
          "size": 10
         },
         "mode": "markers",
         "name": "Generation 1",
         "showlegend": true,
         "type": "scatter",
         "x": [
          null
         ],
         "y": [
          null
         ]
        },
        {
         "legendgroup": "2",
         "marker": {
          "color": "rgb(77,175,74)",
          "opacity": 0.8,
          "size": 10
         },
         "mode": "markers",
         "name": "Generation 2",
         "showlegend": true,
         "type": "scatter",
         "x": [
          null
         ],
         "y": [
          null
         ]
        },
        {
         "legendgroup": "3",
         "marker": {
          "color": "rgb(152,78,163)",
          "opacity": 0.8,
          "size": 10
         },
         "mode": "markers",
         "name": "Generation 3",
         "showlegend": true,
         "type": "scatter",
         "x": [
          null
         ],
         "y": [
          null
         ]
        },
        {
         "legendgroup": "4",
         "marker": {
          "color": "rgb(255,127,0)",
          "opacity": 0.8,
          "size": 10
         },
         "mode": "markers",
         "name": "Generation 4",
         "showlegend": true,
         "type": "scatter",
         "x": [
          null
         ],
         "y": [
          null
         ]
        }
       ],
       "layout": {
        "dragmode": "select",
        "height": 800,
        "legend": {
         "title": {
          "text": "color"
         },
         "tracegroupgap": 0
        },
        "template": {
         "data": {
          "bar": [
           {
            "error_x": {
             "color": "#2a3f5f"
            },
            "error_y": {
             "color": "#2a3f5f"
            },
            "marker": {
             "line": {
              "color": "#E5ECF6",
              "width": 0.5
             },
             "pattern": {
              "fillmode": "overlay",
              "size": 10,
              "solidity": 0.2
             }
            },
            "type": "bar"
           }
          ],
          "barpolar": [
           {
            "marker": {
             "line": {
              "color": "#E5ECF6",
              "width": 0.5
             },
             "pattern": {
              "fillmode": "overlay",
              "size": 10,
              "solidity": 0.2
             }
            },
            "type": "barpolar"
           }
          ],
          "carpet": [
           {
            "aaxis": {
             "endlinecolor": "#2a3f5f",
             "gridcolor": "white",
             "linecolor": "white",
             "minorgridcolor": "white",
             "startlinecolor": "#2a3f5f"
            },
            "baxis": {
             "endlinecolor": "#2a3f5f",
             "gridcolor": "white",
             "linecolor": "white",
             "minorgridcolor": "white",
             "startlinecolor": "#2a3f5f"
            },
            "type": "carpet"
           }
          ],
          "choropleth": [
           {
            "colorbar": {
             "outlinewidth": 0,
             "ticks": ""
            },
            "type": "choropleth"
           }
          ],
          "contour": [
           {
            "colorbar": {
             "outlinewidth": 0,
             "ticks": ""
            },
            "colorscale": [
             [
              0,
              "#0d0887"
             ],
             [
              0.1111111111111111,
              "#46039f"
             ],
             [
              0.2222222222222222,
              "#7201a8"
             ],
             [
              0.3333333333333333,
              "#9c179e"
             ],
             [
              0.4444444444444444,
              "#bd3786"
             ],
             [
              0.5555555555555556,
              "#d8576b"
             ],
             [
              0.6666666666666666,
              "#ed7953"
             ],
             [
              0.7777777777777778,
              "#fb9f3a"
             ],
             [
              0.8888888888888888,
              "#fdca26"
             ],
             [
              1,
              "#f0f921"
             ]
            ],
            "type": "contour"
           }
          ],
          "contourcarpet": [
           {
            "colorbar": {
             "outlinewidth": 0,
             "ticks": ""
            },
            "type": "contourcarpet"
           }
          ],
          "heatmap": [
           {
            "colorbar": {
             "outlinewidth": 0,
             "ticks": ""
            },
            "colorscale": [
             [
              0,
              "#0d0887"
             ],
             [
              0.1111111111111111,
              "#46039f"
             ],
             [
              0.2222222222222222,
              "#7201a8"
             ],
             [
              0.3333333333333333,
              "#9c179e"
             ],
             [
              0.4444444444444444,
              "#bd3786"
             ],
             [
              0.5555555555555556,
              "#d8576b"
             ],
             [
              0.6666666666666666,
              "#ed7953"
             ],
             [
              0.7777777777777778,
              "#fb9f3a"
             ],
             [
              0.8888888888888888,
              "#fdca26"
             ],
             [
              1,
              "#f0f921"
             ]
            ],
            "type": "heatmap"
           }
          ],
          "heatmapgl": [
           {
            "colorbar": {
             "outlinewidth": 0,
             "ticks": ""
            },
            "colorscale": [
             [
              0,
              "#0d0887"
             ],
             [
              0.1111111111111111,
              "#46039f"
             ],
             [
              0.2222222222222222,
              "#7201a8"
             ],
             [
              0.3333333333333333,
              "#9c179e"
             ],
             [
              0.4444444444444444,
              "#bd3786"
             ],
             [
              0.5555555555555556,
              "#d8576b"
             ],
             [
              0.6666666666666666,
              "#ed7953"
             ],
             [
              0.7777777777777778,
              "#fb9f3a"
             ],
             [
              0.8888888888888888,
              "#fdca26"
             ],
             [
              1,
              "#f0f921"
             ]
            ],
            "type": "heatmapgl"
           }
          ],
          "histogram": [
           {
            "marker": {
             "pattern": {
              "fillmode": "overlay",
              "size": 10,
              "solidity": 0.2
             }
            },
            "type": "histogram"
           }
          ],
          "histogram2d": [
           {
            "colorbar": {
             "outlinewidth": 0,
             "ticks": ""
            },
            "colorscale": [
             [
              0,
              "#0d0887"
             ],
             [
              0.1111111111111111,
              "#46039f"
             ],
             [
              0.2222222222222222,
              "#7201a8"
             ],
             [
              0.3333333333333333,
              "#9c179e"
             ],
             [
              0.4444444444444444,
              "#bd3786"
             ],
             [
              0.5555555555555556,
              "#d8576b"
             ],
             [
              0.6666666666666666,
              "#ed7953"
             ],
             [
              0.7777777777777778,
              "#fb9f3a"
             ],
             [
              0.8888888888888888,
              "#fdca26"
             ],
             [
              1,
              "#f0f921"
             ]
            ],
            "type": "histogram2d"
           }
          ],
          "histogram2dcontour": [
           {
            "colorbar": {
             "outlinewidth": 0,
             "ticks": ""
            },
            "colorscale": [
             [
              0,
              "#0d0887"
             ],
             [
              0.1111111111111111,
              "#46039f"
             ],
             [
              0.2222222222222222,
              "#7201a8"
             ],
             [
              0.3333333333333333,
              "#9c179e"
             ],
             [
              0.4444444444444444,
              "#bd3786"
             ],
             [
              0.5555555555555556,
              "#d8576b"
             ],
             [
              0.6666666666666666,
              "#ed7953"
             ],
             [
              0.7777777777777778,
              "#fb9f3a"
             ],
             [
              0.8888888888888888,
              "#fdca26"
             ],
             [
              1,
              "#f0f921"
             ]
            ],
            "type": "histogram2dcontour"
           }
          ],
          "mesh3d": [
           {
            "colorbar": {
             "outlinewidth": 0,
             "ticks": ""
            },
            "type": "mesh3d"
           }
          ],
          "parcoords": [
           {
            "line": {
             "colorbar": {
              "outlinewidth": 0,
              "ticks": ""
             }
            },
            "type": "parcoords"
           }
          ],
          "pie": [
           {
            "automargin": true,
            "type": "pie"
           }
          ],
          "scatter": [
           {
            "fillpattern": {
             "fillmode": "overlay",
             "size": 10,
             "solidity": 0.2
            },
            "type": "scatter"
           }
          ],
          "scatter3d": [
           {
            "line": {
             "colorbar": {
              "outlinewidth": 0,
              "ticks": ""
             }
            },
            "marker": {
             "colorbar": {
              "outlinewidth": 0,
              "ticks": ""
             }
            },
            "type": "scatter3d"
           }
          ],
          "scattercarpet": [
           {
            "marker": {
             "colorbar": {
              "outlinewidth": 0,
              "ticks": ""
             }
            },
            "type": "scattercarpet"
           }
          ],
          "scattergeo": [
           {
            "marker": {
             "colorbar": {
              "outlinewidth": 0,
              "ticks": ""
             }
            },
            "type": "scattergeo"
           }
          ],
          "scattergl": [
           {
            "marker": {
             "colorbar": {
              "outlinewidth": 0,
              "ticks": ""
             }
            },
            "type": "scattergl"
           }
          ],
          "scattermapbox": [
           {
            "marker": {
             "colorbar": {
              "outlinewidth": 0,
              "ticks": ""
             }
            },
            "type": "scattermapbox"
           }
          ],
          "scatterpolar": [
           {
            "marker": {
             "colorbar": {
              "outlinewidth": 0,
              "ticks": ""
             }
            },
            "type": "scatterpolar"
           }
          ],
          "scatterpolargl": [
           {
            "marker": {
             "colorbar": {
              "outlinewidth": 0,
              "ticks": ""
             }
            },
            "type": "scatterpolargl"
           }
          ],
          "scatterternary": [
           {
            "marker": {
             "colorbar": {
              "outlinewidth": 0,
              "ticks": ""
             }
            },
            "type": "scatterternary"
           }
          ],
          "surface": [
           {
            "colorbar": {
             "outlinewidth": 0,
             "ticks": ""
            },
            "colorscale": [
             [
              0,
              "#0d0887"
             ],
             [
              0.1111111111111111,
              "#46039f"
             ],
             [
              0.2222222222222222,
              "#7201a8"
             ],
             [
              0.3333333333333333,
              "#9c179e"
             ],
             [
              0.4444444444444444,
              "#bd3786"
             ],
             [
              0.5555555555555556,
              "#d8576b"
             ],
             [
              0.6666666666666666,
              "#ed7953"
             ],
             [
              0.7777777777777778,
              "#fb9f3a"
             ],
             [
              0.8888888888888888,
              "#fdca26"
             ],
             [
              1,
              "#f0f921"
             ]
            ],
            "type": "surface"
           }
          ],
          "table": [
           {
            "cells": {
             "fill": {
              "color": "#EBF0F8"
             },
             "line": {
              "color": "white"
             }
            },
            "header": {
             "fill": {
              "color": "#C8D4E3"
             },
             "line": {
              "color": "white"
             }
            },
            "type": "table"
           }
          ]
         },
         "layout": {
          "annotationdefaults": {
           "arrowcolor": "#2a3f5f",
           "arrowhead": 0,
           "arrowwidth": 1
          },
          "autotypenumbers": "strict",
          "coloraxis": {
           "colorbar": {
            "outlinewidth": 0,
            "ticks": ""
           }
          },
          "colorscale": {
           "diverging": [
            [
             0,
             "#8e0152"
            ],
            [
             0.1,
             "#c51b7d"
            ],
            [
             0.2,
             "#de77ae"
            ],
            [
             0.3,
             "#f1b6da"
            ],
            [
             0.4,
             "#fde0ef"
            ],
            [
             0.5,
             "#f7f7f7"
            ],
            [
             0.6,
             "#e6f5d0"
            ],
            [
             0.7,
             "#b8e186"
            ],
            [
             0.8,
             "#7fbc41"
            ],
            [
             0.9,
             "#4d9221"
            ],
            [
             1,
             "#276419"
            ]
           ],
           "sequential": [
            [
             0,
             "#0d0887"
            ],
            [
             0.1111111111111111,
             "#46039f"
            ],
            [
             0.2222222222222222,
             "#7201a8"
            ],
            [
             0.3333333333333333,
             "#9c179e"
            ],
            [
             0.4444444444444444,
             "#bd3786"
            ],
            [
             0.5555555555555556,
             "#d8576b"
            ],
            [
             0.6666666666666666,
             "#ed7953"
            ],
            [
             0.7777777777777778,
             "#fb9f3a"
            ],
            [
             0.8888888888888888,
             "#fdca26"
            ],
            [
             1,
             "#f0f921"
            ]
           ],
           "sequentialminus": [
            [
             0,
             "#0d0887"
            ],
            [
             0.1111111111111111,
             "#46039f"
            ],
            [
             0.2222222222222222,
             "#7201a8"
            ],
            [
             0.3333333333333333,
             "#9c179e"
            ],
            [
             0.4444444444444444,
             "#bd3786"
            ],
            [
             0.5555555555555556,
             "#d8576b"
            ],
            [
             0.6666666666666666,
             "#ed7953"
            ],
            [
             0.7777777777777778,
             "#fb9f3a"
            ],
            [
             0.8888888888888888,
             "#fdca26"
            ],
            [
             1,
             "#f0f921"
            ]
           ]
          },
          "colorway": [
           "#636efa",
           "#EF553B",
           "#00cc96",
           "#ab63fa",
           "#FFA15A",
           "#19d3f3",
           "#FF6692",
           "#B6E880",
           "#FF97FF",
           "#FECB52"
          ],
          "font": {
           "color": "#2a3f5f"
          },
          "geo": {
           "bgcolor": "white",
           "lakecolor": "white",
           "landcolor": "#E5ECF6",
           "showlakes": true,
           "showland": true,
           "subunitcolor": "white"
          },
          "hoverlabel": {
           "align": "left"
          },
          "hovermode": "closest",
          "mapbox": {
           "style": "light"
          },
          "paper_bgcolor": "white",
          "plot_bgcolor": "#E5ECF6",
          "polar": {
           "angularaxis": {
            "gridcolor": "white",
            "linecolor": "white",
            "ticks": ""
           },
           "bgcolor": "#E5ECF6",
           "radialaxis": {
            "gridcolor": "white",
            "linecolor": "white",
            "ticks": ""
           }
          },
          "scene": {
           "xaxis": {
            "backgroundcolor": "#E5ECF6",
            "gridcolor": "white",
            "gridwidth": 2,
            "linecolor": "white",
            "showbackground": true,
            "ticks": "",
            "zerolinecolor": "white"
           },
           "yaxis": {
            "backgroundcolor": "#E5ECF6",
            "gridcolor": "white",
            "gridwidth": 2,
            "linecolor": "white",
            "showbackground": true,
            "ticks": "",
            "zerolinecolor": "white"
           },
           "zaxis": {
            "backgroundcolor": "#E5ECF6",
            "gridcolor": "white",
            "gridwidth": 2,
            "linecolor": "white",
            "showbackground": true,
            "ticks": "",
            "zerolinecolor": "white"
           }
          },
          "shapedefaults": {
           "line": {
            "color": "#2a3f5f"
           }
          },
          "ternary": {
           "aaxis": {
            "gridcolor": "white",
            "linecolor": "white",
            "ticks": ""
           },
           "baxis": {
            "gridcolor": "white",
            "linecolor": "white",
            "ticks": ""
           },
           "bgcolor": "#E5ECF6",
           "caxis": {
            "gridcolor": "white",
            "linecolor": "white",
            "ticks": ""
           }
          },
          "title": {
           "x": 0.05
          },
          "xaxis": {
           "automargin": true,
           "gridcolor": "white",
           "linecolor": "white",
           "ticks": "",
           "title": {
            "standoff": 15
           },
           "zerolinecolor": "white",
           "zerolinewidth": 2
          },
          "yaxis": {
           "automargin": true,
           "gridcolor": "white",
           "linecolor": "white",
           "ticks": "",
           "title": {
            "standoff": 15
           },
           "zerolinecolor": "white",
           "zerolinewidth": 2
          }
         }
        },
        "title": {
         "text": "V-Cr-Ti-W-Zr Alloy Compositions by Generation"
        }
       }
      }
     },
     "metadata": {},
     "output_type": "display_data"
    }
   ],
   "source": [
    "random.seed(42)\n",
    "pre = 3\n",
    "post = 4\n",
    "num_compositions = 10\n",
    "# Example usage\n",
    "if __name__ == \"__main__\":\n",
    "    # Load and filter existing compositions\n",
    "    df_existing = load_compositions(f'compositions_gen{pre}.json')\n",
    "    df_existing = filter_compositions(df_existing)\n",
    "    \n",
    "    # Generate new compositions for generation 1\n",
    "    df_new = generate_new_compositions(num_compositions, post)\n",
    "    \n",
    "    # Combine existing and new compositions\n",
    "    df_combined = combine_compositions(df_existing, df_new)\n",
    "    \n",
    "    # Save combined compositions to JSON\n",
    "    save_compositions_to_json(df_combined, f'compositions_gen{post}.json')\n",
    "    \n",
    "    # Plot combined compositions\n",
    "    plot_compositions(df_combined)\n"
   ]
  },
  {
   "cell_type": "code",
   "execution_count": 3,
   "metadata": {},
   "outputs": [],
   "source": [
    "gen_num = 4\n",
    "json_file = f'../Notebooks/compositions_gen{gen_num}.json'\n",
    "output_dir = f'../Visualization/Job_Structures/Pre_VASP/VCrTiWZr_Summit/Gen_{gen_num}/Perfect'\n",
    "\n",
    "# make the output directory\n",
    "if not os.path.exists(output_dir):\n",
    "    os.makedirs(output_dir)\n",
    "\n"
   ]
  },
  {
   "cell_type": "code",
   "execution_count": 4,
   "metadata": {},
   "outputs": [],
   "source": [
    "supercells = create_supercells_for_compositions(json_file, output_dir, num_structures=3, lattice_parameter=3.01 , supercell_type='prim')"
   ]
  },
  {
   "cell_type": "code",
   "execution_count": 9,
   "metadata": {},
   "outputs": [
    {
     "name": "stdout",
     "output_type": "stream",
     "text": [
      "156\n",
      "{'filename': '../Visualization/Job_Structures/Pre_VASP/VCrTiWZr_Summit/Gen_4/Perfect/supercell_gen0_comp1_struct1.cif', 'composition': {'Cr': 0.0675, 'Ti': 0.0123, 'Zr': 0.021, 'W': 0.0301, 'V': 0.8691}, 'generation': 0, 'structure': {'@module': 'pymatgen.core.structure', '@class': 'Structure', 'charge': 0, 'lattice': {'matrix': [[6.02, 6.02, -6.02], [6.02, -6.02, 6.02], [-6.02, 6.02, 6.02]], 'pbc': (True, True, True), 'a': 10.42694586156464, 'b': 10.42694586156464, 'c': 10.42694586156464, 'alpha': 109.47122063449069, 'beta': 109.47122063449069, 'gamma': 109.47122063449069, 'volume': 872.6688319999998}, 'properties': {}, 'sites': [{'species': [{'element': 'Zr', 'occu': 1}], 'abc': [0.0, 0.5, 0.25], 'xyz': [1.505, -1.505, 4.515], 'properties': {}, 'label': 'Zr'}, {'species': [{'element': 'Ti', 'occu': 1}], 'abc': [0.25, 4.619551326923487e-18, 0.0], 'xyz': [1.505, 1.505, -1.505], 'properties': {}, 'label': 'Ti'}, {'species': [{'element': 'V', 'occu': 1}], 'abc': [0.0, 0.0, 0.0], 'xyz': [0.0, 0.0, 0.0], 'properties': {}, 'label': 'V'}, {'species': [{'element': 'V', 'occu': 1}], 'abc': [0.0, 1.0, 0.25], 'xyz': [4.515, -4.515, 7.5249999999999995], 'properties': {}, 'label': 'V'}, {'species': [{'element': 'V', 'occu': 1}], 'abc': [0.0, 1.0, 0.5], 'xyz': [3.01, -3.01, 9.03], 'properties': {}, 'label': 'V'}, {'species': [{'element': 'V', 'occu': 1}], 'abc': [0.0, 0.25, 1.0], 'xyz': [-4.515, 4.515, 7.5249999999999995], 'properties': {}, 'label': 'V'}, {'species': [{'element': 'V', 'occu': 1}], 'abc': [0.0, 0.25, 0.25], 'xyz': [0.0, 0.0, 3.01], 'properties': {}, 'label': 'V'}, {'species': [{'element': 'V', 'occu': 1}], 'abc': [0.0, 0.25, 0.5], 'xyz': [-1.505, 1.505, 4.515], 'properties': {}, 'label': 'V'}, {'species': [{'element': 'V', 'occu': 1}], 'abc': [0.0, 0.5, 1.0], 'xyz': [-3.01, 3.01, 9.03], 'properties': {}, 'label': 'V'}, {'species': [{'element': 'V', 'occu': 1}], 'abc': [0.0, 0.5, 0.5], 'xyz': [0.0, 0.0, 6.02], 'properties': {}, 'label': 'V'}, {'species': [{'element': 'V', 'occu': 1}], 'abc': [0.0, 0.5, 0.75], 'xyz': [-1.505, 1.505, 7.5249999999999995], 'properties': {}, 'label': 'V'}, {'species': [{'element': 'V', 'occu': 1}], 'abc': [0.0, 0.75, 0.0], 'xyz': [4.515, -4.515, 4.515], 'properties': {}, 'label': 'V'}, {'species': [{'element': 'V', 'occu': 1}], 'abc': [0.0, 0.75, 0.25], 'xyz': [3.01, -3.01, 6.02], 'properties': {}, 'label': 'V'}, {'species': [{'element': 'V', 'occu': 1}], 'abc': [0.0, 0.75, 0.75], 'xyz': [0.0, 0.0, 9.03], 'properties': {}, 'label': 'V'}, {'species': [{'element': 'V', 'occu': 1}], 'abc': [0.25, 0.0, 0.25], 'xyz': [0.0, 3.01, 0.0], 'properties': {}, 'label': 'V'}, {'species': [{'element': 'V', 'occu': 1}], 'abc': [0.25, 1.0, 0.5], 'xyz': [4.515, -1.505, 7.5249999999999995], 'properties': {}, 'label': 'V'}, {'species': [{'element': 'V', 'occu': 1}], 'abc': [0.25, 1.0, 0.75], 'xyz': [3.01, 0.0, 9.03], 'properties': {}, 'label': 'V'}, {'species': [{'element': 'V', 'occu': 1}], 'abc': [0.25, 0.25, 1.0], 'xyz': [-3.01, 6.02, 6.02], 'properties': {}, 'label': 'V'}, {'species': [{'element': 'V', 'occu': 1}], 'abc': [0.25, 0.25, 0.25], 'xyz': [1.505, 1.505, 1.505], 'properties': {}, 'label': 'V'}, {'species': [{'element': 'V', 'occu': 1}], 'abc': [0.25, 0.25, 0.5], 'xyz': [0.0, 3.01, 3.01], 'properties': {}, 'label': 'V'}, {'species': [{'element': 'V', 'occu': 1}], 'abc': [0.25, 0.25, 0.75], 'xyz': [-1.505, 4.515, 4.515], 'properties': {}, 'label': 'V'}, {'species': [{'element': 'V', 'occu': 1}], 'abc': [0.25, 0.5, 1.0], 'xyz': [-1.505, 4.515, 7.5249999999999995], 'properties': {}, 'label': 'V'}, {'species': [{'element': 'V', 'occu': 1}], 'abc': [0.25, 0.5, 0.24999999999999997], 'xyz': [3.01, 0.0, 3.01], 'properties': {}, 'label': 'V'}, {'species': [{'element': 'V', 'occu': 1}], 'abc': [0.25, 0.5, 0.5], 'xyz': [1.505, 1.505, 4.515], 'properties': {}, 'label': 'V'}, {'species': [{'element': 'V', 'occu': 1}], 'abc': [0.25, 0.5, 0.75], 'xyz': [0.0, 3.01, 6.02], 'properties': {}, 'label': 'V'}, {'species': [{'element': 'V', 'occu': 1}], 'abc': [0.25, 0.75, 1.0], 'xyz': [0.0, 3.01, 9.03], 'properties': {}, 'label': 'V'}, {'species': [{'element': 'V', 'occu': 1}], 'abc': [0.25, 0.75, 0.25], 'xyz': [4.515, -1.505, 4.515], 'properties': {}, 'label': 'V'}, {'species': [{'element': 'V', 'occu': 1}], 'abc': [0.25, 0.75, 0.5], 'xyz': [3.01, 0.0, 6.02], 'properties': {}, 'label': 'V'}, {'species': [{'element': 'V', 'occu': 1}], 'abc': [0.5, 9.239102653846974e-18, 0.0], 'xyz': [3.01, 3.01, -3.01], 'properties': {}, 'label': 'V'}, {'species': [{'element': 'V', 'occu': 1}], 'abc': [0.5, 4.619551326923487e-18, 0.25], 'xyz': [1.505, 4.515, -1.505], 'properties': {}, 'label': 'V'}, {'species': [{'element': 'V', 'occu': 1}], 'abc': [0.5, 0.0, 0.5], 'xyz': [0.0, 6.02, 0.0], 'properties': {}, 'label': 'V'}, {'species': [{'element': 'V', 'occu': 1}], 'abc': [0.5, 0.25, 0.0], 'xyz': [4.515, 1.505, -1.505], 'properties': {}, 'label': 'V'}, {'species': [{'element': 'V', 'occu': 1}], 'abc': [0.5, 0.25, 0.25], 'xyz': [3.01, 3.01, 0.0], 'properties': {}, 'label': 'V'}, {'species': [{'element': 'V', 'occu': 1}], 'abc': [0.5, 0.25, 0.5], 'xyz': [1.505, 4.515, 1.505], 'properties': {}, 'label': 'V'}, {'species': [{'element': 'V', 'occu': 1}], 'abc': [0.5, 0.25, 0.75], 'xyz': [0.0, 6.02, 3.01], 'properties': {}, 'label': 'V'}, {'species': [{'element': 'V', 'occu': 1}], 'abc': [0.5, 0.5, 1.0], 'xyz': [0.0, 6.02, 6.02], 'properties': {}, 'label': 'V'}, {'species': [{'element': 'V', 'occu': 1}], 'abc': [0.5, 0.5, 0.25], 'xyz': [4.515, 1.505, 1.505], 'properties': {}, 'label': 'V'}, {'species': [{'element': 'V', 'occu': 1}], 'abc': [0.5, 0.5, 0.5], 'xyz': [3.01, 3.01, 3.01], 'properties': {}, 'label': 'V'}, {'species': [{'element': 'V', 'occu': 1}], 'abc': [0.5, 0.5, 0.75], 'xyz': [1.505, 4.515, 4.515], 'properties': {}, 'label': 'V'}, {'species': [{'element': 'V', 'occu': 1}], 'abc': [0.5, 0.75, 1.0], 'xyz': [1.505, 4.515, 7.5249999999999995], 'properties': {}, 'label': 'V'}, {'species': [{'element': 'V', 'occu': 1}], 'abc': [0.5, 0.75, 0.24999999999999997], 'xyz': [6.02, 0.0, 3.01], 'properties': {}, 'label': 'V'}, {'species': [{'element': 'V', 'occu': 1}], 'abc': [0.5, 0.75, 0.5], 'xyz': [4.515, 1.505, 4.515], 'properties': {}, 'label': 'V'}, {'species': [{'element': 'V', 'occu': 1}], 'abc': [0.5, 0.75, 0.75], 'xyz': [3.01, 3.01, 6.02], 'properties': {}, 'label': 'V'}, {'species': [{'element': 'V', 'occu': 1}], 'abc': [0.75, 1.3858653980770461e-17, 0.0], 'xyz': [4.515, 4.515, -4.515], 'properties': {}, 'label': 'V'}, {'species': [{'element': 'V', 'occu': 1}], 'abc': [0.75, 9.239102653846974e-18, 0.25], 'xyz': [3.01, 6.02, -3.01], 'properties': {}, 'label': 'V'}, {'species': [{'element': 'V', 'occu': 1}], 'abc': [0.75, 4.619551326923487e-18, 0.5], 'xyz': [1.505, 7.5249999999999995, -1.505], 'properties': {}, 'label': 'V'}, {'species': [{'element': 'V', 'occu': 1}], 'abc': [0.75, 0.0, 0.75], 'xyz': [0.0, 9.03, 0.0], 'properties': {}, 'label': 'V'}, {'species': [{'element': 'V', 'occu': 1}], 'abc': [0.75, 0.25, 0.0], 'xyz': [6.02, 3.01, -3.01], 'properties': {}, 'label': 'V'}, {'species': [{'element': 'V', 'occu': 1}], 'abc': [0.75, 0.25, 0.5], 'xyz': [3.01, 6.02, 0.0], 'properties': {}, 'label': 'V'}, {'species': [{'element': 'V', 'occu': 1}], 'abc': [0.75, 0.25, 0.75], 'xyz': [1.505, 7.5249999999999995, 1.505], 'properties': {}, 'label': 'V'}, {'species': [{'element': 'V', 'occu': 1}], 'abc': [0.75, 0.5, 1.0], 'xyz': [1.505, 7.525, 4.515], 'properties': {}, 'label': 'V'}, {'species': [{'element': 'V', 'occu': 1}], 'abc': [0.75, 0.5, 0.24999999999999997], 'xyz': [6.02, 3.01, 0.0], 'properties': {}, 'label': 'V'}, {'species': [{'element': 'V', 'occu': 1}], 'abc': [0.75, 0.5, 0.5], 'xyz': [4.515, 4.515, 1.505], 'properties': {}, 'label': 'V'}, {'species': [{'element': 'V', 'occu': 1}], 'abc': [0.75, 0.5, 0.75], 'xyz': [3.01, 6.02, 3.01], 'properties': {}, 'label': 'V'}, {'species': [{'element': 'V', 'occu': 1}], 'abc': [0.75, 0.75, 1.0], 'xyz': [3.01, 6.0200000000000005, 6.02], 'properties': {}, 'label': 'V'}, {'species': [{'element': 'V', 'occu': 1}], 'abc': [0.75, 0.75, 0.24999999999999997], 'xyz': [7.5249999999999995, 1.505, 1.505], 'properties': {}, 'label': 'V'}, {'species': [{'element': 'V', 'occu': 1}], 'abc': [0.75, 0.75, 0.5], 'xyz': [6.02, 3.01, 3.01], 'properties': {}, 'label': 'V'}, {'species': [{'element': 'V', 'occu': 1}], 'abc': [0.75, 0.75, 0.75], 'xyz': [4.515, 4.515, 4.515], 'properties': {}, 'label': 'V'}, {'species': [{'element': 'Cr', 'occu': 1}], 'abc': [0.0, 1.0, 0.75], 'xyz': [1.505, -1.505, 10.535], 'properties': {}, 'label': 'Cr'}, {'species': [{'element': 'Cr', 'occu': 1}], 'abc': [0.0, 0.75, 0.5], 'xyz': [1.505, -1.505, 7.5249999999999995], 'properties': {}, 'label': 'Cr'}, {'species': [{'element': 'Cr', 'occu': 1}], 'abc': [0.25, 0.75, 0.75], 'xyz': [1.505, 1.505, 7.5249999999999995], 'properties': {}, 'label': 'Cr'}, {'species': [{'element': 'Cr', 'occu': 1}], 'abc': [0.5, 1.0, 0.75], 'xyz': [4.515, 1.505, 7.5249999999999995], 'properties': {}, 'label': 'Cr'}, {'species': [{'element': 'W', 'occu': 1}], 'abc': [0.0, 0.24999999999999997, 0.75], 'xyz': [-3.01, 3.01, 6.02], 'properties': {}, 'label': 'W'}, {'species': [{'element': 'W', 'occu': 1}], 'abc': [0.75, 0.25, 0.25], 'xyz': [4.515, 4.515, -1.505], 'properties': {}, 'label': 'W'}]}}\n",
      "File = supercell_gen4_comp44_struct1.cif, with Comp = {'Cr': 0.07098440437710933, 'Ti': 0.0725752902880622, 'Zr': 0.2398082449981348, 'W': 0.21805092198461454, 'V': 0.398581138352079}\n",
      "Total = 0.9999999999999999\n",
      "\n",
      "File = supercell_gen4_comp44_struct2.cif, with Comp = {'Cr': 0.07098440437710933, 'Ti': 0.0725752902880622, 'Zr': 0.2398082449981348, 'W': 0.21805092198461454, 'V': 0.398581138352079}\n",
      "Total = 0.9999999999999999\n",
      "\n",
      "File = supercell_gen4_comp44_struct3.cif, with Comp = {'Cr': 0.07098440437710933, 'Ti': 0.0725752902880622, 'Zr': 0.2398082449981348, 'W': 0.21805092198461454, 'V': 0.398581138352079}\n",
      "Total = 0.9999999999999999\n",
      "\n",
      "File = supercell_gen4_comp46_struct1.cif, with Comp = {'Cr': 0.014940846206631789, 'Ti': 0.10881733064809249, 'Zr': 0.027685048750887307, 'W': 0.09279336284593785, 'V': 0.7557634115484507}\n",
      "Total = 1.0000000000000002\n",
      "\n",
      "File = supercell_gen4_comp46_struct2.cif, with Comp = {'Cr': 0.014940846206631789, 'Ti': 0.10881733064809249, 'Zr': 0.027685048750887307, 'W': 0.09279336284593785, 'V': 0.7557634115484507}\n",
      "Total = 1.0000000000000002\n",
      "\n",
      "File = supercell_gen4_comp46_struct3.cif, with Comp = {'Cr': 0.014940846206631789, 'Ti': 0.10881733064809249, 'Zr': 0.027685048750887307, 'W': 0.09279336284593785, 'V': 0.7557634115484507}\n",
      "Total = 1.0000000000000002\n",
      "\n",
      "File = supercell_gen4_comp49_struct1.cif, with Comp = {'Cr': 0.12582251741632708, 'Ti': 0.12132848137265694, 'Zr': 0.021317678392946498, 'W': 0.12683037248309384, 'V': 0.6047009503349755}\n",
      "Total = 0.9999999999999999\n",
      "\n",
      "File = supercell_gen4_comp49_struct2.cif, with Comp = {'Cr': 0.12582251741632708, 'Ti': 0.12132848137265694, 'Zr': 0.021317678392946498, 'W': 0.12683037248309384, 'V': 0.6047009503349755}\n",
      "Total = 0.9999999999999999\n",
      "\n",
      "File = supercell_gen4_comp49_struct3.cif, with Comp = {'Cr': 0.12582251741632708, 'Ti': 0.12132848137265694, 'Zr': 0.021317678392946498, 'W': 0.12683037248309384, 'V': 0.6047009503349755}\n",
      "Total = 0.9999999999999999\n",
      "\n",
      "File = supercell_gen4_comp51_struct1.cif, with Comp = {'Cr': 0.02535482421816095, 'Ti': 0.07823477752848475, 'Zr': 0.040951430144776306, 'W': 0.025479922840387456, 'V': 0.8299790452681904}\n",
      "Total = 0.9999999999999999\n",
      "\n",
      "File = supercell_gen4_comp51_struct2.cif, with Comp = {'Cr': 0.02535482421816095, 'Ti': 0.07823477752848475, 'Zr': 0.040951430144776306, 'W': 0.025479922840387456, 'V': 0.8299790452681904}\n",
      "Total = 0.9999999999999999\n",
      "\n",
      "File = supercell_gen4_comp51_struct3.cif, with Comp = {'Cr': 0.02535482421816095, 'Ti': 0.07823477752848475, 'Zr': 0.040951430144776306, 'W': 0.025479922840387456, 'V': 0.8299790452681904}\n",
      "Total = 0.9999999999999999\n",
      "\n"
     ]
    }
   ],
   "source": [
    "print(len(supercells))\n",
    "print(supercells[0])\n",
    "for supercell in supercells:\n",
    "    if supercell['generation'] == 4:\n",
    "        # I also want to print the filename key, but only take the last section split by / \n",
    "        filename = supercell['filename'].split('/')[-1]\n",
    "        # i have a dictionary of composition, that I want to sum over the amounts \n",
    "        # i.e supercell['composition'] = {'V': 0.2, 'Cr': 0.2, 'Ti': 0.2, 'W': 0.2, 'Zr': 0.2}, and I'd sum those values\n",
    "        total = sum(supercell['composition'].values())\n",
    "        if total != 1:\n",
    "            print(f\"File = {filename}, with Comp = {supercell['composition']}\")\n",
    "            print(f\"Total = {total}\")\n",
    "            print(\"\")\n",
    "        #print(f\"File = {filename}, with Comp = {supercell['composition']}\")"
   ]
  },
  {
   "cell_type": "code",
   "execution_count": 11,
   "metadata": {},
   "outputs": [],
   "source": [
    "# now if generation = 0, let's make vasp relaxation jobs for all of these structures\n",
    "# first we will get the list of all the .cif files in the structure output directory\n",
    "\n",
    "gen_num = 4\n",
    "cif_files = [f for f in os.listdir(output_dir) if f.endswith('.cif')]\n",
    "\n",
    "# next select only the structure names that contains gen0\n",
    "gen0_structures = [f for f in cif_files if f'gen{gen_num}' in f]\n",
    "\n",
    "# now define vasp_job folder\n",
    "vasp_job_dir = f'../Archived_Vasp_Jobs/VCrTiWZr_Summit/gen{gen_num}'\n",
    "# check if the vasp_job_dir exists, if not create it\n",
    "if not os.path.exists(vasp_job_dir):\n",
    "    os.makedirs(vasp_job_dir)\n",
    "kpoints = (6,6,6)\n",
    "# now we will create the vasp job files for all the gen0 structures\n",
    "for f in gen0_structures:\n",
    "    cif_file = os.path.join(output_dir, f)\n",
    "    struct = Structure.from_file(cif_file)\n",
    "\n",
    "    # define job path \n",
    "    vasp_job_path = os.path.join(vasp_job_dir, f.replace('.cif', ''))\n",
    "\n",
    "    # make the vasp_job_path directory\n",
    "    if not os.path.exists(vasp_job_path):\n",
    "        os.makedirs(vasp_job_path)\n",
    "\n",
    "    # make a vasp job from the structure\n",
    "    make_vasp_job(struct, vasp_job_path, kpoints_params=kpoints, vol_relax=True)\n",
    "\n"
   ]
  },
  {
   "cell_type": "markdown",
   "metadata": {},
   "source": [
    "# Generate Defects from pristine systems"
   ]
  },
  {
   "cell_type": "markdown",
   "metadata": {},
   "source": [
    "## defect functions"
   ]
  },
  {
   "cell_type": "code",
   "execution_count": 110,
   "metadata": {},
   "outputs": [],
   "source": [
    "import os\n",
    "import json\n",
    "import sys\n",
    "import numpy as np\n",
    "import random\n",
    "from smol.io import load_work\n",
    "from pymatgen.core.structure import Structure\n",
    "from pymatgen.entries.computed_entries import ComputedStructureEntry\n",
    "from pymatgen.io.vasp.inputs import Poscar\n",
    "from pymatgen.io.vasp.outputs import Outcar\n",
    "from ase.db import connect\n",
    "from ase.io import write\n",
    "from ase.visualize import view\n",
    "\n",
    "sys.path.append('../Modules')\n",
    "from defect_maker import make_defects, return_x_neighbors\n",
    "\n",
    "# Function to load and sort the structure\n",
    "def load_and_sort_structure(entry):\n",
    "    return Structure.from_dict(entry.structure.as_dict()).get_sorted_structure()\n",
    "\n",
    "def read_contcar_direct(contcar_file):\n",
    "    try:\n",
    "        with open(contcar_file, 'r') as file:\n",
    "            lines = file.readlines()\n",
    "            # Read the lattice constant\n",
    "            lattice_constant = float(lines[1].strip())\n",
    "            # Read the lattice vectors\n",
    "            lattice_vectors = [list(map(float, line.strip().split())) for line in lines[2:5]]\n",
    "            # Read the elements and their counts\n",
    "            #elements = lines[5].strip().split()\n",
    "            elements = [element.split('_')[0] for element in lines[5].strip().split()]\n",
    "            print(elements)\n",
    "            element_counts = list(map(int, lines[6].strip().split()))\n",
    "            # Create a list of species that matches the number of coordinates\n",
    "            species = [element for element, count in zip(elements, element_counts) for _ in range(count)]\n",
    "            # Read the coordinates\n",
    "            coordinates = [list(map(float, line.strip().split())) for line in lines[8:8+sum(element_counts)]]\n",
    "            # Convert the coordinates from direct to Cartesian\n",
    "            cartesian_coordinates = [[sum(a*b for a, b in zip(coord, vector)) for vector in lattice_vectors] for coord in coordinates]\n",
    "            # Create the structure\n",
    "            contcar = Structure(lattice_vectors, species, cartesian_coordinates)\n",
    "            return contcar\n",
    "    except Exception as e:\n",
    "        print(f\"Error reading CONTCAR file {contcar_file}: {e}\")\n",
    "        raise e\n",
    "        return None\n",
    "\n",
    "# Function to find N target atoms without overlapping second nearest neighbors\n",
    "def _find_target_atoms(structure, N, neighbor_distance=2):\n",
    "    all_indices = list(range(len(structure)))\n",
    "    random.shuffle(all_indices)\n",
    "    target_atoms = []\n",
    "    neighbor_sets = []\n",
    "\n",
    "    print(f\"All indices: {all_indices}\")\n",
    "\n",
    "    while all_indices and len(target_atoms) < N:\n",
    "        index = all_indices.pop()\n",
    "        #neighbors, _ = return_x_neighbors(structure, target_atom_index=index, x_neighbor=neighbor_distance, alat=structure.lattice.a)\n",
    "        neighbors = []\n",
    "        for distance in range(1, neighbor_distance + 1):\n",
    "            neighbors_distance, _ = return_x_neighbors(structure, target_atom_index=index, x_neighbor=distance, alat=structure.lattice.a)\n",
    "            neighbors.extend(neighbors_distance)\n",
    "        print(f\"Index: {index}, Neighbors: {neighbors}\")\n",
    "\n",
    "        if not any(set(neighbors).intersection(neighbor_set) for neighbor_set in neighbor_sets):\n",
    "            target_atoms.append(index)\n",
    "            neighbor_sets.append(set(neighbors))\n",
    "            print(f\"Selected target atom index: {index}\")\n",
    "\n",
    "    #return target_atoms if len(target_atoms) == N else None\n",
    "    return target_atoms \n",
    "\n",
    "def find_target_atoms(structure, N, neighbor_distance=2, cutoff_distance=5):\n",
    "    all_indices = list(range(len(structure)))\n",
    "    random.shuffle(all_indices)\n",
    "    target_atoms = []\n",
    "    neighbor_sets = []\n",
    "\n",
    "    print(f\"All indices: {all_indices}\")\n",
    "\n",
    "    while all_indices and len(target_atoms) < N:\n",
    "        index = all_indices.pop()\n",
    "        neighbors = []\n",
    "        for distance in range(1, neighbor_distance + 1):\n",
    "            neighbors_distance, _ = return_x_neighbors(structure, target_atom_index=index, x_neighbor=distance, alat=structure.lattice.a)\n",
    "            neighbors.extend(neighbors_distance)\n",
    "        \n",
    "        print(f\"Index: {index}, Neighbors: {neighbors}\")\n",
    "\n",
    "        if not any(set(neighbors).intersection(neighbor_set) for neighbor_set in neighbor_sets):\n",
    "            # Check if the distance to all existing target atoms is greater than the cutoff distance\n",
    "            if all(structure.get_distance(index, target_atom) > cutoff_distance for target_atom in target_atoms):\n",
    "                target_atoms.append(index)\n",
    "                neighbor_sets.append(set(neighbors))\n",
    "                print(f\"Selected target atom index: {index}\")\n",
    "\n",
    "    #return target_atoms if len(target_atoms) == N else None\n",
    "    return target_atoms\n",
    "\n",
    "def _randomly_pick_sites(structure, n):\n",
    "    # Ensure that n is not greater than the number of sites in the structure\n",
    "    if n > len(structure.sites):\n",
    "        raise ValueError(\"The number of sites to pick cannot be greater than the number of sites in the structure.\")\n",
    "    \n",
    "    # Randomly select n sites from the structure\n",
    "    random_sites = random.sample(structure.sites, n)\n",
    "    return random_sites\n",
    "\n",
    "import random\n",
    "from scipy.spatial.distance import cdist\n",
    "\n",
    "def randomly_pick_sites(structure, n, cutoff=1.25):\n",
    "    # Ensure that n is not greater than the number of sites in the structure\n",
    "    if n > len(structure.sites):\n",
    "        raise ValueError(\"The number of sites to pick cannot be greater than the number of sites in the structure.\")\n",
    "    \n",
    "    # Randomly select n sites from the structure\n",
    "    random_sites = []\n",
    "    while len(random_sites) < n:\n",
    "        potential_site = random.choice(structure.sites)\n",
    "        if all(cdist([potential_site.coords], [site.coords])[0][0] > cutoff * min(structure.lattice.abc) for site in random_sites):\n",
    "            random_sites.append(potential_site)\n",
    "    return random_sites\n",
    "\n",
    "# Function to select a random neighbor\n",
    "def select_random_neighbor(structure, target_atom_index, x_neighbor):\n",
    "    neighbors, _ = return_x_neighbors(structure, target_atom_index, x_neighbor, structure.lattice.a)\n",
    "    if neighbors:\n",
    "        return random.choice(neighbors)\n",
    "    return None\n",
    "\n",
    "# Function to create and save structures with vacancies\n",
    "def create_and_save_structures(entries, N, job_path, neighbor_distance=2, cutoff_distance=1.25):\n",
    "    for k, entry in enumerate(entries):\n",
    "        print(f\"Processing entry {k+1}/{len(entries)}...\")\n",
    "        structure = load_and_sort_structure(entry)\n",
    "        #target_atoms = find_target_atoms(structure, N, neighbor_distance, cutoff_distance)\n",
    "        target_atoms = randomly_pick_sites(structure, N, cutoff = cutoff_distance)\n",
    "        if not target_atoms:\n",
    "            print(f\"No suitable target atoms found for entry {k+1}. Skipping...\")\n",
    "            continue\n",
    "        print(f\"Found target atoms for entry {k+1}: {target_atoms}\")\n",
    "\n",
    "        for n, target_atom_index in enumerate(target_atoms):\n",
    "            start_structure, _ = make_defects(structure, target_atom_index, target_atom_index)\n",
    "            if start_structure is None:\n",
    "                print(f\"Failed to create start structure for entry {k+1}, target atom {target_atom_index}.\")\n",
    "                continue\n",
    "\n",
    "            for x_neighbor in [1, 2, 3]:\n",
    "                vac_site = select_random_neighbor(structure, target_atom_index, x_neighbor)\n",
    "                if vac_site is not None:\n",
    "                    _, end_structure = make_defects(structure, target_atom_index, vac_site)\n",
    "                    if end_structure is None:\n",
    "                        print(f\"Failed to create end structure for entry {k+1}, target atom {target_atom_index}, vac_site {vac_site}.\")\n",
    "                        continue\n",
    "\n",
    "                    # Create directory and filenames\n",
    "                    directory = os.path.join(job_path, f\"structure_{k}_vac_site_{n}\")\n",
    "                    os.makedirs(directory, exist_ok=True)\n",
    "                    print(f\"Created directory: {directory}\")\n",
    "\n",
    "                    start_filename = os.path.join(directory, f\"structure_{k}_vac_site_{n}_start.vasp\")\n",
    "                    end_filename = os.path.join(directory, f\"structure_{k}_vac_site_{n}_end_site_{vac_site}.vasp\")\n",
    "\n",
    "                    # Write the structures to POSCAR files\n",
    "                    Poscar(start_structure).write_file(start_filename)\n",
    "                    print(f\"Written start structure to {start_filename}\")\n",
    "                    Poscar(end_structure).write_file(end_filename)\n",
    "                    print(f\"Written end structure to {end_filename}\")\n",
    "\n",
    "def create_start_structures(entries, N, job_path, cutoff_distance=1.25):\n",
    "    start_structures = []\n",
    "    removed_indexes = []\n",
    "    for k, entry in enumerate(entries):\n",
    "        print(f\"Processing entry {k+1}/{len(entries)}...\")\n",
    "        structure = load_and_sort_structure(entry)\n",
    "        target_atoms = randomly_pick_sites(structure, N, cutoff = cutoff_distance)\n",
    "        if not target_atoms:\n",
    "            print(f\"No suitable target atoms found for entry {k+1}. Skipping...\")\n",
    "            continue\n",
    "        print(f\"Found target atoms for entry {k+1}: {target_atoms}\")\n",
    "\n",
    "        for n, target_atom_index in enumerate(target_atoms):\n",
    "            start_structure, _ = make_defects(structure, target_atom_index, target_atom_index)\n",
    "            if start_structure is None:\n",
    "                print(f\"Failed to create start structure for entry {k+1}, target atom {target_atom_index}.\")\n",
    "                continue\n",
    "            start_structures.append(start_structure)\n",
    "            removed_indexes.append(target_atom_index)\n",
    "    return start_structures, removed_indexes\n",
    "from pymatgen.entries.computed_entries import ComputedStructureEntry\n",
    "from monty.json import MontyEncoder, MontyDecoder\n",
    "from pymatgen.io.vasp import Poscar\n",
    "\n",
    "def create_start_structures(entries, N, job_path, cutoff_distance=1.25):\n",
    "    computed_entries = []\n",
    "    for k, entry in enumerate(entries):\n",
    "        print(f\"Processing entry {k+1}/{len(entries)}...\")\n",
    "        structure = load_and_sort_structure(entry)\n",
    "        target_atoms = randomly_pick_sites(structure, N, cutoff = cutoff_distance)\n",
    "        if not target_atoms:\n",
    "            print(f\"No suitable target atoms found for entry {k+1}. Skipping...\")\n",
    "            continue\n",
    "        print(f\"Found target atoms for entry {k+1}: {target_atoms}\")\n",
    "\n",
    "        for n, target_atom_index in enumerate(target_atoms):\n",
    "            target_atom_index = structure.index(target_atom_index)\n",
    "\n",
    "            start_structure, _ = make_defects(structure, target_atom_index, target_atom_index)\n",
    "            if start_structure is None:\n",
    "                print(f\"Failed to create start structure for entry {k+1}, target atom {target_atom_index}.\")\n",
    "                continue\n",
    "\n",
    "            # Save the structure as a .vasp file\n",
    "            #start_filename = os.path.join(job_path, f\"structure_{k}_vac_site_{n}_start.vasp\")\n",
    "            start_filename = os.path.join(job_path, f\"supercell_gen{entry.data['generation']}_comp{entry.data['comp']}_struct{entry.data['struct']}_vac_site{n}_start.vasp\")\n",
    "            Poscar(start_structure).write_file(start_filename)\n",
    "            print(f\"Written start structure to {start_filename}\")\n",
    "\n",
    "            # Create a ComputedStructureEntry and add it to the list\n",
    "            data = {'generation': entry.data['generation'], 'comp': entry.data['comp'], 'struct': entry.data['struct'], 'perfect_structure' : entry.structure.as_dict()}\n",
    "            computed_entry = ComputedStructureEntry(start_structure, energy=None, data=data)\n",
    "            computed_entries.append(computed_entry)\n",
    "\n",
    "    # Save the computed entries as a JSON file\n",
    "    with open(os.path.join(job_path, 'computed_entries.json'), 'w') as f:\n",
    "        json.dump(computed_entries, f, cls=MontyEncoder)\n",
    "\n",
    "    print(\"Computed entries saved to JSON file.\")\n",
    "\n",
    "def create_end_structures(start_structures, removed_indexes, job_path):\n",
    "    for k, (start_structure, target_atom_index) in enumerate(zip(start_structures, removed_indexes)):\n",
    "        for n, x_neighbor in enumerate([1, 2, 3]):\n",
    "            vac_site = select_random_neighbor(start_structure, target_atom_index, x_neighbor)\n",
    "            if vac_site is not None:\n",
    "                _, end_structure = make_defects(start_structure, target_atom_index, vac_site)\n",
    "                if end_structure is None:\n",
    "                    print(f\"Failed to create end structure for entry {k+1}, target atom {target_atom_index}, vac_site {vac_site}.\")\n",
    "                    continue\n",
    "\n",
    "                # Create directory and filenames\n",
    "                directory = os.path.join(job_path, f\"structure_{k}_vac_site_{n}\")\n",
    "                os.makedirs(directory, exist_ok=True)\n",
    "                print(f\"Created directory: {directory}\")\n",
    "\n",
    "                start_filename = os.path.join(directory, f\"structure_{k}_vac_site_{n}_start.vasp\")\n",
    "                end_filename = os.path.join(directory, f\"structure_{k}_vac_site_{n}_end_site_{vac_site}.vasp\")\n",
    "\n",
    "                # Write the structures to POSCAR files\n",
    "                Poscar(start_structure).write_file(start_filename)\n",
    "                print(f\"Written start structure to {start_filename}\")\n",
    "                Poscar(end_structure).write_file(end_filename)\n",
    "                print(f\"Written end structure to {end_filename}\")\n"
   ]
  },
  {
   "cell_type": "markdown",
   "metadata": {},
   "source": [
    "## use functions to make defects"
   ]
  },
  {
   "cell_type": "markdown",
   "metadata": {},
   "source": [
    "Here I need to save all the finished perfect jobs as pymatgen computed structure entries"
   ]
  },
  {
   "cell_type": "code",
   "execution_count": 95,
   "metadata": {},
   "outputs": [
    {
     "name": "stdout",
     "output_type": "stream",
     "text": [
      "Processing directory: supercell_gen2_comp29_struct1\n",
      "['Ti', 'V', 'Cr', 'W']\n",
      "Read OUTCAR from ../Visualization/Job_Structures/Post_VASP/VCrTiWZr_Summit/Gen_0-2/Perfect/supercell_gen2_comp29_struct1/OUTCAR\n",
      "Successfully created ComputedStructureEntry from supercell_gen2_comp29_struct1\n",
      "Processing directory: supercell_gen2_comp27_struct2\n",
      "['Zr', 'Ti', 'V', 'Cr', 'W']\n",
      "Read OUTCAR from ../Visualization/Job_Structures/Post_VASP/VCrTiWZr_Summit/Gen_0-2/Perfect/supercell_gen2_comp27_struct2/OUTCAR\n",
      "Successfully created ComputedStructureEntry from supercell_gen2_comp27_struct2\n",
      "Processing directory: supercell_gen0_comp7_struct3\n",
      "['Zr', 'Ti', 'V', 'Cr', 'W']\n",
      "Read OUTCAR from ../Visualization/Job_Structures/Post_VASP/VCrTiWZr_Summit/Gen_0-2/Perfect/supercell_gen0_comp7_struct3/OUTCAR\n",
      "Successfully created ComputedStructureEntry from supercell_gen0_comp7_struct3\n",
      "Processing directory: supercell_gen1_comp15_struct1\n",
      "['Zr', 'Ti', 'V', 'Cr', 'W']\n",
      "Read OUTCAR from ../Visualization/Job_Structures/Post_VASP/VCrTiWZr_Summit/Gen_0-2/Perfect/supercell_gen1_comp15_struct1/OUTCAR\n",
      "Successfully created ComputedStructureEntry from supercell_gen1_comp15_struct1\n",
      "Processing directory: supercell_gen0_comp7_struct2\n",
      "['Zr', 'Ti', 'V', 'Cr', 'W']\n",
      "Error processing OUTCAR file ../Visualization/Job_Structures/Post_VASP/VCrTiWZr_Summit/Gen_0-2/Perfect/supercell_gen0_comp7_struct2/OUTCAR in directory supercell_gen0_comp7_struct2: list index out of range\n",
      "Processing directory: supercell_gen0_comp9_struct1\n",
      "['Zr', 'Ti', 'V', 'Cr', 'W']\n",
      "Read OUTCAR from ../Visualization/Job_Structures/Post_VASP/VCrTiWZr_Summit/Gen_0-2/Perfect/supercell_gen0_comp9_struct1/OUTCAR\n",
      "Successfully created ComputedStructureEntry from supercell_gen0_comp9_struct1\n",
      "Processing directory: supercell_gen2_comp27_struct3\n",
      "['Zr', 'Ti', 'V', 'Cr', 'W']\n",
      "Read OUTCAR from ../Visualization/Job_Structures/Post_VASP/VCrTiWZr_Summit/Gen_0-2/Perfect/supercell_gen2_comp27_struct3/OUTCAR\n",
      "Successfully created ComputedStructureEntry from supercell_gen2_comp27_struct3\n",
      "Processing directory: supercell_gen2_comp30_struct1\n",
      "['Zr', 'Ti', 'V', 'W']\n",
      "Read OUTCAR from ../Visualization/Job_Structures/Post_VASP/VCrTiWZr_Summit/Gen_0-2/Perfect/supercell_gen2_comp30_struct1/OUTCAR\n",
      "Successfully created ComputedStructureEntry from supercell_gen2_comp30_struct1\n",
      "Processing directory: supercell_gen0_comp8_struct1\n",
      "['Zr', 'Ti', 'V', 'Cr', 'W']\n",
      "Read OUTCAR from ../Visualization/Job_Structures/Post_VASP/VCrTiWZr_Summit/Gen_0-2/Perfect/supercell_gen0_comp8_struct1/OUTCAR\n",
      "Successfully created ComputedStructureEntry from supercell_gen0_comp8_struct1\n",
      "Processing directory: supercell_gen0_comp6_struct2\n",
      "Error reading CONTCAR file ../Visualization/Job_Structures/Post_VASP/VCrTiWZr_Summit/Gen_0-2/Perfect/supercell_gen0_comp6_struct2/CONTCAR: list index out of range\n",
      "Error reading CONTCAR file ../Visualization/Job_Structures/Post_VASP/VCrTiWZr_Summit/Gen_0-2/Perfect/supercell_gen0_comp6_struct2/CONTCAR in directory supercell_gen0_comp6_struct2: list index out of range\n",
      "Processing directory: supercell_gen1_comp13_struct3\n",
      "['Zr', 'Ti', 'V', 'Cr', 'W']\n",
      "Error processing OUTCAR file ../Visualization/Job_Structures/Post_VASP/VCrTiWZr_Summit/Gen_0-2/Perfect/supercell_gen1_comp13_struct3/OUTCAR in directory supercell_gen1_comp13_struct3: list index out of range\n",
      "Processing directory: supercell_gen1_comp14_struct1\n",
      "['Zr', 'Ti', 'V', 'Cr', 'W']\n",
      "Read OUTCAR from ../Visualization/Job_Structures/Post_VASP/VCrTiWZr_Summit/Gen_0-2/Perfect/supercell_gen1_comp14_struct1/OUTCAR\n",
      "Successfully created ComputedStructureEntry from supercell_gen1_comp14_struct1\n",
      "Processing directory: supercell_gen2_comp31_struct1\n",
      "['Zr', 'Ti', 'V', 'Cr', 'W']\n",
      "Read OUTCAR from ../Visualization/Job_Structures/Post_VASP/VCrTiWZr_Summit/Gen_0-2/Perfect/supercell_gen2_comp31_struct1/OUTCAR\n",
      "Successfully created ComputedStructureEntry from supercell_gen2_comp31_struct1\n",
      "Processing directory: supercell_gen2_comp26_struct3\n",
      "['Zr', 'Ti', 'V', 'Cr', 'W']\n",
      "Read OUTCAR from ../Visualization/Job_Structures/Post_VASP/VCrTiWZr_Summit/Gen_0-2/Perfect/supercell_gen2_comp26_struct3/OUTCAR\n",
      "Successfully created ComputedStructureEntry from supercell_gen2_comp26_struct3\n",
      "Processing directory: supercell_gen0_comp12_struct3\n",
      "['Zr', 'Ti', 'V', 'Cr', 'W']\n",
      "Read OUTCAR from ../Visualization/Job_Structures/Post_VASP/VCrTiWZr_Summit/Gen_0-2/Perfect/supercell_gen0_comp12_struct3/OUTCAR\n",
      "Successfully created ComputedStructureEntry from supercell_gen0_comp12_struct3\n",
      "Processing directory: supercell_gen2_comp26_struct2\n",
      "['Zr', 'Ti', 'V', 'Cr', 'W']\n",
      "Read OUTCAR from ../Visualization/Job_Structures/Post_VASP/VCrTiWZr_Summit/Gen_0-2/Perfect/supercell_gen2_comp26_struct2/OUTCAR\n",
      "Successfully created ComputedStructureEntry from supercell_gen2_comp26_struct2\n",
      "Processing directory: supercell_gen2_comp28_struct1\n",
      "['Zr', 'Ti', 'V', 'Cr', 'W']\n",
      "Read OUTCAR from ../Visualization/Job_Structures/Post_VASP/VCrTiWZr_Summit/Gen_0-2/Perfect/supercell_gen2_comp28_struct1/OUTCAR\n",
      "Successfully created ComputedStructureEntry from supercell_gen2_comp28_struct1\n",
      "Processing directory: supercell_gen1_comp13_struct2\n",
      "['Zr', 'Ti', 'V', 'Cr', 'W']\n",
      "Read OUTCAR from ../Visualization/Job_Structures/Post_VASP/VCrTiWZr_Summit/Gen_0-2/Perfect/supercell_gen1_comp13_struct2/OUTCAR\n",
      "Successfully created ComputedStructureEntry from supercell_gen1_comp13_struct2\n",
      "Processing directory: supercell_gen0_comp6_struct3\n",
      "['Zr', 'Ti', 'V', 'Cr', 'W']\n",
      "Read OUTCAR from ../Visualization/Job_Structures/Post_VASP/VCrTiWZr_Summit/Gen_0-2/Perfect/supercell_gen0_comp6_struct3/OUTCAR\n",
      "Successfully created ComputedStructureEntry from supercell_gen0_comp6_struct3\n",
      "Processing directory: supercell_gen0_comp1_struct1\n",
      "['Zr', 'Ti', 'V', 'Cr', 'W']\n",
      "Read OUTCAR from ../Visualization/Job_Structures/Post_VASP/VCrTiWZr_Summit/Gen_0-2/Perfect/supercell_gen0_comp1_struct1/OUTCAR\n",
      "Successfully created ComputedStructureEntry from supercell_gen0_comp1_struct1\n",
      "Processing directory: supercell_gen0_comp12_struct2\n",
      "['Zr', 'Ti', 'V', 'Cr', 'W']\n",
      "Read OUTCAR from ../Visualization/Job_Structures/Post_VASP/VCrTiWZr_Summit/Gen_0-2/Perfect/supercell_gen0_comp12_struct2/OUTCAR\n",
      "Successfully created ComputedStructureEntry from supercell_gen0_comp12_struct2\n",
      "Processing directory: supercell_gen1_comp22_struct1\n",
      "['Ti', 'V', 'Cr', 'W']\n",
      "Read OUTCAR from ../Visualization/Job_Structures/Post_VASP/VCrTiWZr_Summit/Gen_0-2/Perfect/supercell_gen1_comp22_struct1/OUTCAR\n",
      "Successfully created ComputedStructureEntry from supercell_gen1_comp22_struct1\n",
      "Processing directory: supercell_gen2_comp24_struct3\n",
      "['Ti', 'V', 'Cr', 'W']\n",
      "Read OUTCAR from ../Visualization/Job_Structures/Post_VASP/VCrTiWZr_Summit/Gen_0-2/Perfect/supercell_gen2_comp24_struct3/OUTCAR\n",
      "Successfully created ComputedStructureEntry from supercell_gen2_comp24_struct3\n",
      "Processing directory: supercell_gen2_comp23_struct1\n",
      "['Zr', 'Ti', 'V', 'Cr', 'W']\n",
      "Read OUTCAR from ../Visualization/Job_Structures/Post_VASP/VCrTiWZr_Summit/Gen_0-2/Perfect/supercell_gen2_comp23_struct1/OUTCAR\n",
      "Successfully created ComputedStructureEntry from supercell_gen2_comp23_struct1\n",
      "Processing directory: supercell_gen1_comp18_struct2\n",
      "['Zr', 'Ti', 'V', 'Cr', 'W']\n",
      "Read OUTCAR from ../Visualization/Job_Structures/Post_VASP/VCrTiWZr_Summit/Gen_0-2/Perfect/supercell_gen1_comp18_struct2/OUTCAR\n",
      "Successfully created ComputedStructureEntry from supercell_gen1_comp18_struct2\n",
      "Processing directory: supercell_gen1_comp16_struct1\n",
      "['Zr', 'Ti', 'V', 'Cr', 'W']\n",
      "Read OUTCAR from ../Visualization/Job_Structures/Post_VASP/VCrTiWZr_Summit/Gen_0-2/Perfect/supercell_gen1_comp16_struct1/OUTCAR\n",
      "Successfully created ComputedStructureEntry from supercell_gen1_comp16_struct1\n",
      "Processing directory: supercell_gen0_comp4_struct2\n",
      "['Zr', 'Ti', 'V', 'Cr', 'W']\n",
      "Error processing OUTCAR file ../Visualization/Job_Structures/Post_VASP/VCrTiWZr_Summit/Gen_0-2/Perfect/supercell_gen0_comp4_struct2/OUTCAR in directory supercell_gen0_comp4_struct2: list index out of range\n",
      "Processing directory: supercell_gen0_comp10_struct3\n",
      "['Zr', 'Ti', 'V', 'Cr', 'W']\n",
      "Read OUTCAR from ../Visualization/Job_Structures/Post_VASP/VCrTiWZr_Summit/Gen_0-2/Perfect/supercell_gen0_comp10_struct3/OUTCAR\n",
      "Successfully created ComputedStructureEntry from supercell_gen0_comp10_struct3\n",
      "Processing directory: supercell_gen0_comp3_struct1\n",
      "['Zr', 'Ti', 'V', 'Cr', 'W']\n",
      "Read OUTCAR from ../Visualization/Job_Structures/Post_VASP/VCrTiWZr_Summit/Gen_0-2/Perfect/supercell_gen0_comp3_struct1/OUTCAR\n",
      "Successfully created ComputedStructureEntry from supercell_gen0_comp3_struct1\n",
      "Processing directory: supercell_gen0_comp4_struct3\n",
      "['Zr', 'Ti', 'V', 'Cr', 'W']\n",
      "Read OUTCAR from ../Visualization/Job_Structures/Post_VASP/VCrTiWZr_Summit/Gen_0-2/Perfect/supercell_gen0_comp4_struct3/OUTCAR\n",
      "Successfully created ComputedStructureEntry from supercell_gen0_comp4_struct3\n",
      "Processing directory: supercell_gen1_comp18_struct3\n",
      "['Zr', 'Ti', 'V', 'Cr', 'W']\n",
      "Read OUTCAR from ../Visualization/Job_Structures/Post_VASP/VCrTiWZr_Summit/Gen_0-2/Perfect/supercell_gen1_comp18_struct3/OUTCAR\n",
      "Successfully created ComputedStructureEntry from supercell_gen1_comp18_struct3\n",
      "Processing directory: supercell_gen2_comp24_struct2\n",
      "['Ti', 'V', 'Cr', 'W']\n",
      "Read OUTCAR from ../Visualization/Job_Structures/Post_VASP/VCrTiWZr_Summit/Gen_0-2/Perfect/supercell_gen2_comp24_struct2/OUTCAR\n",
      "Successfully created ComputedStructureEntry from supercell_gen2_comp24_struct2\n",
      "Processing directory: supercell_gen1_comp20_struct1\n",
      "['Zr', 'Ti', 'V', 'Cr', 'W']\n",
      "Read OUTCAR from ../Visualization/Job_Structures/Post_VASP/VCrTiWZr_Summit/Gen_0-2/Perfect/supercell_gen1_comp20_struct1/OUTCAR\n",
      "Successfully created ComputedStructureEntry from supercell_gen1_comp20_struct1\n",
      "Processing directory: supercell_gen0_comp10_struct2\n",
      "Error reading CONTCAR file ../Visualization/Job_Structures/Post_VASP/VCrTiWZr_Summit/Gen_0-2/Perfect/supercell_gen0_comp10_struct2/CONTCAR: list index out of range\n",
      "Error reading CONTCAR file ../Visualization/Job_Structures/Post_VASP/VCrTiWZr_Summit/Gen_0-2/Perfect/supercell_gen0_comp10_struct2/CONTCAR in directory supercell_gen0_comp10_struct2: list index out of range\n",
      "Processing directory: supercell_gen1_comp19_struct3\n",
      "['Zr', 'Ti', 'V', 'Cr', 'W']\n",
      "Read OUTCAR from ../Visualization/Job_Structures/Post_VASP/VCrTiWZr_Summit/Gen_0-2/Perfect/supercell_gen1_comp19_struct3/OUTCAR\n",
      "Successfully created ComputedStructureEntry from supercell_gen1_comp19_struct3\n",
      "Processing directory: supercell_gen0_comp5_struct3\n",
      "['Zr', 'Ti', 'V', 'Cr', 'W']\n",
      "Read OUTCAR from ../Visualization/Job_Structures/Post_VASP/VCrTiWZr_Summit/Gen_0-2/Perfect/supercell_gen0_comp5_struct3/OUTCAR\n",
      "Successfully created ComputedStructureEntry from supercell_gen0_comp5_struct3\n",
      "Processing directory: supercell_gen0_comp2_struct1\n",
      "['Zr', 'Ti', 'V', 'Cr', 'W']\n",
      "Read OUTCAR from ../Visualization/Job_Structures/Post_VASP/VCrTiWZr_Summit/Gen_0-2/Perfect/supercell_gen0_comp2_struct1/OUTCAR\n",
      "Successfully created ComputedStructureEntry from supercell_gen0_comp2_struct1\n",
      "Processing directory: supercell_gen2_comp25_struct2\n",
      "['Ti', 'V', 'Cr', 'W']\n",
      "Read OUTCAR from ../Visualization/Job_Structures/Post_VASP/VCrTiWZr_Summit/Gen_0-2/Perfect/supercell_gen2_comp25_struct2/OUTCAR\n",
      "Successfully created ComputedStructureEntry from supercell_gen2_comp25_struct2\n",
      "Processing directory: supercell_gen0_comp11_struct2\n",
      "['Zr', 'Ti', 'V', 'Cr', 'W']\n",
      "Read OUTCAR from ../Visualization/Job_Structures/Post_VASP/VCrTiWZr_Summit/Gen_0-2/Perfect/supercell_gen0_comp11_struct2/OUTCAR\n",
      "Successfully created ComputedStructureEntry from supercell_gen0_comp11_struct2\n",
      "Processing directory: supercell_gen1_comp21_struct1\n",
      "['Zr', 'Ti', 'V', 'Cr', 'W']\n",
      "Read OUTCAR from ../Visualization/Job_Structures/Post_VASP/VCrTiWZr_Summit/Gen_0-2/Perfect/supercell_gen1_comp21_struct1/OUTCAR\n",
      "Successfully created ComputedStructureEntry from supercell_gen1_comp21_struct1\n",
      "Processing directory: supercell_gen2_comp32_struct1\n",
      "['Ti', 'V', 'Cr', 'W']\n",
      "Read OUTCAR from ../Visualization/Job_Structures/Post_VASP/VCrTiWZr_Summit/Gen_0-2/Perfect/supercell_gen2_comp32_struct1/OUTCAR\n",
      "Successfully created ComputedStructureEntry from supercell_gen2_comp32_struct1\n",
      "Processing directory: supercell_gen2_comp25_struct3\n",
      "['Ti', 'V', 'Cr', 'W']\n",
      "Read OUTCAR from ../Visualization/Job_Structures/Post_VASP/VCrTiWZr_Summit/Gen_0-2/Perfect/supercell_gen2_comp25_struct3/OUTCAR\n",
      "Successfully created ComputedStructureEntry from supercell_gen2_comp25_struct3\n",
      "Processing directory: supercell_gen0_comp5_struct2\n",
      "['Zr', 'Ti', 'V', 'Cr', 'W']\n",
      "Read OUTCAR from ../Visualization/Job_Structures/Post_VASP/VCrTiWZr_Summit/Gen_0-2/Perfect/supercell_gen0_comp5_struct2/OUTCAR\n",
      "Successfully created ComputedStructureEntry from supercell_gen0_comp5_struct2\n",
      "Processing directory: supercell_gen1_comp17_struct1\n",
      "['Zr', 'Ti', 'V', 'Cr', 'W']\n",
      "Read OUTCAR from ../Visualization/Job_Structures/Post_VASP/VCrTiWZr_Summit/Gen_0-2/Perfect/supercell_gen1_comp17_struct1/OUTCAR\n",
      "Successfully created ComputedStructureEntry from supercell_gen1_comp17_struct1\n",
      "Processing directory: supercell_gen1_comp19_struct2\n",
      "['Zr', 'Ti', 'V', 'Cr', 'W']\n",
      "Read OUTCAR from ../Visualization/Job_Structures/Post_VASP/VCrTiWZr_Summit/Gen_0-2/Perfect/supercell_gen1_comp19_struct2/OUTCAR\n",
      "Successfully created ComputedStructureEntry from supercell_gen1_comp19_struct2\n",
      "Processing directory: supercell_gen0_comp11_struct3\n",
      "['Zr', 'Ti', 'V', 'Cr', 'W']\n",
      "Read OUTCAR from ../Visualization/Job_Structures/Post_VASP/VCrTiWZr_Summit/Gen_0-2/Perfect/supercell_gen0_comp11_struct3/OUTCAR\n",
      "Successfully created ComputedStructureEntry from supercell_gen0_comp11_struct3\n",
      "Processing directory: supercell_gen2_comp27_struct1\n",
      "['Zr', 'Ti', 'V', 'Cr', 'W']\n",
      "Read OUTCAR from ../Visualization/Job_Structures/Post_VASP/VCrTiWZr_Summit/Gen_0-2/Perfect/supercell_gen2_comp27_struct1/OUTCAR\n",
      "Successfully created ComputedStructureEntry from supercell_gen2_comp27_struct1\n",
      "Processing directory: supercell_gen2_comp30_struct3\n",
      "['Zr', 'Ti', 'V', 'W']\n",
      "Read OUTCAR from ../Visualization/Job_Structures/Post_VASP/VCrTiWZr_Summit/Gen_0-2/Perfect/supercell_gen2_comp30_struct3/OUTCAR\n",
      "Successfully created ComputedStructureEntry from supercell_gen2_comp30_struct3\n",
      "Processing directory: supercell_gen2_comp29_struct2\n",
      "['Ti', 'V', 'Cr', 'W']\n",
      "Read OUTCAR from ../Visualization/Job_Structures/Post_VASP/VCrTiWZr_Summit/Gen_0-2/Perfect/supercell_gen2_comp29_struct2/OUTCAR\n",
      "Successfully created ComputedStructureEntry from supercell_gen2_comp29_struct2\n",
      "Processing directory: supercell_gen1_comp15_struct3\n",
      "['Zr', 'Ti', 'V', 'Cr', 'W']\n",
      "Read OUTCAR from ../Visualization/Job_Structures/Post_VASP/VCrTiWZr_Summit/Gen_0-2/Perfect/supercell_gen1_comp15_struct3/OUTCAR\n",
      "Successfully created ComputedStructureEntry from supercell_gen1_comp15_struct3\n",
      "Processing directory: supercell_gen0_comp9_struct3\n",
      "['Zr', 'Ti', 'V', 'Cr', 'W']\n",
      "Read OUTCAR from ../Visualization/Job_Structures/Post_VASP/VCrTiWZr_Summit/Gen_0-2/Perfect/supercell_gen0_comp9_struct3/OUTCAR\n",
      "Successfully created ComputedStructureEntry from supercell_gen0_comp9_struct3\n",
      "Processing directory: supercell_gen0_comp9_struct2\n",
      "['Zr', 'Ti', 'V', 'Cr', 'W']\n",
      "Read OUTCAR from ../Visualization/Job_Structures/Post_VASP/VCrTiWZr_Summit/Gen_0-2/Perfect/supercell_gen0_comp9_struct2/OUTCAR\n",
      "Successfully created ComputedStructureEntry from supercell_gen0_comp9_struct2\n",
      "Processing directory: supercell_gen1_comp15_struct2\n",
      "['Zr', 'Ti', 'V', 'Cr', 'W']\n",
      "Read OUTCAR from ../Visualization/Job_Structures/Post_VASP/VCrTiWZr_Summit/Gen_0-2/Perfect/supercell_gen1_comp15_struct2/OUTCAR\n",
      "Successfully created ComputedStructureEntry from supercell_gen1_comp15_struct2\n",
      "Processing directory: supercell_gen0_comp7_struct1\n",
      "Error reading CONTCAR file ../Visualization/Job_Structures/Post_VASP/VCrTiWZr_Summit/Gen_0-2/Perfect/supercell_gen0_comp7_struct1/CONTCAR: list index out of range\n",
      "Error reading CONTCAR file ../Visualization/Job_Structures/Post_VASP/VCrTiWZr_Summit/Gen_0-2/Perfect/supercell_gen0_comp7_struct1/CONTCAR in directory supercell_gen0_comp7_struct1: list index out of range\n",
      "Processing directory: supercell_gen2_comp29_struct3\n",
      "['Ti', 'V', 'Cr', 'W']\n",
      "Error processing OUTCAR file ../Visualization/Job_Structures/Post_VASP/VCrTiWZr_Summit/Gen_0-2/Perfect/supercell_gen2_comp29_struct3/OUTCAR in directory supercell_gen2_comp29_struct3: list index out of range\n",
      "Processing directory: supercell_gen2_comp30_struct2\n",
      "['Zr', 'Ti', 'V', 'W']\n",
      "Read OUTCAR from ../Visualization/Job_Structures/Post_VASP/VCrTiWZr_Summit/Gen_0-2/Perfect/supercell_gen2_comp30_struct2/OUTCAR\n",
      "Successfully created ComputedStructureEntry from supercell_gen2_comp30_struct2\n",
      "Processing directory: supercell_gen1_comp22_struct3\n",
      "['Ti', 'V', 'Cr', 'W']\n",
      "Read OUTCAR from ../Visualization/Job_Structures/Post_VASP/VCrTiWZr_Summit/Gen_0-2/Perfect/supercell_gen1_comp22_struct3/OUTCAR\n",
      "Successfully created ComputedStructureEntry from supercell_gen1_comp22_struct3\n",
      "Processing directory: supercell_gen0_comp1_struct3\n",
      "['Zr', 'Ti', 'V', 'Cr', 'W']\n",
      "Read OUTCAR from ../Visualization/Job_Structures/Post_VASP/VCrTiWZr_Summit/Gen_0-2/Perfect/supercell_gen0_comp1_struct3/OUTCAR\n",
      "Successfully created ComputedStructureEntry from supercell_gen0_comp1_struct3\n",
      "Processing directory: supercell_gen0_comp6_struct1\n",
      "['Zr', 'Ti', 'V', 'Cr', 'W']\n",
      "Error processing OUTCAR file ../Visualization/Job_Structures/Post_VASP/VCrTiWZr_Summit/Gen_0-2/Perfect/supercell_gen0_comp6_struct1/OUTCAR in directory supercell_gen0_comp6_struct1: list index out of range\n",
      "Processing directory: supercell_gen1_comp14_struct2\n",
      "['Zr', 'Ti', 'V', 'Cr', 'W']\n",
      "Read OUTCAR from ../Visualization/Job_Structures/Post_VASP/VCrTiWZr_Summit/Gen_0-2/Perfect/supercell_gen1_comp14_struct2/OUTCAR\n",
      "Successfully created ComputedStructureEntry from supercell_gen1_comp14_struct2\n",
      "Processing directory: supercell_gen0_comp8_struct2\n",
      "Error reading CONTCAR file ../Visualization/Job_Structures/Post_VASP/VCrTiWZr_Summit/Gen_0-2/Perfect/supercell_gen0_comp8_struct2/CONTCAR: list index out of range\n",
      "Error reading CONTCAR file ../Visualization/Job_Structures/Post_VASP/VCrTiWZr_Summit/Gen_0-2/Perfect/supercell_gen0_comp8_struct2/CONTCAR in directory supercell_gen0_comp8_struct2: list index out of range\n",
      "Processing directory: supercell_gen2_comp31_struct2\n",
      "['Zr', 'Ti', 'V', 'Cr', 'W']\n",
      "Read OUTCAR from ../Visualization/Job_Structures/Post_VASP/VCrTiWZr_Summit/Gen_0-2/Perfect/supercell_gen2_comp31_struct2/OUTCAR\n",
      "Successfully created ComputedStructureEntry from supercell_gen2_comp31_struct2\n",
      "Processing directory: supercell_gen2_comp28_struct3\n",
      "['Zr', 'Ti', 'V', 'Cr', 'W']\n",
      "Read OUTCAR from ../Visualization/Job_Structures/Post_VASP/VCrTiWZr_Summit/Gen_0-2/Perfect/supercell_gen2_comp28_struct3/OUTCAR\n",
      "Successfully created ComputedStructureEntry from supercell_gen2_comp28_struct3\n",
      "Processing directory: supercell_gen0_comp12_struct1\n",
      "Error reading CONTCAR file ../Visualization/Job_Structures/Post_VASP/VCrTiWZr_Summit/Gen_0-2/Perfect/supercell_gen0_comp12_struct1/CONTCAR: list index out of range\n",
      "Error reading CONTCAR file ../Visualization/Job_Structures/Post_VASP/VCrTiWZr_Summit/Gen_0-2/Perfect/supercell_gen0_comp12_struct1/CONTCAR in directory supercell_gen0_comp12_struct1: list index out of range\n",
      "Processing directory: supercell_gen1_comp22_struct2\n",
      "['Ti', 'V', 'Cr', 'W']\n",
      "Read OUTCAR from ../Visualization/Job_Structures/Post_VASP/VCrTiWZr_Summit/Gen_0-2/Perfect/supercell_gen1_comp22_struct2/OUTCAR\n",
      "Successfully created ComputedStructureEntry from supercell_gen1_comp22_struct2\n",
      "Processing directory: supercell_gen2_comp28_struct2\n",
      "['Zr', 'Ti', 'V', 'Cr', 'W']\n",
      "Read OUTCAR from ../Visualization/Job_Structures/Post_VASP/VCrTiWZr_Summit/Gen_0-2/Perfect/supercell_gen2_comp28_struct2/OUTCAR\n",
      "Successfully created ComputedStructureEntry from supercell_gen2_comp28_struct2\n",
      "Processing directory: supercell_gen2_comp31_struct3\n",
      "['Zr', 'Ti', 'V', 'Cr', 'W']\n",
      "Read OUTCAR from ../Visualization/Job_Structures/Post_VASP/VCrTiWZr_Summit/Gen_0-2/Perfect/supercell_gen2_comp31_struct3/OUTCAR\n",
      "Successfully created ComputedStructureEntry from supercell_gen2_comp31_struct3\n",
      "Processing directory: supercell_gen2_comp26_struct1\n",
      "['Zr', 'Ti', 'V', 'Cr', 'W']\n",
      "Read OUTCAR from ../Visualization/Job_Structures/Post_VASP/VCrTiWZr_Summit/Gen_0-2/Perfect/supercell_gen2_comp26_struct1/OUTCAR\n",
      "Successfully created ComputedStructureEntry from supercell_gen2_comp26_struct1\n",
      "Processing directory: supercell_gen0_comp8_struct3\n",
      "['Zr', 'Ti', 'V', 'Cr', 'W']\n",
      "Read OUTCAR from ../Visualization/Job_Structures/Post_VASP/VCrTiWZr_Summit/Gen_0-2/Perfect/supercell_gen0_comp8_struct3/OUTCAR\n",
      "Successfully created ComputedStructureEntry from supercell_gen0_comp8_struct3\n",
      "Processing directory: supercell_gen1_comp14_struct3\n",
      "['Zr', 'Ti', 'V', 'Cr', 'W']\n",
      "Read OUTCAR from ../Visualization/Job_Structures/Post_VASP/VCrTiWZr_Summit/Gen_0-2/Perfect/supercell_gen1_comp14_struct3/OUTCAR\n",
      "Successfully created ComputedStructureEntry from supercell_gen1_comp14_struct3\n",
      "Processing directory: supercell_gen1_comp13_struct1\n",
      "['Zr', 'Ti', 'V', 'Cr', 'W']\n",
      "Read OUTCAR from ../Visualization/Job_Structures/Post_VASP/VCrTiWZr_Summit/Gen_0-2/Perfect/supercell_gen1_comp13_struct1/OUTCAR\n",
      "Successfully created ComputedStructureEntry from supercell_gen1_comp13_struct1\n",
      "Processing directory: supercell_gen0_comp1_struct2\n",
      "['Zr', 'Ti', 'V', 'Cr', 'W']\n",
      "Read OUTCAR from ../Visualization/Job_Structures/Post_VASP/VCrTiWZr_Summit/Gen_0-2/Perfect/supercell_gen0_comp1_struct2/OUTCAR\n",
      "Successfully created ComputedStructureEntry from supercell_gen0_comp1_struct2\n",
      "Processing directory: supercell_gen1_comp20_struct3\n",
      "['Zr', 'Ti', 'V', 'Cr', 'W']\n",
      "Read OUTCAR from ../Visualization/Job_Structures/Post_VASP/VCrTiWZr_Summit/Gen_0-2/Perfect/supercell_gen1_comp20_struct3/OUTCAR\n",
      "Successfully created ComputedStructureEntry from supercell_gen1_comp20_struct3\n",
      "Processing directory: supercell_gen2_comp23_struct2\n",
      "['Zr', 'Ti', 'V', 'Cr', 'W']\n",
      "Read OUTCAR from ../Visualization/Job_Structures/Post_VASP/VCrTiWZr_Summit/Gen_0-2/Perfect/supercell_gen2_comp23_struct2/OUTCAR\n",
      "Successfully created ComputedStructureEntry from supercell_gen2_comp23_struct2\n",
      "Processing directory: supercell_gen1_comp16_struct2\n",
      "['Zr', 'Ti', 'V', 'Cr', 'W']\n",
      "Read OUTCAR from ../Visualization/Job_Structures/Post_VASP/VCrTiWZr_Summit/Gen_0-2/Perfect/supercell_gen1_comp16_struct2/OUTCAR\n",
      "Successfully created ComputedStructureEntry from supercell_gen1_comp16_struct2\n",
      "Processing directory: supercell_gen0_comp4_struct1\n",
      "['Zr', 'Ti', 'V', 'Cr', 'W']\n",
      "Error processing OUTCAR file ../Visualization/Job_Structures/Post_VASP/VCrTiWZr_Summit/Gen_0-2/Perfect/supercell_gen0_comp4_struct1/OUTCAR in directory supercell_gen0_comp4_struct1: list index out of range\n",
      "Processing directory: supercell_gen0_comp3_struct3\n",
      "['Zr', 'Ti', 'V', 'Cr', 'W']\n",
      "Read OUTCAR from ../Visualization/Job_Structures/Post_VASP/VCrTiWZr_Summit/Gen_0-2/Perfect/supercell_gen0_comp3_struct3/OUTCAR\n",
      "Successfully created ComputedStructureEntry from supercell_gen0_comp3_struct3\n",
      "Processing directory: supercell_gen1_comp18_struct1\n",
      "['Zr', 'Ti', 'V', 'Cr', 'W']\n",
      "Read OUTCAR from ../Visualization/Job_Structures/Post_VASP/VCrTiWZr_Summit/Gen_0-2/Perfect/supercell_gen1_comp18_struct1/OUTCAR\n",
      "Successfully created ComputedStructureEntry from supercell_gen1_comp18_struct1\n",
      "Processing directory: supercell_gen1_comp20_struct2\n",
      "['Zr', 'Ti', 'V', 'Cr', 'W']\n",
      "Read OUTCAR from ../Visualization/Job_Structures/Post_VASP/VCrTiWZr_Summit/Gen_0-2/Perfect/supercell_gen1_comp20_struct2/OUTCAR\n",
      "Successfully created ComputedStructureEntry from supercell_gen1_comp20_struct2\n",
      "Processing directory: supercell_gen0_comp10_struct1\n",
      "['Zr', 'Ti', 'V', 'Cr', 'W']\n",
      "Read OUTCAR from ../Visualization/Job_Structures/Post_VASP/VCrTiWZr_Summit/Gen_0-2/Perfect/supercell_gen0_comp10_struct1/OUTCAR\n",
      "Successfully created ComputedStructureEntry from supercell_gen0_comp10_struct1\n",
      "Processing directory: supercell_gen0_comp3_struct2\n",
      "['Zr', 'Ti', 'V', 'Cr', 'W']\n",
      "Read OUTCAR from ../Visualization/Job_Structures/Post_VASP/VCrTiWZr_Summit/Gen_0-2/Perfect/supercell_gen0_comp3_struct2/OUTCAR\n",
      "Successfully created ComputedStructureEntry from supercell_gen0_comp3_struct2\n",
      "Processing directory: supercell_gen1_comp16_struct3\n",
      "['Zr', 'Ti', 'V', 'Cr', 'W']\n",
      "Read OUTCAR from ../Visualization/Job_Structures/Post_VASP/VCrTiWZr_Summit/Gen_0-2/Perfect/supercell_gen1_comp16_struct3/OUTCAR\n",
      "Successfully created ComputedStructureEntry from supercell_gen1_comp16_struct3\n",
      "Processing directory: supercell_gen2_comp23_struct3\n",
      "['Zr', 'Ti', 'V', 'Cr', 'W']\n",
      "Read OUTCAR from ../Visualization/Job_Structures/Post_VASP/VCrTiWZr_Summit/Gen_0-2/Perfect/supercell_gen2_comp23_struct3/OUTCAR\n",
      "Successfully created ComputedStructureEntry from supercell_gen2_comp23_struct3\n",
      "Processing directory: supercell_gen2_comp24_struct1\n",
      "['Ti', 'V', 'Cr', 'W']\n",
      "Read OUTCAR from ../Visualization/Job_Structures/Post_VASP/VCrTiWZr_Summit/Gen_0-2/Perfect/supercell_gen2_comp24_struct1/OUTCAR\n",
      "Successfully created ComputedStructureEntry from supercell_gen2_comp24_struct1\n",
      "Processing directory: supercell_gen0_comp11_struct1\n",
      "['Zr', 'Ti', 'V', 'Cr', 'W']\n",
      "Read OUTCAR from ../Visualization/Job_Structures/Post_VASP/VCrTiWZr_Summit/Gen_0-2/Perfect/supercell_gen0_comp11_struct1/OUTCAR\n",
      "Successfully created ComputedStructureEntry from supercell_gen0_comp11_struct1\n",
      "Processing directory: supercell_gen1_comp21_struct2\n",
      "['Zr', 'Ti', 'V', 'Cr', 'W']\n",
      "Read OUTCAR from ../Visualization/Job_Structures/Post_VASP/VCrTiWZr_Summit/Gen_0-2/Perfect/supercell_gen1_comp21_struct2/OUTCAR\n",
      "Successfully created ComputedStructureEntry from supercell_gen1_comp21_struct2\n",
      "Processing directory: supercell_gen1_comp17_struct3\n",
      "['Zr', 'Ti', 'V', 'Cr', 'W']\n",
      "Read OUTCAR from ../Visualization/Job_Structures/Post_VASP/VCrTiWZr_Summit/Gen_0-2/Perfect/supercell_gen1_comp17_struct3/OUTCAR\n",
      "Successfully created ComputedStructureEntry from supercell_gen1_comp17_struct3\n",
      "Processing directory: supercell_gen0_comp2_struct2\n",
      "['Zr', 'Ti', 'V', 'Cr', 'W']\n",
      "Read OUTCAR from ../Visualization/Job_Structures/Post_VASP/VCrTiWZr_Summit/Gen_0-2/Perfect/supercell_gen0_comp2_struct2/OUTCAR\n",
      "Successfully created ComputedStructureEntry from supercell_gen0_comp2_struct2\n",
      "Processing directory: supercell_gen2_comp32_struct3\n",
      "['Ti', 'V', 'Cr', 'W']\n",
      "Read OUTCAR from ../Visualization/Job_Structures/Post_VASP/VCrTiWZr_Summit/Gen_0-2/Perfect/supercell_gen2_comp32_struct3/OUTCAR\n",
      "Successfully created ComputedStructureEntry from supercell_gen2_comp32_struct3\n",
      "Processing directory: supercell_gen2_comp25_struct1\n",
      "['Ti', 'V', 'Cr', 'W']\n",
      "Read OUTCAR from ../Visualization/Job_Structures/Post_VASP/VCrTiWZr_Summit/Gen_0-2/Perfect/supercell_gen2_comp25_struct1/OUTCAR\n",
      "Successfully created ComputedStructureEntry from supercell_gen2_comp25_struct1\n",
      "Processing directory: supercell_gen1_comp21_struct3\n",
      "['Zr', 'Ti', 'V', 'Cr', 'W']\n",
      "Read OUTCAR from ../Visualization/Job_Structures/Post_VASP/VCrTiWZr_Summit/Gen_0-2/Perfect/supercell_gen1_comp21_struct3/OUTCAR\n",
      "Successfully created ComputedStructureEntry from supercell_gen1_comp21_struct3\n",
      "Processing directory: supercell_gen2_comp32_struct2\n",
      "['Ti', 'V', 'Cr', 'W']\n",
      "Read OUTCAR from ../Visualization/Job_Structures/Post_VASP/VCrTiWZr_Summit/Gen_0-2/Perfect/supercell_gen2_comp32_struct2/OUTCAR\n",
      "Successfully created ComputedStructureEntry from supercell_gen2_comp32_struct2\n",
      "Processing directory: supercell_gen1_comp19_struct1\n",
      "['Zr', 'Ti', 'V', 'Cr', 'W']\n",
      "Read OUTCAR from ../Visualization/Job_Structures/Post_VASP/VCrTiWZr_Summit/Gen_0-2/Perfect/supercell_gen1_comp19_struct1/OUTCAR\n",
      "Successfully created ComputedStructureEntry from supercell_gen1_comp19_struct1\n",
      "Processing directory: supercell_gen0_comp2_struct3\n",
      "['Zr', 'Ti', 'V', 'Cr', 'W']\n",
      "Read OUTCAR from ../Visualization/Job_Structures/Post_VASP/VCrTiWZr_Summit/Gen_0-2/Perfect/supercell_gen0_comp2_struct3/OUTCAR\n",
      "Successfully created ComputedStructureEntry from supercell_gen0_comp2_struct3\n",
      "Processing directory: supercell_gen0_comp5_struct1\n",
      "['Zr', 'Ti', 'V', 'Cr', 'W']\n",
      "Error processing OUTCAR file ../Visualization/Job_Structures/Post_VASP/VCrTiWZr_Summit/Gen_0-2/Perfect/supercell_gen0_comp5_struct1/OUTCAR in directory supercell_gen0_comp5_struct1: list index out of range\n",
      "Processing directory: supercell_gen1_comp17_struct2\n",
      "['Zr', 'Ti', 'V', 'Cr', 'W']\n",
      "Read OUTCAR from ../Visualization/Job_Structures/Post_VASP/VCrTiWZr_Summit/Gen_0-2/Perfect/supercell_gen1_comp17_struct2/OUTCAR\n",
      "Successfully created ComputedStructureEntry from supercell_gen1_comp17_struct2\n",
      "Total entries created: 84\n"
     ]
    }
   ],
   "source": [
    "import os, re\n",
    "from pymatgen.io.vasp import Poscar, Outcar\n",
    "from pymatgen.entries.computed_entries import ComputedStructureEntry\n",
    "\n",
    "# Make entries from existing VASP jobs from Summit\n",
    "post_vasp_job_path = '../Visualization/Job_Structures/Post_VASP/VCrTiWZr_Summit/Gen_0-2/Perfect'\n",
    "\n",
    "# Go through each folder, and create a computed structure entry from the CONTCAR and the OUTCAR files \n",
    "entries = []\n",
    "\n",
    "def extract_numbers(s):\n",
    "    return list(map(int, re.findall(r'\\d+', s)))\n",
    "\n",
    "for d in os.listdir(post_vasp_job_path):\n",
    "    dir_path = os.path.join(post_vasp_job_path, d)\n",
    "    if os.path.isdir(dir_path):\n",
    "        # Get the CONTCAR and OUTCAR files\n",
    "        contcar_file = os.path.join(dir_path, 'CONTCAR')\n",
    "        outcar_file = os.path.join(dir_path, 'OUTCAR')\n",
    "        \n",
    "        if os.path.exists(contcar_file) and os.path.exists(outcar_file):\n",
    "            print(f\"Processing directory: {d}\")\n",
    "            if contcar is not None:\n",
    "                try:\n",
    "                    contcar = read_contcar_direct(contcar_file)\n",
    "                except Exception as e:\n",
    "                    print(f\"Error reading CONTCAR file {contcar_file} in directory {d}: {e}\")\n",
    "                    continue\n",
    "                try:\n",
    "                    # Read the OUTCAR file\n",
    "                    outcar = Outcar(outcar_file)\n",
    "                    print(f\"Read OUTCAR from {outcar_file}\")\n",
    "                    # Create the computed structure entry\n",
    "                    # get the generation number, comp, and struct from the directory name, for example supercell_gen2_comp29_struct1\n",
    "                    # would be a gen 2, comp 29, struct 1\n",
    "                    generation, comp, struct = extract_numbers(d)\n",
    "                    data = {'generation': generation, 'comp': comp, 'struct': struct}\n",
    "                    entry = ComputedStructureEntry(structure=contcar, energy=outcar.final_energy_wo_entrp, data=data)\n",
    "                    entries.append(entry)\n",
    "                    print(f\"Successfully created ComputedStructureEntry from {d}\")\n",
    "                except Exception as e:\n",
    "                    print(f\"Error processing OUTCAR file {outcar_file} in directory {d}: {e}\")\n",
    "                    continue\n",
    "            else:\n",
    "                print(f\"Skipping directory {d} due to missing CONTCAR file.\")\n",
    "\n",
    "print(f\"Total entries created: {len(entries)}\")\n"
   ]
  },
  {
   "cell_type": "code",
   "execution_count": 96,
   "metadata": {},
   "outputs": [],
   "source": [
    "# save the entries to the post_vasp_job_path \n",
    "with open(os.path.join(post_vasp_job_path, 'entries.json'), 'w') as f:\n",
    "    json.dump([entry.as_dict() for entry in entries], f)"
   ]
  },
  {
   "cell_type": "code",
   "execution_count": 111,
   "metadata": {},
   "outputs": [
    {
     "name": "stdout",
     "output_type": "stream",
     "text": [
      "Processing entry 1/84...\n",
      "Found target atoms for entry 1: [PeriodicSite: W (-15.81, 54.11, -0.6699) [1.579, 6.386, 2.59], PeriodicSite: V (54.73, 15.06, -1.856) [6.472, 1.776, 2.573], PeriodicSite: V (75.19, -20.01, 12.62) [6.491, -2.363, 2.595], PeriodicSite: Cr (107.1, -63.39, 81.84) [7.186, -7.483, 7.788], PeriodicSite: V (45.54, -9.934, 16.97) [4.061, -1.173, 2.599]]\n",
      "Written start structure to ../Visualization/Job_Structures/Pre_VASP/VCrTiWZr_Summit/Gen_0-2/Vacancies/supercell_gen2_comp29_struct1_vac_site0_start.vasp\n",
      "Written start structure to ../Visualization/Job_Structures/Pre_VASP/VCrTiWZr_Summit/Gen_0-2/Vacancies/supercell_gen2_comp29_struct1_vac_site1_start.vasp\n",
      "Written start structure to ../Visualization/Job_Structures/Pre_VASP/VCrTiWZr_Summit/Gen_0-2/Vacancies/supercell_gen2_comp29_struct1_vac_site2_start.vasp\n",
      "Written start structure to ../Visualization/Job_Structures/Pre_VASP/VCrTiWZr_Summit/Gen_0-2/Vacancies/supercell_gen2_comp29_struct1_vac_site3_start.vasp\n",
      "Written start structure to ../Visualization/Job_Structures/Pre_VASP/VCrTiWZr_Summit/Gen_0-2/Vacancies/supercell_gen2_comp29_struct1_vac_site4_start.vasp\n",
      "Processing entry 2/84...\n",
      "Found target atoms for entry 2: [PeriodicSite: V (57.07, -16.93, 70.65) [4.814, -1.998, 7.74], PeriodicSite: V (97.21, -45.84, 74.03) [7.184, -5.407, 7.729], PeriodicSite: V (40.43, 26.02, 23.65) [5.641, 3.066, 5.186], PeriodicSite: V (15.32, 0.008033, 20.54) [1.561, 0.000669, 2.498], PeriodicSite: V (42.15, -6.16, 96.87) [3.943, -0.7262, 10.39]]\n",
      "Written start structure to ../Visualization/Job_Structures/Pre_VASP/VCrTiWZr_Summit/Gen_0-2/Vacancies/supercell_gen2_comp27_struct2_vac_site0_start.vasp\n",
      "Written start structure to ../Visualization/Job_Structures/Pre_VASP/VCrTiWZr_Summit/Gen_0-2/Vacancies/supercell_gen2_comp27_struct2_vac_site1_start.vasp\n",
      "Written start structure to ../Visualization/Job_Structures/Pre_VASP/VCrTiWZr_Summit/Gen_0-2/Vacancies/supercell_gen2_comp27_struct2_vac_site2_start.vasp\n",
      "Written start structure to ../Visualization/Job_Structures/Pre_VASP/VCrTiWZr_Summit/Gen_0-2/Vacancies/supercell_gen2_comp27_struct2_vac_site3_start.vasp\n",
      "Written start structure to ../Visualization/Job_Structures/Pre_VASP/VCrTiWZr_Summit/Gen_0-2/Vacancies/supercell_gen2_comp27_struct2_vac_site4_start.vasp\n",
      "Processing entry 3/84...\n",
      "Found target atoms for entry 3: [PeriodicSite: V (66.42, -1.527, 4.559) [6.657, -0.1867, 2.593], PeriodicSite: V (82.83, -35.08, 101.2) [6.362, -4.122, 10.42], PeriodicSite: V (-8.538, -14.78, 66.9) [-1.731, -1.731, 5.245], PeriodicSite: V (11.99, 3.759, 102.5) [1.44, 0.4405, 10.43], PeriodicSite: V (51.33, 8.224, 32.36) [5.695, 0.9588, 5.314]]\n",
      "Written start structure to ../Visualization/Job_Structures/Pre_VASP/VCrTiWZr_Summit/Gen_0-2/Vacancies/supercell_gen0_comp7_struct3_vac_site0_start.vasp\n",
      "Written start structure to ../Visualization/Job_Structures/Pre_VASP/VCrTiWZr_Summit/Gen_0-2/Vacancies/supercell_gen0_comp7_struct3_vac_site1_start.vasp\n",
      "Written start structure to ../Visualization/Job_Structures/Pre_VASP/VCrTiWZr_Summit/Gen_0-2/Vacancies/supercell_gen0_comp7_struct3_vac_site2_start.vasp\n",
      "Written start structure to ../Visualization/Job_Structures/Pre_VASP/VCrTiWZr_Summit/Gen_0-2/Vacancies/supercell_gen0_comp7_struct3_vac_site3_start.vasp\n",
      "Written start structure to ../Visualization/Job_Structures/Pre_VASP/VCrTiWZr_Summit/Gen_0-2/Vacancies/supercell_gen0_comp7_struct3_vac_site4_start.vasp\n",
      "Processing entry 4/84...\n",
      "Found target atoms for entry 4: [PeriodicSite: V (0.7024, 11.32, 49.27) [0.7141, 1.311, 5.33], PeriodicSite: V (-44.75, 33.18, 79.4) [-2.599, 3.847, 7.928], PeriodicSite: W (20.58, 19.1, 36.69) [3.166, 2.211, 5.254], PeriodicSite: V (75.92, 23.89, -13.38) [9.02, 2.762, 2.646], PeriodicSite: V (34.09, -33.36, 120.5) [1.47, -3.87, 10.58]]\n",
      "Written start structure to ../Visualization/Job_Structures/Pre_VASP/VCrTiWZr_Summit/Gen_0-2/Vacancies/supercell_gen1_comp15_struct1_vac_site0_start.vasp\n",
      "Written start structure to ../Visualization/Job_Structures/Pre_VASP/VCrTiWZr_Summit/Gen_0-2/Vacancies/supercell_gen1_comp15_struct1_vac_site1_start.vasp\n",
      "Written start structure to ../Visualization/Job_Structures/Pre_VASP/VCrTiWZr_Summit/Gen_0-2/Vacancies/supercell_gen1_comp15_struct1_vac_site2_start.vasp\n",
      "Written start structure to ../Visualization/Job_Structures/Pre_VASP/VCrTiWZr_Summit/Gen_0-2/Vacancies/supercell_gen1_comp15_struct1_vac_site3_start.vasp\n",
      "Written start structure to ../Visualization/Job_Structures/Pre_VASP/VCrTiWZr_Summit/Gen_0-2/Vacancies/supercell_gen1_comp15_struct1_vac_site4_start.vasp\n",
      "Processing entry 5/84...\n",
      "Found target atoms for entry 5: [PeriodicSite: Cr (66.44, 7.899, 55.0) [7.199, 0.9369, 7.941], PeriodicSite: V (59.73, 22.96, -35.49) [7.396, 2.696, -0.004756], PeriodicSite: V (-14.53, 10.34, 26.48) [-0.863, 1.21, 2.631], PeriodicSite: W (-23.07, -4.623, 94.44) [-2.601, -0.5414, 7.924], PeriodicSite: V (36.87, -25.34, 85.88) [2.255, -2.959, 7.926]]\n",
      "Written start structure to ../Visualization/Job_Structures/Pre_VASP/VCrTiWZr_Summit/Gen_0-2/Vacancies/supercell_gen0_comp9_struct1_vac_site0_start.vasp\n",
      "Written start structure to ../Visualization/Job_Structures/Pre_VASP/VCrTiWZr_Summit/Gen_0-2/Vacancies/supercell_gen0_comp9_struct1_vac_site1_start.vasp\n",
      "Written start structure to ../Visualization/Job_Structures/Pre_VASP/VCrTiWZr_Summit/Gen_0-2/Vacancies/supercell_gen0_comp9_struct1_vac_site2_start.vasp\n",
      "Written start structure to ../Visualization/Job_Structures/Pre_VASP/VCrTiWZr_Summit/Gen_0-2/Vacancies/supercell_gen0_comp9_struct1_vac_site3_start.vasp\n",
      "Written start structure to ../Visualization/Job_Structures/Pre_VASP/VCrTiWZr_Summit/Gen_0-2/Vacancies/supercell_gen0_comp9_struct1_vac_site4_start.vasp\n",
      "Processing entry 6/84...\n",
      "Found target atoms for entry 6: [PeriodicSite: V (12.48, -38.97, 126.3) [-1.031, -4.606, 10.29], PeriodicSite: V (85.07, 5.405, -5.653) [8.949, 0.607, 2.635], PeriodicSite: V (30.29, 1.942, 43.65) [3.179, 0.2081, 5.329], PeriodicSite: V (15.01, 43.88, -4.21) [4.086, 5.146, 2.663], PeriodicSite: V (57.9, -16.79, 72.63) [4.882, -2.006, 7.95]]\n",
      "Written start structure to ../Visualization/Job_Structures/Pre_VASP/VCrTiWZr_Summit/Gen_0-2/Vacancies/supercell_gen2_comp27_struct3_vac_site0_start.vasp\n",
      "Written start structure to ../Visualization/Job_Structures/Pre_VASP/VCrTiWZr_Summit/Gen_0-2/Vacancies/supercell_gen2_comp27_struct3_vac_site1_start.vasp\n",
      "Written start structure to ../Visualization/Job_Structures/Pre_VASP/VCrTiWZr_Summit/Gen_0-2/Vacancies/supercell_gen2_comp27_struct3_vac_site2_start.vasp\n",
      "Written start structure to ../Visualization/Job_Structures/Pre_VASP/VCrTiWZr_Summit/Gen_0-2/Vacancies/supercell_gen2_comp27_struct3_vac_site3_start.vasp\n",
      "Written start structure to ../Visualization/Job_Structures/Pre_VASP/VCrTiWZr_Summit/Gen_0-2/Vacancies/supercell_gen2_comp27_struct3_vac_site4_start.vasp\n",
      "Processing entry 7/84...\n",
      "Found target atoms for entry 7: [PeriodicSite: V (31.41, 0.4609, 43.32) [3.203, 0.05642, 5.218], PeriodicSite: V (-15.4, 11.59, 25.75) [-0.8711, 1.354, 2.612], PeriodicSite: V (92.98, -21.28, 35.33) [8.142, -2.48, 5.267], PeriodicSite: V (-28.33, -11.47, 127.2) [-3.512, -1.346, 10.49], PeriodicSite: V (77.83, -10.37, 61.34) [7.256, -1.206, 7.872]]\n",
      "Written start structure to ../Visualization/Job_Structures/Pre_VASP/VCrTiWZr_Summit/Gen_0-2/Vacancies/supercell_gen2_comp30_struct1_vac_site0_start.vasp\n",
      "Written start structure to ../Visualization/Job_Structures/Pre_VASP/VCrTiWZr_Summit/Gen_0-2/Vacancies/supercell_gen2_comp30_struct1_vac_site1_start.vasp\n",
      "Written start structure to ../Visualization/Job_Structures/Pre_VASP/VCrTiWZr_Summit/Gen_0-2/Vacancies/supercell_gen2_comp30_struct1_vac_site2_start.vasp\n",
      "Written start structure to ../Visualization/Job_Structures/Pre_VASP/VCrTiWZr_Summit/Gen_0-2/Vacancies/supercell_gen2_comp30_struct1_vac_site3_start.vasp\n",
      "Written start structure to ../Visualization/Job_Structures/Pre_VASP/VCrTiWZr_Summit/Gen_0-2/Vacancies/supercell_gen2_comp30_struct1_vac_site4_start.vasp\n",
      "Processing entry 8/84...\n",
      "Found target atoms for entry 8: [PeriodicSite: V (42.32, -6.921, 98.07) [3.902, -0.7893, 10.41], PeriodicSite: V (61.54, -10.26, 39.23) [5.641, -1.181, 5.243], PeriodicSite: V (-29.94, 22.23, 53.06) [-1.714, 2.601, 5.362], PeriodicSite: Cr (-40.21, 39.7, 44.64) [-1.729, 4.645, 5.234], PeriodicSite: V (12.33, 45.04, -5.221) [3.897, 5.279, 2.566]]\n",
      "Written start structure to ../Visualization/Job_Structures/Pre_VASP/VCrTiWZr_Summit/Gen_0-2/Vacancies/supercell_gen0_comp8_struct1_vac_site0_start.vasp\n",
      "Written start structure to ../Visualization/Job_Structures/Pre_VASP/VCrTiWZr_Summit/Gen_0-2/Vacancies/supercell_gen0_comp8_struct1_vac_site1_start.vasp\n",
      "Written start structure to ../Visualization/Job_Structures/Pre_VASP/VCrTiWZr_Summit/Gen_0-2/Vacancies/supercell_gen0_comp8_struct1_vac_site2_start.vasp\n",
      "Written start structure to ../Visualization/Job_Structures/Pre_VASP/VCrTiWZr_Summit/Gen_0-2/Vacancies/supercell_gen0_comp8_struct1_vac_site3_start.vasp\n",
      "Written start structure to ../Visualization/Job_Structures/Pre_VASP/VCrTiWZr_Summit/Gen_0-2/Vacancies/supercell_gen0_comp8_struct1_vac_site4_start.vasp\n",
      "Processing entry 9/84...\n",
      "Found target atoms for entry 9: [PeriodicSite: V (36.06, 19.35, 59.13) [4.749, 2.227, 7.954], PeriodicSite: V (55.75, -27.82, 24.51) [3.996, -3.274, 2.586], PeriodicSite: V (-14.19, 10.61, 26.14) [-0.8128, 1.237, 2.626], PeriodicSite: Ti (-25.11, 29.18, 18.95) [-0.8357, 3.409, 2.653], PeriodicSite: V (73.15, -16.37, 94.08) [6.409, -1.963, 10.45]]\n",
      "Written start structure to ../Visualization/Job_Structures/Pre_VASP/VCrTiWZr_Summit/Gen_0-2/Vacancies/supercell_gen1_comp14_struct1_vac_site0_start.vasp\n",
      "Written start structure to ../Visualization/Job_Structures/Pre_VASP/VCrTiWZr_Summit/Gen_0-2/Vacancies/supercell_gen1_comp14_struct1_vac_site1_start.vasp\n",
      "Written start structure to ../Visualization/Job_Structures/Pre_VASP/VCrTiWZr_Summit/Gen_0-2/Vacancies/supercell_gen1_comp14_struct1_vac_site2_start.vasp\n",
      "Written start structure to ../Visualization/Job_Structures/Pre_VASP/VCrTiWZr_Summit/Gen_0-2/Vacancies/supercell_gen1_comp14_struct1_vac_site3_start.vasp\n",
      "Written start structure to ../Visualization/Job_Structures/Pre_VASP/VCrTiWZr_Summit/Gen_0-2/Vacancies/supercell_gen1_comp14_struct1_vac_site4_start.vasp\n",
      "Processing entry 10/84...\n",
      "Found target atoms for entry 10: [PeriodicSite: V (46.1, 1.014, 65.41) [4.728, 0.1048, 7.857], PeriodicSite: V (8.602, -14.92, 88.53) [-0.01143, -1.765, 7.866], PeriodicSite: V (10.16, 25.98, -18.11) [2.553, 3.043, 0.1304], PeriodicSite: V (71.16, -28.23, 47.9) [5.561, -3.311, 5.33], PeriodicSite: V (61.67, 1.482, 86.26) [6.332, 0.1552, 10.4]]\n",
      "Written start structure to ../Visualization/Job_Structures/Pre_VASP/VCrTiWZr_Summit/Gen_0-2/Vacancies/supercell_gen2_comp31_struct1_vac_site0_start.vasp\n",
      "Written start structure to ../Visualization/Job_Structures/Pre_VASP/VCrTiWZr_Summit/Gen_0-2/Vacancies/supercell_gen2_comp31_struct1_vac_site1_start.vasp\n",
      "Written start structure to ../Visualization/Job_Structures/Pre_VASP/VCrTiWZr_Summit/Gen_0-2/Vacancies/supercell_gen2_comp31_struct1_vac_site2_start.vasp\n",
      "Written start structure to ../Visualization/Job_Structures/Pre_VASP/VCrTiWZr_Summit/Gen_0-2/Vacancies/supercell_gen2_comp31_struct1_vac_site3_start.vasp\n",
      "Written start structure to ../Visualization/Job_Structures/Pre_VASP/VCrTiWZr_Summit/Gen_0-2/Vacancies/supercell_gen2_comp31_struct1_vac_site4_start.vasp\n",
      "Processing entry 11/84...\n",
      "Found target atoms for entry 11: [PeriodicSite: V (108.1, -31.26, 8.71) [9.046, -3.673, 2.606], PeriodicSite: V (58.53, -18.15, 74.23) [4.834, -2.113, 7.948], PeriodicSite: V (35.79, 9.173, 7.774) [4.136, 1.07, 2.474], PeriodicSite: V (26.55, 24.83, 3.089) [4.121, 2.903, 2.639], PeriodicSite: Cr (84.22, -36.36, 103.7) [6.358, -4.24, 10.54]]\n",
      "Written start structure to ../Visualization/Job_Structures/Pre_VASP/VCrTiWZr_Summit/Gen_0-2/Vacancies/supercell_gen2_comp26_struct3_vac_site0_start.vasp\n",
      "Written start structure to ../Visualization/Job_Structures/Pre_VASP/VCrTiWZr_Summit/Gen_0-2/Vacancies/supercell_gen2_comp26_struct3_vac_site1_start.vasp\n",
      "Written start structure to ../Visualization/Job_Structures/Pre_VASP/VCrTiWZr_Summit/Gen_0-2/Vacancies/supercell_gen2_comp26_struct3_vac_site2_start.vasp\n",
      "Written start structure to ../Visualization/Job_Structures/Pre_VASP/VCrTiWZr_Summit/Gen_0-2/Vacancies/supercell_gen2_comp26_struct3_vac_site3_start.vasp\n",
      "Written start structure to ../Visualization/Job_Structures/Pre_VASP/VCrTiWZr_Summit/Gen_0-2/Vacancies/supercell_gen2_comp26_struct3_vac_site4_start.vasp\n",
      "Processing entry 12/84...\n",
      "Found target atoms for entry 12: [PeriodicSite: Cr (16.9, -32.17, 94.92) [-0.171, -3.784, 7.814], PeriodicSite: V (32.34, -31.83, 115.9) [1.419, -3.746, 10.37], PeriodicSite: V (36.53, 18.93, 55.8) [4.826, 2.22, 7.716], PeriodicSite: V (11.63, -7.654, 55.18) [0.7327, -0.902, 5.252], PeriodicSite: V (-18.04, 14.96, 104.1) [-0.9588, 1.754, 10.28]]\n",
      "Written start structure to ../Visualization/Job_Structures/Pre_VASP/VCrTiWZr_Summit/Gen_0-2/Vacancies/supercell_gen0_comp12_struct3_vac_site0_start.vasp\n",
      "Written start structure to ../Visualization/Job_Structures/Pre_VASP/VCrTiWZr_Summit/Gen_0-2/Vacancies/supercell_gen0_comp12_struct3_vac_site1_start.vasp\n",
      "Written start structure to ../Visualization/Job_Structures/Pre_VASP/VCrTiWZr_Summit/Gen_0-2/Vacancies/supercell_gen0_comp12_struct3_vac_site2_start.vasp\n",
      "Written start structure to ../Visualization/Job_Structures/Pre_VASP/VCrTiWZr_Summit/Gen_0-2/Vacancies/supercell_gen0_comp12_struct3_vac_site3_start.vasp\n",
      "Written start structure to ../Visualization/Job_Structures/Pre_VASP/VCrTiWZr_Summit/Gen_0-2/Vacancies/supercell_gen0_comp12_struct3_vac_site4_start.vasp\n",
      "Processing entry 13/84...\n",
      "Found target atoms for entry 13: [PeriodicSite: V (15.42, -0.03171, 21.78) [1.555, 0.0006307, 2.592], PeriodicSite: V (107.5, -31.71, 7.914) [9.006, -3.687, 2.511], PeriodicSite: V (13.93, 45.15, -4.968) [4.031, 5.249, 2.627], PeriodicSite: V (99.78, -4.543, -32.54) [9.809, -0.5357, -0.01912], PeriodicSite: V (55.66, 16.53, -2.245) [6.581, 1.922, 2.618]]\n",
      "Written start structure to ../Visualization/Job_Structures/Pre_VASP/VCrTiWZr_Summit/Gen_0-2/Vacancies/supercell_gen2_comp26_struct2_vac_site0_start.vasp\n",
      "Written start structure to ../Visualization/Job_Structures/Pre_VASP/VCrTiWZr_Summit/Gen_0-2/Vacancies/supercell_gen2_comp26_struct2_vac_site1_start.vasp\n",
      "Written start structure to ../Visualization/Job_Structures/Pre_VASP/VCrTiWZr_Summit/Gen_0-2/Vacancies/supercell_gen2_comp26_struct2_vac_site2_start.vasp\n",
      "Written start structure to ../Visualization/Job_Structures/Pre_VASP/VCrTiWZr_Summit/Gen_0-2/Vacancies/supercell_gen2_comp26_struct2_vac_site3_start.vasp\n",
      "Written start structure to ../Visualization/Job_Structures/Pre_VASP/VCrTiWZr_Summit/Gen_0-2/Vacancies/supercell_gen2_comp26_struct2_vac_site4_start.vasp\n",
      "Processing entry 14/84...\n",
      "Found target atoms for entry 14: [PeriodicSite: Ti (30.39, -10.83, -3.723) [2.461, -1.257, 0.04412], PeriodicSite: Zr (75.71, -20.34, 12.1) [6.519, -2.357, 2.544], PeriodicSite: V (60.56, -9.868, 39.89) [5.588, -1.139, 5.301], PeriodicSite: V (76.15, -9.484, 60.28) [7.198, -1.09, 7.805], PeriodicSite: Ti (-24.99, 29.2, 18.21) [-0.8299, 3.41, 2.602]]\n",
      "Written start structure to ../Visualization/Job_Structures/Pre_VASP/VCrTiWZr_Summit/Gen_0-2/Vacancies/supercell_gen2_comp28_struct1_vac_site0_start.vasp\n",
      "Written start structure to ../Visualization/Job_Structures/Pre_VASP/VCrTiWZr_Summit/Gen_0-2/Vacancies/supercell_gen2_comp28_struct1_vac_site1_start.vasp\n",
      "Written start structure to ../Visualization/Job_Structures/Pre_VASP/VCrTiWZr_Summit/Gen_0-2/Vacancies/supercell_gen2_comp28_struct1_vac_site2_start.vasp\n",
      "Written start structure to ../Visualization/Job_Structures/Pre_VASP/VCrTiWZr_Summit/Gen_0-2/Vacancies/supercell_gen2_comp28_struct1_vac_site3_start.vasp\n",
      "Written start structure to ../Visualization/Job_Structures/Pre_VASP/VCrTiWZr_Summit/Gen_0-2/Vacancies/supercell_gen2_comp28_struct1_vac_site4_start.vasp\n",
      "Processing entry 15/84...\n",
      "Found target atoms for entry 15: [PeriodicSite: V (7.744, -15.02, 88.48) [-0.104, -1.763, 7.873], PeriodicSite: W (-3.149, 3.101, 81.31) [-0.1469, 0.3683, 7.882], PeriodicSite: Cr (39.33, 15.05, -22.72) [4.902, 1.774, 0.03958], PeriodicSite: V (54.42, 15.3, -2.017) [6.454, 1.806, 2.554], PeriodicSite: W (-1.55, 43.63, -25.43) [2.415, 5.134, 0.07611]]\n",
      "Written start structure to ../Visualization/Job_Structures/Pre_VASP/VCrTiWZr_Summit/Gen_0-2/Vacancies/supercell_gen1_comp13_struct2_vac_site0_start.vasp\n",
      "Written start structure to ../Visualization/Job_Structures/Pre_VASP/VCrTiWZr_Summit/Gen_0-2/Vacancies/supercell_gen1_comp13_struct2_vac_site1_start.vasp\n",
      "Written start structure to ../Visualization/Job_Structures/Pre_VASP/VCrTiWZr_Summit/Gen_0-2/Vacancies/supercell_gen1_comp13_struct2_vac_site2_start.vasp\n",
      "Written start structure to ../Visualization/Job_Structures/Pre_VASP/VCrTiWZr_Summit/Gen_0-2/Vacancies/supercell_gen1_comp13_struct2_vac_site3_start.vasp\n",
      "Written start structure to ../Visualization/Job_Structures/Pre_VASP/VCrTiWZr_Summit/Gen_0-2/Vacancies/supercell_gen1_comp13_struct2_vac_site4_start.vasp\n",
      "Processing entry 16/84...\n",
      "Found target atoms for entry 16: [PeriodicSite: V (39.35, 15.53, -23.41) [4.922, 1.816, -0.003898], PeriodicSite: V (81.57, -45.17, 52.87) [5.677, -5.349, 5.204], PeriodicSite: V (67.23, -34.69, 79.32) [4.829, -4.112, 7.875], PeriodicSite: V (-28.87, 21.25, 51.31) [-1.699, 2.506, 5.2], PeriodicSite: V (-43.43, 31.82, 77.19) [-2.563, 3.754, 7.815]]\n",
      "Written start structure to ../Visualization/Job_Structures/Pre_VASP/VCrTiWZr_Summit/Gen_0-2/Vacancies/supercell_gen0_comp6_struct3_vac_site0_start.vasp\n",
      "Written start structure to ../Visualization/Job_Structures/Pre_VASP/VCrTiWZr_Summit/Gen_0-2/Vacancies/supercell_gen0_comp6_struct3_vac_site1_start.vasp\n",
      "Written start structure to ../Visualization/Job_Structures/Pre_VASP/VCrTiWZr_Summit/Gen_0-2/Vacancies/supercell_gen0_comp6_struct3_vac_site2_start.vasp\n",
      "Written start structure to ../Visualization/Job_Structures/Pre_VASP/VCrTiWZr_Summit/Gen_0-2/Vacancies/supercell_gen0_comp6_struct3_vac_site3_start.vasp\n",
      "Written start structure to ../Visualization/Job_Structures/Pre_VASP/VCrTiWZr_Summit/Gen_0-2/Vacancies/supercell_gen0_comp6_struct3_vac_site4_start.vasp\n",
      "Processing entry 17/84...\n",
      "Found target atoms for entry 17: [PeriodicSite: V (2.468, -21.59, 119.6) [-1.017, -2.547, 10.33], PeriodicSite: Ti (30.15, -10.56, -3.748) [2.449, -1.238, 0.0449], PeriodicSite: V (-3.45, 3.89, 79.67) [-0.1184, 0.4537, 7.783], PeriodicSite: V (26.04, -18.11, 29.65) [1.586, -2.129, 2.677], PeriodicSite: V (61.05, 1.279, 84.38) [6.3, 0.157, 10.28]]\n",
      "Written start structure to ../Visualization/Job_Structures/Pre_VASP/VCrTiWZr_Summit/Gen_0-2/Vacancies/supercell_gen0_comp1_struct1_vac_site0_start.vasp\n",
      "Written start structure to ../Visualization/Job_Structures/Pre_VASP/VCrTiWZr_Summit/Gen_0-2/Vacancies/supercell_gen0_comp1_struct1_vac_site1_start.vasp\n",
      "Written start structure to ../Visualization/Job_Structures/Pre_VASP/VCrTiWZr_Summit/Gen_0-2/Vacancies/supercell_gen0_comp1_struct1_vac_site2_start.vasp\n",
      "Written start structure to ../Visualization/Job_Structures/Pre_VASP/VCrTiWZr_Summit/Gen_0-2/Vacancies/supercell_gen0_comp1_struct1_vac_site3_start.vasp\n",
      "Written start structure to ../Visualization/Job_Structures/Pre_VASP/VCrTiWZr_Summit/Gen_0-2/Vacancies/supercell_gen0_comp1_struct1_vac_site4_start.vasp\n",
      "Processing entry 18/84...\n",
      "Found target atoms for entry 18: [PeriodicSite: V (-0.8908, 43.33, -25.28) [2.453, 5.089, 0.08506], PeriodicSite: Ti (1.578, 10.41, 47.8) [0.774, 1.23, 5.27], PeriodicSite: V (-11.29, 20.83, 72.84) [0.07968, 2.458, 7.86], PeriodicSite: Cr (75.64, -20.67, 12.11) [6.472, -2.432, 2.509], PeriodicSite: V (21.95, -25.05, 61.27) [0.763, -2.937, 5.171]]\n",
      "Written start structure to ../Visualization/Job_Structures/Pre_VASP/VCrTiWZr_Summit/Gen_0-2/Vacancies/supercell_gen0_comp12_struct2_vac_site0_start.vasp\n",
      "Written start structure to ../Visualization/Job_Structures/Pre_VASP/VCrTiWZr_Summit/Gen_0-2/Vacancies/supercell_gen0_comp12_struct2_vac_site1_start.vasp\n",
      "Written start structure to ../Visualization/Job_Structures/Pre_VASP/VCrTiWZr_Summit/Gen_0-2/Vacancies/supercell_gen0_comp12_struct2_vac_site2_start.vasp\n",
      "Written start structure to ../Visualization/Job_Structures/Pre_VASP/VCrTiWZr_Summit/Gen_0-2/Vacancies/supercell_gen0_comp12_struct2_vac_site3_start.vasp\n",
      "Written start structure to ../Visualization/Job_Structures/Pre_VASP/VCrTiWZr_Summit/Gen_0-2/Vacancies/supercell_gen0_comp12_struct2_vac_site4_start.vasp\n",
      "Processing entry 19/84...\n",
      "Found target atoms for entry 19: [PeriodicSite: V (-10.35, 29.21, 40.61) [0.6691, 3.419, 5.238], PeriodicSite: V (66.09, -2.609, 5.705) [6.537, -0.3041, 2.631], PeriodicSite: V (10.18, 25.83, -19.21) [2.538, 3.02, 0.02206], PeriodicSite: V (-14.85, 11.31, 26.66) [-0.8363, 1.324, 2.704], PeriodicSite: V (41.51, -17.69, 50.98) [3.175, -2.066, 5.239]]\n",
      "Written start structure to ../Visualization/Job_Structures/Pre_VASP/VCrTiWZr_Summit/Gen_0-2/Vacancies/supercell_gen1_comp22_struct1_vac_site0_start.vasp\n",
      "Written start structure to ../Visualization/Job_Structures/Pre_VASP/VCrTiWZr_Summit/Gen_0-2/Vacancies/supercell_gen1_comp22_struct1_vac_site1_start.vasp\n",
      "Written start structure to ../Visualization/Job_Structures/Pre_VASP/VCrTiWZr_Summit/Gen_0-2/Vacancies/supercell_gen1_comp22_struct1_vac_site2_start.vasp\n",
      "Written start structure to ../Visualization/Job_Structures/Pre_VASP/VCrTiWZr_Summit/Gen_0-2/Vacancies/supercell_gen1_comp22_struct1_vac_site3_start.vasp\n",
      "Written start structure to ../Visualization/Job_Structures/Pre_VASP/VCrTiWZr_Summit/Gen_0-2/Vacancies/supercell_gen1_comp22_struct1_vac_site4_start.vasp\n",
      "Processing entry 20/84...\n",
      "Found target atoms for entry 20: [PeriodicSite: Cr (-20.64, 35.93, -14.72) [0.01315, 4.23, 0.009671], PeriodicSite: V (-35.17, 46.67, 11.36) [-0.8362, 5.496, 2.644], PeriodicSite: Cr (-24.18, 39.55, 65.61) [-0.1475, 4.654, 7.778], PeriodicSite: V (61.79, -10.11, 39.38) [5.672, -1.203, 5.245], PeriodicSite: Ti (19.37, 50.87, -37.76) [4.952, 5.978, 0.02988]]\n",
      "Written start structure to ../Visualization/Job_Structures/Pre_VASP/VCrTiWZr_Summit/Gen_0-2/Vacancies/supercell_gen2_comp24_struct3_vac_site0_start.vasp\n",
      "Written start structure to ../Visualization/Job_Structures/Pre_VASP/VCrTiWZr_Summit/Gen_0-2/Vacancies/supercell_gen2_comp24_struct3_vac_site1_start.vasp\n",
      "Written start structure to ../Visualization/Job_Structures/Pre_VASP/VCrTiWZr_Summit/Gen_0-2/Vacancies/supercell_gen2_comp24_struct3_vac_site2_start.vasp\n",
      "Written start structure to ../Visualization/Job_Structures/Pre_VASP/VCrTiWZr_Summit/Gen_0-2/Vacancies/supercell_gen2_comp24_struct3_vac_site3_start.vasp\n",
      "Written start structure to ../Visualization/Job_Structures/Pre_VASP/VCrTiWZr_Summit/Gen_0-2/Vacancies/supercell_gen2_comp24_struct3_vac_site4_start.vasp\n",
      "Processing entry 21/84...\n",
      "Found target atoms for entry 21: [PeriodicSite: V (-16.16, 54.44, -0.1959) [1.557, 6.393, 2.626], PeriodicSite: V (8.857, 26.06, -18.75) [2.437, 3.065, 0.04184], PeriodicSite: V (11.5, -7.481, 55.48) [0.7296, -0.8834, 5.246], PeriodicSite: Cr (-14.39, 21.83, 74.44) [-0.1832, 2.554, 7.893], PeriodicSite: W (44.35, 33.13, -9.061) [6.468, 3.899, 2.589]]\n",
      "Written start structure to ../Visualization/Job_Structures/Pre_VASP/VCrTiWZr_Summit/Gen_0-2/Vacancies/supercell_gen2_comp23_struct1_vac_site0_start.vasp\n",
      "Written start structure to ../Visualization/Job_Structures/Pre_VASP/VCrTiWZr_Summit/Gen_0-2/Vacancies/supercell_gen2_comp23_struct1_vac_site1_start.vasp\n",
      "Written start structure to ../Visualization/Job_Structures/Pre_VASP/VCrTiWZr_Summit/Gen_0-2/Vacancies/supercell_gen2_comp23_struct1_vac_site2_start.vasp\n",
      "Written start structure to ../Visualization/Job_Structures/Pre_VASP/VCrTiWZr_Summit/Gen_0-2/Vacancies/supercell_gen2_comp23_struct1_vac_site3_start.vasp\n",
      "Written start structure to ../Visualization/Job_Structures/Pre_VASP/VCrTiWZr_Summit/Gen_0-2/Vacancies/supercell_gen2_comp23_struct1_vac_site4_start.vasp\n",
      "Processing entry 22/84...\n",
      "Found target atoms for entry 22: [PeriodicSite: Cr (32.39, 11.7, 89.29) [3.966, 1.391, 10.33], PeriodicSite: Ti (91.68, -20.53, 34.9) [8.11, -2.383, 5.226], PeriodicSite: Cr (89.14, 12.52, -38.1) [9.792, 1.459, 0.08773], PeriodicSite: V (2.154, 22.07, 94.13) [1.5, 2.602, 10.38], PeriodicSite: V (1.547, 10.85, 47.04) [0.7871, 1.28, 5.193]]\n",
      "Written start structure to ../Visualization/Job_Structures/Pre_VASP/VCrTiWZr_Summit/Gen_0-2/Vacancies/supercell_gen1_comp18_struct2_vac_site0_start.vasp\n",
      "Written start structure to ../Visualization/Job_Structures/Pre_VASP/VCrTiWZr_Summit/Gen_0-2/Vacancies/supercell_gen1_comp18_struct2_vac_site1_start.vasp\n",
      "Written start structure to ../Visualization/Job_Structures/Pre_VASP/VCrTiWZr_Summit/Gen_0-2/Vacancies/supercell_gen1_comp18_struct2_vac_site2_start.vasp\n",
      "Written start structure to ../Visualization/Job_Structures/Pre_VASP/VCrTiWZr_Summit/Gen_0-2/Vacancies/supercell_gen1_comp18_struct2_vac_site3_start.vasp\n",
      "Written start structure to ../Visualization/Job_Structures/Pre_VASP/VCrTiWZr_Summit/Gen_0-2/Vacancies/supercell_gen1_comp18_struct2_vac_site4_start.vasp\n",
      "Processing entry 23/84...\n",
      "Found target atoms for entry 23: [PeriodicSite: V (31.11, 0.569, 43.91) [3.188, 0.06383, 5.28], PeriodicSite: V (61.07, -9.738, 39.59) [5.622, -1.139, 5.281], PeriodicSite: V (-8.972, 17.45, -7.235) [0.1144, 2.045, 0.02579], PeriodicSite: V (15.79, 11.54, 69.31) [2.277, 1.343, 7.827], PeriodicSite: Zr (62.23, -42.99, 112.2) [3.785, -5.047, 10.31]]\n",
      "Written start structure to ../Visualization/Job_Structures/Pre_VASP/VCrTiWZr_Summit/Gen_0-2/Vacancies/supercell_gen1_comp16_struct1_vac_site0_start.vasp\n",
      "Written start structure to ../Visualization/Job_Structures/Pre_VASP/VCrTiWZr_Summit/Gen_0-2/Vacancies/supercell_gen1_comp16_struct1_vac_site1_start.vasp\n",
      "Written start structure to ../Visualization/Job_Structures/Pre_VASP/VCrTiWZr_Summit/Gen_0-2/Vacancies/supercell_gen1_comp16_struct1_vac_site2_start.vasp\n",
      "Written start structure to ../Visualization/Job_Structures/Pre_VASP/VCrTiWZr_Summit/Gen_0-2/Vacancies/supercell_gen1_comp16_struct1_vac_site3_start.vasp\n",
      "Written start structure to ../Visualization/Job_Structures/Pre_VASP/VCrTiWZr_Summit/Gen_0-2/Vacancies/supercell_gen1_comp16_struct1_vac_site4_start.vasp\n",
      "Processing entry 24/84...\n",
      "Found target atoms for entry 24: [PeriodicSite: V (95.06, -12.68, 1.278) [8.937, -1.5, 2.608], PeriodicSite: V (54.52, 15.66, -1.622) [6.467, 1.827, 2.611], PeriodicSite: V (65.66, -2.433, 5.963) [6.542, -0.2954, 2.657], PeriodicSite: W (67.03, -34.94, 79.93) [4.782, -4.114, 7.876], PeriodicSite: V (46.88, -43.03, 92.4) [2.258, -5.061, 7.911]]\n",
      "Written start structure to ../Visualization/Job_Structures/Pre_VASP/VCrTiWZr_Summit/Gen_0-2/Vacancies/supercell_gen0_comp10_struct3_vac_site0_start.vasp\n",
      "Written start structure to ../Visualization/Job_Structures/Pre_VASP/VCrTiWZr_Summit/Gen_0-2/Vacancies/supercell_gen0_comp10_struct3_vac_site1_start.vasp\n",
      "Written start structure to ../Visualization/Job_Structures/Pre_VASP/VCrTiWZr_Summit/Gen_0-2/Vacancies/supercell_gen0_comp10_struct3_vac_site2_start.vasp\n",
      "Written start structure to ../Visualization/Job_Structures/Pre_VASP/VCrTiWZr_Summit/Gen_0-2/Vacancies/supercell_gen0_comp10_struct3_vac_site3_start.vasp\n",
      "Written start structure to ../Visualization/Job_Structures/Pre_VASP/VCrTiWZr_Summit/Gen_0-2/Vacancies/supercell_gen0_comp10_struct3_vac_site4_start.vasp\n",
      "Processing entry 25/84...\n",
      "Found target atoms for entry 25: [PeriodicSite: V (-59.41, 43.41, 104.0) [-3.462, 5.072, 10.42], PeriodicSite: W (-11.61, 62.79, -34.49) [2.487, 7.329, -0.005489], PeriodicSite: V (52.77, -24.84, 107.0) [3.894, -2.898, 10.5], PeriodicSite: V (18.62, 52.15, -38.6) [4.921, 6.086, 0.00267], PeriodicSite: V (-28.06, -11.73, 127.8) [-3.509, -1.366, 10.52]]\n",
      "Written start structure to ../Visualization/Job_Structures/Pre_VASP/VCrTiWZr_Summit/Gen_0-2/Vacancies/supercell_gen0_comp3_struct1_vac_site0_start.vasp\n",
      "Written start structure to ../Visualization/Job_Structures/Pre_VASP/VCrTiWZr_Summit/Gen_0-2/Vacancies/supercell_gen0_comp3_struct1_vac_site1_start.vasp\n",
      "Written start structure to ../Visualization/Job_Structures/Pre_VASP/VCrTiWZr_Summit/Gen_0-2/Vacancies/supercell_gen0_comp3_struct1_vac_site2_start.vasp\n",
      "Written start structure to ../Visualization/Job_Structures/Pre_VASP/VCrTiWZr_Summit/Gen_0-2/Vacancies/supercell_gen0_comp3_struct1_vac_site3_start.vasp\n",
      "Written start structure to ../Visualization/Job_Structures/Pre_VASP/VCrTiWZr_Summit/Gen_0-2/Vacancies/supercell_gen0_comp3_struct1_vac_site4_start.vasp\n",
      "Processing entry 26/84...\n",
      "Found target atoms for entry 26: [PeriodicSite: Zr (33.17, -0.1868, 43.87) [3.344, 0.001884, 5.295], PeriodicSite: V (66.93, -2.675, 5.042) [6.586, -0.2956, 2.584], PeriodicSite: V (37.74, -25.85, 85.16) [2.321, -2.964, 7.889], PeriodicSite: V (-47.17, 66.22, 3.373) [-0.8885, 7.691, 2.604], PeriodicSite: V (0.9828, 22.17, 95.64) [1.422, 2.615, 10.46]]\n",
      "Written start structure to ../Visualization/Job_Structures/Pre_VASP/VCrTiWZr_Summit/Gen_0-2/Vacancies/supercell_gen0_comp4_struct3_vac_site0_start.vasp\n",
      "Written start structure to ../Visualization/Job_Structures/Pre_VASP/VCrTiWZr_Summit/Gen_0-2/Vacancies/supercell_gen0_comp4_struct3_vac_site1_start.vasp\n",
      "Written start structure to ../Visualization/Job_Structures/Pre_VASP/VCrTiWZr_Summit/Gen_0-2/Vacancies/supercell_gen0_comp4_struct3_vac_site2_start.vasp\n",
      "Written start structure to ../Visualization/Job_Structures/Pre_VASP/VCrTiWZr_Summit/Gen_0-2/Vacancies/supercell_gen0_comp4_struct3_vac_site3_start.vasp\n",
      "Written start structure to ../Visualization/Job_Structures/Pre_VASP/VCrTiWZr_Summit/Gen_0-2/Vacancies/supercell_gen0_comp4_struct3_vac_site4_start.vasp\n",
      "Processing entry 27/84...\n",
      "Found target atoms for entry 27: [PeriodicSite: V (61.77, -10.32, 39.05) [5.676, -1.215, 5.225], PeriodicSite: Cr (71.81, -28.12, 46.54) [5.657, -3.299, 5.242], PeriodicSite: V (86.74, -27.81, 67.95) [7.193, -3.266, 7.811], PeriodicSite: W (76.08, -20.65, 13.3) [6.522, -2.424, 2.649], PeriodicSite: V (29.02, 33.57, -30.75) [4.906, 3.929, 0.01258]]\n",
      "Written start structure to ../Visualization/Job_Structures/Pre_VASP/VCrTiWZr_Summit/Gen_0-2/Vacancies/supercell_gen1_comp18_struct3_vac_site0_start.vasp\n",
      "Written start structure to ../Visualization/Job_Structures/Pre_VASP/VCrTiWZr_Summit/Gen_0-2/Vacancies/supercell_gen1_comp18_struct3_vac_site1_start.vasp\n",
      "Written start structure to ../Visualization/Job_Structures/Pre_VASP/VCrTiWZr_Summit/Gen_0-2/Vacancies/supercell_gen1_comp18_struct3_vac_site2_start.vasp\n",
      "Written start structure to ../Visualization/Job_Structures/Pre_VASP/VCrTiWZr_Summit/Gen_0-2/Vacancies/supercell_gen1_comp18_struct3_vac_site3_start.vasp\n",
      "Written start structure to ../Visualization/Job_Structures/Pre_VASP/VCrTiWZr_Summit/Gen_0-2/Vacancies/supercell_gen1_comp18_struct3_vac_site4_start.vasp\n",
      "Processing entry 28/84...\n",
      "Found target atoms for entry 28: [PeriodicSite: V (50.84, 8.434, 32.23) [5.624, 0.9479, 5.298], PeriodicSite: V (57.48, -16.27, 70.04) [4.861, -1.956, 7.723], PeriodicSite: Ti (6.833, -14.1, 87.14) [-0.1289, -1.674, 7.796], PeriodicSite: V (30.5, -10.33, -4.344) [2.482, -1.226, 0.005102], PeriodicSite: V (51.79, -35.2, 57.49) [3.19, -4.164, 5.224]]\n",
      "Written start structure to ../Visualization/Job_Structures/Pre_VASP/VCrTiWZr_Summit/Gen_0-2/Vacancies/supercell_gen2_comp24_struct2_vac_site0_start.vasp\n",
      "Written start structure to ../Visualization/Job_Structures/Pre_VASP/VCrTiWZr_Summit/Gen_0-2/Vacancies/supercell_gen2_comp24_struct2_vac_site1_start.vasp\n",
      "Written start structure to ../Visualization/Job_Structures/Pre_VASP/VCrTiWZr_Summit/Gen_0-2/Vacancies/supercell_gen2_comp24_struct2_vac_site2_start.vasp\n",
      "Written start structure to ../Visualization/Job_Structures/Pre_VASP/VCrTiWZr_Summit/Gen_0-2/Vacancies/supercell_gen2_comp24_struct2_vac_site3_start.vasp\n",
      "Written start structure to ../Visualization/Job_Structures/Pre_VASP/VCrTiWZr_Summit/Gen_0-2/Vacancies/supercell_gen2_comp24_struct2_vac_site4_start.vasp\n",
      "Processing entry 29/84...\n",
      "Found target atoms for entry 29: [PeriodicSite: V (11.21, -7.323, 58.84) [0.6988, -0.862, 5.436], PeriodicSite: V (47.97, -0.3136, 67.0) [4.79, -0.03835, 7.84], PeriodicSite: V (26.48, -7.114, 80.46) [2.242, -0.8385, 7.977], PeriodicSite: V (63.13, -10.87, 41.0) [5.692, -1.248, 5.319], PeriodicSite: V (-4.163, 3.726, 85.49) [-0.1953, 0.4041, 8.039]]\n",
      "Written start structure to ../Visualization/Job_Structures/Pre_VASP/VCrTiWZr_Summit/Gen_0-2/Vacancies/supercell_gen1_comp20_struct1_vac_site0_start.vasp\n",
      "Written start structure to ../Visualization/Job_Structures/Pre_VASP/VCrTiWZr_Summit/Gen_0-2/Vacancies/supercell_gen1_comp20_struct1_vac_site1_start.vasp\n",
      "Written start structure to ../Visualization/Job_Structures/Pre_VASP/VCrTiWZr_Summit/Gen_0-2/Vacancies/supercell_gen1_comp20_struct1_vac_site2_start.vasp\n",
      "Written start structure to ../Visualization/Job_Structures/Pre_VASP/VCrTiWZr_Summit/Gen_0-2/Vacancies/supercell_gen1_comp20_struct1_vac_site3_start.vasp\n",
      "Written start structure to ../Visualization/Job_Structures/Pre_VASP/VCrTiWZr_Summit/Gen_0-2/Vacancies/supercell_gen1_comp20_struct1_vac_site4_start.vasp\n",
      "Processing entry 30/84...\n",
      "Found target atoms for entry 30: [PeriodicSite: V (-19.18, 14.76, 106.1) [-1.046, 1.76, 10.32], PeriodicSite: V (89.27, -39.83, 21.0) [6.663, -4.605, 2.666], PeriodicSite: W (0.4251, 10.86, 48.31) [0.6871, 1.285, 5.25], PeriodicSite: V (85.74, 5.535, -6.12) [8.949, 0.6596, 2.623], PeriodicSite: V (36.56, 6.491, 11.29) [4.06, 0.7678, 2.684]]\n",
      "Written start structure to ../Visualization/Job_Structures/Pre_VASP/VCrTiWZr_Summit/Gen_0-2/Vacancies/supercell_gen1_comp19_struct3_vac_site0_start.vasp\n",
      "Written start structure to ../Visualization/Job_Structures/Pre_VASP/VCrTiWZr_Summit/Gen_0-2/Vacancies/supercell_gen1_comp19_struct3_vac_site1_start.vasp\n",
      "Written start structure to ../Visualization/Job_Structures/Pre_VASP/VCrTiWZr_Summit/Gen_0-2/Vacancies/supercell_gen1_comp19_struct3_vac_site2_start.vasp\n",
      "Written start structure to ../Visualization/Job_Structures/Pre_VASP/VCrTiWZr_Summit/Gen_0-2/Vacancies/supercell_gen1_comp19_struct3_vac_site3_start.vasp\n",
      "Written start structure to ../Visualization/Job_Structures/Pre_VASP/VCrTiWZr_Summit/Gen_0-2/Vacancies/supercell_gen1_comp19_struct3_vac_site4_start.vasp\n",
      "Processing entry 31/84...\n",
      "Found target atoms for entry 31: [PeriodicSite: V (68.68, 5.112, -27.42) [7.289, 0.6008, -0.008629], PeriodicSite: V (42.09, -6.535, 96.82) [3.9, -0.776, 10.37], PeriodicSite: V (75.75, -20.55, 13.07) [6.5, -2.422, 2.622], PeriodicSite: Cr (22.67, -14.04, 107.9) [1.482, -1.659, 10.33], PeriodicSite: V (21.1, -25.01, 62.7) [0.6773, -2.947, 5.285]]\n",
      "Written start structure to ../Visualization/Job_Structures/Pre_VASP/VCrTiWZr_Summit/Gen_0-2/Vacancies/supercell_gen0_comp5_struct3_vac_site0_start.vasp\n",
      "Written start structure to ../Visualization/Job_Structures/Pre_VASP/VCrTiWZr_Summit/Gen_0-2/Vacancies/supercell_gen0_comp5_struct3_vac_site1_start.vasp\n",
      "Written start structure to ../Visualization/Job_Structures/Pre_VASP/VCrTiWZr_Summit/Gen_0-2/Vacancies/supercell_gen0_comp5_struct3_vac_site2_start.vasp\n",
      "Written start structure to ../Visualization/Job_Structures/Pre_VASP/VCrTiWZr_Summit/Gen_0-2/Vacancies/supercell_gen0_comp5_struct3_vac_site3_start.vasp\n",
      "Written start structure to ../Visualization/Job_Structures/Pre_VASP/VCrTiWZr_Summit/Gen_0-2/Vacancies/supercell_gen0_comp5_struct3_vac_site4_start.vasp\n",
      "Processing entry 32/84...\n",
      "Found target atoms for entry 32: [PeriodicSite: V (-9.512, 29.14, 40.39) [0.7463, 3.421, 5.266], PeriodicSite: V (35.6, 7.978, 9.909) [4.083, 0.939, 2.625], PeriodicSite: V (72.23, -17.27, 92.87) [6.319, -2.018, 10.35], PeriodicSite: W (-25.16, 28.97, 18.63) [-0.8525, 3.399, 2.638], PeriodicSite: V (2.458, -21.32, 120.5) [-1.002, -2.497, 10.4]]\n",
      "Written start structure to ../Visualization/Job_Structures/Pre_VASP/VCrTiWZr_Summit/Gen_0-2/Vacancies/supercell_gen0_comp2_struct1_vac_site0_start.vasp\n",
      "Written start structure to ../Visualization/Job_Structures/Pre_VASP/VCrTiWZr_Summit/Gen_0-2/Vacancies/supercell_gen0_comp2_struct1_vac_site1_start.vasp\n",
      "Written start structure to ../Visualization/Job_Structures/Pre_VASP/VCrTiWZr_Summit/Gen_0-2/Vacancies/supercell_gen0_comp2_struct1_vac_site2_start.vasp\n",
      "Written start structure to ../Visualization/Job_Structures/Pre_VASP/VCrTiWZr_Summit/Gen_0-2/Vacancies/supercell_gen0_comp2_struct1_vac_site3_start.vasp\n",
      "Written start structure to ../Visualization/Job_Structures/Pre_VASP/VCrTiWZr_Summit/Gen_0-2/Vacancies/supercell_gen0_comp2_struct1_vac_site4_start.vasp\n",
      "Processing entry 33/84...\n",
      "Found target atoms for entry 33: [PeriodicSite: V (-9.506, 29.02, 38.54) [0.7353, 3.426, 5.113], PeriodicSite: V (54.85, -27.84, 24.91) [3.971, -3.285, 2.628], PeriodicSite: V (4.963, 18.41, 13.26) [1.593, 2.173, 2.537], PeriodicSite: W (-1.44, 43.34, -25.4) [2.413, 5.114, 0.05669], PeriodicSite: V (-34.74, 46.44, 10.21) [-0.8174, 5.481, 2.546]]\n",
      "Written start structure to ../Visualization/Job_Structures/Pre_VASP/VCrTiWZr_Summit/Gen_0-2/Vacancies/supercell_gen2_comp25_struct2_vac_site0_start.vasp\n",
      "Written start structure to ../Visualization/Job_Structures/Pre_VASP/VCrTiWZr_Summit/Gen_0-2/Vacancies/supercell_gen2_comp25_struct2_vac_site1_start.vasp\n",
      "Written start structure to ../Visualization/Job_Structures/Pre_VASP/VCrTiWZr_Summit/Gen_0-2/Vacancies/supercell_gen2_comp25_struct2_vac_site2_start.vasp\n",
      "Written start structure to ../Visualization/Job_Structures/Pre_VASP/VCrTiWZr_Summit/Gen_0-2/Vacancies/supercell_gen2_comp25_struct2_vac_site3_start.vasp\n",
      "Written start structure to ../Visualization/Job_Structures/Pre_VASP/VCrTiWZr_Summit/Gen_0-2/Vacancies/supercell_gen2_comp25_struct2_vac_site4_start.vasp\n",
      "Processing entry 34/84...\n",
      "Found target atoms for entry 34: [PeriodicSite: V (61.37, 23.12, -35.21) [7.543, 2.716, 0.06932], PeriodicSite: W (51.45, 8.098, 31.42) [5.675, 0.9651, 5.224], PeriodicSite: V (31.5, 0.3298, 42.07) [3.209, 0.05249, 5.11], PeriodicSite: V (10.85, 36.54, 28.02) [3.25, 4.291, 5.197], PeriodicSite: V (-5.463, 37.01, 6.1) [1.626, 4.339, 2.576]]\n",
      "Written start structure to ../Visualization/Job_Structures/Pre_VASP/VCrTiWZr_Summit/Gen_0-2/Vacancies/supercell_gen0_comp11_struct2_vac_site0_start.vasp\n",
      "Written start structure to ../Visualization/Job_Structures/Pre_VASP/VCrTiWZr_Summit/Gen_0-2/Vacancies/supercell_gen0_comp11_struct2_vac_site1_start.vasp\n",
      "Written start structure to ../Visualization/Job_Structures/Pre_VASP/VCrTiWZr_Summit/Gen_0-2/Vacancies/supercell_gen0_comp11_struct2_vac_site2_start.vasp\n",
      "Written start structure to ../Visualization/Job_Structures/Pre_VASP/VCrTiWZr_Summit/Gen_0-2/Vacancies/supercell_gen0_comp11_struct2_vac_site3_start.vasp\n",
      "Written start structure to ../Visualization/Job_Structures/Pre_VASP/VCrTiWZr_Summit/Gen_0-2/Vacancies/supercell_gen0_comp11_struct2_vac_site4_start.vasp\n",
      "Processing entry 35/84...\n",
      "Found target atoms for entry 35: [PeriodicSite: Zr (90.31, -40.87, 22.42) [6.657, -4.664, 2.761], PeriodicSite: Zr (-31.81, 33.97, 103.6) [-1.19, 3.921, 10.61], PeriodicSite: V (11.83, 4.161, 103.9) [1.447, 0.512, 10.37], PeriodicSite: V (-14.32, 21.87, 76.2) [-0.1501, 2.529, 7.927], PeriodicSite: V (80.57, -10.8, 59.73) [7.422, -1.208, 7.666]]\n",
      "Written start structure to ../Visualization/Job_Structures/Pre_VASP/VCrTiWZr_Summit/Gen_0-2/Vacancies/supercell_gen1_comp21_struct1_vac_site0_start.vasp\n",
      "Written start structure to ../Visualization/Job_Structures/Pre_VASP/VCrTiWZr_Summit/Gen_0-2/Vacancies/supercell_gen1_comp21_struct1_vac_site1_start.vasp\n",
      "Written start structure to ../Visualization/Job_Structures/Pre_VASP/VCrTiWZr_Summit/Gen_0-2/Vacancies/supercell_gen1_comp21_struct1_vac_site2_start.vasp\n",
      "Written start structure to ../Visualization/Job_Structures/Pre_VASP/VCrTiWZr_Summit/Gen_0-2/Vacancies/supercell_gen1_comp21_struct1_vac_site3_start.vasp\n",
      "Written start structure to ../Visualization/Job_Structures/Pre_VASP/VCrTiWZr_Summit/Gen_0-2/Vacancies/supercell_gen1_comp21_struct1_vac_site4_start.vasp\n",
      "Processing entry 36/84...\n",
      "Found target atoms for entry 36: [PeriodicSite: V (-18.53, 14.18, 107.5) [-1.043, 1.659, 10.44], PeriodicSite: V (111.5, -23.88, -24.9) [9.883, -2.802, -0.005594], PeriodicSite: V (-29.63, 21.65, 52.59) [-1.73, 2.535, 5.274], PeriodicSite: V (63.61, -43.17, 114.0) [3.916, -5.058, 10.48], PeriodicSite: W (-25.27, 28.98, 18.71) [-0.8624, 3.392, 2.624]]\n",
      "Written start structure to ../Visualization/Job_Structures/Pre_VASP/VCrTiWZr_Summit/Gen_0-2/Vacancies/supercell_gen2_comp32_struct1_vac_site0_start.vasp\n",
      "Written start structure to ../Visualization/Job_Structures/Pre_VASP/VCrTiWZr_Summit/Gen_0-2/Vacancies/supercell_gen2_comp32_struct1_vac_site1_start.vasp\n",
      "Written start structure to ../Visualization/Job_Structures/Pre_VASP/VCrTiWZr_Summit/Gen_0-2/Vacancies/supercell_gen2_comp32_struct1_vac_site2_start.vasp\n",
      "Written start structure to ../Visualization/Job_Structures/Pre_VASP/VCrTiWZr_Summit/Gen_0-2/Vacancies/supercell_gen2_comp32_struct1_vac_site3_start.vasp\n",
      "Written start structure to ../Visualization/Job_Structures/Pre_VASP/VCrTiWZr_Summit/Gen_0-2/Vacancies/supercell_gen2_comp32_struct1_vac_site4_start.vasp\n",
      "Processing entry 37/84...\n",
      "Found target atoms for entry 37: [PeriodicSite: V (75.26, -9.504, 59.4) [7.146, -1.104, 7.741], PeriodicSite: V (51.39, -35.46, 57.91) [3.167, -4.167, 5.251], PeriodicSite: V (-28.37, 32.52, 96.13) [-0.9938, 3.842, 10.24], PeriodicSite: V (43.65, -50.35, 122.2) [1.49, -5.915, 10.32], PeriodicSite: W (45.02, -9.969, 17.45) [4.023, -1.167, 2.631]]\n",
      "Written start structure to ../Visualization/Job_Structures/Pre_VASP/VCrTiWZr_Summit/Gen_0-2/Vacancies/supercell_gen2_comp25_struct3_vac_site0_start.vasp\n",
      "Written start structure to ../Visualization/Job_Structures/Pre_VASP/VCrTiWZr_Summit/Gen_0-2/Vacancies/supercell_gen2_comp25_struct3_vac_site1_start.vasp\n",
      "Written start structure to ../Visualization/Job_Structures/Pre_VASP/VCrTiWZr_Summit/Gen_0-2/Vacancies/supercell_gen2_comp25_struct3_vac_site2_start.vasp\n",
      "Written start structure to ../Visualization/Job_Structures/Pre_VASP/VCrTiWZr_Summit/Gen_0-2/Vacancies/supercell_gen2_comp25_struct3_vac_site3_start.vasp\n",
      "Written start structure to ../Visualization/Job_Structures/Pre_VASP/VCrTiWZr_Summit/Gen_0-2/Vacancies/supercell_gen2_comp25_struct3_vac_site4_start.vasp\n",
      "Processing entry 38/84...\n",
      "Found target atoms for entry 38: [PeriodicSite: V (45.95, -10.3, 16.73) [4.067, -1.212, 2.564], PeriodicSite: V (49.1, 40.8, -41.85) [7.387, 4.792, 0.0295], PeriodicSite: V (40.21, 26.44, 22.78) [5.644, 3.112, 5.117], PeriodicSite: V (-4.103, -7.409, 33.03) [-0.8501, -0.867, 2.611], PeriodicSite: V (41.23, -17.74, 49.9) [3.152, -2.083, 5.165]]\n",
      "Written start structure to ../Visualization/Job_Structures/Pre_VASP/VCrTiWZr_Summit/Gen_0-2/Vacancies/supercell_gen0_comp5_struct2_vac_site0_start.vasp\n",
      "Written start structure to ../Visualization/Job_Structures/Pre_VASP/VCrTiWZr_Summit/Gen_0-2/Vacancies/supercell_gen0_comp5_struct2_vac_site1_start.vasp\n",
      "Written start structure to ../Visualization/Job_Structures/Pre_VASP/VCrTiWZr_Summit/Gen_0-2/Vacancies/supercell_gen0_comp5_struct2_vac_site2_start.vasp\n",
      "Written start structure to ../Visualization/Job_Structures/Pre_VASP/VCrTiWZr_Summit/Gen_0-2/Vacancies/supercell_gen0_comp5_struct2_vac_site3_start.vasp\n",
      "Written start structure to ../Visualization/Job_Structures/Pre_VASP/VCrTiWZr_Summit/Gen_0-2/Vacancies/supercell_gen0_comp5_struct2_vac_site4_start.vasp\n",
      "Processing entry 39/84...\n",
      "Found target atoms for entry 39: [PeriodicSite: V (2.281, -21.96, 123.1) [-1.04, -2.59, 10.5], PeriodicSite: V (-34.96, 15.07, 86.44) [-2.639, 1.758, 7.918], PeriodicSite: V (62.58, 1.438, 86.73) [6.4, 0.1381, 10.44], PeriodicSite: V (52.59, 7.712, 32.69) [5.754, 0.8834, 5.328], PeriodicSite: Cr (-54.55, 49.52, 72.4) [-2.609, 5.793, 7.931]]\n",
      "Written start structure to ../Visualization/Job_Structures/Pre_VASP/VCrTiWZr_Summit/Gen_0-2/Vacancies/supercell_gen1_comp17_struct1_vac_site0_start.vasp\n",
      "Written start structure to ../Visualization/Job_Structures/Pre_VASP/VCrTiWZr_Summit/Gen_0-2/Vacancies/supercell_gen1_comp17_struct1_vac_site1_start.vasp\n",
      "Written start structure to ../Visualization/Job_Structures/Pre_VASP/VCrTiWZr_Summit/Gen_0-2/Vacancies/supercell_gen1_comp17_struct1_vac_site2_start.vasp\n",
      "Written start structure to ../Visualization/Job_Structures/Pre_VASP/VCrTiWZr_Summit/Gen_0-2/Vacancies/supercell_gen1_comp17_struct1_vac_site3_start.vasp\n",
      "Written start structure to ../Visualization/Job_Structures/Pre_VASP/VCrTiWZr_Summit/Gen_0-2/Vacancies/supercell_gen1_comp17_struct1_vac_site4_start.vasp\n",
      "Processing entry 40/84...\n",
      "Found target atoms for entry 40: [PeriodicSite: V (89.13, -28.22, 68.17) [7.311, -3.298, 7.847], PeriodicSite: V (98.01, -13.09, 0.4141) [9.076, -1.537, 2.561], PeriodicSite: V (-4.439, -7.476, 33.93) [-0.8768, -0.8701, 2.654], PeriodicSite: V (15.03, 0.2873, 20.58) [1.525, 0.02888, 2.482], PeriodicSite: V (-36.23, 48.61, 10.13) [-0.8201, 5.648, 2.569]]\n",
      "Written start structure to ../Visualization/Job_Structures/Pre_VASP/VCrTiWZr_Summit/Gen_0-2/Vacancies/supercell_gen1_comp19_struct2_vac_site0_start.vasp\n",
      "Written start structure to ../Visualization/Job_Structures/Pre_VASP/VCrTiWZr_Summit/Gen_0-2/Vacancies/supercell_gen1_comp19_struct2_vac_site1_start.vasp\n",
      "Written start structure to ../Visualization/Job_Structures/Pre_VASP/VCrTiWZr_Summit/Gen_0-2/Vacancies/supercell_gen1_comp19_struct2_vac_site2_start.vasp\n",
      "Written start structure to ../Visualization/Job_Structures/Pre_VASP/VCrTiWZr_Summit/Gen_0-2/Vacancies/supercell_gen1_comp19_struct2_vac_site3_start.vasp\n",
      "Written start structure to ../Visualization/Job_Structures/Pre_VASP/VCrTiWZr_Summit/Gen_0-2/Vacancies/supercell_gen1_comp19_struct2_vac_site4_start.vasp\n",
      "Processing entry 41/84...\n",
      "Found target atoms for entry 41: [PeriodicSite: V (-3.564, 3.349, 81.19) [-0.1548, 0.3971, 7.838], PeriodicSite: V (78.91, -54.14, 87.38) [4.812, -6.328, 7.846], PeriodicSite: V (21.48, -25.36, 63.78) [0.6925, -2.963, 5.337], PeriodicSite: V (22.67, -14.48, 109.7) [1.454, -1.687, 10.4], PeriodicSite: Cr (17.2, -32.78, 95.96) [-0.1704, -3.83, 7.834]]\n",
      "Written start structure to ../Visualization/Job_Structures/Pre_VASP/VCrTiWZr_Summit/Gen_0-2/Vacancies/supercell_gen0_comp11_struct3_vac_site0_start.vasp\n",
      "Written start structure to ../Visualization/Job_Structures/Pre_VASP/VCrTiWZr_Summit/Gen_0-2/Vacancies/supercell_gen0_comp11_struct3_vac_site1_start.vasp\n",
      "Written start structure to ../Visualization/Job_Structures/Pre_VASP/VCrTiWZr_Summit/Gen_0-2/Vacancies/supercell_gen0_comp11_struct3_vac_site2_start.vasp\n",
      "Written start structure to ../Visualization/Job_Structures/Pre_VASP/VCrTiWZr_Summit/Gen_0-2/Vacancies/supercell_gen0_comp11_struct3_vac_site3_start.vasp\n",
      "Written start structure to ../Visualization/Job_Structures/Pre_VASP/VCrTiWZr_Summit/Gen_0-2/Vacancies/supercell_gen0_comp11_struct3_vac_site4_start.vasp\n",
      "Processing entry 42/84...\n",
      "Found target atoms for entry 42: [PeriodicSite: W (39.67, 26.53, 22.89) [5.59, 3.109, 5.091], PeriodicSite: V (86.35, -26.66, 67.36) [7.212, -3.151, 7.822], PeriodicSite: V (3.016, -21.61, 120.7) [-0.981, -2.564, 10.42], PeriodicSite: V (44.32, 33.81, -9.442) [6.495, 3.97, 2.573], PeriodicSite: V (24.61, 26.07, 2.449) [4.034, 3.06, 2.594]]\n",
      "Written start structure to ../Visualization/Job_Structures/Pre_VASP/VCrTiWZr_Summit/Gen_0-2/Vacancies/supercell_gen2_comp27_struct1_vac_site0_start.vasp\n",
      "Written start structure to ../Visualization/Job_Structures/Pre_VASP/VCrTiWZr_Summit/Gen_0-2/Vacancies/supercell_gen2_comp27_struct1_vac_site1_start.vasp\n",
      "Written start structure to ../Visualization/Job_Structures/Pre_VASP/VCrTiWZr_Summit/Gen_0-2/Vacancies/supercell_gen2_comp27_struct1_vac_site2_start.vasp\n",
      "Written start structure to ../Visualization/Job_Structures/Pre_VASP/VCrTiWZr_Summit/Gen_0-2/Vacancies/supercell_gen2_comp27_struct1_vac_site3_start.vasp\n",
      "Written start structure to ../Visualization/Job_Structures/Pre_VASP/VCrTiWZr_Summit/Gen_0-2/Vacancies/supercell_gen2_comp27_struct1_vac_site4_start.vasp\n",
      "Processing entry 43/84...\n",
      "Found target atoms for entry 43: [PeriodicSite: V (25.91, -17.94, 29.39) [1.569, -2.093, 2.634], PeriodicSite: V (77.59, -9.628, 60.72) [7.271, -1.122, 7.854], PeriodicSite: V (-3.484, 3.608, 81.07) [-0.1358, 0.4222, 7.84], PeriodicSite: V (47.2, 0.7367, 65.27) [4.809, 0.0873, 7.87], PeriodicSite: V (42.99, -6.555, 98.4) [3.961, -0.763, 10.47]]\n",
      "Written start structure to ../Visualization/Job_Structures/Pre_VASP/VCrTiWZr_Summit/Gen_0-2/Vacancies/supercell_gen2_comp30_struct3_vac_site0_start.vasp\n",
      "Written start structure to ../Visualization/Job_Structures/Pre_VASP/VCrTiWZr_Summit/Gen_0-2/Vacancies/supercell_gen2_comp30_struct3_vac_site1_start.vasp\n",
      "Written start structure to ../Visualization/Job_Structures/Pre_VASP/VCrTiWZr_Summit/Gen_0-2/Vacancies/supercell_gen2_comp30_struct3_vac_site2_start.vasp\n",
      "Written start structure to ../Visualization/Job_Structures/Pre_VASP/VCrTiWZr_Summit/Gen_0-2/Vacancies/supercell_gen2_comp30_struct3_vac_site3_start.vasp\n",
      "Written start structure to ../Visualization/Job_Structures/Pre_VASP/VCrTiWZr_Summit/Gen_0-2/Vacancies/supercell_gen2_comp30_struct3_vac_site4_start.vasp\n",
      "Processing entry 44/84...\n",
      "Found target atoms for entry 44: [PeriodicSite: Ti (-20.13, 46.91, 32.17) [0.7124, 5.531, 5.182], PeriodicSite: V (55.83, -28.22, 24.53) [4.039, -3.322, 2.599], PeriodicSite: Cr (71.69, -17.06, 92.84) [6.319, -2.002, 10.38], PeriodicSite: V (20.35, 18.57, 35.26) [3.175, 2.193, 5.185], PeriodicSite: V (41.19, -17.72, 50.19) [3.162, -2.084, 5.191]]\n",
      "Written start structure to ../Visualization/Job_Structures/Pre_VASP/VCrTiWZr_Summit/Gen_0-2/Vacancies/supercell_gen2_comp29_struct2_vac_site0_start.vasp\n",
      "Written start structure to ../Visualization/Job_Structures/Pre_VASP/VCrTiWZr_Summit/Gen_0-2/Vacancies/supercell_gen2_comp29_struct2_vac_site1_start.vasp\n",
      "Written start structure to ../Visualization/Job_Structures/Pre_VASP/VCrTiWZr_Summit/Gen_0-2/Vacancies/supercell_gen2_comp29_struct2_vac_site2_start.vasp\n",
      "Written start structure to ../Visualization/Job_Structures/Pre_VASP/VCrTiWZr_Summit/Gen_0-2/Vacancies/supercell_gen2_comp29_struct2_vac_site3_start.vasp\n",
      "Written start structure to ../Visualization/Job_Structures/Pre_VASP/VCrTiWZr_Summit/Gen_0-2/Vacancies/supercell_gen2_comp29_struct2_vac_site4_start.vasp\n",
      "Processing entry 45/84...\n",
      "Found target atoms for entry 45: [PeriodicSite: V (82.74, -1.217, 28.31) [8.21, -0.2247, 5.34], PeriodicSite: V (113.7, -56.22, 50.82) [8.15, -6.646, 5.328], PeriodicSite: V (61.81, -20.88, -8.218) [4.994, -2.471, 0.07899], PeriodicSite: V (90.91, -30.61, -13.21) [7.351, -3.622, 0.01626], PeriodicSite: V (72.06, 5.168, -28.03) [7.518, 0.5548, 0.04924]]\n",
      "Written start structure to ../Visualization/Job_Structures/Pre_VASP/VCrTiWZr_Summit/Gen_0-2/Vacancies/supercell_gen1_comp15_struct3_vac_site0_start.vasp\n",
      "Written start structure to ../Visualization/Job_Structures/Pre_VASP/VCrTiWZr_Summit/Gen_0-2/Vacancies/supercell_gen1_comp15_struct3_vac_site1_start.vasp\n",
      "Written start structure to ../Visualization/Job_Structures/Pre_VASP/VCrTiWZr_Summit/Gen_0-2/Vacancies/supercell_gen1_comp15_struct3_vac_site2_start.vasp\n",
      "Written start structure to ../Visualization/Job_Structures/Pre_VASP/VCrTiWZr_Summit/Gen_0-2/Vacancies/supercell_gen1_comp15_struct3_vac_site3_start.vasp\n",
      "Written start structure to ../Visualization/Job_Structures/Pre_VASP/VCrTiWZr_Summit/Gen_0-2/Vacancies/supercell_gen1_comp15_struct3_vac_site4_start.vasp\n",
      "Processing entry 46/84...\n",
      "Found target atoms for entry 46: [PeriodicSite: V (83.47, -47.03, 55.28) [5.711, -5.485, 5.342], PeriodicSite: V (-15.19, 23.26, 73.32) [-0.182, 2.719, 7.84], PeriodicSite: V (-40.37, 40.19, 45.01) [-1.745, 4.692, 5.279], PeriodicSite: V (61.6, -9.806, 39.1) [5.666, -1.144, 5.234], PeriodicSite: V (0.8794, 11.47, 45.96) [0.7581, 1.341, 5.083]]\n",
      "Written start structure to ../Visualization/Job_Structures/Pre_VASP/VCrTiWZr_Summit/Gen_0-2/Vacancies/supercell_gen0_comp9_struct3_vac_site0_start.vasp\n",
      "Written start structure to ../Visualization/Job_Structures/Pre_VASP/VCrTiWZr_Summit/Gen_0-2/Vacancies/supercell_gen0_comp9_struct3_vac_site1_start.vasp\n",
      "Written start structure to ../Visualization/Job_Structures/Pre_VASP/VCrTiWZr_Summit/Gen_0-2/Vacancies/supercell_gen0_comp9_struct3_vac_site2_start.vasp\n",
      "Written start structure to ../Visualization/Job_Structures/Pre_VASP/VCrTiWZr_Summit/Gen_0-2/Vacancies/supercell_gen0_comp9_struct3_vac_site3_start.vasp\n",
      "Written start structure to ../Visualization/Job_Structures/Pre_VASP/VCrTiWZr_Summit/Gen_0-2/Vacancies/supercell_gen0_comp9_struct3_vac_site4_start.vasp\n",
      "Processing entry 47/84...\n",
      "Found target atoms for entry 47: [PeriodicSite: V (85.54, 5.216, -7.463) [8.975, 0.6392, 2.501], PeriodicSite: V (57.06, -17.53, 73.91) [4.758, -2.03, 7.944], PeriodicSite: V (66.24, -2.76, 4.968) [6.551, -0.3006, 2.561], PeriodicSite: V (46.49, 0.5162, 66.19) [4.748, 0.07799, 7.909], PeriodicSite: V (82.86, -46.92, 54.6) [5.643, -5.462, 5.259]]\n",
      "Written start structure to ../Visualization/Job_Structures/Pre_VASP/VCrTiWZr_Summit/Gen_0-2/Vacancies/supercell_gen0_comp9_struct2_vac_site0_start.vasp\n",
      "Written start structure to ../Visualization/Job_Structures/Pre_VASP/VCrTiWZr_Summit/Gen_0-2/Vacancies/supercell_gen0_comp9_struct2_vac_site1_start.vasp\n",
      "Written start structure to ../Visualization/Job_Structures/Pre_VASP/VCrTiWZr_Summit/Gen_0-2/Vacancies/supercell_gen0_comp9_struct2_vac_site2_start.vasp\n",
      "Written start structure to ../Visualization/Job_Structures/Pre_VASP/VCrTiWZr_Summit/Gen_0-2/Vacancies/supercell_gen0_comp9_struct2_vac_site3_start.vasp\n",
      "Written start structure to ../Visualization/Job_Structures/Pre_VASP/VCrTiWZr_Summit/Gen_0-2/Vacancies/supercell_gen0_comp9_struct2_vac_site4_start.vasp\n",
      "Processing entry 48/84...\n",
      "Found target atoms for entry 48: [PeriodicSite: Zr (46.39, 34.03, -10.17) [6.617, 3.965, 2.58], PeriodicSite: V (44.05, -7.056, 100.3) [4.022, -0.8188, 10.55], PeriodicSite: V (96.62, -12.39, -1.532) [8.935, -1.453, 2.372], PeriodicSite: Zr (4.962, 18.9, 15.19) [1.601, 2.205, 2.706], PeriodicSite: Ti (54.0, -25.51, 107.8) [3.943, -2.972, 10.52]]\n",
      "Written start structure to ../Visualization/Job_Structures/Pre_VASP/VCrTiWZr_Summit/Gen_0-2/Vacancies/supercell_gen1_comp15_struct2_vac_site0_start.vasp\n",
      "Written start structure to ../Visualization/Job_Structures/Pre_VASP/VCrTiWZr_Summit/Gen_0-2/Vacancies/supercell_gen1_comp15_struct2_vac_site1_start.vasp\n",
      "Written start structure to ../Visualization/Job_Structures/Pre_VASP/VCrTiWZr_Summit/Gen_0-2/Vacancies/supercell_gen1_comp15_struct2_vac_site2_start.vasp\n",
      "Written start structure to ../Visualization/Job_Structures/Pre_VASP/VCrTiWZr_Summit/Gen_0-2/Vacancies/supercell_gen1_comp15_struct2_vac_site3_start.vasp\n",
      "Written start structure to ../Visualization/Job_Structures/Pre_VASP/VCrTiWZr_Summit/Gen_0-2/Vacancies/supercell_gen1_comp15_struct2_vac_site4_start.vasp\n",
      "Processing entry 49/84...\n",
      "Found target atoms for entry 49: [PeriodicSite: V (100.9, -5.833, -32.04) [9.873, -0.6867, 0.001829], PeriodicSite: V (49.18, 41.53, -42.57) [7.402, 4.847, 0.02495], PeriodicSite: V (25.55, 26.38, 2.56) [4.123, 3.079, 2.641], PeriodicSite: V (65.87, -2.436, 5.672) [6.519, -0.2885, 2.61], PeriodicSite: V (11.09, -7.311, 55.87) [0.688, -0.8553, 5.261]]\n",
      "Written start structure to ../Visualization/Job_Structures/Pre_VASP/VCrTiWZr_Summit/Gen_0-2/Vacancies/supercell_gen2_comp30_struct2_vac_site0_start.vasp\n",
      "Written start structure to ../Visualization/Job_Structures/Pre_VASP/VCrTiWZr_Summit/Gen_0-2/Vacancies/supercell_gen2_comp30_struct2_vac_site1_start.vasp\n",
      "Written start structure to ../Visualization/Job_Structures/Pre_VASP/VCrTiWZr_Summit/Gen_0-2/Vacancies/supercell_gen2_comp30_struct2_vac_site2_start.vasp\n",
      "Written start structure to ../Visualization/Job_Structures/Pre_VASP/VCrTiWZr_Summit/Gen_0-2/Vacancies/supercell_gen2_comp30_struct2_vac_site3_start.vasp\n",
      "Written start structure to ../Visualization/Job_Structures/Pre_VASP/VCrTiWZr_Summit/Gen_0-2/Vacancies/supercell_gen2_comp30_struct2_vac_site4_start.vasp\n",
      "Processing entry 50/84...\n",
      "Found target atoms for entry 50: [PeriodicSite: V (60.72, -9.351, 39.1) [5.602, -1.11, 5.228], PeriodicSite: V (62.57, 1.019, 87.37) [6.389, 0.09537, 10.5], PeriodicSite: V (75.95, -20.52, 12.62) [6.495, -2.415, 2.565], PeriodicSite: Ti (35.85, 7.831, 10.17) [4.085, 0.9064, 2.633], PeriodicSite: V (-40.06, 40.28, 44.98) [-1.713, 4.711, 5.288]]\n",
      "Written start structure to ../Visualization/Job_Structures/Pre_VASP/VCrTiWZr_Summit/Gen_0-2/Vacancies/supercell_gen1_comp22_struct3_vac_site0_start.vasp\n",
      "Written start structure to ../Visualization/Job_Structures/Pre_VASP/VCrTiWZr_Summit/Gen_0-2/Vacancies/supercell_gen1_comp22_struct3_vac_site1_start.vasp\n",
      "Written start structure to ../Visualization/Job_Structures/Pre_VASP/VCrTiWZr_Summit/Gen_0-2/Vacancies/supercell_gen1_comp22_struct3_vac_site2_start.vasp\n",
      "Written start structure to ../Visualization/Job_Structures/Pre_VASP/VCrTiWZr_Summit/Gen_0-2/Vacancies/supercell_gen1_comp22_struct3_vac_site3_start.vasp\n",
      "Written start structure to ../Visualization/Job_Structures/Pre_VASP/VCrTiWZr_Summit/Gen_0-2/Vacancies/supercell_gen1_comp22_struct3_vac_site4_start.vasp\n",
      "Processing entry 51/84...\n",
      "Found target atoms for entry 51: [PeriodicSite: V (105.9, -30.88, 8.44) [8.962, -3.649, 2.582], PeriodicSite: V (35.45, 7.6, 9.58) [4.057, 0.8945, 2.574], PeriodicSite: V (56.69, -17.35, 71.57) [4.76, -2.035, 7.784], PeriodicSite: V (65.43, -2.595, 5.454) [6.507, -0.3113, 2.592], PeriodicSite: V (31.11, 0.3962, 42.4) [3.197, 0.05282, 5.158]]\n",
      "Written start structure to ../Visualization/Job_Structures/Pre_VASP/VCrTiWZr_Summit/Gen_0-2/Vacancies/supercell_gen0_comp1_struct3_vac_site0_start.vasp\n",
      "Written start structure to ../Visualization/Job_Structures/Pre_VASP/VCrTiWZr_Summit/Gen_0-2/Vacancies/supercell_gen0_comp1_struct3_vac_site1_start.vasp\n",
      "Written start structure to ../Visualization/Job_Structures/Pre_VASP/VCrTiWZr_Summit/Gen_0-2/Vacancies/supercell_gen0_comp1_struct3_vac_site2_start.vasp\n",
      "Written start structure to ../Visualization/Job_Structures/Pre_VASP/VCrTiWZr_Summit/Gen_0-2/Vacancies/supercell_gen0_comp1_struct3_vac_site3_start.vasp\n",
      "Written start structure to ../Visualization/Job_Structures/Pre_VASP/VCrTiWZr_Summit/Gen_0-2/Vacancies/supercell_gen0_comp1_struct3_vac_site4_start.vasp\n",
      "Processing entry 52/84...\n",
      "Found target atoms for entry 52: [PeriodicSite: V (30.22, 33.52, -31.1) [4.993, 3.918, 0.02599], PeriodicSite: V (45.66, 33.98, -10.62) [6.581, 3.973, 2.524], PeriodicSite: Zr (4.945, 18.54, 14.58) [1.587, 2.168, 2.639], PeriodicSite: V (42.6, -18.58, 51.53) [3.22, -2.167, 5.258], PeriodicSite: V (81.11, -1.147, 26.78) [8.108, -0.1291, 5.227]]\n",
      "Written start structure to ../Visualization/Job_Structures/Pre_VASP/VCrTiWZr_Summit/Gen_0-2/Vacancies/supercell_gen1_comp14_struct2_vac_site0_start.vasp\n",
      "Written start structure to ../Visualization/Job_Structures/Pre_VASP/VCrTiWZr_Summit/Gen_0-2/Vacancies/supercell_gen1_comp14_struct2_vac_site1_start.vasp\n",
      "Written start structure to ../Visualization/Job_Structures/Pre_VASP/VCrTiWZr_Summit/Gen_0-2/Vacancies/supercell_gen1_comp14_struct2_vac_site2_start.vasp\n",
      "Written start structure to ../Visualization/Job_Structures/Pre_VASP/VCrTiWZr_Summit/Gen_0-2/Vacancies/supercell_gen1_comp14_struct2_vac_site3_start.vasp\n",
      "Written start structure to ../Visualization/Job_Structures/Pre_VASP/VCrTiWZr_Summit/Gen_0-2/Vacancies/supercell_gen1_comp14_struct2_vac_site4_start.vasp\n",
      "Processing entry 53/84...\n",
      "Found target atoms for entry 53: [PeriodicSite: V (72.2, -28.47, 45.94) [5.632, -3.335, 5.179], PeriodicSite: V (56.14, 15.36, -2.722) [6.572, 1.815, 2.557], PeriodicSite: V (6.858, -15.02, 88.56) [-0.1553, -1.76, 7.824], PeriodicSite: V (42.51, -6.477, 97.89) [3.952, -0.7502, 10.43], PeriodicSite: V (21.65, 18.61, 35.45) [3.298, 2.194, 5.226]]\n",
      "Written start structure to ../Visualization/Job_Structures/Pre_VASP/VCrTiWZr_Summit/Gen_0-2/Vacancies/supercell_gen2_comp31_struct2_vac_site0_start.vasp\n",
      "Written start structure to ../Visualization/Job_Structures/Pre_VASP/VCrTiWZr_Summit/Gen_0-2/Vacancies/supercell_gen2_comp31_struct2_vac_site1_start.vasp\n",
      "Written start structure to ../Visualization/Job_Structures/Pre_VASP/VCrTiWZr_Summit/Gen_0-2/Vacancies/supercell_gen2_comp31_struct2_vac_site2_start.vasp\n",
      "Written start structure to ../Visualization/Job_Structures/Pre_VASP/VCrTiWZr_Summit/Gen_0-2/Vacancies/supercell_gen2_comp31_struct2_vac_site3_start.vasp\n",
      "Written start structure to ../Visualization/Job_Structures/Pre_VASP/VCrTiWZr_Summit/Gen_0-2/Vacancies/supercell_gen2_comp31_struct2_vac_site4_start.vasp\n",
      "Processing entry 54/84...\n",
      "Found target atoms for entry 54: [PeriodicSite: V (61.91, -10.22, 38.67) [5.688, -1.196, 5.211], PeriodicSite: V (0.522, 11.26, 46.42) [0.7201, 1.325, 5.135], PeriodicSite: V (29.58, 33.53, -31.16) [4.967, 3.936, -0.01679], PeriodicSite: V (-23.36, -4.204, 92.35) [-2.606, -0.4879, 7.824], PeriodicSite: V (117.0, -49.29, 15.92) [8.979, -5.783, 2.599]]\n",
      "Written start structure to ../Visualization/Job_Structures/Pre_VASP/VCrTiWZr_Summit/Gen_0-2/Vacancies/supercell_gen2_comp28_struct3_vac_site0_start.vasp\n",
      "Written start structure to ../Visualization/Job_Structures/Pre_VASP/VCrTiWZr_Summit/Gen_0-2/Vacancies/supercell_gen2_comp28_struct3_vac_site1_start.vasp\n",
      "Written start structure to ../Visualization/Job_Structures/Pre_VASP/VCrTiWZr_Summit/Gen_0-2/Vacancies/supercell_gen2_comp28_struct3_vac_site2_start.vasp\n",
      "Written start structure to ../Visualization/Job_Structures/Pre_VASP/VCrTiWZr_Summit/Gen_0-2/Vacancies/supercell_gen2_comp28_struct3_vac_site3_start.vasp\n",
      "Written start structure to ../Visualization/Job_Structures/Pre_VASP/VCrTiWZr_Summit/Gen_0-2/Vacancies/supercell_gen2_comp28_struct3_vac_site4_start.vasp\n",
      "Processing entry 55/84...\n",
      "Found target atoms for entry 55: [PeriodicSite: V (29.98, 33.39, -30.6) [4.995, 3.91, 0.04961], PeriodicSite: V (78.45, -54.03, 88.74) [4.778, -6.338, 7.925], PeriodicSite: V (94.41, -12.33, -0.1854) [8.847, -1.448, 2.442], PeriodicSite: V (46.38, -10.82, 18.21) [4.064, -1.271, 2.661], PeriodicSite: V (7.393, -14.94, 89.63) [-0.1386, -1.761, 7.898]]\n",
      "Written start structure to ../Visualization/Job_Structures/Pre_VASP/VCrTiWZr_Summit/Gen_0-2/Vacancies/supercell_gen1_comp22_struct2_vac_site0_start.vasp\n",
      "Written start structure to ../Visualization/Job_Structures/Pre_VASP/VCrTiWZr_Summit/Gen_0-2/Vacancies/supercell_gen1_comp22_struct2_vac_site1_start.vasp\n",
      "Written start structure to ../Visualization/Job_Structures/Pre_VASP/VCrTiWZr_Summit/Gen_0-2/Vacancies/supercell_gen1_comp22_struct2_vac_site2_start.vasp\n",
      "Written start structure to ../Visualization/Job_Structures/Pre_VASP/VCrTiWZr_Summit/Gen_0-2/Vacancies/supercell_gen1_comp22_struct2_vac_site3_start.vasp\n",
      "Written start structure to ../Visualization/Job_Structures/Pre_VASP/VCrTiWZr_Summit/Gen_0-2/Vacancies/supercell_gen1_comp22_struct2_vac_site4_start.vasp\n",
      "Processing entry 56/84...\n",
      "Found target atoms for entry 56: [PeriodicSite: V (81.79, -34.32, 100.6) [6.301, -4.034, 10.4], PeriodicSite: V (29.58, 33.49, -30.92) [4.965, 3.939, 0.01186], PeriodicSite: V (86.66, -38.58, 19.34) [6.528, -4.534, 2.534], PeriodicSite: V (2.659, -22.89, 121.9) [-1.052, -2.693, 10.43], PeriodicSite: Ti (52.53, -24.81, 105.1) [3.892, -2.917, 10.4]]\n",
      "Written start structure to ../Visualization/Job_Structures/Pre_VASP/VCrTiWZr_Summit/Gen_0-2/Vacancies/supercell_gen2_comp28_struct2_vac_site0_start.vasp\n",
      "Written start structure to ../Visualization/Job_Structures/Pre_VASP/VCrTiWZr_Summit/Gen_0-2/Vacancies/supercell_gen2_comp28_struct2_vac_site1_start.vasp\n",
      "Written start structure to ../Visualization/Job_Structures/Pre_VASP/VCrTiWZr_Summit/Gen_0-2/Vacancies/supercell_gen2_comp28_struct2_vac_site2_start.vasp\n",
      "Written start structure to ../Visualization/Job_Structures/Pre_VASP/VCrTiWZr_Summit/Gen_0-2/Vacancies/supercell_gen2_comp28_struct2_vac_site3_start.vasp\n",
      "Written start structure to ../Visualization/Job_Structures/Pre_VASP/VCrTiWZr_Summit/Gen_0-2/Vacancies/supercell_gen2_comp28_struct2_vac_site4_start.vasp\n",
      "Processing entry 57/84...\n",
      "Found target atoms for entry 57: [PeriodicSite: Ti (0.4224, 11.25, 47.51) [0.6942, 1.312, 5.197], PeriodicSite: V (56.99, -28.2, 25.99) [4.149, -3.311, 2.754], PeriodicSite: V (-10.31, 29.9, 40.1) [0.6884, 3.494, 5.216], PeriodicSite: V (37.59, -25.75, 85.57) [2.317, -3.021, 7.92], PeriodicSite: V (61.34, -9.768, 39.12) [5.662, -1.16, 5.227]]\n",
      "Written start structure to ../Visualization/Job_Structures/Pre_VASP/VCrTiWZr_Summit/Gen_0-2/Vacancies/supercell_gen2_comp31_struct3_vac_site0_start.vasp\n",
      "Written start structure to ../Visualization/Job_Structures/Pre_VASP/VCrTiWZr_Summit/Gen_0-2/Vacancies/supercell_gen2_comp31_struct3_vac_site1_start.vasp\n",
      "Written start structure to ../Visualization/Job_Structures/Pre_VASP/VCrTiWZr_Summit/Gen_0-2/Vacancies/supercell_gen2_comp31_struct3_vac_site2_start.vasp\n",
      "Written start structure to ../Visualization/Job_Structures/Pre_VASP/VCrTiWZr_Summit/Gen_0-2/Vacancies/supercell_gen2_comp31_struct3_vac_site3_start.vasp\n",
      "Written start structure to ../Visualization/Job_Structures/Pre_VASP/VCrTiWZr_Summit/Gen_0-2/Vacancies/supercell_gen2_comp31_struct3_vac_site4_start.vasp\n",
      "Processing entry 58/84...\n",
      "Found target atoms for entry 58: [PeriodicSite: V (-32.4, 56.0, -22.94) [0.0242, 6.496, -0.005051], PeriodicSite: V (-51.45, 58.54, 37.12) [-1.755, 6.794, 5.257], PeriodicSite: V (37.51, 18.5, 55.42) [4.848, 2.181, 7.642], PeriodicSite: V (9.642, 37.4, 27.98) [3.155, 4.361, 5.188], PeriodicSite: V (45.36, 33.27, -7.05) [6.513, 3.889, 2.786]]\n",
      "Written start structure to ../Visualization/Job_Structures/Pre_VASP/VCrTiWZr_Summit/Gen_0-2/Vacancies/supercell_gen2_comp26_struct1_vac_site0_start.vasp\n",
      "Written start structure to ../Visualization/Job_Structures/Pre_VASP/VCrTiWZr_Summit/Gen_0-2/Vacancies/supercell_gen2_comp26_struct1_vac_site1_start.vasp\n",
      "Written start structure to ../Visualization/Job_Structures/Pre_VASP/VCrTiWZr_Summit/Gen_0-2/Vacancies/supercell_gen2_comp26_struct1_vac_site2_start.vasp\n",
      "Written start structure to ../Visualization/Job_Structures/Pre_VASP/VCrTiWZr_Summit/Gen_0-2/Vacancies/supercell_gen2_comp26_struct1_vac_site3_start.vasp\n",
      "Written start structure to ../Visualization/Job_Structures/Pre_VASP/VCrTiWZr_Summit/Gen_0-2/Vacancies/supercell_gen2_comp26_struct1_vac_site4_start.vasp\n",
      "Processing entry 59/84...\n",
      "Found target atoms for entry 59: [PeriodicSite: V (72.92, -17.36, 93.3) [6.346, -2.067, 10.35], PeriodicSite: V (71.04, 16.16, 20.04) [8.117, 1.868, 5.24], PeriodicSite: V (47.29, 1.312, 64.68) [4.848, 0.1308, 7.842], PeriodicSite: V (30.77, 1.711, 43.87) [3.205, 0.1852, 5.323], PeriodicSite: Zr (-15.81, 54.35, -0.839) [1.571, 6.368, 2.56]]\n",
      "Written start structure to ../Visualization/Job_Structures/Pre_VASP/VCrTiWZr_Summit/Gen_0-2/Vacancies/supercell_gen0_comp8_struct3_vac_site0_start.vasp\n",
      "Written start structure to ../Visualization/Job_Structures/Pre_VASP/VCrTiWZr_Summit/Gen_0-2/Vacancies/supercell_gen0_comp8_struct3_vac_site1_start.vasp\n",
      "Written start structure to ../Visualization/Job_Structures/Pre_VASP/VCrTiWZr_Summit/Gen_0-2/Vacancies/supercell_gen0_comp8_struct3_vac_site2_start.vasp\n",
      "Written start structure to ../Visualization/Job_Structures/Pre_VASP/VCrTiWZr_Summit/Gen_0-2/Vacancies/supercell_gen0_comp8_struct3_vac_site3_start.vasp\n",
      "Written start structure to ../Visualization/Job_Structures/Pre_VASP/VCrTiWZr_Summit/Gen_0-2/Vacancies/supercell_gen0_comp8_struct3_vac_site4_start.vasp\n",
      "Processing entry 60/84...\n",
      "Found target atoms for entry 60: [PeriodicSite: Cr (20.54, 7.901, -12.22) [2.534, 0.9156, -0.01783], PeriodicSite: V (17.4, 11.29, 70.84) [2.398, 1.311, 7.977], PeriodicSite: V (-10.12, 30.36, 39.24) [0.7323, 3.537, 5.161], PeriodicSite: V (-4.606, 36.05, 7.109) [1.626, 4.198, 2.619], PeriodicSite: V (91.45, -31.46, -12.58) [7.407, -3.681, 0.02635]]\n",
      "Written start structure to ../Visualization/Job_Structures/Pre_VASP/VCrTiWZr_Summit/Gen_0-2/Vacancies/supercell_gen1_comp14_struct3_vac_site0_start.vasp\n",
      "Written start structure to ../Visualization/Job_Structures/Pre_VASP/VCrTiWZr_Summit/Gen_0-2/Vacancies/supercell_gen1_comp14_struct3_vac_site1_start.vasp\n",
      "Written start structure to ../Visualization/Job_Structures/Pre_VASP/VCrTiWZr_Summit/Gen_0-2/Vacancies/supercell_gen1_comp14_struct3_vac_site2_start.vasp\n",
      "Written start structure to ../Visualization/Job_Structures/Pre_VASP/VCrTiWZr_Summit/Gen_0-2/Vacancies/supercell_gen1_comp14_struct3_vac_site3_start.vasp\n",
      "Written start structure to ../Visualization/Job_Structures/Pre_VASP/VCrTiWZr_Summit/Gen_0-2/Vacancies/supercell_gen1_comp14_struct3_vac_site4_start.vasp\n",
      "Processing entry 61/84...\n",
      "Found target atoms for entry 61: [PeriodicSite: V (25.93, -6.414, 76.25) [2.274, -0.7602, 7.814], PeriodicSite: V (34.83, 7.797, 10.23) [4.012, 0.925, 2.632], PeriodicSite: V (15.75, -0.1563, 21.7) [1.599, -0.01802, 2.608], PeriodicSite: V (64.46, -1.403, 6.249) [6.487, -0.1565, 2.721], PeriodicSite: V (5.421, 28.6, 61.66) [2.254, 3.372, 7.781]]\n",
      "Written start structure to ../Visualization/Job_Structures/Pre_VASP/VCrTiWZr_Summit/Gen_0-2/Vacancies/supercell_gen1_comp13_struct1_vac_site0_start.vasp\n",
      "Written start structure to ../Visualization/Job_Structures/Pre_VASP/VCrTiWZr_Summit/Gen_0-2/Vacancies/supercell_gen1_comp13_struct1_vac_site1_start.vasp\n",
      "Written start structure to ../Visualization/Job_Structures/Pre_VASP/VCrTiWZr_Summit/Gen_0-2/Vacancies/supercell_gen1_comp13_struct1_vac_site2_start.vasp\n",
      "Written start structure to ../Visualization/Job_Structures/Pre_VASP/VCrTiWZr_Summit/Gen_0-2/Vacancies/supercell_gen1_comp13_struct1_vac_site3_start.vasp\n",
      "Written start structure to ../Visualization/Job_Structures/Pre_VASP/VCrTiWZr_Summit/Gen_0-2/Vacancies/supercell_gen1_comp13_struct1_vac_site4_start.vasp\n",
      "Processing entry 62/84...\n",
      "Found target atoms for entry 62: [PeriodicSite: V (-35.24, 47.0, 9.959) [-0.8199, 5.536, 2.533], PeriodicSite: V (11.98, 3.993, 101.1) [1.453, 0.4733, 10.37], PeriodicSite: V (4.967, 18.2, 14.36) [1.577, 2.144, 2.623], PeriodicSite: V (81.93, -45.98, 53.52) [5.632, -5.414, 5.221], PeriodicSite: Cr (-31.14, 54.16, -22.08) [0.01913, 6.377, 0.008878]]\n",
      "Written start structure to ../Visualization/Job_Structures/Pre_VASP/VCrTiWZr_Summit/Gen_0-2/Vacancies/supercell_gen0_comp1_struct2_vac_site0_start.vasp\n",
      "Written start structure to ../Visualization/Job_Structures/Pre_VASP/VCrTiWZr_Summit/Gen_0-2/Vacancies/supercell_gen0_comp1_struct2_vac_site1_start.vasp\n",
      "Written start structure to ../Visualization/Job_Structures/Pre_VASP/VCrTiWZr_Summit/Gen_0-2/Vacancies/supercell_gen0_comp1_struct2_vac_site2_start.vasp\n",
      "Written start structure to ../Visualization/Job_Structures/Pre_VASP/VCrTiWZr_Summit/Gen_0-2/Vacancies/supercell_gen0_comp1_struct2_vac_site3_start.vasp\n",
      "Written start structure to ../Visualization/Job_Structures/Pre_VASP/VCrTiWZr_Summit/Gen_0-2/Vacancies/supercell_gen0_comp1_struct2_vac_site4_start.vasp\n",
      "Processing entry 63/84...\n",
      "Found target atoms for entry 63: [PeriodicSite: V (-11.8, -24.18, 105.8) [-2.549, -2.745, 8.145], PeriodicSite: V (92.86, -21.53, 35.45) [8.013, -2.437, 5.175], PeriodicSite: V (70.68, -37.66, 82.65) [4.879, -4.286, 7.93], PeriodicSite: V (78.95, -22.28, 14.56) [6.577, -2.54, 2.703], PeriodicSite: V (-3.254, -8.065, 35.86) [-0.7823, -0.915, 2.792]]\n",
      "Written start structure to ../Visualization/Job_Structures/Pre_VASP/VCrTiWZr_Summit/Gen_0-2/Vacancies/supercell_gen1_comp20_struct3_vac_site0_start.vasp\n",
      "Written start structure to ../Visualization/Job_Structures/Pre_VASP/VCrTiWZr_Summit/Gen_0-2/Vacancies/supercell_gen1_comp20_struct3_vac_site1_start.vasp\n",
      "Written start structure to ../Visualization/Job_Structures/Pre_VASP/VCrTiWZr_Summit/Gen_0-2/Vacancies/supercell_gen1_comp20_struct3_vac_site2_start.vasp\n",
      "Written start structure to ../Visualization/Job_Structures/Pre_VASP/VCrTiWZr_Summit/Gen_0-2/Vacancies/supercell_gen1_comp20_struct3_vac_site3_start.vasp\n",
      "Written start structure to ../Visualization/Job_Structures/Pre_VASP/VCrTiWZr_Summit/Gen_0-2/Vacancies/supercell_gen1_comp20_struct3_vac_site4_start.vasp\n",
      "Processing entry 64/84...\n",
      "Found target atoms for entry 64: [PeriodicSite: V (93.2, -11.78, 0.4256) [8.801, -1.393, 2.503], PeriodicSite: V (105.2, -30.91, 8.457) [8.899, -3.641, 2.552], PeriodicSite: Cr (47.47, -42.96, 92.22) [2.308, -5.05, 7.884], PeriodicSite: V (-15.92, 54.59, -0.6695) [1.579, 6.412, 2.6], PeriodicSite: W (-7.575, -3.805, 114.3) [-1.004, -0.447, 10.43]]\n",
      "Written start structure to ../Visualization/Job_Structures/Pre_VASP/VCrTiWZr_Summit/Gen_0-2/Vacancies/supercell_gen2_comp23_struct2_vac_site0_start.vasp\n",
      "Written start structure to ../Visualization/Job_Structures/Pre_VASP/VCrTiWZr_Summit/Gen_0-2/Vacancies/supercell_gen2_comp23_struct2_vac_site1_start.vasp\n",
      "Written start structure to ../Visualization/Job_Structures/Pre_VASP/VCrTiWZr_Summit/Gen_0-2/Vacancies/supercell_gen2_comp23_struct2_vac_site2_start.vasp\n",
      "Written start structure to ../Visualization/Job_Structures/Pre_VASP/VCrTiWZr_Summit/Gen_0-2/Vacancies/supercell_gen2_comp23_struct2_vac_site3_start.vasp\n",
      "Written start structure to ../Visualization/Job_Structures/Pre_VASP/VCrTiWZr_Summit/Gen_0-2/Vacancies/supercell_gen2_comp23_struct2_vac_site4_start.vasp\n",
      "Processing entry 65/84...\n",
      "Found target atoms for entry 65: [PeriodicSite: V (-9.094, 29.25, 41.16) [0.7943, 3.426, 5.343], PeriodicSite: Cr (6.144, 29.37, 61.81) [2.344, 3.439, 7.84], PeriodicSite: V (102.7, -38.82, 41.64) [8.125, -4.557, 5.181], PeriodicSite: V (76.91, -21.68, 13.07) [6.513, -2.545, 2.579], PeriodicSite: V (57.52, -17.13, 71.7) [4.82, -2.015, 7.799]]\n",
      "Written start structure to ../Visualization/Job_Structures/Pre_VASP/VCrTiWZr_Summit/Gen_0-2/Vacancies/supercell_gen1_comp16_struct2_vac_site0_start.vasp\n",
      "Written start structure to ../Visualization/Job_Structures/Pre_VASP/VCrTiWZr_Summit/Gen_0-2/Vacancies/supercell_gen1_comp16_struct2_vac_site1_start.vasp\n",
      "Written start structure to ../Visualization/Job_Structures/Pre_VASP/VCrTiWZr_Summit/Gen_0-2/Vacancies/supercell_gen1_comp16_struct2_vac_site2_start.vasp\n",
      "Written start structure to ../Visualization/Job_Structures/Pre_VASP/VCrTiWZr_Summit/Gen_0-2/Vacancies/supercell_gen1_comp16_struct2_vac_site3_start.vasp\n",
      "Written start structure to ../Visualization/Job_Structures/Pre_VASP/VCrTiWZr_Summit/Gen_0-2/Vacancies/supercell_gen1_comp16_struct2_vac_site4_start.vasp\n",
      "Processing entry 66/84...\n",
      "Found target atoms for entry 66: [PeriodicSite: V (68.03, -35.65, 80.66) [4.787, -4.177, 7.872], PeriodicSite: V (51.92, -35.28, 58.69) [3.184, -4.129, 5.265], PeriodicSite: W (22.93, -14.47, 110.7) [1.468, -1.691, 10.45], PeriodicSite: V (57.91, -17.54, 73.77) [4.82, -2.06, 7.934], PeriodicSite: V (56.22, 15.95, -1.888) [6.599, 1.847, 2.633]]\n",
      "Written start structure to ../Visualization/Job_Structures/Pre_VASP/VCrTiWZr_Summit/Gen_0-2/Vacancies/supercell_gen0_comp3_struct3_vac_site0_start.vasp\n",
      "Written start structure to ../Visualization/Job_Structures/Pre_VASP/VCrTiWZr_Summit/Gen_0-2/Vacancies/supercell_gen0_comp3_struct3_vac_site1_start.vasp\n",
      "Written start structure to ../Visualization/Job_Structures/Pre_VASP/VCrTiWZr_Summit/Gen_0-2/Vacancies/supercell_gen0_comp3_struct3_vac_site2_start.vasp\n",
      "Written start structure to ../Visualization/Job_Structures/Pre_VASP/VCrTiWZr_Summit/Gen_0-2/Vacancies/supercell_gen0_comp3_struct3_vac_site3_start.vasp\n",
      "Written start structure to ../Visualization/Job_Structures/Pre_VASP/VCrTiWZr_Summit/Gen_0-2/Vacancies/supercell_gen0_comp3_struct3_vac_site4_start.vasp\n",
      "Processing entry 67/84...\n",
      "Found target atoms for entry 67: [PeriodicSite: W (-18.81, 3.119, 59.14) [-1.698, 0.3835, 5.201], PeriodicSite: V (42.47, -7.258, 98.56) [3.906, -0.8245, 10.44], PeriodicSite: V (2.609, -22.95, 122.4) [-1.041, -2.664, 10.44], PeriodicSite: V (21.24, -25.34, 62.48) [0.6816, -2.962, 5.2], PeriodicSite: V (-11.1, 61.53, -34.21) [2.484, 7.228, -0.01492]]\n",
      "Written start structure to ../Visualization/Job_Structures/Pre_VASP/VCrTiWZr_Summit/Gen_0-2/Vacancies/supercell_gen1_comp18_struct1_vac_site0_start.vasp\n",
      "Written start structure to ../Visualization/Job_Structures/Pre_VASP/VCrTiWZr_Summit/Gen_0-2/Vacancies/supercell_gen1_comp18_struct1_vac_site1_start.vasp\n",
      "Written start structure to ../Visualization/Job_Structures/Pre_VASP/VCrTiWZr_Summit/Gen_0-2/Vacancies/supercell_gen1_comp18_struct1_vac_site2_start.vasp\n",
      "Written start structure to ../Visualization/Job_Structures/Pre_VASP/VCrTiWZr_Summit/Gen_0-2/Vacancies/supercell_gen1_comp18_struct1_vac_site3_start.vasp\n",
      "Written start structure to ../Visualization/Job_Structures/Pre_VASP/VCrTiWZr_Summit/Gen_0-2/Vacancies/supercell_gen1_comp18_struct1_vac_site4_start.vasp\n",
      "Processing entry 68/84...\n",
      "Found target atoms for entry 68: [PeriodicSite: Cr (33.16, 12.09, 93.07) [4.003, 1.412, 10.58], PeriodicSite: V (45.53, -6.057, 99.71) [4.195, -0.6586, 10.58], PeriodicSite: V (101.0, -48.48, 77.5) [7.299, -5.5, 7.891], PeriodicSite: V (106.1, -41.31, 43.61) [8.219, -4.684, 5.274], PeriodicSite: V (10.97, -7.077, 54.84) [0.6862, -0.7957, 5.136]]\n",
      "Written start structure to ../Visualization/Job_Structures/Pre_VASP/VCrTiWZr_Summit/Gen_0-2/Vacancies/supercell_gen1_comp20_struct2_vac_site0_start.vasp\n",
      "Written start structure to ../Visualization/Job_Structures/Pre_VASP/VCrTiWZr_Summit/Gen_0-2/Vacancies/supercell_gen1_comp20_struct2_vac_site1_start.vasp\n",
      "Written start structure to ../Visualization/Job_Structures/Pre_VASP/VCrTiWZr_Summit/Gen_0-2/Vacancies/supercell_gen1_comp20_struct2_vac_site2_start.vasp\n",
      "Written start structure to ../Visualization/Job_Structures/Pre_VASP/VCrTiWZr_Summit/Gen_0-2/Vacancies/supercell_gen1_comp20_struct2_vac_site3_start.vasp\n",
      "Written start structure to ../Visualization/Job_Structures/Pre_VASP/VCrTiWZr_Summit/Gen_0-2/Vacancies/supercell_gen1_comp20_struct2_vac_site4_start.vasp\n",
      "Processing entry 69/84...\n",
      "Found target atoms for entry 69: [PeriodicSite: Cr (-12.18, -22.72, 101.2) [-2.559, -2.678, 7.93], PeriodicSite: Cr (-18.69, 14.23, 106.7) [-1.039, 1.68, 10.41], PeriodicSite: Ti (62.05, -42.48, 111.7) [3.799, -5.005, 10.28], PeriodicSite: V (-24.53, 39.03, 66.08) [-0.1732, 4.603, 7.79], PeriodicSite: V (36.17, 18.61, 57.01) [4.772, 2.197, 7.777]]\n",
      "Written start structure to ../Visualization/Job_Structures/Pre_VASP/VCrTiWZr_Summit/Gen_0-2/Vacancies/supercell_gen0_comp10_struct1_vac_site0_start.vasp\n",
      "Written start structure to ../Visualization/Job_Structures/Pre_VASP/VCrTiWZr_Summit/Gen_0-2/Vacancies/supercell_gen0_comp10_struct1_vac_site1_start.vasp\n",
      "Written start structure to ../Visualization/Job_Structures/Pre_VASP/VCrTiWZr_Summit/Gen_0-2/Vacancies/supercell_gen0_comp10_struct1_vac_site2_start.vasp\n",
      "Written start structure to ../Visualization/Job_Structures/Pre_VASP/VCrTiWZr_Summit/Gen_0-2/Vacancies/supercell_gen0_comp10_struct1_vac_site3_start.vasp\n",
      "Written start structure to ../Visualization/Job_Structures/Pre_VASP/VCrTiWZr_Summit/Gen_0-2/Vacancies/supercell_gen0_comp10_struct1_vac_site4_start.vasp\n",
      "Processing entry 70/84...\n",
      "Found target atoms for entry 70: [PeriodicSite: V (87.2, 4.975, -7.148) [9.065, 0.5788, 2.537], PeriodicSite: V (71.94, 4.411, -27.59) [7.496, 0.5131, 0.04413], PeriodicSite: V (88.65, -28.35, 68.91) [7.266, -3.319, 7.883], PeriodicSite: V (79.93, -54.33, 87.78) [4.871, -6.358, 7.869], PeriodicSite: V (40.58, 14.91, -22.12) [4.954, 1.742, 0.1272]]\n",
      "Written start structure to ../Visualization/Job_Structures/Pre_VASP/VCrTiWZr_Summit/Gen_0-2/Vacancies/supercell_gen0_comp3_struct2_vac_site0_start.vasp\n",
      "Written start structure to ../Visualization/Job_Structures/Pre_VASP/VCrTiWZr_Summit/Gen_0-2/Vacancies/supercell_gen0_comp3_struct2_vac_site1_start.vasp\n",
      "Written start structure to ../Visualization/Job_Structures/Pre_VASP/VCrTiWZr_Summit/Gen_0-2/Vacancies/supercell_gen0_comp3_struct2_vac_site2_start.vasp\n",
      "Written start structure to ../Visualization/Job_Structures/Pre_VASP/VCrTiWZr_Summit/Gen_0-2/Vacancies/supercell_gen0_comp3_struct2_vac_site3_start.vasp\n",
      "Written start structure to ../Visualization/Job_Structures/Pre_VASP/VCrTiWZr_Summit/Gen_0-2/Vacancies/supercell_gen0_comp3_struct2_vac_site4_start.vasp\n",
      "Processing entry 71/84...\n",
      "Found target atoms for entry 71: [PeriodicSite: V (70.56, 15.91, 19.89) [8.098, 1.875, 5.216], PeriodicSite: V (-20.84, 47.63, 33.08) [0.6685, 5.571, 5.261], PeriodicSite: V (85.02, 5.112, -5.495) [8.936, 0.6069, 2.64], PeriodicSite: V (68.64, -36.67, 81.27) [4.823, -4.247, 7.942], PeriodicSite: V (20.61, 19.32, 35.7) [3.223, 2.272, 5.248]]\n",
      "Written start structure to ../Visualization/Job_Structures/Pre_VASP/VCrTiWZr_Summit/Gen_0-2/Vacancies/supercell_gen1_comp16_struct3_vac_site0_start.vasp\n",
      "Written start structure to ../Visualization/Job_Structures/Pre_VASP/VCrTiWZr_Summit/Gen_0-2/Vacancies/supercell_gen1_comp16_struct3_vac_site1_start.vasp\n",
      "Written start structure to ../Visualization/Job_Structures/Pre_VASP/VCrTiWZr_Summit/Gen_0-2/Vacancies/supercell_gen1_comp16_struct3_vac_site2_start.vasp\n",
      "Written start structure to ../Visualization/Job_Structures/Pre_VASP/VCrTiWZr_Summit/Gen_0-2/Vacancies/supercell_gen1_comp16_struct3_vac_site3_start.vasp\n",
      "Written start structure to ../Visualization/Job_Structures/Pre_VASP/VCrTiWZr_Summit/Gen_0-2/Vacancies/supercell_gen1_comp16_struct3_vac_site4_start.vasp\n",
      "Processing entry 72/84...\n",
      "Found target atoms for entry 72: [PeriodicSite: V (52.71, -24.43, 104.7) [3.925, -2.885, 10.4], PeriodicSite: V (30.78, 0.8242, 43.05) [3.171, 0.08468, 5.218], PeriodicSite: V (35.83, 8.035, 9.05) [4.103, 0.9301, 2.548], PeriodicSite: W (77.37, -53.18, 87.04) [4.749, -6.259, 7.857], PeriodicSite: V (-50.11, 57.88, 36.66) [-1.706, 6.792, 5.207]]\n",
      "Written start structure to ../Visualization/Job_Structures/Pre_VASP/VCrTiWZr_Summit/Gen_0-2/Vacancies/supercell_gen2_comp23_struct3_vac_site0_start.vasp\n",
      "Written start structure to ../Visualization/Job_Structures/Pre_VASP/VCrTiWZr_Summit/Gen_0-2/Vacancies/supercell_gen2_comp23_struct3_vac_site1_start.vasp\n",
      "Written start structure to ../Visualization/Job_Structures/Pre_VASP/VCrTiWZr_Summit/Gen_0-2/Vacancies/supercell_gen2_comp23_struct3_vac_site2_start.vasp\n",
      "Written start structure to ../Visualization/Job_Structures/Pre_VASP/VCrTiWZr_Summit/Gen_0-2/Vacancies/supercell_gen2_comp23_struct3_vac_site3_start.vasp\n",
      "Written start structure to ../Visualization/Job_Structures/Pre_VASP/VCrTiWZr_Summit/Gen_0-2/Vacancies/supercell_gen2_comp23_struct3_vac_site4_start.vasp\n",
      "Processing entry 73/84...\n",
      "Found target atoms for entry 73: [PeriodicSite: V (-16.66, 54.28, -0.2562) [1.508, 6.377, 2.604], PeriodicSite: V (65.88, -2.946, 6.255) [6.511, -0.3347, 2.666], PeriodicSite: Ti (55.34, 15.36, -2.359) [6.519, 1.815, 2.558], PeriodicSite: V (35.79, 7.701, 9.679) [4.085, 0.9117, 2.598], PeriodicSite: V (46.72, -10.15, 16.75) [4.144, -1.183, 2.598]]\n",
      "Written start structure to ../Visualization/Job_Structures/Pre_VASP/VCrTiWZr_Summit/Gen_0-2/Vacancies/supercell_gen2_comp24_struct1_vac_site0_start.vasp\n",
      "Written start structure to ../Visualization/Job_Structures/Pre_VASP/VCrTiWZr_Summit/Gen_0-2/Vacancies/supercell_gen2_comp24_struct1_vac_site1_start.vasp\n",
      "Written start structure to ../Visualization/Job_Structures/Pre_VASP/VCrTiWZr_Summit/Gen_0-2/Vacancies/supercell_gen2_comp24_struct1_vac_site2_start.vasp\n",
      "Written start structure to ../Visualization/Job_Structures/Pre_VASP/VCrTiWZr_Summit/Gen_0-2/Vacancies/supercell_gen2_comp24_struct1_vac_site3_start.vasp\n",
      "Written start structure to ../Visualization/Job_Structures/Pre_VASP/VCrTiWZr_Summit/Gen_0-2/Vacancies/supercell_gen2_comp24_struct1_vac_site4_start.vasp\n",
      "Processing entry 74/84...\n",
      "Found target atoms for entry 74: [PeriodicSite: V (-13.96, 21.27, 74.16) [-0.1646, 2.494, 7.842], PeriodicSite: V (-3.745, 3.505, 81.6) [-0.1683, 0.4162, 7.857], PeriodicSite: W (63.34, -43.32, 114.0) [3.89, -5.062, 10.47], PeriodicSite: Zr (25.92, -18.13, 29.99) [1.567, -2.12, 2.673], PeriodicSite: V (22.0, -25.7, 63.96) [0.7293, -3.003, 5.335]]\n",
      "Written start structure to ../Visualization/Job_Structures/Pre_VASP/VCrTiWZr_Summit/Gen_0-2/Vacancies/supercell_gen0_comp11_struct1_vac_site0_start.vasp\n",
      "Written start structure to ../Visualization/Job_Structures/Pre_VASP/VCrTiWZr_Summit/Gen_0-2/Vacancies/supercell_gen0_comp11_struct1_vac_site1_start.vasp\n",
      "Written start structure to ../Visualization/Job_Structures/Pre_VASP/VCrTiWZr_Summit/Gen_0-2/Vacancies/supercell_gen0_comp11_struct1_vac_site2_start.vasp\n",
      "Written start structure to ../Visualization/Job_Structures/Pre_VASP/VCrTiWZr_Summit/Gen_0-2/Vacancies/supercell_gen0_comp11_struct1_vac_site3_start.vasp\n",
      "Written start structure to ../Visualization/Job_Structures/Pre_VASP/VCrTiWZr_Summit/Gen_0-2/Vacancies/supercell_gen0_comp11_struct1_vac_site4_start.vasp\n",
      "Processing entry 75/84...\n",
      "Found target atoms for entry 75: [PeriodicSite: V (31.45, 35.32, -31.52) [5.131, 4.045, 0.09948], PeriodicSite: Ti (4.739, 19.3, 15.54) [1.578, 2.205, 2.721], PeriodicSite: Zr (32.2, 0.9131, 43.98) [3.256, 0.09845, 5.263], PeriodicSite: V (74.56, -28.95, 45.15) [5.748, -3.316, 5.082], PeriodicSite: Cr (-32.97, 57.64, -21.77) [0.0233, 6.596, 0.1421]]\n",
      "Written start structure to ../Visualization/Job_Structures/Pre_VASP/VCrTiWZr_Summit/Gen_0-2/Vacancies/supercell_gen1_comp21_struct2_vac_site0_start.vasp\n",
      "Written start structure to ../Visualization/Job_Structures/Pre_VASP/VCrTiWZr_Summit/Gen_0-2/Vacancies/supercell_gen1_comp21_struct2_vac_site1_start.vasp\n",
      "Written start structure to ../Visualization/Job_Structures/Pre_VASP/VCrTiWZr_Summit/Gen_0-2/Vacancies/supercell_gen1_comp21_struct2_vac_site2_start.vasp\n",
      "Written start structure to ../Visualization/Job_Structures/Pre_VASP/VCrTiWZr_Summit/Gen_0-2/Vacancies/supercell_gen1_comp21_struct2_vac_site3_start.vasp\n",
      "Written start structure to ../Visualization/Job_Structures/Pre_VASP/VCrTiWZr_Summit/Gen_0-2/Vacancies/supercell_gen1_comp21_struct2_vac_site4_start.vasp\n",
      "Processing entry 76/84...\n",
      "Found target atoms for entry 76: [PeriodicSite: V (31.92, 1.404, 43.0) [3.298, 0.1532, 5.241], PeriodicSite: V (47.46, 1.149, 65.29) [4.849, 0.1183, 7.866], PeriodicSite: V (17.34, 11.34, 70.74) [2.396, 1.315, 7.971], PeriodicSite: V (76.71, -20.62, 13.64) [6.548, -2.427, 2.661], PeriodicSite: Cr (74.26, -28.85, 46.82) [5.818, -3.386, 5.259]]\n",
      "Written start structure to ../Visualization/Job_Structures/Pre_VASP/VCrTiWZr_Summit/Gen_0-2/Vacancies/supercell_gen1_comp17_struct3_vac_site0_start.vasp\n",
      "Written start structure to ../Visualization/Job_Structures/Pre_VASP/VCrTiWZr_Summit/Gen_0-2/Vacancies/supercell_gen1_comp17_struct3_vac_site1_start.vasp\n",
      "Written start structure to ../Visualization/Job_Structures/Pre_VASP/VCrTiWZr_Summit/Gen_0-2/Vacancies/supercell_gen1_comp17_struct3_vac_site2_start.vasp\n",
      "Written start structure to ../Visualization/Job_Structures/Pre_VASP/VCrTiWZr_Summit/Gen_0-2/Vacancies/supercell_gen1_comp17_struct3_vac_site3_start.vasp\n",
      "Written start structure to ../Visualization/Job_Structures/Pre_VASP/VCrTiWZr_Summit/Gen_0-2/Vacancies/supercell_gen1_comp17_struct3_vac_site4_start.vasp\n",
      "Processing entry 77/84...\n",
      "Found target atoms for entry 77: [PeriodicSite: V (30.36, -10.44, -4.3) [2.469, -1.226, 0.005162], PeriodicSite: V (-16.12, 54.56, -1.43) [1.569, 6.41, 2.525], PeriodicSite: Cr (47.96, -43.25, 91.57) [2.346, -5.072, 7.873], PeriodicSite: Cr (-31.27, 54.44, -22.16) [0.0196, 6.394, 0.01412], PeriodicSite: V (-24.27, 39.37, 65.9) [-0.138, 4.632, 7.816]]\n",
      "Written start structure to ../Visualization/Job_Structures/Pre_VASP/VCrTiWZr_Summit/Gen_0-2/Vacancies/supercell_gen0_comp2_struct2_vac_site0_start.vasp\n",
      "Written start structure to ../Visualization/Job_Structures/Pre_VASP/VCrTiWZr_Summit/Gen_0-2/Vacancies/supercell_gen0_comp2_struct2_vac_site1_start.vasp\n",
      "Written start structure to ../Visualization/Job_Structures/Pre_VASP/VCrTiWZr_Summit/Gen_0-2/Vacancies/supercell_gen0_comp2_struct2_vac_site2_start.vasp\n",
      "Written start structure to ../Visualization/Job_Structures/Pre_VASP/VCrTiWZr_Summit/Gen_0-2/Vacancies/supercell_gen0_comp2_struct2_vac_site3_start.vasp\n",
      "Written start structure to ../Visualization/Job_Structures/Pre_VASP/VCrTiWZr_Summit/Gen_0-2/Vacancies/supercell_gen0_comp2_struct2_vac_site4_start.vasp\n",
      "Processing entry 78/84...\n",
      "Found target atoms for entry 78: [PeriodicSite: V (87.85, -39.15, 20.35) [6.588, -4.584, 2.618], PeriodicSite: V (-31.8, 54.97, -22.19) [-0.0006928, 6.432, 0.02092], PeriodicSite: V (47.04, 0.909, 65.15) [4.809, 0.1024, 7.861], PeriodicSite: V (60.12, 23.32, -35.33) [7.435, 2.727, 0.01624], PeriodicSite: V (52.58, -35.84, 58.23) [3.22, -4.196, 5.239]]\n",
      "Written start structure to ../Visualization/Job_Structures/Pre_VASP/VCrTiWZr_Summit/Gen_0-2/Vacancies/supercell_gen2_comp32_struct3_vac_site0_start.vasp\n",
      "Written start structure to ../Visualization/Job_Structures/Pre_VASP/VCrTiWZr_Summit/Gen_0-2/Vacancies/supercell_gen2_comp32_struct3_vac_site1_start.vasp\n",
      "Written start structure to ../Visualization/Job_Structures/Pre_VASP/VCrTiWZr_Summit/Gen_0-2/Vacancies/supercell_gen2_comp32_struct3_vac_site2_start.vasp\n",
      "Written start structure to ../Visualization/Job_Structures/Pre_VASP/VCrTiWZr_Summit/Gen_0-2/Vacancies/supercell_gen2_comp32_struct3_vac_site3_start.vasp\n",
      "Written start structure to ../Visualization/Job_Structures/Pre_VASP/VCrTiWZr_Summit/Gen_0-2/Vacancies/supercell_gen2_comp32_struct3_vac_site4_start.vasp\n",
      "Processing entry 79/84...\n",
      "Found target atoms for entry 79: [PeriodicSite: V (42.07, -6.568, 96.5) [3.925, -0.7879, 10.35], PeriodicSite: V (35.96, 17.76, 56.98) [4.736, 2.101, 7.774], PeriodicSite: V (-13.53, 10.01, 25.45) [-0.7844, 1.186, 2.582], PeriodicSite: Cr (75.57, -9.442, 59.69) [7.171, -1.128, 7.779], PeriodicSite: V (34.82, 7.743, 9.968) [4.018, 0.9161, 2.611]]\n",
      "Written start structure to ../Visualization/Job_Structures/Pre_VASP/VCrTiWZr_Summit/Gen_0-2/Vacancies/supercell_gen2_comp25_struct1_vac_site0_start.vasp\n",
      "Written start structure to ../Visualization/Job_Structures/Pre_VASP/VCrTiWZr_Summit/Gen_0-2/Vacancies/supercell_gen2_comp25_struct1_vac_site1_start.vasp\n",
      "Written start structure to ../Visualization/Job_Structures/Pre_VASP/VCrTiWZr_Summit/Gen_0-2/Vacancies/supercell_gen2_comp25_struct1_vac_site2_start.vasp\n",
      "Written start structure to ../Visualization/Job_Structures/Pre_VASP/VCrTiWZr_Summit/Gen_0-2/Vacancies/supercell_gen2_comp25_struct1_vac_site3_start.vasp\n",
      "Written start structure to ../Visualization/Job_Structures/Pre_VASP/VCrTiWZr_Summit/Gen_0-2/Vacancies/supercell_gen2_comp25_struct1_vac_site4_start.vasp\n",
      "Processing entry 80/84...\n",
      "Found target atoms for entry 80: [PeriodicSite: V (-9.778, -15.33, 68.72) [-1.791, -1.744, 5.299], PeriodicSite: V (-42.18, 42.98, 47.06) [-1.694, 4.921, 5.492], PeriodicSite: Zr (-20.48, 15.7, 108.9) [-1.058, 1.804, 10.51], PeriodicSite: V (29.89, -33.51, 120.6) [1.133, -3.828, 10.5], PeriodicSite: V (102.3, -47.48, 73.53) [7.461, -5.446, 7.671]]\n",
      "Written start structure to ../Visualization/Job_Structures/Pre_VASP/VCrTiWZr_Summit/Gen_0-2/Vacancies/supercell_gen1_comp21_struct3_vac_site0_start.vasp\n",
      "Written start structure to ../Visualization/Job_Structures/Pre_VASP/VCrTiWZr_Summit/Gen_0-2/Vacancies/supercell_gen1_comp21_struct3_vac_site1_start.vasp\n",
      "Written start structure to ../Visualization/Job_Structures/Pre_VASP/VCrTiWZr_Summit/Gen_0-2/Vacancies/supercell_gen1_comp21_struct3_vac_site2_start.vasp\n",
      "Written start structure to ../Visualization/Job_Structures/Pre_VASP/VCrTiWZr_Summit/Gen_0-2/Vacancies/supercell_gen1_comp21_struct3_vac_site3_start.vasp\n",
      "Written start structure to ../Visualization/Job_Structures/Pre_VASP/VCrTiWZr_Summit/Gen_0-2/Vacancies/supercell_gen1_comp21_struct3_vac_site4_start.vasp\n",
      "Processing entry 81/84...\n",
      "Found target atoms for entry 81: [PeriodicSite: V (95.62, -12.95, 1.053) [8.933, -1.505, 2.566], PeriodicSite: V (-9.565, 29.58, 39.77) [0.7537, 3.452, 5.203], PeriodicSite: V (107.1, -31.67, 8.611) [9.004, -3.687, 2.582], PeriodicSite: W (31.12, 0.6438, 43.27) [3.187, 0.07888, 5.218], PeriodicSite: V (117.2, -49.7, 16.26) [8.976, -5.79, 2.601]]\n",
      "Written start structure to ../Visualization/Job_Structures/Pre_VASP/VCrTiWZr_Summit/Gen_0-2/Vacancies/supercell_gen2_comp32_struct2_vac_site0_start.vasp\n",
      "Written start structure to ../Visualization/Job_Structures/Pre_VASP/VCrTiWZr_Summit/Gen_0-2/Vacancies/supercell_gen2_comp32_struct2_vac_site1_start.vasp\n",
      "Written start structure to ../Visualization/Job_Structures/Pre_VASP/VCrTiWZr_Summit/Gen_0-2/Vacancies/supercell_gen2_comp32_struct2_vac_site2_start.vasp\n",
      "Written start structure to ../Visualization/Job_Structures/Pre_VASP/VCrTiWZr_Summit/Gen_0-2/Vacancies/supercell_gen2_comp32_struct2_vac_site3_start.vasp\n",
      "Written start structure to ../Visualization/Job_Structures/Pre_VASP/VCrTiWZr_Summit/Gen_0-2/Vacancies/supercell_gen2_comp32_struct2_vac_site4_start.vasp\n",
      "Processing entry 82/84...\n",
      "Found target atoms for entry 82: [PeriodicSite: V (77.43, -10.18, 60.25) [7.211, -1.169, 7.731], PeriodicSite: V (0.9156, 10.92, 48.64) [0.7393, 1.279, 5.283], PeriodicSite: Zr (-26.18, 40.63, 65.9) [-0.249, 4.743, 7.742], PeriodicSite: V (43.06, -17.98, 52.97) [3.295, -2.085, 5.425], PeriodicSite: V (-4.452, 35.79, 7.432) [1.644, 4.174, 2.647]]\n",
      "Written start structure to ../Visualization/Job_Structures/Pre_VASP/VCrTiWZr_Summit/Gen_0-2/Vacancies/supercell_gen1_comp19_struct1_vac_site0_start.vasp\n",
      "Written start structure to ../Visualization/Job_Structures/Pre_VASP/VCrTiWZr_Summit/Gen_0-2/Vacancies/supercell_gen1_comp19_struct1_vac_site1_start.vasp\n",
      "Written start structure to ../Visualization/Job_Structures/Pre_VASP/VCrTiWZr_Summit/Gen_0-2/Vacancies/supercell_gen1_comp19_struct1_vac_site2_start.vasp\n",
      "Written start structure to ../Visualization/Job_Structures/Pre_VASP/VCrTiWZr_Summit/Gen_0-2/Vacancies/supercell_gen1_comp19_struct1_vac_site3_start.vasp\n",
      "Written start structure to ../Visualization/Job_Structures/Pre_VASP/VCrTiWZr_Summit/Gen_0-2/Vacancies/supercell_gen1_comp19_struct1_vac_site4_start.vasp\n",
      "Processing entry 83/84...\n",
      "Found target atoms for entry 83: [PeriodicSite: V (9.588, 36.94, 28.01) [3.149, 4.338, 5.186], PeriodicSite: V (46.84, 0.5578, 64.42) [4.801, 0.08103, 7.808], PeriodicSite: V (-25.62, 29.14, 18.75) [-0.8902, 3.416, 2.644], PeriodicSite: V (16.24, 11.24, 68.7) [2.317, 1.329, 7.807], PeriodicSite: V (61.75, -10.46, 38.89) [5.666, -1.212, 5.216]]\n",
      "Written start structure to ../Visualization/Job_Structures/Pre_VASP/VCrTiWZr_Summit/Gen_0-2/Vacancies/supercell_gen0_comp2_struct3_vac_site0_start.vasp\n",
      "Written start structure to ../Visualization/Job_Structures/Pre_VASP/VCrTiWZr_Summit/Gen_0-2/Vacancies/supercell_gen0_comp2_struct3_vac_site1_start.vasp\n",
      "Written start structure to ../Visualization/Job_Structures/Pre_VASP/VCrTiWZr_Summit/Gen_0-2/Vacancies/supercell_gen0_comp2_struct3_vac_site2_start.vasp\n",
      "Written start structure to ../Visualization/Job_Structures/Pre_VASP/VCrTiWZr_Summit/Gen_0-2/Vacancies/supercell_gen0_comp2_struct3_vac_site3_start.vasp\n",
      "Written start structure to ../Visualization/Job_Structures/Pre_VASP/VCrTiWZr_Summit/Gen_0-2/Vacancies/supercell_gen0_comp2_struct3_vac_site4_start.vasp\n",
      "Processing entry 84/84...\n",
      "Found target atoms for entry 84: [PeriodicSite: Ti (52.82, -25.01, 106.4) [3.891, -2.921, 10.45], PeriodicSite: W (1.6, 9.754, 50.17) [0.749, 1.146, 5.402], PeriodicSite: Ti (-8.086, -3.829, 114.4) [-1.001, -0.4404, 10.39], PeriodicSite: V (22.58, 18.63, 37.7) [3.378, 2.185, 5.444], PeriodicSite: V (56.24, 15.77, -2.995) [6.589, 1.848, 2.544]]\n",
      "Written start structure to ../Visualization/Job_Structures/Pre_VASP/VCrTiWZr_Summit/Gen_0-2/Vacancies/supercell_gen1_comp17_struct2_vac_site0_start.vasp\n",
      "Written start structure to ../Visualization/Job_Structures/Pre_VASP/VCrTiWZr_Summit/Gen_0-2/Vacancies/supercell_gen1_comp17_struct2_vac_site1_start.vasp\n",
      "Written start structure to ../Visualization/Job_Structures/Pre_VASP/VCrTiWZr_Summit/Gen_0-2/Vacancies/supercell_gen1_comp17_struct2_vac_site2_start.vasp\n",
      "Written start structure to ../Visualization/Job_Structures/Pre_VASP/VCrTiWZr_Summit/Gen_0-2/Vacancies/supercell_gen1_comp17_struct2_vac_site3_start.vasp\n",
      "Written start structure to ../Visualization/Job_Structures/Pre_VASP/VCrTiWZr_Summit/Gen_0-2/Vacancies/supercell_gen1_comp17_struct2_vac_site4_start.vasp\n",
      "Computed entries saved to JSON file.\n"
     ]
    }
   ],
   "source": [
    "# Path to save the VASP job structures\n",
    "vasp_job_path = '../Visualization/Job_Structures/Pre_VASP/VCrTiWZr_Summit/Gen_0-2/Vacancies'\n",
    "a = 3.01\n",
    "\n",
    "# check if it exists, if not create it\n",
    "if not os.path.exists(vasp_job_path):\n",
    "    os.makedirs(vasp_job_path)\n",
    "\n",
    "# play around with start and end structures \n",
    "# Create and save structures with vacancies\n",
    "#create_and_save_structures(entries, N=5, job_path=vasp_job_path, neighbor_distance=1, cutoff_distance=1.75)\n",
    "create_start_structures(entries, N=5, job_path=vasp_job_path, cutoff_distance=1.75)"
   ]
  },
  {
   "cell_type": "markdown",
   "metadata": {},
   "source": [
    "Now create vasp vacancy calculation start jobs (isif = 3) from these folders"
   ]
  },
  {
   "cell_type": "code",
   "execution_count": 112,
   "metadata": {},
   "outputs": [
    {
     "name": "stdout",
     "output_type": "stream",
     "text": [
      "Processing file: supercell_gen1_comp17_struct2_vac_site4_start.vasp\n",
      "Created VASP job for supercell_gen1_comp17_struct2_vac_site4_start.vasp in ../Archived_Vasp_Jobs/VCrTiWZr_Summit/Gen_0-2/Vacancies/supercell_gen1_comp17_struct2_vac_site4_start\n",
      "Processing file: supercell_gen2_comp27_struct3_vac_site0_start.vasp\n",
      "Created VASP job for supercell_gen2_comp27_struct3_vac_site0_start.vasp in ../Archived_Vasp_Jobs/VCrTiWZr_Summit/Gen_0-2/Vacancies/supercell_gen2_comp27_struct3_vac_site0_start\n",
      "Processing file: supercell_gen2_comp28_struct3_vac_site3_start.vasp\n",
      "Created VASP job for supercell_gen2_comp28_struct3_vac_site3_start.vasp in ../Archived_Vasp_Jobs/VCrTiWZr_Summit/Gen_0-2/Vacancies/supercell_gen2_comp28_struct3_vac_site3_start\n",
      "Processing file: supercell_gen0_comp1_struct3_vac_site2_start.vasp\n",
      "Created VASP job for supercell_gen0_comp1_struct3_vac_site2_start.vasp in ../Archived_Vasp_Jobs/VCrTiWZr_Summit/Gen_0-2/Vacancies/supercell_gen0_comp1_struct3_vac_site2_start\n",
      "Processing file: supercell_gen1_comp19_struct2_vac_site4_start.vasp\n",
      "Created VASP job for supercell_gen1_comp19_struct2_vac_site4_start.vasp in ../Archived_Vasp_Jobs/VCrTiWZr_Summit/Gen_0-2/Vacancies/supercell_gen1_comp19_struct2_vac_site4_start\n",
      "Processing file: supercell_gen2_comp26_struct3_vac_site3_start.vasp\n",
      "Created VASP job for supercell_gen2_comp26_struct3_vac_site3_start.vasp in ../Archived_Vasp_Jobs/VCrTiWZr_Summit/Gen_0-2/Vacancies/supercell_gen2_comp26_struct3_vac_site3_start\n",
      "Processing file: supercell_gen1_comp15_struct2_vac_site2_start.vasp\n",
      "Created VASP job for supercell_gen1_comp15_struct2_vac_site2_start.vasp in ../Archived_Vasp_Jobs/VCrTiWZr_Summit/Gen_0-2/Vacancies/supercell_gen1_comp15_struct2_vac_site2_start\n",
      "Processing file: supercell_gen1_comp14_struct2_vac_site1_start.vasp\n",
      "Created VASP job for supercell_gen1_comp14_struct2_vac_site1_start.vasp in ../Archived_Vasp_Jobs/VCrTiWZr_Summit/Gen_0-2/Vacancies/supercell_gen1_comp14_struct2_vac_site1_start\n",
      "Processing file: supercell_gen0_comp3_struct3_vac_site4_start.vasp\n",
      "Created VASP job for supercell_gen0_comp3_struct3_vac_site4_start.vasp in ../Archived_Vasp_Jobs/VCrTiWZr_Summit/Gen_0-2/Vacancies/supercell_gen0_comp3_struct3_vac_site4_start\n",
      "Processing file: supercell_gen1_comp20_struct3_vac_site1_start.vasp\n",
      "Created VASP job for supercell_gen1_comp20_struct3_vac_site1_start.vasp in ../Archived_Vasp_Jobs/VCrTiWZr_Summit/Gen_0-2/Vacancies/supercell_gen1_comp20_struct3_vac_site1_start\n",
      "Processing file: supercell_gen2_comp32_struct3_vac_site0_start.vasp\n",
      "Created VASP job for supercell_gen2_comp32_struct3_vac_site0_start.vasp in ../Archived_Vasp_Jobs/VCrTiWZr_Summit/Gen_0-2/Vacancies/supercell_gen2_comp32_struct3_vac_site0_start\n",
      "Processing file: supercell_gen1_comp21_struct3_vac_site2_start.vasp\n",
      "Created VASP job for supercell_gen1_comp21_struct3_vac_site2_start.vasp in ../Archived_Vasp_Jobs/VCrTiWZr_Summit/Gen_0-2/Vacancies/supercell_gen1_comp21_struct3_vac_site2_start\n",
      "Processing file: supercell_gen2_comp24_struct1_vac_site4_start.vasp\n",
      "Created VASP job for supercell_gen2_comp24_struct1_vac_site4_start.vasp in ../Archived_Vasp_Jobs/VCrTiWZr_Summit/Gen_0-2/Vacancies/supercell_gen2_comp24_struct1_vac_site4_start\n",
      "Processing file: supercell_gen2_comp27_struct1_vac_site1_start.vasp\n",
      "Created VASP job for supercell_gen2_comp27_struct1_vac_site1_start.vasp in ../Archived_Vasp_Jobs/VCrTiWZr_Summit/Gen_0-2/Vacancies/supercell_gen2_comp27_struct1_vac_site1_start\n",
      "Processing file: supercell_gen2_comp28_struct1_vac_site2_start.vasp\n",
      "Created VASP job for supercell_gen2_comp28_struct1_vac_site2_start.vasp in ../Archived_Vasp_Jobs/VCrTiWZr_Summit/Gen_0-2/Vacancies/supercell_gen2_comp28_struct1_vac_site2_start\n",
      "Processing file: supercell_gen0_comp1_struct1_vac_site3_start.vasp\n",
      "Created VASP job for supercell_gen0_comp1_struct1_vac_site3_start.vasp in ../Archived_Vasp_Jobs/VCrTiWZr_Summit/Gen_0-2/Vacancies/supercell_gen0_comp1_struct1_vac_site3_start\n",
      "Processing file: supercell_gen2_comp26_struct1_vac_site2_start.vasp\n",
      "Created VASP job for supercell_gen2_comp26_struct1_vac_site2_start.vasp in ../Archived_Vasp_Jobs/VCrTiWZr_Summit/Gen_0-2/Vacancies/supercell_gen2_comp26_struct1_vac_site2_start\n",
      "Processing file: supercell_gen2_comp29_struct1_vac_site1_start.vasp\n",
      "Created VASP job for supercell_gen2_comp29_struct1_vac_site1_start.vasp in ../Archived_Vasp_Jobs/VCrTiWZr_Summit/Gen_0-2/Vacancies/supercell_gen2_comp29_struct1_vac_site1_start\n",
      "Processing file: supercell_gen0_comp5_struct2_vac_site1_start.vasp\n",
      "Created VASP job for supercell_gen0_comp5_struct2_vac_site1_start.vasp in ../Archived_Vasp_Jobs/VCrTiWZr_Summit/Gen_0-2/Vacancies/supercell_gen0_comp5_struct2_vac_site1_start\n",
      "Processing file: supercell_gen1_comp20_struct1_vac_site0_start.vasp\n",
      "Created VASP job for supercell_gen1_comp20_struct1_vac_site0_start.vasp in ../Archived_Vasp_Jobs/VCrTiWZr_Summit/Gen_0-2/Vacancies/supercell_gen1_comp20_struct1_vac_site0_start\n",
      "Processing file: supercell_gen0_comp12_struct2_vac_site2_start.vasp\n",
      "Created VASP job for supercell_gen0_comp12_struct2_vac_site2_start.vasp in ../Archived_Vasp_Jobs/VCrTiWZr_Summit/Gen_0-2/Vacancies/supercell_gen0_comp12_struct2_vac_site2_start\n",
      "Processing file: supercell_gen2_comp23_struct2_vac_site3_start.vasp\n",
      "Created VASP job for supercell_gen2_comp23_struct2_vac_site3_start.vasp in ../Archived_Vasp_Jobs/VCrTiWZr_Summit/Gen_0-2/Vacancies/supercell_gen2_comp23_struct2_vac_site3_start\n",
      "Processing file: supercell_gen2_comp32_struct1_vac_site1_start.vasp\n",
      "Created VASP job for supercell_gen2_comp32_struct1_vac_site1_start.vasp in ../Archived_Vasp_Jobs/VCrTiWZr_Summit/Gen_0-2/Vacancies/supercell_gen2_comp32_struct1_vac_site1_start\n",
      "Processing file: supercell_gen1_comp21_struct1_vac_site3_start.vasp\n",
      "Created VASP job for supercell_gen1_comp21_struct1_vac_site3_start.vasp in ../Archived_Vasp_Jobs/VCrTiWZr_Summit/Gen_0-2/Vacancies/supercell_gen1_comp21_struct1_vac_site3_start\n",
      "Processing file: supercell_gen2_comp31_struct1_vac_site4_start.vasp\n",
      "Created VASP job for supercell_gen2_comp31_struct1_vac_site4_start.vasp in ../Archived_Vasp_Jobs/VCrTiWZr_Summit/Gen_0-2/Vacancies/supercell_gen2_comp31_struct1_vac_site4_start\n",
      "Processing file: supercell_gen2_comp23_struct3_vac_site1_start.vasp\n",
      "Created VASP job for supercell_gen2_comp23_struct3_vac_site1_start.vasp in ../Archived_Vasp_Jobs/VCrTiWZr_Summit/Gen_0-2/Vacancies/supercell_gen2_comp23_struct3_vac_site1_start\n",
      "Processing file: supercell_gen0_comp4_struct3_vac_site0_start.vasp\n",
      "Created VASP job for supercell_gen0_comp4_struct3_vac_site0_start.vasp in ../Archived_Vasp_Jobs/VCrTiWZr_Summit/Gen_0-2/Vacancies/supercell_gen0_comp4_struct3_vac_site0_start\n",
      "Processing file: supercell_gen0_comp12_struct3_vac_site0_start.vasp\n",
      "Created VASP job for supercell_gen0_comp12_struct3_vac_site0_start.vasp in ../Archived_Vasp_Jobs/VCrTiWZr_Summit/Gen_0-2/Vacancies/supercell_gen0_comp12_struct3_vac_site0_start\n",
      "Processing file: supercell_gen0_comp5_struct3_vac_site3_start.vasp\n",
      "Created VASP job for supercell_gen0_comp5_struct3_vac_site3_start.vasp in ../Archived_Vasp_Jobs/VCrTiWZr_Summit/Gen_0-2/Vacancies/supercell_gen0_comp5_struct3_vac_site3_start\n",
      "Processing file: supercell_gen1_comp16_struct1_vac_site4_start.vasp\n",
      "Created VASP job for supercell_gen1_comp16_struct1_vac_site4_start.vasp in ../Archived_Vasp_Jobs/VCrTiWZr_Summit/Gen_0-2/Vacancies/supercell_gen1_comp16_struct1_vac_site4_start\n",
      "Processing file: supercell_gen1_comp18_struct1_vac_site4_start.vasp\n",
      "Created VASP job for supercell_gen1_comp18_struct1_vac_site4_start.vasp in ../Archived_Vasp_Jobs/VCrTiWZr_Summit/Gen_0-2/Vacancies/supercell_gen1_comp18_struct1_vac_site4_start\n",
      "Processing file: supercell_gen1_comp14_struct1_vac_site2_start.vasp\n",
      "Created VASP job for supercell_gen1_comp14_struct1_vac_site2_start.vasp in ../Archived_Vasp_Jobs/VCrTiWZr_Summit/Gen_0-2/Vacancies/supercell_gen1_comp14_struct1_vac_site2_start\n",
      "Processing file: supercell_gen1_comp15_struct1_vac_site1_start.vasp\n",
      "Created VASP job for supercell_gen1_comp15_struct1_vac_site1_start.vasp in ../Archived_Vasp_Jobs/VCrTiWZr_Summit/Gen_0-2/Vacancies/supercell_gen1_comp15_struct1_vac_site1_start\n",
      "Processing file: supercell_gen1_comp21_struct2_vac_site0_start.vasp\n",
      "Created VASP job for supercell_gen1_comp21_struct2_vac_site0_start.vasp in ../Archived_Vasp_Jobs/VCrTiWZr_Summit/Gen_0-2/Vacancies/supercell_gen1_comp21_struct2_vac_site0_start\n",
      "Processing file: supercell_gen2_comp32_struct2_vac_site2_start.vasp\n",
      "Created VASP job for supercell_gen2_comp32_struct2_vac_site2_start.vasp in ../Archived_Vasp_Jobs/VCrTiWZr_Summit/Gen_0-2/Vacancies/supercell_gen2_comp32_struct2_vac_site2_start\n",
      "Processing file: supercell_gen2_comp23_struct1_vac_site0_start.vasp\n",
      "Created VASP job for supercell_gen2_comp23_struct1_vac_site0_start.vasp in ../Archived_Vasp_Jobs/VCrTiWZr_Summit/Gen_0-2/Vacancies/supercell_gen2_comp23_struct1_vac_site0_start\n",
      "Processing file: supercell_gen1_comp20_struct2_vac_site3_start.vasp\n",
      "Created VASP job for supercell_gen1_comp20_struct2_vac_site3_start.vasp in ../Archived_Vasp_Jobs/VCrTiWZr_Summit/Gen_0-2/Vacancies/supercell_gen1_comp20_struct2_vac_site3_start\n",
      "Processing file: supercell_gen0_comp11_struct1_vac_site4_start.vasp\n",
      "Created VASP job for supercell_gen0_comp11_struct1_vac_site4_start.vasp in ../Archived_Vasp_Jobs/VCrTiWZr_Summit/Gen_0-2/Vacancies/supercell_gen0_comp11_struct1_vac_site4_start\n",
      "Processing file: supercell_gen2_comp30_struct2_vac_site4_start.vasp\n",
      "Created VASP job for supercell_gen2_comp30_struct2_vac_site4_start.vasp in ../Archived_Vasp_Jobs/VCrTiWZr_Summit/Gen_0-2/Vacancies/supercell_gen2_comp30_struct2_vac_site4_start\n",
      "Processing file: supercell_gen0_comp9_struct1_vac_site4_start.vasp\n",
      "Created VASP job for supercell_gen0_comp9_struct1_vac_site4_start.vasp in ../Archived_Vasp_Jobs/VCrTiWZr_Summit/Gen_0-2/Vacancies/supercell_gen0_comp9_struct1_vac_site4_start\n",
      "Processing file: supercell_gen1_comp14_struct3_vac_site3_start.vasp\n",
      "Created VASP job for supercell_gen1_comp14_struct3_vac_site3_start.vasp in ../Archived_Vasp_Jobs/VCrTiWZr_Summit/Gen_0-2/Vacancies/supercell_gen1_comp14_struct3_vac_site3_start\n",
      "Processing file: supercell_gen2_comp25_struct2_vac_site4_start.vasp\n",
      "Created VASP job for supercell_gen2_comp25_struct2_vac_site4_start.vasp in ../Archived_Vasp_Jobs/VCrTiWZr_Summit/Gen_0-2/Vacancies/supercell_gen2_comp25_struct2_vac_site4_start\n",
      "Processing file: supercell_gen1_comp15_struct3_vac_site0_start.vasp\n",
      "Created VASP job for supercell_gen1_comp15_struct3_vac_site0_start.vasp in ../Archived_Vasp_Jobs/VCrTiWZr_Summit/Gen_0-2/Vacancies/supercell_gen1_comp15_struct3_vac_site0_start\n",
      "Processing file: supercell_gen0_comp1_struct2_vac_site0_start.vasp\n",
      "Created VASP job for supercell_gen0_comp1_struct2_vac_site0_start.vasp in ../Archived_Vasp_Jobs/VCrTiWZr_Summit/Gen_0-2/Vacancies/supercell_gen0_comp1_struct2_vac_site0_start\n",
      "Processing file: supercell_gen2_comp29_struct2_vac_site2_start.vasp\n",
      "Created VASP job for supercell_gen2_comp29_struct2_vac_site2_start.vasp in ../Archived_Vasp_Jobs/VCrTiWZr_Summit/Gen_0-2/Vacancies/supercell_gen2_comp29_struct2_vac_site2_start\n",
      "Processing file: supercell_gen2_comp26_struct2_vac_site1_start.vasp\n",
      "Created VASP job for supercell_gen2_comp26_struct2_vac_site1_start.vasp in ../Archived_Vasp_Jobs/VCrTiWZr_Summit/Gen_0-2/Vacancies/supercell_gen2_comp26_struct2_vac_site1_start\n",
      "Processing file: supercell_gen2_comp28_struct2_vac_site1_start.vasp\n",
      "Created VASP job for supercell_gen2_comp28_struct2_vac_site1_start.vasp in ../Archived_Vasp_Jobs/VCrTiWZr_Summit/Gen_0-2/Vacancies/supercell_gen2_comp28_struct2_vac_site1_start\n",
      "Processing file: supercell_gen2_comp27_struct2_vac_site2_start.vasp\n",
      "Created VASP job for supercell_gen2_comp27_struct2_vac_site2_start.vasp in ../Archived_Vasp_Jobs/VCrTiWZr_Summit/Gen_0-2/Vacancies/supercell_gen2_comp27_struct2_vac_site2_start\n",
      "Processing file: supercell_gen1_comp17_struct1_vac_site2_start.vasp\n",
      "Created VASP job for supercell_gen1_comp17_struct1_vac_site2_start.vasp in ../Archived_Vasp_Jobs/VCrTiWZr_Summit/Gen_0-2/Vacancies/supercell_gen1_comp17_struct1_vac_site2_start\n",
      "Processing file: supercell_gen1_comp18_struct1_vac_site1_start.vasp\n",
      "Created VASP job for supercell_gen1_comp18_struct1_vac_site1_start.vasp in ../Archived_Vasp_Jobs/VCrTiWZr_Summit/Gen_0-2/Vacancies/supercell_gen1_comp18_struct1_vac_site1_start\n",
      "Processing file: supercell_gen1_comp16_struct1_vac_site1_start.vasp\n",
      "Created VASP job for supercell_gen1_comp16_struct1_vac_site1_start.vasp in ../Archived_Vasp_Jobs/VCrTiWZr_Summit/Gen_0-2/Vacancies/supercell_gen1_comp16_struct1_vac_site1_start\n",
      "Processing file: supercell_gen1_comp19_struct1_vac_site2_start.vasp\n",
      "Created VASP job for supercell_gen1_comp19_struct1_vac_site2_start.vasp in ../Archived_Vasp_Jobs/VCrTiWZr_Summit/Gen_0-2/Vacancies/supercell_gen1_comp19_struct1_vac_site2_start\n",
      "Processing file: supercell_gen1_comp15_struct1_vac_site4_start.vasp\n",
      "Created VASP job for supercell_gen1_comp15_struct1_vac_site4_start.vasp in ../Archived_Vasp_Jobs/VCrTiWZr_Summit/Gen_0-2/Vacancies/supercell_gen1_comp15_struct1_vac_site4_start\n",
      "Processing file: supercell_gen0_comp7_struct3_vac_site0_start.vasp\n",
      "Created VASP job for supercell_gen0_comp7_struct3_vac_site0_start.vasp in ../Archived_Vasp_Jobs/VCrTiWZr_Summit/Gen_0-2/Vacancies/supercell_gen0_comp7_struct3_vac_site0_start\n",
      "Processing file: supercell_gen0_comp8_struct3_vac_site3_start.vasp\n",
      "Created VASP job for supercell_gen0_comp8_struct3_vac_site3_start.vasp in ../Archived_Vasp_Jobs/VCrTiWZr_Summit/Gen_0-2/Vacancies/supercell_gen0_comp8_struct3_vac_site3_start\n",
      "Processing file: supercell_gen0_comp10_struct3_vac_site3_start.vasp\n",
      "Created VASP job for supercell_gen0_comp10_struct3_vac_site3_start.vasp in ../Archived_Vasp_Jobs/VCrTiWZr_Summit/Gen_0-2/Vacancies/supercell_gen0_comp10_struct3_vac_site3_start\n",
      "Processing file: supercell_gen0_comp6_struct3_vac_site3_start.vasp\n",
      "Created VASP job for supercell_gen0_comp6_struct3_vac_site3_start.vasp in ../Archived_Vasp_Jobs/VCrTiWZr_Summit/Gen_0-2/Vacancies/supercell_gen0_comp6_struct3_vac_site3_start\n",
      "Processing file: supercell_gen0_comp9_struct3_vac_site0_start.vasp\n",
      "Created VASP job for supercell_gen0_comp9_struct3_vac_site0_start.vasp in ../Archived_Vasp_Jobs/VCrTiWZr_Summit/Gen_0-2/Vacancies/supercell_gen0_comp9_struct3_vac_site0_start\n",
      "Processing file: supercell_gen0_comp11_struct3_vac_site0_start.vasp\n",
      "Created VASP job for supercell_gen0_comp11_struct3_vac_site0_start.vasp in ../Archived_Vasp_Jobs/VCrTiWZr_Summit/Gen_0-2/Vacancies/supercell_gen0_comp11_struct3_vac_site0_start\n",
      "Processing file: supercell_gen1_comp13_struct2_vac_site0_start.vasp\n",
      "Created VASP job for supercell_gen1_comp13_struct2_vac_site0_start.vasp in ../Archived_Vasp_Jobs/VCrTiWZr_Summit/Gen_0-2/Vacancies/supercell_gen1_comp13_struct2_vac_site0_start\n",
      "Processing file: supercell_gen2_comp23_struct3_vac_site4_start.vasp\n",
      "Created VASP job for supercell_gen2_comp23_struct3_vac_site4_start.vasp in ../Archived_Vasp_Jobs/VCrTiWZr_Summit/Gen_0-2/Vacancies/supercell_gen2_comp23_struct3_vac_site4_start\n",
      "Processing file: supercell_gen0_comp2_struct2_vac_site0_start.vasp\n",
      "Created VASP job for supercell_gen0_comp2_struct2_vac_site0_start.vasp in ../Archived_Vasp_Jobs/VCrTiWZr_Summit/Gen_0-2/Vacancies/supercell_gen0_comp2_struct2_vac_site0_start\n",
      "Processing file: supercell_gen2_comp25_struct2_vac_site1_start.vasp\n",
      "Created VASP job for supercell_gen2_comp25_struct2_vac_site1_start.vasp in ../Archived_Vasp_Jobs/VCrTiWZr_Summit/Gen_0-2/Vacancies/supercell_gen2_comp25_struct2_vac_site1_start\n",
      "Processing file: supercell_gen0_comp3_struct2_vac_site3_start.vasp\n",
      "Created VASP job for supercell_gen0_comp3_struct2_vac_site3_start.vasp in ../Archived_Vasp_Jobs/VCrTiWZr_Summit/Gen_0-2/Vacancies/supercell_gen0_comp3_struct2_vac_site3_start\n",
      "Processing file: supercell_gen2_comp24_struct2_vac_site2_start.vasp\n",
      "Created VASP job for supercell_gen2_comp24_struct2_vac_site2_start.vasp in ../Archived_Vasp_Jobs/VCrTiWZr_Summit/Gen_0-2/Vacancies/supercell_gen2_comp24_struct2_vac_site2_start\n",
      "Processing file: supercell_gen2_comp28_struct2_vac_site4_start.vasp\n",
      "Created VASP job for supercell_gen2_comp28_struct2_vac_site4_start.vasp in ../Archived_Vasp_Jobs/VCrTiWZr_Summit/Gen_0-2/Vacancies/supercell_gen2_comp28_struct2_vac_site4_start\n",
      "Processing file: supercell_gen1_comp17_struct3_vac_site3_start.vasp\n",
      "Created VASP job for supercell_gen1_comp17_struct3_vac_site3_start.vasp in ../Archived_Vasp_Jobs/VCrTiWZr_Summit/Gen_0-2/Vacancies/supercell_gen1_comp17_struct3_vac_site3_start\n",
      "Processing file: supercell_gen1_comp18_struct3_vac_site0_start.vasp\n",
      "Created VASP job for supercell_gen1_comp18_struct3_vac_site0_start.vasp in ../Archived_Vasp_Jobs/VCrTiWZr_Summit/Gen_0-2/Vacancies/supercell_gen1_comp18_struct3_vac_site0_start\n",
      "Processing file: supercell_gen2_comp26_struct2_vac_site4_start.vasp\n",
      "Created VASP job for supercell_gen2_comp26_struct2_vac_site4_start.vasp in ../Archived_Vasp_Jobs/VCrTiWZr_Summit/Gen_0-2/Vacancies/supercell_gen2_comp26_struct2_vac_site4_start\n",
      "Processing file: supercell_gen1_comp16_struct3_vac_site0_start.vasp\n",
      "Created VASP job for supercell_gen1_comp16_struct3_vac_site0_start.vasp in ../Archived_Vasp_Jobs/VCrTiWZr_Summit/Gen_0-2/Vacancies/supercell_gen1_comp16_struct3_vac_site0_start\n",
      "Processing file: supercell_gen1_comp19_struct3_vac_site3_start.vasp\n",
      "Created VASP job for supercell_gen1_comp19_struct3_vac_site3_start.vasp in ../Archived_Vasp_Jobs/VCrTiWZr_Summit/Gen_0-2/Vacancies/supercell_gen1_comp19_struct3_vac_site3_start\n",
      "Processing file: supercell_gen1_comp22_struct2_vac_site0_start.vasp\n",
      "Created VASP job for supercell_gen1_comp22_struct2_vac_site0_start.vasp in ../Archived_Vasp_Jobs/VCrTiWZr_Summit/Gen_0-2/Vacancies/supercell_gen1_comp22_struct2_vac_site0_start\n",
      "Processing file: supercell_gen2_comp31_struct2_vac_site2_start.vasp\n",
      "Created VASP job for supercell_gen2_comp31_struct2_vac_site2_start.vasp in ../Archived_Vasp_Jobs/VCrTiWZr_Summit/Gen_0-2/Vacancies/supercell_gen2_comp31_struct2_vac_site2_start\n",
      "Processing file: supercell_gen0_comp8_struct1_vac_site2_start.vasp\n",
      "Created VASP job for supercell_gen0_comp8_struct1_vac_site2_start.vasp in ../Archived_Vasp_Jobs/VCrTiWZr_Summit/Gen_0-2/Vacancies/supercell_gen0_comp8_struct1_vac_site2_start\n",
      "Processing file: supercell_gen0_comp10_struct1_vac_site2_start.vasp\n",
      "Created VASP job for supercell_gen0_comp10_struct1_vac_site2_start.vasp in ../Archived_Vasp_Jobs/VCrTiWZr_Summit/Gen_0-2/Vacancies/supercell_gen0_comp10_struct1_vac_site2_start\n",
      "Processing file: supercell_gen2_comp30_struct2_vac_site1_start.vasp\n",
      "Created VASP job for supercell_gen2_comp30_struct2_vac_site1_start.vasp in ../Archived_Vasp_Jobs/VCrTiWZr_Summit/Gen_0-2/Vacancies/supercell_gen2_comp30_struct2_vac_site1_start\n",
      "Processing file: supercell_gen0_comp9_struct1_vac_site1_start.vasp\n",
      "Created VASP job for supercell_gen0_comp9_struct1_vac_site1_start.vasp in ../Archived_Vasp_Jobs/VCrTiWZr_Summit/Gen_0-2/Vacancies/supercell_gen0_comp9_struct1_vac_site1_start\n",
      "Processing file: supercell_gen0_comp11_struct1_vac_site1_start.vasp\n",
      "Created VASP job for supercell_gen0_comp11_struct1_vac_site1_start.vasp in ../Archived_Vasp_Jobs/VCrTiWZr_Summit/Gen_0-2/Vacancies/supercell_gen0_comp11_struct1_vac_site1_start\n",
      "Processing file: supercell_gen2_comp30_struct3_vac_site3_start.vasp\n",
      "Created VASP job for supercell_gen2_comp30_struct3_vac_site3_start.vasp in ../Archived_Vasp_Jobs/VCrTiWZr_Summit/Gen_0-2/Vacancies/supercell_gen2_comp30_struct3_vac_site3_start\n",
      "Processing file: supercell_gen2_comp31_struct3_vac_site0_start.vasp\n",
      "Created VASP job for supercell_gen2_comp31_struct3_vac_site0_start.vasp in ../Archived_Vasp_Jobs/VCrTiWZr_Summit/Gen_0-2/Vacancies/supercell_gen2_comp31_struct3_vac_site0_start\n",
      "Processing file: supercell_gen1_comp22_struct3_vac_site2_start.vasp\n",
      "Created VASP job for supercell_gen1_comp22_struct3_vac_site2_start.vasp in ../Archived_Vasp_Jobs/VCrTiWZr_Summit/Gen_0-2/Vacancies/supercell_gen1_comp22_struct3_vac_site2_start\n",
      "Processing file: supercell_gen1_comp13_struct1_vac_site3_start.vasp\n",
      "Created VASP job for supercell_gen1_comp13_struct1_vac_site3_start.vasp in ../Archived_Vasp_Jobs/VCrTiWZr_Summit/Gen_0-2/Vacancies/supercell_gen1_comp13_struct1_vac_site3_start\n",
      "Processing file: supercell_gen1_comp20_struct3_vac_site4_start.vasp\n",
      "Created VASP job for supercell_gen1_comp20_struct3_vac_site4_start.vasp in ../Archived_Vasp_Jobs/VCrTiWZr_Summit/Gen_0-2/Vacancies/supercell_gen1_comp20_struct3_vac_site4_start\n",
      "Processing file: supercell_gen1_comp19_struct2_vac_site1_start.vasp\n",
      "Created VASP job for supercell_gen1_comp19_struct2_vac_site1_start.vasp in ../Archived_Vasp_Jobs/VCrTiWZr_Summit/Gen_0-2/Vacancies/supercell_gen1_comp19_struct2_vac_site1_start\n",
      "Processing file: supercell_gen1_comp16_struct2_vac_site2_start.vasp\n",
      "Created VASP job for supercell_gen1_comp16_struct2_vac_site2_start.vasp in ../Archived_Vasp_Jobs/VCrTiWZr_Summit/Gen_0-2/Vacancies/supercell_gen1_comp16_struct2_vac_site2_start\n",
      "Processing file: supercell_gen1_comp18_struct2_vac_site2_start.vasp\n",
      "Created VASP job for supercell_gen1_comp18_struct2_vac_site2_start.vasp in ../Archived_Vasp_Jobs/VCrTiWZr_Summit/Gen_0-2/Vacancies/supercell_gen1_comp18_struct2_vac_site2_start\n",
      "Processing file: supercell_gen1_comp17_struct2_vac_site1_start.vasp\n",
      "Created VASP job for supercell_gen1_comp17_struct2_vac_site1_start.vasp in ../Archived_Vasp_Jobs/VCrTiWZr_Summit/Gen_0-2/Vacancies/supercell_gen1_comp17_struct2_vac_site1_start\n",
      "Processing file: supercell_gen1_comp14_struct2_vac_site4_start.vasp\n",
      "Created VASP job for supercell_gen1_comp14_struct2_vac_site4_start.vasp in ../Archived_Vasp_Jobs/VCrTiWZr_Summit/Gen_0-2/Vacancies/supercell_gen1_comp14_struct2_vac_site4_start\n",
      "Processing file: supercell_gen0_comp3_struct3_vac_site1_start.vasp\n",
      "Created VASP job for supercell_gen0_comp3_struct3_vac_site1_start.vasp in ../Archived_Vasp_Jobs/VCrTiWZr_Summit/Gen_0-2/Vacancies/supercell_gen0_comp3_struct3_vac_site1_start\n",
      "Processing file: supercell_gen2_comp24_struct3_vac_site0_start.vasp\n",
      "Created VASP job for supercell_gen2_comp24_struct3_vac_site0_start.vasp in ../Archived_Vasp_Jobs/VCrTiWZr_Summit/Gen_0-2/Vacancies/supercell_gen2_comp24_struct3_vac_site0_start\n",
      "Processing file: supercell_gen0_comp2_struct3_vac_site2_start.vasp\n",
      "Created VASP job for supercell_gen0_comp2_struct3_vac_site2_start.vasp in ../Archived_Vasp_Jobs/VCrTiWZr_Summit/Gen_0-2/Vacancies/supercell_gen0_comp2_struct3_vac_site2_start\n",
      "Processing file: supercell_gen2_comp25_struct3_vac_site3_start.vasp\n",
      "Created VASP job for supercell_gen2_comp25_struct3_vac_site3_start.vasp in ../Archived_Vasp_Jobs/VCrTiWZr_Summit/Gen_0-2/Vacancies/supercell_gen2_comp25_struct3_vac_site3_start\n",
      "Processing file: supercell_gen2_comp32_struct1_vac_site4_start.vasp\n",
      "Created VASP job for supercell_gen2_comp32_struct1_vac_site4_start.vasp in ../Archived_Vasp_Jobs/VCrTiWZr_Summit/Gen_0-2/Vacancies/supercell_gen2_comp32_struct1_vac_site4_start\n",
      "Processing file: supercell_gen0_comp5_struct2_vac_site4_start.vasp\n",
      "Created VASP job for supercell_gen0_comp5_struct2_vac_site4_start.vasp in ../Archived_Vasp_Jobs/VCrTiWZr_Summit/Gen_0-2/Vacancies/supercell_gen0_comp5_struct2_vac_site4_start\n",
      "Processing file: supercell_gen0_comp11_struct2_vac_site2_start.vasp\n",
      "Created VASP job for supercell_gen0_comp11_struct2_vac_site2_start.vasp in ../Archived_Vasp_Jobs/VCrTiWZr_Summit/Gen_0-2/Vacancies/supercell_gen0_comp11_struct2_vac_site2_start\n",
      "Processing file: supercell_gen0_comp9_struct2_vac_site2_start.vasp\n",
      "Created VASP job for supercell_gen0_comp9_struct2_vac_site2_start.vasp in ../Archived_Vasp_Jobs/VCrTiWZr_Summit/Gen_0-2/Vacancies/supercell_gen0_comp9_struct2_vac_site2_start\n",
      "Processing file: supercell_gen2_comp30_struct1_vac_site2_start.vasp\n",
      "Created VASP job for supercell_gen2_comp30_struct1_vac_site2_start.vasp in ../Archived_Vasp_Jobs/VCrTiWZr_Summit/Gen_0-2/Vacancies/supercell_gen2_comp30_struct1_vac_site2_start\n",
      "Processing file: supercell_gen2_comp31_struct1_vac_site1_start.vasp\n",
      "Created VASP job for supercell_gen2_comp31_struct1_vac_site1_start.vasp in ../Archived_Vasp_Jobs/VCrTiWZr_Summit/Gen_0-2/Vacancies/supercell_gen2_comp31_struct1_vac_site1_start\n",
      "Processing file: supercell_gen1_comp22_struct1_vac_site3_start.vasp\n",
      "Created VASP job for supercell_gen1_comp22_struct1_vac_site3_start.vasp in ../Archived_Vasp_Jobs/VCrTiWZr_Summit/Gen_0-2/Vacancies/supercell_gen1_comp22_struct1_vac_site3_start\n",
      "Processing file: supercell_gen0_comp3_struct1_vac_site0_start.vasp\n",
      "Created VASP job for supercell_gen0_comp3_struct1_vac_site0_start.vasp in ../Archived_Vasp_Jobs/VCrTiWZr_Summit/Gen_0-2/Vacancies/supercell_gen0_comp3_struct1_vac_site0_start\n",
      "Processing file: supercell_gen2_comp24_struct1_vac_site1_start.vasp\n",
      "Created VASP job for supercell_gen2_comp24_struct1_vac_site1_start.vasp in ../Archived_Vasp_Jobs/VCrTiWZr_Summit/Gen_0-2/Vacancies/supercell_gen2_comp24_struct1_vac_site1_start\n",
      "Processing file: supercell_gen0_comp2_struct1_vac_site3_start.vasp\n",
      "Created VASP job for supercell_gen0_comp2_struct1_vac_site3_start.vasp in ../Archived_Vasp_Jobs/VCrTiWZr_Summit/Gen_0-2/Vacancies/supercell_gen0_comp2_struct1_vac_site3_start\n",
      "Processing file: supercell_gen2_comp25_struct1_vac_site2_start.vasp\n",
      "Created VASP job for supercell_gen2_comp25_struct1_vac_site2_start.vasp in ../Archived_Vasp_Jobs/VCrTiWZr_Summit/Gen_0-2/Vacancies/supercell_gen2_comp25_struct1_vac_site2_start\n",
      "Processing file: supercell_gen2_comp29_struct1_vac_site4_start.vasp\n",
      "Created VASP job for supercell_gen2_comp29_struct1_vac_site4_start.vasp in ../Archived_Vasp_Jobs/VCrTiWZr_Summit/Gen_0-2/Vacancies/supercell_gen2_comp29_struct1_vac_site4_start\n",
      "Processing file: supercell_gen2_comp27_struct1_vac_site4_start.vasp\n",
      "Created VASP job for supercell_gen2_comp27_struct1_vac_site4_start.vasp in ../Archived_Vasp_Jobs/VCrTiWZr_Summit/Gen_0-2/Vacancies/supercell_gen2_comp27_struct1_vac_site4_start\n",
      "Processing file: supercell_gen0_comp2_struct1_vac_site4_start.vasp\n",
      "Created VASP job for supercell_gen0_comp2_struct1_vac_site4_start.vasp in ../Archived_Vasp_Jobs/VCrTiWZr_Summit/Gen_0-2/Vacancies/supercell_gen0_comp2_struct1_vac_site4_start\n",
      "Processing file: supercell_gen2_comp27_struct1_vac_site3_start.vasp\n",
      "Created VASP job for supercell_gen2_comp27_struct1_vac_site3_start.vasp in ../Archived_Vasp_Jobs/VCrTiWZr_Summit/Gen_0-2/Vacancies/supercell_gen2_comp27_struct1_vac_site3_start\n",
      "Processing file: supercell_gen2_comp28_struct1_vac_site0_start.vasp\n",
      "Created VASP job for supercell_gen2_comp28_struct1_vac_site0_start.vasp in ../Archived_Vasp_Jobs/VCrTiWZr_Summit/Gen_0-2/Vacancies/supercell_gen2_comp28_struct1_vac_site0_start\n",
      "Processing file: supercell_gen2_comp26_struct1_vac_site0_start.vasp\n",
      "Created VASP job for supercell_gen2_comp26_struct1_vac_site0_start.vasp in ../Archived_Vasp_Jobs/VCrTiWZr_Summit/Gen_0-2/Vacancies/supercell_gen2_comp26_struct1_vac_site0_start\n",
      "Processing file: supercell_gen2_comp29_struct1_vac_site3_start.vasp\n",
      "Created VASP job for supercell_gen2_comp29_struct1_vac_site3_start.vasp in ../Archived_Vasp_Jobs/VCrTiWZr_Summit/Gen_0-2/Vacancies/supercell_gen2_comp29_struct1_vac_site3_start\n",
      "Processing file: supercell_gen0_comp1_struct1_vac_site1_start.vasp\n",
      "Created VASP job for supercell_gen0_comp1_struct1_vac_site1_start.vasp in ../Archived_Vasp_Jobs/VCrTiWZr_Summit/Gen_0-2/Vacancies/supercell_gen0_comp1_struct1_vac_site1_start\n",
      "Processing file: supercell_gen0_comp12_struct2_vac_site0_start.vasp\n",
      "Created VASP job for supercell_gen0_comp12_struct2_vac_site0_start.vasp in ../Archived_Vasp_Jobs/VCrTiWZr_Summit/Gen_0-2/Vacancies/supercell_gen0_comp12_struct2_vac_site0_start\n",
      "Processing file: supercell_gen1_comp20_struct1_vac_site2_start.vasp\n",
      "Created VASP job for supercell_gen1_comp20_struct1_vac_site2_start.vasp in ../Archived_Vasp_Jobs/VCrTiWZr_Summit/Gen_0-2/Vacancies/supercell_gen1_comp20_struct1_vac_site2_start\n",
      "Processing file: supercell_gen0_comp5_struct2_vac_site3_start.vasp\n",
      "Created VASP job for supercell_gen0_comp5_struct2_vac_site3_start.vasp in ../Archived_Vasp_Jobs/VCrTiWZr_Summit/Gen_0-2/Vacancies/supercell_gen0_comp5_struct2_vac_site3_start\n",
      "Processing file: supercell_gen2_comp32_struct1_vac_site3_start.vasp\n",
      "Created VASP job for supercell_gen2_comp32_struct1_vac_site3_start.vasp in ../Archived_Vasp_Jobs/VCrTiWZr_Summit/Gen_0-2/Vacancies/supercell_gen2_comp32_struct1_vac_site3_start\n",
      "Processing file: supercell_gen1_comp21_struct1_vac_site1_start.vasp\n",
      "Created VASP job for supercell_gen1_comp21_struct1_vac_site1_start.vasp in ../Archived_Vasp_Jobs/VCrTiWZr_Summit/Gen_0-2/Vacancies/supercell_gen1_comp21_struct1_vac_site1_start\n",
      "Processing file: supercell_gen2_comp23_struct2_vac_site1_start.vasp\n",
      "Created VASP job for supercell_gen2_comp23_struct2_vac_site1_start.vasp in ../Archived_Vasp_Jobs/VCrTiWZr_Summit/Gen_0-2/Vacancies/supercell_gen2_comp23_struct2_vac_site1_start\n",
      "Processing file: supercell_gen1_comp22_struct1_vac_site4_start.vasp\n",
      "Created VASP job for supercell_gen1_comp22_struct1_vac_site4_start.vasp in ../Archived_Vasp_Jobs/VCrTiWZr_Summit/Gen_0-2/Vacancies/supercell_gen1_comp22_struct1_vac_site4_start\n",
      "Processing file: supercell_gen2_comp27_struct3_vac_site2_start.vasp\n",
      "Created VASP job for supercell_gen2_comp27_struct3_vac_site2_start.vasp in ../Archived_Vasp_Jobs/VCrTiWZr_Summit/Gen_0-2/Vacancies/supercell_gen2_comp27_struct3_vac_site2_start\n",
      "Processing file: supercell_gen2_comp28_struct3_vac_site1_start.vasp\n",
      "Created VASP job for supercell_gen2_comp28_struct3_vac_site1_start.vasp in ../Archived_Vasp_Jobs/VCrTiWZr_Summit/Gen_0-2/Vacancies/supercell_gen2_comp28_struct3_vac_site1_start\n",
      "Processing file: supercell_gen2_comp26_struct3_vac_site1_start.vasp\n",
      "Created VASP job for supercell_gen2_comp26_struct3_vac_site1_start.vasp in ../Archived_Vasp_Jobs/VCrTiWZr_Summit/Gen_0-2/Vacancies/supercell_gen2_comp26_struct3_vac_site1_start\n",
      "Processing file: supercell_gen0_comp1_struct3_vac_site0_start.vasp\n",
      "Created VASP job for supercell_gen0_comp1_struct3_vac_site0_start.vasp in ../Archived_Vasp_Jobs/VCrTiWZr_Summit/Gen_0-2/Vacancies/supercell_gen0_comp1_struct3_vac_site0_start\n",
      "Processing file: supercell_gen1_comp15_struct2_vac_site0_start.vasp\n",
      "Created VASP job for supercell_gen1_comp15_struct2_vac_site0_start.vasp in ../Archived_Vasp_Jobs/VCrTiWZr_Summit/Gen_0-2/Vacancies/supercell_gen1_comp15_struct2_vac_site0_start\n",
      "Processing file: supercell_gen2_comp25_struct3_vac_site4_start.vasp\n",
      "Created VASP job for supercell_gen2_comp25_struct3_vac_site4_start.vasp in ../Archived_Vasp_Jobs/VCrTiWZr_Summit/Gen_0-2/Vacancies/supercell_gen2_comp25_struct3_vac_site4_start\n",
      "Processing file: supercell_gen1_comp14_struct2_vac_site3_start.vasp\n",
      "Created VASP job for supercell_gen1_comp14_struct2_vac_site3_start.vasp in ../Archived_Vasp_Jobs/VCrTiWZr_Summit/Gen_0-2/Vacancies/supercell_gen1_comp14_struct2_vac_site3_start\n",
      "Processing file: supercell_gen2_comp30_struct3_vac_site4_start.vasp\n",
      "Created VASP job for supercell_gen2_comp30_struct3_vac_site4_start.vasp in ../Archived_Vasp_Jobs/VCrTiWZr_Summit/Gen_0-2/Vacancies/supercell_gen2_comp30_struct3_vac_site4_start\n",
      "Processing file: supercell_gen1_comp20_struct3_vac_site3_start.vasp\n",
      "Created VASP job for supercell_gen1_comp20_struct3_vac_site3_start.vasp in ../Archived_Vasp_Jobs/VCrTiWZr_Summit/Gen_0-2/Vacancies/supercell_gen1_comp20_struct3_vac_site3_start\n",
      "Processing file: supercell_gen2_comp32_struct3_vac_site2_start.vasp\n",
      "Created VASP job for supercell_gen2_comp32_struct3_vac_site2_start.vasp in ../Archived_Vasp_Jobs/VCrTiWZr_Summit/Gen_0-2/Vacancies/supercell_gen2_comp32_struct3_vac_site2_start\n",
      "Processing file: supercell_gen1_comp21_struct3_vac_site0_start.vasp\n",
      "Created VASP job for supercell_gen1_comp21_struct3_vac_site0_start.vasp in ../Archived_Vasp_Jobs/VCrTiWZr_Summit/Gen_0-2/Vacancies/supercell_gen1_comp21_struct3_vac_site0_start\n",
      "Processing file: supercell_gen1_comp13_struct1_vac_site4_start.vasp\n",
      "Created VASP job for supercell_gen1_comp13_struct1_vac_site4_start.vasp in ../Archived_Vasp_Jobs/VCrTiWZr_Summit/Gen_0-2/Vacancies/supercell_gen1_comp13_struct1_vac_site4_start\n",
      "Processing file: supercell_gen2_comp23_struct1_vac_site2_start.vasp\n",
      "Created VASP job for supercell_gen2_comp23_struct1_vac_site2_start.vasp in ../Archived_Vasp_Jobs/VCrTiWZr_Summit/Gen_0-2/Vacancies/supercell_gen2_comp23_struct1_vac_site2_start\n",
      "Processing file: supercell_gen1_comp21_struct2_vac_site2_start.vasp\n",
      "Created VASP job for supercell_gen1_comp21_struct2_vac_site2_start.vasp in ../Archived_Vasp_Jobs/VCrTiWZr_Summit/Gen_0-2/Vacancies/supercell_gen1_comp21_struct2_vac_site2_start\n",
      "Processing file: supercell_gen2_comp32_struct2_vac_site0_start.vasp\n",
      "Created VASP job for supercell_gen2_comp32_struct2_vac_site0_start.vasp in ../Archived_Vasp_Jobs/VCrTiWZr_Summit/Gen_0-2/Vacancies/supercell_gen2_comp32_struct2_vac_site0_start\n",
      "Processing file: supercell_gen1_comp20_struct2_vac_site1_start.vasp\n",
      "Created VASP job for supercell_gen1_comp20_struct2_vac_site1_start.vasp in ../Archived_Vasp_Jobs/VCrTiWZr_Summit/Gen_0-2/Vacancies/supercell_gen1_comp20_struct2_vac_site1_start\n",
      "Processing file: supercell_gen0_comp3_struct2_vac_site4_start.vasp\n",
      "Created VASP job for supercell_gen0_comp3_struct2_vac_site4_start.vasp in ../Archived_Vasp_Jobs/VCrTiWZr_Summit/Gen_0-2/Vacancies/supercell_gen0_comp3_struct2_vac_site4_start\n",
      "Processing file: supercell_gen1_comp14_struct3_vac_site1_start.vasp\n",
      "Created VASP job for supercell_gen1_comp14_struct3_vac_site1_start.vasp in ../Archived_Vasp_Jobs/VCrTiWZr_Summit/Gen_0-2/Vacancies/supercell_gen1_comp14_struct3_vac_site1_start\n",
      "Processing file: supercell_gen1_comp15_struct3_vac_site2_start.vasp\n",
      "Created VASP job for supercell_gen1_comp15_struct3_vac_site2_start.vasp in ../Archived_Vasp_Jobs/VCrTiWZr_Summit/Gen_0-2/Vacancies/supercell_gen1_comp15_struct3_vac_site2_start\n",
      "Processing file: supercell_gen2_comp29_struct2_vac_site0_start.vasp\n",
      "Created VASP job for supercell_gen2_comp29_struct2_vac_site0_start.vasp in ../Archived_Vasp_Jobs/VCrTiWZr_Summit/Gen_0-2/Vacancies/supercell_gen2_comp29_struct2_vac_site0_start\n",
      "Processing file: supercell_gen2_comp26_struct2_vac_site3_start.vasp\n",
      "Created VASP job for supercell_gen2_comp26_struct2_vac_site3_start.vasp in ../Archived_Vasp_Jobs/VCrTiWZr_Summit/Gen_0-2/Vacancies/supercell_gen2_comp26_struct2_vac_site3_start\n",
      "Processing file: supercell_gen1_comp19_struct3_vac_site4_start.vasp\n",
      "Created VASP job for supercell_gen1_comp19_struct3_vac_site4_start.vasp in ../Archived_Vasp_Jobs/VCrTiWZr_Summit/Gen_0-2/Vacancies/supercell_gen1_comp19_struct3_vac_site4_start\n",
      "Processing file: supercell_gen0_comp1_struct2_vac_site2_start.vasp\n",
      "Created VASP job for supercell_gen0_comp1_struct2_vac_site2_start.vasp in ../Archived_Vasp_Jobs/VCrTiWZr_Summit/Gen_0-2/Vacancies/supercell_gen0_comp1_struct2_vac_site2_start\n",
      "Processing file: supercell_gen2_comp28_struct2_vac_site3_start.vasp\n",
      "Created VASP job for supercell_gen2_comp28_struct2_vac_site3_start.vasp in ../Archived_Vasp_Jobs/VCrTiWZr_Summit/Gen_0-2/Vacancies/supercell_gen2_comp28_struct2_vac_site3_start\n",
      "Processing file: supercell_gen2_comp27_struct2_vac_site0_start.vasp\n",
      "Created VASP job for supercell_gen2_comp27_struct2_vac_site0_start.vasp in ../Archived_Vasp_Jobs/VCrTiWZr_Summit/Gen_0-2/Vacancies/supercell_gen2_comp27_struct2_vac_site0_start\n",
      "Processing file: supercell_gen1_comp17_struct3_vac_site4_start.vasp\n",
      "Created VASP job for supercell_gen1_comp17_struct3_vac_site4_start.vasp in ../Archived_Vasp_Jobs/VCrTiWZr_Summit/Gen_0-2/Vacancies/supercell_gen1_comp17_struct3_vac_site4_start\n",
      "Processing file: supercell_gen0_comp6_struct3_vac_site4_start.vasp\n",
      "Created VASP job for supercell_gen0_comp6_struct3_vac_site4_start.vasp in ../Archived_Vasp_Jobs/VCrTiWZr_Summit/Gen_0-2/Vacancies/supercell_gen0_comp6_struct3_vac_site4_start\n",
      "Processing file: supercell_gen0_comp8_struct3_vac_site4_start.vasp\n",
      "Created VASP job for supercell_gen0_comp8_struct3_vac_site4_start.vasp in ../Archived_Vasp_Jobs/VCrTiWZr_Summit/Gen_0-2/Vacancies/supercell_gen0_comp8_struct3_vac_site4_start\n",
      "Processing file: supercell_gen0_comp10_struct3_vac_site4_start.vasp\n",
      "Created VASP job for supercell_gen0_comp10_struct3_vac_site4_start.vasp in ../Archived_Vasp_Jobs/VCrTiWZr_Summit/Gen_0-2/Vacancies/supercell_gen0_comp10_struct3_vac_site4_start\n",
      "Processing file: supercell_gen0_comp4_struct3_vac_site2_start.vasp\n",
      "Created VASP job for supercell_gen0_comp4_struct3_vac_site2_start.vasp in ../Archived_Vasp_Jobs/VCrTiWZr_Summit/Gen_0-2/Vacancies/supercell_gen0_comp4_struct3_vac_site2_start\n",
      "Processing file: supercell_gen2_comp23_struct3_vac_site3_start.vasp\n",
      "Created VASP job for supercell_gen2_comp23_struct3_vac_site3_start.vasp in ../Archived_Vasp_Jobs/VCrTiWZr_Summit/Gen_0-2/Vacancies/supercell_gen2_comp23_struct3_vac_site3_start\n",
      "Processing file: supercell_gen0_comp5_struct3_vac_site1_start.vasp\n",
      "Created VASP job for supercell_gen0_comp5_struct3_vac_site1_start.vasp in ../Archived_Vasp_Jobs/VCrTiWZr_Summit/Gen_0-2/Vacancies/supercell_gen0_comp5_struct3_vac_site1_start\n",
      "Processing file: supercell_gen0_comp12_struct3_vac_site2_start.vasp\n",
      "Created VASP job for supercell_gen0_comp12_struct3_vac_site2_start.vasp in ../Archived_Vasp_Jobs/VCrTiWZr_Summit/Gen_0-2/Vacancies/supercell_gen0_comp12_struct3_vac_site2_start\n",
      "Processing file: supercell_gen1_comp14_struct1_vac_site0_start.vasp\n",
      "Created VASP job for supercell_gen1_comp14_struct1_vac_site0_start.vasp in ../Archived_Vasp_Jobs/VCrTiWZr_Summit/Gen_0-2/Vacancies/supercell_gen1_comp14_struct1_vac_site0_start\n",
      "Processing file: supercell_gen1_comp15_struct1_vac_site3_start.vasp\n",
      "Created VASP job for supercell_gen1_comp15_struct1_vac_site3_start.vasp in ../Archived_Vasp_Jobs/VCrTiWZr_Summit/Gen_0-2/Vacancies/supercell_gen1_comp15_struct1_vac_site3_start\n",
      "Processing file: supercell_gen2_comp25_struct2_vac_site3_start.vasp\n",
      "Created VASP job for supercell_gen2_comp25_struct2_vac_site3_start.vasp in ../Archived_Vasp_Jobs/VCrTiWZr_Summit/Gen_0-2/Vacancies/supercell_gen2_comp25_struct2_vac_site3_start\n",
      "Processing file: supercell_gen0_comp2_struct2_vac_site2_start.vasp\n",
      "Created VASP job for supercell_gen0_comp2_struct2_vac_site2_start.vasp in ../Archived_Vasp_Jobs/VCrTiWZr_Summit/Gen_0-2/Vacancies/supercell_gen0_comp2_struct2_vac_site2_start\n",
      "Processing file: supercell_gen2_comp24_struct2_vac_site0_start.vasp\n",
      "Created VASP job for supercell_gen2_comp24_struct2_vac_site0_start.vasp in ../Archived_Vasp_Jobs/VCrTiWZr_Summit/Gen_0-2/Vacancies/supercell_gen2_comp24_struct2_vac_site0_start\n",
      "Processing file: supercell_gen0_comp3_struct2_vac_site1_start.vasp\n",
      "Created VASP job for supercell_gen0_comp3_struct2_vac_site1_start.vasp in ../Archived_Vasp_Jobs/VCrTiWZr_Summit/Gen_0-2/Vacancies/supercell_gen0_comp3_struct2_vac_site1_start\n",
      "Processing file: supercell_gen1_comp14_struct3_vac_site4_start.vasp\n",
      "Created VASP job for supercell_gen1_comp14_struct3_vac_site4_start.vasp in ../Archived_Vasp_Jobs/VCrTiWZr_Summit/Gen_0-2/Vacancies/supercell_gen1_comp14_struct3_vac_site4_start\n",
      "Processing file: supercell_gen1_comp17_struct3_vac_site1_start.vasp\n",
      "Created VASP job for supercell_gen1_comp17_struct3_vac_site1_start.vasp in ../Archived_Vasp_Jobs/VCrTiWZr_Summit/Gen_0-2/Vacancies/supercell_gen1_comp17_struct3_vac_site1_start\n",
      "Processing file: supercell_gen1_comp18_struct3_vac_site2_start.vasp\n",
      "Created VASP job for supercell_gen1_comp18_struct3_vac_site2_start.vasp in ../Archived_Vasp_Jobs/VCrTiWZr_Summit/Gen_0-2/Vacancies/supercell_gen1_comp18_struct3_vac_site2_start\n",
      "Processing file: supercell_gen1_comp16_struct3_vac_site2_start.vasp\n",
      "Created VASP job for supercell_gen1_comp16_struct3_vac_site2_start.vasp in ../Archived_Vasp_Jobs/VCrTiWZr_Summit/Gen_0-2/Vacancies/supercell_gen1_comp16_struct3_vac_site2_start\n",
      "Processing file: supercell_gen1_comp19_struct3_vac_site1_start.vasp\n",
      "Created VASP job for supercell_gen1_comp19_struct3_vac_site1_start.vasp in ../Archived_Vasp_Jobs/VCrTiWZr_Summit/Gen_0-2/Vacancies/supercell_gen1_comp19_struct3_vac_site1_start\n",
      "Processing file: supercell_gen1_comp20_struct2_vac_site4_start.vasp\n",
      "Created VASP job for supercell_gen1_comp20_struct2_vac_site4_start.vasp in ../Archived_Vasp_Jobs/VCrTiWZr_Summit/Gen_0-2/Vacancies/supercell_gen1_comp20_struct2_vac_site4_start\n",
      "Processing file: supercell_gen0_comp10_struct1_vac_site0_start.vasp\n",
      "Created VASP job for supercell_gen0_comp10_struct1_vac_site0_start.vasp in ../Archived_Vasp_Jobs/VCrTiWZr_Summit/Gen_0-2/Vacancies/supercell_gen0_comp10_struct1_vac_site0_start\n",
      "Processing file: supercell_gen0_comp8_struct1_vac_site0_start.vasp\n",
      "Created VASP job for supercell_gen0_comp8_struct1_vac_site0_start.vasp in ../Archived_Vasp_Jobs/VCrTiWZr_Summit/Gen_0-2/Vacancies/supercell_gen0_comp8_struct1_vac_site0_start\n",
      "Processing file: supercell_gen1_comp22_struct2_vac_site2_start.vasp\n",
      "Created VASP job for supercell_gen1_comp22_struct2_vac_site2_start.vasp in ../Archived_Vasp_Jobs/VCrTiWZr_Summit/Gen_0-2/Vacancies/supercell_gen1_comp22_struct2_vac_site2_start\n",
      "Processing file: supercell_gen2_comp31_struct2_vac_site0_start.vasp\n",
      "Created VASP job for supercell_gen2_comp31_struct2_vac_site0_start.vasp in ../Archived_Vasp_Jobs/VCrTiWZr_Summit/Gen_0-2/Vacancies/supercell_gen2_comp31_struct2_vac_site0_start\n",
      "Processing file: supercell_gen0_comp11_struct1_vac_site3_start.vasp\n",
      "Created VASP job for supercell_gen0_comp11_struct1_vac_site3_start.vasp in ../Archived_Vasp_Jobs/VCrTiWZr_Summit/Gen_0-2/Vacancies/supercell_gen0_comp11_struct1_vac_site3_start\n",
      "Processing file: supercell_gen0_comp9_struct1_vac_site3_start.vasp\n",
      "Created VASP job for supercell_gen0_comp9_struct1_vac_site3_start.vasp in ../Archived_Vasp_Jobs/VCrTiWZr_Summit/Gen_0-2/Vacancies/supercell_gen0_comp9_struct1_vac_site3_start\n",
      "Processing file: supercell_gen2_comp30_struct2_vac_site3_start.vasp\n",
      "Created VASP job for supercell_gen2_comp30_struct2_vac_site3_start.vasp in ../Archived_Vasp_Jobs/VCrTiWZr_Summit/Gen_0-2/Vacancies/supercell_gen2_comp30_struct2_vac_site3_start\n",
      "Processing file: supercell_gen1_comp17_struct1_vac_site0_start.vasp\n",
      "Created VASP job for supercell_gen1_comp17_struct1_vac_site0_start.vasp in ../Archived_Vasp_Jobs/VCrTiWZr_Summit/Gen_0-2/Vacancies/supercell_gen1_comp17_struct1_vac_site0_start\n",
      "Processing file: supercell_gen1_comp18_struct1_vac_site3_start.vasp\n",
      "Created VASP job for supercell_gen1_comp18_struct1_vac_site3_start.vasp in ../Archived_Vasp_Jobs/VCrTiWZr_Summit/Gen_0-2/Vacancies/supercell_gen1_comp18_struct1_vac_site3_start\n",
      "Processing file: supercell_gen1_comp16_struct1_vac_site3_start.vasp\n",
      "Created VASP job for supercell_gen1_comp16_struct1_vac_site3_start.vasp in ../Archived_Vasp_Jobs/VCrTiWZr_Summit/Gen_0-2/Vacancies/supercell_gen1_comp16_struct1_vac_site3_start\n",
      "Processing file: supercell_gen1_comp19_struct1_vac_site0_start.vasp\n",
      "Created VASP job for supercell_gen1_comp19_struct1_vac_site0_start.vasp in ../Archived_Vasp_Jobs/VCrTiWZr_Summit/Gen_0-2/Vacancies/supercell_gen1_comp19_struct1_vac_site0_start\n",
      "Processing file: supercell_gen0_comp10_struct3_vac_site1_start.vasp\n",
      "Created VASP job for supercell_gen0_comp10_struct3_vac_site1_start.vasp in ../Archived_Vasp_Jobs/VCrTiWZr_Summit/Gen_0-2/Vacancies/supercell_gen0_comp10_struct3_vac_site1_start\n",
      "Processing file: supercell_gen0_comp7_struct3_vac_site2_start.vasp\n",
      "Created VASP job for supercell_gen0_comp7_struct3_vac_site2_start.vasp in ../Archived_Vasp_Jobs/VCrTiWZr_Summit/Gen_0-2/Vacancies/supercell_gen0_comp7_struct3_vac_site2_start\n",
      "Processing file: supercell_gen0_comp8_struct3_vac_site1_start.vasp\n",
      "Created VASP job for supercell_gen0_comp8_struct3_vac_site1_start.vasp in ../Archived_Vasp_Jobs/VCrTiWZr_Summit/Gen_0-2/Vacancies/supercell_gen0_comp8_struct3_vac_site1_start\n",
      "Processing file: supercell_gen0_comp11_struct3_vac_site2_start.vasp\n",
      "Created VASP job for supercell_gen0_comp11_struct3_vac_site2_start.vasp in ../Archived_Vasp_Jobs/VCrTiWZr_Summit/Gen_0-2/Vacancies/supercell_gen0_comp11_struct3_vac_site2_start\n",
      "Processing file: supercell_gen0_comp6_struct3_vac_site1_start.vasp\n",
      "Created VASP job for supercell_gen0_comp6_struct3_vac_site1_start.vasp in ../Archived_Vasp_Jobs/VCrTiWZr_Summit/Gen_0-2/Vacancies/supercell_gen0_comp6_struct3_vac_site1_start\n",
      "Processing file: supercell_gen0_comp9_struct3_vac_site2_start.vasp\n",
      "Created VASP job for supercell_gen0_comp9_struct3_vac_site2_start.vasp in ../Archived_Vasp_Jobs/VCrTiWZr_Summit/Gen_0-2/Vacancies/supercell_gen0_comp9_struct3_vac_site2_start\n",
      "Processing file: supercell_gen0_comp5_struct3_vac_site4_start.vasp\n",
      "Created VASP job for supercell_gen0_comp5_struct3_vac_site4_start.vasp in ../Archived_Vasp_Jobs/VCrTiWZr_Summit/Gen_0-2/Vacancies/supercell_gen0_comp5_struct3_vac_site4_start\n",
      "Processing file: supercell_gen1_comp13_struct2_vac_site2_start.vasp\n",
      "Created VASP job for supercell_gen1_comp13_struct2_vac_site2_start.vasp in ../Archived_Vasp_Jobs/VCrTiWZr_Summit/Gen_0-2/Vacancies/supercell_gen1_comp13_struct2_vac_site2_start\n",
      "Processing file: supercell_gen1_comp21_struct1_vac_site4_start.vasp\n",
      "Created VASP job for supercell_gen1_comp21_struct1_vac_site4_start.vasp in ../Archived_Vasp_Jobs/VCrTiWZr_Summit/Gen_0-2/Vacancies/supercell_gen1_comp21_struct1_vac_site4_start\n",
      "Processing file: supercell_gen2_comp23_struct2_vac_site4_start.vasp\n",
      "Created VASP job for supercell_gen2_comp23_struct2_vac_site4_start.vasp in ../Archived_Vasp_Jobs/VCrTiWZr_Summit/Gen_0-2/Vacancies/supercell_gen2_comp23_struct2_vac_site4_start\n",
      "Processing file: supercell_gen2_comp30_struct1_vac_site0_start.vasp\n",
      "Created VASP job for supercell_gen2_comp30_struct1_vac_site0_start.vasp in ../Archived_Vasp_Jobs/VCrTiWZr_Summit/Gen_0-2/Vacancies/supercell_gen2_comp30_struct1_vac_site0_start\n",
      "Processing file: supercell_gen0_comp9_struct2_vac_site0_start.vasp\n",
      "Created VASP job for supercell_gen0_comp9_struct2_vac_site0_start.vasp in ../Archived_Vasp_Jobs/VCrTiWZr_Summit/Gen_0-2/Vacancies/supercell_gen0_comp9_struct2_vac_site0_start\n",
      "Processing file: supercell_gen0_comp11_struct2_vac_site0_start.vasp\n",
      "Created VASP job for supercell_gen0_comp11_struct2_vac_site0_start.vasp in ../Archived_Vasp_Jobs/VCrTiWZr_Summit/Gen_0-2/Vacancies/supercell_gen0_comp11_struct2_vac_site0_start\n",
      "Processing file: supercell_gen2_comp31_struct1_vac_site3_start.vasp\n",
      "Created VASP job for supercell_gen2_comp31_struct1_vac_site3_start.vasp in ../Archived_Vasp_Jobs/VCrTiWZr_Summit/Gen_0-2/Vacancies/supercell_gen2_comp31_struct1_vac_site3_start\n",
      "Processing file: supercell_gen1_comp22_struct1_vac_site1_start.vasp\n",
      "Created VASP job for supercell_gen1_comp22_struct1_vac_site1_start.vasp in ../Archived_Vasp_Jobs/VCrTiWZr_Summit/Gen_0-2/Vacancies/supercell_gen1_comp22_struct1_vac_site1_start\n",
      "Processing file: supercell_gen2_comp24_struct1_vac_site3_start.vasp\n",
      "Created VASP job for supercell_gen2_comp24_struct1_vac_site3_start.vasp in ../Archived_Vasp_Jobs/VCrTiWZr_Summit/Gen_0-2/Vacancies/supercell_gen2_comp24_struct1_vac_site3_start\n",
      "Processing file: supercell_gen0_comp3_struct1_vac_site2_start.vasp\n",
      "Created VASP job for supercell_gen0_comp3_struct1_vac_site2_start.vasp in ../Archived_Vasp_Jobs/VCrTiWZr_Summit/Gen_0-2/Vacancies/supercell_gen0_comp3_struct1_vac_site2_start\n",
      "Processing file: supercell_gen2_comp25_struct1_vac_site0_start.vasp\n",
      "Created VASP job for supercell_gen2_comp25_struct1_vac_site0_start.vasp in ../Archived_Vasp_Jobs/VCrTiWZr_Summit/Gen_0-2/Vacancies/supercell_gen2_comp25_struct1_vac_site0_start\n",
      "Processing file: supercell_gen0_comp2_struct1_vac_site1_start.vasp\n",
      "Created VASP job for supercell_gen0_comp2_struct1_vac_site1_start.vasp in ../Archived_Vasp_Jobs/VCrTiWZr_Summit/Gen_0-2/Vacancies/supercell_gen0_comp2_struct1_vac_site1_start\n",
      "Processing file: supercell_gen0_comp1_struct1_vac_site4_start.vasp\n",
      "Created VASP job for supercell_gen0_comp1_struct1_vac_site4_start.vasp in ../Archived_Vasp_Jobs/VCrTiWZr_Summit/Gen_0-2/Vacancies/supercell_gen0_comp1_struct1_vac_site4_start\n",
      "Processing file: supercell_gen2_comp30_struct3_vac_site1_start.vasp\n",
      "Created VASP job for supercell_gen2_comp30_struct3_vac_site1_start.vasp in ../Archived_Vasp_Jobs/VCrTiWZr_Summit/Gen_0-2/Vacancies/supercell_gen2_comp30_struct3_vac_site1_start\n",
      "Processing file: supercell_gen2_comp31_struct3_vac_site2_start.vasp\n",
      "Created VASP job for supercell_gen2_comp31_struct3_vac_site2_start.vasp in ../Archived_Vasp_Jobs/VCrTiWZr_Summit/Gen_0-2/Vacancies/supercell_gen2_comp31_struct3_vac_site2_start\n",
      "Processing file: supercell_gen1_comp22_struct3_vac_site0_start.vasp\n",
      "Created VASP job for supercell_gen1_comp22_struct3_vac_site0_start.vasp in ../Archived_Vasp_Jobs/VCrTiWZr_Summit/Gen_0-2/Vacancies/supercell_gen1_comp22_struct3_vac_site0_start\n",
      "Processing file: supercell_gen1_comp13_struct1_vac_site1_start.vasp\n",
      "Created VASP job for supercell_gen1_comp13_struct1_vac_site1_start.vasp in ../Archived_Vasp_Jobs/VCrTiWZr_Summit/Gen_0-2/Vacancies/supercell_gen1_comp13_struct1_vac_site1_start\n",
      "Processing file: supercell_gen1_comp19_struct2_vac_site3_start.vasp\n",
      "Created VASP job for supercell_gen1_comp19_struct2_vac_site3_start.vasp in ../Archived_Vasp_Jobs/VCrTiWZr_Summit/Gen_0-2/Vacancies/supercell_gen1_comp19_struct2_vac_site3_start\n",
      "Processing file: supercell_gen1_comp16_struct2_vac_site0_start.vasp\n",
      "Created VASP job for supercell_gen1_comp16_struct2_vac_site0_start.vasp in ../Archived_Vasp_Jobs/VCrTiWZr_Summit/Gen_0-2/Vacancies/supercell_gen1_comp16_struct2_vac_site0_start\n",
      "Processing file: supercell_gen2_comp26_struct3_vac_site4_start.vasp\n",
      "Created VASP job for supercell_gen2_comp26_struct3_vac_site4_start.vasp in ../Archived_Vasp_Jobs/VCrTiWZr_Summit/Gen_0-2/Vacancies/supercell_gen2_comp26_struct3_vac_site4_start\n",
      "Processing file: supercell_gen1_comp18_struct2_vac_site0_start.vasp\n",
      "Created VASP job for supercell_gen1_comp18_struct2_vac_site0_start.vasp in ../Archived_Vasp_Jobs/VCrTiWZr_Summit/Gen_0-2/Vacancies/supercell_gen1_comp18_struct2_vac_site0_start\n",
      "Processing file: supercell_gen1_comp17_struct2_vac_site3_start.vasp\n",
      "Created VASP job for supercell_gen1_comp17_struct2_vac_site3_start.vasp in ../Archived_Vasp_Jobs/VCrTiWZr_Summit/Gen_0-2/Vacancies/supercell_gen1_comp17_struct2_vac_site3_start\n",
      "Processing file: supercell_gen2_comp28_struct3_vac_site4_start.vasp\n",
      "Created VASP job for supercell_gen2_comp28_struct3_vac_site4_start.vasp in ../Archived_Vasp_Jobs/VCrTiWZr_Summit/Gen_0-2/Vacancies/supercell_gen2_comp28_struct3_vac_site4_start\n",
      "Processing file: supercell_gen2_comp24_struct3_vac_site2_start.vasp\n",
      "Created VASP job for supercell_gen2_comp24_struct3_vac_site2_start.vasp in ../Archived_Vasp_Jobs/VCrTiWZr_Summit/Gen_0-2/Vacancies/supercell_gen2_comp24_struct3_vac_site2_start\n",
      "Processing file: supercell_gen0_comp3_struct3_vac_site3_start.vasp\n",
      "Created VASP job for supercell_gen0_comp3_struct3_vac_site3_start.vasp in ../Archived_Vasp_Jobs/VCrTiWZr_Summit/Gen_0-2/Vacancies/supercell_gen0_comp3_struct3_vac_site3_start\n",
      "Processing file: supercell_gen2_comp25_struct3_vac_site1_start.vasp\n",
      "Created VASP job for supercell_gen2_comp25_struct3_vac_site1_start.vasp in ../Archived_Vasp_Jobs/VCrTiWZr_Summit/Gen_0-2/Vacancies/supercell_gen2_comp25_struct3_vac_site1_start\n",
      "Processing file: supercell_gen0_comp2_struct3_vac_site0_start.vasp\n",
      "Created VASP job for supercell_gen0_comp2_struct3_vac_site0_start.vasp in ../Archived_Vasp_Jobs/VCrTiWZr_Summit/Gen_0-2/Vacancies/supercell_gen0_comp2_struct3_vac_site0_start\n",
      "Processing file: supercell_gen0_comp7_struct3_vac_site1_start.vasp\n",
      "Created VASP job for supercell_gen0_comp7_struct3_vac_site1_start.vasp in ../Archived_Vasp_Jobs/VCrTiWZr_Summit/Gen_0-2/Vacancies/supercell_gen0_comp7_struct3_vac_site1_start\n",
      "Processing file: supercell_gen0_comp8_struct3_vac_site2_start.vasp\n",
      "Created VASP job for supercell_gen0_comp8_struct3_vac_site2_start.vasp in ../Archived_Vasp_Jobs/VCrTiWZr_Summit/Gen_0-2/Vacancies/supercell_gen0_comp8_struct3_vac_site2_start\n",
      "Processing file: supercell_gen0_comp10_struct3_vac_site2_start.vasp\n",
      "Created VASP job for supercell_gen0_comp10_struct3_vac_site2_start.vasp in ../Archived_Vasp_Jobs/VCrTiWZr_Summit/Gen_0-2/Vacancies/supercell_gen0_comp10_struct3_vac_site2_start\n",
      "Processing file: supercell_gen0_comp6_struct3_vac_site2_start.vasp\n",
      "Created VASP job for supercell_gen0_comp6_struct3_vac_site2_start.vasp in ../Archived_Vasp_Jobs/VCrTiWZr_Summit/Gen_0-2/Vacancies/supercell_gen0_comp6_struct3_vac_site2_start\n",
      "Processing file: supercell_gen0_comp9_struct3_vac_site1_start.vasp\n",
      "Created VASP job for supercell_gen0_comp9_struct3_vac_site1_start.vasp in ../Archived_Vasp_Jobs/VCrTiWZr_Summit/Gen_0-2/Vacancies/supercell_gen0_comp9_struct3_vac_site1_start\n",
      "Processing file: supercell_gen0_comp11_struct3_vac_site1_start.vasp\n",
      "Created VASP job for supercell_gen0_comp11_struct3_vac_site1_start.vasp in ../Archived_Vasp_Jobs/VCrTiWZr_Summit/Gen_0-2/Vacancies/supercell_gen0_comp11_struct3_vac_site1_start\n",
      "Processing file: supercell_gen0_comp12_struct3_vac_site4_start.vasp\n",
      "Created VASP job for supercell_gen0_comp12_struct3_vac_site4_start.vasp in ../Archived_Vasp_Jobs/VCrTiWZr_Summit/Gen_0-2/Vacancies/supercell_gen0_comp12_struct3_vac_site4_start\n",
      "Processing file: supercell_gen1_comp13_struct2_vac_site1_start.vasp\n",
      "Created VASP job for supercell_gen1_comp13_struct2_vac_site1_start.vasp in ../Archived_Vasp_Jobs/VCrTiWZr_Summit/Gen_0-2/Vacancies/supercell_gen1_comp13_struct2_vac_site1_start\n",
      "Processing file: supercell_gen0_comp4_struct3_vac_site4_start.vasp\n",
      "Created VASP job for supercell_gen0_comp4_struct3_vac_site4_start.vasp in ../Archived_Vasp_Jobs/VCrTiWZr_Summit/Gen_0-2/Vacancies/supercell_gen0_comp4_struct3_vac_site4_start\n",
      "Processing file: supercell_gen1_comp17_struct1_vac_site3_start.vasp\n",
      "Created VASP job for supercell_gen1_comp17_struct1_vac_site3_start.vasp in ../Archived_Vasp_Jobs/VCrTiWZr_Summit/Gen_0-2/Vacancies/supercell_gen1_comp17_struct1_vac_site3_start\n",
      "Processing file: supercell_gen1_comp18_struct1_vac_site0_start.vasp\n",
      "Created VASP job for supercell_gen1_comp18_struct1_vac_site0_start.vasp in ../Archived_Vasp_Jobs/VCrTiWZr_Summit/Gen_0-2/Vacancies/supercell_gen1_comp18_struct1_vac_site0_start\n",
      "Processing file: supercell_gen1_comp16_struct1_vac_site0_start.vasp\n",
      "Created VASP job for supercell_gen1_comp16_struct1_vac_site0_start.vasp in ../Archived_Vasp_Jobs/VCrTiWZr_Summit/Gen_0-2/Vacancies/supercell_gen1_comp16_struct1_vac_site0_start\n",
      "Processing file: supercell_gen1_comp19_struct1_vac_site3_start.vasp\n",
      "Created VASP job for supercell_gen1_comp19_struct1_vac_site3_start.vasp in ../Archived_Vasp_Jobs/VCrTiWZr_Summit/Gen_0-2/Vacancies/supercell_gen1_comp19_struct1_vac_site3_start\n",
      "Processing file: supercell_gen2_comp23_struct1_vac_site4_start.vasp\n",
      "Created VASP job for supercell_gen2_comp23_struct1_vac_site4_start.vasp in ../Archived_Vasp_Jobs/VCrTiWZr_Summit/Gen_0-2/Vacancies/supercell_gen2_comp23_struct1_vac_site4_start\n",
      "Processing file: supercell_gen1_comp21_struct2_vac_site4_start.vasp\n",
      "Created VASP job for supercell_gen1_comp21_struct2_vac_site4_start.vasp in ../Archived_Vasp_Jobs/VCrTiWZr_Summit/Gen_0-2/Vacancies/supercell_gen1_comp21_struct2_vac_site4_start\n",
      "Processing file: supercell_gen0_comp8_struct1_vac_site3_start.vasp\n",
      "Created VASP job for supercell_gen0_comp8_struct1_vac_site3_start.vasp in ../Archived_Vasp_Jobs/VCrTiWZr_Summit/Gen_0-2/Vacancies/supercell_gen0_comp8_struct1_vac_site3_start\n",
      "Processing file: supercell_gen2_comp31_struct2_vac_site3_start.vasp\n",
      "Created VASP job for supercell_gen2_comp31_struct2_vac_site3_start.vasp in ../Archived_Vasp_Jobs/VCrTiWZr_Summit/Gen_0-2/Vacancies/supercell_gen2_comp31_struct2_vac_site3_start\n",
      "Processing file: supercell_gen1_comp22_struct2_vac_site1_start.vasp\n",
      "Created VASP job for supercell_gen1_comp22_struct2_vac_site1_start.vasp in ../Archived_Vasp_Jobs/VCrTiWZr_Summit/Gen_0-2/Vacancies/supercell_gen1_comp22_struct2_vac_site1_start\n",
      "Processing file: supercell_gen0_comp10_struct1_vac_site3_start.vasp\n",
      "Created VASP job for supercell_gen0_comp10_struct1_vac_site3_start.vasp in ../Archived_Vasp_Jobs/VCrTiWZr_Summit/Gen_0-2/Vacancies/supercell_gen0_comp10_struct1_vac_site3_start\n",
      "Processing file: supercell_gen0_comp9_struct1_vac_site0_start.vasp\n",
      "Created VASP job for supercell_gen0_comp9_struct1_vac_site0_start.vasp in ../Archived_Vasp_Jobs/VCrTiWZr_Summit/Gen_0-2/Vacancies/supercell_gen0_comp9_struct1_vac_site0_start\n",
      "Processing file: supercell_gen2_comp30_struct2_vac_site0_start.vasp\n",
      "Created VASP job for supercell_gen2_comp30_struct2_vac_site0_start.vasp in ../Archived_Vasp_Jobs/VCrTiWZr_Summit/Gen_0-2/Vacancies/supercell_gen2_comp30_struct2_vac_site0_start\n",
      "Processing file: supercell_gen0_comp11_struct1_vac_site0_start.vasp\n",
      "Created VASP job for supercell_gen0_comp11_struct1_vac_site0_start.vasp in ../Archived_Vasp_Jobs/VCrTiWZr_Summit/Gen_0-2/Vacancies/supercell_gen0_comp11_struct1_vac_site0_start\n",
      "Processing file: supercell_gen2_comp25_struct2_vac_site0_start.vasp\n",
      "Created VASP job for supercell_gen2_comp25_struct2_vac_site0_start.vasp in ../Archived_Vasp_Jobs/VCrTiWZr_Summit/Gen_0-2/Vacancies/supercell_gen2_comp25_struct2_vac_site0_start\n",
      "Processing file: supercell_gen0_comp2_struct2_vac_site1_start.vasp\n",
      "Created VASP job for supercell_gen0_comp2_struct2_vac_site1_start.vasp in ../Archived_Vasp_Jobs/VCrTiWZr_Summit/Gen_0-2/Vacancies/supercell_gen0_comp2_struct2_vac_site1_start\n",
      "Processing file: supercell_gen1_comp15_struct3_vac_site4_start.vasp\n",
      "Created VASP job for supercell_gen1_comp15_struct3_vac_site4_start.vasp in ../Archived_Vasp_Jobs/VCrTiWZr_Summit/Gen_0-2/Vacancies/supercell_gen1_comp15_struct3_vac_site4_start\n",
      "Processing file: supercell_gen2_comp24_struct2_vac_site3_start.vasp\n",
      "Created VASP job for supercell_gen2_comp24_struct2_vac_site3_start.vasp in ../Archived_Vasp_Jobs/VCrTiWZr_Summit/Gen_0-2/Vacancies/supercell_gen2_comp24_struct2_vac_site3_start\n",
      "Processing file: supercell_gen0_comp3_struct2_vac_site2_start.vasp\n",
      "Created VASP job for supercell_gen0_comp3_struct2_vac_site2_start.vasp in ../Archived_Vasp_Jobs/VCrTiWZr_Summit/Gen_0-2/Vacancies/supercell_gen0_comp3_struct2_vac_site2_start\n",
      "Processing file: supercell_gen1_comp17_struct3_vac_site2_start.vasp\n",
      "Created VASP job for supercell_gen1_comp17_struct3_vac_site2_start.vasp in ../Archived_Vasp_Jobs/VCrTiWZr_Summit/Gen_0-2/Vacancies/supercell_gen1_comp17_struct3_vac_site2_start\n",
      "Processing file: supercell_gen1_comp18_struct3_vac_site1_start.vasp\n",
      "Created VASP job for supercell_gen1_comp18_struct3_vac_site1_start.vasp in ../Archived_Vasp_Jobs/VCrTiWZr_Summit/Gen_0-2/Vacancies/supercell_gen1_comp18_struct3_vac_site1_start\n",
      "Processing file: supercell_gen0_comp1_struct2_vac_site4_start.vasp\n",
      "Created VASP job for supercell_gen0_comp1_struct2_vac_site4_start.vasp in ../Archived_Vasp_Jobs/VCrTiWZr_Summit/Gen_0-2/Vacancies/supercell_gen0_comp1_struct2_vac_site4_start\n",
      "Processing file: supercell_gen1_comp16_struct3_vac_site1_start.vasp\n",
      "Created VASP job for supercell_gen1_comp16_struct3_vac_site1_start.vasp in ../Archived_Vasp_Jobs/VCrTiWZr_Summit/Gen_0-2/Vacancies/supercell_gen1_comp16_struct3_vac_site1_start\n",
      "Processing file: supercell_gen1_comp19_struct3_vac_site2_start.vasp\n",
      "Created VASP job for supercell_gen1_comp19_struct3_vac_site2_start.vasp in ../Archived_Vasp_Jobs/VCrTiWZr_Summit/Gen_0-2/Vacancies/supercell_gen1_comp19_struct3_vac_site2_start\n",
      "Processing file: supercell_gen1_comp19_struct2_vac_site0_start.vasp\n",
      "Created VASP job for supercell_gen1_comp19_struct2_vac_site0_start.vasp in ../Archived_Vasp_Jobs/VCrTiWZr_Summit/Gen_0-2/Vacancies/supercell_gen1_comp19_struct2_vac_site0_start\n",
      "Processing file: supercell_gen1_comp16_struct2_vac_site3_start.vasp\n",
      "Created VASP job for supercell_gen1_comp16_struct2_vac_site3_start.vasp in ../Archived_Vasp_Jobs/VCrTiWZr_Summit/Gen_0-2/Vacancies/supercell_gen1_comp16_struct2_vac_site3_start\n",
      "Processing file: supercell_gen1_comp18_struct2_vac_site3_start.vasp\n",
      "Created VASP job for supercell_gen1_comp18_struct2_vac_site3_start.vasp in ../Archived_Vasp_Jobs/VCrTiWZr_Summit/Gen_0-2/Vacancies/supercell_gen1_comp18_struct2_vac_site3_start\n",
      "Processing file: supercell_gen1_comp17_struct2_vac_site0_start.vasp\n",
      "Created VASP job for supercell_gen1_comp17_struct2_vac_site0_start.vasp in ../Archived_Vasp_Jobs/VCrTiWZr_Summit/Gen_0-2/Vacancies/supercell_gen1_comp17_struct2_vac_site0_start\n",
      "Processing file: supercell_gen2_comp27_struct3_vac_site4_start.vasp\n",
      "Created VASP job for supercell_gen2_comp27_struct3_vac_site4_start.vasp in ../Archived_Vasp_Jobs/VCrTiWZr_Summit/Gen_0-2/Vacancies/supercell_gen2_comp27_struct3_vac_site4_start\n",
      "Processing file: supercell_gen2_comp24_struct3_vac_site1_start.vasp\n",
      "Created VASP job for supercell_gen2_comp24_struct3_vac_site1_start.vasp in ../Archived_Vasp_Jobs/VCrTiWZr_Summit/Gen_0-2/Vacancies/supercell_gen2_comp24_struct3_vac_site1_start\n",
      "Processing file: supercell_gen0_comp3_struct3_vac_site0_start.vasp\n",
      "Created VASP job for supercell_gen0_comp3_struct3_vac_site0_start.vasp in ../Archived_Vasp_Jobs/VCrTiWZr_Summit/Gen_0-2/Vacancies/supercell_gen0_comp3_struct3_vac_site0_start\n",
      "Processing file: supercell_gen2_comp25_struct3_vac_site2_start.vasp\n",
      "Created VASP job for supercell_gen2_comp25_struct3_vac_site2_start.vasp in ../Archived_Vasp_Jobs/VCrTiWZr_Summit/Gen_0-2/Vacancies/supercell_gen2_comp25_struct3_vac_site2_start\n",
      "Processing file: supercell_gen0_comp2_struct3_vac_site3_start.vasp\n",
      "Created VASP job for supercell_gen0_comp2_struct3_vac_site3_start.vasp in ../Archived_Vasp_Jobs/VCrTiWZr_Summit/Gen_0-2/Vacancies/supercell_gen0_comp2_struct3_vac_site3_start\n",
      "Processing file: supercell_gen2_comp30_struct3_vac_site2_start.vasp\n",
      "Created VASP job for supercell_gen2_comp30_struct3_vac_site2_start.vasp in ../Archived_Vasp_Jobs/VCrTiWZr_Summit/Gen_0-2/Vacancies/supercell_gen2_comp30_struct3_vac_site2_start\n",
      "Processing file: supercell_gen1_comp22_struct3_vac_site3_start.vasp\n",
      "Created VASP job for supercell_gen1_comp22_struct3_vac_site3_start.vasp in ../Archived_Vasp_Jobs/VCrTiWZr_Summit/Gen_0-2/Vacancies/supercell_gen1_comp22_struct3_vac_site3_start\n",
      "Processing file: supercell_gen2_comp31_struct3_vac_site1_start.vasp\n",
      "Created VASP job for supercell_gen2_comp31_struct3_vac_site1_start.vasp in ../Archived_Vasp_Jobs/VCrTiWZr_Summit/Gen_0-2/Vacancies/supercell_gen2_comp31_struct3_vac_site1_start\n",
      "Processing file: supercell_gen2_comp32_struct3_vac_site4_start.vasp\n",
      "Created VASP job for supercell_gen2_comp32_struct3_vac_site4_start.vasp in ../Archived_Vasp_Jobs/VCrTiWZr_Summit/Gen_0-2/Vacancies/supercell_gen2_comp32_struct3_vac_site4_start\n",
      "Processing file: supercell_gen1_comp13_struct1_vac_site2_start.vasp\n",
      "Created VASP job for supercell_gen1_comp13_struct1_vac_site2_start.vasp in ../Archived_Vasp_Jobs/VCrTiWZr_Summit/Gen_0-2/Vacancies/supercell_gen1_comp13_struct1_vac_site2_start\n",
      "Processing file: supercell_gen2_comp24_struct1_vac_site0_start.vasp\n",
      "Created VASP job for supercell_gen2_comp24_struct1_vac_site0_start.vasp in ../Archived_Vasp_Jobs/VCrTiWZr_Summit/Gen_0-2/Vacancies/supercell_gen2_comp24_struct1_vac_site0_start\n",
      "Processing file: supercell_gen0_comp3_struct1_vac_site1_start.vasp\n",
      "Created VASP job for supercell_gen0_comp3_struct1_vac_site1_start.vasp in ../Archived_Vasp_Jobs/VCrTiWZr_Summit/Gen_0-2/Vacancies/supercell_gen0_comp3_struct1_vac_site1_start\n",
      "Processing file: supercell_gen2_comp25_struct1_vac_site3_start.vasp\n",
      "Created VASP job for supercell_gen2_comp25_struct1_vac_site3_start.vasp in ../Archived_Vasp_Jobs/VCrTiWZr_Summit/Gen_0-2/Vacancies/supercell_gen2_comp25_struct1_vac_site3_start\n",
      "Processing file: supercell_gen0_comp2_struct1_vac_site2_start.vasp\n",
      "Created VASP job for supercell_gen0_comp2_struct1_vac_site2_start.vasp in ../Archived_Vasp_Jobs/VCrTiWZr_Summit/Gen_0-2/Vacancies/supercell_gen0_comp2_struct1_vac_site2_start\n",
      "Processing file: supercell_gen1_comp20_struct1_vac_site4_start.vasp\n",
      "Created VASP job for supercell_gen1_comp20_struct1_vac_site4_start.vasp in ../Archived_Vasp_Jobs/VCrTiWZr_Summit/Gen_0-2/Vacancies/supercell_gen1_comp20_struct1_vac_site4_start\n",
      "Processing file: supercell_gen0_comp11_struct2_vac_site3_start.vasp\n",
      "Created VASP job for supercell_gen0_comp11_struct2_vac_site3_start.vasp in ../Archived_Vasp_Jobs/VCrTiWZr_Summit/Gen_0-2/Vacancies/supercell_gen0_comp11_struct2_vac_site3_start\n",
      "Processing file: supercell_gen2_comp30_struct1_vac_site3_start.vasp\n",
      "Created VASP job for supercell_gen2_comp30_struct1_vac_site3_start.vasp in ../Archived_Vasp_Jobs/VCrTiWZr_Summit/Gen_0-2/Vacancies/supercell_gen2_comp30_struct1_vac_site3_start\n",
      "Processing file: supercell_gen0_comp9_struct2_vac_site3_start.vasp\n",
      "Created VASP job for supercell_gen0_comp9_struct2_vac_site3_start.vasp in ../Archived_Vasp_Jobs/VCrTiWZr_Summit/Gen_0-2/Vacancies/supercell_gen0_comp9_struct2_vac_site3_start\n",
      "Processing file: supercell_gen1_comp22_struct1_vac_site2_start.vasp\n",
      "Created VASP job for supercell_gen1_comp22_struct1_vac_site2_start.vasp in ../Archived_Vasp_Jobs/VCrTiWZr_Summit/Gen_0-2/Vacancies/supercell_gen1_comp22_struct1_vac_site2_start\n",
      "Processing file: supercell_gen2_comp31_struct1_vac_site0_start.vasp\n",
      "Created VASP job for supercell_gen2_comp31_struct1_vac_site0_start.vasp in ../Archived_Vasp_Jobs/VCrTiWZr_Summit/Gen_0-2/Vacancies/supercell_gen2_comp31_struct1_vac_site0_start\n",
      "Processing file: supercell_gen2_comp31_struct3_vac_site4_start.vasp\n",
      "Created VASP job for supercell_gen2_comp31_struct3_vac_site4_start.vasp in ../Archived_Vasp_Jobs/VCrTiWZr_Summit/Gen_0-2/Vacancies/supercell_gen2_comp31_struct3_vac_site4_start\n",
      "Processing file: supercell_gen1_comp20_struct3_vac_site0_start.vasp\n",
      "Created VASP job for supercell_gen1_comp20_struct3_vac_site0_start.vasp in ../Archived_Vasp_Jobs/VCrTiWZr_Summit/Gen_0-2/Vacancies/supercell_gen1_comp20_struct3_vac_site0_start\n",
      "Processing file: supercell_gen1_comp21_struct3_vac_site3_start.vasp\n",
      "Created VASP job for supercell_gen1_comp21_struct3_vac_site3_start.vasp in ../Archived_Vasp_Jobs/VCrTiWZr_Summit/Gen_0-2/Vacancies/supercell_gen1_comp21_struct3_vac_site3_start\n",
      "Processing file: supercell_gen2_comp32_struct3_vac_site1_start.vasp\n",
      "Created VASP job for supercell_gen2_comp32_struct3_vac_site1_start.vasp in ../Archived_Vasp_Jobs/VCrTiWZr_Summit/Gen_0-2/Vacancies/supercell_gen2_comp32_struct3_vac_site1_start\n",
      "Processing file: supercell_gen2_comp27_struct3_vac_site1_start.vasp\n",
      "Created VASP job for supercell_gen2_comp27_struct3_vac_site1_start.vasp in ../Archived_Vasp_Jobs/VCrTiWZr_Summit/Gen_0-2/Vacancies/supercell_gen2_comp27_struct3_vac_site1_start\n",
      "Processing file: supercell_gen2_comp28_struct3_vac_site2_start.vasp\n",
      "Created VASP job for supercell_gen2_comp28_struct3_vac_site2_start.vasp in ../Archived_Vasp_Jobs/VCrTiWZr_Summit/Gen_0-2/Vacancies/supercell_gen2_comp28_struct3_vac_site2_start\n",
      "Processing file: supercell_gen2_comp26_struct3_vac_site2_start.vasp\n",
      "Created VASP job for supercell_gen2_comp26_struct3_vac_site2_start.vasp in ../Archived_Vasp_Jobs/VCrTiWZr_Summit/Gen_0-2/Vacancies/supercell_gen2_comp26_struct3_vac_site2_start\n",
      "Processing file: supercell_gen0_comp1_struct3_vac_site3_start.vasp\n",
      "Created VASP job for supercell_gen0_comp1_struct3_vac_site3_start.vasp in ../Archived_Vasp_Jobs/VCrTiWZr_Summit/Gen_0-2/Vacancies/supercell_gen0_comp1_struct3_vac_site3_start\n",
      "Processing file: supercell_gen1_comp15_struct2_vac_site3_start.vasp\n",
      "Created VASP job for supercell_gen1_comp15_struct2_vac_site3_start.vasp in ../Archived_Vasp_Jobs/VCrTiWZr_Summit/Gen_0-2/Vacancies/supercell_gen1_comp15_struct2_vac_site3_start\n",
      "Processing file: supercell_gen1_comp14_struct2_vac_site0_start.vasp\n",
      "Created VASP job for supercell_gen1_comp14_struct2_vac_site0_start.vasp in ../Archived_Vasp_Jobs/VCrTiWZr_Summit/Gen_0-2/Vacancies/supercell_gen1_comp14_struct2_vac_site0_start\n",
      "Processing file: supercell_gen2_comp24_struct3_vac_site4_start.vasp\n",
      "Created VASP job for supercell_gen2_comp24_struct3_vac_site4_start.vasp in ../Archived_Vasp_Jobs/VCrTiWZr_Summit/Gen_0-2/Vacancies/supercell_gen2_comp24_struct3_vac_site4_start\n",
      "Processing file: supercell_gen1_comp20_struct1_vac_site1_start.vasp\n",
      "Created VASP job for supercell_gen1_comp20_struct1_vac_site1_start.vasp in ../Archived_Vasp_Jobs/VCrTiWZr_Summit/Gen_0-2/Vacancies/supercell_gen1_comp20_struct1_vac_site1_start\n",
      "Processing file: supercell_gen0_comp5_struct2_vac_site0_start.vasp\n",
      "Created VASP job for supercell_gen0_comp5_struct2_vac_site0_start.vasp in ../Archived_Vasp_Jobs/VCrTiWZr_Summit/Gen_0-2/Vacancies/supercell_gen0_comp5_struct2_vac_site0_start\n",
      "Processing file: supercell_gen0_comp12_struct2_vac_site3_start.vasp\n",
      "Created VASP job for supercell_gen0_comp12_struct2_vac_site3_start.vasp in ../Archived_Vasp_Jobs/VCrTiWZr_Summit/Gen_0-2/Vacancies/supercell_gen0_comp12_struct2_vac_site3_start\n",
      "Processing file: supercell_gen1_comp21_struct1_vac_site2_start.vasp\n",
      "Created VASP job for supercell_gen1_comp21_struct1_vac_site2_start.vasp in ../Archived_Vasp_Jobs/VCrTiWZr_Summit/Gen_0-2/Vacancies/supercell_gen1_comp21_struct1_vac_site2_start\n",
      "Processing file: supercell_gen2_comp32_struct1_vac_site0_start.vasp\n",
      "Created VASP job for supercell_gen2_comp32_struct1_vac_site0_start.vasp in ../Archived_Vasp_Jobs/VCrTiWZr_Summit/Gen_0-2/Vacancies/supercell_gen2_comp32_struct1_vac_site0_start\n",
      "Processing file: supercell_gen2_comp23_struct2_vac_site2_start.vasp\n",
      "Created VASP job for supercell_gen2_comp23_struct2_vac_site2_start.vasp in ../Archived_Vasp_Jobs/VCrTiWZr_Summit/Gen_0-2/Vacancies/supercell_gen2_comp23_struct2_vac_site2_start\n",
      "Processing file: supercell_gen0_comp3_struct1_vac_site4_start.vasp\n",
      "Created VASP job for supercell_gen0_comp3_struct1_vac_site4_start.vasp in ../Archived_Vasp_Jobs/VCrTiWZr_Summit/Gen_0-2/Vacancies/supercell_gen0_comp3_struct1_vac_site4_start\n",
      "Processing file: supercell_gen2_comp27_struct1_vac_site0_start.vasp\n",
      "Created VASP job for supercell_gen2_comp27_struct1_vac_site0_start.vasp in ../Archived_Vasp_Jobs/VCrTiWZr_Summit/Gen_0-2/Vacancies/supercell_gen2_comp27_struct1_vac_site0_start\n",
      "Processing file: supercell_gen2_comp28_struct1_vac_site3_start.vasp\n",
      "Created VASP job for supercell_gen2_comp28_struct1_vac_site3_start.vasp in ../Archived_Vasp_Jobs/VCrTiWZr_Summit/Gen_0-2/Vacancies/supercell_gen2_comp28_struct1_vac_site3_start\n",
      "Processing file: supercell_gen2_comp26_struct1_vac_site3_start.vasp\n",
      "Created VASP job for supercell_gen2_comp26_struct1_vac_site3_start.vasp in ../Archived_Vasp_Jobs/VCrTiWZr_Summit/Gen_0-2/Vacancies/supercell_gen2_comp26_struct1_vac_site3_start\n",
      "Processing file: supercell_gen2_comp29_struct1_vac_site0_start.vasp\n",
      "Created VASP job for supercell_gen2_comp29_struct1_vac_site0_start.vasp in ../Archived_Vasp_Jobs/VCrTiWZr_Summit/Gen_0-2/Vacancies/supercell_gen2_comp29_struct1_vac_site0_start\n",
      "Processing file: supercell_gen0_comp1_struct1_vac_site2_start.vasp\n",
      "Created VASP job for supercell_gen0_comp1_struct1_vac_site2_start.vasp in ../Archived_Vasp_Jobs/VCrTiWZr_Summit/Gen_0-2/Vacancies/supercell_gen0_comp1_struct1_vac_site2_start\n",
      "Processing file: supercell_gen1_comp14_struct1_vac_site3_start.vasp\n",
      "Created VASP job for supercell_gen1_comp14_struct1_vac_site3_start.vasp in ../Archived_Vasp_Jobs/VCrTiWZr_Summit/Gen_0-2/Vacancies/supercell_gen1_comp14_struct1_vac_site3_start\n",
      "Processing file: supercell_gen1_comp15_struct1_vac_site0_start.vasp\n",
      "Created VASP job for supercell_gen1_comp15_struct1_vac_site0_start.vasp in ../Archived_Vasp_Jobs/VCrTiWZr_Summit/Gen_0-2/Vacancies/supercell_gen1_comp15_struct1_vac_site0_start\n",
      "Processing file: supercell_gen0_comp11_struct3_vac_site4_start.vasp\n",
      "Created VASP job for supercell_gen0_comp11_struct3_vac_site4_start.vasp in ../Archived_Vasp_Jobs/VCrTiWZr_Summit/Gen_0-2/Vacancies/supercell_gen0_comp11_struct3_vac_site4_start\n",
      "Processing file: supercell_gen0_comp9_struct3_vac_site4_start.vasp\n",
      "Created VASP job for supercell_gen0_comp9_struct3_vac_site4_start.vasp in ../Archived_Vasp_Jobs/VCrTiWZr_Summit/Gen_0-2/Vacancies/supercell_gen0_comp9_struct3_vac_site4_start\n",
      "Processing file: supercell_gen0_comp7_struct3_vac_site4_start.vasp\n",
      "Created VASP job for supercell_gen0_comp7_struct3_vac_site4_start.vasp in ../Archived_Vasp_Jobs/VCrTiWZr_Summit/Gen_0-2/Vacancies/supercell_gen0_comp7_struct3_vac_site4_start\n",
      "Processing file: supercell_gen1_comp13_struct2_vac_site4_start.vasp\n",
      "Created VASP job for supercell_gen1_comp13_struct2_vac_site4_start.vasp in ../Archived_Vasp_Jobs/VCrTiWZr_Summit/Gen_0-2/Vacancies/supercell_gen1_comp13_struct2_vac_site4_start\n",
      "Processing file: supercell_gen0_comp4_struct3_vac_site1_start.vasp\n",
      "Created VASP job for supercell_gen0_comp4_struct3_vac_site1_start.vasp in ../Archived_Vasp_Jobs/VCrTiWZr_Summit/Gen_0-2/Vacancies/supercell_gen0_comp4_struct3_vac_site1_start\n",
      "Processing file: supercell_gen2_comp23_struct3_vac_site0_start.vasp\n",
      "Created VASP job for supercell_gen2_comp23_struct3_vac_site0_start.vasp in ../Archived_Vasp_Jobs/VCrTiWZr_Summit/Gen_0-2/Vacancies/supercell_gen2_comp23_struct3_vac_site0_start\n",
      "Processing file: supercell_gen0_comp12_struct3_vac_site1_start.vasp\n",
      "Created VASP job for supercell_gen0_comp12_struct3_vac_site1_start.vasp in ../Archived_Vasp_Jobs/VCrTiWZr_Summit/Gen_0-2/Vacancies/supercell_gen0_comp12_struct3_vac_site1_start\n",
      "Processing file: supercell_gen0_comp5_struct3_vac_site2_start.vasp\n",
      "Created VASP job for supercell_gen0_comp5_struct3_vac_site2_start.vasp in ../Archived_Vasp_Jobs/VCrTiWZr_Summit/Gen_0-2/Vacancies/supercell_gen0_comp5_struct3_vac_site2_start\n",
      "Processing file: supercell_gen1_comp14_struct3_vac_site2_start.vasp\n",
      "Created VASP job for supercell_gen1_comp14_struct3_vac_site2_start.vasp in ../Archived_Vasp_Jobs/VCrTiWZr_Summit/Gen_0-2/Vacancies/supercell_gen1_comp14_struct3_vac_site2_start\n",
      "Processing file: supercell_gen0_comp2_struct2_vac_site4_start.vasp\n",
      "Created VASP job for supercell_gen0_comp2_struct2_vac_site4_start.vasp in ../Archived_Vasp_Jobs/VCrTiWZr_Summit/Gen_0-2/Vacancies/supercell_gen0_comp2_struct2_vac_site4_start\n",
      "Processing file: supercell_gen1_comp15_struct3_vac_site1_start.vasp\n",
      "Created VASP job for supercell_gen1_comp15_struct3_vac_site1_start.vasp in ../Archived_Vasp_Jobs/VCrTiWZr_Summit/Gen_0-2/Vacancies/supercell_gen1_comp15_struct3_vac_site1_start\n",
      "Processing file: supercell_gen2_comp29_struct2_vac_site3_start.vasp\n",
      "Created VASP job for supercell_gen2_comp29_struct2_vac_site3_start.vasp in ../Archived_Vasp_Jobs/VCrTiWZr_Summit/Gen_0-2/Vacancies/supercell_gen2_comp29_struct2_vac_site3_start\n",
      "Processing file: supercell_gen2_comp26_struct2_vac_site0_start.vasp\n",
      "Created VASP job for supercell_gen2_comp26_struct2_vac_site0_start.vasp in ../Archived_Vasp_Jobs/VCrTiWZr_Summit/Gen_0-2/Vacancies/supercell_gen2_comp26_struct2_vac_site0_start\n",
      "Processing file: supercell_gen0_comp1_struct2_vac_site1_start.vasp\n",
      "Created VASP job for supercell_gen0_comp1_struct2_vac_site1_start.vasp in ../Archived_Vasp_Jobs/VCrTiWZr_Summit/Gen_0-2/Vacancies/supercell_gen0_comp1_struct2_vac_site1_start\n",
      "Processing file: supercell_gen1_comp16_struct3_vac_site4_start.vasp\n",
      "Created VASP job for supercell_gen1_comp16_struct3_vac_site4_start.vasp in ../Archived_Vasp_Jobs/VCrTiWZr_Summit/Gen_0-2/Vacancies/supercell_gen1_comp16_struct3_vac_site4_start\n",
      "Processing file: supercell_gen2_comp28_struct2_vac_site0_start.vasp\n",
      "Created VASP job for supercell_gen2_comp28_struct2_vac_site0_start.vasp in ../Archived_Vasp_Jobs/VCrTiWZr_Summit/Gen_0-2/Vacancies/supercell_gen2_comp28_struct2_vac_site0_start\n",
      "Processing file: supercell_gen2_comp27_struct2_vac_site3_start.vasp\n",
      "Created VASP job for supercell_gen2_comp27_struct2_vac_site3_start.vasp in ../Archived_Vasp_Jobs/VCrTiWZr_Summit/Gen_0-2/Vacancies/supercell_gen2_comp27_struct2_vac_site3_start\n",
      "Processing file: supercell_gen1_comp18_struct3_vac_site4_start.vasp\n",
      "Created VASP job for supercell_gen1_comp18_struct3_vac_site4_start.vasp in ../Archived_Vasp_Jobs/VCrTiWZr_Summit/Gen_0-2/Vacancies/supercell_gen1_comp18_struct3_vac_site4_start\n",
      "Processing file: supercell_gen2_comp23_struct1_vac_site1_start.vasp\n",
      "Created VASP job for supercell_gen2_comp23_struct1_vac_site1_start.vasp in ../Archived_Vasp_Jobs/VCrTiWZr_Summit/Gen_0-2/Vacancies/supercell_gen2_comp23_struct1_vac_site1_start\n",
      "Processing file: supercell_gen2_comp32_struct2_vac_site3_start.vasp\n",
      "Created VASP job for supercell_gen2_comp32_struct2_vac_site3_start.vasp in ../Archived_Vasp_Jobs/VCrTiWZr_Summit/Gen_0-2/Vacancies/supercell_gen2_comp32_struct2_vac_site3_start\n",
      "Processing file: supercell_gen1_comp21_struct2_vac_site1_start.vasp\n",
      "Created VASP job for supercell_gen1_comp21_struct2_vac_site1_start.vasp in ../Archived_Vasp_Jobs/VCrTiWZr_Summit/Gen_0-2/Vacancies/supercell_gen1_comp21_struct2_vac_site1_start\n",
      "Processing file: supercell_gen1_comp20_struct2_vac_site2_start.vasp\n",
      "Created VASP job for supercell_gen1_comp20_struct2_vac_site2_start.vasp in ../Archived_Vasp_Jobs/VCrTiWZr_Summit/Gen_0-2/Vacancies/supercell_gen1_comp20_struct2_vac_site2_start\n",
      "Processing file: supercell_gen1_comp22_struct2_vac_site4_start.vasp\n",
      "Created VASP job for supercell_gen1_comp22_struct2_vac_site4_start.vasp in ../Archived_Vasp_Jobs/VCrTiWZr_Summit/Gen_0-2/Vacancies/supercell_gen1_comp22_struct2_vac_site4_start\n",
      "Processing file: supercell_gen2_comp32_struct2_vac_site4_start.vasp\n",
      "Created VASP job for supercell_gen2_comp32_struct2_vac_site4_start.vasp in ../Archived_Vasp_Jobs/VCrTiWZr_Summit/Gen_0-2/Vacancies/supercell_gen2_comp32_struct2_vac_site4_start\n",
      "Processing file: supercell_gen0_comp10_struct1_vac_site1_start.vasp\n",
      "Created VASP job for supercell_gen0_comp10_struct1_vac_site1_start.vasp in ../Archived_Vasp_Jobs/VCrTiWZr_Summit/Gen_0-2/Vacancies/supercell_gen0_comp10_struct1_vac_site1_start\n",
      "Processing file: supercell_gen2_comp31_struct2_vac_site1_start.vasp\n",
      "Created VASP job for supercell_gen2_comp31_struct2_vac_site1_start.vasp in ../Archived_Vasp_Jobs/VCrTiWZr_Summit/Gen_0-2/Vacancies/supercell_gen2_comp31_struct2_vac_site1_start\n",
      "Processing file: supercell_gen1_comp22_struct2_vac_site3_start.vasp\n",
      "Created VASP job for supercell_gen1_comp22_struct2_vac_site3_start.vasp in ../Archived_Vasp_Jobs/VCrTiWZr_Summit/Gen_0-2/Vacancies/supercell_gen1_comp22_struct2_vac_site3_start\n",
      "Processing file: supercell_gen0_comp8_struct1_vac_site1_start.vasp\n",
      "Created VASP job for supercell_gen0_comp8_struct1_vac_site1_start.vasp in ../Archived_Vasp_Jobs/VCrTiWZr_Summit/Gen_0-2/Vacancies/supercell_gen0_comp8_struct1_vac_site1_start\n",
      "Processing file: supercell_gen0_comp11_struct1_vac_site2_start.vasp\n",
      "Created VASP job for supercell_gen0_comp11_struct1_vac_site2_start.vasp in ../Archived_Vasp_Jobs/VCrTiWZr_Summit/Gen_0-2/Vacancies/supercell_gen0_comp11_struct1_vac_site2_start\n",
      "Processing file: supercell_gen2_comp30_struct2_vac_site2_start.vasp\n",
      "Created VASP job for supercell_gen2_comp30_struct2_vac_site2_start.vasp in ../Archived_Vasp_Jobs/VCrTiWZr_Summit/Gen_0-2/Vacancies/supercell_gen2_comp30_struct2_vac_site2_start\n",
      "Processing file: supercell_gen0_comp9_struct1_vac_site2_start.vasp\n",
      "Created VASP job for supercell_gen0_comp9_struct1_vac_site2_start.vasp in ../Archived_Vasp_Jobs/VCrTiWZr_Summit/Gen_0-2/Vacancies/supercell_gen0_comp9_struct1_vac_site2_start\n",
      "Processing file: supercell_gen0_comp2_struct2_vac_site3_start.vasp\n",
      "Created VASP job for supercell_gen0_comp2_struct2_vac_site3_start.vasp in ../Archived_Vasp_Jobs/VCrTiWZr_Summit/Gen_0-2/Vacancies/supercell_gen0_comp2_struct2_vac_site3_start\n",
      "Processing file: supercell_gen2_comp25_struct2_vac_site2_start.vasp\n",
      "Created VASP job for supercell_gen2_comp25_struct2_vac_site2_start.vasp in ../Archived_Vasp_Jobs/VCrTiWZr_Summit/Gen_0-2/Vacancies/supercell_gen2_comp25_struct2_vac_site2_start\n",
      "Processing file: supercell_gen0_comp3_struct2_vac_site0_start.vasp\n",
      "Created VASP job for supercell_gen0_comp3_struct2_vac_site0_start.vasp in ../Archived_Vasp_Jobs/VCrTiWZr_Summit/Gen_0-2/Vacancies/supercell_gen0_comp3_struct2_vac_site0_start\n",
      "Processing file: supercell_gen2_comp24_struct2_vac_site1_start.vasp\n",
      "Created VASP job for supercell_gen2_comp24_struct2_vac_site1_start.vasp in ../Archived_Vasp_Jobs/VCrTiWZr_Summit/Gen_0-2/Vacancies/supercell_gen2_comp24_struct2_vac_site1_start\n",
      "Processing file: supercell_gen2_comp27_struct2_vac_site4_start.vasp\n",
      "Created VASP job for supercell_gen2_comp27_struct2_vac_site4_start.vasp in ../Archived_Vasp_Jobs/VCrTiWZr_Summit/Gen_0-2/Vacancies/supercell_gen2_comp27_struct2_vac_site4_start\n",
      "Processing file: supercell_gen1_comp17_struct3_vac_site0_start.vasp\n",
      "Created VASP job for supercell_gen1_comp17_struct3_vac_site0_start.vasp in ../Archived_Vasp_Jobs/VCrTiWZr_Summit/Gen_0-2/Vacancies/supercell_gen1_comp17_struct3_vac_site0_start\n",
      "Processing file: supercell_gen1_comp18_struct3_vac_site3_start.vasp\n",
      "Created VASP job for supercell_gen1_comp18_struct3_vac_site3_start.vasp in ../Archived_Vasp_Jobs/VCrTiWZr_Summit/Gen_0-2/Vacancies/supercell_gen1_comp18_struct3_vac_site3_start\n",
      "Processing file: supercell_gen2_comp29_struct2_vac_site4_start.vasp\n",
      "Created VASP job for supercell_gen2_comp29_struct2_vac_site4_start.vasp in ../Archived_Vasp_Jobs/VCrTiWZr_Summit/Gen_0-2/Vacancies/supercell_gen2_comp29_struct2_vac_site4_start\n",
      "Processing file: supercell_gen1_comp16_struct3_vac_site3_start.vasp\n",
      "Created VASP job for supercell_gen1_comp16_struct3_vac_site3_start.vasp in ../Archived_Vasp_Jobs/VCrTiWZr_Summit/Gen_0-2/Vacancies/supercell_gen1_comp16_struct3_vac_site3_start\n",
      "Processing file: supercell_gen1_comp19_struct3_vac_site0_start.vasp\n",
      "Created VASP job for supercell_gen1_comp19_struct3_vac_site0_start.vasp in ../Archived_Vasp_Jobs/VCrTiWZr_Summit/Gen_0-2/Vacancies/supercell_gen1_comp19_struct3_vac_site0_start\n",
      "Processing file: supercell_gen0_comp10_struct3_vac_site0_start.vasp\n",
      "Created VASP job for supercell_gen0_comp10_struct3_vac_site0_start.vasp in ../Archived_Vasp_Jobs/VCrTiWZr_Summit/Gen_0-2/Vacancies/supercell_gen0_comp10_struct3_vac_site0_start\n",
      "Processing file: supercell_gen0_comp7_struct3_vac_site3_start.vasp\n",
      "Created VASP job for supercell_gen0_comp7_struct3_vac_site3_start.vasp in ../Archived_Vasp_Jobs/VCrTiWZr_Summit/Gen_0-2/Vacancies/supercell_gen0_comp7_struct3_vac_site3_start\n",
      "Processing file: supercell_gen0_comp8_struct3_vac_site0_start.vasp\n",
      "Created VASP job for supercell_gen0_comp8_struct3_vac_site0_start.vasp in ../Archived_Vasp_Jobs/VCrTiWZr_Summit/Gen_0-2/Vacancies/supercell_gen0_comp8_struct3_vac_site0_start\n",
      "Processing file: supercell_gen0_comp11_struct3_vac_site3_start.vasp\n",
      "Created VASP job for supercell_gen0_comp11_struct3_vac_site3_start.vasp in ../Archived_Vasp_Jobs/VCrTiWZr_Summit/Gen_0-2/Vacancies/supercell_gen0_comp11_struct3_vac_site3_start\n",
      "Processing file: supercell_gen0_comp6_struct3_vac_site0_start.vasp\n",
      "Created VASP job for supercell_gen0_comp6_struct3_vac_site0_start.vasp in ../Archived_Vasp_Jobs/VCrTiWZr_Summit/Gen_0-2/Vacancies/supercell_gen0_comp6_struct3_vac_site0_start\n",
      "Processing file: supercell_gen0_comp9_struct3_vac_site3_start.vasp\n",
      "Created VASP job for supercell_gen0_comp9_struct3_vac_site3_start.vasp in ../Archived_Vasp_Jobs/VCrTiWZr_Summit/Gen_0-2/Vacancies/supercell_gen0_comp9_struct3_vac_site3_start\n",
      "Processing file: supercell_gen1_comp13_struct2_vac_site3_start.vasp\n",
      "Created VASP job for supercell_gen1_comp13_struct2_vac_site3_start.vasp in ../Archived_Vasp_Jobs/VCrTiWZr_Summit/Gen_0-2/Vacancies/supercell_gen1_comp13_struct2_vac_site3_start\n",
      "Processing file: supercell_gen1_comp17_struct1_vac_site1_start.vasp\n",
      "Created VASP job for supercell_gen1_comp17_struct1_vac_site1_start.vasp in ../Archived_Vasp_Jobs/VCrTiWZr_Summit/Gen_0-2/Vacancies/supercell_gen1_comp17_struct1_vac_site1_start\n",
      "Processing file: supercell_gen1_comp18_struct1_vac_site2_start.vasp\n",
      "Created VASP job for supercell_gen1_comp18_struct1_vac_site2_start.vasp in ../Archived_Vasp_Jobs/VCrTiWZr_Summit/Gen_0-2/Vacancies/supercell_gen1_comp18_struct1_vac_site2_start\n",
      "Processing file: supercell_gen1_comp16_struct1_vac_site2_start.vasp\n",
      "Created VASP job for supercell_gen1_comp16_struct1_vac_site2_start.vasp in ../Archived_Vasp_Jobs/VCrTiWZr_Summit/Gen_0-2/Vacancies/supercell_gen1_comp16_struct1_vac_site2_start\n",
      "Processing file: supercell_gen1_comp19_struct1_vac_site1_start.vasp\n",
      "Created VASP job for supercell_gen1_comp19_struct1_vac_site1_start.vasp in ../Archived_Vasp_Jobs/VCrTiWZr_Summit/Gen_0-2/Vacancies/supercell_gen1_comp19_struct1_vac_site1_start\n",
      "Processing file: supercell_gen1_comp14_struct1_vac_site4_start.vasp\n",
      "Created VASP job for supercell_gen1_comp14_struct1_vac_site4_start.vasp in ../Archived_Vasp_Jobs/VCrTiWZr_Summit/Gen_0-2/Vacancies/supercell_gen1_comp14_struct1_vac_site4_start\n",
      "Processing file: supercell_gen0_comp3_struct1_vac_site3_start.vasp\n",
      "Created VASP job for supercell_gen0_comp3_struct1_vac_site3_start.vasp in ../Archived_Vasp_Jobs/VCrTiWZr_Summit/Gen_0-2/Vacancies/supercell_gen0_comp3_struct1_vac_site3_start\n",
      "Processing file: supercell_gen2_comp24_struct1_vac_site2_start.vasp\n",
      "Created VASP job for supercell_gen2_comp24_struct1_vac_site2_start.vasp in ../Archived_Vasp_Jobs/VCrTiWZr_Summit/Gen_0-2/Vacancies/supercell_gen2_comp24_struct1_vac_site2_start\n",
      "Processing file: supercell_gen0_comp2_struct1_vac_site0_start.vasp\n",
      "Created VASP job for supercell_gen0_comp2_struct1_vac_site0_start.vasp in ../Archived_Vasp_Jobs/VCrTiWZr_Summit/Gen_0-2/Vacancies/supercell_gen0_comp2_struct1_vac_site0_start\n",
      "Processing file: supercell_gen2_comp25_struct1_vac_site1_start.vasp\n",
      "Created VASP job for supercell_gen2_comp25_struct1_vac_site1_start.vasp in ../Archived_Vasp_Jobs/VCrTiWZr_Summit/Gen_0-2/Vacancies/supercell_gen2_comp25_struct1_vac_site1_start\n",
      "Processing file: supercell_gen2_comp26_struct1_vac_site4_start.vasp\n",
      "Created VASP job for supercell_gen2_comp26_struct1_vac_site4_start.vasp in ../Archived_Vasp_Jobs/VCrTiWZr_Summit/Gen_0-2/Vacancies/supercell_gen2_comp26_struct1_vac_site4_start\n",
      "Processing file: supercell_gen2_comp28_struct1_vac_site4_start.vasp\n",
      "Created VASP job for supercell_gen2_comp28_struct1_vac_site4_start.vasp in ../Archived_Vasp_Jobs/VCrTiWZr_Summit/Gen_0-2/Vacancies/supercell_gen2_comp28_struct1_vac_site4_start\n",
      "Processing file: supercell_gen0_comp12_struct2_vac_site4_start.vasp\n",
      "Created VASP job for supercell_gen0_comp12_struct2_vac_site4_start.vasp in ../Archived_Vasp_Jobs/VCrTiWZr_Summit/Gen_0-2/Vacancies/supercell_gen0_comp12_struct2_vac_site4_start\n",
      "Processing file: supercell_gen0_comp9_struct2_vac_site1_start.vasp\n",
      "Created VASP job for supercell_gen0_comp9_struct2_vac_site1_start.vasp in ../Archived_Vasp_Jobs/VCrTiWZr_Summit/Gen_0-2/Vacancies/supercell_gen0_comp9_struct2_vac_site1_start\n",
      "Processing file: supercell_gen2_comp30_struct1_vac_site1_start.vasp\n",
      "Created VASP job for supercell_gen2_comp30_struct1_vac_site1_start.vasp in ../Archived_Vasp_Jobs/VCrTiWZr_Summit/Gen_0-2/Vacancies/supercell_gen2_comp30_struct1_vac_site1_start\n",
      "Processing file: supercell_gen0_comp11_struct2_vac_site1_start.vasp\n",
      "Created VASP job for supercell_gen0_comp11_struct2_vac_site1_start.vasp in ../Archived_Vasp_Jobs/VCrTiWZr_Summit/Gen_0-2/Vacancies/supercell_gen0_comp11_struct2_vac_site1_start\n",
      "Processing file: supercell_gen1_comp22_struct1_vac_site0_start.vasp\n",
      "Created VASP job for supercell_gen1_comp22_struct1_vac_site0_start.vasp in ../Archived_Vasp_Jobs/VCrTiWZr_Summit/Gen_0-2/Vacancies/supercell_gen1_comp22_struct1_vac_site0_start\n",
      "Processing file: supercell_gen2_comp31_struct1_vac_site2_start.vasp\n",
      "Created VASP job for supercell_gen2_comp31_struct1_vac_site2_start.vasp in ../Archived_Vasp_Jobs/VCrTiWZr_Summit/Gen_0-2/Vacancies/supercell_gen2_comp31_struct1_vac_site2_start\n",
      "Processing file: supercell_gen1_comp19_struct2_vac_site2_start.vasp\n",
      "Created VASP job for supercell_gen1_comp19_struct2_vac_site2_start.vasp in ../Archived_Vasp_Jobs/VCrTiWZr_Summit/Gen_0-2/Vacancies/supercell_gen1_comp19_struct2_vac_site2_start\n",
      "Processing file: supercell_gen1_comp16_struct2_vac_site1_start.vasp\n",
      "Created VASP job for supercell_gen1_comp16_struct2_vac_site1_start.vasp in ../Archived_Vasp_Jobs/VCrTiWZr_Summit/Gen_0-2/Vacancies/supercell_gen1_comp16_struct2_vac_site1_start\n",
      "Processing file: supercell_gen0_comp1_struct3_vac_site4_start.vasp\n",
      "Created VASP job for supercell_gen0_comp1_struct3_vac_site4_start.vasp in ../Archived_Vasp_Jobs/VCrTiWZr_Summit/Gen_0-2/Vacancies/supercell_gen0_comp1_struct3_vac_site4_start\n",
      "Processing file: supercell_gen1_comp18_struct2_vac_site1_start.vasp\n",
      "Created VASP job for supercell_gen1_comp18_struct2_vac_site1_start.vasp in ../Archived_Vasp_Jobs/VCrTiWZr_Summit/Gen_0-2/Vacancies/supercell_gen1_comp18_struct2_vac_site1_start\n",
      "Processing file: supercell_gen1_comp17_struct2_vac_site2_start.vasp\n",
      "Created VASP job for supercell_gen1_comp17_struct2_vac_site2_start.vasp in ../Archived_Vasp_Jobs/VCrTiWZr_Summit/Gen_0-2/Vacancies/supercell_gen1_comp17_struct2_vac_site2_start\n",
      "Processing file: supercell_gen0_comp3_struct3_vac_site2_start.vasp\n",
      "Created VASP job for supercell_gen0_comp3_struct3_vac_site2_start.vasp in ../Archived_Vasp_Jobs/VCrTiWZr_Summit/Gen_0-2/Vacancies/supercell_gen0_comp3_struct3_vac_site2_start\n",
      "Processing file: supercell_gen2_comp24_struct3_vac_site3_start.vasp\n",
      "Created VASP job for supercell_gen2_comp24_struct3_vac_site3_start.vasp in ../Archived_Vasp_Jobs/VCrTiWZr_Summit/Gen_0-2/Vacancies/supercell_gen2_comp24_struct3_vac_site3_start\n",
      "Processing file: supercell_gen1_comp15_struct2_vac_site4_start.vasp\n",
      "Created VASP job for supercell_gen1_comp15_struct2_vac_site4_start.vasp in ../Archived_Vasp_Jobs/VCrTiWZr_Summit/Gen_0-2/Vacancies/supercell_gen1_comp15_struct2_vac_site4_start\n",
      "Processing file: supercell_gen0_comp2_struct3_vac_site1_start.vasp\n",
      "Created VASP job for supercell_gen0_comp2_struct3_vac_site1_start.vasp in ../Archived_Vasp_Jobs/VCrTiWZr_Summit/Gen_0-2/Vacancies/supercell_gen0_comp2_struct3_vac_site1_start\n",
      "Processing file: supercell_gen2_comp25_struct3_vac_site0_start.vasp\n",
      "Created VASP job for supercell_gen2_comp25_struct3_vac_site0_start.vasp in ../Archived_Vasp_Jobs/VCrTiWZr_Summit/Gen_0-2/Vacancies/supercell_gen2_comp25_struct3_vac_site0_start\n",
      "Processing file: supercell_gen2_comp30_struct3_vac_site0_start.vasp\n",
      "Created VASP job for supercell_gen2_comp30_struct3_vac_site0_start.vasp in ../Archived_Vasp_Jobs/VCrTiWZr_Summit/Gen_0-2/Vacancies/supercell_gen2_comp30_struct3_vac_site0_start\n",
      "Processing file: supercell_gen1_comp22_struct3_vac_site1_start.vasp\n",
      "Created VASP job for supercell_gen1_comp22_struct3_vac_site1_start.vasp in ../Archived_Vasp_Jobs/VCrTiWZr_Summit/Gen_0-2/Vacancies/supercell_gen1_comp22_struct3_vac_site1_start\n",
      "Processing file: supercell_gen2_comp31_struct3_vac_site3_start.vasp\n",
      "Created VASP job for supercell_gen2_comp31_struct3_vac_site3_start.vasp in ../Archived_Vasp_Jobs/VCrTiWZr_Summit/Gen_0-2/Vacancies/supercell_gen2_comp31_struct3_vac_site3_start\n",
      "Processing file: supercell_gen1_comp13_struct1_vac_site0_start.vasp\n",
      "Created VASP job for supercell_gen1_comp13_struct1_vac_site0_start.vasp in ../Archived_Vasp_Jobs/VCrTiWZr_Summit/Gen_0-2/Vacancies/supercell_gen1_comp13_struct1_vac_site0_start\n",
      "Processing file: supercell_gen1_comp21_struct3_vac_site4_start.vasp\n",
      "Created VASP job for supercell_gen1_comp21_struct3_vac_site4_start.vasp in ../Archived_Vasp_Jobs/VCrTiWZr_Summit/Gen_0-2/Vacancies/supercell_gen1_comp21_struct3_vac_site4_start\n",
      "Processing file: supercell_gen0_comp12_struct2_vac_site1_start.vasp\n",
      "Created VASP job for supercell_gen0_comp12_struct2_vac_site1_start.vasp in ../Archived_Vasp_Jobs/VCrTiWZr_Summit/Gen_0-2/Vacancies/supercell_gen0_comp12_struct2_vac_site1_start\n",
      "Processing file: supercell_gen0_comp5_struct2_vac_site2_start.vasp\n",
      "Created VASP job for supercell_gen0_comp5_struct2_vac_site2_start.vasp in ../Archived_Vasp_Jobs/VCrTiWZr_Summit/Gen_0-2/Vacancies/supercell_gen0_comp5_struct2_vac_site2_start\n",
      "Processing file: supercell_gen1_comp20_struct1_vac_site3_start.vasp\n",
      "Created VASP job for supercell_gen1_comp20_struct1_vac_site3_start.vasp in ../Archived_Vasp_Jobs/VCrTiWZr_Summit/Gen_0-2/Vacancies/supercell_gen1_comp20_struct1_vac_site3_start\n",
      "Processing file: supercell_gen2_comp23_struct2_vac_site0_start.vasp\n",
      "Created VASP job for supercell_gen2_comp23_struct2_vac_site0_start.vasp in ../Archived_Vasp_Jobs/VCrTiWZr_Summit/Gen_0-2/Vacancies/supercell_gen2_comp23_struct2_vac_site0_start\n",
      "Processing file: supercell_gen1_comp21_struct1_vac_site0_start.vasp\n",
      "Created VASP job for supercell_gen1_comp21_struct1_vac_site0_start.vasp in ../Archived_Vasp_Jobs/VCrTiWZr_Summit/Gen_0-2/Vacancies/supercell_gen1_comp21_struct1_vac_site0_start\n",
      "Processing file: supercell_gen2_comp32_struct1_vac_site2_start.vasp\n",
      "Created VASP job for supercell_gen2_comp32_struct1_vac_site2_start.vasp in ../Archived_Vasp_Jobs/VCrTiWZr_Summit/Gen_0-2/Vacancies/supercell_gen2_comp32_struct1_vac_site2_start\n",
      "Processing file: supercell_gen0_comp11_struct2_vac_site4_start.vasp\n",
      "Created VASP job for supercell_gen0_comp11_struct2_vac_site4_start.vasp in ../Archived_Vasp_Jobs/VCrTiWZr_Summit/Gen_0-2/Vacancies/supercell_gen0_comp11_struct2_vac_site4_start\n",
      "Processing file: supercell_gen0_comp9_struct2_vac_site4_start.vasp\n",
      "Created VASP job for supercell_gen0_comp9_struct2_vac_site4_start.vasp in ../Archived_Vasp_Jobs/VCrTiWZr_Summit/Gen_0-2/Vacancies/supercell_gen0_comp9_struct2_vac_site4_start\n",
      "Processing file: supercell_gen2_comp30_struct1_vac_site4_start.vasp\n",
      "Created VASP job for supercell_gen2_comp30_struct1_vac_site4_start.vasp in ../Archived_Vasp_Jobs/VCrTiWZr_Summit/Gen_0-2/Vacancies/supercell_gen2_comp30_struct1_vac_site4_start\n",
      "Processing file: supercell_gen2_comp25_struct1_vac_site4_start.vasp\n",
      "Created VASP job for supercell_gen2_comp25_struct1_vac_site4_start.vasp in ../Archived_Vasp_Jobs/VCrTiWZr_Summit/Gen_0-2/Vacancies/supercell_gen2_comp25_struct1_vac_site4_start\n",
      "Processing file: supercell_gen2_comp27_struct1_vac_site2_start.vasp\n",
      "Created VASP job for supercell_gen2_comp27_struct1_vac_site2_start.vasp in ../Archived_Vasp_Jobs/VCrTiWZr_Summit/Gen_0-2/Vacancies/supercell_gen2_comp27_struct1_vac_site2_start\n",
      "Processing file: supercell_gen2_comp28_struct1_vac_site1_start.vasp\n",
      "Created VASP job for supercell_gen2_comp28_struct1_vac_site1_start.vasp in ../Archived_Vasp_Jobs/VCrTiWZr_Summit/Gen_0-2/Vacancies/supercell_gen2_comp28_struct1_vac_site1_start\n",
      "Processing file: supercell_gen0_comp1_struct1_vac_site0_start.vasp\n",
      "Created VASP job for supercell_gen0_comp1_struct1_vac_site0_start.vasp in ../Archived_Vasp_Jobs/VCrTiWZr_Summit/Gen_0-2/Vacancies/supercell_gen0_comp1_struct1_vac_site0_start\n",
      "Processing file: supercell_gen2_comp26_struct1_vac_site1_start.vasp\n",
      "Created VASP job for supercell_gen2_comp26_struct1_vac_site1_start.vasp in ../Archived_Vasp_Jobs/VCrTiWZr_Summit/Gen_0-2/Vacancies/supercell_gen2_comp26_struct1_vac_site1_start\n",
      "Processing file: supercell_gen2_comp29_struct1_vac_site2_start.vasp\n",
      "Created VASP job for supercell_gen2_comp29_struct1_vac_site2_start.vasp in ../Archived_Vasp_Jobs/VCrTiWZr_Summit/Gen_0-2/Vacancies/supercell_gen2_comp29_struct1_vac_site2_start\n",
      "Processing file: supercell_gen1_comp22_struct3_vac_site4_start.vasp\n",
      "Created VASP job for supercell_gen1_comp22_struct3_vac_site4_start.vasp in ../Archived_Vasp_Jobs/VCrTiWZr_Summit/Gen_0-2/Vacancies/supercell_gen1_comp22_struct3_vac_site4_start\n",
      "Processing file: supercell_gen1_comp20_struct3_vac_site2_start.vasp\n",
      "Created VASP job for supercell_gen1_comp20_struct3_vac_site2_start.vasp in ../Archived_Vasp_Jobs/VCrTiWZr_Summit/Gen_0-2/Vacancies/supercell_gen1_comp20_struct3_vac_site2_start\n",
      "Processing file: supercell_gen1_comp21_struct3_vac_site1_start.vasp\n",
      "Created VASP job for supercell_gen1_comp21_struct3_vac_site1_start.vasp in ../Archived_Vasp_Jobs/VCrTiWZr_Summit/Gen_0-2/Vacancies/supercell_gen1_comp21_struct3_vac_site1_start\n",
      "Processing file: supercell_gen2_comp32_struct3_vac_site3_start.vasp\n",
      "Created VASP job for supercell_gen2_comp32_struct3_vac_site3_start.vasp in ../Archived_Vasp_Jobs/VCrTiWZr_Summit/Gen_0-2/Vacancies/supercell_gen2_comp32_struct3_vac_site3_start\n",
      "Processing file: supercell_gen1_comp18_struct2_vac_site4_start.vasp\n",
      "Created VASP job for supercell_gen1_comp18_struct2_vac_site4_start.vasp in ../Archived_Vasp_Jobs/VCrTiWZr_Summit/Gen_0-2/Vacancies/supercell_gen1_comp18_struct2_vac_site4_start\n",
      "Processing file: supercell_gen2_comp27_struct3_vac_site3_start.vasp\n",
      "Created VASP job for supercell_gen2_comp27_struct3_vac_site3_start.vasp in ../Archived_Vasp_Jobs/VCrTiWZr_Summit/Gen_0-2/Vacancies/supercell_gen2_comp27_struct3_vac_site3_start\n",
      "Processing file: supercell_gen2_comp28_struct3_vac_site0_start.vasp\n",
      "Created VASP job for supercell_gen2_comp28_struct3_vac_site0_start.vasp in ../Archived_Vasp_Jobs/VCrTiWZr_Summit/Gen_0-2/Vacancies/supercell_gen2_comp28_struct3_vac_site0_start\n",
      "Processing file: supercell_gen1_comp16_struct2_vac_site4_start.vasp\n",
      "Created VASP job for supercell_gen1_comp16_struct2_vac_site4_start.vasp in ../Archived_Vasp_Jobs/VCrTiWZr_Summit/Gen_0-2/Vacancies/supercell_gen1_comp16_struct2_vac_site4_start\n",
      "Processing file: supercell_gen0_comp1_struct3_vac_site1_start.vasp\n",
      "Created VASP job for supercell_gen0_comp1_struct3_vac_site1_start.vasp in ../Archived_Vasp_Jobs/VCrTiWZr_Summit/Gen_0-2/Vacancies/supercell_gen0_comp1_struct3_vac_site1_start\n",
      "Processing file: supercell_gen2_comp26_struct3_vac_site0_start.vasp\n",
      "Created VASP job for supercell_gen2_comp26_struct3_vac_site0_start.vasp in ../Archived_Vasp_Jobs/VCrTiWZr_Summit/Gen_0-2/Vacancies/supercell_gen2_comp26_struct3_vac_site0_start\n",
      "Processing file: supercell_gen1_comp15_struct2_vac_site1_start.vasp\n",
      "Created VASP job for supercell_gen1_comp15_struct2_vac_site1_start.vasp in ../Archived_Vasp_Jobs/VCrTiWZr_Summit/Gen_0-2/Vacancies/supercell_gen1_comp15_struct2_vac_site1_start\n",
      "Processing file: supercell_gen0_comp2_struct3_vac_site4_start.vasp\n",
      "Created VASP job for supercell_gen0_comp2_struct3_vac_site4_start.vasp in ../Archived_Vasp_Jobs/VCrTiWZr_Summit/Gen_0-2/Vacancies/supercell_gen0_comp2_struct3_vac_site4_start\n",
      "Processing file: supercell_gen1_comp14_struct2_vac_site2_start.vasp\n",
      "Created VASP job for supercell_gen1_comp14_struct2_vac_site2_start.vasp in ../Archived_Vasp_Jobs/VCrTiWZr_Summit/Gen_0-2/Vacancies/supercell_gen1_comp14_struct2_vac_site2_start\n",
      "Processing file: supercell_gen2_comp24_struct2_vac_site4_start.vasp\n",
      "Created VASP job for supercell_gen2_comp24_struct2_vac_site4_start.vasp in ../Archived_Vasp_Jobs/VCrTiWZr_Summit/Gen_0-2/Vacancies/supercell_gen2_comp24_struct2_vac_site4_start\n",
      "Processing file: supercell_gen1_comp14_struct3_vac_site0_start.vasp\n",
      "Created VASP job for supercell_gen1_comp14_struct3_vac_site0_start.vasp in ../Archived_Vasp_Jobs/VCrTiWZr_Summit/Gen_0-2/Vacancies/supercell_gen1_comp14_struct3_vac_site0_start\n",
      "Processing file: supercell_gen1_comp15_struct3_vac_site3_start.vasp\n",
      "Created VASP job for supercell_gen1_comp15_struct3_vac_site3_start.vasp in ../Archived_Vasp_Jobs/VCrTiWZr_Summit/Gen_0-2/Vacancies/supercell_gen1_comp15_struct3_vac_site3_start\n",
      "Processing file: supercell_gen0_comp1_struct2_vac_site3_start.vasp\n",
      "Created VASP job for supercell_gen0_comp1_struct2_vac_site3_start.vasp in ../Archived_Vasp_Jobs/VCrTiWZr_Summit/Gen_0-2/Vacancies/supercell_gen0_comp1_struct2_vac_site3_start\n",
      "Processing file: supercell_gen2_comp29_struct2_vac_site1_start.vasp\n",
      "Created VASP job for supercell_gen2_comp29_struct2_vac_site1_start.vasp in ../Archived_Vasp_Jobs/VCrTiWZr_Summit/Gen_0-2/Vacancies/supercell_gen2_comp29_struct2_vac_site1_start\n",
      "Processing file: supercell_gen2_comp26_struct2_vac_site2_start.vasp\n",
      "Created VASP job for supercell_gen2_comp26_struct2_vac_site2_start.vasp in ../Archived_Vasp_Jobs/VCrTiWZr_Summit/Gen_0-2/Vacancies/supercell_gen2_comp26_struct2_vac_site2_start\n",
      "Processing file: supercell_gen2_comp28_struct2_vac_site2_start.vasp\n",
      "Created VASP job for supercell_gen2_comp28_struct2_vac_site2_start.vasp in ../Archived_Vasp_Jobs/VCrTiWZr_Summit/Gen_0-2/Vacancies/supercell_gen2_comp28_struct2_vac_site2_start\n",
      "Processing file: supercell_gen2_comp27_struct2_vac_site1_start.vasp\n",
      "Created VASP job for supercell_gen2_comp27_struct2_vac_site1_start.vasp in ../Archived_Vasp_Jobs/VCrTiWZr_Summit/Gen_0-2/Vacancies/supercell_gen2_comp27_struct2_vac_site1_start\n",
      "Processing file: supercell_gen2_comp32_struct2_vac_site1_start.vasp\n",
      "Created VASP job for supercell_gen2_comp32_struct2_vac_site1_start.vasp in ../Archived_Vasp_Jobs/VCrTiWZr_Summit/Gen_0-2/Vacancies/supercell_gen2_comp32_struct2_vac_site1_start\n",
      "Processing file: supercell_gen1_comp21_struct2_vac_site3_start.vasp\n",
      "Created VASP job for supercell_gen1_comp21_struct2_vac_site3_start.vasp in ../Archived_Vasp_Jobs/VCrTiWZr_Summit/Gen_0-2/Vacancies/supercell_gen1_comp21_struct2_vac_site3_start\n",
      "Processing file: supercell_gen2_comp23_struct1_vac_site3_start.vasp\n",
      "Created VASP job for supercell_gen2_comp23_struct1_vac_site3_start.vasp in ../Archived_Vasp_Jobs/VCrTiWZr_Summit/Gen_0-2/Vacancies/supercell_gen2_comp23_struct1_vac_site3_start\n",
      "Processing file: supercell_gen1_comp20_struct2_vac_site0_start.vasp\n",
      "Created VASP job for supercell_gen1_comp20_struct2_vac_site0_start.vasp in ../Archived_Vasp_Jobs/VCrTiWZr_Summit/Gen_0-2/Vacancies/supercell_gen1_comp20_struct2_vac_site0_start\n",
      "Processing file: supercell_gen2_comp31_struct2_vac_site4_start.vasp\n",
      "Created VASP job for supercell_gen2_comp31_struct2_vac_site4_start.vasp in ../Archived_Vasp_Jobs/VCrTiWZr_Summit/Gen_0-2/Vacancies/supercell_gen2_comp31_struct2_vac_site4_start\n",
      "Processing file: supercell_gen0_comp8_struct1_vac_site4_start.vasp\n",
      "Created VASP job for supercell_gen0_comp8_struct1_vac_site4_start.vasp in ../Archived_Vasp_Jobs/VCrTiWZr_Summit/Gen_0-2/Vacancies/supercell_gen0_comp8_struct1_vac_site4_start\n",
      "Processing file: supercell_gen0_comp10_struct1_vac_site4_start.vasp\n",
      "Created VASP job for supercell_gen0_comp10_struct1_vac_site4_start.vasp in ../Archived_Vasp_Jobs/VCrTiWZr_Summit/Gen_0-2/Vacancies/supercell_gen0_comp10_struct1_vac_site4_start\n",
      "Processing file: supercell_gen1_comp19_struct1_vac_site4_start.vasp\n",
      "Created VASP job for supercell_gen1_comp19_struct1_vac_site4_start.vasp in ../Archived_Vasp_Jobs/VCrTiWZr_Summit/Gen_0-2/Vacancies/supercell_gen1_comp19_struct1_vac_site4_start\n",
      "Processing file: supercell_gen1_comp17_struct1_vac_site4_start.vasp\n",
      "Created VASP job for supercell_gen1_comp17_struct1_vac_site4_start.vasp in ../Archived_Vasp_Jobs/VCrTiWZr_Summit/Gen_0-2/Vacancies/supercell_gen1_comp17_struct1_vac_site4_start\n",
      "Processing file: supercell_gen1_comp14_struct1_vac_site1_start.vasp\n",
      "Created VASP job for supercell_gen1_comp14_struct1_vac_site1_start.vasp in ../Archived_Vasp_Jobs/VCrTiWZr_Summit/Gen_0-2/Vacancies/supercell_gen1_comp14_struct1_vac_site1_start\n",
      "Processing file: supercell_gen1_comp15_struct1_vac_site2_start.vasp\n",
      "Created VASP job for supercell_gen1_comp15_struct1_vac_site2_start.vasp in ../Archived_Vasp_Jobs/VCrTiWZr_Summit/Gen_0-2/Vacancies/supercell_gen1_comp15_struct1_vac_site2_start\n",
      "Processing file: supercell_gen2_comp23_struct3_vac_site2_start.vasp\n",
      "Created VASP job for supercell_gen2_comp23_struct3_vac_site2_start.vasp in ../Archived_Vasp_Jobs/VCrTiWZr_Summit/Gen_0-2/Vacancies/supercell_gen2_comp23_struct3_vac_site2_start\n",
      "Processing file: supercell_gen0_comp4_struct3_vac_site3_start.vasp\n",
      "Created VASP job for supercell_gen0_comp4_struct3_vac_site3_start.vasp in ../Archived_Vasp_Jobs/VCrTiWZr_Summit/Gen_0-2/Vacancies/supercell_gen0_comp4_struct3_vac_site3_start\n",
      "Processing file: supercell_gen0_comp5_struct3_vac_site0_start.vasp\n",
      "Created VASP job for supercell_gen0_comp5_struct3_vac_site0_start.vasp in ../Archived_Vasp_Jobs/VCrTiWZr_Summit/Gen_0-2/Vacancies/supercell_gen0_comp5_struct3_vac_site0_start\n",
      "Processing file: supercell_gen0_comp12_struct3_vac_site3_start.vasp\n",
      "Created VASP job for supercell_gen0_comp12_struct3_vac_site3_start.vasp in ../Archived_Vasp_Jobs/VCrTiWZr_Summit/Gen_0-2/Vacancies/supercell_gen0_comp12_struct3_vac_site3_start\n"
     ]
    }
   ],
   "source": [
    "def _create_vasp_jobs_from_vasp_files(vasp_files_dir, vasp_job_path, kpoints_params, vol_relax=False, incar_params=None):\n",
    "    for subdir in os.listdir(vasp_files_dir):\n",
    "        print(f\"Processing directory: {subdir}\")\n",
    "        subdir_path = os.path.join(vasp_files_dir, subdir)\n",
    "        if os.path.isdir(subdir_path):\n",
    "            print(f\"Processing directory: {subdir_path}\")\n",
    "            for filename in os.listdir(subdir_path):\n",
    "                if filename.endswith('.vasp'):\n",
    "                    print(f\"Processing file: {filename}\")\n",
    "                    filepath = os.path.join(subdir_path, filename)\n",
    "                    job_name = os.path.splitext(filename)[0]\n",
    "                    job_folder = os.path.join(vasp_job_path, job_name)\n",
    "                    os.makedirs(job_folder, exist_ok=True)\n",
    "                    \n",
    "                    structure = Poscar.from_file(filepath).structure\n",
    "                    \n",
    "                    make_vasp_job(supercell=structure, job_path=job_folder, kpoints_params=kpoints_params, vol_relax=vol_relax, incar_params=incar_params)\n",
    "                    #make_slurm_file(job_path=job_folder, i=job_name,num_gpus=1,omp_threads=10) # comment out if you are on summit\n",
    "                    print(f\"Created VASP job for {filename} in {job_folder}\")\n",
    "\n",
    "def create_vasp_jobs_from_vasp_files(vasp_files_dir, vasp_job_path, kpoints_params, vol_relax=False, incar_params=None):\n",
    "    for filename in os.listdir(vasp_files_dir):\n",
    "        if filename.endswith('.vasp'):\n",
    "            print(f\"Processing file: {filename}\")\n",
    "            filepath = os.path.join(vasp_files_dir, filename)\n",
    "            job_name = os.path.splitext(filename)[0]\n",
    "            job_folder = os.path.join(vasp_job_path, job_name)\n",
    "            os.makedirs(job_folder, exist_ok=True)\n",
    "            \n",
    "            structure = Poscar.from_file(filepath).structure\n",
    "            \n",
    "            make_vasp_job(supercell=structure, job_path=job_folder, kpoints_params=kpoints_params, vol_relax=vol_relax, incar_params=incar_params)\n",
    "            #make_slurm_file(job_path=job_folder, i=job_name,num_gpus=1,omp_threads=10) # comment out if you are on summit\n",
    "            print(f\"Created VASP job for {filename} in {job_folder}\")\n",
    "\n",
    "# Directory containing the .vasp files in subdirectories\n",
    "vasp_files_dir = '../Visualization/Job_Structures/Pre_VASP/VCrTiWZr_Summit/Gen_0-2/Vacancies'\n",
    "vasp_job_path = '../Archived_Vasp_Jobs/VCrTiWZr_Summit/Gen_0-2/Vacancies'\n",
    "# check if vasp_job_path exists, if not create it\n",
    "if not os.path.exists(vasp_job_path):\n",
    "    os.makedirs(vasp_job_path)\n",
    "kpoints_params = (6, 6, 6)\n",
    "\n",
    "# Create VASP jobs from .vasp files in subdirectories\n",
    "create_vasp_jobs_from_vasp_files(vasp_files_dir, vasp_job_path, kpoints_params, vol_relax=True) # change vol_relax to True for start points "
   ]
  },
  {
   "cell_type": "code",
   "execution_count": 42,
   "metadata": {},
   "outputs": [],
   "source": [
    "import numpy as np\n",
    "import random\n",
    "import matplotlib.pyplot as plt\n",
    "import seaborn as sns\n",
    "from pymatgen.core.structure import Structure\n",
    "from pymatgen.core.sites import Site\n",
    "\n",
    "import plotly.graph_objects as go\n",
    "from pymatgen.core.structure import Structure\n",
    "import numpy as np\n",
    "import itertools\n",
    "from collections import defaultdict\n",
    "\n",
    "# Define a list of colors for different elements\n",
    "color_cycle = itertools.cycle([\n",
    "    'blue', 'green', 'orange', 'purple', 'brown', 'pink', 'gray', 'cyan', 'magenta'\n",
    "])\n",
    "\n",
    "def custom_distance(site1: Site, site2: Site) -> float:\n",
    "    geometric_dist = site1.distance(site2)\n",
    "    composition_dist = sum((site1.species.elements[i].X - site2.species.elements[i].X)**2 for i in range(len(site1.species.elements)))\n",
    "    return geometric_dist + composition_dist\n",
    "\n",
    "def objective(points, distance_matrix):\n",
    "    total_dist = 0\n",
    "    for i, p1 in enumerate(points):\n",
    "        for j, p2 in enumerate(points):\n",
    "            if i < j:\n",
    "                total_dist += 1 / distance_matrix[i][j]\n",
    "    return total_dist\n",
    "\n",
    "def simulated_annealing_sampling(structure, num_points, initial_temp=1000, cooling_rate=0.9):\n",
    "    sites = structure.sites\n",
    "    points = random.sample(sites, num_points)\n",
    "    \n",
    "    # Precompute distance matrix using custom distance\n",
    "    distance_matrix = np.zeros((len(sites), len(sites)))\n",
    "    for i, site1 in enumerate(sites):\n",
    "        for j, site2 in enumerate(sites):\n",
    "            distance_matrix[i][j] = custom_distance(site1, site2)\n",
    "    \n",
    "    temp = initial_temp\n",
    "    while temp > 1:\n",
    "        new_points = points[:]\n",
    "        i = random.randint(0, num_points - 1)\n",
    "        new_points[i] = random.choice(sites)\n",
    "        \n",
    "        current_energy = objective(points, distance_matrix)\n",
    "        new_energy = objective(new_points, distance_matrix)\n",
    "        \n",
    "        if new_energy < current_energy or random.uniform(0, 1) < np.exp((current_energy - new_energy) / temp):\n",
    "            points = new_points\n",
    "        \n",
    "        temp *= cooling_rate\n",
    "    \n",
    "    return points\n",
    "\n",
    "def plot_distance_matrix(structure):\n",
    "    sites = structure.sites\n",
    "    distance_matrix = np.zeros((len(sites), len(sites)))\n",
    "    for i, site1 in enumerate(sites):\n",
    "        for j, site2 in enumerate(sites):\n",
    "            distance_matrix[i][j] = custom_distance(site1, site2)\n",
    "    \n",
    "    plt.figure(figsize=(10, 8))\n",
    "    sns.heatmap(distance_matrix, cmap=\"viridis\")\n",
    "    plt.title(\"Custom Distance Matrix Heatmap\")\n",
    "    plt.xlabel(\"Site Index\")\n",
    "    plt.ylabel(\"Site Index\")\n",
    "    plt.show()\n",
    "\n",
    "def identify_highest_complexity_sites(structure, top_n=3):\n",
    "    sites = structure.sites\n",
    "    complexity_scores = np.zeros(len(sites))\n",
    "    \n",
    "    for i, site1 in enumerate(sites):\n",
    "        for site2 in sites:\n",
    "            complexity_scores[i] += custom_distance(site1, site2)\n",
    "    \n",
    "    top_indices = complexity_scores.argsort()[-top_n:][::-1]\n",
    "    return [sites[i] for i in top_indices]\n",
    "\n",
    "def plot_structure_with_highlighted_sites(structure, top_sites):\n",
    "    fig = go.Figure()\n",
    "    \n",
    "    element_colors = defaultdict(lambda: next(color_cycle))\n",
    "    \n",
    "    # Plot all sites by element type\n",
    "    for site in structure:\n",
    "        element = str(site.species)\n",
    "        color = element_colors[element]\n",
    "        fig.add_trace(go.Scatter3d(\n",
    "            x=[site.x],\n",
    "            y=[site.y],\n",
    "            z=[site.z],\n",
    "            mode='markers',\n",
    "            marker=dict(size=5, color=color),\n",
    "            name=element,\n",
    "            legendgroup=element,\n",
    "            showlegend=True\n",
    "        ))\n",
    "\n",
    "    # Highlight top sites\n",
    "    for site in top_sites:\n",
    "        element = str(site.species)\n",
    "        fig.add_trace(go.Scatter3d(\n",
    "            x=[site.x],\n",
    "            y=[site.y],\n",
    "            z=[site.z],\n",
    "            mode='markers',\n",
    "            marker=dict(size=10, color='red', symbol='diamond'),\n",
    "            name=f'Highlighted {element}',\n",
    "            legendgroup=f'Highlighted {element}',\n",
    "            showlegend=True\n",
    "        ))\n",
    "\n",
    "    # Update layout for better visualization\n",
    "    fig.update_layout(scene=dict(\n",
    "        xaxis_title='X',\n",
    "        yaxis_title='Y',\n",
    "        zaxis_title='Z'),\n",
    "        title=\"Structure with Highlighted Sites\"\n",
    "    )\n",
    "\n",
    "    fig.show()\n",
    "\n"
   ]
  },
  {
   "cell_type": "code",
   "execution_count": 43,
   "metadata": {},
   "outputs": [
    {
     "name": "stdout",
     "output_type": "stream",
     "text": [
      "Selected Sites for Simulated Annealing Sampling:\n",
      "[array([-1.22731987,  2.13240275,  4.3409668 ]), array([-2.46668049,  8.41368559,  3.47665283]), array([3.69850197, 2.06051816, 5.23781301]), array([3.62635623, 2.07059798, 7.85884545]), array([ 4.96987084,  8.45496349, -4.37867878])]\n"
     ]
    },
    {
     "data": {
      "image/png": "[encoded data removed]",
      "text/plain": [
       "<Figure size 1000x800 with 2 Axes>"
      ]
     },
     "metadata": {},
     "output_type": "display_data"
    },
    {
     "name": "stdout",
     "output_type": "stream",
     "text": [
      "Sites with Highest Chemical Complexity:\n",
      "[(PeriodicSite: W (-1.227, 2.132, 4.341) [0.002078, 0.2515, 0.4994], array([-1.22731987,  2.13240275,  4.3409668 ])), (PeriodicSite: Zr (2.467, 4.19, -0.8905) [0.4971, 0.4942, 0.2457], array([ 2.46749269,  4.19013878, -0.89047959])), (PeriodicSite: V (-1.18, 2.128, -0.79) [0.005885, 0.2509, 0.009978], array([-1.17968787,  2.12835832, -0.79002516]))]\n"
     ]
    }
   ],
   "source": [
    "contcar_file = '../Visualization/Job_Structures/Post_VASP/VCrTiWZr_Summit/Gen_0-2/Perfect/supercell_gen0_comp10_struct1/CONTCAR'\n",
    "# Example usage:\n",
    "structure = Poscar.from_file(contcar_file).structure # Load your structure here\n",
    "\n",
    "# Simulated Annealing Sampling\n",
    "selected_sites = simulated_annealing_sampling(structure, num_points=5)\n",
    "print(\"Selected Sites for Simulated Annealing Sampling:\")\n",
    "print([site.coords for site in selected_sites])\n",
    "\n",
    "# Plot Distance Matrix\n",
    "plot_distance_matrix(structure)\n",
    "\n",
    "# Identify Highest Complexity Sites\n",
    "top_sites = identify_highest_complexity_sites(structure)\n",
    "print(\"Sites with Highest Chemical Complexity:\")\n",
    "print([(site, site.coords) for site in top_sites])\n"
   ]
  },
  {
   "cell_type": "code",
   "execution_count": 44,
   "metadata": {},
   "outputs": [
    {
     "name": "stdout",
     "output_type": "stream",
     "text": [
      "Sites with Highest Chemical Complexity:\n",
      "Index: 63, Coordinates: [-1.22731987  2.13240275  4.3409668 ]\n",
      "Index: 0, Coordinates: [ 2.46749269  4.19013878 -0.89047959]\n",
      "Index: 9, Coordinates: [-1.17968787  2.12835832 -0.79002516]\n"
     ]
    }
   ],
   "source": [
    "def identify_highest_complexity_sites(structure, top_n=3):\n",
    "    sites = structure.sites\n",
    "    complexity_scores = np.zeros(len(sites))\n",
    "    \n",
    "    for i, site1 in enumerate(sites):\n",
    "        for site2 in sites:\n",
    "            complexity_scores[i] += custom_distance(site1, site2)\n",
    "    \n",
    "    top_indices = complexity_scores.argsort()[-top_n:][::-1]\n",
    "    return [sites[i] for i in top_indices]\n",
    "\n",
    "# Example usage:\n",
    "top_sites = identify_highest_complexity_sites(structure)\n",
    "print(\"Sites with Highest Chemical Complexity:\")\n",
    "for site in top_sites:\n",
    "    print(f\"Index: {structure.index(site)}, Coordinates: {site.coords}\")\n"
   ]
  },
  {
   "cell_type": "code",
   "execution_count": 45,
   "metadata": {},
   "outputs": [
    {
     "data": {
      "application/vnd.plotly.v1+json": {
       "config": {
        "plotlyServerURL": "https://plot.ly"
       },
       "data": [
        {
         "legendgroup": "Zr1",
         "marker": {
          "color": "blue",
          "size": 5
         },
         "mode": "markers",
         "name": "Zr1",
         "showlegend": true,
         "type": "scatter3d",
         "x": [
          2.467492691110972
         ],
         "y": [
          4.1901387813370965
         ],
         "z": [
          -0.890479591067531
         ]
        },
        {
         "legendgroup": "Ti1",
         "marker": {
          "color": "green",
          "size": 5
         },
         "mode": "markers",
         "name": "Ti1",
         "showlegend": true,
         "type": "scatter3d",
         "x": [
          8.64346010904411
         ],
         "y": [
          2.086387830339729
         ],
         "z": [
          3.5046318069160804
         ]
        },
        {
         "legendgroup": "Ti1",
         "marker": {
          "color": "green",
          "size": 5
         },
         "mode": "markers",
         "name": "Ti1",
         "showlegend": true,
         "type": "scatter3d",
         "x": [
          -2.4507341679340597
         ],
         "y": [
          4.256700521609587
         ],
         "z": [
          0.8621628203714329
         ]
        },
        {
         "legendgroup": "Ti1",
         "marker": {
          "color": "green",
          "size": 5
         },
         "mode": "markers",
         "name": "Ti1",
         "showlegend": true,
         "type": "scatter3d",
         "x": [
          2.510276195096395
         ],
         "y": [
          8.418985475800627
         ],
         "z": [
          -6.0874076047027135
         ]
        },
        {
         "legendgroup": "Ti1",
         "marker": {
          "color": "green",
          "size": 5
         },
         "mode": "markers",
         "name": "Ti1",
         "showlegend": true,
         "type": "scatter3d",
         "x": [
          6.043752581402659
         ],
         "y": [
          2.0351837073878642
         ],
         "z": [
          6.885356462832299
         ]
        },
        {
         "legendgroup": "Ti1",
         "marker": {
          "color": "green",
          "size": 5
         },
         "mode": "markers",
         "name": "Ti1",
         "showlegend": true,
         "type": "scatter3d",
         "x": [
          3.8427321344144603
         ],
         "y": [
          6.48722337509416
         ],
         "z": [
          0.036407504339613705
         ]
        },
        {
         "legendgroup": "V1",
         "marker": {
          "color": "orange",
          "size": 5
         },
         "mode": "markers",
         "name": "V1",
         "showlegend": true,
         "type": "scatter3d",
         "x": [
          -4.878939990730071
         ],
         "y": [
          8.438883762561435
         ],
         "z": [
          6.941436294111835
         ]
        },
        {
         "legendgroup": "V1",
         "marker": {
          "color": "orange",
          "size": 5
         },
         "mode": "markers",
         "name": "V1",
         "showlegend": true,
         "type": "scatter3d",
         "x": [
          4.969870839306011
         ],
         "y": [
          8.4549634941505
         ],
         "z": [
          -4.378678781059407
         ]
        },
        {
         "legendgroup": "V1",
         "marker": {
          "color": "orange",
          "size": 5
         },
         "mode": "markers",
         "name": "V1",
         "showlegend": true,
         "type": "scatter3d",
         "x": [
          -4.885500742018095
         ],
         "y": [
          8.465976962756969
         ],
         "z": [
          1.797721071373803
         ]
        },
        {
         "legendgroup": "V1",
         "marker": {
          "color": "orange",
          "size": 5
         },
         "mode": "markers",
         "name": "V1",
         "showlegend": true,
         "type": "scatter3d",
         "x": [
          -1.1796878693029167
         ],
         "y": [
          2.1283583239522232
         ],
         "z": [
          -0.7900251647128365
         ]
        },
        {
         "legendgroup": "V1",
         "marker": {
          "color": "orange",
          "size": 5
         },
         "mode": "markers",
         "name": "V1",
         "showlegend": true,
         "type": "scatter3d",
         "x": [
          -1.1622178505102887
         ],
         "y": [
          2.1081533989552526
         ],
         "z": [
          1.7838862601804797
         ]
        },
        {
         "legendgroup": "V1",
         "marker": {
          "color": "orange",
          "size": 5
         },
         "mode": "markers",
         "name": "V1",
         "showlegend": true,
         "type": "scatter3d",
         "x": [
          7.379959962240022
         ],
         "y": [
          4.227538825455724
         ],
         "z": [
          5.147825146130071
         ]
        },
        {
         "legendgroup": "V1",
         "marker": {
          "color": "orange",
          "size": 5
         },
         "mode": "markers",
         "name": "V1",
         "showlegend": true,
         "type": "scatter3d",
         "x": [
          -2.4580632642627145
         ],
         "y": [
          4.358168441384349
         ],
         "z": [
          3.544151811503631
         ]
        },
        {
         "legendgroup": "V1",
         "marker": {
          "color": "orange",
          "size": 5
         },
         "mode": "markers",
         "name": "V1",
         "showlegend": true,
         "type": "scatter3d",
         "x": [
          -2.4789404070091283
         ],
         "y": [
          4.33109072555316
         ],
         "z": [
          6.126598006281358
         ]
        },
        {
         "legendgroup": "V1",
         "marker": {
          "color": "orange",
          "size": 5
         },
         "mode": "markers",
         "name": "V1",
         "showlegend": true,
         "type": "scatter3d",
         "x": [
          -3.643426264095448
         ],
         "y": [
          6.3619535461809615
         ],
         "z": [
          -2.6242063555648043
         ]
        },
        {
         "legendgroup": "V1",
         "marker": {
          "color": "orange",
          "size": 5
         },
         "mode": "markers",
         "name": "V1",
         "showlegend": true,
         "type": "scatter3d",
         "x": [
          -3.7008890705796964
         ],
         "y": [
          6.431501584577198
         ],
         "z": [
          0.021221827690429684
         ]
        },
        {
         "legendgroup": "V1",
         "marker": {
          "color": "orange",
          "size": 5
         },
         "mode": "markers",
         "name": "V1",
         "showlegend": true,
         "type": "scatter3d",
         "x": [
          -3.679949378556645
         ],
         "y": [
          6.4001582251787115
         ],
         "z": [
          5.19355714605841
         ]
        },
        {
         "legendgroup": "V1",
         "marker": {
          "color": "orange",
          "size": 5
         },
         "mode": "markers",
         "name": "V1",
         "showlegend": true,
         "type": "scatter3d",
         "x": [
          -2.423926735931024
         ],
         "y": [
          8.40505043930455
         ],
         "z": [
          -4.3151744640857705
         ]
        },
        {
         "legendgroup": "V1",
         "marker": {
          "color": "orange",
          "size": 5
         },
         "mode": "markers",
         "name": "V1",
         "showlegend": true,
         "type": "scatter3d",
         "x": [
          -2.4672240475767544
         ],
         "y": [
          8.458016246433896
         ],
         "z": [
          -1.719021012199602
         ]
        },
        {
         "legendgroup": "V1",
         "marker": {
          "color": "orange",
          "size": 5
         },
         "mode": "markers",
         "name": "V1",
         "showlegend": true,
         "type": "scatter3d",
         "x": [
          2.460540481845263
         ],
         "y": [
          0.007269316867527265
         ],
         "z": [
          4.323839754392695
         ]
        },
        {
         "legendgroup": "V1",
         "marker": {
          "color": "orange",
          "size": 5
         },
         "mode": "markers",
         "name": "V1",
         "showlegend": true,
         "type": "scatter3d",
         "x": [
          -2.466680491493829
         ],
         "y": [
          8.413685592986408
         ],
         "z": [
          3.4766528342421963
         ]
        },
        {
         "legendgroup": "V1",
         "marker": {
          "color": "orange",
          "size": 5
         },
         "mode": "markers",
         "name": "V1",
         "showlegend": true,
         "type": "scatter3d",
         "x": [
          1.1442199042315284
         ],
         "y": [
          1.9371453954729454
         ],
         "z": [
          8.628899968584534
         ]
        },
        {
         "legendgroup": "V1",
         "marker": {
          "color": "orange",
          "size": 5
         },
         "mode": "markers",
         "name": "V1",
         "showlegend": true,
         "type": "scatter3d",
         "x": [
          1.2473102721014477
         ],
         "y": [
          2.076597822185375
         ],
         "z": [
          0.9115576065288563
         ]
        },
        {
         "legendgroup": "V1",
         "marker": {
          "color": "orange",
          "size": 5
         },
         "mode": "markers",
         "name": "V1",
         "showlegend": true,
         "type": "scatter3d",
         "x": [
          1.2561571207620117
         ],
         "y": [
          2.100151223368059
         ],
         "z": [
          3.4986995953139868
         ]
        },
        {
         "legendgroup": "V1",
         "marker": {
          "color": "orange",
          "size": 5
         },
         "mode": "markers",
         "name": "V1",
         "showlegend": true,
         "type": "scatter3d",
         "x": [
          1.2938720719767731
         ],
         "y": [
          2.1200100224849483
         ],
         "z": [
          6.063718613605467
         ]
        },
        {
         "legendgroup": "V1",
         "marker": {
          "color": "orange",
          "size": 5
         },
         "mode": "markers",
         "name": "V1",
         "showlegend": true,
         "type": "scatter3d",
         "x": [
          -0.05238960620881716
         ],
         "y": [
          4.373352955335116
         ],
         "z": [
          -2.6573728114307675
         ]
        },
        {
         "legendgroup": "V1",
         "marker": {
          "color": "orange",
          "size": 5
         },
         "mode": "markers",
         "name": "V1",
         "showlegend": true,
         "type": "scatter3d",
         "x": [
          -0.048613016938166886
         ],
         "y": [
          4.289159764887677
         ],
         "z": [
          0.02150857538865414
         ]
        },
        {
         "legendgroup": "V1",
         "marker": {
          "color": "orange",
          "size": 5
         },
         "mode": "markers",
         "name": "V1",
         "showlegend": true,
         "type": "scatter3d",
         "x": [
          0.0034101359111122775
         ],
         "y": [
          4.271626861369787
         ],
         "z": [
          2.6111076971492784
         ]
        },
        {
         "legendgroup": "V1",
         "marker": {
          "color": "orange",
          "size": 5
         },
         "mode": "markers",
         "name": "V1",
         "showlegend": true,
         "type": "scatter3d",
         "x": [
          -0.033452901722800465
         ],
         "y": [
          4.2863266635458315
         ],
         "z": [
          5.213464469017884
         ]
        },
        {
         "legendgroup": "V1",
         "marker": {
          "color": "orange",
          "size": 5
         },
         "mode": "markers",
         "name": "V1",
         "showlegend": true,
         "type": "scatter3d",
         "x": [
          -1.2660876039145097
         ],
         "y": [
          6.375167811010832
         ],
         "z": [
          -0.8863117777059548
         ]
        },
        {
         "legendgroup": "V1",
         "marker": {
          "color": "orange",
          "size": 5
         },
         "mode": "markers",
         "name": "V1",
         "showlegend": true,
         "type": "scatter3d",
         "x": [
          -1.25059534137801
         ],
         "y": [
          6.449561673615592
         ],
         "z": [
          1.8120499665407208
         ]
        },
        {
         "legendgroup": "V1",
         "marker": {
          "color": "orange",
          "size": 5
         },
         "mode": "markers",
         "name": "V1",
         "showlegend": true,
         "type": "scatter3d",
         "x": [
          -0.08044345736980141
         ],
         "y": [
          8.430154711872792
         ],
         "z": [
          5.154621295673608
         ]
        },
        {
         "legendgroup": "V1",
         "marker": {
          "color": "orange",
          "size": 5
         },
         "mode": "markers",
         "name": "V1",
         "showlegend": true,
         "type": "scatter3d",
         "x": [
          -0.038067691958871386
         ],
         "y": [
          8.43833080869348
         ],
         "z": [
          -2.6348036959780363
         ]
        },
        {
         "legendgroup": "V1",
         "marker": {
          "color": "orange",
          "size": 5
         },
         "mode": "markers",
         "name": "V1",
         "showlegend": true,
         "type": "scatter3d",
         "x": [
          4.893844976875548
         ],
         "y": [
          -0.00841225890278013
         ],
         "z": [
          3.524577976303694
         ]
        },
        {
         "legendgroup": "V1",
         "marker": {
          "color": "orange",
          "size": 5
         },
         "mode": "markers",
         "name": "V1",
         "showlegend": true,
         "type": "scatter3d",
         "x": [
          3.6263562310240687
         ],
         "y": [
          2.0705979783641575
         ],
         "z": [
          7.858845451874327
         ]
        },
        {
         "legendgroup": "V1",
         "marker": {
          "color": "orange",
          "size": 5
         },
         "mode": "markers",
         "name": "V1",
         "showlegend": true,
         "type": "scatter3d",
         "x": [
          3.760682138897436
         ],
         "y": [
          1.974599500630284
         ],
         "z": [
          0.043087908672958974
         ]
        },
        {
         "legendgroup": "V1",
         "marker": {
          "color": "orange",
          "size": 5
         },
         "mode": "markers",
         "name": "V1",
         "showlegend": true,
         "type": "scatter3d",
         "x": [
          3.685457597195139
         ],
         "y": [
          2.10219719873697
         ],
         "z": [
          2.615387132369681
         ]
        },
        {
         "legendgroup": "V1",
         "marker": {
          "color": "orange",
          "size": 5
         },
         "mode": "markers",
         "name": "V1",
         "showlegend": true,
         "type": "scatter3d",
         "x": [
          3.698501973082826
         ],
         "y": [
          2.060518155283462
         ],
         "z": [
          5.237813013194626
         ]
        },
        {
         "legendgroup": "V1",
         "marker": {
          "color": "orange",
          "size": 5
         },
         "mode": "markers",
         "name": "V1",
         "showlegend": true,
         "type": "scatter3d",
         "x": [
          2.425132673032855
         ],
         "y": [
          4.241132818777139
         ],
         "z": [
          6.819854328877482
         ]
        },
        {
         "legendgroup": "V1",
         "marker": {
          "color": "orange",
          "size": 5
         },
         "mode": "markers",
         "name": "V1",
         "showlegend": true,
         "type": "scatter3d",
         "x": [
          2.4710150788677727
         ],
         "y": [
          4.263983491493352
         ],
         "z": [
          1.8736699292333592
         ]
        },
        {
         "legendgroup": "V1",
         "marker": {
          "color": "orange",
          "size": 5
         },
         "mode": "markers",
         "name": "V1",
         "showlegend": true,
         "type": "scatter3d",
         "x": [
          2.451401402038911
         ],
         "y": [
          4.23822695231489
         ],
         "z": [
          4.3571020139119705
         ]
        },
        {
         "legendgroup": "V1",
         "marker": {
          "color": "orange",
          "size": 5
         },
         "mode": "markers",
         "name": "V1",
         "showlegend": true,
         "type": "scatter3d",
         "x": [
          1.1919879912657305
         ],
         "y": [
          6.377794560238157
         ],
         "z": [
          -4.3706843328424485
         ]
        },
        {
         "legendgroup": "V1",
         "marker": {
          "color": "orange",
          "size": 5
         },
         "mode": "markers",
         "name": "V1",
         "showlegend": true,
         "type": "scatter3d",
         "x": [
          1.1651873763015659
         ],
         "y": [
          6.4540458241374745
         ],
         "z": [
          -1.7789741792778677
         ]
        },
        {
         "legendgroup": "V1",
         "marker": {
          "color": "orange",
          "size": 5
         },
         "mode": "markers",
         "name": "V1",
         "showlegend": true,
         "type": "scatter3d",
         "x": [
          1.1951785911547446
         ],
         "y": [
          6.37406599166821
         ],
         "z": [
          0.889307898598759
         ]
        },
        {
         "legendgroup": "V1",
         "marker": {
          "color": "orange",
          "size": 5
         },
         "mode": "markers",
         "name": "V1",
         "showlegend": true,
         "type": "scatter3d",
         "x": [
          1.1219364685999476
         ],
         "y": [
          6.359312114437975
         ],
         "z": [
          3.4723960046585933
         ]
        },
        {
         "legendgroup": "V1",
         "marker": {
          "color": "orange",
          "size": 5
         },
         "mode": "markers",
         "name": "V1",
         "showlegend": true,
         "type": "scatter3d",
         "x": [
          2.462646706044443
         ],
         "y": [
          8.469618385131245
         ],
         "z": [
          -3.4504010237406
         ]
        },
        {
         "legendgroup": "V1",
         "marker": {
          "color": "orange",
          "size": 5
         },
         "mode": "markers",
         "name": "V1",
         "showlegend": true,
         "type": "scatter3d",
         "x": [
          2.3610535944310183
         ],
         "y": [
          8.464638909171
         ],
         "z": [
          -0.920611535497514
         ]
        },
        {
         "legendgroup": "V1",
         "marker": {
          "color": "orange",
          "size": 5
         },
         "mode": "markers",
         "name": "V1",
         "showlegend": true,
         "type": "scatter3d",
         "x": [
          2.4405544700564104
         ],
         "y": [
          8.474118904397288
         ],
         "z": [
          1.692768294046573
         ]
        },
        {
         "legendgroup": "V1",
         "marker": {
          "color": "orange",
          "size": 5
         },
         "mode": "markers",
         "name": "V1",
         "showlegend": true,
         "type": "scatter3d",
         "x": [
          6.147683883432375
         ],
         "y": [
          2.1024904783414535
         ],
         "z": [
          -0.8570930942698743
         ]
        },
        {
         "legendgroup": "V1",
         "marker": {
          "color": "orange",
          "size": 5
         },
         "mode": "markers",
         "name": "V1",
         "showlegend": true,
         "type": "scatter3d",
         "x": [
          6.161187792045048
         ],
         "y": [
          2.1349941124248373
         ],
         "z": [
          1.753111764623761
         ]
        },
        {
         "legendgroup": "V1",
         "marker": {
          "color": "orange",
          "size": 5
         },
         "mode": "markers",
         "name": "V1",
         "showlegend": true,
         "type": "scatter3d",
         "x": [
          6.079286937726145
         ],
         "y": [
          2.1306822504368172
         ],
         "z": [
          4.2715025018750445
         ]
        },
        {
         "legendgroup": "V1",
         "marker": {
          "color": "orange",
          "size": 5
         },
         "mode": "markers",
         "name": "V1",
         "showlegend": true,
         "type": "scatter3d",
         "x": [
          4.937336896274889
         ],
         "y": [
          4.304214473141048
         ],
         "z": [
          -4.408291930883687
         ]
        },
        {
         "legendgroup": "V1",
         "marker": {
          "color": "orange",
          "size": 5
         },
         "mode": "markers",
         "name": "V1",
         "showlegend": true,
         "type": "scatter3d",
         "x": [
          5.027634668164815
         ],
         "y": [
          4.3172351957425334
         ],
         "z": [
          -1.7132657371277134
         ]
        },
        {
         "legendgroup": "V1",
         "marker": {
          "color": "orange",
          "size": 5
         },
         "mode": "markers",
         "name": "V1",
         "showlegend": true,
         "type": "scatter3d",
         "x": [
          4.98088462623336
         ],
         "y": [
          4.200689607655577
         ],
         "z": [
          0.9285261627106531
         ]
        },
        {
         "legendgroup": "V1",
         "marker": {
          "color": "orange",
          "size": 5
         },
         "mode": "markers",
         "name": "V1",
         "showlegend": true,
         "type": "scatter3d",
         "x": [
          4.940507675055229
         ],
         "y": [
          4.253646381168566
         ],
         "z": [
          3.472164281128263
         ]
        },
        {
         "legendgroup": "V1",
         "marker": {
          "color": "orange",
          "size": 5
         },
         "mode": "markers",
         "name": "V1",
         "showlegend": true,
         "type": "scatter3d",
         "x": [
          3.7426731345812074
         ],
         "y": [
          6.3076669881453595
         ],
         "z": [
          5.237939552775358
         ]
        },
        {
         "legendgroup": "V1",
         "marker": {
          "color": "orange",
          "size": 5
         },
         "mode": "markers",
         "name": "V1",
         "showlegend": true,
         "type": "scatter3d",
         "x": [
          3.703494307586802
         ],
         "y": [
          6.3902242758171095
         ],
         "z": [
          -2.6999713520844737
         ]
        },
        {
         "legendgroup": "V1",
         "marker": {
          "color": "orange",
          "size": 5
         },
         "mode": "markers",
         "name": "V1",
         "showlegend": true,
         "type": "scatter3d",
         "x": [
          3.682914337967057
         ],
         "y": [
          6.366742482112152
         ],
         "z": [
          2.69313121950094
         ]
        },
        {
         "legendgroup": "Cr1",
         "marker": {
          "color": "purple",
          "size": 5
         },
         "mode": "markers",
         "name": "Cr1",
         "showlegend": true,
         "type": "scatter3d",
         "x": [
          0.07821572913356122
         ],
         "y": [
          0.007434177189720139
         ],
         "z": [
          7.893130248077385
         ]
        },
        {
         "legendgroup": "Cr1",
         "marker": {
          "color": "purple",
          "size": 5
         },
         "mode": "markers",
         "name": "Cr1",
         "showlegend": true,
         "type": "scatter3d",
         "x": [
          -3.6294841146092396
         ],
         "y": [
          6.378595786637654
         ],
         "z": [
          2.602758403524658
         ]
        },
        {
         "legendgroup": "Cr1",
         "marker": {
          "color": "purple",
          "size": 5
         },
         "mode": "markers",
         "name": "Cr1",
         "showlegend": true,
         "type": "scatter3d",
         "x": [
          -1.2699849551946074
         ],
         "y": [
          6.3666099931522595
         ],
         "z": [
          6.932549277812446
         ]
        },
        {
         "legendgroup": "Cr1",
         "marker": {
          "color": "purple",
          "size": 5
         },
         "mode": "markers",
         "name": "Cr1",
         "showlegend": true,
         "type": "scatter3d",
         "x": [
          -1.243723468818188
         ],
         "y": [
          6.359407739120602
         ],
         "z": [
          4.392386240175659
         ]
        },
        {
         "legendgroup": "Cr1",
         "marker": {
          "color": "purple",
          "size": 5
         },
         "mode": "markers",
         "name": "Cr1",
         "showlegend": true,
         "type": "scatter3d",
         "x": [
          -0.05536174754363721
         ],
         "y": [
          8.420670788922443
         ],
         "z": [
          2.591872065808253
         ]
        },
        {
         "legendgroup": "W1",
         "marker": {
          "color": "brown",
          "size": 5
         },
         "mode": "markers",
         "name": "W1",
         "showlegend": true,
         "type": "scatter3d",
         "x": [
          -1.2273198727272554
         ],
         "y": [
          2.1324027504677776
         ],
         "z": [
          4.340966803608512
         ]
        },
        {
         "legendgroup": "Highlighted W1",
         "marker": {
          "color": "red",
          "size": 10,
          "symbol": "diamond"
         },
         "mode": "markers",
         "name": "Highlighted W1",
         "showlegend": true,
         "type": "scatter3d",
         "x": [
          -1.2273198727272554
         ],
         "y": [
          2.1324027504677776
         ],
         "z": [
          4.340966803608512
         ]
        },
        {
         "legendgroup": "Highlighted Zr1",
         "marker": {
          "color": "red",
          "size": 10,
          "symbol": "diamond"
         },
         "mode": "markers",
         "name": "Highlighted Zr1",
         "showlegend": true,
         "type": "scatter3d",
         "x": [
          2.467492691110972
         ],
         "y": [
          4.1901387813370965
         ],
         "z": [
          -0.890479591067531
         ]
        },
        {
         "legendgroup": "Highlighted V1",
         "marker": {
          "color": "red",
          "size": 10,
          "symbol": "diamond"
         },
         "mode": "markers",
         "name": "Highlighted V1",
         "showlegend": true,
         "type": "scatter3d",
         "x": [
          -1.1796878693029167
         ],
         "y": [
          2.1283583239522232
         ],
         "z": [
          -0.7900251647128365
         ]
        }
       ],
       "layout": {
        "scene": {
         "xaxis": {
          "title": {
           "text": "X"
          }
         },
         "yaxis": {
          "title": {
           "text": "Y"
          }
         },
         "zaxis": {
          "title": {
           "text": "Z"
          }
         }
        },
        "template": {
         "data": {
          "bar": [
           {
            "error_x": {
             "color": "#2a3f5f"
            },
            "error_y": {
             "color": "#2a3f5f"
            },
            "marker": {
             "line": {
              "color": "#E5ECF6",
              "width": 0.5
             },
             "pattern": {
              "fillmode": "overlay",
              "size": 10,
              "solidity": 0.2
             }
            },
            "type": "bar"
           }
          ],
          "barpolar": [
           {
            "marker": {
             "line": {
              "color": "#E5ECF6",
              "width": 0.5
             },
             "pattern": {
              "fillmode": "overlay",
              "size": 10,
              "solidity": 0.2
             }
            },
            "type": "barpolar"
           }
          ],
          "carpet": [
           {
            "aaxis": {
             "endlinecolor": "#2a3f5f",
             "gridcolor": "white",
             "linecolor": "white",
             "minorgridcolor": "white",
             "startlinecolor": "#2a3f5f"
            },
            "baxis": {
             "endlinecolor": "#2a3f5f",
             "gridcolor": "white",
             "linecolor": "white",
             "minorgridcolor": "white",
             "startlinecolor": "#2a3f5f"
            },
            "type": "carpet"
           }
          ],
          "choropleth": [
           {
            "colorbar": {
             "outlinewidth": 0,
             "ticks": ""
            },
            "type": "choropleth"
           }
          ],
          "contour": [
           {
            "colorbar": {
             "outlinewidth": 0,
             "ticks": ""
            },
            "colorscale": [
             [
              0,
              "#0d0887"
             ],
             [
              0.1111111111111111,
              "#46039f"
             ],
             [
              0.2222222222222222,
              "#7201a8"
             ],
             [
              0.3333333333333333,
              "#9c179e"
             ],
             [
              0.4444444444444444,
              "#bd3786"
             ],
             [
              0.5555555555555556,
              "#d8576b"
             ],
             [
              0.6666666666666666,
              "#ed7953"
             ],
             [
              0.7777777777777778,
              "#fb9f3a"
             ],
             [
              0.8888888888888888,
              "#fdca26"
             ],
             [
              1,
              "#f0f921"
             ]
            ],
            "type": "contour"
           }
          ],
          "contourcarpet": [
           {
            "colorbar": {
             "outlinewidth": 0,
             "ticks": ""
            },
            "type": "contourcarpet"
           }
          ],
          "heatmap": [
           {
            "colorbar": {
             "outlinewidth": 0,
             "ticks": ""
            },
            "colorscale": [
             [
              0,
              "#0d0887"
             ],
             [
              0.1111111111111111,
              "#46039f"
             ],
             [
              0.2222222222222222,
              "#7201a8"
             ],
             [
              0.3333333333333333,
              "#9c179e"
             ],
             [
              0.4444444444444444,
              "#bd3786"
             ],
             [
              0.5555555555555556,
              "#d8576b"
             ],
             [
              0.6666666666666666,
              "#ed7953"
             ],
             [
              0.7777777777777778,
              "#fb9f3a"
             ],
             [
              0.8888888888888888,
              "#fdca26"
             ],
             [
              1,
              "#f0f921"
             ]
            ],
            "type": "heatmap"
           }
          ],
          "heatmapgl": [
           {
            "colorbar": {
             "outlinewidth": 0,
             "ticks": ""
            },
            "colorscale": [
             [
              0,
              "#0d0887"
             ],
             [
              0.1111111111111111,
              "#46039f"
             ],
             [
              0.2222222222222222,
              "#7201a8"
             ],
             [
              0.3333333333333333,
              "#9c179e"
             ],
             [
              0.4444444444444444,
              "#bd3786"
             ],
             [
              0.5555555555555556,
              "#d8576b"
             ],
             [
              0.6666666666666666,
              "#ed7953"
             ],
             [
              0.7777777777777778,
              "#fb9f3a"
             ],
             [
              0.8888888888888888,
              "#fdca26"
             ],
             [
              1,
              "#f0f921"
             ]
            ],
            "type": "heatmapgl"
           }
          ],
          "histogram": [
           {
            "marker": {
             "pattern": {
              "fillmode": "overlay",
              "size": 10,
              "solidity": 0.2
             }
            },
            "type": "histogram"
           }
          ],
          "histogram2d": [
           {
            "colorbar": {
             "outlinewidth": 0,
             "ticks": ""
            },
            "colorscale": [
             [
              0,
              "#0d0887"
             ],
             [
              0.1111111111111111,
              "#46039f"
             ],
             [
              0.2222222222222222,
              "#7201a8"
             ],
             [
              0.3333333333333333,
              "#9c179e"
             ],
             [
              0.4444444444444444,
              "#bd3786"
             ],
             [
              0.5555555555555556,
              "#d8576b"
             ],
             [
              0.6666666666666666,
              "#ed7953"
             ],
             [
              0.7777777777777778,
              "#fb9f3a"
             ],
             [
              0.8888888888888888,
              "#fdca26"
             ],
             [
              1,
              "#f0f921"
             ]
            ],
            "type": "histogram2d"
           }
          ],
          "histogram2dcontour": [
           {
            "colorbar": {
             "outlinewidth": 0,
             "ticks": ""
            },
            "colorscale": [
             [
              0,
              "#0d0887"
             ],
             [
              0.1111111111111111,
              "#46039f"
             ],
             [
              0.2222222222222222,
              "#7201a8"
             ],
             [
              0.3333333333333333,
              "#9c179e"
             ],
             [
              0.4444444444444444,
              "#bd3786"
             ],
             [
              0.5555555555555556,
              "#d8576b"
             ],
             [
              0.6666666666666666,
              "#ed7953"
             ],
             [
              0.7777777777777778,
              "#fb9f3a"
             ],
             [
              0.8888888888888888,
              "#fdca26"
             ],
             [
              1,
              "#f0f921"
             ]
            ],
            "type": "histogram2dcontour"
           }
          ],
          "mesh3d": [
           {
            "colorbar": {
             "outlinewidth": 0,
             "ticks": ""
            },
            "type": "mesh3d"
           }
          ],
          "parcoords": [
           {
            "line": {
             "colorbar": {
              "outlinewidth": 0,
              "ticks": ""
             }
            },
            "type": "parcoords"
           }
          ],
          "pie": [
           {
            "automargin": true,
            "type": "pie"
           }
          ],
          "scatter": [
           {
            "fillpattern": {
             "fillmode": "overlay",
             "size": 10,
             "solidity": 0.2
            },
            "type": "scatter"
           }
          ],
          "scatter3d": [
           {
            "line": {
             "colorbar": {
              "outlinewidth": 0,
              "ticks": ""
             }
            },
            "marker": {
             "colorbar": {
              "outlinewidth": 0,
              "ticks": ""
             }
            },
            "type": "scatter3d"
           }
          ],
          "scattercarpet": [
           {
            "marker": {
             "colorbar": {
              "outlinewidth": 0,
              "ticks": ""
             }
            },
            "type": "scattercarpet"
           }
          ],
          "scattergeo": [
           {
            "marker": {
             "colorbar": {
              "outlinewidth": 0,
              "ticks": ""
             }
            },
            "type": "scattergeo"
           }
          ],
          "scattergl": [
           {
            "marker": {
             "colorbar": {
              "outlinewidth": 0,
              "ticks": ""
             }
            },
            "type": "scattergl"
           }
          ],
          "scattermapbox": [
           {
            "marker": {
             "colorbar": {
              "outlinewidth": 0,
              "ticks": ""
             }
            },
            "type": "scattermapbox"
           }
          ],
          "scatterpolar": [
           {
            "marker": {
             "colorbar": {
              "outlinewidth": 0,
              "ticks": ""
             }
            },
            "type": "scatterpolar"
           }
          ],
          "scatterpolargl": [
           {
            "marker": {
             "colorbar": {
              "outlinewidth": 0,
              "ticks": ""
             }
            },
            "type": "scatterpolargl"
           }
          ],
          "scatterternary": [
           {
            "marker": {
             "colorbar": {
              "outlinewidth": 0,
              "ticks": ""
             }
            },
            "type": "scatterternary"
           }
          ],
          "surface": [
           {
            "colorbar": {
             "outlinewidth": 0,
             "ticks": ""
            },
            "colorscale": [
             [
              0,
              "#0d0887"
             ],
             [
              0.1111111111111111,
              "#46039f"
             ],
             [
              0.2222222222222222,
              "#7201a8"
             ],
             [
              0.3333333333333333,
              "#9c179e"
             ],
             [
              0.4444444444444444,
              "#bd3786"
             ],
             [
              0.5555555555555556,
              "#d8576b"
             ],
             [
              0.6666666666666666,
              "#ed7953"
             ],
             [
              0.7777777777777778,
              "#fb9f3a"
             ],
             [
              0.8888888888888888,
              "#fdca26"
             ],
             [
              1,
              "#f0f921"
             ]
            ],
            "type": "surface"
           }
          ],
          "table": [
           {
            "cells": {
             "fill": {
              "color": "#EBF0F8"
             },
             "line": {
              "color": "white"
             }
            },
            "header": {
             "fill": {
              "color": "#C8D4E3"
             },
             "line": {
              "color": "white"
             }
            },
            "type": "table"
           }
          ]
         },
         "layout": {
          "annotationdefaults": {
           "arrowcolor": "#2a3f5f",
           "arrowhead": 0,
           "arrowwidth": 1
          },
          "autotypenumbers": "strict",
          "coloraxis": {
           "colorbar": {
            "outlinewidth": 0,
            "ticks": ""
           }
          },
          "colorscale": {
           "diverging": [
            [
             0,
             "#8e0152"
            ],
            [
             0.1,
             "#c51b7d"
            ],
            [
             0.2,
             "#de77ae"
            ],
            [
             0.3,
             "#f1b6da"
            ],
            [
             0.4,
             "#fde0ef"
            ],
            [
             0.5,
             "#f7f7f7"
            ],
            [
             0.6,
             "#e6f5d0"
            ],
            [
             0.7,
             "#b8e186"
            ],
            [
             0.8,
             "#7fbc41"
            ],
            [
             0.9,
             "#4d9221"
            ],
            [
             1,
             "#276419"
            ]
           ],
           "sequential": [
            [
             0,
             "#0d0887"
            ],
            [
             0.1111111111111111,
             "#46039f"
            ],
            [
             0.2222222222222222,
             "#7201a8"
            ],
            [
             0.3333333333333333,
             "#9c179e"
            ],
            [
             0.4444444444444444,
             "#bd3786"
            ],
            [
             0.5555555555555556,
             "#d8576b"
            ],
            [
             0.6666666666666666,
             "#ed7953"
            ],
            [
             0.7777777777777778,
             "#fb9f3a"
            ],
            [
             0.8888888888888888,
             "#fdca26"
            ],
            [
             1,
             "#f0f921"
            ]
           ],
           "sequentialminus": [
            [
             0,
             "#0d0887"
            ],
            [
             0.1111111111111111,
             "#46039f"
            ],
            [
             0.2222222222222222,
             "#7201a8"
            ],
            [
             0.3333333333333333,
             "#9c179e"
            ],
            [
             0.4444444444444444,
             "#bd3786"
            ],
            [
             0.5555555555555556,
             "#d8576b"
            ],
            [
             0.6666666666666666,
             "#ed7953"
            ],
            [
             0.7777777777777778,
             "#fb9f3a"
            ],
            [
             0.8888888888888888,
             "#fdca26"
            ],
            [
             1,
             "#f0f921"
            ]
           ]
          },
          "colorway": [
           "#636efa",
           "#EF553B",
           "#00cc96",
           "#ab63fa",
           "#FFA15A",
           "#19d3f3",
           "#FF6692",
           "#B6E880",
           "#FF97FF",
           "#FECB52"
          ],
          "font": {
           "color": "#2a3f5f"
          },
          "geo": {
           "bgcolor": "white",
           "lakecolor": "white",
           "landcolor": "#E5ECF6",
           "showlakes": true,
           "showland": true,
           "subunitcolor": "white"
          },
          "hoverlabel": {
           "align": "left"
          },
          "hovermode": "closest",
          "mapbox": {
           "style": "light"
          },
          "paper_bgcolor": "white",
          "plot_bgcolor": "#E5ECF6",
          "polar": {
           "angularaxis": {
            "gridcolor": "white",
            "linecolor": "white",
            "ticks": ""
           },
           "bgcolor": "#E5ECF6",
           "radialaxis": {
            "gridcolor": "white",
            "linecolor": "white",
            "ticks": ""
           }
          },
          "scene": {
           "xaxis": {
            "backgroundcolor": "#E5ECF6",
            "gridcolor": "white",
            "gridwidth": 2,
            "linecolor": "white",
            "showbackground": true,
            "ticks": "",
            "zerolinecolor": "white"
           },
           "yaxis": {
            "backgroundcolor": "#E5ECF6",
            "gridcolor": "white",
            "gridwidth": 2,
            "linecolor": "white",
            "showbackground": true,
            "ticks": "",
            "zerolinecolor": "white"
           },
           "zaxis": {
            "backgroundcolor": "#E5ECF6",
            "gridcolor": "white",
            "gridwidth": 2,
            "linecolor": "white",
            "showbackground": true,
            "ticks": "",
            "zerolinecolor": "white"
           }
          },
          "shapedefaults": {
           "line": {
            "color": "#2a3f5f"
           }
          },
          "ternary": {
           "aaxis": {
            "gridcolor": "white",
            "linecolor": "white",
            "ticks": ""
           },
           "baxis": {
            "gridcolor": "white",
            "linecolor": "white",
            "ticks": ""
           },
           "bgcolor": "#E5ECF6",
           "caxis": {
            "gridcolor": "white",
            "linecolor": "white",
            "ticks": ""
           }
          },
          "title": {
           "x": 0.05
          },
          "xaxis": {
           "automargin": true,
           "gridcolor": "white",
           "linecolor": "white",
           "ticks": "",
           "title": {
            "standoff": 15
           },
           "zerolinecolor": "white",
           "zerolinewidth": 2
          },
          "yaxis": {
           "automargin": true,
           "gridcolor": "white",
           "linecolor": "white",
           "ticks": "",
           "title": {
            "standoff": 15
           },
           "zerolinecolor": "white",
           "zerolinewidth": 2
          }
         }
        },
        "title": {
         "text": "Structure with Highlighted Sites"
        }
       }
      }
     },
     "metadata": {},
     "output_type": "display_data"
    }
   ],
   "source": [
    "plot_structure_with_highlighted_sites(structure, top_sites)\n"
   ]
  },
  {
   "cell_type": "code",
   "execution_count": 47,
   "metadata": {},
   "outputs": [
    {
     "data": {
      "application/vnd.plotly.v1+json": {
       "config": {
        "plotlyServerURL": "https://plot.ly"
       },
       "data": [
        {
         "legendgroup": "Zr1",
         "marker": {
          "color": "blue",
          "size": 5
         },
         "mode": "markers",
         "name": "Zr1",
         "showlegend": true,
         "type": "scatter3d",
         "x": [
          2.467492691110972
         ],
         "y": [
          4.1901387813370965
         ],
         "z": [
          -0.890479591067531
         ]
        },
        {
         "legendgroup": "Ti1",
         "marker": {
          "color": "green",
          "size": 5
         },
         "mode": "markers",
         "name": "Ti1",
         "showlegend": true,
         "type": "scatter3d",
         "x": [
          8.64346010904411
         ],
         "y": [
          2.086387830339729
         ],
         "z": [
          3.5046318069160804
         ]
        },
        {
         "legendgroup": "Ti1",
         "marker": {
          "color": "green",
          "size": 5
         },
         "mode": "markers",
         "name": "Ti1",
         "showlegend": true,
         "type": "scatter3d",
         "x": [
          -2.4507341679340597
         ],
         "y": [
          4.256700521609587
         ],
         "z": [
          0.8621628203714329
         ]
        },
        {
         "legendgroup": "Ti1",
         "marker": {
          "color": "green",
          "size": 5
         },
         "mode": "markers",
         "name": "Ti1",
         "showlegend": true,
         "type": "scatter3d",
         "x": [
          2.510276195096395
         ],
         "y": [
          8.418985475800627
         ],
         "z": [
          -6.0874076047027135
         ]
        },
        {
         "legendgroup": "Ti1",
         "marker": {
          "color": "green",
          "size": 5
         },
         "mode": "markers",
         "name": "Ti1",
         "showlegend": true,
         "type": "scatter3d",
         "x": [
          6.043752581402659
         ],
         "y": [
          2.0351837073878642
         ],
         "z": [
          6.885356462832299
         ]
        },
        {
         "legendgroup": "Ti1",
         "marker": {
          "color": "green",
          "size": 5
         },
         "mode": "markers",
         "name": "Ti1",
         "showlegend": true,
         "type": "scatter3d",
         "x": [
          3.8427321344144603
         ],
         "y": [
          6.48722337509416
         ],
         "z": [
          0.036407504339613705
         ]
        },
        {
         "legendgroup": "V1",
         "marker": {
          "color": "orange",
          "size": 5
         },
         "mode": "markers",
         "name": "V1",
         "showlegend": true,
         "type": "scatter3d",
         "x": [
          -4.878939990730071
         ],
         "y": [
          8.438883762561435
         ],
         "z": [
          6.941436294111835
         ]
        },
        {
         "legendgroup": "V1",
         "marker": {
          "color": "orange",
          "size": 5
         },
         "mode": "markers",
         "name": "V1",
         "showlegend": true,
         "type": "scatter3d",
         "x": [
          4.969870839306011
         ],
         "y": [
          8.4549634941505
         ],
         "z": [
          -4.378678781059407
         ]
        },
        {
         "legendgroup": "V1",
         "marker": {
          "color": "orange",
          "size": 5
         },
         "mode": "markers",
         "name": "V1",
         "showlegend": true,
         "type": "scatter3d",
         "x": [
          -4.885500742018095
         ],
         "y": [
          8.465976962756969
         ],
         "z": [
          1.797721071373803
         ]
        },
        {
         "legendgroup": "V1",
         "marker": {
          "color": "orange",
          "size": 5
         },
         "mode": "markers",
         "name": "V1",
         "showlegend": true,
         "type": "scatter3d",
         "x": [
          -1.1796878693029167
         ],
         "y": [
          2.1283583239522232
         ],
         "z": [
          -0.7900251647128365
         ]
        },
        {
         "legendgroup": "V1",
         "marker": {
          "color": "orange",
          "size": 5
         },
         "mode": "markers",
         "name": "V1",
         "showlegend": true,
         "type": "scatter3d",
         "x": [
          -1.1622178505102887
         ],
         "y": [
          2.1081533989552526
         ],
         "z": [
          1.7838862601804797
         ]
        },
        {
         "legendgroup": "V1",
         "marker": {
          "color": "orange",
          "size": 5
         },
         "mode": "markers",
         "name": "V1",
         "showlegend": true,
         "type": "scatter3d",
         "x": [
          7.379959962240022
         ],
         "y": [
          4.227538825455724
         ],
         "z": [
          5.147825146130071
         ]
        },
        {
         "legendgroup": "V1",
         "marker": {
          "color": "orange",
          "size": 5
         },
         "mode": "markers",
         "name": "V1",
         "showlegend": true,
         "type": "scatter3d",
         "x": [
          -2.4580632642627145
         ],
         "y": [
          4.358168441384349
         ],
         "z": [
          3.544151811503631
         ]
        },
        {
         "legendgroup": "V1",
         "marker": {
          "color": "orange",
          "size": 5
         },
         "mode": "markers",
         "name": "V1",
         "showlegend": true,
         "type": "scatter3d",
         "x": [
          -2.4789404070091283
         ],
         "y": [
          4.33109072555316
         ],
         "z": [
          6.126598006281358
         ]
        },
        {
         "legendgroup": "V1",
         "marker": {
          "color": "orange",
          "size": 5
         },
         "mode": "markers",
         "name": "V1",
         "showlegend": true,
         "type": "scatter3d",
         "x": [
          -3.643426264095448
         ],
         "y": [
          6.3619535461809615
         ],
         "z": [
          -2.6242063555648043
         ]
        },
        {
         "legendgroup": "V1",
         "marker": {
          "color": "orange",
          "size": 5
         },
         "mode": "markers",
         "name": "V1",
         "showlegend": true,
         "type": "scatter3d",
         "x": [
          -3.7008890705796964
         ],
         "y": [
          6.431501584577198
         ],
         "z": [
          0.021221827690429684
         ]
        },
        {
         "legendgroup": "V1",
         "marker": {
          "color": "orange",
          "size": 5
         },
         "mode": "markers",
         "name": "V1",
         "showlegend": true,
         "type": "scatter3d",
         "x": [
          -3.679949378556645
         ],
         "y": [
          6.4001582251787115
         ],
         "z": [
          5.19355714605841
         ]
        },
        {
         "legendgroup": "V1",
         "marker": {
          "color": "orange",
          "size": 5
         },
         "mode": "markers",
         "name": "V1",
         "showlegend": true,
         "type": "scatter3d",
         "x": [
          -2.423926735931024
         ],
         "y": [
          8.40505043930455
         ],
         "z": [
          -4.3151744640857705
         ]
        },
        {
         "legendgroup": "V1",
         "marker": {
          "color": "orange",
          "size": 5
         },
         "mode": "markers",
         "name": "V1",
         "showlegend": true,
         "type": "scatter3d",
         "x": [
          -2.4672240475767544
         ],
         "y": [
          8.458016246433896
         ],
         "z": [
          -1.719021012199602
         ]
        },
        {
         "legendgroup": "V1",
         "marker": {
          "color": "orange",
          "size": 5
         },
         "mode": "markers",
         "name": "V1",
         "showlegend": true,
         "type": "scatter3d",
         "x": [
          2.460540481845263
         ],
         "y": [
          0.007269316867527265
         ],
         "z": [
          4.323839754392695
         ]
        },
        {
         "legendgroup": "V1",
         "marker": {
          "color": "orange",
          "size": 5
         },
         "mode": "markers",
         "name": "V1",
         "showlegend": true,
         "type": "scatter3d",
         "x": [
          -2.466680491493829
         ],
         "y": [
          8.413685592986408
         ],
         "z": [
          3.4766528342421963
         ]
        },
        {
         "legendgroup": "V1",
         "marker": {
          "color": "orange",
          "size": 5
         },
         "mode": "markers",
         "name": "V1",
         "showlegend": true,
         "type": "scatter3d",
         "x": [
          1.1442199042315284
         ],
         "y": [
          1.9371453954729454
         ],
         "z": [
          8.628899968584534
         ]
        },
        {
         "legendgroup": "V1",
         "marker": {
          "color": "orange",
          "size": 5
         },
         "mode": "markers",
         "name": "V1",
         "showlegend": true,
         "type": "scatter3d",
         "x": [
          1.2473102721014477
         ],
         "y": [
          2.076597822185375
         ],
         "z": [
          0.9115576065288563
         ]
        },
        {
         "legendgroup": "V1",
         "marker": {
          "color": "orange",
          "size": 5
         },
         "mode": "markers",
         "name": "V1",
         "showlegend": true,
         "type": "scatter3d",
         "x": [
          1.2561571207620117
         ],
         "y": [
          2.100151223368059
         ],
         "z": [
          3.4986995953139868
         ]
        },
        {
         "legendgroup": "V1",
         "marker": {
          "color": "orange",
          "size": 5
         },
         "mode": "markers",
         "name": "V1",
         "showlegend": true,
         "type": "scatter3d",
         "x": [
          1.2938720719767731
         ],
         "y": [
          2.1200100224849483
         ],
         "z": [
          6.063718613605467
         ]
        },
        {
         "legendgroup": "V1",
         "marker": {
          "color": "orange",
          "size": 5
         },
         "mode": "markers",
         "name": "V1",
         "showlegend": true,
         "type": "scatter3d",
         "x": [
          -0.05238960620881716
         ],
         "y": [
          4.373352955335116
         ],
         "z": [
          -2.6573728114307675
         ]
        },
        {
         "legendgroup": "V1",
         "marker": {
          "color": "orange",
          "size": 5
         },
         "mode": "markers",
         "name": "V1",
         "showlegend": true,
         "type": "scatter3d",
         "x": [
          -0.048613016938166886
         ],
         "y": [
          4.289159764887677
         ],
         "z": [
          0.02150857538865414
         ]
        },
        {
         "legendgroup": "V1",
         "marker": {
          "color": "orange",
          "size": 5
         },
         "mode": "markers",
         "name": "V1",
         "showlegend": true,
         "type": "scatter3d",
         "x": [
          0.0034101359111122775
         ],
         "y": [
          4.271626861369787
         ],
         "z": [
          2.6111076971492784
         ]
        },
        {
         "legendgroup": "V1",
         "marker": {
          "color": "orange",
          "size": 5
         },
         "mode": "markers",
         "name": "V1",
         "showlegend": true,
         "type": "scatter3d",
         "x": [
          -0.033452901722800465
         ],
         "y": [
          4.2863266635458315
         ],
         "z": [
          5.213464469017884
         ]
        },
        {
         "legendgroup": "V1",
         "marker": {
          "color": "orange",
          "size": 5
         },
         "mode": "markers",
         "name": "V1",
         "showlegend": true,
         "type": "scatter3d",
         "x": [
          -1.2660876039145097
         ],
         "y": [
          6.375167811010832
         ],
         "z": [
          -0.8863117777059548
         ]
        },
        {
         "legendgroup": "V1",
         "marker": {
          "color": "orange",
          "size": 5
         },
         "mode": "markers",
         "name": "V1",
         "showlegend": true,
         "type": "scatter3d",
         "x": [
          -1.25059534137801
         ],
         "y": [
          6.449561673615592
         ],
         "z": [
          1.8120499665407208
         ]
        },
        {
         "legendgroup": "V1",
         "marker": {
          "color": "orange",
          "size": 5
         },
         "mode": "markers",
         "name": "V1",
         "showlegend": true,
         "type": "scatter3d",
         "x": [
          -0.08044345736980141
         ],
         "y": [
          8.430154711872792
         ],
         "z": [
          5.154621295673608
         ]
        },
        {
         "legendgroup": "V1",
         "marker": {
          "color": "orange",
          "size": 5
         },
         "mode": "markers",
         "name": "V1",
         "showlegend": true,
         "type": "scatter3d",
         "x": [
          -0.038067691958871386
         ],
         "y": [
          8.43833080869348
         ],
         "z": [
          -2.6348036959780363
         ]
        },
        {
         "legendgroup": "V1",
         "marker": {
          "color": "orange",
          "size": 5
         },
         "mode": "markers",
         "name": "V1",
         "showlegend": true,
         "type": "scatter3d",
         "x": [
          4.893844976875548
         ],
         "y": [
          -0.00841225890278013
         ],
         "z": [
          3.524577976303694
         ]
        },
        {
         "legendgroup": "V1",
         "marker": {
          "color": "orange",
          "size": 5
         },
         "mode": "markers",
         "name": "V1",
         "showlegend": true,
         "type": "scatter3d",
         "x": [
          3.6263562310240687
         ],
         "y": [
          2.0705979783641575
         ],
         "z": [
          7.858845451874327
         ]
        },
        {
         "legendgroup": "V1",
         "marker": {
          "color": "orange",
          "size": 5
         },
         "mode": "markers",
         "name": "V1",
         "showlegend": true,
         "type": "scatter3d",
         "x": [
          3.760682138897436
         ],
         "y": [
          1.974599500630284
         ],
         "z": [
          0.043087908672958974
         ]
        },
        {
         "legendgroup": "V1",
         "marker": {
          "color": "orange",
          "size": 5
         },
         "mode": "markers",
         "name": "V1",
         "showlegend": true,
         "type": "scatter3d",
         "x": [
          3.685457597195139
         ],
         "y": [
          2.10219719873697
         ],
         "z": [
          2.615387132369681
         ]
        },
        {
         "legendgroup": "V1",
         "marker": {
          "color": "orange",
          "size": 5
         },
         "mode": "markers",
         "name": "V1",
         "showlegend": true,
         "type": "scatter3d",
         "x": [
          3.698501973082826
         ],
         "y": [
          2.060518155283462
         ],
         "z": [
          5.237813013194626
         ]
        },
        {
         "legendgroup": "V1",
         "marker": {
          "color": "orange",
          "size": 5
         },
         "mode": "markers",
         "name": "V1",
         "showlegend": true,
         "type": "scatter3d",
         "x": [
          2.425132673032855
         ],
         "y": [
          4.241132818777139
         ],
         "z": [
          6.819854328877482
         ]
        },
        {
         "legendgroup": "V1",
         "marker": {
          "color": "orange",
          "size": 5
         },
         "mode": "markers",
         "name": "V1",
         "showlegend": true,
         "type": "scatter3d",
         "x": [
          2.4710150788677727
         ],
         "y": [
          4.263983491493352
         ],
         "z": [
          1.8736699292333592
         ]
        },
        {
         "legendgroup": "V1",
         "marker": {
          "color": "orange",
          "size": 5
         },
         "mode": "markers",
         "name": "V1",
         "showlegend": true,
         "type": "scatter3d",
         "x": [
          2.451401402038911
         ],
         "y": [
          4.23822695231489
         ],
         "z": [
          4.3571020139119705
         ]
        },
        {
         "legendgroup": "V1",
         "marker": {
          "color": "orange",
          "size": 5
         },
         "mode": "markers",
         "name": "V1",
         "showlegend": true,
         "type": "scatter3d",
         "x": [
          1.1919879912657305
         ],
         "y": [
          6.377794560238157
         ],
         "z": [
          -4.3706843328424485
         ]
        },
        {
         "legendgroup": "V1",
         "marker": {
          "color": "orange",
          "size": 5
         },
         "mode": "markers",
         "name": "V1",
         "showlegend": true,
         "type": "scatter3d",
         "x": [
          1.1651873763015659
         ],
         "y": [
          6.4540458241374745
         ],
         "z": [
          -1.7789741792778677
         ]
        },
        {
         "legendgroup": "V1",
         "marker": {
          "color": "orange",
          "size": 5
         },
         "mode": "markers",
         "name": "V1",
         "showlegend": true,
         "type": "scatter3d",
         "x": [
          1.1951785911547446
         ],
         "y": [
          6.37406599166821
         ],
         "z": [
          0.889307898598759
         ]
        },
        {
         "legendgroup": "V1",
         "marker": {
          "color": "orange",
          "size": 5
         },
         "mode": "markers",
         "name": "V1",
         "showlegend": true,
         "type": "scatter3d",
         "x": [
          1.1219364685999476
         ],
         "y": [
          6.359312114437975
         ],
         "z": [
          3.4723960046585933
         ]
        },
        {
         "legendgroup": "V1",
         "marker": {
          "color": "orange",
          "size": 5
         },
         "mode": "markers",
         "name": "V1",
         "showlegend": true,
         "type": "scatter3d",
         "x": [
          2.462646706044443
         ],
         "y": [
          8.469618385131245
         ],
         "z": [
          -3.4504010237406
         ]
        },
        {
         "legendgroup": "V1",
         "marker": {
          "color": "orange",
          "size": 5
         },
         "mode": "markers",
         "name": "V1",
         "showlegend": true,
         "type": "scatter3d",
         "x": [
          2.3610535944310183
         ],
         "y": [
          8.464638909171
         ],
         "z": [
          -0.920611535497514
         ]
        },
        {
         "legendgroup": "V1",
         "marker": {
          "color": "orange",
          "size": 5
         },
         "mode": "markers",
         "name": "V1",
         "showlegend": true,
         "type": "scatter3d",
         "x": [
          2.4405544700564104
         ],
         "y": [
          8.474118904397288
         ],
         "z": [
          1.692768294046573
         ]
        },
        {
         "legendgroup": "V1",
         "marker": {
          "color": "orange",
          "size": 5
         },
         "mode": "markers",
         "name": "V1",
         "showlegend": true,
         "type": "scatter3d",
         "x": [
          6.147683883432375
         ],
         "y": [
          2.1024904783414535
         ],
         "z": [
          -0.8570930942698743
         ]
        },
        {
         "legendgroup": "V1",
         "marker": {
          "color": "orange",
          "size": 5
         },
         "mode": "markers",
         "name": "V1",
         "showlegend": true,
         "type": "scatter3d",
         "x": [
          6.161187792045048
         ],
         "y": [
          2.1349941124248373
         ],
         "z": [
          1.753111764623761
         ]
        },
        {
         "legendgroup": "V1",
         "marker": {
          "color": "orange",
          "size": 5
         },
         "mode": "markers",
         "name": "V1",
         "showlegend": true,
         "type": "scatter3d",
         "x": [
          6.079286937726145
         ],
         "y": [
          2.1306822504368172
         ],
         "z": [
          4.2715025018750445
         ]
        },
        {
         "legendgroup": "V1",
         "marker": {
          "color": "orange",
          "size": 5
         },
         "mode": "markers",
         "name": "V1",
         "showlegend": true,
         "type": "scatter3d",
         "x": [
          4.937336896274889
         ],
         "y": [
          4.304214473141048
         ],
         "z": [
          -4.408291930883687
         ]
        },
        {
         "legendgroup": "V1",
         "marker": {
          "color": "orange",
          "size": 5
         },
         "mode": "markers",
         "name": "V1",
         "showlegend": true,
         "type": "scatter3d",
         "x": [
          5.027634668164815
         ],
         "y": [
          4.3172351957425334
         ],
         "z": [
          -1.7132657371277134
         ]
        },
        {
         "legendgroup": "V1",
         "marker": {
          "color": "orange",
          "size": 5
         },
         "mode": "markers",
         "name": "V1",
         "showlegend": true,
         "type": "scatter3d",
         "x": [
          4.98088462623336
         ],
         "y": [
          4.200689607655577
         ],
         "z": [
          0.9285261627106531
         ]
        },
        {
         "legendgroup": "V1",
         "marker": {
          "color": "orange",
          "size": 5
         },
         "mode": "markers",
         "name": "V1",
         "showlegend": true,
         "type": "scatter3d",
         "x": [
          4.940507675055229
         ],
         "y": [
          4.253646381168566
         ],
         "z": [
          3.472164281128263
         ]
        },
        {
         "legendgroup": "V1",
         "marker": {
          "color": "orange",
          "size": 5
         },
         "mode": "markers",
         "name": "V1",
         "showlegend": true,
         "type": "scatter3d",
         "x": [
          3.7426731345812074
         ],
         "y": [
          6.3076669881453595
         ],
         "z": [
          5.237939552775358
         ]
        },
        {
         "legendgroup": "V1",
         "marker": {
          "color": "orange",
          "size": 5
         },
         "mode": "markers",
         "name": "V1",
         "showlegend": true,
         "type": "scatter3d",
         "x": [
          3.703494307586802
         ],
         "y": [
          6.3902242758171095
         ],
         "z": [
          -2.6999713520844737
         ]
        },
        {
         "legendgroup": "V1",
         "marker": {
          "color": "orange",
          "size": 5
         },
         "mode": "markers",
         "name": "V1",
         "showlegend": true,
         "type": "scatter3d",
         "x": [
          3.682914337967057
         ],
         "y": [
          6.366742482112152
         ],
         "z": [
          2.69313121950094
         ]
        },
        {
         "legendgroup": "Cr1",
         "marker": {
          "color": "purple",
          "size": 5
         },
         "mode": "markers",
         "name": "Cr1",
         "showlegend": true,
         "type": "scatter3d",
         "x": [
          0.07821572913356122
         ],
         "y": [
          0.007434177189720139
         ],
         "z": [
          7.893130248077385
         ]
        },
        {
         "legendgroup": "Cr1",
         "marker": {
          "color": "purple",
          "size": 5
         },
         "mode": "markers",
         "name": "Cr1",
         "showlegend": true,
         "type": "scatter3d",
         "x": [
          -3.6294841146092396
         ],
         "y": [
          6.378595786637654
         ],
         "z": [
          2.602758403524658
         ]
        },
        {
         "legendgroup": "Cr1",
         "marker": {
          "color": "purple",
          "size": 5
         },
         "mode": "markers",
         "name": "Cr1",
         "showlegend": true,
         "type": "scatter3d",
         "x": [
          -1.2699849551946074
         ],
         "y": [
          6.3666099931522595
         ],
         "z": [
          6.932549277812446
         ]
        },
        {
         "legendgroup": "Cr1",
         "marker": {
          "color": "purple",
          "size": 5
         },
         "mode": "markers",
         "name": "Cr1",
         "showlegend": true,
         "type": "scatter3d",
         "x": [
          -1.243723468818188
         ],
         "y": [
          6.359407739120602
         ],
         "z": [
          4.392386240175659
         ]
        },
        {
         "legendgroup": "Cr1",
         "marker": {
          "color": "purple",
          "size": 5
         },
         "mode": "markers",
         "name": "Cr1",
         "showlegend": true,
         "type": "scatter3d",
         "x": [
          -0.05536174754363721
         ],
         "y": [
          8.420670788922443
         ],
         "z": [
          2.591872065808253
         ]
        },
        {
         "legendgroup": "W1",
         "marker": {
          "color": "brown",
          "size": 5
         },
         "mode": "markers",
         "name": "W1",
         "showlegend": true,
         "type": "scatter3d",
         "x": [
          -1.2273198727272554
         ],
         "y": [
          2.1324027504677776
         ],
         "z": [
          4.340966803608512
         ]
        },
        {
         "legendgroup": "Highlighted W1",
         "marker": {
          "color": "red",
          "size": 10,
          "symbol": "diamond"
         },
         "mode": "markers",
         "name": "Highlighted W1",
         "showlegend": true,
         "type": "scatter3d",
         "x": [
          -1.2273198727272554
         ],
         "y": [
          2.1324027504677776
         ],
         "z": [
          4.340966803608512
         ]
        },
        {
         "legendgroup": "Highlighted Zr1",
         "marker": {
          "color": "red",
          "size": 10,
          "symbol": "diamond"
         },
         "mode": "markers",
         "name": "Highlighted Zr1",
         "showlegend": true,
         "type": "scatter3d",
         "x": [
          2.467492691110972
         ],
         "y": [
          4.1901387813370965
         ],
         "z": [
          -0.890479591067531
         ]
        },
        {
         "legendgroup": "Highlighted V1",
         "marker": {
          "color": "red",
          "size": 10,
          "symbol": "diamond"
         },
         "mode": "markers",
         "name": "Highlighted V1",
         "showlegend": true,
         "type": "scatter3d",
         "x": [
          -1.1796878693029167
         ],
         "y": [
          2.1283583239522232
         ],
         "z": [
          -0.7900251647128365
         ]
        }
       ],
       "layout": {
        "scene": {
         "xaxis": {
          "title": {
           "text": "X"
          }
         },
         "yaxis": {
          "title": {
           "text": "Y"
          }
         },
         "zaxis": {
          "title": {
           "text": "Z"
          }
         }
        },
        "template": {
         "data": {
          "bar": [
           {
            "error_x": {
             "color": "#2a3f5f"
            },
            "error_y": {
             "color": "#2a3f5f"
            },
            "marker": {
             "line": {
              "color": "#E5ECF6",
              "width": 0.5
             },
             "pattern": {
              "fillmode": "overlay",
              "size": 10,
              "solidity": 0.2
             }
            },
            "type": "bar"
           }
          ],
          "barpolar": [
           {
            "marker": {
             "line": {
              "color": "#E5ECF6",
              "width": 0.5
             },
             "pattern": {
              "fillmode": "overlay",
              "size": 10,
              "solidity": 0.2
             }
            },
            "type": "barpolar"
           }
          ],
          "carpet": [
           {
            "aaxis": {
             "endlinecolor": "#2a3f5f",
             "gridcolor": "white",
             "linecolor": "white",
             "minorgridcolor": "white",
             "startlinecolor": "#2a3f5f"
            },
            "baxis": {
             "endlinecolor": "#2a3f5f",
             "gridcolor": "white",
             "linecolor": "white",
             "minorgridcolor": "white",
             "startlinecolor": "#2a3f5f"
            },
            "type": "carpet"
           }
          ],
          "choropleth": [
           {
            "colorbar": {
             "outlinewidth": 0,
             "ticks": ""
            },
            "type": "choropleth"
           }
          ],
          "contour": [
           {
            "colorbar": {
             "outlinewidth": 0,
             "ticks": ""
            },
            "colorscale": [
             [
              0,
              "#0d0887"
             ],
             [
              0.1111111111111111,
              "#46039f"
             ],
             [
              0.2222222222222222,
              "#7201a8"
             ],
             [
              0.3333333333333333,
              "#9c179e"
             ],
             [
              0.4444444444444444,
              "#bd3786"
             ],
             [
              0.5555555555555556,
              "#d8576b"
             ],
             [
              0.6666666666666666,
              "#ed7953"
             ],
             [
              0.7777777777777778,
              "#fb9f3a"
             ],
             [
              0.8888888888888888,
              "#fdca26"
             ],
             [
              1,
              "#f0f921"
             ]
            ],
            "type": "contour"
           }
          ],
          "contourcarpet": [
           {
            "colorbar": {
             "outlinewidth": 0,
             "ticks": ""
            },
            "type": "contourcarpet"
           }
          ],
          "heatmap": [
           {
            "colorbar": {
             "outlinewidth": 0,
             "ticks": ""
            },
            "colorscale": [
             [
              0,
              "#0d0887"
             ],
             [
              0.1111111111111111,
              "#46039f"
             ],
             [
              0.2222222222222222,
              "#7201a8"
             ],
             [
              0.3333333333333333,
              "#9c179e"
             ],
             [
              0.4444444444444444,
              "#bd3786"
             ],
             [
              0.5555555555555556,
              "#d8576b"
             ],
             [
              0.6666666666666666,
              "#ed7953"
             ],
             [
              0.7777777777777778,
              "#fb9f3a"
             ],
             [
              0.8888888888888888,
              "#fdca26"
             ],
             [
              1,
              "#f0f921"
             ]
            ],
            "type": "heatmap"
           }
          ],
          "heatmapgl": [
           {
            "colorbar": {
             "outlinewidth": 0,
             "ticks": ""
            },
            "colorscale": [
             [
              0,
              "#0d0887"
             ],
             [
              0.1111111111111111,
              "#46039f"
             ],
             [
              0.2222222222222222,
              "#7201a8"
             ],
             [
              0.3333333333333333,
              "#9c179e"
             ],
             [
              0.4444444444444444,
              "#bd3786"
             ],
             [
              0.5555555555555556,
              "#d8576b"
             ],
             [
              0.6666666666666666,
              "#ed7953"
             ],
             [
              0.7777777777777778,
              "#fb9f3a"
             ],
             [
              0.8888888888888888,
              "#fdca26"
             ],
             [
              1,
              "#f0f921"
             ]
            ],
            "type": "heatmapgl"
           }
          ],
          "histogram": [
           {
            "marker": {
             "pattern": {
              "fillmode": "overlay",
              "size": 10,
              "solidity": 0.2
             }
            },
            "type": "histogram"
           }
          ],
          "histogram2d": [
           {
            "colorbar": {
             "outlinewidth": 0,
             "ticks": ""
            },
            "colorscale": [
             [
              0,
              "#0d0887"
             ],
             [
              0.1111111111111111,
              "#46039f"
             ],
             [
              0.2222222222222222,
              "#7201a8"
             ],
             [
              0.3333333333333333,
              "#9c179e"
             ],
             [
              0.4444444444444444,
              "#bd3786"
             ],
             [
              0.5555555555555556,
              "#d8576b"
             ],
             [
              0.6666666666666666,
              "#ed7953"
             ],
             [
              0.7777777777777778,
              "#fb9f3a"
             ],
             [
              0.8888888888888888,
              "#fdca26"
             ],
             [
              1,
              "#f0f921"
             ]
            ],
            "type": "histogram2d"
           }
          ],
          "histogram2dcontour": [
           {
            "colorbar": {
             "outlinewidth": 0,
             "ticks": ""
            },
            "colorscale": [
             [
              0,
              "#0d0887"
             ],
             [
              0.1111111111111111,
              "#46039f"
             ],
             [
              0.2222222222222222,
              "#7201a8"
             ],
             [
              0.3333333333333333,
              "#9c179e"
             ],
             [
              0.4444444444444444,
              "#bd3786"
             ],
             [
              0.5555555555555556,
              "#d8576b"
             ],
             [
              0.6666666666666666,
              "#ed7953"
             ],
             [
              0.7777777777777778,
              "#fb9f3a"
             ],
             [
              0.8888888888888888,
              "#fdca26"
             ],
             [
              1,
              "#f0f921"
             ]
            ],
            "type": "histogram2dcontour"
           }
          ],
          "mesh3d": [
           {
            "colorbar": {
             "outlinewidth": 0,
             "ticks": ""
            },
            "type": "mesh3d"
           }
          ],
          "parcoords": [
           {
            "line": {
             "colorbar": {
              "outlinewidth": 0,
              "ticks": ""
             }
            },
            "type": "parcoords"
           }
          ],
          "pie": [
           {
            "automargin": true,
            "type": "pie"
           }
          ],
          "scatter": [
           {
            "fillpattern": {
             "fillmode": "overlay",
             "size": 10,
             "solidity": 0.2
            },
            "type": "scatter"
           }
          ],
          "scatter3d": [
           {
            "line": {
             "colorbar": {
              "outlinewidth": 0,
              "ticks": ""
             }
            },
            "marker": {
             "colorbar": {
              "outlinewidth": 0,
              "ticks": ""
             }
            },
            "type": "scatter3d"
           }
          ],
          "scattercarpet": [
           {
            "marker": {
             "colorbar": {
              "outlinewidth": 0,
              "ticks": ""
             }
            },
            "type": "scattercarpet"
           }
          ],
          "scattergeo": [
           {
            "marker": {
             "colorbar": {
              "outlinewidth": 0,
              "ticks": ""
             }
            },
            "type": "scattergeo"
           }
          ],
          "scattergl": [
           {
            "marker": {
             "colorbar": {
              "outlinewidth": 0,
              "ticks": ""
             }
            },
            "type": "scattergl"
           }
          ],
          "scattermapbox": [
           {
            "marker": {
             "colorbar": {
              "outlinewidth": 0,
              "ticks": ""
             }
            },
            "type": "scattermapbox"
           }
          ],
          "scatterpolar": [
           {
            "marker": {
             "colorbar": {
              "outlinewidth": 0,
              "ticks": ""
             }
            },
            "type": "scatterpolar"
           }
          ],
          "scatterpolargl": [
           {
            "marker": {
             "colorbar": {
              "outlinewidth": 0,
              "ticks": ""
             }
            },
            "type": "scatterpolargl"
           }
          ],
          "scatterternary": [
           {
            "marker": {
             "colorbar": {
              "outlinewidth": 0,
              "ticks": ""
             }
            },
            "type": "scatterternary"
           }
          ],
          "surface": [
           {
            "colorbar": {
             "outlinewidth": 0,
             "ticks": ""
            },
            "colorscale": [
             [
              0,
              "#0d0887"
             ],
             [
              0.1111111111111111,
              "#46039f"
             ],
             [
              0.2222222222222222,
              "#7201a8"
             ],
             [
              0.3333333333333333,
              "#9c179e"
             ],
             [
              0.4444444444444444,
              "#bd3786"
             ],
             [
              0.5555555555555556,
              "#d8576b"
             ],
             [
              0.6666666666666666,
              "#ed7953"
             ],
             [
              0.7777777777777778,
              "#fb9f3a"
             ],
             [
              0.8888888888888888,
              "#fdca26"
             ],
             [
              1,
              "#f0f921"
             ]
            ],
            "type": "surface"
           }
          ],
          "table": [
           {
            "cells": {
             "fill": {
              "color": "#EBF0F8"
             },
             "line": {
              "color": "white"
             }
            },
            "header": {
             "fill": {
              "color": "#C8D4E3"
             },
             "line": {
              "color": "white"
             }
            },
            "type": "table"
           }
          ]
         },
         "layout": {
          "annotationdefaults": {
           "arrowcolor": "#2a3f5f",
           "arrowhead": 0,
           "arrowwidth": 1
          },
          "autotypenumbers": "strict",
          "coloraxis": {
           "colorbar": {
            "outlinewidth": 0,
            "ticks": ""
           }
          },
          "colorscale": {
           "diverging": [
            [
             0,
             "#8e0152"
            ],
            [
             0.1,
             "#c51b7d"
            ],
            [
             0.2,
             "#de77ae"
            ],
            [
             0.3,
             "#f1b6da"
            ],
            [
             0.4,
             "#fde0ef"
            ],
            [
             0.5,
             "#f7f7f7"
            ],
            [
             0.6,
             "#e6f5d0"
            ],
            [
             0.7,
             "#b8e186"
            ],
            [
             0.8,
             "#7fbc41"
            ],
            [
             0.9,
             "#4d9221"
            ],
            [
             1,
             "#276419"
            ]
           ],
           "sequential": [
            [
             0,
             "#0d0887"
            ],
            [
             0.1111111111111111,
             "#46039f"
            ],
            [
             0.2222222222222222,
             "#7201a8"
            ],
            [
             0.3333333333333333,
             "#9c179e"
            ],
            [
             0.4444444444444444,
             "#bd3786"
            ],
            [
             0.5555555555555556,
             "#d8576b"
            ],
            [
             0.6666666666666666,
             "#ed7953"
            ],
            [
             0.7777777777777778,
             "#fb9f3a"
            ],
            [
             0.8888888888888888,
             "#fdca26"
            ],
            [
             1,
             "#f0f921"
            ]
           ],
           "sequentialminus": [
            [
             0,
             "#0d0887"
            ],
            [
             0.1111111111111111,
             "#46039f"
            ],
            [
             0.2222222222222222,
             "#7201a8"
            ],
            [
             0.3333333333333333,
             "#9c179e"
            ],
            [
             0.4444444444444444,
             "#bd3786"
            ],
            [
             0.5555555555555556,
             "#d8576b"
            ],
            [
             0.6666666666666666,
             "#ed7953"
            ],
            [
             0.7777777777777778,
             "#fb9f3a"
            ],
            [
             0.8888888888888888,
             "#fdca26"
            ],
            [
             1,
             "#f0f921"
            ]
           ]
          },
          "colorway": [
           "#636efa",
           "#EF553B",
           "#00cc96",
           "#ab63fa",
           "#FFA15A",
           "#19d3f3",
           "#FF6692",
           "#B6E880",
           "#FF97FF",
           "#FECB52"
          ],
          "font": {
           "color": "#2a3f5f"
          },
          "geo": {
           "bgcolor": "white",
           "lakecolor": "white",
           "landcolor": "#E5ECF6",
           "showlakes": true,
           "showland": true,
           "subunitcolor": "white"
          },
          "hoverlabel": {
           "align": "left"
          },
          "hovermode": "closest",
          "mapbox": {
           "style": "light"
          },
          "paper_bgcolor": "white",
          "plot_bgcolor": "#E5ECF6",
          "polar": {
           "angularaxis": {
            "gridcolor": "white",
            "linecolor": "white",
            "ticks": ""
           },
           "bgcolor": "#E5ECF6",
           "radialaxis": {
            "gridcolor": "white",
            "linecolor": "white",
            "ticks": ""
           }
          },
          "scene": {
           "xaxis": {
            "backgroundcolor": "#E5ECF6",
            "gridcolor": "white",
            "gridwidth": 2,
            "linecolor": "white",
            "showbackground": true,
            "ticks": "",
            "zerolinecolor": "white"
           },
           "yaxis": {
            "backgroundcolor": "#E5ECF6",
            "gridcolor": "white",
            "gridwidth": 2,
            "linecolor": "white",
            "showbackground": true,
            "ticks": "",
            "zerolinecolor": "white"
           },
           "zaxis": {
            "backgroundcolor": "#E5ECF6",
            "gridcolor": "white",
            "gridwidth": 2,
            "linecolor": "white",
            "showbackground": true,
            "ticks": "",
            "zerolinecolor": "white"
           }
          },
          "shapedefaults": {
           "line": {
            "color": "#2a3f5f"
           }
          },
          "ternary": {
           "aaxis": {
            "gridcolor": "white",
            "linecolor": "white",
            "ticks": ""
           },
           "baxis": {
            "gridcolor": "white",
            "linecolor": "white",
            "ticks": ""
           },
           "bgcolor": "#E5ECF6",
           "caxis": {
            "gridcolor": "white",
            "linecolor": "white",
            "ticks": ""
           }
          },
          "title": {
           "x": 0.05
          },
          "xaxis": {
           "automargin": true,
           "gridcolor": "white",
           "linecolor": "white",
           "ticks": "",
           "title": {
            "standoff": 15
           },
           "zerolinecolor": "white",
           "zerolinewidth": 2
          },
          "yaxis": {
           "automargin": true,
           "gridcolor": "white",
           "linecolor": "white",
           "ticks": "",
           "title": {
            "standoff": 15
           },
           "zerolinecolor": "white",
           "zerolinewidth": 2
          }
         }
        },
        "title": {
         "text": "Structure with Highlighted Sites"
        }
       }
      }
     },
     "metadata": {},
     "output_type": "display_data"
    }
   ],
   "source": []
  },
  {
   "cell_type": "code",
   "execution_count": 49,
   "metadata": {},
   "outputs": [
    {
     "data": {
      "application/vnd.plotly.v1+json": {
       "config": {
        "plotlyServerURL": "https://plot.ly"
       },
       "data": [
        {
         "legendgroup": "Zr1",
         "marker": {
          "color": "blue",
          "size": 5
         },
         "mode": "markers",
         "name": "Zr1",
         "showlegend": true,
         "type": "scatter3d",
         "x": [
          2.467492691110972
         ],
         "y": [
          4.1901387813370965
         ],
         "z": [
          -0.890479591067531
         ]
        },
        {
         "legendgroup": "Ti1",
         "marker": {
          "color": "green",
          "size": 5
         },
         "mode": "markers",
         "name": "Ti1",
         "showlegend": true,
         "type": "scatter3d",
         "x": [
          8.64346010904411
         ],
         "y": [
          2.086387830339729
         ],
         "z": [
          3.5046318069160804
         ]
        },
        {
         "legendgroup": "Ti1",
         "marker": {
          "color": "green",
          "size": 5
         },
         "mode": "markers",
         "name": "Ti1",
         "showlegend": true,
         "type": "scatter3d",
         "x": [
          -2.4507341679340597
         ],
         "y": [
          4.256700521609587
         ],
         "z": [
          0.8621628203714329
         ]
        },
        {
         "legendgroup": "Ti1",
         "marker": {
          "color": "green",
          "size": 5
         },
         "mode": "markers",
         "name": "Ti1",
         "showlegend": true,
         "type": "scatter3d",
         "x": [
          2.510276195096395
         ],
         "y": [
          8.418985475800627
         ],
         "z": [
          -6.0874076047027135
         ]
        },
        {
         "legendgroup": "Ti1",
         "marker": {
          "color": "green",
          "size": 5
         },
         "mode": "markers",
         "name": "Ti1",
         "showlegend": true,
         "type": "scatter3d",
         "x": [
          6.043752581402659
         ],
         "y": [
          2.0351837073878642
         ],
         "z": [
          6.885356462832299
         ]
        },
        {
         "legendgroup": "Ti1",
         "marker": {
          "color": "green",
          "size": 5
         },
         "mode": "markers",
         "name": "Ti1",
         "showlegend": true,
         "type": "scatter3d",
         "x": [
          3.8427321344144603
         ],
         "y": [
          6.48722337509416
         ],
         "z": [
          0.036407504339613705
         ]
        },
        {
         "legendgroup": "V1",
         "marker": {
          "color": "orange",
          "size": 5
         },
         "mode": "markers",
         "name": "V1",
         "showlegend": true,
         "type": "scatter3d",
         "x": [
          -4.878939990730071
         ],
         "y": [
          8.438883762561435
         ],
         "z": [
          6.941436294111835
         ]
        },
        {
         "legendgroup": "V1",
         "marker": {
          "color": "orange",
          "size": 5
         },
         "mode": "markers",
         "name": "V1",
         "showlegend": true,
         "type": "scatter3d",
         "x": [
          4.969870839306011
         ],
         "y": [
          8.4549634941505
         ],
         "z": [
          -4.378678781059407
         ]
        },
        {
         "legendgroup": "V1",
         "marker": {
          "color": "orange",
          "size": 5
         },
         "mode": "markers",
         "name": "V1",
         "showlegend": true,
         "type": "scatter3d",
         "x": [
          -4.885500742018095
         ],
         "y": [
          8.465976962756969
         ],
         "z": [
          1.797721071373803
         ]
        },
        {
         "legendgroup": "V1",
         "marker": {
          "color": "orange",
          "size": 5
         },
         "mode": "markers",
         "name": "V1",
         "showlegend": true,
         "type": "scatter3d",
         "x": [
          -1.1796878693029167
         ],
         "y": [
          2.1283583239522232
         ],
         "z": [
          -0.7900251647128365
         ]
        },
        {
         "legendgroup": "V1",
         "marker": {
          "color": "orange",
          "size": 5
         },
         "mode": "markers",
         "name": "V1",
         "showlegend": true,
         "type": "scatter3d",
         "x": [
          -1.1622178505102887
         ],
         "y": [
          2.1081533989552526
         ],
         "z": [
          1.7838862601804797
         ]
        },
        {
         "legendgroup": "V1",
         "marker": {
          "color": "orange",
          "size": 5
         },
         "mode": "markers",
         "name": "V1",
         "showlegend": true,
         "type": "scatter3d",
         "x": [
          7.379959962240022
         ],
         "y": [
          4.227538825455724
         ],
         "z": [
          5.147825146130071
         ]
        },
        {
         "legendgroup": "V1",
         "marker": {
          "color": "orange",
          "size": 5
         },
         "mode": "markers",
         "name": "V1",
         "showlegend": true,
         "type": "scatter3d",
         "x": [
          -2.4580632642627145
         ],
         "y": [
          4.358168441384349
         ],
         "z": [
          3.544151811503631
         ]
        },
        {
         "legendgroup": "V1",
         "marker": {
          "color": "orange",
          "size": 5
         },
         "mode": "markers",
         "name": "V1",
         "showlegend": true,
         "type": "scatter3d",
         "x": [
          -2.4789404070091283
         ],
         "y": [
          4.33109072555316
         ],
         "z": [
          6.126598006281358
         ]
        },
        {
         "legendgroup": "V1",
         "marker": {
          "color": "orange",
          "size": 5
         },
         "mode": "markers",
         "name": "V1",
         "showlegend": true,
         "type": "scatter3d",
         "x": [
          -3.643426264095448
         ],
         "y": [
          6.3619535461809615
         ],
         "z": [
          -2.6242063555648043
         ]
        },
        {
         "legendgroup": "V1",
         "marker": {
          "color": "orange",
          "size": 5
         },
         "mode": "markers",
         "name": "V1",
         "showlegend": true,
         "type": "scatter3d",
         "x": [
          -3.7008890705796964
         ],
         "y": [
          6.431501584577198
         ],
         "z": [
          0.021221827690429684
         ]
        },
        {
         "legendgroup": "V1",
         "marker": {
          "color": "orange",
          "size": 5
         },
         "mode": "markers",
         "name": "V1",
         "showlegend": true,
         "type": "scatter3d",
         "x": [
          -3.679949378556645
         ],
         "y": [
          6.4001582251787115
         ],
         "z": [
          5.19355714605841
         ]
        },
        {
         "legendgroup": "V1",
         "marker": {
          "color": "orange",
          "size": 5
         },
         "mode": "markers",
         "name": "V1",
         "showlegend": true,
         "type": "scatter3d",
         "x": [
          -2.423926735931024
         ],
         "y": [
          8.40505043930455
         ],
         "z": [
          -4.3151744640857705
         ]
        },
        {
         "legendgroup": "V1",
         "marker": {
          "color": "orange",
          "size": 5
         },
         "mode": "markers",
         "name": "V1",
         "showlegend": true,
         "type": "scatter3d",
         "x": [
          -2.4672240475767544
         ],
         "y": [
          8.458016246433896
         ],
         "z": [
          -1.719021012199602
         ]
        },
        {
         "legendgroup": "V1",
         "marker": {
          "color": "orange",
          "size": 5
         },
         "mode": "markers",
         "name": "V1",
         "showlegend": true,
         "type": "scatter3d",
         "x": [
          2.460540481845263
         ],
         "y": [
          0.007269316867527265
         ],
         "z": [
          4.323839754392695
         ]
        },
        {
         "legendgroup": "V1",
         "marker": {
          "color": "orange",
          "size": 5
         },
         "mode": "markers",
         "name": "V1",
         "showlegend": true,
         "type": "scatter3d",
         "x": [
          -2.466680491493829
         ],
         "y": [
          8.413685592986408
         ],
         "z": [
          3.4766528342421963
         ]
        },
        {
         "legendgroup": "V1",
         "marker": {
          "color": "orange",
          "size": 5
         },
         "mode": "markers",
         "name": "V1",
         "showlegend": true,
         "type": "scatter3d",
         "x": [
          1.1442199042315284
         ],
         "y": [
          1.9371453954729454
         ],
         "z": [
          8.628899968584534
         ]
        },
        {
         "legendgroup": "V1",
         "marker": {
          "color": "orange",
          "size": 5
         },
         "mode": "markers",
         "name": "V1",
         "showlegend": true,
         "type": "scatter3d",
         "x": [
          1.2473102721014477
         ],
         "y": [
          2.076597822185375
         ],
         "z": [
          0.9115576065288563
         ]
        },
        {
         "legendgroup": "V1",
         "marker": {
          "color": "orange",
          "size": 5
         },
         "mode": "markers",
         "name": "V1",
         "showlegend": true,
         "type": "scatter3d",
         "x": [
          1.2561571207620117
         ],
         "y": [
          2.100151223368059
         ],
         "z": [
          3.4986995953139868
         ]
        },
        {
         "legendgroup": "V1",
         "marker": {
          "color": "orange",
          "size": 5
         },
         "mode": "markers",
         "name": "V1",
         "showlegend": true,
         "type": "scatter3d",
         "x": [
          1.2938720719767731
         ],
         "y": [
          2.1200100224849483
         ],
         "z": [
          6.063718613605467
         ]
        },
        {
         "legendgroup": "V1",
         "marker": {
          "color": "orange",
          "size": 5
         },
         "mode": "markers",
         "name": "V1",
         "showlegend": true,
         "type": "scatter3d",
         "x": [
          -0.05238960620881716
         ],
         "y": [
          4.373352955335116
         ],
         "z": [
          -2.6573728114307675
         ]
        },
        {
         "legendgroup": "V1",
         "marker": {
          "color": "orange",
          "size": 5
         },
         "mode": "markers",
         "name": "V1",
         "showlegend": true,
         "type": "scatter3d",
         "x": [
          -0.048613016938166886
         ],
         "y": [
          4.289159764887677
         ],
         "z": [
          0.02150857538865414
         ]
        },
        {
         "legendgroup": "V1",
         "marker": {
          "color": "orange",
          "size": 5
         },
         "mode": "markers",
         "name": "V1",
         "showlegend": true,
         "type": "scatter3d",
         "x": [
          0.0034101359111122775
         ],
         "y": [
          4.271626861369787
         ],
         "z": [
          2.6111076971492784
         ]
        },
        {
         "legendgroup": "V1",
         "marker": {
          "color": "orange",
          "size": 5
         },
         "mode": "markers",
         "name": "V1",
         "showlegend": true,
         "type": "scatter3d",
         "x": [
          -0.033452901722800465
         ],
         "y": [
          4.2863266635458315
         ],
         "z": [
          5.213464469017884
         ]
        },
        {
         "legendgroup": "V1",
         "marker": {
          "color": "orange",
          "size": 5
         },
         "mode": "markers",
         "name": "V1",
         "showlegend": true,
         "type": "scatter3d",
         "x": [
          -1.2660876039145097
         ],
         "y": [
          6.375167811010832
         ],
         "z": [
          -0.8863117777059548
         ]
        },
        {
         "legendgroup": "V1",
         "marker": {
          "color": "orange",
          "size": 5
         },
         "mode": "markers",
         "name": "V1",
         "showlegend": true,
         "type": "scatter3d",
         "x": [
          -1.25059534137801
         ],
         "y": [
          6.449561673615592
         ],
         "z": [
          1.8120499665407208
         ]
        },
        {
         "legendgroup": "V1",
         "marker": {
          "color": "orange",
          "size": 5
         },
         "mode": "markers",
         "name": "V1",
         "showlegend": true,
         "type": "scatter3d",
         "x": [
          -0.08044345736980141
         ],
         "y": [
          8.430154711872792
         ],
         "z": [
          5.154621295673608
         ]
        },
        {
         "legendgroup": "V1",
         "marker": {
          "color": "orange",
          "size": 5
         },
         "mode": "markers",
         "name": "V1",
         "showlegend": true,
         "type": "scatter3d",
         "x": [
          -0.038067691958871386
         ],
         "y": [
          8.43833080869348
         ],
         "z": [
          -2.6348036959780363
         ]
        },
        {
         "legendgroup": "V1",
         "marker": {
          "color": "orange",
          "size": 5
         },
         "mode": "markers",
         "name": "V1",
         "showlegend": true,
         "type": "scatter3d",
         "x": [
          4.893844976875548
         ],
         "y": [
          -0.00841225890278013
         ],
         "z": [
          3.524577976303694
         ]
        },
        {
         "legendgroup": "V1",
         "marker": {
          "color": "orange",
          "size": 5
         },
         "mode": "markers",
         "name": "V1",
         "showlegend": true,
         "type": "scatter3d",
         "x": [
          3.6263562310240687
         ],
         "y": [
          2.0705979783641575
         ],
         "z": [
          7.858845451874327
         ]
        },
        {
         "legendgroup": "V1",
         "marker": {
          "color": "orange",
          "size": 5
         },
         "mode": "markers",
         "name": "V1",
         "showlegend": true,
         "type": "scatter3d",
         "x": [
          3.760682138897436
         ],
         "y": [
          1.974599500630284
         ],
         "z": [
          0.043087908672958974
         ]
        },
        {
         "legendgroup": "V1",
         "marker": {
          "color": "orange",
          "size": 5
         },
         "mode": "markers",
         "name": "V1",
         "showlegend": true,
         "type": "scatter3d",
         "x": [
          3.685457597195139
         ],
         "y": [
          2.10219719873697
         ],
         "z": [
          2.615387132369681
         ]
        },
        {
         "legendgroup": "V1",
         "marker": {
          "color": "orange",
          "size": 5
         },
         "mode": "markers",
         "name": "V1",
         "showlegend": true,
         "type": "scatter3d",
         "x": [
          3.698501973082826
         ],
         "y": [
          2.060518155283462
         ],
         "z": [
          5.237813013194626
         ]
        },
        {
         "legendgroup": "V1",
         "marker": {
          "color": "orange",
          "size": 5
         },
         "mode": "markers",
         "name": "V1",
         "showlegend": true,
         "type": "scatter3d",
         "x": [
          2.425132673032855
         ],
         "y": [
          4.241132818777139
         ],
         "z": [
          6.819854328877482
         ]
        },
        {
         "legendgroup": "V1",
         "marker": {
          "color": "orange",
          "size": 5
         },
         "mode": "markers",
         "name": "V1",
         "showlegend": true,
         "type": "scatter3d",
         "x": [
          2.4710150788677727
         ],
         "y": [
          4.263983491493352
         ],
         "z": [
          1.8736699292333592
         ]
        },
        {
         "legendgroup": "V1",
         "marker": {
          "color": "orange",
          "size": 5
         },
         "mode": "markers",
         "name": "V1",
         "showlegend": true,
         "type": "scatter3d",
         "x": [
          2.451401402038911
         ],
         "y": [
          4.23822695231489
         ],
         "z": [
          4.3571020139119705
         ]
        },
        {
         "legendgroup": "V1",
         "marker": {
          "color": "orange",
          "size": 5
         },
         "mode": "markers",
         "name": "V1",
         "showlegend": true,
         "type": "scatter3d",
         "x": [
          1.1919879912657305
         ],
         "y": [
          6.377794560238157
         ],
         "z": [
          -4.3706843328424485
         ]
        },
        {
         "legendgroup": "V1",
         "marker": {
          "color": "orange",
          "size": 5
         },
         "mode": "markers",
         "name": "V1",
         "showlegend": true,
         "type": "scatter3d",
         "x": [
          1.1651873763015659
         ],
         "y": [
          6.4540458241374745
         ],
         "z": [
          -1.7789741792778677
         ]
        },
        {
         "legendgroup": "V1",
         "marker": {
          "color": "orange",
          "size": 5
         },
         "mode": "markers",
         "name": "V1",
         "showlegend": true,
         "type": "scatter3d",
         "x": [
          1.1951785911547446
         ],
         "y": [
          6.37406599166821
         ],
         "z": [
          0.889307898598759
         ]
        },
        {
         "legendgroup": "V1",
         "marker": {
          "color": "orange",
          "size": 5
         },
         "mode": "markers",
         "name": "V1",
         "showlegend": true,
         "type": "scatter3d",
         "x": [
          1.1219364685999476
         ],
         "y": [
          6.359312114437975
         ],
         "z": [
          3.4723960046585933
         ]
        },
        {
         "legendgroup": "V1",
         "marker": {
          "color": "orange",
          "size": 5
         },
         "mode": "markers",
         "name": "V1",
         "showlegend": true,
         "type": "scatter3d",
         "x": [
          2.462646706044443
         ],
         "y": [
          8.469618385131245
         ],
         "z": [
          -3.4504010237406
         ]
        },
        {
         "legendgroup": "V1",
         "marker": {
          "color": "orange",
          "size": 5
         },
         "mode": "markers",
         "name": "V1",
         "showlegend": true,
         "type": "scatter3d",
         "x": [
          2.3610535944310183
         ],
         "y": [
          8.464638909171
         ],
         "z": [
          -0.920611535497514
         ]
        },
        {
         "legendgroup": "V1",
         "marker": {
          "color": "orange",
          "size": 5
         },
         "mode": "markers",
         "name": "V1",
         "showlegend": true,
         "type": "scatter3d",
         "x": [
          2.4405544700564104
         ],
         "y": [
          8.474118904397288
         ],
         "z": [
          1.692768294046573
         ]
        },
        {
         "legendgroup": "V1",
         "marker": {
          "color": "orange",
          "size": 5
         },
         "mode": "markers",
         "name": "V1",
         "showlegend": true,
         "type": "scatter3d",
         "x": [
          6.147683883432375
         ],
         "y": [
          2.1024904783414535
         ],
         "z": [
          -0.8570930942698743
         ]
        },
        {
         "legendgroup": "V1",
         "marker": {
          "color": "orange",
          "size": 5
         },
         "mode": "markers",
         "name": "V1",
         "showlegend": true,
         "type": "scatter3d",
         "x": [
          6.161187792045048
         ],
         "y": [
          2.1349941124248373
         ],
         "z": [
          1.753111764623761
         ]
        },
        {
         "legendgroup": "V1",
         "marker": {
          "color": "orange",
          "size": 5
         },
         "mode": "markers",
         "name": "V1",
         "showlegend": true,
         "type": "scatter3d",
         "x": [
          6.079286937726145
         ],
         "y": [
          2.1306822504368172
         ],
         "z": [
          4.2715025018750445
         ]
        },
        {
         "legendgroup": "V1",
         "marker": {
          "color": "orange",
          "size": 5
         },
         "mode": "markers",
         "name": "V1",
         "showlegend": true,
         "type": "scatter3d",
         "x": [
          4.937336896274889
         ],
         "y": [
          4.304214473141048
         ],
         "z": [
          -4.408291930883687
         ]
        },
        {
         "legendgroup": "V1",
         "marker": {
          "color": "orange",
          "size": 5
         },
         "mode": "markers",
         "name": "V1",
         "showlegend": true,
         "type": "scatter3d",
         "x": [
          5.027634668164815
         ],
         "y": [
          4.3172351957425334
         ],
         "z": [
          -1.7132657371277134
         ]
        },
        {
         "legendgroup": "V1",
         "marker": {
          "color": "orange",
          "size": 5
         },
         "mode": "markers",
         "name": "V1",
         "showlegend": true,
         "type": "scatter3d",
         "x": [
          4.98088462623336
         ],
         "y": [
          4.200689607655577
         ],
         "z": [
          0.9285261627106531
         ]
        },
        {
         "legendgroup": "V1",
         "marker": {
          "color": "orange",
          "size": 5
         },
         "mode": "markers",
         "name": "V1",
         "showlegend": true,
         "type": "scatter3d",
         "x": [
          4.940507675055229
         ],
         "y": [
          4.253646381168566
         ],
         "z": [
          3.472164281128263
         ]
        },
        {
         "legendgroup": "V1",
         "marker": {
          "color": "orange",
          "size": 5
         },
         "mode": "markers",
         "name": "V1",
         "showlegend": true,
         "type": "scatter3d",
         "x": [
          3.7426731345812074
         ],
         "y": [
          6.3076669881453595
         ],
         "z": [
          5.237939552775358
         ]
        },
        {
         "legendgroup": "V1",
         "marker": {
          "color": "orange",
          "size": 5
         },
         "mode": "markers",
         "name": "V1",
         "showlegend": true,
         "type": "scatter3d",
         "x": [
          3.703494307586802
         ],
         "y": [
          6.3902242758171095
         ],
         "z": [
          -2.6999713520844737
         ]
        },
        {
         "legendgroup": "V1",
         "marker": {
          "color": "orange",
          "size": 5
         },
         "mode": "markers",
         "name": "V1",
         "showlegend": true,
         "type": "scatter3d",
         "x": [
          3.682914337967057
         ],
         "y": [
          6.366742482112152
         ],
         "z": [
          2.69313121950094
         ]
        },
        {
         "legendgroup": "Cr1",
         "marker": {
          "color": "purple",
          "size": 5
         },
         "mode": "markers",
         "name": "Cr1",
         "showlegend": true,
         "type": "scatter3d",
         "x": [
          0.07821572913356122
         ],
         "y": [
          0.007434177189720139
         ],
         "z": [
          7.893130248077385
         ]
        },
        {
         "legendgroup": "Cr1",
         "marker": {
          "color": "purple",
          "size": 5
         },
         "mode": "markers",
         "name": "Cr1",
         "showlegend": true,
         "type": "scatter3d",
         "x": [
          -3.6294841146092396
         ],
         "y": [
          6.378595786637654
         ],
         "z": [
          2.602758403524658
         ]
        },
        {
         "legendgroup": "Cr1",
         "marker": {
          "color": "purple",
          "size": 5
         },
         "mode": "markers",
         "name": "Cr1",
         "showlegend": true,
         "type": "scatter3d",
         "x": [
          -1.2699849551946074
         ],
         "y": [
          6.3666099931522595
         ],
         "z": [
          6.932549277812446
         ]
        },
        {
         "legendgroup": "Cr1",
         "marker": {
          "color": "purple",
          "size": 5
         },
         "mode": "markers",
         "name": "Cr1",
         "showlegend": true,
         "type": "scatter3d",
         "x": [
          -1.243723468818188
         ],
         "y": [
          6.359407739120602
         ],
         "z": [
          4.392386240175659
         ]
        },
        {
         "legendgroup": "Cr1",
         "marker": {
          "color": "purple",
          "size": 5
         },
         "mode": "markers",
         "name": "Cr1",
         "showlegend": true,
         "type": "scatter3d",
         "x": [
          -0.05536174754363721
         ],
         "y": [
          8.420670788922443
         ],
         "z": [
          2.591872065808253
         ]
        },
        {
         "legendgroup": "W1",
         "marker": {
          "color": "brown",
          "size": 5
         },
         "mode": "markers",
         "name": "W1",
         "showlegend": true,
         "type": "scatter3d",
         "x": [
          -1.2273198727272554
         ],
         "y": [
          2.1324027504677776
         ],
         "z": [
          4.340966803608512
         ]
        },
        {
         "legendgroup": "Highlighted V1",
         "marker": {
          "color": "red",
          "size": 10,
          "symbol": "diamond"
         },
         "mode": "markers",
         "name": "Highlighted V1",
         "showlegend": true,
         "type": "scatter3d",
         "x": [
          -0.048613016938166886
         ],
         "y": [
          4.289159764887677
         ],
         "z": [
          0.02150857538865414
         ]
        },
        {
         "legendgroup": "Highlighted V1",
         "marker": {
          "color": "red",
          "size": 10,
          "symbol": "diamond"
         },
         "mode": "markers",
         "name": "Highlighted V1",
         "showlegend": true,
         "type": "scatter3d",
         "x": [
          -1.1796878693029167
         ],
         "y": [
          2.1283583239522232
         ],
         "z": [
          -0.7900251647128365
         ]
        },
        {
         "legendgroup": "Highlighted V1",
         "marker": {
          "color": "red",
          "size": 10,
          "symbol": "diamond"
         },
         "mode": "markers",
         "name": "Highlighted V1",
         "showlegend": true,
         "type": "scatter3d",
         "x": [
          6.147683883432375
         ],
         "y": [
          2.1024904783414535
         ],
         "z": [
          -0.8570930942698743
         ]
        },
        {
         "legendgroup": "Highlighted Ti1",
         "marker": {
          "color": "red",
          "size": 10,
          "symbol": "diamond"
         },
         "mode": "markers",
         "name": "Highlighted Ti1",
         "showlegend": true,
         "type": "scatter3d",
         "x": [
          -2.4507341679340597
         ],
         "y": [
          4.256700521609587
         ],
         "z": [
          0.8621628203714329
         ]
        },
        {
         "legendgroup": "Highlighted Ti1",
         "marker": {
          "color": "red",
          "size": 10,
          "symbol": "diamond"
         },
         "mode": "markers",
         "name": "Highlighted Ti1",
         "showlegend": true,
         "type": "scatter3d",
         "x": [
          8.64346010904411
         ],
         "y": [
          2.086387830339729
         ],
         "z": [
          3.5046318069160804
         ]
        }
       ],
       "layout": {
        "scene": {
         "xaxis": {
          "title": {
           "text": "X"
          }
         },
         "yaxis": {
          "title": {
           "text": "Y"
          }
         },
         "zaxis": {
          "title": {
           "text": "Z"
          }
         }
        },
        "template": {
         "data": {
          "bar": [
           {
            "error_x": {
             "color": "#2a3f5f"
            },
            "error_y": {
             "color": "#2a3f5f"
            },
            "marker": {
             "line": {
              "color": "#E5ECF6",
              "width": 0.5
             },
             "pattern": {
              "fillmode": "overlay",
              "size": 10,
              "solidity": 0.2
             }
            },
            "type": "bar"
           }
          ],
          "barpolar": [
           {
            "marker": {
             "line": {
              "color": "#E5ECF6",
              "width": 0.5
             },
             "pattern": {
              "fillmode": "overlay",
              "size": 10,
              "solidity": 0.2
             }
            },
            "type": "barpolar"
           }
          ],
          "carpet": [
           {
            "aaxis": {
             "endlinecolor": "#2a3f5f",
             "gridcolor": "white",
             "linecolor": "white",
             "minorgridcolor": "white",
             "startlinecolor": "#2a3f5f"
            },
            "baxis": {
             "endlinecolor": "#2a3f5f",
             "gridcolor": "white",
             "linecolor": "white",
             "minorgridcolor": "white",
             "startlinecolor": "#2a3f5f"
            },
            "type": "carpet"
           }
          ],
          "choropleth": [
           {
            "colorbar": {
             "outlinewidth": 0,
             "ticks": ""
            },
            "type": "choropleth"
           }
          ],
          "contour": [
           {
            "colorbar": {
             "outlinewidth": 0,
             "ticks": ""
            },
            "colorscale": [
             [
              0,
              "#0d0887"
             ],
             [
              0.1111111111111111,
              "#46039f"
             ],
             [
              0.2222222222222222,
              "#7201a8"
             ],
             [
              0.3333333333333333,
              "#9c179e"
             ],
             [
              0.4444444444444444,
              "#bd3786"
             ],
             [
              0.5555555555555556,
              "#d8576b"
             ],
             [
              0.6666666666666666,
              "#ed7953"
             ],
             [
              0.7777777777777778,
              "#fb9f3a"
             ],
             [
              0.8888888888888888,
              "#fdca26"
             ],
             [
              1,
              "#f0f921"
             ]
            ],
            "type": "contour"
           }
          ],
          "contourcarpet": [
           {
            "colorbar": {
             "outlinewidth": 0,
             "ticks": ""
            },
            "type": "contourcarpet"
           }
          ],
          "heatmap": [
           {
            "colorbar": {
             "outlinewidth": 0,
             "ticks": ""
            },
            "colorscale": [
             [
              0,
              "#0d0887"
             ],
             [
              0.1111111111111111,
              "#46039f"
             ],
             [
              0.2222222222222222,
              "#7201a8"
             ],
             [
              0.3333333333333333,
              "#9c179e"
             ],
             [
              0.4444444444444444,
              "#bd3786"
             ],
             [
              0.5555555555555556,
              "#d8576b"
             ],
             [
              0.6666666666666666,
              "#ed7953"
             ],
             [
              0.7777777777777778,
              "#fb9f3a"
             ],
             [
              0.8888888888888888,
              "#fdca26"
             ],
             [
              1,
              "#f0f921"
             ]
            ],
            "type": "heatmap"
           }
          ],
          "heatmapgl": [
           {
            "colorbar": {
             "outlinewidth": 0,
             "ticks": ""
            },
            "colorscale": [
             [
              0,
              "#0d0887"
             ],
             [
              0.1111111111111111,
              "#46039f"
             ],
             [
              0.2222222222222222,
              "#7201a8"
             ],
             [
              0.3333333333333333,
              "#9c179e"
             ],
             [
              0.4444444444444444,
              "#bd3786"
             ],
             [
              0.5555555555555556,
              "#d8576b"
             ],
             [
              0.6666666666666666,
              "#ed7953"
             ],
             [
              0.7777777777777778,
              "#fb9f3a"
             ],
             [
              0.8888888888888888,
              "#fdca26"
             ],
             [
              1,
              "#f0f921"
             ]
            ],
            "type": "heatmapgl"
           }
          ],
          "histogram": [
           {
            "marker": {
             "pattern": {
              "fillmode": "overlay",
              "size": 10,
              "solidity": 0.2
             }
            },
            "type": "histogram"
           }
          ],
          "histogram2d": [
           {
            "colorbar": {
             "outlinewidth": 0,
             "ticks": ""
            },
            "colorscale": [
             [
              0,
              "#0d0887"
             ],
             [
              0.1111111111111111,
              "#46039f"
             ],
             [
              0.2222222222222222,
              "#7201a8"
             ],
             [
              0.3333333333333333,
              "#9c179e"
             ],
             [
              0.4444444444444444,
              "#bd3786"
             ],
             [
              0.5555555555555556,
              "#d8576b"
             ],
             [
              0.6666666666666666,
              "#ed7953"
             ],
             [
              0.7777777777777778,
              "#fb9f3a"
             ],
             [
              0.8888888888888888,
              "#fdca26"
             ],
             [
              1,
              "#f0f921"
             ]
            ],
            "type": "histogram2d"
           }
          ],
          "histogram2dcontour": [
           {
            "colorbar": {
             "outlinewidth": 0,
             "ticks": ""
            },
            "colorscale": [
             [
              0,
              "#0d0887"
             ],
             [
              0.1111111111111111,
              "#46039f"
             ],
             [
              0.2222222222222222,
              "#7201a8"
             ],
             [
              0.3333333333333333,
              "#9c179e"
             ],
             [
              0.4444444444444444,
              "#bd3786"
             ],
             [
              0.5555555555555556,
              "#d8576b"
             ],
             [
              0.6666666666666666,
              "#ed7953"
             ],
             [
              0.7777777777777778,
              "#fb9f3a"
             ],
             [
              0.8888888888888888,
              "#fdca26"
             ],
             [
              1,
              "#f0f921"
             ]
            ],
            "type": "histogram2dcontour"
           }
          ],
          "mesh3d": [
           {
            "colorbar": {
             "outlinewidth": 0,
             "ticks": ""
            },
            "type": "mesh3d"
           }
          ],
          "parcoords": [
           {
            "line": {
             "colorbar": {
              "outlinewidth": 0,
              "ticks": ""
             }
            },
            "type": "parcoords"
           }
          ],
          "pie": [
           {
            "automargin": true,
            "type": "pie"
           }
          ],
          "scatter": [
           {
            "fillpattern": {
             "fillmode": "overlay",
             "size": 10,
             "solidity": 0.2
            },
            "type": "scatter"
           }
          ],
          "scatter3d": [
           {
            "line": {
             "colorbar": {
              "outlinewidth": 0,
              "ticks": ""
             }
            },
            "marker": {
             "colorbar": {
              "outlinewidth": 0,
              "ticks": ""
             }
            },
            "type": "scatter3d"
           }
          ],
          "scattercarpet": [
           {
            "marker": {
             "colorbar": {
              "outlinewidth": 0,
              "ticks": ""
             }
            },
            "type": "scattercarpet"
           }
          ],
          "scattergeo": [
           {
            "marker": {
             "colorbar": {
              "outlinewidth": 0,
              "ticks": ""
             }
            },
            "type": "scattergeo"
           }
          ],
          "scattergl": [
           {
            "marker": {
             "colorbar": {
              "outlinewidth": 0,
              "ticks": ""
             }
            },
            "type": "scattergl"
           }
          ],
          "scattermapbox": [
           {
            "marker": {
             "colorbar": {
              "outlinewidth": 0,
              "ticks": ""
             }
            },
            "type": "scattermapbox"
           }
          ],
          "scatterpolar": [
           {
            "marker": {
             "colorbar": {
              "outlinewidth": 0,
              "ticks": ""
             }
            },
            "type": "scatterpolar"
           }
          ],
          "scatterpolargl": [
           {
            "marker": {
             "colorbar": {
              "outlinewidth": 0,
              "ticks": ""
             }
            },
            "type": "scatterpolargl"
           }
          ],
          "scatterternary": [
           {
            "marker": {
             "colorbar": {
              "outlinewidth": 0,
              "ticks": ""
             }
            },
            "type": "scatterternary"
           }
          ],
          "surface": [
           {
            "colorbar": {
             "outlinewidth": 0,
             "ticks": ""
            },
            "colorscale": [
             [
              0,
              "#0d0887"
             ],
             [
              0.1111111111111111,
              "#46039f"
             ],
             [
              0.2222222222222222,
              "#7201a8"
             ],
             [
              0.3333333333333333,
              "#9c179e"
             ],
             [
              0.4444444444444444,
              "#bd3786"
             ],
             [
              0.5555555555555556,
              "#d8576b"
             ],
             [
              0.6666666666666666,
              "#ed7953"
             ],
             [
              0.7777777777777778,
              "#fb9f3a"
             ],
             [
              0.8888888888888888,
              "#fdca26"
             ],
             [
              1,
              "#f0f921"
             ]
            ],
            "type": "surface"
           }
          ],
          "table": [
           {
            "cells": {
             "fill": {
              "color": "#EBF0F8"
             },
             "line": {
              "color": "white"
             }
            },
            "header": {
             "fill": {
              "color": "#C8D4E3"
             },
             "line": {
              "color": "white"
             }
            },
            "type": "table"
           }
          ]
         },
         "layout": {
          "annotationdefaults": {
           "arrowcolor": "#2a3f5f",
           "arrowhead": 0,
           "arrowwidth": 1
          },
          "autotypenumbers": "strict",
          "coloraxis": {
           "colorbar": {
            "outlinewidth": 0,
            "ticks": ""
           }
          },
          "colorscale": {
           "diverging": [
            [
             0,
             "#8e0152"
            ],
            [
             0.1,
             "#c51b7d"
            ],
            [
             0.2,
             "#de77ae"
            ],
            [
             0.3,
             "#f1b6da"
            ],
            [
             0.4,
             "#fde0ef"
            ],
            [
             0.5,
             "#f7f7f7"
            ],
            [
             0.6,
             "#e6f5d0"
            ],
            [
             0.7,
             "#b8e186"
            ],
            [
             0.8,
             "#7fbc41"
            ],
            [
             0.9,
             "#4d9221"
            ],
            [
             1,
             "#276419"
            ]
           ],
           "sequential": [
            [
             0,
             "#0d0887"
            ],
            [
             0.1111111111111111,
             "#46039f"
            ],
            [
             0.2222222222222222,
             "#7201a8"
            ],
            [
             0.3333333333333333,
             "#9c179e"
            ],
            [
             0.4444444444444444,
             "#bd3786"
            ],
            [
             0.5555555555555556,
             "#d8576b"
            ],
            [
             0.6666666666666666,
             "#ed7953"
            ],
            [
             0.7777777777777778,
             "#fb9f3a"
            ],
            [
             0.8888888888888888,
             "#fdca26"
            ],
            [
             1,
             "#f0f921"
            ]
           ],
           "sequentialminus": [
            [
             0,
             "#0d0887"
            ],
            [
             0.1111111111111111,
             "#46039f"
            ],
            [
             0.2222222222222222,
             "#7201a8"
            ],
            [
             0.3333333333333333,
             "#9c179e"
            ],
            [
             0.4444444444444444,
             "#bd3786"
            ],
            [
             0.5555555555555556,
             "#d8576b"
            ],
            [
             0.6666666666666666,
             "#ed7953"
            ],
            [
             0.7777777777777778,
             "#fb9f3a"
            ],
            [
             0.8888888888888888,
             "#fdca26"
            ],
            [
             1,
             "#f0f921"
            ]
           ]
          },
          "colorway": [
           "#636efa",
           "#EF553B",
           "#00cc96",
           "#ab63fa",
           "#FFA15A",
           "#19d3f3",
           "#FF6692",
           "#B6E880",
           "#FF97FF",
           "#FECB52"
          ],
          "font": {
           "color": "#2a3f5f"
          },
          "geo": {
           "bgcolor": "white",
           "lakecolor": "white",
           "landcolor": "#E5ECF6",
           "showlakes": true,
           "showland": true,
           "subunitcolor": "white"
          },
          "hoverlabel": {
           "align": "left"
          },
          "hovermode": "closest",
          "mapbox": {
           "style": "light"
          },
          "paper_bgcolor": "white",
          "plot_bgcolor": "#E5ECF6",
          "polar": {
           "angularaxis": {
            "gridcolor": "white",
            "linecolor": "white",
            "ticks": ""
           },
           "bgcolor": "#E5ECF6",
           "radialaxis": {
            "gridcolor": "white",
            "linecolor": "white",
            "ticks": ""
           }
          },
          "scene": {
           "xaxis": {
            "backgroundcolor": "#E5ECF6",
            "gridcolor": "white",
            "gridwidth": 2,
            "linecolor": "white",
            "showbackground": true,
            "ticks": "",
            "zerolinecolor": "white"
           },
           "yaxis": {
            "backgroundcolor": "#E5ECF6",
            "gridcolor": "white",
            "gridwidth": 2,
            "linecolor": "white",
            "showbackground": true,
            "ticks": "",
            "zerolinecolor": "white"
           },
           "zaxis": {
            "backgroundcolor": "#E5ECF6",
            "gridcolor": "white",
            "gridwidth": 2,
            "linecolor": "white",
            "showbackground": true,
            "ticks": "",
            "zerolinecolor": "white"
           }
          },
          "shapedefaults": {
           "line": {
            "color": "#2a3f5f"
           }
          },
          "ternary": {
           "aaxis": {
            "gridcolor": "white",
            "linecolor": "white",
            "ticks": ""
           },
           "baxis": {
            "gridcolor": "white",
            "linecolor": "white",
            "ticks": ""
           },
           "bgcolor": "#E5ECF6",
           "caxis": {
            "gridcolor": "white",
            "linecolor": "white",
            "ticks": ""
           }
          },
          "title": {
           "x": 0.05
          },
          "xaxis": {
           "automargin": true,
           "gridcolor": "white",
           "linecolor": "white",
           "ticks": "",
           "title": {
            "standoff": 15
           },
           "zerolinecolor": "white",
           "zerolinewidth": 2
          },
          "yaxis": {
           "automargin": true,
           "gridcolor": "white",
           "linecolor": "white",
           "ticks": "",
           "title": {
            "standoff": 15
           },
           "zerolinecolor": "white",
           "zerolinewidth": 2
          }
         }
        },
        "title": {
         "text": "Structure with Highlighted Sites"
        }
       }
      }
     },
     "metadata": {},
     "output_type": "display_data"
    }
   ],
   "source": [
    "import numpy as np\n",
    "import random\n",
    "from pymatgen.core.structure import Structure\n",
    "from pymatgen.core.sites import Site\n",
    "import plotly.graph_objects as go\n",
    "from collections import defaultdict\n",
    "import itertools\n",
    "\n",
    "# Define a list of colors for different elements\n",
    "color_cycle = itertools.cycle([\n",
    "    'blue', 'green', 'orange', 'purple', 'brown', 'pink', 'gray', 'cyan', 'magenta'\n",
    "])\n",
    "\n",
    "def custom_distance(site1: Site, site2: Site) -> float:\n",
    "    geometric_dist = site1.distance(site2)\n",
    "    composition_dist = sum((site1.species.elements[i].X - site2.species.elements[i].X)**2 for i in range(len(site1.species.elements)))\n",
    "    return geometric_dist + composition_dist\n",
    "\n",
    "def identify_highest_complexity_sites(structure, top_n=3, concentration_threshold=0.5):\n",
    "    sites = structure.sites\n",
    "    complexity_scores = np.zeros(len(sites))\n",
    "    \n",
    "    for i, site1 in enumerate(sites):\n",
    "        for site2 in sites:\n",
    "            complexity_scores[i] += custom_distance(site1, site2)\n",
    "    \n",
    "    top_indices = complexity_scores.argsort()[::-1]\n",
    "    \n",
    "    element_counts = defaultdict(int)\n",
    "    for site in sites:\n",
    "        element_counts[str(site.species)] += 1\n",
    "    \n",
    "    selected_sites = []\n",
    "    for index in top_indices:\n",
    "        if len(selected_sites) >= top_n:\n",
    "            break\n",
    "        site = sites[index]\n",
    "        element = str(site.species)\n",
    "        if element_counts[element] > 2 or (element_counts[element] > 1 and element_counts[element] - 1 >= (1 - concentration_threshold) * element_counts[element]):\n",
    "            selected_sites.append(site)\n",
    "            element_counts[element] -= 1\n",
    "        else:\n",
    "            # Find a nearby site with comparable complexity and an element with more than 2 in the structure\n",
    "            min_dist = float('inf')\n",
    "            best_site = None\n",
    "            for other_site in sites:\n",
    "                other_element = str(other_site.species)\n",
    "                if other_site not in selected_sites and element_counts[other_element] > 2:\n",
    "                    dist = site.distance(other_site)\n",
    "                    if dist < min_dist and complexity_scores[sites.index(other_site)] >= complexity_scores[index] * 0.9:\n",
    "                        min_dist = dist\n",
    "                        best_site = other_site\n",
    "            if best_site:\n",
    "                selected_sites.append(best_site)\n",
    "                element_counts[str(best_site.species)] -= 1\n",
    "\n",
    "    return selected_sites\n",
    "\n",
    "def plot_structure_with_highlighted_sites(structure, top_sites):\n",
    "    fig = go.Figure()\n",
    "    \n",
    "    element_colors = defaultdict(lambda: next(color_cycle))\n",
    "    \n",
    "    # Plot all sites by element type\n",
    "    for site in structure:\n",
    "        element = str(site.species)\n",
    "        color = element_colors[element]\n",
    "        fig.add_trace(go.Scatter3d(\n",
    "            x=[site.x],\n",
    "            y=[site.y],\n",
    "            z=[site.z],\n",
    "            mode='markers',\n",
    "            marker=dict(size=5, color=color),\n",
    "            name=element,\n",
    "            legendgroup=element,\n",
    "            showlegend=True\n",
    "        ))\n",
    "\n",
    "    # Highlight top sites\n",
    "    for site in top_sites:\n",
    "        element = str(site.species)\n",
    "        fig.add_trace(go.Scatter3d(\n",
    "            x=[site.x],\n",
    "            y=[site.y],\n",
    "            z=[site.z],\n",
    "            mode='markers',\n",
    "            marker=dict(size=10, color='red', symbol='diamond'),\n",
    "            name=f'Highlighted {element}',\n",
    "            legendgroup=f'Highlighted {element}',\n",
    "            showlegend=True\n",
    "        ))\n",
    "\n",
    "    # Update layout for better visualization\n",
    "    fig.update_layout(scene=dict(\n",
    "        xaxis_title='X',\n",
    "        yaxis_title='Y',\n",
    "        zaxis_title='Z'),\n",
    "        title=\"Structure with Highlighted Sites\"\n",
    "    )\n",
    "\n",
    "    fig.show()\n",
    "\n",
    "# Example usage:\n",
    "# Load your structure\n",
    "#structure = Structure.from_file(\"POSCAR\")\n",
    "\n",
    "# Identify the top sites with highest chemical complexity\n",
    "top_sites = identify_highest_complexity_sites(structure,top_n=5)\n",
    "\n",
    "# Plot the structure and highlight the top sites\n",
    "plot_structure_with_highlighted_sites(structure, top_sites)\n"
   ]
  },
  {
   "cell_type": "code",
   "execution_count": 57,
   "metadata": {},
   "outputs": [
    {
     "data": {
      "application/vnd.plotly.v1+json": {
       "config": {
        "plotlyServerURL": "https://plot.ly"
       },
       "data": [
        {
         "legendgroup": "Zr1",
         "marker": {
          "color": "blue",
          "size": 5
         },
         "mode": "markers",
         "name": "Zr1",
         "showlegend": true,
         "type": "scatter3d",
         "x": [
          2.467492691110972
         ],
         "y": [
          4.1901387813370965
         ],
         "z": [
          -0.890479591067531
         ]
        },
        {
         "legendgroup": "Ti1",
         "marker": {
          "color": "green",
          "size": 5
         },
         "mode": "markers",
         "name": "Ti1",
         "showlegend": true,
         "type": "scatter3d",
         "x": [
          8.64346010904411
         ],
         "y": [
          2.086387830339729
         ],
         "z": [
          3.5046318069160804
         ]
        },
        {
         "legendgroup": "Ti1",
         "marker": {
          "color": "green",
          "size": 5
         },
         "mode": "markers",
         "name": "Ti1",
         "showlegend": true,
         "type": "scatter3d",
         "x": [
          -2.4507341679340597
         ],
         "y": [
          4.256700521609587
         ],
         "z": [
          0.8621628203714329
         ]
        },
        {
         "legendgroup": "Ti1",
         "marker": {
          "color": "green",
          "size": 5
         },
         "mode": "markers",
         "name": "Ti1",
         "showlegend": true,
         "type": "scatter3d",
         "x": [
          2.510276195096395
         ],
         "y": [
          8.418985475800627
         ],
         "z": [
          -6.0874076047027135
         ]
        },
        {
         "legendgroup": "Ti1",
         "marker": {
          "color": "green",
          "size": 5
         },
         "mode": "markers",
         "name": "Ti1",
         "showlegend": true,
         "type": "scatter3d",
         "x": [
          6.043752581402659
         ],
         "y": [
          2.0351837073878642
         ],
         "z": [
          6.885356462832299
         ]
        },
        {
         "legendgroup": "Ti1",
         "marker": {
          "color": "green",
          "size": 5
         },
         "mode": "markers",
         "name": "Ti1",
         "showlegend": true,
         "type": "scatter3d",
         "x": [
          3.8427321344144603
         ],
         "y": [
          6.48722337509416
         ],
         "z": [
          0.036407504339613705
         ]
        },
        {
         "legendgroup": "V1",
         "marker": {
          "color": "orange",
          "size": 5
         },
         "mode": "markers",
         "name": "V1",
         "showlegend": true,
         "type": "scatter3d",
         "x": [
          -4.878939990730071
         ],
         "y": [
          8.438883762561435
         ],
         "z": [
          6.941436294111835
         ]
        },
        {
         "legendgroup": "V1",
         "marker": {
          "color": "orange",
          "size": 5
         },
         "mode": "markers",
         "name": "V1",
         "showlegend": true,
         "type": "scatter3d",
         "x": [
          4.969870839306011
         ],
         "y": [
          8.4549634941505
         ],
         "z": [
          -4.378678781059407
         ]
        },
        {
         "legendgroup": "V1",
         "marker": {
          "color": "orange",
          "size": 5
         },
         "mode": "markers",
         "name": "V1",
         "showlegend": true,
         "type": "scatter3d",
         "x": [
          -4.885500742018095
         ],
         "y": [
          8.465976962756969
         ],
         "z": [
          1.797721071373803
         ]
        },
        {
         "legendgroup": "V1",
         "marker": {
          "color": "orange",
          "size": 5
         },
         "mode": "markers",
         "name": "V1",
         "showlegend": true,
         "type": "scatter3d",
         "x": [
          -1.1796878693029167
         ],
         "y": [
          2.1283583239522232
         ],
         "z": [
          -0.7900251647128365
         ]
        },
        {
         "legendgroup": "V1",
         "marker": {
          "color": "orange",
          "size": 5
         },
         "mode": "markers",
         "name": "V1",
         "showlegend": true,
         "type": "scatter3d",
         "x": [
          -1.1622178505102887
         ],
         "y": [
          2.1081533989552526
         ],
         "z": [
          1.7838862601804797
         ]
        },
        {
         "legendgroup": "V1",
         "marker": {
          "color": "orange",
          "size": 5
         },
         "mode": "markers",
         "name": "V1",
         "showlegend": true,
         "type": "scatter3d",
         "x": [
          7.379959962240022
         ],
         "y": [
          4.227538825455724
         ],
         "z": [
          5.147825146130071
         ]
        },
        {
         "legendgroup": "V1",
         "marker": {
          "color": "orange",
          "size": 5
         },
         "mode": "markers",
         "name": "V1",
         "showlegend": true,
         "type": "scatter3d",
         "x": [
          -2.4580632642627145
         ],
         "y": [
          4.358168441384349
         ],
         "z": [
          3.544151811503631
         ]
        },
        {
         "legendgroup": "V1",
         "marker": {
          "color": "orange",
          "size": 5
         },
         "mode": "markers",
         "name": "V1",
         "showlegend": true,
         "type": "scatter3d",
         "x": [
          -2.4789404070091283
         ],
         "y": [
          4.33109072555316
         ],
         "z": [
          6.126598006281358
         ]
        },
        {
         "legendgroup": "V1",
         "marker": {
          "color": "orange",
          "size": 5
         },
         "mode": "markers",
         "name": "V1",
         "showlegend": true,
         "type": "scatter3d",
         "x": [
          -3.643426264095448
         ],
         "y": [
          6.3619535461809615
         ],
         "z": [
          -2.6242063555648043
         ]
        },
        {
         "legendgroup": "V1",
         "marker": {
          "color": "orange",
          "size": 5
         },
         "mode": "markers",
         "name": "V1",
         "showlegend": true,
         "type": "scatter3d",
         "x": [
          -3.7008890705796964
         ],
         "y": [
          6.431501584577198
         ],
         "z": [
          0.021221827690429684
         ]
        },
        {
         "legendgroup": "V1",
         "marker": {
          "color": "orange",
          "size": 5
         },
         "mode": "markers",
         "name": "V1",
         "showlegend": true,
         "type": "scatter3d",
         "x": [
          -3.679949378556645
         ],
         "y": [
          6.4001582251787115
         ],
         "z": [
          5.19355714605841
         ]
        },
        {
         "legendgroup": "V1",
         "marker": {
          "color": "orange",
          "size": 5
         },
         "mode": "markers",
         "name": "V1",
         "showlegend": true,
         "type": "scatter3d",
         "x": [
          -2.423926735931024
         ],
         "y": [
          8.40505043930455
         ],
         "z": [
          -4.3151744640857705
         ]
        },
        {
         "legendgroup": "V1",
         "marker": {
          "color": "orange",
          "size": 5
         },
         "mode": "markers",
         "name": "V1",
         "showlegend": true,
         "type": "scatter3d",
         "x": [
          -2.4672240475767544
         ],
         "y": [
          8.458016246433896
         ],
         "z": [
          -1.719021012199602
         ]
        },
        {
         "legendgroup": "V1",
         "marker": {
          "color": "orange",
          "size": 5
         },
         "mode": "markers",
         "name": "V1",
         "showlegend": true,
         "type": "scatter3d",
         "x": [
          2.460540481845263
         ],
         "y": [
          0.007269316867527265
         ],
         "z": [
          4.323839754392695
         ]
        },
        {
         "legendgroup": "V1",
         "marker": {
          "color": "orange",
          "size": 5
         },
         "mode": "markers",
         "name": "V1",
         "showlegend": true,
         "type": "scatter3d",
         "x": [
          -2.466680491493829
         ],
         "y": [
          8.413685592986408
         ],
         "z": [
          3.4766528342421963
         ]
        },
        {
         "legendgroup": "V1",
         "marker": {
          "color": "orange",
          "size": 5
         },
         "mode": "markers",
         "name": "V1",
         "showlegend": true,
         "type": "scatter3d",
         "x": [
          1.1442199042315284
         ],
         "y": [
          1.9371453954729454
         ],
         "z": [
          8.628899968584534
         ]
        },
        {
         "legendgroup": "V1",
         "marker": {
          "color": "orange",
          "size": 5
         },
         "mode": "markers",
         "name": "V1",
         "showlegend": true,
         "type": "scatter3d",
         "x": [
          1.2473102721014477
         ],
         "y": [
          2.076597822185375
         ],
         "z": [
          0.9115576065288563
         ]
        },
        {
         "legendgroup": "V1",
         "marker": {
          "color": "orange",
          "size": 5
         },
         "mode": "markers",
         "name": "V1",
         "showlegend": true,
         "type": "scatter3d",
         "x": [
          1.2561571207620117
         ],
         "y": [
          2.100151223368059
         ],
         "z": [
          3.4986995953139868
         ]
        },
        {
         "legendgroup": "V1",
         "marker": {
          "color": "orange",
          "size": 5
         },
         "mode": "markers",
         "name": "V1",
         "showlegend": true,
         "type": "scatter3d",
         "x": [
          1.2938720719767731
         ],
         "y": [
          2.1200100224849483
         ],
         "z": [
          6.063718613605467
         ]
        },
        {
         "legendgroup": "V1",
         "marker": {
          "color": "orange",
          "size": 5
         },
         "mode": "markers",
         "name": "V1",
         "showlegend": true,
         "type": "scatter3d",
         "x": [
          -0.05238960620881716
         ],
         "y": [
          4.373352955335116
         ],
         "z": [
          -2.6573728114307675
         ]
        },
        {
         "legendgroup": "V1",
         "marker": {
          "color": "orange",
          "size": 5
         },
         "mode": "markers",
         "name": "V1",
         "showlegend": true,
         "type": "scatter3d",
         "x": [
          -0.048613016938166886
         ],
         "y": [
          4.289159764887677
         ],
         "z": [
          0.02150857538865414
         ]
        },
        {
         "legendgroup": "V1",
         "marker": {
          "color": "orange",
          "size": 5
         },
         "mode": "markers",
         "name": "V1",
         "showlegend": true,
         "type": "scatter3d",
         "x": [
          0.0034101359111122775
         ],
         "y": [
          4.271626861369787
         ],
         "z": [
          2.6111076971492784
         ]
        },
        {
         "legendgroup": "V1",
         "marker": {
          "color": "orange",
          "size": 5
         },
         "mode": "markers",
         "name": "V1",
         "showlegend": true,
         "type": "scatter3d",
         "x": [
          -0.033452901722800465
         ],
         "y": [
          4.2863266635458315
         ],
         "z": [
          5.213464469017884
         ]
        },
        {
         "legendgroup": "V1",
         "marker": {
          "color": "orange",
          "size": 5
         },
         "mode": "markers",
         "name": "V1",
         "showlegend": true,
         "type": "scatter3d",
         "x": [
          -1.2660876039145097
         ],
         "y": [
          6.375167811010832
         ],
         "z": [
          -0.8863117777059548
         ]
        },
        {
         "legendgroup": "V1",
         "marker": {
          "color": "orange",
          "size": 5
         },
         "mode": "markers",
         "name": "V1",
         "showlegend": true,
         "type": "scatter3d",
         "x": [
          -1.25059534137801
         ],
         "y": [
          6.449561673615592
         ],
         "z": [
          1.8120499665407208
         ]
        },
        {
         "legendgroup": "V1",
         "marker": {
          "color": "orange",
          "size": 5
         },
         "mode": "markers",
         "name": "V1",
         "showlegend": true,
         "type": "scatter3d",
         "x": [
          -0.08044345736980141
         ],
         "y": [
          8.430154711872792
         ],
         "z": [
          5.154621295673608
         ]
        },
        {
         "legendgroup": "V1",
         "marker": {
          "color": "orange",
          "size": 5
         },
         "mode": "markers",
         "name": "V1",
         "showlegend": true,
         "type": "scatter3d",
         "x": [
          -0.038067691958871386
         ],
         "y": [
          8.43833080869348
         ],
         "z": [
          -2.6348036959780363
         ]
        },
        {
         "legendgroup": "V1",
         "marker": {
          "color": "orange",
          "size": 5
         },
         "mode": "markers",
         "name": "V1",
         "showlegend": true,
         "type": "scatter3d",
         "x": [
          4.893844976875548
         ],
         "y": [
          -0.00841225890278013
         ],
         "z": [
          3.524577976303694
         ]
        },
        {
         "legendgroup": "V1",
         "marker": {
          "color": "orange",
          "size": 5
         },
         "mode": "markers",
         "name": "V1",
         "showlegend": true,
         "type": "scatter3d",
         "x": [
          3.6263562310240687
         ],
         "y": [
          2.0705979783641575
         ],
         "z": [
          7.858845451874327
         ]
        },
        {
         "legendgroup": "V1",
         "marker": {
          "color": "orange",
          "size": 5
         },
         "mode": "markers",
         "name": "V1",
         "showlegend": true,
         "type": "scatter3d",
         "x": [
          3.760682138897436
         ],
         "y": [
          1.974599500630284
         ],
         "z": [
          0.043087908672958974
         ]
        },
        {
         "legendgroup": "V1",
         "marker": {
          "color": "orange",
          "size": 5
         },
         "mode": "markers",
         "name": "V1",
         "showlegend": true,
         "type": "scatter3d",
         "x": [
          3.685457597195139
         ],
         "y": [
          2.10219719873697
         ],
         "z": [
          2.615387132369681
         ]
        },
        {
         "legendgroup": "V1",
         "marker": {
          "color": "orange",
          "size": 5
         },
         "mode": "markers",
         "name": "V1",
         "showlegend": true,
         "type": "scatter3d",
         "x": [
          3.698501973082826
         ],
         "y": [
          2.060518155283462
         ],
         "z": [
          5.237813013194626
         ]
        },
        {
         "legendgroup": "V1",
         "marker": {
          "color": "orange",
          "size": 5
         },
         "mode": "markers",
         "name": "V1",
         "showlegend": true,
         "type": "scatter3d",
         "x": [
          2.425132673032855
         ],
         "y": [
          4.241132818777139
         ],
         "z": [
          6.819854328877482
         ]
        },
        {
         "legendgroup": "V1",
         "marker": {
          "color": "orange",
          "size": 5
         },
         "mode": "markers",
         "name": "V1",
         "showlegend": true,
         "type": "scatter3d",
         "x": [
          2.4710150788677727
         ],
         "y": [
          4.263983491493352
         ],
         "z": [
          1.8736699292333592
         ]
        },
        {
         "legendgroup": "V1",
         "marker": {
          "color": "orange",
          "size": 5
         },
         "mode": "markers",
         "name": "V1",
         "showlegend": true,
         "type": "scatter3d",
         "x": [
          2.451401402038911
         ],
         "y": [
          4.23822695231489
         ],
         "z": [
          4.3571020139119705
         ]
        },
        {
         "legendgroup": "V1",
         "marker": {
          "color": "orange",
          "size": 5
         },
         "mode": "markers",
         "name": "V1",
         "showlegend": true,
         "type": "scatter3d",
         "x": [
          1.1919879912657305
         ],
         "y": [
          6.377794560238157
         ],
         "z": [
          -4.3706843328424485
         ]
        },
        {
         "legendgroup": "V1",
         "marker": {
          "color": "orange",
          "size": 5
         },
         "mode": "markers",
         "name": "V1",
         "showlegend": true,
         "type": "scatter3d",
         "x": [
          1.1651873763015659
         ],
         "y": [
          6.4540458241374745
         ],
         "z": [
          -1.7789741792778677
         ]
        },
        {
         "legendgroup": "V1",
         "marker": {
          "color": "orange",
          "size": 5
         },
         "mode": "markers",
         "name": "V1",
         "showlegend": true,
         "type": "scatter3d",
         "x": [
          1.1951785911547446
         ],
         "y": [
          6.37406599166821
         ],
         "z": [
          0.889307898598759
         ]
        },
        {
         "legendgroup": "V1",
         "marker": {
          "color": "orange",
          "size": 5
         },
         "mode": "markers",
         "name": "V1",
         "showlegend": true,
         "type": "scatter3d",
         "x": [
          1.1219364685999476
         ],
         "y": [
          6.359312114437975
         ],
         "z": [
          3.4723960046585933
         ]
        },
        {
         "legendgroup": "V1",
         "marker": {
          "color": "orange",
          "size": 5
         },
         "mode": "markers",
         "name": "V1",
         "showlegend": true,
         "type": "scatter3d",
         "x": [
          2.462646706044443
         ],
         "y": [
          8.469618385131245
         ],
         "z": [
          -3.4504010237406
         ]
        },
        {
         "legendgroup": "V1",
         "marker": {
          "color": "orange",
          "size": 5
         },
         "mode": "markers",
         "name": "V1",
         "showlegend": true,
         "type": "scatter3d",
         "x": [
          2.3610535944310183
         ],
         "y": [
          8.464638909171
         ],
         "z": [
          -0.920611535497514
         ]
        },
        {
         "legendgroup": "V1",
         "marker": {
          "color": "orange",
          "size": 5
         },
         "mode": "markers",
         "name": "V1",
         "showlegend": true,
         "type": "scatter3d",
         "x": [
          2.4405544700564104
         ],
         "y": [
          8.474118904397288
         ],
         "z": [
          1.692768294046573
         ]
        },
        {
         "legendgroup": "V1",
         "marker": {
          "color": "orange",
          "size": 5
         },
         "mode": "markers",
         "name": "V1",
         "showlegend": true,
         "type": "scatter3d",
         "x": [
          6.147683883432375
         ],
         "y": [
          2.1024904783414535
         ],
         "z": [
          -0.8570930942698743
         ]
        },
        {
         "legendgroup": "V1",
         "marker": {
          "color": "orange",
          "size": 5
         },
         "mode": "markers",
         "name": "V1",
         "showlegend": true,
         "type": "scatter3d",
         "x": [
          6.161187792045048
         ],
         "y": [
          2.1349941124248373
         ],
         "z": [
          1.753111764623761
         ]
        },
        {
         "legendgroup": "V1",
         "marker": {
          "color": "orange",
          "size": 5
         },
         "mode": "markers",
         "name": "V1",
         "showlegend": true,
         "type": "scatter3d",
         "x": [
          6.079286937726145
         ],
         "y": [
          2.1306822504368172
         ],
         "z": [
          4.2715025018750445
         ]
        },
        {
         "legendgroup": "V1",
         "marker": {
          "color": "orange",
          "size": 5
         },
         "mode": "markers",
         "name": "V1",
         "showlegend": true,
         "type": "scatter3d",
         "x": [
          4.937336896274889
         ],
         "y": [
          4.304214473141048
         ],
         "z": [
          -4.408291930883687
         ]
        },
        {
         "legendgroup": "V1",
         "marker": {
          "color": "orange",
          "size": 5
         },
         "mode": "markers",
         "name": "V1",
         "showlegend": true,
         "type": "scatter3d",
         "x": [
          5.027634668164815
         ],
         "y": [
          4.3172351957425334
         ],
         "z": [
          -1.7132657371277134
         ]
        },
        {
         "legendgroup": "V1",
         "marker": {
          "color": "orange",
          "size": 5
         },
         "mode": "markers",
         "name": "V1",
         "showlegend": true,
         "type": "scatter3d",
         "x": [
          4.98088462623336
         ],
         "y": [
          4.200689607655577
         ],
         "z": [
          0.9285261627106531
         ]
        },
        {
         "legendgroup": "V1",
         "marker": {
          "color": "orange",
          "size": 5
         },
         "mode": "markers",
         "name": "V1",
         "showlegend": true,
         "type": "scatter3d",
         "x": [
          4.940507675055229
         ],
         "y": [
          4.253646381168566
         ],
         "z": [
          3.472164281128263
         ]
        },
        {
         "legendgroup": "V1",
         "marker": {
          "color": "orange",
          "size": 5
         },
         "mode": "markers",
         "name": "V1",
         "showlegend": true,
         "type": "scatter3d",
         "x": [
          3.7426731345812074
         ],
         "y": [
          6.3076669881453595
         ],
         "z": [
          5.237939552775358
         ]
        },
        {
         "legendgroup": "V1",
         "marker": {
          "color": "orange",
          "size": 5
         },
         "mode": "markers",
         "name": "V1",
         "showlegend": true,
         "type": "scatter3d",
         "x": [
          3.703494307586802
         ],
         "y": [
          6.3902242758171095
         ],
         "z": [
          -2.6999713520844737
         ]
        },
        {
         "legendgroup": "V1",
         "marker": {
          "color": "orange",
          "size": 5
         },
         "mode": "markers",
         "name": "V1",
         "showlegend": true,
         "type": "scatter3d",
         "x": [
          3.682914337967057
         ],
         "y": [
          6.366742482112152
         ],
         "z": [
          2.69313121950094
         ]
        },
        {
         "legendgroup": "Cr1",
         "marker": {
          "color": "purple",
          "size": 5
         },
         "mode": "markers",
         "name": "Cr1",
         "showlegend": true,
         "type": "scatter3d",
         "x": [
          0.07821572913356122
         ],
         "y": [
          0.007434177189720139
         ],
         "z": [
          7.893130248077385
         ]
        },
        {
         "legendgroup": "Cr1",
         "marker": {
          "color": "purple",
          "size": 5
         },
         "mode": "markers",
         "name": "Cr1",
         "showlegend": true,
         "type": "scatter3d",
         "x": [
          -3.6294841146092396
         ],
         "y": [
          6.378595786637654
         ],
         "z": [
          2.602758403524658
         ]
        },
        {
         "legendgroup": "Cr1",
         "marker": {
          "color": "purple",
          "size": 5
         },
         "mode": "markers",
         "name": "Cr1",
         "showlegend": true,
         "type": "scatter3d",
         "x": [
          -1.2699849551946074
         ],
         "y": [
          6.3666099931522595
         ],
         "z": [
          6.932549277812446
         ]
        },
        {
         "legendgroup": "Cr1",
         "marker": {
          "color": "purple",
          "size": 5
         },
         "mode": "markers",
         "name": "Cr1",
         "showlegend": true,
         "type": "scatter3d",
         "x": [
          -1.243723468818188
         ],
         "y": [
          6.359407739120602
         ],
         "z": [
          4.392386240175659
         ]
        },
        {
         "legendgroup": "Cr1",
         "marker": {
          "color": "purple",
          "size": 5
         },
         "mode": "markers",
         "name": "Cr1",
         "showlegend": true,
         "type": "scatter3d",
         "x": [
          -0.05536174754363721
         ],
         "y": [
          8.420670788922443
         ],
         "z": [
          2.591872065808253
         ]
        },
        {
         "legendgroup": "W1",
         "marker": {
          "color": "brown",
          "size": 5
         },
         "mode": "markers",
         "name": "W1",
         "showlegend": true,
         "type": "scatter3d",
         "x": [
          -1.2273198727272554
         ],
         "y": [
          2.1324027504677776
         ],
         "z": [
          4.340966803608512
         ]
        },
        {
         "legendgroup": "Highlighted V1",
         "marker": {
          "color": "red",
          "size": 10,
          "symbol": "diamond"
         },
         "mode": "markers",
         "name": "Highlighted V1",
         "showlegend": true,
         "type": "scatter3d",
         "x": [
          -0.048613016938166886
         ],
         "y": [
          4.289159764887677
         ],
         "z": [
          0.02150857538865414
         ]
        },
        {
         "legendgroup": "Highlighted V1",
         "marker": {
          "color": "red",
          "size": 10,
          "symbol": "diamond"
         },
         "mode": "markers",
         "name": "Highlighted V1",
         "showlegend": true,
         "type": "scatter3d",
         "x": [
          6.161187792045048
         ],
         "y": [
          2.1349941124248373
         ],
         "z": [
          1.753111764623761
         ]
        }
       ],
       "layout": {
        "scene": {
         "xaxis": {
          "title": {
           "text": "X"
          }
         },
         "yaxis": {
          "title": {
           "text": "Y"
          }
         },
         "zaxis": {
          "title": {
           "text": "Z"
          }
         }
        },
        "template": {
         "data": {
          "bar": [
           {
            "error_x": {
             "color": "#2a3f5f"
            },
            "error_y": {
             "color": "#2a3f5f"
            },
            "marker": {
             "line": {
              "color": "#E5ECF6",
              "width": 0.5
             },
             "pattern": {
              "fillmode": "overlay",
              "size": 10,
              "solidity": 0.2
             }
            },
            "type": "bar"
           }
          ],
          "barpolar": [
           {
            "marker": {
             "line": {
              "color": "#E5ECF6",
              "width": 0.5
             },
             "pattern": {
              "fillmode": "overlay",
              "size": 10,
              "solidity": 0.2
             }
            },
            "type": "barpolar"
           }
          ],
          "carpet": [
           {
            "aaxis": {
             "endlinecolor": "#2a3f5f",
             "gridcolor": "white",
             "linecolor": "white",
             "minorgridcolor": "white",
             "startlinecolor": "#2a3f5f"
            },
            "baxis": {
             "endlinecolor": "#2a3f5f",
             "gridcolor": "white",
             "linecolor": "white",
             "minorgridcolor": "white",
             "startlinecolor": "#2a3f5f"
            },
            "type": "carpet"
           }
          ],
          "choropleth": [
           {
            "colorbar": {
             "outlinewidth": 0,
             "ticks": ""
            },
            "type": "choropleth"
           }
          ],
          "contour": [
           {
            "colorbar": {
             "outlinewidth": 0,
             "ticks": ""
            },
            "colorscale": [
             [
              0,
              "#0d0887"
             ],
             [
              0.1111111111111111,
              "#46039f"
             ],
             [
              0.2222222222222222,
              "#7201a8"
             ],
             [
              0.3333333333333333,
              "#9c179e"
             ],
             [
              0.4444444444444444,
              "#bd3786"
             ],
             [
              0.5555555555555556,
              "#d8576b"
             ],
             [
              0.6666666666666666,
              "#ed7953"
             ],
             [
              0.7777777777777778,
              "#fb9f3a"
             ],
             [
              0.8888888888888888,
              "#fdca26"
             ],
             [
              1,
              "#f0f921"
             ]
            ],
            "type": "contour"
           }
          ],
          "contourcarpet": [
           {
            "colorbar": {
             "outlinewidth": 0,
             "ticks": ""
            },
            "type": "contourcarpet"
           }
          ],
          "heatmap": [
           {
            "colorbar": {
             "outlinewidth": 0,
             "ticks": ""
            },
            "colorscale": [
             [
              0,
              "#0d0887"
             ],
             [
              0.1111111111111111,
              "#46039f"
             ],
             [
              0.2222222222222222,
              "#7201a8"
             ],
             [
              0.3333333333333333,
              "#9c179e"
             ],
             [
              0.4444444444444444,
              "#bd3786"
             ],
             [
              0.5555555555555556,
              "#d8576b"
             ],
             [
              0.6666666666666666,
              "#ed7953"
             ],
             [
              0.7777777777777778,
              "#fb9f3a"
             ],
             [
              0.8888888888888888,
              "#fdca26"
             ],
             [
              1,
              "#f0f921"
             ]
            ],
            "type": "heatmap"
           }
          ],
          "heatmapgl": [
           {
            "colorbar": {
             "outlinewidth": 0,
             "ticks": ""
            },
            "colorscale": [
             [
              0,
              "#0d0887"
             ],
             [
              0.1111111111111111,
              "#46039f"
             ],
             [
              0.2222222222222222,
              "#7201a8"
             ],
             [
              0.3333333333333333,
              "#9c179e"
             ],
             [
              0.4444444444444444,
              "#bd3786"
             ],
             [
              0.5555555555555556,
              "#d8576b"
             ],
             [
              0.6666666666666666,
              "#ed7953"
             ],
             [
              0.7777777777777778,
              "#fb9f3a"
             ],
             [
              0.8888888888888888,
              "#fdca26"
             ],
             [
              1,
              "#f0f921"
             ]
            ],
            "type": "heatmapgl"
           }
          ],
          "histogram": [
           {
            "marker": {
             "pattern": {
              "fillmode": "overlay",
              "size": 10,
              "solidity": 0.2
             }
            },
            "type": "histogram"
           }
          ],
          "histogram2d": [
           {
            "colorbar": {
             "outlinewidth": 0,
             "ticks": ""
            },
            "colorscale": [
             [
              0,
              "#0d0887"
             ],
             [
              0.1111111111111111,
              "#46039f"
             ],
             [
              0.2222222222222222,
              "#7201a8"
             ],
             [
              0.3333333333333333,
              "#9c179e"
             ],
             [
              0.4444444444444444,
              "#bd3786"
             ],
             [
              0.5555555555555556,
              "#d8576b"
             ],
             [
              0.6666666666666666,
              "#ed7953"
             ],
             [
              0.7777777777777778,
              "#fb9f3a"
             ],
             [
              0.8888888888888888,
              "#fdca26"
             ],
             [
              1,
              "#f0f921"
             ]
            ],
            "type": "histogram2d"
           }
          ],
          "histogram2dcontour": [
           {
            "colorbar": {
             "outlinewidth": 0,
             "ticks": ""
            },
            "colorscale": [
             [
              0,
              "#0d0887"
             ],
             [
              0.1111111111111111,
              "#46039f"
             ],
             [
              0.2222222222222222,
              "#7201a8"
             ],
             [
              0.3333333333333333,
              "#9c179e"
             ],
             [
              0.4444444444444444,
              "#bd3786"
             ],
             [
              0.5555555555555556,
              "#d8576b"
             ],
             [
              0.6666666666666666,
              "#ed7953"
             ],
             [
              0.7777777777777778,
              "#fb9f3a"
             ],
             [
              0.8888888888888888,
              "#fdca26"
             ],
             [
              1,
              "#f0f921"
             ]
            ],
            "type": "histogram2dcontour"
           }
          ],
          "mesh3d": [
           {
            "colorbar": {
             "outlinewidth": 0,
             "ticks": ""
            },
            "type": "mesh3d"
           }
          ],
          "parcoords": [
           {
            "line": {
             "colorbar": {
              "outlinewidth": 0,
              "ticks": ""
             }
            },
            "type": "parcoords"
           }
          ],
          "pie": [
           {
            "automargin": true,
            "type": "pie"
           }
          ],
          "scatter": [
           {
            "fillpattern": {
             "fillmode": "overlay",
             "size": 10,
             "solidity": 0.2
            },
            "type": "scatter"
           }
          ],
          "scatter3d": [
           {
            "line": {
             "colorbar": {
              "outlinewidth": 0,
              "ticks": ""
             }
            },
            "marker": {
             "colorbar": {
              "outlinewidth": 0,
              "ticks": ""
             }
            },
            "type": "scatter3d"
           }
          ],
          "scattercarpet": [
           {
            "marker": {
             "colorbar": {
              "outlinewidth": 0,
              "ticks": ""
             }
            },
            "type": "scattercarpet"
           }
          ],
          "scattergeo": [
           {
            "marker": {
             "colorbar": {
              "outlinewidth": 0,
              "ticks": ""
             }
            },
            "type": "scattergeo"
           }
          ],
          "scattergl": [
           {
            "marker": {
             "colorbar": {
              "outlinewidth": 0,
              "ticks": ""
             }
            },
            "type": "scattergl"
           }
          ],
          "scattermapbox": [
           {
            "marker": {
             "colorbar": {
              "outlinewidth": 0,
              "ticks": ""
             }
            },
            "type": "scattermapbox"
           }
          ],
          "scatterpolar": [
           {
            "marker": {
             "colorbar": {
              "outlinewidth": 0,
              "ticks": ""
             }
            },
            "type": "scatterpolar"
           }
          ],
          "scatterpolargl": [
           {
            "marker": {
             "colorbar": {
              "outlinewidth": 0,
              "ticks": ""
             }
            },
            "type": "scatterpolargl"
           }
          ],
          "scatterternary": [
           {
            "marker": {
             "colorbar": {
              "outlinewidth": 0,
              "ticks": ""
             }
            },
            "type": "scatterternary"
           }
          ],
          "surface": [
           {
            "colorbar": {
             "outlinewidth": 0,
             "ticks": ""
            },
            "colorscale": [
             [
              0,
              "#0d0887"
             ],
             [
              0.1111111111111111,
              "#46039f"
             ],
             [
              0.2222222222222222,
              "#7201a8"
             ],
             [
              0.3333333333333333,
              "#9c179e"
             ],
             [
              0.4444444444444444,
              "#bd3786"
             ],
             [
              0.5555555555555556,
              "#d8576b"
             ],
             [
              0.6666666666666666,
              "#ed7953"
             ],
             [
              0.7777777777777778,
              "#fb9f3a"
             ],
             [
              0.8888888888888888,
              "#fdca26"
             ],
             [
              1,
              "#f0f921"
             ]
            ],
            "type": "surface"
           }
          ],
          "table": [
           {
            "cells": {
             "fill": {
              "color": "#EBF0F8"
             },
             "line": {
              "color": "white"
             }
            },
            "header": {
             "fill": {
              "color": "#C8D4E3"
             },
             "line": {
              "color": "white"
             }
            },
            "type": "table"
           }
          ]
         },
         "layout": {
          "annotationdefaults": {
           "arrowcolor": "#2a3f5f",
           "arrowhead": 0,
           "arrowwidth": 1
          },
          "autotypenumbers": "strict",
          "coloraxis": {
           "colorbar": {
            "outlinewidth": 0,
            "ticks": ""
           }
          },
          "colorscale": {
           "diverging": [
            [
             0,
             "#8e0152"
            ],
            [
             0.1,
             "#c51b7d"
            ],
            [
             0.2,
             "#de77ae"
            ],
            [
             0.3,
             "#f1b6da"
            ],
            [
             0.4,
             "#fde0ef"
            ],
            [
             0.5,
             "#f7f7f7"
            ],
            [
             0.6,
             "#e6f5d0"
            ],
            [
             0.7,
             "#b8e186"
            ],
            [
             0.8,
             "#7fbc41"
            ],
            [
             0.9,
             "#4d9221"
            ],
            [
             1,
             "#276419"
            ]
           ],
           "sequential": [
            [
             0,
             "#0d0887"
            ],
            [
             0.1111111111111111,
             "#46039f"
            ],
            [
             0.2222222222222222,
             "#7201a8"
            ],
            [
             0.3333333333333333,
             "#9c179e"
            ],
            [
             0.4444444444444444,
             "#bd3786"
            ],
            [
             0.5555555555555556,
             "#d8576b"
            ],
            [
             0.6666666666666666,
             "#ed7953"
            ],
            [
             0.7777777777777778,
             "#fb9f3a"
            ],
            [
             0.8888888888888888,
             "#fdca26"
            ],
            [
             1,
             "#f0f921"
            ]
           ],
           "sequentialminus": [
            [
             0,
             "#0d0887"
            ],
            [
             0.1111111111111111,
             "#46039f"
            ],
            [
             0.2222222222222222,
             "#7201a8"
            ],
            [
             0.3333333333333333,
             "#9c179e"
            ],
            [
             0.4444444444444444,
             "#bd3786"
            ],
            [
             0.5555555555555556,
             "#d8576b"
            ],
            [
             0.6666666666666666,
             "#ed7953"
            ],
            [
             0.7777777777777778,
             "#fb9f3a"
            ],
            [
             0.8888888888888888,
             "#fdca26"
            ],
            [
             1,
             "#f0f921"
            ]
           ]
          },
          "colorway": [
           "#636efa",
           "#EF553B",
           "#00cc96",
           "#ab63fa",
           "#FFA15A",
           "#19d3f3",
           "#FF6692",
           "#B6E880",
           "#FF97FF",
           "#FECB52"
          ],
          "font": {
           "color": "#2a3f5f"
          },
          "geo": {
           "bgcolor": "white",
           "lakecolor": "white",
           "landcolor": "#E5ECF6",
           "showlakes": true,
           "showland": true,
           "subunitcolor": "white"
          },
          "hoverlabel": {
           "align": "left"
          },
          "hovermode": "closest",
          "mapbox": {
           "style": "light"
          },
          "paper_bgcolor": "white",
          "plot_bgcolor": "#E5ECF6",
          "polar": {
           "angularaxis": {
            "gridcolor": "white",
            "linecolor": "white",
            "ticks": ""
           },
           "bgcolor": "#E5ECF6",
           "radialaxis": {
            "gridcolor": "white",
            "linecolor": "white",
            "ticks": ""
           }
          },
          "scene": {
           "xaxis": {
            "backgroundcolor": "#E5ECF6",
            "gridcolor": "white",
            "gridwidth": 2,
            "linecolor": "white",
            "showbackground": true,
            "ticks": "",
            "zerolinecolor": "white"
           },
           "yaxis": {
            "backgroundcolor": "#E5ECF6",
            "gridcolor": "white",
            "gridwidth": 2,
            "linecolor": "white",
            "showbackground": true,
            "ticks": "",
            "zerolinecolor": "white"
           },
           "zaxis": {
            "backgroundcolor": "#E5ECF6",
            "gridcolor": "white",
            "gridwidth": 2,
            "linecolor": "white",
            "showbackground": true,
            "ticks": "",
            "zerolinecolor": "white"
           }
          },
          "shapedefaults": {
           "line": {
            "color": "#2a3f5f"
           }
          },
          "ternary": {
           "aaxis": {
            "gridcolor": "white",
            "linecolor": "white",
            "ticks": ""
           },
           "baxis": {
            "gridcolor": "white",
            "linecolor": "white",
            "ticks": ""
           },
           "bgcolor": "#E5ECF6",
           "caxis": {
            "gridcolor": "white",
            "linecolor": "white",
            "ticks": ""
           }
          },
          "title": {
           "x": 0.05
          },
          "xaxis": {
           "automargin": true,
           "gridcolor": "white",
           "linecolor": "white",
           "ticks": "",
           "title": {
            "standoff": 15
           },
           "zerolinecolor": "white",
           "zerolinewidth": 2
          },
          "yaxis": {
           "automargin": true,
           "gridcolor": "white",
           "linecolor": "white",
           "ticks": "",
           "title": {
            "standoff": 15
           },
           "zerolinecolor": "white",
           "zerolinewidth": 2
          }
         }
        },
        "title": {
         "text": "Structure with Highlighted Sites"
        }
       }
      }
     },
     "metadata": {},
     "output_type": "display_data"
    }
   ],
   "source": [
    "import numpy as np\n",
    "from pymatgen.core.structure import Structure\n",
    "from pymatgen.core.sites import Site\n",
    "import plotly.graph_objects as go\n",
    "from collections import defaultdict\n",
    "import itertools\n",
    "from pymatgen.analysis.local_env import VoronoiNN\n",
    "\n",
    "# Define a list of colors for different elements\n",
    "color_cycle = itertools.cycle([\n",
    "    'blue', 'green', 'orange', 'purple', 'brown', 'pink', 'gray', 'cyan', 'magenta'\n",
    "])\n",
    "\n",
    "def custom_distance(site1: Site, site2: Site) -> float:\n",
    "    geometric_dist = site1.distance(site2)\n",
    "    composition_dist = sum((site1.species.elements[i].X - site2.species.elements[i].X)**2 for i in range(len(site1.species.elements)))\n",
    "    return geometric_dist + composition_dist\n",
    "\n",
    "def identify_highest_complexity_sites(structure, top_n=3, concentration_threshold=0.5):\n",
    "    sites = structure.sites\n",
    "    complexity_scores = np.zeros(len(sites))\n",
    "    \n",
    "    for i, site1 in enumerate(sites):\n",
    "        for site2 in sites:\n",
    "            complexity_scores[i] += custom_distance(site1, site2)\n",
    "    \n",
    "    top_indices = complexity_scores.argsort()[::-1]\n",
    "    \n",
    "    element_counts = defaultdict(int)\n",
    "    for site in sites:\n",
    "        element_counts[str(site.species)] += 1\n",
    "    \n",
    "    vnn = VoronoiNN()\n",
    "    selected_sites = []\n",
    "    selected_neighbors = set()\n",
    "\n",
    "    for index in top_indices:\n",
    "        if len(selected_sites) >= top_n:\n",
    "            break\n",
    "        site = sites[index]\n",
    "        element = str(site.species)\n",
    "\n",
    "        if element_counts[element] > 2 or (element_counts[element] > 1 and element_counts[element] - 1 >= (1 - concentration_threshold) * element_counts[element]):\n",
    "            neighbors = set(n['site_index'] for n in vnn.get_nn_info(structure, index))\n",
    "\n",
    "            if not selected_neighbors.intersection(neighbors):\n",
    "                selected_sites.append(site)\n",
    "                selected_neighbors.update(neighbors)\n",
    "                element_counts[element] -= 1\n",
    "        else:\n",
    "            # Find a nearby site with comparable complexity and an element with more than 2 in the structure\n",
    "            min_dist = float('inf')\n",
    "            best_site = None\n",
    "            best_index = None\n",
    "            for other_index, other_site in enumerate(sites):\n",
    "                other_element = str(other_site.species)\n",
    "                if other_site not in selected_sites and element_counts[other_element] > 2:\n",
    "                    dist = site.distance(other_site)\n",
    "                    if dist < min_dist and complexity_scores[other_index] >= complexity_scores[index] * 0.9:\n",
    "                        neighbors = set(n['site_index'] for n in vnn.get_nn_info(structure, other_index))\n",
    "                        if not selected_neighbors.intersection(neighbors):\n",
    "                            min_dist = dist\n",
    "                            best_site = other_site\n",
    "                            best_index = other_index\n",
    "            if best_site:\n",
    "                selected_sites.append(best_site)\n",
    "                selected_neighbors.update(neighbors)\n",
    "                element_counts[str(best_site.species)] -= 1\n",
    "\n",
    "    return selected_sites\n",
    "\n",
    "def plot_structure_with_highlighted_sites(structure, top_sites):\n",
    "    fig = go.Figure()\n",
    "    \n",
    "    element_colors = defaultdict(lambda: next(color_cycle))\n",
    "    \n",
    "    # Plot all sites by element type\n",
    "    for site in structure:\n",
    "        element = str(site.species)\n",
    "        color = element_colors[element]\n",
    "        fig.add_trace(go.Scatter3d(\n",
    "            x=[site.x],\n",
    "            y=[site.y],\n",
    "            z=[site.z],\n",
    "            mode='markers',\n",
    "            marker=dict(size=5, color=color),\n",
    "            name=element,\n",
    "            legendgroup=element,\n",
    "            showlegend=True\n",
    "        ))\n",
    "\n",
    "    # Highlight top sites\n",
    "    for site in top_sites:\n",
    "        element = str(site.species)\n",
    "        fig.add_trace(go.Scatter3d(\n",
    "            x=[site.x],\n",
    "            y=[site.y],\n",
    "            z=[site.z],\n",
    "            mode='markers',\n",
    "            marker=dict(size=10, color='red', symbol='diamond'),\n",
    "            name=f'Highlighted {element}',\n",
    "            legendgroup=f'Highlighted {element}',\n",
    "            showlegend=True\n",
    "        ))\n",
    "\n",
    "    # Update layout for better visualization\n",
    "    fig.update_layout(scene=dict(\n",
    "        xaxis_title='X',\n",
    "        yaxis_title='Y',\n",
    "        zaxis_title='Z'),\n",
    "        title=\"Structure with Highlighted Sites\"\n",
    "    )\n",
    "\n",
    "    fig.show()\n",
    "\n",
    "# Example usage:\n",
    "# Load your structure\n",
    "#structure = Structure.from_file(\"POSCAR\")\n",
    "\n",
    "# Identify the top sites with highest chemical complexity\n",
    "top_sites = identify_highest_complexity_sites(structure, top_n=5, concentration_threshold=0.2)\n",
    "\n",
    "# Plot the structure and highlight the top sites\n",
    "plot_structure_with_highlighted_sites(structure, top_sites)\n"
   ]
  },
  {
   "cell_type": "code",
   "execution_count": 56,
   "metadata": {},
   "outputs": [
    {
     "data": {
      "application/vnd.plotly.v1+json": {
       "config": {
        "plotlyServerURL": "https://plot.ly"
       },
       "data": [
        {
         "legendgroup": "Zr1",
         "marker": {
          "color": "blue",
          "size": 5
         },
         "mode": "markers",
         "name": "Zr1",
         "showlegend": true,
         "type": "scatter3d",
         "x": [
          2.467492691110972
         ],
         "y": [
          4.1901387813370965
         ],
         "z": [
          -0.890479591067531
         ]
        },
        {
         "legendgroup": "Ti1",
         "marker": {
          "color": "green",
          "size": 5
         },
         "mode": "markers",
         "name": "Ti1",
         "showlegend": true,
         "type": "scatter3d",
         "x": [
          8.64346010904411
         ],
         "y": [
          2.086387830339729
         ],
         "z": [
          3.5046318069160804
         ]
        },
        {
         "legendgroup": "Ti1",
         "marker": {
          "color": "green",
          "size": 5
         },
         "mode": "markers",
         "name": "Ti1",
         "showlegend": true,
         "type": "scatter3d",
         "x": [
          -2.4507341679340597
         ],
         "y": [
          4.256700521609587
         ],
         "z": [
          0.8621628203714329
         ]
        },
        {
         "legendgroup": "Ti1",
         "marker": {
          "color": "green",
          "size": 5
         },
         "mode": "markers",
         "name": "Ti1",
         "showlegend": true,
         "type": "scatter3d",
         "x": [
          2.510276195096395
         ],
         "y": [
          8.418985475800627
         ],
         "z": [
          -6.0874076047027135
         ]
        },
        {
         "legendgroup": "Ti1",
         "marker": {
          "color": "green",
          "size": 5
         },
         "mode": "markers",
         "name": "Ti1",
         "showlegend": true,
         "type": "scatter3d",
         "x": [
          6.043752581402659
         ],
         "y": [
          2.0351837073878642
         ],
         "z": [
          6.885356462832299
         ]
        },
        {
         "legendgroup": "Ti1",
         "marker": {
          "color": "green",
          "size": 5
         },
         "mode": "markers",
         "name": "Ti1",
         "showlegend": true,
         "type": "scatter3d",
         "x": [
          3.8427321344144603
         ],
         "y": [
          6.48722337509416
         ],
         "z": [
          0.036407504339613705
         ]
        },
        {
         "legendgroup": "V1",
         "marker": {
          "color": "orange",
          "size": 5
         },
         "mode": "markers",
         "name": "V1",
         "showlegend": true,
         "type": "scatter3d",
         "x": [
          -4.878939990730071
         ],
         "y": [
          8.438883762561435
         ],
         "z": [
          6.941436294111835
         ]
        },
        {
         "legendgroup": "V1",
         "marker": {
          "color": "orange",
          "size": 5
         },
         "mode": "markers",
         "name": "V1",
         "showlegend": true,
         "type": "scatter3d",
         "x": [
          4.969870839306011
         ],
         "y": [
          8.4549634941505
         ],
         "z": [
          -4.378678781059407
         ]
        },
        {
         "legendgroup": "V1",
         "marker": {
          "color": "orange",
          "size": 5
         },
         "mode": "markers",
         "name": "V1",
         "showlegend": true,
         "type": "scatter3d",
         "x": [
          -4.885500742018095
         ],
         "y": [
          8.465976962756969
         ],
         "z": [
          1.797721071373803
         ]
        },
        {
         "legendgroup": "V1",
         "marker": {
          "color": "orange",
          "size": 5
         },
         "mode": "markers",
         "name": "V1",
         "showlegend": true,
         "type": "scatter3d",
         "x": [
          -1.1796878693029167
         ],
         "y": [
          2.1283583239522232
         ],
         "z": [
          -0.7900251647128365
         ]
        },
        {
         "legendgroup": "V1",
         "marker": {
          "color": "orange",
          "size": 5
         },
         "mode": "markers",
         "name": "V1",
         "showlegend": true,
         "type": "scatter3d",
         "x": [
          -1.1622178505102887
         ],
         "y": [
          2.1081533989552526
         ],
         "z": [
          1.7838862601804797
         ]
        },
        {
         "legendgroup": "V1",
         "marker": {
          "color": "orange",
          "size": 5
         },
         "mode": "markers",
         "name": "V1",
         "showlegend": true,
         "type": "scatter3d",
         "x": [
          7.379959962240022
         ],
         "y": [
          4.227538825455724
         ],
         "z": [
          5.147825146130071
         ]
        },
        {
         "legendgroup": "V1",
         "marker": {
          "color": "orange",
          "size": 5
         },
         "mode": "markers",
         "name": "V1",
         "showlegend": true,
         "type": "scatter3d",
         "x": [
          -2.4580632642627145
         ],
         "y": [
          4.358168441384349
         ],
         "z": [
          3.544151811503631
         ]
        },
        {
         "legendgroup": "V1",
         "marker": {
          "color": "orange",
          "size": 5
         },
         "mode": "markers",
         "name": "V1",
         "showlegend": true,
         "type": "scatter3d",
         "x": [
          -2.4789404070091283
         ],
         "y": [
          4.33109072555316
         ],
         "z": [
          6.126598006281358
         ]
        },
        {
         "legendgroup": "V1",
         "marker": {
          "color": "orange",
          "size": 5
         },
         "mode": "markers",
         "name": "V1",
         "showlegend": true,
         "type": "scatter3d",
         "x": [
          -3.643426264095448
         ],
         "y": [
          6.3619535461809615
         ],
         "z": [
          -2.6242063555648043
         ]
        },
        {
         "legendgroup": "V1",
         "marker": {
          "color": "orange",
          "size": 5
         },
         "mode": "markers",
         "name": "V1",
         "showlegend": true,
         "type": "scatter3d",
         "x": [
          -3.7008890705796964
         ],
         "y": [
          6.431501584577198
         ],
         "z": [
          0.021221827690429684
         ]
        },
        {
         "legendgroup": "V1",
         "marker": {
          "color": "orange",
          "size": 5
         },
         "mode": "markers",
         "name": "V1",
         "showlegend": true,
         "type": "scatter3d",
         "x": [
          -3.679949378556645
         ],
         "y": [
          6.4001582251787115
         ],
         "z": [
          5.19355714605841
         ]
        },
        {
         "legendgroup": "V1",
         "marker": {
          "color": "orange",
          "size": 5
         },
         "mode": "markers",
         "name": "V1",
         "showlegend": true,
         "type": "scatter3d",
         "x": [
          -2.423926735931024
         ],
         "y": [
          8.40505043930455
         ],
         "z": [
          -4.3151744640857705
         ]
        },
        {
         "legendgroup": "V1",
         "marker": {
          "color": "orange",
          "size": 5
         },
         "mode": "markers",
         "name": "V1",
         "showlegend": true,
         "type": "scatter3d",
         "x": [
          -2.4672240475767544
         ],
         "y": [
          8.458016246433896
         ],
         "z": [
          -1.719021012199602
         ]
        },
        {
         "legendgroup": "V1",
         "marker": {
          "color": "orange",
          "size": 5
         },
         "mode": "markers",
         "name": "V1",
         "showlegend": true,
         "type": "scatter3d",
         "x": [
          2.460540481845263
         ],
         "y": [
          0.007269316867527265
         ],
         "z": [
          4.323839754392695
         ]
        },
        {
         "legendgroup": "V1",
         "marker": {
          "color": "orange",
          "size": 5
         },
         "mode": "markers",
         "name": "V1",
         "showlegend": true,
         "type": "scatter3d",
         "x": [
          -2.466680491493829
         ],
         "y": [
          8.413685592986408
         ],
         "z": [
          3.4766528342421963
         ]
        },
        {
         "legendgroup": "V1",
         "marker": {
          "color": "orange",
          "size": 5
         },
         "mode": "markers",
         "name": "V1",
         "showlegend": true,
         "type": "scatter3d",
         "x": [
          1.1442199042315284
         ],
         "y": [
          1.9371453954729454
         ],
         "z": [
          8.628899968584534
         ]
        },
        {
         "legendgroup": "V1",
         "marker": {
          "color": "orange",
          "size": 5
         },
         "mode": "markers",
         "name": "V1",
         "showlegend": true,
         "type": "scatter3d",
         "x": [
          1.2473102721014477
         ],
         "y": [
          2.076597822185375
         ],
         "z": [
          0.9115576065288563
         ]
        },
        {
         "legendgroup": "V1",
         "marker": {
          "color": "orange",
          "size": 5
         },
         "mode": "markers",
         "name": "V1",
         "showlegend": true,
         "type": "scatter3d",
         "x": [
          1.2561571207620117
         ],
         "y": [
          2.100151223368059
         ],
         "z": [
          3.4986995953139868
         ]
        },
        {
         "legendgroup": "V1",
         "marker": {
          "color": "orange",
          "size": 5
         },
         "mode": "markers",
         "name": "V1",
         "showlegend": true,
         "type": "scatter3d",
         "x": [
          1.2938720719767731
         ],
         "y": [
          2.1200100224849483
         ],
         "z": [
          6.063718613605467
         ]
        },
        {
         "legendgroup": "V1",
         "marker": {
          "color": "orange",
          "size": 5
         },
         "mode": "markers",
         "name": "V1",
         "showlegend": true,
         "type": "scatter3d",
         "x": [
          -0.05238960620881716
         ],
         "y": [
          4.373352955335116
         ],
         "z": [
          -2.6573728114307675
         ]
        },
        {
         "legendgroup": "V1",
         "marker": {
          "color": "orange",
          "size": 5
         },
         "mode": "markers",
         "name": "V1",
         "showlegend": true,
         "type": "scatter3d",
         "x": [
          -0.048613016938166886
         ],
         "y": [
          4.289159764887677
         ],
         "z": [
          0.02150857538865414
         ]
        },
        {
         "legendgroup": "V1",
         "marker": {
          "color": "orange",
          "size": 5
         },
         "mode": "markers",
         "name": "V1",
         "showlegend": true,
         "type": "scatter3d",
         "x": [
          0.0034101359111122775
         ],
         "y": [
          4.271626861369787
         ],
         "z": [
          2.6111076971492784
         ]
        },
        {
         "legendgroup": "V1",
         "marker": {
          "color": "orange",
          "size": 5
         },
         "mode": "markers",
         "name": "V1",
         "showlegend": true,
         "type": "scatter3d",
         "x": [
          -0.033452901722800465
         ],
         "y": [
          4.2863266635458315
         ],
         "z": [
          5.213464469017884
         ]
        },
        {
         "legendgroup": "V1",
         "marker": {
          "color": "orange",
          "size": 5
         },
         "mode": "markers",
         "name": "V1",
         "showlegend": true,
         "type": "scatter3d",
         "x": [
          -1.2660876039145097
         ],
         "y": [
          6.375167811010832
         ],
         "z": [
          -0.8863117777059548
         ]
        },
        {
         "legendgroup": "V1",
         "marker": {
          "color": "orange",
          "size": 5
         },
         "mode": "markers",
         "name": "V1",
         "showlegend": true,
         "type": "scatter3d",
         "x": [
          -1.25059534137801
         ],
         "y": [
          6.449561673615592
         ],
         "z": [
          1.8120499665407208
         ]
        },
        {
         "legendgroup": "V1",
         "marker": {
          "color": "orange",
          "size": 5
         },
         "mode": "markers",
         "name": "V1",
         "showlegend": true,
         "type": "scatter3d",
         "x": [
          -0.08044345736980141
         ],
         "y": [
          8.430154711872792
         ],
         "z": [
          5.154621295673608
         ]
        },
        {
         "legendgroup": "V1",
         "marker": {
          "color": "orange",
          "size": 5
         },
         "mode": "markers",
         "name": "V1",
         "showlegend": true,
         "type": "scatter3d",
         "x": [
          -0.038067691958871386
         ],
         "y": [
          8.43833080869348
         ],
         "z": [
          -2.6348036959780363
         ]
        },
        {
         "legendgroup": "V1",
         "marker": {
          "color": "orange",
          "size": 5
         },
         "mode": "markers",
         "name": "V1",
         "showlegend": true,
         "type": "scatter3d",
         "x": [
          4.893844976875548
         ],
         "y": [
          -0.00841225890278013
         ],
         "z": [
          3.524577976303694
         ]
        },
        {
         "legendgroup": "V1",
         "marker": {
          "color": "orange",
          "size": 5
         },
         "mode": "markers",
         "name": "V1",
         "showlegend": true,
         "type": "scatter3d",
         "x": [
          3.6263562310240687
         ],
         "y": [
          2.0705979783641575
         ],
         "z": [
          7.858845451874327
         ]
        },
        {
         "legendgroup": "V1",
         "marker": {
          "color": "orange",
          "size": 5
         },
         "mode": "markers",
         "name": "V1",
         "showlegend": true,
         "type": "scatter3d",
         "x": [
          3.760682138897436
         ],
         "y": [
          1.974599500630284
         ],
         "z": [
          0.043087908672958974
         ]
        },
        {
         "legendgroup": "V1",
         "marker": {
          "color": "orange",
          "size": 5
         },
         "mode": "markers",
         "name": "V1",
         "showlegend": true,
         "type": "scatter3d",
         "x": [
          3.685457597195139
         ],
         "y": [
          2.10219719873697
         ],
         "z": [
          2.615387132369681
         ]
        },
        {
         "legendgroup": "V1",
         "marker": {
          "color": "orange",
          "size": 5
         },
         "mode": "markers",
         "name": "V1",
         "showlegend": true,
         "type": "scatter3d",
         "x": [
          3.698501973082826
         ],
         "y": [
          2.060518155283462
         ],
         "z": [
          5.237813013194626
         ]
        },
        {
         "legendgroup": "V1",
         "marker": {
          "color": "orange",
          "size": 5
         },
         "mode": "markers",
         "name": "V1",
         "showlegend": true,
         "type": "scatter3d",
         "x": [
          2.425132673032855
         ],
         "y": [
          4.241132818777139
         ],
         "z": [
          6.819854328877482
         ]
        },
        {
         "legendgroup": "V1",
         "marker": {
          "color": "orange",
          "size": 5
         },
         "mode": "markers",
         "name": "V1",
         "showlegend": true,
         "type": "scatter3d",
         "x": [
          2.4710150788677727
         ],
         "y": [
          4.263983491493352
         ],
         "z": [
          1.8736699292333592
         ]
        },
        {
         "legendgroup": "V1",
         "marker": {
          "color": "orange",
          "size": 5
         },
         "mode": "markers",
         "name": "V1",
         "showlegend": true,
         "type": "scatter3d",
         "x": [
          2.451401402038911
         ],
         "y": [
          4.23822695231489
         ],
         "z": [
          4.3571020139119705
         ]
        },
        {
         "legendgroup": "V1",
         "marker": {
          "color": "orange",
          "size": 5
         },
         "mode": "markers",
         "name": "V1",
         "showlegend": true,
         "type": "scatter3d",
         "x": [
          1.1919879912657305
         ],
         "y": [
          6.377794560238157
         ],
         "z": [
          -4.3706843328424485
         ]
        },
        {
         "legendgroup": "V1",
         "marker": {
          "color": "orange",
          "size": 5
         },
         "mode": "markers",
         "name": "V1",
         "showlegend": true,
         "type": "scatter3d",
         "x": [
          1.1651873763015659
         ],
         "y": [
          6.4540458241374745
         ],
         "z": [
          -1.7789741792778677
         ]
        },
        {
         "legendgroup": "V1",
         "marker": {
          "color": "orange",
          "size": 5
         },
         "mode": "markers",
         "name": "V1",
         "showlegend": true,
         "type": "scatter3d",
         "x": [
          1.1951785911547446
         ],
         "y": [
          6.37406599166821
         ],
         "z": [
          0.889307898598759
         ]
        },
        {
         "legendgroup": "V1",
         "marker": {
          "color": "orange",
          "size": 5
         },
         "mode": "markers",
         "name": "V1",
         "showlegend": true,
         "type": "scatter3d",
         "x": [
          1.1219364685999476
         ],
         "y": [
          6.359312114437975
         ],
         "z": [
          3.4723960046585933
         ]
        },
        {
         "legendgroup": "V1",
         "marker": {
          "color": "orange",
          "size": 5
         },
         "mode": "markers",
         "name": "V1",
         "showlegend": true,
         "type": "scatter3d",
         "x": [
          2.462646706044443
         ],
         "y": [
          8.469618385131245
         ],
         "z": [
          -3.4504010237406
         ]
        },
        {
         "legendgroup": "V1",
         "marker": {
          "color": "orange",
          "size": 5
         },
         "mode": "markers",
         "name": "V1",
         "showlegend": true,
         "type": "scatter3d",
         "x": [
          2.3610535944310183
         ],
         "y": [
          8.464638909171
         ],
         "z": [
          -0.920611535497514
         ]
        },
        {
         "legendgroup": "V1",
         "marker": {
          "color": "orange",
          "size": 5
         },
         "mode": "markers",
         "name": "V1",
         "showlegend": true,
         "type": "scatter3d",
         "x": [
          2.4405544700564104
         ],
         "y": [
          8.474118904397288
         ],
         "z": [
          1.692768294046573
         ]
        },
        {
         "legendgroup": "V1",
         "marker": {
          "color": "orange",
          "size": 5
         },
         "mode": "markers",
         "name": "V1",
         "showlegend": true,
         "type": "scatter3d",
         "x": [
          6.147683883432375
         ],
         "y": [
          2.1024904783414535
         ],
         "z": [
          -0.8570930942698743
         ]
        },
        {
         "legendgroup": "V1",
         "marker": {
          "color": "orange",
          "size": 5
         },
         "mode": "markers",
         "name": "V1",
         "showlegend": true,
         "type": "scatter3d",
         "x": [
          6.161187792045048
         ],
         "y": [
          2.1349941124248373
         ],
         "z": [
          1.753111764623761
         ]
        },
        {
         "legendgroup": "V1",
         "marker": {
          "color": "orange",
          "size": 5
         },
         "mode": "markers",
         "name": "V1",
         "showlegend": true,
         "type": "scatter3d",
         "x": [
          6.079286937726145
         ],
         "y": [
          2.1306822504368172
         ],
         "z": [
          4.2715025018750445
         ]
        },
        {
         "legendgroup": "V1",
         "marker": {
          "color": "orange",
          "size": 5
         },
         "mode": "markers",
         "name": "V1",
         "showlegend": true,
         "type": "scatter3d",
         "x": [
          4.937336896274889
         ],
         "y": [
          4.304214473141048
         ],
         "z": [
          -4.408291930883687
         ]
        },
        {
         "legendgroup": "V1",
         "marker": {
          "color": "orange",
          "size": 5
         },
         "mode": "markers",
         "name": "V1",
         "showlegend": true,
         "type": "scatter3d",
         "x": [
          5.027634668164815
         ],
         "y": [
          4.3172351957425334
         ],
         "z": [
          -1.7132657371277134
         ]
        },
        {
         "legendgroup": "V1",
         "marker": {
          "color": "orange",
          "size": 5
         },
         "mode": "markers",
         "name": "V1",
         "showlegend": true,
         "type": "scatter3d",
         "x": [
          4.98088462623336
         ],
         "y": [
          4.200689607655577
         ],
         "z": [
          0.9285261627106531
         ]
        },
        {
         "legendgroup": "V1",
         "marker": {
          "color": "orange",
          "size": 5
         },
         "mode": "markers",
         "name": "V1",
         "showlegend": true,
         "type": "scatter3d",
         "x": [
          4.940507675055229
         ],
         "y": [
          4.253646381168566
         ],
         "z": [
          3.472164281128263
         ]
        },
        {
         "legendgroup": "V1",
         "marker": {
          "color": "orange",
          "size": 5
         },
         "mode": "markers",
         "name": "V1",
         "showlegend": true,
         "type": "scatter3d",
         "x": [
          3.7426731345812074
         ],
         "y": [
          6.3076669881453595
         ],
         "z": [
          5.237939552775358
         ]
        },
        {
         "legendgroup": "V1",
         "marker": {
          "color": "orange",
          "size": 5
         },
         "mode": "markers",
         "name": "V1",
         "showlegend": true,
         "type": "scatter3d",
         "x": [
          3.703494307586802
         ],
         "y": [
          6.3902242758171095
         ],
         "z": [
          -2.6999713520844737
         ]
        },
        {
         "legendgroup": "V1",
         "marker": {
          "color": "orange",
          "size": 5
         },
         "mode": "markers",
         "name": "V1",
         "showlegend": true,
         "type": "scatter3d",
         "x": [
          3.682914337967057
         ],
         "y": [
          6.366742482112152
         ],
         "z": [
          2.69313121950094
         ]
        },
        {
         "legendgroup": "Cr1",
         "marker": {
          "color": "purple",
          "size": 5
         },
         "mode": "markers",
         "name": "Cr1",
         "showlegend": true,
         "type": "scatter3d",
         "x": [
          0.07821572913356122
         ],
         "y": [
          0.007434177189720139
         ],
         "z": [
          7.893130248077385
         ]
        },
        {
         "legendgroup": "Cr1",
         "marker": {
          "color": "purple",
          "size": 5
         },
         "mode": "markers",
         "name": "Cr1",
         "showlegend": true,
         "type": "scatter3d",
         "x": [
          -3.6294841146092396
         ],
         "y": [
          6.378595786637654
         ],
         "z": [
          2.602758403524658
         ]
        },
        {
         "legendgroup": "Cr1",
         "marker": {
          "color": "purple",
          "size": 5
         },
         "mode": "markers",
         "name": "Cr1",
         "showlegend": true,
         "type": "scatter3d",
         "x": [
          -1.2699849551946074
         ],
         "y": [
          6.3666099931522595
         ],
         "z": [
          6.932549277812446
         ]
        },
        {
         "legendgroup": "Cr1",
         "marker": {
          "color": "purple",
          "size": 5
         },
         "mode": "markers",
         "name": "Cr1",
         "showlegend": true,
         "type": "scatter3d",
         "x": [
          -1.243723468818188
         ],
         "y": [
          6.359407739120602
         ],
         "z": [
          4.392386240175659
         ]
        },
        {
         "legendgroup": "Cr1",
         "marker": {
          "color": "purple",
          "size": 5
         },
         "mode": "markers",
         "name": "Cr1",
         "showlegend": true,
         "type": "scatter3d",
         "x": [
          -0.05536174754363721
         ],
         "y": [
          8.420670788922443
         ],
         "z": [
          2.591872065808253
         ]
        },
        {
         "legendgroup": "W1",
         "marker": {
          "color": "brown",
          "size": 5
         },
         "mode": "markers",
         "name": "W1",
         "showlegend": true,
         "type": "scatter3d",
         "x": [
          -1.2273198727272554
         ],
         "y": [
          2.1324027504677776
         ],
         "z": [
          4.340966803608512
         ]
        },
        {
         "legendgroup": "Highlighted V1",
         "marker": {
          "color": "red",
          "size": 10,
          "symbol": "diamond"
         },
         "mode": "markers",
         "name": "Highlighted V1",
         "showlegend": true,
         "type": "scatter3d",
         "x": [
          -0.048613016938166886
         ],
         "y": [
          4.289159764887677
         ],
         "z": [
          0.02150857538865414
         ]
        },
        {
         "legendgroup": "Highlighted V1",
         "marker": {
          "color": "red",
          "size": 10,
          "symbol": "diamond"
         },
         "mode": "markers",
         "name": "Highlighted V1",
         "showlegend": true,
         "type": "scatter3d",
         "x": [
          6.161187792045048
         ],
         "y": [
          2.1349941124248373
         ],
         "z": [
          1.753111764623761
         ]
        }
       ],
       "layout": {
        "scene": {
         "xaxis": {
          "title": {
           "text": "X"
          }
         },
         "yaxis": {
          "title": {
           "text": "Y"
          }
         },
         "zaxis": {
          "title": {
           "text": "Z"
          }
         }
        },
        "template": {
         "data": {
          "bar": [
           {
            "error_x": {
             "color": "#2a3f5f"
            },
            "error_y": {
             "color": "#2a3f5f"
            },
            "marker": {
             "line": {
              "color": "#E5ECF6",
              "width": 0.5
             },
             "pattern": {
              "fillmode": "overlay",
              "size": 10,
              "solidity": 0.2
             }
            },
            "type": "bar"
           }
          ],
          "barpolar": [
           {
            "marker": {
             "line": {
              "color": "#E5ECF6",
              "width": 0.5
             },
             "pattern": {
              "fillmode": "overlay",
              "size": 10,
              "solidity": 0.2
             }
            },
            "type": "barpolar"
           }
          ],
          "carpet": [
           {
            "aaxis": {
             "endlinecolor": "#2a3f5f",
             "gridcolor": "white",
             "linecolor": "white",
             "minorgridcolor": "white",
             "startlinecolor": "#2a3f5f"
            },
            "baxis": {
             "endlinecolor": "#2a3f5f",
             "gridcolor": "white",
             "linecolor": "white",
             "minorgridcolor": "white",
             "startlinecolor": "#2a3f5f"
            },
            "type": "carpet"
           }
          ],
          "choropleth": [
           {
            "colorbar": {
             "outlinewidth": 0,
             "ticks": ""
            },
            "type": "choropleth"
           }
          ],
          "contour": [
           {
            "colorbar": {
             "outlinewidth": 0,
             "ticks": ""
            },
            "colorscale": [
             [
              0,
              "#0d0887"
             ],
             [
              0.1111111111111111,
              "#46039f"
             ],
             [
              0.2222222222222222,
              "#7201a8"
             ],
             [
              0.3333333333333333,
              "#9c179e"
             ],
             [
              0.4444444444444444,
              "#bd3786"
             ],
             [
              0.5555555555555556,
              "#d8576b"
             ],
             [
              0.6666666666666666,
              "#ed7953"
             ],
             [
              0.7777777777777778,
              "#fb9f3a"
             ],
             [
              0.8888888888888888,
              "#fdca26"
             ],
             [
              1,
              "#f0f921"
             ]
            ],
            "type": "contour"
           }
          ],
          "contourcarpet": [
           {
            "colorbar": {
             "outlinewidth": 0,
             "ticks": ""
            },
            "type": "contourcarpet"
           }
          ],
          "heatmap": [
           {
            "colorbar": {
             "outlinewidth": 0,
             "ticks": ""
            },
            "colorscale": [
             [
              0,
              "#0d0887"
             ],
             [
              0.1111111111111111,
              "#46039f"
             ],
             [
              0.2222222222222222,
              "#7201a8"
             ],
             [
              0.3333333333333333,
              "#9c179e"
             ],
             [
              0.4444444444444444,
              "#bd3786"
             ],
             [
              0.5555555555555556,
              "#d8576b"
             ],
             [
              0.6666666666666666,
              "#ed7953"
             ],
             [
              0.7777777777777778,
              "#fb9f3a"
             ],
             [
              0.8888888888888888,
              "#fdca26"
             ],
             [
              1,
              "#f0f921"
             ]
            ],
            "type": "heatmap"
           }
          ],
          "heatmapgl": [
           {
            "colorbar": {
             "outlinewidth": 0,
             "ticks": ""
            },
            "colorscale": [
             [
              0,
              "#0d0887"
             ],
             [
              0.1111111111111111,
              "#46039f"
             ],
             [
              0.2222222222222222,
              "#7201a8"
             ],
             [
              0.3333333333333333,
              "#9c179e"
             ],
             [
              0.4444444444444444,
              "#bd3786"
             ],
             [
              0.5555555555555556,
              "#d8576b"
             ],
             [
              0.6666666666666666,
              "#ed7953"
             ],
             [
              0.7777777777777778,
              "#fb9f3a"
             ],
             [
              0.8888888888888888,
              "#fdca26"
             ],
             [
              1,
              "#f0f921"
             ]
            ],
            "type": "heatmapgl"
           }
          ],
          "histogram": [
           {
            "marker": {
             "pattern": {
              "fillmode": "overlay",
              "size": 10,
              "solidity": 0.2
             }
            },
            "type": "histogram"
           }
          ],
          "histogram2d": [
           {
            "colorbar": {
             "outlinewidth": 0,
             "ticks": ""
            },
            "colorscale": [
             [
              0,
              "#0d0887"
             ],
             [
              0.1111111111111111,
              "#46039f"
             ],
             [
              0.2222222222222222,
              "#7201a8"
             ],
             [
              0.3333333333333333,
              "#9c179e"
             ],
             [
              0.4444444444444444,
              "#bd3786"
             ],
             [
              0.5555555555555556,
              "#d8576b"
             ],
             [
              0.6666666666666666,
              "#ed7953"
             ],
             [
              0.7777777777777778,
              "#fb9f3a"
             ],
             [
              0.8888888888888888,
              "#fdca26"
             ],
             [
              1,
              "#f0f921"
             ]
            ],
            "type": "histogram2d"
           }
          ],
          "histogram2dcontour": [
           {
            "colorbar": {
             "outlinewidth": 0,
             "ticks": ""
            },
            "colorscale": [
             [
              0,
              "#0d0887"
             ],
             [
              0.1111111111111111,
              "#46039f"
             ],
             [
              0.2222222222222222,
              "#7201a8"
             ],
             [
              0.3333333333333333,
              "#9c179e"
             ],
             [
              0.4444444444444444,
              "#bd3786"
             ],
             [
              0.5555555555555556,
              "#d8576b"
             ],
             [
              0.6666666666666666,
              "#ed7953"
             ],
             [
              0.7777777777777778,
              "#fb9f3a"
             ],
             [
              0.8888888888888888,
              "#fdca26"
             ],
             [
              1,
              "#f0f921"
             ]
            ],
            "type": "histogram2dcontour"
           }
          ],
          "mesh3d": [
           {
            "colorbar": {
             "outlinewidth": 0,
             "ticks": ""
            },
            "type": "mesh3d"
           }
          ],
          "parcoords": [
           {
            "line": {
             "colorbar": {
              "outlinewidth": 0,
              "ticks": ""
             }
            },
            "type": "parcoords"
           }
          ],
          "pie": [
           {
            "automargin": true,
            "type": "pie"
           }
          ],
          "scatter": [
           {
            "fillpattern": {
             "fillmode": "overlay",
             "size": 10,
             "solidity": 0.2
            },
            "type": "scatter"
           }
          ],
          "scatter3d": [
           {
            "line": {
             "colorbar": {
              "outlinewidth": 0,
              "ticks": ""
             }
            },
            "marker": {
             "colorbar": {
              "outlinewidth": 0,
              "ticks": ""
             }
            },
            "type": "scatter3d"
           }
          ],
          "scattercarpet": [
           {
            "marker": {
             "colorbar": {
              "outlinewidth": 0,
              "ticks": ""
             }
            },
            "type": "scattercarpet"
           }
          ],
          "scattergeo": [
           {
            "marker": {
             "colorbar": {
              "outlinewidth": 0,
              "ticks": ""
             }
            },
            "type": "scattergeo"
           }
          ],
          "scattergl": [
           {
            "marker": {
             "colorbar": {
              "outlinewidth": 0,
              "ticks": ""
             }
            },
            "type": "scattergl"
           }
          ],
          "scattermapbox": [
           {
            "marker": {
             "colorbar": {
              "outlinewidth": 0,
              "ticks": ""
             }
            },
            "type": "scattermapbox"
           }
          ],
          "scatterpolar": [
           {
            "marker": {
             "colorbar": {
              "outlinewidth": 0,
              "ticks": ""
             }
            },
            "type": "scatterpolar"
           }
          ],
          "scatterpolargl": [
           {
            "marker": {
             "colorbar": {
              "outlinewidth": 0,
              "ticks": ""
             }
            },
            "type": "scatterpolargl"
           }
          ],
          "scatterternary": [
           {
            "marker": {
             "colorbar": {
              "outlinewidth": 0,
              "ticks": ""
             }
            },
            "type": "scatterternary"
           }
          ],
          "surface": [
           {
            "colorbar": {
             "outlinewidth": 0,
             "ticks": ""
            },
            "colorscale": [
             [
              0,
              "#0d0887"
             ],
             [
              0.1111111111111111,
              "#46039f"
             ],
             [
              0.2222222222222222,
              "#7201a8"
             ],
             [
              0.3333333333333333,
              "#9c179e"
             ],
             [
              0.4444444444444444,
              "#bd3786"
             ],
             [
              0.5555555555555556,
              "#d8576b"
             ],
             [
              0.6666666666666666,
              "#ed7953"
             ],
             [
              0.7777777777777778,
              "#fb9f3a"
             ],
             [
              0.8888888888888888,
              "#fdca26"
             ],
             [
              1,
              "#f0f921"
             ]
            ],
            "type": "surface"
           }
          ],
          "table": [
           {
            "cells": {
             "fill": {
              "color": "#EBF0F8"
             },
             "line": {
              "color": "white"
             }
            },
            "header": {
             "fill": {
              "color": "#C8D4E3"
             },
             "line": {
              "color": "white"
             }
            },
            "type": "table"
           }
          ]
         },
         "layout": {
          "annotationdefaults": {
           "arrowcolor": "#2a3f5f",
           "arrowhead": 0,
           "arrowwidth": 1
          },
          "autotypenumbers": "strict",
          "coloraxis": {
           "colorbar": {
            "outlinewidth": 0,
            "ticks": ""
           }
          },
          "colorscale": {
           "diverging": [
            [
             0,
             "#8e0152"
            ],
            [
             0.1,
             "#c51b7d"
            ],
            [
             0.2,
             "#de77ae"
            ],
            [
             0.3,
             "#f1b6da"
            ],
            [
             0.4,
             "#fde0ef"
            ],
            [
             0.5,
             "#f7f7f7"
            ],
            [
             0.6,
             "#e6f5d0"
            ],
            [
             0.7,
             "#b8e186"
            ],
            [
             0.8,
             "#7fbc41"
            ],
            [
             0.9,
             "#4d9221"
            ],
            [
             1,
             "#276419"
            ]
           ],
           "sequential": [
            [
             0,
             "#0d0887"
            ],
            [
             0.1111111111111111,
             "#46039f"
            ],
            [
             0.2222222222222222,
             "#7201a8"
            ],
            [
             0.3333333333333333,
             "#9c179e"
            ],
            [
             0.4444444444444444,
             "#bd3786"
            ],
            [
             0.5555555555555556,
             "#d8576b"
            ],
            [
             0.6666666666666666,
             "#ed7953"
            ],
            [
             0.7777777777777778,
             "#fb9f3a"
            ],
            [
             0.8888888888888888,
             "#fdca26"
            ],
            [
             1,
             "#f0f921"
            ]
           ],
           "sequentialminus": [
            [
             0,
             "#0d0887"
            ],
            [
             0.1111111111111111,
             "#46039f"
            ],
            [
             0.2222222222222222,
             "#7201a8"
            ],
            [
             0.3333333333333333,
             "#9c179e"
            ],
            [
             0.4444444444444444,
             "#bd3786"
            ],
            [
             0.5555555555555556,
             "#d8576b"
            ],
            [
             0.6666666666666666,
             "#ed7953"
            ],
            [
             0.7777777777777778,
             "#fb9f3a"
            ],
            [
             0.8888888888888888,
             "#fdca26"
            ],
            [
             1,
             "#f0f921"
            ]
           ]
          },
          "colorway": [
           "#636efa",
           "#EF553B",
           "#00cc96",
           "#ab63fa",
           "#FFA15A",
           "#19d3f3",
           "#FF6692",
           "#B6E880",
           "#FF97FF",
           "#FECB52"
          ],
          "font": {
           "color": "#2a3f5f"
          },
          "geo": {
           "bgcolor": "white",
           "lakecolor": "white",
           "landcolor": "#E5ECF6",
           "showlakes": true,
           "showland": true,
           "subunitcolor": "white"
          },
          "hoverlabel": {
           "align": "left"
          },
          "hovermode": "closest",
          "mapbox": {
           "style": "light"
          },
          "paper_bgcolor": "white",
          "plot_bgcolor": "#E5ECF6",
          "polar": {
           "angularaxis": {
            "gridcolor": "white",
            "linecolor": "white",
            "ticks": ""
           },
           "bgcolor": "#E5ECF6",
           "radialaxis": {
            "gridcolor": "white",
            "linecolor": "white",
            "ticks": ""
           }
          },
          "scene": {
           "xaxis": {
            "backgroundcolor": "#E5ECF6",
            "gridcolor": "white",
            "gridwidth": 2,
            "linecolor": "white",
            "showbackground": true,
            "ticks": "",
            "zerolinecolor": "white"
           },
           "yaxis": {
            "backgroundcolor": "#E5ECF6",
            "gridcolor": "white",
            "gridwidth": 2,
            "linecolor": "white",
            "showbackground": true,
            "ticks": "",
            "zerolinecolor": "white"
           },
           "zaxis": {
            "backgroundcolor": "#E5ECF6",
            "gridcolor": "white",
            "gridwidth": 2,
            "linecolor": "white",
            "showbackground": true,
            "ticks": "",
            "zerolinecolor": "white"
           }
          },
          "shapedefaults": {
           "line": {
            "color": "#2a3f5f"
           }
          },
          "ternary": {
           "aaxis": {
            "gridcolor": "white",
            "linecolor": "white",
            "ticks": ""
           },
           "baxis": {
            "gridcolor": "white",
            "linecolor": "white",
            "ticks": ""
           },
           "bgcolor": "#E5ECF6",
           "caxis": {
            "gridcolor": "white",
            "linecolor": "white",
            "ticks": ""
           }
          },
          "title": {
           "x": 0.05
          },
          "xaxis": {
           "automargin": true,
           "gridcolor": "white",
           "linecolor": "white",
           "ticks": "",
           "title": {
            "standoff": 15
           },
           "zerolinecolor": "white",
           "zerolinewidth": 2
          },
          "yaxis": {
           "automargin": true,
           "gridcolor": "white",
           "linecolor": "white",
           "ticks": "",
           "title": {
            "standoff": 15
           },
           "zerolinecolor": "white",
           "zerolinewidth": 2
          }
         }
        },
        "title": {
         "text": "Structure with Highlighted Sites"
        }
       }
      }
     },
     "metadata": {},
     "output_type": "display_data"
    }
   ],
   "source": [
    "import numpy as np\n",
    "from pymatgen.core.structure import Structure\n",
    "from pymatgen.core.sites import Site\n",
    "import plotly.graph_objects as go\n",
    "from collections import defaultdict\n",
    "import itertools\n",
    "from pymatgen.analysis.local_env import VoronoiNN\n",
    "\n",
    "# Define a list of colors for different elements\n",
    "color_cycle = itertools.cycle([\n",
    "    'blue', 'green', 'orange', 'purple', 'brown', 'pink', 'gray', 'cyan', 'magenta'\n",
    "])\n",
    "\n",
    "def custom_distance(site1: Site, site2: Site) -> float:\n",
    "    # Geometric distance\n",
    "    geometric_dist = site1.distance(site2)\n",
    "    \n",
    "    # Chemical composition distance (difference in electronegativity)\n",
    "    element1 = list(site1.species.elements)[0]\n",
    "    element2 = list(site2.species.elements)[0]\n",
    "    composition_dist = (element1.X - element2.X) ** 2\n",
    "    \n",
    "    # Debugging print statements\n",
    "    #print(f\"Geometric distance between {element1} and {element2}: {geometric_dist}\")\n",
    "    #print(f\"Electronegativity difference squared: {composition_dist}\")\n",
    "    \n",
    "    # Combined distance\n",
    "    combined_dist = geometric_dist + composition_dist\n",
    "    #print(f\"Combined distance: {combined_dist}\\n\")\n",
    "    \n",
    "    return combined_dist\n",
    "\n",
    "def identify_highest_complexity_sites(structure, top_n=3, initial_concentration_threshold=0.5):\n",
    "    sites = structure.sites\n",
    "    complexity_scores = np.zeros(len(sites))\n",
    "    \n",
    "    for i, site1 in enumerate(sites):\n",
    "        for site2 in sites:\n",
    "            complexity_scores[i] += custom_distance(site1, site2)\n",
    "    \n",
    "    top_indices = complexity_scores.argsort()[::-1]\n",
    "    \n",
    "    element_counts = defaultdict(int)\n",
    "    for site in sites:\n",
    "        element_counts[str(site.species)] += 1\n",
    "    \n",
    "    vnn = VoronoiNN()\n",
    "    selected_sites = []\n",
    "    selected_neighbors = set()\n",
    "    \n",
    "    concentration_threshold = initial_concentration_threshold\n",
    "    while len(selected_sites) < top_n and concentration_threshold <= 1.0:\n",
    "        for index in top_indices:\n",
    "            if len(selected_sites) >= top_n:\n",
    "                break\n",
    "            site = sites[index]\n",
    "            element = str(site.species)\n",
    "\n",
    "            if element_counts[element] > 2 or (element_counts[element] > 1 and element_counts[element] - 1 >= (1 - concentration_threshold) * element_counts[element]):\n",
    "                neighbors = set(n['site_index'] for n in vnn.get_nn_info(structure, index))\n",
    "\n",
    "                if not selected_neighbors.intersection(neighbors):\n",
    "                    selected_sites.append(site)\n",
    "                    selected_neighbors.update(neighbors)\n",
    "                    element_counts[element] -= 1\n",
    "            else:\n",
    "                # Find a nearby site with comparable complexity and an element with more than 2 in the structure\n",
    "                min_dist = float('inf')\n",
    "                best_site = None\n",
    "                best_index = None\n",
    "                for other_index, other_site in enumerate(sites):\n",
    "                    other_element = str(other_site.species)\n",
    "                    if other_site not in selected_sites and element_counts[other_element] > 2:\n",
    "                        dist = site.distance(other_site)\n",
    "                        if dist < min_dist and complexity_scores[other_index] >= complexity_scores[index] * 0.9:\n",
    "                            neighbors = set(n['site_index'] for n in vnn.get_nn_info(structure, other_index))\n",
    "                            if not selected_neighbors.intersection(neighbors):\n",
    "                                min_dist = dist\n",
    "                                best_site = other_site\n",
    "                                best_index = other_index\n",
    "                if best_site:\n",
    "                    selected_sites.append(best_site)\n",
    "                    selected_neighbors.update(neighbors)\n",
    "                    element_counts[str(best_site.species)] -= 1\n",
    "        \n",
    "        # If not enough sites found, relax the concentration threshold\n",
    "        if len(selected_sites) < top_n:\n",
    "            concentration_threshold += 0.1\n",
    "    \n",
    "    return selected_sites[:top_n]\n",
    "\n",
    "def plot_structure_with_highlighted_sites(structure, top_sites):\n",
    "    fig = go.Figure()\n",
    "    \n",
    "    element_colors = defaultdict(lambda: next(color_cycle))\n",
    "    \n",
    "    # Plot all sites by element type\n",
    "    for site in structure:\n",
    "        element = str(site.species)\n",
    "        color = element_colors[element]\n",
    "        fig.add_trace(go.Scatter3d(\n",
    "            x=[site.x],\n",
    "            y=[site.y],\n",
    "            z=[site.z],\n",
    "            mode='markers',\n",
    "            marker=dict(size=5, color=color),\n",
    "            name=element,\n",
    "            legendgroup=element,\n",
    "            showlegend=True\n",
    "        ))\n",
    "\n",
    "    # Highlight top sites\n",
    "    for site in top_sites:\n",
    "        element = str(site.species)\n",
    "        fig.add_trace(go.Scatter3d(\n",
    "            x=[site.x],\n",
    "            y=[site.y],\n",
    "            z=[site.z],\n",
    "            mode='markers',\n",
    "            marker=dict(size=10, color='red', symbol='diamond'),\n",
    "            name=f'Highlighted {element}',\n",
    "            legendgroup=f'Highlighted {element}',\n",
    "            showlegend=True\n",
    "        ))\n",
    "\n",
    "    # Update layout for better visualization\n",
    "    fig.update_layout(scene=dict(\n",
    "        xaxis_title='X',\n",
    "        yaxis_title='Y',\n",
    "        zaxis_title='Z'),\n",
    "        title=\"Structure with Highlighted Sites\"\n",
    "    )\n",
    "\n",
    "    fig.show()\n",
    "\n",
    "# Example usage:\n",
    "# Load your structure\n",
    "#structure = Structure.from_file(\"POSCAR\")\n",
    "\n",
    "# Identify the top sites with highest chemical complexity\n",
    "top_sites = identify_highest_complexity_sites(structure)\n",
    "\n",
    "# Plot the structure and highlight the top sites\n",
    "plot_structure_with_highlighted_sites(structure, top_sites)\n"
   ]
  },
  {
   "cell_type": "code",
   "execution_count": 61,
   "metadata": {},
   "outputs": [
    {
     "data": {
      "application/vnd.plotly.v1+json": {
       "config": {
        "plotlyServerURL": "https://plot.ly"
       },
       "data": [
        {
         "legendgroup": "Zr1",
         "marker": {
          "color": "blue",
          "size": 5
         },
         "mode": "markers",
         "name": "Zr1",
         "showlegend": true,
         "type": "scatter3d",
         "x": [
          2.935539908367452
         ],
         "y": [
          3.0339065864841785
         ],
         "z": [
          9.016475529269893
         ]
        },
        {
         "legendgroup": "Ta1",
         "marker": {
          "color": "green",
          "size": 5
         },
         "mode": "markers",
         "name": "Ta1",
         "showlegend": true,
         "type": "scatter3d",
         "x": [
          6.037510269155591
         ],
         "y": [
          -5.981591358276833
         ],
         "z": [
          5.98944340541853
         ]
        },
        {
         "legendgroup": "Ti1",
         "marker": {
          "color": "orange",
          "size": 5
         },
         "mode": "markers",
         "name": "Ti1",
         "showlegend": true,
         "type": "scatter3d",
         "x": [
          4.491703154342272
         ],
         "y": [
          10.542946095625187
         ],
         "z": [
          -1.4973270978324267
         ]
        },
        {
         "legendgroup": "Ti1",
         "marker": {
          "color": "orange",
          "size": 5
         },
         "mode": "markers",
         "name": "Ti1",
         "showlegend": true,
         "type": "scatter3d",
         "x": [
          0.009932843196155616
         ],
         "y": [
          9.023713328657669
         ],
         "z": [
          6.00128974490947
         ]
        },
        {
         "legendgroup": "Ti1",
         "marker": {
          "color": "orange",
          "size": 5
         },
         "mode": "markers",
         "name": "Ti1",
         "showlegend": true,
         "type": "scatter3d",
         "x": [
          9.012453199806988
         ],
         "y": [
          -3.023294755328025
         ],
         "z": [
          3.0734197901516564
         ]
        },
        {
         "legendgroup": "V1",
         "marker": {
          "color": "purple",
          "size": 5
         },
         "mode": "markers",
         "name": "V1",
         "showlegend": true,
         "type": "scatter3d",
         "x": [
          -5.995475520030445
         ],
         "y": [
          6.026669300917146
         ],
         "z": [
          6.019444831705289
         ]
        },
        {
         "legendgroup": "V1",
         "marker": {
          "color": "purple",
          "size": 5
         },
         "mode": "markers",
         "name": "V1",
         "showlegend": true,
         "type": "scatter3d",
         "x": [
          10.496343967536676
         ],
         "y": [
          4.521259782759586
         ],
         "z": [
          4.54739528161071
         ]
        },
        {
         "legendgroup": "V1",
         "marker": {
          "color": "purple",
          "size": 5
         },
         "mode": "markers",
         "name": "V1",
         "showlegend": true,
         "type": "scatter3d",
         "x": [
          -4.50910299899971
         ],
         "y": [
          4.5461296913777485
         ],
         "z": [
          7.431335773639004
         ]
        },
        {
         "legendgroup": "V1",
         "marker": {
          "color": "purple",
          "size": 5
         },
         "mode": "markers",
         "name": "V1",
         "showlegend": true,
         "type": "scatter3d",
         "x": [
          -4.512723998373536
         ],
         "y": [
          7.547965719085857
         ],
         "z": [
          4.5179196805930175
         ]
        },
        {
         "legendgroup": "V1",
         "marker": {
          "color": "purple",
          "size": 5
         },
         "mode": "markers",
         "name": "V1",
         "showlegend": true,
         "type": "scatter3d",
         "x": [
          4.5068556602739624
         ],
         "y": [
          -4.503456981975983
         ],
         "z": [
          10.524836981818368
         ]
        },
        {
         "legendgroup": "V1",
         "marker": {
          "color": "purple",
          "size": 5
         },
         "mode": "markers",
         "name": "V1",
         "showlegend": true,
         "type": "scatter3d",
         "x": [
          4.5216370855914665
         ],
         "y": [
          10.521795770005527
         ],
         "z": [
          1.5246577010584277
         ]
        },
        {
         "legendgroup": "V1",
         "marker": {
          "color": "purple",
          "size": 5
         },
         "mode": "markers",
         "name": "V1",
         "showlegend": true,
         "type": "scatter3d",
         "x": [
          4.485115242927387
         ],
         "y": [
          -1.5178200428926916
         ],
         "z": [
          10.47451003728828
         ]
        },
        {
         "legendgroup": "V1",
         "marker": {
          "color": "purple",
          "size": 5
         },
         "mode": "markers",
         "name": "V1",
         "showlegend": true,
         "type": "scatter3d",
         "x": [
          -2.9504325006656535
         ],
         "y": [
          6.08224065736146
         ],
         "z": [
          6.003853323591471
         ]
        },
        {
         "legendgroup": "V1",
         "marker": {
          "color": "purple",
          "size": 5
         },
         "mode": "markers",
         "name": "V1",
         "showlegend": true,
         "type": "scatter3d",
         "x": [
          4.505841656789977
         ],
         "y": [
          1.4155254804137662
         ],
         "z": [
          10.511806214247377
         ]
        },
        {
         "legendgroup": "V1",
         "marker": {
          "color": "purple",
          "size": 5
         },
         "mode": "markers",
         "name": "V1",
         "showlegend": true,
         "type": "scatter3d",
         "x": [
          6.0215171887554115
         ],
         "y": [
          -6.017117811839822
         ],
         "z": [
          9.019568395253803
         ]
        },
        {
         "legendgroup": "V1",
         "marker": {
          "color": "purple",
          "size": 5
         },
         "mode": "markers",
         "name": "V1",
         "showlegend": true,
         "type": "scatter3d",
         "x": [
          6.0072619540077286
         ],
         "y": [
          9.02023510868992
         ],
         "z": [
          -3.0090267238867474
         ]
        },
        {
         "legendgroup": "V1",
         "marker": {
          "color": "purple",
          "size": 5
         },
         "mode": "markers",
         "name": "V1",
         "showlegend": true,
         "type": "scatter3d",
         "x": [
          6.022817427949655
         ],
         "y": [
          9.00671047810144
         ],
         "z": [
          0.008438891172966478
         ]
        },
        {
         "legendgroup": "V1",
         "marker": {
          "color": "purple",
          "size": 5
         },
         "mode": "markers",
         "name": "V1",
         "showlegend": true,
         "type": "scatter3d",
         "x": [
          6.025203735695498
         ],
         "y": [
          9.014961673908426
         ],
         "z": [
          2.9928219743408464
         ]
        },
        {
         "legendgroup": "V1",
         "marker": {
          "color": "purple",
          "size": 5
         },
         "mode": "markers",
         "name": "V1",
         "showlegend": true,
         "type": "scatter3d",
         "x": [
          6.026310901568302
         ],
         "y": [
          -2.94635572034454
         ],
         "z": [
          9.004768291637973
         ]
        },
        {
         "legendgroup": "V1",
         "marker": {
          "color": "purple",
          "size": 5
         },
         "mode": "markers",
         "name": "V1",
         "showlegend": true,
         "type": "scatter3d",
         "x": [
          -1.4937289483201766
         ],
         "y": [
          4.594702087150917
         ],
         "z": [
          4.546229832314069
         ]
        },
        {
         "legendgroup": "V1",
         "marker": {
          "color": "purple",
          "size": 5
         },
         "mode": "markers",
         "name": "V1",
         "showlegend": true,
         "type": "scatter3d",
         "x": [
          -1.519682885978355
         ],
         "y": [
          4.5079267362355395
         ],
         "z": [
          7.519478390146276
         ]
        },
        {
         "legendgroup": "V1",
         "marker": {
          "color": "purple",
          "size": 5
         },
         "mode": "markers",
         "name": "V1",
         "showlegend": true,
         "type": "scatter3d",
         "x": [
          -1.449991903551141
         ],
         "y": [
          7.509832899046741
         ],
         "z": [
          1.5012211618371623
         ]
        },
        {
         "legendgroup": "V1",
         "marker": {
          "color": "purple",
          "size": 5
         },
         "mode": "markers",
         "name": "V1",
         "showlegend": true,
         "type": "scatter3d",
         "x": [
          -1.425205764677181
         ],
         "y": [
          7.484632993470603
         ],
         "z": [
          4.5241878293437745
         ]
        },
        {
         "legendgroup": "V1",
         "marker": {
          "color": "purple",
          "size": 5
         },
         "mode": "markers",
         "name": "V1",
         "showlegend": true,
         "type": "scatter3d",
         "x": [
          6.000092184094461
         ],
         "y": [
          2.9694490907219437
         ],
         "z": [
          9.010461012757307
         ]
        },
        {
         "legendgroup": "V1",
         "marker": {
          "color": "purple",
          "size": 5
         },
         "mode": "markers",
         "name": "V1",
         "showlegend": true,
         "type": "scatter3d",
         "x": [
          0.023434188472279516
         ],
         "y": [
          0.037851010728415346
         ],
         "z": [
          14.973563214364832
         ]
        },
        {
         "legendgroup": "V1",
         "marker": {
          "color": "purple",
          "size": 5
         },
         "mode": "markers",
         "name": "V1",
         "showlegend": true,
         "type": "scatter3d",
         "x": [
          0.004381245510542309
         ],
         "y": [
          -0.003952974500150086
         ],
         "z": [
          3.0275359521381286
         ]
        },
        {
         "legendgroup": "V1",
         "marker": {
          "color": "purple",
          "size": 5
         },
         "mode": "markers",
         "name": "V1",
         "showlegend": true,
         "type": "scatter3d",
         "x": [
          0.030600259670918728
         ],
         "y": [
          0.05888734783999139
         ],
         "z": [
          6.064220136492532
         ]
        },
        {
         "legendgroup": "V1",
         "marker": {
          "color": "purple",
          "size": 5
         },
         "mode": "markers",
         "name": "V1",
         "showlegend": true,
         "type": "scatter3d",
         "x": [
          7.525109671257633
         ],
         "y": [
          7.524757822800902
         ],
         "z": [
          1.5207123562299585
         ]
        },
        {
         "legendgroup": "V1",
         "marker": {
          "color": "purple",
          "size": 5
         },
         "mode": "markers",
         "name": "V1",
         "showlegend": true,
         "type": "scatter3d",
         "x": [
          -0.0016794338896546825
         ],
         "y": [
          2.993570044248688
         ],
         "z": [
          0.008805867276572982
         ]
        },
        {
         "legendgroup": "V1",
         "marker": {
          "color": "purple",
          "size": 5
         },
         "mode": "markers",
         "name": "V1",
         "showlegend": true,
         "type": "scatter3d",
         "x": [
          -0.05549405833563492
         ],
         "y": [
          3.0758376458914087
         ],
         "z": [
          5.9871570546614805
         ]
        },
        {
         "legendgroup": "V1",
         "marker": {
          "color": "purple",
          "size": 5
         },
         "mode": "markers",
         "name": "V1",
         "showlegend": true,
         "type": "scatter3d",
         "x": [
          -0.0004292649094725931
         ],
         "y": [
          3.028264898776886
         ],
         "z": [
          9.012770250209826
         ]
        },
        {
         "legendgroup": "V1",
         "marker": {
          "color": "purple",
          "size": 5
         },
         "mode": "markers",
         "name": "V1",
         "showlegend": true,
         "type": "scatter3d",
         "x": [
          7.534449020555859
         ],
         "y": [
          -1.497188530598729
         ],
         "z": [
          7.515457288245195
         ]
        },
        {
         "legendgroup": "V1",
         "marker": {
          "color": "purple",
          "size": 5
         },
         "mode": "markers",
         "name": "V1",
         "showlegend": true,
         "type": "scatter3d",
         "x": [
          0.007899194228184081
         ],
         "y": [
          6.004104870082699
         ],
         "z": [
          3.007251167982652
         ]
        },
        {
         "legendgroup": "V1",
         "marker": {
          "color": "purple",
          "size": 5
         },
         "mode": "markers",
         "name": "V1",
         "showlegend": true,
         "type": "scatter3d",
         "x": [
          0.08100656756034397
         ],
         "y": [
          5.982719966704957
         ],
         "z": [
          6.006089356931647
         ]
        },
        {
         "legendgroup": "V1",
         "marker": {
          "color": "purple",
          "size": 5
         },
         "mode": "markers",
         "name": "V1",
         "showlegend": true,
         "type": "scatter3d",
         "x": [
          0.03858373865241384
         ],
         "y": [
          9.033934945743535
         ],
         "z": [
          0.009105396138638805
         ]
        },
        {
         "legendgroup": "V1",
         "marker": {
          "color": "purple",
          "size": 5
         },
         "mode": "markers",
         "name": "V1",
         "showlegend": true,
         "type": "scatter3d",
         "x": [
          0.013210048278616382
         ],
         "y": [
          8.99493481520072
         ],
         "z": [
          3.017237610561346
         ]
        },
        {
         "legendgroup": "V1",
         "marker": {
          "color": "purple",
          "size": 5
         },
         "mode": "markers",
         "name": "V1",
         "showlegend": true,
         "type": "scatter3d",
         "x": [
          -6.006665611156882
         ],
         "y": [
          6.014269512054665
         ],
         "z": [
          9.035049327470087
         ]
        },
        {
         "legendgroup": "V1",
         "marker": {
          "color": "purple",
          "size": 5
         },
         "mode": "markers",
         "name": "V1",
         "showlegend": true,
         "type": "scatter3d",
         "x": [
          8.958079460557295
         ],
         "y": [
          5.990063526813988
         ],
         "z": [
          -0.03546710110536111
         ]
        },
        {
         "legendgroup": "V1",
         "marker": {
          "color": "purple",
          "size": 5
         },
         "mode": "markers",
         "name": "V1",
         "showlegend": true,
         "type": "scatter3d",
         "x": [
          8.994590336993744
         ],
         "y": [
          5.978395381130377
         ],
         "z": [
          2.978401617635566
         ]
        },
        {
         "legendgroup": "V1",
         "marker": {
          "color": "purple",
          "size": 5
         },
         "mode": "markers",
         "name": "V1",
         "showlegend": true,
         "type": "scatter3d",
         "x": [
          -6.006843877222628
         ],
         "y": [
          8.952871108056616
         ],
         "z": [
          6.044207187455872
         ]
        },
        {
         "legendgroup": "V1",
         "marker": {
          "color": "purple",
          "size": 5
         },
         "mode": "markers",
         "name": "V1",
         "showlegend": true,
         "type": "scatter3d",
         "x": [
          1.5122182244400988
         ],
         "y": [
          1.5134486470860624
         ],
         "z": [
          1.50033125423406
         ]
        },
        {
         "legendgroup": "V1",
         "marker": {
          "color": "purple",
          "size": 5
         },
         "mode": "markers",
         "name": "V1",
         "showlegend": true,
         "type": "scatter3d",
         "x": [
          1.482199599574474
         ],
         "y": [
          1.5021183424685365
         ],
         "z": [
          4.567573828294592
         ]
        },
        {
         "legendgroup": "V1",
         "marker": {
          "color": "purple",
          "size": 5
         },
         "mode": "markers",
         "name": "V1",
         "showlegend": true,
         "type": "scatter3d",
         "x": [
          1.5632032570232917
         ],
         "y": [
          1.5079209403028928
         ],
         "z": [
          7.549848451954178
         ]
        },
        {
         "legendgroup": "V1",
         "marker": {
          "color": "purple",
          "size": 5
         },
         "mode": "markers",
         "name": "V1",
         "showlegend": true,
         "type": "scatter3d",
         "x": [
          1.4919187535288465
         ],
         "y": [
          1.5026836157502395
         ],
         "z": [
          10.478201083647468
         ]
        },
        {
         "legendgroup": "V1",
         "marker": {
          "color": "purple",
          "size": 5
         },
         "mode": "markers",
         "name": "V1",
         "showlegend": true,
         "type": "scatter3d",
         "x": [
          1.5433608373246666
         ],
         "y": [
          4.515505260451703
         ],
         "z": [
          -1.5127039550579255
         ]
        },
        {
         "legendgroup": "V1",
         "marker": {
          "color": "purple",
          "size": 5
         },
         "mode": "markers",
         "name": "V1",
         "showlegend": true,
         "type": "scatter3d",
         "x": [
          1.5508907471536333
         ],
         "y": [
          4.532990394475139
         ],
         "z": [
          1.4949844938871444
         ]
        },
        {
         "legendgroup": "V1",
         "marker": {
          "color": "purple",
          "size": 5
         },
         "mode": "markers",
         "name": "V1",
         "showlegend": true,
         "type": "scatter3d",
         "x": [
          1.5034217702335801
         ],
         "y": [
          4.561231112098215
         ],
         "z": [
          4.5489271327357494
         ]
        },
        {
         "legendgroup": "V1",
         "marker": {
          "color": "purple",
          "size": 5
         },
         "mode": "markers",
         "name": "V1",
         "showlegend": true,
         "type": "scatter3d",
         "x": [
          1.4756403576941604
         ],
         "y": [
          4.572153536209705
         ],
         "z": [
          7.5441789209237395
         ]
        },
        {
         "legendgroup": "V1",
         "marker": {
          "color": "purple",
          "size": 5
         },
         "mode": "markers",
         "name": "V1",
         "showlegend": true,
         "type": "scatter3d",
         "x": [
          9.092513981236001
         ],
         "y": [
          0.00336589434010115
         ],
         "z": [
          5.94565813185514
         ]
        },
        {
         "legendgroup": "V1",
         "marker": {
          "color": "purple",
          "size": 5
         },
         "mode": "markers",
         "name": "V1",
         "showlegend": true,
         "type": "scatter3d",
         "x": [
          1.5133148731990331
         ],
         "y": [
          7.478268176923503
         ],
         "z": [
          1.5206322025340346
         ]
        },
        {
         "legendgroup": "V1",
         "marker": {
          "color": "purple",
          "size": 5
         },
         "mode": "markers",
         "name": "V1",
         "showlegend": true,
         "type": "scatter3d",
         "x": [
          1.458555183876383
         ],
         "y": [
          7.491282965688114
         ],
         "z": [
          4.54668675058526
         ]
        },
        {
         "legendgroup": "V1",
         "marker": {
          "color": "purple",
          "size": 5
         },
         "mode": "markers",
         "name": "V1",
         "showlegend": true,
         "type": "scatter3d",
         "x": [
          8.989250097441987
         ],
         "y": [
          2.9672813734268733
         ],
         "z": [
          6.024949396035535
         ]
        },
        {
         "legendgroup": "V1",
         "marker": {
          "color": "purple",
          "size": 5
         },
         "mode": "markers",
         "name": "V1",
         "showlegend": true,
         "type": "scatter3d",
         "x": [
          1.4647944896300986
         ],
         "y": [
          10.570678592867557
         ],
         "z": [
          1.485889363002999
         ]
        },
        {
         "legendgroup": "V1",
         "marker": {
          "color": "purple",
          "size": 5
         },
         "mode": "markers",
         "name": "V1",
         "showlegend": true,
         "type": "scatter3d",
         "x": [
          3.0026461198273826
         ],
         "y": [
          -3.0007583703252276
         ],
         "z": [
          3.012481387774622
         ]
        },
        {
         "legendgroup": "V1",
         "marker": {
          "color": "purple",
          "size": 5
         },
         "mode": "markers",
         "name": "V1",
         "showlegend": true,
         "type": "scatter3d",
         "x": [
          10.510504599550355
         ],
         "y": [
          4.516343243902436
         ],
         "z": [
          -1.511302331785858
         ]
        },
        {
         "legendgroup": "V1",
         "marker": {
          "color": "purple",
          "size": 5
         },
         "mode": "markers",
         "name": "V1",
         "showlegend": true,
         "type": "scatter3d",
         "x": [
          3.0051488404595177
         ],
         "y": [
          -0.003627052663519814
         ],
         "z": [
          0.01808506229807305
         ]
        },
        {
         "legendgroup": "V1",
         "marker": {
          "color": "purple",
          "size": 5
         },
         "mode": "markers",
         "name": "V1",
         "showlegend": true,
         "type": "scatter3d",
         "x": [
          2.998008081637388
         ],
         "y": [
          -0.02302773366139199
         ],
         "z": [
          2.9815367702402584
         ]
        },
        {
         "legendgroup": "V1",
         "marker": {
          "color": "purple",
          "size": 5
         },
         "mode": "markers",
         "name": "V1",
         "showlegend": true,
         "type": "scatter3d",
         "x": [
          3.000259370959527
         ],
         "y": [
          0.010853026174151736
         ],
         "z": [
          6.012169903131462
         ]
        },
        {
         "legendgroup": "V1",
         "marker": {
          "color": "purple",
          "size": 5
         },
         "mode": "markers",
         "name": "V1",
         "showlegend": true,
         "type": "scatter3d",
         "x": [
          3.015274201887316
         ],
         "y": [
          0.010654916465067998
         ],
         "z": [
          9.030668838620807
         ]
        },
        {
         "legendgroup": "V1",
         "marker": {
          "color": "purple",
          "size": 5
         },
         "mode": "markers",
         "name": "V1",
         "showlegend": true,
         "type": "scatter3d",
         "x": [
          3.0773904895886997
         ],
         "y": [
          3.0752596039391262
         ],
         "z": [
          -2.984344106494035
         ]
        },
        {
         "legendgroup": "V1",
         "marker": {
          "color": "purple",
          "size": 5
         },
         "mode": "markers",
         "name": "V1",
         "showlegend": true,
         "type": "scatter3d",
         "x": [
          3.005051368800529
         ],
         "y": [
          2.9641710853371883
         ],
         "z": [
          0.07533546416941661
         ]
        },
        {
         "legendgroup": "V1",
         "marker": {
          "color": "purple",
          "size": 5
         },
         "mode": "markers",
         "name": "V1",
         "showlegend": true,
         "type": "scatter3d",
         "x": [
          3.022618560583277
         ],
         "y": [
          2.938304225627022
         ],
         "z": [
          2.985649476408345
         ]
        },
        {
         "legendgroup": "V1",
         "marker": {
          "color": "purple",
          "size": 5
         },
         "mode": "markers",
         "name": "V1",
         "showlegend": true,
         "type": "scatter3d",
         "x": [
          3.03383776141397
         ],
         "y": [
          2.999839181865722
         ],
         "z": [
          6.053746815455785
         ]
        },
        {
         "legendgroup": "V1",
         "marker": {
          "color": "purple",
          "size": 5
         },
         "mode": "markers",
         "name": "V1",
         "showlegend": true,
         "type": "scatter3d",
         "x": [
          10.532764931122708
         ],
         "y": [
          -1.4949925208802295
         ],
         "z": [
          4.509581308778479
         ]
        },
        {
         "legendgroup": "V1",
         "marker": {
          "color": "purple",
          "size": 5
         },
         "mode": "markers",
         "name": "V1",
         "showlegend": true,
         "type": "scatter3d",
         "x": [
          3.0636146251558554
         ],
         "y": [
          5.951402983908172
         ],
         "z": [
          0.025999408674000746
         ]
        },
        {
         "legendgroup": "V1",
         "marker": {
          "color": "purple",
          "size": 5
         },
         "mode": "markers",
         "name": "V1",
         "showlegend": true,
         "type": "scatter3d",
         "x": [
          2.9991233128251427
         ],
         "y": [
          6.014515661209336
         ],
         "z": [
          2.9919105250730444
         ]
        },
        {
         "legendgroup": "V1",
         "marker": {
          "color": "purple",
          "size": 5
         },
         "mode": "markers",
         "name": "V1",
         "showlegend": true,
         "type": "scatter3d",
         "x": [
          3.0268691866841246
         ],
         "y": [
          5.9857055472942555
         ],
         "z": [
          5.939429236773274
         ]
        },
        {
         "legendgroup": "V1",
         "marker": {
          "color": "purple",
          "size": 5
         },
         "mode": "markers",
         "name": "V1",
         "showlegend": true,
         "type": "scatter3d",
         "x": [
          2.9943120477102223
         ],
         "y": [
          8.988144059207652
         ],
         "z": [
          -0.0574878219852053
         ]
        },
        {
         "legendgroup": "V1",
         "marker": {
          "color": "purple",
          "size": 5
         },
         "mode": "markers",
         "name": "V1",
         "showlegend": true,
         "type": "scatter3d",
         "x": [
          2.980831798589913
         ],
         "y": [
          8.985940471411704
         ],
         "z": [
          3.0882842378843534
         ]
        },
        {
         "legendgroup": "V1",
         "marker": {
          "color": "purple",
          "size": 5
         },
         "mode": "markers",
         "name": "V1",
         "showlegend": true,
         "type": "scatter3d",
         "x": [
          4.467666532703816
         ],
         "y": [
          -4.430059641915006
         ],
         "z": [
          4.51840361644203
         ]
        },
        {
         "legendgroup": "V1",
         "marker": {
          "color": "purple",
          "size": 5
         },
         "mode": "markers",
         "name": "V1",
         "showlegend": true,
         "type": "scatter3d",
         "x": [
          12.022318818183198
         ],
         "y": [
          3.011079692066775
         ],
         "z": [
          -0.03234982196362868
         ]
        },
        {
         "legendgroup": "V1",
         "marker": {
          "color": "purple",
          "size": 5
         },
         "mode": "markers",
         "name": "V1",
         "showlegend": true,
         "type": "scatter3d",
         "x": [
          -2.9956252275013644
         ],
         "y": [
          5.977644973175835
         ],
         "z": [
          9.013998096138689
         ]
        },
        {
         "legendgroup": "V1",
         "marker": {
          "color": "purple",
          "size": 5
         },
         "mode": "markers",
         "name": "V1",
         "showlegend": true,
         "type": "scatter3d",
         "x": [
          4.549662987784599
         ],
         "y": [
          -1.479496033383355
         ],
         "z": [
          4.5886959724049134
         ]
        },
        {
         "legendgroup": "V1",
         "marker": {
          "color": "purple",
          "size": 5
         },
         "mode": "markers",
         "name": "V1",
         "showlegend": true,
         "type": "scatter3d",
         "x": [
          4.478279719603739
         ],
         "y": [
          -1.497436299719399
         ],
         "z": [
          7.465752022322549
         ]
        },
        {
         "legendgroup": "V1",
         "marker": {
          "color": "purple",
          "size": 5
         },
         "mode": "markers",
         "name": "V1",
         "showlegend": true,
         "type": "scatter3d",
         "x": [
          -3.0693137429699875
         ],
         "y": [
          8.998372742556626
         ],
         "z": [
          5.9612924101092535
         ]
        },
        {
         "legendgroup": "V1",
         "marker": {
          "color": "purple",
          "size": 5
         },
         "mode": "markers",
         "name": "V1",
         "showlegend": true,
         "type": "scatter3d",
         "x": [
          4.467255359350902
         ],
         "y": [
          1.505092817087902
         ],
         "z": [
          1.5209144876563645
         ]
        },
        {
         "legendgroup": "V1",
         "marker": {
          "color": "purple",
          "size": 5
         },
         "mode": "markers",
         "name": "V1",
         "showlegend": true,
         "type": "scatter3d",
         "x": [
          4.509180064052138
         ],
         "y": [
          1.517032316628086
         ],
         "z": [
          4.546961956014141
         ]
        },
        {
         "legendgroup": "V1",
         "marker": {
          "color": "purple",
          "size": 5
         },
         "mode": "markers",
         "name": "V1",
         "showlegend": true,
         "type": "scatter3d",
         "x": [
          4.513927905838525
         ],
         "y": [
          1.510405018136427
         ],
         "z": [
          7.540699046378544
         ]
        },
        {
         "legendgroup": "V1",
         "marker": {
          "color": "purple",
          "size": 5
         },
         "mode": "markers",
         "name": "V1",
         "showlegend": true,
         "type": "scatter3d",
         "x": [
          4.489602109436702
         ],
         "y": [
          4.55280554155556
         ],
         "z": [
          -4.440197537584152
         ]
        },
        {
         "legendgroup": "V1",
         "marker": {
          "color": "purple",
          "size": 5
         },
         "mode": "markers",
         "name": "V1",
         "showlegend": true,
         "type": "scatter3d",
         "x": [
          4.498153981301817
         ],
         "y": [
          4.512588167873498
         ],
         "z": [
          -1.5353084014142133
         ]
        },
        {
         "legendgroup": "V1",
         "marker": {
          "color": "purple",
          "size": 5
         },
         "mode": "markers",
         "name": "V1",
         "showlegend": true,
         "type": "scatter3d",
         "x": [
          4.565352916769381
         ],
         "y": [
          4.455486815206098
         ],
         "z": [
          1.5508419738651695
         ]
        },
        {
         "legendgroup": "V1",
         "marker": {
          "color": "purple",
          "size": 5
         },
         "mode": "markers",
         "name": "V1",
         "showlegend": true,
         "type": "scatter3d",
         "x": [
          4.497220579108564
         ],
         "y": [
          4.489338710356597
         ],
         "z": [
          4.534267365939243
         ]
        },
        {
         "legendgroup": "V1",
         "marker": {
          "color": "purple",
          "size": 5
         },
         "mode": "markers",
         "name": "V1",
         "showlegend": true,
         "type": "scatter3d",
         "x": [
          4.481337308261179
         ],
         "y": [
          4.521428533102043
         ],
         "z": [
          7.475927943642293
         ]
        },
        {
         "legendgroup": "V1",
         "marker": {
          "color": "purple",
          "size": 5
         },
         "mode": "markers",
         "name": "V1",
         "showlegend": true,
         "type": "scatter3d",
         "x": [
          4.510103028229922
         ],
         "y": [
          7.517795892108405
         ],
         "z": [
          -4.508752118124365
         ]
        },
        {
         "legendgroup": "V1",
         "marker": {
          "color": "purple",
          "size": 5
         },
         "mode": "markers",
         "name": "V1",
         "showlegend": true,
         "type": "scatter3d",
         "x": [
          4.53009539924002
         ],
         "y": [
          7.514344022423348
         ],
         "z": [
          -1.5318421300284286
         ]
        },
        {
         "legendgroup": "V1",
         "marker": {
          "color": "purple",
          "size": 5
         },
         "mode": "markers",
         "name": "V1",
         "showlegend": true,
         "type": "scatter3d",
         "x": [
          4.560576470227135
         ],
         "y": [
          7.556364591546171
         ],
         "z": [
          1.575796416379073
         ]
        },
        {
         "legendgroup": "V1",
         "marker": {
          "color": "purple",
          "size": 5
         },
         "mode": "markers",
         "name": "V1",
         "showlegend": true,
         "type": "scatter3d",
         "x": [
          4.495562955836894
         ],
         "y": [
          7.516899590757475
         ],
         "z": [
          4.59168169905349
         ]
        },
        {
         "legendgroup": "V1",
         "marker": {
          "color": "purple",
          "size": 5
         },
         "mode": "markers",
         "name": "V1",
         "showlegend": true,
         "type": "scatter3d",
         "x": [
          -1.4863910740233717
         ],
         "y": [
          4.4973612468968645
         ],
         "z": [
          10.529315778874224
         ]
        },
        {
         "legendgroup": "V1",
         "marker": {
          "color": "purple",
          "size": 5
         },
         "mode": "markers",
         "name": "V1",
         "showlegend": true,
         "type": "scatter3d",
         "x": [
          5.972421611408949
         ],
         "y": [
          -2.9635269176739163
         ],
         "z": [
          5.973378445112733
         ]
        },
        {
         "legendgroup": "V1",
         "marker": {
          "color": "purple",
          "size": 5
         },
         "mode": "markers",
         "name": "V1",
         "showlegend": true,
         "type": "scatter3d",
         "x": [
          -1.5279339288001546
         ],
         "y": [
          7.4564731794817565
         ],
         "z": [
          7.511577866889974
         ]
        },
        {
         "legendgroup": "V1",
         "marker": {
          "color": "purple",
          "size": 5
         },
         "mode": "markers",
         "name": "V1",
         "showlegend": true,
         "type": "scatter3d",
         "x": [
          6.00801515386549
         ],
         "y": [
          0.00779804876403567
         ],
         "z": [
          2.9543630624530053
         ]
        },
        {
         "legendgroup": "V1",
         "marker": {
          "color": "purple",
          "size": 5
         },
         "mode": "markers",
         "name": "V1",
         "showlegend": true,
         "type": "scatter3d",
         "x": [
          5.970209259991524
         ],
         "y": [
          0.05416062753597828
         ],
         "z": [
          6.0115105293276585
         ]
        },
        {
         "legendgroup": "V1",
         "marker": {
          "color": "purple",
          "size": 5
         },
         "mode": "markers",
         "name": "V1",
         "showlegend": true,
         "type": "scatter3d",
         "x": [
          5.938372576195652
         ],
         "y": [
          3.0185575220037677
         ],
         "z": [
          -3.008677890887533
         ]
        },
        {
         "legendgroup": "V1",
         "marker": {
          "color": "purple",
          "size": 5
         },
         "mode": "markers",
         "name": "V1",
         "showlegend": true,
         "type": "scatter3d",
         "x": [
          5.99392213045329
         ],
         "y": [
          2.964793611795702
         ],
         "z": [
          0.03488382477076346
         ]
        },
        {
         "legendgroup": "V1",
         "marker": {
          "color": "purple",
          "size": 5
         },
         "mode": "markers",
         "name": "V1",
         "showlegend": true,
         "type": "scatter3d",
         "x": [
          6.071025979801656
         ],
         "y": [
          2.9807599015748325
         ],
         "z": [
          6.024369452021534
         ]
        },
        {
         "legendgroup": "V1",
         "marker": {
          "color": "purple",
          "size": 5
         },
         "mode": "markers",
         "name": "V1",
         "showlegend": true,
         "type": "scatter3d",
         "x": [
          6.103117866464105
         ],
         "y": [
          6.063161046724318
         ],
         "z": [
          -2.9957644864829027
         ]
        },
        {
         "legendgroup": "V1",
         "marker": {
          "color": "purple",
          "size": 5
         },
         "mode": "markers",
         "name": "V1",
         "showlegend": true,
         "type": "scatter3d",
         "x": [
          5.986632068212668
         ],
         "y": [
          6.006557929461556
         ],
         "z": [
          -0.08533191533198803
         ]
        },
        {
         "legendgroup": "V1",
         "marker": {
          "color": "purple",
          "size": 5
         },
         "mode": "markers",
         "name": "V1",
         "showlegend": true,
         "type": "scatter3d",
         "x": [
          5.983848829937445
         ],
         "y": [
          6.008948802442412
         ],
         "z": [
          6.047077285113616
         ]
        },
        {
         "legendgroup": "V1",
         "marker": {
          "color": "purple",
          "size": 5
         },
         "mode": "markers",
         "name": "V1",
         "showlegend": true,
         "type": "scatter3d",
         "x": [
          -0.0033072381209144908
         ],
         "y": [
          3.0299434901369944
         ],
         "z": [
          12.010374619877885
         ]
        },
        {
         "legendgroup": "V1",
         "marker": {
          "color": "purple",
          "size": 5
         },
         "mode": "markers",
         "name": "V1",
         "showlegend": true,
         "type": "scatter3d",
         "x": [
          7.53009980903332
         ],
         "y": [
          -1.462092425426197
         ],
         "z": [
          1.553307469544491
         ]
        },
        {
         "legendgroup": "V1",
         "marker": {
          "color": "purple",
          "size": 5
         },
         "mode": "markers",
         "name": "V1",
         "showlegend": true,
         "type": "scatter3d",
         "x": [
          7.486622360933489
         ],
         "y": [
          -1.5364608651857177
         ],
         "z": [
          4.536927681187772
         ]
        },
        {
         "legendgroup": "V1",
         "marker": {
          "color": "purple",
          "size": 5
         },
         "mode": "markers",
         "name": "V1",
         "showlegend": true,
         "type": "scatter3d",
         "x": [
          7.52795039088392
         ],
         "y": [
          1.5516176045020185
         ],
         "z": [
          1.5527186880191306
         ]
        },
        {
         "legendgroup": "V1",
         "marker": {
          "color": "purple",
          "size": 5
         },
         "mode": "markers",
         "name": "V1",
         "showlegend": true,
         "type": "scatter3d",
         "x": [
          7.473826127557617
         ],
         "y": [
          1.508426965751588
         ],
         "z": [
          4.5862557540146796
         ]
        },
        {
         "legendgroup": "V1",
         "marker": {
          "color": "purple",
          "size": 5
         },
         "mode": "markers",
         "name": "V1",
         "showlegend": true,
         "type": "scatter3d",
         "x": [
          -0.04675117760082159
         ],
         "y": [
          12.038974957030726
         ],
         "z": [
          2.9967435746576503
         ]
        },
        {
         "legendgroup": "V1",
         "marker": {
          "color": "purple",
          "size": 5
         },
         "mode": "markers",
         "name": "V1",
         "showlegend": true,
         "type": "scatter3d",
         "x": [
          7.5088530359752585
         ],
         "y": [
          4.507002920003241
         ],
         "z": [
          -1.5076588125243742
         ]
        },
        {
         "legendgroup": "V1",
         "marker": {
          "color": "purple",
          "size": 5
         },
         "mode": "markers",
         "name": "V1",
         "showlegend": true,
         "type": "scatter3d",
         "x": [
          7.542617221843683
         ],
         "y": [
          4.595819888155657
         ],
         "z": [
          1.5376524722084075
         ]
        },
        {
         "legendgroup": "V1",
         "marker": {
          "color": "purple",
          "size": 5
         },
         "mode": "markers",
         "name": "V1",
         "showlegend": true,
         "type": "scatter3d",
         "x": [
          7.531374264801174
         ],
         "y": [
          4.536346983235263
         ],
         "z": [
          4.526854894101614
         ]
        },
        {
         "legendgroup": "V1",
         "marker": {
          "color": "purple",
          "size": 5
         },
         "mode": "markers",
         "name": "V1",
         "showlegend": true,
         "type": "scatter3d",
         "x": [
          9.029129362607364
         ],
         "y": [
          -0.002457641023593915
         ],
         "z": [
          0.011290218978133204
         ]
        },
        {
         "legendgroup": "V1",
         "marker": {
          "color": "purple",
          "size": 5
         },
         "mode": "markers",
         "name": "V1",
         "showlegend": true,
         "type": "scatter3d",
         "x": [
          9.014644008640422
         ],
         "y": [
          -0.012213357637469002
         ],
         "z": [
          3.059427895094997
         ]
        },
        {
         "legendgroup": "V1",
         "marker": {
          "color": "purple",
          "size": 5
         },
         "mode": "markers",
         "name": "V1",
         "showlegend": true,
         "type": "scatter3d",
         "x": [
          9.071794069774572
         ],
         "y": [
          3.0649078574341697
         ],
         "z": [
          -3.0211953228141413
         ]
        },
        {
         "legendgroup": "V1",
         "marker": {
          "color": "purple",
          "size": 5
         },
         "mode": "markers",
         "name": "V1",
         "showlegend": true,
         "type": "scatter3d",
         "x": [
          9.079718069485606
         ],
         "y": [
          2.9567998467930465
         ],
         "z": [
          -0.033316567629922744
         ]
        },
        {
         "legendgroup": "V1",
         "marker": {
          "color": "purple",
          "size": 5
         },
         "mode": "markers",
         "name": "V1",
         "showlegend": true,
         "type": "scatter3d",
         "x": [
          9.043309339965049
         ],
         "y": [
          3.0227618163544507
         ],
         "z": [
          3.0162447648950286
         ]
        },
        {
         "legendgroup": "V1",
         "marker": {
          "color": "purple",
          "size": 5
         },
         "mode": "markers",
         "name": "V1",
         "showlegend": true,
         "type": "scatter3d",
         "x": [
          2.9620483118243026
         ],
         "y": [
          6.015036553890277
         ],
         "z": [
          9.001284285024372
         ]
        },
        {
         "legendgroup": "V1",
         "marker": {
          "color": "purple",
          "size": 5
         },
         "mode": "markers",
         "name": "V1",
         "showlegend": true,
         "type": "scatter3d",
         "x": [
          10.554747678185066
         ],
         "y": [
          1.5534910364410086
         ],
         "z": [
          -1.5231736307028436
         ]
        },
        {
         "legendgroup": "V1",
         "marker": {
          "color": "purple",
          "size": 5
         },
         "mode": "markers",
         "name": "V1",
         "showlegend": true,
         "type": "scatter3d",
         "x": [
          10.579088032269743
         ],
         "y": [
          1.5412919506093186
         ],
         "z": [
          1.4445026589459022
         ]
        },
        {
         "legendgroup": "V1",
         "marker": {
          "color": "purple",
          "size": 5
         },
         "mode": "markers",
         "name": "V1",
         "showlegend": true,
         "type": "scatter3d",
         "x": [
          12.044405190391188
         ],
         "y": [
          -0.02760167701126459
         ],
         "z": [
          0.027831835315559772
         ]
        },
        {
         "legendgroup": "Cr1",
         "marker": {
          "color": "brown",
          "size": 5
         },
         "mode": "markers",
         "name": "Cr1",
         "showlegend": true,
         "type": "scatter3d",
         "x": [
          -0.03773146244276382
         ],
         "y": [
          3.0649613217583185
         ],
         "z": [
          3.083865876693479
         ]
        },
        {
         "legendgroup": "Cr1",
         "marker": {
          "color": "brown",
          "size": 5
         },
         "mode": "markers",
         "name": "Cr1",
         "showlegend": true,
         "type": "scatter3d",
         "x": [
          10.485524851315908
         ],
         "y": [
          4.535719577491522
         ],
         "z": [
          1.4762663334979065
         ]
        },
        {
         "legendgroup": "Cr1",
         "marker": {
          "color": "brown",
          "size": 5
         },
         "mode": "markers",
         "name": "Cr1",
         "showlegend": true,
         "type": "scatter3d",
         "x": [
          3.0731192443193147
         ],
         "y": [
          9.047673962980108
         ],
         "z": [
          -3.0111585862015473
         ]
        },
        {
         "legendgroup": "W1",
         "marker": {
          "color": "pink",
          "size": 5
         },
         "mode": "markers",
         "name": "W1",
         "showlegend": true,
         "type": "scatter3d",
         "x": [
          7.483677200698224
         ],
         "y": [
          7.553485511793982
         ],
         "z": [
          4.457339821051203
         ]
        },
        {
         "legendgroup": "W1",
         "marker": {
          "color": "pink",
          "size": 5
         },
         "mode": "markers",
         "name": "W1",
         "showlegend": true,
         "type": "scatter3d",
         "x": [
          9.009030996487006
         ],
         "y": [
          5.998265768224007
         ],
         "z": [
          -2.954675765452149
         ]
        },
        {
         "legendgroup": "W1",
         "marker": {
          "color": "pink",
          "size": 5
         },
         "mode": "markers",
         "name": "W1",
         "showlegend": true,
         "type": "scatter3d",
         "x": [
          6.028408088111437
         ],
         "y": [
          3.0197574828262033
         ],
         "z": [
          2.988623422823256
         ]
        },
        {
         "legendgroup": "W1",
         "marker": {
          "color": "pink",
          "size": 5
         },
         "mode": "markers",
         "name": "W1",
         "showlegend": true,
         "type": "scatter3d",
         "x": [
          5.954984001178591
         ],
         "y": [
          5.990254243700596
         ],
         "z": [
          8.964509329846813
         ]
        },
        {
         "legendgroup": "W1",
         "marker": {
          "color": "pink",
          "size": 5
         },
         "mode": "markers",
         "name": "W1",
         "showlegend": true,
         "type": "scatter3d",
         "x": [
          5.9377319463649085
         ],
         "y": [
          6.0675793951852555
         ],
         "z": [
          3.0136033555629256
         ]
        },
        {
         "legendgroup": "Highlighted W1",
         "marker": {
          "color": "red",
          "size": 10,
          "symbol": "diamond"
         },
         "mode": "markers",
         "name": "Highlighted W1",
         "showlegend": true,
         "type": "scatter3d",
         "x": [
          5.954984001178591
         ],
         "y": [
          5.990254243700596
         ],
         "z": [
          8.964509329846813
         ]
        },
        {
         "legendgroup": "Highlighted V1",
         "marker": {
          "color": "red",
          "size": 10,
          "symbol": "diamond"
         },
         "mode": "markers",
         "name": "Highlighted V1",
         "showlegend": true,
         "type": "scatter3d",
         "x": [
          1.5632032570232917
         ],
         "y": [
          1.5079209403028928
         ],
         "z": [
          7.549848451954178
         ]
        },
        {
         "legendgroup": "Highlighted V1",
         "marker": {
          "color": "red",
          "size": 10,
          "symbol": "diamond"
         },
         "mode": "markers",
         "name": "Highlighted V1",
         "showlegend": true,
         "type": "scatter3d",
         "x": [
          4.467666532703816
         ],
         "y": [
          -4.430059641915006
         ],
         "z": [
          4.51840361644203
         ]
        },
        {
         "legendgroup": "Highlighted V1",
         "marker": {
          "color": "red",
          "size": 10,
          "symbol": "diamond"
         },
         "mode": "markers",
         "name": "Highlighted V1",
         "showlegend": true,
         "type": "scatter3d",
         "x": [
          9.092513981236001
         ],
         "y": [
          0.00336589434010115
         ],
         "z": [
          5.94565813185514
         ]
        },
        {
         "legendgroup": "Highlighted Ti1",
         "marker": {
          "color": "red",
          "size": 10,
          "symbol": "diamond"
         },
         "mode": "markers",
         "name": "Highlighted Ti1",
         "showlegend": true,
         "type": "scatter3d",
         "x": [
          0.009932843196155616
         ],
         "y": [
          9.023713328657669
         ],
         "z": [
          6.00128974490947
         ]
        }
       ],
       "layout": {
        "scene": {
         "xaxis": {
          "title": {
           "text": "X"
          }
         },
         "yaxis": {
          "title": {
           "text": "Y"
          }
         },
         "zaxis": {
          "title": {
           "text": "Z"
          }
         }
        },
        "template": {
         "data": {
          "bar": [
           {
            "error_x": {
             "color": "#2a3f5f"
            },
            "error_y": {
             "color": "#2a3f5f"
            },
            "marker": {
             "line": {
              "color": "#E5ECF6",
              "width": 0.5
             },
             "pattern": {
              "fillmode": "overlay",
              "size": 10,
              "solidity": 0.2
             }
            },
            "type": "bar"
           }
          ],
          "barpolar": [
           {
            "marker": {
             "line": {
              "color": "#E5ECF6",
              "width": 0.5
             },
             "pattern": {
              "fillmode": "overlay",
              "size": 10,
              "solidity": 0.2
             }
            },
            "type": "barpolar"
           }
          ],
          "carpet": [
           {
            "aaxis": {
             "endlinecolor": "#2a3f5f",
             "gridcolor": "white",
             "linecolor": "white",
             "minorgridcolor": "white",
             "startlinecolor": "#2a3f5f"
            },
            "baxis": {
             "endlinecolor": "#2a3f5f",
             "gridcolor": "white",
             "linecolor": "white",
             "minorgridcolor": "white",
             "startlinecolor": "#2a3f5f"
            },
            "type": "carpet"
           }
          ],
          "choropleth": [
           {
            "colorbar": {
             "outlinewidth": 0,
             "ticks": ""
            },
            "type": "choropleth"
           }
          ],
          "contour": [
           {
            "colorbar": {
             "outlinewidth": 0,
             "ticks": ""
            },
            "colorscale": [
             [
              0,
              "#0d0887"
             ],
             [
              0.1111111111111111,
              "#46039f"
             ],
             [
              0.2222222222222222,
              "#7201a8"
             ],
             [
              0.3333333333333333,
              "#9c179e"
             ],
             [
              0.4444444444444444,
              "#bd3786"
             ],
             [
              0.5555555555555556,
              "#d8576b"
             ],
             [
              0.6666666666666666,
              "#ed7953"
             ],
             [
              0.7777777777777778,
              "#fb9f3a"
             ],
             [
              0.8888888888888888,
              "#fdca26"
             ],
             [
              1,
              "#f0f921"
             ]
            ],
            "type": "contour"
           }
          ],
          "contourcarpet": [
           {
            "colorbar": {
             "outlinewidth": 0,
             "ticks": ""
            },
            "type": "contourcarpet"
           }
          ],
          "heatmap": [
           {
            "colorbar": {
             "outlinewidth": 0,
             "ticks": ""
            },
            "colorscale": [
             [
              0,
              "#0d0887"
             ],
             [
              0.1111111111111111,
              "#46039f"
             ],
             [
              0.2222222222222222,
              "#7201a8"
             ],
             [
              0.3333333333333333,
              "#9c179e"
             ],
             [
              0.4444444444444444,
              "#bd3786"
             ],
             [
              0.5555555555555556,
              "#d8576b"
             ],
             [
              0.6666666666666666,
              "#ed7953"
             ],
             [
              0.7777777777777778,
              "#fb9f3a"
             ],
             [
              0.8888888888888888,
              "#fdca26"
             ],
             [
              1,
              "#f0f921"
             ]
            ],
            "type": "heatmap"
           }
          ],
          "heatmapgl": [
           {
            "colorbar": {
             "outlinewidth": 0,
             "ticks": ""
            },
            "colorscale": [
             [
              0,
              "#0d0887"
             ],
             [
              0.1111111111111111,
              "#46039f"
             ],
             [
              0.2222222222222222,
              "#7201a8"
             ],
             [
              0.3333333333333333,
              "#9c179e"
             ],
             [
              0.4444444444444444,
              "#bd3786"
             ],
             [
              0.5555555555555556,
              "#d8576b"
             ],
             [
              0.6666666666666666,
              "#ed7953"
             ],
             [
              0.7777777777777778,
              "#fb9f3a"
             ],
             [
              0.8888888888888888,
              "#fdca26"
             ],
             [
              1,
              "#f0f921"
             ]
            ],
            "type": "heatmapgl"
           }
          ],
          "histogram": [
           {
            "marker": {
             "pattern": {
              "fillmode": "overlay",
              "size": 10,
              "solidity": 0.2
             }
            },
            "type": "histogram"
           }
          ],
          "histogram2d": [
           {
            "colorbar": {
             "outlinewidth": 0,
             "ticks": ""
            },
            "colorscale": [
             [
              0,
              "#0d0887"
             ],
             [
              0.1111111111111111,
              "#46039f"
             ],
             [
              0.2222222222222222,
              "#7201a8"
             ],
             [
              0.3333333333333333,
              "#9c179e"
             ],
             [
              0.4444444444444444,
              "#bd3786"
             ],
             [
              0.5555555555555556,
              "#d8576b"
             ],
             [
              0.6666666666666666,
              "#ed7953"
             ],
             [
              0.7777777777777778,
              "#fb9f3a"
             ],
             [
              0.8888888888888888,
              "#fdca26"
             ],
             [
              1,
              "#f0f921"
             ]
            ],
            "type": "histogram2d"
           }
          ],
          "histogram2dcontour": [
           {
            "colorbar": {
             "outlinewidth": 0,
             "ticks": ""
            },
            "colorscale": [
             [
              0,
              "#0d0887"
             ],
             [
              0.1111111111111111,
              "#46039f"
             ],
             [
              0.2222222222222222,
              "#7201a8"
             ],
             [
              0.3333333333333333,
              "#9c179e"
             ],
             [
              0.4444444444444444,
              "#bd3786"
             ],
             [
              0.5555555555555556,
              "#d8576b"
             ],
             [
              0.6666666666666666,
              "#ed7953"
             ],
             [
              0.7777777777777778,
              "#fb9f3a"
             ],
             [
              0.8888888888888888,
              "#fdca26"
             ],
             [
              1,
              "#f0f921"
             ]
            ],
            "type": "histogram2dcontour"
           }
          ],
          "mesh3d": [
           {
            "colorbar": {
             "outlinewidth": 0,
             "ticks": ""
            },
            "type": "mesh3d"
           }
          ],
          "parcoords": [
           {
            "line": {
             "colorbar": {
              "outlinewidth": 0,
              "ticks": ""
             }
            },
            "type": "parcoords"
           }
          ],
          "pie": [
           {
            "automargin": true,
            "type": "pie"
           }
          ],
          "scatter": [
           {
            "fillpattern": {
             "fillmode": "overlay",
             "size": 10,
             "solidity": 0.2
            },
            "type": "scatter"
           }
          ],
          "scatter3d": [
           {
            "line": {
             "colorbar": {
              "outlinewidth": 0,
              "ticks": ""
             }
            },
            "marker": {
             "colorbar": {
              "outlinewidth": 0,
              "ticks": ""
             }
            },
            "type": "scatter3d"
           }
          ],
          "scattercarpet": [
           {
            "marker": {
             "colorbar": {
              "outlinewidth": 0,
              "ticks": ""
             }
            },
            "type": "scattercarpet"
           }
          ],
          "scattergeo": [
           {
            "marker": {
             "colorbar": {
              "outlinewidth": 0,
              "ticks": ""
             }
            },
            "type": "scattergeo"
           }
          ],
          "scattergl": [
           {
            "marker": {
             "colorbar": {
              "outlinewidth": 0,
              "ticks": ""
             }
            },
            "type": "scattergl"
           }
          ],
          "scattermapbox": [
           {
            "marker": {
             "colorbar": {
              "outlinewidth": 0,
              "ticks": ""
             }
            },
            "type": "scattermapbox"
           }
          ],
          "scatterpolar": [
           {
            "marker": {
             "colorbar": {
              "outlinewidth": 0,
              "ticks": ""
             }
            },
            "type": "scatterpolar"
           }
          ],
          "scatterpolargl": [
           {
            "marker": {
             "colorbar": {
              "outlinewidth": 0,
              "ticks": ""
             }
            },
            "type": "scatterpolargl"
           }
          ],
          "scatterternary": [
           {
            "marker": {
             "colorbar": {
              "outlinewidth": 0,
              "ticks": ""
             }
            },
            "type": "scatterternary"
           }
          ],
          "surface": [
           {
            "colorbar": {
             "outlinewidth": 0,
             "ticks": ""
            },
            "colorscale": [
             [
              0,
              "#0d0887"
             ],
             [
              0.1111111111111111,
              "#46039f"
             ],
             [
              0.2222222222222222,
              "#7201a8"
             ],
             [
              0.3333333333333333,
              "#9c179e"
             ],
             [
              0.4444444444444444,
              "#bd3786"
             ],
             [
              0.5555555555555556,
              "#d8576b"
             ],
             [
              0.6666666666666666,
              "#ed7953"
             ],
             [
              0.7777777777777778,
              "#fb9f3a"
             ],
             [
              0.8888888888888888,
              "#fdca26"
             ],
             [
              1,
              "#f0f921"
             ]
            ],
            "type": "surface"
           }
          ],
          "table": [
           {
            "cells": {
             "fill": {
              "color": "#EBF0F8"
             },
             "line": {
              "color": "white"
             }
            },
            "header": {
             "fill": {
              "color": "#C8D4E3"
             },
             "line": {
              "color": "white"
             }
            },
            "type": "table"
           }
          ]
         },
         "layout": {
          "annotationdefaults": {
           "arrowcolor": "#2a3f5f",
           "arrowhead": 0,
           "arrowwidth": 1
          },
          "autotypenumbers": "strict",
          "coloraxis": {
           "colorbar": {
            "outlinewidth": 0,
            "ticks": ""
           }
          },
          "colorscale": {
           "diverging": [
            [
             0,
             "#8e0152"
            ],
            [
             0.1,
             "#c51b7d"
            ],
            [
             0.2,
             "#de77ae"
            ],
            [
             0.3,
             "#f1b6da"
            ],
            [
             0.4,
             "#fde0ef"
            ],
            [
             0.5,
             "#f7f7f7"
            ],
            [
             0.6,
             "#e6f5d0"
            ],
            [
             0.7,
             "#b8e186"
            ],
            [
             0.8,
             "#7fbc41"
            ],
            [
             0.9,
             "#4d9221"
            ],
            [
             1,
             "#276419"
            ]
           ],
           "sequential": [
            [
             0,
             "#0d0887"
            ],
            [
             0.1111111111111111,
             "#46039f"
            ],
            [
             0.2222222222222222,
             "#7201a8"
            ],
            [
             0.3333333333333333,
             "#9c179e"
            ],
            [
             0.4444444444444444,
             "#bd3786"
            ],
            [
             0.5555555555555556,
             "#d8576b"
            ],
            [
             0.6666666666666666,
             "#ed7953"
            ],
            [
             0.7777777777777778,
             "#fb9f3a"
            ],
            [
             0.8888888888888888,
             "#fdca26"
            ],
            [
             1,
             "#f0f921"
            ]
           ],
           "sequentialminus": [
            [
             0,
             "#0d0887"
            ],
            [
             0.1111111111111111,
             "#46039f"
            ],
            [
             0.2222222222222222,
             "#7201a8"
            ],
            [
             0.3333333333333333,
             "#9c179e"
            ],
            [
             0.4444444444444444,
             "#bd3786"
            ],
            [
             0.5555555555555556,
             "#d8576b"
            ],
            [
             0.6666666666666666,
             "#ed7953"
            ],
            [
             0.7777777777777778,
             "#fb9f3a"
            ],
            [
             0.8888888888888888,
             "#fdca26"
            ],
            [
             1,
             "#f0f921"
            ]
           ]
          },
          "colorway": [
           "#636efa",
           "#EF553B",
           "#00cc96",
           "#ab63fa",
           "#FFA15A",
           "#19d3f3",
           "#FF6692",
           "#B6E880",
           "#FF97FF",
           "#FECB52"
          ],
          "font": {
           "color": "#2a3f5f"
          },
          "geo": {
           "bgcolor": "white",
           "lakecolor": "white",
           "landcolor": "#E5ECF6",
           "showlakes": true,
           "showland": true,
           "subunitcolor": "white"
          },
          "hoverlabel": {
           "align": "left"
          },
          "hovermode": "closest",
          "mapbox": {
           "style": "light"
          },
          "paper_bgcolor": "white",
          "plot_bgcolor": "#E5ECF6",
          "polar": {
           "angularaxis": {
            "gridcolor": "white",
            "linecolor": "white",
            "ticks": ""
           },
           "bgcolor": "#E5ECF6",
           "radialaxis": {
            "gridcolor": "white",
            "linecolor": "white",
            "ticks": ""
           }
          },
          "scene": {
           "xaxis": {
            "backgroundcolor": "#E5ECF6",
            "gridcolor": "white",
            "gridwidth": 2,
            "linecolor": "white",
            "showbackground": true,
            "ticks": "",
            "zerolinecolor": "white"
           },
           "yaxis": {
            "backgroundcolor": "#E5ECF6",
            "gridcolor": "white",
            "gridwidth": 2,
            "linecolor": "white",
            "showbackground": true,
            "ticks": "",
            "zerolinecolor": "white"
           },
           "zaxis": {
            "backgroundcolor": "#E5ECF6",
            "gridcolor": "white",
            "gridwidth": 2,
            "linecolor": "white",
            "showbackground": true,
            "ticks": "",
            "zerolinecolor": "white"
           }
          },
          "shapedefaults": {
           "line": {
            "color": "#2a3f5f"
           }
          },
          "ternary": {
           "aaxis": {
            "gridcolor": "white",
            "linecolor": "white",
            "ticks": ""
           },
           "baxis": {
            "gridcolor": "white",
            "linecolor": "white",
            "ticks": ""
           },
           "bgcolor": "#E5ECF6",
           "caxis": {
            "gridcolor": "white",
            "linecolor": "white",
            "ticks": ""
           }
          },
          "title": {
           "x": 0.05
          },
          "xaxis": {
           "automargin": true,
           "gridcolor": "white",
           "linecolor": "white",
           "ticks": "",
           "title": {
            "standoff": 15
           },
           "zerolinecolor": "white",
           "zerolinewidth": 2
          },
          "yaxis": {
           "automargin": true,
           "gridcolor": "white",
           "linecolor": "white",
           "ticks": "",
           "title": {
            "standoff": 15
           },
           "zerolinecolor": "white",
           "zerolinewidth": 2
          }
         }
        },
        "title": {
         "text": "Structure with Highlighted Sites"
        }
       }
      }
     },
     "metadata": {},
     "output_type": "display_data"
    }
   ],
   "source": [
    "import numpy as np\n",
    "from pymatgen.core.structure import Structure\n",
    "from pymatgen.core.sites import Site\n",
    "import plotly.graph_objects as go\n",
    "from collections import defaultdict\n",
    "import itertools\n",
    "from pymatgen.analysis.local_env import VoronoiNN\n",
    "import random\n",
    "\n",
    "# Define a list of colors for different elements\n",
    "color_cycle = itertools.cycle([\n",
    "    'blue', 'green', 'orange', 'purple', 'brown', 'pink', 'gray', 'cyan', 'magenta'\n",
    "])\n",
    "\n",
    "def custom_distance(site1: Site, site2: Site) -> float:\n",
    "    # Geometric distance\n",
    "    geometric_dist = site1.distance(site2)\n",
    "    \n",
    "    # Chemical composition distance (difference in electronegativity)\n",
    "    element1 = list(site1.species.elements)[0]\n",
    "    element2 = list(site2.species.elements)[0]\n",
    "    composition_dist = (element1.X - element2.X) ** 2\n",
    "    \n",
    "    # Debugging print statements\n",
    "    #print(f\"Geometric distance between {element1} and {element2}: {geometric_dist}\")\n",
    "    #print(f\"Electronegativity difference squared: {composition_dist}\")\n",
    "    \n",
    "    # Combined distance\n",
    "    combined_dist = geometric_dist + composition_dist\n",
    "    #print(f\"Combined distance: {combined_dist}\\n\")\n",
    "    \n",
    "    return combined_dist\n",
    "\n",
    "def identify_highest_complexity_sites(structure, top_n=3, concentration_threshold=0.5):\n",
    "    sites = structure.sites\n",
    "    complexity_scores = np.zeros(len(sites))\n",
    "    \n",
    "    for i, site1 in enumerate(sites):\n",
    "        for site2 in sites:\n",
    "            complexity_scores[i] += custom_distance(site1, site2)\n",
    "    \n",
    "    top_indices = complexity_scores.argsort()[::-1]\n",
    "    \n",
    "    element_counts = defaultdict(int)\n",
    "    for site in sites:\n",
    "        element_counts[str(site.species)] += 1\n",
    "    \n",
    "    vnn = VoronoiNN()\n",
    "    selected_sites = []\n",
    "    selected_neighbors = set()\n",
    "\n",
    "    for index in top_indices:\n",
    "        if len(selected_sites) >= top_n:\n",
    "            break\n",
    "        site = sites[index]\n",
    "        element = str(site.species)\n",
    "\n",
    "        if element_counts[element] > 2 or (element_counts[element] > 1 and element_counts[element] - 1 >= (1 - concentration_threshold) * element_counts[element]):\n",
    "            neighbors = set(n['site_index'] for n in vnn.get_nn_info(structure, index))\n",
    "\n",
    "            if not selected_neighbors.intersection(neighbors):\n",
    "                selected_sites.append(site)\n",
    "                selected_neighbors.update(neighbors)\n",
    "                element_counts[element] -= 1\n",
    "        else:\n",
    "            # Find a nearby site with comparable complexity and an element with more than 2 in the structure\n",
    "            min_dist = float('inf')\n",
    "            best_site = None\n",
    "            best_index = None\n",
    "            for other_index, other_site in enumerate(sites):\n",
    "                other_element = str(other_site.species)\n",
    "                if other_site not in selected_sites and element_counts[other_element] > 2:\n",
    "                    dist = site.distance(other_site)\n",
    "                    if dist < min_dist and complexity_scores[other_index] >= complexity_scores[index] * 0.9:\n",
    "                        neighbors = set(n['site_index'] for n in vnn.get_nn_info(structure, other_index))\n",
    "                        if not selected_neighbors.intersection(neighbors):\n",
    "                            min_dist = dist\n",
    "                            best_site = other_site\n",
    "                            best_index = other_index\n",
    "            if best_site:\n",
    "                selected_sites.append(best_site)\n",
    "                selected_neighbors.update(neighbors)\n",
    "                element_counts[str(best_site.species)] -= 1\n",
    "\n",
    "    # If we don't have enough sites, add more based on distance\n",
    "    while len(selected_sites) < top_n:\n",
    "        for _ in range(top_n - len(selected_sites)):\n",
    "            for index in range(len(sites)):\n",
    "                if sites[index] not in selected_sites:\n",
    "                    neighbors = set(n['site_index'] for n in vnn.get_nn_info(structure, index))\n",
    "                    if not selected_neighbors.intersection(neighbors):\n",
    "                        selected_sites.append(sites[index])\n",
    "                        selected_neighbors.update(neighbors)\n",
    "                        break\n",
    "\n",
    "    return selected_sites\n",
    "\n",
    "def plot_structure_with_highlighted_sites(structure, top_sites):\n",
    "    fig = go.Figure()\n",
    "    \n",
    "    element_colors = defaultdict(lambda: next(color_cycle))\n",
    "    \n",
    "    # Plot all sites by element type\n",
    "    for site in structure:\n",
    "        element = str(site.species)\n",
    "        color = element_colors[element]\n",
    "        fig.add_trace(go.Scatter3d(\n",
    "            x=[site.x],\n",
    "            y=[site.y],\n",
    "            z=[site.z],\n",
    "            mode='markers',\n",
    "            marker=dict(size=5, color=color),\n",
    "            name=element,\n",
    "            legendgroup=element,\n",
    "            showlegend=True\n",
    "        ))\n",
    "\n",
    "    # Highlight top sites\n",
    "    for site in top_sites:\n",
    "        element = str(site.species)\n",
    "        fig.add_trace(go.Scatter3d(\n",
    "            x=[site.x],\n",
    "            y=[site.y],\n",
    "            z=[site.z],\n",
    "            mode='markers',\n",
    "            marker=dict(size=10, color='red', symbol='diamond'),\n",
    "            name=f'Highlighted {element}',\n",
    "            legendgroup=f'Highlighted {element}',\n",
    "            showlegend=True\n",
    "        ))\n",
    "\n",
    "    # Update layout for better visualization\n",
    "    fig.update_layout(scene=dict(\n",
    "        xaxis_title='X',\n",
    "        yaxis_title='Y',\n",
    "        zaxis_title='Z'),\n",
    "        title=\"Structure with Highlighted Sites\"\n",
    "    )\n",
    "\n",
    "    fig.show()\n",
    "\n",
    "import random\n",
    "from pymatgen.core.structure import Structure\n",
    "\n",
    "def randomly_pick_sites(structure, n):\n",
    "    # Ensure that n is not greater than the number of sites in the structure\n",
    "    if n > len(structure.sites):\n",
    "        raise ValueError(\"The number of sites to pick cannot be greater than the number of sites in the structure.\")\n",
    "    \n",
    "    # Randomly select n sites from the structure\n",
    "    random_sites = random.sample(structure.sites, n)\n",
    "    return random_sites\n",
    "\n",
    "# Example usage:\n",
    "# Load your structure\n",
    "#structure = Structure.from_file(\"POSCAR\")\n",
    "\n",
    "# Randomly pick 5 sites from the supercell\n",
    "\n",
    "# Print the coordinates of the randomly selected sites\n",
    "#for site in random_sites:\n",
    "    #print(f\"Element: {site.species}, Coordinates: {site.coords}\")\n",
    "\n",
    "# Example usage:\n",
    "# Load your structure\n",
    "#structure = Structure.from_file(\"POSCAR\")\n",
    "\n",
    "# Identify the top sites with highest chemical complexity\n",
    "top_sites = identify_highest_complexity_sites(structure, top_n=5, concentration_threshold=0.2)\n",
    "\n",
    "# Plot the structure and highlight the top sites\n",
    "plot_structure_with_highlighted_sites(structure, top_sites)\n"
   ]
  },
  {
   "cell_type": "code",
   "execution_count": 92,
   "metadata": {},
   "outputs": [
    {
     "data": {
      "application/vnd.plotly.v1+json": {
       "config": {
        "plotlyServerURL": "https://plot.ly"
       },
       "data": [
        {
         "legendgroup": "Zr1",
         "marker": {
          "color": "gray",
          "size": 5
         },
         "mode": "markers",
         "name": "Zr1",
         "showlegend": true,
         "type": "scatter3d",
         "x": [
          2.935539908367452
         ],
         "y": [
          3.0339065864841785
         ],
         "z": [
          9.016475529269893
         ]
        },
        {
         "legendgroup": "Ta1",
         "marker": {
          "color": "cyan",
          "size": 5
         },
         "mode": "markers",
         "name": "Ta1",
         "showlegend": true,
         "type": "scatter3d",
         "x": [
          6.037510269155591
         ],
         "y": [
          -5.981591358276833
         ],
         "z": [
          5.98944340541853
         ]
        },
        {
         "legendgroup": "Ti1",
         "marker": {
          "color": "magenta",
          "size": 5
         },
         "mode": "markers",
         "name": "Ti1",
         "showlegend": true,
         "type": "scatter3d",
         "x": [
          4.491703154342272
         ],
         "y": [
          10.542946095625187
         ],
         "z": [
          -1.4973270978324267
         ]
        },
        {
         "legendgroup": "Ti1",
         "marker": {
          "color": "magenta",
          "size": 5
         },
         "mode": "markers",
         "name": "Ti1",
         "showlegend": true,
         "type": "scatter3d",
         "x": [
          0.009932843196155616
         ],
         "y": [
          9.023713328657669
         ],
         "z": [
          6.00128974490947
         ]
        },
        {
         "legendgroup": "Ti1",
         "marker": {
          "color": "magenta",
          "size": 5
         },
         "mode": "markers",
         "name": "Ti1",
         "showlegend": true,
         "type": "scatter3d",
         "x": [
          9.012453199806988
         ],
         "y": [
          -3.023294755328025
         ],
         "z": [
          3.0734197901516564
         ]
        },
        {
         "legendgroup": "V1",
         "marker": {
          "color": "blue",
          "size": 5
         },
         "mode": "markers",
         "name": "V1",
         "showlegend": true,
         "type": "scatter3d",
         "x": [
          -5.995475520030445
         ],
         "y": [
          6.026669300917146
         ],
         "z": [
          6.019444831705289
         ]
        },
        {
         "legendgroup": "V1",
         "marker": {
          "color": "blue",
          "size": 5
         },
         "mode": "markers",
         "name": "V1",
         "showlegend": true,
         "type": "scatter3d",
         "x": [
          10.496343967536676
         ],
         "y": [
          4.521259782759586
         ],
         "z": [
          4.54739528161071
         ]
        },
        {
         "legendgroup": "V1",
         "marker": {
          "color": "blue",
          "size": 5
         },
         "mode": "markers",
         "name": "V1",
         "showlegend": true,
         "type": "scatter3d",
         "x": [
          -4.50910299899971
         ],
         "y": [
          4.5461296913777485
         ],
         "z": [
          7.431335773639004
         ]
        },
        {
         "legendgroup": "V1",
         "marker": {
          "color": "blue",
          "size": 5
         },
         "mode": "markers",
         "name": "V1",
         "showlegend": true,
         "type": "scatter3d",
         "x": [
          -4.512723998373536
         ],
         "y": [
          7.547965719085857
         ],
         "z": [
          4.5179196805930175
         ]
        },
        {
         "legendgroup": "V1",
         "marker": {
          "color": "blue",
          "size": 5
         },
         "mode": "markers",
         "name": "V1",
         "showlegend": true,
         "type": "scatter3d",
         "x": [
          4.5068556602739624
         ],
         "y": [
          -4.503456981975983
         ],
         "z": [
          10.524836981818368
         ]
        },
        {
         "legendgroup": "V1",
         "marker": {
          "color": "blue",
          "size": 5
         },
         "mode": "markers",
         "name": "V1",
         "showlegend": true,
         "type": "scatter3d",
         "x": [
          4.5216370855914665
         ],
         "y": [
          10.521795770005527
         ],
         "z": [
          1.5246577010584277
         ]
        },
        {
         "legendgroup": "V1",
         "marker": {
          "color": "blue",
          "size": 5
         },
         "mode": "markers",
         "name": "V1",
         "showlegend": true,
         "type": "scatter3d",
         "x": [
          4.485115242927387
         ],
         "y": [
          -1.5178200428926916
         ],
         "z": [
          10.47451003728828
         ]
        },
        {
         "legendgroup": "V1",
         "marker": {
          "color": "blue",
          "size": 5
         },
         "mode": "markers",
         "name": "V1",
         "showlegend": true,
         "type": "scatter3d",
         "x": [
          -2.9504325006656535
         ],
         "y": [
          6.08224065736146
         ],
         "z": [
          6.003853323591471
         ]
        },
        {
         "legendgroup": "V1",
         "marker": {
          "color": "blue",
          "size": 5
         },
         "mode": "markers",
         "name": "V1",
         "showlegend": true,
         "type": "scatter3d",
         "x": [
          4.505841656789977
         ],
         "y": [
          1.4155254804137662
         ],
         "z": [
          10.511806214247377
         ]
        },
        {
         "legendgroup": "V1",
         "marker": {
          "color": "blue",
          "size": 5
         },
         "mode": "markers",
         "name": "V1",
         "showlegend": true,
         "type": "scatter3d",
         "x": [
          6.0215171887554115
         ],
         "y": [
          -6.017117811839822
         ],
         "z": [
          9.019568395253803
         ]
        },
        {
         "legendgroup": "V1",
         "marker": {
          "color": "blue",
          "size": 5
         },
         "mode": "markers",
         "name": "V1",
         "showlegend": true,
         "type": "scatter3d",
         "x": [
          6.0072619540077286
         ],
         "y": [
          9.02023510868992
         ],
         "z": [
          -3.0090267238867474
         ]
        },
        {
         "legendgroup": "V1",
         "marker": {
          "color": "blue",
          "size": 5
         },
         "mode": "markers",
         "name": "V1",
         "showlegend": true,
         "type": "scatter3d",
         "x": [
          6.022817427949655
         ],
         "y": [
          9.00671047810144
         ],
         "z": [
          0.008438891172966478
         ]
        },
        {
         "legendgroup": "V1",
         "marker": {
          "color": "blue",
          "size": 5
         },
         "mode": "markers",
         "name": "V1",
         "showlegend": true,
         "type": "scatter3d",
         "x": [
          6.025203735695498
         ],
         "y": [
          9.014961673908426
         ],
         "z": [
          2.9928219743408464
         ]
        },
        {
         "legendgroup": "V1",
         "marker": {
          "color": "blue",
          "size": 5
         },
         "mode": "markers",
         "name": "V1",
         "showlegend": true,
         "type": "scatter3d",
         "x": [
          6.026310901568302
         ],
         "y": [
          -2.94635572034454
         ],
         "z": [
          9.004768291637973
         ]
        },
        {
         "legendgroup": "V1",
         "marker": {
          "color": "blue",
          "size": 5
         },
         "mode": "markers",
         "name": "V1",
         "showlegend": true,
         "type": "scatter3d",
         "x": [
          -1.4937289483201766
         ],
         "y": [
          4.594702087150917
         ],
         "z": [
          4.546229832314069
         ]
        },
        {
         "legendgroup": "V1",
         "marker": {
          "color": "blue",
          "size": 5
         },
         "mode": "markers",
         "name": "V1",
         "showlegend": true,
         "type": "scatter3d",
         "x": [
          -1.519682885978355
         ],
         "y": [
          4.5079267362355395
         ],
         "z": [
          7.519478390146276
         ]
        },
        {
         "legendgroup": "V1",
         "marker": {
          "color": "blue",
          "size": 5
         },
         "mode": "markers",
         "name": "V1",
         "showlegend": true,
         "type": "scatter3d",
         "x": [
          -1.449991903551141
         ],
         "y": [
          7.509832899046741
         ],
         "z": [
          1.5012211618371623
         ]
        },
        {
         "legendgroup": "V1",
         "marker": {
          "color": "blue",
          "size": 5
         },
         "mode": "markers",
         "name": "V1",
         "showlegend": true,
         "type": "scatter3d",
         "x": [
          -1.425205764677181
         ],
         "y": [
          7.484632993470603
         ],
         "z": [
          4.5241878293437745
         ]
        },
        {
         "legendgroup": "V1",
         "marker": {
          "color": "blue",
          "size": 5
         },
         "mode": "markers",
         "name": "V1",
         "showlegend": true,
         "type": "scatter3d",
         "x": [
          6.000092184094461
         ],
         "y": [
          2.9694490907219437
         ],
         "z": [
          9.010461012757307
         ]
        },
        {
         "legendgroup": "V1",
         "marker": {
          "color": "blue",
          "size": 5
         },
         "mode": "markers",
         "name": "V1",
         "showlegend": true,
         "type": "scatter3d",
         "x": [
          0.023434188472279516
         ],
         "y": [
          0.037851010728415346
         ],
         "z": [
          14.973563214364832
         ]
        },
        {
         "legendgroup": "V1",
         "marker": {
          "color": "blue",
          "size": 5
         },
         "mode": "markers",
         "name": "V1",
         "showlegend": true,
         "type": "scatter3d",
         "x": [
          0.004381245510542309
         ],
         "y": [
          -0.003952974500150086
         ],
         "z": [
          3.0275359521381286
         ]
        },
        {
         "legendgroup": "V1",
         "marker": {
          "color": "blue",
          "size": 5
         },
         "mode": "markers",
         "name": "V1",
         "showlegend": true,
         "type": "scatter3d",
         "x": [
          0.030600259670918728
         ],
         "y": [
          0.05888734783999139
         ],
         "z": [
          6.064220136492532
         ]
        },
        {
         "legendgroup": "V1",
         "marker": {
          "color": "blue",
          "size": 5
         },
         "mode": "markers",
         "name": "V1",
         "showlegend": true,
         "type": "scatter3d",
         "x": [
          7.525109671257633
         ],
         "y": [
          7.524757822800902
         ],
         "z": [
          1.5207123562299585
         ]
        },
        {
         "legendgroup": "V1",
         "marker": {
          "color": "blue",
          "size": 5
         },
         "mode": "markers",
         "name": "V1",
         "showlegend": true,
         "type": "scatter3d",
         "x": [
          -0.0016794338896546825
         ],
         "y": [
          2.993570044248688
         ],
         "z": [
          0.008805867276572982
         ]
        },
        {
         "legendgroup": "V1",
         "marker": {
          "color": "blue",
          "size": 5
         },
         "mode": "markers",
         "name": "V1",
         "showlegend": true,
         "type": "scatter3d",
         "x": [
          -0.05549405833563492
         ],
         "y": [
          3.0758376458914087
         ],
         "z": [
          5.9871570546614805
         ]
        },
        {
         "legendgroup": "V1",
         "marker": {
          "color": "blue",
          "size": 5
         },
         "mode": "markers",
         "name": "V1",
         "showlegend": true,
         "type": "scatter3d",
         "x": [
          -0.0004292649094725931
         ],
         "y": [
          3.028264898776886
         ],
         "z": [
          9.012770250209826
         ]
        },
        {
         "legendgroup": "V1",
         "marker": {
          "color": "blue",
          "size": 5
         },
         "mode": "markers",
         "name": "V1",
         "showlegend": true,
         "type": "scatter3d",
         "x": [
          7.534449020555859
         ],
         "y": [
          -1.497188530598729
         ],
         "z": [
          7.515457288245195
         ]
        },
        {
         "legendgroup": "V1",
         "marker": {
          "color": "blue",
          "size": 5
         },
         "mode": "markers",
         "name": "V1",
         "showlegend": true,
         "type": "scatter3d",
         "x": [
          0.007899194228184081
         ],
         "y": [
          6.004104870082699
         ],
         "z": [
          3.007251167982652
         ]
        },
        {
         "legendgroup": "V1",
         "marker": {
          "color": "blue",
          "size": 5
         },
         "mode": "markers",
         "name": "V1",
         "showlegend": true,
         "type": "scatter3d",
         "x": [
          0.08100656756034397
         ],
         "y": [
          5.982719966704957
         ],
         "z": [
          6.006089356931647
         ]
        },
        {
         "legendgroup": "V1",
         "marker": {
          "color": "blue",
          "size": 5
         },
         "mode": "markers",
         "name": "V1",
         "showlegend": true,
         "type": "scatter3d",
         "x": [
          0.03858373865241384
         ],
         "y": [
          9.033934945743535
         ],
         "z": [
          0.009105396138638805
         ]
        },
        {
         "legendgroup": "V1",
         "marker": {
          "color": "blue",
          "size": 5
         },
         "mode": "markers",
         "name": "V1",
         "showlegend": true,
         "type": "scatter3d",
         "x": [
          0.013210048278616382
         ],
         "y": [
          8.99493481520072
         ],
         "z": [
          3.017237610561346
         ]
        },
        {
         "legendgroup": "V1",
         "marker": {
          "color": "blue",
          "size": 5
         },
         "mode": "markers",
         "name": "V1",
         "showlegend": true,
         "type": "scatter3d",
         "x": [
          -6.006665611156882
         ],
         "y": [
          6.014269512054665
         ],
         "z": [
          9.035049327470087
         ]
        },
        {
         "legendgroup": "V1",
         "marker": {
          "color": "blue",
          "size": 5
         },
         "mode": "markers",
         "name": "V1",
         "showlegend": true,
         "type": "scatter3d",
         "x": [
          8.958079460557295
         ],
         "y": [
          5.990063526813988
         ],
         "z": [
          -0.03546710110536111
         ]
        },
        {
         "legendgroup": "V1",
         "marker": {
          "color": "blue",
          "size": 5
         },
         "mode": "markers",
         "name": "V1",
         "showlegend": true,
         "type": "scatter3d",
         "x": [
          8.994590336993744
         ],
         "y": [
          5.978395381130377
         ],
         "z": [
          2.978401617635566
         ]
        },
        {
         "legendgroup": "V1",
         "marker": {
          "color": "blue",
          "size": 5
         },
         "mode": "markers",
         "name": "V1",
         "showlegend": true,
         "type": "scatter3d",
         "x": [
          -6.006843877222628
         ],
         "y": [
          8.952871108056616
         ],
         "z": [
          6.044207187455872
         ]
        },
        {
         "legendgroup": "V1",
         "marker": {
          "color": "blue",
          "size": 5
         },
         "mode": "markers",
         "name": "V1",
         "showlegend": true,
         "type": "scatter3d",
         "x": [
          1.5122182244400988
         ],
         "y": [
          1.5134486470860624
         ],
         "z": [
          1.50033125423406
         ]
        },
        {
         "legendgroup": "V1",
         "marker": {
          "color": "blue",
          "size": 5
         },
         "mode": "markers",
         "name": "V1",
         "showlegend": true,
         "type": "scatter3d",
         "x": [
          1.482199599574474
         ],
         "y": [
          1.5021183424685365
         ],
         "z": [
          4.567573828294592
         ]
        },
        {
         "legendgroup": "V1",
         "marker": {
          "color": "blue",
          "size": 5
         },
         "mode": "markers",
         "name": "V1",
         "showlegend": true,
         "type": "scatter3d",
         "x": [
          1.5632032570232917
         ],
         "y": [
          1.5079209403028928
         ],
         "z": [
          7.549848451954178
         ]
        },
        {
         "legendgroup": "V1",
         "marker": {
          "color": "blue",
          "size": 5
         },
         "mode": "markers",
         "name": "V1",
         "showlegend": true,
         "type": "scatter3d",
         "x": [
          1.4919187535288465
         ],
         "y": [
          1.5026836157502395
         ],
         "z": [
          10.478201083647468
         ]
        },
        {
         "legendgroup": "V1",
         "marker": {
          "color": "blue",
          "size": 5
         },
         "mode": "markers",
         "name": "V1",
         "showlegend": true,
         "type": "scatter3d",
         "x": [
          1.5433608373246666
         ],
         "y": [
          4.515505260451703
         ],
         "z": [
          -1.5127039550579255
         ]
        },
        {
         "legendgroup": "V1",
         "marker": {
          "color": "blue",
          "size": 5
         },
         "mode": "markers",
         "name": "V1",
         "showlegend": true,
         "type": "scatter3d",
         "x": [
          1.5508907471536333
         ],
         "y": [
          4.532990394475139
         ],
         "z": [
          1.4949844938871444
         ]
        },
        {
         "legendgroup": "V1",
         "marker": {
          "color": "blue",
          "size": 5
         },
         "mode": "markers",
         "name": "V1",
         "showlegend": true,
         "type": "scatter3d",
         "x": [
          1.5034217702335801
         ],
         "y": [
          4.561231112098215
         ],
         "z": [
          4.5489271327357494
         ]
        },
        {
         "legendgroup": "V1",
         "marker": {
          "color": "blue",
          "size": 5
         },
         "mode": "markers",
         "name": "V1",
         "showlegend": true,
         "type": "scatter3d",
         "x": [
          1.4756403576941604
         ],
         "y": [
          4.572153536209705
         ],
         "z": [
          7.5441789209237395
         ]
        },
        {
         "legendgroup": "V1",
         "marker": {
          "color": "blue",
          "size": 5
         },
         "mode": "markers",
         "name": "V1",
         "showlegend": true,
         "type": "scatter3d",
         "x": [
          9.092513981236001
         ],
         "y": [
          0.00336589434010115
         ],
         "z": [
          5.94565813185514
         ]
        },
        {
         "legendgroup": "V1",
         "marker": {
          "color": "blue",
          "size": 5
         },
         "mode": "markers",
         "name": "V1",
         "showlegend": true,
         "type": "scatter3d",
         "x": [
          1.5133148731990331
         ],
         "y": [
          7.478268176923503
         ],
         "z": [
          1.5206322025340346
         ]
        },
        {
         "legendgroup": "V1",
         "marker": {
          "color": "blue",
          "size": 5
         },
         "mode": "markers",
         "name": "V1",
         "showlegend": true,
         "type": "scatter3d",
         "x": [
          1.458555183876383
         ],
         "y": [
          7.491282965688114
         ],
         "z": [
          4.54668675058526
         ]
        },
        {
         "legendgroup": "V1",
         "marker": {
          "color": "blue",
          "size": 5
         },
         "mode": "markers",
         "name": "V1",
         "showlegend": true,
         "type": "scatter3d",
         "x": [
          8.989250097441987
         ],
         "y": [
          2.9672813734268733
         ],
         "z": [
          6.024949396035535
         ]
        },
        {
         "legendgroup": "V1",
         "marker": {
          "color": "blue",
          "size": 5
         },
         "mode": "markers",
         "name": "V1",
         "showlegend": true,
         "type": "scatter3d",
         "x": [
          1.4647944896300986
         ],
         "y": [
          10.570678592867557
         ],
         "z": [
          1.485889363002999
         ]
        },
        {
         "legendgroup": "V1",
         "marker": {
          "color": "blue",
          "size": 5
         },
         "mode": "markers",
         "name": "V1",
         "showlegend": true,
         "type": "scatter3d",
         "x": [
          3.0026461198273826
         ],
         "y": [
          -3.0007583703252276
         ],
         "z": [
          3.012481387774622
         ]
        },
        {
         "legendgroup": "V1",
         "marker": {
          "color": "blue",
          "size": 5
         },
         "mode": "markers",
         "name": "V1",
         "showlegend": true,
         "type": "scatter3d",
         "x": [
          10.510504599550355
         ],
         "y": [
          4.516343243902436
         ],
         "z": [
          -1.511302331785858
         ]
        },
        {
         "legendgroup": "V1",
         "marker": {
          "color": "blue",
          "size": 5
         },
         "mode": "markers",
         "name": "V1",
         "showlegend": true,
         "type": "scatter3d",
         "x": [
          3.0051488404595177
         ],
         "y": [
          -0.003627052663519814
         ],
         "z": [
          0.01808506229807305
         ]
        },
        {
         "legendgroup": "V1",
         "marker": {
          "color": "blue",
          "size": 5
         },
         "mode": "markers",
         "name": "V1",
         "showlegend": true,
         "type": "scatter3d",
         "x": [
          2.998008081637388
         ],
         "y": [
          -0.02302773366139199
         ],
         "z": [
          2.9815367702402584
         ]
        },
        {
         "legendgroup": "V1",
         "marker": {
          "color": "blue",
          "size": 5
         },
         "mode": "markers",
         "name": "V1",
         "showlegend": true,
         "type": "scatter3d",
         "x": [
          3.000259370959527
         ],
         "y": [
          0.010853026174151736
         ],
         "z": [
          6.012169903131462
         ]
        },
        {
         "legendgroup": "V1",
         "marker": {
          "color": "blue",
          "size": 5
         },
         "mode": "markers",
         "name": "V1",
         "showlegend": true,
         "type": "scatter3d",
         "x": [
          3.015274201887316
         ],
         "y": [
          0.010654916465067998
         ],
         "z": [
          9.030668838620807
         ]
        },
        {
         "legendgroup": "V1",
         "marker": {
          "color": "blue",
          "size": 5
         },
         "mode": "markers",
         "name": "V1",
         "showlegend": true,
         "type": "scatter3d",
         "x": [
          3.0773904895886997
         ],
         "y": [
          3.0752596039391262
         ],
         "z": [
          -2.984344106494035
         ]
        },
        {
         "legendgroup": "V1",
         "marker": {
          "color": "blue",
          "size": 5
         },
         "mode": "markers",
         "name": "V1",
         "showlegend": true,
         "type": "scatter3d",
         "x": [
          3.005051368800529
         ],
         "y": [
          2.9641710853371883
         ],
         "z": [
          0.07533546416941661
         ]
        },
        {
         "legendgroup": "V1",
         "marker": {
          "color": "blue",
          "size": 5
         },
         "mode": "markers",
         "name": "V1",
         "showlegend": true,
         "type": "scatter3d",
         "x": [
          3.022618560583277
         ],
         "y": [
          2.938304225627022
         ],
         "z": [
          2.985649476408345
         ]
        },
        {
         "legendgroup": "V1",
         "marker": {
          "color": "blue",
          "size": 5
         },
         "mode": "markers",
         "name": "V1",
         "showlegend": true,
         "type": "scatter3d",
         "x": [
          3.03383776141397
         ],
         "y": [
          2.999839181865722
         ],
         "z": [
          6.053746815455785
         ]
        },
        {
         "legendgroup": "V1",
         "marker": {
          "color": "blue",
          "size": 5
         },
         "mode": "markers",
         "name": "V1",
         "showlegend": true,
         "type": "scatter3d",
         "x": [
          10.532764931122708
         ],
         "y": [
          -1.4949925208802295
         ],
         "z": [
          4.509581308778479
         ]
        },
        {
         "legendgroup": "V1",
         "marker": {
          "color": "blue",
          "size": 5
         },
         "mode": "markers",
         "name": "V1",
         "showlegend": true,
         "type": "scatter3d",
         "x": [
          3.0636146251558554
         ],
         "y": [
          5.951402983908172
         ],
         "z": [
          0.025999408674000746
         ]
        },
        {
         "legendgroup": "V1",
         "marker": {
          "color": "blue",
          "size": 5
         },
         "mode": "markers",
         "name": "V1",
         "showlegend": true,
         "type": "scatter3d",
         "x": [
          2.9991233128251427
         ],
         "y": [
          6.014515661209336
         ],
         "z": [
          2.9919105250730444
         ]
        },
        {
         "legendgroup": "V1",
         "marker": {
          "color": "blue",
          "size": 5
         },
         "mode": "markers",
         "name": "V1",
         "showlegend": true,
         "type": "scatter3d",
         "x": [
          3.0268691866841246
         ],
         "y": [
          5.9857055472942555
         ],
         "z": [
          5.939429236773274
         ]
        },
        {
         "legendgroup": "V1",
         "marker": {
          "color": "blue",
          "size": 5
         },
         "mode": "markers",
         "name": "V1",
         "showlegend": true,
         "type": "scatter3d",
         "x": [
          2.9943120477102223
         ],
         "y": [
          8.988144059207652
         ],
         "z": [
          -0.0574878219852053
         ]
        },
        {
         "legendgroup": "V1",
         "marker": {
          "color": "blue",
          "size": 5
         },
         "mode": "markers",
         "name": "V1",
         "showlegend": true,
         "type": "scatter3d",
         "x": [
          2.980831798589913
         ],
         "y": [
          8.985940471411704
         ],
         "z": [
          3.0882842378843534
         ]
        },
        {
         "legendgroup": "V1",
         "marker": {
          "color": "blue",
          "size": 5
         },
         "mode": "markers",
         "name": "V1",
         "showlegend": true,
         "type": "scatter3d",
         "x": [
          4.467666532703816
         ],
         "y": [
          -4.430059641915006
         ],
         "z": [
          4.51840361644203
         ]
        },
        {
         "legendgroup": "V1",
         "marker": {
          "color": "blue",
          "size": 5
         },
         "mode": "markers",
         "name": "V1",
         "showlegend": true,
         "type": "scatter3d",
         "x": [
          12.022318818183198
         ],
         "y": [
          3.011079692066775
         ],
         "z": [
          -0.03234982196362868
         ]
        },
        {
         "legendgroup": "V1",
         "marker": {
          "color": "blue",
          "size": 5
         },
         "mode": "markers",
         "name": "V1",
         "showlegend": true,
         "type": "scatter3d",
         "x": [
          -2.9956252275013644
         ],
         "y": [
          5.977644973175835
         ],
         "z": [
          9.013998096138689
         ]
        },
        {
         "legendgroup": "V1",
         "marker": {
          "color": "blue",
          "size": 5
         },
         "mode": "markers",
         "name": "V1",
         "showlegend": true,
         "type": "scatter3d",
         "x": [
          4.549662987784599
         ],
         "y": [
          -1.479496033383355
         ],
         "z": [
          4.5886959724049134
         ]
        },
        {
         "legendgroup": "V1",
         "marker": {
          "color": "blue",
          "size": 5
         },
         "mode": "markers",
         "name": "V1",
         "showlegend": true,
         "type": "scatter3d",
         "x": [
          4.478279719603739
         ],
         "y": [
          -1.497436299719399
         ],
         "z": [
          7.465752022322549
         ]
        },
        {
         "legendgroup": "V1",
         "marker": {
          "color": "blue",
          "size": 5
         },
         "mode": "markers",
         "name": "V1",
         "showlegend": true,
         "type": "scatter3d",
         "x": [
          -3.0693137429699875
         ],
         "y": [
          8.998372742556626
         ],
         "z": [
          5.9612924101092535
         ]
        },
        {
         "legendgroup": "V1",
         "marker": {
          "color": "blue",
          "size": 5
         },
         "mode": "markers",
         "name": "V1",
         "showlegend": true,
         "type": "scatter3d",
         "x": [
          4.467255359350902
         ],
         "y": [
          1.505092817087902
         ],
         "z": [
          1.5209144876563645
         ]
        },
        {
         "legendgroup": "V1",
         "marker": {
          "color": "blue",
          "size": 5
         },
         "mode": "markers",
         "name": "V1",
         "showlegend": true,
         "type": "scatter3d",
         "x": [
          4.509180064052138
         ],
         "y": [
          1.517032316628086
         ],
         "z": [
          4.546961956014141
         ]
        },
        {
         "legendgroup": "V1",
         "marker": {
          "color": "blue",
          "size": 5
         },
         "mode": "markers",
         "name": "V1",
         "showlegend": true,
         "type": "scatter3d",
         "x": [
          4.513927905838525
         ],
         "y": [
          1.510405018136427
         ],
         "z": [
          7.540699046378544
         ]
        },
        {
         "legendgroup": "V1",
         "marker": {
          "color": "blue",
          "size": 5
         },
         "mode": "markers",
         "name": "V1",
         "showlegend": true,
         "type": "scatter3d",
         "x": [
          4.489602109436702
         ],
         "y": [
          4.55280554155556
         ],
         "z": [
          -4.440197537584152
         ]
        },
        {
         "legendgroup": "V1",
         "marker": {
          "color": "blue",
          "size": 5
         },
         "mode": "markers",
         "name": "V1",
         "showlegend": true,
         "type": "scatter3d",
         "x": [
          4.498153981301817
         ],
         "y": [
          4.512588167873498
         ],
         "z": [
          -1.5353084014142133
         ]
        },
        {
         "legendgroup": "V1",
         "marker": {
          "color": "blue",
          "size": 5
         },
         "mode": "markers",
         "name": "V1",
         "showlegend": true,
         "type": "scatter3d",
         "x": [
          4.565352916769381
         ],
         "y": [
          4.455486815206098
         ],
         "z": [
          1.5508419738651695
         ]
        },
        {
         "legendgroup": "V1",
         "marker": {
          "color": "blue",
          "size": 5
         },
         "mode": "markers",
         "name": "V1",
         "showlegend": true,
         "type": "scatter3d",
         "x": [
          4.497220579108564
         ],
         "y": [
          4.489338710356597
         ],
         "z": [
          4.534267365939243
         ]
        },
        {
         "legendgroup": "V1",
         "marker": {
          "color": "blue",
          "size": 5
         },
         "mode": "markers",
         "name": "V1",
         "showlegend": true,
         "type": "scatter3d",
         "x": [
          4.481337308261179
         ],
         "y": [
          4.521428533102043
         ],
         "z": [
          7.475927943642293
         ]
        },
        {
         "legendgroup": "V1",
         "marker": {
          "color": "blue",
          "size": 5
         },
         "mode": "markers",
         "name": "V1",
         "showlegend": true,
         "type": "scatter3d",
         "x": [
          4.510103028229922
         ],
         "y": [
          7.517795892108405
         ],
         "z": [
          -4.508752118124365
         ]
        },
        {
         "legendgroup": "V1",
         "marker": {
          "color": "blue",
          "size": 5
         },
         "mode": "markers",
         "name": "V1",
         "showlegend": true,
         "type": "scatter3d",
         "x": [
          4.53009539924002
         ],
         "y": [
          7.514344022423348
         ],
         "z": [
          -1.5318421300284286
         ]
        },
        {
         "legendgroup": "V1",
         "marker": {
          "color": "blue",
          "size": 5
         },
         "mode": "markers",
         "name": "V1",
         "showlegend": true,
         "type": "scatter3d",
         "x": [
          4.560576470227135
         ],
         "y": [
          7.556364591546171
         ],
         "z": [
          1.575796416379073
         ]
        },
        {
         "legendgroup": "V1",
         "marker": {
          "color": "blue",
          "size": 5
         },
         "mode": "markers",
         "name": "V1",
         "showlegend": true,
         "type": "scatter3d",
         "x": [
          4.495562955836894
         ],
         "y": [
          7.516899590757475
         ],
         "z": [
          4.59168169905349
         ]
        },
        {
         "legendgroup": "V1",
         "marker": {
          "color": "blue",
          "size": 5
         },
         "mode": "markers",
         "name": "V1",
         "showlegend": true,
         "type": "scatter3d",
         "x": [
          -1.4863910740233717
         ],
         "y": [
          4.4973612468968645
         ],
         "z": [
          10.529315778874224
         ]
        },
        {
         "legendgroup": "V1",
         "marker": {
          "color": "blue",
          "size": 5
         },
         "mode": "markers",
         "name": "V1",
         "showlegend": true,
         "type": "scatter3d",
         "x": [
          5.972421611408949
         ],
         "y": [
          -2.9635269176739163
         ],
         "z": [
          5.973378445112733
         ]
        },
        {
         "legendgroup": "V1",
         "marker": {
          "color": "blue",
          "size": 5
         },
         "mode": "markers",
         "name": "V1",
         "showlegend": true,
         "type": "scatter3d",
         "x": [
          -1.5279339288001546
         ],
         "y": [
          7.4564731794817565
         ],
         "z": [
          7.511577866889974
         ]
        },
        {
         "legendgroup": "V1",
         "marker": {
          "color": "blue",
          "size": 5
         },
         "mode": "markers",
         "name": "V1",
         "showlegend": true,
         "type": "scatter3d",
         "x": [
          6.00801515386549
         ],
         "y": [
          0.00779804876403567
         ],
         "z": [
          2.9543630624530053
         ]
        },
        {
         "legendgroup": "V1",
         "marker": {
          "color": "blue",
          "size": 5
         },
         "mode": "markers",
         "name": "V1",
         "showlegend": true,
         "type": "scatter3d",
         "x": [
          5.970209259991524
         ],
         "y": [
          0.05416062753597828
         ],
         "z": [
          6.0115105293276585
         ]
        },
        {
         "legendgroup": "V1",
         "marker": {
          "color": "blue",
          "size": 5
         },
         "mode": "markers",
         "name": "V1",
         "showlegend": true,
         "type": "scatter3d",
         "x": [
          5.938372576195652
         ],
         "y": [
          3.0185575220037677
         ],
         "z": [
          -3.008677890887533
         ]
        },
        {
         "legendgroup": "V1",
         "marker": {
          "color": "blue",
          "size": 5
         },
         "mode": "markers",
         "name": "V1",
         "showlegend": true,
         "type": "scatter3d",
         "x": [
          5.99392213045329
         ],
         "y": [
          2.964793611795702
         ],
         "z": [
          0.03488382477076346
         ]
        },
        {
         "legendgroup": "V1",
         "marker": {
          "color": "blue",
          "size": 5
         },
         "mode": "markers",
         "name": "V1",
         "showlegend": true,
         "type": "scatter3d",
         "x": [
          6.071025979801656
         ],
         "y": [
          2.9807599015748325
         ],
         "z": [
          6.024369452021534
         ]
        },
        {
         "legendgroup": "V1",
         "marker": {
          "color": "blue",
          "size": 5
         },
         "mode": "markers",
         "name": "V1",
         "showlegend": true,
         "type": "scatter3d",
         "x": [
          6.103117866464105
         ],
         "y": [
          6.063161046724318
         ],
         "z": [
          -2.9957644864829027
         ]
        },
        {
         "legendgroup": "V1",
         "marker": {
          "color": "blue",
          "size": 5
         },
         "mode": "markers",
         "name": "V1",
         "showlegend": true,
         "type": "scatter3d",
         "x": [
          5.986632068212668
         ],
         "y": [
          6.006557929461556
         ],
         "z": [
          -0.08533191533198803
         ]
        },
        {
         "legendgroup": "V1",
         "marker": {
          "color": "blue",
          "size": 5
         },
         "mode": "markers",
         "name": "V1",
         "showlegend": true,
         "type": "scatter3d",
         "x": [
          5.983848829937445
         ],
         "y": [
          6.008948802442412
         ],
         "z": [
          6.047077285113616
         ]
        },
        {
         "legendgroup": "V1",
         "marker": {
          "color": "blue",
          "size": 5
         },
         "mode": "markers",
         "name": "V1",
         "showlegend": true,
         "type": "scatter3d",
         "x": [
          -0.0033072381209144908
         ],
         "y": [
          3.0299434901369944
         ],
         "z": [
          12.010374619877885
         ]
        },
        {
         "legendgroup": "V1",
         "marker": {
          "color": "blue",
          "size": 5
         },
         "mode": "markers",
         "name": "V1",
         "showlegend": true,
         "type": "scatter3d",
         "x": [
          7.53009980903332
         ],
         "y": [
          -1.462092425426197
         ],
         "z": [
          1.553307469544491
         ]
        },
        {
         "legendgroup": "V1",
         "marker": {
          "color": "blue",
          "size": 5
         },
         "mode": "markers",
         "name": "V1",
         "showlegend": true,
         "type": "scatter3d",
         "x": [
          7.486622360933489
         ],
         "y": [
          -1.5364608651857177
         ],
         "z": [
          4.536927681187772
         ]
        },
        {
         "legendgroup": "V1",
         "marker": {
          "color": "blue",
          "size": 5
         },
         "mode": "markers",
         "name": "V1",
         "showlegend": true,
         "type": "scatter3d",
         "x": [
          7.52795039088392
         ],
         "y": [
          1.5516176045020185
         ],
         "z": [
          1.5527186880191306
         ]
        },
        {
         "legendgroup": "V1",
         "marker": {
          "color": "blue",
          "size": 5
         },
         "mode": "markers",
         "name": "V1",
         "showlegend": true,
         "type": "scatter3d",
         "x": [
          7.473826127557617
         ],
         "y": [
          1.508426965751588
         ],
         "z": [
          4.5862557540146796
         ]
        },
        {
         "legendgroup": "V1",
         "marker": {
          "color": "blue",
          "size": 5
         },
         "mode": "markers",
         "name": "V1",
         "showlegend": true,
         "type": "scatter3d",
         "x": [
          -0.04675117760082159
         ],
         "y": [
          12.038974957030726
         ],
         "z": [
          2.9967435746576503
         ]
        },
        {
         "legendgroup": "V1",
         "marker": {
          "color": "blue",
          "size": 5
         },
         "mode": "markers",
         "name": "V1",
         "showlegend": true,
         "type": "scatter3d",
         "x": [
          7.5088530359752585
         ],
         "y": [
          4.507002920003241
         ],
         "z": [
          -1.5076588125243742
         ]
        },
        {
         "legendgroup": "V1",
         "marker": {
          "color": "blue",
          "size": 5
         },
         "mode": "markers",
         "name": "V1",
         "showlegend": true,
         "type": "scatter3d",
         "x": [
          7.542617221843683
         ],
         "y": [
          4.595819888155657
         ],
         "z": [
          1.5376524722084075
         ]
        },
        {
         "legendgroup": "V1",
         "marker": {
          "color": "blue",
          "size": 5
         },
         "mode": "markers",
         "name": "V1",
         "showlegend": true,
         "type": "scatter3d",
         "x": [
          7.531374264801174
         ],
         "y": [
          4.536346983235263
         ],
         "z": [
          4.526854894101614
         ]
        },
        {
         "legendgroup": "V1",
         "marker": {
          "color": "blue",
          "size": 5
         },
         "mode": "markers",
         "name": "V1",
         "showlegend": true,
         "type": "scatter3d",
         "x": [
          9.029129362607364
         ],
         "y": [
          -0.002457641023593915
         ],
         "z": [
          0.011290218978133204
         ]
        },
        {
         "legendgroup": "V1",
         "marker": {
          "color": "blue",
          "size": 5
         },
         "mode": "markers",
         "name": "V1",
         "showlegend": true,
         "type": "scatter3d",
         "x": [
          9.014644008640422
         ],
         "y": [
          -0.012213357637469002
         ],
         "z": [
          3.059427895094997
         ]
        },
        {
         "legendgroup": "V1",
         "marker": {
          "color": "blue",
          "size": 5
         },
         "mode": "markers",
         "name": "V1",
         "showlegend": true,
         "type": "scatter3d",
         "x": [
          9.071794069774572
         ],
         "y": [
          3.0649078574341697
         ],
         "z": [
          -3.0211953228141413
         ]
        },
        {
         "legendgroup": "V1",
         "marker": {
          "color": "blue",
          "size": 5
         },
         "mode": "markers",
         "name": "V1",
         "showlegend": true,
         "type": "scatter3d",
         "x": [
          9.079718069485606
         ],
         "y": [
          2.9567998467930465
         ],
         "z": [
          -0.033316567629922744
         ]
        },
        {
         "legendgroup": "V1",
         "marker": {
          "color": "blue",
          "size": 5
         },
         "mode": "markers",
         "name": "V1",
         "showlegend": true,
         "type": "scatter3d",
         "x": [
          9.043309339965049
         ],
         "y": [
          3.0227618163544507
         ],
         "z": [
          3.0162447648950286
         ]
        },
        {
         "legendgroup": "V1",
         "marker": {
          "color": "blue",
          "size": 5
         },
         "mode": "markers",
         "name": "V1",
         "showlegend": true,
         "type": "scatter3d",
         "x": [
          2.9620483118243026
         ],
         "y": [
          6.015036553890277
         ],
         "z": [
          9.001284285024372
         ]
        },
        {
         "legendgroup": "V1",
         "marker": {
          "color": "blue",
          "size": 5
         },
         "mode": "markers",
         "name": "V1",
         "showlegend": true,
         "type": "scatter3d",
         "x": [
          10.554747678185066
         ],
         "y": [
          1.5534910364410086
         ],
         "z": [
          -1.5231736307028436
         ]
        },
        {
         "legendgroup": "V1",
         "marker": {
          "color": "blue",
          "size": 5
         },
         "mode": "markers",
         "name": "V1",
         "showlegend": true,
         "type": "scatter3d",
         "x": [
          10.579088032269743
         ],
         "y": [
          1.5412919506093186
         ],
         "z": [
          1.4445026589459022
         ]
        },
        {
         "legendgroup": "V1",
         "marker": {
          "color": "blue",
          "size": 5
         },
         "mode": "markers",
         "name": "V1",
         "showlegend": true,
         "type": "scatter3d",
         "x": [
          12.044405190391188
         ],
         "y": [
          -0.02760167701126459
         ],
         "z": [
          0.027831835315559772
         ]
        },
        {
         "legendgroup": "Cr1",
         "marker": {
          "color": "green",
          "size": 5
         },
         "mode": "markers",
         "name": "Cr1",
         "showlegend": true,
         "type": "scatter3d",
         "x": [
          -0.03773146244276382
         ],
         "y": [
          3.0649613217583185
         ],
         "z": [
          3.083865876693479
         ]
        },
        {
         "legendgroup": "Cr1",
         "marker": {
          "color": "green",
          "size": 5
         },
         "mode": "markers",
         "name": "Cr1",
         "showlegend": true,
         "type": "scatter3d",
         "x": [
          10.485524851315908
         ],
         "y": [
          4.535719577491522
         ],
         "z": [
          1.4762663334979065
         ]
        },
        {
         "legendgroup": "Cr1",
         "marker": {
          "color": "green",
          "size": 5
         },
         "mode": "markers",
         "name": "Cr1",
         "showlegend": true,
         "type": "scatter3d",
         "x": [
          3.0731192443193147
         ],
         "y": [
          9.047673962980108
         ],
         "z": [
          -3.0111585862015473
         ]
        },
        {
         "legendgroup": "W1",
         "marker": {
          "color": "orange",
          "size": 5
         },
         "mode": "markers",
         "name": "W1",
         "showlegend": true,
         "type": "scatter3d",
         "x": [
          7.483677200698224
         ],
         "y": [
          7.553485511793982
         ],
         "z": [
          4.457339821051203
         ]
        },
        {
         "legendgroup": "W1",
         "marker": {
          "color": "orange",
          "size": 5
         },
         "mode": "markers",
         "name": "W1",
         "showlegend": true,
         "type": "scatter3d",
         "x": [
          9.009030996487006
         ],
         "y": [
          5.998265768224007
         ],
         "z": [
          -2.954675765452149
         ]
        },
        {
         "legendgroup": "W1",
         "marker": {
          "color": "orange",
          "size": 5
         },
         "mode": "markers",
         "name": "W1",
         "showlegend": true,
         "type": "scatter3d",
         "x": [
          6.028408088111437
         ],
         "y": [
          3.0197574828262033
         ],
         "z": [
          2.988623422823256
         ]
        },
        {
         "legendgroup": "W1",
         "marker": {
          "color": "orange",
          "size": 5
         },
         "mode": "markers",
         "name": "W1",
         "showlegend": true,
         "type": "scatter3d",
         "x": [
          5.954984001178591
         ],
         "y": [
          5.990254243700596
         ],
         "z": [
          8.964509329846813
         ]
        },
        {
         "legendgroup": "W1",
         "marker": {
          "color": "orange",
          "size": 5
         },
         "mode": "markers",
         "name": "W1",
         "showlegend": true,
         "type": "scatter3d",
         "x": [
          5.9377319463649085
         ],
         "y": [
          6.0675793951852555
         ],
         "z": [
          3.0136033555629256
         ]
        },
        {
         "legendgroup": "Highlighted Cr1",
         "marker": {
          "color": "red",
          "size": 10,
          "symbol": "diamond"
         },
         "mode": "markers",
         "name": "Highlighted Cr1",
         "showlegend": true,
         "type": "scatter3d",
         "x": [
          10.485524851315908
         ],
         "y": [
          4.535719577491522
         ],
         "z": [
          1.4762663334979065
         ]
        },
        {
         "legendgroup": "Highlighted V1",
         "marker": {
          "color": "red",
          "size": 10,
          "symbol": "diamond"
         },
         "mode": "markers",
         "name": "Highlighted V1",
         "showlegend": true,
         "type": "scatter3d",
         "x": [
          4.5068556602739624
         ],
         "y": [
          -4.503456981975983
         ],
         "z": [
          10.524836981818368
         ]
        },
        {
         "legendgroup": "Highlighted V1",
         "marker": {
          "color": "red",
          "size": 10,
          "symbol": "diamond"
         },
         "mode": "markers",
         "name": "Highlighted V1",
         "showlegend": true,
         "type": "scatter3d",
         "x": [
          9.079718069485606
         ],
         "y": [
          2.9567998467930465
         ],
         "z": [
          -0.033316567629922744
         ]
        },
        {
         "legendgroup": "Highlighted V1",
         "marker": {
          "color": "red",
          "size": 10,
          "symbol": "diamond"
         },
         "mode": "markers",
         "name": "Highlighted V1",
         "showlegend": true,
         "type": "scatter3d",
         "x": [
          1.5122182244400988
         ],
         "y": [
          1.5134486470860624
         ],
         "z": [
          1.50033125423406
         ]
        },
        {
         "legendgroup": "Highlighted V1",
         "marker": {
          "color": "red",
          "size": 10,
          "symbol": "diamond"
         },
         "mode": "markers",
         "name": "Highlighted V1",
         "showlegend": true,
         "type": "scatter3d",
         "x": [
          4.478279719603739
         ],
         "y": [
          -1.497436299719399
         ],
         "z": [
          7.465752022322549
         ]
        },
        {
         "legendgroup": "Highlighted V1",
         "marker": {
          "color": "red",
          "size": 10,
          "symbol": "diamond"
         },
         "mode": "markers",
         "name": "Highlighted V1",
         "showlegend": true,
         "type": "scatter3d",
         "x": [
          10.510504599550355
         ],
         "y": [
          4.516343243902436
         ],
         "z": [
          -1.511302331785858
         ]
        },
        {
         "legendgroup": "Highlighted V1",
         "marker": {
          "color": "red",
          "size": 10,
          "symbol": "diamond"
         },
         "mode": "markers",
         "name": "Highlighted V1",
         "showlegend": true,
         "type": "scatter3d",
         "x": [
          8.989250097441987
         ],
         "y": [
          2.9672813734268733
         ],
         "z": [
          6.024949396035535
         ]
        },
        {
         "legendgroup": "Highlighted V1",
         "marker": {
          "color": "red",
          "size": 10,
          "symbol": "diamond"
         },
         "mode": "markers",
         "name": "Highlighted V1",
         "showlegend": true,
         "type": "scatter3d",
         "x": [
          6.00801515386549
         ],
         "y": [
          0.00779804876403567
         ],
         "z": [
          2.9543630624530053
         ]
        }
       ],
       "layout": {
        "scene": {
         "xaxis": {
          "title": {
           "text": "X"
          }
         },
         "yaxis": {
          "title": {
           "text": "Y"
          }
         },
         "zaxis": {
          "title": {
           "text": "Z"
          }
         }
        },
        "template": {
         "data": {
          "bar": [
           {
            "error_x": {
             "color": "#2a3f5f"
            },
            "error_y": {
             "color": "#2a3f5f"
            },
            "marker": {
             "line": {
              "color": "#E5ECF6",
              "width": 0.5
             },
             "pattern": {
              "fillmode": "overlay",
              "size": 10,
              "solidity": 0.2
             }
            },
            "type": "bar"
           }
          ],
          "barpolar": [
           {
            "marker": {
             "line": {
              "color": "#E5ECF6",
              "width": 0.5
             },
             "pattern": {
              "fillmode": "overlay",
              "size": 10,
              "solidity": 0.2
             }
            },
            "type": "barpolar"
           }
          ],
          "carpet": [
           {
            "aaxis": {
             "endlinecolor": "#2a3f5f",
             "gridcolor": "white",
             "linecolor": "white",
             "minorgridcolor": "white",
             "startlinecolor": "#2a3f5f"
            },
            "baxis": {
             "endlinecolor": "#2a3f5f",
             "gridcolor": "white",
             "linecolor": "white",
             "minorgridcolor": "white",
             "startlinecolor": "#2a3f5f"
            },
            "type": "carpet"
           }
          ],
          "choropleth": [
           {
            "colorbar": {
             "outlinewidth": 0,
             "ticks": ""
            },
            "type": "choropleth"
           }
          ],
          "contour": [
           {
            "colorbar": {
             "outlinewidth": 0,
             "ticks": ""
            },
            "colorscale": [
             [
              0,
              "#0d0887"
             ],
             [
              0.1111111111111111,
              "#46039f"
             ],
             [
              0.2222222222222222,
              "#7201a8"
             ],
             [
              0.3333333333333333,
              "#9c179e"
             ],
             [
              0.4444444444444444,
              "#bd3786"
             ],
             [
              0.5555555555555556,
              "#d8576b"
             ],
             [
              0.6666666666666666,
              "#ed7953"
             ],
             [
              0.7777777777777778,
              "#fb9f3a"
             ],
             [
              0.8888888888888888,
              "#fdca26"
             ],
             [
              1,
              "#f0f921"
             ]
            ],
            "type": "contour"
           }
          ],
          "contourcarpet": [
           {
            "colorbar": {
             "outlinewidth": 0,
             "ticks": ""
            },
            "type": "contourcarpet"
           }
          ],
          "heatmap": [
           {
            "colorbar": {
             "outlinewidth": 0,
             "ticks": ""
            },
            "colorscale": [
             [
              0,
              "#0d0887"
             ],
             [
              0.1111111111111111,
              "#46039f"
             ],
             [
              0.2222222222222222,
              "#7201a8"
             ],
             [
              0.3333333333333333,
              "#9c179e"
             ],
             [
              0.4444444444444444,
              "#bd3786"
             ],
             [
              0.5555555555555556,
              "#d8576b"
             ],
             [
              0.6666666666666666,
              "#ed7953"
             ],
             [
              0.7777777777777778,
              "#fb9f3a"
             ],
             [
              0.8888888888888888,
              "#fdca26"
             ],
             [
              1,
              "#f0f921"
             ]
            ],
            "type": "heatmap"
           }
          ],
          "heatmapgl": [
           {
            "colorbar": {
             "outlinewidth": 0,
             "ticks": ""
            },
            "colorscale": [
             [
              0,
              "#0d0887"
             ],
             [
              0.1111111111111111,
              "#46039f"
             ],
             [
              0.2222222222222222,
              "#7201a8"
             ],
             [
              0.3333333333333333,
              "#9c179e"
             ],
             [
              0.4444444444444444,
              "#bd3786"
             ],
             [
              0.5555555555555556,
              "#d8576b"
             ],
             [
              0.6666666666666666,
              "#ed7953"
             ],
             [
              0.7777777777777778,
              "#fb9f3a"
             ],
             [
              0.8888888888888888,
              "#fdca26"
             ],
             [
              1,
              "#f0f921"
             ]
            ],
            "type": "heatmapgl"
           }
          ],
          "histogram": [
           {
            "marker": {
             "pattern": {
              "fillmode": "overlay",
              "size": 10,
              "solidity": 0.2
             }
            },
            "type": "histogram"
           }
          ],
          "histogram2d": [
           {
            "colorbar": {
             "outlinewidth": 0,
             "ticks": ""
            },
            "colorscale": [
             [
              0,
              "#0d0887"
             ],
             [
              0.1111111111111111,
              "#46039f"
             ],
             [
              0.2222222222222222,
              "#7201a8"
             ],
             [
              0.3333333333333333,
              "#9c179e"
             ],
             [
              0.4444444444444444,
              "#bd3786"
             ],
             [
              0.5555555555555556,
              "#d8576b"
             ],
             [
              0.6666666666666666,
              "#ed7953"
             ],
             [
              0.7777777777777778,
              "#fb9f3a"
             ],
             [
              0.8888888888888888,
              "#fdca26"
             ],
             [
              1,
              "#f0f921"
             ]
            ],
            "type": "histogram2d"
           }
          ],
          "histogram2dcontour": [
           {
            "colorbar": {
             "outlinewidth": 0,
             "ticks": ""
            },
            "colorscale": [
             [
              0,
              "#0d0887"
             ],
             [
              0.1111111111111111,
              "#46039f"
             ],
             [
              0.2222222222222222,
              "#7201a8"
             ],
             [
              0.3333333333333333,
              "#9c179e"
             ],
             [
              0.4444444444444444,
              "#bd3786"
             ],
             [
              0.5555555555555556,
              "#d8576b"
             ],
             [
              0.6666666666666666,
              "#ed7953"
             ],
             [
              0.7777777777777778,
              "#fb9f3a"
             ],
             [
              0.8888888888888888,
              "#fdca26"
             ],
             [
              1,
              "#f0f921"
             ]
            ],
            "type": "histogram2dcontour"
           }
          ],
          "mesh3d": [
           {
            "colorbar": {
             "outlinewidth": 0,
             "ticks": ""
            },
            "type": "mesh3d"
           }
          ],
          "parcoords": [
           {
            "line": {
             "colorbar": {
              "outlinewidth": 0,
              "ticks": ""
             }
            },
            "type": "parcoords"
           }
          ],
          "pie": [
           {
            "automargin": true,
            "type": "pie"
           }
          ],
          "scatter": [
           {
            "fillpattern": {
             "fillmode": "overlay",
             "size": 10,
             "solidity": 0.2
            },
            "type": "scatter"
           }
          ],
          "scatter3d": [
           {
            "line": {
             "colorbar": {
              "outlinewidth": 0,
              "ticks": ""
             }
            },
            "marker": {
             "colorbar": {
              "outlinewidth": 0,
              "ticks": ""
             }
            },
            "type": "scatter3d"
           }
          ],
          "scattercarpet": [
           {
            "marker": {
             "colorbar": {
              "outlinewidth": 0,
              "ticks": ""
             }
            },
            "type": "scattercarpet"
           }
          ],
          "scattergeo": [
           {
            "marker": {
             "colorbar": {
              "outlinewidth": 0,
              "ticks": ""
             }
            },
            "type": "scattergeo"
           }
          ],
          "scattergl": [
           {
            "marker": {
             "colorbar": {
              "outlinewidth": 0,
              "ticks": ""
             }
            },
            "type": "scattergl"
           }
          ],
          "scattermapbox": [
           {
            "marker": {
             "colorbar": {
              "outlinewidth": 0,
              "ticks": ""
             }
            },
            "type": "scattermapbox"
           }
          ],
          "scatterpolar": [
           {
            "marker": {
             "colorbar": {
              "outlinewidth": 0,
              "ticks": ""
             }
            },
            "type": "scatterpolar"
           }
          ],
          "scatterpolargl": [
           {
            "marker": {
             "colorbar": {
              "outlinewidth": 0,
              "ticks": ""
             }
            },
            "type": "scatterpolargl"
           }
          ],
          "scatterternary": [
           {
            "marker": {
             "colorbar": {
              "outlinewidth": 0,
              "ticks": ""
             }
            },
            "type": "scatterternary"
           }
          ],
          "surface": [
           {
            "colorbar": {
             "outlinewidth": 0,
             "ticks": ""
            },
            "colorscale": [
             [
              0,
              "#0d0887"
             ],
             [
              0.1111111111111111,
              "#46039f"
             ],
             [
              0.2222222222222222,
              "#7201a8"
             ],
             [
              0.3333333333333333,
              "#9c179e"
             ],
             [
              0.4444444444444444,
              "#bd3786"
             ],
             [
              0.5555555555555556,
              "#d8576b"
             ],
             [
              0.6666666666666666,
              "#ed7953"
             ],
             [
              0.7777777777777778,
              "#fb9f3a"
             ],
             [
              0.8888888888888888,
              "#fdca26"
             ],
             [
              1,
              "#f0f921"
             ]
            ],
            "type": "surface"
           }
          ],
          "table": [
           {
            "cells": {
             "fill": {
              "color": "#EBF0F8"
             },
             "line": {
              "color": "white"
             }
            },
            "header": {
             "fill": {
              "color": "#C8D4E3"
             },
             "line": {
              "color": "white"
             }
            },
            "type": "table"
           }
          ]
         },
         "layout": {
          "annotationdefaults": {
           "arrowcolor": "#2a3f5f",
           "arrowhead": 0,
           "arrowwidth": 1
          },
          "autotypenumbers": "strict",
          "coloraxis": {
           "colorbar": {
            "outlinewidth": 0,
            "ticks": ""
           }
          },
          "colorscale": {
           "diverging": [
            [
             0,
             "#8e0152"
            ],
            [
             0.1,
             "#c51b7d"
            ],
            [
             0.2,
             "#de77ae"
            ],
            [
             0.3,
             "#f1b6da"
            ],
            [
             0.4,
             "#fde0ef"
            ],
            [
             0.5,
             "#f7f7f7"
            ],
            [
             0.6,
             "#e6f5d0"
            ],
            [
             0.7,
             "#b8e186"
            ],
            [
             0.8,
             "#7fbc41"
            ],
            [
             0.9,
             "#4d9221"
            ],
            [
             1,
             "#276419"
            ]
           ],
           "sequential": [
            [
             0,
             "#0d0887"
            ],
            [
             0.1111111111111111,
             "#46039f"
            ],
            [
             0.2222222222222222,
             "#7201a8"
            ],
            [
             0.3333333333333333,
             "#9c179e"
            ],
            [
             0.4444444444444444,
             "#bd3786"
            ],
            [
             0.5555555555555556,
             "#d8576b"
            ],
            [
             0.6666666666666666,
             "#ed7953"
            ],
            [
             0.7777777777777778,
             "#fb9f3a"
            ],
            [
             0.8888888888888888,
             "#fdca26"
            ],
            [
             1,
             "#f0f921"
            ]
           ],
           "sequentialminus": [
            [
             0,
             "#0d0887"
            ],
            [
             0.1111111111111111,
             "#46039f"
            ],
            [
             0.2222222222222222,
             "#7201a8"
            ],
            [
             0.3333333333333333,
             "#9c179e"
            ],
            [
             0.4444444444444444,
             "#bd3786"
            ],
            [
             0.5555555555555556,
             "#d8576b"
            ],
            [
             0.6666666666666666,
             "#ed7953"
            ],
            [
             0.7777777777777778,
             "#fb9f3a"
            ],
            [
             0.8888888888888888,
             "#fdca26"
            ],
            [
             1,
             "#f0f921"
            ]
           ]
          },
          "colorway": [
           "#636efa",
           "#EF553B",
           "#00cc96",
           "#ab63fa",
           "#FFA15A",
           "#19d3f3",
           "#FF6692",
           "#B6E880",
           "#FF97FF",
           "#FECB52"
          ],
          "font": {
           "color": "#2a3f5f"
          },
          "geo": {
           "bgcolor": "white",
           "lakecolor": "white",
           "landcolor": "#E5ECF6",
           "showlakes": true,
           "showland": true,
           "subunitcolor": "white"
          },
          "hoverlabel": {
           "align": "left"
          },
          "hovermode": "closest",
          "mapbox": {
           "style": "light"
          },
          "paper_bgcolor": "white",
          "plot_bgcolor": "#E5ECF6",
          "polar": {
           "angularaxis": {
            "gridcolor": "white",
            "linecolor": "white",
            "ticks": ""
           },
           "bgcolor": "#E5ECF6",
           "radialaxis": {
            "gridcolor": "white",
            "linecolor": "white",
            "ticks": ""
           }
          },
          "scene": {
           "xaxis": {
            "backgroundcolor": "#E5ECF6",
            "gridcolor": "white",
            "gridwidth": 2,
            "linecolor": "white",
            "showbackground": true,
            "ticks": "",
            "zerolinecolor": "white"
           },
           "yaxis": {
            "backgroundcolor": "#E5ECF6",
            "gridcolor": "white",
            "gridwidth": 2,
            "linecolor": "white",
            "showbackground": true,
            "ticks": "",
            "zerolinecolor": "white"
           },
           "zaxis": {
            "backgroundcolor": "#E5ECF6",
            "gridcolor": "white",
            "gridwidth": 2,
            "linecolor": "white",
            "showbackground": true,
            "ticks": "",
            "zerolinecolor": "white"
           }
          },
          "shapedefaults": {
           "line": {
            "color": "#2a3f5f"
           }
          },
          "ternary": {
           "aaxis": {
            "gridcolor": "white",
            "linecolor": "white",
            "ticks": ""
           },
           "baxis": {
            "gridcolor": "white",
            "linecolor": "white",
            "ticks": ""
           },
           "bgcolor": "#E5ECF6",
           "caxis": {
            "gridcolor": "white",
            "linecolor": "white",
            "ticks": ""
           }
          },
          "title": {
           "x": 0.05
          },
          "xaxis": {
           "automargin": true,
           "gridcolor": "white",
           "linecolor": "white",
           "ticks": "",
           "title": {
            "standoff": 15
           },
           "zerolinecolor": "white",
           "zerolinewidth": 2
          },
          "yaxis": {
           "automargin": true,
           "gridcolor": "white",
           "linecolor": "white",
           "ticks": "",
           "title": {
            "standoff": 15
           },
           "zerolinecolor": "white",
           "zerolinewidth": 2
          }
         }
        },
        "title": {
         "text": "Structure with Highlighted Sites"
        }
       }
      }
     },
     "metadata": {},
     "output_type": "display_data"
    }
   ],
   "source": [
    "random_sites = randomly_pick_sites(structure, n=8)\n",
    "plot_structure_with_highlighted_sites(structure, random_sites)"
   ]
  }
 ],
 "metadata": {
  "kernelspec": {
   "display_name": "smol",
   "language": "python",
   "name": "python3"
  },
  "language_info": {
   "codemirror_mode": {
    "name": "ipython",
    "version": 3
   },
   "file_extension": ".py",
   "mimetype": "text/x-python",
   "name": "python",
   "nbconvert_exporter": "python",
   "pygments_lexer": "ipython3",
   "version": "3.10.0"
  }
 },
 "nbformat": 4,
 "nbformat_minor": 2
}
