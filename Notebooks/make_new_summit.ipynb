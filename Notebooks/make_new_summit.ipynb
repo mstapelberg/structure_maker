{
 "cells": [
  {
   "cell_type": "code",
   "execution_count": 2,
   "metadata": {},
   "outputs": [],
   "source": [
    "import os\n",
    "import json\n",
    "import sys\n",
    "import numpy as np\n",
    "import random\n",
    "from smol.io import load_work\n",
    "from pymatgen.core.structure import Structure\n",
    "from pymatgen.entries.computed_entries import ComputedStructureEntry\n",
    "from pymatgen.io.vasp.inputs import Poscar\n",
    "from ase.db import connect\n",
    "from ase.io import write\n",
    "from ase.visualize import view\n",
    "\n",
    "sys.path.append('../Modules')\n",
    "from structure_generation import * \n",
    "from vasp_misc import *\n"
   ]
  },
  {
   "cell_type": "markdown",
   "metadata": {},
   "source": [
    "# Composition Selection"
   ]
  },
  {
   "cell_type": "markdown",
   "metadata": {},
   "source": [
    "## functions"
   ]
  },
  {
   "cell_type": "code",
   "execution_count": 3,
   "metadata": {},
   "outputs": [
    {
     "name": "stderr",
     "output_type": "stream",
     "text": [
      "/var/folders/p0/vc4k8wq14yx5wd2wvcxs3qhh0000gn/T/ipykernel_60289/3551627776.py:2: DeprecationWarning: \n",
      "Pyarrow will become a required dependency of pandas in the next major release of pandas (pandas 3.0),\n",
      "(to allow more performant data types, such as the Arrow string type, and better interoperability with other libraries)\n",
      "but was not found to be installed on your system.\n",
      "If this would cause problems for you,\n",
      "please provide us feedback at https://github.com/pandas-dev/pandas/issues/54466\n",
      "        \n",
      "  import pandas as pd\n"
     ]
    }
   ],
   "source": [
    "import json\n",
    "import pandas as pd\n",
    "import numpy as np\n",
    "import plotly.express as px\n",
    "import plotly.graph_objects as go\n",
    "\n",
    "def load_compositions(json_file):\n",
    "    \"\"\"Load compositions from a JSON file.\"\"\"\n",
    "    with open(json_file) as f:\n",
    "        compositions = json.load(f)\n",
    "    df = pd.DataFrame(compositions)\n",
    "    if 'Generation' not in df.columns:\n",
    "        df['Generation'] = 0\n",
    "    return df\n",
    "\n",
    "def filter_compositions(df):\n",
    "    \"\"\"Filter compositions to ensure they meet the initial constraints.\"\"\"\n",
    "    #return df[(df['V'] >= 0.8) & \n",
    "    return df[(df['V'] >= 0.20) &\n",
    "              (df['Cr'] >= 0.001) & \n",
    "              (df['Ti'] >= 0.001) & \n",
    "              (df['W'] >= 0.001) & \n",
    "              (df['Zr'] >= 0.001)]\n",
    "\n",
    "def generate_random_composition():\n",
    "    \"\"\"Generate a valid random composition within the specified constraints.\"\"\"\n",
    "    #min_v = 0.85\n",
    "    min_v = 0.2\n",
    "    #changed for hea version\n",
    "    while True:\n",
    "        V = np.random.uniform(min_v, 1)\n",
    "        #Cr = np.random.uniform(0.001, 0.2)\n",
    "        Cr = np.random.uniform(0.01, 0.2)\n",
    "        #Ti = np.random.uniform(0.001, 0.2)\n",
    "        Ti = np.random.uniform(0.01, 0.2)\n",
    "        #W = np.random.uniform(0.001, 0.2)\n",
    "        W = np.random.uniform(0.01, 0.2)\n",
    "        #Zr = np.random.uniform(0.001, 0.2)\n",
    "        Zr = np.random.uniform(0.01, 0.2)\n",
    "        total = V + Cr + Ti + W + Zr\n",
    "        V /= total\n",
    "        Cr /= total\n",
    "        Ti /= total\n",
    "        W /= total\n",
    "        Zr /= total\n",
    "        if V >= min_v:\n",
    "            return [V, Cr, Ti, W, Zr]\n",
    "\n",
    "def generate_new_compositions(n, generation):\n",
    "    \"\"\"Generate new compositions and return as a DataFrame.\"\"\"\n",
    "    new_compositions = []\n",
    "    for _ in range(n):\n",
    "        new_compositions.append(generate_random_composition())\n",
    "    new_df = pd.DataFrame(new_compositions, columns=['V', 'Cr', 'Ti', 'W', 'Zr'])\n",
    "    new_df['Generation'] = generation\n",
    "    return new_df\n",
    "\n",
    "def combine_compositions(df_existing, df_new):\n",
    "    \"\"\"Combine existing and new compositions into one DataFrame.\"\"\"\n",
    "    return pd.concat([df_existing, df_new], ignore_index=True)\n",
    "\n",
    "def save_compositions_to_json(df, json_file):\n",
    "    \"\"\"Save compositions to a JSON file.\"\"\"\n",
    "    compositions_list = df.to_dict(orient='records')\n",
    "    with open(json_file, 'w') as f:\n",
    "        json.dump(compositions_list, f, indent=4)\n",
    "\n",
    "def plot_compositions(df):\n",
    "    \"\"\"Plot compositions using Plotly with manual color assignment for each generation.\"\"\"\n",
    "    unique_generations = df['Generation'].unique()\n",
    "    colors = px.colors.qualitative.Set1 + px.colors.qualitative.Set2 + px.colors.qualitative.Set3\n",
    "    \n",
    "    if len(unique_generations) > len(colors):\n",
    "        raise ValueError(\"Too many generations for the available color palette\")\n",
    "\n",
    "    color_map = {gen: colors[i] for i, gen in enumerate(sorted(unique_generations))}\n",
    "    df['color'] = df['Generation'].map(color_map)\n",
    "\n",
    "    fig = px.scatter_matrix(df,\n",
    "                            dimensions=['V', 'Cr', 'Ti', 'W', 'Zr'],\n",
    "                            color='color',\n",
    "                            title='V-Cr-Ti-W-Zr Alloy Compositions by Generation',\n",
    "                            labels={'V': 'Vanadium', 'Cr': 'Chromium', 'Ti': 'Titanium', 'W': 'Tungsten', 'Zr': 'Zirconium'},\n",
    "                            height=800)\n",
    "    \n",
    "    # Hide the automatic legend entries\n",
    "    for trace in fig.data:\n",
    "        trace.showlegend = False\n",
    "\n",
    "    # Updating the color legend manually\n",
    "    for gen, color in color_map.items():\n",
    "        fig.add_trace(go.Scatter(x=[None], y=[None], mode='markers',\n",
    "                                 marker=dict(size=10, color=color),\n",
    "                                 legendgroup=str(gen),\n",
    "                                 showlegend=True,\n",
    "                                 name=f'Generation {gen}'))\n",
    "    \n",
    "    fig.update_traces(marker=dict(size=10, opacity=0.8), selector=dict(mode='markers'))\n",
    "    fig.show()\n"
   ]
  },
  {
   "cell_type": "markdown",
   "metadata": {},
   "source": [
    "## generate compositions and view"
   ]
  },
  {
   "cell_type": "code",
   "execution_count": 114,
   "metadata": {},
   "outputs": [
    {
     "name": "stderr",
     "output_type": "stream",
     "text": [
      "/opt/homebrew/Caskroom/miniforge/base/envs/smol/lib/python3.10/site-packages/plotly/express/_core.py:2065: FutureWarning:\n",
      "\n",
      "When grouping with a length-1 list-like, you will need to pass a length-1 tuple to get_group in a future version of pandas. Pass `(name,)` instead of `name` to silence this warning.\n",
      "\n"
     ]
    },
    {
     "data": {
      "application/vnd.plotly.v1+json": {
       "config": {
        "plotlyServerURL": "https://plot.ly"
       },
       "data": [
        {
         "dimensions": [
          {
           "axis": {
            "matches": true
           },
           "label": "Vanadium",
           "values": [
            0.8691,
            0.8651,
            0.8647,
            0.8542,
            0.8312,
            0.8574,
            0.9028,
            0.8363,
            0.8383,
            0.8022,
            0.8142,
            0.8036
           ]
          },
          {
           "axis": {
            "matches": true
           },
           "label": "Chromium",
           "values": [
            0.0675,
            0.048,
            0.0124,
            0.0298,
            0.0961,
            0.0734,
            0.0172,
            0.0672,
            0.0254,
            0.0859,
            0.0384,
            0.0923
           ]
          },
          {
           "axis": {
            "matches": true
           },
           "label": "Titanium",
           "values": [
            0.0123,
            0.0127,
            0.0279,
            0.063,
            0.0403,
            0.0141,
            0.031,
            0.0428,
            0.0756,
            0.0798,
            0.0341,
            0.0513
           ]
          },
          {
           "axis": {
            "matches": true
           },
           "label": "Tungsten",
           "values": [
            0.0301,
            0.0555,
            0.059,
            0.0106,
            0.0187,
            0.036,
            0.035,
            0.0289,
            0.0442,
            0.0129,
            0.0949,
            0.0322
           ]
          },
          {
           "axis": {
            "matches": true
           },
           "label": "Zirconium",
           "values": [
            0.021,
            0.0187,
            0.036,
            0.0424,
            0.0137,
            0.0191,
            0.014,
            0.0248,
            0.0165,
            0.0192,
            0.0184,
            0.0206
           ]
          }
         ],
         "hovertemplate": "color=rgb(228,26,28)<br>%{xaxis.title.text}=%{x}<br>%{yaxis.title.text}=%{y}<extra></extra>",
         "legendgroup": "rgb(228,26,28)",
         "marker": {
          "color": "#636efa",
          "symbol": "circle"
         },
         "name": "rgb(228,26,28)",
         "showlegend": false,
         "type": "splom"
        },
        {
         "dimensions": [
          {
           "axis": {
            "matches": true
           },
           "label": "Vanadium",
           "values": [
            0.8043851781571989,
            0.8067509527241298,
            0.8020170728758178,
            0.8187704085207206,
            0.8128329481911923,
            0.8110913650589356,
            0.8150769046171656,
            0.8207228986336522,
            0.8139521676435909,
            0.8381019084426459
           ]
          },
          {
           "axis": {
            "matches": true
           },
           "label": "Chromium",
           "values": [
            0.10048029141558604,
            0.05083581369295678,
            0.05070870360836058,
            0.06698201199067252,
            0.04643040157470129,
            0.07992405553372427,
            0.028364127511847945,
            0.028875101185230314,
            0.010575732664930188,
            0.016586916475201916
           ]
          },
          {
           "axis": {
            "matches": true
           },
           "label": "Titanium",
           "values": [
            0.02186391873195047,
            0.06229146086866191,
            0.07347325080117553,
            0.020128767205343335,
            0.06873944505374312,
            0.042128889230502016,
            0.014919051004927405,
            0.03412613940948054,
            0.014176680937378042,
            0.11631334644548046
           ]
          },
          {
           "axis": {
            "matches": true
           },
           "label": "Tungsten",
           "values": [
            0.055934605166148406,
            0.0547399433572929,
            0.007999866013981916,
            0.05875417348996964,
            0.04681300654713355,
            0.028508994883993388,
            0.09340245447705207,
            0.009061282879969369,
            0.035401892579123025,
            0.026399034651789083
           ]
          },
          {
           "axis": {
            "matches": true
           },
           "label": "Zirconium",
           "values": [
            0.017336006529116207,
            0.025381829356958457,
            0.0658011067006642,
            0.03536463879329412,
            0.02518419863322991,
            0.038346695292844526,
            0.0482374623890068,
            0.10721457789166769,
            0.1258935261749778,
            0.0025987939848826735
           ]
          }
         ],
         "hovertemplate": "color=rgb(55,126,184)<br>%{xaxis.title.text}=%{x}<br>%{yaxis.title.text}=%{y}<extra></extra>",
         "legendgroup": "rgb(55,126,184)",
         "marker": {
          "color": "#EF553B",
          "symbol": "circle"
         },
         "name": "rgb(55,126,184)",
         "showlegend": false,
         "type": "splom"
        },
        {
         "dimensions": [
          {
           "axis": {
            "matches": true
           },
           "label": "Vanadium",
           "values": [
            0.8012788193804129,
            0.8192128469792069,
            0.8022205803943254,
            0.8367400269019152,
            0.8675232841439843,
            0.8308421442029482,
            0.9166837361540805,
            0.8535938100042669,
            0.864579894855354,
            0.8130387718171836
           ]
          },
          {
           "axis": {
            "matches": true
           },
           "label": "Chromium",
           "values": [
            0.0840076247697501,
            0.06549520660455249,
            0.11645106622108252,
            0.059019526048898555,
            0.05851797878796666,
            0.06138578557127868,
            0.02641777975506065,
            0.0011400526366867256,
            0.054089731807504295,
            0.010060976116783275
           ]
          },
          {
           "axis": {
            "matches": true
           },
           "label": "Titanium",
           "values": [
            0.012529698804691106,
            0.10294957253906344,
            0.020661887663983768,
            0.01953760471367287,
            0.03929034698640464,
            0.02723269532943803,
            0.02106692390963494,
            0.01798926167188453,
            0.04323762328222303,
            0.01942919378623373
           ]
          },
          {
           "axis": {
            "matches": true
           },
           "label": "Tungsten",
           "values": [
            0.08949910394028511,
            0.011001169942248557,
            0.05921254626054685,
            0.02548499354060327,
            0.019277306108356474,
            0.0656895887542101,
            0.03244777556004541,
            0.1117230591185576,
            0.01251175839591739,
            0.15238830493028435
           ]
          },
          {
           "axis": {
            "matches": true
           },
           "label": "Zirconium",
           "values": [
            0.012684753104860832,
            0.001341203934928605,
            0.0014539194600613067,
            0.059217848794910086,
            0.015391083973287858,
            0.014849786142125114,
            0.0033837846211786323,
            0.015553816568604361,
            0.025580991659001063,
            0.005082753349515123
           ]
          }
         ],
         "hovertemplate": "color=rgb(77,175,74)<br>%{xaxis.title.text}=%{x}<br>%{yaxis.title.text}=%{y}<extra></extra>",
         "legendgroup": "rgb(77,175,74)",
         "marker": {
          "color": "#00cc96",
          "symbol": "circle"
         },
         "name": "rgb(77,175,74)",
         "showlegend": false,
         "type": "splom"
        },
        {
         "dimensions": [
          {
           "axis": {
            "matches": true
           },
           "label": "Vanadium",
           "values": [
            0.8977424184643913,
            0.9447040800858585,
            0.8889801366689619,
            0.8846741508715207,
            0.8599057176523043,
            0.8560541056068146,
            0.8669307248785335,
            0.8538993348593987,
            0.8536542341724023,
            0.8754505263820767
           ]
          },
          {
           "axis": {
            "matches": true
           },
           "label": "Chromium",
           "values": [
            0.01753592516998137,
            0.010751108131055977,
            0.04897815017804376,
            0.03146323010751297,
            0.00106470633947902,
            0.04362232065366414,
            0.0023061504149333337,
            0.026261353510019368,
            0.08314674588783247,
            0.0024421255209802818
           ]
          },
          {
           "axis": {
            "matches": true
           },
           "label": "Titanium",
           "values": [
            0.04217323120814773,
            0.0019540541750971,
            0.01657063980769426,
            0.022011936316887925,
            0.10581849957075172,
            0.011826824884911824,
            0.04845802552516483,
            0.025669908265118547,
            0.01503131571582048,
            0.02521722396831646
           ]
          },
          {
           "axis": {
            "matches": true
           },
           "label": "Tungsten",
           "values": [
            0.0010848777327399327,
            0.0017479312630005002,
            0.01732744864034135,
            0.054330040417573854,
            0.006208215823083322,
            0.010095000703006668,
            0.017103263600845048,
            0.05831085398792207,
            0.0075326931729275135,
            0.04389673770824977
           ]
          },
          {
           "axis": {
            "matches": true
           },
           "label": "Zirconium",
           "values": [
            0.041463547424739726,
            0.040842826344987954,
            0.028143624704958767,
            0.007520642286504522,
            0.027002860614381577,
            0.0784017481516027,
            0.06520183558052313,
            0.03585854937754153,
            0.0406350110510172,
            0.052993386420376876
           ]
          }
         ],
         "hovertemplate": "color=rgb(152,78,163)<br>%{xaxis.title.text}=%{x}<br>%{yaxis.title.text}=%{y}<extra></extra>",
         "legendgroup": "rgb(152,78,163)",
         "marker": {
          "color": "#ab63fa",
          "symbol": "circle"
         },
         "name": "rgb(152,78,163)",
         "showlegend": false,
         "type": "splom"
        },
        {
         "dimensions": [
          {
           "axis": {
            "matches": true
           },
           "label": "Vanadium",
           "values": [
            0.5881787197748509,
            0.398581138352079,
            0.6591999227461471,
            0.7557634115484507,
            0.7036054491881001,
            0.7488466847410876,
            0.6047009503349755,
            0.7387392612845515,
            0.8299790452681904,
            0.6932282169066176
           ]
          },
          {
           "axis": {
            "matches": true
           },
           "label": "Chromium",
           "values": [
            0.11331266956562172,
            0.07098440437710933,
            0.09753519373460903,
            0.014940846206631789,
            0.019716150182233574,
            0.04296363524128566,
            0.12582251741632708,
            0.03708689829452995,
            0.02535482421816095,
            0.08378075113666343
           ]
          },
          {
           "axis": {
            "matches": true
           },
           "label": "Titanium",
           "values": [
            0.14272398959283886,
            0.0725752902880622,
            0.017839154821648613,
            0.10881733064809249,
            0.1334066549563199,
            0.12290207755714942,
            0.12132848137265694,
            0.07389065610313664,
            0.07823477752848475,
            0.11516091442855837
           ]
          },
          {
           "axis": {
            "matches": true
           },
           "label": "Tungsten",
           "values": [
            0.06507636065071964,
            0.21805092198461454,
            0.11899747255520379,
            0.09279336284593785,
            0.07055134848647093,
            0.020001060060142007,
            0.12683037248309384,
            0.07117653009231202,
            0.025479922840387456,
            0.017486931788315094
           ]
          },
          {
           "axis": {
            "matches": true
           },
           "label": "Zirconium",
           "values": [
            0.09070826041596897,
            0.2398082449981348,
            0.10642825614239139,
            0.027685048750887307,
            0.0727203971868755,
            0.06528654240033538,
            0.021317678392946498,
            0.07910665422546997,
            0.040951430144776306,
            0.09034318573984546
           ]
          }
         ],
         "hovertemplate": "color=rgb(255,127,0)<br>%{xaxis.title.text}=%{x}<br>%{yaxis.title.text}=%{y}<extra></extra>",
         "legendgroup": "rgb(255,127,0)",
         "marker": {
          "color": "#FFA15A",
          "symbol": "circle"
         },
         "name": "rgb(255,127,0)",
         "showlegend": false,
         "type": "splom"
        },
        {
         "legendgroup": "0",
         "marker": {
          "color": "rgb(228,26,28)",
          "opacity": 0.8,
          "size": 10
         },
         "mode": "markers",
         "name": "Generation 0",
         "showlegend": true,
         "type": "scatter",
         "x": [
          null
         ],
         "y": [
          null
         ]
        },
        {
         "legendgroup": "1",
         "marker": {
          "color": "rgb(55,126,184)",
          "opacity": 0.8,
          "size": 10
         },
         "mode": "markers",
         "name": "Generation 1",
         "showlegend": true,
         "type": "scatter",
         "x": [
          null
         ],
         "y": [
          null
         ]
        },
        {
         "legendgroup": "2",
         "marker": {
          "color": "rgb(77,175,74)",
          "opacity": 0.8,
          "size": 10
         },
         "mode": "markers",
         "name": "Generation 2",
         "showlegend": true,
         "type": "scatter",
         "x": [
          null
         ],
         "y": [
          null
         ]
        },
        {
         "legendgroup": "3",
         "marker": {
          "color": "rgb(152,78,163)",
          "opacity": 0.8,
          "size": 10
         },
         "mode": "markers",
         "name": "Generation 3",
         "showlegend": true,
         "type": "scatter",
         "x": [
          null
         ],
         "y": [
          null
         ]
        },
        {
         "legendgroup": "4",
         "marker": {
          "color": "rgb(255,127,0)",
          "opacity": 0.8,
          "size": 10
         },
         "mode": "markers",
         "name": "Generation 4",
         "showlegend": true,
         "type": "scatter",
         "x": [
          null
         ],
         "y": [
          null
         ]
        }
       ],
       "layout": {
        "dragmode": "select",
        "height": 800,
        "legend": {
         "title": {
          "text": "color"
         },
         "tracegroupgap": 0
        },
        "template": {
         "data": {
          "bar": [
           {
            "error_x": {
             "color": "#2a3f5f"
            },
            "error_y": {
             "color": "#2a3f5f"
            },
            "marker": {
             "line": {
              "color": "#E5ECF6",
              "width": 0.5
             },
             "pattern": {
              "fillmode": "overlay",
              "size": 10,
              "solidity": 0.2
             }
            },
            "type": "bar"
           }
          ],
          "barpolar": [
           {
            "marker": {
             "line": {
              "color": "#E5ECF6",
              "width": 0.5
             },
             "pattern": {
              "fillmode": "overlay",
              "size": 10,
              "solidity": 0.2
             }
            },
            "type": "barpolar"
           }
          ],
          "carpet": [
           {
            "aaxis": {
             "endlinecolor": "#2a3f5f",
             "gridcolor": "white",
             "linecolor": "white",
             "minorgridcolor": "white",
             "startlinecolor": "#2a3f5f"
            },
            "baxis": {
             "endlinecolor": "#2a3f5f",
             "gridcolor": "white",
             "linecolor": "white",
             "minorgridcolor": "white",
             "startlinecolor": "#2a3f5f"
            },
            "type": "carpet"
           }
          ],
          "choropleth": [
           {
            "colorbar": {
             "outlinewidth": 0,
             "ticks": ""
            },
            "type": "choropleth"
           }
          ],
          "contour": [
           {
            "colorbar": {
             "outlinewidth": 0,
             "ticks": ""
            },
            "colorscale": [
             [
              0,
              "#0d0887"
             ],
             [
              0.1111111111111111,
              "#46039f"
             ],
             [
              0.2222222222222222,
              "#7201a8"
             ],
             [
              0.3333333333333333,
              "#9c179e"
             ],
             [
              0.4444444444444444,
              "#bd3786"
             ],
             [
              0.5555555555555556,
              "#d8576b"
             ],
             [
              0.6666666666666666,
              "#ed7953"
             ],
             [
              0.7777777777777778,
              "#fb9f3a"
             ],
             [
              0.8888888888888888,
              "#fdca26"
             ],
             [
              1,
              "#f0f921"
             ]
            ],
            "type": "contour"
           }
          ],
          "contourcarpet": [
           {
            "colorbar": {
             "outlinewidth": 0,
             "ticks": ""
            },
            "type": "contourcarpet"
           }
          ],
          "heatmap": [
           {
            "colorbar": {
             "outlinewidth": 0,
             "ticks": ""
            },
            "colorscale": [
             [
              0,
              "#0d0887"
             ],
             [
              0.1111111111111111,
              "#46039f"
             ],
             [
              0.2222222222222222,
              "#7201a8"
             ],
             [
              0.3333333333333333,
              "#9c179e"
             ],
             [
              0.4444444444444444,
              "#bd3786"
             ],
             [
              0.5555555555555556,
              "#d8576b"
             ],
             [
              0.6666666666666666,
              "#ed7953"
             ],
             [
              0.7777777777777778,
              "#fb9f3a"
             ],
             [
              0.8888888888888888,
              "#fdca26"
             ],
             [
              1,
              "#f0f921"
             ]
            ],
            "type": "heatmap"
           }
          ],
          "heatmapgl": [
           {
            "colorbar": {
             "outlinewidth": 0,
             "ticks": ""
            },
            "colorscale": [
             [
              0,
              "#0d0887"
             ],
             [
              0.1111111111111111,
              "#46039f"
             ],
             [
              0.2222222222222222,
              "#7201a8"
             ],
             [
              0.3333333333333333,
              "#9c179e"
             ],
             [
              0.4444444444444444,
              "#bd3786"
             ],
             [
              0.5555555555555556,
              "#d8576b"
             ],
             [
              0.6666666666666666,
              "#ed7953"
             ],
             [
              0.7777777777777778,
              "#fb9f3a"
             ],
             [
              0.8888888888888888,
              "#fdca26"
             ],
             [
              1,
              "#f0f921"
             ]
            ],
            "type": "heatmapgl"
           }
          ],
          "histogram": [
           {
            "marker": {
             "pattern": {
              "fillmode": "overlay",
              "size": 10,
              "solidity": 0.2
             }
            },
            "type": "histogram"
           }
          ],
          "histogram2d": [
           {
            "colorbar": {
             "outlinewidth": 0,
             "ticks": ""
            },
            "colorscale": [
             [
              0,
              "#0d0887"
             ],
             [
              0.1111111111111111,
              "#46039f"
             ],
             [
              0.2222222222222222,
              "#7201a8"
             ],
             [
              0.3333333333333333,
              "#9c179e"
             ],
             [
              0.4444444444444444,
              "#bd3786"
             ],
             [
              0.5555555555555556,
              "#d8576b"
             ],
             [
              0.6666666666666666,
              "#ed7953"
             ],
             [
              0.7777777777777778,
              "#fb9f3a"
             ],
             [
              0.8888888888888888,
              "#fdca26"
             ],
             [
              1,
              "#f0f921"
             ]
            ],
            "type": "histogram2d"
           }
          ],
          "histogram2dcontour": [
           {
            "colorbar": {
             "outlinewidth": 0,
             "ticks": ""
            },
            "colorscale": [
             [
              0,
              "#0d0887"
             ],
             [
              0.1111111111111111,
              "#46039f"
             ],
             [
              0.2222222222222222,
              "#7201a8"
             ],
             [
              0.3333333333333333,
              "#9c179e"
             ],
             [
              0.4444444444444444,
              "#bd3786"
             ],
             [
              0.5555555555555556,
              "#d8576b"
             ],
             [
              0.6666666666666666,
              "#ed7953"
             ],
             [
              0.7777777777777778,
              "#fb9f3a"
             ],
             [
              0.8888888888888888,
              "#fdca26"
             ],
             [
              1,
              "#f0f921"
             ]
            ],
            "type": "histogram2dcontour"
           }
          ],
          "mesh3d": [
           {
            "colorbar": {
             "outlinewidth": 0,
             "ticks": ""
            },
            "type": "mesh3d"
           }
          ],
          "parcoords": [
           {
            "line": {
             "colorbar": {
              "outlinewidth": 0,
              "ticks": ""
             }
            },
            "type": "parcoords"
           }
          ],
          "pie": [
           {
            "automargin": true,
            "type": "pie"
           }
          ],
          "scatter": [
           {
            "fillpattern": {
             "fillmode": "overlay",
             "size": 10,
             "solidity": 0.2
            },
            "type": "scatter"
           }
          ],
          "scatter3d": [
           {
            "line": {
             "colorbar": {
              "outlinewidth": 0,
              "ticks": ""
             }
            },
            "marker": {
             "colorbar": {
              "outlinewidth": 0,
              "ticks": ""
             }
            },
            "type": "scatter3d"
           }
          ],
          "scattercarpet": [
           {
            "marker": {
             "colorbar": {
              "outlinewidth": 0,
              "ticks": ""
             }
            },
            "type": "scattercarpet"
           }
          ],
          "scattergeo": [
           {
            "marker": {
             "colorbar": {
              "outlinewidth": 0,
              "ticks": ""
             }
            },
            "type": "scattergeo"
           }
          ],
          "scattergl": [
           {
            "marker": {
             "colorbar": {
              "outlinewidth": 0,
              "ticks": ""
             }
            },
            "type": "scattergl"
           }
          ],
          "scattermapbox": [
           {
            "marker": {
             "colorbar": {
              "outlinewidth": 0,
              "ticks": ""
             }
            },
            "type": "scattermapbox"
           }
          ],
          "scatterpolar": [
           {
            "marker": {
             "colorbar": {
              "outlinewidth": 0,
              "ticks": ""
             }
            },
            "type": "scatterpolar"
           }
          ],
          "scatterpolargl": [
           {
            "marker": {
             "colorbar": {
              "outlinewidth": 0,
              "ticks": ""
             }
            },
            "type": "scatterpolargl"
           }
          ],
          "scatterternary": [
           {
            "marker": {
             "colorbar": {
              "outlinewidth": 0,
              "ticks": ""
             }
            },
            "type": "scatterternary"
           }
          ],
          "surface": [
           {
            "colorbar": {
             "outlinewidth": 0,
             "ticks": ""
            },
            "colorscale": [
             [
              0,
              "#0d0887"
             ],
             [
              0.1111111111111111,
              "#46039f"
             ],
             [
              0.2222222222222222,
              "#7201a8"
             ],
             [
              0.3333333333333333,
              "#9c179e"
             ],
             [
              0.4444444444444444,
              "#bd3786"
             ],
             [
              0.5555555555555556,
              "#d8576b"
             ],
             [
              0.6666666666666666,
              "#ed7953"
             ],
             [
              0.7777777777777778,
              "#fb9f3a"
             ],
             [
              0.8888888888888888,
              "#fdca26"
             ],
             [
              1,
              "#f0f921"
             ]
            ],
            "type": "surface"
           }
          ],
          "table": [
           {
            "cells": {
             "fill": {
              "color": "#EBF0F8"
             },
             "line": {
              "color": "white"
             }
            },
            "header": {
             "fill": {
              "color": "#C8D4E3"
             },
             "line": {
              "color": "white"
             }
            },
            "type": "table"
           }
          ]
         },
         "layout": {
          "annotationdefaults": {
           "arrowcolor": "#2a3f5f",
           "arrowhead": 0,
           "arrowwidth": 1
          },
          "autotypenumbers": "strict",
          "coloraxis": {
           "colorbar": {
            "outlinewidth": 0,
            "ticks": ""
           }
          },
          "colorscale": {
           "diverging": [
            [
             0,
             "#8e0152"
            ],
            [
             0.1,
             "#c51b7d"
            ],
            [
             0.2,
             "#de77ae"
            ],
            [
             0.3,
             "#f1b6da"
            ],
            [
             0.4,
             "#fde0ef"
            ],
            [
             0.5,
             "#f7f7f7"
            ],
            [
             0.6,
             "#e6f5d0"
            ],
            [
             0.7,
             "#b8e186"
            ],
            [
             0.8,
             "#7fbc41"
            ],
            [
             0.9,
             "#4d9221"
            ],
            [
             1,
             "#276419"
            ]
           ],
           "sequential": [
            [
             0,
             "#0d0887"
            ],
            [
             0.1111111111111111,
             "#46039f"
            ],
            [
             0.2222222222222222,
             "#7201a8"
            ],
            [
             0.3333333333333333,
             "#9c179e"
            ],
            [
             0.4444444444444444,
             "#bd3786"
            ],
            [
             0.5555555555555556,
             "#d8576b"
            ],
            [
             0.6666666666666666,
             "#ed7953"
            ],
            [
             0.7777777777777778,
             "#fb9f3a"
            ],
            [
             0.8888888888888888,
             "#fdca26"
            ],
            [
             1,
             "#f0f921"
            ]
           ],
           "sequentialminus": [
            [
             0,
             "#0d0887"
            ],
            [
             0.1111111111111111,
             "#46039f"
            ],
            [
             0.2222222222222222,
             "#7201a8"
            ],
            [
             0.3333333333333333,
             "#9c179e"
            ],
            [
             0.4444444444444444,
             "#bd3786"
            ],
            [
             0.5555555555555556,
             "#d8576b"
            ],
            [
             0.6666666666666666,
             "#ed7953"
            ],
            [
             0.7777777777777778,
             "#fb9f3a"
            ],
            [
             0.8888888888888888,
             "#fdca26"
            ],
            [
             1,
             "#f0f921"
            ]
           ]
          },
          "colorway": [
           "#636efa",
           "#EF553B",
           "#00cc96",
           "#ab63fa",
           "#FFA15A",
           "#19d3f3",
           "#FF6692",
           "#B6E880",
           "#FF97FF",
           "#FECB52"
          ],
          "font": {
           "color": "#2a3f5f"
          },
          "geo": {
           "bgcolor": "white",
           "lakecolor": "white",
           "landcolor": "#E5ECF6",
           "showlakes": true,
           "showland": true,
           "subunitcolor": "white"
          },
          "hoverlabel": {
           "align": "left"
          },
          "hovermode": "closest",
          "mapbox": {
           "style": "light"
          },
          "paper_bgcolor": "white",
          "plot_bgcolor": "#E5ECF6",
          "polar": {
           "angularaxis": {
            "gridcolor": "white",
            "linecolor": "white",
            "ticks": ""
           },
           "bgcolor": "#E5ECF6",
           "radialaxis": {
            "gridcolor": "white",
            "linecolor": "white",
            "ticks": ""
           }
          },
          "scene": {
           "xaxis": {
            "backgroundcolor": "#E5ECF6",
            "gridcolor": "white",
            "gridwidth": 2,
            "linecolor": "white",
            "showbackground": true,
            "ticks": "",
            "zerolinecolor": "white"
           },
           "yaxis": {
            "backgroundcolor": "#E5ECF6",
            "gridcolor": "white",
            "gridwidth": 2,
            "linecolor": "white",
            "showbackground": true,
            "ticks": "",
            "zerolinecolor": "white"
           },
           "zaxis": {
            "backgroundcolor": "#E5ECF6",
            "gridcolor": "white",
            "gridwidth": 2,
            "linecolor": "white",
            "showbackground": true,
            "ticks": "",
            "zerolinecolor": "white"
           }
          },
          "shapedefaults": {
           "line": {
            "color": "#2a3f5f"
           }
          },
          "ternary": {
           "aaxis": {
            "gridcolor": "white",
            "linecolor": "white",
            "ticks": ""
           },
           "baxis": {
            "gridcolor": "white",
            "linecolor": "white",
            "ticks": ""
           },
           "bgcolor": "#E5ECF6",
           "caxis": {
            "gridcolor": "white",
            "linecolor": "white",
            "ticks": ""
           }
          },
          "title": {
           "x": 0.05
          },
          "xaxis": {
           "automargin": true,
           "gridcolor": "white",
           "linecolor": "white",
           "ticks": "",
           "title": {
            "standoff": 15
           },
           "zerolinecolor": "white",
           "zerolinewidth": 2
          },
          "yaxis": {
           "automargin": true,
           "gridcolor": "white",
           "linecolor": "white",
           "ticks": "",
           "title": {
            "standoff": 15
           },
           "zerolinecolor": "white",
           "zerolinewidth": 2
          }
         }
        },
        "title": {
         "text": "V-Cr-Ti-W-Zr Alloy Compositions by Generation"
        }
       }
      }
     },
     "metadata": {},
     "output_type": "display_data"
    }
   ],
   "source": [
    "random.seed(42)\n",
    "pre = 3\n",
    "post = 4\n",
    "num_compositions = 10\n",
    "# Example usage\n",
    "if __name__ == \"__main__\":\n",
    "    # Load and filter existing compositions\n",
    "    df_existing = load_compositions(f'compositions_gen{pre}.json')\n",
    "    df_existing = filter_compositions(df_existing)\n",
    "    \n",
    "    # Generate new compositions for generation 1\n",
    "    df_new = generate_new_compositions(num_compositions, post)\n",
    "    \n",
    "    # Combine existing and new compositions\n",
    "    df_combined = combine_compositions(df_existing, df_new)\n",
    "    \n",
    "    # Save combined compositions to JSON\n",
    "    save_compositions_to_json(df_combined, f'compositions_gen{post}.json')\n",
    "    \n",
    "    # Plot combined compositions\n",
    "    plot_compositions(df_combined)\n"
   ]
  },
  {
   "cell_type": "code",
   "execution_count": 4,
   "metadata": {},
   "outputs": [],
   "source": [
    "gen_num = 4\n",
    "json_file = f'../Notebooks/compositions_gen{gen_num}.json'\n",
    "output_dir = f'../Visualization/Job_Structures/Pre_VASP/Fixed_VCrTiWZr_Summit/125-Atoms/Gen_{gen_num}/Perfect'\n",
    "\n",
    "# make the output directory\n",
    "if not os.path.exists(output_dir):\n",
    "    os.makedirs(output_dir)\n",
    "\n"
   ]
  },
  {
   "cell_type": "code",
   "execution_count": 5,
   "metadata": {},
   "outputs": [],
   "source": [
    "supercells = create_supercells_for_compositions(json_file, output_dir, num_structures=3, lattice_parameter=3.01 , supercell_size=5, supercell_type='prim')"
   ]
  },
  {
   "cell_type": "code",
   "execution_count": 9,
   "metadata": {},
   "outputs": [
    {
     "name": "stdout",
     "output_type": "stream",
     "text": [
      "96\n",
      "{'filename': '../Visualization/Job_Structures/Pre_VASP/Fixed_VCrTiWZr_Summit/125-Atoms/Gen_2/Perfect/supercell_gen0_comp1_struct1.cif', 'composition': {'Cr': 0.0675, 'Ti': 0.0123, 'Zr': 0.021, 'W': 0.0301, 'V': 0.8691}, 'generation': 0, 'structure': {'@module': 'pymatgen.core.structure', '@class': 'Structure', 'charge': 0, 'lattice': {'matrix': [[7.5249999999999995, 7.5249999999999995, -7.5249999999999995], [7.5249999999999995, -7.5249999999999995, 7.5249999999999995], [-7.5249999999999995, 7.5249999999999995, 7.5249999999999995]], 'pbc': (True, True, True), 'a': 13.033682326955802, 'b': 13.033682326955802, 'c': 13.033682326955802, 'alpha': 109.47122063449069, 'beta': 109.47122063449069, 'gamma': 109.47122063449069, 'volume': 1704.4313124999996}, 'properties': {}, 'sites': [{'species': [{'element': 'Zr', 'occu': 1}], 'abc': [0.6000000000000001, 0.8, 0.0], 'xyz': [10.535, -1.504999999999999, 1.504999999999999], 'properties': {}, 'label': 'Zr'}, {'species': [{'element': 'Zr', 'occu': 1}], 'abc': [0.8, 1.0, 0.8], 'xyz': [7.5249999999999995, 4.515, 7.5249999999999995], 'properties': {}, 'label': 'Zr'}, {'species': [{'element': 'Zr', 'occu': 1}], 'abc': [0.8, 0.8, 0.8], 'xyz': [6.02, 6.02, 6.02], 'properties': {}, 'label': 'Zr'}, {'species': [{'element': 'Ti', 'occu': 1}], 'abc': [0.0, 0.6000000000000001, 0.0], 'xyz': [4.515000000000001, -4.515000000000001, 4.515000000000001], 'properties': {}, 'label': 'Ti'}, {'species': [{'element': 'Ti', 'occu': 1}], 'abc': [0.8, 1.0139084109024842e-17, 0.39999999999999997], 'xyz': [3.0100000000000002, 9.03, -3.0100000000000002], 'properties': {}, 'label': 'Ti'}, {'species': [{'element': 'V', 'occu': 1}], 'abc': [0.0, 0.0, 0.0], 'xyz': [0.0, 0.0, 0.0], 'properties': {}, 'label': 'V'}, {'species': [{'element': 'V', 'occu': 1}], 'abc': [0.0, 1.0, 0.2], 'xyz': [6.02, -6.02, 9.03], 'properties': {}, 'label': 'V'}, {'species': [{'element': 'V', 'occu': 1}], 'abc': [0.0, 1.0, 0.4], 'xyz': [4.515, -4.515, 10.535], 'properties': {}, 'label': 'V'}, {'species': [{'element': 'V', 'occu': 1}], 'abc': [0.0, 1.0, 0.8], 'xyz': [1.505, -1.505, 13.544999999999998], 'properties': {}, 'label': 'V'}, {'species': [{'element': 'V', 'occu': 1}], 'abc': [0.0, 0.2, 0.0], 'xyz': [1.505, -1.505, 1.505], 'properties': {}, 'label': 'V'}, {'species': [{'element': 'V', 'occu': 1}], 'abc': [0.0, 0.19999999999999998, 0.2], 'xyz': [-2.220446049250313e-16, 2.220446049250313e-16, 3.01], 'properties': {}, 'label': 'V'}, {'species': [{'element': 'V', 'occu': 1}], 'abc': [0.0, 0.19999999999999998, 0.4], 'xyz': [-1.5050000000000001, 1.5050000000000001, 4.515], 'properties': {}, 'label': 'V'}, {'species': [{'element': 'V', 'occu': 1}], 'abc': [0.0, 0.19999999999999998, 0.6000000000000001], 'xyz': [-3.0100000000000007, 3.0100000000000007, 6.0200000000000005], 'properties': {}, 'label': 'V'}, {'species': [{'element': 'V', 'occu': 1}], 'abc': [0.0, 0.2, 0.8], 'xyz': [-4.515, 4.515, 7.5249999999999995], 'properties': {}, 'label': 'V'}, {'species': [{'element': 'V', 'occu': 1}], 'abc': [0.0, 0.4, 0.0], 'xyz': [3.01, -3.01, 3.01], 'properties': {}, 'label': 'V'}, {'species': [{'element': 'V', 'occu': 1}], 'abc': [0.0, 0.4, 0.19999999999999998], 'xyz': [1.5050000000000001, -1.5050000000000001, 4.515], 'properties': {}, 'label': 'V'}, {'species': [{'element': 'V', 'occu': 1}], 'abc': [0.0, 0.4, 0.6000000000000002], 'xyz': [-1.5050000000000017, 1.5050000000000017, 7.525000000000001], 'properties': {}, 'label': 'V'}, {'species': [{'element': 'V', 'occu': 1}], 'abc': [0.0, 0.6000000000000001, 0.2], 'xyz': [3.0100000000000007, -3.0100000000000007, 6.0200000000000005], 'properties': {}, 'label': 'V'}, {'species': [{'element': 'V', 'occu': 1}], 'abc': [0.0, 0.6000000000000001, 0.6000000000000001], 'xyz': [0.0, 0.0, 9.030000000000001], 'properties': {}, 'label': 'V'}, {'species': [{'element': 'V', 'occu': 1}], 'abc': [0.0, 0.6000000000000001, 0.8], 'xyz': [-1.504999999999999, 1.504999999999999, 10.535], 'properties': {}, 'label': 'V'}, {'species': [{'element': 'V', 'occu': 1}], 'abc': [0.0, 0.8, 0.0], 'xyz': [6.02, -6.02, 6.02], 'properties': {}, 'label': 'V'}, {'species': [{'element': 'V', 'occu': 1}], 'abc': [0.0, 0.8, 0.2], 'xyz': [4.515, -4.515, 7.5249999999999995], 'properties': {}, 'label': 'V'}, {'species': [{'element': 'V', 'occu': 1}], 'abc': [0.0, 0.8, 0.39999999999999997], 'xyz': [3.0100000000000002, -3.0100000000000002, 9.03], 'properties': {}, 'label': 'V'}, {'species': [{'element': 'V', 'occu': 1}], 'abc': [0.0, 0.8, 0.6000000000000001], 'xyz': [1.504999999999999, -1.504999999999999, 10.535], 'properties': {}, 'label': 'V'}, {'species': [{'element': 'V', 'occu': 1}], 'abc': [0.0, 0.7999999999999999, 0.8], 'xyz': [-8.881784197001252e-16, 8.881784197001252e-16, 12.04], 'properties': {}, 'label': 'V'}, {'species': [{'element': 'V', 'occu': 1}], 'abc': [0.2, 5.069542054512421e-18, 0.0], 'xyz': [1.505, 1.505, -1.505], 'properties': {}, 'label': 'V'}, {'species': [{'element': 'V', 'occu': 1}], 'abc': [0.2, 1.0, 0.2], 'xyz': [7.5249999999999995, -4.515, 7.5249999999999995], 'properties': {}, 'label': 'V'}, {'species': [{'element': 'V', 'occu': 1}], 'abc': [0.19999999999999996, 1.0, 0.4], 'xyz': [6.019999999999999, -3.01, 9.03], 'properties': {}, 'label': 'V'}, {'species': [{'element': 'V', 'occu': 1}], 'abc': [0.2, 1.254694945209165e-17, 0.8], 'xyz': [-4.515, 7.5249999999999995, 4.515], 'properties': {}, 'label': 'V'}, {'species': [{'element': 'V', 'occu': 1}], 'abc': [0.2, 0.2, 9.63146137226723e-19], 'xyz': [3.01, 0.0, 0.0], 'properties': {}, 'label': 'V'}, {'species': [{'element': 'V', 'occu': 1}], 'abc': [0.2, 0.2, 0.4], 'xyz': [-2.220446049250313e-16, 3.01, 3.01], 'properties': {}, 'label': 'V'}, {'species': [{'element': 'V', 'occu': 1}], 'abc': [0.2, 0.2, 0.6000000000000001], 'xyz': [-1.5050000000000008, 4.515000000000001, 4.515000000000001], 'properties': {}, 'label': 'V'}, {'species': [{'element': 'V', 'occu': 1}], 'abc': [0.19999999999999998, 0.19999999999999996, 0.8], 'xyz': [-3.010000000000001, 6.02, 6.02], 'properties': {}, 'label': 'V'}, {'species': [{'element': 'V', 'occu': 1}], 'abc': [0.2, 0.4, 0.20000000000000004], 'xyz': [3.0099999999999993, 4.440892098500626e-16, 3.0100000000000002], 'properties': {}, 'label': 'V'}, {'species': [{'element': 'V', 'occu': 1}], 'abc': [0.2, 0.39999999999999997, 0.4], 'xyz': [1.5049999999999992, 1.5050000000000003, 4.515], 'properties': {}, 'label': 'V'}, {'species': [{'element': 'V', 'occu': 1}], 'abc': [0.19999999999999998, 0.4, 0.6000000000000001], 'xyz': [-8.881784197001252e-16, 3.0100000000000007, 6.0200000000000005], 'properties': {}, 'label': 'V'}, {'species': [{'element': 'V', 'occu': 1}], 'abc': [0.19999999999999996, 0.4, 0.8], 'xyz': [-1.5050000000000008, 4.515, 7.525], 'properties': {}, 'label': 'V'}, {'species': [{'element': 'V', 'occu': 1}], 'abc': [0.2, 0.6000000000000001, 0.0], 'xyz': [6.0200000000000005, -3.0100000000000007, 3.0100000000000007], 'properties': {}, 'label': 'V'}, {'species': [{'element': 'V', 'occu': 1}], 'abc': [0.19999999999999998, 0.6000000000000001, 0.19999999999999998], 'xyz': [4.515000000000001, -1.5050000000000012, 4.515000000000001], 'properties': {}, 'label': 'V'}, {'species': [{'element': 'V', 'occu': 1}], 'abc': [0.2, 0.6000000000000001, 0.4], 'xyz': [3.0100000000000007, -8.881784197001252e-16, 6.0200000000000005], 'properties': {}, 'label': 'V'}, {'species': [{'element': 'V', 'occu': 1}], 'abc': [0.2, 0.6000000000000001, 0.6000000000000001], 'xyz': [1.505, 1.505, 7.525000000000001], 'properties': {}, 'label': 'V'}, {'species': [{'element': 'V', 'occu': 1}], 'abc': [0.2, 0.6000000000000002, 0.8], 'xyz': [1.7763568394002505e-15, 3.009999999999998, 9.030000000000001], 'properties': {}, 'label': 'V'}, {'species': [{'element': 'V', 'occu': 1}], 'abc': [0.2, 0.8, 0.0], 'xyz': [7.5249999999999995, -4.515, 4.515], 'properties': {}, 'label': 'V'}, {'species': [{'element': 'V', 'occu': 1}], 'abc': [0.2, 0.8, 0.2], 'xyz': [6.02, -3.01, 6.02], 'properties': {}, 'label': 'V'}, {'species': [{'element': 'V', 'occu': 1}], 'abc': [0.2, 0.8, 0.4], 'xyz': [4.515, -1.505, 7.5249999999999995], 'properties': {}, 'label': 'V'}, {'species': [{'element': 'V', 'occu': 1}], 'abc': [0.2, 0.7999999999999999, 0.6], 'xyz': [3.009999999999999, 8.881784197001252e-16, 9.029999999999998], 'properties': {}, 'label': 'V'}, {'species': [{'element': 'V', 'occu': 1}], 'abc': [0.2, 0.8, 0.8], 'xyz': [1.505, 1.505, 10.535], 'properties': {}, 'label': 'V'}, {'species': [{'element': 'V', 'occu': 1}], 'abc': [0.4, 1.0139084109024842e-17, 0.0], 'xyz': [3.01, 3.01, -3.01], 'properties': {}, 'label': 'V'}, {'species': [{'element': 'V', 'occu': 1}], 'abc': [0.4, 5.069542054512421e-18, 0.19999999999999998], 'xyz': [1.5050000000000001, 4.515, -1.5050000000000001], 'properties': {}, 'label': 'V'}, {'species': [{'element': 'V', 'occu': 1}], 'abc': [0.4, 1.0, 0.4], 'xyz': [7.5249999999999995, -1.505, 7.5249999999999995], 'properties': {}, 'label': 'V'}, {'species': [{'element': 'V', 'occu': 1}], 'abc': [0.4000000000000001, 1.0, 0.6000000000000002], 'xyz': [6.019999999999999, 1.7763568394002505e-15, 9.030000000000001], 'properties': {}, 'label': 'V'}, {'species': [{'element': 'V', 'occu': 1}], 'abc': [0.3999999999999999, 1.0, 0.8], 'xyz': [4.514999999999999, 1.505, 10.535], 'properties': {}, 'label': 'V'}, {'species': [{'element': 'V', 'occu': 1}], 'abc': [0.4, 0.19999999999999998, 0.0], 'xyz': [4.515, 1.5050000000000001, -1.5050000000000001], 'properties': {}, 'label': 'V'}, {'species': [{'element': 'V', 'occu': 1}], 'abc': [0.4, 0.2, 0.2], 'xyz': [3.01, 3.01, 0.0], 'properties': {}, 'label': 'V'}, {'species': [{'element': 'V', 'occu': 1}], 'abc': [0.39999999999999997, 0.2, 0.4], 'xyz': [1.5049999999999992, 4.515, 1.5050000000000006], 'properties': {}, 'label': 'V'}, {'species': [{'element': 'V', 'occu': 1}], 'abc': [0.4, 0.2, 0.6000000000000001], 'xyz': [-6.661338147750939e-16, 6.0200000000000005, 3.0100000000000007], 'properties': {}, 'label': 'V'}, {'species': [{'element': 'V', 'occu': 1}], 'abc': [0.39999999999999997, 0.19999999999999996, 0.8], 'xyz': [-1.5050000000000012, 7.525, 4.515000000000001], 'properties': {}, 'label': 'V'}, {'species': [{'element': 'V', 'occu': 1}], 'abc': [0.4, 0.4, 1.926292274453446e-18], 'xyz': [6.02, 0.0, 0.0], 'properties': {}, 'label': 'V'}, {'species': [{'element': 'V', 'occu': 1}], 'abc': [0.4, 0.4, 0.4], 'xyz': [3.01, 3.01, 3.01], 'properties': {}, 'label': 'V'}, {'species': [{'element': 'V', 'occu': 1}], 'abc': [0.4, 0.4, 0.6000000000000001], 'xyz': [1.5049999999999992, 4.515000000000001, 4.515000000000001], 'properties': {}, 'label': 'V'}, {'species': [{'element': 'V', 'occu': 1}], 'abc': [0.4, 0.4, 0.8], 'xyz': [-4.440892098500626e-16, 6.02, 6.02], 'properties': {}, 'label': 'V'}, {'species': [{'element': 'V', 'occu': 1}], 'abc': [0.4000000000000001, 0.6000000000000002, 0.0], 'xyz': [7.525000000000002, -1.5050000000000012, 1.5050000000000012], 'properties': {}, 'label': 'V'}, {'species': [{'element': 'V', 'occu': 1}], 'abc': [0.4, 0.6000000000000001, 0.20000000000000004], 'xyz': [6.0200000000000005, -8.881784197001252e-16, 3.0100000000000007], 'properties': {}, 'label': 'V'}, {'species': [{'element': 'V', 'occu': 1}], 'abc': [0.4, 0.6000000000000001, 0.4], 'xyz': [4.515000000000001, 1.504999999999999, 4.515000000000001], 'properties': {}, 'label': 'V'}, {'species': [{'element': 'V', 'occu': 1}], 'abc': [0.4, 0.6000000000000001, 0.6000000000000001], 'xyz': [3.01, 3.01, 6.020000000000001], 'properties': {}, 'label': 'V'}, {'species': [{'element': 'V', 'occu': 1}], 'abc': [0.4, 0.6000000000000001, 0.8], 'xyz': [1.5050000000000003, 4.514999999999999, 7.525], 'properties': {}, 'label': 'V'}, {'species': [{'element': 'V', 'occu': 1}], 'abc': [0.3999999999999999, 0.8, 0.0], 'xyz': [9.029999999999998, -3.0100000000000007, 3.0100000000000007], 'properties': {}, 'label': 'V'}, {'species': [{'element': 'V', 'occu': 1}], 'abc': [0.39999999999999997, 0.8, 0.2], 'xyz': [7.524999999999999, -1.505, 4.515000000000001], 'properties': {}, 'label': 'V'}, {'species': [{'element': 'V', 'occu': 1}], 'abc': [0.4, 0.8, 0.4000000000000001], 'xyz': [6.019999999999999, 8.881784197001252e-16, 6.0200000000000005], 'properties': {}, 'label': 'V'}, {'species': [{'element': 'V', 'occu': 1}], 'abc': [0.39999999999999997, 0.8, 0.6000000000000001], 'xyz': [4.514999999999999, 1.505, 7.525], 'properties': {}, 'label': 'V'}, {'species': [{'element': 'V', 'occu': 1}], 'abc': [0.4, 0.7999999999999999, 0.8], 'xyz': [3.0099999999999985, 3.0100000000000007, 9.03], 'properties': {}, 'label': 'V'}, {'species': [{'element': 'V', 'occu': 1}], 'abc': [0.6000000000000001, 1.0, 0.0], 'xyz': [12.04, -3.009999999999999, 3.009999999999999], 'properties': {}, 'label': 'V'}, {'species': [{'element': 'V', 'occu': 1}], 'abc': [0.6000000000000002, 2.441522436421308e-18, 0.4000000000000001], 'xyz': [1.505000000000001, 7.525000000000002, -1.505000000000001], 'properties': {}, 'label': 'V'}, {'species': [{'element': 'V', 'occu': 1}], 'abc': [0.6000000000000001, 8.301589857294932e-34, 0.6000000000000001], 'xyz': [2.1982415887578104e-16, 9.030000000000001, -2.1982415887578104e-16], 'properties': {}, 'label': 'V'}, {'species': [{'element': 'V', 'occu': 1}], 'abc': [0.6000000000000001, 1.0, 0.8], 'xyz': [6.02, 3.0100000000000007, 9.03], 'properties': {}, 'label': 'V'}, {'species': [{'element': 'V', 'occu': 1}], 'abc': [0.6000000000000001, 0.2, 0.0], 'xyz': [6.0200000000000005, 3.0100000000000007, -3.0100000000000007], 'properties': {}, 'label': 'V'}, {'species': [{'element': 'V', 'occu': 1}], 'abc': [0.6000000000000001, 0.2, 0.4], 'xyz': [3.0100000000000007, 6.0200000000000005, -6.661338147750939e-16], 'properties': {}, 'label': 'V'}, {'species': [{'element': 'V', 'occu': 1}], 'abc': [0.6000000000000001, 0.2, 0.8], 'xyz': [4.440892098500626e-16, 9.030000000000001, 3.0099999999999993], 'properties': {}, 'label': 'V'}, {'species': [{'element': 'V', 'occu': 1}], 'abc': [0.6000000000000002, 0.4000000000000001, 0.0], 'xyz': [7.525000000000002, 1.5050000000000012, -1.5050000000000012], 'properties': {}, 'label': 'V'}, {'species': [{'element': 'V', 'occu': 1}], 'abc': [0.6000000000000001, 0.4, 0.20000000000000004], 'xyz': [6.02, 3.0100000000000007, -4.440892098500626e-16], 'properties': {}, 'label': 'V'}, {'species': [{'element': 'V', 'occu': 1}], 'abc': [0.6000000000000001, 0.4, 0.4], 'xyz': [4.515000000000001, 4.515000000000001, 1.5049999999999992], 'properties': {}, 'label': 'V'}, {'species': [{'element': 'V', 'occu': 1}], 'abc': [0.6000000000000001, 0.4, 0.6000000000000001], 'xyz': [3.01, 6.020000000000001, 3.01], 'properties': {}, 'label': 'V'}, {'species': [{'element': 'V', 'occu': 1}], 'abc': [0.6000000000000001, 0.4, 0.8], 'xyz': [1.5050000000000003, 7.525, 4.514999999999999], 'properties': {}, 'label': 'V'}, {'species': [{'element': 'V', 'occu': 1}], 'abc': [0.6000000000000001, 0.6000000000000001, 2.8894384116801714e-18], 'xyz': [9.030000000000001, 0.0, 0.0], 'properties': {}, 'label': 'V'}, {'species': [{'element': 'V', 'occu': 1}], 'abc': [0.6000000000000001, 0.6000000000000001, 0.2], 'xyz': [7.525000000000001, 1.505, 1.505], 'properties': {}, 'label': 'V'}, {'species': [{'element': 'V', 'occu': 1}], 'abc': [0.6000000000000002, 0.6000000000000001, 0.4], 'xyz': [6.020000000000002, 3.0100000000000007, 3.009999999999999], 'properties': {}, 'label': 'V'}, {'species': [{'element': 'V', 'occu': 1}], 'abc': [0.6000000000000001, 0.6000000000000001, 0.6000000000000001], 'xyz': [4.515000000000001, 4.515000000000001, 4.515000000000001], 'properties': {}, 'label': 'V'}, {'species': [{'element': 'V', 'occu': 1}], 'abc': [0.6, 0.7999999999999999, 0.2], 'xyz': [9.029999999999998, 8.881784197001252e-16, 3.009999999999999], 'properties': {}, 'label': 'V'}, {'species': [{'element': 'V', 'occu': 1}], 'abc': [0.6000000000000002, 0.8000000000000002, 0.4], 'xyz': [7.525000000000002, 1.5050000000000008, 4.514999999999999], 'properties': {}, 'label': 'V'}, {'species': [{'element': 'V', 'occu': 1}], 'abc': [0.6000000000000001, 0.8, 0.6000000000000001], 'xyz': [6.02, 3.0100000000000016, 6.02], 'properties': {}, 'label': 'V'}, {'species': [{'element': 'V', 'occu': 1}], 'abc': [0.6000000000000001, 0.8, 0.8], 'xyz': [4.515000000000001, 4.515000000000001, 7.524999999999999], 'properties': {}, 'label': 'V'}, {'species': [{'element': 'V', 'occu': 1}], 'abc': [0.8, 2.0278168218049684e-17, 0.0], 'xyz': [6.02, 6.02, -6.02], 'properties': {}, 'label': 'V'}, {'species': [{'element': 'V', 'occu': 1}], 'abc': [0.8, 1.0, 0.2], 'xyz': [12.04, 0.0, 3.01], 'properties': {}, 'label': 'V'}, {'species': [{'element': 'V', 'occu': 1}], 'abc': [0.8, 1.0, 0.6000000000000001], 'xyz': [9.03, 3.0100000000000007, 6.0200000000000005], 'properties': {}, 'label': 'V'}, {'species': [{'element': 'V', 'occu': 1}], 'abc': [0.8, 0.2, 0.0], 'xyz': [7.5249999999999995, 4.515, -4.515], 'properties': {}, 'label': 'V'}, {'species': [{'element': 'V', 'occu': 1}], 'abc': [0.8, 0.2, 0.2], 'xyz': [6.02, 6.02, -3.01], 'properties': {}, 'label': 'V'}, {'species': [{'element': 'V', 'occu': 1}], 'abc': [0.8, 0.2, 0.4], 'xyz': [4.515, 7.5249999999999995, -1.505], 'properties': {}, 'label': 'V'}, {'species': [{'element': 'V', 'occu': 1}], 'abc': [0.7999999999999999, 0.2, 0.6], 'xyz': [3.009999999999999, 9.029999999999998, 6.661338147750939e-16], 'properties': {}, 'label': 'V'}, {'species': [{'element': 'V', 'occu': 1}], 'abc': [0.8, 0.2, 0.8], 'xyz': [1.5049999999999994, 10.535, 1.5050000000000003], 'properties': {}, 'label': 'V'}, {'species': [{'element': 'V', 'occu': 1}], 'abc': [0.8, 0.39999999999999997, 0.0], 'xyz': [9.03, 3.0100000000000002, -3.0100000000000002], 'properties': {}, 'label': 'V'}, {'species': [{'element': 'V', 'occu': 1}], 'abc': [0.8, 0.4, 0.2], 'xyz': [7.5249999999999995, 4.515, -1.505], 'properties': {}, 'label': 'V'}, {'species': [{'element': 'V', 'occu': 1}], 'abc': [0.8, 0.4, 0.4], 'xyz': [6.02, 6.02, 0.0], 'properties': {}, 'label': 'V'}, {'species': [{'element': 'V', 'occu': 1}], 'abc': [0.8, 0.39999999999999997, 0.6000000000000002], 'xyz': [4.514999999999998, 7.525, 1.505000000000001], 'properties': {}, 'label': 'V'}, {'species': [{'element': 'V', 'occu': 1}], 'abc': [0.7999999999999999, 0.4, 0.8], 'xyz': [3.0099999999999985, 9.03, 3.010000000000001], 'properties': {}, 'label': 'V'}, {'species': [{'element': 'V', 'occu': 1}], 'abc': [0.8, 0.6000000000000001, 0.0], 'xyz': [10.535, 1.504999999999999, -1.504999999999999], 'properties': {}, 'label': 'V'}, {'species': [{'element': 'V', 'occu': 1}], 'abc': [0.7999999999999999, 0.6, 0.20000000000000004], 'xyz': [9.029999999999998, 3.009999999999999, 8.881784197001252e-16], 'properties': {}, 'label': 'V'}, {'species': [{'element': 'V', 'occu': 1}], 'abc': [0.8, 0.6000000000000002, 0.4], 'xyz': [7.525000000000001, 4.514999999999998, 1.5050000000000017], 'properties': {}, 'label': 'V'}, {'species': [{'element': 'V', 'occu': 1}], 'abc': [0.8, 0.6000000000000001, 0.6000000000000001], 'xyz': [6.02, 6.02, 3.0100000000000016], 'properties': {}, 'label': 'V'}, {'species': [{'element': 'V', 'occu': 1}], 'abc': [0.8, 0.6000000000000001, 0.8], 'xyz': [4.515000000000001, 7.524999999999999, 4.515000000000001], 'properties': {}, 'label': 'V'}, {'species': [{'element': 'V', 'occu': 1}], 'abc': [0.8, 0.8, 3.852584548906892e-18], 'xyz': [12.04, 0.0, 0.0], 'properties': {}, 'label': 'V'}, {'species': [{'element': 'V', 'occu': 1}], 'abc': [0.7999999999999999, 0.7999999999999999, 0.2], 'xyz': [10.534999999999997, 1.505, 1.505], 'properties': {}, 'label': 'V'}, {'species': [{'element': 'V', 'occu': 1}], 'abc': [0.8, 0.8, 0.4], 'xyz': [9.03, 3.01, 3.01], 'properties': {}, 'label': 'V'}, {'species': [{'element': 'V', 'occu': 1}], 'abc': [0.7999999999999999, 0.8, 0.6000000000000001], 'xyz': [7.524999999999998, 4.514999999999999, 4.5150000000000015], 'properties': {}, 'label': 'V'}, {'species': [{'element': 'Cr', 'occu': 1}], 'abc': [0.0, 1.6050975609546468e-17, 0.6000000000000001], 'xyz': [-4.515000000000001, 4.515000000000001, 4.515000000000001], 'properties': {}, 'label': 'Cr'}, {'species': [{'element': 'Cr', 'occu': 1}], 'abc': [0.0, 0.39999999999999997, 0.8], 'xyz': [-3.0100000000000002, 3.0100000000000002, 9.03], 'properties': {}, 'label': 'Cr'}, {'species': [{'element': 'Cr', 'occu': 1}], 'abc': [0.0, 0.6000000000000001, 0.4000000000000001], 'xyz': [1.5050000000000003, -1.5050000000000003, 7.525], 'properties': {}, 'label': 'Cr'}, {'species': [{'element': 'Cr', 'occu': 1}], 'abc': [0.2, 1.0, 0.6000000000000001], 'xyz': [4.514999999999999, -1.504999999999999, 10.535], 'properties': {}, 'label': 'Cr'}, {'species': [{'element': 'Cr', 'occu': 1}], 'abc': [0.2, 0.2, 0.2], 'xyz': [1.505, 1.505, 1.505], 'properties': {}, 'label': 'Cr'}, {'species': [{'element': 'Cr', 'occu': 1}], 'abc': [0.19999999999999996, 0.4, 0.0], 'xyz': [4.514999999999999, -1.5050000000000003, 1.5050000000000003], 'properties': {}, 'label': 'Cr'}, {'species': [{'element': 'Cr', 'occu': 1}], 'abc': [0.6000000000000001, 0.19999999999999998, 0.19999999999999998], 'xyz': [4.515000000000001, 4.515000000000001, -1.505000000000001], 'properties': {}, 'label': 'Cr'}, {'species': [{'element': 'Cr', 'occu': 1}], 'abc': [0.6000000000000002, 0.6000000000000001, 0.8], 'xyz': [3.010000000000002, 6.020000000000001, 6.02], 'properties': {}, 'label': 'Cr'}, {'species': [{'element': 'W', 'occu': 1}], 'abc': [0.0, 0.39999999999999997, 0.4], 'xyz': [-4.440892098500626e-16, 4.440892098500626e-16, 6.02], 'properties': {}, 'label': 'W'}, {'species': [{'element': 'W', 'occu': 1}], 'abc': [0.4, 0.4, 0.2], 'xyz': [4.515, 1.505, 1.505], 'properties': {}, 'label': 'W'}, {'species': [{'element': 'W', 'occu': 1}], 'abc': [0.6000000000000001, 6.635057951570025e-18, 0.2], 'xyz': [3.0100000000000007, 6.0200000000000005, -3.0100000000000007], 'properties': {}, 'label': 'W'}, {'species': [{'element': 'W', 'occu': 1}], 'abc': [0.6000000000000001, 0.2, 0.6000000000000001], 'xyz': [1.5050000000000001, 7.525000000000001, 1.5049999999999997], 'properties': {}, 'label': 'W'}]}}\n"
     ]
    }
   ],
   "source": [
    "print(len(supercells))\n",
    "print(supercells[0])\n",
    "for supercell in supercells:\n",
    "    if supercell['generation'] == 4:\n",
    "        # I also want to print the filename key, but only take the last section split by / \n",
    "        filename = supercell['filename'].split('/')[-1]\n",
    "        # i have a dictionary of composition, that I want to sum over the amounts \n",
    "        # i.e supercell['composition'] = {'V': 0.2, 'Cr': 0.2, 'Ti': 0.2, 'W': 0.2, 'Zr': 0.2}, and I'd sum those values\n",
    "        total = sum(supercell['composition'].values())\n",
    "        if total != 1:\n",
    "            print(f\"File = {filename}, with Comp = {supercell['composition']}\")\n",
    "            print(f\"Total = {total}\")\n",
    "            print(\"\")\n",
    "        #print(f\"File = {filename}, with Comp = {supercell['composition']}\")"
   ]
  },
  {
   "cell_type": "code",
   "execution_count": 7,
   "metadata": {},
   "outputs": [],
   "source": [
    "from pymatgen.transformations.standard_transformations import PerturbStructureTransformation\n",
    "\n",
    "# now if generation = 0, let's make vasp relaxation jobs for all of these structures\n",
    "# first we will get the list of all the .cif files in the structure output directory\n",
    "\n",
    "gen_num = 4\n",
    "cif_files = [f for f in os.listdir(output_dir) if f.endswith('.cif')]\n",
    "\n",
    "incar_params = {'ALGO':'Normal', # from FAST\n",
    "'ENCUT': 550,\n",
    "'EDIFF': 1E-6,\n",
    "'EDIFFG': -0.01,\n",
    "'ISMEAR': 1,\n",
    "'SIGMA': 0.2,\n",
    "'LWAVE': '.FALSE.',\n",
    "'LCHARG': '.FALSE.',\n",
    "'LORBIT': 11,\n",
    "'LREAL': '.FALSE.',\n",
    "'NELM' : 100,\n",
    "'NELMIN' : 5,\n",
    "'NSW' : 200,\n",
    "'PREC' : 'Accurate',\n",
    "'IBRION' : 2,\n",
    "#'SMASS' : 1.85,\n",
    "'POTIM' : 0.2, # from 0.25\n",
    "'ISIF' : 3,\n",
    "#'KSPACING' : 0.15,\n",
    "#'NBANDS' : supercell.num_sites*2*5, # assuming 5 electrons per atom\n",
    "} \n",
    "\n",
    "# next select only the structure names that contains gen0\n",
    "gen0_structures = [f for f in cif_files if f'gen{gen_num}' in f]\n",
    "\n",
    "# now define vasp_job folder\n",
    "vasp_job_dir = f'../Archived_Vasp_Jobs/VCrTiWZr_Summit/Fixed-Encut-KPoints/125-Atoms-dist/gen{gen_num}'\n",
    "# check if the vasp_job_dir exists, if not create it\n",
    "if not os.path.exists(vasp_job_dir):\n",
    "    os.makedirs(vasp_job_dir)\n",
    "kpoints = (4,4,4)\n",
    "# now we will create the vasp job files for all the gen0 structures\n",
    "for f in gen0_structures:\n",
    "    cif_file = os.path.join(output_dir, f)\n",
    "    struct = Structure.from_file(cif_file)\n",
    "\n",
    "    # displace the atoms a little to help with convergence \n",
    "    trans = PerturbStructureTransformation(distance=0.1, min_distance=0.01)\n",
    "    distorted_struct = trans.apply_transformation(struct)\n",
    "\n",
    "    # define job path \n",
    "    vasp_job_path = os.path.join(vasp_job_dir, f.replace('.cif', ''))\n",
    "\n",
    "    # make the vasp_job_path directory\n",
    "    if not os.path.exists(vasp_job_path):\n",
    "        os.makedirs(vasp_job_path)\n",
    "\n",
    "    # make a vasp job from the structure\n",
    "    make_vasp_job(distorted_struct, vasp_job_path, kpoints_params=kpoints, vol_relax=True, incar_params=incar_params)\n",
    "\n"
   ]
  },
  {
   "cell_type": "markdown",
   "metadata": {},
   "source": [
    "# Generate Defects from pristine systems"
   ]
  },
  {
   "cell_type": "markdown",
   "metadata": {},
   "source": [
    "## defect functions"
   ]
  },
  {
   "cell_type": "code",
   "execution_count": 2,
   "metadata": {},
   "outputs": [],
   "source": [
    "import os\n",
    "import json\n",
    "import sys\n",
    "import numpy as np\n",
    "import random\n",
    "from smol.io import load_work\n",
    "from pymatgen.core.structure import Structure\n",
    "from pymatgen.entries.computed_entries import ComputedStructureEntry\n",
    "from pymatgen.io.vasp.inputs import Poscar\n",
    "from pymatgen.io.vasp.outputs import Outcar\n",
    "from ase.db import connect\n",
    "from ase.io import write\n",
    "from ase.visualize import view\n",
    "\n",
    "sys.path.append('../Modules')\n",
    "from defect_maker import make_defects, return_x_neighbors\n",
    "from vasp_misc import *\n",
    "# Function to load and sort the structure\n",
    "def load_and_sort_structure(entry):\n",
    "    return Structure.from_dict(entry.structure.as_dict()).get_sorted_structure()\n",
    "\n",
    "def _read_contcar_direct(contcar_file):\n",
    "    try:\n",
    "        with open(contcar_file, 'r') as file:\n",
    "            lines = file.readlines()\n",
    "            # Read the lattice constant\n",
    "            lattice_constant = float(lines[1].strip())\n",
    "            # Read the lattice vectors\n",
    "            lattice_vectors = [list(map(float, line.strip().split())) for line in lines[2:5]]\n",
    "            # Read the elements and their counts\n",
    "            #elements = lines[5].strip().split()\n",
    "            elements = [element.split('_')[0] for element in lines[5].strip().split()]\n",
    "            print(elements)\n",
    "            element_counts = list(map(int, lines[6].strip().split()))\n",
    "            # Create a list of species that matches the number of coordinates\n",
    "            species = [element for element, count in zip(elements, element_counts) for _ in range(count)]\n",
    "            # Read the coordinates\n",
    "            coordinates = [list(map(float, line.strip().split())) for line in lines[8:8+sum(element_counts)]]\n",
    "            # Convert the coordinates from direct to Cartesian\n",
    "            cartesian_coordinates = [[sum(a*b for a, b in zip(coord, vector)) for vector in lattice_vectors] for coord in coordinates]\n",
    "            # Create the structure\n",
    "            contcar = Structure(lattice_vectors, species, cartesian_coordinates)\n",
    "            return contcar\n",
    "    except Exception as e:\n",
    "        print(f\"Error reading CONTCAR file {contcar_file}: {e}\")\n",
    "        raise e\n",
    "        return None\n",
    "    \n",
    "from pymatgen.core.structure import Structure\n",
    "\n",
    "def read_contcar_direct(contcar_file):\n",
    "    try:\n",
    "        with open(contcar_file, 'r') as file:\n",
    "            lines = file.readlines()\n",
    "            # Read the lattice constant\n",
    "            lattice_constant = float(lines[1].strip())\n",
    "            # Read the lattice vectors\n",
    "            lattice_vectors = [list(map(float, line.strip().split())) for line in lines[2:5]]\n",
    "            # Read the elements and their counts\n",
    "            elements_line = lines[5].strip().split()\n",
    "            if '/' in elements_line[0]:\n",
    "                # Handle format where elements are followed by identifiers\n",
    "                #elements = [element.split('/')[0] for element in elements_line]\n",
    "                elements = [element.split('/')[0].rstrip('_pv').rstrip('_sv') for element in elements_line]\n",
    "\n",
    "            else:\n",
    "                # Handle format where elements are directly listed\n",
    "                elements = elements_line\n",
    "            print(elements)\n",
    "            element_counts = list(map(int, lines[6].strip().split()))\n",
    "            # Create a list of species that matches the number of coordinates\n",
    "            species = [element for element, count in zip(elements, element_counts) for _ in range(count)]\n",
    "            # coordinate type\n",
    "            coord_type = lines[7].strip()\n",
    "            if coord_type.startswith(('c','C')):\n",
    "                cart = True\n",
    "            elif coord_type.startswith(('d','D')):\n",
    "                cart = False\n",
    "            # Read the coordinates\n",
    "            coordinates_start_index = 8\n",
    "            coordinates = []\n",
    "            for line in lines[coordinates_start_index:coordinates_start_index + sum(element_counts)]:\n",
    "                parts = line.strip().split()\n",
    "                coordinates.append(list(map(float, parts[:3])))\n",
    "\n",
    "            # Convert the coordinates from direct to Cartesian\n",
    "            #cartesian_coordinates = [\n",
    "                #[sum(a*b for a, b in zip(coord, vector)) for vector in zip(*lattice_vectors)]\n",
    "                #for coord in coordinates\n",
    "            #]\n",
    "            # Create the structure\n",
    "            contcar = Structure(lattice_vectors, species, coords=coordinates, coords_are_cartesian=cart)\n",
    "            return contcar\n",
    "    except Exception as e:\n",
    "        print(f\"Error reading CONTCAR file {contcar_file}: {e}\")\n",
    "        raise e\n",
    "        return None\n",
    "\n",
    "\n",
    "# Function to find N target atoms without overlapping second nearest neighbors\n",
    "def _find_target_atoms(structure, N, neighbor_distance=2):\n",
    "    all_indices = list(range(len(structure)))\n",
    "    random.shuffle(all_indices)\n",
    "    target_atoms = []\n",
    "    neighbor_sets = []\n",
    "\n",
    "    print(f\"All indices: {all_indices}\")\n",
    "\n",
    "    while all_indices and len(target_atoms) < N:\n",
    "        index = all_indices.pop()\n",
    "        #neighbors, _ = return_x_neighbors(structure, target_atom_index=index, x_neighbor=neighbor_distance, alat=structure.lattice.a)\n",
    "        neighbors = []\n",
    "        for distance in range(1, neighbor_distance + 1):\n",
    "            neighbors_distance, _ = return_x_neighbors(structure, target_atom_index=index, x_neighbor=distance, alat=structure.lattice.a)\n",
    "            neighbors.extend(neighbors_distance)\n",
    "        print(f\"Index: {index}, Neighbors: {neighbors}\")\n",
    "\n",
    "        if not any(set(neighbors).intersection(neighbor_set) for neighbor_set in neighbor_sets):\n",
    "            target_atoms.append(index)\n",
    "            neighbor_sets.append(set(neighbors))\n",
    "            print(f\"Selected target atom index: {index}\")\n",
    "\n",
    "    #return target_atoms if len(target_atoms) == N else None\n",
    "    return target_atoms \n",
    "\n",
    "def find_target_atoms(structure, N, neighbor_distance=2, cutoff_distance=5):\n",
    "    all_indices = list(range(len(structure)))\n",
    "    random.shuffle(all_indices)\n",
    "    target_atoms = []\n",
    "    neighbor_sets = []\n",
    "\n",
    "    print(f\"All indices: {all_indices}\")\n",
    "\n",
    "    while all_indices and len(target_atoms) < N:\n",
    "        index = all_indices.pop()\n",
    "        neighbors = []\n",
    "        for distance in range(1, neighbor_distance + 1):\n",
    "            neighbors_distance, _ = return_x_neighbors(structure, target_atom_index=index, x_neighbor=distance, alat=structure.lattice.a)\n",
    "            neighbors.extend(neighbors_distance)\n",
    "        \n",
    "        print(f\"Index: {index}, Neighbors: {neighbors}\")\n",
    "\n",
    "        if not any(set(neighbors).intersection(neighbor_set) for neighbor_set in neighbor_sets):\n",
    "            # Check if the distance to all existing target atoms is greater than the cutoff distance\n",
    "            if all(structure.get_distance(index, target_atom) > cutoff_distance for target_atom in target_atoms):\n",
    "                target_atoms.append(index)\n",
    "                neighbor_sets.append(set(neighbors))\n",
    "                print(f\"Selected target atom index: {index}\")\n",
    "\n",
    "    #return target_atoms if len(target_atoms) == N else None\n",
    "    return target_atoms\n",
    "\n",
    "def _randomly_pick_sites(structure, n):\n",
    "    # Ensure that n is not greater than the number of sites in the structure\n",
    "    if n > len(structure.sites):\n",
    "        raise ValueError(\"The number of sites to pick cannot be greater than the number of sites in the structure.\")\n",
    "    \n",
    "    # Randomly select n sites from the structure\n",
    "    random_sites = random.sample(structure.sites, n)\n",
    "    return random_sites\n",
    "\n",
    "import random\n",
    "from scipy.spatial.distance import cdist\n",
    "\n",
    "def _randomly_pick_sites(structure, n, cutoff=1):\n",
    "    # Ensure that n is not greater than the number of sites in the structure\n",
    "    if n > len(structure.sites):\n",
    "        raise ValueError(\"The number of sites to pick cannot be greater than the number of sites in the structure.\")\n",
    "    \n",
    "    # Randomly select n sites from the structure\n",
    "    random_sites = []\n",
    "    while len(random_sites) < n:\n",
    "        potential_site = random.choice(structure.sites)\n",
    "        print(\"Potential site: \", potential_site.coords)\n",
    "        print(cutoff * min(structure.lattice.abc))\n",
    "        if all(cdist([potential_site.coords], [site.coords])[0][0] > cutoff * min(structure.lattice.abc) for site in random_sites):\n",
    "            print(\"Found site\")\n",
    "            random_sites.append(potential_site)\n",
    "    return random_sites\n",
    "\n",
    "import random\n",
    "import numpy as np\n",
    "from pymatgen.core.structure import Structure\n",
    "\n",
    "def randomly_pick_sites(structure, n, initial_cutoff=1.25, max_attempts=1000, reduction_factor=0.9):\n",
    "    \"\"\"\n",
    "    Randomly selects a specified number of sites from a given structure.\n",
    "\n",
    "    Args:\n",
    "        structure (Structure): The structure from which to randomly select sites.\n",
    "        n (int): The number of sites to randomly select.\n",
    "        initial_cutoff (float, optional): The initial cutoff distance for site selection. Defaults to 1.25.\n",
    "        max_attempts (int, optional): The maximum number of attempts to make for site selection. Defaults to 1000.\n",
    "        reduction_factor (float, optional): The reduction factor for the cutoff distance after each unsuccessful attempt. Defaults to 0.9.\n",
    "\n",
    "    Returns:\n",
    "        list: A list of randomly selected sites from the structure.\n",
    "\n",
    "    Raises:\n",
    "        ValueError: If the number of sites to pick is greater than the number of sites in the structure.\n",
    "    \"\"\"\n",
    "    # Ensure that n is not greater than the number of sites in the structure\n",
    "    if n > len(structure.sites):\n",
    "        raise ValueError(\"The number of sites to pick cannot be greater than the number of sites in the structure.\")\n",
    "    \n",
    "    # Randomly select n sites from the structure with iterative reduction in cutoff\n",
    "    random_sites = []\n",
    "    cutoff = initial_cutoff\n",
    "    while len(random_sites) < n:\n",
    "        attempts = 0\n",
    "        while len(random_sites) < n and attempts < max_attempts:\n",
    "            potential_site = random.choice(structure.sites)\n",
    "            if all(np.linalg.norm(np.array(potential_site.coords) - np.array(site.coords)) > cutoff * min(structure.lattice.abc) for site in random_sites):\n",
    "                random_sites.append(potential_site)\n",
    "            attempts += 1\n",
    "        \n",
    "        if len(random_sites) < n:\n",
    "            cutoff *= reduction_factor\n",
    "            random_sites = []  # Reset and try again with a reduced cutoff\n",
    "    \n",
    "    return random_sites\n",
    "\n",
    "# Function to select a random neighbor\n",
    "def select_random_neighbor(structure, target_atom_index, x_neighbor):\n",
    "    neighbors, _ = return_x_neighbors(structure, target_atom_index, x_neighbor, structure.lattice.a)\n",
    "    if neighbors:\n",
    "        return random.choice(neighbors)\n",
    "    return None\n",
    "\n",
    "# Function to create and save structures with vacancies\n",
    "def create_and_save_structures(entries, N, job_path, neighbor_distance=2, cutoff_distance=1.25):\n",
    "    for k, entry in enumerate(entries):\n",
    "        print(f\"Processing entry {k+1}/{len(entries)}...\")\n",
    "        structure = load_and_sort_structure(entry)\n",
    "        #target_atoms = find_target_atoms(structure, N, neighbor_distance, cutoff_distance)\n",
    "        target_atoms = randomly_pick_sites(structure, N, cutoff = cutoff_distance)\n",
    "        if not target_atoms:\n",
    "            print(f\"No suitable target atoms found for entry {k+1}. Skipping...\")\n",
    "            continue\n",
    "        print(f\"Found target atoms for entry {k+1}: {target_atoms}\")\n",
    "\n",
    "        for n, target_atom_index in enumerate(target_atoms):\n",
    "            start_structure, _ = make_defects(structure, target_atom_index, target_atom_index)\n",
    "            print(\"Start defect made\")\n",
    "            if start_structure is None:\n",
    "                print(f\"Failed to create start structure for entry {k+1}, target atom {target_atom_index}.\")\n",
    "                continue\n",
    "\n",
    "            for x_neighbor in [1, 2, 3]:\n",
    "                print(\"Neigbor distance: \", x_neighbor)\n",
    "                vac_site = select_random_neighbor(structure, target_atom_index, x_neighbor)\n",
    "                if vac_site is not None:\n",
    "                    _, end_structure = make_defects(structure, target_atom_index, vac_site)\n",
    "                    if end_structure is None:\n",
    "                        print(f\"Failed to create end structure for entry {k+1}, target atom {target_atom_index}, vac_site {vac_site}.\")\n",
    "                        continue\n",
    "\n",
    "                    # Create directory and filenames\n",
    "                    directory = os.path.join(job_path, f\"structure_{k}_vac_site_{n}\")\n",
    "                    os.makedirs(directory, exist_ok=True)\n",
    "                    print(f\"Created directory: {directory}\")\n",
    "\n",
    "                    start_filename = os.path.join(directory, f\"structure_{k}_vac_site_{n}_start.vasp\")\n",
    "                    end_filename = os.path.join(directory, f\"structure_{k}_vac_site_{n}_end_site_{vac_site}.vasp\")\n",
    "\n",
    "                    # Write the structures to POSCAR files\n",
    "                    Poscar(start_structure).write_file(start_filename)\n",
    "                    print(f\"Written start structure to {start_filename}\")\n",
    "                    Poscar(end_structure).write_file(end_filename)\n",
    "                    print(f\"Written end structure to {end_filename}\")\n",
    "\n",
    "def _create_start_structures(entries, N, job_path, cutoff_distance=1.25):\n",
    "    start_structures = []\n",
    "    removed_indexes = []\n",
    "    for k, entry in enumerate(entries):\n",
    "        print(f\"Processing entry {k+1}/{len(entries)}...\")\n",
    "        structure = load_and_sort_structure(entry)\n",
    "        target_atoms = randomly_pick_sites(structure, N, cutoff = cutoff_distance)\n",
    "        if not target_atoms:\n",
    "            print(f\"No suitable target atoms found for entry {k+1}. Skipping...\")\n",
    "            continue\n",
    "        print(f\"Found target atoms for entry {k+1}: {target_atoms}\")\n",
    "\n",
    "        for n, target_atom_index in enumerate(target_atoms):\n",
    "            start_structure, _ = make_defects(structure, target_atom_index, target_atom_index)\n",
    "            if start_structure is None:\n",
    "                print(f\"Failed to create start structure for entry {k+1}, target atom {target_atom_index}.\")\n",
    "                continue\n",
    "            start_structures.append(start_structure)\n",
    "            removed_indexes.append(target_atom_index)\n",
    "    return start_structures, removed_indexes\n",
    "\n",
    "from pymatgen.entries.computed_entries import ComputedStructureEntry\n",
    "from monty.json import MontyEncoder, MontyDecoder\n",
    "from pymatgen.io.vasp import Poscar\n",
    "\n",
    "def create_start_structures(entries, N, job_path, cutoff_distance=1.25):\n",
    "    computed_entries = []\n",
    "    for k, entry in enumerate(entries):\n",
    "        print(f\"Processing entry {k+1}/{len(entries)}...\")\n",
    "        structure = load_and_sort_structure(entry)\n",
    "        target_atoms = randomly_pick_sites(structure, N, initial_cutoff= cutoff_distance)\n",
    "        if not target_atoms:\n",
    "            print(f\"No suitable target atoms found for entry {k+1}. Skipping...\")\n",
    "            continue\n",
    "        print(f\"Found target atoms for entry {k+1}: {target_atoms}\")\n",
    "\n",
    "        for n, target_atom_index in enumerate(target_atoms):\n",
    "            #print(\"On Target Atom: \", target_atom_index)\n",
    "            target_atom_index = structure.index(target_atom_index)\n",
    "            target_atom_composition = structure[target_atom_index].specie\n",
    "\n",
    "            start_structure, _ = make_defects(structure, target_atom_index, target_atom_index)\n",
    "            if start_structure is None:\n",
    "                print(f\"Failed to create start structure for entry {k+1}, target atom {target_atom_index}.\")\n",
    "                continue\n",
    "\n",
    "            # Save the structure as a .vasp file\n",
    "            #start_filename = os.path.join(job_path, f\"structure_{k}_vac_site_{n}_start.vasp\")\n",
    "            start_filename = os.path.join(job_path, f\"supercell_gen{entry.data['generation']}_comp{entry.data['comp']}_struct{entry.data['struct']}_vac_site{n}_start.vasp\")\n",
    "            Poscar(start_structure).write_file(start_filename)\n",
    "            print(f\"Written start structure to {start_filename}\")\n",
    "\n",
    "            # Create a ComputedStructureEntry and add it to the list\n",
    "            data = {'generation': entry.data['generation'],\n",
    "                    'comp': entry.data['comp'], \n",
    "                    'struct': entry.data['struct'], \n",
    "                    'vac_index' : target_atom_index, \n",
    "                    'vac_comp' : target_atom_composition, \n",
    "                    'perfect_structure' : entry.structure.as_dict()}\n",
    "            computed_entry = ComputedStructureEntry(start_structure, energy=None, data=data)\n",
    "            computed_entries.append(computed_entry)\n",
    "\n",
    "    # Save the computed entries as a JSON file\n",
    "    with open(os.path.join(job_path, 'computed_entries.json'), 'w') as f:\n",
    "        json.dump(computed_entries, f, cls=MontyEncoder)\n",
    "\n",
    "    print(\"Computed entries saved to JSON file.\")\n",
    "\n",
    "def create_end_structures(start_structures, removed_indexes, job_path):\n",
    "    for k, (start_structure, target_atom_index) in enumerate(zip(start_structures, removed_indexes)):\n",
    "        for n, x_neighbor in enumerate([1, 2, 3]):\n",
    "            vac_site = select_random_neighbor(start_structure, target_atom_index, x_neighbor)\n",
    "            if vac_site is not None:\n",
    "                _, end_structure = make_defects(start_structure, target_atom_index, vac_site)\n",
    "                if end_structure is None:\n",
    "                    print(f\"Failed to create end structure for entry {k+1}, target atom {target_atom_index}, vac_site {vac_site}.\")\n",
    "                    continue\n",
    "\n",
    "                # Create directory and filenames\n",
    "                directory = os.path.join(job_path, f\"structure_{k}_vac_site_{n}\")\n",
    "                os.makedirs(directory, exist_ok=True)\n",
    "                print(f\"Created directory: {directory}\")\n",
    "\n",
    "                start_filename = os.path.join(directory, f\"structure_{k}_vac_site_{n}_start.vasp\")\n",
    "                end_filename = os.path.join(directory, f\"structure_{k}_vac_site_{n}_end_site_{vac_site}.vasp\")\n",
    "\n",
    "                # Write the structures to POSCAR files\n",
    "                Poscar(start_structure).write_file(start_filename)\n",
    "                print(f\"Written start structure to {start_filename}\")\n",
    "                Poscar(end_structure).write_file(end_filename)\n",
    "                print(f\"Written end structure to {end_filename}\")\n",
    "\n",
    "def check_overlapping_atoms(structure, distance_threshold=0.4):\n",
    "    \"\"\"\n",
    "    Check if a pymatgen structure has overlapping atoms.\n",
    "    \n",
    "    Parameters:\n",
    "    structure (Structure): The pymatgen structure to check.\n",
    "    distance_threshold (float): The distance threshold below which atoms are considered overlapping.\n",
    "    \n",
    "    Returns:\n",
    "    bool: True if there are overlapping atoms, False otherwise.\n",
    "    \"\"\"\n",
    "    distances = structure.distance_matrix\n",
    "    num_atoms = len(structure)\n",
    "\n",
    "    for i in range(num_atoms):\n",
    "        for j in range(i + 1, num_atoms):\n",
    "            if distances[i, j] < distance_threshold:\n",
    "                return True\n",
    "    return False\n",
    "\n",
    "def _print_min_distance(structure: Structure):\n",
    "    min_distance = float('inf')\n",
    "\n",
    "    for i in range(len(structure)):\n",
    "        for j in range(i+1, len(structure)):\n",
    "            distance = structure[i].distance(structure[j])\n",
    "            min_distance = min(min_distance, distance)\n",
    "\n",
    "    print(f\"The minimum distance between any two atoms in the structure is: {min_distance}\")\n",
    "\n",
    "def print_min_distance(structure: Structure):\n",
    "    min_distance = float('inf')\n",
    "    atom1, atom2 = None, None\n",
    "\n",
    "    for i in range(len(structure)):\n",
    "        for j in range(i+1, len(structure)):\n",
    "            distance = structure[i].distance(structure[j])\n",
    "            if distance < min_distance:\n",
    "                min_distance = distance\n",
    "                atom1, atom2 = i, j\n",
    "\n",
    "    print(f\"The minimum distance between any two atoms in the structure is: {min_distance}\")\n",
    "    print(f\"The atoms are at indexes {atom1} and {atom2}\")\n",
    "    print(f\"The coordinates of the atoms are {structure[atom1].coords} and {structure[atom2].coords}\")"
   ]
  },
  {
   "cell_type": "markdown",
   "metadata": {},
   "source": [
    "## use functions to make defects"
   ]
  },
  {
   "cell_type": "code",
   "execution_count": 25,
   "metadata": {},
   "outputs": [
    {
     "name": "stdout",
     "output_type": "stream",
     "text": [
      "['Zr', 'Ti', 'V', 'Cr', 'W']\n",
      "The minimum distance between any two atoms in the structure is: 0.6237965294102353\n",
      "The atoms are at indexes 39 and 60\n",
      "The coordinates of the atoms are [20.61048249 19.32091985 35.70476762] and [10.26920498 36.84366393 28.45515659]\n"
     ]
    }
   ],
   "source": [
    "test_specific_contcar_path = '../Visualization/Job_Structures/Post_VASP/VCrTiWZr_Summit/gen_0_4/Vacancies/supercell_gen1_comp16_struct3_vac_site3_start/supercell_gen1_comp16_struct3_vac_site3_start.vasp'\n",
    "test_specific_contcar = read_contcar_direct(test_specific_contcar_path)\n",
    "#print(test_specific_contcar)\n",
    "\n",
    "print_min_distance(test_specific_contcar)"
   ]
  },
  {
   "cell_type": "markdown",
   "metadata": {},
   "source": [
    "Here I need to save all the finished perfect jobs as pymatgen computed structure entries"
   ]
  },
  {
   "cell_type": "code",
   "execution_count": 6,
   "metadata": {},
   "outputs": [
    {
     "name": "stdout",
     "output_type": "stream",
     "text": [
      "Processing directory: supercell_gen4_comp43_struct1\n",
      "['Zr', 'Ti', 'V', 'Cr', 'W']\n",
      "Read OUTCAR from ../Archived_Vasp_Jobs/VCrTiWZr_Summit/Fixed-Encut-KPoints/Post_VASP/gen4-fep/supercell_gen4_comp43_struct1/OUTCAR\n",
      "Successfully created ComputedStructureEntry from supercell_gen4_comp43_struct1\n",
      "Processing directory: supercell_gen4_comp44_struct3\n",
      "['Zr', 'Ti', 'V', 'Cr', 'W']\n",
      "Read OUTCAR from ../Archived_Vasp_Jobs/VCrTiWZr_Summit/Fixed-Encut-KPoints/Post_VASP/gen4-fep/supercell_gen4_comp44_struct3/OUTCAR\n",
      "Successfully created ComputedStructureEntry from supercell_gen4_comp44_struct3\n",
      "Processing directory: supercell_gen4_comp44_struct2\n",
      "['Zr', 'Ti', 'V', 'Cr', 'W']\n",
      "Read OUTCAR from ../Archived_Vasp_Jobs/VCrTiWZr_Summit/Fixed-Encut-KPoints/Post_VASP/gen4-fep/supercell_gen4_comp44_struct2/OUTCAR\n",
      "Successfully created ComputedStructureEntry from supercell_gen4_comp44_struct2\n",
      "Processing directory: supercell_gen4_comp45_struct2\n",
      "['Zr', 'Ti', 'V', 'Cr', 'W']\n",
      "Read OUTCAR from ../Archived_Vasp_Jobs/VCrTiWZr_Summit/Fixed-Encut-KPoints/Post_VASP/gen4-fep/supercell_gen4_comp45_struct2/OUTCAR\n",
      "Successfully created ComputedStructureEntry from supercell_gen4_comp45_struct2\n",
      "Processing directory: supercell_gen4_comp52_struct1\n",
      "['Zr', 'Ti', 'V', 'Cr', 'W']\n",
      "Read OUTCAR from ../Archived_Vasp_Jobs/VCrTiWZr_Summit/Fixed-Encut-KPoints/Post_VASP/gen4-fep/supercell_gen4_comp52_struct1/OUTCAR\n",
      "Successfully created ComputedStructureEntry from supercell_gen4_comp52_struct1\n",
      "Processing directory: supercell_gen4_comp45_struct3\n",
      "['Zr', 'Ti', 'V', 'Cr', 'W']\n",
      "Read OUTCAR from ../Archived_Vasp_Jobs/VCrTiWZr_Summit/Fixed-Encut-KPoints/Post_VASP/gen4-fep/supercell_gen4_comp45_struct3/OUTCAR\n",
      "Successfully created ComputedStructureEntry from supercell_gen4_comp45_struct3\n",
      "Processing directory: supercell_gen4_comp47_struct2\n",
      "['Zr', 'Ti', 'V', 'Cr', 'W']\n",
      "Read OUTCAR from ../Archived_Vasp_Jobs/VCrTiWZr_Summit/Fixed-Encut-KPoints/Post_VASP/gen4-fep/supercell_gen4_comp47_struct2/OUTCAR\n",
      "Successfully created ComputedStructureEntry from supercell_gen4_comp47_struct2\n",
      "Processing directory: supercell_gen4_comp49_struct1\n",
      "['Zr', 'Ti', 'V', 'Cr', 'W']\n",
      "Read OUTCAR from ../Archived_Vasp_Jobs/VCrTiWZr_Summit/Fixed-Encut-KPoints/Post_VASP/gen4-fep/supercell_gen4_comp49_struct1/OUTCAR\n",
      "Successfully created ComputedStructureEntry from supercell_gen4_comp49_struct1\n",
      "Processing directory: supercell_gen4_comp47_struct3\n",
      "['Zr', 'Ti', 'V', 'Cr', 'W']\n",
      "Read OUTCAR from ../Archived_Vasp_Jobs/VCrTiWZr_Summit/Fixed-Encut-KPoints/Post_VASP/gen4-fep/supercell_gen4_comp47_struct3/OUTCAR\n",
      "Successfully created ComputedStructureEntry from supercell_gen4_comp47_struct3\n",
      "Processing directory: supercell_gen4_comp50_struct1\n",
      "['Zr', 'Ti', 'V', 'Cr', 'W']\n",
      "Read OUTCAR from ../Archived_Vasp_Jobs/VCrTiWZr_Summit/Fixed-Encut-KPoints/Post_VASP/gen4-fep/supercell_gen4_comp50_struct1/OUTCAR\n",
      "Successfully created ComputedStructureEntry from supercell_gen4_comp50_struct1\n",
      "Processing directory: supercell_gen4_comp51_struct1\n",
      "['Zr', 'Ti', 'V', 'Cr', 'W']\n",
      "Read OUTCAR from ../Archived_Vasp_Jobs/VCrTiWZr_Summit/Fixed-Encut-KPoints/Post_VASP/gen4-fep/supercell_gen4_comp51_struct1/OUTCAR\n",
      "Successfully created ComputedStructureEntry from supercell_gen4_comp51_struct1\n",
      "Processing directory: supercell_gen4_comp46_struct3\n",
      "['Zr', 'Ti', 'V', 'Cr', 'W']\n",
      "Read OUTCAR from ../Archived_Vasp_Jobs/VCrTiWZr_Summit/Fixed-Encut-KPoints/Post_VASP/gen4-fep/supercell_gen4_comp46_struct3/OUTCAR\n",
      "Successfully created ComputedStructureEntry from supercell_gen4_comp46_struct3\n",
      "Processing directory: supercell_gen4_comp48_struct1\n",
      "['Zr', 'Ti', 'V', 'Cr', 'W']\n",
      "Read OUTCAR from ../Archived_Vasp_Jobs/VCrTiWZr_Summit/Fixed-Encut-KPoints/Post_VASP/gen4-fep/supercell_gen4_comp48_struct1/OUTCAR\n",
      "Successfully created ComputedStructureEntry from supercell_gen4_comp48_struct1\n",
      "Processing directory: supercell_gen4_comp43_struct2\n",
      "['Zr', 'Ti', 'V', 'Cr', 'W']\n",
      "Read OUTCAR from ../Archived_Vasp_Jobs/VCrTiWZr_Summit/Fixed-Encut-KPoints/Post_VASP/gen4-fep/supercell_gen4_comp43_struct2/OUTCAR\n",
      "Successfully created ComputedStructureEntry from supercell_gen4_comp43_struct2\n",
      "Processing directory: supercell_gen4_comp44_struct1\n",
      "['Zr', 'Ti', 'V', 'Cr', 'W']\n",
      "Read OUTCAR from ../Archived_Vasp_Jobs/VCrTiWZr_Summit/Fixed-Encut-KPoints/Post_VASP/gen4-fep/supercell_gen4_comp44_struct1/OUTCAR\n",
      "Successfully created ComputedStructureEntry from supercell_gen4_comp44_struct1\n",
      "Processing directory: supercell_gen4_comp43_struct3\n",
      "['Zr', 'Ti', 'V', 'Cr', 'W']\n",
      "Read OUTCAR from ../Archived_Vasp_Jobs/VCrTiWZr_Summit/Fixed-Encut-KPoints/Post_VASP/gen4-fep/supercell_gen4_comp43_struct3/OUTCAR\n",
      "Successfully created ComputedStructureEntry from supercell_gen4_comp43_struct3\n",
      "Processing directory: supercell_gen4_comp52_struct3\n",
      "['Zr', 'Ti', 'V', 'Cr', 'W']\n",
      "Read OUTCAR from ../Archived_Vasp_Jobs/VCrTiWZr_Summit/Fixed-Encut-KPoints/Post_VASP/gen4-fep/supercell_gen4_comp52_struct3/OUTCAR\n",
      "Successfully created ComputedStructureEntry from supercell_gen4_comp52_struct3\n",
      "Processing directory: supercell_gen4_comp45_struct1\n",
      "['Zr', 'Ti', 'V', 'Cr', 'W']\n",
      "Read OUTCAR from ../Archived_Vasp_Jobs/VCrTiWZr_Summit/Fixed-Encut-KPoints/Post_VASP/gen4-fep/supercell_gen4_comp45_struct1/OUTCAR\n",
      "Successfully created ComputedStructureEntry from supercell_gen4_comp45_struct1\n",
      "Processing directory: supercell_gen4_comp52_struct2\n",
      "['Zr', 'Ti', 'V', 'Cr', 'W']\n",
      "Read OUTCAR from ../Archived_Vasp_Jobs/VCrTiWZr_Summit/Fixed-Encut-KPoints/Post_VASP/gen4-fep/supercell_gen4_comp52_struct2/OUTCAR\n",
      "Successfully created ComputedStructureEntry from supercell_gen4_comp52_struct2\n",
      "Processing directory: supercell_gen4_comp49_struct2\n",
      "['Zr', 'Ti', 'V', 'Cr', 'W']\n",
      "Read OUTCAR from ../Archived_Vasp_Jobs/VCrTiWZr_Summit/Fixed-Encut-KPoints/Post_VASP/gen4-fep/supercell_gen4_comp49_struct2/OUTCAR\n",
      "Successfully created ComputedStructureEntry from supercell_gen4_comp49_struct2\n",
      "Processing directory: supercell_gen4_comp47_struct1\n",
      "['Zr', 'Ti', 'V', 'Cr', 'W']\n",
      "Read OUTCAR from ../Archived_Vasp_Jobs/VCrTiWZr_Summit/Fixed-Encut-KPoints/Post_VASP/gen4-fep/supercell_gen4_comp47_struct1/OUTCAR\n",
      "Successfully created ComputedStructureEntry from supercell_gen4_comp47_struct1\n",
      "Processing directory: supercell_gen4_comp50_struct3\n",
      "['Zr', 'Ti', 'V', 'Cr', 'W']\n",
      "Read OUTCAR from ../Archived_Vasp_Jobs/VCrTiWZr_Summit/Fixed-Encut-KPoints/Post_VASP/gen4-fep/supercell_gen4_comp50_struct3/OUTCAR\n",
      "Successfully created ComputedStructureEntry from supercell_gen4_comp50_struct3\n",
      "Processing directory: supercell_gen4_comp50_struct2\n",
      "['Zr', 'Ti', 'V', 'Cr', 'W']\n",
      "Read OUTCAR from ../Archived_Vasp_Jobs/VCrTiWZr_Summit/Fixed-Encut-KPoints/Post_VASP/gen4-fep/supercell_gen4_comp50_struct2/OUTCAR\n",
      "Successfully created ComputedStructureEntry from supercell_gen4_comp50_struct2\n",
      "Processing directory: supercell_gen4_comp49_struct3\n",
      "['Zr', 'Ti', 'V', 'Cr', 'W']\n",
      "Read OUTCAR from ../Archived_Vasp_Jobs/VCrTiWZr_Summit/Fixed-Encut-KPoints/Post_VASP/gen4-fep/supercell_gen4_comp49_struct3/OUTCAR\n",
      "Successfully created ComputedStructureEntry from supercell_gen4_comp49_struct3\n",
      "Processing directory: supercell_gen4_comp48_struct3\n",
      "['Zr', 'Ti', 'V', 'Cr', 'W']\n",
      "Read OUTCAR from ../Archived_Vasp_Jobs/VCrTiWZr_Summit/Fixed-Encut-KPoints/Post_VASP/gen4-fep/supercell_gen4_comp48_struct3/OUTCAR\n",
      "Successfully created ComputedStructureEntry from supercell_gen4_comp48_struct3\n",
      "Processing directory: supercell_gen4_comp51_struct2\n",
      "['Zr', 'Ti', 'V', 'Cr', 'W']\n",
      "Read OUTCAR from ../Archived_Vasp_Jobs/VCrTiWZr_Summit/Fixed-Encut-KPoints/Post_VASP/gen4-fep/supercell_gen4_comp51_struct2/OUTCAR\n",
      "Successfully created ComputedStructureEntry from supercell_gen4_comp51_struct2\n",
      "Processing directory: supercell_gen4_comp51_struct3\n",
      "['Zr', 'Ti', 'V', 'Cr', 'W']\n",
      "Read OUTCAR from ../Archived_Vasp_Jobs/VCrTiWZr_Summit/Fixed-Encut-KPoints/Post_VASP/gen4-fep/supercell_gen4_comp51_struct3/OUTCAR\n",
      "Successfully created ComputedStructureEntry from supercell_gen4_comp51_struct3\n",
      "Processing directory: supercell_gen4_comp46_struct1\n",
      "['Zr', 'Ti', 'V', 'Cr', 'W']\n",
      "Read OUTCAR from ../Archived_Vasp_Jobs/VCrTiWZr_Summit/Fixed-Encut-KPoints/Post_VASP/gen4-fep/supercell_gen4_comp46_struct1/OUTCAR\n",
      "Successfully created ComputedStructureEntry from supercell_gen4_comp46_struct1\n",
      "Processing directory: supercell_gen4_comp48_struct2\n",
      "['Zr', 'Ti', 'V', 'Cr', 'W']\n",
      "Read OUTCAR from ../Archived_Vasp_Jobs/VCrTiWZr_Summit/Fixed-Encut-KPoints/Post_VASP/gen4-fep/supercell_gen4_comp48_struct2/OUTCAR\n",
      "Successfully created ComputedStructureEntry from supercell_gen4_comp48_struct2\n",
      "Total entries created: 29\n"
     ]
    }
   ],
   "source": [
    "import os, re\n",
    "from pymatgen.io.vasp import Poscar, Outcar\n",
    "from pymatgen.entries.computed_entries import ComputedStructureEntry\n",
    "\n",
    "# Make entries from existing VASP jobs from Summit\n",
    "post_vasp_job_path = '../Visualization/Job_Structures/Post_VASP/VCrTiWZr_Summit/gen_0_4/Perfect'\n",
    "post_vasp_job_path = '../Archived_Vasp_Jobs/VCrTiWZr_Summit/Fixed-Encut-KPoints/Post_VASP/gen4-fep'\n",
    "# Go through each folder, and create a computed structure entry from the CONTCAR and the OUTCAR files \n",
    "entries = []\n",
    "\n",
    "def extract_numbers(s):\n",
    "    return list(map(int, re.findall(r'\\d+', s)))\n",
    "\n",
    "for d in os.listdir(post_vasp_job_path):\n",
    "    dir_path = os.path.join(post_vasp_job_path, d)\n",
    "    if os.path.isdir(dir_path):\n",
    "        # Get the CONTCAR and OUTCAR files\n",
    "        contcar_file = os.path.join(dir_path, 'CONTCAR')\n",
    "        outcar_file = os.path.join(dir_path, 'OUTCAR')\n",
    "        \n",
    "        if os.path.exists(contcar_file) and os.path.exists(outcar_file):\n",
    "            print(f\"Processing directory: {d}\")\n",
    "            try:\n",
    "                contcar = read_contcar_direct(contcar_file)\n",
    "                #has_overlapping_atom = check_overlapping_atoms(contcar)\n",
    "                #if has_overlapping_atom:\n",
    "                    #print(f\"Overlapping atoms found in CONTCAR file {contcar_file} in directory {d}. Skipping...\")\n",
    "                    #continue\n",
    "            except Exception as e:\n",
    "                print(f\"Error reading CONTCAR file {contcar_file} in directory {d}: {e}\")\n",
    "                continue\n",
    "            try:\n",
    "                # Read the OUTCAR file\n",
    "                outcar = Outcar(outcar_file)\n",
    "                print(f\"Read OUTCAR from {outcar_file}\")\n",
    "                # Create the computed structure entry\n",
    "                # get the generation number, comp, and struct from the directory name, for example supercell_gen2_comp29_struct1\n",
    "                # would be a gen 2, comp 29, struct 1\n",
    "                generation, comp, struct = extract_numbers(d)\n",
    "                data = {'generation': generation, 'comp': comp, 'struct': struct}\n",
    "                entry = ComputedStructureEntry(structure=contcar, energy=outcar.final_energy_wo_entrp, data=data)\n",
    "                entries.append(entry)\n",
    "                print(f\"Successfully created ComputedStructureEntry from {d}\")\n",
    "            except Exception as e:\n",
    "                print(f\"Error processing OUTCAR file {outcar_file} in directory {d}: {e}\")\n",
    "                continue\n",
    "\n",
    "print(f\"Total entries created: {len(entries)}\")\n"
   ]
  },
  {
   "cell_type": "code",
   "execution_count": 29,
   "metadata": {},
   "outputs": [],
   "source": [
    "# save the entries to the post_vasp_job_path \n",
    "with open(os.path.join(post_vasp_job_path, 'entries.json'), 'w') as f:\n",
    "    json.dump([entry.as_dict() for entry in entries], f)"
   ]
  },
  {
   "cell_type": "code",
   "execution_count": 7,
   "metadata": {},
   "outputs": [
    {
     "name": "stdout",
     "output_type": "stream",
     "text": [
      "Processing entry 1/29...\n",
      "Found target atoms for entry 1: [PeriodicSite: W (7.606, 0.07631, 0.008431) [0.6068, 0.007789, 0.2059], PeriodicSite: Zr (-3.776, 10.87, 0.04043) [0.1983, 0.9931, 0.4], PeriodicSite: V (-1.15, 6.46, 7.058) [0.2052, 0.5906, 0.7958], PeriodicSite: V (7.493, 4.366, 7.974) [0.7948, 0.4, 0.9982], PeriodicSite: Ti (3.668, 10.84, 2.592) [0.7878, 0.992, 0.7884]]\n",
      "Written start structure to ../Visualization/Job_Structures/Pre_VASP/Fixed_VCrTiWZr_Summit/125-Atoms/Gen_4/supercell_gen4_comp43_struct1_vac_site0_start.vasp\n",
      "Written start structure to ../Visualization/Job_Structures/Pre_VASP/Fixed_VCrTiWZr_Summit/125-Atoms/Gen_4/supercell_gen4_comp43_struct1_vac_site1_start.vasp\n",
      "Written start structure to ../Visualization/Job_Structures/Pre_VASP/Fixed_VCrTiWZr_Summit/125-Atoms/Gen_4/supercell_gen4_comp43_struct1_vac_site2_start.vasp\n",
      "Written start structure to ../Visualization/Job_Structures/Pre_VASP/Fixed_VCrTiWZr_Summit/125-Atoms/Gen_4/supercell_gen4_comp43_struct1_vac_site3_start.vasp\n",
      "Written start structure to ../Visualization/Job_Structures/Pre_VASP/Fixed_VCrTiWZr_Summit/125-Atoms/Gen_4/supercell_gen4_comp43_struct1_vac_site4_start.vasp\n",
      "Processing entry 2/29...\n",
      "Found target atoms for entry 2: [PeriodicSite: W (2.566, 9.042, -3.745) [0.5998, 0.8073, 0.2016], PeriodicSite: V (7.938, 0.07315, -2.713) [0.6134, 0.005097, 0.01223], PeriodicSite: W (-0.07357, 4.55, 8.374) [0.1976, 0.4071, 0.8013], PeriodicSite: Zr (11.65, 2.222, 5.64) [0.9948, 0.1971, 0.8015], PeriodicSite: W (6.481, 11.19, 4.493) [0.997, 0.9991, 0.9878]]\n",
      "Written start structure to ../Visualization/Job_Structures/Pre_VASP/Fixed_VCrTiWZr_Summit/125-Atoms/Gen_4/supercell_gen4_comp44_struct3_vac_site0_start.vasp\n",
      "Written start structure to ../Visualization/Job_Structures/Pre_VASP/Fixed_VCrTiWZr_Summit/125-Atoms/Gen_4/supercell_gen4_comp44_struct3_vac_site1_start.vasp\n",
      "Written start structure to ../Visualization/Job_Structures/Pre_VASP/Fixed_VCrTiWZr_Summit/125-Atoms/Gen_4/supercell_gen4_comp44_struct3_vac_site2_start.vasp\n",
      "Written start structure to ../Visualization/Job_Structures/Pre_VASP/Fixed_VCrTiWZr_Summit/125-Atoms/Gen_4/supercell_gen4_comp44_struct3_vac_site3_start.vasp\n",
      "Written start structure to ../Visualization/Job_Structures/Pre_VASP/Fixed_VCrTiWZr_Summit/125-Atoms/Gen_4/supercell_gen4_comp44_struct3_vac_site4_start.vasp\n",
      "Processing entry 3/29...\n",
      "Found target atoms for entry 3: [PeriodicSite: Zr (3.907, 11.14, -2.824) [0.7944, 0.989, 0.3893], PeriodicSite: Ti (9.355, 2.196, 6.71) [0.8121, 0.1956, 0.8205], PeriodicSite: Zr (-2.641, 9.219, 6.211) [0.2067, 0.8182, 0.7921], PeriodicSite: W (0.08386, 0.01994, 10.94) [0.005416, 0.00181, 0.795], PeriodicSite: Zr (10.46, 0.1535, -3.622) [0.8074, 0.01441, 0.009833]]\n",
      "Written start structure to ../Visualization/Job_Structures/Pre_VASP/Fixed_VCrTiWZr_Summit/125-Atoms/Gen_4/supercell_gen4_comp44_struct2_vac_site0_start.vasp\n",
      "Written start structure to ../Visualization/Job_Structures/Pre_VASP/Fixed_VCrTiWZr_Summit/125-Atoms/Gen_4/supercell_gen4_comp44_struct2_vac_site1_start.vasp\n",
      "Written start structure to ../Visualization/Job_Structures/Pre_VASP/Fixed_VCrTiWZr_Summit/125-Atoms/Gen_4/supercell_gen4_comp44_struct2_vac_site2_start.vasp\n",
      "Written start structure to ../Visualization/Job_Structures/Pre_VASP/Fixed_VCrTiWZr_Summit/125-Atoms/Gen_4/supercell_gen4_comp44_struct2_vac_site3_start.vasp\n",
      "Written start structure to ../Visualization/Job_Structures/Pre_VASP/Fixed_VCrTiWZr_Summit/125-Atoms/Gen_4/supercell_gen4_comp44_struct2_vac_site4_start.vasp\n",
      "Processing entry 4/29...\n",
      "Found target atoms for entry 4: [PeriodicSite: V (10.02, 4.228, -0.8029) [0.9914, 0.3904, 0.3991], PeriodicSite: V (3.67, 2.342, 5.245) [0.3993, 0.2165, 0.599], PeriodicSite: V (-2.589, 8.667, 3.606) [0.1936, 0.7978, 0.6024], PeriodicSite: V (3.777, 10.85, -2.726) [0.8011, 0.9989, 0.3954], PeriodicSite: V (-2.535, 4.447, 11.47) [0.002351, 0.41, 0.9999]]\n",
      "Written start structure to ../Visualization/Job_Structures/Pre_VASP/Fixed_VCrTiWZr_Summit/125-Atoms/Gen_4/supercell_gen4_comp45_struct2_vac_site0_start.vasp\n",
      "Written start structure to ../Visualization/Job_Structures/Pre_VASP/Fixed_VCrTiWZr_Summit/125-Atoms/Gen_4/supercell_gen4_comp45_struct2_vac_site1_start.vasp\n",
      "Written start structure to ../Visualization/Job_Structures/Pre_VASP/Fixed_VCrTiWZr_Summit/125-Atoms/Gen_4/supercell_gen4_comp45_struct2_vac_site2_start.vasp\n",
      "Written start structure to ../Visualization/Job_Structures/Pre_VASP/Fixed_VCrTiWZr_Summit/125-Atoms/Gen_4/supercell_gen4_comp45_struct2_vac_site3_start.vasp\n",
      "Written start structure to ../Visualization/Job_Structures/Pre_VASP/Fixed_VCrTiWZr_Summit/125-Atoms/Gen_4/supercell_gen4_comp45_struct2_vac_site4_start.vasp\n",
      "Processing entry 5/29...\n",
      "Found target atoms for entry 5: [PeriodicSite: Ti (2.693, 4.367, -0.9221) [0.4154, 0.4022, 0.2009], PeriodicSite: V (-0.0478, 8.691, 7.922) [0.3915, 0.797, 0.9897], PeriodicSite: W (2.605, 0.06244, 9.723) [0.2043, 0.002121, 0.7994], PeriodicSite: Ti (11.05, 2.247, -5.211) [0.9842, 0.2085, 0.0008008], PeriodicSite: V (10.08, 4.396, 7.036) [0.9989, 0.4018, 0.9914]]\n",
      "Written start structure to ../Visualization/Job_Structures/Pre_VASP/Fixed_VCrTiWZr_Summit/125-Atoms/Gen_4/supercell_gen4_comp52_struct1_vac_site0_start.vasp\n",
      "Written start structure to ../Visualization/Job_Structures/Pre_VASP/Fixed_VCrTiWZr_Summit/125-Atoms/Gen_4/supercell_gen4_comp52_struct1_vac_site1_start.vasp\n",
      "Written start structure to ../Visualization/Job_Structures/Pre_VASP/Fixed_VCrTiWZr_Summit/125-Atoms/Gen_4/supercell_gen4_comp52_struct1_vac_site2_start.vasp\n",
      "Written start structure to ../Visualization/Job_Structures/Pre_VASP/Fixed_VCrTiWZr_Summit/125-Atoms/Gen_4/supercell_gen4_comp52_struct1_vac_site3_start.vasp\n",
      "Written start structure to ../Visualization/Job_Structures/Pre_VASP/Fixed_VCrTiWZr_Summit/125-Atoms/Gen_4/supercell_gen4_comp52_struct1_vac_site4_start.vasp\n",
      "Processing entry 6/29...\n",
      "Found target atoms for entry 6: [PeriodicSite: V (-2.502, 8.751, 6.211) [0.2029, 0.809, 0.802], PeriodicSite: V (4.987, 4.342, 3.522) [0.5954, 0.3996, 0.5948], PeriodicSite: V (5.002, 8.762, -4.487) [0.8002, 0.8079, 0.2003], PeriodicSite: V (11.32, 2.181, -5.271) [0.9999, 0.1982, 0.004545], PeriodicSite: V (2.555, 0.04133, 12.43) [0.2041, 0.003236, 0.9984]]\n",
      "Written start structure to ../Visualization/Job_Structures/Pre_VASP/Fixed_VCrTiWZr_Summit/125-Atoms/Gen_4/supercell_gen4_comp45_struct3_vac_site0_start.vasp\n",
      "Written start structure to ../Visualization/Job_Structures/Pre_VASP/Fixed_VCrTiWZr_Summit/125-Atoms/Gen_4/supercell_gen4_comp45_struct3_vac_site1_start.vasp\n",
      "Written start structure to ../Visualization/Job_Structures/Pre_VASP/Fixed_VCrTiWZr_Summit/125-Atoms/Gen_4/supercell_gen4_comp45_struct3_vac_site2_start.vasp\n",
      "Written start structure to ../Visualization/Job_Structures/Pre_VASP/Fixed_VCrTiWZr_Summit/125-Atoms/Gen_4/supercell_gen4_comp45_struct3_vac_site3_start.vasp\n",
      "Written start structure to ../Visualization/Job_Structures/Pre_VASP/Fixed_VCrTiWZr_Summit/125-Atoms/Gen_4/supercell_gen4_comp45_struct3_vac_site4_start.vasp\n",
      "Processing entry 7/29...\n",
      "Found target atoms for entry 7: [PeriodicSite: V (2.666, 0.04352, 1.8) [0.2135, 0.004216, 0.2062], PeriodicSite: Ti (10.12, 4.231, 4.365) [0.9972, 0.3863, 0.7839], PeriodicSite: Ti (2.582, 8.693, 1.768) [0.6014, 0.7922, 0.5959], PeriodicSite: V (-0.9887, 2.205, 12.39) [0.01739, 0.201, 0.9991], PeriodicSite: Zr (-6.244, 10.97, -1.74) [0.004291, 0.9991, 0.2067]]\n",
      "Written start structure to ../Visualization/Job_Structures/Pre_VASP/Fixed_VCrTiWZr_Summit/125-Atoms/Gen_4/supercell_gen4_comp47_struct2_vac_site0_start.vasp\n",
      "Written start structure to ../Visualization/Job_Structures/Pre_VASP/Fixed_VCrTiWZr_Summit/125-Atoms/Gen_4/supercell_gen4_comp47_struct2_vac_site1_start.vasp\n",
      "Written start structure to ../Visualization/Job_Structures/Pre_VASP/Fixed_VCrTiWZr_Summit/125-Atoms/Gen_4/supercell_gen4_comp47_struct2_vac_site2_start.vasp\n",
      "Written start structure to ../Visualization/Job_Structures/Pre_VASP/Fixed_VCrTiWZr_Summit/125-Atoms/Gen_4/supercell_gen4_comp47_struct2_vac_site3_start.vasp\n",
      "Written start structure to ../Visualization/Job_Structures/Pre_VASP/Fixed_VCrTiWZr_Summit/125-Atoms/Gen_4/supercell_gen4_comp47_struct2_vac_site4_start.vasp\n",
      "Processing entry 8/29...\n",
      "Found target atoms for entry 8: [PeriodicSite: Ti (1.295, 2.108, 6.133) [0.202, 0.195, 0.5972], PeriodicSite: V (8.831, 2.303, 0.9768) [0.8171, 0.2131, 0.4179], PeriodicSite: V (-0.04341, 8.627, 2.649) [0.3963, 0.7998, 0.599], PeriodicSite: Cr (-6.152, 10.77, 6.058) [0.004322, 0.9987, 0.7925], PeriodicSite: V (-3.692, 10.76, -5.251) [0.2016, 0.9989, 0.001183]]\n",
      "Written start structure to ../Visualization/Job_Structures/Pre_VASP/Fixed_VCrTiWZr_Summit/125-Atoms/Gen_4/supercell_gen4_comp49_struct1_vac_site0_start.vasp\n",
      "Written start structure to ../Visualization/Job_Structures/Pre_VASP/Fixed_VCrTiWZr_Summit/125-Atoms/Gen_4/supercell_gen4_comp49_struct1_vac_site1_start.vasp\n",
      "Written start structure to ../Visualization/Job_Structures/Pre_VASP/Fixed_VCrTiWZr_Summit/125-Atoms/Gen_4/supercell_gen4_comp49_struct1_vac_site2_start.vasp\n",
      "Written start structure to ../Visualization/Job_Structures/Pre_VASP/Fixed_VCrTiWZr_Summit/125-Atoms/Gen_4/supercell_gen4_comp49_struct1_vac_site3_start.vasp\n",
      "Written start structure to ../Visualization/Job_Structures/Pre_VASP/Fixed_VCrTiWZr_Summit/125-Atoms/Gen_4/supercell_gen4_comp49_struct1_vac_site4_start.vasp\n",
      "Processing entry 9/29...\n",
      "Found target atoms for entry 9: [PeriodicSite: V (-1.177, 10.95, -3.452) [0.4069, 0.9963, 0.2069], PeriodicSite: Ti (-2.545, 4.422, 6.168) [0.000985, 0.4014, 0.5988], PeriodicSite: V (3.561, 2.558, -2.767) [0.3982, 0.2336, 0.002101], PeriodicSite: V (7.57, 4.351, 5.264) [0.7975, 0.3971, 0.7954], PeriodicSite: V (12.59, 0.02401, -1.782) [0.9967, 0.004826, 0.2004]]\n",
      "Written start structure to ../Visualization/Job_Structures/Pre_VASP/Fixed_VCrTiWZr_Summit/125-Atoms/Gen_4/supercell_gen4_comp47_struct3_vac_site0_start.vasp\n",
      "Written start structure to ../Visualization/Job_Structures/Pre_VASP/Fixed_VCrTiWZr_Summit/125-Atoms/Gen_4/supercell_gen4_comp47_struct3_vac_site1_start.vasp\n",
      "Written start structure to ../Visualization/Job_Structures/Pre_VASP/Fixed_VCrTiWZr_Summit/125-Atoms/Gen_4/supercell_gen4_comp47_struct3_vac_site2_start.vasp\n",
      "Written start structure to ../Visualization/Job_Structures/Pre_VASP/Fixed_VCrTiWZr_Summit/125-Atoms/Gen_4/supercell_gen4_comp47_struct3_vac_site3_start.vasp\n",
      "Written start structure to ../Visualization/Job_Structures/Pre_VASP/Fixed_VCrTiWZr_Summit/125-Atoms/Gen_4/supercell_gen4_comp47_struct3_vac_site4_start.vasp\n",
      "Processing entry 10/29...\n",
      "Found target atoms for entry 10: [PeriodicSite: V (6.29, 2.088, 6.967) [0.5978, 0.1943, 0.79], PeriodicSite: V (-3.832, 6.595, 5.199) [0.001761, 0.6091, 0.5954], PeriodicSite: Cr (6.237, 10.76, -1.107) [0.9904, 0.9913, 0.5809], PeriodicSite: V (-3.69, 10.78, -5.279) [0.2019, 0.9915, 0.002136], PeriodicSite: V (11.24, 1.922, -2.557) [0.9796, 0.1765, 0.1959]]\n",
      "Written start structure to ../Visualization/Job_Structures/Pre_VASP/Fixed_VCrTiWZr_Summit/125-Atoms/Gen_4/supercell_gen4_comp50_struct1_vac_site0_start.vasp\n",
      "Written start structure to ../Visualization/Job_Structures/Pre_VASP/Fixed_VCrTiWZr_Summit/125-Atoms/Gen_4/supercell_gen4_comp50_struct1_vac_site1_start.vasp\n",
      "Written start structure to ../Visualization/Job_Structures/Pre_VASP/Fixed_VCrTiWZr_Summit/125-Atoms/Gen_4/supercell_gen4_comp50_struct1_vac_site2_start.vasp\n",
      "Written start structure to ../Visualization/Job_Structures/Pre_VASP/Fixed_VCrTiWZr_Summit/125-Atoms/Gen_4/supercell_gen4_comp50_struct1_vac_site3_start.vasp\n",
      "Written start structure to ../Visualization/Job_Structures/Pre_VASP/Fixed_VCrTiWZr_Summit/125-Atoms/Gen_4/supercell_gen4_comp50_struct1_vac_site4_start.vasp\n",
      "Processing entry 11/29...\n",
      "Found target atoms for entry 11: [PeriodicSite: Cr (9.934, 4.29, 4.499) [0.997, 0.3972, 0.8084], PeriodicSite: V (0.05481, 4.293, 7.881) [0.2046, 0.3999, 0.8011], PeriodicSite: V (-4.942, 8.635, 1.733) [0.002725, 0.8022, 0.401], PeriodicSite: Ti (1.514, 2.281, -1.635) [0.2266, 0.2109, 0.02218], PeriodicSite: V (6.238, 10.78, -6.129) [0.9978, 0.9973, 0.2019]]\n",
      "Written start structure to ../Visualization/Job_Structures/Pre_VASP/Fixed_VCrTiWZr_Summit/125-Atoms/Gen_4/supercell_gen4_comp51_struct1_vac_site0_start.vasp\n",
      "Written start structure to ../Visualization/Job_Structures/Pre_VASP/Fixed_VCrTiWZr_Summit/125-Atoms/Gen_4/supercell_gen4_comp51_struct1_vac_site1_start.vasp\n",
      "Written start structure to ../Visualization/Job_Structures/Pre_VASP/Fixed_VCrTiWZr_Summit/125-Atoms/Gen_4/supercell_gen4_comp51_struct1_vac_site2_start.vasp\n",
      "Written start structure to ../Visualization/Job_Structures/Pre_VASP/Fixed_VCrTiWZr_Summit/125-Atoms/Gen_4/supercell_gen4_comp51_struct1_vac_site3_start.vasp\n",
      "Written start structure to ../Visualization/Job_Structures/Pre_VASP/Fixed_VCrTiWZr_Summit/125-Atoms/Gen_4/supercell_gen4_comp51_struct1_vac_site4_start.vasp\n",
      "Processing entry 12/29...\n",
      "Found target atoms for entry 12: [PeriodicSite: V (1.215, 2.159, 6.126) [0.1965, 0.1985, 0.5954], PeriodicSite: V (-2.582, 8.675, -4.248) [0.1946, 0.8018, 0.00948], PeriodicSite: V (10.01, 0.01989, -0.9178) [0.8022, 0.002404, 0.1986], PeriodicSite: V (-3.873, 10.79, 7.952) [0.1882, 0.9956, 0.9956], PeriodicSite: V (6.192, 10.77, 1.819) [0.9931, 0.9946, 0.799]]\n",
      "Written start structure to ../Visualization/Job_Structures/Pre_VASP/Fixed_VCrTiWZr_Summit/125-Atoms/Gen_4/supercell_gen4_comp46_struct3_vac_site0_start.vasp\n",
      "Written start structure to ../Visualization/Job_Structures/Pre_VASP/Fixed_VCrTiWZr_Summit/125-Atoms/Gen_4/supercell_gen4_comp46_struct3_vac_site1_start.vasp\n",
      "Written start structure to ../Visualization/Job_Structures/Pre_VASP/Fixed_VCrTiWZr_Summit/125-Atoms/Gen_4/supercell_gen4_comp46_struct3_vac_site2_start.vasp\n",
      "Written start structure to ../Visualization/Job_Structures/Pre_VASP/Fixed_VCrTiWZr_Summit/125-Atoms/Gen_4/supercell_gen4_comp46_struct3_vac_site3_start.vasp\n",
      "Written start structure to ../Visualization/Job_Structures/Pre_VASP/Fixed_VCrTiWZr_Summit/125-Atoms/Gen_4/supercell_gen4_comp46_struct3_vac_site4_start.vasp\n",
      "Processing entry 13/29...\n",
      "Found target atoms for entry 13: [PeriodicSite: V (10.12, 0.1166, -0.9475) [0.8106, 0.006641, 0.2026], PeriodicSite: Zr (2.505, 8.754, -6.09) [0.5997, 0.808, 0.01004], PeriodicSite: V (-1.253, 2.315, 9.67) [0.006757, 0.2122, 0.7997], PeriodicSite: V (-6.125, 10.71, 0.9757) [0.002951, 0.9909, 0.402], PeriodicSite: V (6.384, 10.7, 4.477) [0.9982, 0.9842, 0.9967]]\n",
      "Written start structure to ../Visualization/Job_Structures/Pre_VASP/Fixed_VCrTiWZr_Summit/125-Atoms/Gen_4/supercell_gen4_comp48_struct1_vac_site0_start.vasp\n",
      "Written start structure to ../Visualization/Job_Structures/Pre_VASP/Fixed_VCrTiWZr_Summit/125-Atoms/Gen_4/supercell_gen4_comp48_struct1_vac_site1_start.vasp\n",
      "Written start structure to ../Visualization/Job_Structures/Pre_VASP/Fixed_VCrTiWZr_Summit/125-Atoms/Gen_4/supercell_gen4_comp48_struct1_vac_site2_start.vasp\n",
      "Written start structure to ../Visualization/Job_Structures/Pre_VASP/Fixed_VCrTiWZr_Summit/125-Atoms/Gen_4/supercell_gen4_comp48_struct1_vac_site3_start.vasp\n",
      "Written start structure to ../Visualization/Job_Structures/Pre_VASP/Fixed_VCrTiWZr_Summit/125-Atoms/Gen_4/supercell_gen4_comp48_struct1_vac_site4_start.vasp\n",
      "Processing entry 14/29...\n",
      "Found target atoms for entry 14: [PeriodicSite: V (6.415, 6.443, 4.525) [0.8025, 0.5864, 0.7995], PeriodicSite: W (0.0435, 8.683, -5.249) [0.4021, 0.7976, 0.001226], PeriodicSite: V (11.23, 2.236, -5.311) [0.9942, 0.2084, 0.001835], PeriodicSite: V (0.07337, 0.1275, 10.47) [0.008928, 0.004671, 0.7904], PeriodicSite: Zr (-6.212, 10.97, 8.941) [0.00679, 0.997, 0.9993]]\n",
      "Written start structure to ../Visualization/Job_Structures/Pre_VASP/Fixed_VCrTiWZr_Summit/125-Atoms/Gen_4/supercell_gen4_comp43_struct2_vac_site0_start.vasp\n",
      "Written start structure to ../Visualization/Job_Structures/Pre_VASP/Fixed_VCrTiWZr_Summit/125-Atoms/Gen_4/supercell_gen4_comp43_struct2_vac_site1_start.vasp\n",
      "Written start structure to ../Visualization/Job_Structures/Pre_VASP/Fixed_VCrTiWZr_Summit/125-Atoms/Gen_4/supercell_gen4_comp43_struct2_vac_site2_start.vasp\n",
      "Written start structure to ../Visualization/Job_Structures/Pre_VASP/Fixed_VCrTiWZr_Summit/125-Atoms/Gen_4/supercell_gen4_comp43_struct2_vac_site3_start.vasp\n",
      "Written start structure to ../Visualization/Job_Structures/Pre_VASP/Fixed_VCrTiWZr_Summit/125-Atoms/Gen_4/supercell_gen4_comp43_struct2_vac_site4_start.vasp\n",
      "Processing entry 15/29...\n",
      "Found target atoms for entry 15: [PeriodicSite: Ti (1.277, 11.27, -4.577) [0.5923, 0.9952, 0.2017], PeriodicSite: V (3.959, 1.895, 8.277) [0.3908, 0.1681, 0.7834], PeriodicSite: V (-1.269, 11.28, 4.599) [0.399, 0.9984, 0.7988], PeriodicSite: V (10.38, 0.1353, -3.78) [0.8052, 0.007921, 0.0006342], PeriodicSite: W (1.271, 2.352, -1.785) [0.2008, 0.2072, 0.008083]]\n",
      "Written start structure to ../Visualization/Job_Structures/Pre_VASP/Fixed_VCrTiWZr_Summit/125-Atoms/Gen_4/supercell_gen4_comp44_struct1_vac_site0_start.vasp\n",
      "Written start structure to ../Visualization/Job_Structures/Pre_VASP/Fixed_VCrTiWZr_Summit/125-Atoms/Gen_4/supercell_gen4_comp44_struct1_vac_site1_start.vasp\n",
      "Written start structure to ../Visualization/Job_Structures/Pre_VASP/Fixed_VCrTiWZr_Summit/125-Atoms/Gen_4/supercell_gen4_comp44_struct1_vac_site2_start.vasp\n",
      "Written start structure to ../Visualization/Job_Structures/Pre_VASP/Fixed_VCrTiWZr_Summit/125-Atoms/Gen_4/supercell_gen4_comp44_struct1_vac_site3_start.vasp\n",
      "Written start structure to ../Visualization/Job_Structures/Pre_VASP/Fixed_VCrTiWZr_Summit/125-Atoms/Gen_4/supercell_gen4_comp44_struct1_vac_site4_start.vasp\n",
      "Processing entry 16/29...\n",
      "Found target atoms for entry 16: [PeriodicSite: V (3.87, 2.139, -0.1029) [0.4079, 0.1966, 0.1939], PeriodicSite: Ti (-2.564, 8.778, 0.932) [0.1983, 0.8066, 0.402], PeriodicSite: V (11.23, 2.138, 5.55) [0.9964, 0.1952, 0.8091], PeriodicSite: V (7.562, 8.516, -5.427) [0.9963, 0.784, 0.1907], PeriodicSite: V (2.528, 4.319, 9.928) [0.4008, 0.3947, 1.0]]\n",
      "Written start structure to ../Visualization/Job_Structures/Pre_VASP/Fixed_VCrTiWZr_Summit/125-Atoms/Gen_4/supercell_gen4_comp43_struct3_vac_site0_start.vasp\n",
      "Written start structure to ../Visualization/Job_Structures/Pre_VASP/Fixed_VCrTiWZr_Summit/125-Atoms/Gen_4/supercell_gen4_comp43_struct3_vac_site1_start.vasp\n",
      "Written start structure to ../Visualization/Job_Structures/Pre_VASP/Fixed_VCrTiWZr_Summit/125-Atoms/Gen_4/supercell_gen4_comp43_struct3_vac_site2_start.vasp\n",
      "Written start structure to ../Visualization/Job_Structures/Pre_VASP/Fixed_VCrTiWZr_Summit/125-Atoms/Gen_4/supercell_gen4_comp43_struct3_vac_site3_start.vasp\n",
      "Written start structure to ../Visualization/Job_Structures/Pre_VASP/Fixed_VCrTiWZr_Summit/125-Atoms/Gen_4/supercell_gen4_comp43_struct3_vac_site4_start.vasp\n",
      "Processing entry 17/29...\n",
      "Found target atoms for entry 17: [PeriodicSite: Ti (2.388, 8.832, -6.188) [0.5973, 0.8136, 0.00523], PeriodicSite: V (7.449, 0.2684, -2.699) [0.6081, 0.02505, 0.009072], PeriodicSite: Zr (1.368, 6.443, 6.277) [0.4047, 0.5908, 0.8004], PeriodicSite: V (11.23, 2.1, 5.406) [0.9937, 0.1913, 0.7994], PeriodicSite: V (-6.219, 10.86, 0.7411) [0.001842, 0.999, 0.3868]]\n",
      "Written start structure to ../Visualization/Job_Structures/Pre_VASP/Fixed_VCrTiWZr_Summit/125-Atoms/Gen_4/supercell_gen4_comp52_struct3_vac_site0_start.vasp\n",
      "Written start structure to ../Visualization/Job_Structures/Pre_VASP/Fixed_VCrTiWZr_Summit/125-Atoms/Gen_4/supercell_gen4_comp52_struct3_vac_site1_start.vasp\n",
      "Written start structure to ../Visualization/Job_Structures/Pre_VASP/Fixed_VCrTiWZr_Summit/125-Atoms/Gen_4/supercell_gen4_comp52_struct3_vac_site2_start.vasp\n",
      "Written start structure to ../Visualization/Job_Structures/Pre_VASP/Fixed_VCrTiWZr_Summit/125-Atoms/Gen_4/supercell_gen4_comp52_struct3_vac_site3_start.vasp\n",
      "Written start structure to ../Visualization/Job_Structures/Pre_VASP/Fixed_VCrTiWZr_Summit/125-Atoms/Gen_4/supercell_gen4_comp52_struct3_vac_site4_start.vasp\n",
      "Processing entry 18/29...\n",
      "Found target atoms for entry 18: [PeriodicSite: Zr (8.709, 6.427, 6.094) [0.9907, 0.5939, 0.9901], PeriodicSite: V (2.641, 4.376, -1.027) [0.412, 0.4022, 0.1948], PeriodicSite: V (-5.103, 8.742, 9.68) [0.0004326, 0.8008, 0.9979], PeriodicSite: V (-6.258, 10.9, 0.9669) [0.006478, 0.997, 0.4079], PeriodicSite: V (3.725, 10.88, -7.83) [0.7971, 0.9979, 0.009257]]\n",
      "Written start structure to ../Visualization/Job_Structures/Pre_VASP/Fixed_VCrTiWZr_Summit/125-Atoms/Gen_4/supercell_gen4_comp45_struct1_vac_site0_start.vasp\n",
      "Written start structure to ../Visualization/Job_Structures/Pre_VASP/Fixed_VCrTiWZr_Summit/125-Atoms/Gen_4/supercell_gen4_comp45_struct1_vac_site1_start.vasp\n",
      "Written start structure to ../Visualization/Job_Structures/Pre_VASP/Fixed_VCrTiWZr_Summit/125-Atoms/Gen_4/supercell_gen4_comp45_struct1_vac_site2_start.vasp\n",
      "Written start structure to ../Visualization/Job_Structures/Pre_VASP/Fixed_VCrTiWZr_Summit/125-Atoms/Gen_4/supercell_gen4_comp45_struct1_vac_site3_start.vasp\n",
      "Written start structure to ../Visualization/Job_Structures/Pre_VASP/Fixed_VCrTiWZr_Summit/125-Atoms/Gen_4/supercell_gen4_comp45_struct1_vac_site4_start.vasp\n",
      "Processing entry 19/29...\n",
      "Found target atoms for entry 19: [PeriodicSite: V (6.236, 6.546, -3.623) [0.7967, 0.5992, 0.1944], PeriodicSite: V (-1.252, 2.211, -0.8413) [0.001531, 0.2023, 0.005165], PeriodicSite: Cr (-3.679, 6.365, 7.891) [0.0005967, 0.5861, 0.7919], PeriodicSite: V (6.21, 2.251, 4.437) [0.5993, 0.2084, 0.6045], PeriodicSite: W (-0.01604, 0.0124, 13.19) [0.002163, 0.005868, 0.9969]]\n",
      "Written start structure to ../Visualization/Job_Structures/Pre_VASP/Fixed_VCrTiWZr_Summit/125-Atoms/Gen_4/supercell_gen4_comp52_struct2_vac_site0_start.vasp\n",
      "Written start structure to ../Visualization/Job_Structures/Pre_VASP/Fixed_VCrTiWZr_Summit/125-Atoms/Gen_4/supercell_gen4_comp52_struct2_vac_site1_start.vasp\n",
      "Written start structure to ../Visualization/Job_Structures/Pre_VASP/Fixed_VCrTiWZr_Summit/125-Atoms/Gen_4/supercell_gen4_comp52_struct2_vac_site2_start.vasp\n",
      "Written start structure to ../Visualization/Job_Structures/Pre_VASP/Fixed_VCrTiWZr_Summit/125-Atoms/Gen_4/supercell_gen4_comp52_struct2_vac_site3_start.vasp\n",
      "Written start structure to ../Visualization/Job_Structures/Pre_VASP/Fixed_VCrTiWZr_Summit/125-Atoms/Gen_4/supercell_gen4_comp52_struct2_vac_site4_start.vasp\n",
      "Processing entry 20/29...\n",
      "Found target atoms for entry 20: [PeriodicSite: Zr (3.779, 2.248, -2.639) [0.4088, 0.2099, 0.005779], PeriodicSite: Cr (-1.26, 2.204, 7.028) [0.0007335, 0.203, 0.6006], PeriodicSite: Cr (7.434, 8.626, 5.254) [0.9993, 0.8011, 0.9974], PeriodicSite: W (-4.974, 8.609, -0.9679) [0.0008917, 0.7989, 0.1915], PeriodicSite: V (12.38, 0.0108, 6.168) [0.9955, 0.001587, 0.8007]]\n",
      "Written start structure to ../Visualization/Job_Structures/Pre_VASP/Fixed_VCrTiWZr_Summit/125-Atoms/Gen_4/supercell_gen4_comp49_struct2_vac_site0_start.vasp\n",
      "Written start structure to ../Visualization/Job_Structures/Pre_VASP/Fixed_VCrTiWZr_Summit/125-Atoms/Gen_4/supercell_gen4_comp49_struct2_vac_site1_start.vasp\n",
      "Written start structure to ../Visualization/Job_Structures/Pre_VASP/Fixed_VCrTiWZr_Summit/125-Atoms/Gen_4/supercell_gen4_comp49_struct2_vac_site2_start.vasp\n",
      "Written start structure to ../Visualization/Job_Structures/Pre_VASP/Fixed_VCrTiWZr_Summit/125-Atoms/Gen_4/supercell_gen4_comp49_struct2_vac_site3_start.vasp\n",
      "Written start structure to ../Visualization/Job_Structures/Pre_VASP/Fixed_VCrTiWZr_Summit/125-Atoms/Gen_4/supercell_gen4_comp49_struct2_vac_site4_start.vasp\n",
      "Processing entry 21/29...\n",
      "Found target atoms for entry 21: [PeriodicSite: W (-6.572e-05, 8.731, 5.337) [0.3967, 0.7981, 0.7955], PeriodicSite: W (6.366, 6.629, -0.8498) [0.8063, 0.6048, 0.4061], PeriodicSite: V (6.382, 2.116, 9.818) [0.6013, 0.1902, 0.9962], PeriodicSite: W (6.366, 10.83, -8.862) [0.998, 0.9904, 0.0001301], PeriodicSite: V (-3.796, 6.63, -2.699) [0.0009515, 0.6082, 0.0009091]]\n",
      "Written start structure to ../Visualization/Job_Structures/Pre_VASP/Fixed_VCrTiWZr_Summit/125-Atoms/Gen_4/supercell_gen4_comp47_struct1_vac_site0_start.vasp\n",
      "Written start structure to ../Visualization/Job_Structures/Pre_VASP/Fixed_VCrTiWZr_Summit/125-Atoms/Gen_4/supercell_gen4_comp47_struct1_vac_site1_start.vasp\n",
      "Written start structure to ../Visualization/Job_Structures/Pre_VASP/Fixed_VCrTiWZr_Summit/125-Atoms/Gen_4/supercell_gen4_comp47_struct1_vac_site2_start.vasp\n",
      "Written start structure to ../Visualization/Job_Structures/Pre_VASP/Fixed_VCrTiWZr_Summit/125-Atoms/Gen_4/supercell_gen4_comp47_struct1_vac_site3_start.vasp\n",
      "Written start structure to ../Visualization/Job_Structures/Pre_VASP/Fixed_VCrTiWZr_Summit/125-Atoms/Gen_4/supercell_gen4_comp47_struct1_vac_site4_start.vasp\n",
      "Processing entry 22/29...\n",
      "Found target atoms for entry 22: [PeriodicSite: V (10.09, 4.337, -3.512) [0.9979, 0.3973, 0.2015], PeriodicSite: W (-0.002144, 8.734, 5.323) [0.4013, 0.8043, 0.8036], PeriodicSite: V (1.226, 10.85, -4.448) [0.5946, 0.9975, 0.1971], PeriodicSite: V (-7.94e-05, 0.03626, -0.0078) [0.001657, 0.003335, 0.001081], PeriodicSite: V (7.565, 0.005299, 7.996) [0.6006, 0.0005928, 0.8027]]\n",
      "Written start structure to ../Visualization/Job_Structures/Pre_VASP/Fixed_VCrTiWZr_Summit/125-Atoms/Gen_4/supercell_gen4_comp50_struct3_vac_site0_start.vasp\n",
      "Written start structure to ../Visualization/Job_Structures/Pre_VASP/Fixed_VCrTiWZr_Summit/125-Atoms/Gen_4/supercell_gen4_comp50_struct3_vac_site1_start.vasp\n",
      "Written start structure to ../Visualization/Job_Structures/Pre_VASP/Fixed_VCrTiWZr_Summit/125-Atoms/Gen_4/supercell_gen4_comp50_struct3_vac_site2_start.vasp\n",
      "Written start structure to ../Visualization/Job_Structures/Pre_VASP/Fixed_VCrTiWZr_Summit/125-Atoms/Gen_4/supercell_gen4_comp50_struct3_vac_site3_start.vasp\n",
      "Written start structure to ../Visualization/Job_Structures/Pre_VASP/Fixed_VCrTiWZr_Summit/125-Atoms/Gen_4/supercell_gen4_comp50_struct3_vac_site4_start.vasp\n",
      "Processing entry 23/29...\n",
      "Found target atoms for entry 23: [PeriodicSite: Cr (10.08, 4.292, -3.568) [0.9997, 0.3947, 0.196], PeriodicSite: V (-3.704, 6.536, 10.58) [0.004901, 0.6017, 0.9969], PeriodicSite: V (3.719, 6.488, 5.361) [0.5938, 0.5971, 0.799], PeriodicSite: Ti (-5.007, 8.709, 1.824) [0.002019, 0.8017, 0.4054], PeriodicSite: V (0.1744, 0.1858, -0.1301) [0.02244, 0.01709, 0.003395]]\n",
      "Written start structure to ../Visualization/Job_Structures/Pre_VASP/Fixed_VCrTiWZr_Summit/125-Atoms/Gen_4/supercell_gen4_comp50_struct2_vac_site0_start.vasp\n",
      "Written start structure to ../Visualization/Job_Structures/Pre_VASP/Fixed_VCrTiWZr_Summit/125-Atoms/Gen_4/supercell_gen4_comp50_struct2_vac_site1_start.vasp\n",
      "Written start structure to ../Visualization/Job_Structures/Pre_VASP/Fixed_VCrTiWZr_Summit/125-Atoms/Gen_4/supercell_gen4_comp50_struct2_vac_site2_start.vasp\n",
      "Written start structure to ../Visualization/Job_Structures/Pre_VASP/Fixed_VCrTiWZr_Summit/125-Atoms/Gen_4/supercell_gen4_comp50_struct2_vac_site3_start.vasp\n",
      "Written start structure to ../Visualization/Job_Structures/Pre_VASP/Fixed_VCrTiWZr_Summit/125-Atoms/Gen_4/supercell_gen4_comp50_struct2_vac_site4_start.vasp\n",
      "Processing entry 24/29...\n",
      "Found target atoms for entry 24: [PeriodicSite: W (1.283, 2.189, 3.482) [0.2047, 0.2042, 0.3989], PeriodicSite: V (7.414, 8.67, -2.755) [0.9986, 0.8062, 0.3942], PeriodicSite: Ti (-4.886, 8.544, 9.651) [0.00378, 0.7982, 0.9959], PeriodicSite: Cr (-2.423, 8.661, -4.453) [0.2074, 0.8072, 0.003341], PeriodicSite: V (11.16, 2.066, 5.396) [0.9935, 0.1909, 0.8011]]\n",
      "Written start structure to ../Visualization/Job_Structures/Pre_VASP/Fixed_VCrTiWZr_Summit/125-Atoms/Gen_4/supercell_gen4_comp49_struct3_vac_site0_start.vasp\n",
      "Written start structure to ../Visualization/Job_Structures/Pre_VASP/Fixed_VCrTiWZr_Summit/125-Atoms/Gen_4/supercell_gen4_comp49_struct3_vac_site1_start.vasp\n",
      "Written start structure to ../Visualization/Job_Structures/Pre_VASP/Fixed_VCrTiWZr_Summit/125-Atoms/Gen_4/supercell_gen4_comp49_struct3_vac_site2_start.vasp\n",
      "Written start structure to ../Visualization/Job_Structures/Pre_VASP/Fixed_VCrTiWZr_Summit/125-Atoms/Gen_4/supercell_gen4_comp49_struct3_vac_site3_start.vasp\n",
      "Written start structure to ../Visualization/Job_Structures/Pre_VASP/Fixed_VCrTiWZr_Summit/125-Atoms/Gen_4/supercell_gen4_comp49_struct3_vac_site4_start.vasp\n",
      "Processing entry 25/29...\n",
      "Found target atoms for entry 25: [PeriodicSite: V (1.207, 2.18, 6.188) [0.1959, 0.2005, 0.6001], PeriodicSite: V (5.006, 4.334, -1.919) [0.5966, 0.3972, 0.1863], PeriodicSite: V (-3.756, 10.81, -0.02446) [0.1961, 0.9948, 0.3956], PeriodicSite: V (12.49, 0.04319, 0.8643) [0.9952, 0.001145, 0.3973], PeriodicSite: V (3.769, 10.77, 5.262) [0.7928, 0.9897, 0.9924]]\n",
      "Written start structure to ../Visualization/Job_Structures/Pre_VASP/Fixed_VCrTiWZr_Summit/125-Atoms/Gen_4/supercell_gen4_comp48_struct3_vac_site0_start.vasp\n",
      "Written start structure to ../Visualization/Job_Structures/Pre_VASP/Fixed_VCrTiWZr_Summit/125-Atoms/Gen_4/supercell_gen4_comp48_struct3_vac_site1_start.vasp\n",
      "Written start structure to ../Visualization/Job_Structures/Pre_VASP/Fixed_VCrTiWZr_Summit/125-Atoms/Gen_4/supercell_gen4_comp48_struct3_vac_site2_start.vasp\n",
      "Written start structure to ../Visualization/Job_Structures/Pre_VASP/Fixed_VCrTiWZr_Summit/125-Atoms/Gen_4/supercell_gen4_comp48_struct3_vac_site3_start.vasp\n",
      "Written start structure to ../Visualization/Job_Structures/Pre_VASP/Fixed_VCrTiWZr_Summit/125-Atoms/Gen_4/supercell_gen4_comp48_struct3_vac_site4_start.vasp\n",
      "Processing entry 26/29...\n",
      "Found target atoms for entry 26: [PeriodicSite: V (1.27, 6.359, 3.617) [0.3973, 0.5912, 0.6026], PeriodicSite: Ti (7.425, 8.554, -5.226) [0.9965, 0.7954, 0.2012], PeriodicSite: V (11.14, 2.155, 0.06689) [0.9974, 0.2002, 0.4027], PeriodicSite: W (7.525, 0.01989, 7.959) [0.6059, 0.001572, 0.803], PeriodicSite: V (-1.223, 10.7, -5.942) [0.3996, 0.9948, 0.01569]]\n",
      "Written start structure to ../Visualization/Job_Structures/Pre_VASP/Fixed_VCrTiWZr_Summit/125-Atoms/Gen_4/supercell_gen4_comp51_struct2_vac_site0_start.vasp\n",
      "Written start structure to ../Visualization/Job_Structures/Pre_VASP/Fixed_VCrTiWZr_Summit/125-Atoms/Gen_4/supercell_gen4_comp51_struct2_vac_site1_start.vasp\n",
      "Written start structure to ../Visualization/Job_Structures/Pre_VASP/Fixed_VCrTiWZr_Summit/125-Atoms/Gen_4/supercell_gen4_comp51_struct2_vac_site2_start.vasp\n",
      "Written start structure to ../Visualization/Job_Structures/Pre_VASP/Fixed_VCrTiWZr_Summit/125-Atoms/Gen_4/supercell_gen4_comp51_struct2_vac_site3_start.vasp\n",
      "Written start structure to ../Visualization/Job_Structures/Pre_VASP/Fixed_VCrTiWZr_Summit/125-Atoms/Gen_4/supercell_gen4_comp51_struct2_vac_site4_start.vasp\n",
      "Processing entry 27/29...\n",
      "Found target atoms for entry 27: [PeriodicSite: V (1.239, 2.089, 11.41) [0.1983, 0.1958, 0.9968], PeriodicSite: V (5.065, 4.304, 0.9677) [0.6078, 0.4013, 0.4104], PeriodicSite: V (-2.479, 8.607, -4.388) [0.2016, 0.8005, 0.00202], PeriodicSite: Ti (-1.234, 10.73, 4.399) [0.4018, 0.9995, 0.8015], PeriodicSite: V (6.23, 10.71, -6.158) [0.9993, 0.9972, 0.1999]]\n",
      "Written start structure to ../Visualization/Job_Structures/Pre_VASP/Fixed_VCrTiWZr_Summit/125-Atoms/Gen_4/supercell_gen4_comp51_struct3_vac_site0_start.vasp\n",
      "Written start structure to ../Visualization/Job_Structures/Pre_VASP/Fixed_VCrTiWZr_Summit/125-Atoms/Gen_4/supercell_gen4_comp51_struct3_vac_site1_start.vasp\n",
      "Written start structure to ../Visualization/Job_Structures/Pre_VASP/Fixed_VCrTiWZr_Summit/125-Atoms/Gen_4/supercell_gen4_comp51_struct3_vac_site2_start.vasp\n",
      "Written start structure to ../Visualization/Job_Structures/Pre_VASP/Fixed_VCrTiWZr_Summit/125-Atoms/Gen_4/supercell_gen4_comp51_struct3_vac_site3_start.vasp\n",
      "Written start structure to ../Visualization/Job_Structures/Pre_VASP/Fixed_VCrTiWZr_Summit/125-Atoms/Gen_4/supercell_gen4_comp51_struct3_vac_site4_start.vasp\n",
      "Processing entry 28/29...\n",
      "Found target atoms for entry 28: [PeriodicSite: V (8.688, 2.164, -1.753) [0.7941, 0.2002, 0.1997], PeriodicSite: W (-0.001782, 4.369, 2.744) [0.2026, 0.4057, 0.4102], PeriodicSite: V (-6.227, 10.76, 0.8147) [0.001406, 0.9992, 0.3953], PeriodicSite: V (6.343, 10.63, -8.747) [0.9986, 0.9857, 0.001969], PeriodicSite: V (8.59, 2.104, 8.849) [0.7845, 0.1953, 0.9953]]\n",
      "Written start structure to ../Visualization/Job_Structures/Pre_VASP/Fixed_VCrTiWZr_Summit/125-Atoms/Gen_4/supercell_gen4_comp46_struct1_vac_site0_start.vasp\n",
      "Written start structure to ../Visualization/Job_Structures/Pre_VASP/Fixed_VCrTiWZr_Summit/125-Atoms/Gen_4/supercell_gen4_comp46_struct1_vac_site1_start.vasp\n",
      "Written start structure to ../Visualization/Job_Structures/Pre_VASP/Fixed_VCrTiWZr_Summit/125-Atoms/Gen_4/supercell_gen4_comp46_struct1_vac_site2_start.vasp\n",
      "Written start structure to ../Visualization/Job_Structures/Pre_VASP/Fixed_VCrTiWZr_Summit/125-Atoms/Gen_4/supercell_gen4_comp46_struct1_vac_site3_start.vasp\n",
      "Written start structure to ../Visualization/Job_Structures/Pre_VASP/Fixed_VCrTiWZr_Summit/125-Atoms/Gen_4/supercell_gen4_comp46_struct1_vac_site4_start.vasp\n",
      "Processing entry 29/29...\n",
      "Found target atoms for entry 29: [PeriodicSite: V (4.879, 8.627, 6.059) [0.7868, 0.7981, 0.9859], PeriodicSite: V (-0.07105, 4.282, 0.0724) [0.1923, 0.3959, 0.2018], PeriodicSite: V (3.732, 10.68, -5.246) [0.7891, 0.9866, 0.1975], PeriodicSite: Zr (8.839, 2.088, 8.736) [0.7992, 0.1937, 0.9902], PeriodicSite: V (-3.73, 6.495, 8.009) [0.005042, 0.6012, 0.806]]\n",
      "Written start structure to ../Visualization/Job_Structures/Pre_VASP/Fixed_VCrTiWZr_Summit/125-Atoms/Gen_4/supercell_gen4_comp48_struct2_vac_site0_start.vasp\n",
      "Written start structure to ../Visualization/Job_Structures/Pre_VASP/Fixed_VCrTiWZr_Summit/125-Atoms/Gen_4/supercell_gen4_comp48_struct2_vac_site1_start.vasp\n",
      "Written start structure to ../Visualization/Job_Structures/Pre_VASP/Fixed_VCrTiWZr_Summit/125-Atoms/Gen_4/supercell_gen4_comp48_struct2_vac_site2_start.vasp\n",
      "Written start structure to ../Visualization/Job_Structures/Pre_VASP/Fixed_VCrTiWZr_Summit/125-Atoms/Gen_4/supercell_gen4_comp48_struct2_vac_site3_start.vasp\n",
      "Written start structure to ../Visualization/Job_Structures/Pre_VASP/Fixed_VCrTiWZr_Summit/125-Atoms/Gen_4/supercell_gen4_comp48_struct2_vac_site4_start.vasp\n",
      "Computed entries saved to JSON file.\n"
     ]
    }
   ],
   "source": [
    "# Path to save the VASP job structures\n",
    "#vasp_job_path = '../Visualization/Job_Structures/Pre_VASP/VCrTiWZr_Summit/gen_0_4/Vacancies'\n",
    "vasp_job_path = '../Visualization/Job_Structures/Pre_VASP/Fixed_VCrTiWZr_Summit/125-Atoms/Gen_4'\n",
    "a = 3.01\n",
    "\n",
    "# check if it exists, if not create it\n",
    "if not os.path.exists(vasp_job_path):\n",
    "    os.makedirs(vasp_job_path)\n",
    "\n",
    "# play around with start and end structures \n",
    "# Create and save structures with vacancies\n",
    "#create_and_save_structures(entries, N=5, job_path=vasp_job_path, neighbor_distance=1, cutoff_distance=1.75)\n",
    "create_start_structures(entries, N=5, job_path=vasp_job_path, cutoff_distance=1.75)"
   ]
  },
  {
   "cell_type": "markdown",
   "metadata": {},
   "source": [
    "### Now create vasp vacancy calculation start jobs (isif = 3) from these folders"
   ]
  },
  {
   "cell_type": "code",
   "execution_count": 8,
   "metadata": {},
   "outputs": [
    {
     "name": "stdout",
     "output_type": "stream",
     "text": [
      "Processing file: supercell_gen4_comp44_struct1_vac_site1_start.vasp\n",
      "Created VASP job for supercell_gen4_comp44_struct1_vac_site1_start.vasp in ../Archived_Vasp_Jobs/VCrTiWZr_Summit/Fixed-Encut-KPoints/Pre_VASP/125-Atoms-dist/gen4/Vacancies/supercell_gen4_comp44_struct1_vac_site1_start\n",
      "Processing file: supercell_gen4_comp45_struct1_vac_site2_start.vasp\n",
      "Created VASP job for supercell_gen4_comp45_struct1_vac_site2_start.vasp in ../Archived_Vasp_Jobs/VCrTiWZr_Summit/Fixed-Encut-KPoints/Pre_VASP/125-Atoms-dist/gen4/Vacancies/supercell_gen4_comp45_struct1_vac_site2_start\n",
      "Processing file: supercell_gen4_comp49_struct1_vac_site4_start.vasp\n",
      "Created VASP job for supercell_gen4_comp49_struct1_vac_site4_start.vasp in ../Archived_Vasp_Jobs/VCrTiWZr_Summit/Fixed-Encut-KPoints/Pre_VASP/125-Atoms-dist/gen4/Vacancies/supercell_gen4_comp49_struct1_vac_site4_start\n",
      "Processing file: supercell_gen4_comp47_struct1_vac_site4_start.vasp\n",
      "Created VASP job for supercell_gen4_comp47_struct1_vac_site4_start.vasp in ../Archived_Vasp_Jobs/VCrTiWZr_Summit/Fixed-Encut-KPoints/Pre_VASP/125-Atoms-dist/gen4/Vacancies/supercell_gen4_comp47_struct1_vac_site4_start\n",
      "Processing file: supercell_gen4_comp52_struct1_vac_site4_start.vasp\n",
      "Created VASP job for supercell_gen4_comp52_struct1_vac_site4_start.vasp in ../Archived_Vasp_Jobs/VCrTiWZr_Summit/Fixed-Encut-KPoints/Pre_VASP/125-Atoms-dist/gen4/Vacancies/supercell_gen4_comp52_struct1_vac_site4_start\n",
      "Processing file: supercell_gen4_comp50_struct1_vac_site2_start.vasp\n",
      "Created VASP job for supercell_gen4_comp50_struct1_vac_site2_start.vasp in ../Archived_Vasp_Jobs/VCrTiWZr_Summit/Fixed-Encut-KPoints/Pre_VASP/125-Atoms-dist/gen4/Vacancies/supercell_gen4_comp50_struct1_vac_site2_start\n",
      "Processing file: supercell_gen4_comp51_struct1_vac_site1_start.vasp\n",
      "Created VASP job for supercell_gen4_comp51_struct1_vac_site1_start.vasp in ../Archived_Vasp_Jobs/VCrTiWZr_Summit/Fixed-Encut-KPoints/Pre_VASP/125-Atoms-dist/gen4/Vacancies/supercell_gen4_comp51_struct1_vac_site1_start\n",
      "Processing file: supercell_gen4_comp44_struct3_vac_site0_start.vasp\n",
      "Created VASP job for supercell_gen4_comp44_struct3_vac_site0_start.vasp in ../Archived_Vasp_Jobs/VCrTiWZr_Summit/Fixed-Encut-KPoints/Pre_VASP/125-Atoms-dist/gen4/Vacancies/supercell_gen4_comp44_struct3_vac_site0_start\n",
      "Processing file: supercell_gen4_comp45_struct3_vac_site3_start.vasp\n",
      "Created VASP job for supercell_gen4_comp45_struct3_vac_site3_start.vasp in ../Archived_Vasp_Jobs/VCrTiWZr_Summit/Fixed-Encut-KPoints/Pre_VASP/125-Atoms-dist/gen4/Vacancies/supercell_gen4_comp45_struct3_vac_site3_start\n",
      "Processing file: supercell_gen4_comp50_struct3_vac_site3_start.vasp\n",
      "Created VASP job for supercell_gen4_comp50_struct3_vac_site3_start.vasp in ../Archived_Vasp_Jobs/VCrTiWZr_Summit/Fixed-Encut-KPoints/Pre_VASP/125-Atoms-dist/gen4/Vacancies/supercell_gen4_comp50_struct3_vac_site3_start\n",
      "Processing file: supercell_gen4_comp51_struct3_vac_site0_start.vasp\n",
      "Created VASP job for supercell_gen4_comp51_struct3_vac_site0_start.vasp in ../Archived_Vasp_Jobs/VCrTiWZr_Summit/Fixed-Encut-KPoints/Pre_VASP/125-Atoms-dist/gen4/Vacancies/supercell_gen4_comp51_struct3_vac_site0_start\n",
      "Processing file: supercell_gen4_comp51_struct2_vac_site2_start.vasp\n",
      "Created VASP job for supercell_gen4_comp51_struct2_vac_site2_start.vasp in ../Archived_Vasp_Jobs/VCrTiWZr_Summit/Fixed-Encut-KPoints/Pre_VASP/125-Atoms-dist/gen4/Vacancies/supercell_gen4_comp51_struct2_vac_site2_start\n",
      "Processing file: supercell_gen4_comp50_struct2_vac_site1_start.vasp\n",
      "Created VASP job for supercell_gen4_comp50_struct2_vac_site1_start.vasp in ../Archived_Vasp_Jobs/VCrTiWZr_Summit/Fixed-Encut-KPoints/Pre_VASP/125-Atoms-dist/gen4/Vacancies/supercell_gen4_comp50_struct2_vac_site1_start\n",
      "Processing file: supercell_gen4_comp45_struct2_vac_site1_start.vasp\n",
      "Created VASP job for supercell_gen4_comp45_struct2_vac_site1_start.vasp in ../Archived_Vasp_Jobs/VCrTiWZr_Summit/Fixed-Encut-KPoints/Pre_VASP/125-Atoms-dist/gen4/Vacancies/supercell_gen4_comp45_struct2_vac_site1_start\n",
      "Processing file: supercell_gen4_comp44_struct2_vac_site2_start.vasp\n",
      "Created VASP job for supercell_gen4_comp44_struct2_vac_site2_start.vasp in ../Archived_Vasp_Jobs/VCrTiWZr_Summit/Fixed-Encut-KPoints/Pre_VASP/125-Atoms-dist/gen4/Vacancies/supercell_gen4_comp44_struct2_vac_site2_start\n",
      "Processing file: supercell_gen4_comp48_struct2_vac_site4_start.vasp\n",
      "Created VASP job for supercell_gen4_comp48_struct2_vac_site4_start.vasp in ../Archived_Vasp_Jobs/VCrTiWZr_Summit/Fixed-Encut-KPoints/Pre_VASP/125-Atoms-dist/gen4/Vacancies/supercell_gen4_comp48_struct2_vac_site4_start\n",
      "Processing file: supercell_gen4_comp43_struct3_vac_site4_start.vasp\n",
      "Created VASP job for supercell_gen4_comp43_struct3_vac_site4_start.vasp in ../Archived_Vasp_Jobs/VCrTiWZr_Summit/Fixed-Encut-KPoints/Pre_VASP/125-Atoms-dist/gen4/Vacancies/supercell_gen4_comp43_struct3_vac_site4_start\n",
      "Processing file: supercell_gen4_comp45_struct2_vac_site4_start.vasp\n",
      "Created VASP job for supercell_gen4_comp45_struct2_vac_site4_start.vasp in ../Archived_Vasp_Jobs/VCrTiWZr_Summit/Fixed-Encut-KPoints/Pre_VASP/125-Atoms-dist/gen4/Vacancies/supercell_gen4_comp45_struct2_vac_site4_start\n",
      "Processing file: supercell_gen4_comp49_struct2_vac_site2_start.vasp\n",
      "Created VASP job for supercell_gen4_comp49_struct2_vac_site2_start.vasp in ../Archived_Vasp_Jobs/VCrTiWZr_Summit/Fixed-Encut-KPoints/Pre_VASP/125-Atoms-dist/gen4/Vacancies/supercell_gen4_comp49_struct2_vac_site2_start\n",
      "Processing file: supercell_gen4_comp47_struct2_vac_site2_start.vasp\n",
      "Created VASP job for supercell_gen4_comp47_struct2_vac_site2_start.vasp in ../Archived_Vasp_Jobs/VCrTiWZr_Summit/Fixed-Encut-KPoints/Pre_VASP/125-Atoms-dist/gen4/Vacancies/supercell_gen4_comp47_struct2_vac_site2_start\n",
      "Processing file: supercell_gen4_comp48_struct2_vac_site1_start.vasp\n",
      "Created VASP job for supercell_gen4_comp48_struct2_vac_site1_start.vasp in ../Archived_Vasp_Jobs/VCrTiWZr_Summit/Fixed-Encut-KPoints/Pre_VASP/125-Atoms-dist/gen4/Vacancies/supercell_gen4_comp48_struct2_vac_site1_start\n",
      "Processing file: supercell_gen4_comp43_struct1_vac_site0_start.vasp\n",
      "Created VASP job for supercell_gen4_comp43_struct1_vac_site0_start.vasp in ../Archived_Vasp_Jobs/VCrTiWZr_Summit/Fixed-Encut-KPoints/Pre_VASP/125-Atoms-dist/gen4/Vacancies/supercell_gen4_comp43_struct1_vac_site0_start\n",
      "Processing file: supercell_gen4_comp52_struct2_vac_site2_start.vasp\n",
      "Created VASP job for supercell_gen4_comp52_struct2_vac_site2_start.vasp in ../Archived_Vasp_Jobs/VCrTiWZr_Summit/Fixed-Encut-KPoints/Pre_VASP/125-Atoms-dist/gen4/Vacancies/supercell_gen4_comp52_struct2_vac_site2_start\n",
      "Processing file: supercell_gen4_comp50_struct2_vac_site4_start.vasp\n",
      "Created VASP job for supercell_gen4_comp50_struct2_vac_site4_start.vasp in ../Archived_Vasp_Jobs/VCrTiWZr_Summit/Fixed-Encut-KPoints/Pre_VASP/125-Atoms-dist/gen4/Vacancies/supercell_gen4_comp50_struct2_vac_site4_start\n",
      "Processing file: supercell_gen4_comp43_struct3_vac_site1_start.vasp\n",
      "Created VASP job for supercell_gen4_comp43_struct3_vac_site1_start.vasp in ../Archived_Vasp_Jobs/VCrTiWZr_Summit/Fixed-Encut-KPoints/Pre_VASP/125-Atoms-dist/gen4/Vacancies/supercell_gen4_comp43_struct3_vac_site1_start\n",
      "Processing file: supercell_gen4_comp52_struct1_vac_site1_start.vasp\n",
      "Created VASP job for supercell_gen4_comp52_struct1_vac_site1_start.vasp in ../Archived_Vasp_Jobs/VCrTiWZr_Summit/Fixed-Encut-KPoints/Pre_VASP/125-Atoms-dist/gen4/Vacancies/supercell_gen4_comp52_struct1_vac_site1_start\n",
      "Processing file: supercell_gen4_comp43_struct2_vac_site3_start.vasp\n",
      "Created VASP job for supercell_gen4_comp43_struct2_vac_site3_start.vasp in ../Archived_Vasp_Jobs/VCrTiWZr_Summit/Fixed-Encut-KPoints/Pre_VASP/125-Atoms-dist/gen4/Vacancies/supercell_gen4_comp43_struct2_vac_site3_start\n",
      "Processing file: supercell_gen4_comp51_struct1_vac_site4_start.vasp\n",
      "Created VASP job for supercell_gen4_comp51_struct1_vac_site4_start.vasp in ../Archived_Vasp_Jobs/VCrTiWZr_Summit/Fixed-Encut-KPoints/Pre_VASP/125-Atoms-dist/gen4/Vacancies/supercell_gen4_comp51_struct1_vac_site4_start\n",
      "Processing file: supercell_gen4_comp44_struct1_vac_site4_start.vasp\n",
      "Created VASP job for supercell_gen4_comp44_struct1_vac_site4_start.vasp in ../Archived_Vasp_Jobs/VCrTiWZr_Summit/Fixed-Encut-KPoints/Pre_VASP/125-Atoms-dist/gen4/Vacancies/supercell_gen4_comp44_struct1_vac_site4_start\n",
      "Processing file: supercell_gen4_comp48_struct1_vac_site2_start.vasp\n",
      "Created VASP job for supercell_gen4_comp48_struct1_vac_site2_start.vasp in ../Archived_Vasp_Jobs/VCrTiWZr_Summit/Fixed-Encut-KPoints/Pre_VASP/125-Atoms-dist/gen4/Vacancies/supercell_gen4_comp48_struct1_vac_site2_start\n",
      "Processing file: supercell_gen4_comp47_struct1_vac_site1_start.vasp\n",
      "Created VASP job for supercell_gen4_comp47_struct1_vac_site1_start.vasp in ../Archived_Vasp_Jobs/VCrTiWZr_Summit/Fixed-Encut-KPoints/Pre_VASP/125-Atoms-dist/gen4/Vacancies/supercell_gen4_comp47_struct1_vac_site1_start\n",
      "Processing file: supercell_gen4_comp49_struct1_vac_site1_start.vasp\n",
      "Created VASP job for supercell_gen4_comp49_struct1_vac_site1_start.vasp in ../Archived_Vasp_Jobs/VCrTiWZr_Summit/Fixed-Encut-KPoints/Pre_VASP/125-Atoms-dist/gen4/Vacancies/supercell_gen4_comp49_struct1_vac_site1_start\n",
      "Processing file: supercell_gen4_comp46_struct1_vac_site2_start.vasp\n",
      "Created VASP job for supercell_gen4_comp46_struct1_vac_site2_start.vasp in ../Archived_Vasp_Jobs/VCrTiWZr_Summit/Fixed-Encut-KPoints/Pre_VASP/125-Atoms-dist/gen4/Vacancies/supercell_gen4_comp46_struct1_vac_site2_start\n",
      "Processing file: supercell_gen4_comp52_struct3_vac_site0_start.vasp\n",
      "Created VASP job for supercell_gen4_comp52_struct3_vac_site0_start.vasp in ../Archived_Vasp_Jobs/VCrTiWZr_Summit/Fixed-Encut-KPoints/Pre_VASP/125-Atoms-dist/gen4/Vacancies/supercell_gen4_comp52_struct3_vac_site0_start\n",
      "Processing file: supercell_gen4_comp48_struct3_vac_site3_start.vasp\n",
      "Created VASP job for supercell_gen4_comp48_struct3_vac_site3_start.vasp in ../Archived_Vasp_Jobs/VCrTiWZr_Summit/Fixed-Encut-KPoints/Pre_VASP/125-Atoms-dist/gen4/Vacancies/supercell_gen4_comp48_struct3_vac_site3_start\n",
      "Processing file: supercell_gen4_comp47_struct3_vac_site0_start.vasp\n",
      "Created VASP job for supercell_gen4_comp47_struct3_vac_site0_start.vasp in ../Archived_Vasp_Jobs/VCrTiWZr_Summit/Fixed-Encut-KPoints/Pre_VASP/125-Atoms-dist/gen4/Vacancies/supercell_gen4_comp47_struct3_vac_site0_start\n",
      "Processing file: supercell_gen4_comp49_struct3_vac_site0_start.vasp\n",
      "Created VASP job for supercell_gen4_comp49_struct3_vac_site0_start.vasp in ../Archived_Vasp_Jobs/VCrTiWZr_Summit/Fixed-Encut-KPoints/Pre_VASP/125-Atoms-dist/gen4/Vacancies/supercell_gen4_comp49_struct3_vac_site0_start\n",
      "Processing file: supercell_gen4_comp46_struct3_vac_site3_start.vasp\n",
      "Created VASP job for supercell_gen4_comp46_struct3_vac_site3_start.vasp in ../Archived_Vasp_Jobs/VCrTiWZr_Summit/Fixed-Encut-KPoints/Pre_VASP/125-Atoms-dist/gen4/Vacancies/supercell_gen4_comp46_struct3_vac_site3_start\n",
      "Processing file: supercell_gen4_comp46_struct3_vac_site4_start.vasp\n",
      "Created VASP job for supercell_gen4_comp46_struct3_vac_site4_start.vasp in ../Archived_Vasp_Jobs/VCrTiWZr_Summit/Fixed-Encut-KPoints/Pre_VASP/125-Atoms-dist/gen4/Vacancies/supercell_gen4_comp46_struct3_vac_site4_start\n",
      "Processing file: supercell_gen4_comp48_struct3_vac_site4_start.vasp\n",
      "Created VASP job for supercell_gen4_comp48_struct3_vac_site4_start.vasp in ../Archived_Vasp_Jobs/VCrTiWZr_Summit/Fixed-Encut-KPoints/Pre_VASP/125-Atoms-dist/gen4/Vacancies/supercell_gen4_comp48_struct3_vac_site4_start\n",
      "Processing file: supercell_gen4_comp44_struct3_vac_site2_start.vasp\n",
      "Created VASP job for supercell_gen4_comp44_struct3_vac_site2_start.vasp in ../Archived_Vasp_Jobs/VCrTiWZr_Summit/Fixed-Encut-KPoints/Pre_VASP/125-Atoms-dist/gen4/Vacancies/supercell_gen4_comp44_struct3_vac_site2_start\n",
      "Processing file: supercell_gen4_comp45_struct3_vac_site1_start.vasp\n",
      "Created VASP job for supercell_gen4_comp45_struct3_vac_site1_start.vasp in ../Archived_Vasp_Jobs/VCrTiWZr_Summit/Fixed-Encut-KPoints/Pre_VASP/125-Atoms-dist/gen4/Vacancies/supercell_gen4_comp45_struct3_vac_site1_start\n",
      "Processing file: supercell_gen4_comp50_struct3_vac_site1_start.vasp\n",
      "Created VASP job for supercell_gen4_comp50_struct3_vac_site1_start.vasp in ../Archived_Vasp_Jobs/VCrTiWZr_Summit/Fixed-Encut-KPoints/Pre_VASP/125-Atoms-dist/gen4/Vacancies/supercell_gen4_comp50_struct3_vac_site1_start\n",
      "Processing file: supercell_gen4_comp51_struct3_vac_site2_start.vasp\n",
      "Created VASP job for supercell_gen4_comp51_struct3_vac_site2_start.vasp in ../Archived_Vasp_Jobs/VCrTiWZr_Summit/Fixed-Encut-KPoints/Pre_VASP/125-Atoms-dist/gen4/Vacancies/supercell_gen4_comp51_struct3_vac_site2_start\n",
      "Processing file: supercell_gen4_comp44_struct1_vac_site3_start.vasp\n",
      "Created VASP job for supercell_gen4_comp44_struct1_vac_site3_start.vasp in ../Archived_Vasp_Jobs/VCrTiWZr_Summit/Fixed-Encut-KPoints/Pre_VASP/125-Atoms-dist/gen4/Vacancies/supercell_gen4_comp44_struct1_vac_site3_start\n",
      "Processing file: supercell_gen4_comp45_struct1_vac_site0_start.vasp\n",
      "Created VASP job for supercell_gen4_comp45_struct1_vac_site0_start.vasp in ../Archived_Vasp_Jobs/VCrTiWZr_Summit/Fixed-Encut-KPoints/Pre_VASP/125-Atoms-dist/gen4/Vacancies/supercell_gen4_comp45_struct1_vac_site0_start\n",
      "Processing file: supercell_gen4_comp43_struct2_vac_site4_start.vasp\n",
      "Created VASP job for supercell_gen4_comp43_struct2_vac_site4_start.vasp in ../Archived_Vasp_Jobs/VCrTiWZr_Summit/Fixed-Encut-KPoints/Pre_VASP/125-Atoms-dist/gen4/Vacancies/supercell_gen4_comp43_struct2_vac_site4_start\n",
      "Processing file: supercell_gen4_comp50_struct1_vac_site0_start.vasp\n",
      "Created VASP job for supercell_gen4_comp50_struct1_vac_site0_start.vasp in ../Archived_Vasp_Jobs/VCrTiWZr_Summit/Fixed-Encut-KPoints/Pre_VASP/125-Atoms-dist/gen4/Vacancies/supercell_gen4_comp50_struct1_vac_site0_start\n",
      "Processing file: supercell_gen4_comp51_struct1_vac_site3_start.vasp\n",
      "Created VASP job for supercell_gen4_comp51_struct1_vac_site3_start.vasp in ../Archived_Vasp_Jobs/VCrTiWZr_Summit/Fixed-Encut-KPoints/Pre_VASP/125-Atoms-dist/gen4/Vacancies/supercell_gen4_comp51_struct1_vac_site3_start\n",
      "Processing file: supercell_gen4_comp51_struct2_vac_site0_start.vasp\n",
      "Created VASP job for supercell_gen4_comp51_struct2_vac_site0_start.vasp in ../Archived_Vasp_Jobs/VCrTiWZr_Summit/Fixed-Encut-KPoints/Pre_VASP/125-Atoms-dist/gen4/Vacancies/supercell_gen4_comp51_struct2_vac_site0_start\n",
      "Processing file: supercell_gen4_comp50_struct2_vac_site3_start.vasp\n",
      "Created VASP job for supercell_gen4_comp50_struct2_vac_site3_start.vasp in ../Archived_Vasp_Jobs/VCrTiWZr_Summit/Fixed-Encut-KPoints/Pre_VASP/125-Atoms-dist/gen4/Vacancies/supercell_gen4_comp50_struct2_vac_site3_start\n",
      "Processing file: supercell_gen4_comp45_struct2_vac_site3_start.vasp\n",
      "Created VASP job for supercell_gen4_comp45_struct2_vac_site3_start.vasp in ../Archived_Vasp_Jobs/VCrTiWZr_Summit/Fixed-Encut-KPoints/Pre_VASP/125-Atoms-dist/gen4/Vacancies/supercell_gen4_comp45_struct2_vac_site3_start\n",
      "Processing file: supercell_gen4_comp44_struct2_vac_site0_start.vasp\n",
      "Created VASP job for supercell_gen4_comp44_struct2_vac_site0_start.vasp in ../Archived_Vasp_Jobs/VCrTiWZr_Summit/Fixed-Encut-KPoints/Pre_VASP/125-Atoms-dist/gen4/Vacancies/supercell_gen4_comp44_struct2_vac_site0_start\n",
      "Processing file: supercell_gen4_comp43_struct3_vac_site3_start.vasp\n",
      "Created VASP job for supercell_gen4_comp43_struct3_vac_site3_start.vasp in ../Archived_Vasp_Jobs/VCrTiWZr_Summit/Fixed-Encut-KPoints/Pre_VASP/125-Atoms-dist/gen4/Vacancies/supercell_gen4_comp43_struct3_vac_site3_start\n",
      "Processing file: supercell_gen4_comp49_struct2_vac_site0_start.vasp\n",
      "Created VASP job for supercell_gen4_comp49_struct2_vac_site0_start.vasp in ../Archived_Vasp_Jobs/VCrTiWZr_Summit/Fixed-Encut-KPoints/Pre_VASP/125-Atoms-dist/gen4/Vacancies/supercell_gen4_comp49_struct2_vac_site0_start\n",
      "Processing file: supercell_gen4_comp47_struct2_vac_site0_start.vasp\n",
      "Created VASP job for supercell_gen4_comp47_struct2_vac_site0_start.vasp in ../Archived_Vasp_Jobs/VCrTiWZr_Summit/Fixed-Encut-KPoints/Pre_VASP/125-Atoms-dist/gen4/Vacancies/supercell_gen4_comp47_struct2_vac_site0_start\n",
      "Processing file: supercell_gen4_comp48_struct2_vac_site3_start.vasp\n",
      "Created VASP job for supercell_gen4_comp48_struct2_vac_site3_start.vasp in ../Archived_Vasp_Jobs/VCrTiWZr_Summit/Fixed-Encut-KPoints/Pre_VASP/125-Atoms-dist/gen4/Vacancies/supercell_gen4_comp48_struct2_vac_site3_start\n",
      "Processing file: supercell_gen4_comp52_struct2_vac_site0_start.vasp\n",
      "Created VASP job for supercell_gen4_comp52_struct2_vac_site0_start.vasp in ../Archived_Vasp_Jobs/VCrTiWZr_Summit/Fixed-Encut-KPoints/Pre_VASP/125-Atoms-dist/gen4/Vacancies/supercell_gen4_comp52_struct2_vac_site0_start\n",
      "Processing file: supercell_gen4_comp43_struct1_vac_site2_start.vasp\n",
      "Created VASP job for supercell_gen4_comp43_struct1_vac_site2_start.vasp in ../Archived_Vasp_Jobs/VCrTiWZr_Summit/Fixed-Encut-KPoints/Pre_VASP/125-Atoms-dist/gen4/Vacancies/supercell_gen4_comp43_struct1_vac_site2_start\n",
      "Processing file: supercell_gen4_comp50_struct3_vac_site4_start.vasp\n",
      "Created VASP job for supercell_gen4_comp50_struct3_vac_site4_start.vasp in ../Archived_Vasp_Jobs/VCrTiWZr_Summit/Fixed-Encut-KPoints/Pre_VASP/125-Atoms-dist/gen4/Vacancies/supercell_gen4_comp50_struct3_vac_site4_start\n",
      "Processing file: supercell_gen4_comp52_struct3_vac_site2_start.vasp\n",
      "Created VASP job for supercell_gen4_comp52_struct3_vac_site2_start.vasp in ../Archived_Vasp_Jobs/VCrTiWZr_Summit/Fixed-Encut-KPoints/Pre_VASP/125-Atoms-dist/gen4/Vacancies/supercell_gen4_comp52_struct3_vac_site2_start\n",
      "Processing file: supercell_gen4_comp48_struct3_vac_site1_start.vasp\n",
      "Created VASP job for supercell_gen4_comp48_struct3_vac_site1_start.vasp in ../Archived_Vasp_Jobs/VCrTiWZr_Summit/Fixed-Encut-KPoints/Pre_VASP/125-Atoms-dist/gen4/Vacancies/supercell_gen4_comp48_struct3_vac_site1_start\n",
      "Processing file: supercell_gen4_comp47_struct3_vac_site2_start.vasp\n",
      "Created VASP job for supercell_gen4_comp47_struct3_vac_site2_start.vasp in ../Archived_Vasp_Jobs/VCrTiWZr_Summit/Fixed-Encut-KPoints/Pre_VASP/125-Atoms-dist/gen4/Vacancies/supercell_gen4_comp47_struct3_vac_site2_start\n",
      "Processing file: supercell_gen4_comp49_struct3_vac_site2_start.vasp\n",
      "Created VASP job for supercell_gen4_comp49_struct3_vac_site2_start.vasp in ../Archived_Vasp_Jobs/VCrTiWZr_Summit/Fixed-Encut-KPoints/Pre_VASP/125-Atoms-dist/gen4/Vacancies/supercell_gen4_comp49_struct3_vac_site2_start\n",
      "Processing file: supercell_gen4_comp46_struct3_vac_site1_start.vasp\n",
      "Created VASP job for supercell_gen4_comp46_struct3_vac_site1_start.vasp in ../Archived_Vasp_Jobs/VCrTiWZr_Summit/Fixed-Encut-KPoints/Pre_VASP/125-Atoms-dist/gen4/Vacancies/supercell_gen4_comp46_struct3_vac_site1_start\n",
      "Processing file: supercell_gen4_comp45_struct3_vac_site4_start.vasp\n",
      "Created VASP job for supercell_gen4_comp45_struct3_vac_site4_start.vasp in ../Archived_Vasp_Jobs/VCrTiWZr_Summit/Fixed-Encut-KPoints/Pre_VASP/125-Atoms-dist/gen4/Vacancies/supercell_gen4_comp45_struct3_vac_site4_start\n",
      "Processing file: supercell_gen4_comp43_struct2_vac_site1_start.vasp\n",
      "Created VASP job for supercell_gen4_comp43_struct2_vac_site1_start.vasp in ../Archived_Vasp_Jobs/VCrTiWZr_Summit/Fixed-Encut-KPoints/Pre_VASP/125-Atoms-dist/gen4/Vacancies/supercell_gen4_comp43_struct2_vac_site1_start\n",
      "Processing file: supercell_gen4_comp52_struct1_vac_site3_start.vasp\n",
      "Created VASP job for supercell_gen4_comp52_struct1_vac_site3_start.vasp in ../Archived_Vasp_Jobs/VCrTiWZr_Summit/Fixed-Encut-KPoints/Pre_VASP/125-Atoms-dist/gen4/Vacancies/supercell_gen4_comp52_struct1_vac_site3_start\n",
      "Processing file: supercell_gen4_comp48_struct1_vac_site0_start.vasp\n",
      "Created VASP job for supercell_gen4_comp48_struct1_vac_site0_start.vasp in ../Archived_Vasp_Jobs/VCrTiWZr_Summit/Fixed-Encut-KPoints/Pre_VASP/125-Atoms-dist/gen4/Vacancies/supercell_gen4_comp48_struct1_vac_site0_start\n",
      "Processing file: supercell_gen4_comp47_struct1_vac_site3_start.vasp\n",
      "Created VASP job for supercell_gen4_comp47_struct1_vac_site3_start.vasp in ../Archived_Vasp_Jobs/VCrTiWZr_Summit/Fixed-Encut-KPoints/Pre_VASP/125-Atoms-dist/gen4/Vacancies/supercell_gen4_comp47_struct1_vac_site3_start\n",
      "Processing file: supercell_gen4_comp49_struct1_vac_site3_start.vasp\n",
      "Created VASP job for supercell_gen4_comp49_struct1_vac_site3_start.vasp in ../Archived_Vasp_Jobs/VCrTiWZr_Summit/Fixed-Encut-KPoints/Pre_VASP/125-Atoms-dist/gen4/Vacancies/supercell_gen4_comp49_struct1_vac_site3_start\n",
      "Processing file: supercell_gen4_comp46_struct1_vac_site0_start.vasp\n",
      "Created VASP job for supercell_gen4_comp46_struct1_vac_site0_start.vasp in ../Archived_Vasp_Jobs/VCrTiWZr_Summit/Fixed-Encut-KPoints/Pre_VASP/125-Atoms-dist/gen4/Vacancies/supercell_gen4_comp46_struct1_vac_site0_start\n",
      "Processing file: supercell_gen4_comp52_struct2_vac_site3_start.vasp\n",
      "Created VASP job for supercell_gen4_comp52_struct2_vac_site3_start.vasp in ../Archived_Vasp_Jobs/VCrTiWZr_Summit/Fixed-Encut-KPoints/Pre_VASP/125-Atoms-dist/gen4/Vacancies/supercell_gen4_comp52_struct2_vac_site3_start\n",
      "Processing file: supercell_gen4_comp43_struct1_vac_site1_start.vasp\n",
      "Created VASP job for supercell_gen4_comp43_struct1_vac_site1_start.vasp in ../Archived_Vasp_Jobs/VCrTiWZr_Summit/Fixed-Encut-KPoints/Pre_VASP/125-Atoms-dist/gen4/Vacancies/supercell_gen4_comp43_struct1_vac_site1_start\n",
      "Processing file: supercell_gen4_comp49_struct2_vac_site3_start.vasp\n",
      "Created VASP job for supercell_gen4_comp49_struct2_vac_site3_start.vasp in ../Archived_Vasp_Jobs/VCrTiWZr_Summit/Fixed-Encut-KPoints/Pre_VASP/125-Atoms-dist/gen4/Vacancies/supercell_gen4_comp49_struct2_vac_site3_start\n",
      "Processing file: supercell_gen4_comp47_struct2_vac_site3_start.vasp\n",
      "Created VASP job for supercell_gen4_comp47_struct2_vac_site3_start.vasp in ../Archived_Vasp_Jobs/VCrTiWZr_Summit/Fixed-Encut-KPoints/Pre_VASP/125-Atoms-dist/gen4/Vacancies/supercell_gen4_comp47_struct2_vac_site3_start\n",
      "Processing file: supercell_gen4_comp48_struct2_vac_site0_start.vasp\n",
      "Created VASP job for supercell_gen4_comp48_struct2_vac_site0_start.vasp in ../Archived_Vasp_Jobs/VCrTiWZr_Summit/Fixed-Encut-KPoints/Pre_VASP/125-Atoms-dist/gen4/Vacancies/supercell_gen4_comp48_struct2_vac_site0_start\n",
      "Processing file: supercell_gen4_comp43_struct3_vac_site0_start.vasp\n",
      "Created VASP job for supercell_gen4_comp43_struct3_vac_site0_start.vasp in ../Archived_Vasp_Jobs/VCrTiWZr_Summit/Fixed-Encut-KPoints/Pre_VASP/125-Atoms-dist/gen4/Vacancies/supercell_gen4_comp43_struct3_vac_site0_start\n",
      "Processing file: supercell_gen4_comp48_struct1_vac_site3_start.vasp\n",
      "Created VASP job for supercell_gen4_comp48_struct1_vac_site3_start.vasp in ../Archived_Vasp_Jobs/VCrTiWZr_Summit/Fixed-Encut-KPoints/Pre_VASP/125-Atoms-dist/gen4/Vacancies/supercell_gen4_comp48_struct1_vac_site3_start\n",
      "Processing file: supercell_gen4_comp47_struct1_vac_site0_start.vasp\n",
      "Created VASP job for supercell_gen4_comp47_struct1_vac_site0_start.vasp in ../Archived_Vasp_Jobs/VCrTiWZr_Summit/Fixed-Encut-KPoints/Pre_VASP/125-Atoms-dist/gen4/Vacancies/supercell_gen4_comp47_struct1_vac_site0_start\n",
      "Processing file: supercell_gen4_comp49_struct1_vac_site0_start.vasp\n",
      "Created VASP job for supercell_gen4_comp49_struct1_vac_site0_start.vasp in ../Archived_Vasp_Jobs/VCrTiWZr_Summit/Fixed-Encut-KPoints/Pre_VASP/125-Atoms-dist/gen4/Vacancies/supercell_gen4_comp49_struct1_vac_site0_start\n",
      "Processing file: supercell_gen4_comp46_struct1_vac_site3_start.vasp\n",
      "Created VASP job for supercell_gen4_comp46_struct1_vac_site3_start.vasp in ../Archived_Vasp_Jobs/VCrTiWZr_Summit/Fixed-Encut-KPoints/Pre_VASP/125-Atoms-dist/gen4/Vacancies/supercell_gen4_comp46_struct1_vac_site3_start\n",
      "Processing file: supercell_gen4_comp43_struct2_vac_site2_start.vasp\n",
      "Created VASP job for supercell_gen4_comp43_struct2_vac_site2_start.vasp in ../Archived_Vasp_Jobs/VCrTiWZr_Summit/Fixed-Encut-KPoints/Pre_VASP/125-Atoms-dist/gen4/Vacancies/supercell_gen4_comp43_struct2_vac_site2_start\n",
      "Processing file: supercell_gen4_comp52_struct1_vac_site0_start.vasp\n",
      "Created VASP job for supercell_gen4_comp52_struct1_vac_site0_start.vasp in ../Archived_Vasp_Jobs/VCrTiWZr_Summit/Fixed-Encut-KPoints/Pre_VASP/125-Atoms-dist/gen4/Vacancies/supercell_gen4_comp52_struct1_vac_site0_start\n",
      "Processing file: supercell_gen4_comp48_struct3_vac_site2_start.vasp\n",
      "Created VASP job for supercell_gen4_comp48_struct3_vac_site2_start.vasp in ../Archived_Vasp_Jobs/VCrTiWZr_Summit/Fixed-Encut-KPoints/Pre_VASP/125-Atoms-dist/gen4/Vacancies/supercell_gen4_comp48_struct3_vac_site2_start\n",
      "Processing file: supercell_gen4_comp47_struct3_vac_site1_start.vasp\n",
      "Created VASP job for supercell_gen4_comp47_struct3_vac_site1_start.vasp in ../Archived_Vasp_Jobs/VCrTiWZr_Summit/Fixed-Encut-KPoints/Pre_VASP/125-Atoms-dist/gen4/Vacancies/supercell_gen4_comp47_struct3_vac_site1_start\n",
      "Processing file: supercell_gen4_comp49_struct3_vac_site1_start.vasp\n",
      "Created VASP job for supercell_gen4_comp49_struct3_vac_site1_start.vasp in ../Archived_Vasp_Jobs/VCrTiWZr_Summit/Fixed-Encut-KPoints/Pre_VASP/125-Atoms-dist/gen4/Vacancies/supercell_gen4_comp49_struct3_vac_site1_start\n",
      "Processing file: supercell_gen4_comp46_struct3_vac_site2_start.vasp\n",
      "Created VASP job for supercell_gen4_comp46_struct3_vac_site2_start.vasp in ../Archived_Vasp_Jobs/VCrTiWZr_Summit/Fixed-Encut-KPoints/Pre_VASP/125-Atoms-dist/gen4/Vacancies/supercell_gen4_comp46_struct3_vac_site2_start\n",
      "Processing file: supercell_gen4_comp44_struct3_vac_site4_start.vasp\n",
      "Created VASP job for supercell_gen4_comp44_struct3_vac_site4_start.vasp in ../Archived_Vasp_Jobs/VCrTiWZr_Summit/Fixed-Encut-KPoints/Pre_VASP/125-Atoms-dist/gen4/Vacancies/supercell_gen4_comp44_struct3_vac_site4_start\n",
      "Processing file: supercell_gen4_comp51_struct3_vac_site4_start.vasp\n",
      "Created VASP job for supercell_gen4_comp51_struct3_vac_site4_start.vasp in ../Archived_Vasp_Jobs/VCrTiWZr_Summit/Fixed-Encut-KPoints/Pre_VASP/125-Atoms-dist/gen4/Vacancies/supercell_gen4_comp51_struct3_vac_site4_start\n",
      "Processing file: supercell_gen4_comp52_struct3_vac_site1_start.vasp\n",
      "Created VASP job for supercell_gen4_comp52_struct3_vac_site1_start.vasp in ../Archived_Vasp_Jobs/VCrTiWZr_Summit/Fixed-Encut-KPoints/Pre_VASP/125-Atoms-dist/gen4/Vacancies/supercell_gen4_comp52_struct3_vac_site1_start\n",
      "Processing file: supercell_gen4_comp50_struct1_vac_site3_start.vasp\n",
      "Created VASP job for supercell_gen4_comp50_struct1_vac_site3_start.vasp in ../Archived_Vasp_Jobs/VCrTiWZr_Summit/Fixed-Encut-KPoints/Pre_VASP/125-Atoms-dist/gen4/Vacancies/supercell_gen4_comp50_struct1_vac_site3_start\n",
      "Processing file: supercell_gen4_comp51_struct1_vac_site0_start.vasp\n",
      "Created VASP job for supercell_gen4_comp51_struct1_vac_site0_start.vasp in ../Archived_Vasp_Jobs/VCrTiWZr_Summit/Fixed-Encut-KPoints/Pre_VASP/125-Atoms-dist/gen4/Vacancies/supercell_gen4_comp51_struct1_vac_site0_start\n",
      "Processing file: supercell_gen4_comp44_struct1_vac_site0_start.vasp\n",
      "Created VASP job for supercell_gen4_comp44_struct1_vac_site0_start.vasp in ../Archived_Vasp_Jobs/VCrTiWZr_Summit/Fixed-Encut-KPoints/Pre_VASP/125-Atoms-dist/gen4/Vacancies/supercell_gen4_comp44_struct1_vac_site0_start\n",
      "Processing file: supercell_gen4_comp45_struct1_vac_site3_start.vasp\n",
      "Created VASP job for supercell_gen4_comp45_struct1_vac_site3_start.vasp in ../Archived_Vasp_Jobs/VCrTiWZr_Summit/Fixed-Encut-KPoints/Pre_VASP/125-Atoms-dist/gen4/Vacancies/supercell_gen4_comp45_struct1_vac_site3_start\n",
      "Processing file: supercell_gen4_comp50_struct3_vac_site2_start.vasp\n",
      "Created VASP job for supercell_gen4_comp50_struct3_vac_site2_start.vasp in ../Archived_Vasp_Jobs/VCrTiWZr_Summit/Fixed-Encut-KPoints/Pre_VASP/125-Atoms-dist/gen4/Vacancies/supercell_gen4_comp50_struct3_vac_site2_start\n",
      "Processing file: supercell_gen4_comp51_struct3_vac_site1_start.vasp\n",
      "Created VASP job for supercell_gen4_comp51_struct3_vac_site1_start.vasp in ../Archived_Vasp_Jobs/VCrTiWZr_Summit/Fixed-Encut-KPoints/Pre_VASP/125-Atoms-dist/gen4/Vacancies/supercell_gen4_comp51_struct3_vac_site1_start\n",
      "Processing file: supercell_gen4_comp52_struct3_vac_site4_start.vasp\n",
      "Created VASP job for supercell_gen4_comp52_struct3_vac_site4_start.vasp in ../Archived_Vasp_Jobs/VCrTiWZr_Summit/Fixed-Encut-KPoints/Pre_VASP/125-Atoms-dist/gen4/Vacancies/supercell_gen4_comp52_struct3_vac_site4_start\n",
      "Processing file: supercell_gen4_comp49_struct3_vac_site4_start.vasp\n",
      "Created VASP job for supercell_gen4_comp49_struct3_vac_site4_start.vasp in ../Archived_Vasp_Jobs/VCrTiWZr_Summit/Fixed-Encut-KPoints/Pre_VASP/125-Atoms-dist/gen4/Vacancies/supercell_gen4_comp49_struct3_vac_site4_start\n",
      "Processing file: supercell_gen4_comp47_struct3_vac_site4_start.vasp\n",
      "Created VASP job for supercell_gen4_comp47_struct3_vac_site4_start.vasp in ../Archived_Vasp_Jobs/VCrTiWZr_Summit/Fixed-Encut-KPoints/Pre_VASP/125-Atoms-dist/gen4/Vacancies/supercell_gen4_comp47_struct3_vac_site4_start\n",
      "Processing file: supercell_gen4_comp44_struct3_vac_site1_start.vasp\n",
      "Created VASP job for supercell_gen4_comp44_struct3_vac_site1_start.vasp in ../Archived_Vasp_Jobs/VCrTiWZr_Summit/Fixed-Encut-KPoints/Pre_VASP/125-Atoms-dist/gen4/Vacancies/supercell_gen4_comp44_struct3_vac_site1_start\n",
      "Processing file: supercell_gen4_comp45_struct3_vac_site2_start.vasp\n",
      "Created VASP job for supercell_gen4_comp45_struct3_vac_site2_start.vasp in ../Archived_Vasp_Jobs/VCrTiWZr_Summit/Fixed-Encut-KPoints/Pre_VASP/125-Atoms-dist/gen4/Vacancies/supercell_gen4_comp45_struct3_vac_site2_start\n",
      "Processing file: supercell_gen4_comp45_struct2_vac_site0_start.vasp\n",
      "Created VASP job for supercell_gen4_comp45_struct2_vac_site0_start.vasp in ../Archived_Vasp_Jobs/VCrTiWZr_Summit/Fixed-Encut-KPoints/Pre_VASP/125-Atoms-dist/gen4/Vacancies/supercell_gen4_comp45_struct2_vac_site0_start\n",
      "Processing file: supercell_gen4_comp44_struct2_vac_site3_start.vasp\n",
      "Created VASP job for supercell_gen4_comp44_struct2_vac_site3_start.vasp in ../Archived_Vasp_Jobs/VCrTiWZr_Summit/Fixed-Encut-KPoints/Pre_VASP/125-Atoms-dist/gen4/Vacancies/supercell_gen4_comp44_struct2_vac_site3_start\n",
      "Processing file: supercell_gen4_comp43_struct1_vac_site4_start.vasp\n",
      "Created VASP job for supercell_gen4_comp43_struct1_vac_site4_start.vasp in ../Archived_Vasp_Jobs/VCrTiWZr_Summit/Fixed-Encut-KPoints/Pre_VASP/125-Atoms-dist/gen4/Vacancies/supercell_gen4_comp43_struct1_vac_site4_start\n",
      "Processing file: supercell_gen4_comp51_struct2_vac_site3_start.vasp\n",
      "Created VASP job for supercell_gen4_comp51_struct2_vac_site3_start.vasp in ../Archived_Vasp_Jobs/VCrTiWZr_Summit/Fixed-Encut-KPoints/Pre_VASP/125-Atoms-dist/gen4/Vacancies/supercell_gen4_comp51_struct2_vac_site3_start\n",
      "Processing file: supercell_gen4_comp50_struct2_vac_site0_start.vasp\n",
      "Created VASP job for supercell_gen4_comp50_struct2_vac_site0_start.vasp in ../Archived_Vasp_Jobs/VCrTiWZr_Summit/Fixed-Encut-KPoints/Pre_VASP/125-Atoms-dist/gen4/Vacancies/supercell_gen4_comp50_struct2_vac_site0_start\n",
      "Processing file: supercell_gen4_comp43_struct3_vac_site2_start.vasp\n",
      "Created VASP job for supercell_gen4_comp43_struct3_vac_site2_start.vasp in ../Archived_Vasp_Jobs/VCrTiWZr_Summit/Fixed-Encut-KPoints/Pre_VASP/125-Atoms-dist/gen4/Vacancies/supercell_gen4_comp43_struct3_vac_site2_start\n",
      "Processing file: supercell_gen4_comp43_struct1_vac_site3_start.vasp\n",
      "Created VASP job for supercell_gen4_comp43_struct1_vac_site3_start.vasp in ../Archived_Vasp_Jobs/VCrTiWZr_Summit/Fixed-Encut-KPoints/Pre_VASP/125-Atoms-dist/gen4/Vacancies/supercell_gen4_comp43_struct1_vac_site3_start\n",
      "Processing file: supercell_gen4_comp52_struct2_vac_site1_start.vasp\n",
      "Created VASP job for supercell_gen4_comp52_struct2_vac_site1_start.vasp in ../Archived_Vasp_Jobs/VCrTiWZr_Summit/Fixed-Encut-KPoints/Pre_VASP/125-Atoms-dist/gen4/Vacancies/supercell_gen4_comp52_struct2_vac_site1_start\n",
      "Processing file: supercell_gen4_comp51_struct2_vac_site4_start.vasp\n",
      "Created VASP job for supercell_gen4_comp51_struct2_vac_site4_start.vasp in ../Archived_Vasp_Jobs/VCrTiWZr_Summit/Fixed-Encut-KPoints/Pre_VASP/125-Atoms-dist/gen4/Vacancies/supercell_gen4_comp51_struct2_vac_site4_start\n",
      "Processing file: supercell_gen4_comp44_struct2_vac_site4_start.vasp\n",
      "Created VASP job for supercell_gen4_comp44_struct2_vac_site4_start.vasp in ../Archived_Vasp_Jobs/VCrTiWZr_Summit/Fixed-Encut-KPoints/Pre_VASP/125-Atoms-dist/gen4/Vacancies/supercell_gen4_comp44_struct2_vac_site4_start\n",
      "Processing file: supercell_gen4_comp49_struct2_vac_site1_start.vasp\n",
      "Created VASP job for supercell_gen4_comp49_struct2_vac_site1_start.vasp in ../Archived_Vasp_Jobs/VCrTiWZr_Summit/Fixed-Encut-KPoints/Pre_VASP/125-Atoms-dist/gen4/Vacancies/supercell_gen4_comp49_struct2_vac_site1_start\n",
      "Processing file: supercell_gen4_comp47_struct2_vac_site1_start.vasp\n",
      "Created VASP job for supercell_gen4_comp47_struct2_vac_site1_start.vasp in ../Archived_Vasp_Jobs/VCrTiWZr_Summit/Fixed-Encut-KPoints/Pre_VASP/125-Atoms-dist/gen4/Vacancies/supercell_gen4_comp47_struct2_vac_site1_start\n",
      "Processing file: supercell_gen4_comp48_struct2_vac_site2_start.vasp\n",
      "Created VASP job for supercell_gen4_comp48_struct2_vac_site2_start.vasp in ../Archived_Vasp_Jobs/VCrTiWZr_Summit/Fixed-Encut-KPoints/Pre_VASP/125-Atoms-dist/gen4/Vacancies/supercell_gen4_comp48_struct2_vac_site2_start\n",
      "Processing file: supercell_gen4_comp48_struct3_vac_site0_start.vasp\n",
      "Created VASP job for supercell_gen4_comp48_struct3_vac_site0_start.vasp in ../Archived_Vasp_Jobs/VCrTiWZr_Summit/Fixed-Encut-KPoints/Pre_VASP/125-Atoms-dist/gen4/Vacancies/supercell_gen4_comp48_struct3_vac_site0_start\n",
      "Processing file: supercell_gen4_comp47_struct3_vac_site3_start.vasp\n",
      "Created VASP job for supercell_gen4_comp47_struct3_vac_site3_start.vasp in ../Archived_Vasp_Jobs/VCrTiWZr_Summit/Fixed-Encut-KPoints/Pre_VASP/125-Atoms-dist/gen4/Vacancies/supercell_gen4_comp47_struct3_vac_site3_start\n",
      "Processing file: supercell_gen4_comp49_struct3_vac_site3_start.vasp\n",
      "Created VASP job for supercell_gen4_comp49_struct3_vac_site3_start.vasp in ../Archived_Vasp_Jobs/VCrTiWZr_Summit/Fixed-Encut-KPoints/Pre_VASP/125-Atoms-dist/gen4/Vacancies/supercell_gen4_comp49_struct3_vac_site3_start\n",
      "Processing file: supercell_gen4_comp46_struct3_vac_site0_start.vasp\n",
      "Created VASP job for supercell_gen4_comp46_struct3_vac_site0_start.vasp in ../Archived_Vasp_Jobs/VCrTiWZr_Summit/Fixed-Encut-KPoints/Pre_VASP/125-Atoms-dist/gen4/Vacancies/supercell_gen4_comp46_struct3_vac_site0_start\n",
      "Processing file: supercell_gen4_comp52_struct3_vac_site3_start.vasp\n",
      "Created VASP job for supercell_gen4_comp52_struct3_vac_site3_start.vasp in ../Archived_Vasp_Jobs/VCrTiWZr_Summit/Fixed-Encut-KPoints/Pre_VASP/125-Atoms-dist/gen4/Vacancies/supercell_gen4_comp52_struct3_vac_site3_start\n",
      "Processing file: supercell_gen4_comp45_struct1_vac_site4_start.vasp\n",
      "Created VASP job for supercell_gen4_comp45_struct1_vac_site4_start.vasp in ../Archived_Vasp_Jobs/VCrTiWZr_Summit/Fixed-Encut-KPoints/Pre_VASP/125-Atoms-dist/gen4/Vacancies/supercell_gen4_comp45_struct1_vac_site4_start\n",
      "Processing file: supercell_gen4_comp48_struct1_vac_site1_start.vasp\n",
      "Created VASP job for supercell_gen4_comp48_struct1_vac_site1_start.vasp in ../Archived_Vasp_Jobs/VCrTiWZr_Summit/Fixed-Encut-KPoints/Pre_VASP/125-Atoms-dist/gen4/Vacancies/supercell_gen4_comp48_struct1_vac_site1_start\n",
      "Processing file: supercell_gen4_comp47_struct1_vac_site2_start.vasp\n",
      "Created VASP job for supercell_gen4_comp47_struct1_vac_site2_start.vasp in ../Archived_Vasp_Jobs/VCrTiWZr_Summit/Fixed-Encut-KPoints/Pre_VASP/125-Atoms-dist/gen4/Vacancies/supercell_gen4_comp47_struct1_vac_site2_start\n",
      "Processing file: supercell_gen4_comp49_struct1_vac_site2_start.vasp\n",
      "Created VASP job for supercell_gen4_comp49_struct1_vac_site2_start.vasp in ../Archived_Vasp_Jobs/VCrTiWZr_Summit/Fixed-Encut-KPoints/Pre_VASP/125-Atoms-dist/gen4/Vacancies/supercell_gen4_comp49_struct1_vac_site2_start\n",
      "Processing file: supercell_gen4_comp46_struct1_vac_site1_start.vasp\n",
      "Created VASP job for supercell_gen4_comp46_struct1_vac_site1_start.vasp in ../Archived_Vasp_Jobs/VCrTiWZr_Summit/Fixed-Encut-KPoints/Pre_VASP/125-Atoms-dist/gen4/Vacancies/supercell_gen4_comp46_struct1_vac_site1_start\n",
      "Processing file: supercell_gen4_comp52_struct1_vac_site2_start.vasp\n",
      "Created VASP job for supercell_gen4_comp52_struct1_vac_site2_start.vasp in ../Archived_Vasp_Jobs/VCrTiWZr_Summit/Fixed-Encut-KPoints/Pre_VASP/125-Atoms-dist/gen4/Vacancies/supercell_gen4_comp52_struct1_vac_site2_start\n",
      "Processing file: supercell_gen4_comp43_struct2_vac_site0_start.vasp\n",
      "Created VASP job for supercell_gen4_comp43_struct2_vac_site0_start.vasp in ../Archived_Vasp_Jobs/VCrTiWZr_Summit/Fixed-Encut-KPoints/Pre_VASP/125-Atoms-dist/gen4/Vacancies/supercell_gen4_comp43_struct2_vac_site0_start\n",
      "Processing file: supercell_gen4_comp50_struct1_vac_site4_start.vasp\n",
      "Created VASP job for supercell_gen4_comp50_struct1_vac_site4_start.vasp in ../Archived_Vasp_Jobs/VCrTiWZr_Summit/Fixed-Encut-KPoints/Pre_VASP/125-Atoms-dist/gen4/Vacancies/supercell_gen4_comp50_struct1_vac_site4_start\n",
      "Processing file: supercell_gen4_comp50_struct3_vac_site0_start.vasp\n",
      "Created VASP job for supercell_gen4_comp50_struct3_vac_site0_start.vasp in ../Archived_Vasp_Jobs/VCrTiWZr_Summit/Fixed-Encut-KPoints/Pre_VASP/125-Atoms-dist/gen4/Vacancies/supercell_gen4_comp50_struct3_vac_site0_start\n",
      "Processing file: supercell_gen4_comp51_struct3_vac_site3_start.vasp\n",
      "Created VASP job for supercell_gen4_comp51_struct3_vac_site3_start.vasp in ../Archived_Vasp_Jobs/VCrTiWZr_Summit/Fixed-Encut-KPoints/Pre_VASP/125-Atoms-dist/gen4/Vacancies/supercell_gen4_comp51_struct3_vac_site3_start\n",
      "Processing file: supercell_gen4_comp44_struct3_vac_site3_start.vasp\n",
      "Created VASP job for supercell_gen4_comp44_struct3_vac_site3_start.vasp in ../Archived_Vasp_Jobs/VCrTiWZr_Summit/Fixed-Encut-KPoints/Pre_VASP/125-Atoms-dist/gen4/Vacancies/supercell_gen4_comp44_struct3_vac_site3_start\n",
      "Processing file: supercell_gen4_comp45_struct3_vac_site0_start.vasp\n",
      "Created VASP job for supercell_gen4_comp45_struct3_vac_site0_start.vasp in ../Archived_Vasp_Jobs/VCrTiWZr_Summit/Fixed-Encut-KPoints/Pre_VASP/125-Atoms-dist/gen4/Vacancies/supercell_gen4_comp45_struct3_vac_site0_start\n",
      "Processing file: supercell_gen4_comp50_struct1_vac_site1_start.vasp\n",
      "Created VASP job for supercell_gen4_comp50_struct1_vac_site1_start.vasp in ../Archived_Vasp_Jobs/VCrTiWZr_Summit/Fixed-Encut-KPoints/Pre_VASP/125-Atoms-dist/gen4/Vacancies/supercell_gen4_comp50_struct1_vac_site1_start\n",
      "Processing file: supercell_gen4_comp51_struct1_vac_site2_start.vasp\n",
      "Created VASP job for supercell_gen4_comp51_struct1_vac_site2_start.vasp in ../Archived_Vasp_Jobs/VCrTiWZr_Summit/Fixed-Encut-KPoints/Pre_VASP/125-Atoms-dist/gen4/Vacancies/supercell_gen4_comp51_struct1_vac_site2_start\n",
      "Processing file: supercell_gen4_comp44_struct1_vac_site2_start.vasp\n",
      "Created VASP job for supercell_gen4_comp44_struct1_vac_site2_start.vasp in ../Archived_Vasp_Jobs/VCrTiWZr_Summit/Fixed-Encut-KPoints/Pre_VASP/125-Atoms-dist/gen4/Vacancies/supercell_gen4_comp44_struct1_vac_site2_start\n",
      "Processing file: supercell_gen4_comp45_struct1_vac_site1_start.vasp\n",
      "Created VASP job for supercell_gen4_comp45_struct1_vac_site1_start.vasp in ../Archived_Vasp_Jobs/VCrTiWZr_Summit/Fixed-Encut-KPoints/Pre_VASP/125-Atoms-dist/gen4/Vacancies/supercell_gen4_comp45_struct1_vac_site1_start\n",
      "Processing file: supercell_gen4_comp46_struct1_vac_site4_start.vasp\n",
      "Created VASP job for supercell_gen4_comp46_struct1_vac_site4_start.vasp in ../Archived_Vasp_Jobs/VCrTiWZr_Summit/Fixed-Encut-KPoints/Pre_VASP/125-Atoms-dist/gen4/Vacancies/supercell_gen4_comp46_struct1_vac_site4_start\n",
      "Processing file: supercell_gen4_comp48_struct1_vac_site4_start.vasp\n",
      "Created VASP job for supercell_gen4_comp48_struct1_vac_site4_start.vasp in ../Archived_Vasp_Jobs/VCrTiWZr_Summit/Fixed-Encut-KPoints/Pre_VASP/125-Atoms-dist/gen4/Vacancies/supercell_gen4_comp48_struct1_vac_site4_start\n",
      "Processing file: supercell_gen4_comp45_struct2_vac_site2_start.vasp\n",
      "Created VASP job for supercell_gen4_comp45_struct2_vac_site2_start.vasp in ../Archived_Vasp_Jobs/VCrTiWZr_Summit/Fixed-Encut-KPoints/Pre_VASP/125-Atoms-dist/gen4/Vacancies/supercell_gen4_comp45_struct2_vac_site2_start\n",
      "Processing file: supercell_gen4_comp44_struct2_vac_site1_start.vasp\n",
      "Created VASP job for supercell_gen4_comp44_struct2_vac_site1_start.vasp in ../Archived_Vasp_Jobs/VCrTiWZr_Summit/Fixed-Encut-KPoints/Pre_VASP/125-Atoms-dist/gen4/Vacancies/supercell_gen4_comp44_struct2_vac_site1_start\n",
      "Processing file: supercell_gen4_comp47_struct2_vac_site4_start.vasp\n",
      "Created VASP job for supercell_gen4_comp47_struct2_vac_site4_start.vasp in ../Archived_Vasp_Jobs/VCrTiWZr_Summit/Fixed-Encut-KPoints/Pre_VASP/125-Atoms-dist/gen4/Vacancies/supercell_gen4_comp47_struct2_vac_site4_start\n",
      "Processing file: supercell_gen4_comp49_struct2_vac_site4_start.vasp\n",
      "Created VASP job for supercell_gen4_comp49_struct2_vac_site4_start.vasp in ../Archived_Vasp_Jobs/VCrTiWZr_Summit/Fixed-Encut-KPoints/Pre_VASP/125-Atoms-dist/gen4/Vacancies/supercell_gen4_comp49_struct2_vac_site4_start\n",
      "Processing file: supercell_gen4_comp52_struct2_vac_site4_start.vasp\n",
      "Created VASP job for supercell_gen4_comp52_struct2_vac_site4_start.vasp in ../Archived_Vasp_Jobs/VCrTiWZr_Summit/Fixed-Encut-KPoints/Pre_VASP/125-Atoms-dist/gen4/Vacancies/supercell_gen4_comp52_struct2_vac_site4_start\n",
      "Processing file: supercell_gen4_comp51_struct2_vac_site1_start.vasp\n",
      "Created VASP job for supercell_gen4_comp51_struct2_vac_site1_start.vasp in ../Archived_Vasp_Jobs/VCrTiWZr_Summit/Fixed-Encut-KPoints/Pre_VASP/125-Atoms-dist/gen4/Vacancies/supercell_gen4_comp51_struct2_vac_site1_start\n",
      "Processing file: supercell_gen4_comp50_struct2_vac_site2_start.vasp\n",
      "Created VASP job for supercell_gen4_comp50_struct2_vac_site2_start.vasp in ../Archived_Vasp_Jobs/VCrTiWZr_Summit/Fixed-Encut-KPoints/Pre_VASP/125-Atoms-dist/gen4/Vacancies/supercell_gen4_comp50_struct2_vac_site2_start\n"
     ]
    }
   ],
   "source": [
    "\n",
    "def create_vasp_jobs_from_vasp_files(vasp_files_dir, vasp_job_path, kpoints_params, vol_relax=False, incar_params=None):\n",
    "    for filename in os.listdir(vasp_files_dir):\n",
    "        if filename.endswith('.vasp'):\n",
    "            print(f\"Processing file: {filename}\")\n",
    "            filepath = os.path.join(vasp_files_dir, filename)\n",
    "            job_name = os.path.splitext(filename)[0]\n",
    "            job_folder = os.path.join(vasp_job_path, job_name)\n",
    "            os.makedirs(job_folder, exist_ok=True)\n",
    "            \n",
    "            structure = Poscar.from_file(filepath).structure\n",
    "            \n",
    "            make_vasp_job(supercell=structure, job_path=job_folder, kpoints_params=kpoints_params, vol_relax=vol_relax, incar_params=incar_params)\n",
    "            #make_slurm_file(job_path=job_folder, i=job_name,num_gpus=1,omp_threads=10) # comment out if you are on summit\n",
    "            print(f\"Created VASP job for {filename} in {job_folder}\")\n",
    "\n",
    "incar_params = {'ALGO' : 'Normal',\n",
    "                'EDIFF' : 1e-06,\n",
    "                'EDIFFG' : -0.01,\n",
    "                'ENCUT' : 550,\n",
    "                'KSPACING' : 0.15,\n",
    "                'IBRION' : 2,\n",
    "                'ISIF' : 3,\n",
    "                'ISMEAR' : 1,\n",
    "                'LCHARG' : '.FALSE.',\n",
    "                'LORBIT' : 11,\n",
    "                'LREAL' : '.FALSE.',\n",
    "                'LWAVE' : '.FALSE.',\n",
    "                'NELM' : 100,\n",
    "                'NELMIN' : 5,\n",
    "                'NSW' : 200,\n",
    "                'POTIM' : 0.2,\n",
    "                'PREC' : 'Accurate',\n",
    "                'SIGMA' : 0.2,}\n",
    "# Directory containing the .vasp files in subdirectories\n",
    "vasp_files_dir = '../Visualization/Job_Structures/Pre_VASP/Fixed_VCrTiWZr_Summit/125-Atoms/Gen_4'\n",
    "vasp_job_path = '../Archived_Vasp_Jobs/VCrTiWZr_Summit/Fixed-Encut-KPoints/Pre_VASP/125-Atoms-dist/gen4/Vacancies'\n",
    "# check if vasp_job_path exists, if not create it\n",
    "if not os.path.exists(vasp_job_path):\n",
    "    os.makedirs(vasp_job_path)\n",
    "kpoints_params = (6, 6, 6)\n",
    "\n",
    "# Create VASP jobs from .vasp files in subdirectories\n",
    "create_vasp_jobs_from_vasp_files(vasp_files_dir, vasp_job_path, kpoints_params, vol_relax=True, incar_params=incar_params) # change vol_relax to True for start points "
   ]
  },
  {
   "cell_type": "markdown",
   "metadata": {},
   "source": [
    "### Create End Defect Sites"
   ]
  },
  {
   "cell_type": "markdown",
   "metadata": {},
   "source": [
    "Here we need to make sure we set vol_relax = False "
   ]
  },
  {
   "cell_type": "code",
   "execution_count": null,
   "metadata": {},
   "outputs": [],
   "source": [
    "# first create entries from the vacancies directory, there will be an outcar and contcar for each "
   ]
  },
  {
   "cell_type": "markdown",
   "metadata": {},
   "source": [
    "## Create NEB Jobs from Scratch"
   ]
  },
  {
   "cell_type": "code",
   "execution_count": null,
   "metadata": {},
   "outputs": [],
   "source": [
    "# First we need to select compositions from the compositions_gen4.json file\n",
    "gen_num = 4\n",
    "json_file = f'../Notebooks/compositions_gen{gen_num}.json'\n",
    "output_dir = f'../Visualization/Job_Structures/Pre_VASP/Fixed_VCrTiWZr_Summit/125-Atoms/Gen_{gen_num}/NEB_Perf'\n",
    "\n",
    "# make the output directory\n",
    "if not os.path.exists(output_dir):\n",
    "    os.makedirs(output_dir)\n",
    "\n",
    "# create the supercells for the compositions\n"
   ]
  },
  {
   "cell_type": "markdown",
   "metadata": {},
   "source": [
    "## Needlessly complicated ways to select vacancy sites"
   ]
  },
  {
   "cell_type": "code",
   "execution_count": 42,
   "metadata": {},
   "outputs": [],
   "source": [
    "import numpy as np\n",
    "import random\n",
    "import matplotlib.pyplot as plt\n",
    "import seaborn as sns\n",
    "from pymatgen.core.structure import Structure\n",
    "from pymatgen.core.sites import Site\n",
    "\n",
    "import plotly.graph_objects as go\n",
    "from pymatgen.core.structure import Structure\n",
    "import numpy as np\n",
    "import itertools\n",
    "from collections import defaultdict\n",
    "\n",
    "# Define a list of colors for different elements\n",
    "color_cycle = itertools.cycle([\n",
    "    'blue', 'green', 'orange', 'purple', 'brown', 'pink', 'gray', 'cyan', 'magenta'\n",
    "])\n",
    "\n",
    "def custom_distance(site1: Site, site2: Site) -> float:\n",
    "    geometric_dist = site1.distance(site2)\n",
    "    composition_dist = sum((site1.species.elements[i].X - site2.species.elements[i].X)**2 for i in range(len(site1.species.elements)))\n",
    "    return geometric_dist + composition_dist\n",
    "\n",
    "def objective(points, distance_matrix):\n",
    "    total_dist = 0\n",
    "    for i, p1 in enumerate(points):\n",
    "        for j, p2 in enumerate(points):\n",
    "            if i < j:\n",
    "                total_dist += 1 / distance_matrix[i][j]\n",
    "    return total_dist\n",
    "\n",
    "def simulated_annealing_sampling(structure, num_points, initial_temp=1000, cooling_rate=0.9):\n",
    "    sites = structure.sites\n",
    "    points = random.sample(sites, num_points)\n",
    "    \n",
    "    # Precompute distance matrix using custom distance\n",
    "    distance_matrix = np.zeros((len(sites), len(sites)))\n",
    "    for i, site1 in enumerate(sites):\n",
    "        for j, site2 in enumerate(sites):\n",
    "            distance_matrix[i][j] = custom_distance(site1, site2)\n",
    "    \n",
    "    temp = initial_temp\n",
    "    while temp > 1:\n",
    "        new_points = points[:]\n",
    "        i = random.randint(0, num_points - 1)\n",
    "        new_points[i] = random.choice(sites)\n",
    "        \n",
    "        current_energy = objective(points, distance_matrix)\n",
    "        new_energy = objective(new_points, distance_matrix)\n",
    "        \n",
    "        if new_energy < current_energy or random.uniform(0, 1) < np.exp((current_energy - new_energy) / temp):\n",
    "            points = new_points\n",
    "        \n",
    "        temp *= cooling_rate\n",
    "    \n",
    "    return points\n",
    "\n",
    "def plot_distance_matrix(structure):\n",
    "    sites = structure.sites\n",
    "    distance_matrix = np.zeros((len(sites), len(sites)))\n",
    "    for i, site1 in enumerate(sites):\n",
    "        for j, site2 in enumerate(sites):\n",
    "            distance_matrix[i][j] = custom_distance(site1, site2)\n",
    "    \n",
    "    plt.figure(figsize=(10, 8))\n",
    "    sns.heatmap(distance_matrix, cmap=\"viridis\")\n",
    "    plt.title(\"Custom Distance Matrix Heatmap\")\n",
    "    plt.xlabel(\"Site Index\")\n",
    "    plt.ylabel(\"Site Index\")\n",
    "    plt.show()\n",
    "\n",
    "def identify_highest_complexity_sites(structure, top_n=3):\n",
    "    sites = structure.sites\n",
    "    complexity_scores = np.zeros(len(sites))\n",
    "    \n",
    "    for i, site1 in enumerate(sites):\n",
    "        for site2 in sites:\n",
    "            complexity_scores[i] += custom_distance(site1, site2)\n",
    "    \n",
    "    top_indices = complexity_scores.argsort()[-top_n:][::-1]\n",
    "    return [sites[i] for i in top_indices]\n",
    "\n",
    "def plot_structure_with_highlighted_sites(structure, top_sites):\n",
    "    fig = go.Figure()\n",
    "    \n",
    "    element_colors = defaultdict(lambda: next(color_cycle))\n",
    "    \n",
    "    # Plot all sites by element type\n",
    "    for site in structure:\n",
    "        element = str(site.species)\n",
    "        color = element_colors[element]\n",
    "        fig.add_trace(go.Scatter3d(\n",
    "            x=[site.x],\n",
    "            y=[site.y],\n",
    "            z=[site.z],\n",
    "            mode='markers',\n",
    "            marker=dict(size=5, color=color),\n",
    "            name=element,\n",
    "            legendgroup=element,\n",
    "            showlegend=True\n",
    "        ))\n",
    "\n",
    "    # Highlight top sites\n",
    "    for site in top_sites:\n",
    "        element = str(site.species)\n",
    "        fig.add_trace(go.Scatter3d(\n",
    "            x=[site.x],\n",
    "            y=[site.y],\n",
    "            z=[site.z],\n",
    "            mode='markers',\n",
    "            marker=dict(size=10, color='red', symbol='diamond'),\n",
    "            name=f'Highlighted {element}',\n",
    "            legendgroup=f'Highlighted {element}',\n",
    "            showlegend=True\n",
    "        ))\n",
    "\n",
    "    # Update layout for better visualization\n",
    "    fig.update_layout(scene=dict(\n",
    "        xaxis_title='X',\n",
    "        yaxis_title='Y',\n",
    "        zaxis_title='Z'),\n",
    "        title=\"Structure with Highlighted Sites\"\n",
    "    )\n",
    "\n",
    "    fig.show()\n",
    "\n"
   ]
  },
  {
   "cell_type": "code",
   "execution_count": 43,
   "metadata": {},
   "outputs": [
    {
     "name": "stdout",
     "output_type": "stream",
     "text": [
      "Selected Sites for Simulated Annealing Sampling:\n",
      "[array([-1.22731987,  2.13240275,  4.3409668 ]), array([-2.46668049,  8.41368559,  3.47665283]), array([3.69850197, 2.06051816, 5.23781301]), array([3.62635623, 2.07059798, 7.85884545]), array([ 4.96987084,  8.45496349, -4.37867878])]\n"
     ]
    },
    {
     "data": {
      "image/png": "[encoded data removed]",
      "text/plain": [
       "<Figure size 1000x800 with 2 Axes>"
      ]
     },
     "metadata": {},
     "output_type": "display_data"
    },
    {
     "name": "stdout",
     "output_type": "stream",
     "text": [
      "Sites with Highest Chemical Complexity:\n",
      "[(PeriodicSite: W (-1.227, 2.132, 4.341) [0.002078, 0.2515, 0.4994], array([-1.22731987,  2.13240275,  4.3409668 ])), (PeriodicSite: Zr (2.467, 4.19, -0.8905) [0.4971, 0.4942, 0.2457], array([ 2.46749269,  4.19013878, -0.89047959])), (PeriodicSite: V (-1.18, 2.128, -0.79) [0.005885, 0.2509, 0.009978], array([-1.17968787,  2.12835832, -0.79002516]))]\n"
     ]
    }
   ],
   "source": [
    "contcar_file = '../Visualization/Job_Structures/Post_VASP/VCrTiWZr_Summit/Gen_0-2/Perfect/supercell_gen0_comp10_struct1/CONTCAR'\n",
    "# Example usage:\n",
    "structure = Poscar.from_file(contcar_file).structure # Load your structure here\n",
    "\n",
    "# Simulated Annealing Sampling\n",
    "selected_sites = simulated_annealing_sampling(structure, num_points=5)\n",
    "print(\"Selected Sites for Simulated Annealing Sampling:\")\n",
    "print([site.coords for site in selected_sites])\n",
    "\n",
    "# Plot Distance Matrix\n",
    "plot_distance_matrix(structure)\n",
    "\n",
    "# Identify Highest Complexity Sites\n",
    "top_sites = identify_highest_complexity_sites(structure)\n",
    "print(\"Sites with Highest Chemical Complexity:\")\n",
    "print([(site, site.coords) for site in top_sites])\n"
   ]
  },
  {
   "cell_type": "code",
   "execution_count": 44,
   "metadata": {},
   "outputs": [
    {
     "name": "stdout",
     "output_type": "stream",
     "text": [
      "Sites with Highest Chemical Complexity:\n",
      "Index: 63, Coordinates: [-1.22731987  2.13240275  4.3409668 ]\n",
      "Index: 0, Coordinates: [ 2.46749269  4.19013878 -0.89047959]\n",
      "Index: 9, Coordinates: [-1.17968787  2.12835832 -0.79002516]\n"
     ]
    }
   ],
   "source": [
    "def identify_highest_complexity_sites(structure, top_n=3):\n",
    "    sites = structure.sites\n",
    "    complexity_scores = np.zeros(len(sites))\n",
    "    \n",
    "    for i, site1 in enumerate(sites):\n",
    "        for site2 in sites:\n",
    "            complexity_scores[i] += custom_distance(site1, site2)\n",
    "    \n",
    "    top_indices = complexity_scores.argsort()[-top_n:][::-1]\n",
    "    return [sites[i] for i in top_indices]\n",
    "\n",
    "# Example usage:\n",
    "top_sites = identify_highest_complexity_sites(structure)\n",
    "print(\"Sites with Highest Chemical Complexity:\")\n",
    "for site in top_sites:\n",
    "    print(f\"Index: {structure.index(site)}, Coordinates: {site.coords}\")\n"
   ]
  },
  {
   "cell_type": "code",
   "execution_count": 45,
   "metadata": {},
   "outputs": [
    {
     "data": {
      "application/vnd.plotly.v1+json": {
       "config": {
        "plotlyServerURL": "https://plot.ly"
       },
       "data": [
        {
         "legendgroup": "Zr1",
         "marker": {
          "color": "blue",
          "size": 5
         },
         "mode": "markers",
         "name": "Zr1",
         "showlegend": true,
         "type": "scatter3d",
         "x": [
          2.467492691110972
         ],
         "y": [
          4.1901387813370965
         ],
         "z": [
          -0.890479591067531
         ]
        },
        {
         "legendgroup": "Ti1",
         "marker": {
          "color": "green",
          "size": 5
         },
         "mode": "markers",
         "name": "Ti1",
         "showlegend": true,
         "type": "scatter3d",
         "x": [
          8.64346010904411
         ],
         "y": [
          2.086387830339729
         ],
         "z": [
          3.5046318069160804
         ]
        },
        {
         "legendgroup": "Ti1",
         "marker": {
          "color": "green",
          "size": 5
         },
         "mode": "markers",
         "name": "Ti1",
         "showlegend": true,
         "type": "scatter3d",
         "x": [
          -2.4507341679340597
         ],
         "y": [
          4.256700521609587
         ],
         "z": [
          0.8621628203714329
         ]
        },
        {
         "legendgroup": "Ti1",
         "marker": {
          "color": "green",
          "size": 5
         },
         "mode": "markers",
         "name": "Ti1",
         "showlegend": true,
         "type": "scatter3d",
         "x": [
          2.510276195096395
         ],
         "y": [
          8.418985475800627
         ],
         "z": [
          -6.0874076047027135
         ]
        },
        {
         "legendgroup": "Ti1",
         "marker": {
          "color": "green",
          "size": 5
         },
         "mode": "markers",
         "name": "Ti1",
         "showlegend": true,
         "type": "scatter3d",
         "x": [
          6.043752581402659
         ],
         "y": [
          2.0351837073878642
         ],
         "z": [
          6.885356462832299
         ]
        },
        {
         "legendgroup": "Ti1",
         "marker": {
          "color": "green",
          "size": 5
         },
         "mode": "markers",
         "name": "Ti1",
         "showlegend": true,
         "type": "scatter3d",
         "x": [
          3.8427321344144603
         ],
         "y": [
          6.48722337509416
         ],
         "z": [
          0.036407504339613705
         ]
        },
        {
         "legendgroup": "V1",
         "marker": {
          "color": "orange",
          "size": 5
         },
         "mode": "markers",
         "name": "V1",
         "showlegend": true,
         "type": "scatter3d",
         "x": [
          -4.878939990730071
         ],
         "y": [
          8.438883762561435
         ],
         "z": [
          6.941436294111835
         ]
        },
        {
         "legendgroup": "V1",
         "marker": {
          "color": "orange",
          "size": 5
         },
         "mode": "markers",
         "name": "V1",
         "showlegend": true,
         "type": "scatter3d",
         "x": [
          4.969870839306011
         ],
         "y": [
          8.4549634941505
         ],
         "z": [
          -4.378678781059407
         ]
        },
        {
         "legendgroup": "V1",
         "marker": {
          "color": "orange",
          "size": 5
         },
         "mode": "markers",
         "name": "V1",
         "showlegend": true,
         "type": "scatter3d",
         "x": [
          -4.885500742018095
         ],
         "y": [
          8.465976962756969
         ],
         "z": [
          1.797721071373803
         ]
        },
        {
         "legendgroup": "V1",
         "marker": {
          "color": "orange",
          "size": 5
         },
         "mode": "markers",
         "name": "V1",
         "showlegend": true,
         "type": "scatter3d",
         "x": [
          -1.1796878693029167
         ],
         "y": [
          2.1283583239522232
         ],
         "z": [
          -0.7900251647128365
         ]
        },
        {
         "legendgroup": "V1",
         "marker": {
          "color": "orange",
          "size": 5
         },
         "mode": "markers",
         "name": "V1",
         "showlegend": true,
         "type": "scatter3d",
         "x": [
          -1.1622178505102887
         ],
         "y": [
          2.1081533989552526
         ],
         "z": [
          1.7838862601804797
         ]
        },
        {
         "legendgroup": "V1",
         "marker": {
          "color": "orange",
          "size": 5
         },
         "mode": "markers",
         "name": "V1",
         "showlegend": true,
         "type": "scatter3d",
         "x": [
          7.379959962240022
         ],
         "y": [
          4.227538825455724
         ],
         "z": [
          5.147825146130071
         ]
        },
        {
         "legendgroup": "V1",
         "marker": {
          "color": "orange",
          "size": 5
         },
         "mode": "markers",
         "name": "V1",
         "showlegend": true,
         "type": "scatter3d",
         "x": [
          -2.4580632642627145
         ],
         "y": [
          4.358168441384349
         ],
         "z": [
          3.544151811503631
         ]
        },
        {
         "legendgroup": "V1",
         "marker": {
          "color": "orange",
          "size": 5
         },
         "mode": "markers",
         "name": "V1",
         "showlegend": true,
         "type": "scatter3d",
         "x": [
          -2.4789404070091283
         ],
         "y": [
          4.33109072555316
         ],
         "z": [
          6.126598006281358
         ]
        },
        {
         "legendgroup": "V1",
         "marker": {
          "color": "orange",
          "size": 5
         },
         "mode": "markers",
         "name": "V1",
         "showlegend": true,
         "type": "scatter3d",
         "x": [
          -3.643426264095448
         ],
         "y": [
          6.3619535461809615
         ],
         "z": [
          -2.6242063555648043
         ]
        },
        {
         "legendgroup": "V1",
         "marker": {
          "color": "orange",
          "size": 5
         },
         "mode": "markers",
         "name": "V1",
         "showlegend": true,
         "type": "scatter3d",
         "x": [
          -3.7008890705796964
         ],
         "y": [
          6.431501584577198
         ],
         "z": [
          0.021221827690429684
         ]
        },
        {
         "legendgroup": "V1",
         "marker": {
          "color": "orange",
          "size": 5
         },
         "mode": "markers",
         "name": "V1",
         "showlegend": true,
         "type": "scatter3d",
         "x": [
          -3.679949378556645
         ],
         "y": [
          6.4001582251787115
         ],
         "z": [
          5.19355714605841
         ]
        },
        {
         "legendgroup": "V1",
         "marker": {
          "color": "orange",
          "size": 5
         },
         "mode": "markers",
         "name": "V1",
         "showlegend": true,
         "type": "scatter3d",
         "x": [
          -2.423926735931024
         ],
         "y": [
          8.40505043930455
         ],
         "z": [
          -4.3151744640857705
         ]
        },
        {
         "legendgroup": "V1",
         "marker": {
          "color": "orange",
          "size": 5
         },
         "mode": "markers",
         "name": "V1",
         "showlegend": true,
         "type": "scatter3d",
         "x": [
          -2.4672240475767544
         ],
         "y": [
          8.458016246433896
         ],
         "z": [
          -1.719021012199602
         ]
        },
        {
         "legendgroup": "V1",
         "marker": {
          "color": "orange",
          "size": 5
         },
         "mode": "markers",
         "name": "V1",
         "showlegend": true,
         "type": "scatter3d",
         "x": [
          2.460540481845263
         ],
         "y": [
          0.007269316867527265
         ],
         "z": [
          4.323839754392695
         ]
        },
        {
         "legendgroup": "V1",
         "marker": {
          "color": "orange",
          "size": 5
         },
         "mode": "markers",
         "name": "V1",
         "showlegend": true,
         "type": "scatter3d",
         "x": [
          -2.466680491493829
         ],
         "y": [
          8.413685592986408
         ],
         "z": [
          3.4766528342421963
         ]
        },
        {
         "legendgroup": "V1",
         "marker": {
          "color": "orange",
          "size": 5
         },
         "mode": "markers",
         "name": "V1",
         "showlegend": true,
         "type": "scatter3d",
         "x": [
          1.1442199042315284
         ],
         "y": [
          1.9371453954729454
         ],
         "z": [
          8.628899968584534
         ]
        },
        {
         "legendgroup": "V1",
         "marker": {
          "color": "orange",
          "size": 5
         },
         "mode": "markers",
         "name": "V1",
         "showlegend": true,
         "type": "scatter3d",
         "x": [
          1.2473102721014477
         ],
         "y": [
          2.076597822185375
         ],
         "z": [
          0.9115576065288563
         ]
        },
        {
         "legendgroup": "V1",
         "marker": {
          "color": "orange",
          "size": 5
         },
         "mode": "markers",
         "name": "V1",
         "showlegend": true,
         "type": "scatter3d",
         "x": [
          1.2561571207620117
         ],
         "y": [
          2.100151223368059
         ],
         "z": [
          3.4986995953139868
         ]
        },
        {
         "legendgroup": "V1",
         "marker": {
          "color": "orange",
          "size": 5
         },
         "mode": "markers",
         "name": "V1",
         "showlegend": true,
         "type": "scatter3d",
         "x": [
          1.2938720719767731
         ],
         "y": [
          2.1200100224849483
         ],
         "z": [
          6.063718613605467
         ]
        },
        {
         "legendgroup": "V1",
         "marker": {
          "color": "orange",
          "size": 5
         },
         "mode": "markers",
         "name": "V1",
         "showlegend": true,
         "type": "scatter3d",
         "x": [
          -0.05238960620881716
         ],
         "y": [
          4.373352955335116
         ],
         "z": [
          -2.6573728114307675
         ]
        },
        {
         "legendgroup": "V1",
         "marker": {
          "color": "orange",
          "size": 5
         },
         "mode": "markers",
         "name": "V1",
         "showlegend": true,
         "type": "scatter3d",
         "x": [
          -0.048613016938166886
         ],
         "y": [
          4.289159764887677
         ],
         "z": [
          0.02150857538865414
         ]
        },
        {
         "legendgroup": "V1",
         "marker": {
          "color": "orange",
          "size": 5
         },
         "mode": "markers",
         "name": "V1",
         "showlegend": true,
         "type": "scatter3d",
         "x": [
          0.0034101359111122775
         ],
         "y": [
          4.271626861369787
         ],
         "z": [
          2.6111076971492784
         ]
        },
        {
         "legendgroup": "V1",
         "marker": {
          "color": "orange",
          "size": 5
         },
         "mode": "markers",
         "name": "V1",
         "showlegend": true,
         "type": "scatter3d",
         "x": [
          -0.033452901722800465
         ],
         "y": [
          4.2863266635458315
         ],
         "z": [
          5.213464469017884
         ]
        },
        {
         "legendgroup": "V1",
         "marker": {
          "color": "orange",
          "size": 5
         },
         "mode": "markers",
         "name": "V1",
         "showlegend": true,
         "type": "scatter3d",
         "x": [
          -1.2660876039145097
         ],
         "y": [
          6.375167811010832
         ],
         "z": [
          -0.8863117777059548
         ]
        },
        {
         "legendgroup": "V1",
         "marker": {
          "color": "orange",
          "size": 5
         },
         "mode": "markers",
         "name": "V1",
         "showlegend": true,
         "type": "scatter3d",
         "x": [
          -1.25059534137801
         ],
         "y": [
          6.449561673615592
         ],
         "z": [
          1.8120499665407208
         ]
        },
        {
         "legendgroup": "V1",
         "marker": {
          "color": "orange",
          "size": 5
         },
         "mode": "markers",
         "name": "V1",
         "showlegend": true,
         "type": "scatter3d",
         "x": [
          -0.08044345736980141
         ],
         "y": [
          8.430154711872792
         ],
         "z": [
          5.154621295673608
         ]
        },
        {
         "legendgroup": "V1",
         "marker": {
          "color": "orange",
          "size": 5
         },
         "mode": "markers",
         "name": "V1",
         "showlegend": true,
         "type": "scatter3d",
         "x": [
          -0.038067691958871386
         ],
         "y": [
          8.43833080869348
         ],
         "z": [
          -2.6348036959780363
         ]
        },
        {
         "legendgroup": "V1",
         "marker": {
          "color": "orange",
          "size": 5
         },
         "mode": "markers",
         "name": "V1",
         "showlegend": true,
         "type": "scatter3d",
         "x": [
          4.893844976875548
         ],
         "y": [
          -0.00841225890278013
         ],
         "z": [
          3.524577976303694
         ]
        },
        {
         "legendgroup": "V1",
         "marker": {
          "color": "orange",
          "size": 5
         },
         "mode": "markers",
         "name": "V1",
         "showlegend": true,
         "type": "scatter3d",
         "x": [
          3.6263562310240687
         ],
         "y": [
          2.0705979783641575
         ],
         "z": [
          7.858845451874327
         ]
        },
        {
         "legendgroup": "V1",
         "marker": {
          "color": "orange",
          "size": 5
         },
         "mode": "markers",
         "name": "V1",
         "showlegend": true,
         "type": "scatter3d",
         "x": [
          3.760682138897436
         ],
         "y": [
          1.974599500630284
         ],
         "z": [
          0.043087908672958974
         ]
        },
        {
         "legendgroup": "V1",
         "marker": {
          "color": "orange",
          "size": 5
         },
         "mode": "markers",
         "name": "V1",
         "showlegend": true,
         "type": "scatter3d",
         "x": [
          3.685457597195139
         ],
         "y": [
          2.10219719873697
         ],
         "z": [
          2.615387132369681
         ]
        },
        {
         "legendgroup": "V1",
         "marker": {
          "color": "orange",
          "size": 5
         },
         "mode": "markers",
         "name": "V1",
         "showlegend": true,
         "type": "scatter3d",
         "x": [
          3.698501973082826
         ],
         "y": [
          2.060518155283462
         ],
         "z": [
          5.237813013194626
         ]
        },
        {
         "legendgroup": "V1",
         "marker": {
          "color": "orange",
          "size": 5
         },
         "mode": "markers",
         "name": "V1",
         "showlegend": true,
         "type": "scatter3d",
         "x": [
          2.425132673032855
         ],
         "y": [
          4.241132818777139
         ],
         "z": [
          6.819854328877482
         ]
        },
        {
         "legendgroup": "V1",
         "marker": {
          "color": "orange",
          "size": 5
         },
         "mode": "markers",
         "name": "V1",
         "showlegend": true,
         "type": "scatter3d",
         "x": [
          2.4710150788677727
         ],
         "y": [
          4.263983491493352
         ],
         "z": [
          1.8736699292333592
         ]
        },
        {
         "legendgroup": "V1",
         "marker": {
          "color": "orange",
          "size": 5
         },
         "mode": "markers",
         "name": "V1",
         "showlegend": true,
         "type": "scatter3d",
         "x": [
          2.451401402038911
         ],
         "y": [
          4.23822695231489
         ],
         "z": [
          4.3571020139119705
         ]
        },
        {
         "legendgroup": "V1",
         "marker": {
          "color": "orange",
          "size": 5
         },
         "mode": "markers",
         "name": "V1",
         "showlegend": true,
         "type": "scatter3d",
         "x": [
          1.1919879912657305
         ],
         "y": [
          6.377794560238157
         ],
         "z": [
          -4.3706843328424485
         ]
        },
        {
         "legendgroup": "V1",
         "marker": {
          "color": "orange",
          "size": 5
         },
         "mode": "markers",
         "name": "V1",
         "showlegend": true,
         "type": "scatter3d",
         "x": [
          1.1651873763015659
         ],
         "y": [
          6.4540458241374745
         ],
         "z": [
          -1.7789741792778677
         ]
        },
        {
         "legendgroup": "V1",
         "marker": {
          "color": "orange",
          "size": 5
         },
         "mode": "markers",
         "name": "V1",
         "showlegend": true,
         "type": "scatter3d",
         "x": [
          1.1951785911547446
         ],
         "y": [
          6.37406599166821
         ],
         "z": [
          0.889307898598759
         ]
        },
        {
         "legendgroup": "V1",
         "marker": {
          "color": "orange",
          "size": 5
         },
         "mode": "markers",
         "name": "V1",
         "showlegend": true,
         "type": "scatter3d",
         "x": [
          1.1219364685999476
         ],
         "y": [
          6.359312114437975
         ],
         "z": [
          3.4723960046585933
         ]
        },
        {
         "legendgroup": "V1",
         "marker": {
          "color": "orange",
          "size": 5
         },
         "mode": "markers",
         "name": "V1",
         "showlegend": true,
         "type": "scatter3d",
         "x": [
          2.462646706044443
         ],
         "y": [
          8.469618385131245
         ],
         "z": [
          -3.4504010237406
         ]
        },
        {
         "legendgroup": "V1",
         "marker": {
          "color": "orange",
          "size": 5
         },
         "mode": "markers",
         "name": "V1",
         "showlegend": true,
         "type": "scatter3d",
         "x": [
          2.3610535944310183
         ],
         "y": [
          8.464638909171
         ],
         "z": [
          -0.920611535497514
         ]
        },
        {
         "legendgroup": "V1",
         "marker": {
          "color": "orange",
          "size": 5
         },
         "mode": "markers",
         "name": "V1",
         "showlegend": true,
         "type": "scatter3d",
         "x": [
          2.4405544700564104
         ],
         "y": [
          8.474118904397288
         ],
         "z": [
          1.692768294046573
         ]
        },
        {
         "legendgroup": "V1",
         "marker": {
          "color": "orange",
          "size": 5
         },
         "mode": "markers",
         "name": "V1",
         "showlegend": true,
         "type": "scatter3d",
         "x": [
          6.147683883432375
         ],
         "y": [
          2.1024904783414535
         ],
         "z": [
          -0.8570930942698743
         ]
        },
        {
         "legendgroup": "V1",
         "marker": {
          "color": "orange",
          "size": 5
         },
         "mode": "markers",
         "name": "V1",
         "showlegend": true,
         "type": "scatter3d",
         "x": [
          6.161187792045048
         ],
         "y": [
          2.1349941124248373
         ],
         "z": [
          1.753111764623761
         ]
        },
        {
         "legendgroup": "V1",
         "marker": {
          "color": "orange",
          "size": 5
         },
         "mode": "markers",
         "name": "V1",
         "showlegend": true,
         "type": "scatter3d",
         "x": [
          6.079286937726145
         ],
         "y": [
          2.1306822504368172
         ],
         "z": [
          4.2715025018750445
         ]
        },
        {
         "legendgroup": "V1",
         "marker": {
          "color": "orange",
          "size": 5
         },
         "mode": "markers",
         "name": "V1",
         "showlegend": true,
         "type": "scatter3d",
         "x": [
          4.937336896274889
         ],
         "y": [
          4.304214473141048
         ],
         "z": [
          -4.408291930883687
         ]
        },
        {
         "legendgroup": "V1",
         "marker": {
          "color": "orange",
          "size": 5
         },
         "mode": "markers",
         "name": "V1",
         "showlegend": true,
         "type": "scatter3d",
         "x": [
          5.027634668164815
         ],
         "y": [
          4.3172351957425334
         ],
         "z": [
          -1.7132657371277134
         ]
        },
        {
         "legendgroup": "V1",
         "marker": {
          "color": "orange",
          "size": 5
         },
         "mode": "markers",
         "name": "V1",
         "showlegend": true,
         "type": "scatter3d",
         "x": [
          4.98088462623336
         ],
         "y": [
          4.200689607655577
         ],
         "z": [
          0.9285261627106531
         ]
        },
        {
         "legendgroup": "V1",
         "marker": {
          "color": "orange",
          "size": 5
         },
         "mode": "markers",
         "name": "V1",
         "showlegend": true,
         "type": "scatter3d",
         "x": [
          4.940507675055229
         ],
         "y": [
          4.253646381168566
         ],
         "z": [
          3.472164281128263
         ]
        },
        {
         "legendgroup": "V1",
         "marker": {
          "color": "orange",
          "size": 5
         },
         "mode": "markers",
         "name": "V1",
         "showlegend": true,
         "type": "scatter3d",
         "x": [
          3.7426731345812074
         ],
         "y": [
          6.3076669881453595
         ],
         "z": [
          5.237939552775358
         ]
        },
        {
         "legendgroup": "V1",
         "marker": {
          "color": "orange",
          "size": 5
         },
         "mode": "markers",
         "name": "V1",
         "showlegend": true,
         "type": "scatter3d",
         "x": [
          3.703494307586802
         ],
         "y": [
          6.3902242758171095
         ],
         "z": [
          -2.6999713520844737
         ]
        },
        {
         "legendgroup": "V1",
         "marker": {
          "color": "orange",
          "size": 5
         },
         "mode": "markers",
         "name": "V1",
         "showlegend": true,
         "type": "scatter3d",
         "x": [
          3.682914337967057
         ],
         "y": [
          6.366742482112152
         ],
         "z": [
          2.69313121950094
         ]
        },
        {
         "legendgroup": "Cr1",
         "marker": {
          "color": "purple",
          "size": 5
         },
         "mode": "markers",
         "name": "Cr1",
         "showlegend": true,
         "type": "scatter3d",
         "x": [
          0.07821572913356122
         ],
         "y": [
          0.007434177189720139
         ],
         "z": [
          7.893130248077385
         ]
        },
        {
         "legendgroup": "Cr1",
         "marker": {
          "color": "purple",
          "size": 5
         },
         "mode": "markers",
         "name": "Cr1",
         "showlegend": true,
         "type": "scatter3d",
         "x": [
          -3.6294841146092396
         ],
         "y": [
          6.378595786637654
         ],
         "z": [
          2.602758403524658
         ]
        },
        {
         "legendgroup": "Cr1",
         "marker": {
          "color": "purple",
          "size": 5
         },
         "mode": "markers",
         "name": "Cr1",
         "showlegend": true,
         "type": "scatter3d",
         "x": [
          -1.2699849551946074
         ],
         "y": [
          6.3666099931522595
         ],
         "z": [
          6.932549277812446
         ]
        },
        {
         "legendgroup": "Cr1",
         "marker": {
          "color": "purple",
          "size": 5
         },
         "mode": "markers",
         "name": "Cr1",
         "showlegend": true,
         "type": "scatter3d",
         "x": [
          -1.243723468818188
         ],
         "y": [
          6.359407739120602
         ],
         "z": [
          4.392386240175659
         ]
        },
        {
         "legendgroup": "Cr1",
         "marker": {
          "color": "purple",
          "size": 5
         },
         "mode": "markers",
         "name": "Cr1",
         "showlegend": true,
         "type": "scatter3d",
         "x": [
          -0.05536174754363721
         ],
         "y": [
          8.420670788922443
         ],
         "z": [
          2.591872065808253
         ]
        },
        {
         "legendgroup": "W1",
         "marker": {
          "color": "brown",
          "size": 5
         },
         "mode": "markers",
         "name": "W1",
         "showlegend": true,
         "type": "scatter3d",
         "x": [
          -1.2273198727272554
         ],
         "y": [
          2.1324027504677776
         ],
         "z": [
          4.340966803608512
         ]
        },
        {
         "legendgroup": "Highlighted W1",
         "marker": {
          "color": "red",
          "size": 10,
          "symbol": "diamond"
         },
         "mode": "markers",
         "name": "Highlighted W1",
         "showlegend": true,
         "type": "scatter3d",
         "x": [
          -1.2273198727272554
         ],
         "y": [
          2.1324027504677776
         ],
         "z": [
          4.340966803608512
         ]
        },
        {
         "legendgroup": "Highlighted Zr1",
         "marker": {
          "color": "red",
          "size": 10,
          "symbol": "diamond"
         },
         "mode": "markers",
         "name": "Highlighted Zr1",
         "showlegend": true,
         "type": "scatter3d",
         "x": [
          2.467492691110972
         ],
         "y": [
          4.1901387813370965
         ],
         "z": [
          -0.890479591067531
         ]
        },
        {
         "legendgroup": "Highlighted V1",
         "marker": {
          "color": "red",
          "size": 10,
          "symbol": "diamond"
         },
         "mode": "markers",
         "name": "Highlighted V1",
         "showlegend": true,
         "type": "scatter3d",
         "x": [
          -1.1796878693029167
         ],
         "y": [
          2.1283583239522232
         ],
         "z": [
          -0.7900251647128365
         ]
        }
       ],
       "layout": {
        "scene": {
         "xaxis": {
          "title": {
           "text": "X"
          }
         },
         "yaxis": {
          "title": {
           "text": "Y"
          }
         },
         "zaxis": {
          "title": {
           "text": "Z"
          }
         }
        },
        "template": {
         "data": {
          "bar": [
           {
            "error_x": {
             "color": "#2a3f5f"
            },
            "error_y": {
             "color": "#2a3f5f"
            },
            "marker": {
             "line": {
              "color": "#E5ECF6",
              "width": 0.5
             },
             "pattern": {
              "fillmode": "overlay",
              "size": 10,
              "solidity": 0.2
             }
            },
            "type": "bar"
           }
          ],
          "barpolar": [
           {
            "marker": {
             "line": {
              "color": "#E5ECF6",
              "width": 0.5
             },
             "pattern": {
              "fillmode": "overlay",
              "size": 10,
              "solidity": 0.2
             }
            },
            "type": "barpolar"
           }
          ],
          "carpet": [
           {
            "aaxis": {
             "endlinecolor": "#2a3f5f",
             "gridcolor": "white",
             "linecolor": "white",
             "minorgridcolor": "white",
             "startlinecolor": "#2a3f5f"
            },
            "baxis": {
             "endlinecolor": "#2a3f5f",
             "gridcolor": "white",
             "linecolor": "white",
             "minorgridcolor": "white",
             "startlinecolor": "#2a3f5f"
            },
            "type": "carpet"
           }
          ],
          "choropleth": [
           {
            "colorbar": {
             "outlinewidth": 0,
             "ticks": ""
            },
            "type": "choropleth"
           }
          ],
          "contour": [
           {
            "colorbar": {
             "outlinewidth": 0,
             "ticks": ""
            },
            "colorscale": [
             [
              0,
              "#0d0887"
             ],
             [
              0.1111111111111111,
              "#46039f"
             ],
             [
              0.2222222222222222,
              "#7201a8"
             ],
             [
              0.3333333333333333,
              "#9c179e"
             ],
             [
              0.4444444444444444,
              "#bd3786"
             ],
             [
              0.5555555555555556,
              "#d8576b"
             ],
             [
              0.6666666666666666,
              "#ed7953"
             ],
             [
              0.7777777777777778,
              "#fb9f3a"
             ],
             [
              0.8888888888888888,
              "#fdca26"
             ],
             [
              1,
              "#f0f921"
             ]
            ],
            "type": "contour"
           }
          ],
          "contourcarpet": [
           {
            "colorbar": {
             "outlinewidth": 0,
             "ticks": ""
            },
            "type": "contourcarpet"
           }
          ],
          "heatmap": [
           {
            "colorbar": {
             "outlinewidth": 0,
             "ticks": ""
            },
            "colorscale": [
             [
              0,
              "#0d0887"
             ],
             [
              0.1111111111111111,
              "#46039f"
             ],
             [
              0.2222222222222222,
              "#7201a8"
             ],
             [
              0.3333333333333333,
              "#9c179e"
             ],
             [
              0.4444444444444444,
              "#bd3786"
             ],
             [
              0.5555555555555556,
              "#d8576b"
             ],
             [
              0.6666666666666666,
              "#ed7953"
             ],
             [
              0.7777777777777778,
              "#fb9f3a"
             ],
             [
              0.8888888888888888,
              "#fdca26"
             ],
             [
              1,
              "#f0f921"
             ]
            ],
            "type": "heatmap"
           }
          ],
          "heatmapgl": [
           {
            "colorbar": {
             "outlinewidth": 0,
             "ticks": ""
            },
            "colorscale": [
             [
              0,
              "#0d0887"
             ],
             [
              0.1111111111111111,
              "#46039f"
             ],
             [
              0.2222222222222222,
              "#7201a8"
             ],
             [
              0.3333333333333333,
              "#9c179e"
             ],
             [
              0.4444444444444444,
              "#bd3786"
             ],
             [
              0.5555555555555556,
              "#d8576b"
             ],
             [
              0.6666666666666666,
              "#ed7953"
             ],
             [
              0.7777777777777778,
              "#fb9f3a"
             ],
             [
              0.8888888888888888,
              "#fdca26"
             ],
             [
              1,
              "#f0f921"
             ]
            ],
            "type": "heatmapgl"
           }
          ],
          "histogram": [
           {
            "marker": {
             "pattern": {
              "fillmode": "overlay",
              "size": 10,
              "solidity": 0.2
             }
            },
            "type": "histogram"
           }
          ],
          "histogram2d": [
           {
            "colorbar": {
             "outlinewidth": 0,
             "ticks": ""
            },
            "colorscale": [
             [
              0,
              "#0d0887"
             ],
             [
              0.1111111111111111,
              "#46039f"
             ],
             [
              0.2222222222222222,
              "#7201a8"
             ],
             [
              0.3333333333333333,
              "#9c179e"
             ],
             [
              0.4444444444444444,
              "#bd3786"
             ],
             [
              0.5555555555555556,
              "#d8576b"
             ],
             [
              0.6666666666666666,
              "#ed7953"
             ],
             [
              0.7777777777777778,
              "#fb9f3a"
             ],
             [
              0.8888888888888888,
              "#fdca26"
             ],
             [
              1,
              "#f0f921"
             ]
            ],
            "type": "histogram2d"
           }
          ],
          "histogram2dcontour": [
           {
            "colorbar": {
             "outlinewidth": 0,
             "ticks": ""
            },
            "colorscale": [
             [
              0,
              "#0d0887"
             ],
             [
              0.1111111111111111,
              "#46039f"
             ],
             [
              0.2222222222222222,
              "#7201a8"
             ],
             [
              0.3333333333333333,
              "#9c179e"
             ],
             [
              0.4444444444444444,
              "#bd3786"
             ],
             [
              0.5555555555555556,
              "#d8576b"
             ],
             [
              0.6666666666666666,
              "#ed7953"
             ],
             [
              0.7777777777777778,
              "#fb9f3a"
             ],
             [
              0.8888888888888888,
              "#fdca26"
             ],
             [
              1,
              "#f0f921"
             ]
            ],
            "type": "histogram2dcontour"
           }
          ],
          "mesh3d": [
           {
            "colorbar": {
             "outlinewidth": 0,
             "ticks": ""
            },
            "type": "mesh3d"
           }
          ],
          "parcoords": [
           {
            "line": {
             "colorbar": {
              "outlinewidth": 0,
              "ticks": ""
             }
            },
            "type": "parcoords"
           }
          ],
          "pie": [
           {
            "automargin": true,
            "type": "pie"
           }
          ],
          "scatter": [
           {
            "fillpattern": {
             "fillmode": "overlay",
             "size": 10,
             "solidity": 0.2
            },
            "type": "scatter"
           }
          ],
          "scatter3d": [
           {
            "line": {
             "colorbar": {
              "outlinewidth": 0,
              "ticks": ""
             }
            },
            "marker": {
             "colorbar": {
              "outlinewidth": 0,
              "ticks": ""
             }
            },
            "type": "scatter3d"
           }
          ],
          "scattercarpet": [
           {
            "marker": {
             "colorbar": {
              "outlinewidth": 0,
              "ticks": ""
             }
            },
            "type": "scattercarpet"
           }
          ],
          "scattergeo": [
           {
            "marker": {
             "colorbar": {
              "outlinewidth": 0,
              "ticks": ""
             }
            },
            "type": "scattergeo"
           }
          ],
          "scattergl": [
           {
            "marker": {
             "colorbar": {
              "outlinewidth": 0,
              "ticks": ""
             }
            },
            "type": "scattergl"
           }
          ],
          "scattermapbox": [
           {
            "marker": {
             "colorbar": {
              "outlinewidth": 0,
              "ticks": ""
             }
            },
            "type": "scattermapbox"
           }
          ],
          "scatterpolar": [
           {
            "marker": {
             "colorbar": {
              "outlinewidth": 0,
              "ticks": ""
             }
            },
            "type": "scatterpolar"
           }
          ],
          "scatterpolargl": [
           {
            "marker": {
             "colorbar": {
              "outlinewidth": 0,
              "ticks": ""
             }
            },
            "type": "scatterpolargl"
           }
          ],
          "scatterternary": [
           {
            "marker": {
             "colorbar": {
              "outlinewidth": 0,
              "ticks": ""
             }
            },
            "type": "scatterternary"
           }
          ],
          "surface": [
           {
            "colorbar": {
             "outlinewidth": 0,
             "ticks": ""
            },
            "colorscale": [
             [
              0,
              "#0d0887"
             ],
             [
              0.1111111111111111,
              "#46039f"
             ],
             [
              0.2222222222222222,
              "#7201a8"
             ],
             [
              0.3333333333333333,
              "#9c179e"
             ],
             [
              0.4444444444444444,
              "#bd3786"
             ],
             [
              0.5555555555555556,
              "#d8576b"
             ],
             [
              0.6666666666666666,
              "#ed7953"
             ],
             [
              0.7777777777777778,
              "#fb9f3a"
             ],
             [
              0.8888888888888888,
              "#fdca26"
             ],
             [
              1,
              "#f0f921"
             ]
            ],
            "type": "surface"
           }
          ],
          "table": [
           {
            "cells": {
             "fill": {
              "color": "#EBF0F8"
             },
             "line": {
              "color": "white"
             }
            },
            "header": {
             "fill": {
              "color": "#C8D4E3"
             },
             "line": {
              "color": "white"
             }
            },
            "type": "table"
           }
          ]
         },
         "layout": {
          "annotationdefaults": {
           "arrowcolor": "#2a3f5f",
           "arrowhead": 0,
           "arrowwidth": 1
          },
          "autotypenumbers": "strict",
          "coloraxis": {
           "colorbar": {
            "outlinewidth": 0,
            "ticks": ""
           }
          },
          "colorscale": {
           "diverging": [
            [
             0,
             "#8e0152"
            ],
            [
             0.1,
             "#c51b7d"
            ],
            [
             0.2,
             "#de77ae"
            ],
            [
             0.3,
             "#f1b6da"
            ],
            [
             0.4,
             "#fde0ef"
            ],
            [
             0.5,
             "#f7f7f7"
            ],
            [
             0.6,
             "#e6f5d0"
            ],
            [
             0.7,
             "#b8e186"
            ],
            [
             0.8,
             "#7fbc41"
            ],
            [
             0.9,
             "#4d9221"
            ],
            [
             1,
             "#276419"
            ]
           ],
           "sequential": [
            [
             0,
             "#0d0887"
            ],
            [
             0.1111111111111111,
             "#46039f"
            ],
            [
             0.2222222222222222,
             "#7201a8"
            ],
            [
             0.3333333333333333,
             "#9c179e"
            ],
            [
             0.4444444444444444,
             "#bd3786"
            ],
            [
             0.5555555555555556,
             "#d8576b"
            ],
            [
             0.6666666666666666,
             "#ed7953"
            ],
            [
             0.7777777777777778,
             "#fb9f3a"
            ],
            [
             0.8888888888888888,
             "#fdca26"
            ],
            [
             1,
             "#f0f921"
            ]
           ],
           "sequentialminus": [
            [
             0,
             "#0d0887"
            ],
            [
             0.1111111111111111,
             "#46039f"
            ],
            [
             0.2222222222222222,
             "#7201a8"
            ],
            [
             0.3333333333333333,
             "#9c179e"
            ],
            [
             0.4444444444444444,
             "#bd3786"
            ],
            [
             0.5555555555555556,
             "#d8576b"
            ],
            [
             0.6666666666666666,
             "#ed7953"
            ],
            [
             0.7777777777777778,
             "#fb9f3a"
            ],
            [
             0.8888888888888888,
             "#fdca26"
            ],
            [
             1,
             "#f0f921"
            ]
           ]
          },
          "colorway": [
           "#636efa",
           "#EF553B",
           "#00cc96",
           "#ab63fa",
           "#FFA15A",
           "#19d3f3",
           "#FF6692",
           "#B6E880",
           "#FF97FF",
           "#FECB52"
          ],
          "font": {
           "color": "#2a3f5f"
          },
          "geo": {
           "bgcolor": "white",
           "lakecolor": "white",
           "landcolor": "#E5ECF6",
           "showlakes": true,
           "showland": true,
           "subunitcolor": "white"
          },
          "hoverlabel": {
           "align": "left"
          },
          "hovermode": "closest",
          "mapbox": {
           "style": "light"
          },
          "paper_bgcolor": "white",
          "plot_bgcolor": "#E5ECF6",
          "polar": {
           "angularaxis": {
            "gridcolor": "white",
            "linecolor": "white",
            "ticks": ""
           },
           "bgcolor": "#E5ECF6",
           "radialaxis": {
            "gridcolor": "white",
            "linecolor": "white",
            "ticks": ""
           }
          },
          "scene": {
           "xaxis": {
            "backgroundcolor": "#E5ECF6",
            "gridcolor": "white",
            "gridwidth": 2,
            "linecolor": "white",
            "showbackground": true,
            "ticks": "",
            "zerolinecolor": "white"
           },
           "yaxis": {
            "backgroundcolor": "#E5ECF6",
            "gridcolor": "white",
            "gridwidth": 2,
            "linecolor": "white",
            "showbackground": true,
            "ticks": "",
            "zerolinecolor": "white"
           },
           "zaxis": {
            "backgroundcolor": "#E5ECF6",
            "gridcolor": "white",
            "gridwidth": 2,
            "linecolor": "white",
            "showbackground": true,
            "ticks": "",
            "zerolinecolor": "white"
           }
          },
          "shapedefaults": {
           "line": {
            "color": "#2a3f5f"
           }
          },
          "ternary": {
           "aaxis": {
            "gridcolor": "white",
            "linecolor": "white",
            "ticks": ""
           },
           "baxis": {
            "gridcolor": "white",
            "linecolor": "white",
            "ticks": ""
           },
           "bgcolor": "#E5ECF6",
           "caxis": {
            "gridcolor": "white",
            "linecolor": "white",
            "ticks": ""
           }
          },
          "title": {
           "x": 0.05
          },
          "xaxis": {
           "automargin": true,
           "gridcolor": "white",
           "linecolor": "white",
           "ticks": "",
           "title": {
            "standoff": 15
           },
           "zerolinecolor": "white",
           "zerolinewidth": 2
          },
          "yaxis": {
           "automargin": true,
           "gridcolor": "white",
           "linecolor": "white",
           "ticks": "",
           "title": {
            "standoff": 15
           },
           "zerolinecolor": "white",
           "zerolinewidth": 2
          }
         }
        },
        "title": {
         "text": "Structure with Highlighted Sites"
        }
       }
      }
     },
     "metadata": {},
     "output_type": "display_data"
    }
   ],
   "source": [
    "plot_structure_with_highlighted_sites(structure, top_sites)\n"
   ]
  },
  {
   "cell_type": "code",
   "execution_count": 47,
   "metadata": {},
   "outputs": [
    {
     "data": {
      "application/vnd.plotly.v1+json": {
       "config": {
        "plotlyServerURL": "https://plot.ly"
       },
       "data": [
        {
         "legendgroup": "Zr1",
         "marker": {
          "color": "blue",
          "size": 5
         },
         "mode": "markers",
         "name": "Zr1",
         "showlegend": true,
         "type": "scatter3d",
         "x": [
          2.467492691110972
         ],
         "y": [
          4.1901387813370965
         ],
         "z": [
          -0.890479591067531
         ]
        },
        {
         "legendgroup": "Ti1",
         "marker": {
          "color": "green",
          "size": 5
         },
         "mode": "markers",
         "name": "Ti1",
         "showlegend": true,
         "type": "scatter3d",
         "x": [
          8.64346010904411
         ],
         "y": [
          2.086387830339729
         ],
         "z": [
          3.5046318069160804
         ]
        },
        {
         "legendgroup": "Ti1",
         "marker": {
          "color": "green",
          "size": 5
         },
         "mode": "markers",
         "name": "Ti1",
         "showlegend": true,
         "type": "scatter3d",
         "x": [
          -2.4507341679340597
         ],
         "y": [
          4.256700521609587
         ],
         "z": [
          0.8621628203714329
         ]
        },
        {
         "legendgroup": "Ti1",
         "marker": {
          "color": "green",
          "size": 5
         },
         "mode": "markers",
         "name": "Ti1",
         "showlegend": true,
         "type": "scatter3d",
         "x": [
          2.510276195096395
         ],
         "y": [
          8.418985475800627
         ],
         "z": [
          -6.0874076047027135
         ]
        },
        {
         "legendgroup": "Ti1",
         "marker": {
          "color": "green",
          "size": 5
         },
         "mode": "markers",
         "name": "Ti1",
         "showlegend": true,
         "type": "scatter3d",
         "x": [
          6.043752581402659
         ],
         "y": [
          2.0351837073878642
         ],
         "z": [
          6.885356462832299
         ]
        },
        {
         "legendgroup": "Ti1",
         "marker": {
          "color": "green",
          "size": 5
         },
         "mode": "markers",
         "name": "Ti1",
         "showlegend": true,
         "type": "scatter3d",
         "x": [
          3.8427321344144603
         ],
         "y": [
          6.48722337509416
         ],
         "z": [
          0.036407504339613705
         ]
        },
        {
         "legendgroup": "V1",
         "marker": {
          "color": "orange",
          "size": 5
         },
         "mode": "markers",
         "name": "V1",
         "showlegend": true,
         "type": "scatter3d",
         "x": [
          -4.878939990730071
         ],
         "y": [
          8.438883762561435
         ],
         "z": [
          6.941436294111835
         ]
        },
        {
         "legendgroup": "V1",
         "marker": {
          "color": "orange",
          "size": 5
         },
         "mode": "markers",
         "name": "V1",
         "showlegend": true,
         "type": "scatter3d",
         "x": [
          4.969870839306011
         ],
         "y": [
          8.4549634941505
         ],
         "z": [
          -4.378678781059407
         ]
        },
        {
         "legendgroup": "V1",
         "marker": {
          "color": "orange",
          "size": 5
         },
         "mode": "markers",
         "name": "V1",
         "showlegend": true,
         "type": "scatter3d",
         "x": [
          -4.885500742018095
         ],
         "y": [
          8.465976962756969
         ],
         "z": [
          1.797721071373803
         ]
        },
        {
         "legendgroup": "V1",
         "marker": {
          "color": "orange",
          "size": 5
         },
         "mode": "markers",
         "name": "V1",
         "showlegend": true,
         "type": "scatter3d",
         "x": [
          -1.1796878693029167
         ],
         "y": [
          2.1283583239522232
         ],
         "z": [
          -0.7900251647128365
         ]
        },
        {
         "legendgroup": "V1",
         "marker": {
          "color": "orange",
          "size": 5
         },
         "mode": "markers",
         "name": "V1",
         "showlegend": true,
         "type": "scatter3d",
         "x": [
          -1.1622178505102887
         ],
         "y": [
          2.1081533989552526
         ],
         "z": [
          1.7838862601804797
         ]
        },
        {
         "legendgroup": "V1",
         "marker": {
          "color": "orange",
          "size": 5
         },
         "mode": "markers",
         "name": "V1",
         "showlegend": true,
         "type": "scatter3d",
         "x": [
          7.379959962240022
         ],
         "y": [
          4.227538825455724
         ],
         "z": [
          5.147825146130071
         ]
        },
        {
         "legendgroup": "V1",
         "marker": {
          "color": "orange",
          "size": 5
         },
         "mode": "markers",
         "name": "V1",
         "showlegend": true,
         "type": "scatter3d",
         "x": [
          -2.4580632642627145
         ],
         "y": [
          4.358168441384349
         ],
         "z": [
          3.544151811503631
         ]
        },
        {
         "legendgroup": "V1",
         "marker": {
          "color": "orange",
          "size": 5
         },
         "mode": "markers",
         "name": "V1",
         "showlegend": true,
         "type": "scatter3d",
         "x": [
          -2.4789404070091283
         ],
         "y": [
          4.33109072555316
         ],
         "z": [
          6.126598006281358
         ]
        },
        {
         "legendgroup": "V1",
         "marker": {
          "color": "orange",
          "size": 5
         },
         "mode": "markers",
         "name": "V1",
         "showlegend": true,
         "type": "scatter3d",
         "x": [
          -3.643426264095448
         ],
         "y": [
          6.3619535461809615
         ],
         "z": [
          -2.6242063555648043
         ]
        },
        {
         "legendgroup": "V1",
         "marker": {
          "color": "orange",
          "size": 5
         },
         "mode": "markers",
         "name": "V1",
         "showlegend": true,
         "type": "scatter3d",
         "x": [
          -3.7008890705796964
         ],
         "y": [
          6.431501584577198
         ],
         "z": [
          0.021221827690429684
         ]
        },
        {
         "legendgroup": "V1",
         "marker": {
          "color": "orange",
          "size": 5
         },
         "mode": "markers",
         "name": "V1",
         "showlegend": true,
         "type": "scatter3d",
         "x": [
          -3.679949378556645
         ],
         "y": [
          6.4001582251787115
         ],
         "z": [
          5.19355714605841
         ]
        },
        {
         "legendgroup": "V1",
         "marker": {
          "color": "orange",
          "size": 5
         },
         "mode": "markers",
         "name": "V1",
         "showlegend": true,
         "type": "scatter3d",
         "x": [
          -2.423926735931024
         ],
         "y": [
          8.40505043930455
         ],
         "z": [
          -4.3151744640857705
         ]
        },
        {
         "legendgroup": "V1",
         "marker": {
          "color": "orange",
          "size": 5
         },
         "mode": "markers",
         "name": "V1",
         "showlegend": true,
         "type": "scatter3d",
         "x": [
          -2.4672240475767544
         ],
         "y": [
          8.458016246433896
         ],
         "z": [
          -1.719021012199602
         ]
        },
        {
         "legendgroup": "V1",
         "marker": {
          "color": "orange",
          "size": 5
         },
         "mode": "markers",
         "name": "V1",
         "showlegend": true,
         "type": "scatter3d",
         "x": [
          2.460540481845263
         ],
         "y": [
          0.007269316867527265
         ],
         "z": [
          4.323839754392695
         ]
        },
        {
         "legendgroup": "V1",
         "marker": {
          "color": "orange",
          "size": 5
         },
         "mode": "markers",
         "name": "V1",
         "showlegend": true,
         "type": "scatter3d",
         "x": [
          -2.466680491493829
         ],
         "y": [
          8.413685592986408
         ],
         "z": [
          3.4766528342421963
         ]
        },
        {
         "legendgroup": "V1",
         "marker": {
          "color": "orange",
          "size": 5
         },
         "mode": "markers",
         "name": "V1",
         "showlegend": true,
         "type": "scatter3d",
         "x": [
          1.1442199042315284
         ],
         "y": [
          1.9371453954729454
         ],
         "z": [
          8.628899968584534
         ]
        },
        {
         "legendgroup": "V1",
         "marker": {
          "color": "orange",
          "size": 5
         },
         "mode": "markers",
         "name": "V1",
         "showlegend": true,
         "type": "scatter3d",
         "x": [
          1.2473102721014477
         ],
         "y": [
          2.076597822185375
         ],
         "z": [
          0.9115576065288563
         ]
        },
        {
         "legendgroup": "V1",
         "marker": {
          "color": "orange",
          "size": 5
         },
         "mode": "markers",
         "name": "V1",
         "showlegend": true,
         "type": "scatter3d",
         "x": [
          1.2561571207620117
         ],
         "y": [
          2.100151223368059
         ],
         "z": [
          3.4986995953139868
         ]
        },
        {
         "legendgroup": "V1",
         "marker": {
          "color": "orange",
          "size": 5
         },
         "mode": "markers",
         "name": "V1",
         "showlegend": true,
         "type": "scatter3d",
         "x": [
          1.2938720719767731
         ],
         "y": [
          2.1200100224849483
         ],
         "z": [
          6.063718613605467
         ]
        },
        {
         "legendgroup": "V1",
         "marker": {
          "color": "orange",
          "size": 5
         },
         "mode": "markers",
         "name": "V1",
         "showlegend": true,
         "type": "scatter3d",
         "x": [
          -0.05238960620881716
         ],
         "y": [
          4.373352955335116
         ],
         "z": [
          -2.6573728114307675
         ]
        },
        {
         "legendgroup": "V1",
         "marker": {
          "color": "orange",
          "size": 5
         },
         "mode": "markers",
         "name": "V1",
         "showlegend": true,
         "type": "scatter3d",
         "x": [
          -0.048613016938166886
         ],
         "y": [
          4.289159764887677
         ],
         "z": [
          0.02150857538865414
         ]
        },
        {
         "legendgroup": "V1",
         "marker": {
          "color": "orange",
          "size": 5
         },
         "mode": "markers",
         "name": "V1",
         "showlegend": true,
         "type": "scatter3d",
         "x": [
          0.0034101359111122775
         ],
         "y": [
          4.271626861369787
         ],
         "z": [
          2.6111076971492784
         ]
        },
        {
         "legendgroup": "V1",
         "marker": {
          "color": "orange",
          "size": 5
         },
         "mode": "markers",
         "name": "V1",
         "showlegend": true,
         "type": "scatter3d",
         "x": [
          -0.033452901722800465
         ],
         "y": [
          4.2863266635458315
         ],
         "z": [
          5.213464469017884
         ]
        },
        {
         "legendgroup": "V1",
         "marker": {
          "color": "orange",
          "size": 5
         },
         "mode": "markers",
         "name": "V1",
         "showlegend": true,
         "type": "scatter3d",
         "x": [
          -1.2660876039145097
         ],
         "y": [
          6.375167811010832
         ],
         "z": [
          -0.8863117777059548
         ]
        },
        {
         "legendgroup": "V1",
         "marker": {
          "color": "orange",
          "size": 5
         },
         "mode": "markers",
         "name": "V1",
         "showlegend": true,
         "type": "scatter3d",
         "x": [
          -1.25059534137801
         ],
         "y": [
          6.449561673615592
         ],
         "z": [
          1.8120499665407208
         ]
        },
        {
         "legendgroup": "V1",
         "marker": {
          "color": "orange",
          "size": 5
         },
         "mode": "markers",
         "name": "V1",
         "showlegend": true,
         "type": "scatter3d",
         "x": [
          -0.08044345736980141
         ],
         "y": [
          8.430154711872792
         ],
         "z": [
          5.154621295673608
         ]
        },
        {
         "legendgroup": "V1",
         "marker": {
          "color": "orange",
          "size": 5
         },
         "mode": "markers",
         "name": "V1",
         "showlegend": true,
         "type": "scatter3d",
         "x": [
          -0.038067691958871386
         ],
         "y": [
          8.43833080869348
         ],
         "z": [
          -2.6348036959780363
         ]
        },
        {
         "legendgroup": "V1",
         "marker": {
          "color": "orange",
          "size": 5
         },
         "mode": "markers",
         "name": "V1",
         "showlegend": true,
         "type": "scatter3d",
         "x": [
          4.893844976875548
         ],
         "y": [
          -0.00841225890278013
         ],
         "z": [
          3.524577976303694
         ]
        },
        {
         "legendgroup": "V1",
         "marker": {
          "color": "orange",
          "size": 5
         },
         "mode": "markers",
         "name": "V1",
         "showlegend": true,
         "type": "scatter3d",
         "x": [
          3.6263562310240687
         ],
         "y": [
          2.0705979783641575
         ],
         "z": [
          7.858845451874327
         ]
        },
        {
         "legendgroup": "V1",
         "marker": {
          "color": "orange",
          "size": 5
         },
         "mode": "markers",
         "name": "V1",
         "showlegend": true,
         "type": "scatter3d",
         "x": [
          3.760682138897436
         ],
         "y": [
          1.974599500630284
         ],
         "z": [
          0.043087908672958974
         ]
        },
        {
         "legendgroup": "V1",
         "marker": {
          "color": "orange",
          "size": 5
         },
         "mode": "markers",
         "name": "V1",
         "showlegend": true,
         "type": "scatter3d",
         "x": [
          3.685457597195139
         ],
         "y": [
          2.10219719873697
         ],
         "z": [
          2.615387132369681
         ]
        },
        {
         "legendgroup": "V1",
         "marker": {
          "color": "orange",
          "size": 5
         },
         "mode": "markers",
         "name": "V1",
         "showlegend": true,
         "type": "scatter3d",
         "x": [
          3.698501973082826
         ],
         "y": [
          2.060518155283462
         ],
         "z": [
          5.237813013194626
         ]
        },
        {
         "legendgroup": "V1",
         "marker": {
          "color": "orange",
          "size": 5
         },
         "mode": "markers",
         "name": "V1",
         "showlegend": true,
         "type": "scatter3d",
         "x": [
          2.425132673032855
         ],
         "y": [
          4.241132818777139
         ],
         "z": [
          6.819854328877482
         ]
        },
        {
         "legendgroup": "V1",
         "marker": {
          "color": "orange",
          "size": 5
         },
         "mode": "markers",
         "name": "V1",
         "showlegend": true,
         "type": "scatter3d",
         "x": [
          2.4710150788677727
         ],
         "y": [
          4.263983491493352
         ],
         "z": [
          1.8736699292333592
         ]
        },
        {
         "legendgroup": "V1",
         "marker": {
          "color": "orange",
          "size": 5
         },
         "mode": "markers",
         "name": "V1",
         "showlegend": true,
         "type": "scatter3d",
         "x": [
          2.451401402038911
         ],
         "y": [
          4.23822695231489
         ],
         "z": [
          4.3571020139119705
         ]
        },
        {
         "legendgroup": "V1",
         "marker": {
          "color": "orange",
          "size": 5
         },
         "mode": "markers",
         "name": "V1",
         "showlegend": true,
         "type": "scatter3d",
         "x": [
          1.1919879912657305
         ],
         "y": [
          6.377794560238157
         ],
         "z": [
          -4.3706843328424485
         ]
        },
        {
         "legendgroup": "V1",
         "marker": {
          "color": "orange",
          "size": 5
         },
         "mode": "markers",
         "name": "V1",
         "showlegend": true,
         "type": "scatter3d",
         "x": [
          1.1651873763015659
         ],
         "y": [
          6.4540458241374745
         ],
         "z": [
          -1.7789741792778677
         ]
        },
        {
         "legendgroup": "V1",
         "marker": {
          "color": "orange",
          "size": 5
         },
         "mode": "markers",
         "name": "V1",
         "showlegend": true,
         "type": "scatter3d",
         "x": [
          1.1951785911547446
         ],
         "y": [
          6.37406599166821
         ],
         "z": [
          0.889307898598759
         ]
        },
        {
         "legendgroup": "V1",
         "marker": {
          "color": "orange",
          "size": 5
         },
         "mode": "markers",
         "name": "V1",
         "showlegend": true,
         "type": "scatter3d",
         "x": [
          1.1219364685999476
         ],
         "y": [
          6.359312114437975
         ],
         "z": [
          3.4723960046585933
         ]
        },
        {
         "legendgroup": "V1",
         "marker": {
          "color": "orange",
          "size": 5
         },
         "mode": "markers",
         "name": "V1",
         "showlegend": true,
         "type": "scatter3d",
         "x": [
          2.462646706044443
         ],
         "y": [
          8.469618385131245
         ],
         "z": [
          -3.4504010237406
         ]
        },
        {
         "legendgroup": "V1",
         "marker": {
          "color": "orange",
          "size": 5
         },
         "mode": "markers",
         "name": "V1",
         "showlegend": true,
         "type": "scatter3d",
         "x": [
          2.3610535944310183
         ],
         "y": [
          8.464638909171
         ],
         "z": [
          -0.920611535497514
         ]
        },
        {
         "legendgroup": "V1",
         "marker": {
          "color": "orange",
          "size": 5
         },
         "mode": "markers",
         "name": "V1",
         "showlegend": true,
         "type": "scatter3d",
         "x": [
          2.4405544700564104
         ],
         "y": [
          8.474118904397288
         ],
         "z": [
          1.692768294046573
         ]
        },
        {
         "legendgroup": "V1",
         "marker": {
          "color": "orange",
          "size": 5
         },
         "mode": "markers",
         "name": "V1",
         "showlegend": true,
         "type": "scatter3d",
         "x": [
          6.147683883432375
         ],
         "y": [
          2.1024904783414535
         ],
         "z": [
          -0.8570930942698743
         ]
        },
        {
         "legendgroup": "V1",
         "marker": {
          "color": "orange",
          "size": 5
         },
         "mode": "markers",
         "name": "V1",
         "showlegend": true,
         "type": "scatter3d",
         "x": [
          6.161187792045048
         ],
         "y": [
          2.1349941124248373
         ],
         "z": [
          1.753111764623761
         ]
        },
        {
         "legendgroup": "V1",
         "marker": {
          "color": "orange",
          "size": 5
         },
         "mode": "markers",
         "name": "V1",
         "showlegend": true,
         "type": "scatter3d",
         "x": [
          6.079286937726145
         ],
         "y": [
          2.1306822504368172
         ],
         "z": [
          4.2715025018750445
         ]
        },
        {
         "legendgroup": "V1",
         "marker": {
          "color": "orange",
          "size": 5
         },
         "mode": "markers",
         "name": "V1",
         "showlegend": true,
         "type": "scatter3d",
         "x": [
          4.937336896274889
         ],
         "y": [
          4.304214473141048
         ],
         "z": [
          -4.408291930883687
         ]
        },
        {
         "legendgroup": "V1",
         "marker": {
          "color": "orange",
          "size": 5
         },
         "mode": "markers",
         "name": "V1",
         "showlegend": true,
         "type": "scatter3d",
         "x": [
          5.027634668164815
         ],
         "y": [
          4.3172351957425334
         ],
         "z": [
          -1.7132657371277134
         ]
        },
        {
         "legendgroup": "V1",
         "marker": {
          "color": "orange",
          "size": 5
         },
         "mode": "markers",
         "name": "V1",
         "showlegend": true,
         "type": "scatter3d",
         "x": [
          4.98088462623336
         ],
         "y": [
          4.200689607655577
         ],
         "z": [
          0.9285261627106531
         ]
        },
        {
         "legendgroup": "V1",
         "marker": {
          "color": "orange",
          "size": 5
         },
         "mode": "markers",
         "name": "V1",
         "showlegend": true,
         "type": "scatter3d",
         "x": [
          4.940507675055229
         ],
         "y": [
          4.253646381168566
         ],
         "z": [
          3.472164281128263
         ]
        },
        {
         "legendgroup": "V1",
         "marker": {
          "color": "orange",
          "size": 5
         },
         "mode": "markers",
         "name": "V1",
         "showlegend": true,
         "type": "scatter3d",
         "x": [
          3.7426731345812074
         ],
         "y": [
          6.3076669881453595
         ],
         "z": [
          5.237939552775358
         ]
        },
        {
         "legendgroup": "V1",
         "marker": {
          "color": "orange",
          "size": 5
         },
         "mode": "markers",
         "name": "V1",
         "showlegend": true,
         "type": "scatter3d",
         "x": [
          3.703494307586802
         ],
         "y": [
          6.3902242758171095
         ],
         "z": [
          -2.6999713520844737
         ]
        },
        {
         "legendgroup": "V1",
         "marker": {
          "color": "orange",
          "size": 5
         },
         "mode": "markers",
         "name": "V1",
         "showlegend": true,
         "type": "scatter3d",
         "x": [
          3.682914337967057
         ],
         "y": [
          6.366742482112152
         ],
         "z": [
          2.69313121950094
         ]
        },
        {
         "legendgroup": "Cr1",
         "marker": {
          "color": "purple",
          "size": 5
         },
         "mode": "markers",
         "name": "Cr1",
         "showlegend": true,
         "type": "scatter3d",
         "x": [
          0.07821572913356122
         ],
         "y": [
          0.007434177189720139
         ],
         "z": [
          7.893130248077385
         ]
        },
        {
         "legendgroup": "Cr1",
         "marker": {
          "color": "purple",
          "size": 5
         },
         "mode": "markers",
         "name": "Cr1",
         "showlegend": true,
         "type": "scatter3d",
         "x": [
          -3.6294841146092396
         ],
         "y": [
          6.378595786637654
         ],
         "z": [
          2.602758403524658
         ]
        },
        {
         "legendgroup": "Cr1",
         "marker": {
          "color": "purple",
          "size": 5
         },
         "mode": "markers",
         "name": "Cr1",
         "showlegend": true,
         "type": "scatter3d",
         "x": [
          -1.2699849551946074
         ],
         "y": [
          6.3666099931522595
         ],
         "z": [
          6.932549277812446
         ]
        },
        {
         "legendgroup": "Cr1",
         "marker": {
          "color": "purple",
          "size": 5
         },
         "mode": "markers",
         "name": "Cr1",
         "showlegend": true,
         "type": "scatter3d",
         "x": [
          -1.243723468818188
         ],
         "y": [
          6.359407739120602
         ],
         "z": [
          4.392386240175659
         ]
        },
        {
         "legendgroup": "Cr1",
         "marker": {
          "color": "purple",
          "size": 5
         },
         "mode": "markers",
         "name": "Cr1",
         "showlegend": true,
         "type": "scatter3d",
         "x": [
          -0.05536174754363721
         ],
         "y": [
          8.420670788922443
         ],
         "z": [
          2.591872065808253
         ]
        },
        {
         "legendgroup": "W1",
         "marker": {
          "color": "brown",
          "size": 5
         },
         "mode": "markers",
         "name": "W1",
         "showlegend": true,
         "type": "scatter3d",
         "x": [
          -1.2273198727272554
         ],
         "y": [
          2.1324027504677776
         ],
         "z": [
          4.340966803608512
         ]
        },
        {
         "legendgroup": "Highlighted W1",
         "marker": {
          "color": "red",
          "size": 10,
          "symbol": "diamond"
         },
         "mode": "markers",
         "name": "Highlighted W1",
         "showlegend": true,
         "type": "scatter3d",
         "x": [
          -1.2273198727272554
         ],
         "y": [
          2.1324027504677776
         ],
         "z": [
          4.340966803608512
         ]
        },
        {
         "legendgroup": "Highlighted Zr1",
         "marker": {
          "color": "red",
          "size": 10,
          "symbol": "diamond"
         },
         "mode": "markers",
         "name": "Highlighted Zr1",
         "showlegend": true,
         "type": "scatter3d",
         "x": [
          2.467492691110972
         ],
         "y": [
          4.1901387813370965
         ],
         "z": [
          -0.890479591067531
         ]
        },
        {
         "legendgroup": "Highlighted V1",
         "marker": {
          "color": "red",
          "size": 10,
          "symbol": "diamond"
         },
         "mode": "markers",
         "name": "Highlighted V1",
         "showlegend": true,
         "type": "scatter3d",
         "x": [
          -1.1796878693029167
         ],
         "y": [
          2.1283583239522232
         ],
         "z": [
          -0.7900251647128365
         ]
        }
       ],
       "layout": {
        "scene": {
         "xaxis": {
          "title": {
           "text": "X"
          }
         },
         "yaxis": {
          "title": {
           "text": "Y"
          }
         },
         "zaxis": {
          "title": {
           "text": "Z"
          }
         }
        },
        "template": {
         "data": {
          "bar": [
           {
            "error_x": {
             "color": "#2a3f5f"
            },
            "error_y": {
             "color": "#2a3f5f"
            },
            "marker": {
             "line": {
              "color": "#E5ECF6",
              "width": 0.5
             },
             "pattern": {
              "fillmode": "overlay",
              "size": 10,
              "solidity": 0.2
             }
            },
            "type": "bar"
           }
          ],
          "barpolar": [
           {
            "marker": {
             "line": {
              "color": "#E5ECF6",
              "width": 0.5
             },
             "pattern": {
              "fillmode": "overlay",
              "size": 10,
              "solidity": 0.2
             }
            },
            "type": "barpolar"
           }
          ],
          "carpet": [
           {
            "aaxis": {
             "endlinecolor": "#2a3f5f",
             "gridcolor": "white",
             "linecolor": "white",
             "minorgridcolor": "white",
             "startlinecolor": "#2a3f5f"
            },
            "baxis": {
             "endlinecolor": "#2a3f5f",
             "gridcolor": "white",
             "linecolor": "white",
             "minorgridcolor": "white",
             "startlinecolor": "#2a3f5f"
            },
            "type": "carpet"
           }
          ],
          "choropleth": [
           {
            "colorbar": {
             "outlinewidth": 0,
             "ticks": ""
            },
            "type": "choropleth"
           }
          ],
          "contour": [
           {
            "colorbar": {
             "outlinewidth": 0,
             "ticks": ""
            },
            "colorscale": [
             [
              0,
              "#0d0887"
             ],
             [
              0.1111111111111111,
              "#46039f"
             ],
             [
              0.2222222222222222,
              "#7201a8"
             ],
             [
              0.3333333333333333,
              "#9c179e"
             ],
             [
              0.4444444444444444,
              "#bd3786"
             ],
             [
              0.5555555555555556,
              "#d8576b"
             ],
             [
              0.6666666666666666,
              "#ed7953"
             ],
             [
              0.7777777777777778,
              "#fb9f3a"
             ],
             [
              0.8888888888888888,
              "#fdca26"
             ],
             [
              1,
              "#f0f921"
             ]
            ],
            "type": "contour"
           }
          ],
          "contourcarpet": [
           {
            "colorbar": {
             "outlinewidth": 0,
             "ticks": ""
            },
            "type": "contourcarpet"
           }
          ],
          "heatmap": [
           {
            "colorbar": {
             "outlinewidth": 0,
             "ticks": ""
            },
            "colorscale": [
             [
              0,
              "#0d0887"
             ],
             [
              0.1111111111111111,
              "#46039f"
             ],
             [
              0.2222222222222222,
              "#7201a8"
             ],
             [
              0.3333333333333333,
              "#9c179e"
             ],
             [
              0.4444444444444444,
              "#bd3786"
             ],
             [
              0.5555555555555556,
              "#d8576b"
             ],
             [
              0.6666666666666666,
              "#ed7953"
             ],
             [
              0.7777777777777778,
              "#fb9f3a"
             ],
             [
              0.8888888888888888,
              "#fdca26"
             ],
             [
              1,
              "#f0f921"
             ]
            ],
            "type": "heatmap"
           }
          ],
          "heatmapgl": [
           {
            "colorbar": {
             "outlinewidth": 0,
             "ticks": ""
            },
            "colorscale": [
             [
              0,
              "#0d0887"
             ],
             [
              0.1111111111111111,
              "#46039f"
             ],
             [
              0.2222222222222222,
              "#7201a8"
             ],
             [
              0.3333333333333333,
              "#9c179e"
             ],
             [
              0.4444444444444444,
              "#bd3786"
             ],
             [
              0.5555555555555556,
              "#d8576b"
             ],
             [
              0.6666666666666666,
              "#ed7953"
             ],
             [
              0.7777777777777778,
              "#fb9f3a"
             ],
             [
              0.8888888888888888,
              "#fdca26"
             ],
             [
              1,
              "#f0f921"
             ]
            ],
            "type": "heatmapgl"
           }
          ],
          "histogram": [
           {
            "marker": {
             "pattern": {
              "fillmode": "overlay",
              "size": 10,
              "solidity": 0.2
             }
            },
            "type": "histogram"
           }
          ],
          "histogram2d": [
           {
            "colorbar": {
             "outlinewidth": 0,
             "ticks": ""
            },
            "colorscale": [
             [
              0,
              "#0d0887"
             ],
             [
              0.1111111111111111,
              "#46039f"
             ],
             [
              0.2222222222222222,
              "#7201a8"
             ],
             [
              0.3333333333333333,
              "#9c179e"
             ],
             [
              0.4444444444444444,
              "#bd3786"
             ],
             [
              0.5555555555555556,
              "#d8576b"
             ],
             [
              0.6666666666666666,
              "#ed7953"
             ],
             [
              0.7777777777777778,
              "#fb9f3a"
             ],
             [
              0.8888888888888888,
              "#fdca26"
             ],
             [
              1,
              "#f0f921"
             ]
            ],
            "type": "histogram2d"
           }
          ],
          "histogram2dcontour": [
           {
            "colorbar": {
             "outlinewidth": 0,
             "ticks": ""
            },
            "colorscale": [
             [
              0,
              "#0d0887"
             ],
             [
              0.1111111111111111,
              "#46039f"
             ],
             [
              0.2222222222222222,
              "#7201a8"
             ],
             [
              0.3333333333333333,
              "#9c179e"
             ],
             [
              0.4444444444444444,
              "#bd3786"
             ],
             [
              0.5555555555555556,
              "#d8576b"
             ],
             [
              0.6666666666666666,
              "#ed7953"
             ],
             [
              0.7777777777777778,
              "#fb9f3a"
             ],
             [
              0.8888888888888888,
              "#fdca26"
             ],
             [
              1,
              "#f0f921"
             ]
            ],
            "type": "histogram2dcontour"
           }
          ],
          "mesh3d": [
           {
            "colorbar": {
             "outlinewidth": 0,
             "ticks": ""
            },
            "type": "mesh3d"
           }
          ],
          "parcoords": [
           {
            "line": {
             "colorbar": {
              "outlinewidth": 0,
              "ticks": ""
             }
            },
            "type": "parcoords"
           }
          ],
          "pie": [
           {
            "automargin": true,
            "type": "pie"
           }
          ],
          "scatter": [
           {
            "fillpattern": {
             "fillmode": "overlay",
             "size": 10,
             "solidity": 0.2
            },
            "type": "scatter"
           }
          ],
          "scatter3d": [
           {
            "line": {
             "colorbar": {
              "outlinewidth": 0,
              "ticks": ""
             }
            },
            "marker": {
             "colorbar": {
              "outlinewidth": 0,
              "ticks": ""
             }
            },
            "type": "scatter3d"
           }
          ],
          "scattercarpet": [
           {
            "marker": {
             "colorbar": {
              "outlinewidth": 0,
              "ticks": ""
             }
            },
            "type": "scattercarpet"
           }
          ],
          "scattergeo": [
           {
            "marker": {
             "colorbar": {
              "outlinewidth": 0,
              "ticks": ""
             }
            },
            "type": "scattergeo"
           }
          ],
          "scattergl": [
           {
            "marker": {
             "colorbar": {
              "outlinewidth": 0,
              "ticks": ""
             }
            },
            "type": "scattergl"
           }
          ],
          "scattermapbox": [
           {
            "marker": {
             "colorbar": {
              "outlinewidth": 0,
              "ticks": ""
             }
            },
            "type": "scattermapbox"
           }
          ],
          "scatterpolar": [
           {
            "marker": {
             "colorbar": {
              "outlinewidth": 0,
              "ticks": ""
             }
            },
            "type": "scatterpolar"
           }
          ],
          "scatterpolargl": [
           {
            "marker": {
             "colorbar": {
              "outlinewidth": 0,
              "ticks": ""
             }
            },
            "type": "scatterpolargl"
           }
          ],
          "scatterternary": [
           {
            "marker": {
             "colorbar": {
              "outlinewidth": 0,
              "ticks": ""
             }
            },
            "type": "scatterternary"
           }
          ],
          "surface": [
           {
            "colorbar": {
             "outlinewidth": 0,
             "ticks": ""
            },
            "colorscale": [
             [
              0,
              "#0d0887"
             ],
             [
              0.1111111111111111,
              "#46039f"
             ],
             [
              0.2222222222222222,
              "#7201a8"
             ],
             [
              0.3333333333333333,
              "#9c179e"
             ],
             [
              0.4444444444444444,
              "#bd3786"
             ],
             [
              0.5555555555555556,
              "#d8576b"
             ],
             [
              0.6666666666666666,
              "#ed7953"
             ],
             [
              0.7777777777777778,
              "#fb9f3a"
             ],
             [
              0.8888888888888888,
              "#fdca26"
             ],
             [
              1,
              "#f0f921"
             ]
            ],
            "type": "surface"
           }
          ],
          "table": [
           {
            "cells": {
             "fill": {
              "color": "#EBF0F8"
             },
             "line": {
              "color": "white"
             }
            },
            "header": {
             "fill": {
              "color": "#C8D4E3"
             },
             "line": {
              "color": "white"
             }
            },
            "type": "table"
           }
          ]
         },
         "layout": {
          "annotationdefaults": {
           "arrowcolor": "#2a3f5f",
           "arrowhead": 0,
           "arrowwidth": 1
          },
          "autotypenumbers": "strict",
          "coloraxis": {
           "colorbar": {
            "outlinewidth": 0,
            "ticks": ""
           }
          },
          "colorscale": {
           "diverging": [
            [
             0,
             "#8e0152"
            ],
            [
             0.1,
             "#c51b7d"
            ],
            [
             0.2,
             "#de77ae"
            ],
            [
             0.3,
             "#f1b6da"
            ],
            [
             0.4,
             "#fde0ef"
            ],
            [
             0.5,
             "#f7f7f7"
            ],
            [
             0.6,
             "#e6f5d0"
            ],
            [
             0.7,
             "#b8e186"
            ],
            [
             0.8,
             "#7fbc41"
            ],
            [
             0.9,
             "#4d9221"
            ],
            [
             1,
             "#276419"
            ]
           ],
           "sequential": [
            [
             0,
             "#0d0887"
            ],
            [
             0.1111111111111111,
             "#46039f"
            ],
            [
             0.2222222222222222,
             "#7201a8"
            ],
            [
             0.3333333333333333,
             "#9c179e"
            ],
            [
             0.4444444444444444,
             "#bd3786"
            ],
            [
             0.5555555555555556,
             "#d8576b"
            ],
            [
             0.6666666666666666,
             "#ed7953"
            ],
            [
             0.7777777777777778,
             "#fb9f3a"
            ],
            [
             0.8888888888888888,
             "#fdca26"
            ],
            [
             1,
             "#f0f921"
            ]
           ],
           "sequentialminus": [
            [
             0,
             "#0d0887"
            ],
            [
             0.1111111111111111,
             "#46039f"
            ],
            [
             0.2222222222222222,
             "#7201a8"
            ],
            [
             0.3333333333333333,
             "#9c179e"
            ],
            [
             0.4444444444444444,
             "#bd3786"
            ],
            [
             0.5555555555555556,
             "#d8576b"
            ],
            [
             0.6666666666666666,
             "#ed7953"
            ],
            [
             0.7777777777777778,
             "#fb9f3a"
            ],
            [
             0.8888888888888888,
             "#fdca26"
            ],
            [
             1,
             "#f0f921"
            ]
           ]
          },
          "colorway": [
           "#636efa",
           "#EF553B",
           "#00cc96",
           "#ab63fa",
           "#FFA15A",
           "#19d3f3",
           "#FF6692",
           "#B6E880",
           "#FF97FF",
           "#FECB52"
          ],
          "font": {
           "color": "#2a3f5f"
          },
          "geo": {
           "bgcolor": "white",
           "lakecolor": "white",
           "landcolor": "#E5ECF6",
           "showlakes": true,
           "showland": true,
           "subunitcolor": "white"
          },
          "hoverlabel": {
           "align": "left"
          },
          "hovermode": "closest",
          "mapbox": {
           "style": "light"
          },
          "paper_bgcolor": "white",
          "plot_bgcolor": "#E5ECF6",
          "polar": {
           "angularaxis": {
            "gridcolor": "white",
            "linecolor": "white",
            "ticks": ""
           },
           "bgcolor": "#E5ECF6",
           "radialaxis": {
            "gridcolor": "white",
            "linecolor": "white",
            "ticks": ""
           }
          },
          "scene": {
           "xaxis": {
            "backgroundcolor": "#E5ECF6",
            "gridcolor": "white",
            "gridwidth": 2,
            "linecolor": "white",
            "showbackground": true,
            "ticks": "",
            "zerolinecolor": "white"
           },
           "yaxis": {
            "backgroundcolor": "#E5ECF6",
            "gridcolor": "white",
            "gridwidth": 2,
            "linecolor": "white",
            "showbackground": true,
            "ticks": "",
            "zerolinecolor": "white"
           },
           "zaxis": {
            "backgroundcolor": "#E5ECF6",
            "gridcolor": "white",
            "gridwidth": 2,
            "linecolor": "white",
            "showbackground": true,
            "ticks": "",
            "zerolinecolor": "white"
           }
          },
          "shapedefaults": {
           "line": {
            "color": "#2a3f5f"
           }
          },
          "ternary": {
           "aaxis": {
            "gridcolor": "white",
            "linecolor": "white",
            "ticks": ""
           },
           "baxis": {
            "gridcolor": "white",
            "linecolor": "white",
            "ticks": ""
           },
           "bgcolor": "#E5ECF6",
           "caxis": {
            "gridcolor": "white",
            "linecolor": "white",
            "ticks": ""
           }
          },
          "title": {
           "x": 0.05
          },
          "xaxis": {
           "automargin": true,
           "gridcolor": "white",
           "linecolor": "white",
           "ticks": "",
           "title": {
            "standoff": 15
           },
           "zerolinecolor": "white",
           "zerolinewidth": 2
          },
          "yaxis": {
           "automargin": true,
           "gridcolor": "white",
           "linecolor": "white",
           "ticks": "",
           "title": {
            "standoff": 15
           },
           "zerolinecolor": "white",
           "zerolinewidth": 2
          }
         }
        },
        "title": {
         "text": "Structure with Highlighted Sites"
        }
       }
      }
     },
     "metadata": {},
     "output_type": "display_data"
    }
   ],
   "source": []
  },
  {
   "cell_type": "code",
   "execution_count": 49,
   "metadata": {},
   "outputs": [
    {
     "data": {
      "application/vnd.plotly.v1+json": {
       "config": {
        "plotlyServerURL": "https://plot.ly"
       },
       "data": [
        {
         "legendgroup": "Zr1",
         "marker": {
          "color": "blue",
          "size": 5
         },
         "mode": "markers",
         "name": "Zr1",
         "showlegend": true,
         "type": "scatter3d",
         "x": [
          2.467492691110972
         ],
         "y": [
          4.1901387813370965
         ],
         "z": [
          -0.890479591067531
         ]
        },
        {
         "legendgroup": "Ti1",
         "marker": {
          "color": "green",
          "size": 5
         },
         "mode": "markers",
         "name": "Ti1",
         "showlegend": true,
         "type": "scatter3d",
         "x": [
          8.64346010904411
         ],
         "y": [
          2.086387830339729
         ],
         "z": [
          3.5046318069160804
         ]
        },
        {
         "legendgroup": "Ti1",
         "marker": {
          "color": "green",
          "size": 5
         },
         "mode": "markers",
         "name": "Ti1",
         "showlegend": true,
         "type": "scatter3d",
         "x": [
          -2.4507341679340597
         ],
         "y": [
          4.256700521609587
         ],
         "z": [
          0.8621628203714329
         ]
        },
        {
         "legendgroup": "Ti1",
         "marker": {
          "color": "green",
          "size": 5
         },
         "mode": "markers",
         "name": "Ti1",
         "showlegend": true,
         "type": "scatter3d",
         "x": [
          2.510276195096395
         ],
         "y": [
          8.418985475800627
         ],
         "z": [
          -6.0874076047027135
         ]
        },
        {
         "legendgroup": "Ti1",
         "marker": {
          "color": "green",
          "size": 5
         },
         "mode": "markers",
         "name": "Ti1",
         "showlegend": true,
         "type": "scatter3d",
         "x": [
          6.043752581402659
         ],
         "y": [
          2.0351837073878642
         ],
         "z": [
          6.885356462832299
         ]
        },
        {
         "legendgroup": "Ti1",
         "marker": {
          "color": "green",
          "size": 5
         },
         "mode": "markers",
         "name": "Ti1",
         "showlegend": true,
         "type": "scatter3d",
         "x": [
          3.8427321344144603
         ],
         "y": [
          6.48722337509416
         ],
         "z": [
          0.036407504339613705
         ]
        },
        {
         "legendgroup": "V1",
         "marker": {
          "color": "orange",
          "size": 5
         },
         "mode": "markers",
         "name": "V1",
         "showlegend": true,
         "type": "scatter3d",
         "x": [
          -4.878939990730071
         ],
         "y": [
          8.438883762561435
         ],
         "z": [
          6.941436294111835
         ]
        },
        {
         "legendgroup": "V1",
         "marker": {
          "color": "orange",
          "size": 5
         },
         "mode": "markers",
         "name": "V1",
         "showlegend": true,
         "type": "scatter3d",
         "x": [
          4.969870839306011
         ],
         "y": [
          8.4549634941505
         ],
         "z": [
          -4.378678781059407
         ]
        },
        {
         "legendgroup": "V1",
         "marker": {
          "color": "orange",
          "size": 5
         },
         "mode": "markers",
         "name": "V1",
         "showlegend": true,
         "type": "scatter3d",
         "x": [
          -4.885500742018095
         ],
         "y": [
          8.465976962756969
         ],
         "z": [
          1.797721071373803
         ]
        },
        {
         "legendgroup": "V1",
         "marker": {
          "color": "orange",
          "size": 5
         },
         "mode": "markers",
         "name": "V1",
         "showlegend": true,
         "type": "scatter3d",
         "x": [
          -1.1796878693029167
         ],
         "y": [
          2.1283583239522232
         ],
         "z": [
          -0.7900251647128365
         ]
        },
        {
         "legendgroup": "V1",
         "marker": {
          "color": "orange",
          "size": 5
         },
         "mode": "markers",
         "name": "V1",
         "showlegend": true,
         "type": "scatter3d",
         "x": [
          -1.1622178505102887
         ],
         "y": [
          2.1081533989552526
         ],
         "z": [
          1.7838862601804797
         ]
        },
        {
         "legendgroup": "V1",
         "marker": {
          "color": "orange",
          "size": 5
         },
         "mode": "markers",
         "name": "V1",
         "showlegend": true,
         "type": "scatter3d",
         "x": [
          7.379959962240022
         ],
         "y": [
          4.227538825455724
         ],
         "z": [
          5.147825146130071
         ]
        },
        {
         "legendgroup": "V1",
         "marker": {
          "color": "orange",
          "size": 5
         },
         "mode": "markers",
         "name": "V1",
         "showlegend": true,
         "type": "scatter3d",
         "x": [
          -2.4580632642627145
         ],
         "y": [
          4.358168441384349
         ],
         "z": [
          3.544151811503631
         ]
        },
        {
         "legendgroup": "V1",
         "marker": {
          "color": "orange",
          "size": 5
         },
         "mode": "markers",
         "name": "V1",
         "showlegend": true,
         "type": "scatter3d",
         "x": [
          -2.4789404070091283
         ],
         "y": [
          4.33109072555316
         ],
         "z": [
          6.126598006281358
         ]
        },
        {
         "legendgroup": "V1",
         "marker": {
          "color": "orange",
          "size": 5
         },
         "mode": "markers",
         "name": "V1",
         "showlegend": true,
         "type": "scatter3d",
         "x": [
          -3.643426264095448
         ],
         "y": [
          6.3619535461809615
         ],
         "z": [
          -2.6242063555648043
         ]
        },
        {
         "legendgroup": "V1",
         "marker": {
          "color": "orange",
          "size": 5
         },
         "mode": "markers",
         "name": "V1",
         "showlegend": true,
         "type": "scatter3d",
         "x": [
          -3.7008890705796964
         ],
         "y": [
          6.431501584577198
         ],
         "z": [
          0.021221827690429684
         ]
        },
        {
         "legendgroup": "V1",
         "marker": {
          "color": "orange",
          "size": 5
         },
         "mode": "markers",
         "name": "V1",
         "showlegend": true,
         "type": "scatter3d",
         "x": [
          -3.679949378556645
         ],
         "y": [
          6.4001582251787115
         ],
         "z": [
          5.19355714605841
         ]
        },
        {
         "legendgroup": "V1",
         "marker": {
          "color": "orange",
          "size": 5
         },
         "mode": "markers",
         "name": "V1",
         "showlegend": true,
         "type": "scatter3d",
         "x": [
          -2.423926735931024
         ],
         "y": [
          8.40505043930455
         ],
         "z": [
          -4.3151744640857705
         ]
        },
        {
         "legendgroup": "V1",
         "marker": {
          "color": "orange",
          "size": 5
         },
         "mode": "markers",
         "name": "V1",
         "showlegend": true,
         "type": "scatter3d",
         "x": [
          -2.4672240475767544
         ],
         "y": [
          8.458016246433896
         ],
         "z": [
          -1.719021012199602
         ]
        },
        {
         "legendgroup": "V1",
         "marker": {
          "color": "orange",
          "size": 5
         },
         "mode": "markers",
         "name": "V1",
         "showlegend": true,
         "type": "scatter3d",
         "x": [
          2.460540481845263
         ],
         "y": [
          0.007269316867527265
         ],
         "z": [
          4.323839754392695
         ]
        },
        {
         "legendgroup": "V1",
         "marker": {
          "color": "orange",
          "size": 5
         },
         "mode": "markers",
         "name": "V1",
         "showlegend": true,
         "type": "scatter3d",
         "x": [
          -2.466680491493829
         ],
         "y": [
          8.413685592986408
         ],
         "z": [
          3.4766528342421963
         ]
        },
        {
         "legendgroup": "V1",
         "marker": {
          "color": "orange",
          "size": 5
         },
         "mode": "markers",
         "name": "V1",
         "showlegend": true,
         "type": "scatter3d",
         "x": [
          1.1442199042315284
         ],
         "y": [
          1.9371453954729454
         ],
         "z": [
          8.628899968584534
         ]
        },
        {
         "legendgroup": "V1",
         "marker": {
          "color": "orange",
          "size": 5
         },
         "mode": "markers",
         "name": "V1",
         "showlegend": true,
         "type": "scatter3d",
         "x": [
          1.2473102721014477
         ],
         "y": [
          2.076597822185375
         ],
         "z": [
          0.9115576065288563
         ]
        },
        {
         "legendgroup": "V1",
         "marker": {
          "color": "orange",
          "size": 5
         },
         "mode": "markers",
         "name": "V1",
         "showlegend": true,
         "type": "scatter3d",
         "x": [
          1.2561571207620117
         ],
         "y": [
          2.100151223368059
         ],
         "z": [
          3.4986995953139868
         ]
        },
        {
         "legendgroup": "V1",
         "marker": {
          "color": "orange",
          "size": 5
         },
         "mode": "markers",
         "name": "V1",
         "showlegend": true,
         "type": "scatter3d",
         "x": [
          1.2938720719767731
         ],
         "y": [
          2.1200100224849483
         ],
         "z": [
          6.063718613605467
         ]
        },
        {
         "legendgroup": "V1",
         "marker": {
          "color": "orange",
          "size": 5
         },
         "mode": "markers",
         "name": "V1",
         "showlegend": true,
         "type": "scatter3d",
         "x": [
          -0.05238960620881716
         ],
         "y": [
          4.373352955335116
         ],
         "z": [
          -2.6573728114307675
         ]
        },
        {
         "legendgroup": "V1",
         "marker": {
          "color": "orange",
          "size": 5
         },
         "mode": "markers",
         "name": "V1",
         "showlegend": true,
         "type": "scatter3d",
         "x": [
          -0.048613016938166886
         ],
         "y": [
          4.289159764887677
         ],
         "z": [
          0.02150857538865414
         ]
        },
        {
         "legendgroup": "V1",
         "marker": {
          "color": "orange",
          "size": 5
         },
         "mode": "markers",
         "name": "V1",
         "showlegend": true,
         "type": "scatter3d",
         "x": [
          0.0034101359111122775
         ],
         "y": [
          4.271626861369787
         ],
         "z": [
          2.6111076971492784
         ]
        },
        {
         "legendgroup": "V1",
         "marker": {
          "color": "orange",
          "size": 5
         },
         "mode": "markers",
         "name": "V1",
         "showlegend": true,
         "type": "scatter3d",
         "x": [
          -0.033452901722800465
         ],
         "y": [
          4.2863266635458315
         ],
         "z": [
          5.213464469017884
         ]
        },
        {
         "legendgroup": "V1",
         "marker": {
          "color": "orange",
          "size": 5
         },
         "mode": "markers",
         "name": "V1",
         "showlegend": true,
         "type": "scatter3d",
         "x": [
          -1.2660876039145097
         ],
         "y": [
          6.375167811010832
         ],
         "z": [
          -0.8863117777059548
         ]
        },
        {
         "legendgroup": "V1",
         "marker": {
          "color": "orange",
          "size": 5
         },
         "mode": "markers",
         "name": "V1",
         "showlegend": true,
         "type": "scatter3d",
         "x": [
          -1.25059534137801
         ],
         "y": [
          6.449561673615592
         ],
         "z": [
          1.8120499665407208
         ]
        },
        {
         "legendgroup": "V1",
         "marker": {
          "color": "orange",
          "size": 5
         },
         "mode": "markers",
         "name": "V1",
         "showlegend": true,
         "type": "scatter3d",
         "x": [
          -0.08044345736980141
         ],
         "y": [
          8.430154711872792
         ],
         "z": [
          5.154621295673608
         ]
        },
        {
         "legendgroup": "V1",
         "marker": {
          "color": "orange",
          "size": 5
         },
         "mode": "markers",
         "name": "V1",
         "showlegend": true,
         "type": "scatter3d",
         "x": [
          -0.038067691958871386
         ],
         "y": [
          8.43833080869348
         ],
         "z": [
          -2.6348036959780363
         ]
        },
        {
         "legendgroup": "V1",
         "marker": {
          "color": "orange",
          "size": 5
         },
         "mode": "markers",
         "name": "V1",
         "showlegend": true,
         "type": "scatter3d",
         "x": [
          4.893844976875548
         ],
         "y": [
          -0.00841225890278013
         ],
         "z": [
          3.524577976303694
         ]
        },
        {
         "legendgroup": "V1",
         "marker": {
          "color": "orange",
          "size": 5
         },
         "mode": "markers",
         "name": "V1",
         "showlegend": true,
         "type": "scatter3d",
         "x": [
          3.6263562310240687
         ],
         "y": [
          2.0705979783641575
         ],
         "z": [
          7.858845451874327
         ]
        },
        {
         "legendgroup": "V1",
         "marker": {
          "color": "orange",
          "size": 5
         },
         "mode": "markers",
         "name": "V1",
         "showlegend": true,
         "type": "scatter3d",
         "x": [
          3.760682138897436
         ],
         "y": [
          1.974599500630284
         ],
         "z": [
          0.043087908672958974
         ]
        },
        {
         "legendgroup": "V1",
         "marker": {
          "color": "orange",
          "size": 5
         },
         "mode": "markers",
         "name": "V1",
         "showlegend": true,
         "type": "scatter3d",
         "x": [
          3.685457597195139
         ],
         "y": [
          2.10219719873697
         ],
         "z": [
          2.615387132369681
         ]
        },
        {
         "legendgroup": "V1",
         "marker": {
          "color": "orange",
          "size": 5
         },
         "mode": "markers",
         "name": "V1",
         "showlegend": true,
         "type": "scatter3d",
         "x": [
          3.698501973082826
         ],
         "y": [
          2.060518155283462
         ],
         "z": [
          5.237813013194626
         ]
        },
        {
         "legendgroup": "V1",
         "marker": {
          "color": "orange",
          "size": 5
         },
         "mode": "markers",
         "name": "V1",
         "showlegend": true,
         "type": "scatter3d",
         "x": [
          2.425132673032855
         ],
         "y": [
          4.241132818777139
         ],
         "z": [
          6.819854328877482
         ]
        },
        {
         "legendgroup": "V1",
         "marker": {
          "color": "orange",
          "size": 5
         },
         "mode": "markers",
         "name": "V1",
         "showlegend": true,
         "type": "scatter3d",
         "x": [
          2.4710150788677727
         ],
         "y": [
          4.263983491493352
         ],
         "z": [
          1.8736699292333592
         ]
        },
        {
         "legendgroup": "V1",
         "marker": {
          "color": "orange",
          "size": 5
         },
         "mode": "markers",
         "name": "V1",
         "showlegend": true,
         "type": "scatter3d",
         "x": [
          2.451401402038911
         ],
         "y": [
          4.23822695231489
         ],
         "z": [
          4.3571020139119705
         ]
        },
        {
         "legendgroup": "V1",
         "marker": {
          "color": "orange",
          "size": 5
         },
         "mode": "markers",
         "name": "V1",
         "showlegend": true,
         "type": "scatter3d",
         "x": [
          1.1919879912657305
         ],
         "y": [
          6.377794560238157
         ],
         "z": [
          -4.3706843328424485
         ]
        },
        {
         "legendgroup": "V1",
         "marker": {
          "color": "orange",
          "size": 5
         },
         "mode": "markers",
         "name": "V1",
         "showlegend": true,
         "type": "scatter3d",
         "x": [
          1.1651873763015659
         ],
         "y": [
          6.4540458241374745
         ],
         "z": [
          -1.7789741792778677
         ]
        },
        {
         "legendgroup": "V1",
         "marker": {
          "color": "orange",
          "size": 5
         },
         "mode": "markers",
         "name": "V1",
         "showlegend": true,
         "type": "scatter3d",
         "x": [
          1.1951785911547446
         ],
         "y": [
          6.37406599166821
         ],
         "z": [
          0.889307898598759
         ]
        },
        {
         "legendgroup": "V1",
         "marker": {
          "color": "orange",
          "size": 5
         },
         "mode": "markers",
         "name": "V1",
         "showlegend": true,
         "type": "scatter3d",
         "x": [
          1.1219364685999476
         ],
         "y": [
          6.359312114437975
         ],
         "z": [
          3.4723960046585933
         ]
        },
        {
         "legendgroup": "V1",
         "marker": {
          "color": "orange",
          "size": 5
         },
         "mode": "markers",
         "name": "V1",
         "showlegend": true,
         "type": "scatter3d",
         "x": [
          2.462646706044443
         ],
         "y": [
          8.469618385131245
         ],
         "z": [
          -3.4504010237406
         ]
        },
        {
         "legendgroup": "V1",
         "marker": {
          "color": "orange",
          "size": 5
         },
         "mode": "markers",
         "name": "V1",
         "showlegend": true,
         "type": "scatter3d",
         "x": [
          2.3610535944310183
         ],
         "y": [
          8.464638909171
         ],
         "z": [
          -0.920611535497514
         ]
        },
        {
         "legendgroup": "V1",
         "marker": {
          "color": "orange",
          "size": 5
         },
         "mode": "markers",
         "name": "V1",
         "showlegend": true,
         "type": "scatter3d",
         "x": [
          2.4405544700564104
         ],
         "y": [
          8.474118904397288
         ],
         "z": [
          1.692768294046573
         ]
        },
        {
         "legendgroup": "V1",
         "marker": {
          "color": "orange",
          "size": 5
         },
         "mode": "markers",
         "name": "V1",
         "showlegend": true,
         "type": "scatter3d",
         "x": [
          6.147683883432375
         ],
         "y": [
          2.1024904783414535
         ],
         "z": [
          -0.8570930942698743
         ]
        },
        {
         "legendgroup": "V1",
         "marker": {
          "color": "orange",
          "size": 5
         },
         "mode": "markers",
         "name": "V1",
         "showlegend": true,
         "type": "scatter3d",
         "x": [
          6.161187792045048
         ],
         "y": [
          2.1349941124248373
         ],
         "z": [
          1.753111764623761
         ]
        },
        {
         "legendgroup": "V1",
         "marker": {
          "color": "orange",
          "size": 5
         },
         "mode": "markers",
         "name": "V1",
         "showlegend": true,
         "type": "scatter3d",
         "x": [
          6.079286937726145
         ],
         "y": [
          2.1306822504368172
         ],
         "z": [
          4.2715025018750445
         ]
        },
        {
         "legendgroup": "V1",
         "marker": {
          "color": "orange",
          "size": 5
         },
         "mode": "markers",
         "name": "V1",
         "showlegend": true,
         "type": "scatter3d",
         "x": [
          4.937336896274889
         ],
         "y": [
          4.304214473141048
         ],
         "z": [
          -4.408291930883687
         ]
        },
        {
         "legendgroup": "V1",
         "marker": {
          "color": "orange",
          "size": 5
         },
         "mode": "markers",
         "name": "V1",
         "showlegend": true,
         "type": "scatter3d",
         "x": [
          5.027634668164815
         ],
         "y": [
          4.3172351957425334
         ],
         "z": [
          -1.7132657371277134
         ]
        },
        {
         "legendgroup": "V1",
         "marker": {
          "color": "orange",
          "size": 5
         },
         "mode": "markers",
         "name": "V1",
         "showlegend": true,
         "type": "scatter3d",
         "x": [
          4.98088462623336
         ],
         "y": [
          4.200689607655577
         ],
         "z": [
          0.9285261627106531
         ]
        },
        {
         "legendgroup": "V1",
         "marker": {
          "color": "orange",
          "size": 5
         },
         "mode": "markers",
         "name": "V1",
         "showlegend": true,
         "type": "scatter3d",
         "x": [
          4.940507675055229
         ],
         "y": [
          4.253646381168566
         ],
         "z": [
          3.472164281128263
         ]
        },
        {
         "legendgroup": "V1",
         "marker": {
          "color": "orange",
          "size": 5
         },
         "mode": "markers",
         "name": "V1",
         "showlegend": true,
         "type": "scatter3d",
         "x": [
          3.7426731345812074
         ],
         "y": [
          6.3076669881453595
         ],
         "z": [
          5.237939552775358
         ]
        },
        {
         "legendgroup": "V1",
         "marker": {
          "color": "orange",
          "size": 5
         },
         "mode": "markers",
         "name": "V1",
         "showlegend": true,
         "type": "scatter3d",
         "x": [
          3.703494307586802
         ],
         "y": [
          6.3902242758171095
         ],
         "z": [
          -2.6999713520844737
         ]
        },
        {
         "legendgroup": "V1",
         "marker": {
          "color": "orange",
          "size": 5
         },
         "mode": "markers",
         "name": "V1",
         "showlegend": true,
         "type": "scatter3d",
         "x": [
          3.682914337967057
         ],
         "y": [
          6.366742482112152
         ],
         "z": [
          2.69313121950094
         ]
        },
        {
         "legendgroup": "Cr1",
         "marker": {
          "color": "purple",
          "size": 5
         },
         "mode": "markers",
         "name": "Cr1",
         "showlegend": true,
         "type": "scatter3d",
         "x": [
          0.07821572913356122
         ],
         "y": [
          0.007434177189720139
         ],
         "z": [
          7.893130248077385
         ]
        },
        {
         "legendgroup": "Cr1",
         "marker": {
          "color": "purple",
          "size": 5
         },
         "mode": "markers",
         "name": "Cr1",
         "showlegend": true,
         "type": "scatter3d",
         "x": [
          -3.6294841146092396
         ],
         "y": [
          6.378595786637654
         ],
         "z": [
          2.602758403524658
         ]
        },
        {
         "legendgroup": "Cr1",
         "marker": {
          "color": "purple",
          "size": 5
         },
         "mode": "markers",
         "name": "Cr1",
         "showlegend": true,
         "type": "scatter3d",
         "x": [
          -1.2699849551946074
         ],
         "y": [
          6.3666099931522595
         ],
         "z": [
          6.932549277812446
         ]
        },
        {
         "legendgroup": "Cr1",
         "marker": {
          "color": "purple",
          "size": 5
         },
         "mode": "markers",
         "name": "Cr1",
         "showlegend": true,
         "type": "scatter3d",
         "x": [
          -1.243723468818188
         ],
         "y": [
          6.359407739120602
         ],
         "z": [
          4.392386240175659
         ]
        },
        {
         "legendgroup": "Cr1",
         "marker": {
          "color": "purple",
          "size": 5
         },
         "mode": "markers",
         "name": "Cr1",
         "showlegend": true,
         "type": "scatter3d",
         "x": [
          -0.05536174754363721
         ],
         "y": [
          8.420670788922443
         ],
         "z": [
          2.591872065808253
         ]
        },
        {
         "legendgroup": "W1",
         "marker": {
          "color": "brown",
          "size": 5
         },
         "mode": "markers",
         "name": "W1",
         "showlegend": true,
         "type": "scatter3d",
         "x": [
          -1.2273198727272554
         ],
         "y": [
          2.1324027504677776
         ],
         "z": [
          4.340966803608512
         ]
        },
        {
         "legendgroup": "Highlighted V1",
         "marker": {
          "color": "red",
          "size": 10,
          "symbol": "diamond"
         },
         "mode": "markers",
         "name": "Highlighted V1",
         "showlegend": true,
         "type": "scatter3d",
         "x": [
          -0.048613016938166886
         ],
         "y": [
          4.289159764887677
         ],
         "z": [
          0.02150857538865414
         ]
        },
        {
         "legendgroup": "Highlighted V1",
         "marker": {
          "color": "red",
          "size": 10,
          "symbol": "diamond"
         },
         "mode": "markers",
         "name": "Highlighted V1",
         "showlegend": true,
         "type": "scatter3d",
         "x": [
          -1.1796878693029167
         ],
         "y": [
          2.1283583239522232
         ],
         "z": [
          -0.7900251647128365
         ]
        },
        {
         "legendgroup": "Highlighted V1",
         "marker": {
          "color": "red",
          "size": 10,
          "symbol": "diamond"
         },
         "mode": "markers",
         "name": "Highlighted V1",
         "showlegend": true,
         "type": "scatter3d",
         "x": [
          6.147683883432375
         ],
         "y": [
          2.1024904783414535
         ],
         "z": [
          -0.8570930942698743
         ]
        },
        {
         "legendgroup": "Highlighted Ti1",
         "marker": {
          "color": "red",
          "size": 10,
          "symbol": "diamond"
         },
         "mode": "markers",
         "name": "Highlighted Ti1",
         "showlegend": true,
         "type": "scatter3d",
         "x": [
          -2.4507341679340597
         ],
         "y": [
          4.256700521609587
         ],
         "z": [
          0.8621628203714329
         ]
        },
        {
         "legendgroup": "Highlighted Ti1",
         "marker": {
          "color": "red",
          "size": 10,
          "symbol": "diamond"
         },
         "mode": "markers",
         "name": "Highlighted Ti1",
         "showlegend": true,
         "type": "scatter3d",
         "x": [
          8.64346010904411
         ],
         "y": [
          2.086387830339729
         ],
         "z": [
          3.5046318069160804
         ]
        }
       ],
       "layout": {
        "scene": {
         "xaxis": {
          "title": {
           "text": "X"
          }
         },
         "yaxis": {
          "title": {
           "text": "Y"
          }
         },
         "zaxis": {
          "title": {
           "text": "Z"
          }
         }
        },
        "template": {
         "data": {
          "bar": [
           {
            "error_x": {
             "color": "#2a3f5f"
            },
            "error_y": {
             "color": "#2a3f5f"
            },
            "marker": {
             "line": {
              "color": "#E5ECF6",
              "width": 0.5
             },
             "pattern": {
              "fillmode": "overlay",
              "size": 10,
              "solidity": 0.2
             }
            },
            "type": "bar"
           }
          ],
          "barpolar": [
           {
            "marker": {
             "line": {
              "color": "#E5ECF6",
              "width": 0.5
             },
             "pattern": {
              "fillmode": "overlay",
              "size": 10,
              "solidity": 0.2
             }
            },
            "type": "barpolar"
           }
          ],
          "carpet": [
           {
            "aaxis": {
             "endlinecolor": "#2a3f5f",
             "gridcolor": "white",
             "linecolor": "white",
             "minorgridcolor": "white",
             "startlinecolor": "#2a3f5f"
            },
            "baxis": {
             "endlinecolor": "#2a3f5f",
             "gridcolor": "white",
             "linecolor": "white",
             "minorgridcolor": "white",
             "startlinecolor": "#2a3f5f"
            },
            "type": "carpet"
           }
          ],
          "choropleth": [
           {
            "colorbar": {
             "outlinewidth": 0,
             "ticks": ""
            },
            "type": "choropleth"
           }
          ],
          "contour": [
           {
            "colorbar": {
             "outlinewidth": 0,
             "ticks": ""
            },
            "colorscale": [
             [
              0,
              "#0d0887"
             ],
             [
              0.1111111111111111,
              "#46039f"
             ],
             [
              0.2222222222222222,
              "#7201a8"
             ],
             [
              0.3333333333333333,
              "#9c179e"
             ],
             [
              0.4444444444444444,
              "#bd3786"
             ],
             [
              0.5555555555555556,
              "#d8576b"
             ],
             [
              0.6666666666666666,
              "#ed7953"
             ],
             [
              0.7777777777777778,
              "#fb9f3a"
             ],
             [
              0.8888888888888888,
              "#fdca26"
             ],
             [
              1,
              "#f0f921"
             ]
            ],
            "type": "contour"
           }
          ],
          "contourcarpet": [
           {
            "colorbar": {
             "outlinewidth": 0,
             "ticks": ""
            },
            "type": "contourcarpet"
           }
          ],
          "heatmap": [
           {
            "colorbar": {
             "outlinewidth": 0,
             "ticks": ""
            },
            "colorscale": [
             [
              0,
              "#0d0887"
             ],
             [
              0.1111111111111111,
              "#46039f"
             ],
             [
              0.2222222222222222,
              "#7201a8"
             ],
             [
              0.3333333333333333,
              "#9c179e"
             ],
             [
              0.4444444444444444,
              "#bd3786"
             ],
             [
              0.5555555555555556,
              "#d8576b"
             ],
             [
              0.6666666666666666,
              "#ed7953"
             ],
             [
              0.7777777777777778,
              "#fb9f3a"
             ],
             [
              0.8888888888888888,
              "#fdca26"
             ],
             [
              1,
              "#f0f921"
             ]
            ],
            "type": "heatmap"
           }
          ],
          "heatmapgl": [
           {
            "colorbar": {
             "outlinewidth": 0,
             "ticks": ""
            },
            "colorscale": [
             [
              0,
              "#0d0887"
             ],
             [
              0.1111111111111111,
              "#46039f"
             ],
             [
              0.2222222222222222,
              "#7201a8"
             ],
             [
              0.3333333333333333,
              "#9c179e"
             ],
             [
              0.4444444444444444,
              "#bd3786"
             ],
             [
              0.5555555555555556,
              "#d8576b"
             ],
             [
              0.6666666666666666,
              "#ed7953"
             ],
             [
              0.7777777777777778,
              "#fb9f3a"
             ],
             [
              0.8888888888888888,
              "#fdca26"
             ],
             [
              1,
              "#f0f921"
             ]
            ],
            "type": "heatmapgl"
           }
          ],
          "histogram": [
           {
            "marker": {
             "pattern": {
              "fillmode": "overlay",
              "size": 10,
              "solidity": 0.2
             }
            },
            "type": "histogram"
           }
          ],
          "histogram2d": [
           {
            "colorbar": {
             "outlinewidth": 0,
             "ticks": ""
            },
            "colorscale": [
             [
              0,
              "#0d0887"
             ],
             [
              0.1111111111111111,
              "#46039f"
             ],
             [
              0.2222222222222222,
              "#7201a8"
             ],
             [
              0.3333333333333333,
              "#9c179e"
             ],
             [
              0.4444444444444444,
              "#bd3786"
             ],
             [
              0.5555555555555556,
              "#d8576b"
             ],
             [
              0.6666666666666666,
              "#ed7953"
             ],
             [
              0.7777777777777778,
              "#fb9f3a"
             ],
             [
              0.8888888888888888,
              "#fdca26"
             ],
             [
              1,
              "#f0f921"
             ]
            ],
            "type": "histogram2d"
           }
          ],
          "histogram2dcontour": [
           {
            "colorbar": {
             "outlinewidth": 0,
             "ticks": ""
            },
            "colorscale": [
             [
              0,
              "#0d0887"
             ],
             [
              0.1111111111111111,
              "#46039f"
             ],
             [
              0.2222222222222222,
              "#7201a8"
             ],
             [
              0.3333333333333333,
              "#9c179e"
             ],
             [
              0.4444444444444444,
              "#bd3786"
             ],
             [
              0.5555555555555556,
              "#d8576b"
             ],
             [
              0.6666666666666666,
              "#ed7953"
             ],
             [
              0.7777777777777778,
              "#fb9f3a"
             ],
             [
              0.8888888888888888,
              "#fdca26"
             ],
             [
              1,
              "#f0f921"
             ]
            ],
            "type": "histogram2dcontour"
           }
          ],
          "mesh3d": [
           {
            "colorbar": {
             "outlinewidth": 0,
             "ticks": ""
            },
            "type": "mesh3d"
           }
          ],
          "parcoords": [
           {
            "line": {
             "colorbar": {
              "outlinewidth": 0,
              "ticks": ""
             }
            },
            "type": "parcoords"
           }
          ],
          "pie": [
           {
            "automargin": true,
            "type": "pie"
           }
          ],
          "scatter": [
           {
            "fillpattern": {
             "fillmode": "overlay",
             "size": 10,
             "solidity": 0.2
            },
            "type": "scatter"
           }
          ],
          "scatter3d": [
           {
            "line": {
             "colorbar": {
              "outlinewidth": 0,
              "ticks": ""
             }
            },
            "marker": {
             "colorbar": {
              "outlinewidth": 0,
              "ticks": ""
             }
            },
            "type": "scatter3d"
           }
          ],
          "scattercarpet": [
           {
            "marker": {
             "colorbar": {
              "outlinewidth": 0,
              "ticks": ""
             }
            },
            "type": "scattercarpet"
           }
          ],
          "scattergeo": [
           {
            "marker": {
             "colorbar": {
              "outlinewidth": 0,
              "ticks": ""
             }
            },
            "type": "scattergeo"
           }
          ],
          "scattergl": [
           {
            "marker": {
             "colorbar": {
              "outlinewidth": 0,
              "ticks": ""
             }
            },
            "type": "scattergl"
           }
          ],
          "scattermapbox": [
           {
            "marker": {
             "colorbar": {
              "outlinewidth": 0,
              "ticks": ""
             }
            },
            "type": "scattermapbox"
           }
          ],
          "scatterpolar": [
           {
            "marker": {
             "colorbar": {
              "outlinewidth": 0,
              "ticks": ""
             }
            },
            "type": "scatterpolar"
           }
          ],
          "scatterpolargl": [
           {
            "marker": {
             "colorbar": {
              "outlinewidth": 0,
              "ticks": ""
             }
            },
            "type": "scatterpolargl"
           }
          ],
          "scatterternary": [
           {
            "marker": {
             "colorbar": {
              "outlinewidth": 0,
              "ticks": ""
             }
            },
            "type": "scatterternary"
           }
          ],
          "surface": [
           {
            "colorbar": {
             "outlinewidth": 0,
             "ticks": ""
            },
            "colorscale": [
             [
              0,
              "#0d0887"
             ],
             [
              0.1111111111111111,
              "#46039f"
             ],
             [
              0.2222222222222222,
              "#7201a8"
             ],
             [
              0.3333333333333333,
              "#9c179e"
             ],
             [
              0.4444444444444444,
              "#bd3786"
             ],
             [
              0.5555555555555556,
              "#d8576b"
             ],
             [
              0.6666666666666666,
              "#ed7953"
             ],
             [
              0.7777777777777778,
              "#fb9f3a"
             ],
             [
              0.8888888888888888,
              "#fdca26"
             ],
             [
              1,
              "#f0f921"
             ]
            ],
            "type": "surface"
           }
          ],
          "table": [
           {
            "cells": {
             "fill": {
              "color": "#EBF0F8"
             },
             "line": {
              "color": "white"
             }
            },
            "header": {
             "fill": {
              "color": "#C8D4E3"
             },
             "line": {
              "color": "white"
             }
            },
            "type": "table"
           }
          ]
         },
         "layout": {
          "annotationdefaults": {
           "arrowcolor": "#2a3f5f",
           "arrowhead": 0,
           "arrowwidth": 1
          },
          "autotypenumbers": "strict",
          "coloraxis": {
           "colorbar": {
            "outlinewidth": 0,
            "ticks": ""
           }
          },
          "colorscale": {
           "diverging": [
            [
             0,
             "#8e0152"
            ],
            [
             0.1,
             "#c51b7d"
            ],
            [
             0.2,
             "#de77ae"
            ],
            [
             0.3,
             "#f1b6da"
            ],
            [
             0.4,
             "#fde0ef"
            ],
            [
             0.5,
             "#f7f7f7"
            ],
            [
             0.6,
             "#e6f5d0"
            ],
            [
             0.7,
             "#b8e186"
            ],
            [
             0.8,
             "#7fbc41"
            ],
            [
             0.9,
             "#4d9221"
            ],
            [
             1,
             "#276419"
            ]
           ],
           "sequential": [
            [
             0,
             "#0d0887"
            ],
            [
             0.1111111111111111,
             "#46039f"
            ],
            [
             0.2222222222222222,
             "#7201a8"
            ],
            [
             0.3333333333333333,
             "#9c179e"
            ],
            [
             0.4444444444444444,
             "#bd3786"
            ],
            [
             0.5555555555555556,
             "#d8576b"
            ],
            [
             0.6666666666666666,
             "#ed7953"
            ],
            [
             0.7777777777777778,
             "#fb9f3a"
            ],
            [
             0.8888888888888888,
             "#fdca26"
            ],
            [
             1,
             "#f0f921"
            ]
           ],
           "sequentialminus": [
            [
             0,
             "#0d0887"
            ],
            [
             0.1111111111111111,
             "#46039f"
            ],
            [
             0.2222222222222222,
             "#7201a8"
            ],
            [
             0.3333333333333333,
             "#9c179e"
            ],
            [
             0.4444444444444444,
             "#bd3786"
            ],
            [
             0.5555555555555556,
             "#d8576b"
            ],
            [
             0.6666666666666666,
             "#ed7953"
            ],
            [
             0.7777777777777778,
             "#fb9f3a"
            ],
            [
             0.8888888888888888,
             "#fdca26"
            ],
            [
             1,
             "#f0f921"
            ]
           ]
          },
          "colorway": [
           "#636efa",
           "#EF553B",
           "#00cc96",
           "#ab63fa",
           "#FFA15A",
           "#19d3f3",
           "#FF6692",
           "#B6E880",
           "#FF97FF",
           "#FECB52"
          ],
          "font": {
           "color": "#2a3f5f"
          },
          "geo": {
           "bgcolor": "white",
           "lakecolor": "white",
           "landcolor": "#E5ECF6",
           "showlakes": true,
           "showland": true,
           "subunitcolor": "white"
          },
          "hoverlabel": {
           "align": "left"
          },
          "hovermode": "closest",
          "mapbox": {
           "style": "light"
          },
          "paper_bgcolor": "white",
          "plot_bgcolor": "#E5ECF6",
          "polar": {
           "angularaxis": {
            "gridcolor": "white",
            "linecolor": "white",
            "ticks": ""
           },
           "bgcolor": "#E5ECF6",
           "radialaxis": {
            "gridcolor": "white",
            "linecolor": "white",
            "ticks": ""
           }
          },
          "scene": {
           "xaxis": {
            "backgroundcolor": "#E5ECF6",
            "gridcolor": "white",
            "gridwidth": 2,
            "linecolor": "white",
            "showbackground": true,
            "ticks": "",
            "zerolinecolor": "white"
           },
           "yaxis": {
            "backgroundcolor": "#E5ECF6",
            "gridcolor": "white",
            "gridwidth": 2,
            "linecolor": "white",
            "showbackground": true,
            "ticks": "",
            "zerolinecolor": "white"
           },
           "zaxis": {
            "backgroundcolor": "#E5ECF6",
            "gridcolor": "white",
            "gridwidth": 2,
            "linecolor": "white",
            "showbackground": true,
            "ticks": "",
            "zerolinecolor": "white"
           }
          },
          "shapedefaults": {
           "line": {
            "color": "#2a3f5f"
           }
          },
          "ternary": {
           "aaxis": {
            "gridcolor": "white",
            "linecolor": "white",
            "ticks": ""
           },
           "baxis": {
            "gridcolor": "white",
            "linecolor": "white",
            "ticks": ""
           },
           "bgcolor": "#E5ECF6",
           "caxis": {
            "gridcolor": "white",
            "linecolor": "white",
            "ticks": ""
           }
          },
          "title": {
           "x": 0.05
          },
          "xaxis": {
           "automargin": true,
           "gridcolor": "white",
           "linecolor": "white",
           "ticks": "",
           "title": {
            "standoff": 15
           },
           "zerolinecolor": "white",
           "zerolinewidth": 2
          },
          "yaxis": {
           "automargin": true,
           "gridcolor": "white",
           "linecolor": "white",
           "ticks": "",
           "title": {
            "standoff": 15
           },
           "zerolinecolor": "white",
           "zerolinewidth": 2
          }
         }
        },
        "title": {
         "text": "Structure with Highlighted Sites"
        }
       }
      }
     },
     "metadata": {},
     "output_type": "display_data"
    }
   ],
   "source": [
    "import numpy as np\n",
    "import random\n",
    "from pymatgen.core.structure import Structure\n",
    "from pymatgen.core.sites import Site\n",
    "import plotly.graph_objects as go\n",
    "from collections import defaultdict\n",
    "import itertools\n",
    "\n",
    "# Define a list of colors for different elements\n",
    "color_cycle = itertools.cycle([\n",
    "    'blue', 'green', 'orange', 'purple', 'brown', 'pink', 'gray', 'cyan', 'magenta'\n",
    "])\n",
    "\n",
    "def custom_distance(site1: Site, site2: Site) -> float:\n",
    "    geometric_dist = site1.distance(site2)\n",
    "    composition_dist = sum((site1.species.elements[i].X - site2.species.elements[i].X)**2 for i in range(len(site1.species.elements)))\n",
    "    return geometric_dist + composition_dist\n",
    "\n",
    "def identify_highest_complexity_sites(structure, top_n=3, concentration_threshold=0.5):\n",
    "    sites = structure.sites\n",
    "    complexity_scores = np.zeros(len(sites))\n",
    "    \n",
    "    for i, site1 in enumerate(sites):\n",
    "        for site2 in sites:\n",
    "            complexity_scores[i] += custom_distance(site1, site2)\n",
    "    \n",
    "    top_indices = complexity_scores.argsort()[::-1]\n",
    "    \n",
    "    element_counts = defaultdict(int)\n",
    "    for site in sites:\n",
    "        element_counts[str(site.species)] += 1\n",
    "    \n",
    "    selected_sites = []\n",
    "    for index in top_indices:\n",
    "        if len(selected_sites) >= top_n:\n",
    "            break\n",
    "        site = sites[index]\n",
    "        element = str(site.species)\n",
    "        if element_counts[element] > 2 or (element_counts[element] > 1 and element_counts[element] - 1 >= (1 - concentration_threshold) * element_counts[element]):\n",
    "            selected_sites.append(site)\n",
    "            element_counts[element] -= 1\n",
    "        else:\n",
    "            # Find a nearby site with comparable complexity and an element with more than 2 in the structure\n",
    "            min_dist = float('inf')\n",
    "            best_site = None\n",
    "            for other_site in sites:\n",
    "                other_element = str(other_site.species)\n",
    "                if other_site not in selected_sites and element_counts[other_element] > 2:\n",
    "                    dist = site.distance(other_site)\n",
    "                    if dist < min_dist and complexity_scores[sites.index(other_site)] >= complexity_scores[index] * 0.9:\n",
    "                        min_dist = dist\n",
    "                        best_site = other_site\n",
    "            if best_site:\n",
    "                selected_sites.append(best_site)\n",
    "                element_counts[str(best_site.species)] -= 1\n",
    "\n",
    "    return selected_sites\n",
    "\n",
    "def plot_structure_with_highlighted_sites(structure, top_sites):\n",
    "    fig = go.Figure()\n",
    "    \n",
    "    element_colors = defaultdict(lambda: next(color_cycle))\n",
    "    \n",
    "    # Plot all sites by element type\n",
    "    for site in structure:\n",
    "        element = str(site.species)\n",
    "        color = element_colors[element]\n",
    "        fig.add_trace(go.Scatter3d(\n",
    "            x=[site.x],\n",
    "            y=[site.y],\n",
    "            z=[site.z],\n",
    "            mode='markers',\n",
    "            marker=dict(size=5, color=color),\n",
    "            name=element,\n",
    "            legendgroup=element,\n",
    "            showlegend=True\n",
    "        ))\n",
    "\n",
    "    # Highlight top sites\n",
    "    for site in top_sites:\n",
    "        element = str(site.species)\n",
    "        fig.add_trace(go.Scatter3d(\n",
    "            x=[site.x],\n",
    "            y=[site.y],\n",
    "            z=[site.z],\n",
    "            mode='markers',\n",
    "            marker=dict(size=10, color='red', symbol='diamond'),\n",
    "            name=f'Highlighted {element}',\n",
    "            legendgroup=f'Highlighted {element}',\n",
    "            showlegend=True\n",
    "        ))\n",
    "\n",
    "    # Update layout for better visualization\n",
    "    fig.update_layout(scene=dict(\n",
    "        xaxis_title='X',\n",
    "        yaxis_title='Y',\n",
    "        zaxis_title='Z'),\n",
    "        title=\"Structure with Highlighted Sites\"\n",
    "    )\n",
    "\n",
    "    fig.show()\n",
    "\n",
    "# Example usage:\n",
    "# Load your structure\n",
    "#structure = Structure.from_file(\"POSCAR\")\n",
    "\n",
    "# Identify the top sites with highest chemical complexity\n",
    "top_sites = identify_highest_complexity_sites(structure,top_n=5)\n",
    "\n",
    "# Plot the structure and highlight the top sites\n",
    "plot_structure_with_highlighted_sites(structure, top_sites)\n"
   ]
  },
  {
   "cell_type": "code",
   "execution_count": 57,
   "metadata": {},
   "outputs": [
    {
     "data": {
      "application/vnd.plotly.v1+json": {
       "config": {
        "plotlyServerURL": "https://plot.ly"
       },
       "data": [
        {
         "legendgroup": "Zr1",
         "marker": {
          "color": "blue",
          "size": 5
         },
         "mode": "markers",
         "name": "Zr1",
         "showlegend": true,
         "type": "scatter3d",
         "x": [
          2.467492691110972
         ],
         "y": [
          4.1901387813370965
         ],
         "z": [
          -0.890479591067531
         ]
        },
        {
         "legendgroup": "Ti1",
         "marker": {
          "color": "green",
          "size": 5
         },
         "mode": "markers",
         "name": "Ti1",
         "showlegend": true,
         "type": "scatter3d",
         "x": [
          8.64346010904411
         ],
         "y": [
          2.086387830339729
         ],
         "z": [
          3.5046318069160804
         ]
        },
        {
         "legendgroup": "Ti1",
         "marker": {
          "color": "green",
          "size": 5
         },
         "mode": "markers",
         "name": "Ti1",
         "showlegend": true,
         "type": "scatter3d",
         "x": [
          -2.4507341679340597
         ],
         "y": [
          4.256700521609587
         ],
         "z": [
          0.8621628203714329
         ]
        },
        {
         "legendgroup": "Ti1",
         "marker": {
          "color": "green",
          "size": 5
         },
         "mode": "markers",
         "name": "Ti1",
         "showlegend": true,
         "type": "scatter3d",
         "x": [
          2.510276195096395
         ],
         "y": [
          8.418985475800627
         ],
         "z": [
          -6.0874076047027135
         ]
        },
        {
         "legendgroup": "Ti1",
         "marker": {
          "color": "green",
          "size": 5
         },
         "mode": "markers",
         "name": "Ti1",
         "showlegend": true,
         "type": "scatter3d",
         "x": [
          6.043752581402659
         ],
         "y": [
          2.0351837073878642
         ],
         "z": [
          6.885356462832299
         ]
        },
        {
         "legendgroup": "Ti1",
         "marker": {
          "color": "green",
          "size": 5
         },
         "mode": "markers",
         "name": "Ti1",
         "showlegend": true,
         "type": "scatter3d",
         "x": [
          3.8427321344144603
         ],
         "y": [
          6.48722337509416
         ],
         "z": [
          0.036407504339613705
         ]
        },
        {
         "legendgroup": "V1",
         "marker": {
          "color": "orange",
          "size": 5
         },
         "mode": "markers",
         "name": "V1",
         "showlegend": true,
         "type": "scatter3d",
         "x": [
          -4.878939990730071
         ],
         "y": [
          8.438883762561435
         ],
         "z": [
          6.941436294111835
         ]
        },
        {
         "legendgroup": "V1",
         "marker": {
          "color": "orange",
          "size": 5
         },
         "mode": "markers",
         "name": "V1",
         "showlegend": true,
         "type": "scatter3d",
         "x": [
          4.969870839306011
         ],
         "y": [
          8.4549634941505
         ],
         "z": [
          -4.378678781059407
         ]
        },
        {
         "legendgroup": "V1",
         "marker": {
          "color": "orange",
          "size": 5
         },
         "mode": "markers",
         "name": "V1",
         "showlegend": true,
         "type": "scatter3d",
         "x": [
          -4.885500742018095
         ],
         "y": [
          8.465976962756969
         ],
         "z": [
          1.797721071373803
         ]
        },
        {
         "legendgroup": "V1",
         "marker": {
          "color": "orange",
          "size": 5
         },
         "mode": "markers",
         "name": "V1",
         "showlegend": true,
         "type": "scatter3d",
         "x": [
          -1.1796878693029167
         ],
         "y": [
          2.1283583239522232
         ],
         "z": [
          -0.7900251647128365
         ]
        },
        {
         "legendgroup": "V1",
         "marker": {
          "color": "orange",
          "size": 5
         },
         "mode": "markers",
         "name": "V1",
         "showlegend": true,
         "type": "scatter3d",
         "x": [
          -1.1622178505102887
         ],
         "y": [
          2.1081533989552526
         ],
         "z": [
          1.7838862601804797
         ]
        },
        {
         "legendgroup": "V1",
         "marker": {
          "color": "orange",
          "size": 5
         },
         "mode": "markers",
         "name": "V1",
         "showlegend": true,
         "type": "scatter3d",
         "x": [
          7.379959962240022
         ],
         "y": [
          4.227538825455724
         ],
         "z": [
          5.147825146130071
         ]
        },
        {
         "legendgroup": "V1",
         "marker": {
          "color": "orange",
          "size": 5
         },
         "mode": "markers",
         "name": "V1",
         "showlegend": true,
         "type": "scatter3d",
         "x": [
          -2.4580632642627145
         ],
         "y": [
          4.358168441384349
         ],
         "z": [
          3.544151811503631
         ]
        },
        {
         "legendgroup": "V1",
         "marker": {
          "color": "orange",
          "size": 5
         },
         "mode": "markers",
         "name": "V1",
         "showlegend": true,
         "type": "scatter3d",
         "x": [
          -2.4789404070091283
         ],
         "y": [
          4.33109072555316
         ],
         "z": [
          6.126598006281358
         ]
        },
        {
         "legendgroup": "V1",
         "marker": {
          "color": "orange",
          "size": 5
         },
         "mode": "markers",
         "name": "V1",
         "showlegend": true,
         "type": "scatter3d",
         "x": [
          -3.643426264095448
         ],
         "y": [
          6.3619535461809615
         ],
         "z": [
          -2.6242063555648043
         ]
        },
        {
         "legendgroup": "V1",
         "marker": {
          "color": "orange",
          "size": 5
         },
         "mode": "markers",
         "name": "V1",
         "showlegend": true,
         "type": "scatter3d",
         "x": [
          -3.7008890705796964
         ],
         "y": [
          6.431501584577198
         ],
         "z": [
          0.021221827690429684
         ]
        },
        {
         "legendgroup": "V1",
         "marker": {
          "color": "orange",
          "size": 5
         },
         "mode": "markers",
         "name": "V1",
         "showlegend": true,
         "type": "scatter3d",
         "x": [
          -3.679949378556645
         ],
         "y": [
          6.4001582251787115
         ],
         "z": [
          5.19355714605841
         ]
        },
        {
         "legendgroup": "V1",
         "marker": {
          "color": "orange",
          "size": 5
         },
         "mode": "markers",
         "name": "V1",
         "showlegend": true,
         "type": "scatter3d",
         "x": [
          -2.423926735931024
         ],
         "y": [
          8.40505043930455
         ],
         "z": [
          -4.3151744640857705
         ]
        },
        {
         "legendgroup": "V1",
         "marker": {
          "color": "orange",
          "size": 5
         },
         "mode": "markers",
         "name": "V1",
         "showlegend": true,
         "type": "scatter3d",
         "x": [
          -2.4672240475767544
         ],
         "y": [
          8.458016246433896
         ],
         "z": [
          -1.719021012199602
         ]
        },
        {
         "legendgroup": "V1",
         "marker": {
          "color": "orange",
          "size": 5
         },
         "mode": "markers",
         "name": "V1",
         "showlegend": true,
         "type": "scatter3d",
         "x": [
          2.460540481845263
         ],
         "y": [
          0.007269316867527265
         ],
         "z": [
          4.323839754392695
         ]
        },
        {
         "legendgroup": "V1",
         "marker": {
          "color": "orange",
          "size": 5
         },
         "mode": "markers",
         "name": "V1",
         "showlegend": true,
         "type": "scatter3d",
         "x": [
          -2.466680491493829
         ],
         "y": [
          8.413685592986408
         ],
         "z": [
          3.4766528342421963
         ]
        },
        {
         "legendgroup": "V1",
         "marker": {
          "color": "orange",
          "size": 5
         },
         "mode": "markers",
         "name": "V1",
         "showlegend": true,
         "type": "scatter3d",
         "x": [
          1.1442199042315284
         ],
         "y": [
          1.9371453954729454
         ],
         "z": [
          8.628899968584534
         ]
        },
        {
         "legendgroup": "V1",
         "marker": {
          "color": "orange",
          "size": 5
         },
         "mode": "markers",
         "name": "V1",
         "showlegend": true,
         "type": "scatter3d",
         "x": [
          1.2473102721014477
         ],
         "y": [
          2.076597822185375
         ],
         "z": [
          0.9115576065288563
         ]
        },
        {
         "legendgroup": "V1",
         "marker": {
          "color": "orange",
          "size": 5
         },
         "mode": "markers",
         "name": "V1",
         "showlegend": true,
         "type": "scatter3d",
         "x": [
          1.2561571207620117
         ],
         "y": [
          2.100151223368059
         ],
         "z": [
          3.4986995953139868
         ]
        },
        {
         "legendgroup": "V1",
         "marker": {
          "color": "orange",
          "size": 5
         },
         "mode": "markers",
         "name": "V1",
         "showlegend": true,
         "type": "scatter3d",
         "x": [
          1.2938720719767731
         ],
         "y": [
          2.1200100224849483
         ],
         "z": [
          6.063718613605467
         ]
        },
        {
         "legendgroup": "V1",
         "marker": {
          "color": "orange",
          "size": 5
         },
         "mode": "markers",
         "name": "V1",
         "showlegend": true,
         "type": "scatter3d",
         "x": [
          -0.05238960620881716
         ],
         "y": [
          4.373352955335116
         ],
         "z": [
          -2.6573728114307675
         ]
        },
        {
         "legendgroup": "V1",
         "marker": {
          "color": "orange",
          "size": 5
         },
         "mode": "markers",
         "name": "V1",
         "showlegend": true,
         "type": "scatter3d",
         "x": [
          -0.048613016938166886
         ],
         "y": [
          4.289159764887677
         ],
         "z": [
          0.02150857538865414
         ]
        },
        {
         "legendgroup": "V1",
         "marker": {
          "color": "orange",
          "size": 5
         },
         "mode": "markers",
         "name": "V1",
         "showlegend": true,
         "type": "scatter3d",
         "x": [
          0.0034101359111122775
         ],
         "y": [
          4.271626861369787
         ],
         "z": [
          2.6111076971492784
         ]
        },
        {
         "legendgroup": "V1",
         "marker": {
          "color": "orange",
          "size": 5
         },
         "mode": "markers",
         "name": "V1",
         "showlegend": true,
         "type": "scatter3d",
         "x": [
          -0.033452901722800465
         ],
         "y": [
          4.2863266635458315
         ],
         "z": [
          5.213464469017884
         ]
        },
        {
         "legendgroup": "V1",
         "marker": {
          "color": "orange",
          "size": 5
         },
         "mode": "markers",
         "name": "V1",
         "showlegend": true,
         "type": "scatter3d",
         "x": [
          -1.2660876039145097
         ],
         "y": [
          6.375167811010832
         ],
         "z": [
          -0.8863117777059548
         ]
        },
        {
         "legendgroup": "V1",
         "marker": {
          "color": "orange",
          "size": 5
         },
         "mode": "markers",
         "name": "V1",
         "showlegend": true,
         "type": "scatter3d",
         "x": [
          -1.25059534137801
         ],
         "y": [
          6.449561673615592
         ],
         "z": [
          1.8120499665407208
         ]
        },
        {
         "legendgroup": "V1",
         "marker": {
          "color": "orange",
          "size": 5
         },
         "mode": "markers",
         "name": "V1",
         "showlegend": true,
         "type": "scatter3d",
         "x": [
          -0.08044345736980141
         ],
         "y": [
          8.430154711872792
         ],
         "z": [
          5.154621295673608
         ]
        },
        {
         "legendgroup": "V1",
         "marker": {
          "color": "orange",
          "size": 5
         },
         "mode": "markers",
         "name": "V1",
         "showlegend": true,
         "type": "scatter3d",
         "x": [
          -0.038067691958871386
         ],
         "y": [
          8.43833080869348
         ],
         "z": [
          -2.6348036959780363
         ]
        },
        {
         "legendgroup": "V1",
         "marker": {
          "color": "orange",
          "size": 5
         },
         "mode": "markers",
         "name": "V1",
         "showlegend": true,
         "type": "scatter3d",
         "x": [
          4.893844976875548
         ],
         "y": [
          -0.00841225890278013
         ],
         "z": [
          3.524577976303694
         ]
        },
        {
         "legendgroup": "V1",
         "marker": {
          "color": "orange",
          "size": 5
         },
         "mode": "markers",
         "name": "V1",
         "showlegend": true,
         "type": "scatter3d",
         "x": [
          3.6263562310240687
         ],
         "y": [
          2.0705979783641575
         ],
         "z": [
          7.858845451874327
         ]
        },
        {
         "legendgroup": "V1",
         "marker": {
          "color": "orange",
          "size": 5
         },
         "mode": "markers",
         "name": "V1",
         "showlegend": true,
         "type": "scatter3d",
         "x": [
          3.760682138897436
         ],
         "y": [
          1.974599500630284
         ],
         "z": [
          0.043087908672958974
         ]
        },
        {
         "legendgroup": "V1",
         "marker": {
          "color": "orange",
          "size": 5
         },
         "mode": "markers",
         "name": "V1",
         "showlegend": true,
         "type": "scatter3d",
         "x": [
          3.685457597195139
         ],
         "y": [
          2.10219719873697
         ],
         "z": [
          2.615387132369681
         ]
        },
        {
         "legendgroup": "V1",
         "marker": {
          "color": "orange",
          "size": 5
         },
         "mode": "markers",
         "name": "V1",
         "showlegend": true,
         "type": "scatter3d",
         "x": [
          3.698501973082826
         ],
         "y": [
          2.060518155283462
         ],
         "z": [
          5.237813013194626
         ]
        },
        {
         "legendgroup": "V1",
         "marker": {
          "color": "orange",
          "size": 5
         },
         "mode": "markers",
         "name": "V1",
         "showlegend": true,
         "type": "scatter3d",
         "x": [
          2.425132673032855
         ],
         "y": [
          4.241132818777139
         ],
         "z": [
          6.819854328877482
         ]
        },
        {
         "legendgroup": "V1",
         "marker": {
          "color": "orange",
          "size": 5
         },
         "mode": "markers",
         "name": "V1",
         "showlegend": true,
         "type": "scatter3d",
         "x": [
          2.4710150788677727
         ],
         "y": [
          4.263983491493352
         ],
         "z": [
          1.8736699292333592
         ]
        },
        {
         "legendgroup": "V1",
         "marker": {
          "color": "orange",
          "size": 5
         },
         "mode": "markers",
         "name": "V1",
         "showlegend": true,
         "type": "scatter3d",
         "x": [
          2.451401402038911
         ],
         "y": [
          4.23822695231489
         ],
         "z": [
          4.3571020139119705
         ]
        },
        {
         "legendgroup": "V1",
         "marker": {
          "color": "orange",
          "size": 5
         },
         "mode": "markers",
         "name": "V1",
         "showlegend": true,
         "type": "scatter3d",
         "x": [
          1.1919879912657305
         ],
         "y": [
          6.377794560238157
         ],
         "z": [
          -4.3706843328424485
         ]
        },
        {
         "legendgroup": "V1",
         "marker": {
          "color": "orange",
          "size": 5
         },
         "mode": "markers",
         "name": "V1",
         "showlegend": true,
         "type": "scatter3d",
         "x": [
          1.1651873763015659
         ],
         "y": [
          6.4540458241374745
         ],
         "z": [
          -1.7789741792778677
         ]
        },
        {
         "legendgroup": "V1",
         "marker": {
          "color": "orange",
          "size": 5
         },
         "mode": "markers",
         "name": "V1",
         "showlegend": true,
         "type": "scatter3d",
         "x": [
          1.1951785911547446
         ],
         "y": [
          6.37406599166821
         ],
         "z": [
          0.889307898598759
         ]
        },
        {
         "legendgroup": "V1",
         "marker": {
          "color": "orange",
          "size": 5
         },
         "mode": "markers",
         "name": "V1",
         "showlegend": true,
         "type": "scatter3d",
         "x": [
          1.1219364685999476
         ],
         "y": [
          6.359312114437975
         ],
         "z": [
          3.4723960046585933
         ]
        },
        {
         "legendgroup": "V1",
         "marker": {
          "color": "orange",
          "size": 5
         },
         "mode": "markers",
         "name": "V1",
         "showlegend": true,
         "type": "scatter3d",
         "x": [
          2.462646706044443
         ],
         "y": [
          8.469618385131245
         ],
         "z": [
          -3.4504010237406
         ]
        },
        {
         "legendgroup": "V1",
         "marker": {
          "color": "orange",
          "size": 5
         },
         "mode": "markers",
         "name": "V1",
         "showlegend": true,
         "type": "scatter3d",
         "x": [
          2.3610535944310183
         ],
         "y": [
          8.464638909171
         ],
         "z": [
          -0.920611535497514
         ]
        },
        {
         "legendgroup": "V1",
         "marker": {
          "color": "orange",
          "size": 5
         },
         "mode": "markers",
         "name": "V1",
         "showlegend": true,
         "type": "scatter3d",
         "x": [
          2.4405544700564104
         ],
         "y": [
          8.474118904397288
         ],
         "z": [
          1.692768294046573
         ]
        },
        {
         "legendgroup": "V1",
         "marker": {
          "color": "orange",
          "size": 5
         },
         "mode": "markers",
         "name": "V1",
         "showlegend": true,
         "type": "scatter3d",
         "x": [
          6.147683883432375
         ],
         "y": [
          2.1024904783414535
         ],
         "z": [
          -0.8570930942698743
         ]
        },
        {
         "legendgroup": "V1",
         "marker": {
          "color": "orange",
          "size": 5
         },
         "mode": "markers",
         "name": "V1",
         "showlegend": true,
         "type": "scatter3d",
         "x": [
          6.161187792045048
         ],
         "y": [
          2.1349941124248373
         ],
         "z": [
          1.753111764623761
         ]
        },
        {
         "legendgroup": "V1",
         "marker": {
          "color": "orange",
          "size": 5
         },
         "mode": "markers",
         "name": "V1",
         "showlegend": true,
         "type": "scatter3d",
         "x": [
          6.079286937726145
         ],
         "y": [
          2.1306822504368172
         ],
         "z": [
          4.2715025018750445
         ]
        },
        {
         "legendgroup": "V1",
         "marker": {
          "color": "orange",
          "size": 5
         },
         "mode": "markers",
         "name": "V1",
         "showlegend": true,
         "type": "scatter3d",
         "x": [
          4.937336896274889
         ],
         "y": [
          4.304214473141048
         ],
         "z": [
          -4.408291930883687
         ]
        },
        {
         "legendgroup": "V1",
         "marker": {
          "color": "orange",
          "size": 5
         },
         "mode": "markers",
         "name": "V1",
         "showlegend": true,
         "type": "scatter3d",
         "x": [
          5.027634668164815
         ],
         "y": [
          4.3172351957425334
         ],
         "z": [
          -1.7132657371277134
         ]
        },
        {
         "legendgroup": "V1",
         "marker": {
          "color": "orange",
          "size": 5
         },
         "mode": "markers",
         "name": "V1",
         "showlegend": true,
         "type": "scatter3d",
         "x": [
          4.98088462623336
         ],
         "y": [
          4.200689607655577
         ],
         "z": [
          0.9285261627106531
         ]
        },
        {
         "legendgroup": "V1",
         "marker": {
          "color": "orange",
          "size": 5
         },
         "mode": "markers",
         "name": "V1",
         "showlegend": true,
         "type": "scatter3d",
         "x": [
          4.940507675055229
         ],
         "y": [
          4.253646381168566
         ],
         "z": [
          3.472164281128263
         ]
        },
        {
         "legendgroup": "V1",
         "marker": {
          "color": "orange",
          "size": 5
         },
         "mode": "markers",
         "name": "V1",
         "showlegend": true,
         "type": "scatter3d",
         "x": [
          3.7426731345812074
         ],
         "y": [
          6.3076669881453595
         ],
         "z": [
          5.237939552775358
         ]
        },
        {
         "legendgroup": "V1",
         "marker": {
          "color": "orange",
          "size": 5
         },
         "mode": "markers",
         "name": "V1",
         "showlegend": true,
         "type": "scatter3d",
         "x": [
          3.703494307586802
         ],
         "y": [
          6.3902242758171095
         ],
         "z": [
          -2.6999713520844737
         ]
        },
        {
         "legendgroup": "V1",
         "marker": {
          "color": "orange",
          "size": 5
         },
         "mode": "markers",
         "name": "V1",
         "showlegend": true,
         "type": "scatter3d",
         "x": [
          3.682914337967057
         ],
         "y": [
          6.366742482112152
         ],
         "z": [
          2.69313121950094
         ]
        },
        {
         "legendgroup": "Cr1",
         "marker": {
          "color": "purple",
          "size": 5
         },
         "mode": "markers",
         "name": "Cr1",
         "showlegend": true,
         "type": "scatter3d",
         "x": [
          0.07821572913356122
         ],
         "y": [
          0.007434177189720139
         ],
         "z": [
          7.893130248077385
         ]
        },
        {
         "legendgroup": "Cr1",
         "marker": {
          "color": "purple",
          "size": 5
         },
         "mode": "markers",
         "name": "Cr1",
         "showlegend": true,
         "type": "scatter3d",
         "x": [
          -3.6294841146092396
         ],
         "y": [
          6.378595786637654
         ],
         "z": [
          2.602758403524658
         ]
        },
        {
         "legendgroup": "Cr1",
         "marker": {
          "color": "purple",
          "size": 5
         },
         "mode": "markers",
         "name": "Cr1",
         "showlegend": true,
         "type": "scatter3d",
         "x": [
          -1.2699849551946074
         ],
         "y": [
          6.3666099931522595
         ],
         "z": [
          6.932549277812446
         ]
        },
        {
         "legendgroup": "Cr1",
         "marker": {
          "color": "purple",
          "size": 5
         },
         "mode": "markers",
         "name": "Cr1",
         "showlegend": true,
         "type": "scatter3d",
         "x": [
          -1.243723468818188
         ],
         "y": [
          6.359407739120602
         ],
         "z": [
          4.392386240175659
         ]
        },
        {
         "legendgroup": "Cr1",
         "marker": {
          "color": "purple",
          "size": 5
         },
         "mode": "markers",
         "name": "Cr1",
         "showlegend": true,
         "type": "scatter3d",
         "x": [
          -0.05536174754363721
         ],
         "y": [
          8.420670788922443
         ],
         "z": [
          2.591872065808253
         ]
        },
        {
         "legendgroup": "W1",
         "marker": {
          "color": "brown",
          "size": 5
         },
         "mode": "markers",
         "name": "W1",
         "showlegend": true,
         "type": "scatter3d",
         "x": [
          -1.2273198727272554
         ],
         "y": [
          2.1324027504677776
         ],
         "z": [
          4.340966803608512
         ]
        },
        {
         "legendgroup": "Highlighted V1",
         "marker": {
          "color": "red",
          "size": 10,
          "symbol": "diamond"
         },
         "mode": "markers",
         "name": "Highlighted V1",
         "showlegend": true,
         "type": "scatter3d",
         "x": [
          -0.048613016938166886
         ],
         "y": [
          4.289159764887677
         ],
         "z": [
          0.02150857538865414
         ]
        },
        {
         "legendgroup": "Highlighted V1",
         "marker": {
          "color": "red",
          "size": 10,
          "symbol": "diamond"
         },
         "mode": "markers",
         "name": "Highlighted V1",
         "showlegend": true,
         "type": "scatter3d",
         "x": [
          6.161187792045048
         ],
         "y": [
          2.1349941124248373
         ],
         "z": [
          1.753111764623761
         ]
        }
       ],
       "layout": {
        "scene": {
         "xaxis": {
          "title": {
           "text": "X"
          }
         },
         "yaxis": {
          "title": {
           "text": "Y"
          }
         },
         "zaxis": {
          "title": {
           "text": "Z"
          }
         }
        },
        "template": {
         "data": {
          "bar": [
           {
            "error_x": {
             "color": "#2a3f5f"
            },
            "error_y": {
             "color": "#2a3f5f"
            },
            "marker": {
             "line": {
              "color": "#E5ECF6",
              "width": 0.5
             },
             "pattern": {
              "fillmode": "overlay",
              "size": 10,
              "solidity": 0.2
             }
            },
            "type": "bar"
           }
          ],
          "barpolar": [
           {
            "marker": {
             "line": {
              "color": "#E5ECF6",
              "width": 0.5
             },
             "pattern": {
              "fillmode": "overlay",
              "size": 10,
              "solidity": 0.2
             }
            },
            "type": "barpolar"
           }
          ],
          "carpet": [
           {
            "aaxis": {
             "endlinecolor": "#2a3f5f",
             "gridcolor": "white",
             "linecolor": "white",
             "minorgridcolor": "white",
             "startlinecolor": "#2a3f5f"
            },
            "baxis": {
             "endlinecolor": "#2a3f5f",
             "gridcolor": "white",
             "linecolor": "white",
             "minorgridcolor": "white",
             "startlinecolor": "#2a3f5f"
            },
            "type": "carpet"
           }
          ],
          "choropleth": [
           {
            "colorbar": {
             "outlinewidth": 0,
             "ticks": ""
            },
            "type": "choropleth"
           }
          ],
          "contour": [
           {
            "colorbar": {
             "outlinewidth": 0,
             "ticks": ""
            },
            "colorscale": [
             [
              0,
              "#0d0887"
             ],
             [
              0.1111111111111111,
              "#46039f"
             ],
             [
              0.2222222222222222,
              "#7201a8"
             ],
             [
              0.3333333333333333,
              "#9c179e"
             ],
             [
              0.4444444444444444,
              "#bd3786"
             ],
             [
              0.5555555555555556,
              "#d8576b"
             ],
             [
              0.6666666666666666,
              "#ed7953"
             ],
             [
              0.7777777777777778,
              "#fb9f3a"
             ],
             [
              0.8888888888888888,
              "#fdca26"
             ],
             [
              1,
              "#f0f921"
             ]
            ],
            "type": "contour"
           }
          ],
          "contourcarpet": [
           {
            "colorbar": {
             "outlinewidth": 0,
             "ticks": ""
            },
            "type": "contourcarpet"
           }
          ],
          "heatmap": [
           {
            "colorbar": {
             "outlinewidth": 0,
             "ticks": ""
            },
            "colorscale": [
             [
              0,
              "#0d0887"
             ],
             [
              0.1111111111111111,
              "#46039f"
             ],
             [
              0.2222222222222222,
              "#7201a8"
             ],
             [
              0.3333333333333333,
              "#9c179e"
             ],
             [
              0.4444444444444444,
              "#bd3786"
             ],
             [
              0.5555555555555556,
              "#d8576b"
             ],
             [
              0.6666666666666666,
              "#ed7953"
             ],
             [
              0.7777777777777778,
              "#fb9f3a"
             ],
             [
              0.8888888888888888,
              "#fdca26"
             ],
             [
              1,
              "#f0f921"
             ]
            ],
            "type": "heatmap"
           }
          ],
          "heatmapgl": [
           {
            "colorbar": {
             "outlinewidth": 0,
             "ticks": ""
            },
            "colorscale": [
             [
              0,
              "#0d0887"
             ],
             [
              0.1111111111111111,
              "#46039f"
             ],
             [
              0.2222222222222222,
              "#7201a8"
             ],
             [
              0.3333333333333333,
              "#9c179e"
             ],
             [
              0.4444444444444444,
              "#bd3786"
             ],
             [
              0.5555555555555556,
              "#d8576b"
             ],
             [
              0.6666666666666666,
              "#ed7953"
             ],
             [
              0.7777777777777778,
              "#fb9f3a"
             ],
             [
              0.8888888888888888,
              "#fdca26"
             ],
             [
              1,
              "#f0f921"
             ]
            ],
            "type": "heatmapgl"
           }
          ],
          "histogram": [
           {
            "marker": {
             "pattern": {
              "fillmode": "overlay",
              "size": 10,
              "solidity": 0.2
             }
            },
            "type": "histogram"
           }
          ],
          "histogram2d": [
           {
            "colorbar": {
             "outlinewidth": 0,
             "ticks": ""
            },
            "colorscale": [
             [
              0,
              "#0d0887"
             ],
             [
              0.1111111111111111,
              "#46039f"
             ],
             [
              0.2222222222222222,
              "#7201a8"
             ],
             [
              0.3333333333333333,
              "#9c179e"
             ],
             [
              0.4444444444444444,
              "#bd3786"
             ],
             [
              0.5555555555555556,
              "#d8576b"
             ],
             [
              0.6666666666666666,
              "#ed7953"
             ],
             [
              0.7777777777777778,
              "#fb9f3a"
             ],
             [
              0.8888888888888888,
              "#fdca26"
             ],
             [
              1,
              "#f0f921"
             ]
            ],
            "type": "histogram2d"
           }
          ],
          "histogram2dcontour": [
           {
            "colorbar": {
             "outlinewidth": 0,
             "ticks": ""
            },
            "colorscale": [
             [
              0,
              "#0d0887"
             ],
             [
              0.1111111111111111,
              "#46039f"
             ],
             [
              0.2222222222222222,
              "#7201a8"
             ],
             [
              0.3333333333333333,
              "#9c179e"
             ],
             [
              0.4444444444444444,
              "#bd3786"
             ],
             [
              0.5555555555555556,
              "#d8576b"
             ],
             [
              0.6666666666666666,
              "#ed7953"
             ],
             [
              0.7777777777777778,
              "#fb9f3a"
             ],
             [
              0.8888888888888888,
              "#fdca26"
             ],
             [
              1,
              "#f0f921"
             ]
            ],
            "type": "histogram2dcontour"
           }
          ],
          "mesh3d": [
           {
            "colorbar": {
             "outlinewidth": 0,
             "ticks": ""
            },
            "type": "mesh3d"
           }
          ],
          "parcoords": [
           {
            "line": {
             "colorbar": {
              "outlinewidth": 0,
              "ticks": ""
             }
            },
            "type": "parcoords"
           }
          ],
          "pie": [
           {
            "automargin": true,
            "type": "pie"
           }
          ],
          "scatter": [
           {
            "fillpattern": {
             "fillmode": "overlay",
             "size": 10,
             "solidity": 0.2
            },
            "type": "scatter"
           }
          ],
          "scatter3d": [
           {
            "line": {
             "colorbar": {
              "outlinewidth": 0,
              "ticks": ""
             }
            },
            "marker": {
             "colorbar": {
              "outlinewidth": 0,
              "ticks": ""
             }
            },
            "type": "scatter3d"
           }
          ],
          "scattercarpet": [
           {
            "marker": {
             "colorbar": {
              "outlinewidth": 0,
              "ticks": ""
             }
            },
            "type": "scattercarpet"
           }
          ],
          "scattergeo": [
           {
            "marker": {
             "colorbar": {
              "outlinewidth": 0,
              "ticks": ""
             }
            },
            "type": "scattergeo"
           }
          ],
          "scattergl": [
           {
            "marker": {
             "colorbar": {
              "outlinewidth": 0,
              "ticks": ""
             }
            },
            "type": "scattergl"
           }
          ],
          "scattermapbox": [
           {
            "marker": {
             "colorbar": {
              "outlinewidth": 0,
              "ticks": ""
             }
            },
            "type": "scattermapbox"
           }
          ],
          "scatterpolar": [
           {
            "marker": {
             "colorbar": {
              "outlinewidth": 0,
              "ticks": ""
             }
            },
            "type": "scatterpolar"
           }
          ],
          "scatterpolargl": [
           {
            "marker": {
             "colorbar": {
              "outlinewidth": 0,
              "ticks": ""
             }
            },
            "type": "scatterpolargl"
           }
          ],
          "scatterternary": [
           {
            "marker": {
             "colorbar": {
              "outlinewidth": 0,
              "ticks": ""
             }
            },
            "type": "scatterternary"
           }
          ],
          "surface": [
           {
            "colorbar": {
             "outlinewidth": 0,
             "ticks": ""
            },
            "colorscale": [
             [
              0,
              "#0d0887"
             ],
             [
              0.1111111111111111,
              "#46039f"
             ],
             [
              0.2222222222222222,
              "#7201a8"
             ],
             [
              0.3333333333333333,
              "#9c179e"
             ],
             [
              0.4444444444444444,
              "#bd3786"
             ],
             [
              0.5555555555555556,
              "#d8576b"
             ],
             [
              0.6666666666666666,
              "#ed7953"
             ],
             [
              0.7777777777777778,
              "#fb9f3a"
             ],
             [
              0.8888888888888888,
              "#fdca26"
             ],
             [
              1,
              "#f0f921"
             ]
            ],
            "type": "surface"
           }
          ],
          "table": [
           {
            "cells": {
             "fill": {
              "color": "#EBF0F8"
             },
             "line": {
              "color": "white"
             }
            },
            "header": {
             "fill": {
              "color": "#C8D4E3"
             },
             "line": {
              "color": "white"
             }
            },
            "type": "table"
           }
          ]
         },
         "layout": {
          "annotationdefaults": {
           "arrowcolor": "#2a3f5f",
           "arrowhead": 0,
           "arrowwidth": 1
          },
          "autotypenumbers": "strict",
          "coloraxis": {
           "colorbar": {
            "outlinewidth": 0,
            "ticks": ""
           }
          },
          "colorscale": {
           "diverging": [
            [
             0,
             "#8e0152"
            ],
            [
             0.1,
             "#c51b7d"
            ],
            [
             0.2,
             "#de77ae"
            ],
            [
             0.3,
             "#f1b6da"
            ],
            [
             0.4,
             "#fde0ef"
            ],
            [
             0.5,
             "#f7f7f7"
            ],
            [
             0.6,
             "#e6f5d0"
            ],
            [
             0.7,
             "#b8e186"
            ],
            [
             0.8,
             "#7fbc41"
            ],
            [
             0.9,
             "#4d9221"
            ],
            [
             1,
             "#276419"
            ]
           ],
           "sequential": [
            [
             0,
             "#0d0887"
            ],
            [
             0.1111111111111111,
             "#46039f"
            ],
            [
             0.2222222222222222,
             "#7201a8"
            ],
            [
             0.3333333333333333,
             "#9c179e"
            ],
            [
             0.4444444444444444,
             "#bd3786"
            ],
            [
             0.5555555555555556,
             "#d8576b"
            ],
            [
             0.6666666666666666,
             "#ed7953"
            ],
            [
             0.7777777777777778,
             "#fb9f3a"
            ],
            [
             0.8888888888888888,
             "#fdca26"
            ],
            [
             1,
             "#f0f921"
            ]
           ],
           "sequentialminus": [
            [
             0,
             "#0d0887"
            ],
            [
             0.1111111111111111,
             "#46039f"
            ],
            [
             0.2222222222222222,
             "#7201a8"
            ],
            [
             0.3333333333333333,
             "#9c179e"
            ],
            [
             0.4444444444444444,
             "#bd3786"
            ],
            [
             0.5555555555555556,
             "#d8576b"
            ],
            [
             0.6666666666666666,
             "#ed7953"
            ],
            [
             0.7777777777777778,
             "#fb9f3a"
            ],
            [
             0.8888888888888888,
             "#fdca26"
            ],
            [
             1,
             "#f0f921"
            ]
           ]
          },
          "colorway": [
           "#636efa",
           "#EF553B",
           "#00cc96",
           "#ab63fa",
           "#FFA15A",
           "#19d3f3",
           "#FF6692",
           "#B6E880",
           "#FF97FF",
           "#FECB52"
          ],
          "font": {
           "color": "#2a3f5f"
          },
          "geo": {
           "bgcolor": "white",
           "lakecolor": "white",
           "landcolor": "#E5ECF6",
           "showlakes": true,
           "showland": true,
           "subunitcolor": "white"
          },
          "hoverlabel": {
           "align": "left"
          },
          "hovermode": "closest",
          "mapbox": {
           "style": "light"
          },
          "paper_bgcolor": "white",
          "plot_bgcolor": "#E5ECF6",
          "polar": {
           "angularaxis": {
            "gridcolor": "white",
            "linecolor": "white",
            "ticks": ""
           },
           "bgcolor": "#E5ECF6",
           "radialaxis": {
            "gridcolor": "white",
            "linecolor": "white",
            "ticks": ""
           }
          },
          "scene": {
           "xaxis": {
            "backgroundcolor": "#E5ECF6",
            "gridcolor": "white",
            "gridwidth": 2,
            "linecolor": "white",
            "showbackground": true,
            "ticks": "",
            "zerolinecolor": "white"
           },
           "yaxis": {
            "backgroundcolor": "#E5ECF6",
            "gridcolor": "white",
            "gridwidth": 2,
            "linecolor": "white",
            "showbackground": true,
            "ticks": "",
            "zerolinecolor": "white"
           },
           "zaxis": {
            "backgroundcolor": "#E5ECF6",
            "gridcolor": "white",
            "gridwidth": 2,
            "linecolor": "white",
            "showbackground": true,
            "ticks": "",
            "zerolinecolor": "white"
           }
          },
          "shapedefaults": {
           "line": {
            "color": "#2a3f5f"
           }
          },
          "ternary": {
           "aaxis": {
            "gridcolor": "white",
            "linecolor": "white",
            "ticks": ""
           },
           "baxis": {
            "gridcolor": "white",
            "linecolor": "white",
            "ticks": ""
           },
           "bgcolor": "#E5ECF6",
           "caxis": {
            "gridcolor": "white",
            "linecolor": "white",
            "ticks": ""
           }
          },
          "title": {
           "x": 0.05
          },
          "xaxis": {
           "automargin": true,
           "gridcolor": "white",
           "linecolor": "white",
           "ticks": "",
           "title": {
            "standoff": 15
           },
           "zerolinecolor": "white",
           "zerolinewidth": 2
          },
          "yaxis": {
           "automargin": true,
           "gridcolor": "white",
           "linecolor": "white",
           "ticks": "",
           "title": {
            "standoff": 15
           },
           "zerolinecolor": "white",
           "zerolinewidth": 2
          }
         }
        },
        "title": {
         "text": "Structure with Highlighted Sites"
        }
       }
      }
     },
     "metadata": {},
     "output_type": "display_data"
    }
   ],
   "source": [
    "import numpy as np\n",
    "from pymatgen.core.structure import Structure\n",
    "from pymatgen.core.sites import Site\n",
    "import plotly.graph_objects as go\n",
    "from collections import defaultdict\n",
    "import itertools\n",
    "from pymatgen.analysis.local_env import VoronoiNN\n",
    "\n",
    "# Define a list of colors for different elements\n",
    "color_cycle = itertools.cycle([\n",
    "    'blue', 'green', 'orange', 'purple', 'brown', 'pink', 'gray', 'cyan', 'magenta'\n",
    "])\n",
    "\n",
    "def custom_distance(site1: Site, site2: Site) -> float:\n",
    "    geometric_dist = site1.distance(site2)\n",
    "    composition_dist = sum((site1.species.elements[i].X - site2.species.elements[i].X)**2 for i in range(len(site1.species.elements)))\n",
    "    return geometric_dist + composition_dist\n",
    "\n",
    "def identify_highest_complexity_sites(structure, top_n=3, concentration_threshold=0.5):\n",
    "    sites = structure.sites\n",
    "    complexity_scores = np.zeros(len(sites))\n",
    "    \n",
    "    for i, site1 in enumerate(sites):\n",
    "        for site2 in sites:\n",
    "            complexity_scores[i] += custom_distance(site1, site2)\n",
    "    \n",
    "    top_indices = complexity_scores.argsort()[::-1]\n",
    "    \n",
    "    element_counts = defaultdict(int)\n",
    "    for site in sites:\n",
    "        element_counts[str(site.species)] += 1\n",
    "    \n",
    "    vnn = VoronoiNN()\n",
    "    selected_sites = []\n",
    "    selected_neighbors = set()\n",
    "\n",
    "    for index in top_indices:\n",
    "        if len(selected_sites) >= top_n:\n",
    "            break\n",
    "        site = sites[index]\n",
    "        element = str(site.species)\n",
    "\n",
    "        if element_counts[element] > 2 or (element_counts[element] > 1 and element_counts[element] - 1 >= (1 - concentration_threshold) * element_counts[element]):\n",
    "            neighbors = set(n['site_index'] for n in vnn.get_nn_info(structure, index))\n",
    "\n",
    "            if not selected_neighbors.intersection(neighbors):\n",
    "                selected_sites.append(site)\n",
    "                selected_neighbors.update(neighbors)\n",
    "                element_counts[element] -= 1\n",
    "        else:\n",
    "            # Find a nearby site with comparable complexity and an element with more than 2 in the structure\n",
    "            min_dist = float('inf')\n",
    "            best_site = None\n",
    "            best_index = None\n",
    "            for other_index, other_site in enumerate(sites):\n",
    "                other_element = str(other_site.species)\n",
    "                if other_site not in selected_sites and element_counts[other_element] > 2:\n",
    "                    dist = site.distance(other_site)\n",
    "                    if dist < min_dist and complexity_scores[other_index] >= complexity_scores[index] * 0.9:\n",
    "                        neighbors = set(n['site_index'] for n in vnn.get_nn_info(structure, other_index))\n",
    "                        if not selected_neighbors.intersection(neighbors):\n",
    "                            min_dist = dist\n",
    "                            best_site = other_site\n",
    "                            best_index = other_index\n",
    "            if best_site:\n",
    "                selected_sites.append(best_site)\n",
    "                selected_neighbors.update(neighbors)\n",
    "                element_counts[str(best_site.species)] -= 1\n",
    "\n",
    "    return selected_sites\n",
    "\n",
    "def plot_structure_with_highlighted_sites(structure, top_sites):\n",
    "    fig = go.Figure()\n",
    "    \n",
    "    element_colors = defaultdict(lambda: next(color_cycle))\n",
    "    \n",
    "    # Plot all sites by element type\n",
    "    for site in structure:\n",
    "        element = str(site.species)\n",
    "        color = element_colors[element]\n",
    "        fig.add_trace(go.Scatter3d(\n",
    "            x=[site.x],\n",
    "            y=[site.y],\n",
    "            z=[site.z],\n",
    "            mode='markers',\n",
    "            marker=dict(size=5, color=color),\n",
    "            name=element,\n",
    "            legendgroup=element,\n",
    "            showlegend=True\n",
    "        ))\n",
    "\n",
    "    # Highlight top sites\n",
    "    for site in top_sites:\n",
    "        element = str(site.species)\n",
    "        fig.add_trace(go.Scatter3d(\n",
    "            x=[site.x],\n",
    "            y=[site.y],\n",
    "            z=[site.z],\n",
    "            mode='markers',\n",
    "            marker=dict(size=10, color='red', symbol='diamond'),\n",
    "            name=f'Highlighted {element}',\n",
    "            legendgroup=f'Highlighted {element}',\n",
    "            showlegend=True\n",
    "        ))\n",
    "\n",
    "    # Update layout for better visualization\n",
    "    fig.update_layout(scene=dict(\n",
    "        xaxis_title='X',\n",
    "        yaxis_title='Y',\n",
    "        zaxis_title='Z'),\n",
    "        title=\"Structure with Highlighted Sites\"\n",
    "    )\n",
    "\n",
    "    fig.show()\n",
    "\n",
    "# Example usage:\n",
    "# Load your structure\n",
    "#structure = Structure.from_file(\"POSCAR\")\n",
    "\n",
    "# Identify the top sites with highest chemical complexity\n",
    "top_sites = identify_highest_complexity_sites(structure, top_n=5, concentration_threshold=0.2)\n",
    "\n",
    "# Plot the structure and highlight the top sites\n",
    "plot_structure_with_highlighted_sites(structure, top_sites)\n"
   ]
  },
  {
   "cell_type": "code",
   "execution_count": 56,
   "metadata": {},
   "outputs": [
    {
     "data": {
      "application/vnd.plotly.v1+json": {
       "config": {
        "plotlyServerURL": "https://plot.ly"
       },
       "data": [
        {
         "legendgroup": "Zr1",
         "marker": {
          "color": "blue",
          "size": 5
         },
         "mode": "markers",
         "name": "Zr1",
         "showlegend": true,
         "type": "scatter3d",
         "x": [
          2.467492691110972
         ],
         "y": [
          4.1901387813370965
         ],
         "z": [
          -0.890479591067531
         ]
        },
        {
         "legendgroup": "Ti1",
         "marker": {
          "color": "green",
          "size": 5
         },
         "mode": "markers",
         "name": "Ti1",
         "showlegend": true,
         "type": "scatter3d",
         "x": [
          8.64346010904411
         ],
         "y": [
          2.086387830339729
         ],
         "z": [
          3.5046318069160804
         ]
        },
        {
         "legendgroup": "Ti1",
         "marker": {
          "color": "green",
          "size": 5
         },
         "mode": "markers",
         "name": "Ti1",
         "showlegend": true,
         "type": "scatter3d",
         "x": [
          -2.4507341679340597
         ],
         "y": [
          4.256700521609587
         ],
         "z": [
          0.8621628203714329
         ]
        },
        {
         "legendgroup": "Ti1",
         "marker": {
          "color": "green",
          "size": 5
         },
         "mode": "markers",
         "name": "Ti1",
         "showlegend": true,
         "type": "scatter3d",
         "x": [
          2.510276195096395
         ],
         "y": [
          8.418985475800627
         ],
         "z": [
          -6.0874076047027135
         ]
        },
        {
         "legendgroup": "Ti1",
         "marker": {
          "color": "green",
          "size": 5
         },
         "mode": "markers",
         "name": "Ti1",
         "showlegend": true,
         "type": "scatter3d",
         "x": [
          6.043752581402659
         ],
         "y": [
          2.0351837073878642
         ],
         "z": [
          6.885356462832299
         ]
        },
        {
         "legendgroup": "Ti1",
         "marker": {
          "color": "green",
          "size": 5
         },
         "mode": "markers",
         "name": "Ti1",
         "showlegend": true,
         "type": "scatter3d",
         "x": [
          3.8427321344144603
         ],
         "y": [
          6.48722337509416
         ],
         "z": [
          0.036407504339613705
         ]
        },
        {
         "legendgroup": "V1",
         "marker": {
          "color": "orange",
          "size": 5
         },
         "mode": "markers",
         "name": "V1",
         "showlegend": true,
         "type": "scatter3d",
         "x": [
          -4.878939990730071
         ],
         "y": [
          8.438883762561435
         ],
         "z": [
          6.941436294111835
         ]
        },
        {
         "legendgroup": "V1",
         "marker": {
          "color": "orange",
          "size": 5
         },
         "mode": "markers",
         "name": "V1",
         "showlegend": true,
         "type": "scatter3d",
         "x": [
          4.969870839306011
         ],
         "y": [
          8.4549634941505
         ],
         "z": [
          -4.378678781059407
         ]
        },
        {
         "legendgroup": "V1",
         "marker": {
          "color": "orange",
          "size": 5
         },
         "mode": "markers",
         "name": "V1",
         "showlegend": true,
         "type": "scatter3d",
         "x": [
          -4.885500742018095
         ],
         "y": [
          8.465976962756969
         ],
         "z": [
          1.797721071373803
         ]
        },
        {
         "legendgroup": "V1",
         "marker": {
          "color": "orange",
          "size": 5
         },
         "mode": "markers",
         "name": "V1",
         "showlegend": true,
         "type": "scatter3d",
         "x": [
          -1.1796878693029167
         ],
         "y": [
          2.1283583239522232
         ],
         "z": [
          -0.7900251647128365
         ]
        },
        {
         "legendgroup": "V1",
         "marker": {
          "color": "orange",
          "size": 5
         },
         "mode": "markers",
         "name": "V1",
         "showlegend": true,
         "type": "scatter3d",
         "x": [
          -1.1622178505102887
         ],
         "y": [
          2.1081533989552526
         ],
         "z": [
          1.7838862601804797
         ]
        },
        {
         "legendgroup": "V1",
         "marker": {
          "color": "orange",
          "size": 5
         },
         "mode": "markers",
         "name": "V1",
         "showlegend": true,
         "type": "scatter3d",
         "x": [
          7.379959962240022
         ],
         "y": [
          4.227538825455724
         ],
         "z": [
          5.147825146130071
         ]
        },
        {
         "legendgroup": "V1",
         "marker": {
          "color": "orange",
          "size": 5
         },
         "mode": "markers",
         "name": "V1",
         "showlegend": true,
         "type": "scatter3d",
         "x": [
          -2.4580632642627145
         ],
         "y": [
          4.358168441384349
         ],
         "z": [
          3.544151811503631
         ]
        },
        {
         "legendgroup": "V1",
         "marker": {
          "color": "orange",
          "size": 5
         },
         "mode": "markers",
         "name": "V1",
         "showlegend": true,
         "type": "scatter3d",
         "x": [
          -2.4789404070091283
         ],
         "y": [
          4.33109072555316
         ],
         "z": [
          6.126598006281358
         ]
        },
        {
         "legendgroup": "V1",
         "marker": {
          "color": "orange",
          "size": 5
         },
         "mode": "markers",
         "name": "V1",
         "showlegend": true,
         "type": "scatter3d",
         "x": [
          -3.643426264095448
         ],
         "y": [
          6.3619535461809615
         ],
         "z": [
          -2.6242063555648043
         ]
        },
        {
         "legendgroup": "V1",
         "marker": {
          "color": "orange",
          "size": 5
         },
         "mode": "markers",
         "name": "V1",
         "showlegend": true,
         "type": "scatter3d",
         "x": [
          -3.7008890705796964
         ],
         "y": [
          6.431501584577198
         ],
         "z": [
          0.021221827690429684
         ]
        },
        {
         "legendgroup": "V1",
         "marker": {
          "color": "orange",
          "size": 5
         },
         "mode": "markers",
         "name": "V1",
         "showlegend": true,
         "type": "scatter3d",
         "x": [
          -3.679949378556645
         ],
         "y": [
          6.4001582251787115
         ],
         "z": [
          5.19355714605841
         ]
        },
        {
         "legendgroup": "V1",
         "marker": {
          "color": "orange",
          "size": 5
         },
         "mode": "markers",
         "name": "V1",
         "showlegend": true,
         "type": "scatter3d",
         "x": [
          -2.423926735931024
         ],
         "y": [
          8.40505043930455
         ],
         "z": [
          -4.3151744640857705
         ]
        },
        {
         "legendgroup": "V1",
         "marker": {
          "color": "orange",
          "size": 5
         },
         "mode": "markers",
         "name": "V1",
         "showlegend": true,
         "type": "scatter3d",
         "x": [
          -2.4672240475767544
         ],
         "y": [
          8.458016246433896
         ],
         "z": [
          -1.719021012199602
         ]
        },
        {
         "legendgroup": "V1",
         "marker": {
          "color": "orange",
          "size": 5
         },
         "mode": "markers",
         "name": "V1",
         "showlegend": true,
         "type": "scatter3d",
         "x": [
          2.460540481845263
         ],
         "y": [
          0.007269316867527265
         ],
         "z": [
          4.323839754392695
         ]
        },
        {
         "legendgroup": "V1",
         "marker": {
          "color": "orange",
          "size": 5
         },
         "mode": "markers",
         "name": "V1",
         "showlegend": true,
         "type": "scatter3d",
         "x": [
          -2.466680491493829
         ],
         "y": [
          8.413685592986408
         ],
         "z": [
          3.4766528342421963
         ]
        },
        {
         "legendgroup": "V1",
         "marker": {
          "color": "orange",
          "size": 5
         },
         "mode": "markers",
         "name": "V1",
         "showlegend": true,
         "type": "scatter3d",
         "x": [
          1.1442199042315284
         ],
         "y": [
          1.9371453954729454
         ],
         "z": [
          8.628899968584534
         ]
        },
        {
         "legendgroup": "V1",
         "marker": {
          "color": "orange",
          "size": 5
         },
         "mode": "markers",
         "name": "V1",
         "showlegend": true,
         "type": "scatter3d",
         "x": [
          1.2473102721014477
         ],
         "y": [
          2.076597822185375
         ],
         "z": [
          0.9115576065288563
         ]
        },
        {
         "legendgroup": "V1",
         "marker": {
          "color": "orange",
          "size": 5
         },
         "mode": "markers",
         "name": "V1",
         "showlegend": true,
         "type": "scatter3d",
         "x": [
          1.2561571207620117
         ],
         "y": [
          2.100151223368059
         ],
         "z": [
          3.4986995953139868
         ]
        },
        {
         "legendgroup": "V1",
         "marker": {
          "color": "orange",
          "size": 5
         },
         "mode": "markers",
         "name": "V1",
         "showlegend": true,
         "type": "scatter3d",
         "x": [
          1.2938720719767731
         ],
         "y": [
          2.1200100224849483
         ],
         "z": [
          6.063718613605467
         ]
        },
        {
         "legendgroup": "V1",
         "marker": {
          "color": "orange",
          "size": 5
         },
         "mode": "markers",
         "name": "V1",
         "showlegend": true,
         "type": "scatter3d",
         "x": [
          -0.05238960620881716
         ],
         "y": [
          4.373352955335116
         ],
         "z": [
          -2.6573728114307675
         ]
        },
        {
         "legendgroup": "V1",
         "marker": {
          "color": "orange",
          "size": 5
         },
         "mode": "markers",
         "name": "V1",
         "showlegend": true,
         "type": "scatter3d",
         "x": [
          -0.048613016938166886
         ],
         "y": [
          4.289159764887677
         ],
         "z": [
          0.02150857538865414
         ]
        },
        {
         "legendgroup": "V1",
         "marker": {
          "color": "orange",
          "size": 5
         },
         "mode": "markers",
         "name": "V1",
         "showlegend": true,
         "type": "scatter3d",
         "x": [
          0.0034101359111122775
         ],
         "y": [
          4.271626861369787
         ],
         "z": [
          2.6111076971492784
         ]
        },
        {
         "legendgroup": "V1",
         "marker": {
          "color": "orange",
          "size": 5
         },
         "mode": "markers",
         "name": "V1",
         "showlegend": true,
         "type": "scatter3d",
         "x": [
          -0.033452901722800465
         ],
         "y": [
          4.2863266635458315
         ],
         "z": [
          5.213464469017884
         ]
        },
        {
         "legendgroup": "V1",
         "marker": {
          "color": "orange",
          "size": 5
         },
         "mode": "markers",
         "name": "V1",
         "showlegend": true,
         "type": "scatter3d",
         "x": [
          -1.2660876039145097
         ],
         "y": [
          6.375167811010832
         ],
         "z": [
          -0.8863117777059548
         ]
        },
        {
         "legendgroup": "V1",
         "marker": {
          "color": "orange",
          "size": 5
         },
         "mode": "markers",
         "name": "V1",
         "showlegend": true,
         "type": "scatter3d",
         "x": [
          -1.25059534137801
         ],
         "y": [
          6.449561673615592
         ],
         "z": [
          1.8120499665407208
         ]
        },
        {
         "legendgroup": "V1",
         "marker": {
          "color": "orange",
          "size": 5
         },
         "mode": "markers",
         "name": "V1",
         "showlegend": true,
         "type": "scatter3d",
         "x": [
          -0.08044345736980141
         ],
         "y": [
          8.430154711872792
         ],
         "z": [
          5.154621295673608
         ]
        },
        {
         "legendgroup": "V1",
         "marker": {
          "color": "orange",
          "size": 5
         },
         "mode": "markers",
         "name": "V1",
         "showlegend": true,
         "type": "scatter3d",
         "x": [
          -0.038067691958871386
         ],
         "y": [
          8.43833080869348
         ],
         "z": [
          -2.6348036959780363
         ]
        },
        {
         "legendgroup": "V1",
         "marker": {
          "color": "orange",
          "size": 5
         },
         "mode": "markers",
         "name": "V1",
         "showlegend": true,
         "type": "scatter3d",
         "x": [
          4.893844976875548
         ],
         "y": [
          -0.00841225890278013
         ],
         "z": [
          3.524577976303694
         ]
        },
        {
         "legendgroup": "V1",
         "marker": {
          "color": "orange",
          "size": 5
         },
         "mode": "markers",
         "name": "V1",
         "showlegend": true,
         "type": "scatter3d",
         "x": [
          3.6263562310240687
         ],
         "y": [
          2.0705979783641575
         ],
         "z": [
          7.858845451874327
         ]
        },
        {
         "legendgroup": "V1",
         "marker": {
          "color": "orange",
          "size": 5
         },
         "mode": "markers",
         "name": "V1",
         "showlegend": true,
         "type": "scatter3d",
         "x": [
          3.760682138897436
         ],
         "y": [
          1.974599500630284
         ],
         "z": [
          0.043087908672958974
         ]
        },
        {
         "legendgroup": "V1",
         "marker": {
          "color": "orange",
          "size": 5
         },
         "mode": "markers",
         "name": "V1",
         "showlegend": true,
         "type": "scatter3d",
         "x": [
          3.685457597195139
         ],
         "y": [
          2.10219719873697
         ],
         "z": [
          2.615387132369681
         ]
        },
        {
         "legendgroup": "V1",
         "marker": {
          "color": "orange",
          "size": 5
         },
         "mode": "markers",
         "name": "V1",
         "showlegend": true,
         "type": "scatter3d",
         "x": [
          3.698501973082826
         ],
         "y": [
          2.060518155283462
         ],
         "z": [
          5.237813013194626
         ]
        },
        {
         "legendgroup": "V1",
         "marker": {
          "color": "orange",
          "size": 5
         },
         "mode": "markers",
         "name": "V1",
         "showlegend": true,
         "type": "scatter3d",
         "x": [
          2.425132673032855
         ],
         "y": [
          4.241132818777139
         ],
         "z": [
          6.819854328877482
         ]
        },
        {
         "legendgroup": "V1",
         "marker": {
          "color": "orange",
          "size": 5
         },
         "mode": "markers",
         "name": "V1",
         "showlegend": true,
         "type": "scatter3d",
         "x": [
          2.4710150788677727
         ],
         "y": [
          4.263983491493352
         ],
         "z": [
          1.8736699292333592
         ]
        },
        {
         "legendgroup": "V1",
         "marker": {
          "color": "orange",
          "size": 5
         },
         "mode": "markers",
         "name": "V1",
         "showlegend": true,
         "type": "scatter3d",
         "x": [
          2.451401402038911
         ],
         "y": [
          4.23822695231489
         ],
         "z": [
          4.3571020139119705
         ]
        },
        {
         "legendgroup": "V1",
         "marker": {
          "color": "orange",
          "size": 5
         },
         "mode": "markers",
         "name": "V1",
         "showlegend": true,
         "type": "scatter3d",
         "x": [
          1.1919879912657305
         ],
         "y": [
          6.377794560238157
         ],
         "z": [
          -4.3706843328424485
         ]
        },
        {
         "legendgroup": "V1",
         "marker": {
          "color": "orange",
          "size": 5
         },
         "mode": "markers",
         "name": "V1",
         "showlegend": true,
         "type": "scatter3d",
         "x": [
          1.1651873763015659
         ],
         "y": [
          6.4540458241374745
         ],
         "z": [
          -1.7789741792778677
         ]
        },
        {
         "legendgroup": "V1",
         "marker": {
          "color": "orange",
          "size": 5
         },
         "mode": "markers",
         "name": "V1",
         "showlegend": true,
         "type": "scatter3d",
         "x": [
          1.1951785911547446
         ],
         "y": [
          6.37406599166821
         ],
         "z": [
          0.889307898598759
         ]
        },
        {
         "legendgroup": "V1",
         "marker": {
          "color": "orange",
          "size": 5
         },
         "mode": "markers",
         "name": "V1",
         "showlegend": true,
         "type": "scatter3d",
         "x": [
          1.1219364685999476
         ],
         "y": [
          6.359312114437975
         ],
         "z": [
          3.4723960046585933
         ]
        },
        {
         "legendgroup": "V1",
         "marker": {
          "color": "orange",
          "size": 5
         },
         "mode": "markers",
         "name": "V1",
         "showlegend": true,
         "type": "scatter3d",
         "x": [
          2.462646706044443
         ],
         "y": [
          8.469618385131245
         ],
         "z": [
          -3.4504010237406
         ]
        },
        {
         "legendgroup": "V1",
         "marker": {
          "color": "orange",
          "size": 5
         },
         "mode": "markers",
         "name": "V1",
         "showlegend": true,
         "type": "scatter3d",
         "x": [
          2.3610535944310183
         ],
         "y": [
          8.464638909171
         ],
         "z": [
          -0.920611535497514
         ]
        },
        {
         "legendgroup": "V1",
         "marker": {
          "color": "orange",
          "size": 5
         },
         "mode": "markers",
         "name": "V1",
         "showlegend": true,
         "type": "scatter3d",
         "x": [
          2.4405544700564104
         ],
         "y": [
          8.474118904397288
         ],
         "z": [
          1.692768294046573
         ]
        },
        {
         "legendgroup": "V1",
         "marker": {
          "color": "orange",
          "size": 5
         },
         "mode": "markers",
         "name": "V1",
         "showlegend": true,
         "type": "scatter3d",
         "x": [
          6.147683883432375
         ],
         "y": [
          2.1024904783414535
         ],
         "z": [
          -0.8570930942698743
         ]
        },
        {
         "legendgroup": "V1",
         "marker": {
          "color": "orange",
          "size": 5
         },
         "mode": "markers",
         "name": "V1",
         "showlegend": true,
         "type": "scatter3d",
         "x": [
          6.161187792045048
         ],
         "y": [
          2.1349941124248373
         ],
         "z": [
          1.753111764623761
         ]
        },
        {
         "legendgroup": "V1",
         "marker": {
          "color": "orange",
          "size": 5
         },
         "mode": "markers",
         "name": "V1",
         "showlegend": true,
         "type": "scatter3d",
         "x": [
          6.079286937726145
         ],
         "y": [
          2.1306822504368172
         ],
         "z": [
          4.2715025018750445
         ]
        },
        {
         "legendgroup": "V1",
         "marker": {
          "color": "orange",
          "size": 5
         },
         "mode": "markers",
         "name": "V1",
         "showlegend": true,
         "type": "scatter3d",
         "x": [
          4.937336896274889
         ],
         "y": [
          4.304214473141048
         ],
         "z": [
          -4.408291930883687
         ]
        },
        {
         "legendgroup": "V1",
         "marker": {
          "color": "orange",
          "size": 5
         },
         "mode": "markers",
         "name": "V1",
         "showlegend": true,
         "type": "scatter3d",
         "x": [
          5.027634668164815
         ],
         "y": [
          4.3172351957425334
         ],
         "z": [
          -1.7132657371277134
         ]
        },
        {
         "legendgroup": "V1",
         "marker": {
          "color": "orange",
          "size": 5
         },
         "mode": "markers",
         "name": "V1",
         "showlegend": true,
         "type": "scatter3d",
         "x": [
          4.98088462623336
         ],
         "y": [
          4.200689607655577
         ],
         "z": [
          0.9285261627106531
         ]
        },
        {
         "legendgroup": "V1",
         "marker": {
          "color": "orange",
          "size": 5
         },
         "mode": "markers",
         "name": "V1",
         "showlegend": true,
         "type": "scatter3d",
         "x": [
          4.940507675055229
         ],
         "y": [
          4.253646381168566
         ],
         "z": [
          3.472164281128263
         ]
        },
        {
         "legendgroup": "V1",
         "marker": {
          "color": "orange",
          "size": 5
         },
         "mode": "markers",
         "name": "V1",
         "showlegend": true,
         "type": "scatter3d",
         "x": [
          3.7426731345812074
         ],
         "y": [
          6.3076669881453595
         ],
         "z": [
          5.237939552775358
         ]
        },
        {
         "legendgroup": "V1",
         "marker": {
          "color": "orange",
          "size": 5
         },
         "mode": "markers",
         "name": "V1",
         "showlegend": true,
         "type": "scatter3d",
         "x": [
          3.703494307586802
         ],
         "y": [
          6.3902242758171095
         ],
         "z": [
          -2.6999713520844737
         ]
        },
        {
         "legendgroup": "V1",
         "marker": {
          "color": "orange",
          "size": 5
         },
         "mode": "markers",
         "name": "V1",
         "showlegend": true,
         "type": "scatter3d",
         "x": [
          3.682914337967057
         ],
         "y": [
          6.366742482112152
         ],
         "z": [
          2.69313121950094
         ]
        },
        {
         "legendgroup": "Cr1",
         "marker": {
          "color": "purple",
          "size": 5
         },
         "mode": "markers",
         "name": "Cr1",
         "showlegend": true,
         "type": "scatter3d",
         "x": [
          0.07821572913356122
         ],
         "y": [
          0.007434177189720139
         ],
         "z": [
          7.893130248077385
         ]
        },
        {
         "legendgroup": "Cr1",
         "marker": {
          "color": "purple",
          "size": 5
         },
         "mode": "markers",
         "name": "Cr1",
         "showlegend": true,
         "type": "scatter3d",
         "x": [
          -3.6294841146092396
         ],
         "y": [
          6.378595786637654
         ],
         "z": [
          2.602758403524658
         ]
        },
        {
         "legendgroup": "Cr1",
         "marker": {
          "color": "purple",
          "size": 5
         },
         "mode": "markers",
         "name": "Cr1",
         "showlegend": true,
         "type": "scatter3d",
         "x": [
          -1.2699849551946074
         ],
         "y": [
          6.3666099931522595
         ],
         "z": [
          6.932549277812446
         ]
        },
        {
         "legendgroup": "Cr1",
         "marker": {
          "color": "purple",
          "size": 5
         },
         "mode": "markers",
         "name": "Cr1",
         "showlegend": true,
         "type": "scatter3d",
         "x": [
          -1.243723468818188
         ],
         "y": [
          6.359407739120602
         ],
         "z": [
          4.392386240175659
         ]
        },
        {
         "legendgroup": "Cr1",
         "marker": {
          "color": "purple",
          "size": 5
         },
         "mode": "markers",
         "name": "Cr1",
         "showlegend": true,
         "type": "scatter3d",
         "x": [
          -0.05536174754363721
         ],
         "y": [
          8.420670788922443
         ],
         "z": [
          2.591872065808253
         ]
        },
        {
         "legendgroup": "W1",
         "marker": {
          "color": "brown",
          "size": 5
         },
         "mode": "markers",
         "name": "W1",
         "showlegend": true,
         "type": "scatter3d",
         "x": [
          -1.2273198727272554
         ],
         "y": [
          2.1324027504677776
         ],
         "z": [
          4.340966803608512
         ]
        },
        {
         "legendgroup": "Highlighted V1",
         "marker": {
          "color": "red",
          "size": 10,
          "symbol": "diamond"
         },
         "mode": "markers",
         "name": "Highlighted V1",
         "showlegend": true,
         "type": "scatter3d",
         "x": [
          -0.048613016938166886
         ],
         "y": [
          4.289159764887677
         ],
         "z": [
          0.02150857538865414
         ]
        },
        {
         "legendgroup": "Highlighted V1",
         "marker": {
          "color": "red",
          "size": 10,
          "symbol": "diamond"
         },
         "mode": "markers",
         "name": "Highlighted V1",
         "showlegend": true,
         "type": "scatter3d",
         "x": [
          6.161187792045048
         ],
         "y": [
          2.1349941124248373
         ],
         "z": [
          1.753111764623761
         ]
        }
       ],
       "layout": {
        "scene": {
         "xaxis": {
          "title": {
           "text": "X"
          }
         },
         "yaxis": {
          "title": {
           "text": "Y"
          }
         },
         "zaxis": {
          "title": {
           "text": "Z"
          }
         }
        },
        "template": {
         "data": {
          "bar": [
           {
            "error_x": {
             "color": "#2a3f5f"
            },
            "error_y": {
             "color": "#2a3f5f"
            },
            "marker": {
             "line": {
              "color": "#E5ECF6",
              "width": 0.5
             },
             "pattern": {
              "fillmode": "overlay",
              "size": 10,
              "solidity": 0.2
             }
            },
            "type": "bar"
           }
          ],
          "barpolar": [
           {
            "marker": {
             "line": {
              "color": "#E5ECF6",
              "width": 0.5
             },
             "pattern": {
              "fillmode": "overlay",
              "size": 10,
              "solidity": 0.2
             }
            },
            "type": "barpolar"
           }
          ],
          "carpet": [
           {
            "aaxis": {
             "endlinecolor": "#2a3f5f",
             "gridcolor": "white",
             "linecolor": "white",
             "minorgridcolor": "white",
             "startlinecolor": "#2a3f5f"
            },
            "baxis": {
             "endlinecolor": "#2a3f5f",
             "gridcolor": "white",
             "linecolor": "white",
             "minorgridcolor": "white",
             "startlinecolor": "#2a3f5f"
            },
            "type": "carpet"
           }
          ],
          "choropleth": [
           {
            "colorbar": {
             "outlinewidth": 0,
             "ticks": ""
            },
            "type": "choropleth"
           }
          ],
          "contour": [
           {
            "colorbar": {
             "outlinewidth": 0,
             "ticks": ""
            },
            "colorscale": [
             [
              0,
              "#0d0887"
             ],
             [
              0.1111111111111111,
              "#46039f"
             ],
             [
              0.2222222222222222,
              "#7201a8"
             ],
             [
              0.3333333333333333,
              "#9c179e"
             ],
             [
              0.4444444444444444,
              "#bd3786"
             ],
             [
              0.5555555555555556,
              "#d8576b"
             ],
             [
              0.6666666666666666,
              "#ed7953"
             ],
             [
              0.7777777777777778,
              "#fb9f3a"
             ],
             [
              0.8888888888888888,
              "#fdca26"
             ],
             [
              1,
              "#f0f921"
             ]
            ],
            "type": "contour"
           }
          ],
          "contourcarpet": [
           {
            "colorbar": {
             "outlinewidth": 0,
             "ticks": ""
            },
            "type": "contourcarpet"
           }
          ],
          "heatmap": [
           {
            "colorbar": {
             "outlinewidth": 0,
             "ticks": ""
            },
            "colorscale": [
             [
              0,
              "#0d0887"
             ],
             [
              0.1111111111111111,
              "#46039f"
             ],
             [
              0.2222222222222222,
              "#7201a8"
             ],
             [
              0.3333333333333333,
              "#9c179e"
             ],
             [
              0.4444444444444444,
              "#bd3786"
             ],
             [
              0.5555555555555556,
              "#d8576b"
             ],
             [
              0.6666666666666666,
              "#ed7953"
             ],
             [
              0.7777777777777778,
              "#fb9f3a"
             ],
             [
              0.8888888888888888,
              "#fdca26"
             ],
             [
              1,
              "#f0f921"
             ]
            ],
            "type": "heatmap"
           }
          ],
          "heatmapgl": [
           {
            "colorbar": {
             "outlinewidth": 0,
             "ticks": ""
            },
            "colorscale": [
             [
              0,
              "#0d0887"
             ],
             [
              0.1111111111111111,
              "#46039f"
             ],
             [
              0.2222222222222222,
              "#7201a8"
             ],
             [
              0.3333333333333333,
              "#9c179e"
             ],
             [
              0.4444444444444444,
              "#bd3786"
             ],
             [
              0.5555555555555556,
              "#d8576b"
             ],
             [
              0.6666666666666666,
              "#ed7953"
             ],
             [
              0.7777777777777778,
              "#fb9f3a"
             ],
             [
              0.8888888888888888,
              "#fdca26"
             ],
             [
              1,
              "#f0f921"
             ]
            ],
            "type": "heatmapgl"
           }
          ],
          "histogram": [
           {
            "marker": {
             "pattern": {
              "fillmode": "overlay",
              "size": 10,
              "solidity": 0.2
             }
            },
            "type": "histogram"
           }
          ],
          "histogram2d": [
           {
            "colorbar": {
             "outlinewidth": 0,
             "ticks": ""
            },
            "colorscale": [
             [
              0,
              "#0d0887"
             ],
             [
              0.1111111111111111,
              "#46039f"
             ],
             [
              0.2222222222222222,
              "#7201a8"
             ],
             [
              0.3333333333333333,
              "#9c179e"
             ],
             [
              0.4444444444444444,
              "#bd3786"
             ],
             [
              0.5555555555555556,
              "#d8576b"
             ],
             [
              0.6666666666666666,
              "#ed7953"
             ],
             [
              0.7777777777777778,
              "#fb9f3a"
             ],
             [
              0.8888888888888888,
              "#fdca26"
             ],
             [
              1,
              "#f0f921"
             ]
            ],
            "type": "histogram2d"
           }
          ],
          "histogram2dcontour": [
           {
            "colorbar": {
             "outlinewidth": 0,
             "ticks": ""
            },
            "colorscale": [
             [
              0,
              "#0d0887"
             ],
             [
              0.1111111111111111,
              "#46039f"
             ],
             [
              0.2222222222222222,
              "#7201a8"
             ],
             [
              0.3333333333333333,
              "#9c179e"
             ],
             [
              0.4444444444444444,
              "#bd3786"
             ],
             [
              0.5555555555555556,
              "#d8576b"
             ],
             [
              0.6666666666666666,
              "#ed7953"
             ],
             [
              0.7777777777777778,
              "#fb9f3a"
             ],
             [
              0.8888888888888888,
              "#fdca26"
             ],
             [
              1,
              "#f0f921"
             ]
            ],
            "type": "histogram2dcontour"
           }
          ],
          "mesh3d": [
           {
            "colorbar": {
             "outlinewidth": 0,
             "ticks": ""
            },
            "type": "mesh3d"
           }
          ],
          "parcoords": [
           {
            "line": {
             "colorbar": {
              "outlinewidth": 0,
              "ticks": ""
             }
            },
            "type": "parcoords"
           }
          ],
          "pie": [
           {
            "automargin": true,
            "type": "pie"
           }
          ],
          "scatter": [
           {
            "fillpattern": {
             "fillmode": "overlay",
             "size": 10,
             "solidity": 0.2
            },
            "type": "scatter"
           }
          ],
          "scatter3d": [
           {
            "line": {
             "colorbar": {
              "outlinewidth": 0,
              "ticks": ""
             }
            },
            "marker": {
             "colorbar": {
              "outlinewidth": 0,
              "ticks": ""
             }
            },
            "type": "scatter3d"
           }
          ],
          "scattercarpet": [
           {
            "marker": {
             "colorbar": {
              "outlinewidth": 0,
              "ticks": ""
             }
            },
            "type": "scattercarpet"
           }
          ],
          "scattergeo": [
           {
            "marker": {
             "colorbar": {
              "outlinewidth": 0,
              "ticks": ""
             }
            },
            "type": "scattergeo"
           }
          ],
          "scattergl": [
           {
            "marker": {
             "colorbar": {
              "outlinewidth": 0,
              "ticks": ""
             }
            },
            "type": "scattergl"
           }
          ],
          "scattermapbox": [
           {
            "marker": {
             "colorbar": {
              "outlinewidth": 0,
              "ticks": ""
             }
            },
            "type": "scattermapbox"
           }
          ],
          "scatterpolar": [
           {
            "marker": {
             "colorbar": {
              "outlinewidth": 0,
              "ticks": ""
             }
            },
            "type": "scatterpolar"
           }
          ],
          "scatterpolargl": [
           {
            "marker": {
             "colorbar": {
              "outlinewidth": 0,
              "ticks": ""
             }
            },
            "type": "scatterpolargl"
           }
          ],
          "scatterternary": [
           {
            "marker": {
             "colorbar": {
              "outlinewidth": 0,
              "ticks": ""
             }
            },
            "type": "scatterternary"
           }
          ],
          "surface": [
           {
            "colorbar": {
             "outlinewidth": 0,
             "ticks": ""
            },
            "colorscale": [
             [
              0,
              "#0d0887"
             ],
             [
              0.1111111111111111,
              "#46039f"
             ],
             [
              0.2222222222222222,
              "#7201a8"
             ],
             [
              0.3333333333333333,
              "#9c179e"
             ],
             [
              0.4444444444444444,
              "#bd3786"
             ],
             [
              0.5555555555555556,
              "#d8576b"
             ],
             [
              0.6666666666666666,
              "#ed7953"
             ],
             [
              0.7777777777777778,
              "#fb9f3a"
             ],
             [
              0.8888888888888888,
              "#fdca26"
             ],
             [
              1,
              "#f0f921"
             ]
            ],
            "type": "surface"
           }
          ],
          "table": [
           {
            "cells": {
             "fill": {
              "color": "#EBF0F8"
             },
             "line": {
              "color": "white"
             }
            },
            "header": {
             "fill": {
              "color": "#C8D4E3"
             },
             "line": {
              "color": "white"
             }
            },
            "type": "table"
           }
          ]
         },
         "layout": {
          "annotationdefaults": {
           "arrowcolor": "#2a3f5f",
           "arrowhead": 0,
           "arrowwidth": 1
          },
          "autotypenumbers": "strict",
          "coloraxis": {
           "colorbar": {
            "outlinewidth": 0,
            "ticks": ""
           }
          },
          "colorscale": {
           "diverging": [
            [
             0,
             "#8e0152"
            ],
            [
             0.1,
             "#c51b7d"
            ],
            [
             0.2,
             "#de77ae"
            ],
            [
             0.3,
             "#f1b6da"
            ],
            [
             0.4,
             "#fde0ef"
            ],
            [
             0.5,
             "#f7f7f7"
            ],
            [
             0.6,
             "#e6f5d0"
            ],
            [
             0.7,
             "#b8e186"
            ],
            [
             0.8,
             "#7fbc41"
            ],
            [
             0.9,
             "#4d9221"
            ],
            [
             1,
             "#276419"
            ]
           ],
           "sequential": [
            [
             0,
             "#0d0887"
            ],
            [
             0.1111111111111111,
             "#46039f"
            ],
            [
             0.2222222222222222,
             "#7201a8"
            ],
            [
             0.3333333333333333,
             "#9c179e"
            ],
            [
             0.4444444444444444,
             "#bd3786"
            ],
            [
             0.5555555555555556,
             "#d8576b"
            ],
            [
             0.6666666666666666,
             "#ed7953"
            ],
            [
             0.7777777777777778,
             "#fb9f3a"
            ],
            [
             0.8888888888888888,
             "#fdca26"
            ],
            [
             1,
             "#f0f921"
            ]
           ],
           "sequentialminus": [
            [
             0,
             "#0d0887"
            ],
            [
             0.1111111111111111,
             "#46039f"
            ],
            [
             0.2222222222222222,
             "#7201a8"
            ],
            [
             0.3333333333333333,
             "#9c179e"
            ],
            [
             0.4444444444444444,
             "#bd3786"
            ],
            [
             0.5555555555555556,
             "#d8576b"
            ],
            [
             0.6666666666666666,
             "#ed7953"
            ],
            [
             0.7777777777777778,
             "#fb9f3a"
            ],
            [
             0.8888888888888888,
             "#fdca26"
            ],
            [
             1,
             "#f0f921"
            ]
           ]
          },
          "colorway": [
           "#636efa",
           "#EF553B",
           "#00cc96",
           "#ab63fa",
           "#FFA15A",
           "#19d3f3",
           "#FF6692",
           "#B6E880",
           "#FF97FF",
           "#FECB52"
          ],
          "font": {
           "color": "#2a3f5f"
          },
          "geo": {
           "bgcolor": "white",
           "lakecolor": "white",
           "landcolor": "#E5ECF6",
           "showlakes": true,
           "showland": true,
           "subunitcolor": "white"
          },
          "hoverlabel": {
           "align": "left"
          },
          "hovermode": "closest",
          "mapbox": {
           "style": "light"
          },
          "paper_bgcolor": "white",
          "plot_bgcolor": "#E5ECF6",
          "polar": {
           "angularaxis": {
            "gridcolor": "white",
            "linecolor": "white",
            "ticks": ""
           },
           "bgcolor": "#E5ECF6",
           "radialaxis": {
            "gridcolor": "white",
            "linecolor": "white",
            "ticks": ""
           }
          },
          "scene": {
           "xaxis": {
            "backgroundcolor": "#E5ECF6",
            "gridcolor": "white",
            "gridwidth": 2,
            "linecolor": "white",
            "showbackground": true,
            "ticks": "",
            "zerolinecolor": "white"
           },
           "yaxis": {
            "backgroundcolor": "#E5ECF6",
            "gridcolor": "white",
            "gridwidth": 2,
            "linecolor": "white",
            "showbackground": true,
            "ticks": "",
            "zerolinecolor": "white"
           },
           "zaxis": {
            "backgroundcolor": "#E5ECF6",
            "gridcolor": "white",
            "gridwidth": 2,
            "linecolor": "white",
            "showbackground": true,
            "ticks": "",
            "zerolinecolor": "white"
           }
          },
          "shapedefaults": {
           "line": {
            "color": "#2a3f5f"
           }
          },
          "ternary": {
           "aaxis": {
            "gridcolor": "white",
            "linecolor": "white",
            "ticks": ""
           },
           "baxis": {
            "gridcolor": "white",
            "linecolor": "white",
            "ticks": ""
           },
           "bgcolor": "#E5ECF6",
           "caxis": {
            "gridcolor": "white",
            "linecolor": "white",
            "ticks": ""
           }
          },
          "title": {
           "x": 0.05
          },
          "xaxis": {
           "automargin": true,
           "gridcolor": "white",
           "linecolor": "white",
           "ticks": "",
           "title": {
            "standoff": 15
           },
           "zerolinecolor": "white",
           "zerolinewidth": 2
          },
          "yaxis": {
           "automargin": true,
           "gridcolor": "white",
           "linecolor": "white",
           "ticks": "",
           "title": {
            "standoff": 15
           },
           "zerolinecolor": "white",
           "zerolinewidth": 2
          }
         }
        },
        "title": {
         "text": "Structure with Highlighted Sites"
        }
       }
      }
     },
     "metadata": {},
     "output_type": "display_data"
    }
   ],
   "source": [
    "import numpy as np\n",
    "from pymatgen.core.structure import Structure\n",
    "from pymatgen.core.sites import Site\n",
    "import plotly.graph_objects as go\n",
    "from collections import defaultdict\n",
    "import itertools\n",
    "from pymatgen.analysis.local_env import VoronoiNN\n",
    "\n",
    "# Define a list of colors for different elements\n",
    "color_cycle = itertools.cycle([\n",
    "    'blue', 'green', 'orange', 'purple', 'brown', 'pink', 'gray', 'cyan', 'magenta'\n",
    "])\n",
    "\n",
    "def custom_distance(site1: Site, site2: Site) -> float:\n",
    "    # Geometric distance\n",
    "    geometric_dist = site1.distance(site2)\n",
    "    \n",
    "    # Chemical composition distance (difference in electronegativity)\n",
    "    element1 = list(site1.species.elements)[0]\n",
    "    element2 = list(site2.species.elements)[0]\n",
    "    composition_dist = (element1.X - element2.X) ** 2\n",
    "    \n",
    "    # Debugging print statements\n",
    "    #print(f\"Geometric distance between {element1} and {element2}: {geometric_dist}\")\n",
    "    #print(f\"Electronegativity difference squared: {composition_dist}\")\n",
    "    \n",
    "    # Combined distance\n",
    "    combined_dist = geometric_dist + composition_dist\n",
    "    #print(f\"Combined distance: {combined_dist}\\n\")\n",
    "    \n",
    "    return combined_dist\n",
    "\n",
    "def identify_highest_complexity_sites(structure, top_n=3, initial_concentration_threshold=0.5):\n",
    "    sites = structure.sites\n",
    "    complexity_scores = np.zeros(len(sites))\n",
    "    \n",
    "    for i, site1 in enumerate(sites):\n",
    "        for site2 in sites:\n",
    "            complexity_scores[i] += custom_distance(site1, site2)\n",
    "    \n",
    "    top_indices = complexity_scores.argsort()[::-1]\n",
    "    \n",
    "    element_counts = defaultdict(int)\n",
    "    for site in sites:\n",
    "        element_counts[str(site.species)] += 1\n",
    "    \n",
    "    vnn = VoronoiNN()\n",
    "    selected_sites = []\n",
    "    selected_neighbors = set()\n",
    "    \n",
    "    concentration_threshold = initial_concentration_threshold\n",
    "    while len(selected_sites) < top_n and concentration_threshold <= 1.0:\n",
    "        for index in top_indices:\n",
    "            if len(selected_sites) >= top_n:\n",
    "                break\n",
    "            site = sites[index]\n",
    "            element = str(site.species)\n",
    "\n",
    "            if element_counts[element] > 2 or (element_counts[element] > 1 and element_counts[element] - 1 >= (1 - concentration_threshold) * element_counts[element]):\n",
    "                neighbors = set(n['site_index'] for n in vnn.get_nn_info(structure, index))\n",
    "\n",
    "                if not selected_neighbors.intersection(neighbors):\n",
    "                    selected_sites.append(site)\n",
    "                    selected_neighbors.update(neighbors)\n",
    "                    element_counts[element] -= 1\n",
    "            else:\n",
    "                # Find a nearby site with comparable complexity and an element with more than 2 in the structure\n",
    "                min_dist = float('inf')\n",
    "                best_site = None\n",
    "                best_index = None\n",
    "                for other_index, other_site in enumerate(sites):\n",
    "                    other_element = str(other_site.species)\n",
    "                    if other_site not in selected_sites and element_counts[other_element] > 2:\n",
    "                        dist = site.distance(other_site)\n",
    "                        if dist < min_dist and complexity_scores[other_index] >= complexity_scores[index] * 0.9:\n",
    "                            neighbors = set(n['site_index'] for n in vnn.get_nn_info(structure, other_index))\n",
    "                            if not selected_neighbors.intersection(neighbors):\n",
    "                                min_dist = dist\n",
    "                                best_site = other_site\n",
    "                                best_index = other_index\n",
    "                if best_site:\n",
    "                    selected_sites.append(best_site)\n",
    "                    selected_neighbors.update(neighbors)\n",
    "                    element_counts[str(best_site.species)] -= 1\n",
    "        \n",
    "        # If not enough sites found, relax the concentration threshold\n",
    "        if len(selected_sites) < top_n:\n",
    "            concentration_threshold += 0.1\n",
    "    \n",
    "    return selected_sites[:top_n]\n",
    "\n",
    "def plot_structure_with_highlighted_sites(structure, top_sites):\n",
    "    fig = go.Figure()\n",
    "    \n",
    "    element_colors = defaultdict(lambda: next(color_cycle))\n",
    "    \n",
    "    # Plot all sites by element type\n",
    "    for site in structure:\n",
    "        element = str(site.species)\n",
    "        color = element_colors[element]\n",
    "        fig.add_trace(go.Scatter3d(\n",
    "            x=[site.x],\n",
    "            y=[site.y],\n",
    "            z=[site.z],\n",
    "            mode='markers',\n",
    "            marker=dict(size=5, color=color),\n",
    "            name=element,\n",
    "            legendgroup=element,\n",
    "            showlegend=True\n",
    "        ))\n",
    "\n",
    "    # Highlight top sites\n",
    "    for site in top_sites:\n",
    "        element = str(site.species)\n",
    "        fig.add_trace(go.Scatter3d(\n",
    "            x=[site.x],\n",
    "            y=[site.y],\n",
    "            z=[site.z],\n",
    "            mode='markers',\n",
    "            marker=dict(size=10, color='red', symbol='diamond'),\n",
    "            name=f'Highlighted {element}',\n",
    "            legendgroup=f'Highlighted {element}',\n",
    "            showlegend=True\n",
    "        ))\n",
    "\n",
    "    # Update layout for better visualization\n",
    "    fig.update_layout(scene=dict(\n",
    "        xaxis_title='X',\n",
    "        yaxis_title='Y',\n",
    "        zaxis_title='Z'),\n",
    "        title=\"Structure with Highlighted Sites\"\n",
    "    )\n",
    "\n",
    "    fig.show()\n",
    "\n",
    "# Example usage:\n",
    "# Load your structure\n",
    "#structure = Structure.from_file(\"POSCAR\")\n",
    "\n",
    "# Identify the top sites with highest chemical complexity\n",
    "top_sites = identify_highest_complexity_sites(structure)\n",
    "\n",
    "# Plot the structure and highlight the top sites\n",
    "plot_structure_with_highlighted_sites(structure, top_sites)\n"
   ]
  },
  {
   "cell_type": "code",
   "execution_count": 61,
   "metadata": {},
   "outputs": [
    {
     "data": {
      "application/vnd.plotly.v1+json": {
       "config": {
        "plotlyServerURL": "https://plot.ly"
       },
       "data": [
        {
         "legendgroup": "Zr1",
         "marker": {
          "color": "blue",
          "size": 5
         },
         "mode": "markers",
         "name": "Zr1",
         "showlegend": true,
         "type": "scatter3d",
         "x": [
          2.935539908367452
         ],
         "y": [
          3.0339065864841785
         ],
         "z": [
          9.016475529269893
         ]
        },
        {
         "legendgroup": "Ta1",
         "marker": {
          "color": "green",
          "size": 5
         },
         "mode": "markers",
         "name": "Ta1",
         "showlegend": true,
         "type": "scatter3d",
         "x": [
          6.037510269155591
         ],
         "y": [
          -5.981591358276833
         ],
         "z": [
          5.98944340541853
         ]
        },
        {
         "legendgroup": "Ti1",
         "marker": {
          "color": "orange",
          "size": 5
         },
         "mode": "markers",
         "name": "Ti1",
         "showlegend": true,
         "type": "scatter3d",
         "x": [
          4.491703154342272
         ],
         "y": [
          10.542946095625187
         ],
         "z": [
          -1.4973270978324267
         ]
        },
        {
         "legendgroup": "Ti1",
         "marker": {
          "color": "orange",
          "size": 5
         },
         "mode": "markers",
         "name": "Ti1",
         "showlegend": true,
         "type": "scatter3d",
         "x": [
          0.009932843196155616
         ],
         "y": [
          9.023713328657669
         ],
         "z": [
          6.00128974490947
         ]
        },
        {
         "legendgroup": "Ti1",
         "marker": {
          "color": "orange",
          "size": 5
         },
         "mode": "markers",
         "name": "Ti1",
         "showlegend": true,
         "type": "scatter3d",
         "x": [
          9.012453199806988
         ],
         "y": [
          -3.023294755328025
         ],
         "z": [
          3.0734197901516564
         ]
        },
        {
         "legendgroup": "V1",
         "marker": {
          "color": "purple",
          "size": 5
         },
         "mode": "markers",
         "name": "V1",
         "showlegend": true,
         "type": "scatter3d",
         "x": [
          -5.995475520030445
         ],
         "y": [
          6.026669300917146
         ],
         "z": [
          6.019444831705289
         ]
        },
        {
         "legendgroup": "V1",
         "marker": {
          "color": "purple",
          "size": 5
         },
         "mode": "markers",
         "name": "V1",
         "showlegend": true,
         "type": "scatter3d",
         "x": [
          10.496343967536676
         ],
         "y": [
          4.521259782759586
         ],
         "z": [
          4.54739528161071
         ]
        },
        {
         "legendgroup": "V1",
         "marker": {
          "color": "purple",
          "size": 5
         },
         "mode": "markers",
         "name": "V1",
         "showlegend": true,
         "type": "scatter3d",
         "x": [
          -4.50910299899971
         ],
         "y": [
          4.5461296913777485
         ],
         "z": [
          7.431335773639004
         ]
        },
        {
         "legendgroup": "V1",
         "marker": {
          "color": "purple",
          "size": 5
         },
         "mode": "markers",
         "name": "V1",
         "showlegend": true,
         "type": "scatter3d",
         "x": [
          -4.512723998373536
         ],
         "y": [
          7.547965719085857
         ],
         "z": [
          4.5179196805930175
         ]
        },
        {
         "legendgroup": "V1",
         "marker": {
          "color": "purple",
          "size": 5
         },
         "mode": "markers",
         "name": "V1",
         "showlegend": true,
         "type": "scatter3d",
         "x": [
          4.5068556602739624
         ],
         "y": [
          -4.503456981975983
         ],
         "z": [
          10.524836981818368
         ]
        },
        {
         "legendgroup": "V1",
         "marker": {
          "color": "purple",
          "size": 5
         },
         "mode": "markers",
         "name": "V1",
         "showlegend": true,
         "type": "scatter3d",
         "x": [
          4.5216370855914665
         ],
         "y": [
          10.521795770005527
         ],
         "z": [
          1.5246577010584277
         ]
        },
        {
         "legendgroup": "V1",
         "marker": {
          "color": "purple",
          "size": 5
         },
         "mode": "markers",
         "name": "V1",
         "showlegend": true,
         "type": "scatter3d",
         "x": [
          4.485115242927387
         ],
         "y": [
          -1.5178200428926916
         ],
         "z": [
          10.47451003728828
         ]
        },
        {
         "legendgroup": "V1",
         "marker": {
          "color": "purple",
          "size": 5
         },
         "mode": "markers",
         "name": "V1",
         "showlegend": true,
         "type": "scatter3d",
         "x": [
          -2.9504325006656535
         ],
         "y": [
          6.08224065736146
         ],
         "z": [
          6.003853323591471
         ]
        },
        {
         "legendgroup": "V1",
         "marker": {
          "color": "purple",
          "size": 5
         },
         "mode": "markers",
         "name": "V1",
         "showlegend": true,
         "type": "scatter3d",
         "x": [
          4.505841656789977
         ],
         "y": [
          1.4155254804137662
         ],
         "z": [
          10.511806214247377
         ]
        },
        {
         "legendgroup": "V1",
         "marker": {
          "color": "purple",
          "size": 5
         },
         "mode": "markers",
         "name": "V1",
         "showlegend": true,
         "type": "scatter3d",
         "x": [
          6.0215171887554115
         ],
         "y": [
          -6.017117811839822
         ],
         "z": [
          9.019568395253803
         ]
        },
        {
         "legendgroup": "V1",
         "marker": {
          "color": "purple",
          "size": 5
         },
         "mode": "markers",
         "name": "V1",
         "showlegend": true,
         "type": "scatter3d",
         "x": [
          6.0072619540077286
         ],
         "y": [
          9.02023510868992
         ],
         "z": [
          -3.0090267238867474
         ]
        },
        {
         "legendgroup": "V1",
         "marker": {
          "color": "purple",
          "size": 5
         },
         "mode": "markers",
         "name": "V1",
         "showlegend": true,
         "type": "scatter3d",
         "x": [
          6.022817427949655
         ],
         "y": [
          9.00671047810144
         ],
         "z": [
          0.008438891172966478
         ]
        },
        {
         "legendgroup": "V1",
         "marker": {
          "color": "purple",
          "size": 5
         },
         "mode": "markers",
         "name": "V1",
         "showlegend": true,
         "type": "scatter3d",
         "x": [
          6.025203735695498
         ],
         "y": [
          9.014961673908426
         ],
         "z": [
          2.9928219743408464
         ]
        },
        {
         "legendgroup": "V1",
         "marker": {
          "color": "purple",
          "size": 5
         },
         "mode": "markers",
         "name": "V1",
         "showlegend": true,
         "type": "scatter3d",
         "x": [
          6.026310901568302
         ],
         "y": [
          -2.94635572034454
         ],
         "z": [
          9.004768291637973
         ]
        },
        {
         "legendgroup": "V1",
         "marker": {
          "color": "purple",
          "size": 5
         },
         "mode": "markers",
         "name": "V1",
         "showlegend": true,
         "type": "scatter3d",
         "x": [
          -1.4937289483201766
         ],
         "y": [
          4.594702087150917
         ],
         "z": [
          4.546229832314069
         ]
        },
        {
         "legendgroup": "V1",
         "marker": {
          "color": "purple",
          "size": 5
         },
         "mode": "markers",
         "name": "V1",
         "showlegend": true,
         "type": "scatter3d",
         "x": [
          -1.519682885978355
         ],
         "y": [
          4.5079267362355395
         ],
         "z": [
          7.519478390146276
         ]
        },
        {
         "legendgroup": "V1",
         "marker": {
          "color": "purple",
          "size": 5
         },
         "mode": "markers",
         "name": "V1",
         "showlegend": true,
         "type": "scatter3d",
         "x": [
          -1.449991903551141
         ],
         "y": [
          7.509832899046741
         ],
         "z": [
          1.5012211618371623
         ]
        },
        {
         "legendgroup": "V1",
         "marker": {
          "color": "purple",
          "size": 5
         },
         "mode": "markers",
         "name": "V1",
         "showlegend": true,
         "type": "scatter3d",
         "x": [
          -1.425205764677181
         ],
         "y": [
          7.484632993470603
         ],
         "z": [
          4.5241878293437745
         ]
        },
        {
         "legendgroup": "V1",
         "marker": {
          "color": "purple",
          "size": 5
         },
         "mode": "markers",
         "name": "V1",
         "showlegend": true,
         "type": "scatter3d",
         "x": [
          6.000092184094461
         ],
         "y": [
          2.9694490907219437
         ],
         "z": [
          9.010461012757307
         ]
        },
        {
         "legendgroup": "V1",
         "marker": {
          "color": "purple",
          "size": 5
         },
         "mode": "markers",
         "name": "V1",
         "showlegend": true,
         "type": "scatter3d",
         "x": [
          0.023434188472279516
         ],
         "y": [
          0.037851010728415346
         ],
         "z": [
          14.973563214364832
         ]
        },
        {
         "legendgroup": "V1",
         "marker": {
          "color": "purple",
          "size": 5
         },
         "mode": "markers",
         "name": "V1",
         "showlegend": true,
         "type": "scatter3d",
         "x": [
          0.004381245510542309
         ],
         "y": [
          -0.003952974500150086
         ],
         "z": [
          3.0275359521381286
         ]
        },
        {
         "legendgroup": "V1",
         "marker": {
          "color": "purple",
          "size": 5
         },
         "mode": "markers",
         "name": "V1",
         "showlegend": true,
         "type": "scatter3d",
         "x": [
          0.030600259670918728
         ],
         "y": [
          0.05888734783999139
         ],
         "z": [
          6.064220136492532
         ]
        },
        {
         "legendgroup": "V1",
         "marker": {
          "color": "purple",
          "size": 5
         },
         "mode": "markers",
         "name": "V1",
         "showlegend": true,
         "type": "scatter3d",
         "x": [
          7.525109671257633
         ],
         "y": [
          7.524757822800902
         ],
         "z": [
          1.5207123562299585
         ]
        },
        {
         "legendgroup": "V1",
         "marker": {
          "color": "purple",
          "size": 5
         },
         "mode": "markers",
         "name": "V1",
         "showlegend": true,
         "type": "scatter3d",
         "x": [
          -0.0016794338896546825
         ],
         "y": [
          2.993570044248688
         ],
         "z": [
          0.008805867276572982
         ]
        },
        {
         "legendgroup": "V1",
         "marker": {
          "color": "purple",
          "size": 5
         },
         "mode": "markers",
         "name": "V1",
         "showlegend": true,
         "type": "scatter3d",
         "x": [
          -0.05549405833563492
         ],
         "y": [
          3.0758376458914087
         ],
         "z": [
          5.9871570546614805
         ]
        },
        {
         "legendgroup": "V1",
         "marker": {
          "color": "purple",
          "size": 5
         },
         "mode": "markers",
         "name": "V1",
         "showlegend": true,
         "type": "scatter3d",
         "x": [
          -0.0004292649094725931
         ],
         "y": [
          3.028264898776886
         ],
         "z": [
          9.012770250209826
         ]
        },
        {
         "legendgroup": "V1",
         "marker": {
          "color": "purple",
          "size": 5
         },
         "mode": "markers",
         "name": "V1",
         "showlegend": true,
         "type": "scatter3d",
         "x": [
          7.534449020555859
         ],
         "y": [
          -1.497188530598729
         ],
         "z": [
          7.515457288245195
         ]
        },
        {
         "legendgroup": "V1",
         "marker": {
          "color": "purple",
          "size": 5
         },
         "mode": "markers",
         "name": "V1",
         "showlegend": true,
         "type": "scatter3d",
         "x": [
          0.007899194228184081
         ],
         "y": [
          6.004104870082699
         ],
         "z": [
          3.007251167982652
         ]
        },
        {
         "legendgroup": "V1",
         "marker": {
          "color": "purple",
          "size": 5
         },
         "mode": "markers",
         "name": "V1",
         "showlegend": true,
         "type": "scatter3d",
         "x": [
          0.08100656756034397
         ],
         "y": [
          5.982719966704957
         ],
         "z": [
          6.006089356931647
         ]
        },
        {
         "legendgroup": "V1",
         "marker": {
          "color": "purple",
          "size": 5
         },
         "mode": "markers",
         "name": "V1",
         "showlegend": true,
         "type": "scatter3d",
         "x": [
          0.03858373865241384
         ],
         "y": [
          9.033934945743535
         ],
         "z": [
          0.009105396138638805
         ]
        },
        {
         "legendgroup": "V1",
         "marker": {
          "color": "purple",
          "size": 5
         },
         "mode": "markers",
         "name": "V1",
         "showlegend": true,
         "type": "scatter3d",
         "x": [
          0.013210048278616382
         ],
         "y": [
          8.99493481520072
         ],
         "z": [
          3.017237610561346
         ]
        },
        {
         "legendgroup": "V1",
         "marker": {
          "color": "purple",
          "size": 5
         },
         "mode": "markers",
         "name": "V1",
         "showlegend": true,
         "type": "scatter3d",
         "x": [
          -6.006665611156882
         ],
         "y": [
          6.014269512054665
         ],
         "z": [
          9.035049327470087
         ]
        },
        {
         "legendgroup": "V1",
         "marker": {
          "color": "purple",
          "size": 5
         },
         "mode": "markers",
         "name": "V1",
         "showlegend": true,
         "type": "scatter3d",
         "x": [
          8.958079460557295
         ],
         "y": [
          5.990063526813988
         ],
         "z": [
          -0.03546710110536111
         ]
        },
        {
         "legendgroup": "V1",
         "marker": {
          "color": "purple",
          "size": 5
         },
         "mode": "markers",
         "name": "V1",
         "showlegend": true,
         "type": "scatter3d",
         "x": [
          8.994590336993744
         ],
         "y": [
          5.978395381130377
         ],
         "z": [
          2.978401617635566
         ]
        },
        {
         "legendgroup": "V1",
         "marker": {
          "color": "purple",
          "size": 5
         },
         "mode": "markers",
         "name": "V1",
         "showlegend": true,
         "type": "scatter3d",
         "x": [
          -6.006843877222628
         ],
         "y": [
          8.952871108056616
         ],
         "z": [
          6.044207187455872
         ]
        },
        {
         "legendgroup": "V1",
         "marker": {
          "color": "purple",
          "size": 5
         },
         "mode": "markers",
         "name": "V1",
         "showlegend": true,
         "type": "scatter3d",
         "x": [
          1.5122182244400988
         ],
         "y": [
          1.5134486470860624
         ],
         "z": [
          1.50033125423406
         ]
        },
        {
         "legendgroup": "V1",
         "marker": {
          "color": "purple",
          "size": 5
         },
         "mode": "markers",
         "name": "V1",
         "showlegend": true,
         "type": "scatter3d",
         "x": [
          1.482199599574474
         ],
         "y": [
          1.5021183424685365
         ],
         "z": [
          4.567573828294592
         ]
        },
        {
         "legendgroup": "V1",
         "marker": {
          "color": "purple",
          "size": 5
         },
         "mode": "markers",
         "name": "V1",
         "showlegend": true,
         "type": "scatter3d",
         "x": [
          1.5632032570232917
         ],
         "y": [
          1.5079209403028928
         ],
         "z": [
          7.549848451954178
         ]
        },
        {
         "legendgroup": "V1",
         "marker": {
          "color": "purple",
          "size": 5
         },
         "mode": "markers",
         "name": "V1",
         "showlegend": true,
         "type": "scatter3d",
         "x": [
          1.4919187535288465
         ],
         "y": [
          1.5026836157502395
         ],
         "z": [
          10.478201083647468
         ]
        },
        {
         "legendgroup": "V1",
         "marker": {
          "color": "purple",
          "size": 5
         },
         "mode": "markers",
         "name": "V1",
         "showlegend": true,
         "type": "scatter3d",
         "x": [
          1.5433608373246666
         ],
         "y": [
          4.515505260451703
         ],
         "z": [
          -1.5127039550579255
         ]
        },
        {
         "legendgroup": "V1",
         "marker": {
          "color": "purple",
          "size": 5
         },
         "mode": "markers",
         "name": "V1",
         "showlegend": true,
         "type": "scatter3d",
         "x": [
          1.5508907471536333
         ],
         "y": [
          4.532990394475139
         ],
         "z": [
          1.4949844938871444
         ]
        },
        {
         "legendgroup": "V1",
         "marker": {
          "color": "purple",
          "size": 5
         },
         "mode": "markers",
         "name": "V1",
         "showlegend": true,
         "type": "scatter3d",
         "x": [
          1.5034217702335801
         ],
         "y": [
          4.561231112098215
         ],
         "z": [
          4.5489271327357494
         ]
        },
        {
         "legendgroup": "V1",
         "marker": {
          "color": "purple",
          "size": 5
         },
         "mode": "markers",
         "name": "V1",
         "showlegend": true,
         "type": "scatter3d",
         "x": [
          1.4756403576941604
         ],
         "y": [
          4.572153536209705
         ],
         "z": [
          7.5441789209237395
         ]
        },
        {
         "legendgroup": "V1",
         "marker": {
          "color": "purple",
          "size": 5
         },
         "mode": "markers",
         "name": "V1",
         "showlegend": true,
         "type": "scatter3d",
         "x": [
          9.092513981236001
         ],
         "y": [
          0.00336589434010115
         ],
         "z": [
          5.94565813185514
         ]
        },
        {
         "legendgroup": "V1",
         "marker": {
          "color": "purple",
          "size": 5
         },
         "mode": "markers",
         "name": "V1",
         "showlegend": true,
         "type": "scatter3d",
         "x": [
          1.5133148731990331
         ],
         "y": [
          7.478268176923503
         ],
         "z": [
          1.5206322025340346
         ]
        },
        {
         "legendgroup": "V1",
         "marker": {
          "color": "purple",
          "size": 5
         },
         "mode": "markers",
         "name": "V1",
         "showlegend": true,
         "type": "scatter3d",
         "x": [
          1.458555183876383
         ],
         "y": [
          7.491282965688114
         ],
         "z": [
          4.54668675058526
         ]
        },
        {
         "legendgroup": "V1",
         "marker": {
          "color": "purple",
          "size": 5
         },
         "mode": "markers",
         "name": "V1",
         "showlegend": true,
         "type": "scatter3d",
         "x": [
          8.989250097441987
         ],
         "y": [
          2.9672813734268733
         ],
         "z": [
          6.024949396035535
         ]
        },
        {
         "legendgroup": "V1",
         "marker": {
          "color": "purple",
          "size": 5
         },
         "mode": "markers",
         "name": "V1",
         "showlegend": true,
         "type": "scatter3d",
         "x": [
          1.4647944896300986
         ],
         "y": [
          10.570678592867557
         ],
         "z": [
          1.485889363002999
         ]
        },
        {
         "legendgroup": "V1",
         "marker": {
          "color": "purple",
          "size": 5
         },
         "mode": "markers",
         "name": "V1",
         "showlegend": true,
         "type": "scatter3d",
         "x": [
          3.0026461198273826
         ],
         "y": [
          -3.0007583703252276
         ],
         "z": [
          3.012481387774622
         ]
        },
        {
         "legendgroup": "V1",
         "marker": {
          "color": "purple",
          "size": 5
         },
         "mode": "markers",
         "name": "V1",
         "showlegend": true,
         "type": "scatter3d",
         "x": [
          10.510504599550355
         ],
         "y": [
          4.516343243902436
         ],
         "z": [
          -1.511302331785858
         ]
        },
        {
         "legendgroup": "V1",
         "marker": {
          "color": "purple",
          "size": 5
         },
         "mode": "markers",
         "name": "V1",
         "showlegend": true,
         "type": "scatter3d",
         "x": [
          3.0051488404595177
         ],
         "y": [
          -0.003627052663519814
         ],
         "z": [
          0.01808506229807305
         ]
        },
        {
         "legendgroup": "V1",
         "marker": {
          "color": "purple",
          "size": 5
         },
         "mode": "markers",
         "name": "V1",
         "showlegend": true,
         "type": "scatter3d",
         "x": [
          2.998008081637388
         ],
         "y": [
          -0.02302773366139199
         ],
         "z": [
          2.9815367702402584
         ]
        },
        {
         "legendgroup": "V1",
         "marker": {
          "color": "purple",
          "size": 5
         },
         "mode": "markers",
         "name": "V1",
         "showlegend": true,
         "type": "scatter3d",
         "x": [
          3.000259370959527
         ],
         "y": [
          0.010853026174151736
         ],
         "z": [
          6.012169903131462
         ]
        },
        {
         "legendgroup": "V1",
         "marker": {
          "color": "purple",
          "size": 5
         },
         "mode": "markers",
         "name": "V1",
         "showlegend": true,
         "type": "scatter3d",
         "x": [
          3.015274201887316
         ],
         "y": [
          0.010654916465067998
         ],
         "z": [
          9.030668838620807
         ]
        },
        {
         "legendgroup": "V1",
         "marker": {
          "color": "purple",
          "size": 5
         },
         "mode": "markers",
         "name": "V1",
         "showlegend": true,
         "type": "scatter3d",
         "x": [
          3.0773904895886997
         ],
         "y": [
          3.0752596039391262
         ],
         "z": [
          -2.984344106494035
         ]
        },
        {
         "legendgroup": "V1",
         "marker": {
          "color": "purple",
          "size": 5
         },
         "mode": "markers",
         "name": "V1",
         "showlegend": true,
         "type": "scatter3d",
         "x": [
          3.005051368800529
         ],
         "y": [
          2.9641710853371883
         ],
         "z": [
          0.07533546416941661
         ]
        },
        {
         "legendgroup": "V1",
         "marker": {
          "color": "purple",
          "size": 5
         },
         "mode": "markers",
         "name": "V1",
         "showlegend": true,
         "type": "scatter3d",
         "x": [
          3.022618560583277
         ],
         "y": [
          2.938304225627022
         ],
         "z": [
          2.985649476408345
         ]
        },
        {
         "legendgroup": "V1",
         "marker": {
          "color": "purple",
          "size": 5
         },
         "mode": "markers",
         "name": "V1",
         "showlegend": true,
         "type": "scatter3d",
         "x": [
          3.03383776141397
         ],
         "y": [
          2.999839181865722
         ],
         "z": [
          6.053746815455785
         ]
        },
        {
         "legendgroup": "V1",
         "marker": {
          "color": "purple",
          "size": 5
         },
         "mode": "markers",
         "name": "V1",
         "showlegend": true,
         "type": "scatter3d",
         "x": [
          10.532764931122708
         ],
         "y": [
          -1.4949925208802295
         ],
         "z": [
          4.509581308778479
         ]
        },
        {
         "legendgroup": "V1",
         "marker": {
          "color": "purple",
          "size": 5
         },
         "mode": "markers",
         "name": "V1",
         "showlegend": true,
         "type": "scatter3d",
         "x": [
          3.0636146251558554
         ],
         "y": [
          5.951402983908172
         ],
         "z": [
          0.025999408674000746
         ]
        },
        {
         "legendgroup": "V1",
         "marker": {
          "color": "purple",
          "size": 5
         },
         "mode": "markers",
         "name": "V1",
         "showlegend": true,
         "type": "scatter3d",
         "x": [
          2.9991233128251427
         ],
         "y": [
          6.014515661209336
         ],
         "z": [
          2.9919105250730444
         ]
        },
        {
         "legendgroup": "V1",
         "marker": {
          "color": "purple",
          "size": 5
         },
         "mode": "markers",
         "name": "V1",
         "showlegend": true,
         "type": "scatter3d",
         "x": [
          3.0268691866841246
         ],
         "y": [
          5.9857055472942555
         ],
         "z": [
          5.939429236773274
         ]
        },
        {
         "legendgroup": "V1",
         "marker": {
          "color": "purple",
          "size": 5
         },
         "mode": "markers",
         "name": "V1",
         "showlegend": true,
         "type": "scatter3d",
         "x": [
          2.9943120477102223
         ],
         "y": [
          8.988144059207652
         ],
         "z": [
          -0.0574878219852053
         ]
        },
        {
         "legendgroup": "V1",
         "marker": {
          "color": "purple",
          "size": 5
         },
         "mode": "markers",
         "name": "V1",
         "showlegend": true,
         "type": "scatter3d",
         "x": [
          2.980831798589913
         ],
         "y": [
          8.985940471411704
         ],
         "z": [
          3.0882842378843534
         ]
        },
        {
         "legendgroup": "V1",
         "marker": {
          "color": "purple",
          "size": 5
         },
         "mode": "markers",
         "name": "V1",
         "showlegend": true,
         "type": "scatter3d",
         "x": [
          4.467666532703816
         ],
         "y": [
          -4.430059641915006
         ],
         "z": [
          4.51840361644203
         ]
        },
        {
         "legendgroup": "V1",
         "marker": {
          "color": "purple",
          "size": 5
         },
         "mode": "markers",
         "name": "V1",
         "showlegend": true,
         "type": "scatter3d",
         "x": [
          12.022318818183198
         ],
         "y": [
          3.011079692066775
         ],
         "z": [
          -0.03234982196362868
         ]
        },
        {
         "legendgroup": "V1",
         "marker": {
          "color": "purple",
          "size": 5
         },
         "mode": "markers",
         "name": "V1",
         "showlegend": true,
         "type": "scatter3d",
         "x": [
          -2.9956252275013644
         ],
         "y": [
          5.977644973175835
         ],
         "z": [
          9.013998096138689
         ]
        },
        {
         "legendgroup": "V1",
         "marker": {
          "color": "purple",
          "size": 5
         },
         "mode": "markers",
         "name": "V1",
         "showlegend": true,
         "type": "scatter3d",
         "x": [
          4.549662987784599
         ],
         "y": [
          -1.479496033383355
         ],
         "z": [
          4.5886959724049134
         ]
        },
        {
         "legendgroup": "V1",
         "marker": {
          "color": "purple",
          "size": 5
         },
         "mode": "markers",
         "name": "V1",
         "showlegend": true,
         "type": "scatter3d",
         "x": [
          4.478279719603739
         ],
         "y": [
          -1.497436299719399
         ],
         "z": [
          7.465752022322549
         ]
        },
        {
         "legendgroup": "V1",
         "marker": {
          "color": "purple",
          "size": 5
         },
         "mode": "markers",
         "name": "V1",
         "showlegend": true,
         "type": "scatter3d",
         "x": [
          -3.0693137429699875
         ],
         "y": [
          8.998372742556626
         ],
         "z": [
          5.9612924101092535
         ]
        },
        {
         "legendgroup": "V1",
         "marker": {
          "color": "purple",
          "size": 5
         },
         "mode": "markers",
         "name": "V1",
         "showlegend": true,
         "type": "scatter3d",
         "x": [
          4.467255359350902
         ],
         "y": [
          1.505092817087902
         ],
         "z": [
          1.5209144876563645
         ]
        },
        {
         "legendgroup": "V1",
         "marker": {
          "color": "purple",
          "size": 5
         },
         "mode": "markers",
         "name": "V1",
         "showlegend": true,
         "type": "scatter3d",
         "x": [
          4.509180064052138
         ],
         "y": [
          1.517032316628086
         ],
         "z": [
          4.546961956014141
         ]
        },
        {
         "legendgroup": "V1",
         "marker": {
          "color": "purple",
          "size": 5
         },
         "mode": "markers",
         "name": "V1",
         "showlegend": true,
         "type": "scatter3d",
         "x": [
          4.513927905838525
         ],
         "y": [
          1.510405018136427
         ],
         "z": [
          7.540699046378544
         ]
        },
        {
         "legendgroup": "V1",
         "marker": {
          "color": "purple",
          "size": 5
         },
         "mode": "markers",
         "name": "V1",
         "showlegend": true,
         "type": "scatter3d",
         "x": [
          4.489602109436702
         ],
         "y": [
          4.55280554155556
         ],
         "z": [
          -4.440197537584152
         ]
        },
        {
         "legendgroup": "V1",
         "marker": {
          "color": "purple",
          "size": 5
         },
         "mode": "markers",
         "name": "V1",
         "showlegend": true,
         "type": "scatter3d",
         "x": [
          4.498153981301817
         ],
         "y": [
          4.512588167873498
         ],
         "z": [
          -1.5353084014142133
         ]
        },
        {
         "legendgroup": "V1",
         "marker": {
          "color": "purple",
          "size": 5
         },
         "mode": "markers",
         "name": "V1",
         "showlegend": true,
         "type": "scatter3d",
         "x": [
          4.565352916769381
         ],
         "y": [
          4.455486815206098
         ],
         "z": [
          1.5508419738651695
         ]
        },
        {
         "legendgroup": "V1",
         "marker": {
          "color": "purple",
          "size": 5
         },
         "mode": "markers",
         "name": "V1",
         "showlegend": true,
         "type": "scatter3d",
         "x": [
          4.497220579108564
         ],
         "y": [
          4.489338710356597
         ],
         "z": [
          4.534267365939243
         ]
        },
        {
         "legendgroup": "V1",
         "marker": {
          "color": "purple",
          "size": 5
         },
         "mode": "markers",
         "name": "V1",
         "showlegend": true,
         "type": "scatter3d",
         "x": [
          4.481337308261179
         ],
         "y": [
          4.521428533102043
         ],
         "z": [
          7.475927943642293
         ]
        },
        {
         "legendgroup": "V1",
         "marker": {
          "color": "purple",
          "size": 5
         },
         "mode": "markers",
         "name": "V1",
         "showlegend": true,
         "type": "scatter3d",
         "x": [
          4.510103028229922
         ],
         "y": [
          7.517795892108405
         ],
         "z": [
          -4.508752118124365
         ]
        },
        {
         "legendgroup": "V1",
         "marker": {
          "color": "purple",
          "size": 5
         },
         "mode": "markers",
         "name": "V1",
         "showlegend": true,
         "type": "scatter3d",
         "x": [
          4.53009539924002
         ],
         "y": [
          7.514344022423348
         ],
         "z": [
          -1.5318421300284286
         ]
        },
        {
         "legendgroup": "V1",
         "marker": {
          "color": "purple",
          "size": 5
         },
         "mode": "markers",
         "name": "V1",
         "showlegend": true,
         "type": "scatter3d",
         "x": [
          4.560576470227135
         ],
         "y": [
          7.556364591546171
         ],
         "z": [
          1.575796416379073
         ]
        },
        {
         "legendgroup": "V1",
         "marker": {
          "color": "purple",
          "size": 5
         },
         "mode": "markers",
         "name": "V1",
         "showlegend": true,
         "type": "scatter3d",
         "x": [
          4.495562955836894
         ],
         "y": [
          7.516899590757475
         ],
         "z": [
          4.59168169905349
         ]
        },
        {
         "legendgroup": "V1",
         "marker": {
          "color": "purple",
          "size": 5
         },
         "mode": "markers",
         "name": "V1",
         "showlegend": true,
         "type": "scatter3d",
         "x": [
          -1.4863910740233717
         ],
         "y": [
          4.4973612468968645
         ],
         "z": [
          10.529315778874224
         ]
        },
        {
         "legendgroup": "V1",
         "marker": {
          "color": "purple",
          "size": 5
         },
         "mode": "markers",
         "name": "V1",
         "showlegend": true,
         "type": "scatter3d",
         "x": [
          5.972421611408949
         ],
         "y": [
          -2.9635269176739163
         ],
         "z": [
          5.973378445112733
         ]
        },
        {
         "legendgroup": "V1",
         "marker": {
          "color": "purple",
          "size": 5
         },
         "mode": "markers",
         "name": "V1",
         "showlegend": true,
         "type": "scatter3d",
         "x": [
          -1.5279339288001546
         ],
         "y": [
          7.4564731794817565
         ],
         "z": [
          7.511577866889974
         ]
        },
        {
         "legendgroup": "V1",
         "marker": {
          "color": "purple",
          "size": 5
         },
         "mode": "markers",
         "name": "V1",
         "showlegend": true,
         "type": "scatter3d",
         "x": [
          6.00801515386549
         ],
         "y": [
          0.00779804876403567
         ],
         "z": [
          2.9543630624530053
         ]
        },
        {
         "legendgroup": "V1",
         "marker": {
          "color": "purple",
          "size": 5
         },
         "mode": "markers",
         "name": "V1",
         "showlegend": true,
         "type": "scatter3d",
         "x": [
          5.970209259991524
         ],
         "y": [
          0.05416062753597828
         ],
         "z": [
          6.0115105293276585
         ]
        },
        {
         "legendgroup": "V1",
         "marker": {
          "color": "purple",
          "size": 5
         },
         "mode": "markers",
         "name": "V1",
         "showlegend": true,
         "type": "scatter3d",
         "x": [
          5.938372576195652
         ],
         "y": [
          3.0185575220037677
         ],
         "z": [
          -3.008677890887533
         ]
        },
        {
         "legendgroup": "V1",
         "marker": {
          "color": "purple",
          "size": 5
         },
         "mode": "markers",
         "name": "V1",
         "showlegend": true,
         "type": "scatter3d",
         "x": [
          5.99392213045329
         ],
         "y": [
          2.964793611795702
         ],
         "z": [
          0.03488382477076346
         ]
        },
        {
         "legendgroup": "V1",
         "marker": {
          "color": "purple",
          "size": 5
         },
         "mode": "markers",
         "name": "V1",
         "showlegend": true,
         "type": "scatter3d",
         "x": [
          6.071025979801656
         ],
         "y": [
          2.9807599015748325
         ],
         "z": [
          6.024369452021534
         ]
        },
        {
         "legendgroup": "V1",
         "marker": {
          "color": "purple",
          "size": 5
         },
         "mode": "markers",
         "name": "V1",
         "showlegend": true,
         "type": "scatter3d",
         "x": [
          6.103117866464105
         ],
         "y": [
          6.063161046724318
         ],
         "z": [
          -2.9957644864829027
         ]
        },
        {
         "legendgroup": "V1",
         "marker": {
          "color": "purple",
          "size": 5
         },
         "mode": "markers",
         "name": "V1",
         "showlegend": true,
         "type": "scatter3d",
         "x": [
          5.986632068212668
         ],
         "y": [
          6.006557929461556
         ],
         "z": [
          -0.08533191533198803
         ]
        },
        {
         "legendgroup": "V1",
         "marker": {
          "color": "purple",
          "size": 5
         },
         "mode": "markers",
         "name": "V1",
         "showlegend": true,
         "type": "scatter3d",
         "x": [
          5.983848829937445
         ],
         "y": [
          6.008948802442412
         ],
         "z": [
          6.047077285113616
         ]
        },
        {
         "legendgroup": "V1",
         "marker": {
          "color": "purple",
          "size": 5
         },
         "mode": "markers",
         "name": "V1",
         "showlegend": true,
         "type": "scatter3d",
         "x": [
          -0.0033072381209144908
         ],
         "y": [
          3.0299434901369944
         ],
         "z": [
          12.010374619877885
         ]
        },
        {
         "legendgroup": "V1",
         "marker": {
          "color": "purple",
          "size": 5
         },
         "mode": "markers",
         "name": "V1",
         "showlegend": true,
         "type": "scatter3d",
         "x": [
          7.53009980903332
         ],
         "y": [
          -1.462092425426197
         ],
         "z": [
          1.553307469544491
         ]
        },
        {
         "legendgroup": "V1",
         "marker": {
          "color": "purple",
          "size": 5
         },
         "mode": "markers",
         "name": "V1",
         "showlegend": true,
         "type": "scatter3d",
         "x": [
          7.486622360933489
         ],
         "y": [
          -1.5364608651857177
         ],
         "z": [
          4.536927681187772
         ]
        },
        {
         "legendgroup": "V1",
         "marker": {
          "color": "purple",
          "size": 5
         },
         "mode": "markers",
         "name": "V1",
         "showlegend": true,
         "type": "scatter3d",
         "x": [
          7.52795039088392
         ],
         "y": [
          1.5516176045020185
         ],
         "z": [
          1.5527186880191306
         ]
        },
        {
         "legendgroup": "V1",
         "marker": {
          "color": "purple",
          "size": 5
         },
         "mode": "markers",
         "name": "V1",
         "showlegend": true,
         "type": "scatter3d",
         "x": [
          7.473826127557617
         ],
         "y": [
          1.508426965751588
         ],
         "z": [
          4.5862557540146796
         ]
        },
        {
         "legendgroup": "V1",
         "marker": {
          "color": "purple",
          "size": 5
         },
         "mode": "markers",
         "name": "V1",
         "showlegend": true,
         "type": "scatter3d",
         "x": [
          -0.04675117760082159
         ],
         "y": [
          12.038974957030726
         ],
         "z": [
          2.9967435746576503
         ]
        },
        {
         "legendgroup": "V1",
         "marker": {
          "color": "purple",
          "size": 5
         },
         "mode": "markers",
         "name": "V1",
         "showlegend": true,
         "type": "scatter3d",
         "x": [
          7.5088530359752585
         ],
         "y": [
          4.507002920003241
         ],
         "z": [
          -1.5076588125243742
         ]
        },
        {
         "legendgroup": "V1",
         "marker": {
          "color": "purple",
          "size": 5
         },
         "mode": "markers",
         "name": "V1",
         "showlegend": true,
         "type": "scatter3d",
         "x": [
          7.542617221843683
         ],
         "y": [
          4.595819888155657
         ],
         "z": [
          1.5376524722084075
         ]
        },
        {
         "legendgroup": "V1",
         "marker": {
          "color": "purple",
          "size": 5
         },
         "mode": "markers",
         "name": "V1",
         "showlegend": true,
         "type": "scatter3d",
         "x": [
          7.531374264801174
         ],
         "y": [
          4.536346983235263
         ],
         "z": [
          4.526854894101614
         ]
        },
        {
         "legendgroup": "V1",
         "marker": {
          "color": "purple",
          "size": 5
         },
         "mode": "markers",
         "name": "V1",
         "showlegend": true,
         "type": "scatter3d",
         "x": [
          9.029129362607364
         ],
         "y": [
          -0.002457641023593915
         ],
         "z": [
          0.011290218978133204
         ]
        },
        {
         "legendgroup": "V1",
         "marker": {
          "color": "purple",
          "size": 5
         },
         "mode": "markers",
         "name": "V1",
         "showlegend": true,
         "type": "scatter3d",
         "x": [
          9.014644008640422
         ],
         "y": [
          -0.012213357637469002
         ],
         "z": [
          3.059427895094997
         ]
        },
        {
         "legendgroup": "V1",
         "marker": {
          "color": "purple",
          "size": 5
         },
         "mode": "markers",
         "name": "V1",
         "showlegend": true,
         "type": "scatter3d",
         "x": [
          9.071794069774572
         ],
         "y": [
          3.0649078574341697
         ],
         "z": [
          -3.0211953228141413
         ]
        },
        {
         "legendgroup": "V1",
         "marker": {
          "color": "purple",
          "size": 5
         },
         "mode": "markers",
         "name": "V1",
         "showlegend": true,
         "type": "scatter3d",
         "x": [
          9.079718069485606
         ],
         "y": [
          2.9567998467930465
         ],
         "z": [
          -0.033316567629922744
         ]
        },
        {
         "legendgroup": "V1",
         "marker": {
          "color": "purple",
          "size": 5
         },
         "mode": "markers",
         "name": "V1",
         "showlegend": true,
         "type": "scatter3d",
         "x": [
          9.043309339965049
         ],
         "y": [
          3.0227618163544507
         ],
         "z": [
          3.0162447648950286
         ]
        },
        {
         "legendgroup": "V1",
         "marker": {
          "color": "purple",
          "size": 5
         },
         "mode": "markers",
         "name": "V1",
         "showlegend": true,
         "type": "scatter3d",
         "x": [
          2.9620483118243026
         ],
         "y": [
          6.015036553890277
         ],
         "z": [
          9.001284285024372
         ]
        },
        {
         "legendgroup": "V1",
         "marker": {
          "color": "purple",
          "size": 5
         },
         "mode": "markers",
         "name": "V1",
         "showlegend": true,
         "type": "scatter3d",
         "x": [
          10.554747678185066
         ],
         "y": [
          1.5534910364410086
         ],
         "z": [
          -1.5231736307028436
         ]
        },
        {
         "legendgroup": "V1",
         "marker": {
          "color": "purple",
          "size": 5
         },
         "mode": "markers",
         "name": "V1",
         "showlegend": true,
         "type": "scatter3d",
         "x": [
          10.579088032269743
         ],
         "y": [
          1.5412919506093186
         ],
         "z": [
          1.4445026589459022
         ]
        },
        {
         "legendgroup": "V1",
         "marker": {
          "color": "purple",
          "size": 5
         },
         "mode": "markers",
         "name": "V1",
         "showlegend": true,
         "type": "scatter3d",
         "x": [
          12.044405190391188
         ],
         "y": [
          -0.02760167701126459
         ],
         "z": [
          0.027831835315559772
         ]
        },
        {
         "legendgroup": "Cr1",
         "marker": {
          "color": "brown",
          "size": 5
         },
         "mode": "markers",
         "name": "Cr1",
         "showlegend": true,
         "type": "scatter3d",
         "x": [
          -0.03773146244276382
         ],
         "y": [
          3.0649613217583185
         ],
         "z": [
          3.083865876693479
         ]
        },
        {
         "legendgroup": "Cr1",
         "marker": {
          "color": "brown",
          "size": 5
         },
         "mode": "markers",
         "name": "Cr1",
         "showlegend": true,
         "type": "scatter3d",
         "x": [
          10.485524851315908
         ],
         "y": [
          4.535719577491522
         ],
         "z": [
          1.4762663334979065
         ]
        },
        {
         "legendgroup": "Cr1",
         "marker": {
          "color": "brown",
          "size": 5
         },
         "mode": "markers",
         "name": "Cr1",
         "showlegend": true,
         "type": "scatter3d",
         "x": [
          3.0731192443193147
         ],
         "y": [
          9.047673962980108
         ],
         "z": [
          -3.0111585862015473
         ]
        },
        {
         "legendgroup": "W1",
         "marker": {
          "color": "pink",
          "size": 5
         },
         "mode": "markers",
         "name": "W1",
         "showlegend": true,
         "type": "scatter3d",
         "x": [
          7.483677200698224
         ],
         "y": [
          7.553485511793982
         ],
         "z": [
          4.457339821051203
         ]
        },
        {
         "legendgroup": "W1",
         "marker": {
          "color": "pink",
          "size": 5
         },
         "mode": "markers",
         "name": "W1",
         "showlegend": true,
         "type": "scatter3d",
         "x": [
          9.009030996487006
         ],
         "y": [
          5.998265768224007
         ],
         "z": [
          -2.954675765452149
         ]
        },
        {
         "legendgroup": "W1",
         "marker": {
          "color": "pink",
          "size": 5
         },
         "mode": "markers",
         "name": "W1",
         "showlegend": true,
         "type": "scatter3d",
         "x": [
          6.028408088111437
         ],
         "y": [
          3.0197574828262033
         ],
         "z": [
          2.988623422823256
         ]
        },
        {
         "legendgroup": "W1",
         "marker": {
          "color": "pink",
          "size": 5
         },
         "mode": "markers",
         "name": "W1",
         "showlegend": true,
         "type": "scatter3d",
         "x": [
          5.954984001178591
         ],
         "y": [
          5.990254243700596
         ],
         "z": [
          8.964509329846813
         ]
        },
        {
         "legendgroup": "W1",
         "marker": {
          "color": "pink",
          "size": 5
         },
         "mode": "markers",
         "name": "W1",
         "showlegend": true,
         "type": "scatter3d",
         "x": [
          5.9377319463649085
         ],
         "y": [
          6.0675793951852555
         ],
         "z": [
          3.0136033555629256
         ]
        },
        {
         "legendgroup": "Highlighted W1",
         "marker": {
          "color": "red",
          "size": 10,
          "symbol": "diamond"
         },
         "mode": "markers",
         "name": "Highlighted W1",
         "showlegend": true,
         "type": "scatter3d",
         "x": [
          5.954984001178591
         ],
         "y": [
          5.990254243700596
         ],
         "z": [
          8.964509329846813
         ]
        },
        {
         "legendgroup": "Highlighted V1",
         "marker": {
          "color": "red",
          "size": 10,
          "symbol": "diamond"
         },
         "mode": "markers",
         "name": "Highlighted V1",
         "showlegend": true,
         "type": "scatter3d",
         "x": [
          1.5632032570232917
         ],
         "y": [
          1.5079209403028928
         ],
         "z": [
          7.549848451954178
         ]
        },
        {
         "legendgroup": "Highlighted V1",
         "marker": {
          "color": "red",
          "size": 10,
          "symbol": "diamond"
         },
         "mode": "markers",
         "name": "Highlighted V1",
         "showlegend": true,
         "type": "scatter3d",
         "x": [
          4.467666532703816
         ],
         "y": [
          -4.430059641915006
         ],
         "z": [
          4.51840361644203
         ]
        },
        {
         "legendgroup": "Highlighted V1",
         "marker": {
          "color": "red",
          "size": 10,
          "symbol": "diamond"
         },
         "mode": "markers",
         "name": "Highlighted V1",
         "showlegend": true,
         "type": "scatter3d",
         "x": [
          9.092513981236001
         ],
         "y": [
          0.00336589434010115
         ],
         "z": [
          5.94565813185514
         ]
        },
        {
         "legendgroup": "Highlighted Ti1",
         "marker": {
          "color": "red",
          "size": 10,
          "symbol": "diamond"
         },
         "mode": "markers",
         "name": "Highlighted Ti1",
         "showlegend": true,
         "type": "scatter3d",
         "x": [
          0.009932843196155616
         ],
         "y": [
          9.023713328657669
         ],
         "z": [
          6.00128974490947
         ]
        }
       ],
       "layout": {
        "scene": {
         "xaxis": {
          "title": {
           "text": "X"
          }
         },
         "yaxis": {
          "title": {
           "text": "Y"
          }
         },
         "zaxis": {
          "title": {
           "text": "Z"
          }
         }
        },
        "template": {
         "data": {
          "bar": [
           {
            "error_x": {
             "color": "#2a3f5f"
            },
            "error_y": {
             "color": "#2a3f5f"
            },
            "marker": {
             "line": {
              "color": "#E5ECF6",
              "width": 0.5
             },
             "pattern": {
              "fillmode": "overlay",
              "size": 10,
              "solidity": 0.2
             }
            },
            "type": "bar"
           }
          ],
          "barpolar": [
           {
            "marker": {
             "line": {
              "color": "#E5ECF6",
              "width": 0.5
             },
             "pattern": {
              "fillmode": "overlay",
              "size": 10,
              "solidity": 0.2
             }
            },
            "type": "barpolar"
           }
          ],
          "carpet": [
           {
            "aaxis": {
             "endlinecolor": "#2a3f5f",
             "gridcolor": "white",
             "linecolor": "white",
             "minorgridcolor": "white",
             "startlinecolor": "#2a3f5f"
            },
            "baxis": {
             "endlinecolor": "#2a3f5f",
             "gridcolor": "white",
             "linecolor": "white",
             "minorgridcolor": "white",
             "startlinecolor": "#2a3f5f"
            },
            "type": "carpet"
           }
          ],
          "choropleth": [
           {
            "colorbar": {
             "outlinewidth": 0,
             "ticks": ""
            },
            "type": "choropleth"
           }
          ],
          "contour": [
           {
            "colorbar": {
             "outlinewidth": 0,
             "ticks": ""
            },
            "colorscale": [
             [
              0,
              "#0d0887"
             ],
             [
              0.1111111111111111,
              "#46039f"
             ],
             [
              0.2222222222222222,
              "#7201a8"
             ],
             [
              0.3333333333333333,
              "#9c179e"
             ],
             [
              0.4444444444444444,
              "#bd3786"
             ],
             [
              0.5555555555555556,
              "#d8576b"
             ],
             [
              0.6666666666666666,
              "#ed7953"
             ],
             [
              0.7777777777777778,
              "#fb9f3a"
             ],
             [
              0.8888888888888888,
              "#fdca26"
             ],
             [
              1,
              "#f0f921"
             ]
            ],
            "type": "contour"
           }
          ],
          "contourcarpet": [
           {
            "colorbar": {
             "outlinewidth": 0,
             "ticks": ""
            },
            "type": "contourcarpet"
           }
          ],
          "heatmap": [
           {
            "colorbar": {
             "outlinewidth": 0,
             "ticks": ""
            },
            "colorscale": [
             [
              0,
              "#0d0887"
             ],
             [
              0.1111111111111111,
              "#46039f"
             ],
             [
              0.2222222222222222,
              "#7201a8"
             ],
             [
              0.3333333333333333,
              "#9c179e"
             ],
             [
              0.4444444444444444,
              "#bd3786"
             ],
             [
              0.5555555555555556,
              "#d8576b"
             ],
             [
              0.6666666666666666,
              "#ed7953"
             ],
             [
              0.7777777777777778,
              "#fb9f3a"
             ],
             [
              0.8888888888888888,
              "#fdca26"
             ],
             [
              1,
              "#f0f921"
             ]
            ],
            "type": "heatmap"
           }
          ],
          "heatmapgl": [
           {
            "colorbar": {
             "outlinewidth": 0,
             "ticks": ""
            },
            "colorscale": [
             [
              0,
              "#0d0887"
             ],
             [
              0.1111111111111111,
              "#46039f"
             ],
             [
              0.2222222222222222,
              "#7201a8"
             ],
             [
              0.3333333333333333,
              "#9c179e"
             ],
             [
              0.4444444444444444,
              "#bd3786"
             ],
             [
              0.5555555555555556,
              "#d8576b"
             ],
             [
              0.6666666666666666,
              "#ed7953"
             ],
             [
              0.7777777777777778,
              "#fb9f3a"
             ],
             [
              0.8888888888888888,
              "#fdca26"
             ],
             [
              1,
              "#f0f921"
             ]
            ],
            "type": "heatmapgl"
           }
          ],
          "histogram": [
           {
            "marker": {
             "pattern": {
              "fillmode": "overlay",
              "size": 10,
              "solidity": 0.2
             }
            },
            "type": "histogram"
           }
          ],
          "histogram2d": [
           {
            "colorbar": {
             "outlinewidth": 0,
             "ticks": ""
            },
            "colorscale": [
             [
              0,
              "#0d0887"
             ],
             [
              0.1111111111111111,
              "#46039f"
             ],
             [
              0.2222222222222222,
              "#7201a8"
             ],
             [
              0.3333333333333333,
              "#9c179e"
             ],
             [
              0.4444444444444444,
              "#bd3786"
             ],
             [
              0.5555555555555556,
              "#d8576b"
             ],
             [
              0.6666666666666666,
              "#ed7953"
             ],
             [
              0.7777777777777778,
              "#fb9f3a"
             ],
             [
              0.8888888888888888,
              "#fdca26"
             ],
             [
              1,
              "#f0f921"
             ]
            ],
            "type": "histogram2d"
           }
          ],
          "histogram2dcontour": [
           {
            "colorbar": {
             "outlinewidth": 0,
             "ticks": ""
            },
            "colorscale": [
             [
              0,
              "#0d0887"
             ],
             [
              0.1111111111111111,
              "#46039f"
             ],
             [
              0.2222222222222222,
              "#7201a8"
             ],
             [
              0.3333333333333333,
              "#9c179e"
             ],
             [
              0.4444444444444444,
              "#bd3786"
             ],
             [
              0.5555555555555556,
              "#d8576b"
             ],
             [
              0.6666666666666666,
              "#ed7953"
             ],
             [
              0.7777777777777778,
              "#fb9f3a"
             ],
             [
              0.8888888888888888,
              "#fdca26"
             ],
             [
              1,
              "#f0f921"
             ]
            ],
            "type": "histogram2dcontour"
           }
          ],
          "mesh3d": [
           {
            "colorbar": {
             "outlinewidth": 0,
             "ticks": ""
            },
            "type": "mesh3d"
           }
          ],
          "parcoords": [
           {
            "line": {
             "colorbar": {
              "outlinewidth": 0,
              "ticks": ""
             }
            },
            "type": "parcoords"
           }
          ],
          "pie": [
           {
            "automargin": true,
            "type": "pie"
           }
          ],
          "scatter": [
           {
            "fillpattern": {
             "fillmode": "overlay",
             "size": 10,
             "solidity": 0.2
            },
            "type": "scatter"
           }
          ],
          "scatter3d": [
           {
            "line": {
             "colorbar": {
              "outlinewidth": 0,
              "ticks": ""
             }
            },
            "marker": {
             "colorbar": {
              "outlinewidth": 0,
              "ticks": ""
             }
            },
            "type": "scatter3d"
           }
          ],
          "scattercarpet": [
           {
            "marker": {
             "colorbar": {
              "outlinewidth": 0,
              "ticks": ""
             }
            },
            "type": "scattercarpet"
           }
          ],
          "scattergeo": [
           {
            "marker": {
             "colorbar": {
              "outlinewidth": 0,
              "ticks": ""
             }
            },
            "type": "scattergeo"
           }
          ],
          "scattergl": [
           {
            "marker": {
             "colorbar": {
              "outlinewidth": 0,
              "ticks": ""
             }
            },
            "type": "scattergl"
           }
          ],
          "scattermapbox": [
           {
            "marker": {
             "colorbar": {
              "outlinewidth": 0,
              "ticks": ""
             }
            },
            "type": "scattermapbox"
           }
          ],
          "scatterpolar": [
           {
            "marker": {
             "colorbar": {
              "outlinewidth": 0,
              "ticks": ""
             }
            },
            "type": "scatterpolar"
           }
          ],
          "scatterpolargl": [
           {
            "marker": {
             "colorbar": {
              "outlinewidth": 0,
              "ticks": ""
             }
            },
            "type": "scatterpolargl"
           }
          ],
          "scatterternary": [
           {
            "marker": {
             "colorbar": {
              "outlinewidth": 0,
              "ticks": ""
             }
            },
            "type": "scatterternary"
           }
          ],
          "surface": [
           {
            "colorbar": {
             "outlinewidth": 0,
             "ticks": ""
            },
            "colorscale": [
             [
              0,
              "#0d0887"
             ],
             [
              0.1111111111111111,
              "#46039f"
             ],
             [
              0.2222222222222222,
              "#7201a8"
             ],
             [
              0.3333333333333333,
              "#9c179e"
             ],
             [
              0.4444444444444444,
              "#bd3786"
             ],
             [
              0.5555555555555556,
              "#d8576b"
             ],
             [
              0.6666666666666666,
              "#ed7953"
             ],
             [
              0.7777777777777778,
              "#fb9f3a"
             ],
             [
              0.8888888888888888,
              "#fdca26"
             ],
             [
              1,
              "#f0f921"
             ]
            ],
            "type": "surface"
           }
          ],
          "table": [
           {
            "cells": {
             "fill": {
              "color": "#EBF0F8"
             },
             "line": {
              "color": "white"
             }
            },
            "header": {
             "fill": {
              "color": "#C8D4E3"
             },
             "line": {
              "color": "white"
             }
            },
            "type": "table"
           }
          ]
         },
         "layout": {
          "annotationdefaults": {
           "arrowcolor": "#2a3f5f",
           "arrowhead": 0,
           "arrowwidth": 1
          },
          "autotypenumbers": "strict",
          "coloraxis": {
           "colorbar": {
            "outlinewidth": 0,
            "ticks": ""
           }
          },
          "colorscale": {
           "diverging": [
            [
             0,
             "#8e0152"
            ],
            [
             0.1,
             "#c51b7d"
            ],
            [
             0.2,
             "#de77ae"
            ],
            [
             0.3,
             "#f1b6da"
            ],
            [
             0.4,
             "#fde0ef"
            ],
            [
             0.5,
             "#f7f7f7"
            ],
            [
             0.6,
             "#e6f5d0"
            ],
            [
             0.7,
             "#b8e186"
            ],
            [
             0.8,
             "#7fbc41"
            ],
            [
             0.9,
             "#4d9221"
            ],
            [
             1,
             "#276419"
            ]
           ],
           "sequential": [
            [
             0,
             "#0d0887"
            ],
            [
             0.1111111111111111,
             "#46039f"
            ],
            [
             0.2222222222222222,
             "#7201a8"
            ],
            [
             0.3333333333333333,
             "#9c179e"
            ],
            [
             0.4444444444444444,
             "#bd3786"
            ],
            [
             0.5555555555555556,
             "#d8576b"
            ],
            [
             0.6666666666666666,
             "#ed7953"
            ],
            [
             0.7777777777777778,
             "#fb9f3a"
            ],
            [
             0.8888888888888888,
             "#fdca26"
            ],
            [
             1,
             "#f0f921"
            ]
           ],
           "sequentialminus": [
            [
             0,
             "#0d0887"
            ],
            [
             0.1111111111111111,
             "#46039f"
            ],
            [
             0.2222222222222222,
             "#7201a8"
            ],
            [
             0.3333333333333333,
             "#9c179e"
            ],
            [
             0.4444444444444444,
             "#bd3786"
            ],
            [
             0.5555555555555556,
             "#d8576b"
            ],
            [
             0.6666666666666666,
             "#ed7953"
            ],
            [
             0.7777777777777778,
             "#fb9f3a"
            ],
            [
             0.8888888888888888,
             "#fdca26"
            ],
            [
             1,
             "#f0f921"
            ]
           ]
          },
          "colorway": [
           "#636efa",
           "#EF553B",
           "#00cc96",
           "#ab63fa",
           "#FFA15A",
           "#19d3f3",
           "#FF6692",
           "#B6E880",
           "#FF97FF",
           "#FECB52"
          ],
          "font": {
           "color": "#2a3f5f"
          },
          "geo": {
           "bgcolor": "white",
           "lakecolor": "white",
           "landcolor": "#E5ECF6",
           "showlakes": true,
           "showland": true,
           "subunitcolor": "white"
          },
          "hoverlabel": {
           "align": "left"
          },
          "hovermode": "closest",
          "mapbox": {
           "style": "light"
          },
          "paper_bgcolor": "white",
          "plot_bgcolor": "#E5ECF6",
          "polar": {
           "angularaxis": {
            "gridcolor": "white",
            "linecolor": "white",
            "ticks": ""
           },
           "bgcolor": "#E5ECF6",
           "radialaxis": {
            "gridcolor": "white",
            "linecolor": "white",
            "ticks": ""
           }
          },
          "scene": {
           "xaxis": {
            "backgroundcolor": "#E5ECF6",
            "gridcolor": "white",
            "gridwidth": 2,
            "linecolor": "white",
            "showbackground": true,
            "ticks": "",
            "zerolinecolor": "white"
           },
           "yaxis": {
            "backgroundcolor": "#E5ECF6",
            "gridcolor": "white",
            "gridwidth": 2,
            "linecolor": "white",
            "showbackground": true,
            "ticks": "",
            "zerolinecolor": "white"
           },
           "zaxis": {
            "backgroundcolor": "#E5ECF6",
            "gridcolor": "white",
            "gridwidth": 2,
            "linecolor": "white",
            "showbackground": true,
            "ticks": "",
            "zerolinecolor": "white"
           }
          },
          "shapedefaults": {
           "line": {
            "color": "#2a3f5f"
           }
          },
          "ternary": {
           "aaxis": {
            "gridcolor": "white",
            "linecolor": "white",
            "ticks": ""
           },
           "baxis": {
            "gridcolor": "white",
            "linecolor": "white",
            "ticks": ""
           },
           "bgcolor": "#E5ECF6",
           "caxis": {
            "gridcolor": "white",
            "linecolor": "white",
            "ticks": ""
           }
          },
          "title": {
           "x": 0.05
          },
          "xaxis": {
           "automargin": true,
           "gridcolor": "white",
           "linecolor": "white",
           "ticks": "",
           "title": {
            "standoff": 15
           },
           "zerolinecolor": "white",
           "zerolinewidth": 2
          },
          "yaxis": {
           "automargin": true,
           "gridcolor": "white",
           "linecolor": "white",
           "ticks": "",
           "title": {
            "standoff": 15
           },
           "zerolinecolor": "white",
           "zerolinewidth": 2
          }
         }
        },
        "title": {
         "text": "Structure with Highlighted Sites"
        }
       }
      }
     },
     "metadata": {},
     "output_type": "display_data"
    }
   ],
   "source": [
    "import numpy as np\n",
    "from pymatgen.core.structure import Structure\n",
    "from pymatgen.core.sites import Site\n",
    "import plotly.graph_objects as go\n",
    "from collections import defaultdict\n",
    "import itertools\n",
    "from pymatgen.analysis.local_env import VoronoiNN\n",
    "import random\n",
    "\n",
    "# Define a list of colors for different elements\n",
    "color_cycle = itertools.cycle([\n",
    "    'blue', 'green', 'orange', 'purple', 'brown', 'pink', 'gray', 'cyan', 'magenta'\n",
    "])\n",
    "\n",
    "def custom_distance(site1: Site, site2: Site) -> float:\n",
    "    # Geometric distance\n",
    "    geometric_dist = site1.distance(site2)\n",
    "    \n",
    "    # Chemical composition distance (difference in electronegativity)\n",
    "    element1 = list(site1.species.elements)[0]\n",
    "    element2 = list(site2.species.elements)[0]\n",
    "    composition_dist = (element1.X - element2.X) ** 2\n",
    "    \n",
    "    # Debugging print statements\n",
    "    #print(f\"Geometric distance between {element1} and {element2}: {geometric_dist}\")\n",
    "    #print(f\"Electronegativity difference squared: {composition_dist}\")\n",
    "    \n",
    "    # Combined distance\n",
    "    combined_dist = geometric_dist + composition_dist\n",
    "    #print(f\"Combined distance: {combined_dist}\\n\")\n",
    "    \n",
    "    return combined_dist\n",
    "\n",
    "def identify_highest_complexity_sites(structure, top_n=3, concentration_threshold=0.5):\n",
    "    sites = structure.sites\n",
    "    complexity_scores = np.zeros(len(sites))\n",
    "    \n",
    "    for i, site1 in enumerate(sites):\n",
    "        for site2 in sites:\n",
    "            complexity_scores[i] += custom_distance(site1, site2)\n",
    "    \n",
    "    top_indices = complexity_scores.argsort()[::-1]\n",
    "    \n",
    "    element_counts = defaultdict(int)\n",
    "    for site in sites:\n",
    "        element_counts[str(site.species)] += 1\n",
    "    \n",
    "    vnn = VoronoiNN()\n",
    "    selected_sites = []\n",
    "    selected_neighbors = set()\n",
    "\n",
    "    for index in top_indices:\n",
    "        if len(selected_sites) >= top_n:\n",
    "            break\n",
    "        site = sites[index]\n",
    "        element = str(site.species)\n",
    "\n",
    "        if element_counts[element] > 2 or (element_counts[element] > 1 and element_counts[element] - 1 >= (1 - concentration_threshold) * element_counts[element]):\n",
    "            neighbors = set(n['site_index'] for n in vnn.get_nn_info(structure, index))\n",
    "\n",
    "            if not selected_neighbors.intersection(neighbors):\n",
    "                selected_sites.append(site)\n",
    "                selected_neighbors.update(neighbors)\n",
    "                element_counts[element] -= 1\n",
    "        else:\n",
    "            # Find a nearby site with comparable complexity and an element with more than 2 in the structure\n",
    "            min_dist = float('inf')\n",
    "            best_site = None\n",
    "            best_index = None\n",
    "            for other_index, other_site in enumerate(sites):\n",
    "                other_element = str(other_site.species)\n",
    "                if other_site not in selected_sites and element_counts[other_element] > 2:\n",
    "                    dist = site.distance(other_site)\n",
    "                    if dist < min_dist and complexity_scores[other_index] >= complexity_scores[index] * 0.9:\n",
    "                        neighbors = set(n['site_index'] for n in vnn.get_nn_info(structure, other_index))\n",
    "                        if not selected_neighbors.intersection(neighbors):\n",
    "                            min_dist = dist\n",
    "                            best_site = other_site\n",
    "                            best_index = other_index\n",
    "            if best_site:\n",
    "                selected_sites.append(best_site)\n",
    "                selected_neighbors.update(neighbors)\n",
    "                element_counts[str(best_site.species)] -= 1\n",
    "\n",
    "    # If we don't have enough sites, add more based on distance\n",
    "    while len(selected_sites) < top_n:\n",
    "        for _ in range(top_n - len(selected_sites)):\n",
    "            for index in range(len(sites)):\n",
    "                if sites[index] not in selected_sites:\n",
    "                    neighbors = set(n['site_index'] for n in vnn.get_nn_info(structure, index))\n",
    "                    if not selected_neighbors.intersection(neighbors):\n",
    "                        selected_sites.append(sites[index])\n",
    "                        selected_neighbors.update(neighbors)\n",
    "                        break\n",
    "\n",
    "    return selected_sites\n",
    "\n",
    "def plot_structure_with_highlighted_sites(structure, top_sites):\n",
    "    fig = go.Figure()\n",
    "    \n",
    "    element_colors = defaultdict(lambda: next(color_cycle))\n",
    "    \n",
    "    # Plot all sites by element type\n",
    "    for site in structure:\n",
    "        element = str(site.species)\n",
    "        color = element_colors[element]\n",
    "        fig.add_trace(go.Scatter3d(\n",
    "            x=[site.x],\n",
    "            y=[site.y],\n",
    "            z=[site.z],\n",
    "            mode='markers',\n",
    "            marker=dict(size=5, color=color),\n",
    "            name=element,\n",
    "            legendgroup=element,\n",
    "            showlegend=True\n",
    "        ))\n",
    "\n",
    "    # Highlight top sites\n",
    "    for site in top_sites:\n",
    "        element = str(site.species)\n",
    "        fig.add_trace(go.Scatter3d(\n",
    "            x=[site.x],\n",
    "            y=[site.y],\n",
    "            z=[site.z],\n",
    "            mode='markers',\n",
    "            marker=dict(size=10, color='red', symbol='diamond'),\n",
    "            name=f'Highlighted {element}',\n",
    "            legendgroup=f'Highlighted {element}',\n",
    "            showlegend=True\n",
    "        ))\n",
    "\n",
    "    # Update layout for better visualization\n",
    "    fig.update_layout(scene=dict(\n",
    "        xaxis_title='X',\n",
    "        yaxis_title='Y',\n",
    "        zaxis_title='Z'),\n",
    "        title=\"Structure with Highlighted Sites\"\n",
    "    )\n",
    "\n",
    "    fig.show()\n",
    "\n",
    "import random\n",
    "from pymatgen.core.structure import Structure\n",
    "\n",
    "def randomly_pick_sites(structure, n):\n",
    "    # Ensure that n is not greater than the number of sites in the structure\n",
    "    if n > len(structure.sites):\n",
    "        raise ValueError(\"The number of sites to pick cannot be greater than the number of sites in the structure.\")\n",
    "    \n",
    "    # Randomly select n sites from the structure\n",
    "    random_sites = random.sample(structure.sites, n)\n",
    "    return random_sites\n",
    "\n",
    "# Example usage:\n",
    "# Load your structure\n",
    "#structure = Structure.from_file(\"POSCAR\")\n",
    "\n",
    "# Randomly pick 5 sites from the supercell\n",
    "\n",
    "# Print the coordinates of the randomly selected sites\n",
    "#for site in random_sites:\n",
    "    #print(f\"Element: {site.species}, Coordinates: {site.coords}\")\n",
    "\n",
    "# Example usage:\n",
    "# Load your structure\n",
    "#structure = Structure.from_file(\"POSCAR\")\n",
    "\n",
    "# Identify the top sites with highest chemical complexity\n",
    "top_sites = identify_highest_complexity_sites(structure, top_n=5, concentration_threshold=0.2)\n",
    "\n",
    "# Plot the structure and highlight the top sites\n",
    "plot_structure_with_highlighted_sites(structure, top_sites)\n"
   ]
  },
  {
   "cell_type": "code",
   "execution_count": 92,
   "metadata": {},
   "outputs": [
    {
     "data": {
      "application/vnd.plotly.v1+json": {
       "config": {
        "plotlyServerURL": "https://plot.ly"
       },
       "data": [
        {
         "legendgroup": "Zr1",
         "marker": {
          "color": "gray",
          "size": 5
         },
         "mode": "markers",
         "name": "Zr1",
         "showlegend": true,
         "type": "scatter3d",
         "x": [
          2.935539908367452
         ],
         "y": [
          3.0339065864841785
         ],
         "z": [
          9.016475529269893
         ]
        },
        {
         "legendgroup": "Ta1",
         "marker": {
          "color": "cyan",
          "size": 5
         },
         "mode": "markers",
         "name": "Ta1",
         "showlegend": true,
         "type": "scatter3d",
         "x": [
          6.037510269155591
         ],
         "y": [
          -5.981591358276833
         ],
         "z": [
          5.98944340541853
         ]
        },
        {
         "legendgroup": "Ti1",
         "marker": {
          "color": "magenta",
          "size": 5
         },
         "mode": "markers",
         "name": "Ti1",
         "showlegend": true,
         "type": "scatter3d",
         "x": [
          4.491703154342272
         ],
         "y": [
          10.542946095625187
         ],
         "z": [
          -1.4973270978324267
         ]
        },
        {
         "legendgroup": "Ti1",
         "marker": {
          "color": "magenta",
          "size": 5
         },
         "mode": "markers",
         "name": "Ti1",
         "showlegend": true,
         "type": "scatter3d",
         "x": [
          0.009932843196155616
         ],
         "y": [
          9.023713328657669
         ],
         "z": [
          6.00128974490947
         ]
        },
        {
         "legendgroup": "Ti1",
         "marker": {
          "color": "magenta",
          "size": 5
         },
         "mode": "markers",
         "name": "Ti1",
         "showlegend": true,
         "type": "scatter3d",
         "x": [
          9.012453199806988
         ],
         "y": [
          -3.023294755328025
         ],
         "z": [
          3.0734197901516564
         ]
        },
        {
         "legendgroup": "V1",
         "marker": {
          "color": "blue",
          "size": 5
         },
         "mode": "markers",
         "name": "V1",
         "showlegend": true,
         "type": "scatter3d",
         "x": [
          -5.995475520030445
         ],
         "y": [
          6.026669300917146
         ],
         "z": [
          6.019444831705289
         ]
        },
        {
         "legendgroup": "V1",
         "marker": {
          "color": "blue",
          "size": 5
         },
         "mode": "markers",
         "name": "V1",
         "showlegend": true,
         "type": "scatter3d",
         "x": [
          10.496343967536676
         ],
         "y": [
          4.521259782759586
         ],
         "z": [
          4.54739528161071
         ]
        },
        {
         "legendgroup": "V1",
         "marker": {
          "color": "blue",
          "size": 5
         },
         "mode": "markers",
         "name": "V1",
         "showlegend": true,
         "type": "scatter3d",
         "x": [
          -4.50910299899971
         ],
         "y": [
          4.5461296913777485
         ],
         "z": [
          7.431335773639004
         ]
        },
        {
         "legendgroup": "V1",
         "marker": {
          "color": "blue",
          "size": 5
         },
         "mode": "markers",
         "name": "V1",
         "showlegend": true,
         "type": "scatter3d",
         "x": [
          -4.512723998373536
         ],
         "y": [
          7.547965719085857
         ],
         "z": [
          4.5179196805930175
         ]
        },
        {
         "legendgroup": "V1",
         "marker": {
          "color": "blue",
          "size": 5
         },
         "mode": "markers",
         "name": "V1",
         "showlegend": true,
         "type": "scatter3d",
         "x": [
          4.5068556602739624
         ],
         "y": [
          -4.503456981975983
         ],
         "z": [
          10.524836981818368
         ]
        },
        {
         "legendgroup": "V1",
         "marker": {
          "color": "blue",
          "size": 5
         },
         "mode": "markers",
         "name": "V1",
         "showlegend": true,
         "type": "scatter3d",
         "x": [
          4.5216370855914665
         ],
         "y": [
          10.521795770005527
         ],
         "z": [
          1.5246577010584277
         ]
        },
        {
         "legendgroup": "V1",
         "marker": {
          "color": "blue",
          "size": 5
         },
         "mode": "markers",
         "name": "V1",
         "showlegend": true,
         "type": "scatter3d",
         "x": [
          4.485115242927387
         ],
         "y": [
          -1.5178200428926916
         ],
         "z": [
          10.47451003728828
         ]
        },
        {
         "legendgroup": "V1",
         "marker": {
          "color": "blue",
          "size": 5
         },
         "mode": "markers",
         "name": "V1",
         "showlegend": true,
         "type": "scatter3d",
         "x": [
          -2.9504325006656535
         ],
         "y": [
          6.08224065736146
         ],
         "z": [
          6.003853323591471
         ]
        },
        {
         "legendgroup": "V1",
         "marker": {
          "color": "blue",
          "size": 5
         },
         "mode": "markers",
         "name": "V1",
         "showlegend": true,
         "type": "scatter3d",
         "x": [
          4.505841656789977
         ],
         "y": [
          1.4155254804137662
         ],
         "z": [
          10.511806214247377
         ]
        },
        {
         "legendgroup": "V1",
         "marker": {
          "color": "blue",
          "size": 5
         },
         "mode": "markers",
         "name": "V1",
         "showlegend": true,
         "type": "scatter3d",
         "x": [
          6.0215171887554115
         ],
         "y": [
          -6.017117811839822
         ],
         "z": [
          9.019568395253803
         ]
        },
        {
         "legendgroup": "V1",
         "marker": {
          "color": "blue",
          "size": 5
         },
         "mode": "markers",
         "name": "V1",
         "showlegend": true,
         "type": "scatter3d",
         "x": [
          6.0072619540077286
         ],
         "y": [
          9.02023510868992
         ],
         "z": [
          -3.0090267238867474
         ]
        },
        {
         "legendgroup": "V1",
         "marker": {
          "color": "blue",
          "size": 5
         },
         "mode": "markers",
         "name": "V1",
         "showlegend": true,
         "type": "scatter3d",
         "x": [
          6.022817427949655
         ],
         "y": [
          9.00671047810144
         ],
         "z": [
          0.008438891172966478
         ]
        },
        {
         "legendgroup": "V1",
         "marker": {
          "color": "blue",
          "size": 5
         },
         "mode": "markers",
         "name": "V1",
         "showlegend": true,
         "type": "scatter3d",
         "x": [
          6.025203735695498
         ],
         "y": [
          9.014961673908426
         ],
         "z": [
          2.9928219743408464
         ]
        },
        {
         "legendgroup": "V1",
         "marker": {
          "color": "blue",
          "size": 5
         },
         "mode": "markers",
         "name": "V1",
         "showlegend": true,
         "type": "scatter3d",
         "x": [
          6.026310901568302
         ],
         "y": [
          -2.94635572034454
         ],
         "z": [
          9.004768291637973
         ]
        },
        {
         "legendgroup": "V1",
         "marker": {
          "color": "blue",
          "size": 5
         },
         "mode": "markers",
         "name": "V1",
         "showlegend": true,
         "type": "scatter3d",
         "x": [
          -1.4937289483201766
         ],
         "y": [
          4.594702087150917
         ],
         "z": [
          4.546229832314069
         ]
        },
        {
         "legendgroup": "V1",
         "marker": {
          "color": "blue",
          "size": 5
         },
         "mode": "markers",
         "name": "V1",
         "showlegend": true,
         "type": "scatter3d",
         "x": [
          -1.519682885978355
         ],
         "y": [
          4.5079267362355395
         ],
         "z": [
          7.519478390146276
         ]
        },
        {
         "legendgroup": "V1",
         "marker": {
          "color": "blue",
          "size": 5
         },
         "mode": "markers",
         "name": "V1",
         "showlegend": true,
         "type": "scatter3d",
         "x": [
          -1.449991903551141
         ],
         "y": [
          7.509832899046741
         ],
         "z": [
          1.5012211618371623
         ]
        },
        {
         "legendgroup": "V1",
         "marker": {
          "color": "blue",
          "size": 5
         },
         "mode": "markers",
         "name": "V1",
         "showlegend": true,
         "type": "scatter3d",
         "x": [
          -1.425205764677181
         ],
         "y": [
          7.484632993470603
         ],
         "z": [
          4.5241878293437745
         ]
        },
        {
         "legendgroup": "V1",
         "marker": {
          "color": "blue",
          "size": 5
         },
         "mode": "markers",
         "name": "V1",
         "showlegend": true,
         "type": "scatter3d",
         "x": [
          6.000092184094461
         ],
         "y": [
          2.9694490907219437
         ],
         "z": [
          9.010461012757307
         ]
        },
        {
         "legendgroup": "V1",
         "marker": {
          "color": "blue",
          "size": 5
         },
         "mode": "markers",
         "name": "V1",
         "showlegend": true,
         "type": "scatter3d",
         "x": [
          0.023434188472279516
         ],
         "y": [
          0.037851010728415346
         ],
         "z": [
          14.973563214364832
         ]
        },
        {
         "legendgroup": "V1",
         "marker": {
          "color": "blue",
          "size": 5
         },
         "mode": "markers",
         "name": "V1",
         "showlegend": true,
         "type": "scatter3d",
         "x": [
          0.004381245510542309
         ],
         "y": [
          -0.003952974500150086
         ],
         "z": [
          3.0275359521381286
         ]
        },
        {
         "legendgroup": "V1",
         "marker": {
          "color": "blue",
          "size": 5
         },
         "mode": "markers",
         "name": "V1",
         "showlegend": true,
         "type": "scatter3d",
         "x": [
          0.030600259670918728
         ],
         "y": [
          0.05888734783999139
         ],
         "z": [
          6.064220136492532
         ]
        },
        {
         "legendgroup": "V1",
         "marker": {
          "color": "blue",
          "size": 5
         },
         "mode": "markers",
         "name": "V1",
         "showlegend": true,
         "type": "scatter3d",
         "x": [
          7.525109671257633
         ],
         "y": [
          7.524757822800902
         ],
         "z": [
          1.5207123562299585
         ]
        },
        {
         "legendgroup": "V1",
         "marker": {
          "color": "blue",
          "size": 5
         },
         "mode": "markers",
         "name": "V1",
         "showlegend": true,
         "type": "scatter3d",
         "x": [
          -0.0016794338896546825
         ],
         "y": [
          2.993570044248688
         ],
         "z": [
          0.008805867276572982
         ]
        },
        {
         "legendgroup": "V1",
         "marker": {
          "color": "blue",
          "size": 5
         },
         "mode": "markers",
         "name": "V1",
         "showlegend": true,
         "type": "scatter3d",
         "x": [
          -0.05549405833563492
         ],
         "y": [
          3.0758376458914087
         ],
         "z": [
          5.9871570546614805
         ]
        },
        {
         "legendgroup": "V1",
         "marker": {
          "color": "blue",
          "size": 5
         },
         "mode": "markers",
         "name": "V1",
         "showlegend": true,
         "type": "scatter3d",
         "x": [
          -0.0004292649094725931
         ],
         "y": [
          3.028264898776886
         ],
         "z": [
          9.012770250209826
         ]
        },
        {
         "legendgroup": "V1",
         "marker": {
          "color": "blue",
          "size": 5
         },
         "mode": "markers",
         "name": "V1",
         "showlegend": true,
         "type": "scatter3d",
         "x": [
          7.534449020555859
         ],
         "y": [
          -1.497188530598729
         ],
         "z": [
          7.515457288245195
         ]
        },
        {
         "legendgroup": "V1",
         "marker": {
          "color": "blue",
          "size": 5
         },
         "mode": "markers",
         "name": "V1",
         "showlegend": true,
         "type": "scatter3d",
         "x": [
          0.007899194228184081
         ],
         "y": [
          6.004104870082699
         ],
         "z": [
          3.007251167982652
         ]
        },
        {
         "legendgroup": "V1",
         "marker": {
          "color": "blue",
          "size": 5
         },
         "mode": "markers",
         "name": "V1",
         "showlegend": true,
         "type": "scatter3d",
         "x": [
          0.08100656756034397
         ],
         "y": [
          5.982719966704957
         ],
         "z": [
          6.006089356931647
         ]
        },
        {
         "legendgroup": "V1",
         "marker": {
          "color": "blue",
          "size": 5
         },
         "mode": "markers",
         "name": "V1",
         "showlegend": true,
         "type": "scatter3d",
         "x": [
          0.03858373865241384
         ],
         "y": [
          9.033934945743535
         ],
         "z": [
          0.009105396138638805
         ]
        },
        {
         "legendgroup": "V1",
         "marker": {
          "color": "blue",
          "size": 5
         },
         "mode": "markers",
         "name": "V1",
         "showlegend": true,
         "type": "scatter3d",
         "x": [
          0.013210048278616382
         ],
         "y": [
          8.99493481520072
         ],
         "z": [
          3.017237610561346
         ]
        },
        {
         "legendgroup": "V1",
         "marker": {
          "color": "blue",
          "size": 5
         },
         "mode": "markers",
         "name": "V1",
         "showlegend": true,
         "type": "scatter3d",
         "x": [
          -6.006665611156882
         ],
         "y": [
          6.014269512054665
         ],
         "z": [
          9.035049327470087
         ]
        },
        {
         "legendgroup": "V1",
         "marker": {
          "color": "blue",
          "size": 5
         },
         "mode": "markers",
         "name": "V1",
         "showlegend": true,
         "type": "scatter3d",
         "x": [
          8.958079460557295
         ],
         "y": [
          5.990063526813988
         ],
         "z": [
          -0.03546710110536111
         ]
        },
        {
         "legendgroup": "V1",
         "marker": {
          "color": "blue",
          "size": 5
         },
         "mode": "markers",
         "name": "V1",
         "showlegend": true,
         "type": "scatter3d",
         "x": [
          8.994590336993744
         ],
         "y": [
          5.978395381130377
         ],
         "z": [
          2.978401617635566
         ]
        },
        {
         "legendgroup": "V1",
         "marker": {
          "color": "blue",
          "size": 5
         },
         "mode": "markers",
         "name": "V1",
         "showlegend": true,
         "type": "scatter3d",
         "x": [
          -6.006843877222628
         ],
         "y": [
          8.952871108056616
         ],
         "z": [
          6.044207187455872
         ]
        },
        {
         "legendgroup": "V1",
         "marker": {
          "color": "blue",
          "size": 5
         },
         "mode": "markers",
         "name": "V1",
         "showlegend": true,
         "type": "scatter3d",
         "x": [
          1.5122182244400988
         ],
         "y": [
          1.5134486470860624
         ],
         "z": [
          1.50033125423406
         ]
        },
        {
         "legendgroup": "V1",
         "marker": {
          "color": "blue",
          "size": 5
         },
         "mode": "markers",
         "name": "V1",
         "showlegend": true,
         "type": "scatter3d",
         "x": [
          1.482199599574474
         ],
         "y": [
          1.5021183424685365
         ],
         "z": [
          4.567573828294592
         ]
        },
        {
         "legendgroup": "V1",
         "marker": {
          "color": "blue",
          "size": 5
         },
         "mode": "markers",
         "name": "V1",
         "showlegend": true,
         "type": "scatter3d",
         "x": [
          1.5632032570232917
         ],
         "y": [
          1.5079209403028928
         ],
         "z": [
          7.549848451954178
         ]
        },
        {
         "legendgroup": "V1",
         "marker": {
          "color": "blue",
          "size": 5
         },
         "mode": "markers",
         "name": "V1",
         "showlegend": true,
         "type": "scatter3d",
         "x": [
          1.4919187535288465
         ],
         "y": [
          1.5026836157502395
         ],
         "z": [
          10.478201083647468
         ]
        },
        {
         "legendgroup": "V1",
         "marker": {
          "color": "blue",
          "size": 5
         },
         "mode": "markers",
         "name": "V1",
         "showlegend": true,
         "type": "scatter3d",
         "x": [
          1.5433608373246666
         ],
         "y": [
          4.515505260451703
         ],
         "z": [
          -1.5127039550579255
         ]
        },
        {
         "legendgroup": "V1",
         "marker": {
          "color": "blue",
          "size": 5
         },
         "mode": "markers",
         "name": "V1",
         "showlegend": true,
         "type": "scatter3d",
         "x": [
          1.5508907471536333
         ],
         "y": [
          4.532990394475139
         ],
         "z": [
          1.4949844938871444
         ]
        },
        {
         "legendgroup": "V1",
         "marker": {
          "color": "blue",
          "size": 5
         },
         "mode": "markers",
         "name": "V1",
         "showlegend": true,
         "type": "scatter3d",
         "x": [
          1.5034217702335801
         ],
         "y": [
          4.561231112098215
         ],
         "z": [
          4.5489271327357494
         ]
        },
        {
         "legendgroup": "V1",
         "marker": {
          "color": "blue",
          "size": 5
         },
         "mode": "markers",
         "name": "V1",
         "showlegend": true,
         "type": "scatter3d",
         "x": [
          1.4756403576941604
         ],
         "y": [
          4.572153536209705
         ],
         "z": [
          7.5441789209237395
         ]
        },
        {
         "legendgroup": "V1",
         "marker": {
          "color": "blue",
          "size": 5
         },
         "mode": "markers",
         "name": "V1",
         "showlegend": true,
         "type": "scatter3d",
         "x": [
          9.092513981236001
         ],
         "y": [
          0.00336589434010115
         ],
         "z": [
          5.94565813185514
         ]
        },
        {
         "legendgroup": "V1",
         "marker": {
          "color": "blue",
          "size": 5
         },
         "mode": "markers",
         "name": "V1",
         "showlegend": true,
         "type": "scatter3d",
         "x": [
          1.5133148731990331
         ],
         "y": [
          7.478268176923503
         ],
         "z": [
          1.5206322025340346
         ]
        },
        {
         "legendgroup": "V1",
         "marker": {
          "color": "blue",
          "size": 5
         },
         "mode": "markers",
         "name": "V1",
         "showlegend": true,
         "type": "scatter3d",
         "x": [
          1.458555183876383
         ],
         "y": [
          7.491282965688114
         ],
         "z": [
          4.54668675058526
         ]
        },
        {
         "legendgroup": "V1",
         "marker": {
          "color": "blue",
          "size": 5
         },
         "mode": "markers",
         "name": "V1",
         "showlegend": true,
         "type": "scatter3d",
         "x": [
          8.989250097441987
         ],
         "y": [
          2.9672813734268733
         ],
         "z": [
          6.024949396035535
         ]
        },
        {
         "legendgroup": "V1",
         "marker": {
          "color": "blue",
          "size": 5
         },
         "mode": "markers",
         "name": "V1",
         "showlegend": true,
         "type": "scatter3d",
         "x": [
          1.4647944896300986
         ],
         "y": [
          10.570678592867557
         ],
         "z": [
          1.485889363002999
         ]
        },
        {
         "legendgroup": "V1",
         "marker": {
          "color": "blue",
          "size": 5
         },
         "mode": "markers",
         "name": "V1",
         "showlegend": true,
         "type": "scatter3d",
         "x": [
          3.0026461198273826
         ],
         "y": [
          -3.0007583703252276
         ],
         "z": [
          3.012481387774622
         ]
        },
        {
         "legendgroup": "V1",
         "marker": {
          "color": "blue",
          "size": 5
         },
         "mode": "markers",
         "name": "V1",
         "showlegend": true,
         "type": "scatter3d",
         "x": [
          10.510504599550355
         ],
         "y": [
          4.516343243902436
         ],
         "z": [
          -1.511302331785858
         ]
        },
        {
         "legendgroup": "V1",
         "marker": {
          "color": "blue",
          "size": 5
         },
         "mode": "markers",
         "name": "V1",
         "showlegend": true,
         "type": "scatter3d",
         "x": [
          3.0051488404595177
         ],
         "y": [
          -0.003627052663519814
         ],
         "z": [
          0.01808506229807305
         ]
        },
        {
         "legendgroup": "V1",
         "marker": {
          "color": "blue",
          "size": 5
         },
         "mode": "markers",
         "name": "V1",
         "showlegend": true,
         "type": "scatter3d",
         "x": [
          2.998008081637388
         ],
         "y": [
          -0.02302773366139199
         ],
         "z": [
          2.9815367702402584
         ]
        },
        {
         "legendgroup": "V1",
         "marker": {
          "color": "blue",
          "size": 5
         },
         "mode": "markers",
         "name": "V1",
         "showlegend": true,
         "type": "scatter3d",
         "x": [
          3.000259370959527
         ],
         "y": [
          0.010853026174151736
         ],
         "z": [
          6.012169903131462
         ]
        },
        {
         "legendgroup": "V1",
         "marker": {
          "color": "blue",
          "size": 5
         },
         "mode": "markers",
         "name": "V1",
         "showlegend": true,
         "type": "scatter3d",
         "x": [
          3.015274201887316
         ],
         "y": [
          0.010654916465067998
         ],
         "z": [
          9.030668838620807
         ]
        },
        {
         "legendgroup": "V1",
         "marker": {
          "color": "blue",
          "size": 5
         },
         "mode": "markers",
         "name": "V1",
         "showlegend": true,
         "type": "scatter3d",
         "x": [
          3.0773904895886997
         ],
         "y": [
          3.0752596039391262
         ],
         "z": [
          -2.984344106494035
         ]
        },
        {
         "legendgroup": "V1",
         "marker": {
          "color": "blue",
          "size": 5
         },
         "mode": "markers",
         "name": "V1",
         "showlegend": true,
         "type": "scatter3d",
         "x": [
          3.005051368800529
         ],
         "y": [
          2.9641710853371883
         ],
         "z": [
          0.07533546416941661
         ]
        },
        {
         "legendgroup": "V1",
         "marker": {
          "color": "blue",
          "size": 5
         },
         "mode": "markers",
         "name": "V1",
         "showlegend": true,
         "type": "scatter3d",
         "x": [
          3.022618560583277
         ],
         "y": [
          2.938304225627022
         ],
         "z": [
          2.985649476408345
         ]
        },
        {
         "legendgroup": "V1",
         "marker": {
          "color": "blue",
          "size": 5
         },
         "mode": "markers",
         "name": "V1",
         "showlegend": true,
         "type": "scatter3d",
         "x": [
          3.03383776141397
         ],
         "y": [
          2.999839181865722
         ],
         "z": [
          6.053746815455785
         ]
        },
        {
         "legendgroup": "V1",
         "marker": {
          "color": "blue",
          "size": 5
         },
         "mode": "markers",
         "name": "V1",
         "showlegend": true,
         "type": "scatter3d",
         "x": [
          10.532764931122708
         ],
         "y": [
          -1.4949925208802295
         ],
         "z": [
          4.509581308778479
         ]
        },
        {
         "legendgroup": "V1",
         "marker": {
          "color": "blue",
          "size": 5
         },
         "mode": "markers",
         "name": "V1",
         "showlegend": true,
         "type": "scatter3d",
         "x": [
          3.0636146251558554
         ],
         "y": [
          5.951402983908172
         ],
         "z": [
          0.025999408674000746
         ]
        },
        {
         "legendgroup": "V1",
         "marker": {
          "color": "blue",
          "size": 5
         },
         "mode": "markers",
         "name": "V1",
         "showlegend": true,
         "type": "scatter3d",
         "x": [
          2.9991233128251427
         ],
         "y": [
          6.014515661209336
         ],
         "z": [
          2.9919105250730444
         ]
        },
        {
         "legendgroup": "V1",
         "marker": {
          "color": "blue",
          "size": 5
         },
         "mode": "markers",
         "name": "V1",
         "showlegend": true,
         "type": "scatter3d",
         "x": [
          3.0268691866841246
         ],
         "y": [
          5.9857055472942555
         ],
         "z": [
          5.939429236773274
         ]
        },
        {
         "legendgroup": "V1",
         "marker": {
          "color": "blue",
          "size": 5
         },
         "mode": "markers",
         "name": "V1",
         "showlegend": true,
         "type": "scatter3d",
         "x": [
          2.9943120477102223
         ],
         "y": [
          8.988144059207652
         ],
         "z": [
          -0.0574878219852053
         ]
        },
        {
         "legendgroup": "V1",
         "marker": {
          "color": "blue",
          "size": 5
         },
         "mode": "markers",
         "name": "V1",
         "showlegend": true,
         "type": "scatter3d",
         "x": [
          2.980831798589913
         ],
         "y": [
          8.985940471411704
         ],
         "z": [
          3.0882842378843534
         ]
        },
        {
         "legendgroup": "V1",
         "marker": {
          "color": "blue",
          "size": 5
         },
         "mode": "markers",
         "name": "V1",
         "showlegend": true,
         "type": "scatter3d",
         "x": [
          4.467666532703816
         ],
         "y": [
          -4.430059641915006
         ],
         "z": [
          4.51840361644203
         ]
        },
        {
         "legendgroup": "V1",
         "marker": {
          "color": "blue",
          "size": 5
         },
         "mode": "markers",
         "name": "V1",
         "showlegend": true,
         "type": "scatter3d",
         "x": [
          12.022318818183198
         ],
         "y": [
          3.011079692066775
         ],
         "z": [
          -0.03234982196362868
         ]
        },
        {
         "legendgroup": "V1",
         "marker": {
          "color": "blue",
          "size": 5
         },
         "mode": "markers",
         "name": "V1",
         "showlegend": true,
         "type": "scatter3d",
         "x": [
          -2.9956252275013644
         ],
         "y": [
          5.977644973175835
         ],
         "z": [
          9.013998096138689
         ]
        },
        {
         "legendgroup": "V1",
         "marker": {
          "color": "blue",
          "size": 5
         },
         "mode": "markers",
         "name": "V1",
         "showlegend": true,
         "type": "scatter3d",
         "x": [
          4.549662987784599
         ],
         "y": [
          -1.479496033383355
         ],
         "z": [
          4.5886959724049134
         ]
        },
        {
         "legendgroup": "V1",
         "marker": {
          "color": "blue",
          "size": 5
         },
         "mode": "markers",
         "name": "V1",
         "showlegend": true,
         "type": "scatter3d",
         "x": [
          4.478279719603739
         ],
         "y": [
          -1.497436299719399
         ],
         "z": [
          7.465752022322549
         ]
        },
        {
         "legendgroup": "V1",
         "marker": {
          "color": "blue",
          "size": 5
         },
         "mode": "markers",
         "name": "V1",
         "showlegend": true,
         "type": "scatter3d",
         "x": [
          -3.0693137429699875
         ],
         "y": [
          8.998372742556626
         ],
         "z": [
          5.9612924101092535
         ]
        },
        {
         "legendgroup": "V1",
         "marker": {
          "color": "blue",
          "size": 5
         },
         "mode": "markers",
         "name": "V1",
         "showlegend": true,
         "type": "scatter3d",
         "x": [
          4.467255359350902
         ],
         "y": [
          1.505092817087902
         ],
         "z": [
          1.5209144876563645
         ]
        },
        {
         "legendgroup": "V1",
         "marker": {
          "color": "blue",
          "size": 5
         },
         "mode": "markers",
         "name": "V1",
         "showlegend": true,
         "type": "scatter3d",
         "x": [
          4.509180064052138
         ],
         "y": [
          1.517032316628086
         ],
         "z": [
          4.546961956014141
         ]
        },
        {
         "legendgroup": "V1",
         "marker": {
          "color": "blue",
          "size": 5
         },
         "mode": "markers",
         "name": "V1",
         "showlegend": true,
         "type": "scatter3d",
         "x": [
          4.513927905838525
         ],
         "y": [
          1.510405018136427
         ],
         "z": [
          7.540699046378544
         ]
        },
        {
         "legendgroup": "V1",
         "marker": {
          "color": "blue",
          "size": 5
         },
         "mode": "markers",
         "name": "V1",
         "showlegend": true,
         "type": "scatter3d",
         "x": [
          4.489602109436702
         ],
         "y": [
          4.55280554155556
         ],
         "z": [
          -4.440197537584152
         ]
        },
        {
         "legendgroup": "V1",
         "marker": {
          "color": "blue",
          "size": 5
         },
         "mode": "markers",
         "name": "V1",
         "showlegend": true,
         "type": "scatter3d",
         "x": [
          4.498153981301817
         ],
         "y": [
          4.512588167873498
         ],
         "z": [
          -1.5353084014142133
         ]
        },
        {
         "legendgroup": "V1",
         "marker": {
          "color": "blue",
          "size": 5
         },
         "mode": "markers",
         "name": "V1",
         "showlegend": true,
         "type": "scatter3d",
         "x": [
          4.565352916769381
         ],
         "y": [
          4.455486815206098
         ],
         "z": [
          1.5508419738651695
         ]
        },
        {
         "legendgroup": "V1",
         "marker": {
          "color": "blue",
          "size": 5
         },
         "mode": "markers",
         "name": "V1",
         "showlegend": true,
         "type": "scatter3d",
         "x": [
          4.497220579108564
         ],
         "y": [
          4.489338710356597
         ],
         "z": [
          4.534267365939243
         ]
        },
        {
         "legendgroup": "V1",
         "marker": {
          "color": "blue",
          "size": 5
         },
         "mode": "markers",
         "name": "V1",
         "showlegend": true,
         "type": "scatter3d",
         "x": [
          4.481337308261179
         ],
         "y": [
          4.521428533102043
         ],
         "z": [
          7.475927943642293
         ]
        },
        {
         "legendgroup": "V1",
         "marker": {
          "color": "blue",
          "size": 5
         },
         "mode": "markers",
         "name": "V1",
         "showlegend": true,
         "type": "scatter3d",
         "x": [
          4.510103028229922
         ],
         "y": [
          7.517795892108405
         ],
         "z": [
          -4.508752118124365
         ]
        },
        {
         "legendgroup": "V1",
         "marker": {
          "color": "blue",
          "size": 5
         },
         "mode": "markers",
         "name": "V1",
         "showlegend": true,
         "type": "scatter3d",
         "x": [
          4.53009539924002
         ],
         "y": [
          7.514344022423348
         ],
         "z": [
          -1.5318421300284286
         ]
        },
        {
         "legendgroup": "V1",
         "marker": {
          "color": "blue",
          "size": 5
         },
         "mode": "markers",
         "name": "V1",
         "showlegend": true,
         "type": "scatter3d",
         "x": [
          4.560576470227135
         ],
         "y": [
          7.556364591546171
         ],
         "z": [
          1.575796416379073
         ]
        },
        {
         "legendgroup": "V1",
         "marker": {
          "color": "blue",
          "size": 5
         },
         "mode": "markers",
         "name": "V1",
         "showlegend": true,
         "type": "scatter3d",
         "x": [
          4.495562955836894
         ],
         "y": [
          7.516899590757475
         ],
         "z": [
          4.59168169905349
         ]
        },
        {
         "legendgroup": "V1",
         "marker": {
          "color": "blue",
          "size": 5
         },
         "mode": "markers",
         "name": "V1",
         "showlegend": true,
         "type": "scatter3d",
         "x": [
          -1.4863910740233717
         ],
         "y": [
          4.4973612468968645
         ],
         "z": [
          10.529315778874224
         ]
        },
        {
         "legendgroup": "V1",
         "marker": {
          "color": "blue",
          "size": 5
         },
         "mode": "markers",
         "name": "V1",
         "showlegend": true,
         "type": "scatter3d",
         "x": [
          5.972421611408949
         ],
         "y": [
          -2.9635269176739163
         ],
         "z": [
          5.973378445112733
         ]
        },
        {
         "legendgroup": "V1",
         "marker": {
          "color": "blue",
          "size": 5
         },
         "mode": "markers",
         "name": "V1",
         "showlegend": true,
         "type": "scatter3d",
         "x": [
          -1.5279339288001546
         ],
         "y": [
          7.4564731794817565
         ],
         "z": [
          7.511577866889974
         ]
        },
        {
         "legendgroup": "V1",
         "marker": {
          "color": "blue",
          "size": 5
         },
         "mode": "markers",
         "name": "V1",
         "showlegend": true,
         "type": "scatter3d",
         "x": [
          6.00801515386549
         ],
         "y": [
          0.00779804876403567
         ],
         "z": [
          2.9543630624530053
         ]
        },
        {
         "legendgroup": "V1",
         "marker": {
          "color": "blue",
          "size": 5
         },
         "mode": "markers",
         "name": "V1",
         "showlegend": true,
         "type": "scatter3d",
         "x": [
          5.970209259991524
         ],
         "y": [
          0.05416062753597828
         ],
         "z": [
          6.0115105293276585
         ]
        },
        {
         "legendgroup": "V1",
         "marker": {
          "color": "blue",
          "size": 5
         },
         "mode": "markers",
         "name": "V1",
         "showlegend": true,
         "type": "scatter3d",
         "x": [
          5.938372576195652
         ],
         "y": [
          3.0185575220037677
         ],
         "z": [
          -3.008677890887533
         ]
        },
        {
         "legendgroup": "V1",
         "marker": {
          "color": "blue",
          "size": 5
         },
         "mode": "markers",
         "name": "V1",
         "showlegend": true,
         "type": "scatter3d",
         "x": [
          5.99392213045329
         ],
         "y": [
          2.964793611795702
         ],
         "z": [
          0.03488382477076346
         ]
        },
        {
         "legendgroup": "V1",
         "marker": {
          "color": "blue",
          "size": 5
         },
         "mode": "markers",
         "name": "V1",
         "showlegend": true,
         "type": "scatter3d",
         "x": [
          6.071025979801656
         ],
         "y": [
          2.9807599015748325
         ],
         "z": [
          6.024369452021534
         ]
        },
        {
         "legendgroup": "V1",
         "marker": {
          "color": "blue",
          "size": 5
         },
         "mode": "markers",
         "name": "V1",
         "showlegend": true,
         "type": "scatter3d",
         "x": [
          6.103117866464105
         ],
         "y": [
          6.063161046724318
         ],
         "z": [
          -2.9957644864829027
         ]
        },
        {
         "legendgroup": "V1",
         "marker": {
          "color": "blue",
          "size": 5
         },
         "mode": "markers",
         "name": "V1",
         "showlegend": true,
         "type": "scatter3d",
         "x": [
          5.986632068212668
         ],
         "y": [
          6.006557929461556
         ],
         "z": [
          -0.08533191533198803
         ]
        },
        {
         "legendgroup": "V1",
         "marker": {
          "color": "blue",
          "size": 5
         },
         "mode": "markers",
         "name": "V1",
         "showlegend": true,
         "type": "scatter3d",
         "x": [
          5.983848829937445
         ],
         "y": [
          6.008948802442412
         ],
         "z": [
          6.047077285113616
         ]
        },
        {
         "legendgroup": "V1",
         "marker": {
          "color": "blue",
          "size": 5
         },
         "mode": "markers",
         "name": "V1",
         "showlegend": true,
         "type": "scatter3d",
         "x": [
          -0.0033072381209144908
         ],
         "y": [
          3.0299434901369944
         ],
         "z": [
          12.010374619877885
         ]
        },
        {
         "legendgroup": "V1",
         "marker": {
          "color": "blue",
          "size": 5
         },
         "mode": "markers",
         "name": "V1",
         "showlegend": true,
         "type": "scatter3d",
         "x": [
          7.53009980903332
         ],
         "y": [
          -1.462092425426197
         ],
         "z": [
          1.553307469544491
         ]
        },
        {
         "legendgroup": "V1",
         "marker": {
          "color": "blue",
          "size": 5
         },
         "mode": "markers",
         "name": "V1",
         "showlegend": true,
         "type": "scatter3d",
         "x": [
          7.486622360933489
         ],
         "y": [
          -1.5364608651857177
         ],
         "z": [
          4.536927681187772
         ]
        },
        {
         "legendgroup": "V1",
         "marker": {
          "color": "blue",
          "size": 5
         },
         "mode": "markers",
         "name": "V1",
         "showlegend": true,
         "type": "scatter3d",
         "x": [
          7.52795039088392
         ],
         "y": [
          1.5516176045020185
         ],
         "z": [
          1.5527186880191306
         ]
        },
        {
         "legendgroup": "V1",
         "marker": {
          "color": "blue",
          "size": 5
         },
         "mode": "markers",
         "name": "V1",
         "showlegend": true,
         "type": "scatter3d",
         "x": [
          7.473826127557617
         ],
         "y": [
          1.508426965751588
         ],
         "z": [
          4.5862557540146796
         ]
        },
        {
         "legendgroup": "V1",
         "marker": {
          "color": "blue",
          "size": 5
         },
         "mode": "markers",
         "name": "V1",
         "showlegend": true,
         "type": "scatter3d",
         "x": [
          -0.04675117760082159
         ],
         "y": [
          12.038974957030726
         ],
         "z": [
          2.9967435746576503
         ]
        },
        {
         "legendgroup": "V1",
         "marker": {
          "color": "blue",
          "size": 5
         },
         "mode": "markers",
         "name": "V1",
         "showlegend": true,
         "type": "scatter3d",
         "x": [
          7.5088530359752585
         ],
         "y": [
          4.507002920003241
         ],
         "z": [
          -1.5076588125243742
         ]
        },
        {
         "legendgroup": "V1",
         "marker": {
          "color": "blue",
          "size": 5
         },
         "mode": "markers",
         "name": "V1",
         "showlegend": true,
         "type": "scatter3d",
         "x": [
          7.542617221843683
         ],
         "y": [
          4.595819888155657
         ],
         "z": [
          1.5376524722084075
         ]
        },
        {
         "legendgroup": "V1",
         "marker": {
          "color": "blue",
          "size": 5
         },
         "mode": "markers",
         "name": "V1",
         "showlegend": true,
         "type": "scatter3d",
         "x": [
          7.531374264801174
         ],
         "y": [
          4.536346983235263
         ],
         "z": [
          4.526854894101614
         ]
        },
        {
         "legendgroup": "V1",
         "marker": {
          "color": "blue",
          "size": 5
         },
         "mode": "markers",
         "name": "V1",
         "showlegend": true,
         "type": "scatter3d",
         "x": [
          9.029129362607364
         ],
         "y": [
          -0.002457641023593915
         ],
         "z": [
          0.011290218978133204
         ]
        },
        {
         "legendgroup": "V1",
         "marker": {
          "color": "blue",
          "size": 5
         },
         "mode": "markers",
         "name": "V1",
         "showlegend": true,
         "type": "scatter3d",
         "x": [
          9.014644008640422
         ],
         "y": [
          -0.012213357637469002
         ],
         "z": [
          3.059427895094997
         ]
        },
        {
         "legendgroup": "V1",
         "marker": {
          "color": "blue",
          "size": 5
         },
         "mode": "markers",
         "name": "V1",
         "showlegend": true,
         "type": "scatter3d",
         "x": [
          9.071794069774572
         ],
         "y": [
          3.0649078574341697
         ],
         "z": [
          -3.0211953228141413
         ]
        },
        {
         "legendgroup": "V1",
         "marker": {
          "color": "blue",
          "size": 5
         },
         "mode": "markers",
         "name": "V1",
         "showlegend": true,
         "type": "scatter3d",
         "x": [
          9.079718069485606
         ],
         "y": [
          2.9567998467930465
         ],
         "z": [
          -0.033316567629922744
         ]
        },
        {
         "legendgroup": "V1",
         "marker": {
          "color": "blue",
          "size": 5
         },
         "mode": "markers",
         "name": "V1",
         "showlegend": true,
         "type": "scatter3d",
         "x": [
          9.043309339965049
         ],
         "y": [
          3.0227618163544507
         ],
         "z": [
          3.0162447648950286
         ]
        },
        {
         "legendgroup": "V1",
         "marker": {
          "color": "blue",
          "size": 5
         },
         "mode": "markers",
         "name": "V1",
         "showlegend": true,
         "type": "scatter3d",
         "x": [
          2.9620483118243026
         ],
         "y": [
          6.015036553890277
         ],
         "z": [
          9.001284285024372
         ]
        },
        {
         "legendgroup": "V1",
         "marker": {
          "color": "blue",
          "size": 5
         },
         "mode": "markers",
         "name": "V1",
         "showlegend": true,
         "type": "scatter3d",
         "x": [
          10.554747678185066
         ],
         "y": [
          1.5534910364410086
         ],
         "z": [
          -1.5231736307028436
         ]
        },
        {
         "legendgroup": "V1",
         "marker": {
          "color": "blue",
          "size": 5
         },
         "mode": "markers",
         "name": "V1",
         "showlegend": true,
         "type": "scatter3d",
         "x": [
          10.579088032269743
         ],
         "y": [
          1.5412919506093186
         ],
         "z": [
          1.4445026589459022
         ]
        },
        {
         "legendgroup": "V1",
         "marker": {
          "color": "blue",
          "size": 5
         },
         "mode": "markers",
         "name": "V1",
         "showlegend": true,
         "type": "scatter3d",
         "x": [
          12.044405190391188
         ],
         "y": [
          -0.02760167701126459
         ],
         "z": [
          0.027831835315559772
         ]
        },
        {
         "legendgroup": "Cr1",
         "marker": {
          "color": "green",
          "size": 5
         },
         "mode": "markers",
         "name": "Cr1",
         "showlegend": true,
         "type": "scatter3d",
         "x": [
          -0.03773146244276382
         ],
         "y": [
          3.0649613217583185
         ],
         "z": [
          3.083865876693479
         ]
        },
        {
         "legendgroup": "Cr1",
         "marker": {
          "color": "green",
          "size": 5
         },
         "mode": "markers",
         "name": "Cr1",
         "showlegend": true,
         "type": "scatter3d",
         "x": [
          10.485524851315908
         ],
         "y": [
          4.535719577491522
         ],
         "z": [
          1.4762663334979065
         ]
        },
        {
         "legendgroup": "Cr1",
         "marker": {
          "color": "green",
          "size": 5
         },
         "mode": "markers",
         "name": "Cr1",
         "showlegend": true,
         "type": "scatter3d",
         "x": [
          3.0731192443193147
         ],
         "y": [
          9.047673962980108
         ],
         "z": [
          -3.0111585862015473
         ]
        },
        {
         "legendgroup": "W1",
         "marker": {
          "color": "orange",
          "size": 5
         },
         "mode": "markers",
         "name": "W1",
         "showlegend": true,
         "type": "scatter3d",
         "x": [
          7.483677200698224
         ],
         "y": [
          7.553485511793982
         ],
         "z": [
          4.457339821051203
         ]
        },
        {
         "legendgroup": "W1",
         "marker": {
          "color": "orange",
          "size": 5
         },
         "mode": "markers",
         "name": "W1",
         "showlegend": true,
         "type": "scatter3d",
         "x": [
          9.009030996487006
         ],
         "y": [
          5.998265768224007
         ],
         "z": [
          -2.954675765452149
         ]
        },
        {
         "legendgroup": "W1",
         "marker": {
          "color": "orange",
          "size": 5
         },
         "mode": "markers",
         "name": "W1",
         "showlegend": true,
         "type": "scatter3d",
         "x": [
          6.028408088111437
         ],
         "y": [
          3.0197574828262033
         ],
         "z": [
          2.988623422823256
         ]
        },
        {
         "legendgroup": "W1",
         "marker": {
          "color": "orange",
          "size": 5
         },
         "mode": "markers",
         "name": "W1",
         "showlegend": true,
         "type": "scatter3d",
         "x": [
          5.954984001178591
         ],
         "y": [
          5.990254243700596
         ],
         "z": [
          8.964509329846813
         ]
        },
        {
         "legendgroup": "W1",
         "marker": {
          "color": "orange",
          "size": 5
         },
         "mode": "markers",
         "name": "W1",
         "showlegend": true,
         "type": "scatter3d",
         "x": [
          5.9377319463649085
         ],
         "y": [
          6.0675793951852555
         ],
         "z": [
          3.0136033555629256
         ]
        },
        {
         "legendgroup": "Highlighted Cr1",
         "marker": {
          "color": "red",
          "size": 10,
          "symbol": "diamond"
         },
         "mode": "markers",
         "name": "Highlighted Cr1",
         "showlegend": true,
         "type": "scatter3d",
         "x": [
          10.485524851315908
         ],
         "y": [
          4.535719577491522
         ],
         "z": [
          1.4762663334979065
         ]
        },
        {
         "legendgroup": "Highlighted V1",
         "marker": {
          "color": "red",
          "size": 10,
          "symbol": "diamond"
         },
         "mode": "markers",
         "name": "Highlighted V1",
         "showlegend": true,
         "type": "scatter3d",
         "x": [
          4.5068556602739624
         ],
         "y": [
          -4.503456981975983
         ],
         "z": [
          10.524836981818368
         ]
        },
        {
         "legendgroup": "Highlighted V1",
         "marker": {
          "color": "red",
          "size": 10,
          "symbol": "diamond"
         },
         "mode": "markers",
         "name": "Highlighted V1",
         "showlegend": true,
         "type": "scatter3d",
         "x": [
          9.079718069485606
         ],
         "y": [
          2.9567998467930465
         ],
         "z": [
          -0.033316567629922744
         ]
        },
        {
         "legendgroup": "Highlighted V1",
         "marker": {
          "color": "red",
          "size": 10,
          "symbol": "diamond"
         },
         "mode": "markers",
         "name": "Highlighted V1",
         "showlegend": true,
         "type": "scatter3d",
         "x": [
          1.5122182244400988
         ],
         "y": [
          1.5134486470860624
         ],
         "z": [
          1.50033125423406
         ]
        },
        {
         "legendgroup": "Highlighted V1",
         "marker": {
          "color": "red",
          "size": 10,
          "symbol": "diamond"
         },
         "mode": "markers",
         "name": "Highlighted V1",
         "showlegend": true,
         "type": "scatter3d",
         "x": [
          4.478279719603739
         ],
         "y": [
          -1.497436299719399
         ],
         "z": [
          7.465752022322549
         ]
        },
        {
         "legendgroup": "Highlighted V1",
         "marker": {
          "color": "red",
          "size": 10,
          "symbol": "diamond"
         },
         "mode": "markers",
         "name": "Highlighted V1",
         "showlegend": true,
         "type": "scatter3d",
         "x": [
          10.510504599550355
         ],
         "y": [
          4.516343243902436
         ],
         "z": [
          -1.511302331785858
         ]
        },
        {
         "legendgroup": "Highlighted V1",
         "marker": {
          "color": "red",
          "size": 10,
          "symbol": "diamond"
         },
         "mode": "markers",
         "name": "Highlighted V1",
         "showlegend": true,
         "type": "scatter3d",
         "x": [
          8.989250097441987
         ],
         "y": [
          2.9672813734268733
         ],
         "z": [
          6.024949396035535
         ]
        },
        {
         "legendgroup": "Highlighted V1",
         "marker": {
          "color": "red",
          "size": 10,
          "symbol": "diamond"
         },
         "mode": "markers",
         "name": "Highlighted V1",
         "showlegend": true,
         "type": "scatter3d",
         "x": [
          6.00801515386549
         ],
         "y": [
          0.00779804876403567
         ],
         "z": [
          2.9543630624530053
         ]
        }
       ],
       "layout": {
        "scene": {
         "xaxis": {
          "title": {
           "text": "X"
          }
         },
         "yaxis": {
          "title": {
           "text": "Y"
          }
         },
         "zaxis": {
          "title": {
           "text": "Z"
          }
         }
        },
        "template": {
         "data": {
          "bar": [
           {
            "error_x": {
             "color": "#2a3f5f"
            },
            "error_y": {
             "color": "#2a3f5f"
            },
            "marker": {
             "line": {
              "color": "#E5ECF6",
              "width": 0.5
             },
             "pattern": {
              "fillmode": "overlay",
              "size": 10,
              "solidity": 0.2
             }
            },
            "type": "bar"
           }
          ],
          "barpolar": [
           {
            "marker": {
             "line": {
              "color": "#E5ECF6",
              "width": 0.5
             },
             "pattern": {
              "fillmode": "overlay",
              "size": 10,
              "solidity": 0.2
             }
            },
            "type": "barpolar"
           }
          ],
          "carpet": [
           {
            "aaxis": {
             "endlinecolor": "#2a3f5f",
             "gridcolor": "white",
             "linecolor": "white",
             "minorgridcolor": "white",
             "startlinecolor": "#2a3f5f"
            },
            "baxis": {
             "endlinecolor": "#2a3f5f",
             "gridcolor": "white",
             "linecolor": "white",
             "minorgridcolor": "white",
             "startlinecolor": "#2a3f5f"
            },
            "type": "carpet"
           }
          ],
          "choropleth": [
           {
            "colorbar": {
             "outlinewidth": 0,
             "ticks": ""
            },
            "type": "choropleth"
           }
          ],
          "contour": [
           {
            "colorbar": {
             "outlinewidth": 0,
             "ticks": ""
            },
            "colorscale": [
             [
              0,
              "#0d0887"
             ],
             [
              0.1111111111111111,
              "#46039f"
             ],
             [
              0.2222222222222222,
              "#7201a8"
             ],
             [
              0.3333333333333333,
              "#9c179e"
             ],
             [
              0.4444444444444444,
              "#bd3786"
             ],
             [
              0.5555555555555556,
              "#d8576b"
             ],
             [
              0.6666666666666666,
              "#ed7953"
             ],
             [
              0.7777777777777778,
              "#fb9f3a"
             ],
             [
              0.8888888888888888,
              "#fdca26"
             ],
             [
              1,
              "#f0f921"
             ]
            ],
            "type": "contour"
           }
          ],
          "contourcarpet": [
           {
            "colorbar": {
             "outlinewidth": 0,
             "ticks": ""
            },
            "type": "contourcarpet"
           }
          ],
          "heatmap": [
           {
            "colorbar": {
             "outlinewidth": 0,
             "ticks": ""
            },
            "colorscale": [
             [
              0,
              "#0d0887"
             ],
             [
              0.1111111111111111,
              "#46039f"
             ],
             [
              0.2222222222222222,
              "#7201a8"
             ],
             [
              0.3333333333333333,
              "#9c179e"
             ],
             [
              0.4444444444444444,
              "#bd3786"
             ],
             [
              0.5555555555555556,
              "#d8576b"
             ],
             [
              0.6666666666666666,
              "#ed7953"
             ],
             [
              0.7777777777777778,
              "#fb9f3a"
             ],
             [
              0.8888888888888888,
              "#fdca26"
             ],
             [
              1,
              "#f0f921"
             ]
            ],
            "type": "heatmap"
           }
          ],
          "heatmapgl": [
           {
            "colorbar": {
             "outlinewidth": 0,
             "ticks": ""
            },
            "colorscale": [
             [
              0,
              "#0d0887"
             ],
             [
              0.1111111111111111,
              "#46039f"
             ],
             [
              0.2222222222222222,
              "#7201a8"
             ],
             [
              0.3333333333333333,
              "#9c179e"
             ],
             [
              0.4444444444444444,
              "#bd3786"
             ],
             [
              0.5555555555555556,
              "#d8576b"
             ],
             [
              0.6666666666666666,
              "#ed7953"
             ],
             [
              0.7777777777777778,
              "#fb9f3a"
             ],
             [
              0.8888888888888888,
              "#fdca26"
             ],
             [
              1,
              "#f0f921"
             ]
            ],
            "type": "heatmapgl"
           }
          ],
          "histogram": [
           {
            "marker": {
             "pattern": {
              "fillmode": "overlay",
              "size": 10,
              "solidity": 0.2
             }
            },
            "type": "histogram"
           }
          ],
          "histogram2d": [
           {
            "colorbar": {
             "outlinewidth": 0,
             "ticks": ""
            },
            "colorscale": [
             [
              0,
              "#0d0887"
             ],
             [
              0.1111111111111111,
              "#46039f"
             ],
             [
              0.2222222222222222,
              "#7201a8"
             ],
             [
              0.3333333333333333,
              "#9c179e"
             ],
             [
              0.4444444444444444,
              "#bd3786"
             ],
             [
              0.5555555555555556,
              "#d8576b"
             ],
             [
              0.6666666666666666,
              "#ed7953"
             ],
             [
              0.7777777777777778,
              "#fb9f3a"
             ],
             [
              0.8888888888888888,
              "#fdca26"
             ],
             [
              1,
              "#f0f921"
             ]
            ],
            "type": "histogram2d"
           }
          ],
          "histogram2dcontour": [
           {
            "colorbar": {
             "outlinewidth": 0,
             "ticks": ""
            },
            "colorscale": [
             [
              0,
              "#0d0887"
             ],
             [
              0.1111111111111111,
              "#46039f"
             ],
             [
              0.2222222222222222,
              "#7201a8"
             ],
             [
              0.3333333333333333,
              "#9c179e"
             ],
             [
              0.4444444444444444,
              "#bd3786"
             ],
             [
              0.5555555555555556,
              "#d8576b"
             ],
             [
              0.6666666666666666,
              "#ed7953"
             ],
             [
              0.7777777777777778,
              "#fb9f3a"
             ],
             [
              0.8888888888888888,
              "#fdca26"
             ],
             [
              1,
              "#f0f921"
             ]
            ],
            "type": "histogram2dcontour"
           }
          ],
          "mesh3d": [
           {
            "colorbar": {
             "outlinewidth": 0,
             "ticks": ""
            },
            "type": "mesh3d"
           }
          ],
          "parcoords": [
           {
            "line": {
             "colorbar": {
              "outlinewidth": 0,
              "ticks": ""
             }
            },
            "type": "parcoords"
           }
          ],
          "pie": [
           {
            "automargin": true,
            "type": "pie"
           }
          ],
          "scatter": [
           {
            "fillpattern": {
             "fillmode": "overlay",
             "size": 10,
             "solidity": 0.2
            },
            "type": "scatter"
           }
          ],
          "scatter3d": [
           {
            "line": {
             "colorbar": {
              "outlinewidth": 0,
              "ticks": ""
             }
            },
            "marker": {
             "colorbar": {
              "outlinewidth": 0,
              "ticks": ""
             }
            },
            "type": "scatter3d"
           }
          ],
          "scattercarpet": [
           {
            "marker": {
             "colorbar": {
              "outlinewidth": 0,
              "ticks": ""
             }
            },
            "type": "scattercarpet"
           }
          ],
          "scattergeo": [
           {
            "marker": {
             "colorbar": {
              "outlinewidth": 0,
              "ticks": ""
             }
            },
            "type": "scattergeo"
           }
          ],
          "scattergl": [
           {
            "marker": {
             "colorbar": {
              "outlinewidth": 0,
              "ticks": ""
             }
            },
            "type": "scattergl"
           }
          ],
          "scattermapbox": [
           {
            "marker": {
             "colorbar": {
              "outlinewidth": 0,
              "ticks": ""
             }
            },
            "type": "scattermapbox"
           }
          ],
          "scatterpolar": [
           {
            "marker": {
             "colorbar": {
              "outlinewidth": 0,
              "ticks": ""
             }
            },
            "type": "scatterpolar"
           }
          ],
          "scatterpolargl": [
           {
            "marker": {
             "colorbar": {
              "outlinewidth": 0,
              "ticks": ""
             }
            },
            "type": "scatterpolargl"
           }
          ],
          "scatterternary": [
           {
            "marker": {
             "colorbar": {
              "outlinewidth": 0,
              "ticks": ""
             }
            },
            "type": "scatterternary"
           }
          ],
          "surface": [
           {
            "colorbar": {
             "outlinewidth": 0,
             "ticks": ""
            },
            "colorscale": [
             [
              0,
              "#0d0887"
             ],
             [
              0.1111111111111111,
              "#46039f"
             ],
             [
              0.2222222222222222,
              "#7201a8"
             ],
             [
              0.3333333333333333,
              "#9c179e"
             ],
             [
              0.4444444444444444,
              "#bd3786"
             ],
             [
              0.5555555555555556,
              "#d8576b"
             ],
             [
              0.6666666666666666,
              "#ed7953"
             ],
             [
              0.7777777777777778,
              "#fb9f3a"
             ],
             [
              0.8888888888888888,
              "#fdca26"
             ],
             [
              1,
              "#f0f921"
             ]
            ],
            "type": "surface"
           }
          ],
          "table": [
           {
            "cells": {
             "fill": {
              "color": "#EBF0F8"
             },
             "line": {
              "color": "white"
             }
            },
            "header": {
             "fill": {
              "color": "#C8D4E3"
             },
             "line": {
              "color": "white"
             }
            },
            "type": "table"
           }
          ]
         },
         "layout": {
          "annotationdefaults": {
           "arrowcolor": "#2a3f5f",
           "arrowhead": 0,
           "arrowwidth": 1
          },
          "autotypenumbers": "strict",
          "coloraxis": {
           "colorbar": {
            "outlinewidth": 0,
            "ticks": ""
           }
          },
          "colorscale": {
           "diverging": [
            [
             0,
             "#8e0152"
            ],
            [
             0.1,
             "#c51b7d"
            ],
            [
             0.2,
             "#de77ae"
            ],
            [
             0.3,
             "#f1b6da"
            ],
            [
             0.4,
             "#fde0ef"
            ],
            [
             0.5,
             "#f7f7f7"
            ],
            [
             0.6,
             "#e6f5d0"
            ],
            [
             0.7,
             "#b8e186"
            ],
            [
             0.8,
             "#7fbc41"
            ],
            [
             0.9,
             "#4d9221"
            ],
            [
             1,
             "#276419"
            ]
           ],
           "sequential": [
            [
             0,
             "#0d0887"
            ],
            [
             0.1111111111111111,
             "#46039f"
            ],
            [
             0.2222222222222222,
             "#7201a8"
            ],
            [
             0.3333333333333333,
             "#9c179e"
            ],
            [
             0.4444444444444444,
             "#bd3786"
            ],
            [
             0.5555555555555556,
             "#d8576b"
            ],
            [
             0.6666666666666666,
             "#ed7953"
            ],
            [
             0.7777777777777778,
             "#fb9f3a"
            ],
            [
             0.8888888888888888,
             "#fdca26"
            ],
            [
             1,
             "#f0f921"
            ]
           ],
           "sequentialminus": [
            [
             0,
             "#0d0887"
            ],
            [
             0.1111111111111111,
             "#46039f"
            ],
            [
             0.2222222222222222,
             "#7201a8"
            ],
            [
             0.3333333333333333,
             "#9c179e"
            ],
            [
             0.4444444444444444,
             "#bd3786"
            ],
            [
             0.5555555555555556,
             "#d8576b"
            ],
            [
             0.6666666666666666,
             "#ed7953"
            ],
            [
             0.7777777777777778,
             "#fb9f3a"
            ],
            [
             0.8888888888888888,
             "#fdca26"
            ],
            [
             1,
             "#f0f921"
            ]
           ]
          },
          "colorway": [
           "#636efa",
           "#EF553B",
           "#00cc96",
           "#ab63fa",
           "#FFA15A",
           "#19d3f3",
           "#FF6692",
           "#B6E880",
           "#FF97FF",
           "#FECB52"
          ],
          "font": {
           "color": "#2a3f5f"
          },
          "geo": {
           "bgcolor": "white",
           "lakecolor": "white",
           "landcolor": "#E5ECF6",
           "showlakes": true,
           "showland": true,
           "subunitcolor": "white"
          },
          "hoverlabel": {
           "align": "left"
          },
          "hovermode": "closest",
          "mapbox": {
           "style": "light"
          },
          "paper_bgcolor": "white",
          "plot_bgcolor": "#E5ECF6",
          "polar": {
           "angularaxis": {
            "gridcolor": "white",
            "linecolor": "white",
            "ticks": ""
           },
           "bgcolor": "#E5ECF6",
           "radialaxis": {
            "gridcolor": "white",
            "linecolor": "white",
            "ticks": ""
           }
          },
          "scene": {
           "xaxis": {
            "backgroundcolor": "#E5ECF6",
            "gridcolor": "white",
            "gridwidth": 2,
            "linecolor": "white",
            "showbackground": true,
            "ticks": "",
            "zerolinecolor": "white"
           },
           "yaxis": {
            "backgroundcolor": "#E5ECF6",
            "gridcolor": "white",
            "gridwidth": 2,
            "linecolor": "white",
            "showbackground": true,
            "ticks": "",
            "zerolinecolor": "white"
           },
           "zaxis": {
            "backgroundcolor": "#E5ECF6",
            "gridcolor": "white",
            "gridwidth": 2,
            "linecolor": "white",
            "showbackground": true,
            "ticks": "",
            "zerolinecolor": "white"
           }
          },
          "shapedefaults": {
           "line": {
            "color": "#2a3f5f"
           }
          },
          "ternary": {
           "aaxis": {
            "gridcolor": "white",
            "linecolor": "white",
            "ticks": ""
           },
           "baxis": {
            "gridcolor": "white",
            "linecolor": "white",
            "ticks": ""
           },
           "bgcolor": "#E5ECF6",
           "caxis": {
            "gridcolor": "white",
            "linecolor": "white",
            "ticks": ""
           }
          },
          "title": {
           "x": 0.05
          },
          "xaxis": {
           "automargin": true,
           "gridcolor": "white",
           "linecolor": "white",
           "ticks": "",
           "title": {
            "standoff": 15
           },
           "zerolinecolor": "white",
           "zerolinewidth": 2
          },
          "yaxis": {
           "automargin": true,
           "gridcolor": "white",
           "linecolor": "white",
           "ticks": "",
           "title": {
            "standoff": 15
           },
           "zerolinecolor": "white",
           "zerolinewidth": 2
          }
         }
        },
        "title": {
         "text": "Structure with Highlighted Sites"
        }
       }
      }
     },
     "metadata": {},
     "output_type": "display_data"
    }
   ],
   "source": [
    "random_sites = randomly_pick_sites(structure, n=8)\n",
    "plot_structure_with_highlighted_sites(structure, random_sites)"
   ]
  },
  {
   "cell_type": "markdown",
   "metadata": {},
   "source": [
    "# Making NEB Jobs for Summit"
   ]
  },
  {
   "cell_type": "code",
   "execution_count": 34,
   "metadata": {},
   "outputs": [],
   "source": [
    "import os\n",
    "from ase.io import read, write\n",
    "from ase.mep import DyNEB\n",
    "from ase import Atoms\n",
    "from chgnet.model.model import CHGNet\n",
    "from chgnet.model.dynamics import CHGNetCalculator\n",
    "from pymatgen.io.ase import AseAtomsAdaptor\n",
    "from ase.filters import FrechetCellFilter \n",
    "from ase.constraints import FixAtoms\n",
    "from ase.io import Trajectory\n",
    "import pickle\n",
    "from ase.atoms import Atoms, units \n",
    "import numpy as np \n",
    "import json, os\n",
    "from ase.optimize import LBFGS, FIRE, BFGS, MDMin, QuasiNewton \n",
    "from ase.optimize.precon import PreconLBFGS\n",
    "from pymatgen.core import Structure \n",
    "import sys\n",
    "sys.path.append('../Modules')\n",
    "from defect_maker import make_defects, return_x_neighbors\n",
    "from vasp_misc import *\n",
    "from NEB_Barrier import NEB_Barrier\n",
    "import re\n",
    "\n",
    "def load_and_sort_structure(entry):\n",
    "    return Structure.from_dict(entry.structure.as_dict()).get_sorted_structure()\n",
    "    \n",
    "# create an entry from teh structure \n",
    "def create_entry(structure, data):\n",
    "    return ComputedStructureEntry(structure, energy=0, data=data)\n",
    "\n",
    "# create a list of entries from a list of structures\n",
    "def create_entries(structures, data):\n",
    "    return [create_entry(structure, dat) for structure, dat in zip(structures, data)]\n",
    "\n",
    "# create a list of entries from a list of structures\n",
    "def create_entries_from_files(structure_files, data):\n",
    "    structures = [Structure.from_file(file) for file in structure_files]\n",
    "    data = []\n",
    "    for structure in structures:\n",
    "        struc_data = {'generation' : 0, 'comp' : structure.composition.reduced_formula, 'struct' : 'Fixed_125'} \n",
    "        data.append(struc_data)\n",
    "    return create_entries(structures, data)\n",
    "\n",
    "def create_neb_files(base_directory, job_path, calculator, relax = True, num_images=5):\n",
    "\n",
    "    # Iterate through each subdirectory in base_directory that starts with \"supercell\"\n",
    "    num_failed = 0\n",
    "    for subdir in os.listdir(base_directory):\n",
    "        if subdir.startswith('structure'):\n",
    "\n",
    "            print(subdir)\n",
    "            subdir_path = os.path.join(base_directory, subdir)\n",
    "            \n",
    "            # Parse the subdirectory to identify all vac_site files\n",
    "            files = os.listdir(subdir_path)\n",
    "            vac_sites = {}\n",
    "\n",
    "            for file in files:\n",
    "                if file.startswith('structure_') and file.endswith('.vasp'):\n",
    "                    parts = file.split('_')\n",
    "                    vac_site = parts[6]\n",
    "                    if vac_site not in vac_sites:\n",
    "                        vac_sites[vac_site] = {'start': None, 'end': []}\n",
    "                    if 'start' in file:\n",
    "                        vac_sites[vac_site]['start'] = file\n",
    "                    elif 'end' in file:\n",
    "                        vac_sites[vac_site]['end'].append(file)\n",
    "\n",
    "            # Process each vac_site\n",
    "            for vac_site, files in vac_sites.items():\n",
    "                start_file = files['start']\n",
    "                end_files = files['end']\n",
    "                \n",
    "                if start_file is None or not end_files:\n",
    "                    print(f\"Skipping vac_site_{vac_site} in {subdir} due to missing start or end files.\")\n",
    "                    continue\n",
    "                \n",
    "                # Load the start structure\n",
    "                start_structure = read(os.path.join(subdir_path, start_file))\n",
    "                relaxed_start_structure = relaxer(start_structure, calculator=calculator)\n",
    "                parts = subdir.split('_')\n",
    "                comp = parts[3]\n",
    "                for end_file in end_files:\n",
    "                    # Load the end structure\n",
    "                    end_structure = read(os.path.join(subdir_path, end_file))\n",
    "                    relaxed_end_structure = relaxer(end_structure, calculator=calculator)\n",
    "                    # Save the interpolated structures\n",
    "                    neb_dir = os.path.join(job_path, subdir, f'neb_vac_site_{vac_site}_to_{end_file.split(\"_\")[-1].split(\".\")[0]}')\n",
    "                    os.makedirs(neb_dir, exist_ok=True)\n",
    "                    # check if the results.json file exists\n",
    "                    if os.path.exists(os.path.join(neb_dir, 'results.json')):\n",
    "                        print(f\"NEB interpolation for vac_site_{vac_site} in {subdir} already completed.\")\n",
    "                        continue\n",
    "                    barrier = NEB_Barrier(start=relaxed_start_structure,\n",
    "                                          end=relaxed_end_structure,\n",
    "                                          vasp_energies=[0, 0],\n",
    "                                          composition= comp,\n",
    "                                          structure_number = int(subdir.split('_')[1]),\n",
    "                                          defect_number = int(vac_site),\n",
    "                                          direction = end_file.split(\"_\")[-1].split(\".\")[0],\n",
    "                                          root_path = neb_dir\n",
    "                                          )\n",
    "                    barrier.neb_run(num_images=5,\n",
    "                                    potential = calculator,\n",
    "                                    run_relax = False,\n",
    "                                    neb_run = False,\n",
    "                                    )\n",
    "                    barrier.create_neb_vasp_job(num_kpts=4)\n",
    "                    \n",
    "    print(f\"NEB interpolation completed with {num_failed} failures.\")\n",
    "\n",
    "\n",
    "def relaxer(atoms, calculator, fmax = 0.01, steps = 250, verbose=False, relax_cell=False, loginterval = 1):\n",
    "    if isinstance(atoms, Structure):\n",
    "        atoms = AseAtomsAdaptor.get_atoms(atoms)\n",
    "    new_atoms = atoms.copy()\n",
    "    new_atoms.calc = calculator \n",
    "    if relax_cell:\n",
    "        print(\"Relaxing with cell relaxation\")\n",
    "        ucf = FrechetCellFilter(new_atoms)\n",
    "        optimizer = PreconLBFGS(ucf, use_armijo=True)\n",
    "        \n",
    "    else:\n",
    "        ucf = new_atoms \n",
    "        optimizer = PreconLBFGS(ucf, use_armijo=True)\n",
    "    \n",
    "    optimizer.run(fmax=fmax, steps=steps)\n",
    "    return new_atoms\n",
    "\n",
    "# create start structure from the entries\n",
    "def find_target_atoms(structure, N, neighbor_distance=2, cutoff_distance=5):\n",
    "    all_indices = list(range(len(structure)))\n",
    "    random.shuffle(all_indices)\n",
    "    target_atoms = []\n",
    "    neighbor_sets = []\n",
    "\n",
    "    print(f\"All indices: {all_indices}\")\n",
    "\n",
    "    while all_indices and len(target_atoms) < N:\n",
    "        index = all_indices.pop()\n",
    "        neighbors = []\n",
    "        for distance in range(1, neighbor_distance + 1):\n",
    "            neighbors_distance, _ = return_x_neighbors(structure, target_atom_index=index, x_neighbor=distance, alat=structure.lattice.a)\n",
    "            neighbors.extend(neighbors_distance)\n",
    "        \n",
    "        print(f\"Index: {index}, Neighbors: {neighbors}\")\n",
    "\n",
    "        if not any(set(neighbors).intersection(neighbor_set) for neighbor_set in neighbor_sets):\n",
    "            # Check if the distance to all existing target atoms is greater than the cutoff distance\n",
    "            if all(structure.get_distance(index, target_atom) > cutoff_distance for target_atom in target_atoms):\n",
    "                target_atoms.append(index)\n",
    "                neighbor_sets.append(set(neighbors))\n",
    "                print(f\"Selected target atom index: {index}\")\n",
    "\n",
    "    #return target_atoms if len(target_atoms) == N else None\n",
    "    return target_atoms\n",
    "def randomly_pick_sites(structure, n, initial_cutoff=1.25, max_attempts=1000, reduction_factor=0.9):\n",
    "    \"\"\"\n",
    "    Randomly selects a specified number of site indices from a given structure.\n",
    "\n",
    "    Args:\n",
    "        structure (Structure): The structure from which to randomly select sites.\n",
    "        n (int): The number of sites to randomly select.\n",
    "        initial_cutoff (float, optional): The initial cutoff distance for site selection. Defaults to 1.25.\n",
    "        max_attempts (int, optional): The maximum number of attempts to make for site selection. Defaults to 1000.\n",
    "        reduction_factor (float, optional): The reduction factor for the cutoff distance after each unsuccessful attempt. Defaults to 0.9.\n",
    "\n",
    "    Returns:\n",
    "        list: A list of indices of randomly selected sites from the structure.\n",
    "\n",
    "    Raises:\n",
    "        ValueError: If the number of sites to pick is greater than the number of sites in the structure.\n",
    "    \"\"\"\n",
    "    # Ensure that n is not greater than the number of sites in the structure\n",
    "    if n > len(structure.sites):\n",
    "        raise ValueError(\"The number of sites to pick cannot be greater than the number of sites in the structure.\")\n",
    "    \n",
    "    # Randomly select n site indices from the structure with iterative reduction in cutoff\n",
    "    random_site_indices = []\n",
    "    cutoff = initial_cutoff\n",
    "    while len(random_site_indices) < n:\n",
    "        attempts = 0\n",
    "        while len(random_site_indices) < n and attempts < max_attempts:\n",
    "            potential_index = random.randint(0, len(structure.sites) - 1)\n",
    "            potential_site = structure.sites[potential_index]\n",
    "            if all(np.linalg.norm(np.array(potential_site.coords) - np.array(structure.sites[idx].coords)) > cutoff * min(structure.lattice.abc) for idx in random_site_indices):\n",
    "                random_site_indices.append(potential_index)\n",
    "            attempts += 1\n",
    "        \n",
    "        if len(random_site_indices) < n:\n",
    "            cutoff *= reduction_factor\n",
    "            random_site_indices = []  # Reset and try again with a reduced cutoff\n",
    "    \n",
    "    return random_site_indices\n",
    "\n",
    "# Function to select a random neighbor\n",
    "def select_random_neighbor(structure, target_atom_index, x_neighbor):\n",
    "    neighbors, _ = return_x_neighbors(structure, target_atom_index, x_neighbor, structure.lattice.a)\n",
    "    if neighbors:\n",
    "        return random.choice(neighbors)\n",
    "    return None\n",
    "\n",
    "# Function to create and save structures with vacancies\n",
    "def create_and_save_structures(entries, num_sites, num_barriers_per_site, job_path, cutoff_distance=1.25):\n",
    "    for k, entry in enumerate(entries):\n",
    "        print(f\"Processing entry {k+1}/{len(entries)}...\")\n",
    "        structure = load_and_sort_structure(entry)\n",
    "        comp = str(structure.composition).replace(' ', '')\n",
    "        #structure = entry[0]\n",
    "        #print(structure)\n",
    "        #target_atoms = find_target_atoms(structure, N, neighbor_distance, cutoff_distance)\n",
    "        target_atoms = randomly_pick_sites(structure, num_sites, initial_cutoff= cutoff_distance)\n",
    "        if not target_atoms:\n",
    "            print(f\"No suitable target atoms found for entry {k+1}. Skipping...\")\n",
    "            continue\n",
    "        #print(f\"Found target atoms for entry {k+1}: {target_atoms}\")\n",
    "\n",
    "        for t, target_atom_index in enumerate(target_atoms):\n",
    "            print(\"On Target Atom: \", t, \" out of \", len(target_atoms))\n",
    "            start_structure, _ = make_defects(structure, target_atom_index, target_atom_index)\n",
    "            #print(\"Start defect made\")\n",
    "            if start_structure is None:\n",
    "                print(f\"Failed to create start structure for entry {k+1}, target atom {target_atom_index}.\")\n",
    "                continue\n",
    "            \n",
    "            probabilities = [0.8, 0.2]\n",
    "            selected_sites = []\n",
    "            iteration = 0\n",
    "            while len(selected_sites) < num_barriers_per_site and iteration < 500:\n",
    "                iteration += 1\n",
    "                x_neighbor = random.choices([1, 2], probabilities)[0]\n",
    "                vac_site = select_random_neighbor(structure, target_atom_index, x_neighbor)\n",
    "                if vac_site is not None and vac_site not in selected_sites:\n",
    "                    selected_sites.append(vac_site)\n",
    "                    _, end_structure = make_defects(structure, target_atom_index, vac_site)\n",
    "                    if end_structure is None:\n",
    "                        print(f\"Failed to create end structure for entry {k+1}, target atom {target_atom_index}, vac_site {vac_site}.\")\n",
    "                        continue\n",
    "\n",
    "                    # Create directory and filenames\n",
    "                    directory = os.path.join(job_path, f\"structure_{k}_comp_{comp}_vac_site_{target_atom_index}\")\n",
    "                    os.makedirs(directory, exist_ok=True)\n",
    "\n",
    "                    start_filename = os.path.join(directory, f\"structure_{k}_comp_{comp}_vac_site_{target_atom_index}_start.vasp\")\n",
    "                    end_filename = os.path.join(directory, f\"structure_{k}_comp_{comp}_vac_site_{target_atom_index}_end_site_{vac_site}.vasp\")\n",
    "\n",
    "                    # Write the structures to POSCAR files\n",
    "                    Poscar(start_structure).write_file(start_filename)\n",
    "                    Poscar(end_structure).write_file(end_filename)\n",
    "\n"
   ]
  },
  {
   "cell_type": "code",
   "execution_count": 22,
   "metadata": {},
   "outputs": [],
   "source": [
    "def create_computed_structure_entries(directory, target_gen=4):\n",
    "    entries = []\n",
    "    \n",
    "    # Regular expression to extract gen value from filename\n",
    "    gen_pattern = re.compile(r'_gen(\\d+)_')\n",
    "    \n",
    "    # Iterate through all files in the directory\n",
    "    for filename in os.listdir(directory):\n",
    "        if filename.endswith('.cif'):\n",
    "            # Extract gen value from filename\n",
    "            match = gen_pattern.search(filename)\n",
    "            if match:\n",
    "                gen_value = int(match.group(1))\n",
    "                \n",
    "                # Check if the gen value matches the target gen value\n",
    "                if gen_value == target_gen:\n",
    "                    file_path = os.path.join(directory, filename)\n",
    "                    \n",
    "                    # Read the structure from the CIF file\n",
    "                    structure = Structure.from_file(file_path)\n",
    "                    \n",
    "                    # Create a ComputedStructureEntry\n",
    "                    entry = ComputedStructureEntry(structure, 0.0)  # Replace 0.0 with the actual energy if available\n",
    "                    entries.append(entry)\n",
    "    \n",
    "    return entries"
   ]
  },
  {
   "cell_type": "code",
   "execution_count": 23,
   "metadata": {},
   "outputs": [
    {
     "name": "stdout",
     "output_type": "stream",
     "text": [
      "Number of ComputedStructureEntries created: 30\n"
     ]
    }
   ],
   "source": [
    "# Example usage\n",
    "directory = '/Users/myless/Packages/structure_maker/Visualization/Job_Structures/Pre_VASP/Fixed_VCrTiWZr_Summit/125-Atoms/Gen_4/Perfect'\n",
    "entries = create_computed_structure_entries(directory, target_gen=4)\n",
    "\n",
    "# Print the number of entries created\n",
    "print(f\"Number of ComputedStructureEntries created: {len(entries)}\")"
   ]
  },
  {
   "cell_type": "code",
   "execution_count": 24,
   "metadata": {},
   "outputs": [
    {
     "name": "stdout",
     "output_type": "stream",
     "text": [
      "Processing entry 1/30...\n",
      "On Target Atom:  0  out of  5\n",
      "On Target Atom:  1  out of  5\n",
      "On Target Atom:  2  out of  5\n",
      "On Target Atom:  3  out of  5\n",
      "On Target Atom:  4  out of  5\n",
      "Processing entry 2/30...\n",
      "On Target Atom:  0  out of  5\n",
      "On Target Atom:  1  out of  5\n",
      "On Target Atom:  2  out of  5\n",
      "On Target Atom:  3  out of  5\n",
      "On Target Atom:  4  out of  5\n",
      "Processing entry 3/30...\n",
      "On Target Atom:  0  out of  5\n",
      "On Target Atom:  1  out of  5\n",
      "On Target Atom:  2  out of  5\n",
      "On Target Atom:  3  out of  5\n",
      "On Target Atom:  4  out of  5\n",
      "Processing entry 4/30...\n",
      "On Target Atom:  0  out of  5\n",
      "On Target Atom:  1  out of  5\n",
      "On Target Atom:  2  out of  5\n",
      "On Target Atom:  3  out of  5\n",
      "On Target Atom:  4  out of  5\n",
      "Processing entry 5/30...\n",
      "On Target Atom:  0  out of  5\n",
      "On Target Atom:  1  out of  5\n",
      "On Target Atom:  2  out of  5\n",
      "On Target Atom:  3  out of  5\n",
      "On Target Atom:  4  out of  5\n",
      "Processing entry 6/30...\n",
      "On Target Atom:  0  out of  5\n",
      "On Target Atom:  1  out of  5\n",
      "On Target Atom:  2  out of  5\n",
      "On Target Atom:  3  out of  5\n",
      "On Target Atom:  4  out of  5\n",
      "Processing entry 7/30...\n",
      "On Target Atom:  0  out of  5\n",
      "On Target Atom:  1  out of  5\n",
      "On Target Atom:  2  out of  5\n",
      "On Target Atom:  3  out of  5\n",
      "On Target Atom:  4  out of  5\n",
      "Processing entry 8/30...\n",
      "On Target Atom:  0  out of  5\n",
      "On Target Atom:  1  out of  5\n",
      "On Target Atom:  2  out of  5\n",
      "On Target Atom:  3  out of  5\n",
      "On Target Atom:  4  out of  5\n",
      "Processing entry 9/30...\n",
      "On Target Atom:  0  out of  5\n",
      "On Target Atom:  1  out of  5\n",
      "On Target Atom:  2  out of  5\n",
      "On Target Atom:  3  out of  5\n",
      "On Target Atom:  4  out of  5\n",
      "Processing entry 10/30...\n",
      "On Target Atom:  0  out of  5\n",
      "On Target Atom:  1  out of  5\n",
      "On Target Atom:  2  out of  5\n",
      "On Target Atom:  3  out of  5\n",
      "On Target Atom:  4  out of  5\n",
      "Processing entry 11/30...\n",
      "On Target Atom:  0  out of  5\n",
      "On Target Atom:  1  out of  5\n",
      "On Target Atom:  2  out of  5\n",
      "On Target Atom:  3  out of  5\n",
      "On Target Atom:  4  out of  5\n",
      "Processing entry 12/30...\n",
      "On Target Atom:  0  out of  5\n",
      "On Target Atom:  1  out of  5\n",
      "On Target Atom:  2  out of  5\n",
      "On Target Atom:  3  out of  5\n",
      "On Target Atom:  4  out of  5\n",
      "Processing entry 13/30...\n",
      "On Target Atom:  0  out of  5\n",
      "On Target Atom:  1  out of  5\n",
      "On Target Atom:  2  out of  5\n",
      "On Target Atom:  3  out of  5\n",
      "On Target Atom:  4  out of  5\n",
      "Processing entry 14/30...\n",
      "On Target Atom:  0  out of  5\n",
      "On Target Atom:  1  out of  5\n",
      "On Target Atom:  2  out of  5\n",
      "On Target Atom:  3  out of  5\n",
      "On Target Atom:  4  out of  5\n",
      "Processing entry 15/30...\n",
      "On Target Atom:  0  out of  5\n",
      "On Target Atom:  1  out of  5\n",
      "On Target Atom:  2  out of  5\n",
      "On Target Atom:  3  out of  5\n",
      "On Target Atom:  4  out of  5\n",
      "Processing entry 16/30...\n",
      "On Target Atom:  0  out of  5\n",
      "On Target Atom:  1  out of  5\n",
      "On Target Atom:  2  out of  5\n",
      "On Target Atom:  3  out of  5\n",
      "On Target Atom:  4  out of  5\n",
      "Processing entry 17/30...\n",
      "On Target Atom:  0  out of  5\n",
      "On Target Atom:  1  out of  5\n",
      "On Target Atom:  2  out of  5\n",
      "On Target Atom:  3  out of  5\n",
      "On Target Atom:  4  out of  5\n",
      "Processing entry 18/30...\n",
      "On Target Atom:  0  out of  5\n",
      "On Target Atom:  1  out of  5\n",
      "On Target Atom:  2  out of  5\n",
      "On Target Atom:  3  out of  5\n",
      "On Target Atom:  4  out of  5\n",
      "Processing entry 19/30...\n",
      "On Target Atom:  0  out of  5\n",
      "On Target Atom:  1  out of  5\n",
      "On Target Atom:  2  out of  5\n",
      "On Target Atom:  3  out of  5\n",
      "On Target Atom:  4  out of  5\n",
      "Processing entry 20/30...\n",
      "On Target Atom:  0  out of  5\n",
      "On Target Atom:  1  out of  5\n",
      "On Target Atom:  2  out of  5\n",
      "On Target Atom:  3  out of  5\n",
      "On Target Atom:  4  out of  5\n",
      "Processing entry 21/30...\n",
      "On Target Atom:  0  out of  5\n",
      "On Target Atom:  1  out of  5\n",
      "On Target Atom:  2  out of  5\n",
      "On Target Atom:  3  out of  5\n",
      "On Target Atom:  4  out of  5\n",
      "Processing entry 22/30...\n",
      "On Target Atom:  0  out of  5\n",
      "On Target Atom:  1  out of  5\n",
      "On Target Atom:  2  out of  5\n",
      "On Target Atom:  3  out of  5\n",
      "On Target Atom:  4  out of  5\n",
      "Processing entry 23/30...\n",
      "On Target Atom:  0  out of  5\n",
      "On Target Atom:  1  out of  5\n",
      "On Target Atom:  2  out of  5\n",
      "On Target Atom:  3  out of  5\n",
      "On Target Atom:  4  out of  5\n",
      "Processing entry 24/30...\n",
      "On Target Atom:  0  out of  5\n",
      "On Target Atom:  1  out of  5\n",
      "On Target Atom:  2  out of  5\n",
      "On Target Atom:  3  out of  5\n",
      "On Target Atom:  4  out of  5\n",
      "Processing entry 25/30...\n",
      "On Target Atom:  0  out of  5\n",
      "On Target Atom:  1  out of  5\n",
      "On Target Atom:  2  out of  5\n",
      "On Target Atom:  3  out of  5\n",
      "On Target Atom:  4  out of  5\n",
      "Processing entry 26/30...\n",
      "On Target Atom:  0  out of  5\n",
      "On Target Atom:  1  out of  5\n",
      "On Target Atom:  2  out of  5\n",
      "On Target Atom:  3  out of  5\n",
      "On Target Atom:  4  out of  5\n",
      "Processing entry 27/30...\n",
      "On Target Atom:  0  out of  5\n",
      "On Target Atom:  1  out of  5\n",
      "On Target Atom:  2  out of  5\n",
      "On Target Atom:  3  out of  5\n",
      "On Target Atom:  4  out of  5\n",
      "Processing entry 28/30...\n",
      "On Target Atom:  0  out of  5\n",
      "On Target Atom:  1  out of  5\n",
      "On Target Atom:  2  out of  5\n",
      "On Target Atom:  3  out of  5\n",
      "On Target Atom:  4  out of  5\n",
      "Processing entry 29/30...\n",
      "On Target Atom:  0  out of  5\n",
      "On Target Atom:  1  out of  5\n",
      "On Target Atom:  2  out of  5\n",
      "On Target Atom:  3  out of  5\n",
      "On Target Atom:  4  out of  5\n",
      "Processing entry 30/30...\n",
      "On Target Atom:  0  out of  5\n",
      "On Target Atom:  1  out of  5\n",
      "On Target Atom:  2  out of  5\n",
      "On Target Atom:  3  out of  5\n",
      "On Target Atom:  4  out of  5\n"
     ]
    }
   ],
   "source": [
    "# now create the entries for the NEB calculations\n",
    "output_dir = '../Visualization/Job_Structures/Pre_VASP/Fixed_VCrTiWZr_Summit/125-Atoms/Gen_4/Pre_NEB'\n",
    "create_and_save_structures(entries, num_sites=5, num_barriers_per_site=5, job_path=output_dir)"
   ]
  },
  {
   "cell_type": "code",
   "execution_count": 35,
   "metadata": {},
   "outputs": [
    {
     "name": "stdout",
     "output_type": "stream",
     "text": [
      "structure_15_comp_Zr13Ti2V83Cr12W15_vac_site_106\n",
      "PreconLBFGS:   0  23:07:25    -1147.877895       2.5107\n",
      "PreconLBFGS:   1  23:07:30    -1149.976165       1.4926\n",
      "PreconLBFGS:   2  23:07:32    -1151.343855       1.2307\n",
      "PreconLBFGS:   3  23:07:33    -1152.342735       0.9799\n",
      "PreconLBFGS:   4  23:07:35    -1153.016655       0.7882\n",
      "PreconLBFGS:   5  23:07:36    -1153.467104       0.6245\n",
      "PreconLBFGS:   6  23:07:37    -1153.750293       0.4895\n",
      "PreconLBFGS:   7  23:07:39    -1153.919251       0.3864\n",
      "PreconLBFGS:   8  23:07:40    -1154.015862       0.3115\n",
      "PreconLBFGS:   9  23:07:41    -1154.071690       0.2634\n",
      "PreconLBFGS:  10  23:07:42    -1154.107295       0.2378\n",
      "PreconLBFGS:  11  23:07:43    -1154.133891       0.2139\n",
      "PreconLBFGS:  12  23:07:45    -1154.156169       0.1816\n",
      "PreconLBFGS:  13  23:07:46    -1154.176142       0.1566\n",
      "PreconLBFGS:  14  23:07:48    -1154.194868       0.1517\n",
      "PreconLBFGS:  15  23:07:49    -1154.212228       0.1552\n",
      "PreconLBFGS:  16  23:07:50    -1154.227808       0.1531\n",
      "PreconLBFGS:  17  23:07:51    -1154.241663       0.1397\n",
      "PreconLBFGS:  18  23:07:53    -1154.254232       0.1490\n",
      "PreconLBFGS:  19  23:07:54    -1154.265941       0.1617\n",
      "PreconLBFGS:  20  23:07:56    -1154.277029       0.1646\n",
      "PreconLBFGS:  21  23:07:57    -1154.287686       0.1615\n",
      "PreconLBFGS:  22  23:07:58    -1154.298200       0.1570\n",
      "PreconLBFGS:  23  23:08:00    -1154.308675       0.1701\n",
      "PreconLBFGS:  24  23:08:01    -1154.319052       0.2051\n",
      "PreconLBFGS:  25  23:08:02    -1154.329299       0.2336\n",
      "PreconLBFGS:  26  23:08:03    -1154.339428       0.2422\n",
      "PreconLBFGS:  27  23:08:05    -1154.349951       0.2313\n",
      "PreconLBFGS:  28  23:08:06    -1154.361497       0.2174\n",
      "PreconLBFGS:  29  23:08:07    -1154.373608       0.2099\n",
      "PreconLBFGS:  30  23:08:08    -1154.385038       0.2075\n",
      "PreconLBFGS:  31  23:08:10    -1154.395484       0.2093\n",
      "PreconLBFGS:  32  23:08:11    -1154.405541       0.2162\n",
      "PreconLBFGS:  33  23:08:12    -1154.416088       0.2289\n",
      "PreconLBFGS:  34  23:08:13    -1154.427536       0.2451\n",
      "PreconLBFGS:  35  23:08:14    -1154.439661       0.2595\n",
      "PreconLBFGS:  36  23:08:16    -1154.451949       0.2663\n",
      "PreconLBFGS:  37  23:08:17    -1154.464112       0.2620\n",
      "PreconLBFGS:  38  23:08:18    -1154.476196       0.2485\n",
      "PreconLBFGS:  39  23:08:20    -1154.487667       0.2323\n",
      "PreconLBFGS:  40  23:08:21    -1154.498155       0.2167\n",
      "PreconLBFGS:  41  23:08:22    -1154.508590       0.2025\n",
      "PreconLBFGS:  42  23:08:23    -1154.519185       0.2016\n",
      "PreconLBFGS:  43  23:08:25    -1154.528845       0.2324\n"
     ]
    },
    {
     "name": "stderr",
     "output_type": "stream",
     "text": [
      "ERROR:ase.utils.linesearcharmijo:Passed direction which is not downhill. Aborting...: 2.319806e-02\n"
     ]
    },
    {
     "name": "stdout",
     "output_type": "stream",
     "text": [
      "PreconLBFGS:  44  23:08:25    -1154.528845       0.2324\n",
      "PreconLBFGS:  45  23:08:26    -1154.541842       0.2344\n",
      "PreconLBFGS:  46  23:08:27    -1154.579091       0.4782\n",
      "PreconLBFGS:  47  23:08:29    -1154.596007       0.5894\n",
      "PreconLBFGS:  48  23:08:30    -1154.613336       0.6945\n",
      "PreconLBFGS:  49  23:08:31    -1154.630415       0.7826\n",
      "PreconLBFGS:  50  23:08:33    -1154.646708       0.8453\n",
      "PreconLBFGS:  51  23:08:34    -1154.661668       0.8786\n",
      "PreconLBFGS:  52  23:08:35    -1154.675264       0.8921\n",
      "PreconLBFGS:  53  23:08:37    -1154.688174       0.8936\n",
      "PreconLBFGS:  54  23:08:38    -1154.700570       0.8751\n",
      "PreconLBFGS:  55  23:08:39    -1154.714708       0.8681\n",
      "PreconLBFGS:  56  23:08:41    -1154.729715       0.8576\n",
      "PreconLBFGS:  57  23:08:42    -1154.745617       0.8327\n",
      "PreconLBFGS:  58  23:08:43    -1154.764141       0.7956\n",
      "PreconLBFGS:  59  23:08:44    -1154.786139       0.7406\n",
      "PreconLBFGS:  60  23:08:45    -1154.814161       0.6805\n",
      "PreconLBFGS:  61  23:08:47    -1154.848346       0.6214\n",
      "PreconLBFGS:  62  23:08:48    -1154.887986       0.5643\n",
      "PreconLBFGS:  63  23:08:49    -1154.933028       0.5101\n",
      "PreconLBFGS:  64  23:08:50    -1154.982266       0.4572\n",
      "PreconLBFGS:  65  23:08:52    -1155.033608       0.4058\n",
      "PreconLBFGS:  66  23:08:53    -1155.085165       0.3523\n",
      "PreconLBFGS:  67  23:08:54    -1155.136340       0.2916\n",
      "PreconLBFGS:  68  23:08:55    -1155.185406       0.2415\n",
      "PreconLBFGS:  69  23:08:57    -1155.227433       0.2017\n",
      "PreconLBFGS:  70  23:08:58    -1155.263525       0.1918\n",
      "PreconLBFGS:  71  23:08:59    -1155.293736       0.1627\n",
      "PreconLBFGS:  72  23:09:00    -1155.322991       0.1491\n",
      "PreconLBFGS:  73  23:09:01    -1155.334381       0.1016\n",
      "PreconLBFGS:  74  23:09:03    -1155.349771       0.0802\n",
      "PreconLBFGS:  75  23:09:04    -1155.352884       0.0728\n",
      "PreconLBFGS:  76  23:09:05    -1155.357130       0.0515\n",
      "PreconLBFGS:  77  23:09:07    -1155.358581       0.0467\n",
      "PreconLBFGS:  78  23:09:08    -1155.360047       0.0353\n",
      "PreconLBFGS:  79  23:09:09    -1155.360995       0.0323\n",
      "PreconLBFGS:  80  23:09:11    -1155.361930       0.0294\n",
      "PreconLBFGS:  81  23:09:12    -1155.362369       0.0245\n",
      "PreconLBFGS:  82  23:09:13    -1155.363093       0.0165\n",
      "PreconLBFGS:  83  23:09:15    -1155.363435       0.0150\n",
      "PreconLBFGS:  84  23:09:16    -1155.363966       0.0119\n",
      "PreconLBFGS:  85  23:09:17    -1155.364253       0.0127\n",
      "PreconLBFGS:  86  23:09:19    -1155.364550       0.0154\n",
      "PreconLBFGS:  87  23:09:20    -1155.364695       0.0115\n",
      "PreconLBFGS:  88  23:09:21    -1155.365002       0.0146\n",
      "PreconLBFGS:  89  23:09:22    -1155.365685       0.0429\n"
     ]
    },
    {
     "name": "stderr",
     "output_type": "stream",
     "text": [
      "ERROR:ase.utils.linesearcharmijo:Passed direction which is not downhill. Aborting...: 1.514143e-03\n"
     ]
    },
    {
     "name": "stdout",
     "output_type": "stream",
     "text": [
      "PreconLBFGS:  90  23:09:22    -1155.365685       0.0429\n",
      "PreconLBFGS:  91  23:09:24    -1155.366485       0.0357\n",
      "PreconLBFGS:  92  23:09:25    -1155.366871       0.0312\n",
      "PreconLBFGS:  93  23:09:26    -1155.367326       0.0317\n",
      "PreconLBFGS:  94  23:09:28    -1155.367708       0.0359\n",
      "PreconLBFGS:  95  23:09:30    -1155.368413       0.0445\n",
      "PreconLBFGS:  96  23:09:32    -1155.369727       0.0613\n",
      "PreconLBFGS:  97  23:09:33    -1155.371177       0.0787\n",
      "PreconLBFGS:  98  23:09:34    -1155.372424       0.0915\n",
      "PreconLBFGS:  99  23:09:36    -1155.374154       0.1091\n",
      "PreconLBFGS: 100  23:09:37    -1155.377453       0.1082\n",
      "PreconLBFGS: 101  23:09:38    -1155.383510       0.1180\n",
      "PreconLBFGS: 102  23:09:39    -1155.391178       0.1411\n",
      "PreconLBFGS: 103  23:09:41    -1155.398158       0.1722\n",
      "PreconLBFGS: 104  23:09:42    -1155.405351       0.2139\n"
     ]
    },
    {
     "name": "stderr",
     "output_type": "stream",
     "text": [
      "ERROR:ase.utils.linesearcharmijo:Passed direction which is not downhill. Aborting...: 8.037468e-02\n"
     ]
    },
    {
     "name": "stdout",
     "output_type": "stream",
     "text": [
      "PreconLBFGS: 105  23:09:42    -1155.405351       0.2139\n",
      "PreconLBFGS: 106  23:09:43    -1155.417095       0.2084\n",
      "PreconLBFGS: 107  23:09:45    -1155.431890       0.2173\n",
      "PreconLBFGS: 108  23:09:46    -1155.443802       0.2170\n",
      "PreconLBFGS: 109  23:09:47    -1155.454615       0.2049\n",
      "PreconLBFGS: 110  23:09:48    -1155.465047       0.2263\n",
      "PreconLBFGS: 111  23:09:50    -1155.475642       0.2400\n",
      "PreconLBFGS: 112  23:09:51    -1155.486818       0.2334\n",
      "PreconLBFGS: 113  23:09:52    -1155.498858       0.2297\n",
      "PreconLBFGS: 114  23:09:53    -1155.511830       0.2550\n",
      "PreconLBFGS: 115  23:09:55    -1155.525372       0.2635\n",
      "PreconLBFGS: 116  23:09:56    -1155.538702       0.2493\n",
      "PreconLBFGS: 117  23:09:57    -1155.550989       0.2136\n",
      "PreconLBFGS: 118  23:09:59    -1155.566422       0.1537\n",
      "PreconLBFGS: 119  23:10:00    -1155.575664       0.1585\n",
      "PreconLBFGS: 120  23:10:04    -1155.583007       0.1605\n",
      "PreconLBFGS: 121  23:10:06    -1155.590148       0.1545\n",
      "PreconLBFGS: 122  23:10:08    -1155.598137       0.1209\n",
      "PreconLBFGS: 123  23:10:09    -1155.605657       0.0670\n",
      "PreconLBFGS: 124  23:10:10    -1155.608769       0.0585\n",
      "PreconLBFGS: 125  23:10:11    -1155.613205       0.0583\n",
      "PreconLBFGS: 126  23:10:12    -1155.615421       0.0568\n",
      "PreconLBFGS: 127  23:10:14    -1155.617930       0.0403\n",
      "PreconLBFGS: 128  23:10:15    -1155.619275       0.0382\n",
      "PreconLBFGS: 129  23:10:16    -1155.620636       0.0323\n",
      "PreconLBFGS: 130  23:10:18    -1155.621552       0.0433\n",
      "PreconLBFGS: 131  23:10:19    -1155.622305       0.0262\n",
      "PreconLBFGS: 132  23:10:20    -1155.622574       0.0096\n",
      "PreconLBFGS:   0  23:10:21    -1148.179028       2.5688\n",
      "PreconLBFGS:   1  23:10:25    -1150.138413       1.8728\n",
      "PreconLBFGS:   2  23:10:26    -1151.470356       1.5108\n",
      "PreconLBFGS:   3  23:10:27    -1152.404999       1.2435\n",
      "PreconLBFGS:   4  23:10:29    -1153.015224       1.1511\n",
      "PreconLBFGS:   5  23:10:30    -1153.438291       1.0903\n",
      "PreconLBFGS:   6  23:10:31    -1153.738594       1.0486\n",
      "PreconLBFGS:   7  23:10:33    -1153.960307       1.0233\n",
      "PreconLBFGS:   8  23:10:34    -1154.130145       1.0058\n",
      "PreconLBFGS:   9  23:10:35    -1154.265777       0.9835\n",
      "PreconLBFGS:  10  23:10:37    -1154.379003       0.9559\n",
      "PreconLBFGS:  11  23:10:38    -1154.476736       0.9294\n",
      "PreconLBFGS:  12  23:10:40    -1154.562772       0.9020\n",
      "PreconLBFGS:  13  23:10:41    -1154.639773       0.8739\n",
      "PreconLBFGS:  14  23:10:42    -1154.709467       0.8438\n",
      "PreconLBFGS:  15  23:10:44    -1154.772719       0.8002\n",
      "PreconLBFGS:  16  23:10:45    -1154.829945       0.7324\n",
      "PreconLBFGS:  17  23:10:46    -1154.881267       0.6414\n",
      "PreconLBFGS:  18  23:10:47    -1154.926422       0.5359\n",
      "PreconLBFGS:  19  23:10:49    -1154.964880       0.4262\n",
      "PreconLBFGS:  20  23:10:50    -1154.996156       0.3211\n",
      "PreconLBFGS:  21  23:10:51    -1155.020084       0.2263\n",
      "PreconLBFGS:  22  23:10:52    -1155.037032       0.1476\n",
      "PreconLBFGS:  23  23:10:54    -1155.048005       0.0935\n",
      "PreconLBFGS:  24  23:10:55    -1155.056723       0.0673\n",
      "PreconLBFGS:  25  23:10:56    -1155.060598       0.0730\n",
      "PreconLBFGS:  26  23:10:57    -1155.064780       0.0812\n",
      "PreconLBFGS:  27  23:10:59    -1155.069124       0.1011\n",
      "PreconLBFGS:  28  23:11:00    -1155.073646       0.1336\n",
      "PreconLBFGS:  29  23:11:01    -1155.077593       0.1860\n"
     ]
    },
    {
     "name": "stderr",
     "output_type": "stream",
     "text": [
      "ERROR:ase.utils.linesearcharmijo:Passed direction which is not downhill. Aborting...: 1.935580e-02\n"
     ]
    },
    {
     "name": "stdout",
     "output_type": "stream",
     "text": [
      "PreconLBFGS:  30  23:11:01    -1155.077593       0.1860\n",
      "PreconLBFGS:  31  23:11:03    -1155.087894       0.2027\n",
      "PreconLBFGS:  32  23:11:04    -1155.102772       0.2720\n",
      "PreconLBFGS:  33  23:11:06    -1155.116131       0.3592\n",
      "PreconLBFGS:  34  23:11:07    -1155.129713       0.4460\n",
      "PreconLBFGS:  35  23:11:08    -1155.142922       0.5198\n",
      "PreconLBFGS:  36  23:11:09    -1155.154835       0.5711\n",
      "PreconLBFGS:  37  23:11:11    -1155.164656       0.5997\n",
      "PreconLBFGS:  38  23:11:12    -1155.172175       0.6183\n",
      "PreconLBFGS:  39  23:11:13    -1155.178938       0.6508\n",
      "PreconLBFGS:  40  23:11:14    -1155.182655       0.6753\n",
      "PreconLBFGS:  41  23:11:16    -1155.192252       0.7434\n",
      "PreconLBFGS:  42  23:11:17    -1155.199437       0.7823\n",
      "PreconLBFGS:  43  23:11:18    -1155.212576       0.8190\n",
      "PreconLBFGS:  44  23:11:20    -1155.229824       0.8326\n",
      "PreconLBFGS:  45  23:11:21    -1155.257110       0.7786\n",
      "PreconLBFGS:  46  23:11:22    -1155.295834       0.6987\n",
      "PreconLBFGS:  47  23:11:24    -1155.322734       0.6223\n",
      "PreconLBFGS:  48  23:11:25    -1155.356468       0.5715\n",
      "PreconLBFGS:  49  23:11:27    -1155.384213       0.5290\n",
      "PreconLBFGS:  50  23:11:29    -1155.414198       0.5001\n",
      "PreconLBFGS:  51  23:11:31    -1155.442625       0.4704\n",
      "PreconLBFGS:  52  23:11:32    -1155.473161       0.4380\n",
      "PreconLBFGS:  53  23:11:33    -1155.504011       0.3935\n",
      "PreconLBFGS:  54  23:11:35    -1155.537405       0.3382\n",
      "PreconLBFGS:  55  23:11:36    -1155.570127       0.2617\n",
      "PreconLBFGS:  56  23:11:37    -1155.607244       0.1969\n",
      "PreconLBFGS:  57  23:11:39    -1155.631873       0.1455\n",
      "PreconLBFGS:  58  23:11:40    -1155.664107       0.1256\n",
      "PreconLBFGS:  59  23:11:41    -1155.677963       0.1271\n",
      "PreconLBFGS:  60  23:11:43    -1155.697779       0.1009\n",
      "PreconLBFGS:  61  23:11:44    -1155.706450       0.0951\n",
      "PreconLBFGS:  62  23:11:45    -1155.717338       0.0485\n",
      "PreconLBFGS:  63  23:11:47    -1155.719768       0.0405\n",
      "PreconLBFGS:  64  23:11:48    -1155.721335       0.0250\n",
      "PreconLBFGS:  65  23:11:49    -1155.721970       0.0135\n",
      "PreconLBFGS:  66  23:11:51    -1155.722274       0.0107\n",
      "PreconLBFGS:  67  23:11:52    -1155.722397       0.0076\n",
      "Using device: cpu\n",
      "Skipping neb calculation\n",
      "PreconLBFGS:   0  23:11:54    -1147.802711       2.6147\n",
      "PreconLBFGS:   1  23:11:57    -1149.803971       1.8507\n",
      "PreconLBFGS:   2  23:11:58    -1151.135247       1.4623\n",
      "PreconLBFGS:   3  23:12:00    -1152.053658       1.2439\n",
      "PreconLBFGS:   4  23:12:01    -1152.704433       1.0617\n",
      "PreconLBFGS:   5  23:12:02    -1153.210950       0.8694\n",
      "PreconLBFGS:   6  23:12:04    -1153.605435       0.6685\n",
      "PreconLBFGS:   7  23:12:05    -1153.904778       0.4835\n",
      "PreconLBFGS:   8  23:12:06    -1154.106932       0.3217\n",
      "PreconLBFGS:   9  23:12:07    -1154.254623       0.1438\n",
      "PreconLBFGS:  10  23:12:08    -1154.268050       0.1426\n",
      "PreconLBFGS:  11  23:12:09    -1154.291051       0.1501\n",
      "PreconLBFGS:  12  23:12:11    -1154.313886       0.1663\n",
      "PreconLBFGS:  13  23:12:12    -1154.332385       0.1769\n",
      "PreconLBFGS:  14  23:12:14    -1154.348709       0.1785\n",
      "PreconLBFGS:  15  23:12:15    -1154.363700       0.1726\n",
      "PreconLBFGS:  16  23:12:16    -1154.377906       0.1650\n",
      "PreconLBFGS:  17  23:12:18    -1154.391859       0.1618\n",
      "PreconLBFGS:  18  23:12:19    -1154.405820       0.1651\n",
      "PreconLBFGS:  19  23:12:20    -1154.419762       0.1729\n",
      "PreconLBFGS:  20  23:12:22    -1154.433653       0.1798\n",
      "PreconLBFGS:  21  23:12:23    -1154.447883       0.1837\n",
      "PreconLBFGS:  22  23:12:25    -1154.462957       0.1875\n",
      "PreconLBFGS:  23  23:12:26    -1154.478529       0.1945\n",
      "PreconLBFGS:  24  23:12:31    -1154.493902       0.2011\n",
      "PreconLBFGS:  25  23:12:32    -1154.508790       0.1985\n",
      "PreconLBFGS:  26  23:12:33    -1154.523506       0.2012\n",
      "PreconLBFGS:  27  23:12:35    -1154.538972       0.1987\n",
      "PreconLBFGS:  28  23:12:36    -1154.555780       0.1780\n",
      "PreconLBFGS:  29  23:12:37    -1154.578535       0.1143\n",
      "PreconLBFGS:  30  23:12:38    -1154.587900       0.0913\n",
      "PreconLBFGS:  31  23:12:39    -1154.602066       0.0621\n",
      "PreconLBFGS:  32  23:12:41    -1154.607281       0.0621\n",
      "PreconLBFGS:  33  23:12:42    -1154.612235       0.0593\n",
      "PreconLBFGS:  34  23:12:43    -1154.616967       0.0639\n",
      "PreconLBFGS:  35  23:12:45    -1154.620622       0.0767\n",
      "PreconLBFGS:  36  23:12:46    -1154.624219       0.0893\n",
      "PreconLBFGS:  37  23:12:47    -1154.627569       0.0974\n",
      "PreconLBFGS:  38  23:12:48    -1154.630964       0.1012\n",
      "PreconLBFGS:  39  23:12:49    -1154.636647       0.1004\n",
      "PreconLBFGS:  40  23:12:50    -1154.640817       0.1017\n",
      "PreconLBFGS:  41  23:12:52    -1154.645713       0.1046\n",
      "PreconLBFGS:  42  23:12:53    -1154.651193       0.1039\n",
      "PreconLBFGS:  43  23:12:54    -1154.656213       0.1051\n",
      "PreconLBFGS:  44  23:12:55    -1154.661101       0.1082\n",
      "PreconLBFGS:  45  23:12:57    -1154.666247       0.1139\n",
      "PreconLBFGS:  46  23:12:58    -1154.672279       0.1220\n",
      "PreconLBFGS:  47  23:13:00    -1154.679047       0.1346\n",
      "PreconLBFGS:  48  23:13:01    -1154.687281       0.1449\n",
      "PreconLBFGS:  49  23:13:02    -1154.695307       0.1508\n",
      "PreconLBFGS:  50  23:13:04    -1154.704115       0.1777\n",
      "PreconLBFGS:  51  23:13:05    -1154.710929       0.2035\n",
      "PreconLBFGS:  52  23:13:06    -1154.718289       0.2304\n",
      "PreconLBFGS:  53  23:13:08    -1154.726229       0.2574\n",
      "PreconLBFGS:  54  23:13:09    -1154.735050       0.2945\n",
      "PreconLBFGS:  55  23:13:10    -1154.743449       0.3411\n",
      "PreconLBFGS:  56  23:13:12    -1154.751624       0.3916\n"
     ]
    },
    {
     "name": "stderr",
     "output_type": "stream",
     "text": [
      "ERROR:ase.utils.linesearcharmijo:Passed direction which is not downhill. Aborting...: 6.604334e-03\n"
     ]
    },
    {
     "name": "stdout",
     "output_type": "stream",
     "text": [
      "PreconLBFGS:  57  23:13:12    -1154.751624       0.3916\n",
      "PreconLBFGS:  58  23:13:13    -1154.767387       0.3915\n",
      "PreconLBFGS:  59  23:13:14    -1154.797632       0.4046\n",
      "PreconLBFGS:  60  23:13:15    -1154.851026       0.4555\n",
      "PreconLBFGS:  61  23:13:17    -1154.898466       0.5176\n",
      "PreconLBFGS:  62  23:13:18    -1154.943285       0.5823\n",
      "PreconLBFGS:  63  23:13:19    -1154.986404       0.6399\n",
      "PreconLBFGS:  64  23:13:20    -1155.027608       0.6764\n",
      "PreconLBFGS:  65  23:13:22    -1155.066544       0.6910\n",
      "PreconLBFGS:  66  23:13:23    -1155.103112       0.6930\n",
      "PreconLBFGS:  67  23:13:24    -1155.137194       0.6818\n",
      "PreconLBFGS:  68  23:13:25    -1155.168719       0.6547\n",
      "PreconLBFGS:  69  23:13:27    -1155.197668       0.6130\n",
      "PreconLBFGS:  70  23:13:28    -1155.224022       0.5579\n",
      "PreconLBFGS:  71  23:13:30    -1155.247989       0.4920\n",
      "PreconLBFGS:  72  23:13:31    -1155.270373       0.4236\n",
      "PreconLBFGS:  73  23:13:33    -1155.292544       0.3540\n",
      "PreconLBFGS:  74  23:13:34    -1155.316055       0.3030\n",
      "PreconLBFGS:  75  23:13:35    -1155.342660       0.2594\n",
      "PreconLBFGS:  76  23:13:37    -1155.388988       0.1728\n",
      "PreconLBFGS:  77  23:13:38    -1155.410195       0.1413\n",
      "PreconLBFGS:  78  23:13:39    -1155.429988       0.0595\n",
      "PreconLBFGS:  79  23:13:40    -1155.434688       0.0744\n",
      "PreconLBFGS:  80  23:13:41    -1155.438900       0.0652\n",
      "PreconLBFGS:  81  23:13:43    -1155.440303       0.0417\n",
      "PreconLBFGS:  82  23:13:44    -1155.441654       0.0165\n",
      "PreconLBFGS:  83  23:13:45    -1155.441990       0.0149\n",
      "PreconLBFGS:  84  23:13:47    -1155.442398       0.0111\n",
      "PreconLBFGS:  85  23:13:48    -1155.442539       0.0092\n",
      "Using device: cpu\n",
      "Skipping neb calculation\n",
      "PreconLBFGS:   0  23:13:49    -1147.691992       2.5248\n",
      "PreconLBFGS:   1  23:13:53    -1149.872029       1.5526\n",
      "PreconLBFGS:   2  23:13:54    -1151.179431       1.3836\n",
      "PreconLBFGS:   3  23:13:55    -1152.054926       1.2198\n",
      "PreconLBFGS:   4  23:13:57    -1152.703075       1.0459\n",
      "PreconLBFGS:   5  23:13:58    -1153.197058       0.8935\n",
      "PreconLBFGS:   6  23:13:59    -1153.562775       0.7749\n",
      "PreconLBFGS:   7  23:14:00    -1153.821548       0.6802\n",
      "PreconLBFGS:   8  23:14:02    -1154.001137       0.5940\n",
      "PreconLBFGS:   9  23:14:03    -1154.126293       0.5180\n",
      "PreconLBFGS:  10  23:14:05    -1154.213093       0.4587\n",
      "PreconLBFGS:  11  23:14:06    -1154.273021       0.4145\n",
      "PreconLBFGS:  12  23:14:07    -1154.315209       0.3790\n",
      "PreconLBFGS:  13  23:14:08    -1154.346433       0.3488\n",
      "PreconLBFGS:  14  23:14:10    -1154.371150       0.3271\n",
      "PreconLBFGS:  15  23:14:11    -1154.392079       0.3164\n",
      "PreconLBFGS:  16  23:14:12    -1154.410775       0.3158\n",
      "PreconLBFGS:  17  23:14:13    -1154.428181       0.3237\n",
      "PreconLBFGS:  18  23:14:14    -1154.444889       0.3347\n",
      "PreconLBFGS:  19  23:14:16    -1154.461151       0.3407\n",
      "PreconLBFGS:  20  23:14:17    -1154.476986       0.3383\n",
      "PreconLBFGS:  21  23:14:19    -1154.492354       0.3300\n",
      "PreconLBFGS:  22  23:14:20    -1154.507205       0.3189\n",
      "PreconLBFGS:  23  23:14:21    -1154.521505       0.3053\n",
      "PreconLBFGS:  24  23:14:22    -1154.535312       0.2903\n",
      "PreconLBFGS:  25  23:14:23    -1154.548816       0.2777\n",
      "PreconLBFGS:  26  23:14:25    -1154.562210       0.2695\n",
      "PreconLBFGS:  27  23:14:26    -1154.575530       0.2624\n",
      "PreconLBFGS:  28  23:14:27    -1154.588721       0.2536\n",
      "PreconLBFGS:  29  23:14:29    -1154.601758       0.2455\n",
      "PreconLBFGS:  30  23:14:30    -1154.614669       0.2447\n",
      "PreconLBFGS:  31  23:14:31    -1154.627711       0.2541\n"
     ]
    },
    {
     "name": "stderr",
     "output_type": "stream",
     "text": [
      "ERROR:ase.utils.linesearcharmijo:Passed direction which is not downhill. Aborting...: 3.677834e-01\n"
     ]
    },
    {
     "name": "stdout",
     "output_type": "stream",
     "text": [
      "PreconLBFGS:  32  23:14:31    -1154.627711       0.2541\n",
      "PreconLBFGS:  33  23:14:32    -1154.652764       0.2641\n",
      "PreconLBFGS:  34  23:14:34    -1154.677971       0.3154\n",
      "PreconLBFGS:  35  23:14:35    -1154.706642       0.4308\n",
      "PreconLBFGS:  36  23:14:36    -1154.721517       0.4899\n",
      "PreconLBFGS:  37  23:14:37    -1154.736957       0.5368\n",
      "PreconLBFGS:  38  23:14:39    -1154.752539       0.5654\n",
      "PreconLBFGS:  39  23:14:40    -1154.768064       0.5764\n",
      "PreconLBFGS:  40  23:14:41    -1154.783444       0.5761\n",
      "PreconLBFGS:  41  23:14:42    -1154.798656       0.5714\n",
      "PreconLBFGS:  42  23:14:44    -1154.813698       0.5664\n",
      "PreconLBFGS:  43  23:14:45    -1154.828551       0.5627\n",
      "PreconLBFGS:  44  23:14:46    -1154.843218       0.5610\n",
      "PreconLBFGS:  45  23:14:47    -1154.857773       0.5627\n",
      "PreconLBFGS:  46  23:14:49    -1154.872323       0.5694\n",
      "PreconLBFGS:  47  23:14:50    -1154.886966       0.5830\n",
      "PreconLBFGS:  48  23:14:51    -1154.901781       0.6045\n",
      "PreconLBFGS:  49  23:14:54    -1154.903134       0.6270\n"
     ]
    },
    {
     "name": "stderr",
     "output_type": "stream",
     "text": [
      "ERROR:ase.utils.linesearcharmijo:Passed direction which is not downhill. Aborting...: 3.935537e-02\n"
     ]
    },
    {
     "name": "stdout",
     "output_type": "stream",
     "text": [
      "PreconLBFGS:  50  23:14:54    -1154.903134       0.6270\n",
      "PreconLBFGS:  51  23:14:55    -1154.905826       0.6240\n",
      "PreconLBFGS:  52  23:14:56    -1154.911170       0.6202\n",
      "PreconLBFGS:  53  23:14:57    -1154.921738       0.6148\n",
      "PreconLBFGS:  54  23:14:58    -1154.942492       0.6079\n",
      "PreconLBFGS:  55  23:15:00    -1154.982728       0.5978\n",
      "PreconLBFGS:  56  23:15:01    -1155.020655       0.5808\n",
      "PreconLBFGS:  57  23:15:02    -1155.055013       0.5600\n",
      "PreconLBFGS:  58  23:15:03    -1155.086270       0.5260\n",
      "PreconLBFGS:  59  23:15:04    -1155.114253       0.4708\n",
      "PreconLBFGS:  60  23:15:06    -1155.138744       0.4012\n",
      "PreconLBFGS:  61  23:15:07    -1155.159487       0.3202\n",
      "PreconLBFGS:  62  23:15:09    -1155.176237       0.2300\n",
      "PreconLBFGS:  63  23:15:11    -1155.188721       0.1304\n",
      "PreconLBFGS:  64  23:15:12    -1155.199408       0.0717\n",
      "PreconLBFGS:  65  23:15:14    -1155.201688       0.0613\n",
      "PreconLBFGS:  66  23:15:15    -1155.205279       0.0371\n",
      "PreconLBFGS:  67  23:15:16    -1155.207218       0.0565\n",
      "PreconLBFGS:  68  23:15:18    -1155.208131       0.0304\n",
      "PreconLBFGS:  69  23:15:19    -1155.208445       0.0191\n",
      "PreconLBFGS:  70  23:15:20    -1155.208751       0.0125\n",
      "PreconLBFGS:  71  23:15:22    -1155.208822       0.0102\n",
      "PreconLBFGS:  72  23:15:23    -1155.208864       0.0039\n",
      "Using device: cpu\n",
      "Skipping neb calculation\n",
      "PreconLBFGS:   0  23:15:25    -1148.137178       2.4456\n",
      "PreconLBFGS:   1  23:15:28    -1150.382985       1.6377\n",
      "PreconLBFGS:   2  23:15:30    -1151.680880       1.4319\n",
      "PreconLBFGS:   3  23:15:32    -1152.634186       1.3294\n",
      "PreconLBFGS:   4  23:15:34    -1153.279293       1.2591\n",
      "PreconLBFGS:   5  23:15:36    -1153.714452       1.2182\n",
      "PreconLBFGS:   6  23:15:37    -1154.028352       1.1768\n",
      "PreconLBFGS:   7  23:15:42    -1154.272856       1.1045\n",
      "PreconLBFGS:   8  23:15:43    -1154.477251       1.0095\n",
      "PreconLBFGS:   9  23:15:44    -1154.651799       0.8896\n",
      "PreconLBFGS:  10  23:15:46    -1154.802613       0.7471\n",
      "PreconLBFGS:  11  23:15:47    -1154.933342       0.6062\n",
      "PreconLBFGS:  12  23:15:48    -1155.042891       0.4807\n",
      "PreconLBFGS:  13  23:15:55    -1155.130057       0.3734\n",
      "PreconLBFGS:  14  23:15:56    -1155.195811       0.2858\n",
      "PreconLBFGS:  15  23:15:58    -1155.241895       0.2063\n",
      "PreconLBFGS:  16  23:15:59    -1155.270053       0.1172\n",
      "PreconLBFGS:  17  23:16:01    -1155.283011       0.0447\n",
      "PreconLBFGS:  18  23:16:02    -1155.285471       0.0381\n",
      "PreconLBFGS:  19  23:16:03    -1155.289962       0.0399\n",
      "PreconLBFGS:  20  23:16:04    -1155.290600       0.0284\n",
      "PreconLBFGS:  21  23:16:06    -1155.291203       0.0180\n",
      "PreconLBFGS:  22  23:16:07    -1155.291391       0.0130\n",
      "PreconLBFGS:  23  23:16:08    -1155.291589       0.0133\n",
      "PreconLBFGS:  24  23:16:10    -1155.291671       0.0072\n",
      "Using device: cpu\n",
      "Skipping neb calculation\n",
      "PreconLBFGS:   0  23:16:11    -1147.673511       2.4591\n",
      "PreconLBFGS:   1  23:16:15    -1149.854572       1.5122\n",
      "PreconLBFGS:   2  23:16:16    -1151.191123       1.2452\n",
      "PreconLBFGS:   3  23:16:17    -1152.196376       1.0084\n",
      "PreconLBFGS:   4  23:16:19    -1152.900378       0.8296\n",
      "PreconLBFGS:   5  23:16:24    -1153.370285       0.6913\n",
      "PreconLBFGS:   6  23:16:27    -1153.670582       0.5776\n",
      "PreconLBFGS:   7  23:16:29    -1153.861809       0.4891\n",
      "PreconLBFGS:   8  23:16:30    -1153.982356       0.4197\n",
      "PreconLBFGS:   9  23:16:32    -1154.058471       0.3672\n",
      "PreconLBFGS:  10  23:16:33    -1154.107315       0.3230\n",
      "PreconLBFGS:  11  23:16:34    -1154.139745       0.2780\n",
      "PreconLBFGS:  12  23:16:36    -1154.162645       0.2445\n",
      "PreconLBFGS:  13  23:16:37    -1154.180226       0.2280\n",
      "PreconLBFGS:  14  23:16:38    -1154.195043       0.2281\n",
      "PreconLBFGS:  15  23:16:43    -1154.208449       0.2386\n",
      "PreconLBFGS:  16  23:16:47    -1154.220947       0.2467\n",
      "PreconLBFGS:  17  23:16:48    -1154.232660       0.2460\n",
      "PreconLBFGS:  18  23:16:49    -1154.243720       0.2411\n",
      "PreconLBFGS:  19  23:16:50    -1154.254407       0.2418\n",
      "PreconLBFGS:  20  23:16:51    -1154.264971       0.2503\n",
      "PreconLBFGS:  21  23:16:53    -1154.275483       0.2584\n",
      "PreconLBFGS:  22  23:16:54    -1154.285892       0.2574\n",
      "PreconLBFGS:  23  23:16:55    -1154.296168       0.2455\n",
      "PreconLBFGS:  24  23:16:56    -1154.306340       0.2259\n",
      "PreconLBFGS:  25  23:16:58    -1154.316451       0.2017\n",
      "PreconLBFGS:  26  23:16:59    -1154.326580       0.1917\n",
      "PreconLBFGS:  27  23:17:00    -1154.336951       0.1920\n",
      "PreconLBFGS:  28  23:17:03    -1154.347800       0.2024\n",
      "PreconLBFGS:  29  23:17:06    -1154.359042       0.2147\n",
      "PreconLBFGS:  30  23:17:07    -1154.370395       0.2211\n",
      "PreconLBFGS:  31  23:17:08    -1154.381784       0.2245\n"
     ]
    },
    {
     "name": "stderr",
     "output_type": "stream",
     "text": [
      "ERROR:ase.utils.linesearcharmijo:Passed direction which is not downhill. Aborting...: 2.514765e-01\n"
     ]
    },
    {
     "name": "stdout",
     "output_type": "stream",
     "text": [
      "PreconLBFGS:  32  23:17:08    -1154.381784       0.2245\n",
      "PreconLBFGS:  33  23:17:10    -1154.403047       0.2161\n",
      "PreconLBFGS:  34  23:17:11    -1154.441039       0.2717\n",
      "PreconLBFGS:  35  23:17:16    -1154.475380       0.3595\n",
      "PreconLBFGS:  36  23:17:17    -1154.504657       0.4510\n",
      "PreconLBFGS:  37  23:17:18    -1154.531963       0.5429\n",
      "PreconLBFGS:  38  23:17:20    -1154.558533       0.6334\n",
      "PreconLBFGS:  39  23:17:21    -1154.584698       0.7188\n",
      "PreconLBFGS:  40  23:17:22    -1154.610482       0.7970\n",
      "PreconLBFGS:  41  23:17:24    -1154.635894       0.8676\n",
      "PreconLBFGS:  42  23:17:25    -1154.660881       0.9253\n",
      "PreconLBFGS:  43  23:17:27    -1154.685220       0.9620\n",
      "PreconLBFGS:  44  23:17:28    -1154.708834       0.9792\n",
      "PreconLBFGS:  45  23:17:29    -1154.732001       0.9842\n",
      "PreconLBFGS:  46  23:17:31    -1154.755112       0.9804\n",
      "PreconLBFGS:  47  23:17:33    -1154.778541       0.9675\n",
      "PreconLBFGS:  48  23:17:35    -1154.802791       0.9496\n",
      "PreconLBFGS:  49  23:17:36    -1154.828315       0.9351\n",
      "PreconLBFGS:  50  23:17:37    -1154.855056       0.9256\n",
      "PreconLBFGS:  51  23:17:41    -1154.882742       0.9171\n",
      "PreconLBFGS:  52  23:17:42    -1154.911482       0.9114\n",
      "PreconLBFGS:  53  23:17:44    -1154.941314       0.9119\n",
      "PreconLBFGS:  54  23:17:45    -1154.971800       0.9114\n",
      "PreconLBFGS:  55  23:17:46    -1155.002759       0.9010\n",
      "PreconLBFGS:  56  23:17:48    -1155.034454       0.8752\n",
      "PreconLBFGS:  57  23:17:49    -1155.067182       0.8283\n",
      "PreconLBFGS:  58  23:17:50    -1155.101644       0.7645\n",
      "PreconLBFGS:  59  23:17:51    -1155.138264       0.6901\n",
      "PreconLBFGS:  60  23:17:52    -1155.176340       0.6004\n",
      "PreconLBFGS:  61  23:17:54    -1155.215630       0.5100\n",
      "PreconLBFGS:  62  23:17:55    -1155.256208       0.4563\n",
      "PreconLBFGS:  63  23:17:57    -1155.297223       0.3850\n",
      "PreconLBFGS:  64  23:17:58    -1155.337067       0.2899\n",
      "PreconLBFGS:  65  23:17:59    -1155.382026       0.1598\n",
      "PreconLBFGS:  66  23:18:00    -1155.392879       0.1010\n",
      "PreconLBFGS:  67  23:18:01    -1155.406476       0.0500\n",
      "PreconLBFGS:  68  23:18:03    -1155.408770       0.0424\n",
      "PreconLBFGS:  69  23:18:04    -1155.410637       0.0351\n",
      "PreconLBFGS:  70  23:18:05    -1155.411220       0.0179\n",
      "PreconLBFGS:  71  23:18:07    -1155.411595       0.0170\n",
      "PreconLBFGS:  72  23:18:08    -1155.411745       0.0064\n",
      "Using device: cpu\n",
      "Skipping neb calculation\n",
      "structure_12_comp_Zr11Ti14V88Cr10W2_vac_site_104\n",
      "PreconLBFGS:   0  23:18:09    -1083.182745       2.7569\n"
     ]
    },
    {
     "ename": "KeyboardInterrupt",
     "evalue": "",
     "output_type": "error",
     "traceback": [
      "\u001b[0;31m---------------------------------------------------------------------------\u001b[0m",
      "\u001b[0;31mKeyboardInterrupt\u001b[0m                         Traceback (most recent call last)",
      "Cell \u001b[0;32mIn[35], line 8\u001b[0m\n\u001b[1;32m      6\u001b[0m base_directory \u001b[38;5;241m=\u001b[39m \u001b[38;5;124m'\u001b[39m\u001b[38;5;124m../Visualization/Job_Structures/Pre_VASP/Fixed_VCrTiWZr_Summit/125-Atoms/Gen_4/Pre_NEB\u001b[39m\u001b[38;5;124m'\u001b[39m\n\u001b[1;32m      7\u001b[0m job_path \u001b[38;5;241m=\u001b[39m \u001b[38;5;124m'\u001b[39m\u001b[38;5;124m../Visualization/Job_Structures/Pre_VASP/Fixed_VCrTiWZr_Summit/125-Atoms/Gen_4/NEB\u001b[39m\u001b[38;5;124m'\u001b[39m \n\u001b[0;32m----> 8\u001b[0m \u001b[43mcreate_neb_files\u001b[49m\u001b[43m(\u001b[49m\u001b[43mbase_directory\u001b[49m\u001b[43m,\u001b[49m\u001b[43m \u001b[49m\u001b[43mjob_path\u001b[49m\u001b[43m,\u001b[49m\u001b[43m \u001b[49m\u001b[43mcalculator\u001b[49m\u001b[43m,\u001b[49m\u001b[43m \u001b[49m\u001b[43mrelax\u001b[49m\u001b[43m \u001b[49m\u001b[38;5;241;43m=\u001b[39;49m\u001b[43m \u001b[49m\u001b[38;5;28;43;01mTrue\u001b[39;49;00m\u001b[43m,\u001b[49m\u001b[43m \u001b[49m\u001b[43mnum_images\u001b[49m\u001b[38;5;241;43m=\u001b[39;49m\u001b[38;5;241;43m5\u001b[39;49m\u001b[43m)\u001b[49m\n",
      "Cell \u001b[0;32mIn[34], line 81\u001b[0m, in \u001b[0;36mcreate_neb_files\u001b[0;34m(base_directory, job_path, calculator, relax, num_images)\u001b[0m\n\u001b[1;32m     79\u001b[0m \u001b[38;5;66;03m# Load the start structure\u001b[39;00m\n\u001b[1;32m     80\u001b[0m start_structure \u001b[38;5;241m=\u001b[39m read(os\u001b[38;5;241m.\u001b[39mpath\u001b[38;5;241m.\u001b[39mjoin(subdir_path, start_file))\n\u001b[0;32m---> 81\u001b[0m relaxed_start_structure \u001b[38;5;241m=\u001b[39m \u001b[43mrelaxer\u001b[49m\u001b[43m(\u001b[49m\u001b[43mstart_structure\u001b[49m\u001b[43m,\u001b[49m\u001b[43m \u001b[49m\u001b[43mcalculator\u001b[49m\u001b[38;5;241;43m=\u001b[39;49m\u001b[43mcalculator\u001b[49m\u001b[43m)\u001b[49m\n\u001b[1;32m     82\u001b[0m parts \u001b[38;5;241m=\u001b[39m subdir\u001b[38;5;241m.\u001b[39msplit(\u001b[38;5;124m'\u001b[39m\u001b[38;5;124m_\u001b[39m\u001b[38;5;124m'\u001b[39m)\n\u001b[1;32m     83\u001b[0m comp \u001b[38;5;241m=\u001b[39m parts[\u001b[38;5;241m3\u001b[39m]\n",
      "Cell \u001b[0;32mIn[34], line 128\u001b[0m, in \u001b[0;36mrelaxer\u001b[0;34m(atoms, calculator, fmax, steps, verbose, relax_cell, loginterval)\u001b[0m\n\u001b[1;32m    125\u001b[0m     ucf \u001b[38;5;241m=\u001b[39m new_atoms \n\u001b[1;32m    126\u001b[0m     optimizer \u001b[38;5;241m=\u001b[39m PreconLBFGS(ucf, use_armijo\u001b[38;5;241m=\u001b[39m\u001b[38;5;28;01mTrue\u001b[39;00m)\n\u001b[0;32m--> 128\u001b[0m \u001b[43moptimizer\u001b[49m\u001b[38;5;241;43m.\u001b[39;49m\u001b[43mrun\u001b[49m\u001b[43m(\u001b[49m\u001b[43mfmax\u001b[49m\u001b[38;5;241;43m=\u001b[39;49m\u001b[43mfmax\u001b[49m\u001b[43m,\u001b[49m\u001b[43m \u001b[49m\u001b[43msteps\u001b[49m\u001b[38;5;241;43m=\u001b[39;49m\u001b[43msteps\u001b[49m\u001b[43m)\u001b[49m\n\u001b[1;32m    129\u001b[0m \u001b[38;5;28;01mreturn\u001b[39;00m new_atoms\n",
      "File \u001b[0;32m/opt/homebrew/Caskroom/miniforge/base/envs/smol/lib/python3.10/site-packages/ase/optimize/precon/lbfgs.py:365\u001b[0m, in \u001b[0;36mPreconLBFGS.run\u001b[0;34m(self, fmax, steps, smax)\u001b[0m\n\u001b[1;32m    363\u001b[0m     smax \u001b[38;5;241m=\u001b[39m fmax\n\u001b[1;32m    364\u001b[0m \u001b[38;5;28mself\u001b[39m\u001b[38;5;241m.\u001b[39msmax \u001b[38;5;241m=\u001b[39m smax\n\u001b[0;32m--> 365\u001b[0m \u001b[38;5;28;01mreturn\u001b[39;00m \u001b[43mOptimizer\u001b[49m\u001b[38;5;241;43m.\u001b[39;49m\u001b[43mrun\u001b[49m\u001b[43m(\u001b[49m\u001b[38;5;28;43mself\u001b[39;49m\u001b[43m,\u001b[49m\u001b[43m \u001b[49m\u001b[43mfmax\u001b[49m\u001b[43m,\u001b[49m\u001b[43m \u001b[49m\u001b[43msteps\u001b[49m\u001b[43m)\u001b[49m\n",
      "File \u001b[0;32m/opt/homebrew/Caskroom/miniforge/base/envs/smol/lib/python3.10/site-packages/ase/optimize/optimize.py:420\u001b[0m, in \u001b[0;36mOptimizer.run\u001b[0;34m(self, fmax, steps)\u001b[0m\n\u001b[1;32m    405\u001b[0m \u001b[38;5;124;03m\"\"\"Run optimizer.\u001b[39;00m\n\u001b[1;32m    406\u001b[0m \n\u001b[1;32m    407\u001b[0m \u001b[38;5;124;03mParameters\u001b[39;00m\n\u001b[0;32m   (...)\u001b[0m\n\u001b[1;32m    417\u001b[0m \u001b[38;5;124;03m    True if the forces on atoms are converged.\u001b[39;00m\n\u001b[1;32m    418\u001b[0m \u001b[38;5;124;03m\"\"\"\u001b[39;00m\n\u001b[1;32m    419\u001b[0m \u001b[38;5;28mself\u001b[39m\u001b[38;5;241m.\u001b[39mfmax \u001b[38;5;241m=\u001b[39m fmax\n\u001b[0;32m--> 420\u001b[0m \u001b[38;5;28;01mreturn\u001b[39;00m \u001b[43mDynamics\u001b[49m\u001b[38;5;241;43m.\u001b[39;49m\u001b[43mrun\u001b[49m\u001b[43m(\u001b[49m\u001b[38;5;28;43mself\u001b[39;49m\u001b[43m,\u001b[49m\u001b[43m \u001b[49m\u001b[43msteps\u001b[49m\u001b[38;5;241;43m=\u001b[39;49m\u001b[43msteps\u001b[49m\u001b[43m)\u001b[49m\n",
      "File \u001b[0;32m/opt/homebrew/Caskroom/miniforge/base/envs/smol/lib/python3.10/site-packages/ase/optimize/optimize.py:271\u001b[0m, in \u001b[0;36mDynamics.run\u001b[0;34m(self, steps)\u001b[0m\n\u001b[1;32m    253\u001b[0m \u001b[38;5;28;01mdef\u001b[39;00m \u001b[38;5;21mrun\u001b[39m(\u001b[38;5;28mself\u001b[39m, steps\u001b[38;5;241m=\u001b[39mDEFAULT_MAX_STEPS):\n\u001b[1;32m    254\u001b[0m     \u001b[38;5;124;03m\"\"\"Run dynamics algorithm.\u001b[39;00m\n\u001b[1;32m    255\u001b[0m \n\u001b[1;32m    256\u001b[0m \u001b[38;5;124;03m    This method will return when the forces on all individual\u001b[39;00m\n\u001b[0;32m   (...)\u001b[0m\n\u001b[1;32m    268\u001b[0m \u001b[38;5;124;03m        True if the forces on atoms are converged.\u001b[39;00m\n\u001b[1;32m    269\u001b[0m \u001b[38;5;124;03m    \"\"\"\u001b[39;00m\n\u001b[0;32m--> 271\u001b[0m     \u001b[38;5;28;01mfor\u001b[39;00m converged \u001b[38;5;129;01min\u001b[39;00m Dynamics\u001b[38;5;241m.\u001b[39mirun(\u001b[38;5;28mself\u001b[39m, steps\u001b[38;5;241m=\u001b[39msteps):\n\u001b[1;32m    272\u001b[0m         \u001b[38;5;28;01mpass\u001b[39;00m\n\u001b[1;32m    273\u001b[0m     \u001b[38;5;28;01mreturn\u001b[39;00m converged\n",
      "File \u001b[0;32m/opt/homebrew/Caskroom/miniforge/base/envs/smol/lib/python3.10/site-packages/ase/optimize/optimize.py:242\u001b[0m, in \u001b[0;36mDynamics.irun\u001b[0;34m(self, steps)\u001b[0m\n\u001b[1;32m    239\u001b[0m \u001b[38;5;66;03m# run the algorithm until converged or max_steps reached\u001b[39;00m\n\u001b[1;32m    240\u001b[0m \u001b[38;5;28;01mwhile\u001b[39;00m \u001b[38;5;129;01mnot\u001b[39;00m is_converged \u001b[38;5;129;01mand\u001b[39;00m \u001b[38;5;28mself\u001b[39m\u001b[38;5;241m.\u001b[39mnsteps \u001b[38;5;241m<\u001b[39m \u001b[38;5;28mself\u001b[39m\u001b[38;5;241m.\u001b[39mmax_steps:\n\u001b[1;32m    241\u001b[0m     \u001b[38;5;66;03m# compute the next step\u001b[39;00m\n\u001b[0;32m--> 242\u001b[0m     \u001b[38;5;28;43mself\u001b[39;49m\u001b[38;5;241;43m.\u001b[39;49m\u001b[43mstep\u001b[49m\u001b[43m(\u001b[49m\u001b[43m)\u001b[49m\n\u001b[1;32m    243\u001b[0m     \u001b[38;5;28mself\u001b[39m\u001b[38;5;241m.\u001b[39mnsteps \u001b[38;5;241m+\u001b[39m\u001b[38;5;241m=\u001b[39m \u001b[38;5;241m1\u001b[39m\n\u001b[1;32m    245\u001b[0m     \u001b[38;5;66;03m# log the step\u001b[39;00m\n",
      "File \u001b[0;32m/opt/homebrew/Caskroom/miniforge/base/envs/smol/lib/python3.10/site-packages/ase/optimize/precon/lbfgs.py:231\u001b[0m, in \u001b[0;36mPreconLBFGS.step\u001b[0;34m(self, f)\u001b[0m\n\u001b[1;32m    229\u001b[0m         z \u001b[38;5;241m=\u001b[39m H0 \u001b[38;5;241m*\u001b[39m q\n\u001b[1;32m    230\u001b[0m \u001b[38;5;28;01melse\u001b[39;00m:\n\u001b[0;32m--> 231\u001b[0m     \u001b[38;5;28;43mself\u001b[39;49m\u001b[38;5;241;43m.\u001b[39;49m\u001b[43mprecon\u001b[49m\u001b[38;5;241;43m.\u001b[39;49m\u001b[43mmake_precon\u001b[49m\u001b[43m(\u001b[49m\u001b[38;5;28;43mself\u001b[39;49m\u001b[38;5;241;43m.\u001b[39;49m\u001b[43m_actual_atoms\u001b[49m\u001b[43m)\u001b[49m\n\u001b[1;32m    232\u001b[0m     z \u001b[38;5;241m=\u001b[39m \u001b[38;5;28mself\u001b[39m\u001b[38;5;241m.\u001b[39mprecon\u001b[38;5;241m.\u001b[39msolve(q)\n\u001b[1;32m    234\u001b[0m \u001b[38;5;28;01mfor\u001b[39;00m i \u001b[38;5;129;01min\u001b[39;00m \u001b[38;5;28mrange\u001b[39m(loopmax):\n",
      "File \u001b[0;32m/opt/homebrew/Caskroom/miniforge/base/envs/smol/lib/python3.10/site-packages/ase/optimize/precon/precon.py:610\u001b[0m, in \u001b[0;36mSparseCoeffPrecon.make_precon\u001b[0;34m(self, atoms, reinitialize)\u001b[0m\n\u001b[1;32m    608\u001b[0m \u001b[38;5;28;01mdef\u001b[39;00m \u001b[38;5;21mmake_precon\u001b[39m(\u001b[38;5;28mself\u001b[39m, atoms, reinitialize\u001b[38;5;241m=\u001b[39m\u001b[38;5;28;01mNone\u001b[39;00m):\n\u001b[1;32m    609\u001b[0m     \u001b[38;5;28;01mif\u001b[39;00m \u001b[38;5;28mself\u001b[39m\u001b[38;5;241m.\u001b[39mr_NN \u001b[38;5;129;01mis\u001b[39;00m \u001b[38;5;28;01mNone\u001b[39;00m:\n\u001b[0;32m--> 610\u001b[0m         \u001b[38;5;28mself\u001b[39m\u001b[38;5;241m.\u001b[39mr_NN \u001b[38;5;241m=\u001b[39m \u001b[43mestimate_nearest_neighbour_distance\u001b[49m\u001b[43m(\u001b[49m\u001b[43matoms\u001b[49m\u001b[43m,\u001b[49m\n\u001b[1;32m    611\u001b[0m \u001b[43m                                                        \u001b[49m\u001b[38;5;28;43mself\u001b[39;49m\u001b[38;5;241;43m.\u001b[39;49m\u001b[43mneighbor_list\u001b[49m\u001b[43m)\u001b[49m\n\u001b[1;32m    613\u001b[0m     \u001b[38;5;28;01mif\u001b[39;00m \u001b[38;5;28mself\u001b[39m\u001b[38;5;241m.\u001b[39mr_cut \u001b[38;5;129;01mis\u001b[39;00m \u001b[38;5;28;01mNone\u001b[39;00m:\n\u001b[1;32m    614\u001b[0m         \u001b[38;5;66;03m# This is the first time this function has been called, and no\u001b[39;00m\n\u001b[1;32m    615\u001b[0m         \u001b[38;5;66;03m# cutoff radius has been specified, so calculate it automatically.\u001b[39;00m\n\u001b[1;32m    616\u001b[0m         \u001b[38;5;28mself\u001b[39m\u001b[38;5;241m.\u001b[39mr_cut \u001b[38;5;241m=\u001b[39m \u001b[38;5;241m2.0\u001b[39m \u001b[38;5;241m*\u001b[39m \u001b[38;5;28mself\u001b[39m\u001b[38;5;241m.\u001b[39mr_NN\n",
      "File \u001b[0;32m/opt/homebrew/Caskroom/miniforge/base/envs/smol/lib/python3.10/site-packages/ase/optimize/precon/neighbors.py:85\u001b[0m, in \u001b[0;36mestimate_nearest_neighbour_distance\u001b[0;34m(atoms, neighbor_list)\u001b[0m\n\u001b[1;32m     80\u001b[0m \u001b[38;5;66;03m# print('estimate_nearest_neighbour_distance(): extent=%r' % extent)\u001b[39;00m\n\u001b[1;32m     82\u001b[0m \u001b[38;5;28;01mwhile\u001b[39;00m r_cut \u001b[38;5;241m<\u001b[39m \u001b[38;5;241m2.0\u001b[39m \u001b[38;5;241m*\u001b[39m \u001b[38;5;28mmax\u001b[39m(extent):\n\u001b[1;32m     83\u001b[0m     \u001b[38;5;66;03m# print('estimate_nearest_neighbour_distance(): '\u001b[39;00m\n\u001b[1;32m     84\u001b[0m     \u001b[38;5;66;03m#            'calling neighbour_list with r_cut=%.2f A' % r_cut)\u001b[39;00m\n\u001b[0;32m---> 85\u001b[0m     i, j, rij, fixed_atoms \u001b[38;5;241m=\u001b[39m \u001b[43mget_neighbours\u001b[49m\u001b[43m(\u001b[49m\n\u001b[1;32m     86\u001b[0m \u001b[43m        \u001b[49m\u001b[43matoms\u001b[49m\u001b[43m,\u001b[49m\u001b[43m \u001b[49m\u001b[43mr_cut\u001b[49m\u001b[43m,\u001b[49m\u001b[43m \u001b[49m\u001b[43mself_interaction\u001b[49m\u001b[38;5;241;43m=\u001b[39;49m\u001b[38;5;28;43;01mTrue\u001b[39;49;00m\u001b[43m,\u001b[49m\n\u001b[1;32m     87\u001b[0m \u001b[43m        \u001b[49m\u001b[43mneighbor_list\u001b[49m\u001b[38;5;241;43m=\u001b[39;49m\u001b[43mneighbor_list\u001b[49m\u001b[43m)\u001b[49m\n\u001b[1;32m     88\u001b[0m     \u001b[38;5;28;01mif\u001b[39;00m \u001b[38;5;28mlen\u001b[39m(i) \u001b[38;5;241m!=\u001b[39m \u001b[38;5;241m0\u001b[39m:\n\u001b[1;32m     89\u001b[0m         nn_i \u001b[38;5;241m=\u001b[39m np\u001b[38;5;241m.\u001b[39mbincount(i, minlength\u001b[38;5;241m=\u001b[39m\u001b[38;5;28mlen\u001b[39m(atoms))\n",
      "File \u001b[0;32m/opt/homebrew/Caskroom/miniforge/base/envs/smol/lib/python3.10/site-packages/ase/optimize/precon/neighbors.py:33\u001b[0m, in \u001b[0;36mget_neighbours\u001b[0;34m(atoms, r_cut, self_interaction, neighbor_list)\u001b[0m\n\u001b[1;32m     30\u001b[0m \u001b[38;5;28;01mif\u001b[39;00m \u001b[38;5;28misinstance\u001b[39m(atoms, Filter):\n\u001b[1;32m     31\u001b[0m     atoms \u001b[38;5;241m=\u001b[39m atoms\u001b[38;5;241m.\u001b[39matoms\n\u001b[0;32m---> 33\u001b[0m i_list, j_list, d_list \u001b[38;5;241m=\u001b[39m \u001b[43mneighbor_list\u001b[49m\u001b[43m(\u001b[49m\u001b[38;5;124;43m'\u001b[39;49m\u001b[38;5;124;43mijd\u001b[39;49m\u001b[38;5;124;43m'\u001b[39;49m\u001b[43m,\u001b[49m\u001b[43m \u001b[49m\u001b[43matoms\u001b[49m\u001b[43m,\u001b[49m\u001b[43m \u001b[49m\u001b[43mr_cut\u001b[49m\u001b[43m)\u001b[49m\n\u001b[1;32m     35\u001b[0m \u001b[38;5;66;03m# filter out self-interactions (across PBC)\u001b[39;00m\n\u001b[1;32m     36\u001b[0m \u001b[38;5;28;01mif\u001b[39;00m \u001b[38;5;129;01mnot\u001b[39;00m self_interaction:\n",
      "File \u001b[0;32m/opt/homebrew/Caskroom/miniforge/base/envs/smol/lib/python3.10/site-packages/ase/neighborlist.py:630\u001b[0m, in \u001b[0;36mneighbor_list\u001b[0;34m(quantities, a, cutoff, self_interaction, max_nbins)\u001b[0m\n\u001b[1;32m    519\u001b[0m \u001b[38;5;28;01mdef\u001b[39;00m \u001b[38;5;21mneighbor_list\u001b[39m(quantities, a, cutoff, self_interaction\u001b[38;5;241m=\u001b[39m\u001b[38;5;28;01mFalse\u001b[39;00m,\n\u001b[1;32m    520\u001b[0m                   max_nbins\u001b[38;5;241m=\u001b[39m\u001b[38;5;241m1e6\u001b[39m):\n\u001b[1;32m    521\u001b[0m     \u001b[38;5;124;03m\"\"\"Compute a neighbor list for an atomic configuration.\u001b[39;00m\n\u001b[1;32m    522\u001b[0m \n\u001b[1;32m    523\u001b[0m \u001b[38;5;124;03m    Atoms outside periodic boundaries are mapped into the box. Atoms\u001b[39;00m\n\u001b[0;32m   (...)\u001b[0m\n\u001b[1;32m    628\u001b[0m \n\u001b[1;32m    629\u001b[0m \u001b[38;5;124;03m    \"\"\"\u001b[39;00m\n\u001b[0;32m--> 630\u001b[0m     \u001b[38;5;28;01mreturn\u001b[39;00m \u001b[43mprimitive_neighbor_list\u001b[49m\u001b[43m(\u001b[49m\u001b[43mquantities\u001b[49m\u001b[43m,\u001b[49m\u001b[43m \u001b[49m\u001b[43ma\u001b[49m\u001b[38;5;241;43m.\u001b[39;49m\u001b[43mpbc\u001b[49m\u001b[43m,\u001b[49m\n\u001b[1;32m    631\u001b[0m \u001b[43m                                   \u001b[49m\u001b[43ma\u001b[49m\u001b[38;5;241;43m.\u001b[39;49m\u001b[43mget_cell\u001b[49m\u001b[43m(\u001b[49m\u001b[43mcomplete\u001b[49m\u001b[38;5;241;43m=\u001b[39;49m\u001b[38;5;28;43;01mTrue\u001b[39;49;00m\u001b[43m)\u001b[49m\u001b[43m,\u001b[49m\n\u001b[1;32m    632\u001b[0m \u001b[43m                                   \u001b[49m\u001b[43ma\u001b[49m\u001b[38;5;241;43m.\u001b[39;49m\u001b[43mpositions\u001b[49m\u001b[43m,\u001b[49m\u001b[43m \u001b[49m\u001b[43mcutoff\u001b[49m\u001b[43m,\u001b[49m\u001b[43m \u001b[49m\u001b[43mnumbers\u001b[49m\u001b[38;5;241;43m=\u001b[39;49m\u001b[43ma\u001b[49m\u001b[38;5;241;43m.\u001b[39;49m\u001b[43mnumbers\u001b[49m\u001b[43m,\u001b[49m\n\u001b[1;32m    633\u001b[0m \u001b[43m                                   \u001b[49m\u001b[43mself_interaction\u001b[49m\u001b[38;5;241;43m=\u001b[39;49m\u001b[43mself_interaction\u001b[49m\u001b[43m,\u001b[49m\n\u001b[1;32m    634\u001b[0m \u001b[43m                                   \u001b[49m\u001b[43mmax_nbins\u001b[49m\u001b[38;5;241;43m=\u001b[39;49m\u001b[43mmax_nbins\u001b[49m\u001b[43m)\u001b[49m\n",
      "\u001b[0;31mKeyboardInterrupt\u001b[0m: "
     ]
    }
   ],
   "source": [
    "from mace.calculators import MACECalculator\n",
    "\n",
    "potential_path = '../Potentials/vcrtiwzr_vac_r6_e1_f25_s100_L2_stagetwo_compiled.model'\n",
    "calculator = MACECalculator(model_paths=[potential_path], device='cpu', default_dtype='float64')\n",
    "# now create NEB jobs from the created structures\n",
    "base_directory = '../Visualization/Job_Structures/Pre_VASP/Fixed_VCrTiWZr_Summit/125-Atoms/Gen_4/Pre_NEB'\n",
    "job_path = '../Visualization/Job_Structures/Pre_VASP/Fixed_VCrTiWZr_Summit/125-Atoms/Gen_4/NEB' \n",
    "create_neb_files(base_directory, job_path, calculator, relax = True, num_images=5)"
   ]
  }
 ],
 "metadata": {
  "kernelspec": {
   "display_name": "smol",
   "language": "python",
   "name": "python3"
  },
  "language_info": {
   "codemirror_mode": {
    "name": "ipython",
    "version": 3
   },
   "file_extension": ".py",
   "mimetype": "text/x-python",
   "name": "python",
   "nbconvert_exporter": "python",
   "pygments_lexer": "ipython3",
   "version": "3.10.0"
  }
 },
 "nbformat": 4,
 "nbformat_minor": 2
}
