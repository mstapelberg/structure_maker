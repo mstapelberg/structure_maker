{
 "cells": [
  {
   "cell_type": "code",
   "execution_count": 11,
   "metadata": {},
   "outputs": [],
   "source": [
    "from pymatgen.analysis.phase_diagram import CompoundPhaseDiagram, GrandPotentialPhaseDiagram, PDEntry, PDPlotter\n",
    "from pymatgen.entries.computed_entries import ComputedStructureEntry\n",
    "import json, os\n",
    "from pymatgen.analysis.phase_diagram import PhaseDiagram\n"
   ]
  },
  {
   "cell_type": "code",
   "execution_count": 8,
   "metadata": {},
   "outputs": [],
   "source": [
    "entry_path = json.load(open('/home/myless/Packages/structure_maker/Entries/vcrtiwzr_entries.json','r'))\n",
    "entries = [ComputedStructureEntry.from_dict(entry) for entry in entry_path]\n"
   ]
  },
  {
   "cell_type": "code",
   "execution_count": 12,
   "metadata": {},
   "outputs": [
    {
     "ename": "ValueError",
     "evalue": "Missing terminal entries for elements ['Cr', 'Ti', 'V', 'W', 'Zr']",
     "output_type": "error",
     "traceback": [
      "\u001b[0;31m---------------------------------------------------------------------------\u001b[0m",
      "\u001b[0;31mValueError\u001b[0m                                Traceback (most recent call last)",
      "Cell \u001b[0;32mIn[12], line 1\u001b[0m\n\u001b[0;32m----> 1\u001b[0m phase_diagram \u001b[38;5;241m=\u001b[39m \u001b[43mPhaseDiagram\u001b[49m\u001b[43m(\u001b[49m\u001b[43mentries\u001b[49m\u001b[43m)\u001b[49m\n",
      "File \u001b[0;32m~/.mambaforge/envs/chgnet/lib/python3.10/site-packages/pymatgen/analysis/phase_diagram.py:379\u001b[0m, in \u001b[0;36mPhaseDiagram.__init__\u001b[0;34m(self, entries, elements, computed_data)\u001b[0m\n\u001b[1;32m    377\u001b[0m \u001b[38;5;28mself\u001b[39m\u001b[38;5;241m.\u001b[39mentries \u001b[38;5;241m=\u001b[39m entries\n\u001b[1;32m    378\u001b[0m \u001b[38;5;28;01mif\u001b[39;00m computed_data \u001b[38;5;129;01mis\u001b[39;00m \u001b[38;5;28;01mNone\u001b[39;00m:\n\u001b[0;32m--> 379\u001b[0m     computed_data \u001b[38;5;241m=\u001b[39m \u001b[38;5;28;43mself\u001b[39;49m\u001b[38;5;241;43m.\u001b[39;49m\u001b[43m_compute\u001b[49m\u001b[43m(\u001b[49m\u001b[43m)\u001b[49m\n\u001b[1;32m    380\u001b[0m \u001b[38;5;28;01melse\u001b[39;00m:\n\u001b[1;32m    381\u001b[0m     computed_data \u001b[38;5;241m=\u001b[39m MontyDecoder()\u001b[38;5;241m.\u001b[39mprocess_decoded(computed_data)\n",
      "File \u001b[0;32m~/.mambaforge/envs/chgnet/lib/python3.10/site-packages/pymatgen/analysis/phase_diagram.py:445\u001b[0m, in \u001b[0;36mPhaseDiagram._compute\u001b[0;34m(self)\u001b[0m\n\u001b[1;32m    442\u001b[0m     all_entries\u001b[38;5;241m.\u001b[39mextend(group)\n\u001b[1;32m    444\u001b[0m \u001b[38;5;28;01mif\u001b[39;00m missing \u001b[38;5;241m:=\u001b[39m \u001b[38;5;28mset\u001b[39m(elements) \u001b[38;5;241m-\u001b[39m \u001b[38;5;28mset\u001b[39m(el_refs):\n\u001b[0;32m--> 445\u001b[0m     \u001b[38;5;28;01mraise\u001b[39;00m \u001b[38;5;167;01mValueError\u001b[39;00m(\u001b[38;5;124mf\u001b[39m\u001b[38;5;124m\"\u001b[39m\u001b[38;5;124mMissing terminal entries for elements \u001b[39m\u001b[38;5;132;01m{\u001b[39;00m\u001b[38;5;28msorted\u001b[39m(\u001b[38;5;28mmap\u001b[39m(\u001b[38;5;28mstr\u001b[39m,\u001b[38;5;250m \u001b[39mmissing))\u001b[38;5;132;01m}\u001b[39;00m\u001b[38;5;124m\"\u001b[39m)\n\u001b[1;32m    446\u001b[0m \u001b[38;5;28;01mif\u001b[39;00m extra \u001b[38;5;241m:=\u001b[39m \u001b[38;5;28mset\u001b[39m(el_refs) \u001b[38;5;241m-\u001b[39m \u001b[38;5;28mset\u001b[39m(elements):\n\u001b[1;32m    447\u001b[0m     \u001b[38;5;28;01mraise\u001b[39;00m \u001b[38;5;167;01mValueError\u001b[39;00m(\u001b[38;5;124mf\u001b[39m\u001b[38;5;124m\"\u001b[39m\u001b[38;5;124mThere are more terminal elements than dimensions: \u001b[39m\u001b[38;5;132;01m{\u001b[39;00m\u001b[38;5;28msorted\u001b[39m(\u001b[38;5;28mmap\u001b[39m(\u001b[38;5;28mstr\u001b[39m,\u001b[38;5;250m \u001b[39mextra))\u001b[38;5;132;01m}\u001b[39;00m\u001b[38;5;124m\"\u001b[39m)\n",
      "\u001b[0;31mValueError\u001b[0m: Missing terminal entries for elements ['Cr', 'Ti', 'V', 'W', 'Zr']"
     ]
    }
   ],
   "source": [
    "phase_diagram = PhaseDiagram(entries)"
   ]
  },
  {
   "cell_type": "code",
   "execution_count": 15,
   "metadata": {},
   "outputs": [
    {
     "name": "stdout",
     "output_type": "stream",
     "text": [
      "Full Formula (Zr2 Ti6 V48 Cr4 W4)\n",
      "Reduced Formula: ZrTi3V24(CrW)2\n",
      "abc   :  10.426946  10.426946  10.426946\n",
      "angles: 109.471221 109.471221 109.471221\n",
      "pbc   :       True       True       True\n",
      "Sites (64)\n",
      "  #  SP           a         b         c\n",
      "---  ----  --------  --------  --------\n",
      "  0  Zr    0.74258   0.996069  0.247875\n",
      "  1  Zr    0.999138  0.501467  0.75016\n",
      "  2  Ti    0.751984  0.002558  0.498964\n",
      "  3  Ti    0.248567  0.252343  0.998494\n",
      "  4  Ti    0.505337  0.497119  0.005943\n",
      "  5  Ti    0.497521  0.250775  0.251121\n",
      "  6  Ti    0.497026  0.247485  0.746856\n",
      "  7  Ti    0.250955  0.750398  0.743823\n",
      "  8  V     0.743079  0.997038  0.989426\n",
      "  9  V     0.498903  0.999628  0.000264\n",
      " 10  V     0.749132  0.248759  0.000837\n",
      " 11  V     0.500453  0.253268  0.995178\n",
      " 12  V     0.74359   0.493761  3.2e-05\n",
      " 13  V     0.50028   0.999549  0.25355\n",
      " 14  V     0.755146  0.252299  0.254655\n",
      " 15  V     0.006585  0.996185  0.004041\n",
      " 16  V     0.741288  0.746926  0.989998\n",
      " 17  V     0.2551    0.010936  0.253373\n",
      " 18  V     0.749793  0.495268  0.246558\n",
      " 19  V     0.498908  0.996334  0.498858\n",
      " 20  V     0.74899   0.251869  0.495385\n",
      " 21  V     0.755063  0.998177  0.754164\n",
      " 22  V     0.001035  0.242432  0.998189\n",
      " 23  V     0.255235  0.502078  0.010444\n",
      " 24  V     0.001519  0.998094  0.25215\n",
      " 25  V     0.249893  0.249563  0.248338\n",
      " 26  V     0.494573  0.498101  0.242748\n",
      " 27  V     0.757154  0.754462  0.254091\n",
      " 28  V     0.248196  0.000843  0.506995\n",
      " 29  V     0.497786  0.247042  0.493907\n",
      " 30  V     0.749779  0.498081  0.504367\n",
      " 31  V     0.749931  0.257283  0.752373\n",
      " 32  V     0.000677  0.501583  0.008255\n",
      " 33  V     0.250687  0.748374  0.999618\n",
      " 34  V     0.000432  0.250509  0.246128\n",
      " 35  V     0.495888  0.748933  0.251394\n",
      " 36  V     0.997737  0.999224  0.498254\n",
      " 37  V     0.25326   0.248443  0.505278\n",
      " 38  V     0.502584  0.499931  0.499173\n",
      " 39  V     0.749126  0.74969   0.498706\n",
      " 40  V     0.252074  0.001901  0.75015\n",
      " 41  V     0.747302  0.495425  0.74852\n",
      " 42  V     0.003232  0.745846  0.992287\n",
      " 43  V     0.989557  0.493245  0.247857\n",
      " 44  V     0.245589  0.750355  0.246383\n",
      " 45  V     0.489785  0.740527  0.492618\n",
      " 46  V     0.990426  0.999599  0.748372\n",
      " 47  V     0.248501  0.252546  0.751155\n",
      " 48  V     0.495922  0.502128  0.749931\n",
      " 49  V     0.748099  0.747831  0.746469\n",
      " 50  V     0.002973  0.760183  0.258283\n",
      " 51  V     0.243523  0.749382  0.499256\n",
      " 52  V     0.250104  0.500421  0.751726\n",
      " 53  V     0.501712  0.750682  0.750912\n",
      " 54  V     0.007861  0.753099  0.50105\n",
      " 55  V     0.998704  0.750464  0.750759\n",
      " 56  Cr    0.243878  0.998337  0.998814\n",
      " 57  Cr    0.500211  0.757545  0.004727\n",
      " 58  Cr    0.997822  0.247429  0.499066\n",
      " 59  Cr    0.995347  0.245953  0.739622\n",
      " 60  W     0.505131  0.008295  0.756515\n",
      " 61  W     0.24085   0.496201  0.243148\n",
      " 62  W     0.254163  0.499581  0.504238\n",
      " 63  W     0.000418  0.50105   0.50112\n"
     ]
    }
   ],
   "source": [
    "print(entries[0].structure)"
   ]
  },
  {
   "cell_type": "code",
   "execution_count": 17,
   "metadata": {},
   "outputs": [],
   "source": [
    "from pymatgen.io.cif import CifWriter\n",
    "from pymatgen.core import Structure,Lattice "
   ]
  },
  {
   "cell_type": "code",
   "execution_count": 18,
   "metadata": {},
   "outputs": [],
   "source": [
    "writer = CifWriter(entries[0].structure)\n",
    "writer.write_file('test.cif')"
   ]
  },
  {
   "cell_type": "code",
   "execution_count": 19,
   "metadata": {},
   "outputs": [],
   "source": [
    "from ase.build import bulk\n",
    "from ase.io import write\n"
   ]
  },
  {
   "cell_type": "code",
   "execution_count": null,
   "metadata": {},
   "outputs": [],
   "source": [
    "from clease.settings import Concentration\n",
    "\n",
    "A_eq = [[1.0, 0.0, 0.0,0.0,0.0],[0.0, 1.0, 0.0,0.0,0.0],[0.0, 0.0, 1.0,0.0,0.0],[0.0, 0.0, 0.0,1.0,0.0],[0.0, 0.0, 0.0,0.0,1.0]]\n",
    "b_eq = [0.90625,0.046875,0.046875]\n",
    "conc = Concentration(basis_elements=[[\"V\",\"Cr\",\"Ti\",\"W\",\"Zr\"]], A_eq=A_eq, b_eq=b_eq)"
   ]
  },
  {
   "cell_type": "code",
   "execution_count": null,
   "metadata": {},
   "outputs": [],
   "source": [
    "from clease.settings import CEBulk\n",
    "settings = CEBulk(crystalstructure='bcc',\n",
    "                  a=3.0,\n",
    "                  size=[4,4,4],\n",
    "                  concentration=conc,\n",
    "                  db_name=\"V_Cr_Ti_random_supercells_Nov_29_2023.db\",\n",
    "                  max_cluster_dia=[6.0, 4.5, 4.5])"
   ]
  },
  {
   "cell_type": "code",
   "execution_count": null,
   "metadata": {},
   "outputs": [],
   "source": [
    "from clease.structgen import NewStructures\n",
    "\n",
    "\n",
    "ns = NewStructures(settings, generation_number=1,\n",
    "                   struct_per_gen=10)\n",
    "ns.generate_random_structures()"
   ]
  }
 ],
 "metadata": {
  "kernelspec": {
   "display_name": "chgnet",
   "language": "python",
   "name": "python3"
  },
  "language_info": {
   "codemirror_mode": {
    "name": "ipython",
    "version": 3
   },
   "file_extension": ".py",
   "mimetype": "text/x-python",
   "name": "python",
   "nbconvert_exporter": "python",
   "pygments_lexer": "ipython3",
   "version": "3.10.0"
  }
 },
 "nbformat": 4,
 "nbformat_minor": 2
}
