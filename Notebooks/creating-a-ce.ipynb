{
 "cells": [
  {
   "cell_type": "markdown",
   "metadata": {},
   "source": [
    "# Creating a basic Cluster Expansion"
   ]
  },
  {
   "cell_type": "code",
   "execution_count": 1,
   "metadata": {},
   "outputs": [
    {
     "name": "stdout",
     "output_type": "stream",
     "text": [
      "No module named 'phonopy'\n",
      "No module named 'phonopy'\n"
     ]
    }
   ],
   "source": [
    "import random\n",
    "import numpy as np\n",
    "from monty.serialization import loadfn, dumpfn\n",
    "from pymatgen.core.structure import Structure\n",
    "from smol.cofe import ClusterSubspace, StructureWrangler, ClusterExpansion, RegressionData"
   ]
  },
  {
   "cell_type": "code",
   "execution_count": 7,
   "metadata": {},
   "outputs": [],
   "source": [
    "# load the prim structure\n",
    "#prim_path = '/Users/myless/Dropbox (MIT)/Research/2024/Spring_2024/Computation/structure_maker/v4cr4ti_prim_cell.json'\n",
    "#prim_path = '/home/myless/Packages/structure_maker/vcrtiwzr_prim_entry.json'\n",
    "prim_path = '/Users/myless/Packages/structure_maker/Entries/v1_6cr1_6ti1_6w1_6zr_prim_struct_dos.json'\n",
    "lno_prim = loadfn(prim_path)\n",
    "    \n",
    "# load the fitting data\n",
    "#entry_path = '/Users/myless/Dropbox (MIT)/Research/2024/Spring_2024/Computation/structure_maker/vcrti_fixed_entries.json'\n",
    "#entry_path = '/home/myless/Packages/structure_maker/vcrtiwzr_cse.json'\n",
    "entry_path = '/Users/myless/Packages/structure_maker/Entries/vcrtiwzr_entries.json'\n",
    "lno_entries = loadfn(entry_path)"
   ]
  },
  {
   "cell_type": "markdown",
   "metadata": {},
   "source": [
    "### 0) The prim structure\n",
    "The prim structure defines the **configurational space** for the Cluster Expansion. \n",
    "The **configurational space** is defined by the site **compositional spaces** and the crystal symetries of the prim structure.\n",
    "The occupancy of the sites determine site **compositional spaces**. Sites are **active** if they have compositional degrees of freedom.\n",
    "\n",
    "\n",
    "Active sites have fractional compositions. Vacancies are allowed in sites where the composition does not sum to one.\n",
    "\n",
    "0. Is active. The allowed species are: Li+ and vacancies.\n",
    "1. Is active. The allowed species are: Ni3+ and Ni4+.\n",
    "2. Is not active. Only O2- is allowed.\n",
    "3. Is not active. Only O2- is allowed."
   ]
  },
  {
   "cell_type": "code",
   "execution_count": 8,
   "metadata": {},
   "outputs": [
    {
     "name": "stdout",
     "output_type": "stream",
     "text": [
      "Full Formula (Zr0.03124 Ti0.03124 V1.875 Cr0.03124 W0.03124)\n",
      "Reduced Formula: Zr0.03124Ti0.03124V1.875Cr0.03124W0.03124\n",
      "abc   :   3.010000   3.010000   3.010000\n",
      "angles:  90.000000  90.000000  90.000000\n",
      "pbc   :       True       True       True\n",
      "Sites (2)\n",
      "  #  SP                                                a    b    c\n",
      "---  ----------------------------------------------  ---  ---  ---\n",
      "  0  Zr:0.016, Ti:0.016, V:0.938, Cr:0.016, W:0.016  0    0    0\n",
      "  1  Zr:0.016, Ti:0.016, V:0.938, Cr:0.016, W:0.016  0.5  0.5  0.5\n"
     ]
    }
   ],
   "source": [
    "print(lno_prim)"
   ]
  },
  {
   "cell_type": "markdown",
   "metadata": {},
   "source": [
    "### 1) The cluster subspace\n",
    "The `ClusterSubspace` represents all the orbits (groups of equivalent clusters) that will be considered when fitting the cluster expansion. Its main purpose is to compute the **correlations functions** for each included orbit given a structure in the compositional space defined by the prim.\n",
    "\n",
    "In order to do be able to compute the correlation functions, the given structure must match the prim structure in a \"crystallographic\" sense but allowing for compositional degrees of freedom in the \"active\" sites.\n",
    "\n",
    "A cluster subspace most easily created by providing:\n",
    "1. The prim structure representing the configurational space.\n",
    "2. A set of diameter cutoffs for each size of orbit we want to consider.\n",
    "3. A type of site basis function to use.\n",
    "\n",
    "There are more options allowed by the code to fine grain and tune. See other notebooks for advanced use cases."
   ]
  },
  {
   "cell_type": "code",
   "execution_count": 12,
   "metadata": {},
   "outputs": [
    {
     "name": "stdout",
     "output_type": "stream",
     "text": [
      "Basis/Orthogonal/Orthonormal : sinusoid/True/False\n",
      "       Unit Cell Composition : Cr0.03124 Ti0.03124 W0.03124 Zr0.03124 V1.875\n",
      "            Number of Orbits : 8\n",
      "No. of Correlation Functions : 140\n",
      "             Cluster Cutoffs : 2: 4.99, 3: 3.01, 4: 3.01\n",
      "              External Terms : []\n",
      "Orbit Summary\n",
      " ------------------------------------------------------------------------\n",
      " |  ID     Degree    Cluster Diameter    Multiplicity    No. Functions  |\n",
      " |   0       0             NA                 0                1        |\n",
      " |   1       1            0.0000              2                4        |\n",
      " |   2       2            2.6067              8               10        |\n",
      " |   3       2            3.0100              6               10        |\n",
      " |   4       2            4.2568              12              10        |\n",
      " |   5       2            4.9915              24              10        |\n",
      " |   6       3            3.0100              24              40        |\n",
      " |   7       4            3.0100              12              55        |\n",
      " ------------------------------------------------------------------------\n"
     ]
    }
   ],
   "source": [
    "subspace = ClusterSubspace.from_cutoffs(\n",
    "    lno_prim,\n",
    "    cutoffs={2: 5, 3: 4.1, 4: 3.01, 5: 2}, # will include orbits of 2 and 3 sites.\n",
    "    basis='sinusoid', # sets the site basis type, default is indicator\n",
    "    supercell_size='num_sites'\n",
    ")\n",
    "\n",
    "# supercell_size specifies the method to determine the supercell size\n",
    "# when trying to match a structure.\n",
    "# (See pymatgen.structure_matcher.StructureMatcher for more info)\n",
    "\n",
    "print(subspace) # single site and empty orbits are always included."
   ]
  },
  {
   "cell_type": "markdown",
   "metadata": {},
   "source": [
    "#### 1.1) Computing a correlation vector.\n",
    "A correlation vector for a specific structure (represents the feature vector) used to train and predict target values."
   ]
  },
  {
   "cell_type": "code",
   "execution_count": 13,
   "metadata": {},
   "outputs": [
    {
     "name": "stdout",
     "output_type": "stream",
     "text": [
      "The correlation vector for a structure with composition Zr3 Ti4 V47 Cr5 W5 is: \n",
      "[ 1.00000000e+00  5.66995793e-01 -3.70873814e-01 -1.84183293e-01\n",
      "  6.33314983e-01  3.08007956e-01 -2.27934447e-01 -1.08398437e-01\n",
      "  3.62085068e-01  1.51152532e-01  7.91306018e-02 -2.33651634e-01\n",
      "  4.16014193e-02 -1.25468957e-01  3.95722468e-01  3.47182571e-01\n",
      " -2.07320919e-01 -1.00260417e-01  3.62334753e-01  1.26485512e-01\n",
      "  6.01512809e-02 -2.24189107e-01 -1.38492378e-02 -1.07595003e-01\n",
      "  3.94347822e-01  3.08482884e-01 -1.99013782e-01 -1.19791667e-01\n",
      "  3.36509974e-01  1.23998754e-01  7.09777787e-02 -2.24189107e-01\n",
      "  6.39129491e-02 -1.12729096e-01  3.77303329e-01  3.00875850e-01\n",
      " -2.07118920e-01 -9.94466146e-02  3.56407399e-01  1.32717900e-01\n",
      "  6.50981103e-02 -2.35471351e-01  3.08298796e-02 -1.13459936e-01\n",
      "  4.02763870e-01  1.86608654e-01 -1.28017562e-01 -5.94654983e-02\n",
      "  2.04499931e-01 -1.47962672e-01  9.35256954e-02  4.85017271e-02\n",
      " -1.49293249e-01 -7.20514017e-02  4.75762559e-02  2.64251337e-02\n",
      " -7.77034712e-02  2.23587619e-01 -1.30451716e-01 -7.12086982e-02\n",
      "  2.31041490e-01  9.21964011e-02  4.35310549e-02 -1.47956208e-01\n",
      " -6.16961998e-02 -3.57289899e-02  9.81225518e-02 -3.15311064e-02\n",
      " -1.83580369e-02  5.22391050e-02  7.72849208e-02  4.52054491e-02\n",
      " -1.37868386e-01 -9.81708788e-03 -6.72883396e-02 -5.12617420e-03\n",
      "  5.18399509e-02 -1.55006058e-03  2.78410640e-02 -2.88285789e-03\n",
      " -7.64358517e-02  2.37423033e-01 -1.56008500e-01 -8.64997865e-02\n",
      "  2.43816920e-01  1.15570096e-01 -8.39665900e-02 -4.17883579e-02\n",
      "  1.27592238e-01  5.87154412e-02  3.00892310e-02 -8.52606304e-02\n",
      "  1.81477865e-02 -4.59356421e-02  1.36697204e-01  6.30171280e-02\n",
      "  3.26398025e-02 -9.70810424e-02 -4.28612642e-02 -2.54677228e-02\n",
      "  6.24981573e-02 -2.13354728e-02 -1.37525577e-02  3.33008170e-02\n",
      "  5.91066393e-02  3.47565905e-02 -9.40188189e-02 -4.23177083e-03\n",
      " -4.61926946e-02 -4.82294850e-03  3.20270153e-02 -2.48247546e-03\n",
      "  1.88100880e-02  4.91817929e-04 -5.02158710e-02  1.49179870e-01\n",
      " -9.00360390e-02 -5.19067147e-02  1.49508098e-01  3.06656028e-02\n",
      "  1.96932752e-02 -4.19095436e-02  1.22285768e-02 -2.75161888e-02\n",
      "  6.14420573e-02  8.69773443e-03 -2.18458875e-02  5.00051067e-03\n",
      " -1.44598491e-02 -9.19041743e-03  3.43209177e-02  5.53385417e-02\n",
      "  3.74865938e-02 -8.91100644e-02  1.29188274e-03 -3.97600623e-03\n",
      "  1.94095588e-02  6.96985119e-03 -5.38715469e-02  1.43488043e-01]\n"
     ]
    }
   ],
   "source": [
    "structure = lno_entries[1].structure\n",
    "corr = subspace.corr_from_structure(structure)\n",
    "\n",
    "print(f'The correlation vector for a structure with'\n",
    "      f' composition {structure.composition} is: '\n",
    "      f'\\n{corr}')"
   ]
  },
  {
   "cell_type": "markdown",
   "metadata": {},
   "source": [
    "### 2) The structure wrangler\n",
    "The `StructureWrangler` is a class that will is used to create and organize the data that will be used to train (and possibly test) the cluster expansion. It makes sure that all the supplied structures appropriately match the prim structure, and obtains the necessary information to correctly normalize target properties (such as energy) necessary for training.\n",
    "\n",
    "Training data is added to a `StructureWrangler` using `ComputedStructureEntry` instances from `pymatgen`.\n",
    "\n",
    "Matching relaxed structures can be a tricky problem, especially for ionic systems with vacancies. See the notebook on structure matching for tips on how to tweak parameters."
   ]
  },
  {
   "cell_type": "code",
   "execution_count": 14,
   "metadata": {},
   "outputs": [
    {
     "name": "stderr",
     "output_type": "stream",
     "text": [
      "/opt/homebrew/Caskroom/miniforge/base/envs/smol/lib/python3.10/site-packages/smol/cofe/wrangling/wrangler.py:808: UserWarning: The following structures have duplicated correlation vectors:\n",
      " Index 18 - Zr1 Ti5 V51 Cr5 W2 energy=-576.02983151\n",
      "Index 222 - Zr1 Ti5 V51 Cr5 W2 energy=-576.02981629\n",
      " Consider adding more terms to the clustersubspace or filtering duplicates.\n",
      "  warnings.warn(\n",
      "/opt/homebrew/Caskroom/miniforge/base/envs/smol/lib/python3.10/site-packages/smol/cofe/wrangling/wrangler.py:808: UserWarning: The following structures have duplicated correlation vectors:\n",
      " Index 16 - Zr1 Ti3 V53 Cr6 W1 energy=-575.52894581\n",
      "Index 226 - Zr1 Ti3 V53 Cr6 W1 energy=-575.52882792\n",
      " Consider adding more terms to the clustersubspace or filtering duplicates.\n",
      "  warnings.warn(\n"
     ]
    },
    {
     "name": "stdout",
     "output_type": "stream",
     "text": [
      "\n",
      "Total structures that match 230/230\n"
     ]
    }
   ],
   "source": [
    "wrangler = StructureWrangler(subspace)\n",
    "\n",
    "# the energy is taken directly from the ComputedStructureEntry\n",
    "# any additional properties can also be added, see notebook on\n",
    "# training data preparation for an example.\n",
    "for entry in lno_entries:\n",
    "    wrangler.add_entry(entry, verbose=True)\n",
    "# The verbose flag will print structures that fail to match.\n",
    "\n",
    "print(f'\\nTotal structures that match {wrangler.num_structures}/{len(lno_entries)}')"
   ]
  },
  {
   "cell_type": "markdown",
   "metadata": {},
   "source": [
    "## 3) Training\n",
    "\n",
    "Training a cluster expansion is one of the most critical steps. This is how you get **effective cluster interactions (ECI's)**. To do so you need an estimator class that implements some form of regression model. In this case we will use simple least squares regression using the `LinearRegression` estimator from `scikit-learn`.\n",
    "\n",
    "In `smol` the coefficients from the fit are not exactly the ECI's but the ECI times the multiplicity of their orbit."
   ]
  },
  {
   "cell_type": "code",
   "execution_count": 15,
   "metadata": {},
   "outputs": [],
   "source": [
    "from sklearn.linear_model import LinearRegression\n",
    "# Set fit_intercept to False because we already do this using\n",
    "# the empty cluster.\n",
    "estimator = LinearRegression(fit_intercept=False)\n",
    "estimator.fit(wrangler.feature_matrix, wrangler.get_property_vector('energy'))\n",
    "coefs = estimator.coef_"
   ]
  },
  {
   "cell_type": "markdown",
   "metadata": {},
   "source": [
    "#### 3.1) Check the quality of the fit\n",
    "There are many ways to evaluate the quality of a fit. The simplest involve stadard training set prediction error metrics. But when evaluating a CE more seriously we need to consider further metrics and how the CE will be used.\n",
    "Here we will just look at in sample mean squared error and max error."
   ]
  },
  {
   "cell_type": "code",
   "execution_count": 16,
   "metadata": {},
   "outputs": [
    {
     "name": "stdout",
     "output_type": "stream",
     "text": [
      "RMSE 1.609535181138332 meV/prim\n",
      "MAX 6.674743955077389 meV/prim\n"
     ]
    },
    {
     "name": "stderr",
     "output_type": "stream",
     "text": [
      "/opt/homebrew/Caskroom/miniforge/base/envs/smol/lib/python3.10/site-packages/sklearn/metrics/_regression.py:483: FutureWarning: 'squared' is deprecated in version 1.4 and will be removed in 1.6. To calculate the root mean squared error, use the function'root_mean_squared_error'.\n",
      "  warnings.warn(\n"
     ]
    }
   ],
   "source": [
    "from sklearn.metrics import mean_squared_error, max_error\n",
    "\n",
    "train_predictions = np.dot(wrangler.feature_matrix, coefs)\n",
    "\n",
    "rmse = mean_squared_error(\n",
    "    wrangler.get_property_vector('energy'), train_predictions, squared=False\n",
    ")\n",
    "maxer = max_error(wrangler.get_property_vector('energy'), train_predictions)\n",
    "\n",
    "print(f'RMSE {1E3 * rmse} meV/prim')\n",
    "print(f'MAX {1E3 * maxer} meV/prim')"
   ]
  },
  {
   "cell_type": "markdown",
   "metadata": {},
   "source": [
    "### 4) The cluster expansion\n",
    "Now we can use the above work to create the `ClusterExpansion`. The cluster expansion can be used to predict the fitted property for new structures, either for testing quality or for simulations such as in Monte Carlo.\n",
    "Note that when using the `predict` function, the cluster expansion will have to match the given structure if it has not seen it before.\n",
    "We will also store the details of the regression model used to fit the cluster expansion by using a `RegressionData` object."
   ]
  },
  {
   "cell_type": "code",
   "execution_count": 17,
   "metadata": {},
   "outputs": [
    {
     "name": "stdout",
     "output_type": "stream",
     "text": [
      "The predicted energy for a structure with composition Zr1 Ti5 V54 Cr1 W3 is -18.04345443828815 eV/prim.\n",
      "\n",
      "The fitted coefficients are:\n",
      "[-3.94981606e+09  1.30548251e+10 -2.71731808e+09  7.91305558e+09\n",
      "  6.43933527e+09 -7.66794122e+09  8.38069015e+09 -5.52851530e+09\n",
      " -1.11861651e+10 -1.81064565e+09  7.59340250e+09 -1.18556131e+09\n",
      "  4.17452027e+09 -4.69353631e+09 -3.14182740e+09 -7.43761235e+09\n",
      "  4.11079034e+09 -1.30654142e+10 -2.85841720e+09 -1.12281337e+09\n",
      " -5.56599763e+08 -2.20841370e+09 -7.97197328e+09 -2.81145514e+09\n",
      " -3.30878738e+09 -5.35471916e-01 -4.03120995e-01 -5.36379814e-01\n",
      " -4.24032211e-02 -4.74834442e-02 -3.38005066e-01 -1.04322433e-02\n",
      " -1.25691414e-01 -2.33441830e-01 -7.08398819e-02 -7.06146717e-01\n",
      " -7.31519222e-01 -1.60940409e-01  1.63133621e-01 -1.54805660e-01\n",
      " -3.90973568e-01  3.41699421e-02  2.96133518e-01 -4.07996178e-02\n",
      " -3.14350128e-02  3.59915584e+08 -2.23002470e+10  1.55815000e+10\n",
      "  7.11632739e+09 -1.02239908e+10  9.20133327e+08 -1.14618415e+10\n",
      "  5.42660853e+09 -1.31305214e+10 -1.25132208e+10 -1.66794175e+10\n",
      "  1.53220609e+10  4.91099834e+09  6.82792334e+09  2.04101002e+09\n",
      "  8.28979365e+09 -5.53559326e+09 -9.66939778e+09  1.73596644e+08\n",
      " -6.61671454e+08  3.53240006e+08  2.32184258e+09 -7.28252956e+08\n",
      " -2.88729636e+09  8.21895928e+08  6.42448939e+09  8.67594316e+09\n",
      "  6.19848485e+09  8.25315003e+09 -7.73105948e+09 -3.63833970e+09\n",
      " -3.80173244e+08 -2.23233621e+09  2.49767758e+09  6.93152399e+09\n",
      "  1.30652944e+10  1.65181775e+09 -1.02906207e+09 -3.38957155e+09\n",
      "  3.81567589e+09  1.13146549e+09  1.66219958e+10  5.43092195e+08\n",
      "  5.89792836e+09  2.85034586e+09  1.02764326e+10  2.03107546e+09\n",
      " -5.28834913e+08 -1.19460467e+10 -1.00714683e+10 -1.22041319e+09\n",
      "  8.87743234e+09 -2.01343517e+09  3.12706259e+08  6.34497476e+09\n",
      " -3.36864999e+09 -1.52137584e+09 -4.89548276e+09 -1.61125044e+08\n",
      "  7.59569626e+09 -2.60541221e+09  1.10863730e+09 -6.91572108e+09\n",
      "  1.40135868e+10 -4.73652858e+09  5.25895051e+09 -1.07021830e+10\n",
      "  7.81095904e+09 -3.63995936e+09 -9.92427623e+09 -3.43594389e+09\n",
      " -4.64012152e+09  5.22711151e+09  2.93939161e+09 -6.78685951e+08\n",
      "  7.92124460e+09  1.32568316e+09 -1.11220560e+10 -3.20512974e+09\n",
      "  5.10719894e+08 -4.04545865e+09  4.32659007e+09  2.10877750e+09\n",
      " -5.17702112e+09  3.53943008e+09 -4.07949397e+08 -5.49564074e+09\n",
      " -5.28456287e+09 -3.48090108e+09 -8.26580530e+09  1.68831658e+09\n",
      " -5.68652632e+09 -7.27922931e+08 -4.62151265e+09 -2.54134264e+09]\n",
      "\n",
      "The effective cluster interactions are:\n",
      "[-3.94981606e+09  6.52741256e+09 -1.35865904e+09  3.95652779e+09\n",
      "  3.21966764e+09 -9.58492652e+08  5.23793134e+08 -3.45532206e+08\n",
      " -6.99135317e+08 -2.26330706e+08  4.74587656e+08 -7.40975820e+07\n",
      "  5.21815033e+08 -2.93346019e+08 -3.92728425e+08 -1.23960206e+09\n",
      "  3.42565862e+08 -1.08878452e+09 -2.38201433e+08 -1.87135561e+08\n",
      " -4.63833136e+07 -1.84034475e+08 -1.32866221e+09 -2.34287928e+08\n",
      " -5.51464564e+08 -4.46226597e-02 -1.67967081e-02 -2.23491589e-02\n",
      " -1.76680088e-03 -3.95695368e-03 -1.40835444e-02 -4.34676806e-04\n",
      " -1.04742845e-02 -9.72674290e-03 -5.90332349e-03 -2.94227799e-02\n",
      " -1.52399838e-02 -3.35292518e-03  3.39861711e-03 -6.45023584e-03\n",
      " -8.14528267e-03  7.11873795e-04  1.23388966e-02 -8.49992037e-04\n",
      " -1.30979220e-03  1.49964827e+07 -4.64588478e+08  3.24614584e+08\n",
      "  1.48256821e+08 -4.25999616e+08  1.91694443e+07 -2.38788365e+08\n",
      "  1.13054344e+08 -5.47105060e+08 -2.60692101e+08 -3.47487865e+08\n",
      "  3.19209602e+08  2.04624931e+08  1.42248403e+08  4.25210421e+07\n",
      "  1.72704034e+08 -2.30649719e+08 -2.01445787e+08  3.61659675e+06\n",
      " -2.75696439e+07  7.35916680e+06  4.83717205e+07 -3.03438732e+07\n",
      " -6.01520075e+07  1.71228318e+07  2.67687058e+08  1.80748816e+08\n",
      "  1.29135101e+08  3.43881251e+08 -1.61063739e+08 -1.51597487e+08\n",
      " -7.92027592e+06 -9.30140086e+07  5.20349496e+07  2.88813500e+08\n",
      "  2.72193633e+08  6.88257394e+07 -4.28775863e+07 -1.41232148e+08\n",
      "  1.58986495e+08  9.42887906e+07  3.46291580e+08  1.13144207e+07\n",
      "  1.22873508e+08  5.93822054e+07  1.07046173e+08  2.11570361e+07\n",
      " -1.10173940e+07 -1.24437986e+08 -2.09822257e+08 -5.08505496e+07\n",
      "  1.84946507e+08 -4.19465660e+07  6.51471373e+06  6.60934871e+07\n",
      " -3.50901041e+07 -3.16953300e+07 -5.09946121e+07 -1.67838588e+06\n",
      "  1.58243672e+08 -2.71397105e+07  1.15483052e+07 -2.88155045e+08\n",
      "  2.91949724e+08 -9.86776788e+07  5.47807345e+07 -2.22962146e+08\n",
      "  8.13641567e+07 -7.58324866e+07 -1.03377877e+08 -1.43164329e+08\n",
      " -9.66691983e+07  1.08898156e+08  6.12373251e+07 -5.65571625e+07\n",
      "  1.65025929e+08  2.76183991e+07 -2.31709499e+08 -3.33867681e+07\n",
      "  1.06399978e+07 -1.68560777e+08  9.01372930e+07  4.39328646e+07\n",
      " -5.39273033e+07  7.37381266e+07 -4.24947288e+06 -2.28985031e+08\n",
      " -1.10095060e+08 -7.25187726e+07 -6.88817109e+08  3.51732622e+07\n",
      " -1.18469298e+08 -3.03301221e+07 -9.62815136e+07 -2.11778554e+08]\n",
      "\n",
      "Basis/Orthogonal/Orthonormal : sinusoid/True/False\n",
      "       Unit Cell Composition : Cr0.03124 Ti0.03124 W0.03124 Zr0.03124 V1.875\n",
      "            Number of Orbits : 8\n",
      "No. of Correlation Functions : 140\n",
      "             Cluster Cutoffs : 2: 4.99, 3: 3.01, 4: 3.01\n",
      "              External Terms : []\n",
      "Regression Data : estimator=LinearRegression\n",
      "                  module=sklearn.linear_model._base\n",
      "                  parameters={'copy_X': True, 'fit_intercept': False, 'n_jobs': None, 'positive': False}\n",
      "Target Property    : mean=-18.1367  std=0.2015\n",
      "ECI-based Property : mean=-3949816055.8923  std=17955544606.0926\n",
      "Fit Summary\n",
      " ----------------------------------------------------------------------------------------------------\n",
      " |  ID    Orbit ID    Degree    Cluster Diameter    ECI    Feature AVG    Feature STD    ECI * STD  |\n",
      " |  0        0          0              NA         -3949816055.892     1.000          0.000        -0.000    |\n",
      " |  1        1          1            0.0000       6527412558.684     0.650          0.051     331535841.455|\n",
      " |  2        1          1            0.0000       -1358659037.586    -0.448          0.045     -61047702.343|\n",
      " |  3        1          1            0.0000       3956527792.471    -0.218          0.035     138188300.790|\n",
      " |  4        1          1            0.0000       3219667637.263     0.708          0.070     225908747.792|\n",
      " |  5        2          2            2.6067       -958492652.280     0.422          0.067     -64367753.005|\n",
      " |  6        2          2            2.6067       523793134.134    -0.292          0.043     22752133.894 |\n",
      " |  7        2          2            2.6067       -345532206.198    -0.142          0.032     -11144464.567|\n",
      " |  8        2          2            2.6067       -699135317.328     0.460          0.073     -51208717.712|\n",
      " |  9        2          2            2.6067       -226330706.036     0.202          0.042     -9467661.140 |\n",
      " |  10       2          2            2.6067       474587656.165     0.098          0.022     10313098.071 |\n",
      " |  11       2          2            2.6067       -74097582.007    -0.318          0.057     -4193290.749 |\n",
      " |  12       2          2            2.6067       521815033.214     0.046          0.017      8655309.078 |\n",
      " |  13       2          2            2.6067       -293346019.249    -0.154          0.036     -10440809.461|\n",
      " |  14       2          2            2.6067       -392728424.853     0.502          0.104     -40734637.838|\n",
      " |  15       3          2            3.0100       -1239602058.257     0.424          0.067     -83188179.875|\n",
      " |  16       3          2            3.0100       342565861.920    -0.290          0.045     15545265.239 |\n",
      " |  17       3          2            3.0100       -1088784515.573    -0.142          0.033     -35946478.851|\n",
      " |  18       3          2            3.0100       -238201433.323     0.461          0.074     -17512882.159|\n",
      " |  19       3          2            3.0100       -187135561.462     0.199          0.042     -7924558.115 |\n",
      " |  20       3          2            3.0100       -46383313.567     0.097          0.023     -1062028.385 |\n",
      " |  21       3          2            3.0100       -184034475.052    -0.316          0.057     -10440050.615|\n",
      " |  22       3          2            3.0100       -1328662213.997     0.046          0.018     -23313141.009|\n",
      " |  23       3          2            3.0100       -234287928.317    -0.155          0.035     -8178676.633 |\n",
      " |  24       3          2            3.0100       -551464564.082     0.501          0.103     -57028358.526|\n",
      " |  25       4          2            4.2568       -0.045      0.422          0.066        -0.003    |\n",
      " |  26       4          2            4.2568       -0.017     -0.290          0.043        -0.001    |\n",
      " |  27       4          2            4.2568       -0.022     -0.141          0.033        -0.001    |\n",
      " |  28       4          2            4.2568       -0.002      0.459          0.074        -0.000    |\n",
      " |  29       4          2            4.2568       -0.004      0.200          0.043        -0.000    |\n",
      " |  30       4          2            4.2568       -0.014      0.097          0.022        -0.000    |\n",
      " |  31       4          2            4.2568       -0.000     -0.316          0.056        -0.000    |\n",
      " |  32       4          2            4.2568       -0.010      0.046          0.017        -0.000    |\n",
      " |  33       4          2            4.2568       -0.010     -0.153          0.037        -0.000    |\n",
      " |  34       4          2            4.2568       -0.006      0.498          0.105        -0.001    |\n",
      " |  35       5          2            4.9915       -0.029      0.422          0.068        -0.002    |\n",
      " |  36       5          2            4.9915       -0.015     -0.291          0.043        -0.001    |\n",
      " |  37       5          2            4.9915       -0.003     -0.142          0.033        -0.000    |\n",
      " |  38       5          2            4.9915        0.003      0.461          0.073         0.000    |\n",
      " |  39       5          2            4.9915       -0.006      0.199          0.041        -0.000    |\n",
      " |  40       5          2            4.9915       -0.008      0.098          0.022        -0.000    |\n",
      " |  41       5          2            4.9915        0.001     -0.317          0.055         0.000    |\n",
      " |  42       5          2            4.9915        0.012      0.047          0.016         0.000    |\n",
      " |  43       5          2            4.9915       -0.001     -0.154          0.035        -0.000    |\n",
      " |  44       5          2            4.9915       -0.001      0.502          0.103        -0.000    |\n",
      " |  45       6          3            3.0100       14996482.656     0.275          0.066      995719.099  |\n",
      " |  46       6          3            3.0100       -464588478.217    -0.189          0.042     -19430446.386|\n",
      " |  47       6          3            3.0100       324614584.276    -0.093          0.028      9183168.849 |\n",
      " |  48       6          3            3.0100       148256820.723     0.299          0.070     10313136.390 |\n",
      " |  49       6          3            3.0100       -425999615.567    -0.191          0.042     -17956703.588|\n",
      " |  50       6          3            3.0100       19169444.308     0.131          0.033      638337.414  |\n",
      " |  51       6          3            3.0100       -238788365.249     0.064          0.019     -4454648.457 |\n",
      " |  52       6          3            3.0100       113054344.415    -0.207          0.048      5442613.362 |\n",
      " |  53       6          3            3.0100       -547105059.521    -0.093          0.029     -15613865.122|\n",
      " |  54       6          3            3.0100       -260692100.879     0.064          0.018     -4733560.863 |\n",
      " |  55       6          3            3.0100       -347487864.699     0.030          0.013     -4568662.004 |\n",
      " |  56       6          3            3.0100       319209601.782    -0.101          0.030      9676537.056 |\n",
      " |  57       6          3            3.0100       204624930.858     0.300          0.070     14380799.411 |\n",
      " |  58       6          3            3.0100       142248402.872    -0.206          0.049      6940077.486 |\n",
      " |  59       6          3            3.0100       42521042.096    -0.101          0.031      1312233.257 |\n",
      " |  60       6          3            3.0100       172704034.320     0.327          0.086     14917868.018 |\n",
      " |  61       6          3            3.0100       -230649719.112     0.130          0.033     -7589954.722 |\n",
      " |  62       6          3            3.0100       -201445787.028     0.064          0.019     -3749008.379 |\n",
      " |  63       6          3            3.0100       3616596.747    -0.206          0.047      170608.448  |\n",
      " |  64       6          3            3.0100       -27569643.932    -0.090          0.029      -812979.535 |\n",
      " |  65       6          3            3.0100       7359166.800    -0.044          0.014      101596.161  |\n",
      " |  66       6          3            3.0100       48371720.470     0.142          0.041      1960366.996 |\n",
      " |  67       6          3            3.0100       -30343873.180    -0.044          0.014      -425303.493 |\n",
      " |  68       6          3            3.0100       -60152007.514    -0.021          0.009      -529343.568 |\n",
      " |  69       6          3            3.0100       17122831.841     0.070          0.020      349226.294  |\n",
      " |  70       6          3            3.0100       267687057.790     0.141          0.041     10960797.646 |\n",
      " |  71       6          3            3.0100       180748815.810     0.069          0.021      3850304.261 |\n",
      " |  72       6          3            3.0100       129135100.960    -0.225          0.064      8213447.042 |\n",
      " |  73       6          3            3.0100       343881251.230     0.030          0.013      4630262.670 |\n",
      " |  74       6          3            3.0100       -161063739.070    -0.101          0.030     -4786463.769 |\n",
      " |  75       6          3            3.0100       -151597487.319    -0.021          0.009     -1374220.670 |\n",
      " |  76       6          3            3.0100       -7920275.915     0.070          0.021      -163673.520 |\n",
      " |  77       6          3            3.0100       -93014008.614    -0.010          0.006      -566004.526 |\n",
      " |  78       6          3            3.0100       52034949.629     0.033          0.014      732357.556  |\n",
      " |  79       6          3            3.0100       288813499.532     0.033          0.015      4237015.897 |\n",
      " |  80       6          3            3.0100       272193633.252    -0.109          0.035      9625034.864 |\n",
      " |  81       6          3            3.0100       68825739.413     0.326          0.084      5815340.984 |\n",
      " |  82       6          3            3.0100       -42877586.303    -0.226          0.063     -2716937.099 |\n",
      " |  83       6          3            3.0100       -141232147.748    -0.109          0.036     -5018082.610 |\n",
      " |  84       6          3            3.0100       158986495.471     0.357          0.114     18139650.828 |\n",
      " |  85       7          4            3.0100       94288790.611     0.178          0.060      5658530.296 |\n",
      " |  86       7          4            3.0100       346291580.109    -0.123          0.037     12931493.279 |\n",
      " |  87       7          4            3.0100       11314420.722    -0.060          0.024      271695.672  |\n",
      " |  88       7          4            3.0100       122873507.515     0.195          0.062      7626456.032 |\n",
      " |  89       7          4            3.0100       59382205.429     0.085          0.027      1624173.175 |\n",
      " |  90       7          4            3.0100       107046173.049     0.042          0.015      1611594.267 |\n",
      " |  91       7          4            3.0100       21157036.088    -0.134          0.041      868811.302  |\n",
      " |  92       7          4            3.0100       -11017394.013     0.020          0.010      -115481.594 |\n",
      " |  93       7          4            3.0100       -124437986.234    -0.066          0.025     -3160763.092 |\n",
      " |  94       7          4            3.0100       -209822257.005     0.213          0.072     -15090736.946|\n",
      " |  95       7          4            3.0100       -50850549.642     0.085          0.028     -1400193.823 |\n",
      " |  96       7          4            3.0100       184946507.120     0.042          0.016      2888191.471 |\n",
      " |  97       7          4            3.0100       -41946566.003    -0.135          0.041     -1709238.453 |\n",
      " |  98       7          4            3.0100       6514713.728    -0.058          0.022      144403.189  |\n",
      " |  99       7          4            3.0100       66093487.096    -0.029          0.011      718255.109  |\n",
      " | 100       7          4            3.0100       -35090104.066     0.093          0.031     -1102026.647 |\n",
      " | 101       7          4            3.0100       -31695329.966    -0.029          0.011      -355547.021 |\n",
      " | 102       7          4            3.0100       -50994612.060    -0.014          0.007      -347606.981 |\n",
      " | 103       7          4            3.0100       -1678385.879     0.046          0.017      -28008.405  |\n",
      " | 104       7          4            3.0100       158243672.024     0.092          0.032      5001745.728 |\n",
      " | 105       7          4            3.0100       -27139710.547     0.045          0.017      -464940.115 |\n",
      " | 106       7          4            3.0100       11548305.241    -0.147          0.050      576534.648  |\n",
      " | 107       7          4            3.0100       -288155044.953     0.020          0.011     -3088293.719 |\n",
      " | 108       7          4            3.0100       291949724.378    -0.066          0.025      7389616.751 |\n",
      " | 109       7          4            3.0100       -98677678.812    -0.014          0.007      -669416.027 |\n",
      " | 110       7          4            3.0100       54780734.502     0.045          0.017      910537.961  |\n",
      " | 111       7          4            3.0100       -222962146.116    -0.006          0.005     -1067751.033 |\n",
      " | 112       7          4            3.0100       81364156.697     0.022          0.011      914626.432  |\n",
      " | 113       7          4            3.0100       -75832486.625     0.021          0.011      -863434.486 |\n",
      " | 114       7          4            3.0100       -103377877.441    -0.071          0.029     -2960782.333 |\n",
      " | 115       7          4            3.0100       -143164328.701     0.213          0.071     -10147673.971|\n",
      " | 116       7          4            3.0100       -96669198.261    -0.147          0.050     -4816123.335 |\n",
      " | 117       7          4            3.0100       108898156.389    -0.072          0.029      3151173.133 |\n",
      " | 118       7          4            3.0100       61237325.114     0.233          0.088      5418587.722 |\n",
      " | 119       7          4            3.0100       -56557162.548     0.040          0.020     -1119147.732 |\n",
      " | 120       7          4            3.0100       165025929.136     0.020          0.008      1400931.977 |\n",
      " | 121       7          4            3.0100       27618399.071    -0.064          0.027      741831.320  |\n",
      " | 122       7          4            3.0100       -231709499.338     0.009          0.005     -1154742.560 |\n",
      " | 123       7          4            3.0100       -33386768.079    -0.031          0.012      -415924.442 |\n",
      " | 124       7          4            3.0100       10639997.793     0.101          0.040      425657.198  |\n",
      " | 125       7          4            3.0100       -168560776.898     0.010          0.005      -885004.314 |\n",
      " | 126       7          4            3.0100       90137293.042    -0.031          0.013      1158554.781 |\n",
      " | 127       7          4            3.0100       43932864.582     0.004          0.003      137799.441  |\n",
      " | 128       7          4            3.0100       -53927303.327    -0.015          0.008      -411026.816 |\n",
      " | 129       7          4            3.0100       73738126.566    -0.015          0.008      559901.989  |\n",
      " | 130       7          4            3.0100       -4249472.885     0.049          0.020      -83688.616  |\n",
      " | 131       7          4            3.0100       -228985030.901     0.101          0.040     -9198379.724 |\n",
      " | 132       7          4            3.0100       -110095059.705     0.049          0.020     -2237578.938 |\n",
      " | 133       7          4            3.0100       -72518772.594    -0.161          0.065     -4714845.773 |\n",
      " | 134       7          4            3.0100       -688817108.629     0.002          0.003     -1782230.891 |\n",
      " | 135       7          4            3.0100       35173262.161    -0.007          0.005      184560.615  |\n",
      " | 136       7          4            3.0100       -118469298.317     0.023          0.013     -1525818.365 |\n",
      " | 137       7          4            3.0100       -30330122.121     0.023          0.013      -394592.088 |\n",
      " | 138       7          4            3.0100       -96281513.615    -0.078          0.034     -3306004.595 |\n",
      " | 139       7          4            3.0100       -211778553.629     0.255          0.115     -24322224.353|\n",
      " -----------------------------------------------------------------------------------------------------------\n"
     ]
    }
   ],
   "source": [
    "reg_data = RegressionData.from_sklearn(\n",
    "    estimator, wrangler.feature_matrix,\n",
    "    wrangler.get_property_vector('energy')\n",
    ")\n",
    "\n",
    "\n",
    "expansion = ClusterExpansion(\n",
    "    subspace, coefficients=coefs, regression_data=reg_data\n",
    ")\n",
    "\n",
    "structure = random.choice(wrangler.structures)\n",
    "prediction = expansion.predict(structure, normalized=True)\n",
    "\n",
    "print(\n",
    "    f'The predicted energy for a structure with composition '\n",
    "    f'{structure.composition} is {prediction} eV/prim.\\n'\n",
    ")\n",
    "print(f'The fitted coefficients are:\\n{expansion.coefs}\\n')\n",
    "print(f'The effective cluster interactions are:\\n{expansion.eci}\\n')\n",
    "print(expansion)"
   ]
  },
  {
   "cell_type": "markdown",
   "metadata": {},
   "source": [
    "### 5) Saving your work\n",
    "All core classes in `smol` are `MSONables` and so can be saved using their `as_dict` methods or better yet with `monty.serialization.dumpfn`.\n",
    "\n",
    "Currently there is also a convenience function in `smol` that will nicely save all of your work for you in a standardized way. Work saved with the `save_work` function is saved as a dictionary with standardized names for the classes. Since a work flow should only contain 1 of each core classes the function will complain if you give it two of the same class (i.e. two wranglers)"
   ]
  },
  {
   "cell_type": "code",
   "execution_count": 18,
   "metadata": {},
   "outputs": [],
   "source": [
    "from smol.io import save_work\n",
    "import os \n",
    "\n",
    "#file_path = 'v4cr4ti_fin_work.mson'\n",
    "expansions_path = '/Users/myless/Packages/structure_maker/Expansions'\n",
    "file_path = 'v1_6cr1_6ti1_6zr1_6w_fin_work.mson'\n",
    "# we can save the subspace as well, but since both the wrangler\n",
    "# and the expansion have it, there is no need to do so.\n",
    "save_work(os.path.join(expansions_path,file_path), wrangler, expansion)"
   ]
  },
  {
   "cell_type": "markdown",
   "metadata": {},
   "source": [
    "#### 5.1) Loading previously saved work"
   ]
  },
  {
   "cell_type": "code",
   "execution_count": 12,
   "metadata": {},
   "outputs": [
    {
     "name": "stdout",
     "output_type": "stream",
     "text": [
      "StructureWrangler: <class 'smol.cofe.wrangling.wrangler.StructureWrangler'>\n",
      "\n",
      "ClusterExpansion: <class 'smol.cofe.expansion.ClusterExpansion'>\n",
      "\n"
     ]
    }
   ],
   "source": [
    "from smol.io import load_work\n",
    "\n",
    "work = load_work(file_path)\n",
    "for name, obj in work.items():\n",
    "    print(f'{name}: {type(obj)}\\n')"
   ]
  }
 ],
 "metadata": {
  "kernelspec": {
   "display_name": "Python 3 (ipykernel)",
   "language": "python",
   "name": "python3"
  },
  "language_info": {
   "codemirror_mode": {
    "name": "ipython",
    "version": 3
   },
   "file_extension": ".py",
   "mimetype": "text/x-python",
   "name": "python",
   "nbconvert_exporter": "python",
   "pygments_lexer": "ipython3",
   "version": "3.10.0"
  }
 },
 "nbformat": 4,
 "nbformat_minor": 4
}
