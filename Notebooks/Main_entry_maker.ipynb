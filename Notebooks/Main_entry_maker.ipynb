{
 "cells": [
  {
   "cell_type": "code",
   "execution_count": 6,
   "metadata": {},
   "outputs": [],
   "source": [
    "from pymatgen.core import Lattice, Structure \n",
    "import numpy as np \n",
    "from pymatgen.core.composition import Element, Composition\n",
    "from pymatgen.core.periodic_table import Specie\n",
    "import math\n",
    "import random\n",
    "from pymatgen.io.vasp.inputs import Poscar, Kpoints, Potcar,Incar\n",
    "from pymatgen.io.vasp.outputs import Outcar \n",
    "from pymatgen.entries.computed_entries import ComputedStructureEntry\n",
    "import os, json "
   ]
  },
  {
   "cell_type": "code",
   "execution_count": 7,
   "metadata": {},
   "outputs": [],
   "source": [
    "def create_computed_entry_from_outcar(poscar, outcar):\n",
    "    \"\"\"\n",
    "    Create a ComputedEntry from the given OUTCAR file.\n",
    "\n",
    "    Args:\n",
    "        poscar (str): The path to the POSCAR file.\n",
    "        outcar (str): The path to the OUTCAR file.\n",
    "\n",
    "    Returns:\n",
    "        ComputedStructureEntry: The computed entry object.\n",
    "\n",
    "    Raises:\n",
    "        FileNotFoundError: If the POSCAR or OUTCAR file is not found.\n",
    "    \"\"\"\n",
    "    # need to test this with an outcar \n",
    "    outcar = Outcar(outcar)\n",
    "    energy = outcar.final_energy_wo_entrp\n",
    "    poscar = Poscar.from_file(poscar)\n",
    "    structure = poscar.structure\n",
    "    composition = structure.composition\n",
    "\n",
    "    return ComputedStructureEntry(structure=structure, energy=energy, composition=composition)\n",
    "\n",
    "def process_subfolder(subfolder_path):\n",
    "    \"\"\"\n",
    "    Process a subfolder containing POSCAR and OUTCAR files to create a computed entry.\n",
    "\n",
    "    Args:\n",
    "        subfolder_path (str): The path to the subfolder containing the files.\n",
    "\n",
    "    Returns:\n",
    "        ComputedEntry: The computed entry created from the POSCAR and OUTCAR files.\n",
    "    \"\"\"\n",
    "    # Check if POSCAR-original exists in the subdirectory\n",
    "    poscar_original_path = os.path.join(subfolder_path, 'POSCAR-original')\n",
    "    poscar_path = os.path.join(subfolder_path, 'POSCAR')\n",
    "    outcar_path = os.path.join(subfolder_path, 'OUTCAR')\n",
    "\n",
    "    if os.path.exists(poscar_original_path):\n",
    "        return create_computed_entry_from_outcar(poscar_original_path, outcar_path)\n",
    "    else:\n",
    "        return create_computed_entry_from_outcar(poscar_path, outcar_path)\n",
    "\n",
    "\n",
    "def create_entries_from_folder(folders):\n",
    "    \"\"\"\n",
    "    Create entries from the given list of folders.\n",
    "\n",
    "    Args:\n",
    "        folders (list): A list of folder paths.\n",
    "\n",
    "    Returns:\n",
    "        list: A list of entries created from the subfolders in the given folders.\n",
    "    \"\"\"\n",
    "    entries = []\n",
    "    for folder in folders:\n",
    "        for subfolder in os.listdir(folder):\n",
    "            subfolder_path = os.path.join(folder, subfolder)\n",
    "            if os.path.isdir(subfolder_path):\n",
    "                entry = process_subfolder(subfolder_path)\n",
    "                entries.append(entry)\n",
    "        \n",
    "    return entries\n",
    "\n",
    "def closest_composition(comp, num_atoms, bal_element):\n",
    "    \"\"\"\n",
    "    Calculate the closest composition of elements given a target number of atoms,\n",
    "    adjusting the balance element to handle any shortfall or excess.\n",
    "    \n",
    "    Parameters:\n",
    "    comp (dict): A dictionary representing the composition of elements, where the keys are the element symbols and the values are the fractions.\n",
    "    num_atoms (int): The target number of atoms.\n",
    "    bal_element (str): The symbol of the element used to adjust the balance so that the total number of atoms is correct.\n",
    "\n",
    "    Returns:\n",
    "    tuple: A tuple containing two dictionaries. The first dictionary represents the number of atoms for each element, with adjustments made through the balance element. The second dictionary represents the actual fractions of each element, rounded to 5 decimal places.\n",
    "    \"\"\"\n",
    "    # Normalize the composition fractions\n",
    "    total_fraction = sum(comp.values())\n",
    "    normalized_comp = {element: fraction / total_fraction for element, fraction in comp.items()}\n",
    "    \n",
    "    # Calculate initial atoms for each element, excluding the balance element, rounding to nearest integer.\n",
    "    atoms = {}\n",
    "    for element, fraction in normalized_comp.items():\n",
    "        if element != bal_element:\n",
    "            atoms[element] = round(fraction * num_atoms)\n",
    "    \n",
    "    # Calculate the number of atoms assigned so far and adjust the balance element accordingly.\n",
    "    assigned_atoms = sum(atoms.values())\n",
    "    atoms[bal_element] = num_atoms - assigned_atoms\n",
    "    \n",
    "    # Recalculate the actual fractions to ensure they sum to 1\n",
    "    actual_fractions = {element: round(atoms[element] / num_atoms, 5) for element in atoms}\n",
    "    \n",
    "    return atoms, actual_fractions\n",
    "\n",
    "\n",
    "\n",
    "def create_cca_primitive(comp_list, a, prim = True):\n",
    "    \"\"\"\n",
    "    Create a CCA (Complex Concentrated Alloy) primitive structure using the given atom dictionary and lattice constant.\n",
    "\n",
    "    Parameters:\n",
    "        atom_dict (dict): A dictionary containing the count of each atom in the supercell you eventually want.\n",
    "        a (float): The lattice constant of the cubic cell.\n",
    "\n",
    "    Returns:\n",
    "        pymatgen.core.structure.Structure: The CCA supercell structure.\n",
    "\n",
    "    \"\"\"\n",
    "    direct_coords = [[0,0,0]]\n",
    "    if prim:\n",
    "        test_bcc = Structure(Lattice.cubic(a), comp_list, direct_coords)\n",
    "    else:\n",
    "        test_bcc = Structure.from_spacegroup(\"Im-3m\",Lattice.cubic(a), comp_list, direct_coords)\n",
    "    return test_bcc"
   ]
  },
  {
   "cell_type": "code",
   "execution_count": 8,
   "metadata": {},
   "outputs": [],
   "source": [
    "# list of folders \n",
    "folders = ['/Users/myless/Packages/structure_maker/VCrTiWZr_Data/CE_Vasp_Jobs','/Users/myless/Packages/structure_maker/VCrTiWZr_Data/CE_Vasp_Jobs_T3']\n",
    "folders = ['../Archived_Vasp_Jobs/Fin_VCrTi_CE_T2','../Archived_Vasp_Jobs/Fin_VCrTi_CE']"
   ]
  },
  {
   "cell_type": "code",
   "execution_count": 9,
   "metadata": {},
   "outputs": [],
   "source": [
    "entries = create_entries_from_folder(folders)"
   ]
  },
  {
   "cell_type": "code",
   "execution_count": 10,
   "metadata": {},
   "outputs": [],
   "source": [
    "# save the entries as a json file \n",
    "with open('../Entries/final_vcrti_entries.json', 'w') as f:\n",
    "    f.write(json.dumps([entry.as_dict() for entry in entries]))"
   ]
  },
  {
   "cell_type": "code",
   "execution_count": 44,
   "metadata": {},
   "outputs": [],
   "source": [
    "# create a prim entry\n",
    "\n",
    "# create a primitive structure\n",
    "a = 3.01 \n",
    "x_cr = 0.02\n",
    "x_ti = 0.02\n",
    "x_zr = 0.02\n",
    "x_w = 0.02\n",
    "x_v = round(1 - x_cr - x_ti - x_w - x_zr,5)\n",
    "composition = {'V': x_v, 'Cr': x_cr, 'Ti': x_ti, 'W': x_w, 'Zr': x_zr}\n",
    "num_atoms = 64\n",
    "atom_dict, actual_comp = closest_composition(composition, num_atoms=num_atoms, bal_element='V')\n",
    "dos_prim_struct = create_cca_primitive([actual_comp], a,prim=False)"
   ]
  },
  {
   "cell_type": "code",
   "execution_count": 45,
   "metadata": {},
   "outputs": [
    {
     "name": "stdout",
     "output_type": "stream",
     "text": [
      "{'V': 0.92, 'Cr': 0.02, 'Ti': 0.02, 'W': 0.02, 'Zr': 0.02}\n"
     ]
    }
   ],
   "source": [
    "print(composition)"
   ]
  },
  {
   "cell_type": "code",
   "execution_count": 46,
   "metadata": {},
   "outputs": [
    {
     "name": "stdout",
     "output_type": "stream",
     "text": [
      "{'Cr': 0.01562, 'Ti': 0.01562, 'W': 0.01562, 'Zr': 0.01562, 'V': 0.9375}\n"
     ]
    }
   ],
   "source": [
    "print(actual_comp)"
   ]
  },
  {
   "cell_type": "code",
   "execution_count": 47,
   "metadata": {},
   "outputs": [
    {
     "name": "stdout",
     "output_type": "stream",
     "text": [
      "Full Formula (Zr0.03124 Ti0.03124 V1.875 Cr0.03124 W0.03124)\n",
      "Reduced Formula: Zr0.03124Ti0.03124V1.875Cr0.03124W0.03124\n",
      "abc   :   3.010000   3.010000   3.010000\n",
      "angles:  90.000000  90.000000  90.000000\n",
      "pbc   :       True       True       True\n",
      "Sites (2)\n",
      "  #  SP                                                a    b    c\n",
      "---  ----------------------------------------------  ---  ---  ---\n",
      "  0  Zr:0.016, Ti:0.016, V:0.938, Cr:0.016, W:0.016  0    0    0\n",
      "  1  Zr:0.016, Ti:0.016, V:0.938, Cr:0.016, W:0.016  0.5  0.5  0.5\n"
     ]
    }
   ],
   "source": [
    "print(dos_prim_struct)"
   ]
  },
  {
   "cell_type": "code",
   "execution_count": 48,
   "metadata": {},
   "outputs": [],
   "source": [
    "prim_struct = create_cca_primitive([actual_comp], a, prim=True)\n"
   ]
  },
  {
   "cell_type": "code",
   "execution_count": 49,
   "metadata": {},
   "outputs": [
    {
     "name": "stdout",
     "output_type": "stream",
     "text": [
      "Full Formula (Zr0.01562 Ti0.01562 V0.9375 Cr0.01562 W0.01562)\n",
      "Reduced Formula: Zr0.01562Ti0.01562V0.9375Cr0.01562W0.01562\n",
      "abc   :   3.010000   3.010000   3.010000\n",
      "angles:  90.000000  90.000000  90.000000\n",
      "pbc   :       True       True       True\n",
      "Sites (1)\n",
      "  #  SP                                                a    b    c\n",
      "---  ----------------------------------------------  ---  ---  ---\n",
      "  0  Zr:0.016, Ti:0.016, V:0.938, Cr:0.016, W:0.016    0    0    0\n"
     ]
    }
   ],
   "source": [
    "print(prim_struct)"
   ]
  },
  {
   "cell_type": "code",
   "execution_count": 50,
   "metadata": {},
   "outputs": [],
   "source": [
    "prim_path = 'v1_6cr1_6ti1_6w1_6zr_prim_struct.json'\n",
    "entry_path = '/Users/myless/Packages/structure_maker/Entries'\n",
    "prim_entry_path = os.path.join(entry_path,prim_path)\n",
    "with open(prim_entry_path, 'w') as f:\n",
    "    f.write(json.dumps(prim_struct.as_dict()))"
   ]
  },
  {
   "cell_type": "code",
   "execution_count": 51,
   "metadata": {},
   "outputs": [],
   "source": [
    "prim_path = 'v1_6cr1_6ti1_6w1_6zr_prim_struct_dos.json'\n",
    "entry_path = '/Users/myless/Packages/structure_maker/Entries'\n",
    "prim_entry_path = os.path.join(entry_path,prim_path)\n",
    "with open(prim_entry_path, 'w') as f:\n",
    "    f.write(json.dumps(dos_prim_struct.as_dict()))"
   ]
  }
 ],
 "metadata": {
  "kernelspec": {
   "display_name": "smol",
   "language": "python",
   "name": "python3"
  },
  "language_info": {
   "codemirror_mode": {
    "name": "ipython",
    "version": 3
   },
   "file_extension": ".py",
   "mimetype": "text/x-python",
   "name": "python",
   "nbconvert_exporter": "python",
   "pygments_lexer": "ipython3",
   "version": "3.10.0"
  }
 },
 "nbformat": 4,
 "nbformat_minor": 2
}
