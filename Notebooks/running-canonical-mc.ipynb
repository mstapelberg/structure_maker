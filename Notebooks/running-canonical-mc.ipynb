{
 "cells": [
  {
   "cell_type": "markdown",
   "metadata": {},
   "source": [
    "# Running Canonical Monte Carlo Sampling"
   ]
  },
  {
   "cell_type": "code",
   "execution_count": 41,
   "metadata": {
    "tags": []
   },
   "outputs": [],
   "source": [
    "import numpy as np\n",
    "import json\n",
    "from pymatgen.core.structure import Structure\n",
    "from smol.io import load_work"
   ]
  },
  {
   "cell_type": "markdown",
   "metadata": {},
   "source": [
    "### 0) Load the previous LNO CE with electrostatics"
   ]
  },
  {
   "cell_type": "code",
   "execution_count": 42,
   "metadata": {
    "tags": []
   },
   "outputs": [],
   "source": [
    "work_path = '/Users/myless/Packages/structure_maker/Expansions/un_fixed_vcrtizrw_fin_work.mson'\n",
    "work = load_work(work_path)\n",
    "expansion = work['ClusterExpansion']"
   ]
  },
  {
   "cell_type": "markdown",
   "metadata": {},
   "source": [
    "### 1) Create a canonical ensemble\n",
    "The `Ensemble` class can be used to run MC in a fixed composition ensemble.\n",
    "The ensemble classes will determine the **active** sublattices by grouping all sites that have the same possible partial occupancies.\n",
    "\n",
    "To run for fixed chemical potential see the notebook on semigrand ensemble MC."
   ]
  },
  {
   "cell_type": "code",
   "execution_count": 26,
   "metadata": {},
   "outputs": [],
   "source": [
    "# here we are adding funcitonality to load in a structure for the expansion\n",
    "prim_dict = json.load(open('/Users/myless/Packages/structure_maker/Notebooks/supercells.json','r'))[0]\n",
    "prim_structure = Structure.from_dict(prim_dict)"
   ]
  },
  {
   "cell_type": "code",
   "execution_count": null,
   "metadata": {},
   "outputs": [],
   "source": [
    "m = np.array([\n",
    "    [2, 0, 0],\n",
    "    [0, 4, 0],\n",
    "    [0, 0, 4]\n",
    "])\n",
    "\n",
    "transformation = np.identity(3)\n",
    "supercell_matrix = m @ transformation\n",
    "\n"
   ]
  },
  {
   "cell_type": "code",
   "execution_count": 43,
   "metadata": {
    "tags": []
   },
   "outputs": [
    {
     "name": "stdout",
     "output_type": "stream",
     "text": [
      "The supercell size for the processor is 32 prims.\n",
      "The ensemble has a total of 64 sites.\n",
      "The active sublattices are:\n",
      "Sublattice(site_space=Cr0.01562 Ti0.01562 W0.01562 Zr0.01562 V0.9375 , sites=array([ 0,  1,  2,  3,  4,  5,  6,  7,  8,  9, 10, 11, 12, 13, 14, 15, 16,\n",
      "       17, 18, 19, 20, 21, 22, 23, 24, 25, 26, 27, 28, 29, 30, 31, 32, 33,\n",
      "       34, 35, 36, 37, 38, 39, 40, 41, 42, 43, 44, 45, 46, 47, 48, 49, 50,\n",
      "       51, 52, 53, 54, 55, 56, 57, 58, 59, 60, 61, 62, 63]), active_sites=array([ 0,  1,  2,  3,  4,  5,  6,  7,  8,  9, 10, 11, 12, 13, 14, 15, 16,\n",
      "       17, 18, 19, 20, 21, 22, 23, 24, 25, 26, 27, 28, 29, 30, 31, 32, 33,\n",
      "       34, 35, 36, 37, 38, 39, 40, 41, 42, 43, 44, 45, 46, 47, 48, 49, 50,\n",
      "       51, 52, 53, 54, 55, 56, 57, 58, 59, 60, 61, 62, 63]), encoding=array([0, 1, 2, 3, 4]))\n"
     ]
    }
   ],
   "source": [
    "from smol.moca import Ensemble\n",
    "\n",
    "# Create the ensemble\n",
    "# This specifies the size of the MC simulation domain.\n",
    "# this gives a 64 site unit cell\n",
    "sc_matrix = np.array([\n",
    "    [2, 0, 0],\n",
    "    [0, 4, 0],\n",
    "    [0, 0, 4]\n",
    "])\n",
    "\"\"\"\n",
    "# 64 atom unit cell?\n",
    "sc_matrix = np.array([\n",
    "    [4, 1, 3],\n",
    "    [2, 4, 1],\n",
    "    [3, 2, 4]\n",
    "])\n",
    "\"\"\"\n",
    "\n",
    "# this convenience method will take care of creating the appropriate\n",
    "# processor for the given cluster expansion.\n",
    "ensemble = Ensemble.from_cluster_expansion(expansion, sc_matrix)\n",
    "\n",
    "# In a real scenario you may want a much larger processor.size\n",
    "# An MC step is O(1) with the processor.size, meaning it runs at\n",
    "# the same speed regardless of the size. However, larger sizes\n",
    "# will need many more steps to reach equilibrium in an MC simulation.\n",
    "print(f'The supercell size for the processor is {ensemble.processor.size} prims.')\n",
    "print(f'The ensemble has a total of {ensemble.num_sites} sites.')\n",
    "print(f'The active sublattices are:')\n",
    "for sublattice in ensemble.sublattices:\n",
    "    print(sublattice)"
   ]
  },
  {
   "cell_type": "markdown",
   "metadata": {},
   "source": [
    "### 3) Create an MC sampler\n",
    "A `Sampler` will take care of running MC sampling runs for a given ensemble. The sampler allows many different options for MC sampling most importantly setting the MCMC algorithm and the type of MC steps taken. However the defaults are usually enough for almost all use cases."
   ]
  },
  {
   "cell_type": "code",
   "execution_count": 44,
   "metadata": {},
   "outputs": [
    {
     "name": "stdout",
     "output_type": "stream",
     "text": [
      "Sampling information: Metadata(cls_name='SampleContainer', kernels=[Metadata(seed=11734378126672635284455067008588101769, step=Metadata(sublattices=[(Element Zr, Element Ti, Element V, Element Cr, Element W)], sublattice_probabilities=array([1.]), cls_name='Swap'), cls_name='Metropolis')])\n"
     ]
    }
   ],
   "source": [
    "from smol.moca import Sampler\n",
    "\n",
    "# This will take care of setting the defaults\n",
    "# for the supplied canonical ensemble\n",
    "# here we also set the temperature to our operating temperature, in V-Cr-Ti this should be around 900K \n",
    "T_sample = 973.15\n",
    "sampler = Sampler.from_ensemble(ensemble, temperature=T_sample)\n",
    "print(f\"Sampling information: {sampler.samples.metadata}\")"
   ]
  },
  {
   "cell_type": "code",
   "execution_count": 34,
   "metadata": {},
   "outputs": [
    {
     "name": "stdout",
     "output_type": "stream",
     "text": [
      "[Composition('Zr0.20312 Ti0.20312 V0.1875 Cr0.20312 W0.20312')]\n"
     ]
    }
   ],
   "source": [
    "compositions = [sublattice.composition for sublattice in ensemble.sublattices]\n",
    "print(compositions)\n"
   ]
  },
  {
   "cell_type": "markdown",
   "metadata": {},
   "source": [
    "### 3) Create an initial structure and get occupancies\n",
    "You will need to create an initial test structure to obtain an initial occupancy to start an MC run. There are many ways to do this, you could simply rescale a training structure and use that. But since the composition is fixed in a canonical ensemble you need to make sure you input the right composition. It can also be helpful to run a simulated anneal step to get a good initial structure rather than starting with a low energy one.\n",
    "\n",
    "Here we will use the underlying processor to generate a random occupancy at the composition of the disordered structure used in the original cluster expansion"
   ]
  },
  {
   "cell_type": "code",
   "execution_count": 45,
   "metadata": {
    "tags": []
   },
   "outputs": [
    {
     "name": "stdout",
     "output_type": "stream",
     "text": [
      "The disordered structure has composition: Cr0.99968 Ti0.99968 W0.99968 Zr0.99968 V60\n",
      "The initial occupancy has composition: V60 Zr1 W1 Ti1 Cr1\n"
     ]
    }
   ],
   "source": [
    "from smol.capp.generate import generate_random_ordered_occupancy\n",
    "\n",
    "compositions = [sublattice.composition for sublattice in ensemble.sublattices]\n",
    "init_occu = generate_random_ordered_occupancy(ensemble.processor, composition=compositions,tol=0.05)\n",
    "\n",
    "print(f\"The disordered structure has composition: {ensemble.processor.structure.composition}\")\n",
    "print(f\"The initial occupancy has composition: {ensemble.processor.structure_from_occupancy(init_occu).composition}\")"
   ]
  },
  {
   "cell_type": "code",
   "execution_count": 46,
   "metadata": {
    "tags": []
   },
   "outputs": [
    {
     "name": "stdout",
     "output_type": "stream",
     "text": [
      "The encoded occupancy is:\n",
      "[2 2 2 2 2 2 2 2 2 2 2 2 2 2 2 2 2 2 2 0 2 2 2 2 2 2 2 2 2 2 4 2 2 2 2 2 1\n",
      " 2 2 2 2 2 2 2 2 2 2 2 2 2 2 3 2 2 2 2 2 2 2 2 2 2 2 2]\n",
      "The initial occupancy is:\n",
      " [Element V, Element V, Element V, Element V, Element V, Element V, Element V, Element V, Element V, Element V, Element V, Element V, Element V, Element V, Element V, Element V, Element V, Element V, Element V, Element Zr, Element V, Element V, Element V, Element V, Element V, Element V, Element V, Element V, Element V, Element V, Element W, Element V, Element V, Element V, Element V, Element V, Element Ti, Element V, Element V, Element V, Element V, Element V, Element V, Element V, Element V, Element V, Element V, Element V, Element V, Element V, Element V, Element Cr, Element V, Element V, Element V, Element V, Element V, Element V, Element V, Element V, Element V, Element V, Element V, Element V]\n"
     ]
    }
   ],
   "source": [
    "# The occupancy strings created by the processor\n",
    "# are by default \"encoded\" by the indices of the species\n",
    "# for each given site. You can always see the actual\n",
    "# species in the occupancy string by decoding it.\n",
    "print(f'The encoded occupancy is:\\n{init_occu}')\n",
    "print(f'The initial occupancy is:\\n {ensemble.processor.decode_occupancy(init_occu)}')"
   ]
  },
  {
   "cell_type": "markdown",
   "metadata": {},
   "source": [
    "### 4) Run MC iterations\n",
    "MC iterations are by default run by swapping sites from all active sublattices, but fine grained simulations can also be ran by only flipping on some of the active sublattices or even freezen specific sites in active sublattices. MC samples are saved in a `SampleContainer` created or given to the `Sampler` when created."
   ]
  },
  {
   "cell_type": "code",
   "execution_count": 47,
   "metadata": {},
   "outputs": [
    {
     "name": "stderr",
     "output_type": "stream",
     "text": [
      "Sampling 1 chain(s) from a cell with 64 sites: 100%|██████████| 1000000/1000000 [00:58<00:00, 17193.82it/s]\n"
     ]
    }
   ],
   "source": [
    "# run 1M iterations\n",
    "# since this is the first run, the initial occupancy must be supplied\n",
    "sampler.run(\n",
    "    1000000,\n",
    "    initial_occupancies=init_occu,\n",
    "    thin_by=100, # thin_by will save every 100th sample only\n",
    "    progress=True\n",
    ") # progress will show progress bar"
   ]
  },
  {
   "cell_type": "code",
   "execution_count": 48,
   "metadata": {},
   "outputs": [
    {
     "name": "stdout",
     "output_type": "stream",
     "text": [
      "Fraction of successful steps (efficiency) 0.000159\n",
      "The last step energy is -216591544.91291806 eV\n",
      "The minimum energy in trajectory is -216591544.91291884 eV\n"
     ]
    }
   ],
   "source": [
    "# Samples are saved in a sample container\n",
    "samples = sampler.samples\n",
    "\n",
    "print(f'Fraction of successful steps (efficiency) {sampler.efficiency()}')\n",
    "print(f'The last step energy is {samples.get_energies()[-1]} eV')\n",
    "print(f'The minimum energy in trajectory is {samples.get_minimum_energy()} eV')\n",
    "\n",
    "# You can get the minimum energy structure and current structure\n",
    "# by using the ensemble processor\n",
    "curr_s = ensemble.processor.structure_from_occupancy(samples.get_occupancies()[-1])\n",
    "min_s = ensemble.processor.structure_from_occupancy(samples.get_minimum_energy_occupancy())"
   ]
  },
  {
   "cell_type": "markdown",
   "metadata": {},
   "source": [
    "#### 4.1) Continuing or resetting the MC trajectory\n",
    "You can always continue running more iterations from where the trajectory left off by calling `run` again.\n",
    "You can also reset to the initial state. (we will skip this step for now so we can show results from the run above."
   ]
  },
  {
   "cell_type": "code",
   "execution_count": 9,
   "metadata": {},
   "outputs": [],
   "source": [
    "# You can continue the MC trajectory simmply by calling run again\n",
    "# it is recommended to use the same thin_by used before\n",
    "#sampler.run(10000, thin_by=100)  # this will append new data\n",
    "\n",
    "# If you want to start from scratch\n",
    "#sampler.clear_samples()  # this will delete data, and reset the ensemble to its initial state\n",
    "# Now you can start a fresh run\n",
    "#sampler.run(1000000,\n",
    "#             initial_occupancies=init_occu,\n",
    "#             thin_by=100, # thin_by will save every 100th sample only\n",
    "#             progress=True) # progress will show progress bar"
   ]
  },
  {
   "cell_type": "markdown",
   "metadata": {},
   "source": [
    "### 5) Check convergence of MC sampling\n",
    "Find the minimum number of samples required to discard for equilibration while converging the energy"
   ]
  },
  {
   "cell_type": "code",
   "execution_count": 51,
   "metadata": {},
   "outputs": [
    {
     "name": "stdout",
     "output_type": "stream",
     "text": [
      "[-2.02378081e+08 -2.12723249e+08 -2.16591545e+08 ... -2.16591545e+08\n",
      " -2.16591545e+08 -2.16591545e+08]\n"
     ]
    }
   ],
   "source": [
    "#from smol.moca.analysis.convergence import check_property_converged, determine_discard_number\n",
    "\n",
    "energies = samples.get_energies()\n",
    "# 100 as an initial guess for amount to discard\n",
    "#opt_discard = determine_discard_number(property_array=energies, init_discard=100, verbose=True)\n",
    "#converged = check_property_converged(energies[opt_discard:])\n",
    "#print(f'Is the energy converged after discarding the first {opt_discard} samples?', converged)\n",
    "print(energies)"
   ]
  },
  {
   "cell_type": "markdown",
   "metadata": {},
   "source": [
    "### 6) Look at trajectory samples and averages\n",
    "We can look at the sampled energies, the average and variance directly from the class properties.\n",
    "\n",
    "For further analysis samples are stored as a list of dictionaries for each sampled step in the `CanonicalEnsemble.data` attribute.\n",
    "In the `CanonicalEnsemble` class only the energy and occupancy string of each sample are saved."
   ]
  },
  {
   "cell_type": "code",
   "execution_count": 52,
   "metadata": {},
   "outputs": [
    {
     "name": "stdout",
     "output_type": "stream",
     "text": [
      "A total of 10000 samples taken.\n",
      "A total of 9900 samples used for production.\n",
      "The average energy is -216591544.9104112 eV\n",
      "The energy variance is 2.1266926642673625e-06 eV^2\n",
      "The sampling efficiency (acceptance rate) is approximately 0.00015801580158015803\n"
     ]
    }
   ],
   "source": [
    "# Set 100 samples for burn-in, as determined in 5)\n",
    "discard = 100 # this is in terms of samples so it would be discard*thin_by steps\n",
    "print(f'A total of {len(samples)} samples taken.')\n",
    "print(f'A total of {len(samples.get_energies(discard=discard))} samples used for production.')\n",
    "print(f'The average energy is {samples.mean_energy(discard=discard)} eV')\n",
    "print(f'The energy variance is {samples.energy_variance(discard=discard)} eV^2')\n",
    "print(f'The sampling efficiency (acceptance rate) is approximately {samples.sampling_efficiency(discard=discard)}')"
   ]
  },
  {
   "cell_type": "markdown",
   "metadata": {},
   "source": [
    "### Save your work\n",
    "The `Sampler` class does and can not be saved since it does not really have any computed values. However the `SampleContainter` where the MC samples are recorded can be saved.\n",
    "You can use the same `save_work` convenience function to save your work.\n",
    "\n",
    "You can also save the `SampleContainer` as an hdf5 file. You will need `h5py` installed."
   ]
  }
 ],
 "metadata": {
  "kernelspec": {
   "display_name": "Python 3 (ipykernel)",
   "language": "python",
   "name": "python3"
  },
  "language_info": {
   "codemirror_mode": {
    "name": "ipython",
    "version": 3
   },
   "file_extension": ".py",
   "mimetype": "text/x-python",
   "name": "python",
   "nbconvert_exporter": "python",
   "pygments_lexer": "ipython3",
   "version": "3.10.0"
  }
 },
 "nbformat": 4,
 "nbformat_minor": 4
}
