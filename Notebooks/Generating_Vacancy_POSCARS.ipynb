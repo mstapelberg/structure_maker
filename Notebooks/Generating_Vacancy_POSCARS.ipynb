{
 "cells": [
  {
   "cell_type": "code",
   "execution_count": 1,
   "id": "32f04e0b",
   "metadata": {},
   "outputs": [],
   "source": [
    "import sys\n",
    "sys.path.append(\"/home/jkdamewo/utils\")\n",
    "\n",
    "from imports import *\n",
    "from django_imports import *\n",
    "from datetime import datetime\n",
    "import time\n",
    "WORKDIR = os.getcwd()"
   ]
  },
  {
   "cell_type": "code",
   "execution_count": 2,
   "id": "69b6afd6",
   "metadata": {},
   "outputs": [],
   "source": [
    "group = Group.objects.get(name='HighEntropyAlloys')\n",
    "config = JobConfig.objects.filter(name__in=['bcc_supercell'])[0]"
   ]
  },
  {
   "cell_type": "code",
   "execution_count": 3,
   "id": "b91a5c4a",
   "metadata": {},
   "outputs": [],
   "source": [
    "crys_parent = Crystal.objects.filter(\n",
    "        parentjob__group=group,\n",
    "        parentjob__config=config,\n",
    ").distinct()"
   ]
  },
  {
   "cell_type": "code",
   "execution_count": 4,
   "id": "b4db517e",
   "metadata": {},
   "outputs": [
    {
     "name": "stdout",
     "output_type": "stream",
     "text": [
      "5\n"
     ]
    }
   ],
   "source": [
    "print(len(crys_parent))"
   ]
  },
  {
   "cell_type": "code",
   "execution_count": 5,
   "id": "ebac2336",
   "metadata": {},
   "outputs": [],
   "source": [
    "def traverse_opt_dft(parent_crystals):\n",
    "    child_ids = []\n",
    "    unrelaxed_ids = {}\n",
    "    for parent in tqdm(parent_crystals):\n",
    "        try:\n",
    "            child = parent.childjobs.get(\n",
    "                status='done',\n",
    "                config__name='pbe_u_paw_spinpol_opt_vasp'\n",
    "            ).childgeoms.get(\n",
    "                converged=True\n",
    "            ).crystal\n",
    "        except (Job.DoesNotExist, Geom.DoesNotExist):\n",
    "            pass\n",
    "        else:\n",
    "            child_ids.append(child.id)\n",
    "\n",
    "    return child_ids"
   ]
  },
  {
   "cell_type": "code",
   "execution_count": 6,
   "id": "64008182",
   "metadata": {},
   "outputs": [],
   "source": [
    "def traverse_es_dft(crystals ):\n",
    "    child_ids = []\n",
    "    es_jobs = []\n",
    "    unrelaxed_ids = []\n",
    "    count = 0\n",
    "    for cryst in tqdm(crystals):\n",
    "        try:\n",
    "            es_job = cryst.childjobs.get(status='done',\n",
    "                        config__name='pbe_u_paw_spinpol_es_vasp')\n",
    "        except (Job.DoesNotExist,\n",
    "                Geom.DoesNotExist,\n",
    "                django.core.exceptions.MultipleObjectsReturned):\n",
    "            pass\n",
    "        else:\n",
    "            child_ids.append(cryst.id)\n",
    "    \n",
    "    return child_ids"
   ]
  },
  {
   "cell_type": "code",
   "execution_count": 7,
   "id": "f227b687",
   "metadata": {},
   "outputs": [
    {
     "name": "stderr",
     "output_type": "stream",
     "text": [
      "100%|██████████| 5/5 [00:00<00:00, 150.29it/s]\n"
     ]
    }
   ],
   "source": [
    "conv_crys = traverse_opt_dft(crys_parent)"
   ]
  },
  {
   "cell_type": "code",
   "execution_count": null,
   "id": "a47ba664",
   "metadata": {},
   "outputs": [],
   "source": []
  },
  {
   "cell_type": "code",
   "execution_count": 36,
   "id": "832d6210",
   "metadata": {},
   "outputs": [
    {
     "data": {
      "text/plain": [
       "{'_state': <django.db.models.base.ModelState at 0x7f12ffe4d190>,\n",
       " 'id': 123200473,\n",
       " 'uuid': UUID('e8a7053f-1656-4548-959b-7a8be70581d7'),\n",
       " 'config_id': 252,\n",
       " 'group_id': 64,\n",
       " 'priority': 1,\n",
       " 'workbatch_id': None,\n",
       " 'status': 'done',\n",
       " 'createtime': datetime.datetime(2023, 6, 21, 21, 34, 45, 48008, tzinfo=datetime.timezone.utc),\n",
       " 'parentct_id': 54,\n",
       " 'parentid': 425307767,\n",
       " 'details': {'imix': 4,\n",
       "  'isym': 2,\n",
       "  'kpar': 1,\n",
       "  'ldau': True,\n",
       "  'ediff': 1e-06,\n",
       "  'encut': 520,\n",
       "  'ispin': 2,\n",
       "  'lreal': 'Auto',\n",
       "  'ncore': 4,\n",
       "  'potim': 0.5,\n",
       "  'ediffg': -0.01,\n",
       "  'ibrion': 2,\n",
       "  'ismear': 0,\n",
       "  'kppvol': 64,\n",
       "  'memory': 394.46,\n",
       "  'nelmin': 4,\n",
       "  'nprocs': 16,\n",
       "  'nsteps': 300,\n",
       "  'kpoints': [2, 2, 2],\n",
       "  'lattice': [[9.797958975728635, 0.0, -3.46410161589873],\n",
       "   [-4.8989794862352785, 8.48528137915928, -3.46410161589873],\n",
       "   [0.0, 0.0, 10.39230485]],\n",
       "  'lmaxmix': 2,\n",
       "  'magmoms': None,\n",
       "  'symprec': 1e-05,\n",
       "  'version': '5.4.4.18Apr17-6-g9f103f2a35',\n",
       "  'fix_cell': False,\n",
       "  'ldautype': 2,\n",
       "  'nodename': 'node1115',\n",
       "  'software': 'VASP',\n",
       "  'ldauprint': 1,\n",
       "  'requester': 'jkdamewo',\n",
       "  'selectdyn': None,\n",
       "  'algo_other': 'Normal',\n",
       "  'algo_relax': 'Fast',\n",
       "  'partitions': ['sched_mit_rafagb'],\n",
       "  'pseudo_dir': '/nfs/rafagblab001/vasp_PBE_54/',\n",
       "  'vasp_version': '5.4.4',\n",
       "  'kpoints_shift': [0, 0, 0],\n",
       "  'num_ionic_steps': 52,\n",
       "  'compute_platform': 'engaging'},\n",
       " 'completetime': datetime.datetime(2023, 6, 27, 0, 1, 51, 464820, tzinfo=datetime.timezone.utc),\n",
       " 'duration': 82505.0,\n",
       " 'cores': 16,\n",
       " 'architecture': None,\n",
       " 'repoversion': None,\n",
       " 'nnpotential_id': None,\n",
       " 'childnet_id': None}"
      ]
     },
     "execution_count": 36,
     "metadata": {},
     "output_type": "execute_result"
    }
   ],
   "source": [
    "crys_parent[4].childjobs.get().__dict__"
   ]
  },
  {
   "cell_type": "code",
   "execution_count": 8,
   "id": "a04c8195",
   "metadata": {},
   "outputs": [
    {
     "name": "stderr",
     "output_type": "stream",
     "text": [
      "0it [00:00, ?it/s]\n"
     ]
    }
   ],
   "source": [
    "done_crys = traverse_es_dft(conv_crys)"
   ]
  },
  {
   "cell_type": "code",
   "execution_count": 9,
   "id": "70bccb48",
   "metadata": {},
   "outputs": [],
   "source": [
    "import os\n",
    "from pymatgen.io.cif import CifWriter\n",
    "from pymatgen.transformations.site_transformations import RemoveSitesTransformation"
   ]
  },
  {
   "cell_type": "code",
   "execution_count": 14,
   "id": "7ab0ddc9",
   "metadata": {},
   "outputs": [],
   "source": [
    "parent_path = \"V4Cr4Ti/\"\n",
    "if not os.path.exists(parent_path):\n",
    "    os.mkdir(parent_path)"
   ]
  },
  {
   "cell_type": "code",
   "execution_count": null,
   "id": "c3686e0d",
   "metadata": {},
   "outputs": [],
   "source": [
    "def find_new_loc(parent,loc,direction):\n",
    "    best_site = None\n",
    "    best_val = 999999999\n",
    "    positions = parent.frac_coords\n",
    "    scale = ((parent.volume)**(1/3))/4.0\n",
    "    \n",
    "    for i in range(positions.shape[0]):\n",
    "        \n",
    "        curr_site = i\n",
    "        loc_positions = positions[loc,:]\n",
    "        \n",
    "        \n",
    "        if direction == [1,0,0]:\n",
    "            bcc_direction = np.asarray([1.0,0.0,0.0])\n",
    "        elif direction == [0,1,0]:\n",
    "            bcc_direction = np.asarray([0.0,1.0,0.0])\n",
    "        elif direction == [0,0,1]:\n",
    "            bcc_direction = np.asarray([0.0,0.0,1.0])\n",
    "        elif direction == [1,1,1]\n",
    "            bcc_direction = np.asarray([0.5,0.5,0.5])\n",
    "        elif direction == [-1,1,1]\n",
    "            bcc_direction = np.asarray([-0.5,0.5,0.5])\n",
    "        else:\n",
    "            print(\"Direction Not Defined\")\n",
    "        proposed_positions = loc_positions + (0.25)*bcc_direction\n",
    "        \n",
    "        \n",
    "        for j in range(proposed_positions.shape[0]):\n",
    "            if proposed_positions[j]>1.0:\n",
    "                proposed_positions[j]-=1\n",
    "        \n",
    "        curr_positions = positions[i,:]\n",
    "        \n",
    "        diff = proposed_positions - curr_positions\n",
    "        \n",
    "        curr_val = np.sum(diff**2)\n",
    "        \n",
    "    \n",
    "        if curr_val < best_val:\n",
    "            best_val = curr_val\n",
    "            best_site = curr_site\n",
    "            \n",
    "    return best_site\n",
    "            \n",
    "    \n",
    "    "
   ]
  },
  {
   "cell_type": "code",
   "execution_count": null,
   "id": "ebb626d3",
   "metadata": {},
   "outputs": [],
   "source": [
    "def select_vacancies(parent,loc,path):\n",
    "    if not os.path.exists(path):\n",
    "        os.mkdir(path)\n",
    "        \n",
    "    if not os.path.exists(path+\"000/\"):\n",
    "        os.mkdir(path+\"000/\")\n",
    "        \n",
    "    trans = RemoveSitesTransformation(loc)\n",
    "    struct_000 = trans.apply_transformation(parent)\n",
    "    writer_000 = CifWriter(struct_000)\n",
    "    writer_000.write_file(path+\"000/\"+\"vacancy_center.cif\")\n",
    "    \n",
    "    ###################\n",
    "    \n",
    "    \n",
    "    if not os.path.exists(path+\"100/\"):\n",
    "        os.mkdir(path+\"100/\")\n",
    "        \n",
    "    end_loc = find_new_loc(parent,loc,[1,0,0])\n",
    "    trans = RemoveSitesTransformation(end_loc)\n",
    "    struct_100 = trans.apply_transformation(parent)\n",
    "    \n",
    "    writer_100 = CifWriter(struct_100)\n",
    "    writer_100.write_file(path+\"100/\"+\"end.cif\")\n",
    "    writer_000.write_file(path+\"100/\"+\"start.cif\")\n",
    "    \n",
    "    ##################\n",
    "    \n",
    "    if not os.path.exists(path+\"010/\"):\n",
    "        os.mkdir(path+\"010/\")\n",
    "        \n",
    "    end_loc = find_new_loc(parent,loc,[0,1,0])\n",
    "    trans = RemoveSitesTransformation(end_loc)\n",
    "    struct_010 = trans.apply_transformation(parent)\n",
    "    \n",
    "    writer_010 = CifWriter(struct_010)\n",
    "    writer_010.write_file(path+\"010/\"+\"end.cif\")\n",
    "    writer_000.write_file(path+\"010/\"+\"start.cif\")\n",
    "    \n",
    "    ##########################\n",
    "    \n",
    "    if not os.path.exists(path+\"001/\"):\n",
    "        os.mkdir(path+\"001/\")\n",
    "        \n",
    "    end_loc = find_new_loc(parent,loc,[0,0,1])\n",
    "    trans = RemoveSitesTransformation(end_loc)\n",
    "    struct_001 = trans.apply_transformation(parent)\n",
    "    \n",
    "    writer_001 = CifWriter(struct_001)\n",
    "    writer_001.write_file(path+\"001/\"+\"end.cif\")\n",
    "    writer_000.write_file(path+\"001/\"+\"start.cif\")\n",
    "    \n",
    "    ########################\n",
    "    \n",
    "    if not os.path.exists(path+\"111/\"):\n",
    "        os.mkdir(path+\"111/\")\n",
    "        \n",
    "    end_loc = find_new_loc(parent,loc,[1,1,1])\n",
    "    trans = RemoveSitesTransformation(end_loc)\n",
    "    struct_111 = trans.apply_transformation(parent)\n",
    "    \n",
    "    writer_111 = CifWriter(struct_111)\n",
    "    writer_111.write_file(path+\"111/\"+\"end.cif\")\n",
    "    writer_000.write_file(path+\"111/\"+\"start.cif\")\n",
    "    \n",
    "    ######################################\n",
    "    \n",
    "    if not os.path.exists(path+\"-111/\"):\n",
    "        os.mkdir(path+\"-111/\")\n",
    "        \n",
    "    end_loc = find_new_loc(parent,loc,[-1,1,1])\n",
    "    trans = RemoveSitesTransformation(end_loc)\n",
    "    struct_m111 = trans.apply_transformation(parent)\n",
    "    \n",
    "    writer_m111 = CifWriter(struct_m111)\n",
    "    writer_m111.write_file(path+\"m111/\"+\"end.cif\")\n",
    "    writer_000.write_file(path+\"m111/\"+\"start.cif\")\n",
    "    "
   ]
  },
  {
   "cell_type": "code",
   "execution_count": 15,
   "id": "d1a158bf",
   "metadata": {},
   "outputs": [
    {
     "ename": "SyntaxError",
     "evalue": "invalid syntax (2569028013.py, line 7)",
     "output_type": "error",
     "traceback": [
      "\u001b[0;36m  Input \u001b[0;32mIn [15]\u001b[0;36m\u001b[0m\n\u001b[0;31m    parent_writer.write_file(path=)\u001b[0m\n\u001b[0m                                  ^\u001b[0m\n\u001b[0;31mSyntaxError\u001b[0m\u001b[0;31m:\u001b[0m invalid syntax\n"
     ]
    }
   ],
   "source": [
    "import numpy as np\n",
    "\n",
    "def create_vacancies_from_structure(crystal,path):\n",
    "    if not os.path.exists(path):\n",
    "        os.mkdir(path)\n",
    "        \n",
    "    curr_parent = crystal.as_pymatgen_structure()\n",
    "    parent_writer = CifWriter(curr_parent)\n",
    "    parent_writer.write_file(path+\"parent.cif\")\n",
    "    \n",
    "    sites = np.random.choice(curr_parent.frac_coords.shape[0], 5, replace = False)\n",
    "    \n",
    "    for i in range(5):\n",
    "        \n",
    "        select_vacancies(curr_parent,sites[i],path+\"vacancy_num\"+str(i)+\"/\")"
   ]
  },
  {
   "cell_type": "code",
   "execution_count": null,
   "id": "67057952",
   "metadata": {},
   "outputs": [],
   "source": [
    "for i in range(done_crys):\n",
    "    create_vacancies_from_structure(done_crys[i],parent_path+\"Structure_Num\" + str(i) + \"/\")"
   ]
  }
 ],
 "metadata": {
  "kernelspec": {
   "display_name": "Python (htvs)",
   "language": "python",
   "name": "htvs"
  },
  "language_info": {
   "codemirror_mode": {
    "name": "ipython",
    "version": 3
   },
   "file_extension": ".py",
   "mimetype": "text/x-python",
   "name": "python",
   "nbconvert_exporter": "python",
   "pygments_lexer": "ipython3",
   "version": "3.9.12"
  }
 },
 "nbformat": 4,
 "nbformat_minor": 5
}
