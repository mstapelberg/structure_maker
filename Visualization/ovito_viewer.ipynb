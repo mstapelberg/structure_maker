{
 "cells": [
  {
   "cell_type": "code",
   "execution_count": 4,
   "metadata": {},
   "outputs": [],
   "source": [
    "import json\n",
    "from pymatgen.core import Structure\n",
    "from pymatgen.io.vasp import Poscar\n",
    "from ovito.io import import_file\n",
    "from ovito.pipeline import StaticSource, Pipeline\n",
    "from ovito.vis import Viewport, TachyonRenderer\n",
    "from ovito.io import import_file\n",
    "from IPython.display import Image\n"
   ]
  },
  {
   "cell_type": "code",
   "execution_count": 5,
   "metadata": {},
   "outputs": [],
   "source": [
    "# Path to your JSON file containing pymatgen structures\n",
    "json_file_path = '/Users/myless/Dropbox (MIT)/Research/2024/Spring_2024/Computation/structure_maker/vcrti_structures.json'"
   ]
  },
  {
   "cell_type": "code",
   "execution_count": 12,
   "metadata": {},
   "outputs": [
    {
     "ename": "TypeError",
     "evalue": "add_to_scene(): incompatible function arguments. The following argument types are supported:\n    1. (self: ovito.pipeline.Pipeline) -> None\n\nInvoked with: Pipeline(), Viewport()",
     "output_type": "error",
     "traceback": [
      "\u001b[0;31m---------------------------------------------------------------------------\u001b[0m",
      "\u001b[0;31mTypeError\u001b[0m                                 Traceback (most recent call last)",
      "Cell \u001b[0;32mIn[12], line 36\u001b[0m\n\u001b[1;32m     34\u001b[0m vp\u001b[38;5;241m.\u001b[39mcamera_pos \u001b[38;5;241m=\u001b[39m (\u001b[38;5;241m100\u001b[39m, \u001b[38;5;241m100\u001b[39m, \u001b[38;5;241m100\u001b[39m)\n\u001b[1;32m     35\u001b[0m vp\u001b[38;5;241m.\u001b[39mcamera_dir \u001b[38;5;241m=\u001b[39m (\u001b[38;5;241m-\u001b[39m\u001b[38;5;241m1\u001b[39m, \u001b[38;5;241m-\u001b[39m\u001b[38;5;241m1\u001b[39m, \u001b[38;5;241m-\u001b[39m\u001b[38;5;241m1\u001b[39m)\n\u001b[0;32m---> 36\u001b[0m \u001b[43mnode\u001b[49m\u001b[38;5;241;43m.\u001b[39;49m\u001b[43madd_to_scene\u001b[49m\u001b[43m(\u001b[49m\u001b[43mvp\u001b[49m\u001b[43m)\u001b[49m\n\u001b[1;32m     38\u001b[0m \u001b[38;5;66;03m# Render the image using TachyonRenderer\u001b[39;00m\n\u001b[1;32m     39\u001b[0m image \u001b[38;5;241m=\u001b[39m vp\u001b[38;5;241m.\u001b[39mrender_image(size\u001b[38;5;241m=\u001b[39m(\u001b[38;5;241m800\u001b[39m, \u001b[38;5;241m600\u001b[39m), renderer\u001b[38;5;241m=\u001b[39mTachyonRenderer())\n",
      "\u001b[0;31mTypeError\u001b[0m: add_to_scene(): incompatible function arguments. The following argument types are supported:\n    1. (self: ovito.pipeline.Pipeline) -> None\n\nInvoked with: Pipeline(), Viewport()"
     ]
    }
   ],
   "source": [
    "# Read the JSON file\n",
    "with open(json_file_path, 'r') as file:\n",
    "    data = json.load(file)\n",
    "\n",
    "# Loop through each structure\n",
    "for i,struct_dict in enumerate(data):\n",
    "    if i == 0:\n",
    "        # Create a pymatgen Structure object from the dictionary\n",
    "        structure = Structure.from_dict(struct_dict)\n",
    "\n",
    "        # Convert the pymatgen structure to POSCAR format\n",
    "        poscar = Poscar(structure)\n",
    "\n",
    "        # Write the POSCAR string to a temporary file\n",
    "        with open('temp_structure.vasp', 'w') as temp_file:\n",
    "            temp_file.write(str(poscar))\n",
    "\n",
    "        # Open the structure in OVITO\n",
    "        node = import_file('temp_structure.vasp')\n",
    "        \n",
    "        temp_data = node.compute()\n",
    "        \n",
    "        node.add_to_scene()\n",
    "\n",
    "        # Add visualization code as needed here\n",
    "        # Write the POSCAR string to a temporary file\n",
    "        #with open('temp_structure.vasp', 'w') as temp_file:\n",
    "            #temp_file.write(poscar_str)\n",
    "\n",
    "        # Import the structure file into OVITO's data pipeline\n",
    "        #pipeline = Pipeline(source=StaticSource(data=import_file('temp_structure.vasp')))\n",
    "\n",
    "        # Create a viewport for rendering\n",
    "        vp = Viewport()\n",
    "        vp.type = Viewport.Type.Perspective\n",
    "        vp.camera_pos = (100, 100, 100)\n",
    "        vp.camera_dir = (-1, -1, -1)\n",
    "\n",
    "        # Render the image using TachyonRenderer\n",
    "        image = vp.render_image(size=(800, 600), renderer=TachyonRenderer())\n",
    "        image_path = 'rendered_image.png'\n",
    "        image.save(image_path)\n",
    "\n",
    "        # Display the image in the Jupyter Notebook\n",
    "        display(Image(filename=image_path))\n",
    "\n",
    "# Note: This script assumes that your JSON file is a list of pymatgen structure dictionaries.\n",
    "# Modify the json loading part accordingly if your file format is different."
   ]
  },
  {
   "cell_type": "code",
   "execution_count": null,
   "metadata": {},
   "outputs": [],
   "source": []
  }
 ],
 "metadata": {
  "kernelspec": {
   "display_name": "smol",
   "language": "python",
   "name": "python3"
  },
  "language_info": {
   "codemirror_mode": {
    "name": "ipython",
    "version": 3
   },
   "file_extension": ".py",
   "mimetype": "text/x-python",
   "name": "python",
   "nbconvert_exporter": "python",
   "pygments_lexer": "ipython3",
   "version": "3.10.0"
  }
 },
 "nbformat": 4,
 "nbformat_minor": 2
}
