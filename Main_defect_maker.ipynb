{
 "cells": [
  {
   "cell_type": "code",
   "execution_count": 12,
   "metadata": {},
   "outputs": [],
   "source": [
    "from ase.neighborlist import NeighborList\n",
    "from pymatgen.io.ase import AseAtomsAdaptor\n",
    "from pymatgen.core import Structure\n",
    "import json, os\n",
    "import numpy as np"
   ]
  },
  {
   "cell_type": "code",
   "execution_count": 2,
   "metadata": {},
   "outputs": [
    {
     "name": "stdout",
     "output_type": "stream",
     "text": [
      "<class 'dict'>\n"
     ]
    }
   ],
   "source": [
    "structures_file = '/Users/myless/Packages/structure_maker/structures_V111_Cr3_Ti3_Zr2_W5_Ta1.json'\n",
    "#entries = json.load(open('/Users/myless/Packages/structure_maker/V111_Cr3_Ti3_Zr2_W5_Ta1_entries.json'))\n",
    "entries = json.load(open(structures_file,'r'))\n",
    "print(type(entries[0]))"
   ]
  },
  {
   "cell_type": "code",
   "execution_count": 3,
   "metadata": {},
   "outputs": [],
   "source": [
    "#structure = Structure.from_dict(entries[0]['structure'])\n",
    "structure = Structure.from_dict(entries[0])\n",
    "atoms = AseAtomsAdaptor.get_atoms(structure)"
   ]
  },
  {
   "cell_type": "code",
   "execution_count": 11,
   "metadata": {},
   "outputs": [
    {
     "name": "stdout",
     "output_type": "stream",
     "text": [
      "[1.505, 1.505, 1.505, 1.505, 1.505, 1.505, 1.505, 1.505, 1.505, 1.505, 1.505, 1.505, 1.505, 1.505, 1.505, 1.505, 1.505, 1.505, 1.505, 1.505, 1.505, 1.505, 1.505, 1.505, 1.505, 1.505, 1.505, 1.505, 1.505, 1.505, 1.505, 1.505, 1.505, 1.505, 1.505, 1.505, 1.505, 1.505, 1.505, 1.505, 1.505, 1.505, 1.505, 1.505, 1.505, 1.505, 1.505, 1.505, 1.505, 1.505, 1.505, 1.505, 1.505, 1.505, 1.505, 1.505, 1.505, 1.505, 1.505, 1.505, 1.505, 1.505, 1.505, 1.505, 1.505, 1.505, 1.505, 1.505, 1.505, 1.505, 1.505, 1.505, 1.505, 1.505, 1.505, 1.505, 1.505, 1.505, 1.505, 1.505, 1.505, 1.505, 1.505, 1.505, 1.505, 1.505, 1.505, 1.505, 1.505, 1.505, 1.505, 1.505, 1.505, 1.505, 1.505, 1.505, 1.505, 1.505, 1.505, 1.505, 1.505, 1.505, 1.505, 1.505, 1.505, 1.505, 1.505, 1.505, 1.505, 1.505, 1.505, 1.505, 1.505, 1.505, 1.505, 1.505, 1.505, 1.505, 1.505, 1.505, 1.505, 1.505, 1.505, 1.505, 1.505]\n"
     ]
    }
   ],
   "source": [
    "print([3.01/2]*len(atoms))"
   ]
  },
  {
   "cell_type": "code",
   "execution_count": 32,
   "metadata": {},
   "outputs": [],
   "source": [
    "def return_x_neighbors(atoms, target_atom_index, x_neighbor, alat, tolerance = 1.05):\n",
    "    \"\"\"\n",
    "    Returns the indices and distances of the nearest neighbors of a target atom.\n",
    "    \n",
    "    Parameters:\n",
    "    atoms (Atoms): The atomic structure.\n",
    "    target_atom_index (int): The index of the target atom.\n",
    "    x_neighbor (int): The number of neighbors to return (1, 2, or 3).\n",
    "    alat (float): The lattice constant.\n",
    "    tolerance (float, optional): The tolerance factor for the cutoff distance. Default is 1.05.\n",
    "    \n",
    "    Returns:\n",
    "    nearest_neighbors (list): The indices of the nearest neighbors.\n",
    "    distances (list): The distances to the nearest neighbors.\n",
    "    \"\"\"\n",
    "\n",
    "    # get the cutoff distance for the nearest neighbors\n",
    "    if x_neighbor == 1:\n",
    "        cutoff = alat * np.sqrt(3)/2 * tolerance # 5% larger than the nearest neighbor distance for tolerance\n",
    "    elif x_neighbor == 2:\n",
    "        cutoff = alat * tolerance \n",
    "    elif x_neighbor == 3:\n",
    "        cutoff = alat * np.sqrt(2) * tolerance\n",
    "    else:\n",
    "        print('x_neighbor must be 1, 2, or 3')\n",
    "        return None\n",
    "    \n",
    "    # create the neighbor list \n",
    "    nl = NeighborList([cutoff/2]*len(atoms), self_interaction=False, bothways=True)\n",
    "    nl.update(atoms)\n",
    "    indices, offsets = nl.get_neighbors(target_atom_index)\n",
    "    distances = [atoms.get_distance(target_atom_index, i, mic=True) for i in indices]\n",
    "\n",
    "    # get the number of indices based on if we need the nearest, next-nearest, or next-next-nearest neighbors\n",
    "    if x_neighbor == 1:\n",
    "        sorted_neighbors = sorted(zip(indices, distances), key=lambda x: x[1])[:8]\n",
    "    elif x_neighbor == 2:\n",
    "        sorted_neighbors = sorted(zip(indices, distances), key=lambda x: x[1])[8:14]\n",
    "    elif x_neighbor == 3:\n",
    "        sorted_neighbors = sorted(zip(indices, distances), key=lambda x: x[1])[14:26]\n",
    "    else:\n",
    "        print('x_neighbor must be 1, 2, or 3')\n",
    "        return None\n",
    "    \n",
    "    # get the indices and distances of the nearest neighbors sorted by distance\n",
    "    nearest_neighbors = [index for index,_ in sorted_neighbors]\n",
    "    distances = [distance for _, distance in sorted_neighbors]\n",
    "    return nearest_neighbors, distances\n",
    "\n",
    "def return_next_nearest_neighbors(atoms, target_atom_index, alat, tolerance = 1.05):\n",
    "    cutoff = alat * tolerance # 5% larger than the nearest neighbor distance for tolerance\n",
    "    nl = NeighborList([cutoff/2]*len(atoms), self_interaction=False, bothways=True)\n",
    "    nl.update(atoms)\n",
    "    indices, offsets = nl.get_neighbors(target_atom_index)\n",
    "    distances = [atoms.get_distance(target_atom_index, i, mic=True) for i in indices]\n",
    "    sorted_neighbors = sorted(zip(indices, distances), key=lambda x: x[1])[8:14]\n",
    "    nearest_neighbors = [index for index,_ in sorted_neighbors]\n",
    "    distances = [distance for _, distance in sorted_neighbors]\n",
    "    return nearest_neighbors, distances\n",
    "\n",
    "def return_next_next_nearest_neighbors(atoms, target_atom_index, alat, tolerance = 1.05):\n",
    "    cutoff = alat * np.sqrt(2) * tolerance # 5% larger than the nearest neighbor distance for tolerance\n",
    "    nl = NeighborList([cutoff/2]*len(atoms), self_interaction=False, bothways=True)\n",
    "    nl.update(atoms)\n",
    "    indices, offsets = nl.get_neighbors(target_atom_index)\n",
    "    distances = [atoms.get_distance(target_atom_index, i, mic=True) for i in indices]\n",
    "    sorted_neighbors = sorted(zip(indices, distances), key=lambda x: x[1])[14:26]\n",
    "    nearest_neighbors = [index for index,_ in sorted_neighbors]\n",
    "    distances = [distance for _, distance in sorted_neighbors]\n",
    "    return nearest_neighbors, distances"
   ]
  },
  {
   "cell_type": "code",
   "execution_count": 33,
   "metadata": {},
   "outputs": [
    {
     "name": "stdout",
     "output_type": "stream",
     "text": [
      "Nearest :  [2, 1, 20, 56, 3, 114, 34, 24]\n",
      "Next-nearest :  [39, 35, 38, 8, 51, 104]\n",
      "Next-next-nearest :  [77, 5, 52, 74, 120, 40, 7, 99, 100, 90, 43, 103]\n"
     ]
    }
   ],
   "source": [
    "nearest_neighbors, distances = return_x_neighbors(atoms = atoms, target_atom_index=0, x_neighbor = 1, alat = 3.01)\n",
    "nn_neighbors, distances = return_x_neighbors(atoms = atoms, target_atom_index=0, x_neighbor = 2, alat = 3.01)\n",
    "nnn_neighbors, distances = return_x_neighbors(atoms = atoms, target_atom_index=0, x_neighbor = 3, alat = 3.01)\n",
    "print(\"Nearest : \", nearest_neighbors)\n",
    "print(\"Next-nearest : \", nn_neighbors)\n",
    "print(\"Next-next-nearest : \", nnn_neighbors)"
   ]
  },
  {
   "cell_type": "code",
   "execution_count": null,
   "metadata": {},
   "outputs": [],
   "source": []
  },
  {
   "cell_type": "code",
   "execution_count": 25,
   "metadata": {},
   "outputs": [],
   "source": [
    "cutoff = 3.01*2\n",
    "target_atom_index = 0 \n",
    "target_atom = atoms[target_atom_index]\n",
    "nl = NeighborList([cutoff/2]*len(atoms), self_interaction=False, bothways=True)\n",
    "nl.update(atoms)\n",
    "indices, offsets = nl.get_neighbors(target_atom_index)"
   ]
  },
  {
   "cell_type": "code",
   "execution_count": 26,
   "metadata": {},
   "outputs": [],
   "source": [
    "distances = [atoms.get_distance(target_atom_index, i, mic=True) for i in indices]\n",
    "sorted_neighbors = sorted(zip(indices, distances), key=lambda x: x[1])"
   ]
  },
  {
   "cell_type": "code",
   "execution_count": 6,
   "metadata": {},
   "outputs": [
    {
     "name": "stdout",
     "output_type": "stream",
     "text": [
      "[2, 1, 20, 56, 3, 114, 34, 24]\n",
      "[2.528781690578451, 2.5518681647023507, 2.5827391589853668, 2.5948190295609246, 2.601436650455199, 2.601705577190455, 2.6370253895756517, 2.6905205780482393]\n"
     ]
    }
   ],
   "source": [
    "# for the nearest neighbors\n",
    "nearest_neighbors = [index for index,_ in sorted_neighbors]\n",
    "distances = [distance for _, distance in sorted_neighbors]\n",
    "print(nearest_neighbors)\n",
    "print(distances)"
   ]
  },
  {
   "cell_type": "code",
   "execution_count": 31,
   "metadata": {},
   "outputs": [
    {
     "name": "stdout",
     "output_type": "stream",
     "text": [
      "1.0321413820573944\n",
      "1.020216314341227\n",
      "1.0172612169433735\n"
     ]
    }
   ],
   "source": [
    "cutoff = 3.01 * np.sqrt(3)/2\n",
    "largest = 2.6905205780482393\n",
    "print(largest/cutoff)\n",
    "\n",
    "nn_cutoff = 3.01 \n",
    "nn_largest = 3.0708511061670936\n",
    "print(nn_largest/nn_cutoff)\n",
    "\n",
    "nnn_cutoff = 3.01 * np.sqrt(2)\n",
    "nnn_largest = 4.330260074527209\n",
    "print(nnn_largest/nnn_cutoff)"
   ]
  },
  {
   "cell_type": "code",
   "execution_count": 15,
   "metadata": {},
   "outputs": [
    {
     "name": "stdout",
     "output_type": "stream",
     "text": [
      "[2, 1, 20, 56, 3, 114, 34, 24]\n",
      "[2.528781690578451, 2.5518681647023507, 2.5827391589853668, 2.5948190295609246, 2.601436650455199, 2.601705577190455, 2.6370253895756517, 2.6905205780482393]\n"
     ]
    }
   ],
   "source": [
    "# for the nearest neighbors with new cutoff\n",
    "nearest_neighbors = [index for index,_ in sorted_neighbors]\n",
    "distances = [distance for _, distance in sorted_neighbors]\n",
    "print(nearest_neighbors)\n",
    "print(distances)"
   ]
  },
  {
   "cell_type": "code",
   "execution_count": 18,
   "metadata": {},
   "outputs": [
    {
     "name": "stdout",
     "output_type": "stream",
     "text": [
      "[39, 35, 38, 8]\n",
      "[2.9263286606110857, 3.0156507502991974, 3.042016814987278, 3.0455899692119703]\n"
     ]
    }
   ],
   "source": [
    "# for the next nearest neighbors\n",
    "nearest_neighbors = [index for index,_ in sorted_neighbors]\n",
    "distances = [distance for _, distance in sorted_neighbors]\n",
    "print(nearest_neighbors)\n",
    "print(distances)"
   ]
  },
  {
   "cell_type": "code",
   "execution_count": 21,
   "metadata": {},
   "outputs": [
    {
     "name": "stdout",
     "output_type": "stream",
     "text": [
      "[51, 104, 77, 5]\n",
      "[3.0600891385899285, 3.0708511061670936, 4.170950226833095, 4.222201502310656]\n"
     ]
    }
   ],
   "source": [
    "# for the next next nearest neighbors\n",
    "nearest_neighbors = [index for index,_ in sorted_neighbors]\n",
    "distances = [distance for _, distance in sorted_neighbors]\n",
    "print(nearest_neighbors)\n",
    "print(distances)"
   ]
  },
  {
   "cell_type": "code",
   "execution_count": 24,
   "metadata": {},
   "outputs": [
    {
     "name": "stdout",
     "output_type": "stream",
     "text": [
      "There are 26 neighbors in the cutoff\n",
      "[2, 1, 20, 56, 3, 114, 34, 24, 39, 35, 38, 8, 51, 104, 77, 5, 52, 74, 120, 40, 7, 99, 100, 90, 43, 103]\n",
      "[2.528781690578451, 2.5518681647023507, 2.5827391589853668, 2.5948190295609246, 2.601436650455199, 2.601705577190455, 2.6370253895756517, 2.6905205780482393, 2.9263286606110857, 3.0156507502991974, 3.042016814987278, 3.0455899692119703, 3.0600891385899285, 3.0708511061670936, 4.170950226833095, 4.222201502310656, 4.223651969203701, 4.238968555654315, 4.247681320022284, 4.2551695056287615, 4.261501640804096, 4.263666452877288, 4.275731765940114, 4.284326440788527, 4.290612057853512, 4.330260074527209]\n"
     ]
    }
   ],
   "source": [
    "# for all neighbors in cutoff\n",
    "nearest_neighbors = [index for index,_ in sorted_neighbors]\n",
    "distances = [distance for _, distance in sorted_neighbors]\n",
    "print(f\"There are {len(nearest_neighbors)} neighbors in the cutoff\")\n",
    "print(nearest_neighbors)\n",
    "print(distances)"
   ]
  },
  {
   "cell_type": "code",
   "execution_count": 27,
   "metadata": {},
   "outputs": [
    {
     "name": "stdout",
     "output_type": "stream",
     "text": [
      "There are 84 neighbors in the cutoff\n",
      "[2, 1, 20, 56, 3, 114, 34, 24, 39, 35, 38, 8, 51, 104, 77, 5, 52, 74, 120, 40, 7, 99, 100, 90, 43, 103, 93, 113, 57, 15, 16, 61, 25, 23, 53, 59, 55, 32, 69, 110, 89, 111, 70, 124, 21, 105, 18, 85, 84, 60, 9, 78, 4, 10, 13, 6, 98, 19, 44, 48, 68, 37, 36, 31, 62, 96, 94, 97, 88, 109, 83, 11, 14, 91, 64, 12, 79, 73, 17, 86, 80, 28, 123, 33]\n",
      "[2.528781690578451, 2.5518681647023507, 2.5827391589853668, 2.5948190295609246, 2.601436650455199, 2.601705577190455, 2.6370253895756517, 2.6905205780482393, 2.9263286606110857, 3.0156507502991974, 3.042016814987278, 3.0455899692119703, 3.0600891385899285, 3.0708511061670936, 4.170950226833095, 4.222201502310656, 4.223651969203701, 4.238968555654315, 4.247681320022284, 4.2551695056287615, 4.261501640804096, 4.263666452877288, 4.275731765940114, 4.284326440788527, 4.290612057853512, 4.330260074527209, 4.9223701603211785, 4.941624869698045, 4.946408494353676, 4.948395167287861, 4.9587699439739845, 4.958862467081346, 4.981470371267577, 4.982165469191441, 4.983977387098685, 4.985846321323496, 4.991108494828602, 4.9926971291562205, 4.993545879703048, 4.996714121601492, 5.004340521810966, 5.004356411914052, 5.006821775315671, 5.00815600095587, 5.010802508131019, 5.020777989869203, 5.024820123010579, 5.030023233736434, 5.033702046634791, 5.049795457973687, 5.152273163946566, 5.177869650305118, 5.197433645603053, 5.218926187305514, 5.221792929529844, 5.2263812998702806, 5.233046675827096, 5.255694992960092, 6.0138561254928575, 6.023875132085978, 6.028325543566392, 6.055790628692503, 6.0761161061647995, 6.076655698120131, 6.487216548668731, 6.488420351407761, 6.497397413289382, 6.497944081581224, 6.5024262883535755, 6.5044721982452165, 6.526077476428479, 6.545567618118853, 6.551833916707012, 6.5581675508813175, 6.559006037607696, 6.567991339029114, 6.570021872762906, 6.578239849084581, 6.578414755657712, 6.581939506446321, 6.582391260521695, 6.585355015532922, 6.585818087659959, 6.596869950934614]\n"
     ]
    }
   ],
   "source": [
    "# for all neighbors in cutoff\n",
    "nearest_neighbors = [index for index,_ in sorted_neighbors]\n",
    "distances = [distance for _, distance in sorted_neighbors]\n",
    "print(f\"There are {len(nearest_neighbors)} neighbors in the cutoff\")\n",
    "print(nearest_neighbors)\n",
    "print(distances)"
   ]
  },
  {
   "cell_type": "code",
   "execution_count": 28,
   "metadata": {},
   "outputs": [
    {
     "name": "stdout",
     "output_type": "stream",
     "text": [
      "26\n"
     ]
    }
   ],
   "source": [
    "neighbors = [2.528781690578451, 2.5518681647023507, 2.5827391589853668, 2.5948190295609246, 2.601436650455199, 2.601705577190455, 2.6370253895756517, 2.6905205780482393, 2.9263286606110857, 3.0156507502991974, 3.042016814987278, 3.0455899692119703, 3.0600891385899285, 3.0708511061670936, 4.170950226833095, 4.222201502310656, 4.223651969203701, 4.238968555654315, 4.247681320022284, 4.2551695056287615, 4.261501640804096, 4.263666452877288, 4.275731765940114, 4.284326440788527, 4.290612057853512, 4.330260074527209]\n",
    "print(len(neighbors))\n"
   ]
  },
  {
   "cell_type": "code",
   "execution_count": 12,
   "metadata": {},
   "outputs": [
    {
     "data": {
      "application/vnd.jupyter.widget-view+json": {
       "model_id": "e62a348628c048cf8135098f35879ad8",
       "version_major": 2,
       "version_minor": 0
      },
      "text/plain": [
       "HBox(children=(NGLWidget(), VBox(children=(Dropdown(description='Show', options=('All', 'W', 'Zr', 'Ti', 'Xe',…"
      ]
     },
     "execution_count": 12,
     "metadata": {},
     "output_type": "execute_result"
    }
   ],
   "source": [
    "from ase.visualize import view\n",
    "\n",
    "visualization_supercell = atoms.copy()\n",
    "\n",
    "for atom in visualization_supercell:\n",
    "    if atom.index == target_atom_index:\n",
    "        atom.symbol = 'Xe'\n",
    "    elif atom.index in nearest_neighbors:\n",
    "        atom.symbol = 'Kr'\n",
    "\n",
    "view(visualization_supercell,viewer='ngl')"
   ]
  },
  {
   "cell_type": "code",
   "execution_count": 10,
   "metadata": {},
   "outputs": [
    {
     "name": "stdout",
     "output_type": "stream",
     "text": [
      "['__annotations__', '__class__', '__copy__', '__deepcopy__', '__del__', '__delattr__', '__dict__', '__dir__', '__doc__', '__eq__', '__format__', '__ge__', '__getattribute__', '__getitem__', '__getstate__', '__gt__', '__hash__', '__init__', '__init_subclass__', '__iter__', '__le__', '__lt__', '__module__', '__ne__', '__new__', '__reduce__', '__reduce_ex__', '__repr__', '__setattr__', '__setstate__', '__sizeof__', '__str__', '__subclasshook__', '__weakref__', '_active_widgets', '_add_notifiers', '_add_shape', '_all_trait_default_generators', '_call_widget_constructed', '_camera_orientation', '_camera_str', '_clear_component_auto_completion', '_comm_changed', '_compare', '_control_comm', '_coordinates_dict', '_create_ibtn_fullscreen', '_create_player', '_cross_validation_lock', '_default_keys', '_descriptors', '_display_image', '_display_repr', '_dom_classes', '_dry_run', '_event', '_execute_js_code', '_fire_callbacks', '_gen_repr_from_keys', '_get_embed_state', '_get_full_params', '_get_remote_call_msg', '_get_trait_default_generator', '_get_traj_by_id', '_gui', '_gui_theme', '_handle_control_comm_msg', '_handle_custom_msg', '_handle_msg', '_handle_msg_thread', '_handle_n_components_changed', '_handle_repr_dict_changed', '_holding_sync', '_ibtn_fullscreen', '_igui', '_image_array', '_image_data', '_init_gui', '_instance_inits', '_iplayer', '_ipython_display_', '_is_numpy', '_js', '_js_console', '_load_data', '_lock_property', '_log_default', '_model_id', '_model_module', '_model_module_version', '_model_name', '_msg_callbacks', '_ngl_color_dict', '_ngl_component_ids', '_ngl_component_names', '_ngl_coordinate_resource', '_ngl_displayed_callbacks_before_loaded', '_ngl_full_stage_parameters', '_ngl_msg', '_ngl_msg_archive', '_ngl_original_stage_parameters', '_ngl_repr_dict', '_ngl_serialize', '_ngl_version', '_ngl_view_id', '_notify_observers', '_notify_trait', '_on_frame_changed', '_on_picked', '_on_render_image', '_on_theme_changed', '_parameters', '_player_dict', '_property_lock', '_register_validator', '_remote_call', '_remote_call_thread', '_remove_notifiers', '_remove_representation', '_remove_representations_by_name', '_repr_keys', '_repr_mimebundle_', '_representations', '_request_repr_parameters', '_request_stage_parameters', '_run_on_another_thread', '_scene_position', '_scene_rotation', '_send', '_send_binary', '_set_camera_orientation', '_set_coordinates', '_set_selection', '_set_serialization', '_set_size', '_set_spin', '_set_sync_camera', '_set_sync_repr', '_set_unsync_camera', '_set_unsync_repr', '_should_send_property', '_states_to_send', '_static_immutable_initial_values', '_sync_with_layout', '_synced_model_ids', '_synced_repr_model_ids', '_theme', '_trait_default_generators', '_trait_from_json', '_trait_notifiers', '_trait_to_json', '_trait_validators', '_trait_values', '_traits', '_trajlist', '_trim_message', '_unset_serialization', '_update_background_color', '_update_component_auto_completion', '_update_max_frame', '_update_repr_dict', '_update_representations_by_name', '_validate_gui_style', '_view_count', '_view_height', '_view_module', '_view_module_version', '_view_name', '_view_width', '_wait_until_finished', '_widget_construction_callback', '_widget_image', '_widget_theme', '_widget_types', 'add_axes', 'add_backbone', 'add_ball_and_stick', 'add_cartoon', 'add_class', 'add_component', 'add_contact', 'add_distance', 'add_helixorient', 'add_hyperball', 'add_label', 'add_licorice', 'add_line', 'add_pdbid', 'add_point', 'add_principal_axes', 'add_representation', 'add_ribbon', 'add_rocket', 'add_rope', 'add_simplified_base', 'add_slice', 'add_spacefill', 'add_structure', 'add_surface', 'add_trace', 'add_traits', 'add_trajectory', 'add_tube', 'add_unitcell', 'background', 'blur', 'camera', 'center', 'center_view', 'class_own_trait_events', 'class_own_traits', 'class_trait_names', 'class_traits', 'clear', 'clear_representations', 'close', 'close_all', 'color_by', 'comm', 'component_0', 'control', 'cross_validation_lock', 'display', 'download_image', 'focus', 'frame', 'get_manager_state', 'get_state', 'get_view_spec', 'gui_style', 'handle_comm_opened', 'handle_control_comm_opened', 'handle_resize', 'has_trait', 'hide', 'hold_sync', 'hold_trait_notifications', 'keys', 'layout', 'loaded', 'log', 'max_frame', 'model_id', 'n_components', 'notify_change', 'observe', 'on_loaded', 'on_msg', 'on_trait_change', 'on_widget_constructed', 'open', 'parameters', 'picked', 'player', 'remove_axes', 'remove_backbone', 'remove_ball_and_stick', 'remove_cartoon', 'remove_class', 'remove_component', 'remove_contact', 'remove_distance', 'remove_helixorient', 'remove_hyperball', 'remove_label', 'remove_licorice', 'remove_line', 'remove_point', 'remove_principal_axes', 'remove_ribbon', 'remove_rocket', 'remove_rope', 'remove_simplified_base', 'remove_slice', 'remove_spacefill', 'remove_surface', 'remove_trace', 'remove_tube', 'remove_unitcell', 'render_image', 'representations', 'send', 'send_state', 'set_coordinates', 'set_representations', 'set_state', 'set_trait', 'setup_instance', 'shape', 'show', 'show_only', 'stage', 'tabbable', 'tooltip', 'trait_defaults', 'trait_events', 'trait_has_value', 'trait_metadata', 'trait_names', 'trait_values', 'traits', 'unobserve', 'unobserve_all', 'update_axes', 'update_backbone', 'update_ball_and_stick', 'update_cartoon', 'update_contact', 'update_distance', 'update_helixorient', 'update_hyperball', 'update_label', 'update_licorice', 'update_line', 'update_point', 'update_principal_axes', 'update_representation', 'update_ribbon', 'update_rocket', 'update_rope', 'update_simplified_base', 'update_slice', 'update_spacefill', 'update_surface', 'update_trace', 'update_tube', 'update_unitcell', 'widget_types', 'widgets']\n"
     ]
    }
   ],
   "source": [
    "v=_\n",
    "print(dir(v.view))"
   ]
  },
  {
   "cell_type": "code",
   "execution_count": 16,
   "metadata": {},
   "outputs": [
    {
     "name": "stdout",
     "output_type": "stream",
     "text": [
      "Full Formula (Zr2 Ta1 Ti3 V111 Cr3 W5)\n",
      "Reduced Formula: Zr2TaTi3V111Cr3W5\n",
      "abc   :  13.033682  13.033682  13.033682\n",
      "angles: 109.471221 109.471221 109.471221\n",
      "pbc   :       True       True       True\n",
      "Sites (125)\n",
      "  #  SP           a         b         c    tags\n",
      "---  ----  --------  --------  --------  ------\n",
      "  0  V     0.800406  0.001593  0.002073       0\n",
      "  1  V     0.602568  0.999584  0.997847       0\n",
      "  2  V     0.795845  0.194168  0.00246        0\n",
      "  3  V     0.80172   0.000345  0.201677       0\n",
      "  4  V     0.400092  0.998784  0.000226       0\n",
      "  5  Ti    0.601038  0.198962  0.99898        0\n",
      "  6  V     0.800429  0.401747  0.999564       0\n",
      "  7  V     0.595129  0.993995  0.197162       0\n",
      "  8  V     0.803063  0.202885  0.208094       0\n",
      "  9  V     0.792514  0.99785   0.393446       0\n",
      " 10  V     0.199498  0.999408  0.000292       0\n",
      " 11  V     0.399416  0.199218  0.998505       0\n",
      " 12  V     0.599013  0.400748  0.99864        0\n",
      " 13  V     0.797859  0.599204  0.999347       0\n",
      " 14  V     0.402552  0.998743  0.204648       0\n",
      " 15  V     0.607371  0.202824  0.206045       0\n",
      " 16  V     0.799163  0.398658  0.198554       0\n",
      " 17  V     0.598741  0.003404  0.402647       0\n",
      " 18  V     0.797928  0.205912  0.40262        0\n",
      " 19  V     0.796007  0.997379  0.595983       0\n",
      " 20  V     0.997436  0.996478  0.004072       0\n",
      " 21  V     0.200903  0.201456  2.8e-05        0\n",
      " 22  V     0.406851  0.404971  0.005946       0\n",
      " 23  V     0.601028  0.601051  0.999991       0\n",
      " 24  W     0.798061  0.793423  0.999147       0\n",
      " 25  V     0.199493  0.000474  0.198797       0\n",
      " 26  Cr    0.40856   0.202401  0.201145       0\n",
      " 27  V     0.602192  0.39413   0.200687       0\n",
      " 28  V     0.800069  0.598827  0.201185       0\n",
      " 29  V     0.399885  0.999994  0.401147       0\n",
      " 30  V     0.598761  0.200342  0.399469       0\n",
      " 31  V     0.796599  0.404458  0.402905       0\n",
      " 32  V     0.600866  0.003169  0.602825       0\n",
      " 33  V     0.798151  0.201359  0.598548       0\n",
      " 34  Zr    0.804741  0.002942  0.801676       0\n",
      " 35  V     0.999955  0.201222  0.000505       0\n",
      " 36  W     0.202232  0.402283  0.997163       0\n",
      " 37  V     0.395654  0.592865  0.993232       0\n",
      " 38  V     0.595136  0.795548  0.994883       0\n",
      " 39  V     0.996484  0.002483  0.195749       0\n",
      " 40  V     0.200251  0.200169  0.201041       0\n",
      " 41  V     0.403302  0.401978  0.198294       0\n",
      " 42  V     0.601845  0.605518  0.204061       0\n",
      " 43  V     0.796072  0.795357  0.198977       0\n",
      " 44  V     0.199522  0.002037  0.402582       0\n",
      " 45  V     0.40053   0.202384  0.404245       0\n",
      " 46  V     0.605326  0.402149  0.402967       0\n",
      " 47  V     0.805072  0.599324  0.401847       0\n",
      " 48  V     0.395284  0.999214  0.604377       0\n",
      " 49  V     0.597934  0.201591  0.597447       0\n",
      " 50  V     0.799865  0.399019  0.594674       0\n",
      " 51  V     0.59749   0.997621  0.794454       0\n",
      " 52  V     0.801101  0.196059  0.799699       0\n",
      " 53  V     0.000779  0.399676  0.000125       0\n",
      " 54  V     0.19967   0.597954  0.998462       0\n",
      " 55  Cr    0.399468  0.794803  0.998089       0\n",
      " 56  V     0.000961  0.200879  0.199437       0\n",
      " 57  V     0.196579  0.397312  0.197673       0\n",
      " 58  V     0.400201  0.598833  0.200074       0\n",
      " 59  V     0.600752  0.800395  0.201058       0\n",
      " 60  V     0.006041  0.006182  0.408814       0\n",
      " 61  V     0.201961  0.204677  0.396626       0\n",
      " 62  V     0.393618  0.39922   0.396075       0\n",
      " 63  V     0.601567  0.603826  0.400909       0\n",
      " 64  Zr    0.80069   0.794154  0.396641       0\n",
      " 65  V     0.200305  0.999491  0.600516       0\n",
      " 66  V     0.39717   0.20529   0.599004       0\n",
      " 67  V     0.598434  0.398075  0.598913       0\n",
      " 68  V     0.792368  0.595767  0.598842       0\n",
      " 69  Cr    0.401097  0.004117  0.805368       0\n",
      " 70  V     0.593399  0.195138  0.796176       0\n",
      " 71  V     0.802274  0.403264  0.795134       0\n",
      " 72  V     0.00587   0.597081  0.002499       0\n",
      " 73  V     0.197922  0.796676  0.998897       0\n",
      " 74  V     0.996122  0.399892  0.198141       0\n",
      " 75  V     0.206591  0.6072    0.203998       0\n",
      " 76  V     0.396566  0.793623  0.198063       0\n",
      " 77  V     0.993998  0.192158  0.393957       0\n",
      " 78  V     0.201064  0.397885  0.396834       0\n",
      " 79  V     0.402923  0.601737  0.400413       0\n",
      " 80  V     0.601402  0.800972  0.400288       0\n",
      " 81  V     0.007482  0.003283  0.600824       0\n",
      " 82  V     0.197826  0.196867  0.59872        0\n",
      " 83  V     0.399092  0.406392  0.599391       0\n",
      " 84  V     0.599575  0.600099  0.597114       0\n",
      " 85  V     0.797167  0.794503  0.59819        0\n",
      " 86  V     0.199936  9e-05     0.799196       0\n",
      " 87  V     0.397508  0.199219  0.800295       0\n",
      " 88  V     0.606788  0.407732  0.805112       0\n",
      " 89  V     0.804557  0.603804  0.79817        0\n",
      " 90  Ta    0.000522  0.799133  0.003716       0\n",
      " 91  V     0.99845   0.600859  0.200064       0\n",
      " 92  V     0.19999   0.793741  0.199927       0\n",
      " 93  V     0.994555  0.397584  0.393923       0\n",
      " 94  V     0.196821  0.595507  0.399722       0\n",
      " 95  V     0.403035  0.796128  0.40029        0\n",
      " 96  V     0.000656  0.194664  0.595145       0\n",
      " 97  V     0.199314  0.400585  0.595264       0\n",
      " 98  W     0.399228  0.599138  0.601207       0\n",
      " 99  V     0.598347  0.803681  0.601448       0\n",
      "100  W     0.993672  0.991328  0.793704       0\n",
      "101  V     0.203814  0.206469  0.808391       0\n",
      "102  V     0.393437  0.392113  0.79689        0\n",
      "103  W     0.603401  0.594773  0.797695       0\n",
      "104  V     0.801065  0.799397  0.796864       0\n",
      "105  V     0.999357  0.797812  0.201105       0\n",
      "106  V     0.006061  0.603549  0.40319        0\n",
      "107  V     0.199367  0.798907  0.39536        0\n",
      "108  Ti    0.998339  0.399417  0.600242       0\n",
      "109  V     0.206268  0.603367  0.603294       0\n",
      "110  V     0.404962  0.801334  0.596827       0\n",
      "111  V     0.999051  0.196013  0.796826       0\n",
      "112  V     0.199292  0.39875   0.798396       0\n",
      "113  V     0.40754   0.60334   0.806541       0\n",
      "114  V     0.602206  0.801211  0.801842       0\n",
      "115  Ti    0.003331  0.803048  0.397951       0\n",
      "116  V     0.000587  0.600692  0.599779       0\n",
      "117  V     0.202473  0.802264  0.598168       0\n",
      "118  V     0.002904  0.402033  0.806425       0\n",
      "119  V     0.194251  0.60109   0.799769       0\n",
      "120  V     0.401263  0.801299  0.801732       0\n",
      "121  V     0.997762  0.794906  0.596484       0\n",
      "122  V     0.002014  0.600105  0.804534       0\n",
      "123  V     0.198392  0.79891   0.805341       0\n",
      "124  V     1.5e-05   0.802142  0.798459       0\n"
     ]
    }
   ],
   "source": [
    "prim = structure.get_primitive_structure()\n",
    "print(prim)"
   ]
  },
  {
   "cell_type": "code",
   "execution_count": 24,
   "metadata": {},
   "outputs": [
    {
     "data": {
      "text/plain": [
       "[PeriodicNeighbor: Cr (3.073, 9.048, -3.011) [0.4011, 0.004117, 0.8054],\n",
       " PeriodicNeighbor: V (2.994, 8.988, -0.05749) [0.5934, 0.1951, 0.7962],\n",
       " PeriodicNeighbor: V (2.971, 12.05, -2.978) [0.6026, -0.000416, 0.9978],\n",
       " PeriodicNeighbor: V (3.016, 12.07, -0.09366) [0.7958, 0.1942, 1.002],\n",
       " PeriodicNeighbor: V (6.005, 12.03, -0.005522) [0.7992, 0.3987, 1.199]]"
      ]
     },
     "execution_count": 24,
     "metadata": {},
     "output_type": "execute_result"
    }
   ],
   "source": [
    "import numpy as np \n",
    "alat = 3.01\n",
    "site = structure[5]\n",
    "n_dist = alat * np.sqrt(3)/2\n",
    "structure.get_neighbors(site=site,r=n_dist)"
   ]
  },
  {
   "cell_type": "code",
   "execution_count": 27,
   "metadata": {},
   "outputs": [
    {
     "ename": "AttributeError",
     "evalue": "'Structure' object has no attribute 'get_all_neighbors_'",
     "output_type": "error",
     "traceback": [
      "\u001b[0;31m---------------------------------------------------------------------------\u001b[0m",
      "\u001b[0;31mAttributeError\u001b[0m                            Traceback (most recent call last)",
      "Cell \u001b[0;32mIn[27], line 1\u001b[0m\n\u001b[0;32m----> 1\u001b[0m \u001b[43mstructure\u001b[49m\u001b[38;5;241;43m.\u001b[39;49m\u001b[43mget_all_neighbors_\u001b[49m\n",
      "\u001b[0;31mAttributeError\u001b[0m: 'Structure' object has no attribute 'get_all_neighbors_'"
     ]
    }
   ],
   "source": []
  },
  {
   "cell_type": "code",
   "execution_count": 7,
   "metadata": {},
   "outputs": [
    {
     "name": "stdout",
     "output_type": "stream",
     "text": [
      "Atoms(symbols='Cr3TaTi3V111W5Zr2', pbc=True, cell=[[-7.5249999999999995, 7.5249999999999995, 7.5249999999999995], [7.5249999999999995, -7.5249999999999995, 7.5249999999999995], [7.5249999999999995, 7.5249999999999995, -7.5249999999999995]], tags=...)\n"
     ]
    }
   ],
   "source": [
    "cutoffs = []\n",
    "nl = NeighborList(cutoffs)"
   ]
  }
 ],
 "metadata": {
  "kernelspec": {
   "display_name": "Python 3 (ipykernel)",
   "language": "python",
   "name": "python3"
  },
  "language_info": {
   "codemirror_mode": {
    "name": "ipython",
    "version": 3
   },
   "file_extension": ".py",
   "mimetype": "text/x-python",
   "name": "python",
   "nbconvert_exporter": "python",
   "pygments_lexer": "ipython3",
   "version": "3.10.13"
  }
 },
 "nbformat": 4,
 "nbformat_minor": 4
}
