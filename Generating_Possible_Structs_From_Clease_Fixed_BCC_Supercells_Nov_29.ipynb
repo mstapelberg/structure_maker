{
 "cells": [
  {
   "cell_type": "code",
   "execution_count": 1,
   "id": "ceac6b3b",
   "metadata": {},
   "outputs": [],
   "source": [
    "import numpy as np"
   ]
  },
  {
   "cell_type": "code",
   "execution_count": 4,
   "id": "46a7f86f",
   "metadata": {},
   "outputs": [],
   "source": [
    "import clease\n",
    "from clease.settings import Concentration\n",
    "import numpy as np\n",
    "from clease.settings import CEBulk\n",
    "from clease.structgen import NewStructures\n",
    "from ase.db import connect\n",
    "from ase.io import write\n",
    "from pymatgen.io.ase import AseAtomsAdaptor\n",
    "from pymatgen.transformations.standard_transformations import PerturbStructureTransformation\n",
    "from pymatgen.io.cif import CifWriter\n",
    "import json, os \n"
   ]
  },
  {
   "cell_type": "code",
   "execution_count": 10,
   "id": "10aececd",
   "metadata": {},
   "outputs": [],
   "source": [
    "def closest_composition(comp, num_atoms):\n",
    "    # Calculate the total fraction\n",
    "    total_fraction = sum(comp.values())\n",
    "    \n",
    "    # Calculate the number of atoms for each element\n",
    "    atoms = {element: fraction / total_fraction * num_atoms for element, fraction in comp.items()}\n",
    "    \n",
    "    # Round up non-integer atom counts and adjust the first element to balance\n",
    "    elements = list(atoms.keys())\n",
    "    for i in range(1, len(elements)):\n",
    "        if atoms[elements[i]] % 1 != 0:\n",
    "            atoms[elements[i]] = int(atoms[elements[i]]) + 1\n",
    "            #num_atoms += 1\n",
    "\n",
    "    atoms[elements[0]] = num_atoms - sum(atoms[elements[i]] for i in range(1, len(elements)))\n",
    "    \n",
    "    # Calculate the actual fractions\n",
    "    actual_fractions = {element: num / num_atoms for element, num in atoms.items()}\n",
    "    \n",
    "    return atoms, actual_fractions\n",
    "\n",
    "def create_random_supercells(composition,alat,supercell_size,db_name,num_structures):\n",
    "    A_eq = [[1.0, 0.0, 0.0],[0.0, 1.0, 0.0],[0.0, 0.0, 1.0]]\n",
    "    b_eq = composition.values()\n",
    "    conc = Concentration(basis_elements=[list(composition.keys())],\n",
    "                         A_eq = A_eq,\n",
    "                         b_eq = b_eq)\n",
    "    settings = CEBulk(crystalstructure='bcc',\n",
    "                      a=alat,\n",
    "                      size=[supercell_size,supercell_size,supercell_size],\n",
    "                      concentration=conc,\n",
    "                      db_name=db_name,\n",
    "                      max_cluster_dia=[6.0, 4.5, 4.5])\n",
    "    \n",
    "\n",
    "\n",
    "    ns = NewStructures(settings, generation_number=1,\n",
    "                    struct_per_gen=num_structures)\n",
    "    ns.generate_random_structures()\n",
    "\n",
    "def connect_ase_db(db_name):\n",
    "    from ase.db import connect\n",
    "    atoms = connect(db_name)\n",
    "    print(len(atoms))\n",
    "    for idx in range(len(atoms)):\n",
    "        curr_struct = atoms.get(id=idx+1).toatoms()\n",
    "        print(curr_struct)\n",
    "    return atoms\n",
    "\n",
    "        \n",
    "def ase_db_to_pymatgen(db_name,output_file=None):\n",
    "\n",
    "    data = {}\n",
    "    Adaptor = AseAtomsAdaptor()\n",
    "    atoms = connect(db_name) \n",
    "\n",
    "    for idx in range(2,len(atoms)+1):\n",
    "        \n",
    "        curr_struct = atoms.get(id=idx).toatoms()\n",
    "        \n",
    "        curr_pymatgen = Adaptor.get_structure(curr_struct)\n",
    "        \n",
    "        \n",
    "        trans = PerturbStructureTransformation(distance=0.1, min_distance=0.01)\n",
    "        distorted_struct = trans.apply_transformation(curr_pymatgen)\n",
    "        \n",
    "        data = {f'{idx}':distorted_struct.as_dict()}\n",
    "        \n",
    "        if output_file is not None:\n",
    "            with open(output_file, 'w') as f:\n",
    "                json.dump(data, f,)\n",
    "        else:\n",
    "            return data\n",
    "        "
   ]
  },
  {
   "cell_type": "code",
   "execution_count": 11,
   "id": "288677e7",
   "metadata": {},
   "outputs": [
    {
     "name": "stdout",
     "output_type": "stream",
     "text": [
      "Number of atoms for each element: {'V': 58, 'Cr': 3, 'Ti': 3}\n",
      "Actual fractions for each element: {'V': 0.90625, 'Cr': 0.046875, 'Ti': 0.046875}\n"
     ]
    }
   ],
   "source": [
    "comp = {'V' : 0.92 , 'Cr' : 0.04, 'Ti' : 0.04}\n",
    "num_atoms = 64\n",
    "atoms, actual_fractions = closest_composition(comp, num_atoms)\n",
    "\n",
    "print(\"Number of atoms for each element:\", atoms)\n",
    "print(\"Actual fractions for each element:\", actual_fractions)"
   ]
  },
  {
   "cell_type": "code",
   "execution_count": 12,
   "id": "236c0588",
   "metadata": {},
   "outputs": [
    {
     "ename": "TypeError",
     "evalue": "Concentration.__init__() got an unexpected keyword argument 'db_name'",
     "output_type": "error",
     "traceback": [
      "\u001b[0;31m---------------------------------------------------------------------------\u001b[0m",
      "\u001b[0;31mTypeError\u001b[0m                                 Traceback (most recent call last)",
      "Cell \u001b[0;32mIn[12], line 1\u001b[0m\n\u001b[0;32m----> 1\u001b[0m \u001b[43mcreate_random_supercells\u001b[49m\u001b[43m(\u001b[49m\u001b[43mcomposition\u001b[49m\u001b[38;5;241;43m=\u001b[39;49m\u001b[43mcomp\u001b[49m\u001b[43m,\u001b[49m\n\u001b[1;32m      2\u001b[0m \u001b[43m                         \u001b[49m\u001b[43malat\u001b[49m\u001b[43m \u001b[49m\u001b[38;5;241;43m=\u001b[39;49m\u001b[43m \u001b[49m\u001b[38;5;241;43m3.0\u001b[39;49m\u001b[43m,\u001b[49m\n\u001b[1;32m      3\u001b[0m \u001b[43m                         \u001b[49m\u001b[43msupercell_size\u001b[49m\u001b[38;5;241;43m=\u001b[39;49m\u001b[38;5;241;43m4\u001b[39;49m\u001b[43m,\u001b[49m\n\u001b[1;32m      4\u001b[0m \u001b[43m                         \u001b[49m\u001b[43mdb_name\u001b[49m\u001b[38;5;241;43m=\u001b[39;49m\u001b[38;5;124;43m'\u001b[39;49m\u001b[38;5;124;43mv4cr4ti.db\u001b[39;49m\u001b[38;5;124;43m'\u001b[39;49m\u001b[43m,\u001b[49m\n\u001b[1;32m      5\u001b[0m \u001b[43m                         \u001b[49m\u001b[43mnum_structures\u001b[49m\u001b[38;5;241;43m=\u001b[39;49m\u001b[38;5;241;43m30\u001b[39;49m\u001b[43m)\u001b[49m\n",
      "Cell \u001b[0;32mIn[10], line 25\u001b[0m, in \u001b[0;36mcreate_random_supercells\u001b[0;34m(composition, alat, supercell_size, db_name, num_structures)\u001b[0m\n\u001b[1;32m     23\u001b[0m A_eq \u001b[38;5;241m=\u001b[39m [[\u001b[38;5;241m1.0\u001b[39m, \u001b[38;5;241m0.0\u001b[39m, \u001b[38;5;241m0.0\u001b[39m],[\u001b[38;5;241m0.0\u001b[39m, \u001b[38;5;241m1.0\u001b[39m, \u001b[38;5;241m0.0\u001b[39m],[\u001b[38;5;241m0.0\u001b[39m, \u001b[38;5;241m0.0\u001b[39m, \u001b[38;5;241m1.0\u001b[39m]]\n\u001b[1;32m     24\u001b[0m b_eq \u001b[38;5;241m=\u001b[39m composition\u001b[38;5;241m.\u001b[39mvalues()\n\u001b[0;32m---> 25\u001b[0m conc \u001b[38;5;241m=\u001b[39m \u001b[43mConcentration\u001b[49m\u001b[43m(\u001b[49m\u001b[43mbasis_elements\u001b[49m\u001b[38;5;241;43m=\u001b[39;49m\u001b[43m[\u001b[49m\u001b[38;5;28;43mlist\u001b[39;49m\u001b[43m(\u001b[49m\u001b[43mcomposition\u001b[49m\u001b[38;5;241;43m.\u001b[39;49m\u001b[43mkeys\u001b[49m\u001b[43m(\u001b[49m\u001b[43m)\u001b[49m\u001b[43m)\u001b[49m\u001b[43m]\u001b[49m\u001b[43m,\u001b[49m\n\u001b[1;32m     26\u001b[0m \u001b[43m                     \u001b[49m\u001b[43mdb_name\u001b[49m\u001b[38;5;241;43m=\u001b[39;49m\u001b[43mdb_name\u001b[49m\u001b[43m,\u001b[49m\n\u001b[1;32m     27\u001b[0m \u001b[43m                     \u001b[49m\u001b[43mA_eq\u001b[49m\u001b[43m \u001b[49m\u001b[38;5;241;43m=\u001b[39;49m\u001b[43m \u001b[49m\u001b[43mA_eq\u001b[49m\u001b[43m,\u001b[49m\n\u001b[1;32m     28\u001b[0m \u001b[43m                     \u001b[49m\u001b[43mb_eq\u001b[49m\u001b[43m \u001b[49m\u001b[38;5;241;43m=\u001b[39;49m\u001b[43m \u001b[49m\u001b[43mb_eq\u001b[49m\u001b[43m)\u001b[49m\n\u001b[1;32m     29\u001b[0m settings \u001b[38;5;241m=\u001b[39m CEBulk(crystalstructure\u001b[38;5;241m=\u001b[39m\u001b[38;5;124m'\u001b[39m\u001b[38;5;124mbcc\u001b[39m\u001b[38;5;124m'\u001b[39m,\n\u001b[1;32m     30\u001b[0m                   a\u001b[38;5;241m=\u001b[39malat,\n\u001b[1;32m     31\u001b[0m                   size\u001b[38;5;241m=\u001b[39m[supercell_size,supercell_size,supercell_size],\n\u001b[1;32m     32\u001b[0m                   concentration\u001b[38;5;241m=\u001b[39mconc,\n\u001b[1;32m     33\u001b[0m                   db_name\u001b[38;5;241m=\u001b[39mdb_name,\n\u001b[1;32m     34\u001b[0m                   max_cluster_dia\u001b[38;5;241m=\u001b[39m[\u001b[38;5;241m6.0\u001b[39m, \u001b[38;5;241m4.5\u001b[39m, \u001b[38;5;241m4.5\u001b[39m])\n\u001b[1;32m     38\u001b[0m ns \u001b[38;5;241m=\u001b[39m NewStructures(settings, generation_number\u001b[38;5;241m=\u001b[39m\u001b[38;5;241m1\u001b[39m,\n\u001b[1;32m     39\u001b[0m                 struct_per_gen\u001b[38;5;241m=\u001b[39mnum_structures)\n",
      "\u001b[0;31mTypeError\u001b[0m: Concentration.__init__() got an unexpected keyword argument 'db_name'"
     ]
    }
   ],
   "source": [
    "create_random_supercells(composition=comp,\n",
    "                         alat = 3.0,\n",
    "                         supercell_size=4,\n",
    "                         db_name='v4cr4ti.db',\n",
    "                         num_structures=30)"
   ]
  },
  {
   "cell_type": "code",
   "execution_count": 3,
   "id": "d16e3e47",
   "metadata": {},
   "outputs": [],
   "source": [
    "from clease.settings import Concentration\n",
    "\n",
    "A_eq = [[1.0, 0.0, 0.0],[0.0, 1.0, 0.0],[0.0, 0.0, 1.0]]\n",
    "b_eq = [0.90625,0.046875,0.046875]\n",
    "conc = Concentration(basis_elements=[[\"V\",\"Cr\",\"Ti\"]], A_eq=A_eq, b_eq=b_eq)"
   ]
  },
  {
   "cell_type": "code",
   "execution_count": 4,
   "id": "8d7bc72f",
   "metadata": {},
   "outputs": [],
   "source": [
    "from clease.settings import CEBulk\n",
    "settings = CEBulk(crystalstructure='bcc',\n",
    "                  a=3.0,\n",
    "                  size=[4,4,4],\n",
    "                  concentration=conc,\n",
    "                  db_name=\"V_Cr_Ti_random_supercells_Nov_29_2023.db\",\n",
    "                  max_cluster_dia=[6.0, 4.5, 4.5])"
   ]
  },
  {
   "cell_type": "code",
   "execution_count": 5,
   "id": "e9e4f5e8",
   "metadata": {},
   "outputs": [],
   "source": [
    "from clease.structgen import NewStructures\n",
    "\n",
    "\n",
    "ns = NewStructures(settings, generation_number=1,\n",
    "                   struct_per_gen=10)\n",
    "ns.generate_random_structures()\n"
   ]
  },
  {
   "cell_type": "code",
   "execution_count": 6,
   "id": "c60af5c7",
   "metadata": {},
   "outputs": [],
   "source": [
    "A_eq = [[1.0, 0.0, 0.0],[0.0, 1.0, 0.0],[0.0, 0.0, 1.0]]\n",
    "b_eq = [0.65625,0.171875,0.171875]\n",
    "conc = Concentration(basis_elements=[[\"V\",\"Cr\",\"Ti\"]], A_eq=A_eq, b_eq=b_eq)"
   ]
  },
  {
   "cell_type": "code",
   "execution_count": 7,
   "id": "b1426fee",
   "metadata": {},
   "outputs": [],
   "source": [
    "from clease.settings import CEBulk\n",
    "settings = CEBulk(crystalstructure='bcc',\n",
    "                  a=3.0,\n",
    "                  size=[4,4,4],\n",
    "                  concentration=conc,\n",
    "                  db_name=\"V_Cr_Ti_random_supercells_Nov_29_2023.db\",\n",
    "                  max_cluster_dia=[6.0, 4.5, 4.5])"
   ]
  },
  {
   "cell_type": "code",
   "execution_count": 8,
   "id": "93742842",
   "metadata": {},
   "outputs": [],
   "source": [
    "\n",
    "ns = NewStructures(settings, generation_number=2,\n",
    "                   struct_per_gen=10)\n",
    "ns.generate_random_structures()"
   ]
  },
  {
   "cell_type": "code",
   "execution_count": 9,
   "id": "4e64bc80",
   "metadata": {},
   "outputs": [],
   "source": [
    "A_eq = [[1.0, 0.0, 0.0],[0.0, 1.0, 0.0],[0.0, 0.0, 1.0]]\n",
    "b_eq = [0.4375,0.28125,0.28125]\n",
    "conc = Concentration(basis_elements=[[\"V\",\"Cr\",\"Ti\"]], A_eq=A_eq, b_eq=b_eq)"
   ]
  },
  {
   "cell_type": "code",
   "execution_count": 10,
   "id": "ed35f6c7",
   "metadata": {},
   "outputs": [],
   "source": [
    "from clease.settings import CEBulk\n",
    "settings = CEBulk(crystalstructure='bcc',\n",
    "                  a=3.0,\n",
    "                  size=[4,4,4],\n",
    "                  concentration=conc,\n",
    "                  db_name=\"V_Cr_Ti_random_supercells_Nov_29_2023.db\",\n",
    "                  max_cluster_dia=[6.0, 4.5, 4.5])"
   ]
  },
  {
   "cell_type": "code",
   "execution_count": 11,
   "id": "df6c805d",
   "metadata": {},
   "outputs": [],
   "source": [
    "\n",
    "ns = NewStructures(settings, generation_number=3,\n",
    "                   struct_per_gen=10)\n",
    "ns.generate_random_structures()"
   ]
  },
  {
   "cell_type": "code",
   "execution_count": 12,
   "id": "c51b3279",
   "metadata": {},
   "outputs": [
    {
     "name": "stdout",
     "output_type": "stream",
     "text": [
      "31\n",
      "Atoms(symbols='V', pbc=True, cell=[[-1.5, 1.5, 1.5], [1.5, -1.5, 1.5], [1.5, 1.5, -1.5]], tags=...)\n",
      "Atoms(symbols='Cr3Ti3V58', pbc=True, cell=[[-6.0, 6.0, 6.0], [6.0, -6.0, 6.0], [6.0, 6.0, -6.0]], tags=...)\n",
      "Atoms(symbols='Cr3Ti3V58', pbc=True, cell=[[-6.0, 6.0, 6.0], [6.0, -6.0, 6.0], [6.0, 6.0, -6.0]], tags=...)\n",
      "Atoms(symbols='Cr3Ti3V58', pbc=True, cell=[[-6.0, 6.0, 6.0], [6.0, -6.0, 6.0], [6.0, 6.0, -6.0]], tags=...)\n",
      "Atoms(symbols='Cr3Ti3V58', pbc=True, cell=[[-6.0, 6.0, 6.0], [6.0, -6.0, 6.0], [6.0, 6.0, -6.0]], tags=...)\n",
      "Atoms(symbols='Cr3Ti3V58', pbc=True, cell=[[-6.0, 6.0, 6.0], [6.0, -6.0, 6.0], [6.0, 6.0, -6.0]], tags=...)\n",
      "Atoms(symbols='Cr3Ti3V58', pbc=True, cell=[[-6.0, 6.0, 6.0], [6.0, -6.0, 6.0], [6.0, 6.0, -6.0]], tags=...)\n",
      "Atoms(symbols='Cr3Ti3V58', pbc=True, cell=[[-6.0, 6.0, 6.0], [6.0, -6.0, 6.0], [6.0, 6.0, -6.0]], tags=...)\n",
      "Atoms(symbols='Cr3Ti3V58', pbc=True, cell=[[-6.0, 6.0, 6.0], [6.0, -6.0, 6.0], [6.0, 6.0, -6.0]], tags=...)\n",
      "Atoms(symbols='Cr3Ti3V58', pbc=True, cell=[[-6.0, 6.0, 6.0], [6.0, -6.0, 6.0], [6.0, 6.0, -6.0]], tags=...)\n",
      "Atoms(symbols='Cr3Ti3V58', pbc=True, cell=[[-6.0, 6.0, 6.0], [6.0, -6.0, 6.0], [6.0, 6.0, -6.0]], tags=...)\n",
      "Atoms(symbols='Cr11Ti11V42', pbc=True, cell=[[-6.0, 6.0, 6.0], [6.0, -6.0, 6.0], [6.0, 6.0, -6.0]], tags=...)\n",
      "Atoms(symbols='Cr11Ti11V42', pbc=True, cell=[[-6.0, 6.0, 6.0], [6.0, -6.0, 6.0], [6.0, 6.0, -6.0]], tags=...)\n",
      "Atoms(symbols='Cr11Ti11V42', pbc=True, cell=[[-6.0, 6.0, 6.0], [6.0, -6.0, 6.0], [6.0, 6.0, -6.0]], tags=...)\n",
      "Atoms(symbols='Cr11Ti11V42', pbc=True, cell=[[-6.0, 6.0, 6.0], [6.0, -6.0, 6.0], [6.0, 6.0, -6.0]], tags=...)\n",
      "Atoms(symbols='Cr11Ti11V42', pbc=True, cell=[[-6.0, 6.0, 6.0], [6.0, -6.0, 6.0], [6.0, 6.0, -6.0]], tags=...)\n",
      "Atoms(symbols='Cr11Ti11V42', pbc=True, cell=[[-6.0, 6.0, 6.0], [6.0, -6.0, 6.0], [6.0, 6.0, -6.0]], tags=...)\n",
      "Atoms(symbols='Cr11Ti11V42', pbc=True, cell=[[-6.0, 6.0, 6.0], [6.0, -6.0, 6.0], [6.0, 6.0, -6.0]], tags=...)\n",
      "Atoms(symbols='Cr11Ti11V42', pbc=True, cell=[[-6.0, 6.0, 6.0], [6.0, -6.0, 6.0], [6.0, 6.0, -6.0]], tags=...)\n",
      "Atoms(symbols='Cr11Ti11V42', pbc=True, cell=[[-6.0, 6.0, 6.0], [6.0, -6.0, 6.0], [6.0, 6.0, -6.0]], tags=...)\n",
      "Atoms(symbols='Cr11Ti11V42', pbc=True, cell=[[-6.0, 6.0, 6.0], [6.0, -6.0, 6.0], [6.0, 6.0, -6.0]], tags=...)\n",
      "Atoms(symbols='Cr18Ti18V28', pbc=True, cell=[[-6.0, 6.0, 6.0], [6.0, -6.0, 6.0], [6.0, 6.0, -6.0]], tags=...)\n",
      "Atoms(symbols='Cr18Ti18V28', pbc=True, cell=[[-6.0, 6.0, 6.0], [6.0, -6.0, 6.0], [6.0, 6.0, -6.0]], tags=...)\n",
      "Atoms(symbols='Cr18Ti18V28', pbc=True, cell=[[-6.0, 6.0, 6.0], [6.0, -6.0, 6.0], [6.0, 6.0, -6.0]], tags=...)\n",
      "Atoms(symbols='Cr18Ti18V28', pbc=True, cell=[[-6.0, 6.0, 6.0], [6.0, -6.0, 6.0], [6.0, 6.0, -6.0]], tags=...)\n",
      "Atoms(symbols='Cr18Ti18V28', pbc=True, cell=[[-6.0, 6.0, 6.0], [6.0, -6.0, 6.0], [6.0, 6.0, -6.0]], tags=...)\n",
      "Atoms(symbols='Cr18Ti18V28', pbc=True, cell=[[-6.0, 6.0, 6.0], [6.0, -6.0, 6.0], [6.0, 6.0, -6.0]], tags=...)\n",
      "Atoms(symbols='Cr18Ti18V28', pbc=True, cell=[[-6.0, 6.0, 6.0], [6.0, -6.0, 6.0], [6.0, 6.0, -6.0]], tags=...)\n",
      "Atoms(symbols='Cr18Ti18V28', pbc=True, cell=[[-6.0, 6.0, 6.0], [6.0, -6.0, 6.0], [6.0, 6.0, -6.0]], tags=...)\n",
      "Atoms(symbols='Cr18Ti18V28', pbc=True, cell=[[-6.0, 6.0, 6.0], [6.0, -6.0, 6.0], [6.0, 6.0, -6.0]], tags=...)\n",
      "Atoms(symbols='Cr18Ti18V28', pbc=True, cell=[[-6.0, 6.0, 6.0], [6.0, -6.0, 6.0], [6.0, 6.0, -6.0]], tags=...)\n"
     ]
    }
   ],
   "source": [
    "from ase.db import connect\n",
    "atoms = connect('V_Cr_Ti_random_supercells_Nov_29_2023.db')\n",
    "print(len(atoms))\n",
    "for idx in range(len(atoms)):\n",
    "    curr_struct = atoms.get(id=idx+1).toatoms()\n",
    "    print(curr_struct)"
   ]
  },
  {
   "cell_type": "code",
   "execution_count": null,
   "id": "aef0c4e6",
   "metadata": {},
   "outputs": [],
   "source": []
  },
  {
   "cell_type": "code",
   "execution_count": 13,
   "id": "79be48c7",
   "metadata": {},
   "outputs": [],
   "source": [
    "from ase.io import write\n",
    "from pymatgen.io.ase import AseAtomsAdaptor\n",
    "from pymatgen.transformations.standard_transformations import PerturbStructureTransformation\n",
    "from pymatgen.io.cif import CifWriter\n",
    "\n",
    "Adaptor = AseAtomsAdaptor()\n",
    "\n",
    "for idx in range(2,len(atoms)+1):\n",
    "    \n",
    "    curr_struct = atoms.get(id=idx).toatoms()\n",
    "    \n",
    "    curr_pymatgen = Adaptor.get_structure(curr_struct)\n",
    "    \n",
    "    \n",
    "    trans = PerturbStructureTransformation(distance=0.1, min_distance=0.01)\n",
    "    distorted_struct = trans.apply_transformation(curr_pymatgen)\n",
    "    \n",
    "    writer = CifWriter(distorted_struct)\n",
    "    writer.write_file(\"VCrTi_Supercells_Nov_29_2023/Struct_num\"+str(idx)+\".cif\")"
   ]
  },
  {
   "cell_type": "code",
   "execution_count": 14,
   "id": "a00290de",
   "metadata": {},
   "outputs": [
    {
     "name": "stdout",
     "output_type": "stream",
     "text": [
      "31\n"
     ]
    }
   ],
   "source": [
    "print(len(atoms))"
   ]
  },
  {
   "cell_type": "code",
   "execution_count": null,
   "id": "c213de7d",
   "metadata": {},
   "outputs": [],
   "source": []
  }
 ],
 "metadata": {
  "kernelspec": {
   "display_name": "smol",
   "language": "python",
   "name": "python3"
  },
  "language_info": {
   "codemirror_mode": {
    "name": "ipython",
    "version": 3
   },
   "file_extension": ".py",
   "mimetype": "text/x-python",
   "name": "python",
   "nbconvert_exporter": "python",
   "pygments_lexer": "ipython3",
   "version": "3.10.0"
  }
 },
 "nbformat": 4,
 "nbformat_minor": 5
}
