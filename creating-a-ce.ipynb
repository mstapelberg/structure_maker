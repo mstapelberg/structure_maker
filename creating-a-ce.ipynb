{
 "cells": [
  {
   "cell_type": "markdown",
   "metadata": {},
   "source": [
    "# Creating a basic Cluster Expansion"
   ]
  },
  {
   "cell_type": "code",
   "execution_count": 2,
   "metadata": {},
   "outputs": [
    {
     "name": "stdout",
     "output_type": "stream",
     "text": [
      "No module named 'phonopy'\n"
     ]
    }
   ],
   "source": [
    "import random\n",
    "import numpy as np\n",
    "from monty.serialization import loadfn, dumpfn\n",
    "from pymatgen.core.structure import Structure\n",
    "from smol.cofe import ClusterSubspace, StructureWrangler, ClusterExpansion, RegressionData"
   ]
  },
  {
   "cell_type": "code",
   "execution_count": 3,
   "metadata": {},
   "outputs": [],
   "source": [
    "# load the prim structure\n",
    "#prim_path = '/Users/myless/Dropbox (MIT)/Research/2024/Spring_2024/Computation/structure_maker/v4cr4ti_prim_cell.json'\n",
    "prim_path = '/home/myless/Packages/structure_maker/vcrtiwzr_prim_entry.json'\n",
    "lno_prim = loadfn(prim_path)\n",
    "    \n",
    "# load the fitting data\n",
    "#entry_path = '/Users/myless/Dropbox (MIT)/Research/2024/Spring_2024/Computation/structure_maker/vcrti_fixed_entries.json'\n",
    "entry_path = '/home/myless/Packages/structure_maker/vcrtiwzr_cse.json'\n",
    "lno_entries = loadfn(entry_path)"
   ]
  },
  {
   "cell_type": "markdown",
   "metadata": {},
   "source": [
    "### 0) The prim structure\n",
    "The prim structure defines the **configurational space** for the Cluster Expansion. \n",
    "The **configurational space** is defined by the site **compositional spaces** and the crystal symetries of the prim structure.\n",
    "The occupancy of the sites determine site **compositional spaces**. Sites are **active** if they have compositional degrees of freedom.\n",
    "\n",
    "\n",
    "Active sites have fractional compositions. Vacancies are allowed in sites where the composition does not sum to one.\n",
    "\n",
    "0. Is active. The allowed species are: Li+ and vacancies.\n",
    "1. Is active. The allowed species are: Ni3+ and Ni4+.\n",
    "2. Is not active. Only O2- is allowed.\n",
    "3. Is not active. Only O2- is allowed."
   ]
  },
  {
   "cell_type": "code",
   "execution_count": 4,
   "metadata": {},
   "outputs": [
    {
     "name": "stdout",
     "output_type": "stream",
     "text": [
      "Full Formula (Zr0.02 Ti0.04 V0.18 Cr0.04 W0.08)\n",
      "Reduced Formula: Zr0.02Ti0.04V0.18Cr0.04W0.08\n",
      "abc   :   3.010000   3.010000   3.010000\n",
      "angles:  90.000000  90.000000  90.000000\n",
      "pbc   :       True       True       True\n",
      "Sites (2)\n",
      "  #  SP                                                a    b    c\n",
      "---  ----------------------------------------------  ---  ---  ---\n",
      "  0  Zr:0.010, Ti:0.020, V:0.090, Cr:0.020, W:0.040  0    0    0\n",
      "  1  Zr:0.010, Ti:0.020, V:0.090, Cr:0.020, W:0.040  0.5  0.5  0.5\n"
     ]
    }
   ],
   "source": [
    "print(lno_prim)"
   ]
  },
  {
   "cell_type": "markdown",
   "metadata": {},
   "source": [
    "### 1) The cluster subspace\n",
    "The `ClusterSubspace` represents all the orbits (groups of equivalent clusters) that will be considered when fitting the cluster expansion. Its main purpose is to compute the **correlations functions** for each included orbit given a structure in the compositional space defined by the prim.\n",
    "\n",
    "In order to do be able to compute the correlation functions, the given structure must match the prim structure in a \"crystallographic\" sense but allowing for compositional degrees of freedom in the \"active\" sites.\n",
    "\n",
    "A cluster subspace most easily created by providing:\n",
    "1. The prim structure representing the configurational space.\n",
    "2. A set of diameter cutoffs for each size of orbit we want to consider.\n",
    "3. A type of site basis function to use.\n",
    "\n",
    "There are more options allowed by the code to fine grain and tune. See other notebooks for advanced use cases."
   ]
  },
  {
   "cell_type": "code",
   "execution_count": 5,
   "metadata": {},
   "outputs": [
    {
     "name": "stdout",
     "output_type": "stream",
     "text": [
      "Basis/Orthogonal/Orthonormal : sinusoid/True/False\n",
      "       Unit Cell Composition : V0.18 Cr0.04 Ti0.04 Zr0.02 W0.08\n",
      "            Number of Orbits : 7\n",
      "No. of Correlation Functions : 141\n",
      "             Cluster Cutoffs : 2: 4.99, 3: 3.01\n",
      "              External Terms : []\n",
      "Orbit Summary\n",
      " ------------------------------------------------------------------------\n",
      " |  ID     Degree    Cluster Diameter    Multiplicity    No. Functions  |\n",
      " |   0       0             NA                 0                1        |\n",
      " |   1       1            0.0000              2                5        |\n",
      " |   2       2            2.6067              8               15        |\n",
      " |   3       2            3.0100              6               15        |\n",
      " |   4       2            4.2568              12              15        |\n",
      " |   5       2            4.9915              24              15        |\n",
      " |   6       3            3.0100              24              75        |\n",
      " ------------------------------------------------------------------------\n"
     ]
    }
   ],
   "source": [
    "subspace = ClusterSubspace.from_cutoffs(\n",
    "    lno_prim,\n",
    "    cutoffs={2: 5, 3: 4.1}, # will include orbits of 2 and 3 sites.\n",
    "    basis='sinusoid', # sets the site basis type, default is indicator\n",
    "    supercell_size='num_sites'\n",
    ")\n",
    "\n",
    "# supercell_size specifies the method to determine the supercell size\n",
    "# when trying to match a structure.\n",
    "# (See pymatgen.structure_matcher.StructureMatcher for more info)\n",
    "\n",
    "print(subspace) # single site and empty orbits are always included."
   ]
  },
  {
   "cell_type": "markdown",
   "metadata": {},
   "source": [
    "#### 1.1) Computing a correlation vector.\n",
    "A correlation vector for a specific structure (represents the feature vector) used to train and predict target values."
   ]
  },
  {
   "cell_type": "code",
   "execution_count": 6,
   "metadata": {},
   "outputs": [
    {
     "name": "stdout",
     "output_type": "stream",
     "text": [
      "The correlation vector for a structure with composition Zr2 Ti12 V38 Cr8 W4 is: \n",
      "[ 1.          0.328125   -0.62245576  0.265625    0.29769623 -0.375\n",
      "  0.06835937 -0.21312344  0.09667969  0.0727326  -0.11328125  0.39257812\n",
      " -0.18436869 -0.20214844  0.26386712  0.0859375   0.09810444 -0.10546875\n",
      "  0.08203125 -0.115019    0.109375    0.14192708 -0.19395361  0.08203125\n",
      "  0.13080592 -0.15885417  0.38671875 -0.16237976 -0.16796875  0.2119958\n",
      "  0.07421875  0.08118988 -0.1171875   0.10546875 -0.13982702  0.20833333\n",
      "  0.11132812 -0.21086816  0.0859375   0.11952955 -0.14453125  0.38085938\n",
      " -0.16914559 -0.1796875   0.23229327  0.06835938  0.07780697 -0.08984375\n",
      "  0.11132812 -0.13757174  0.15625     0.09440104 -0.20635762  0.09277344\n",
      "  0.07047733 -0.09114583  0.38476562 -0.1573054  -0.18652344  0.230038\n",
      "  0.0625      0.08457279 -0.109375    0.04296875 -0.06314769  0.10416667\n",
      "  0.01969401 -0.04707885  0.02832031  0.03044621 -0.04817708 -0.08880143\n",
      "  0.12841797 -0.06258387 -0.08105469  0.10487026  0.03727214 -0.06568487\n",
      "  0.03515625  0.03833967 -0.04720052  0.0211432  -0.05126953  0.03382912\n",
      "  0.02636719 -0.0422864  -0.04231771  0.07893461 -0.0390625  -0.04397785\n",
      "  0.04947917  0.13916016 -0.05920096 -0.04492187  0.06202005 -0.23934101\n",
      "  0.10546875  0.11163609 -0.1484375   0.11572266 -0.04566931 -0.05761719\n",
      "  0.0637115   0.12770492 -0.05273437 -0.04566931  0.06152344 -0.16992188\n",
      "  0.0575095   0.06640625 -0.06314769  0.02197266  0.03129193 -0.04199219\n",
      " -0.04651504 -0.05419922  0.07949843  0.01806641  0.02283465 -0.02929688\n",
      "  0.01606883  0.02783203 -0.03721203 -0.01757812 -0.02706329  0.03125\n",
      "  0.02685547 -0.0422864  -0.06173814  0.08886719  0.03662109 -0.04623313\n",
      "  0.01437737 -0.02929687 -0.03320312  0.04059494  0.07291667 -0.13531647\n",
      "  0.05729167  0.05412659 -0.05208333]\n"
     ]
    }
   ],
   "source": [
    "structure = lno_entries[1].structure\n",
    "corr = subspace.corr_from_structure(structure)\n",
    "\n",
    "print(f'The correlation vector for a structure with'\n",
    "      f' composition {structure.composition} is: '\n",
    "      f'\\n{corr}')"
   ]
  },
  {
   "cell_type": "markdown",
   "metadata": {},
   "source": [
    "### 2) The structure wrangler\n",
    "The `StructureWrangler` is a class that will is used to create and organize the data that will be used to train (and possibly test) the cluster expansion. It makes sure that all the supplied structures appropriately match the prim structure, and obtains the necessary information to correctly normalize target properties (such as energy) necessary for training.\n",
    "\n",
    "Training data is added to a `StructureWrangler` using `ComputedStructureEntry` instances from `pymatgen`.\n",
    "\n",
    "Matching relaxed structures can be a tricky problem, especially for ionic systems with vacancies. See the notebook on structure matching for tips on how to tweak parameters."
   ]
  },
  {
   "cell_type": "code",
   "execution_count": 7,
   "metadata": {},
   "outputs": [
    {
     "name": "stdout",
     "output_type": "stream",
     "text": [
      "\n",
      "Total structures that match 60/60\n"
     ]
    }
   ],
   "source": [
    "wrangler = StructureWrangler(subspace)\n",
    "\n",
    "# the energy is taken directly from the ComputedStructureEntry\n",
    "# any additional properties can also be added, see notebook on\n",
    "# training data preparation for an example.\n",
    "for entry in lno_entries:\n",
    "    wrangler.add_entry(entry, verbose=True)\n",
    "# The verbose flag will print structures that fail to match.\n",
    "\n",
    "print(f'\\nTotal structures that match {wrangler.num_structures}/{len(lno_entries)}')"
   ]
  },
  {
   "cell_type": "markdown",
   "metadata": {},
   "source": [
    "## 3) Training\n",
    "\n",
    "Training a cluster expansion is one of the most critical steps. This is how you get **effective cluster interactions (ECI's)**. To do so you need an estimator class that implements some form of regression model. In this case we will use simple least squares regression using the `LinearRegression` estimator from `scikit-learn`.\n",
    "\n",
    "In `smol` the coefficients from the fit are not exactly the ECI's but the ECI times the multiplicity of their orbit."
   ]
  },
  {
   "cell_type": "code",
   "execution_count": 8,
   "metadata": {},
   "outputs": [],
   "source": [
    "from sklearn.linear_model import LinearRegression\n",
    "# Set fit_intercept to False because we already do this using\n",
    "# the empty cluster.\n",
    "estimator = LinearRegression(fit_intercept=False)\n",
    "estimator.fit(wrangler.feature_matrix, wrangler.get_property_vector('energy'))\n",
    "coefs = estimator.coef_"
   ]
  },
  {
   "cell_type": "markdown",
   "metadata": {},
   "source": [
    "#### 3.1) Check the quality of the fit\n",
    "There are many ways to evaluate the quality of a fit. The simplest involve stadard training set prediction error metrics. But when evaluating a CE more seriously we need to consider further metrics and how the CE will be used.\n",
    "Here we will just look at in sample mean squared error and max error."
   ]
  },
  {
   "cell_type": "code",
   "execution_count": 9,
   "metadata": {},
   "outputs": [
    {
     "name": "stdout",
     "output_type": "stream",
     "text": [
      "RMSE 1.5337755261224768e-10 meV/prim\n",
      "MAX 2.4513724383723456e-10 meV/prim\n"
     ]
    },
    {
     "name": "stderr",
     "output_type": "stream",
     "text": [
      "/home/myless/.mambaforge/envs/chgnet/lib/python3.10/site-packages/sklearn/metrics/_regression.py:483: FutureWarning: 'squared' is deprecated in version 1.4 and will be removed in 1.6. To calculate the root mean squared error, use the function'root_mean_squared_error'.\n",
      "  warnings.warn(\n"
     ]
    }
   ],
   "source": [
    "from sklearn.metrics import mean_squared_error, max_error\n",
    "\n",
    "train_predictions = np.dot(wrangler.feature_matrix, coefs)\n",
    "\n",
    "rmse = mean_squared_error(\n",
    "    wrangler.get_property_vector('energy'), train_predictions, squared=False\n",
    ")\n",
    "maxer = max_error(wrangler.get_property_vector('energy'), train_predictions)\n",
    "\n",
    "print(f'RMSE {1E3 * rmse} meV/prim')\n",
    "print(f'MAX {1E3 * maxer} meV/prim')"
   ]
  },
  {
   "cell_type": "markdown",
   "metadata": {},
   "source": [
    "### 4) The cluster expansion\n",
    "Now we can use the above work to create the `ClusterExpansion`. The cluster expansion can be used to predict the fitted property for new structures, either for testing quality or for simulations such as in Monte Carlo.\n",
    "Note that when using the `predict` function, the cluster expansion will have to match the given structure if it has not seen it before.\n",
    "We will also store the details of the regression model used to fit the cluster expansion by using a `RegressionData` object."
   ]
  },
  {
   "cell_type": "code",
   "execution_count": 10,
   "metadata": {},
   "outputs": [
    {
     "name": "stdout",
     "output_type": "stream",
     "text": [
      "The predicted energy for a structure with composition Zr1 Ti6 V43 Cr12 W2 is -18.098820106874907 eV/prim.\n",
      "\n",
      "The fitted coefficients are:\n",
      "[-1.54061733e+01 -3.35239653e+00  2.68870090e+00  7.64057383e-01\n",
      "  2.54995371e+00  2.21610340e+00 -3.92503947e-01  1.77901138e-01\n",
      "  2.72917831e-01  1.03976704e+00  5.77911601e-01 -1.05802981e-01\n",
      " -4.32042268e-02 -1.22292834e+00 -1.66165375e-01 -4.09695813e-01\n",
      "  3.11891844e-01 -5.46824343e-01  3.17960454e-01 -2.54628155e-01\n",
      " -3.62531686e-01 -6.91274469e-01  8.80992978e-01  2.26932351e-01\n",
      "  5.06652493e-01  3.07172479e-02 -2.30428914e-01 -2.48330858e-01\n",
      " -6.69306797e-01 -9.89102791e-04  7.36503531e-03  3.35647032e-01\n",
      " -6.95726118e-01 -3.48901535e-01 -6.15359688e-01 -4.22112617e-01\n",
      " -7.49276829e-01  8.78541602e-01 -5.40903641e-03  4.87752739e-01\n",
      "  2.42037518e-01  4.53338379e-01  1.13646855e-02 -9.40775507e-01\n",
      " -9.77258115e-01 -1.10951436e-01 -2.45490764e-01 -2.52996721e-01\n",
      " -3.63425591e-02 -1.24292074e-01  1.86871730e-01 -4.38031296e-02\n",
      "  2.88112922e-01  1.27107182e+00  4.52182311e-01  7.55292622e-01\n",
      "  1.44659947e-01 -1.68004418e-01 -8.85556061e-01 -9.49313851e-01\n",
      "  1.05214071e+00 -6.23734763e-01  8.26206213e-01  2.68246973e-01\n",
      " -4.04825936e-01  5.84219164e-02  3.83984872e-01  7.15298249e-01\n",
      " -5.38019352e-01  1.66657860e-01 -2.13084620e-01  6.05024705e-01\n",
      "  5.30983320e-01 -1.78942099e-01  1.66094651e-01 -6.01308795e-01\n",
      "  3.09133931e-01  3.84776071e-01 -2.12381375e-01  2.15857388e-01\n",
      " -7.91730193e-01 -1.65782674e-01 -7.51568037e-01 -1.68179263e-01\n",
      " -2.46177285e-01  6.90775141e-01  5.33589493e-03 -1.68406863e-01\n",
      "  4.86615081e-02 -4.17144830e-01  3.92968068e-01 -8.44220289e-02\n",
      " -1.56872729e-01  7.90730208e-02  7.03534594e-01 -2.47627500e-01\n",
      " -2.06410982e-01  4.59575871e-01  4.76091935e-01  3.27505706e-01\n",
      " -3.65376488e-01  2.31333777e-01 -1.74581592e-01  3.03907047e-01\n",
      "  3.46182318e-01 -9.58257319e-02 -2.35229422e-01 -2.78977857e-01\n",
      "  2.14743562e-01 -1.12987682e-01  4.61919179e-01  5.87356551e-01\n",
      " -6.82752668e-01  5.59801125e-02  3.90775674e-01 -9.00989746e-02\n",
      " -1.29432367e-02  1.42186070e-01  1.11221052e-01  4.95338495e-01\n",
      " -2.13586365e-01 -6.40759454e-01  2.43737824e-01  1.30904559e-01\n",
      "  1.36263179e-01 -1.43380217e-01  1.45922369e-01 -5.80059957e-01\n",
      "  6.13467237e-01 -3.79443213e-01 -2.61923216e-01 -1.54273045e-01\n",
      " -8.26034026e-02  3.85670041e-01 -1.62736013e-01  1.78787594e-01\n",
      " -1.06084068e+00 -5.89600681e-01 -1.70651405e-01  4.41094677e-01\n",
      " -2.10856712e-01]\n",
      "\n",
      "The effective cluster interactions are:\n",
      "[-1.54061733e+01 -1.67619826e+00  1.34435045e+00  3.82028692e-01\n",
      "  1.27497686e+00  1.10805170e+00 -4.90629933e-02  1.11188211e-02\n",
      "  1.70573645e-02  6.49854399e-02  3.61194751e-02 -1.32253727e-02\n",
      " -2.70026417e-03 -7.64330215e-02 -1.03853359e-02 -5.12119766e-02\n",
      "  1.94932402e-02 -3.41765214e-02  3.97450568e-02 -1.59142597e-02\n",
      " -4.53164608e-02 -1.15212412e-01  7.34160815e-02  1.89110292e-02\n",
      "  4.22210411e-02  2.55977066e-03 -3.84048190e-02 -2.06942382e-02\n",
      " -5.57755664e-02 -8.24252326e-05  1.22750589e-03  2.79705860e-02\n",
      " -5.79771765e-02 -5.81502558e-02 -5.12799740e-02 -7.03521028e-02\n",
      " -6.24397357e-02  3.66059001e-02 -2.25376517e-04  2.03230308e-02\n",
      "  1.00848966e-02  3.77781983e-02  4.73528562e-04 -3.91989795e-02\n",
      " -4.07190881e-02 -9.24595296e-03 -1.02287818e-02 -1.05415301e-02\n",
      " -3.02854659e-03 -5.17883641e-03  1.55726441e-02 -1.82513040e-03\n",
      "  6.00235253e-03  2.64806629e-02  9.42046480e-03  1.57352630e-02\n",
      "  6.02749778e-03 -3.50009204e-03 -1.84490846e-02 -1.97773719e-02\n",
      "  4.38391963e-02 -1.29944742e-02  1.72126294e-02  1.11769572e-02\n",
      " -8.43387366e-03  2.43424652e-03  1.59993697e-02  1.49020469e-02\n",
      " -1.12087365e-02  3.47203875e-03 -4.43926292e-03  2.52093627e-02\n",
      "  1.10621525e-02 -3.72796040e-03  3.46030522e-03 -1.25272666e-02\n",
      "  1.28805805e-02  8.01616815e-03 -4.42461198e-03  4.49702892e-03\n",
      " -1.64943790e-02 -6.90761141e-03 -1.56576674e-02 -3.50373465e-03\n",
      " -5.12869344e-03  1.43911488e-02  2.22328955e-04 -3.50847631e-03\n",
      "  1.01378142e-03 -8.69051729e-03  8.18683476e-03 -3.51758454e-03\n",
      " -3.26818185e-03  1.64735460e-03  1.46569707e-02 -1.03178125e-02\n",
      " -4.30022879e-03  9.57449732e-03  9.91858199e-03  1.36460711e-02\n",
      " -7.61201016e-03  4.81945368e-03 -3.63711651e-03  1.26627936e-02\n",
      "  7.21213162e-03 -1.99636941e-03 -4.90061296e-03 -1.16240774e-02\n",
      "  4.47382421e-03 -2.35391004e-03  9.62331622e-03  2.44731896e-02\n",
      " -1.42240139e-02  1.16625234e-03  1.62823198e-02 -1.87706197e-03\n",
      " -2.69650764e-04  5.92441959e-03  2.31710525e-03  1.03195520e-02\n",
      " -8.89943186e-03 -1.33491553e-02  5.07787134e-03  5.45435662e-03\n",
      "  2.83881624e-03 -2.98708786e-03  6.08009871e-03 -1.20845824e-02\n",
      "  2.55611349e-02 -7.90506694e-03 -1.09134673e-02 -3.21402177e-03\n",
      " -3.44180844e-03  8.03479252e-03 -6.78066720e-03  3.72474154e-03\n",
      " -4.42016949e-02 -2.45666950e-02 -7.11047520e-03  1.83789449e-02\n",
      " -8.78569631e-03]\n",
      "\n",
      "Basis/Orthogonal/Orthonormal : sinusoid/True/False\n",
      "       Unit Cell Composition : V0.18 Cr0.04 Ti0.04 Zr0.02 W0.08\n",
      "            Number of Orbits : 7\n",
      "No. of Correlation Functions : 141\n",
      "             Cluster Cutoffs : 2: 4.99, 3: 3.01\n",
      "              External Terms : []\n",
      "Regression Data : estimator=LinearRegression\n",
      "                  module=sklearn.linear_model._base\n",
      "                  parameters={'copy_X': True, 'fit_intercept': False, 'n_jobs': None, 'positive': False}\n",
      "Target Property    : mean=-18.0983  std=0.2214\n",
      "ECI-based Property : mean=-15.4062  std=4.0680\n",
      "Fit Summary\n",
      " ----------------------------------------------------------------------------------------------------\n",
      " |  ID    Orbit ID    Degree    Cluster Diameter    ECI    Feature AVG    Feature STD    ECI * STD  |\n",
      " |  0        0          0              NA         -15.406     1.000          0.000        -0.000    |\n",
      " |  1        1          1            0.0000       -1.676      0.419          0.055        -0.092    |\n",
      " |  2        1          1            0.0000        1.344     -0.675          0.061         0.082    |\n",
      " |  3        1          1            0.0000        0.382      0.307          0.079         0.030    |\n",
      " |  4        1          1            0.0000        1.275      0.531          0.126         0.160    |\n",
      " |  5        1          1            0.0000        1.108     -0.639          0.179         0.198    |\n",
      " |  6        2          2            2.6067       -0.049      0.175          0.050        -0.002    |\n",
      " |  7        2          2            2.6067        0.011     -0.283          0.047         0.001    |\n",
      " |  8        2          2            2.6067        0.017      0.129          0.042         0.001    |\n",
      " |  9        2          2            2.6067        0.065      0.223          0.075         0.005    |\n",
      " |  10       2          2            2.6067        0.036     -0.269          0.097         0.004    |\n",
      " |  11       2          2            2.6067       -0.013      0.456          0.085        -0.001    |\n",
      " |  12       2          2            2.6067       -0.003     -0.209          0.070        -0.000    |\n",
      " |  13       2          2            2.6067       -0.076     -0.361          0.114        -0.009    |\n",
      " |  14       2          2            2.6067       -0.010      0.435          0.151        -0.002    |\n",
      " |  15       2          2            2.6067       -0.051      0.098          0.050        -0.003    |\n",
      " |  16       2          2            2.6067        0.019      0.169          0.079         0.002    |\n",
      " |  17       2          2            2.6067       -0.034     -0.207          0.104        -0.004    |\n",
      " |  18       2          2            2.6067        0.040      0.289          0.134         0.005    |\n",
      " |  19       2          2            2.6067       -0.016     -0.352          0.170        -0.003    |\n",
      " |  20       2          2            2.6067       -0.045      0.433          0.222        -0.010    |\n",
      " |  21       3          2            3.0100       -0.115      0.177          0.051        -0.006    |\n",
      " |  22       3          2            3.0100        0.073     -0.283          0.048         0.003    |\n",
      " |  23       3          2            3.0100        0.019      0.128          0.041         0.001    |\n",
      " |  24       3          2            3.0100        0.042      0.224          0.075         0.003    |\n",
      " |  25       3          2            3.0100        0.003     -0.268          0.097         0.000    |\n",
      " |  26       3          2            3.0100       -0.038      0.457          0.081        -0.003    |\n",
      " |  27       3          2            3.0100       -0.021     -0.210          0.068        -0.001    |\n",
      " |  28       3          2            3.0100       -0.056     -0.362          0.109        -0.006    |\n",
      " |  29       3          2            3.0100       -0.000      0.437          0.146        -0.000    |\n",
      " |  30       3          2            3.0100        0.001      0.097          0.048         0.000    |\n",
      " |  31       3          2            3.0100        0.028      0.170          0.074         0.002    |\n",
      " |  32       3          2            3.0100       -0.058     -0.207          0.099        -0.006    |\n",
      " |  33       3          2            3.0100       -0.058      0.290          0.128        -0.007    |\n",
      " |  34       3          2            3.0100       -0.051     -0.353          0.164        -0.008    |\n",
      " |  35       3          2            3.0100       -0.070      0.433          0.217        -0.015    |\n",
      " |  36       4          2            4.2568       -0.062      0.175          0.047        -0.003    |\n",
      " |  37       4          2            4.2568        0.037     -0.283          0.047         0.002    |\n",
      " |  38       4          2            4.2568       -0.000      0.129          0.039        -0.000    |\n",
      " |  39       4          2            4.2568        0.020      0.225          0.073         0.001    |\n",
      " |  40       4          2            4.2568        0.010     -0.272          0.092         0.001    |\n",
      " |  41       4          2            4.2568        0.038      0.455          0.082         0.003    |\n",
      " |  42       4          2            4.2568        0.000     -0.208          0.069         0.000    |\n",
      " |  43       4          2            4.2568       -0.039     -0.360          0.108        -0.004    |\n",
      " |  44       4          2            4.2568       -0.041      0.435          0.146        -0.006    |\n",
      " |  45       4          2            4.2568       -0.009      0.095          0.049        -0.000    |\n",
      " |  46       4          2            4.2568       -0.010      0.168          0.074        -0.001    |\n",
      " |  47       4          2            4.2568       -0.011     -0.203          0.102        -0.001    |\n",
      " |  48       4          2            4.2568       -0.003      0.292          0.124        -0.000    |\n",
      " |  49       4          2            4.2568       -0.005     -0.355          0.161        -0.001    |\n",
      " |  50       4          2            4.2568        0.016      0.431          0.219         0.003    |\n",
      " |  51       5          2            4.9915       -0.002      0.176          0.046        -0.000    |\n",
      " |  52       5          2            4.9915        0.006     -0.284          0.048         0.000    |\n",
      " |  53       5          2            4.9915        0.026      0.131          0.040         0.001    |\n",
      " |  54       5          2            4.9915        0.009      0.226          0.075         0.001    |\n",
      " |  55       5          2            4.9915        0.016     -0.273          0.096         0.002    |\n",
      " |  56       5          2            4.9915        0.006      0.455          0.080         0.000    |\n",
      " |  57       5          2            4.9915       -0.004     -0.209          0.067        -0.000    |\n",
      " |  58       5          2            4.9915       -0.018     -0.363          0.108        -0.002    |\n",
      " |  59       5          2            4.9915       -0.020      0.439          0.146        -0.003    |\n",
      " |  60       5          2            4.9915        0.044      0.096          0.050         0.002    |\n",
      " |  61       5          2            4.9915       -0.013      0.171          0.073        -0.001    |\n",
      " |  62       5          2            4.9915        0.017     -0.206          0.101         0.002    |\n",
      " |  63       5          2            4.9915        0.011      0.294          0.129         0.001    |\n",
      " |  64       5          2            4.9915       -0.008     -0.357          0.167        -0.001    |\n",
      " |  65       5          2            4.9915        0.002      0.432          0.224         0.001    |\n",
      " |  66       6          3            3.0100        0.016      0.074          0.034         0.001    |\n",
      " |  67       6          3            3.0100        0.015     -0.118          0.036         0.001    |\n",
      " |  68       6          3            3.0100       -0.011      0.054          0.022        -0.000    |\n",
      " |  69       6          3            3.0100        0.003      0.094          0.044         0.000    |\n",
      " |  70       6          3            3.0100       -0.004     -0.113          0.053        -0.000    |\n",
      " |  71       6          3            3.0100        0.025     -0.120          0.037         0.001    |\n",
      " |  72       6          3            3.0100        0.011      0.191          0.046         0.001    |\n",
      " |  73       6          3            3.0100       -0.004     -0.087          0.034        -0.000    |\n",
      " |  74       6          3            3.0100        0.003     -0.152          0.061         0.000    |\n",
      " |  75       6          3            3.0100       -0.013      0.182          0.076        -0.001    |\n",
      " |  76       6          3            3.0100        0.013      0.055          0.024         0.000    |\n",
      " |  77       6          3            3.0100        0.008     -0.088          0.035         0.000    |\n",
      " |  78       6          3            3.0100       -0.004      0.041          0.023        -0.000    |\n",
      " |  79       6          3            3.0100        0.004      0.071          0.040         0.000    |\n",
      " |  80       6          3            3.0100       -0.016     -0.087          0.050        -0.001    |\n",
      " |  81       6          3            3.0100       -0.007      0.095          0.045        -0.000    |\n",
      " |  82       6          3            3.0100       -0.016     -0.152          0.060        -0.001    |\n",
      " |  83       6          3            3.0100       -0.004      0.071          0.038        -0.000    |\n",
      " |  84       6          3            3.0100       -0.005      0.122          0.067        -0.000    |\n",
      " |  85       6          3            3.0100        0.014     -0.148          0.083         0.001    |\n",
      " |  86       6          3            3.0100        0.000     -0.115          0.056         0.000    |\n",
      " |  87       6          3            3.0100       -0.004      0.184          0.076        -0.000    |\n",
      " |  88       6          3            3.0100        0.001     -0.087          0.049         0.000    |\n",
      " |  89       6          3            3.0100       -0.009     -0.150          0.085        -0.001    |\n",
      " |  90       6          3            3.0100        0.008      0.182          0.108         0.001    |\n",
      " |  91       6          3            3.0100       -0.004      0.192          0.045        -0.000    |\n",
      " |  92       6          3            3.0100       -0.003     -0.089          0.034        -0.000    |\n",
      " |  93       6          3            3.0100        0.002     -0.152          0.058         0.000    |\n",
      " |  94       6          3            3.0100        0.015      0.184          0.075         0.001    |\n",
      " |  95       6          3            3.0100       -0.010     -0.310          0.086        -0.001    |\n",
      " |  96       6          3            3.0100       -0.004      0.144          0.058        -0.000    |\n",
      " |  97       6          3            3.0100        0.010      0.247          0.096         0.001    |\n",
      " |  98       6          3            3.0100        0.010     -0.300          0.122         0.001    |\n",
      " |  99       6          3            3.0100        0.014      0.144          0.059         0.001    |\n",
      " | 100       6          3            3.0100       -0.008     -0.068          0.038        -0.000    |\n",
      " | 101       6          3            3.0100        0.005     -0.118          0.061         0.000    |\n",
      " | 102       6          3            3.0100       -0.004      0.144          0.078        -0.000    |\n",
      " | 103       6          3            3.0100        0.013      0.247          0.098         0.001    |\n",
      " | 104       6          3            3.0100        0.007     -0.117          0.062         0.000    |\n",
      " | 105       6          3            3.0100       -0.002     -0.199          0.103        -0.000    |\n",
      " | 106       6          3            3.0100       -0.005      0.244          0.130        -0.001    |\n",
      " | 107       6          3            3.0100       -0.012     -0.298          0.124        -0.001    |\n",
      " | 108       6          3            3.0100        0.004      0.144          0.079         0.000    |\n",
      " | 109       6          3            3.0100       -0.002      0.244          0.129        -0.000    |\n",
      " | 110       6          3            3.0100        0.010     -0.301          0.166         0.002    |\n",
      " | 111       6          3            3.0100        0.024      0.041          0.024         0.001    |\n",
      " | 112       6          3            3.0100       -0.014      0.072          0.037        -0.001    |\n",
      " | 113       6          3            3.0100        0.001     -0.088          0.048         0.000    |\n",
      " | 114       6          3            3.0100        0.016     -0.067          0.038         0.001    |\n",
      " | 115       6          3            3.0100       -0.002     -0.117          0.060        -0.000    |\n",
      " | 116       6          3            3.0100       -0.000      0.143          0.077        -0.000    |\n",
      " | 117       6          3            3.0100        0.006      0.032          0.024         0.000    |\n",
      " | 118       6          3            3.0100        0.002      0.057          0.037         0.000    |\n",
      " | 119       6          3            3.0100        0.010     -0.070          0.047         0.000    |\n",
      " | 120       6          3            3.0100       -0.009      0.056          0.038        -0.000    |\n",
      " | 121       6          3            3.0100       -0.013      0.097          0.061        -0.001    |\n",
      " | 122       6          3            3.0100        0.005     -0.120          0.077         0.000    |\n",
      " | 123       6          3            3.0100        0.005     -0.070          0.048         0.000    |\n",
      " | 124       6          3            3.0100        0.003     -0.120          0.077         0.000    |\n",
      " | 125       6          3            3.0100       -0.003      0.149          0.098        -0.000    |\n",
      " | 126       6          3            3.0100        0.006      0.123          0.064         0.000    |\n",
      " | 127       6          3            3.0100       -0.012     -0.151          0.081        -0.001    |\n",
      " | 128       6          3            3.0100        0.026     -0.200          0.103         0.003    |\n",
      " | 129       6          3            3.0100       -0.008      0.243          0.129        -0.001    |\n",
      " | 130       6          3            3.0100       -0.011      0.097          0.062        -0.001    |\n",
      " | 131       6          3            3.0100       -0.003     -0.119          0.079        -0.000    |\n",
      " | 132       6          3            3.0100       -0.003      0.163          0.104        -0.000    |\n",
      " | 133       6          3            3.0100        0.008     -0.201          0.130         0.001    |\n",
      " | 134       6          3            3.0100       -0.007     -0.201          0.129        -0.001    |\n",
      " | 135       6          3            3.0100        0.004      0.248          0.165         0.001    |\n",
      " | 136       6          3            3.0100       -0.044      0.186          0.104        -0.005    |\n",
      " | 137       6          3            3.0100       -0.025     -0.298          0.168        -0.004    |\n",
      " | 138       6          3            3.0100       -0.007      0.147          0.102        -0.001    |\n",
      " | 139       6          3            3.0100        0.018      0.249          0.165         0.003    |\n",
      " | 140       6          3            3.0100       -0.009     -0.309          0.211        -0.002    |\n",
      " ----------------------------------------------------------------------------------------------------\n"
     ]
    }
   ],
   "source": [
    "reg_data = RegressionData.from_sklearn(\n",
    "    estimator, wrangler.feature_matrix,\n",
    "    wrangler.get_property_vector('energy')\n",
    ")\n",
    "\n",
    "\n",
    "expansion = ClusterExpansion(\n",
    "    subspace, coefficients=coefs, regression_data=reg_data\n",
    ")\n",
    "\n",
    "structure = random.choice(wrangler.structures)\n",
    "prediction = expansion.predict(structure, normalized=True)\n",
    "\n",
    "print(\n",
    "    f'The predicted energy for a structure with composition '\n",
    "    f'{structure.composition} is {prediction} eV/prim.\\n'\n",
    ")\n",
    "print(f'The fitted coefficients are:\\n{expansion.coefs}\\n')\n",
    "print(f'The effective cluster interactions are:\\n{expansion.eci}\\n')\n",
    "print(expansion)"
   ]
  },
  {
   "cell_type": "markdown",
   "metadata": {},
   "source": [
    "### 5) Saving your work\n",
    "All core classes in `smol` are `MSONables` and so can be saved using their `as_dict` methods or better yet with `monty.serialization.dumpfn`.\n",
    "\n",
    "Currently there is also a convenience function in `smol` that will nicely save all of your work for you in a standardized way. Work saved with the `save_work` function is saved as a dictionary with standardized names for the classes. Since a work flow should only contain 1 of each core classes the function will complain if you give it two of the same class (i.e. two wranglers)"
   ]
  },
  {
   "cell_type": "code",
   "execution_count": 11,
   "metadata": {},
   "outputs": [],
   "source": [
    "from smol.io import save_work\n",
    "\n",
    "#file_path = 'v4cr4ti_fin_work.mson'\n",
    "file_path = 'v2cr2ti1zr4w_fin_work.mson'\n",
    "# we can save the subspace as well, but since both the wrangler\n",
    "# and the expansion have it, there is no need to do so.\n",
    "save_work(file_path, wrangler, expansion)"
   ]
  },
  {
   "cell_type": "markdown",
   "metadata": {},
   "source": [
    "#### 5.1) Loading previously saved work"
   ]
  },
  {
   "cell_type": "code",
   "execution_count": 12,
   "metadata": {},
   "outputs": [
    {
     "name": "stdout",
     "output_type": "stream",
     "text": [
      "StructureWrangler: <class 'smol.cofe.wrangling.wrangler.StructureWrangler'>\n",
      "\n",
      "ClusterExpansion: <class 'smol.cofe.expansion.ClusterExpansion'>\n",
      "\n"
     ]
    }
   ],
   "source": [
    "from smol.io import load_work\n",
    "\n",
    "work = load_work(file_path)\n",
    "for name, obj in work.items():\n",
    "    print(f'{name}: {type(obj)}\\n')"
   ]
  }
 ],
 "metadata": {
  "kernelspec": {
   "display_name": "Python 3 (ipykernel)",
   "language": "python",
   "name": "python3"
  },
  "language_info": {
   "codemirror_mode": {
    "name": "ipython",
    "version": 3
   },
   "file_extension": ".py",
   "mimetype": "text/x-python",
   "name": "python",
   "nbconvert_exporter": "python",
   "pygments_lexer": "ipython3",
   "version": "3.10.0"
  }
 },
 "nbformat": 4,
 "nbformat_minor": 4
}
